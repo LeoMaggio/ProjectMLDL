{
  "nbformat": 4,
  "nbformat_minor": 0,
  "metadata": {
    "colab": {
      "name": "FineTuning.ipynb",
      "provenance": [],
      "include_colab_link": true
    },
    "kernelspec": {
      "name": "python3",
      "display_name": "Python 3"
    },
    "language_info": {
      "name": "python"
    },
    "accelerator": "GPU",
    "widgets": {
      "application/vnd.jupyter.widget-state+json": {
        "200d49c9f99242f88640dbe9df47335a": {
          "model_module": "@jupyter-widgets/controls",
          "model_name": "HBoxModel",
          "state": {
            "_view_name": "HBoxView",
            "_dom_classes": [],
            "_model_name": "HBoxModel",
            "_view_module": "@jupyter-widgets/controls",
            "_model_module_version": "1.5.0",
            "_view_count": null,
            "_view_module_version": "1.5.0",
            "box_style": "",
            "layout": "IPY_MODEL_0207ec846b0049e3958f667a6f95bfc2",
            "_model_module": "@jupyter-widgets/controls",
            "children": [
              "IPY_MODEL_e492a947edd0490fbb204b4f88014dcc",
              "IPY_MODEL_aad443c430824ffbb6404bfd5ddcacde"
            ]
          }
        },
        "0207ec846b0049e3958f667a6f95bfc2": {
          "model_module": "@jupyter-widgets/base",
          "model_name": "LayoutModel",
          "state": {
            "_view_name": "LayoutView",
            "grid_template_rows": null,
            "right": null,
            "justify_content": null,
            "_view_module": "@jupyter-widgets/base",
            "overflow": null,
            "_model_module_version": "1.2.0",
            "_view_count": null,
            "flex_flow": null,
            "width": null,
            "min_width": null,
            "border": null,
            "align_items": null,
            "bottom": null,
            "_model_module": "@jupyter-widgets/base",
            "top": null,
            "grid_column": null,
            "overflow_y": null,
            "overflow_x": null,
            "grid_auto_flow": null,
            "grid_area": null,
            "grid_template_columns": null,
            "flex": null,
            "_model_name": "LayoutModel",
            "justify_items": null,
            "grid_row": null,
            "max_height": null,
            "align_content": null,
            "visibility": null,
            "align_self": null,
            "height": null,
            "min_height": null,
            "padding": null,
            "grid_auto_rows": null,
            "grid_gap": null,
            "max_width": null,
            "order": null,
            "_view_module_version": "1.2.0",
            "grid_template_areas": null,
            "object_position": null,
            "object_fit": null,
            "grid_auto_columns": null,
            "margin": null,
            "display": null,
            "left": null
          }
        },
        "e492a947edd0490fbb204b4f88014dcc": {
          "model_module": "@jupyter-widgets/controls",
          "model_name": "FloatProgressModel",
          "state": {
            "_view_name": "ProgressView",
            "style": "IPY_MODEL_d62cea58938a4f558a8a45f903cdced1",
            "_dom_classes": [],
            "description": "",
            "_model_name": "FloatProgressModel",
            "bar_style": "info",
            "max": 1,
            "_view_module": "@jupyter-widgets/controls",
            "_model_module_version": "1.5.0",
            "value": 1,
            "_view_count": null,
            "_view_module_version": "1.5.0",
            "orientation": "horizontal",
            "min": 0,
            "description_tooltip": null,
            "_model_module": "@jupyter-widgets/controls",
            "layout": "IPY_MODEL_0aef6beeaa6b4aeca2abca34b9e18084"
          }
        },
        "aad443c430824ffbb6404bfd5ddcacde": {
          "model_module": "@jupyter-widgets/controls",
          "model_name": "HTMLModel",
          "state": {
            "_view_name": "HTMLView",
            "style": "IPY_MODEL_263a12724cee4735869ce2c6ae1650e3",
            "_dom_classes": [],
            "description": "",
            "_model_name": "HTMLModel",
            "placeholder": "​",
            "_view_module": "@jupyter-widgets/controls",
            "_model_module_version": "1.5.0",
            "value": " 169009152/? [00:19&lt;00:00, 53961061.96it/s]",
            "_view_count": null,
            "_view_module_version": "1.5.0",
            "description_tooltip": null,
            "_model_module": "@jupyter-widgets/controls",
            "layout": "IPY_MODEL_3bb49f7a42874ea48c67e47f56a042f1"
          }
        },
        "d62cea58938a4f558a8a45f903cdced1": {
          "model_module": "@jupyter-widgets/controls",
          "model_name": "ProgressStyleModel",
          "state": {
            "_view_name": "StyleView",
            "_model_name": "ProgressStyleModel",
            "description_width": "initial",
            "_view_module": "@jupyter-widgets/base",
            "_model_module_version": "1.5.0",
            "_view_count": null,
            "_view_module_version": "1.2.0",
            "bar_color": null,
            "_model_module": "@jupyter-widgets/controls"
          }
        },
        "0aef6beeaa6b4aeca2abca34b9e18084": {
          "model_module": "@jupyter-widgets/base",
          "model_name": "LayoutModel",
          "state": {
            "_view_name": "LayoutView",
            "grid_template_rows": null,
            "right": null,
            "justify_content": null,
            "_view_module": "@jupyter-widgets/base",
            "overflow": null,
            "_model_module_version": "1.2.0",
            "_view_count": null,
            "flex_flow": null,
            "width": null,
            "min_width": null,
            "border": null,
            "align_items": null,
            "bottom": null,
            "_model_module": "@jupyter-widgets/base",
            "top": null,
            "grid_column": null,
            "overflow_y": null,
            "overflow_x": null,
            "grid_auto_flow": null,
            "grid_area": null,
            "grid_template_columns": null,
            "flex": null,
            "_model_name": "LayoutModel",
            "justify_items": null,
            "grid_row": null,
            "max_height": null,
            "align_content": null,
            "visibility": null,
            "align_self": null,
            "height": null,
            "min_height": null,
            "padding": null,
            "grid_auto_rows": null,
            "grid_gap": null,
            "max_width": null,
            "order": null,
            "_view_module_version": "1.2.0",
            "grid_template_areas": null,
            "object_position": null,
            "object_fit": null,
            "grid_auto_columns": null,
            "margin": null,
            "display": null,
            "left": null
          }
        },
        "263a12724cee4735869ce2c6ae1650e3": {
          "model_module": "@jupyter-widgets/controls",
          "model_name": "DescriptionStyleModel",
          "state": {
            "_view_name": "StyleView",
            "_model_name": "DescriptionStyleModel",
            "description_width": "",
            "_view_module": "@jupyter-widgets/base",
            "_model_module_version": "1.5.0",
            "_view_count": null,
            "_view_module_version": "1.2.0",
            "_model_module": "@jupyter-widgets/controls"
          }
        },
        "3bb49f7a42874ea48c67e47f56a042f1": {
          "model_module": "@jupyter-widgets/base",
          "model_name": "LayoutModel",
          "state": {
            "_view_name": "LayoutView",
            "grid_template_rows": null,
            "right": null,
            "justify_content": null,
            "_view_module": "@jupyter-widgets/base",
            "overflow": null,
            "_model_module_version": "1.2.0",
            "_view_count": null,
            "flex_flow": null,
            "width": null,
            "min_width": null,
            "border": null,
            "align_items": null,
            "bottom": null,
            "_model_module": "@jupyter-widgets/base",
            "top": null,
            "grid_column": null,
            "overflow_y": null,
            "overflow_x": null,
            "grid_auto_flow": null,
            "grid_area": null,
            "grid_template_columns": null,
            "flex": null,
            "_model_name": "LayoutModel",
            "justify_items": null,
            "grid_row": null,
            "max_height": null,
            "align_content": null,
            "visibility": null,
            "align_self": null,
            "height": null,
            "min_height": null,
            "padding": null,
            "grid_auto_rows": null,
            "grid_gap": null,
            "max_width": null,
            "order": null,
            "_view_module_version": "1.2.0",
            "grid_template_areas": null,
            "object_position": null,
            "object_fit": null,
            "grid_auto_columns": null,
            "margin": null,
            "display": null,
            "left": null
          }
        }
      }
    }
  },
  "cells": [
    {
      "cell_type": "markdown",
      "metadata": {
        "id": "view-in-github",
        "colab_type": "text"
      },
      "source": [
        "<a href=\"https://colab.research.google.com/github/cosminnedescu/ProjectMLDL/blob/main/baselines/FineTuning-group-seed.ipynb\" target=\"_parent\"><img src=\"https://colab.research.google.com/assets/colab-badge.svg\" alt=\"Open In Colab\"/></a>"
      ]
    },
    {
      "cell_type": "code",
      "metadata": {
        "id": "pJimWkPdQu6y"
      },
      "source": [
        "import os\n",
        "\n",
        "import torch\n",
        "import torch.nn as nn\n",
        "import torch.nn.init as init\n",
        "import torch.optim as optim\n",
        "import torch.nn.functional as F\n",
        "from torch.autograd import Variable\n",
        "\n",
        "import torchvision\n",
        "from torchvision import transforms, datasets, models\n",
        "from torch.utils.data import Subset, DataLoader\n",
        "\n",
        "from PIL import Image\n",
        "\n",
        "import numpy as np\n",
        "import matplotlib \n",
        "import matplotlib.pyplot as plt\n",
        "from sklearn.metrics import confusion_matrix"
      ],
      "execution_count": 2,
      "outputs": []
    },
    {
      "cell_type": "code",
      "metadata": {
        "colab": {
          "base_uri": "https://localhost:8080/"
        },
        "id": "blqZpJkQgn5c",
        "outputId": "b8c3f81f-29ee-448c-c331-e9bae5e73791"
      },
      "source": [
        "%cd ../"
      ],
      "execution_count": null,
      "outputs": [
        {
          "output_type": "stream",
          "text": [
            "/\n"
          ],
          "name": "stdout"
        }
      ]
    },
    {
      "cell_type": "code",
      "metadata": {
        "colab": {
          "base_uri": "https://localhost:8080/"
        },
        "id": "xJRs-JrVsd8j",
        "outputId": "3cd0e688-fb57-41a1-f4e0-1dda2b1cfb3d"
      },
      "source": [
        "%cd content/"
      ],
      "execution_count": null,
      "outputs": [
        {
          "output_type": "stream",
          "text": [
            "/content\n"
          ],
          "name": "stdout"
        }
      ]
    },
    {
      "cell_type": "code",
      "metadata": {
        "id": "u1Wvze6xh3-9"
      },
      "source": [
        "!rm -rf ProjectMLDL"
      ],
      "execution_count": 3,
      "outputs": []
    },
    {
      "cell_type": "code",
      "metadata": {
        "colab": {
          "base_uri": "https://localhost:8080/"
        },
        "id": "XQQd0qWVgue_",
        "outputId": "931244e3-db98-4be1-b6e5-f2c84506f5cc"
      },
      "source": [
        "!ls"
      ],
      "execution_count": null,
      "outputs": [
        {
          "output_type": "stream",
          "text": [
            "sample_data\n"
          ],
          "name": "stdout"
        }
      ]
    },
    {
      "cell_type": "code",
      "metadata": {
        "id": "yjntw1jZQ7Lg",
        "colab": {
          "base_uri": "https://localhost:8080/"
        },
        "outputId": "96300c99-6591-46dc-bca1-a0e5fcb5dda7"
      },
      "source": [
        "if not os.path.isdir('/content/ProjectMLDL'):\n",
        "  !git clone https://github.com/cosminnedescu/ProjectMLDL.git\n",
        "  %cd /content/ProjectMLDL\n",
        "  !rm -rf LICENSE README.md"
      ],
      "execution_count": 4,
      "outputs": [
        {
          "output_type": "stream",
          "text": [
            "Cloning into 'ProjectMLDL'...\n",
            "remote: Enumerating objects: 98, done.\u001b[K\n",
            "remote: Counting objects: 100% (98/98), done.\u001b[K\n",
            "remote: Compressing objects: 100% (89/89), done.\u001b[K\n",
            "remote: Total 98 (delta 30), reused 0 (delta 0), pack-reused 0\u001b[K\n",
            "Unpacking objects: 100% (98/98), done.\n",
            "/content/ProjectMLDL\n"
          ],
          "name": "stdout"
        }
      ]
    },
    {
      "cell_type": "code",
      "metadata": {
        "id": "CvkF4W62dSp8"
      },
      "source": [
        "from data.cifar100 import CIFAR100\n",
        "from model.resnet32 import resnet32\n",
        "import data.utils\n",
        "from model.trainer import Trainer\n",
        "from copy import copy"
      ],
      "execution_count": 5,
      "outputs": []
    },
    {
      "cell_type": "code",
      "metadata": {
        "id": "XwomFTtQo1x-"
      },
      "source": [
        "# True mean and std of Cifar100 dataset (src=\"https://gist.github.com/weiaicunzai/e623931921efefd4c331622c344d8151\")\n",
        "mean = [0.5071, 0.4867, 0.4408]\n",
        "std = [0.2675, 0.2565, 0.2761]\n",
        "\n",
        "train_transform = transforms.Compose([\n",
        "    transforms.RandomCrop(32, padding=4),\n",
        "    transforms.RandomHorizontalFlip(),\n",
        "    transforms.ToTensor(),\n",
        "    transforms.Normalize(mean, std),\n",
        "])\n",
        "test_transform = transforms.Compose(\n",
        "    [transforms.ToTensor(), \n",
        "     transforms.Normalize(mean, std),\n",
        "     ])"
      ],
      "execution_count": 6,
      "outputs": []
    },
    {
      "cell_type": "code",
      "metadata": {
        "colab": {
          "base_uri": "https://localhost:8080/",
          "height": 101,
          "referenced_widgets": [
            "200d49c9f99242f88640dbe9df47335a",
            "0207ec846b0049e3958f667a6f95bfc2",
            "e492a947edd0490fbb204b4f88014dcc",
            "aad443c430824ffbb6404bfd5ddcacde",
            "d62cea58938a4f558a8a45f903cdced1",
            "0aef6beeaa6b4aeca2abca34b9e18084",
            "263a12724cee4735869ce2c6ae1650e3",
            "3bb49f7a42874ea48c67e47f56a042f1"
          ]
        },
        "id": "BCz7GGfdpRiL",
        "outputId": "e5a8f965-8586-4e4a-9dd4-9e01e426d992"
      },
      "source": [
        "train_data = CIFAR100(\"dataset\", train=True, transform=train_transform, download=True)\n",
        "test_data = CIFAR100(\"dataset\", train=False, transform=test_transform, download=True)"
      ],
      "execution_count": 7,
      "outputs": [
        {
          "output_type": "stream",
          "text": [
            "Downloading https://www.cs.toronto.edu/~kriz/cifar-100-python.tar.gz to dataset/cifar-100-python.tar.gz\n"
          ],
          "name": "stdout"
        },
        {
          "output_type": "display_data",
          "data": {
            "application/vnd.jupyter.widget-view+json": {
              "model_id": "200d49c9f99242f88640dbe9df47335a",
              "version_minor": 0,
              "version_major": 2
            },
            "text/plain": [
              "HBox(children=(FloatProgress(value=1.0, bar_style='info', max=1.0), HTML(value='')))"
            ]
          },
          "metadata": {
            "tags": []
          }
        },
        {
          "output_type": "stream",
          "text": [
            "Extracting dataset/cifar-100-python.tar.gz to dataset\n",
            "Files already downloaded and verified\n"
          ],
          "name": "stdout"
        }
      ]
    },
    {
      "cell_type": "code",
      "metadata": {
        "colab": {
          "base_uri": "https://localhost:8080/",
          "height": 284
        },
        "id": "cGlVf385aUDd",
        "outputId": "527ed045-9067-4b27-a13f-aa040863e7d3"
      },
      "source": [
        "#check images and labels after shuffle\n",
        "#https://github.com/keras-team/keras/issues/2653#issuecomment-450133996\n",
        "import matplotlib.pyplot as plt\n",
        "\n",
        "plt.imshow(train_data.data[6])\n",
        "print(\"classe: {}\".format(train_data.targets[6]))"
      ],
      "execution_count": null,
      "outputs": [
        {
          "output_type": "stream",
          "text": [
            "classe: 90\n"
          ],
          "name": "stdout"
        },
        {
          "output_type": "display_data",
          "data": {
            "image/png": "[encoded data removed]",
            "text/plain": [
              "<Figure size 432x288 with 1 Axes>"
            ]
          },
          "metadata": {
            "tags": [],
            "needs_background": "light"
          }
        }
      ]
    },
    {
      "cell_type": "code",
      "metadata": {
        "id": "nmEo_9lnwyBk"
      },
      "source": [
        "RANDOM_SEED = [42,13,10]\n",
        "# Settings\n",
        "DEVICE = 'cuda'\n",
        "\n",
        "NUM_CLASSES = 100       # Total number of classes\n",
        "\n",
        "VAL_SIZE = 0.1          # Proportion of validation set with respect to training set (between 0 and 1)\n",
        "\n",
        "# Training\n",
        "BATCH_SIZE = 128        # Batch size\n",
        "LR = 2               # Initial learning rate\n",
        "                       \n",
        "MOMENTUM = 0.9          # Momentum for stochastic gradient descent (SGD)\n",
        "WEIGHT_DECAY = 1e-5     # Weight decay from iCaRL\n",
        "\n",
        "NUM_RUNS = 3            # Number of runs of every method\n",
        "                        # Note: this should be at least 3 to have a fair benchmark\n",
        "\n",
        "NUM_EPOCHS = 70         # Total number of training epochs\n",
        "MILESTONES = [49, 63]   # Step down policy from iCaRL (MultiStepLR)\n",
        "                        # Decrease the learning rate by gamma at each milestone\n",
        "GAMMA = 0.2             # Gamma factor from iCaRL"
      ],
      "execution_count": 8,
      "outputs": []
    },
    {
      "cell_type": "markdown",
      "metadata": {
        "id": "yRoS-R_sRhHT"
      },
      "source": [
        "## Fine Tuning"
      ]
    },
    {
      "cell_type": "code",
      "metadata": {
        "id": "rVh61C63FECy"
      },
      "source": [
        "def do_shuffle(train_d, test_d):\n",
        "  train_d.__shuffle_seed__(RANDOM_SEED[run])\n",
        "  test_d.__shuffle_seed__(RANDOM_SEED[run])\n",
        "  return train_d, test_d\n",
        "\n",
        "def do_group_classes(train_d, test_d):\n",
        "  indexes_train_data = train_d.__incremental_indexes__(True)\n",
        "  indexes_test_data = test_d.__incremental_indexes__(False)\n",
        "\n",
        "\n",
        "  train_dataloader = [[] for i in range(10)]\n",
        "  val_dataloader = [[] for i in range(10)]\n",
        "  test_dataloader = [[] for i in range(10)]\n",
        "  for i in range(10):\n",
        "    train_dataset = Subset(train_d, indexes_train_data[i])\n",
        "    train_set, val_set = torch.utils.data.random_split(train_dataset, [int(0.8*len(indexes_train_data[0])), int(0.2*len(indexes_train_data[0]))])\n",
        "    tmp_dl = DataLoader(train_set, \n",
        "                        batch_size=BATCH_SIZE,\n",
        "                        shuffle=True,\n",
        "                        num_workers=4,\n",
        "                        drop_last=True)\n",
        "    train_dataloader[i] = copy(tmp_dl) # gruppi di 10 classi \n",
        "    tmp_dl = DataLoader(val_set, \n",
        "                        batch_size=BATCH_SIZE,\n",
        "                        shuffle=True,\n",
        "                        num_workers=4,\n",
        "                        drop_last=True)\n",
        "    val_dataloader[i] = copy(tmp_dl) # gruppi di 10 classi\n",
        "\n",
        "\n",
        "    test_dataset = Subset(test_d, indexes_test_data[i])\n",
        "    tmp_dl = DataLoader(test_dataset,\n",
        "                        batch_size=BATCH_SIZE,\n",
        "                        shuffle=True,\n",
        "                        num_workers=4,\n",
        "                        drop_last=True)\n",
        "    test_dataloader[i] = copy(tmp_dl) # classi incrementali: 0:0-9, 1:0-19, 2:0-29, ..., 9:0-99\n",
        "    \n",
        "  return train_dataloader, val_dataloader, test_dataloader"
      ],
      "execution_count": 55,
      "outputs": []
    },
    {
      "cell_type": "code",
      "metadata": {
        "id": "Ad1QQmI5vJjy"
      },
      "source": [
        "def to_onehot(net, targets, device): \n",
        "  '''\n",
        "  Args:\n",
        "  targets : dataloader.dataset.targets of the new task images\n",
        "  '''\n",
        "  num_classes = net.fc.out_features\n",
        "  one_hot_targets = torch.eye(num_classes)[targets]\n",
        "\n",
        "  return one_hot_targets.to(device)"
      ],
      "execution_count": 12,
      "outputs": []
    },
    {
      "cell_type": "code",
      "metadata": {
        "id": "cKiy8o9YgaXC"
      },
      "source": [
        "def train(net, criterion, optimizer, train_dl, device):\n",
        "  net.train()\n",
        "\n",
        "  running_loss = 0\n",
        "  # per ogni gruppo di classi in train mi prendo le labels e le immagini\n",
        "  # azzero i gradienti, mi sposto sulla gpu e faccio onehot delle labels\n",
        "  # calcolo output, loss, etc.\n",
        "  # alla fine di tutti i batches aggiorno la epoch_loss\n",
        "  for batch in train_dl:\n",
        "    labels = batch[2]\n",
        "    images = batch[1]\n",
        "    optimizer.zero_grad()\n",
        "\n",
        "    images = images.to(DEVICE)\n",
        "    labels = labels.to(DEVICE)\n",
        "\n",
        "    one_hot_labels = to_onehot(net, labels, device) \n",
        "\n",
        "    output = net(images)\n",
        "    loss = criterion(output, one_hot_labels)\n",
        "    loss.backward()\n",
        "    optimizer.step()\n",
        "    \n",
        "    running_loss += loss.item()\n",
        "  else:\n",
        "    epoch_loss = running_loss/len(train_dl)\n",
        "  return epoch_loss\n",
        "    "
      ],
      "execution_count": 13,
      "outputs": []
    },
    {
      "cell_type": "code",
      "metadata": {
        "id": "Pk8THneNZ97U"
      },
      "source": [
        "#### VALIDATION\n",
        "\n",
        "def validate(net, criterion, optimizer, validation_dl, device):\n",
        "  net.train(False)\n",
        "  running_loss=0\n",
        "  running_corrects = 0\n",
        "  total = 0\n",
        "  # come train(), ma prendo anche le predictions per fare qualche statistica\n",
        "  for batch in validation_dl:\n",
        "    labels = batch[2]\n",
        "    images = batch[1]\n",
        "    total += labels.size(0)\n",
        "    optimizer.zero_grad()\n",
        "\n",
        "    images = images.to(DEVICE)\n",
        "    labels = labels.to(DEVICE)\n",
        "\n",
        "    one_hot_labels = to_onehot(net, labels, device) \n",
        "\n",
        "    output = net(images)\n",
        "    loss = criterion(output, one_hot_labels)\n",
        "    \n",
        "    running_loss += loss.item()\n",
        "    _, preds = torch.max(output.data, 1)\n",
        "    running_corrects += torch.sum(preds == labels.data).data.item()\n",
        "  else:\n",
        "    val_loss = running_loss/len(validation_dl)\n",
        "    \n",
        "\n",
        "  val_accuracy = running_corrects / float(total)\n",
        "  \n",
        "\n",
        "  return val_loss, val_accuracy"
      ],
      "execution_count": 14,
      "outputs": []
    },
    {
      "cell_type": "code",
      "metadata": {
        "id": "GoKj6zF9AkEn"
      },
      "source": [
        "def test(best_net, test_dl, device):\n",
        "  \"\"\"Test the model.\n",
        "  Returns:\n",
        "      accuracy (float): accuracy of the model on the test set\n",
        "  \"\"\"\n",
        "\n",
        "  best_net.train(False)  # Set Network to evaluation mode\n",
        "\n",
        "  running_corrects = 0\n",
        "  total = 0\n",
        "\n",
        "  all_preds = torch.tensor([]) # to store all predictions\n",
        "  all_preds = all_preds.type(torch.LongTensor)\n",
        "  all_targets = torch.tensor([])\n",
        "  all_targets = all_targets.type(torch.LongTensor)\n",
        "  # solito ciclo\n",
        "  for _, images, labels in test_dl:\n",
        "      images = images.to(device)\n",
        "      labels = labels.to(device)\n",
        "      total += labels.size(0)\n",
        "\n",
        "      # Forward Pass\n",
        "      outputs = best_net(images)\n",
        "\n",
        "      # Get predictions\n",
        "      _, preds = torch.max(outputs.data, 1)\n",
        "\n",
        "      # Update Corrects\n",
        "      running_corrects += torch.sum(preds == labels.data).data.item()\n",
        "\n",
        "      # Append batch predictions and labels\n",
        "      all_targets = torch.cat(\n",
        "          (all_targets.to(device), labels.to(device)), dim=0\n",
        "      )\n",
        "      all_preds = torch.cat(\n",
        "          (all_preds.to(device), preds.to(device)), dim=0\n",
        "      )\n",
        "\n",
        "  # Calculate accuracy\n",
        "  accuracy = running_corrects / float(total)  \n",
        "\n",
        "\n",
        "  return accuracy, all_targets, all_preds"
      ],
      "execution_count": 15,
      "outputs": []
    },
    {
      "cell_type": "code",
      "metadata": {
        "id": "kZnfajyhEdUA"
      },
      "source": [
        "def increment_classes(net, n=10):\n",
        "  \"\"\"Add n classes in the final fully connected layer.\"\"\"\n",
        "\n",
        "  in_features = net.fc.in_features  # size of each input sample\n",
        "  out_features = net.fc.out_features  # size of each output sample\n",
        "  weight = net.fc.weight.data\n",
        "\n",
        "  net.fc = nn.Linear(in_features, out_features+n)\n",
        "  net.fc.weight.data[:out_features] = weight"
      ],
      "execution_count": 16,
      "outputs": []
    },
    {
      "cell_type": "code",
      "metadata": {
        "id": "Mre1ZdypehhH"
      },
      "source": [
        ""
      ],
      "execution_count": 47,
      "outputs": []
    },
    {
      "cell_type": "code",
      "metadata": {
        "colab": {
          "base_uri": "https://localhost:8080/",
          "height": 1000
        },
        "id": "mJHKbipz0bMr",
        "outputId": "f2f31f83-f2ea-48c4-d50c-88d5c125fe01"
      },
      "source": [
        "import torch\n",
        "import torch.nn as nn\n",
        "from torch.backends import cudnn\n",
        "from copy import deepcopy\n",
        "\n",
        "logs = [{'all_class_preds': [], \n",
        "         'acc_test': [], \n",
        "         'true_lbls': [],\n",
        "         'epochs_losses': []} for i in range(len(RANDOM_SEED))]\n",
        "\n",
        "for run in range(len(RANDOM_SEED)):\n",
        "  print(\"#################################\")\n",
        "  print(f\"Radom seed: {RANDOM_SEED[run]}\")\n",
        "  print(\"\")\n",
        "  tain_data, test_data = do_shuffle(train_data, test_data)\n",
        "  train_dl, val_dl, test_dl = do_group_classes(train_data, test_data)\n",
        "  logs[run]['epochs_losses'], logs[run]['acc_test'], logs[run]['true_lbls'], logs[run]['preds']  = do_finetuning(train_dl, val_dl, test_dl)\n",
        "  print(\"#################################\")\n",
        "  print(\"\")\n",
        "  print(\"\")"
      ],
      "execution_count": 67,
      "outputs": [
        {
          "output_type": "stream",
          "text": [
            "Validation on group[1] of 10 classes\n",
            "val loss: 0.16308328083583287\n",
            "val acc: 0.10267857142857142\n",
            "\n",
            "Group[1]Finished!\n",
            "Best model at epoch 0, best accuracy: 0.11\n",
            "\n",
            "Testing classes seen so far, accuracy: 0.05677083333333333\n",
            "\n",
            "=============================================\n",
            "\n",
            "Epoch[0] loss: 0.13622756086049542 LR: [2]\n",
            "Validation on group[2] of 10 classes\n",
            "val loss: 0.10859241336584091\n",
            "val acc: 0.15066964285714285\n",
            "Best model updated\n",
            "\n",
            "Epoch[1] loss: 0.10479727747940248 LR: [2]\n",
            "Validation on group[2] of 10 classes\n",
            "val loss: 0.10466055252722331\n",
            "val acc: 0.16852678571428573\n",
            "Best model updated\n",
            "\n",
            "Group[2]Finished!\n",
            "Best model at epoch 1, best accuracy: 0.17\n",
            "\n",
            "Testing classes seen so far, accuracy: 0.059782608695652176\n",
            "\n",
            "=============================================\n",
            "\n"
          ],
          "name": "stdout"
        },
        {
          "output_type": "error",
          "ename": "KeyboardInterrupt",
          "evalue": "ignored",
          "traceback": [
            "\u001b[0;31m---------------------------------------------------------------------------\u001b[0m",
            "\u001b[0;31mKeyboardInterrupt\u001b[0m                         Traceback (most recent call last)",
            "\u001b[0;32m<ipython-input-67-fdc506a5a979>\u001b[0m in \u001b[0;36m<module>\u001b[0;34m()\u001b[0m\n\u001b[1;32m     15\u001b[0m   \u001b[0mtain_data\u001b[0m\u001b[0;34m,\u001b[0m \u001b[0mtest_data\u001b[0m \u001b[0;34m=\u001b[0m \u001b[0mdo_shuffle\u001b[0m\u001b[0;34m(\u001b[0m\u001b[0mtrain_data\u001b[0m\u001b[0;34m,\u001b[0m \u001b[0mtest_data\u001b[0m\u001b[0;34m)\u001b[0m\u001b[0;34m\u001b[0m\u001b[0;34m\u001b[0m\u001b[0m\n\u001b[1;32m     16\u001b[0m   \u001b[0mtrain_dl\u001b[0m\u001b[0;34m,\u001b[0m \u001b[0mval_dl\u001b[0m\u001b[0;34m,\u001b[0m \u001b[0mtest_dl\u001b[0m \u001b[0;34m=\u001b[0m \u001b[0mdo_group_classes\u001b[0m\u001b[0;34m(\u001b[0m\u001b[0mtrain_data\u001b[0m\u001b[0;34m,\u001b[0m \u001b[0mtest_data\u001b[0m\u001b[0;34m)\u001b[0m\u001b[0;34m\u001b[0m\u001b[0;34m\u001b[0m\u001b[0m\n\u001b[0;32m---> 17\u001b[0;31m   \u001b[0mlogs\u001b[0m\u001b[0;34m[\u001b[0m\u001b[0mrun\u001b[0m\u001b[0;34m]\u001b[0m\u001b[0;34m[\u001b[0m\u001b[0;34m'epochs_losses'\u001b[0m\u001b[0;34m]\u001b[0m\u001b[0;34m,\u001b[0m \u001b[0mlogs\u001b[0m\u001b[0;34m[\u001b[0m\u001b[0mrun\u001b[0m\u001b[0;34m]\u001b[0m\u001b[0;34m[\u001b[0m\u001b[0;34m'acc_test'\u001b[0m\u001b[0;34m]\u001b[0m\u001b[0;34m,\u001b[0m \u001b[0mlogs\u001b[0m\u001b[0;34m[\u001b[0m\u001b[0mrun\u001b[0m\u001b[0;34m]\u001b[0m\u001b[0;34m[\u001b[0m\u001b[0;34m'true_lbls'\u001b[0m\u001b[0;34m]\u001b[0m\u001b[0;34m,\u001b[0m \u001b[0mlogs\u001b[0m\u001b[0;34m[\u001b[0m\u001b[0mrun\u001b[0m\u001b[0;34m]\u001b[0m\u001b[0;34m[\u001b[0m\u001b[0;34m'preds'\u001b[0m\u001b[0;34m]\u001b[0m  \u001b[0;34m=\u001b[0m \u001b[0mdo_finetuning\u001b[0m\u001b[0;34m(\u001b[0m\u001b[0mtrain_dl\u001b[0m\u001b[0;34m,\u001b[0m \u001b[0mval_dl\u001b[0m\u001b[0;34m,\u001b[0m \u001b[0mtest_dl\u001b[0m\u001b[0;34m)\u001b[0m\u001b[0;34m\u001b[0m\u001b[0;34m\u001b[0m\u001b[0m\n\u001b[0m\u001b[1;32m     18\u001b[0m   \u001b[0mprint\u001b[0m\u001b[0;34m(\u001b[0m\u001b[0;34m\"#################################\"\u001b[0m\u001b[0;34m)\u001b[0m\u001b[0;34m\u001b[0m\u001b[0;34m\u001b[0m\u001b[0m\n\u001b[1;32m     19\u001b[0m   \u001b[0mprint\u001b[0m\u001b[0;34m(\u001b[0m\u001b[0;34m\"\"\u001b[0m\u001b[0;34m)\u001b[0m\u001b[0;34m\u001b[0m\u001b[0;34m\u001b[0m\u001b[0m\n",
            "\u001b[0;32m<ipython-input-63-25a351743f79>\u001b[0m in \u001b[0;36mdo_finetuning\u001b[0;34m(train_dataloader, val_dataloader, test_dataloader)\u001b[0m\n\u001b[1;32m     20\u001b[0m     \u001b[0;31m# ad ogni epoca chiamo il train, salvo le loss e trovo il modello migliore con l'evaluation\u001b[0m\u001b[0;34m\u001b[0m\u001b[0;34m\u001b[0m\u001b[0;34m\u001b[0m\u001b[0m\n\u001b[1;32m     21\u001b[0m     \u001b[0;32mfor\u001b[0m \u001b[0mepoch\u001b[0m \u001b[0;32min\u001b[0m \u001b[0mrange\u001b[0m\u001b[0;34m(\u001b[0m\u001b[0mnum_epochs\u001b[0m\u001b[0;34m)\u001b[0m\u001b[0;34m:\u001b[0m\u001b[0;34m\u001b[0m\u001b[0;34m\u001b[0m\u001b[0m\n\u001b[0;32m---> 22\u001b[0;31m       \u001b[0me_loss\u001b[0m \u001b[0;34m=\u001b[0m \u001b[0mtrain\u001b[0m\u001b[0;34m(\u001b[0m\u001b[0mnet\u001b[0m\u001b[0;34m,\u001b[0m \u001b[0mcriterion\u001b[0m\u001b[0;34m,\u001b[0m \u001b[0moptimizer\u001b[0m\u001b[0;34m,\u001b[0m \u001b[0mtrain_dataloader\u001b[0m\u001b[0;34m[\u001b[0m\u001b[0mg\u001b[0m\u001b[0;34m]\u001b[0m\u001b[0;34m,\u001b[0m \u001b[0mDEVICE\u001b[0m\u001b[0;34m)\u001b[0m\u001b[0;34m\u001b[0m\u001b[0;34m\u001b[0m\u001b[0m\n\u001b[0m\u001b[1;32m     23\u001b[0m       \u001b[0mepoch_losses\u001b[0m\u001b[0;34m[\u001b[0m\u001b[0mg\u001b[0m\u001b[0;34m]\u001b[0m\u001b[0;34m[\u001b[0m\u001b[0mepoch\u001b[0m\u001b[0;34m]\u001b[0m\u001b[0;34m=\u001b[0m\u001b[0me_loss\u001b[0m\u001b[0;34m\u001b[0m\u001b[0;34m\u001b[0m\u001b[0m\n\u001b[1;32m     24\u001b[0m       \u001b[0mprint\u001b[0m\u001b[0;34m(\u001b[0m\u001b[0;34mf\"Epoch[{epoch}] loss: {e_loss} LR: {scheduler.get_last_lr()}\"\u001b[0m\u001b[0;34m)\u001b[0m\u001b[0;34m\u001b[0m\u001b[0;34m\u001b[0m\u001b[0m\n",
            "\u001b[0;32m<ipython-input-13-b846caeea867>\u001b[0m in \u001b[0;36mtrain\u001b[0;34m(net, criterion, optimizer, train_dl, device)\u001b[0m\n\u001b[1;32m     22\u001b[0m     \u001b[0moptimizer\u001b[0m\u001b[0;34m.\u001b[0m\u001b[0mstep\u001b[0m\u001b[0;34m(\u001b[0m\u001b[0;34m)\u001b[0m\u001b[0;34m\u001b[0m\u001b[0;34m\u001b[0m\u001b[0m\n\u001b[1;32m     23\u001b[0m \u001b[0;34m\u001b[0m\u001b[0m\n\u001b[0;32m---> 24\u001b[0;31m     \u001b[0mrunning_loss\u001b[0m \u001b[0;34m+=\u001b[0m \u001b[0mloss\u001b[0m\u001b[0;34m.\u001b[0m\u001b[0mitem\u001b[0m\u001b[0;34m(\u001b[0m\u001b[0;34m)\u001b[0m\u001b[0;34m\u001b[0m\u001b[0;34m\u001b[0m\u001b[0m\n\u001b[0m\u001b[1;32m     25\u001b[0m   \u001b[0;32melse\u001b[0m\u001b[0;34m:\u001b[0m\u001b[0;34m\u001b[0m\u001b[0;34m\u001b[0m\u001b[0m\n\u001b[1;32m     26\u001b[0m     \u001b[0mepoch_loss\u001b[0m \u001b[0;34m=\u001b[0m \u001b[0mrunning_loss\u001b[0m\u001b[0;34m/\u001b[0m\u001b[0mlen\u001b[0m\u001b[0;34m(\u001b[0m\u001b[0mtrain_dl\u001b[0m\u001b[0;34m)\u001b[0m\u001b[0;34m\u001b[0m\u001b[0;34m\u001b[0m\u001b[0m\n",
            "\u001b[0;31mKeyboardInterrupt\u001b[0m: "
          ]
        }
      ]
    },
    {
      "cell_type": "code",
      "metadata": {
        "id": "UNPwfXa2tqpV"
      },
      "source": [
        "def do_finetuning(train_dataloader, val_dataloader, test_dataloader):\n",
        "  net = resnet32()\n",
        "  criterion = nn.BCEWithLogitsLoss()\n",
        "\n",
        "  net.to(DEVICE)\n",
        "  cudnn.benchmark\n",
        "  num_epochs = 80\n",
        "\n",
        "  epoch_losses = [[float for k in range(num_epochs)] for j in range(10)]\n",
        "  test_acc_list = [float for k in range(10)]\n",
        "  for g in range(10):\n",
        "    net.to(DEVICE)\n",
        "    parameters_to_optimize = net.parameters()\n",
        "    optimizer = optim.SGD(parameters_to_optimize, lr=LR, momentum=MOMENTUM, weight_decay=WEIGHT_DECAY)\n",
        "    scheduler = optim.lr_scheduler.MultiStepLR(optimizer, milestones=MILESTONES, gamma=GAMMA)\n",
        "\n",
        "    best_acc = 0\n",
        "    best_net = deepcopy(net)\n",
        "\n",
        "    # ad ogni epoca chiamo il train, salvo le loss e trovo il modello migliore con l'evaluation\n",
        "    for epoch in range(num_epochs):\n",
        "      e_loss = train(net, criterion, optimizer, train_dataloader[g], DEVICE)\n",
        "      epoch_losses[g][epoch]=e_loss\n",
        "      print(f\"Epoch[{epoch}] loss: {e_loss} LR: {scheduler.get_last_lr()}\")\n",
        "      validate_loss, validate_acc = validate(net, criterion, optimizer, val_dataloader[g], DEVICE)\n",
        "      print(f\"Validation on group[{g}] of 10 classes\")\n",
        "      print(f\"val loss: {validate_loss}\")\n",
        "      print(f\"val acc: {validate_acc}\")\n",
        "      scheduler.step()\n",
        "      if validate_acc > best_acc:\n",
        "        best_acc = validate_acc\n",
        "        best_net = deepcopy(net)\n",
        "        best_epoch = epoch\n",
        "        print(\"Best model updated\")\n",
        "      print(\"\")\n",
        "\n",
        "    print(f\"Group[{g}]Finished!\")\n",
        "    print(f\"Best model at epoch {best_epoch}, best accuracy: {best_acc:.2f}\")\n",
        "    print(\"\")\n",
        "    test_accuracy, true_targets, predictions = test(best_net, test_dataloader[g], DEVICE)\n",
        "    print(f\"Testing classes seen so far, accuracy: {test_accuracy}\")\n",
        "    print(\"\")\n",
        "    print(\"=============================================\")\n",
        "    print(\"\")\n",
        "    test_acc_list[g] = test_accuracy\n",
        "\n",
        "    if g < 9:\n",
        "      increment_classes(net)\n",
        "    \n",
        "  return epoch_losses, test_acc_list, true_targets, predictions"
      ],
      "execution_count": 68,
      "outputs": []
    },
    {
      "cell_type": "code",
      "metadata": {
        "id": "DjXgkRB3-kYU",
        "colab": {
          "base_uri": "https://localhost:8080/",
          "height": 621
        },
        "outputId": "add19fed-af10-4e54-9052-bb4ee7e20cfb"
      },
      "source": [
        "from sklearn.metrics import confusion_matrix\n",
        "import seaborn as sns\n",
        "def plotConfusionMatrix(confusionMatrixData, seed):\n",
        "\tfig,ax=plt.subplots(figsize=(10,10))\n",
        "\tsns.heatmap(confusionMatrixData,cmap='terrain',ax=ax)\n",
        "\tplt.ylabel('True label')\n",
        "\tplt.xlabel('Predicted label')\n",
        "\tplt.title(\"Confusion Matrix - seed: {}\".format(seed))\n",
        "\n",
        "\t#filename = \"cm_{}_{}.jpg\".format(method, seed) # ex. cm_lwf_30\n",
        "\t#plt.savefig(filename, format='png', dpi=300)\n",
        "\tplt.show()\n",
        " \n",
        " \n",
        "t = all_targets.cpu().data.numpy()\n",
        "p = all_preds.cpu().data.numpy()\n",
        "confusionMatrixData = confusion_matrix(t, p)\n",
        "plotConfusionMatrix(confusionMatrixData, RANDOM_SEED[0])\n"
      ],
      "execution_count": null,
      "outputs": [
        {
          "output_type": "display_data",
          "data": {
            "image/png": "[encoded data removed]",
            "text/plain": [
              "<Figure size 720x720 with 2 Axes>"
            ]
          },
          "metadata": {
            "tags": [],
            "needs_background": "light"
          }
        }
      ]
    }
  ]
}