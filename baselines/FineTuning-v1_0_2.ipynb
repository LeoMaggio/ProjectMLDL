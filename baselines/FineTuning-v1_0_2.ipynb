{
  "nbformat": 4,
  "nbformat_minor": 0,
  "metadata": {
    "colab": {
      "name": "FineTuning.ipynb",
      "provenance": [],
      "toc_visible": true,
      "include_colab_link": true
    },
    "kernelspec": {
      "name": "python3",
      "display_name": "Python 3"
    },
    "language_info": {
      "name": "python"
    },
    "accelerator": "GPU",
    "widgets": {
      "application/vnd.jupyter.widget-state+json": {
        "30f6f8af8d394dd68eb72f86a3f992bd": {
          "model_module": "@jupyter-widgets/controls",
          "model_name": "HBoxModel",
          "state": {
            "_view_name": "HBoxView",
            "_dom_classes": [],
            "_model_name": "HBoxModel",
            "_view_module": "@jupyter-widgets/controls",
            "_model_module_version": "1.5.0",
            "_view_count": null,
            "_view_module_version": "1.5.0",
            "box_style": "",
            "layout": "IPY_MODEL_2768840561394433bcfcb2a79ea5a5c7",
            "_model_module": "@jupyter-widgets/controls",
            "children": [
              "IPY_MODEL_8da9e7166ec94e90933731e5910a0e62",
              "IPY_MODEL_a078de66de2748e2b18bcba06e9ca470"
            ]
          }
        },
        "2768840561394433bcfcb2a79ea5a5c7": {
          "model_module": "@jupyter-widgets/base",
          "model_name": "LayoutModel",
          "state": {
            "_view_name": "LayoutView",
            "grid_template_rows": null,
            "right": null,
            "justify_content": null,
            "_view_module": "@jupyter-widgets/base",
            "overflow": null,
            "_model_module_version": "1.2.0",
            "_view_count": null,
            "flex_flow": null,
            "width": null,
            "min_width": null,
            "border": null,
            "align_items": null,
            "bottom": null,
            "_model_module": "@jupyter-widgets/base",
            "top": null,
            "grid_column": null,
            "overflow_y": null,
            "overflow_x": null,
            "grid_auto_flow": null,
            "grid_area": null,
            "grid_template_columns": null,
            "flex": null,
            "_model_name": "LayoutModel",
            "justify_items": null,
            "grid_row": null,
            "max_height": null,
            "align_content": null,
            "visibility": null,
            "align_self": null,
            "height": null,
            "min_height": null,
            "padding": null,
            "grid_auto_rows": null,
            "grid_gap": null,
            "max_width": null,
            "order": null,
            "_view_module_version": "1.2.0",
            "grid_template_areas": null,
            "object_position": null,
            "object_fit": null,
            "grid_auto_columns": null,
            "margin": null,
            "display": null,
            "left": null
          }
        },
        "8da9e7166ec94e90933731e5910a0e62": {
          "model_module": "@jupyter-widgets/controls",
          "model_name": "FloatProgressModel",
          "state": {
            "_view_name": "ProgressView",
            "style": "IPY_MODEL_af61052065c34369bf7e28998d9bdef6",
            "_dom_classes": [],
            "description": "",
            "_model_name": "FloatProgressModel",
            "bar_style": "info",
            "max": 1,
            "_view_module": "@jupyter-widgets/controls",
            "_model_module_version": "1.5.0",
            "value": 1,
            "_view_count": null,
            "_view_module_version": "1.5.0",
            "orientation": "horizontal",
            "min": 0,
            "description_tooltip": null,
            "_model_module": "@jupyter-widgets/controls",
            "layout": "IPY_MODEL_95244a8e8c2047cb80ad4d4a3782e0e9"
          }
        },
        "a078de66de2748e2b18bcba06e9ca470": {
          "model_module": "@jupyter-widgets/controls",
          "model_name": "HTMLModel",
          "state": {
            "_view_name": "HTMLView",
            "style": "IPY_MODEL_544ec90bda854a6aac361f70d1e63b9a",
            "_dom_classes": [],
            "description": "",
            "_model_name": "HTMLModel",
            "placeholder": "​",
            "_view_module": "@jupyter-widgets/controls",
            "_model_module_version": "1.5.0",
            "value": " 169009152/? [00:20&lt;00:00, 54909947.97it/s]",
            "_view_count": null,
            "_view_module_version": "1.5.0",
            "description_tooltip": null,
            "_model_module": "@jupyter-widgets/controls",
            "layout": "IPY_MODEL_d13ac1a088aa47489d79ec6421e37a19"
          }
        },
        "af61052065c34369bf7e28998d9bdef6": {
          "model_module": "@jupyter-widgets/controls",
          "model_name": "ProgressStyleModel",
          "state": {
            "_view_name": "StyleView",
            "_model_name": "ProgressStyleModel",
            "description_width": "initial",
            "_view_module": "@jupyter-widgets/base",
            "_model_module_version": "1.5.0",
            "_view_count": null,
            "_view_module_version": "1.2.0",
            "bar_color": null,
            "_model_module": "@jupyter-widgets/controls"
          }
        },
        "95244a8e8c2047cb80ad4d4a3782e0e9": {
          "model_module": "@jupyter-widgets/base",
          "model_name": "LayoutModel",
          "state": {
            "_view_name": "LayoutView",
            "grid_template_rows": null,
            "right": null,
            "justify_content": null,
            "_view_module": "@jupyter-widgets/base",
            "overflow": null,
            "_model_module_version": "1.2.0",
            "_view_count": null,
            "flex_flow": null,
            "width": null,
            "min_width": null,
            "border": null,
            "align_items": null,
            "bottom": null,
            "_model_module": "@jupyter-widgets/base",
            "top": null,
            "grid_column": null,
            "overflow_y": null,
            "overflow_x": null,
            "grid_auto_flow": null,
            "grid_area": null,
            "grid_template_columns": null,
            "flex": null,
            "_model_name": "LayoutModel",
            "justify_items": null,
            "grid_row": null,
            "max_height": null,
            "align_content": null,
            "visibility": null,
            "align_self": null,
            "height": null,
            "min_height": null,
            "padding": null,
            "grid_auto_rows": null,
            "grid_gap": null,
            "max_width": null,
            "order": null,
            "_view_module_version": "1.2.0",
            "grid_template_areas": null,
            "object_position": null,
            "object_fit": null,
            "grid_auto_columns": null,
            "margin": null,
            "display": null,
            "left": null
          }
        },
        "544ec90bda854a6aac361f70d1e63b9a": {
          "model_module": "@jupyter-widgets/controls",
          "model_name": "DescriptionStyleModel",
          "state": {
            "_view_name": "StyleView",
            "_model_name": "DescriptionStyleModel",
            "description_width": "",
            "_view_module": "@jupyter-widgets/base",
            "_model_module_version": "1.5.0",
            "_view_count": null,
            "_view_module_version": "1.2.0",
            "_model_module": "@jupyter-widgets/controls"
          }
        },
        "d13ac1a088aa47489d79ec6421e37a19": {
          "model_module": "@jupyter-widgets/base",
          "model_name": "LayoutModel",
          "state": {
            "_view_name": "LayoutView",
            "grid_template_rows": null,
            "right": null,
            "justify_content": null,
            "_view_module": "@jupyter-widgets/base",
            "overflow": null,
            "_model_module_version": "1.2.0",
            "_view_count": null,
            "flex_flow": null,
            "width": null,
            "min_width": null,
            "border": null,
            "align_items": null,
            "bottom": null,
            "_model_module": "@jupyter-widgets/base",
            "top": null,
            "grid_column": null,
            "overflow_y": null,
            "overflow_x": null,
            "grid_auto_flow": null,
            "grid_area": null,
            "grid_template_columns": null,
            "flex": null,
            "_model_name": "LayoutModel",
            "justify_items": null,
            "grid_row": null,
            "max_height": null,
            "align_content": null,
            "visibility": null,
            "align_self": null,
            "height": null,
            "min_height": null,
            "padding": null,
            "grid_auto_rows": null,
            "grid_gap": null,
            "max_width": null,
            "order": null,
            "_view_module_version": "1.2.0",
            "grid_template_areas": null,
            "object_position": null,
            "object_fit": null,
            "grid_auto_columns": null,
            "margin": null,
            "display": null,
            "left": null
          }
        }
      }
    }
  },
  "cells": [
    {
      "cell_type": "markdown",
      "metadata": {
        "id": "view-in-github",
        "colab_type": "text"
      },
      "source": [
        "<a href=\"https://colab.research.google.com/github/cosminnedescu/ProjectMLDL/blob/main/baselines/FineTuning-v1_0_2.ipynb\" target=\"_parent\"><img src=\"https://colab.research.google.com/assets/colab-badge.svg\" alt=\"Open In Colab\"/></a>"
      ]
    },
    {
      "cell_type": "code",
      "metadata": {
        "id": "pJimWkPdQu6y"
      },
      "source": [
        "import os\n",
        "import random\n",
        "\n",
        "import torch\n",
        "import torch.nn as nn\n",
        "import torch.nn.init as init\n",
        "import torch.optim as optim\n",
        "import torch.nn.functional as F\n",
        "from torch.autograd import Variable\n",
        "\n",
        "import torchvision\n",
        "from torchvision import transforms, datasets, models\n",
        "from torch.utils.data import Subset, DataLoader\n",
        "\n",
        "from PIL import Image\n",
        "\n",
        "import numpy as np\n",
        "import matplotlib \n",
        "import matplotlib.pyplot as plt\n",
        "from copy import copy\n",
        "from copy import deepcopy"
      ],
      "execution_count": 1,
      "outputs": []
    },
    {
      "cell_type": "markdown",
      "metadata": {
        "id": "7BZw-bZJ16ay"
      },
      "source": [
        "#### Cloning the Git repository"
      ]
    },
    {
      "cell_type": "code",
      "metadata": {
        "id": "yjntw1jZQ7Lg",
        "colab": {
          "base_uri": "https://localhost:8080/"
        },
        "outputId": "5ca6525a-73ab-4698-f0f1-1da4bf4df684"
      },
      "source": [
        "!rm -rf ProjectMLDL\n",
        "if not os.path.isdir('/content/ProjectMLDL'):\n",
        "  !git clone https://github.com/cosminnedescu/ProjectMLDL.git\n",
        "  %cd /content/ProjectMLDL\n",
        "  !rm -rf LICENSE README.md"
      ],
      "execution_count": 2,
      "outputs": [
        {
          "output_type": "stream",
          "text": [
            "Cloning into 'ProjectMLDL'...\n",
            "remote: Enumerating objects: 315, done.\u001b[K\n",
            "remote: Counting objects: 100% (315/315), done.\u001b[K\n",
            "remote: Compressing objects: 100% (304/304), done.\u001b[K\n",
            "remote: Total 315 (delta 139), reused 0 (delta 0), pack-reused 0\u001b[K\n",
            "Receiving objects: 100% (315/315), 4.35 MiB | 10.24 MiB/s, done.\n",
            "Resolving deltas: 100% (139/139), done.\n",
            "/content/ProjectMLDL\n"
          ],
          "name": "stdout"
        }
      ]
    },
    {
      "cell_type": "code",
      "metadata": {
        "id": "nvqmxRxo2lUW"
      },
      "source": [
        "from data.cifar100 import CIFAR100\n",
        "from model.resnet32 import resnet32\n",
        "import data.utils\n",
        "from model.trainer import Trainer"
      ],
      "execution_count": 3,
      "outputs": []
    },
    {
      "cell_type": "markdown",
      "metadata": {
        "id": "Nhv6X5Cg2B2y"
      },
      "source": [
        "#### Downloading data from Cifar100"
      ]
    },
    {
      "cell_type": "code",
      "metadata": {
        "id": "XwomFTtQo1x-"
      },
      "source": [
        "# True mean and std of Cifar100 dataset (src=\"https://gist.github.com/weiaicunzai/e623931921efefd4c331622c344d8151\")\n",
        "mean = [0.5071, 0.4867, 0.4408]\n",
        "std = [0.2675, 0.2565, 0.2761]\n",
        "\n",
        "train_transform = transforms.Compose([\n",
        "    transforms.RandomCrop(32, padding=4),\n",
        "    transforms.RandomHorizontalFlip(),\n",
        "    transforms.ToTensor(),\n",
        "    transforms.Normalize(mean, std),\n",
        "])\n",
        "test_transform = transforms.Compose(\n",
        "    [transforms.ToTensor(), \n",
        "     transforms.Normalize(mean, std),\n",
        "     ])"
      ],
      "execution_count": 4,
      "outputs": []
    },
    {
      "cell_type": "code",
      "metadata": {
        "colab": {
          "base_uri": "https://localhost:8080/",
          "height": 101,
          "referenced_widgets": [
            "30f6f8af8d394dd68eb72f86a3f992bd",
            "2768840561394433bcfcb2a79ea5a5c7",
            "8da9e7166ec94e90933731e5910a0e62",
            "a078de66de2748e2b18bcba06e9ca470",
            "af61052065c34369bf7e28998d9bdef6",
            "95244a8e8c2047cb80ad4d4a3782e0e9",
            "544ec90bda854a6aac361f70d1e63b9a",
            "d13ac1a088aa47489d79ec6421e37a19"
          ]
        },
        "id": "BCz7GGfdpRiL",
        "outputId": "b31b309e-676b-402c-c9ed-e31ed2dbe03d"
      },
      "source": [
        "train_data = CIFAR100(\"dataset\", train=True, transform=train_transform, download=True)\n",
        "test_data = CIFAR100(\"dataset\", train=False, transform=test_transform, download=True)"
      ],
      "execution_count": 5,
      "outputs": [
        {
          "output_type": "stream",
          "text": [
            "Downloading https://www.cs.toronto.edu/~kriz/cifar-100-python.tar.gz to dataset/cifar-100-python.tar.gz\n"
          ],
          "name": "stdout"
        },
        {
          "output_type": "display_data",
          "data": {
            "application/vnd.jupyter.widget-view+json": {
              "model_id": "30f6f8af8d394dd68eb72f86a3f992bd",
              "version_minor": 0,
              "version_major": 2
            },
            "text/plain": [
              "HBox(children=(FloatProgress(value=1.0, bar_style='info', max=1.0), HTML(value='')))"
            ]
          },
          "metadata": {
            "tags": []
          }
        },
        {
          "output_type": "stream",
          "text": [
            "Extracting dataset/cifar-100-python.tar.gz to dataset\n",
            "Files already downloaded and verified\n"
          ],
          "name": "stdout"
        }
      ]
    },
    {
      "cell_type": "code",
      "metadata": {
        "colab": {
          "base_uri": "https://localhost:8080/",
          "height": 301
        },
        "id": "cGlVf385aUDd",
        "outputId": "2467dc65-ccaa-458a-9b65-eba162cff7ae"
      },
      "source": [
        "#check images and labels after shuffle\n",
        "#https://github.com/keras-team/keras/issues/2653#issuecomment-450133996\n",
        "import matplotlib.pyplot as plt\n",
        "\n",
        "plt.imshow(train_data.data[6])\n",
        "print(\"classe: {}\".format(train_data.targets[6]))"
      ],
      "execution_count": 6,
      "outputs": [
        {
          "output_type": "stream",
          "text": [
            "\n",
            "classe: 90\n"
          ],
          "name": "stdout"
        },
        {
          "output_type": "display_data",
          "data": {
            "image/png": "[encoded data removed]",
            "text/plain": [
              "<Figure size 432x288 with 1 Axes>"
            ]
          },
          "metadata": {
            "tags": [],
            "needs_background": "light"
          }
        }
      ]
    },
    {
      "cell_type": "markdown",
      "metadata": {
        "id": "yRoS-R_sRhHT"
      },
      "source": [
        "## Fine Tuning"
      ]
    },
    {
      "cell_type": "markdown",
      "metadata": {
        "id": "3ocVW0wM2Iw2"
      },
      "source": [
        "### Defining hyperparameters according to iCarl paper"
      ]
    },
    {
      "cell_type": "code",
      "metadata": {
        "id": "nmEo_9lnwyBk"
      },
      "source": [
        "# Settings\n",
        "DEVICE = 'cuda'\n",
        "NUM_CLASSES = 100         # Total number of classes\n",
        "VAL_SIZE = 0.2            # Proportion of validation set with respect to training set (between 0 and 1)\n",
        "\n",
        "# Training\n",
        "BATCH_SIZE = 128          # Batch size\n",
        "LR = 2                    # Initial learning rate\n",
        "                       \n",
        "MOMENTUM = 0.9            # Momentum for stochastic gradient descent (SGD)\n",
        "WEIGHT_DECAY = 1e-5       # Weight decay from iCaRL\n",
        "\n",
        "RANDOM_SEED = [42,13,10]  # Random seeds defining the runs of every method\n",
        "                          # Note: this should be at least 3 to have a fair benchmark\n",
        "\n",
        "NUM_EPOCHS = 70           # Total number of training epochs\n",
        "MILESTONES = [49, 63]     # Step down policy from iCaRL (MultiStepLR)\n",
        "                          # Decrease the learning rate by gamma at each milestone\n",
        "GAMMA = 0.2               # Gamma factor from iCaRL (1/5)"
      ],
      "execution_count": 6,
      "outputs": []
    },
    {
      "cell_type": "markdown",
      "metadata": {
        "id": "btwAEFoF0YUE"
      },
      "source": [
        "### Definition of `do_shuffle` and `do_group_classes`\n",
        "`do_shuffle` and `do_group_classes` are two functions that rispectively shuffle data downloaded from Cifar100 and get the incremental classes division for the incremental learning phase.\n",
        "\n"
      ]
    },
    {
      "cell_type": "code",
      "metadata": {
        "id": "rVh61C63FECy"
      },
      "source": [
        "def do_shuffle(train_d, test_d):\n",
        "  train_d.__shuffle_seed__(RANDOM_SEED[run])\n",
        "  test_d.__shuffle_seed__(RANDOM_SEED[run])\n",
        "  return train_d, test_d\n",
        "\n",
        "def do_group_classes(train_d, test_d):\n",
        "  indexes_train_data = train_d.__incremental_indexes__(True)\n",
        "  indexes_test_data = test_d.__incremental_indexes__(False)\n",
        "\n",
        "\n",
        "  train_dataloader = [[] for i in range(10)]\n",
        "  val_dataloader = [[] for i in range(10)]\n",
        "  test_dataloader = [[] for i in range(10)]\n",
        "  for i in range(10):\n",
        "    train_dataset = Subset(train_d, indexes_train_data[i])\n",
        "    train_set, val_set = torch.utils.data.random_split(train_dataset, \n",
        "                                                       [int((1-VAL_SIZE)*len(indexes_train_data[i])), int(VAL_SIZE*len(indexes_train_data[i]))])\n",
        "    tmp_dl = DataLoader(train_set, \n",
        "                        batch_size=BATCH_SIZE,\n",
        "                        shuffle=True,\n",
        "                        num_workers=4,\n",
        "                        drop_last=True)\n",
        "    train_dataloader[i] = copy(tmp_dl) # gruppi di 10 classi \n",
        "    tmp_dl = DataLoader(val_set, \n",
        "                        batch_size=BATCH_SIZE,\n",
        "                        shuffle=True,\n",
        "                        num_workers=4,\n",
        "                        drop_last=True)\n",
        "    val_dataloader[i] = copy(tmp_dl) # gruppi di 10 classi\n",
        "\n",
        "\n",
        "    test_dataset = Subset(test_d, indexes_test_data[i])\n",
        "    tmp_dl = DataLoader(test_dataset,\n",
        "                        batch_size=BATCH_SIZE,\n",
        "                        shuffle=True,\n",
        "                        num_workers=4,\n",
        "                        drop_last=True)\n",
        "    test_dataloader[i] = copy(tmp_dl) # classi incrementali: 0:0-9, 1:0-19, 2:0-29, ..., 9:0-99\n",
        "    \n",
        "  return train_dataloader, val_dataloader, test_dataloader"
      ],
      "execution_count": 7,
      "outputs": []
    },
    {
      "cell_type": "markdown",
      "metadata": {
        "id": "20APZIgI1eBy"
      },
      "source": [
        "### Going on with the model\n",
        "This is the main FineTuning step.\n",
        "\n",
        "This step is run 3 times with different `RANDOM_SEED`.\n",
        "Here the model is instantiated, trained and tested.\n",
        "\n",
        "Results and some statistics are then stored in the variable `logs`."
      ]
    },
    {
      "cell_type": "code",
      "metadata": {
        "id": "mJHKbipz0bMr",
        "colab": {
          "base_uri": "https://localhost:8080/"
        },
        "outputId": "3503a6e3-39f9-4c86-851a-460df9f001e3"
      },
      "source": [
        "logs = [[] for i in range(len(RANDOM_SEED))]\n",
        "best_net_tot_classes = [None for i in range(len(RANDOM_SEED))]\n",
        "\n",
        "\n",
        "for run in range(len(RANDOM_SEED)):\n",
        "  random.seed(RANDOM_SEED[run])\n",
        "  print(\"#################################\")\n",
        "  print(f\"Radom seed: {RANDOM_SEED[run]}\")\n",
        "  print(\"\")\n",
        "\n",
        "  #shuffle data\n",
        "  train_data, test_data = do_shuffle(train_data, test_data)\n",
        "  #get dataloader separated in incremental groups of 10 classes\n",
        "  train_dl, val_dl, test_dl = do_group_classes(train_data, test_data)\n",
        "\n",
        "  #create the resnet\n",
        "  net = resnet32()\n",
        "\n",
        "  #define criterion, parameters, optimizer and scheduler\n",
        "  criterion = nn.BCEWithLogitsLoss()\n",
        "  parameters_to_optimize = net.parameters()\n",
        "  optimizer = optim.SGD(parameters_to_optimize, lr=LR, momentum=MOMENTUM, weight_decay=WEIGHT_DECAY)\n",
        "  scheduler = optim.lr_scheduler.MultiStepLR(optimizer, milestones=MILESTONES, gamma=GAMMA)\n",
        "  \n",
        "  trainer = Trainer(DEVICE,\n",
        "                    net,\n",
        "                    LR,\n",
        "                    MOMENTUM,\n",
        "                    WEIGHT_DECAY,\n",
        "                    MILESTONES,\n",
        "                    GAMMA,\n",
        "                    train_dl,\n",
        "                    val_dl,\n",
        "                    test_dl)\n",
        "\n",
        "  #train and evaluate the model\n",
        "  logs[run] = trainer.train_model(NUM_EPOCHS)\n",
        "\n",
        "  best_net_tot_classes[run] = deepcopy(trainer.best_net)\n",
        "\n",
        "  print(\"#################################\")\n",
        "  print(\"\")\n",
        "  print(\"\")"
      ],
      "execution_count": 8,
      "outputs": [
        {
          "output_type": "stream",
          "text": [
            "#################################\n",
            "Radom seed: 42\n",
            "\n"
          ],
          "name": "stdout"
        },
        {
          "output_type": "stream",
          "text": [
            "/usr/local/lib/python3.7/dist-packages/torch/utils/data/dataloader.py:477: UserWarning: This DataLoader will create 4 worker processes in total. Our suggested max number of worker in current system is 2, which is smaller than what this DataLoader is going to create. Please be aware that excessive worker creation might get DataLoader running slow or even freeze, lower the worker number to avoid potential slowness/freeze if necessary.\n",
            "  cpuset_checked))\n"
          ],
          "name": "stderr"
        },
        {
          "output_type": "stream",
          "text": [
            "Epoch[0] loss: 0.43819778773092455 LR: [2]\n",
            "Validation on group[0] of 10 classes\n",
            "val loss: 0.4411164138998304\n",
            "val acc: 0.13504464285714285\n",
            "Best model updated\n",
            "\n",
            "Group[0]Finished!\n",
            "Best model at epoch 0, best accuracy: 0.14\n",
            "\n",
            "Testing classes seen so far, accuracy: 0.15513392857142858\n",
            "\n",
            "=============================================\n",
            "\n",
            "Epoch[0] loss: 0.2111953987229255 LR: [2]\n",
            "Validation on group[1] of 10 classes\n",
            "val loss: 0.16833476083619253\n",
            "val acc: 0.12276785714285714\n",
            "Best model updated\n",
            "\n",
            "Group[1]Finished!\n",
            "Best model at epoch 0, best accuracy: 0.12\n",
            "\n",
            "Testing classes seen so far, accuracy: 0.05572916666666667\n",
            "\n",
            "=============================================\n",
            "\n",
            "Epoch[0] loss: 0.1471017928373429 LR: [2]\n",
            "Validation on group[2] of 10 classes\n",
            "val loss: 0.11462325922080449\n",
            "val acc: 0.09375\n",
            "Best model updated\n",
            "\n",
            "Group[2]Finished!\n",
            "Best model at epoch 0, best accuracy: 0.09\n",
            "\n",
            "Testing classes seen so far, accuracy: 0.035665760869565216\n",
            "\n",
            "=============================================\n",
            "\n",
            "Epoch[0] loss: 0.10321478233222038 LR: [2]\n",
            "Validation on group[3] of 10 classes\n",
            "val loss: 0.08289469246353422\n",
            "val acc: 0.11383928571428571\n",
            "Best model updated\n",
            "\n",
            "Group[3]Finished!\n",
            "Best model at epoch 0, best accuracy: 0.11\n",
            "\n",
            "Testing classes seen so far, accuracy: 0.027721774193548387\n",
            "\n",
            "=============================================\n",
            "\n",
            "Epoch[0] loss: 0.0814209183858287 LR: [2]\n",
            "Validation on group[4] of 10 classes\n",
            "val loss: 0.06612478303057807\n",
            "val acc: 0.11607142857142858\n",
            "Best model updated\n",
            "\n",
            "Group[4]Finished!\n",
            "Best model at epoch 0, best accuracy: 0.12\n",
            "\n",
            "Testing classes seen so far, accuracy: 0.025440705128205128\n",
            "\n",
            "=============================================\n",
            "\n",
            "Epoch[0] loss: 0.06677018863058859 LR: [2]\n",
            "Validation on group[5] of 10 classes\n",
            "val loss: 0.05031275802424976\n",
            "val acc: 0.20647321428571427\n",
            "Best model updated\n",
            "\n",
            "Group[5]Finished!\n",
            "Best model at epoch 0, best accuracy: 0.21\n",
            "\n",
            "Testing classes seen so far, accuracy: 0.03091032608695652\n",
            "\n",
            "=============================================\n",
            "\n",
            "Epoch[0] loss: 0.06043410060867187 LR: [2]\n",
            "Validation on group[6] of 10 classes\n",
            "val loss: 0.04634130533252444\n",
            "val acc: 0.16183035714285715\n",
            "Best model updated\n",
            "\n",
            "Group[6]Finished!\n",
            "Best model at epoch 0, best accuracy: 0.16\n",
            "\n",
            "Testing classes seen so far, accuracy: 0.024016203703703703\n",
            "\n",
            "=============================================\n",
            "\n",
            "Epoch[0] loss: 0.05442947942403055 LR: [2]\n",
            "Validation on group[7] of 10 classes\n",
            "val loss: 0.042546148278883526\n",
            "val acc: 0.14174107142857142\n",
            "Best model updated\n",
            "\n",
            "Group[7]Finished!\n",
            "Best model at epoch 0, best accuracy: 0.14\n",
            "\n",
            "Testing classes seen so far, accuracy: 0.017515120967741934\n",
            "\n",
            "=============================================\n",
            "\n",
            "Epoch[0] loss: 0.04756386073366288 LR: [2]\n",
            "Validation on group[8] of 10 classes\n",
            "val loss: 0.03698768253837313\n",
            "val acc: 0.17633928571428573\n",
            "Best model updated\n",
            "\n",
            "Group[8]Finished!\n",
            "Best model at epoch 0, best accuracy: 0.18\n",
            "\n",
            "Testing classes seen so far, accuracy: 0.019642857142857142\n",
            "\n",
            "=============================================\n",
            "\n",
            "Epoch[0] loss: 0.042916782440677766 LR: [2]\n",
            "Validation on group[9] of 10 classes\n",
            "val loss: 0.034305713538612635\n",
            "val acc: 0.13727678571428573\n",
            "Best model updated\n",
            "\n",
            "Group[9]Finished!\n",
            "Best model at epoch 0, best accuracy: 0.14\n",
            "\n",
            "Testing classes seen so far, accuracy: 0.014723557692307692\n",
            "\n",
            "=============================================\n",
            "\n",
            "#################################\n",
            "\n",
            "\n",
            "#################################\n",
            "Radom seed: 13\n",
            "\n",
            "Epoch[0] loss: 0.4270451116946436 LR: [2]\n",
            "Validation on group[0] of 10 classes\n",
            "val loss: 0.36614467416490826\n",
            "val acc: 0.10714285714285714\n",
            "Best model updated\n",
            "\n",
            "Group[0]Finished!\n",
            "Best model at epoch 0, best accuracy: 0.11\n",
            "\n",
            "Testing classes seen so far, accuracy: 0.10825892857142858\n",
            "\n",
            "=============================================\n",
            "\n",
            "Epoch[0] loss: 0.21937153368226944 LR: [2]\n",
            "Validation on group[1] of 10 classes\n",
            "val loss: 0.16773336487157003\n",
            "val acc: 0.09263392857142858\n",
            "Best model updated\n",
            "\n",
            "Group[1]Finished!\n",
            "Best model at epoch 0, best accuracy: 0.09\n",
            "\n",
            "Testing classes seen so far, accuracy: 0.051041666666666666\n",
            "\n",
            "=============================================\n",
            "\n",
            "Epoch[0] loss: 0.14178579372744407 LR: [2]\n",
            "Validation on group[2] of 10 classes\n",
            "val loss: 0.11313280037471227\n",
            "val acc: 0.11272321428571429\n",
            "Best model updated\n",
            "\n",
            "Group[2]Finished!\n",
            "Best model at epoch 0, best accuracy: 0.11\n",
            "\n",
            "Testing classes seen so far, accuracy: 0.03294836956521739\n",
            "\n",
            "=============================================\n",
            "\n",
            "Epoch[0] loss: 0.1033569744998409 LR: [2]\n",
            "Validation on group[3] of 10 classes\n",
            "val loss: 0.08513417627130236\n",
            "val acc: 0.08705357142857142\n",
            "Best model updated\n",
            "\n",
            "Group[3]Finished!\n",
            "Best model at epoch 0, best accuracy: 0.09\n",
            "\n",
            "Testing classes seen so far, accuracy: 0.024949596774193547\n",
            "\n",
            "=============================================\n",
            "\n",
            "Epoch[0] loss: 0.08279783759386308 LR: [2]\n",
            "Validation on group[4] of 10 classes\n",
            "val loss: 0.06677655769245965\n",
            "val acc: 0.11607142857142858\n",
            "Best model updated\n",
            "\n",
            "Group[4]Finished!\n",
            "Best model at epoch 0, best accuracy: 0.12\n",
            "\n",
            "Testing classes seen so far, accuracy: 0.020032051282051284\n",
            "\n",
            "=============================================\n",
            "\n",
            "Epoch[0] loss: 0.07080029095372846 LR: [2]\n",
            "Validation on group[5] of 10 classes\n",
            "val loss: 0.057189882333789556\n",
            "val acc: 0.09821428571428571\n",
            "Best model updated\n",
            "\n",
            "Group[5]Finished!\n",
            "Best model at epoch 0, best accuracy: 0.10\n",
            "\n",
            "Testing classes seen so far, accuracy: 0.016304347826086956\n",
            "\n",
            "=============================================\n",
            "\n",
            "Epoch[0] loss: 0.061262828688467705 LR: [2]\n",
            "Validation on group[6] of 10 classes\n",
            "val loss: 0.04826097509690693\n",
            "val acc: 0.11272321428571429\n",
            "Best model updated\n",
            "\n",
            "Group[6]Finished!\n",
            "Best model at epoch 0, best accuracy: 0.11\n",
            "\n",
            "Testing classes seen so far, accuracy: 0.014178240740740741\n",
            "\n",
            "=============================================\n",
            "\n",
            "Epoch[0] loss: 0.05415136198843679 LR: [2]\n",
            "Validation on group[7] of 10 classes\n",
            "val loss: 0.04331461765936443\n",
            "val acc: 0.10044642857142858\n",
            "Best model updated\n",
            "\n",
            "Group[7]Finished!\n",
            "Best model at epoch 0, best accuracy: 0.10\n",
            "\n",
            "Testing classes seen so far, accuracy: 0.012600806451612902\n",
            "\n",
            "=============================================\n",
            "\n",
            "Epoch[0] loss: 0.0487851953554538 LR: [2]\n",
            "Validation on group[8] of 10 classes\n",
            "val loss: 0.038819203951529095\n",
            "val acc: 0.10491071428571429\n",
            "Best model updated\n",
            "\n",
            "Group[8]Finished!\n",
            "Best model at epoch 0, best accuracy: 0.10\n",
            "\n",
            "Testing classes seen so far, accuracy: 0.011160714285714286\n",
            "\n",
            "=============================================\n",
            "\n",
            "Epoch[0] loss: 0.04455568893782554 LR: [2]\n",
            "Validation on group[9] of 10 classes\n",
            "val loss: 0.03535352913396699\n",
            "val acc: 0.10044642857142858\n",
            "Best model updated\n",
            "\n",
            "Group[9]Finished!\n",
            "Best model at epoch 0, best accuracy: 0.10\n",
            "\n",
            "Testing classes seen so far, accuracy: 0.010016025641025642\n",
            "\n",
            "=============================================\n",
            "\n",
            "#################################\n",
            "\n",
            "\n",
            "#################################\n",
            "Radom seed: 10\n",
            "\n",
            "Epoch[0] loss: 0.4418726053930098 LR: [2]\n",
            "Validation on group[0] of 10 classes\n",
            "val loss: 0.4778129926749638\n",
            "val acc: 0.11049107142857142\n",
            "Best model updated\n",
            "\n",
            "Group[0]Finished!\n",
            "Best model at epoch 0, best accuracy: 0.11\n",
            "\n",
            "Testing classes seen so far, accuracy: 0.07924107142857142\n",
            "\n",
            "=============================================\n",
            "\n",
            "Epoch[0] loss: 0.28118042407497285 LR: [2]\n",
            "Validation on group[1] of 10 classes\n",
            "val loss: 0.1673578236784254\n",
            "val acc: 0.11495535714285714\n",
            "Best model updated\n",
            "\n",
            "Group[1]Finished!\n",
            "Best model at epoch 0, best accuracy: 0.11\n",
            "\n",
            "Testing classes seen so far, accuracy: 0.051041666666666666\n",
            "\n",
            "=============================================\n",
            "\n",
            "Epoch[0] loss: 0.16435984377899476 LR: [2]\n",
            "Validation on group[2] of 10 classes\n",
            "val loss: 0.11121910810470581\n",
            "val acc: 0.109375\n",
            "Best model updated\n",
            "\n",
            "Group[2]Finished!\n",
            "Best model at epoch 0, best accuracy: 0.11\n",
            "\n",
            "Testing classes seen so far, accuracy: 0.03940217391304348\n",
            "\n",
            "=============================================\n",
            "\n",
            "Epoch[0] loss: 0.1032056188391101 LR: [2]\n",
            "Validation on group[3] of 10 classes\n",
            "val loss: 0.082855153296675\n",
            "val acc: 0.09821428571428571\n",
            "Best model updated\n",
            "\n",
            "Group[3]Finished!\n",
            "Best model at epoch 0, best accuracy: 0.10\n",
            "\n",
            "Testing classes seen so far, accuracy: 0.026965725806451613\n",
            "\n",
            "=============================================\n",
            "\n",
            "Epoch[0] loss: 0.08675041025684725 LR: [2]\n",
            "Validation on group[4] of 10 classes\n",
            "val loss: 0.06790096738508769\n",
            "val acc: 0.10714285714285714\n",
            "Best model updated\n",
            "\n",
            "Group[4]Finished!\n",
            "Best model at epoch 0, best accuracy: 0.11\n",
            "\n",
            "Testing classes seen so far, accuracy: 0.020432692307692308\n",
            "\n",
            "=============================================\n",
            "\n",
            "Epoch[0] loss: 0.07182355537529915 LR: [2]\n",
            "Validation on group[5] of 10 classes\n",
            "val loss: 0.05712034340415682\n",
            "val acc: 0.1328125\n",
            "Best model updated\n",
            "\n",
            "Group[5]Finished!\n",
            "Best model at epoch 0, best accuracy: 0.13\n",
            "\n",
            "Testing classes seen so far, accuracy: 0.022078804347826088\n",
            "\n",
            "=============================================\n",
            "\n",
            "Epoch[0] loss: 0.06201976754011646 LR: [2]\n",
            "Validation on group[6] of 10 classes\n",
            "val loss: 0.04899901045220239\n",
            "val acc: 0.13169642857142858\n",
            "Best model updated\n",
            "\n",
            "Group[6]Finished!\n",
            "Best model at epoch 0, best accuracy: 0.13\n",
            "\n",
            "Testing classes seen so far, accuracy: 0.01808449074074074\n",
            "\n",
            "=============================================\n",
            "\n",
            "Epoch[0] loss: 0.05376368364499461 LR: [2]\n",
            "Validation on group[7] of 10 classes\n",
            "val loss: 0.04305119227085795\n",
            "val acc: 0.11383928571428571\n",
            "Best model updated\n",
            "\n",
            "Group[7]Finished!\n",
            "Best model at epoch 0, best accuracy: 0.11\n",
            "\n",
            "Testing classes seen so far, accuracy: 0.01688508064516129\n",
            "\n",
            "=============================================\n",
            "\n",
            "Epoch[0] loss: 0.047473206395103086 LR: [2]\n",
            "Validation on group[8] of 10 classes\n",
            "val loss: 0.038437766156026294\n",
            "val acc: 0.09598214285714286\n",
            "Best model updated\n",
            "\n",
            "Group[8]Finished!\n",
            "Best model at epoch 0, best accuracy: 0.10\n",
            "\n",
            "Testing classes seen so far, accuracy: 0.012165178571428572\n",
            "\n",
            "=============================================\n",
            "\n",
            "Epoch[0] loss: 0.043053646241464925 LR: [2]\n",
            "Validation on group[9] of 10 classes\n",
            "val loss: 0.03468543663620949\n",
            "val acc: 0.10267857142857142\n",
            "Best model updated\n",
            "\n",
            "Group[9]Finished!\n",
            "Best model at epoch 0, best accuracy: 0.10\n",
            "\n",
            "Testing classes seen so far, accuracy: 0.010717147435897436\n",
            "\n",
            "=============================================\n",
            "\n",
            "#################################\n",
            "\n",
            "\n"
          ],
          "name": "stdout"
        }
      ]
    },
    {
      "cell_type": "markdown",
      "metadata": {
        "id": "UIUvaKyhx0rC"
      },
      "source": [
        "### Store logs in more usable dtype"
      ]
    },
    {
      "cell_type": "code",
      "metadata": {
        "id": "1-uV6X0yxzQc"
      },
      "source": [
        "train_loss = [[logs[run_i]['group_train_loss'][i] for i in range(10)] for run_i in range(len(RANDOM_SEED))]\n",
        "train_accuracy = [[logs[run_i]['group_train_accuracies'][i] for i in range(10)] for run_i in range(len(RANDOM_SEED))]\n",
        "val_loss = [[logs[run_i]['val_losses'][i] for i in range(10)] for run_i in range(len(RANDOM_SEED))]\n",
        "val_accuracy = [[logs[run_i]['val_accuracies'][i] for i in range(10)] for run_i in range(len(RANDOM_SEED))]\n",
        "test_accuracy = [[logs[run_i]['test_accuracies'][i] for i in range(10)] for run_i in range(len(RANDOM_SEED))]"
      ],
      "execution_count": 9,
      "outputs": []
    },
    {
      "cell_type": "markdown",
      "metadata": {
        "id": "6r_ybcCLmc2R"
      },
      "source": [
        "### Save the model"
      ]
    },
    {
      "cell_type": "markdown",
      "metadata": {
        "id": "nIG3hIOkyFNs"
      },
      "source": [
        "#### Saving logs in JSON files"
      ]
    },
    {
      "cell_type": "code",
      "metadata": {
        "id": "mF_GR4KAyNYs"
      },
      "source": [
        "import json\n",
        "with open('FineTuning_train_loss.json', 'w') as a:\n",
        "  json.dump(train_loss, a)\n",
        "a.close\n",
        "with open('FineTuning_train_accuracy.json', 'w') as b:\n",
        "  json.dump(train_accuracy, b)\n",
        "\n",
        "with open('FineTuning_val_loss.json', 'w') as c:\n",
        "  json.dump(val_loss, c)  \n",
        "\n",
        "with open('FineTuning_val_accuracy.json', 'w') as d:\n",
        "  json.dump(val_accuracy, d)\n",
        "\n",
        "with open('FineTuning_test_accuracy.json', 'w') as e:\n",
        "  json.dump(test_accuracy, e)\n"
      ],
      "execution_count": 10,
      "outputs": []
    },
    {
      "cell_type": "markdown",
      "metadata": {
        "id": "JoVU9_V4zXOL"
      },
      "source": [
        "#### Saving best resnet on 100 classes for each seed"
      ]
    },
    {
      "cell_type": "code",
      "metadata": {
        "id": "nukM57Euzgr9"
      },
      "source": [
        "for i in range(len(RANDOM_SEED)):\n",
        "  torch.save(best_net_tot_classes[i].state_dict(), \"./FineTuning_bestnet_seed[{}]\".format(i))"
      ],
      "execution_count": 11,
      "outputs": []
    },
    {
      "cell_type": "markdown",
      "metadata": {
        "id": "2NMLqiIS19IJ"
      },
      "source": [
        "### Print some graphs"
      ]
    },
    {
      "cell_type": "code",
      "metadata": {
        "id": "G6Mg2QiIBNRo"
      },
      "source": [
        "from data.utils_plot import plot_train_val, plot_test_accuracies, plot_confusion_matrix"
      ],
      "execution_count": 12,
      "outputs": []
    },
    {
      "cell_type": "code",
      "metadata": {
        "id": "M2QzOlExmhKo"
      },
      "source": [
        "train_loss = np.array(train_loss)\n",
        "train_accuracy = np.array(train_accuracy)\n",
        "val_loss = np.array(val_loss)\n",
        "val_accuracy = np.array(val_accuracy)\n",
        "test_accuracy = np.array(test_accuracy)\n",
        "\n",
        "train_loss_stats = np.array([train_loss.mean(0), train_loss.std(0)]).transpose()\n",
        "train_accuracy_stats = np.array([train_accuracy.mean(0), train_accuracy.std(0)]).transpose()\n",
        "val_loss_stats = np.array([val_loss.mean(0), val_loss.std(0)]).transpose()\n",
        "val_accuracy_stats = np.array([val_accuracy.mean(0), val_accuracy.std(0)]).transpose()\n",
        "test_accuracy_stats = np.array([test_accuracy.mean(0), test_accuracy.std(0)]).transpose()"
      ],
      "execution_count": 13,
      "outputs": []
    },
    {
      "cell_type": "markdown",
      "metadata": {
        "id": "6rB0p1PlFxrc"
      },
      "source": [
        "#### Train validation loss"
      ]
    },
    {
      "cell_type": "code",
      "metadata": {
        "id": "xy7FS53Mmmg-",
        "outputId": "a854e53d-7a96-41f6-8f45-19b9b6277a34",
        "colab": {
          "base_uri": "https://localhost:8080/",
          "height": 456
        }
      },
      "source": [
        "plot_train_val(train_loss_stats, val_loss_stats, loss = True)"
      ],
      "execution_count": 14,
      "outputs": [
        {
          "output_type": "display_data",
          "data": {
            "image/png": "[encoded data removed]",
            "text/plain": [
              "<Figure size 1000x500 with 1 Axes>"
            ]
          },
          "metadata": {
            "tags": [],
            "needs_background": "light"
          }
        }
      ]
    },
    {
      "cell_type": "markdown",
      "metadata": {
        "id": "Hb_RNTNKF18b"
      },
      "source": [
        "#### Train validation accuracy"
      ]
    },
    {
      "cell_type": "code",
      "metadata": {
        "id": "05IT5LFUBBBV",
        "outputId": "024a2173-5ed6-4c36-9820-05f39a1310dc",
        "colab": {
          "base_uri": "https://localhost:8080/",
          "height": 456
        }
      },
      "source": [
        "plot_train_val(train_accuracy_stats, val_accuracy_stats, loss = False)"
      ],
      "execution_count": 15,
      "outputs": [
        {
          "output_type": "display_data",
          "data": {
            "image/png": "[encoded data removed]",
            "text/plain": [
              "<Figure size 1000x500 with 1 Axes>"
            ]
          },
          "metadata": {
            "tags": [],
            "needs_background": "light"
          }
        }
      ]
    },
    {
      "cell_type": "markdown",
      "metadata": {
        "id": "llzylw_LF7e_"
      },
      "source": [
        "#### Test accuracy"
      ]
    },
    {
      "cell_type": "code",
      "metadata": {
        "id": "Bou4H0k9mteX",
        "outputId": "5db4522b-eac3-4b36-a286-c22e0694d207",
        "colab": {
          "base_uri": "https://localhost:8080/",
          "height": 474
        }
      },
      "source": [
        "plot_test_accuracies(test_accuracy_stats)"
      ],
      "execution_count": 16,
      "outputs": [
        {
          "output_type": "stream",
          "text": [
            "No handles with labels found to put in legend.\n"
          ],
          "name": "stderr"
        },
        {
          "output_type": "display_data",
          "data": {
            "image/png": "[encoded data removed]",
            "text/plain": [
              "<Figure size 1000x500 with 1 Axes>"
            ]
          },
          "metadata": {
            "tags": [],
            "needs_background": "light"
          }
        }
      ]
    },
    {
      "cell_type": "markdown",
      "metadata": {
        "id": "gN6cighYm1nG"
      },
      "source": [
        "#### Confusion Matrix"
      ]
    },
    {
      "cell_type": "code",
      "metadata": {
        "id": "LPG6aNRjm5Se",
        "outputId": "9e6ca7a6-c89d-40ea-c336-2678e4ab2b76",
        "colab": {
          "base_uri": "https://localhost:8080/",
          "height": 1000
        }
      },
      "source": [
        "for run in range(len(RANDOM_SEED)):\n",
        "  targets = logs[run]['true_labels'].cpu().data.numpy()\n",
        "  preds = logs[run]['predictions'].cpu().data.numpy()\n",
        "\n",
        "  plot_confusion_matrix(targets, preds, RANDOM_SEED[run], 'FineTuning')"
      ],
      "execution_count": 17,
      "outputs": [
        {
          "output_type": "display_data",
          "data": {
            "image/png": "[encoded data removed]",
            "text/plain": [
              "<Figure size 500x500 with 2 Axes>"
            ]
          },
          "metadata": {
            "tags": [],
            "needs_background": "light"
          }
        },
        {
          "output_type": "display_data",
          "data": {
            "image/png": "[encoded data removed]",
            "text/plain": [
              "<Figure size 500x500 with 2 Axes>"
            ]
          },
          "metadata": {
            "tags": [],
            "needs_background": "light"
          }
        },
        {
          "output_type": "display_data",
          "data": {
            "image/png": "[encoded data removed]",
            "text/plain": [
              "<Figure size 500x500 with 2 Axes>"
            ]
          },
          "metadata": {
            "tags": [],
            "needs_background": "light"
          }
        }
      ]
    },
    {
      "cell_type": "markdown",
      "metadata": {
        "id": "d2VPuBu-m9zI"
      },
      "source": [
        "### Load modello da spostare"
      ]
    },
    {
      "cell_type": "code",
      "metadata": {
        "id": "4rM1WE1lt1dq"
      },
      "source": [
        "model2 = resnet32()\n",
        "\n",
        "in_features = model2.fc.in_features  # size of each input sample\n",
        "out_features = model2.fc.out_features  # size of each output sample\n",
        "weight = model2.fc.weight.data\n",
        "model2.fc = nn.Linear(in_features, 100)\n",
        "model2.fc.weight.data[:out_features] = weight"
      ],
      "execution_count": null,
      "outputs": []
    },
    {
      "cell_type": "code",
      "metadata": {
        "id": "gc-chHjtt_dd"
      },
      "source": [
        "model2.load_state_dict(torch.load(\"./state\"))"
      ],
      "execution_count": null,
      "outputs": []
    },
    {
      "cell_type": "code",
      "metadata": {
        "id": "UOwzQxZGuFSk"
      },
      "source": [
        "trainer2 = Trainer(DEVICE,\n",
        "                    model2,\n",
        "                    LR,\n",
        "                    MOMENTUM,\n",
        "                    WEIGHT_DECAY,\n",
        "                    MILESTONES,\n",
        "                    GAMMA,\n",
        "                    train_dl,\n",
        "                    val_dl,\n",
        "                    test_dl)"
      ],
      "execution_count": null,
      "outputs": []
    },
    {
      "cell_type": "code",
      "metadata": {
        "id": "LqRMb4g2uG2m"
      },
      "source": [
        "trainer.best_net = model2.cuda()\n",
        "\n",
        "#trainer.test()"
      ],
      "execution_count": null,
      "outputs": []
    },
    {
      "cell_type": "code",
      "metadata": {
        "id": "clPyN8yC2dYE"
      },
      "source": [
        "\n",
        "#load\n",
        "f = open('FineTuning_logs.json')\n",
        "x = json.load(f)"
      ],
      "execution_count": null,
      "outputs": []
    }
  ]
}