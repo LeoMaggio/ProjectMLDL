{
  "nbformat": 4,
  "nbformat_minor": 0,
  "metadata": {
    "colab": {
      "name": "FineTuning.ipynb",
      "provenance": [],
      "include_colab_link": true
    },
    "kernelspec": {
      "name": "python3",
      "display_name": "Python 3"
    },
    "language_info": {
      "name": "python"
    },
    "accelerator": "GPU",
    "widgets": {
      "application/vnd.jupyter.widget-state+json": {
        "c187ce620aa441b4946e988fc2135deb": {
          "model_module": "@jupyter-widgets/controls",
          "model_name": "HBoxModel",
          "state": {
            "_view_name": "HBoxView",
            "_dom_classes": [],
            "_model_name": "HBoxModel",
            "_view_module": "@jupyter-widgets/controls",
            "_model_module_version": "1.5.0",
            "_view_count": null,
            "_view_module_version": "1.5.0",
            "box_style": "",
            "layout": "IPY_MODEL_4fc0af8e9d4d446b915b2eaf878610ca",
            "_model_module": "@jupyter-widgets/controls",
            "children": [
              "IPY_MODEL_52566014834842879e2558d27d7b5773",
              "IPY_MODEL_d9bfa808bb27473bb1cc8cfd525c073d"
            ]
          }
        },
        "4fc0af8e9d4d446b915b2eaf878610ca": {
          "model_module": "@jupyter-widgets/base",
          "model_name": "LayoutModel",
          "state": {
            "_view_name": "LayoutView",
            "grid_template_rows": null,
            "right": null,
            "justify_content": null,
            "_view_module": "@jupyter-widgets/base",
            "overflow": null,
            "_model_module_version": "1.2.0",
            "_view_count": null,
            "flex_flow": null,
            "width": null,
            "min_width": null,
            "border": null,
            "align_items": null,
            "bottom": null,
            "_model_module": "@jupyter-widgets/base",
            "top": null,
            "grid_column": null,
            "overflow_y": null,
            "overflow_x": null,
            "grid_auto_flow": null,
            "grid_area": null,
            "grid_template_columns": null,
            "flex": null,
            "_model_name": "LayoutModel",
            "justify_items": null,
            "grid_row": null,
            "max_height": null,
            "align_content": null,
            "visibility": null,
            "align_self": null,
            "height": null,
            "min_height": null,
            "padding": null,
            "grid_auto_rows": null,
            "grid_gap": null,
            "max_width": null,
            "order": null,
            "_view_module_version": "1.2.0",
            "grid_template_areas": null,
            "object_position": null,
            "object_fit": null,
            "grid_auto_columns": null,
            "margin": null,
            "display": null,
            "left": null
          }
        },
        "52566014834842879e2558d27d7b5773": {
          "model_module": "@jupyter-widgets/controls",
          "model_name": "FloatProgressModel",
          "state": {
            "_view_name": "ProgressView",
            "style": "IPY_MODEL_8993577621384049a94ce4f0c27618cd",
            "_dom_classes": [],
            "description": "",
            "_model_name": "FloatProgressModel",
            "bar_style": "success",
            "max": 1,
            "_view_module": "@jupyter-widgets/controls",
            "_model_module_version": "1.5.0",
            "value": 1,
            "_view_count": null,
            "_view_module_version": "1.5.0",
            "orientation": "horizontal",
            "min": 0,
            "description_tooltip": null,
            "_model_module": "@jupyter-widgets/controls",
            "layout": "IPY_MODEL_17861f4448e149809be4eff8ce88d736"
          }
        },
        "d9bfa808bb27473bb1cc8cfd525c073d": {
          "model_module": "@jupyter-widgets/controls",
          "model_name": "HTMLModel",
          "state": {
            "_view_name": "HTMLView",
            "style": "IPY_MODEL_5e11dcbd34794506ab872725a32a240f",
            "_dom_classes": [],
            "description": "",
            "_model_name": "HTMLModel",
            "placeholder": "​",
            "_view_module": "@jupyter-widgets/controls",
            "_model_module_version": "1.5.0",
            "value": " 169009152/? [00:05&lt;00:00, 31216481.80it/s]",
            "_view_count": null,
            "_view_module_version": "1.5.0",
            "description_tooltip": null,
            "_model_module": "@jupyter-widgets/controls",
            "layout": "IPY_MODEL_773dab73fddc495a80e97b6bb2664e2c"
          }
        },
        "8993577621384049a94ce4f0c27618cd": {
          "model_module": "@jupyter-widgets/controls",
          "model_name": "ProgressStyleModel",
          "state": {
            "_view_name": "StyleView",
            "_model_name": "ProgressStyleModel",
            "description_width": "initial",
            "_view_module": "@jupyter-widgets/base",
            "_model_module_version": "1.5.0",
            "_view_count": null,
            "_view_module_version": "1.2.0",
            "bar_color": null,
            "_model_module": "@jupyter-widgets/controls"
          }
        },
        "17861f4448e149809be4eff8ce88d736": {
          "model_module": "@jupyter-widgets/base",
          "model_name": "LayoutModel",
          "state": {
            "_view_name": "LayoutView",
            "grid_template_rows": null,
            "right": null,
            "justify_content": null,
            "_view_module": "@jupyter-widgets/base",
            "overflow": null,
            "_model_module_version": "1.2.0",
            "_view_count": null,
            "flex_flow": null,
            "width": null,
            "min_width": null,
            "border": null,
            "align_items": null,
            "bottom": null,
            "_model_module": "@jupyter-widgets/base",
            "top": null,
            "grid_column": null,
            "overflow_y": null,
            "overflow_x": null,
            "grid_auto_flow": null,
            "grid_area": null,
            "grid_template_columns": null,
            "flex": null,
            "_model_name": "LayoutModel",
            "justify_items": null,
            "grid_row": null,
            "max_height": null,
            "align_content": null,
            "visibility": null,
            "align_self": null,
            "height": null,
            "min_height": null,
            "padding": null,
            "grid_auto_rows": null,
            "grid_gap": null,
            "max_width": null,
            "order": null,
            "_view_module_version": "1.2.0",
            "grid_template_areas": null,
            "object_position": null,
            "object_fit": null,
            "grid_auto_columns": null,
            "margin": null,
            "display": null,
            "left": null
          }
        },
        "5e11dcbd34794506ab872725a32a240f": {
          "model_module": "@jupyter-widgets/controls",
          "model_name": "DescriptionStyleModel",
          "state": {
            "_view_name": "StyleView",
            "_model_name": "DescriptionStyleModel",
            "description_width": "",
            "_view_module": "@jupyter-widgets/base",
            "_model_module_version": "1.5.0",
            "_view_count": null,
            "_view_module_version": "1.2.0",
            "_model_module": "@jupyter-widgets/controls"
          }
        },
        "773dab73fddc495a80e97b6bb2664e2c": {
          "model_module": "@jupyter-widgets/base",
          "model_name": "LayoutModel",
          "state": {
            "_view_name": "LayoutView",
            "grid_template_rows": null,
            "right": null,
            "justify_content": null,
            "_view_module": "@jupyter-widgets/base",
            "overflow": null,
            "_model_module_version": "1.2.0",
            "_view_count": null,
            "flex_flow": null,
            "width": null,
            "min_width": null,
            "border": null,
            "align_items": null,
            "bottom": null,
            "_model_module": "@jupyter-widgets/base",
            "top": null,
            "grid_column": null,
            "overflow_y": null,
            "overflow_x": null,
            "grid_auto_flow": null,
            "grid_area": null,
            "grid_template_columns": null,
            "flex": null,
            "_model_name": "LayoutModel",
            "justify_items": null,
            "grid_row": null,
            "max_height": null,
            "align_content": null,
            "visibility": null,
            "align_self": null,
            "height": null,
            "min_height": null,
            "padding": null,
            "grid_auto_rows": null,
            "grid_gap": null,
            "max_width": null,
            "order": null,
            "_view_module_version": "1.2.0",
            "grid_template_areas": null,
            "object_position": null,
            "object_fit": null,
            "grid_auto_columns": null,
            "margin": null,
            "display": null,
            "left": null
          }
        }
      }
    }
  },
  "cells": [
    {
      "cell_type": "markdown",
      "metadata": {
        "id": "view-in-github",
        "colab_type": "text"
      },
      "source": [
        "<a href=\"https://colab.research.google.com/github/cosminnedescu/ProjectMLDL/blob/main/baselines/FineTuning.ipynb\" target=\"_parent\"><img src=\"https://colab.research.google.com/assets/colab-badge.svg\" alt=\"Open In Colab\"/></a>"
      ]
    },
    {
      "cell_type": "code",
      "metadata": {
        "id": "pJimWkPdQu6y"
      },
      "source": [
        "import os\n",
        "\n",
        "import torch\n",
        "import torch.nn as nn\n",
        "import torch.nn.init as init\n",
        "import torch.optim as optim\n",
        "import torch.nn.functional as F\n",
        "from torch.autograd import Variable\n",
        "\n",
        "import torchvision\n",
        "from torchvision import transforms, datasets, models\n",
        "from torch.utils.data import Subset, DataLoader\n",
        "\n",
        "from PIL import Image\n",
        "\n",
        "import numpy as np\n",
        "import matplotlib \n",
        "import matplotlib.pyplot as plt\n",
        "from sklearn.metrics import confusion_matrix"
      ],
      "execution_count": 1,
      "outputs": []
    },
    {
      "cell_type": "code",
      "metadata": {
        "colab": {
          "base_uri": "https://localhost:8080/"
        },
        "id": "blqZpJkQgn5c",
        "outputId": "b8c3f81f-29ee-448c-c331-e9bae5e73791"
      },
      "source": [
        "%cd ../"
      ],
      "execution_count": null,
      "outputs": [
        {
          "output_type": "stream",
          "text": [
            "/\n"
          ],
          "name": "stdout"
        }
      ]
    },
    {
      "cell_type": "code",
      "metadata": {
        "colab": {
          "base_uri": "https://localhost:8080/"
        },
        "id": "xJRs-JrVsd8j",
        "outputId": "3cd0e688-fb57-41a1-f4e0-1dda2b1cfb3d"
      },
      "source": [
        "%cd content/"
      ],
      "execution_count": null,
      "outputs": [
        {
          "output_type": "stream",
          "text": [
            "/content\n"
          ],
          "name": "stdout"
        }
      ]
    },
    {
      "cell_type": "code",
      "metadata": {
        "id": "u1Wvze6xh3-9"
      },
      "source": [
        "!rm -rf ProjectMLDL"
      ],
      "execution_count": 2,
      "outputs": []
    },
    {
      "cell_type": "code",
      "metadata": {
        "colab": {
          "base_uri": "https://localhost:8080/"
        },
        "id": "XQQd0qWVgue_",
        "outputId": "931244e3-db98-4be1-b6e5-f2c84506f5cc"
      },
      "source": [
        "!ls"
      ],
      "execution_count": null,
      "outputs": [
        {
          "output_type": "stream",
          "text": [
            "sample_data\n"
          ],
          "name": "stdout"
        }
      ]
    },
    {
      "cell_type": "code",
      "metadata": {
        "id": "yjntw1jZQ7Lg",
        "colab": {
          "base_uri": "https://localhost:8080/"
        },
        "outputId": "416d9664-1b29-45ab-a465-f236fac87b8e"
      },
      "source": [
        "if not os.path.isdir('/content/ProjectMLDL'):\n",
        "  !git clone https://github.com/cosminnedescu/ProjectMLDL.git\n",
        "  %cd /content/ProjectMLDL\n",
        "  !rm -rf LICENSE README.md"
      ],
      "execution_count": 3,
      "outputs": [
        {
          "output_type": "stream",
          "text": [
            "Cloning into 'ProjectMLDL'...\n",
            "remote: Enumerating objects: 22, done.\u001b[K\n",
            "remote: Counting objects: 100% (22/22), done.\u001b[K\n",
            "remote: Compressing objects: 100% (17/17), done.\u001b[K\n",
            "remote: Total 22 (delta 2), reused 0 (delta 0), pack-reused 0\u001b[K\n",
            "Unpacking objects: 100% (22/22), done.\n",
            "/content/ProjectMLDL\n"
          ],
          "name": "stdout"
        }
      ]
    },
    {
      "cell_type": "code",
      "metadata": {
        "id": "CvkF4W62dSp8"
      },
      "source": [
        "from data.cifar100 import CIFAR100\n",
        "from model.resnet32 import resnet32\n",
        "import data.utils"
      ],
      "execution_count": 4,
      "outputs": []
    },
    {
      "cell_type": "code",
      "metadata": {
        "id": "XwomFTtQo1x-"
      },
      "source": [
        "# True mean and std of Cifar100 dataset (src=\"https://gist.github.com/weiaicunzai/e623931921efefd4c331622c344d8151\")\n",
        "mean = [0.5071, 0.4867, 0.4408]\n",
        "std = [0.2675, 0.2565, 0.2761]\n",
        "\n",
        "train_transform = transforms.Compose([\n",
        "    transforms.RandomCrop(32, padding=4),\n",
        "    transforms.RandomHorizontalFlip(),\n",
        "    transforms.ToTensor(),\n",
        "    transforms.Normalize(mean, std),\n",
        "])\n",
        "test_transform = transforms.Compose(\n",
        "    [transforms.ToTensor(), \n",
        "     transforms.Normalize(mean, std),\n",
        "     ])"
      ],
      "execution_count": 5,
      "outputs": []
    },
    {
      "cell_type": "code",
      "metadata": {
        "colab": {
          "base_uri": "https://localhost:8080/",
          "height": 117,
          "referenced_widgets": [
            "c187ce620aa441b4946e988fc2135deb",
            "4fc0af8e9d4d446b915b2eaf878610ca",
            "52566014834842879e2558d27d7b5773",
            "d9bfa808bb27473bb1cc8cfd525c073d",
            "8993577621384049a94ce4f0c27618cd",
            "17861f4448e149809be4eff8ce88d736",
            "5e11dcbd34794506ab872725a32a240f",
            "773dab73fddc495a80e97b6bb2664e2c"
          ]
        },
        "id": "BCz7GGfdpRiL",
        "outputId": "60ba5c7d-68fc-45ae-ae90-7d9d9753c7d6"
      },
      "source": [
        "train_data = CIFAR100(\"dataset\", train=True, transform=train_transform, download=True)\n",
        "test_data = CIFAR100(\"dataset\", train=False, transform=test_transform, download=True)"
      ],
      "execution_count": 6,
      "outputs": [
        {
          "output_type": "stream",
          "text": [
            "Downloading https://www.cs.toronto.edu/~kriz/cifar-100-python.tar.gz to dataset/cifar-100-python.tar.gz\n"
          ],
          "name": "stdout"
        },
        {
          "output_type": "display_data",
          "data": {
            "application/vnd.jupyter.widget-view+json": {
              "model_id": "c187ce620aa441b4946e988fc2135deb",
              "version_minor": 0,
              "version_major": 2
            },
            "text/plain": [
              "HBox(children=(FloatProgress(value=1.0, bar_style='info', max=1.0), HTML(value='')))"
            ]
          },
          "metadata": {
            "tags": []
          }
        },
        {
          "output_type": "stream",
          "text": [
            "Extracting dataset/cifar-100-python.tar.gz to dataset\n",
            "\n",
            "Files already downloaded and verified\n"
          ],
          "name": "stdout"
        }
      ]
    },
    {
      "cell_type": "code",
      "metadata": {
        "colab": {
          "base_uri": "https://localhost:8080/",
          "height": 283
        },
        "id": "cGlVf385aUDd",
        "outputId": "60397662-0d75-42de-929f-fc93dfa310ff"
      },
      "source": [
        "#check images and labels after shuffle\n",
        "#https://github.com/keras-team/keras/issues/2653#issuecomment-450133996\n",
        "import matplotlib.pyplot as plt\n",
        "\n",
        "plt.imshow(train_data.data[6])\n",
        "print(\"classe: {}\".format(train_data.targets[6]))"
      ],
      "execution_count": 7,
      "outputs": [
        {
          "output_type": "stream",
          "text": [
            "classe: 90\n"
          ],
          "name": "stdout"
        },
        {
          "output_type": "display_data",
          "data": {
            "image/png": "[encoded data removed]",
            "text/plain": [
              "<Figure size 432x288 with 1 Axes>"
            ]
          },
          "metadata": {
            "tags": [],
            "needs_background": "light"
          }
        }
      ]
    },
    {
      "cell_type": "code",
      "metadata": {
        "id": "nmEo_9lnwyBk"
      },
      "source": [
        "RANDOM_SEED = [42,13,10]\n",
        "# Settings\n",
        "DEVICE = 'cuda'\n",
        "\n",
        "NUM_CLASSES = 100       # Total number of classes\n",
        "\n",
        "VAL_SIZE = 0.1          # Proportion of validation set with respect to training set (between 0 and 1)\n",
        "\n",
        "# Training\n",
        "BATCH_SIZE = 128        # Batch size\n",
        "LR = 2                  # Initial learning rate\n",
        "                       \n",
        "MOMENTUM = 0.9          # Momentum for stochastic gradient descent (SGD)\n",
        "WEIGHT_DECAY = 1e-5     # Weight decay from iCaRL\n",
        "\n",
        "NUM_RUNS = 3            # Number of runs of every method\n",
        "                        # Note: this should be at least 3 to have a fair benchmark\n",
        "\n",
        "NUM_EPOCHS = 70         # Total number of training epochs\n",
        "MILESTONES = [49, 63]   # Step down policy from iCaRL (MultiStepLR)\n",
        "                        # Decrease the learning rate by gamma at each milestone\n",
        "GAMMA = 0.2             # Gamma factor from iCaRL"
      ],
      "execution_count": 8,
      "outputs": []
    },
    {
      "cell_type": "code",
      "metadata": {
        "id": "3mr8mBkBx7BV"
      },
      "source": [
        "criterion = nn.CrossEntropyLoss()"
      ],
      "execution_count": 9,
      "outputs": []
    },
    {
      "cell_type": "code",
      "metadata": {
        "id": "hajNZJmbcui9",
        "colab": {
          "base_uri": "https://localhost:8080/"
        },
        "outputId": "bb7773ab-a991-458e-c2c3-bc2290c0664e"
      },
      "source": [
        "train_dataloader = [[] for i in range(len(RANDOM_SEED))]\n",
        "test_dataloader = [[] for i in range(len(RANDOM_SEED))]\n",
        "\n",
        "for run_i in range(len(RANDOM_SEED)):\n",
        "  random_state = RANDOM_SEED[run_i]\n",
        "  subset_train = []\n",
        "  subset_test = []\n",
        "\n",
        "  train_data.__shuffle_seed__(RANDOM_SEED[run_i])\n",
        "  test_data.__shuffle_seed__(RANDOM_SEED[run_i])\n",
        "\n",
        "  indexes_train_data = train_data.__incremental_indexes__(True)\n",
        "  indexes_test_data = test_data.__incremental_indexes__(False)\n",
        "\n",
        "  for i in range(10):\n",
        "    train_dataset = Subset(train_data, indexes_train_data[i])\n",
        "    subset_train.append(train_dataset) #[[train0],[train1],...]\n",
        "    train_dataloader[run_i].append(DataLoader(subset_train[i],\n",
        "                                              batch_size=BATCH_SIZE,\n",
        "                                              shuffle=True,\n",
        "                                              num_workers=4,\n",
        "                                              drop_last=True))\n",
        "    \n",
        "    test_dataset = Subset(test_data, indexes_test_data[i])\n",
        "    subset_test.append(test_dataset) #[[train0],[train1],...]\n",
        "    test_dataloader[run_i].append(DataLoader(subset_test[i],\n",
        "                                              batch_size=BATCH_SIZE,\n",
        "                                              shuffle=True,\n",
        "                                              num_workers=4,\n",
        "                                              drop_last=True))\n",
        "    \n"
      ],
      "execution_count": 10,
      "outputs": [
        {
          "output_type": "stream",
          "text": [
            "/usr/local/lib/python3.7/dist-packages/torch/utils/data/dataloader.py:477: UserWarning: This DataLoader will create 4 worker processes in total. Our suggested max number of worker in current system is 2, which is smaller than what this DataLoader is going to create. Please be aware that excessive worker creation might get DataLoader running slow or even freeze, lower the worker number to avoid potential slowness/freeze if necessary.\n",
            "  cpuset_checked))\n"
          ],
          "name": "stderr"
        }
      ]
    },
    {
      "cell_type": "code",
      "metadata": {
        "id": "LUYTSpVYfCMG",
        "colab": {
          "base_uri": "https://localhost:8080/",
          "height": 354
        },
        "outputId": "9df83b29-ea57-4cce-f3c0-7b2da4275377"
      },
      "source": [
        "from data.utils_plot import check_cifar100_dataloader\n",
        "check_cifar100_dataloader(test_dataloader)"
      ],
      "execution_count": 11,
      "outputs": [
        {
          "output_type": "stream",
          "text": [
            "/usr/local/lib/python3.7/dist-packages/torch/utils/data/dataloader.py:477: UserWarning: This DataLoader will create 4 worker processes in total. Our suggested max number of worker in current system is 2, which is smaller than what this DataLoader is going to create. Please be aware that excessive worker creation might get DataLoader running slow or even freeze, lower the worker number to avoid potential slowness/freeze if necessary.\n",
            "  cpuset_checked))\n",
            "Clipping input data to the valid range for imshow with RGB data ([0..1] for floats or [0..255] for integers).\n"
          ],
          "name": "stderr"
        },
        {
          "output_type": "stream",
          "text": [
            "chimpanzee\n"
          ],
          "name": "stdout"
        },
        {
          "output_type": "display_data",
          "data": {
            "image/png": "[encoded data removed]",
            "text/plain": [
              "<Figure size 432x288 with 1 Axes>"
            ]
          },
          "metadata": {
            "tags": [],
            "needs_background": "light"
          }
        }
      ]
    },
    {
      "cell_type": "code",
      "metadata": {
        "id": "-hNLpdJTWSR1"
      },
      "source": [
        "class FineTuning(nn.Module):\n",
        "  def __init__(self, n_classes):\n",
        "    super(FineTuning, self).__init__()\n",
        "    self.feature_extractor = resnet32()\n",
        "    self.n_classes = n_classes\n",
        "    self.n_known = 0\n",
        "    self.p = self.parameters()\n",
        "    self.fc = nn.Linear(10, n_classes, bias = True)\n",
        "\n",
        "  def forward(self, x):\n",
        "    x = self.feature_extractor(x)\n",
        "    x = self.fc(x)\n",
        "    return x\n",
        "\n",
        "  def increment_classes(self, n):\n",
        "    in_features = self.feature_extractor.in_features\n",
        "    out_features = self.fc.out_features\n",
        "    weight = self.fc.weight.data\n",
        "    bias = self.fc.bias.data\n",
        "\n",
        "    self.fc = nn.Linear(in_features, out_features+n, bias=True)\n",
        "    self.fc.weight.data[:out_features] = weight\n",
        "    self.fc.bias.data[:out_features] = bias\n",
        "    self.n_classes += n\n"
      ],
      "execution_count": 26,
      "outputs": []
    },
    {
      "cell_type": "code",
      "metadata": {
        "id": "QvbNmnd_WWH0",
        "outputId": "c2b2e021-debe-4b6d-c558-249ca444473b",
        "colab": {
          "base_uri": "https://localhost:8080/",
          "height": 489
        }
      },
      "source": [
        "train_dataloader = [[] for i in range(len(RANDOM_SEED))]\n",
        "test_dataloader = [[] for i in range(len(RANDOM_SEED))]\n",
        "\n",
        "best_acc = []\n",
        "tot_matrix = []\n",
        "tot_labe = []\n",
        "\n",
        "#net = FineTuning(10)\n",
        "net = resnet32()\n",
        "\n",
        "\n",
        "for run_i in range(len(RANDOM_SEED)):\n",
        "  random_state = RANDOM_SEED[run_i]\n",
        "  subset_train = []\n",
        "  subset_test = []\n",
        "\n",
        "  train_data.__shuffle_seed__(RANDOM_SEED[run_i])\n",
        "  test_data.__shuffle_seed__(RANDOM_SEED[run_i])\n",
        "\n",
        "  indexes_train_data = train_data.__incremental_indexes__(True)\n",
        "  indexes_test_data = test_data.__incremental_indexes__(False)\n",
        "\n",
        "  train_dataloader = []\n",
        "  test_dataloader = []\n",
        "\n",
        "  for i in range(10):\n",
        "    train_dataset = Subset(train_data, indexes_train_data[i])\n",
        "    subset_train.append(train_dataset) #[[train0],[train1],...]\n",
        "    train_dataloader=DataLoader(subset_train[i],\n",
        "                                              batch_size=BATCH_SIZE,\n",
        "                                              shuffle=True,\n",
        "                                              num_workers=4,\n",
        "                                              drop_last=True)\n",
        "    \n",
        "    test_dataset = Subset(test_data, indexes_test_data[i])\n",
        "    subset_test.append(test_dataset) #[[train0],[train1],...]\n",
        "    test_dataloader=DataLoader(subset_test[i],\n",
        "                                              batch_size=BATCH_SIZE,\n",
        "                                              shuffle=True,\n",
        "                                              num_workers=4,\n",
        "                                              drop_last=True)\n",
        "    net.cuda()\n",
        "    if(i!=0):\n",
        "      net.addOutputNodes(10)\n",
        "      \n",
        "    net.train()\n",
        "    \n",
        "    p = net.parameters()\n",
        "    optimizer = optim.SGD(p, lr=LR, momentum=MOMENTUM, weight_decay=WEIGHT_DECAY)\n",
        "    scheduler = optim.lr_scheduler.MultiStepLR(optimizer, milestones=MILESTONES, gamma=GAMMA)\n",
        "\n",
        "    matrix = []\n",
        "    labe = []    \n",
        "    b_ac = 0\n",
        "    #Training\n",
        "\n",
        "    for epoch in range(0, NUM_EPOCHS):\n",
        "      running_corrects = 0\n",
        "      total = 0\n",
        "\n",
        "      for indices, images, labels in train_dataloader:\n",
        "        images = Variable(images).cuda()\n",
        "        labels = Variable(labels).cuda()\n",
        "        indices = indices.cuda()\n",
        "        optimizer.zero_grad()\n",
        "        g = net(images)\n",
        "        #print(g)\n",
        "        #g = net.forward(images)\n",
        "        _, preds = torch.max(g, 1)\n",
        "        running_corrects += torch.sum(preds == labels.data).data.item()\n",
        "        total += labels.size(0)\n",
        "\n",
        "\n",
        "        #Loss\n",
        "        g.cuda()\n",
        "        #print(\"Loss1 : {}\".format(loss))\n",
        "        loss = criterion(g, labels)\n",
        "        #print(\"Loss2 : {}\".format(loss))\n",
        "        loss.backward()\n",
        "        #print(\"Loss3 : {}\".format(loss))\n",
        "        optimizer.step()\n",
        "\n",
        "      accuracy = running_corrects / float(total)\n",
        "      scheduler.step()\n",
        "      print ('Epoch (%d/%d), Loss: %.4f, Accuracy: %.2f' %(epoch+1, NUM_EPOCHS, loss, accuracy))\n",
        "\n",
        "      #test\n",
        "      m = []\n",
        "      l = []\n",
        "      #net.train(False)\n",
        "      net.eval()  #per spegnere i layer di dropout\n",
        "      total = 0.0\n",
        "      running_corrects = 0\n",
        "      for indices, images, labels in test_dataloader:\n",
        "        images = Variable(images).cuda()\n",
        "        labels = Variable(labels).cuda()\n",
        "        indices = indices.cuda()\n",
        "        optimizer.zero_grad()\n",
        "        g = net(images)\n",
        "        #g = net.forward(images)\n",
        "        _, preds = torch.max(g, 1)\n",
        "        running_corrects += torch.sum(preds == labels.data).data.item()\n",
        "        total += labels.size(0)\n",
        "\n",
        "        m.extend(preds)\n",
        "        l.extend(labels)\n",
        "\n",
        "      matrix.append(m)\n",
        "      labe.append(l)\n",
        "\n",
        "      accuracy = float(running_corrects / float(total))\n",
        "      print('Test Accuracy', accuracy)\n",
        "\n",
        "      if(b_ac < accuracy):\n",
        "        b_ac = accuracy\n",
        "      \n",
        "  tot_matrix.append(matrix)\n",
        "  tot_labe.append(labe)\n",
        "  best_acc.append(b_ac)\n",
        "    \n"
      ],
      "execution_count": 37,
      "outputs": [
        {
          "output_type": "stream",
          "text": [
            "/usr/local/lib/python3.7/dist-packages/torch/utils/data/dataloader.py:477: UserWarning: This DataLoader will create 4 worker processes in total. Our suggested max number of worker in current system is 2, which is smaller than what this DataLoader is going to create. Please be aware that excessive worker creation might get DataLoader running slow or even freeze, lower the worker number to avoid potential slowness/freeze if necessary.\n",
            "  cpuset_checked))\n"
          ],
          "name": "stderr"
        },
        {
          "output_type": "stream",
          "text": [
            "Epoch (1/70), Loss: 2.3369, Accuracy: 0.11\n",
            "Test Accuracy 0.007612179487179487\n",
            "Epoch (2/70), Loss: nan, Accuracy: 0.10\n",
            "Test Accuracy 0.010016025641025642\n",
            "Epoch (3/70), Loss: nan, Accuracy: 0.10\n",
            "Test Accuracy 0.010016025641025642\n",
            "Epoch (4/70), Loss: nan, Accuracy: 0.10\n",
            "Test Accuracy 0.010016025641025642\n",
            "Epoch (5/70), Loss: nan, Accuracy: 0.10\n",
            "Test Accuracy 0.009915865384615384\n",
            "Epoch (6/70), Loss: nan, Accuracy: 0.10\n",
            "Test Accuracy 0.010016025641025642\n"
          ],
          "name": "stdout"
        },
        {
          "output_type": "error",
          "ename": "KeyboardInterrupt",
          "evalue": "ignored",
          "traceback": [
            "\u001b[0;31m---------------------------------------------------------------------------\u001b[0m",
            "\u001b[0;31mKeyboardInterrupt\u001b[0m                         Traceback (most recent call last)",
            "\u001b[0;32m<ipython-input-37-cd76b8fac94d>\u001b[0m in \u001b[0;36m<module>\u001b[0;34m()\u001b[0m\n\u001b[1;32m     60\u001b[0m \u001b[0;34m\u001b[0m\u001b[0m\n\u001b[1;32m     61\u001b[0m       \u001b[0;32mfor\u001b[0m \u001b[0mindices\u001b[0m\u001b[0;34m,\u001b[0m \u001b[0mimages\u001b[0m\u001b[0;34m,\u001b[0m \u001b[0mlabels\u001b[0m \u001b[0;32min\u001b[0m \u001b[0mtrain_dataloader\u001b[0m\u001b[0;34m:\u001b[0m\u001b[0;34m\u001b[0m\u001b[0;34m\u001b[0m\u001b[0m\n\u001b[0;32m---> 62\u001b[0;31m         \u001b[0mimages\u001b[0m \u001b[0;34m=\u001b[0m \u001b[0mVariable\u001b[0m\u001b[0;34m(\u001b[0m\u001b[0mimages\u001b[0m\u001b[0;34m)\u001b[0m\u001b[0;34m.\u001b[0m\u001b[0mcuda\u001b[0m\u001b[0;34m(\u001b[0m\u001b[0;34m)\u001b[0m\u001b[0;34m\u001b[0m\u001b[0;34m\u001b[0m\u001b[0m\n\u001b[0m\u001b[1;32m     63\u001b[0m         \u001b[0mlabels\u001b[0m \u001b[0;34m=\u001b[0m \u001b[0mVariable\u001b[0m\u001b[0;34m(\u001b[0m\u001b[0mlabels\u001b[0m\u001b[0;34m)\u001b[0m\u001b[0;34m.\u001b[0m\u001b[0mcuda\u001b[0m\u001b[0;34m(\u001b[0m\u001b[0;34m)\u001b[0m\u001b[0;34m\u001b[0m\u001b[0;34m\u001b[0m\u001b[0m\n\u001b[1;32m     64\u001b[0m         \u001b[0mindices\u001b[0m \u001b[0;34m=\u001b[0m \u001b[0mindices\u001b[0m\u001b[0;34m.\u001b[0m\u001b[0mcuda\u001b[0m\u001b[0;34m(\u001b[0m\u001b[0;34m)\u001b[0m\u001b[0;34m\u001b[0m\u001b[0;34m\u001b[0m\u001b[0m\n",
            "\u001b[0;31mKeyboardInterrupt\u001b[0m: "
          ]
        }
      ]
    }
  ]
}