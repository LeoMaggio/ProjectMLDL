{
  "nbformat": 4,
  "nbformat_minor": 0,
  "metadata": {
    "colab": {
      "name": "FineTuning.ipynb",
      "provenance": [],
      "include_colab_link": true
    },
    "kernelspec": {
      "name": "python3",
      "display_name": "Python 3"
    },
    "language_info": {
      "name": "python"
    },
    "accelerator": "GPU",
    "widgets": {
      "application/vnd.jupyter.widget-state+json": {
        "952a9fae29b04663a0e763ba47bca765": {
          "model_module": "@jupyter-widgets/controls",
          "model_name": "HBoxModel",
          "state": {
            "_view_name": "HBoxView",
            "_dom_classes": [],
            "_model_name": "HBoxModel",
            "_view_module": "@jupyter-widgets/controls",
            "_model_module_version": "1.5.0",
            "_view_count": null,
            "_view_module_version": "1.5.0",
            "box_style": "",
            "layout": "IPY_MODEL_05735ec4094e4b5381769b88ab8e9456",
            "_model_module": "@jupyter-widgets/controls",
            "children": [
              "IPY_MODEL_1059a826cbfe46a294b0c9a5e9bd25cc",
              "IPY_MODEL_eb10a500ea994b6aaa74a65e697ecb53"
            ]
          }
        },
        "05735ec4094e4b5381769b88ab8e9456": {
          "model_module": "@jupyter-widgets/base",
          "model_name": "LayoutModel",
          "state": {
            "_view_name": "LayoutView",
            "grid_template_rows": null,
            "right": null,
            "justify_content": null,
            "_view_module": "@jupyter-widgets/base",
            "overflow": null,
            "_model_module_version": "1.2.0",
            "_view_count": null,
            "flex_flow": null,
            "width": null,
            "min_width": null,
            "border": null,
            "align_items": null,
            "bottom": null,
            "_model_module": "@jupyter-widgets/base",
            "top": null,
            "grid_column": null,
            "overflow_y": null,
            "overflow_x": null,
            "grid_auto_flow": null,
            "grid_area": null,
            "grid_template_columns": null,
            "flex": null,
            "_model_name": "LayoutModel",
            "justify_items": null,
            "grid_row": null,
            "max_height": null,
            "align_content": null,
            "visibility": null,
            "align_self": null,
            "height": null,
            "min_height": null,
            "padding": null,
            "grid_auto_rows": null,
            "grid_gap": null,
            "max_width": null,
            "order": null,
            "_view_module_version": "1.2.0",
            "grid_template_areas": null,
            "object_position": null,
            "object_fit": null,
            "grid_auto_columns": null,
            "margin": null,
            "display": null,
            "left": null
          }
        },
        "1059a826cbfe46a294b0c9a5e9bd25cc": {
          "model_module": "@jupyter-widgets/controls",
          "model_name": "FloatProgressModel",
          "state": {
            "_view_name": "ProgressView",
            "style": "IPY_MODEL_5836e115aaed42d0982592526e57a77e",
            "_dom_classes": [],
            "description": "",
            "_model_name": "FloatProgressModel",
            "bar_style": "info",
            "max": 1,
            "_view_module": "@jupyter-widgets/controls",
            "_model_module_version": "1.5.0",
            "value": 1,
            "_view_count": null,
            "_view_module_version": "1.5.0",
            "orientation": "horizontal",
            "min": 0,
            "description_tooltip": null,
            "_model_module": "@jupyter-widgets/controls",
            "layout": "IPY_MODEL_be7cd4c64d3c4d128238e2c8935ccdf1"
          }
        },
        "eb10a500ea994b6aaa74a65e697ecb53": {
          "model_module": "@jupyter-widgets/controls",
          "model_name": "HTMLModel",
          "state": {
            "_view_name": "HTMLView",
            "style": "IPY_MODEL_8b06c1010e604690b79b85288cb79c5a",
            "_dom_classes": [],
            "description": "",
            "_model_name": "HTMLModel",
            "placeholder": "​",
            "_view_module": "@jupyter-widgets/controls",
            "_model_module_version": "1.5.0",
            "value": " 169009152/? [00:19&lt;00:00, 33939446.73it/s]",
            "_view_count": null,
            "_view_module_version": "1.5.0",
            "description_tooltip": null,
            "_model_module": "@jupyter-widgets/controls",
            "layout": "IPY_MODEL_de17c30ca7ae4a9199ebd6ce9b6bfc0d"
          }
        },
        "5836e115aaed42d0982592526e57a77e": {
          "model_module": "@jupyter-widgets/controls",
          "model_name": "ProgressStyleModel",
          "state": {
            "_view_name": "StyleView",
            "_model_name": "ProgressStyleModel",
            "description_width": "initial",
            "_view_module": "@jupyter-widgets/base",
            "_model_module_version": "1.5.0",
            "_view_count": null,
            "_view_module_version": "1.2.0",
            "bar_color": null,
            "_model_module": "@jupyter-widgets/controls"
          }
        },
        "be7cd4c64d3c4d128238e2c8935ccdf1": {
          "model_module": "@jupyter-widgets/base",
          "model_name": "LayoutModel",
          "state": {
            "_view_name": "LayoutView",
            "grid_template_rows": null,
            "right": null,
            "justify_content": null,
            "_view_module": "@jupyter-widgets/base",
            "overflow": null,
            "_model_module_version": "1.2.0",
            "_view_count": null,
            "flex_flow": null,
            "width": null,
            "min_width": null,
            "border": null,
            "align_items": null,
            "bottom": null,
            "_model_module": "@jupyter-widgets/base",
            "top": null,
            "grid_column": null,
            "overflow_y": null,
            "overflow_x": null,
            "grid_auto_flow": null,
            "grid_area": null,
            "grid_template_columns": null,
            "flex": null,
            "_model_name": "LayoutModel",
            "justify_items": null,
            "grid_row": null,
            "max_height": null,
            "align_content": null,
            "visibility": null,
            "align_self": null,
            "height": null,
            "min_height": null,
            "padding": null,
            "grid_auto_rows": null,
            "grid_gap": null,
            "max_width": null,
            "order": null,
            "_view_module_version": "1.2.0",
            "grid_template_areas": null,
            "object_position": null,
            "object_fit": null,
            "grid_auto_columns": null,
            "margin": null,
            "display": null,
            "left": null
          }
        },
        "8b06c1010e604690b79b85288cb79c5a": {
          "model_module": "@jupyter-widgets/controls",
          "model_name": "DescriptionStyleModel",
          "state": {
            "_view_name": "StyleView",
            "_model_name": "DescriptionStyleModel",
            "description_width": "",
            "_view_module": "@jupyter-widgets/base",
            "_model_module_version": "1.5.0",
            "_view_count": null,
            "_view_module_version": "1.2.0",
            "_model_module": "@jupyter-widgets/controls"
          }
        },
        "de17c30ca7ae4a9199ebd6ce9b6bfc0d": {
          "model_module": "@jupyter-widgets/base",
          "model_name": "LayoutModel",
          "state": {
            "_view_name": "LayoutView",
            "grid_template_rows": null,
            "right": null,
            "justify_content": null,
            "_view_module": "@jupyter-widgets/base",
            "overflow": null,
            "_model_module_version": "1.2.0",
            "_view_count": null,
            "flex_flow": null,
            "width": null,
            "min_width": null,
            "border": null,
            "align_items": null,
            "bottom": null,
            "_model_module": "@jupyter-widgets/base",
            "top": null,
            "grid_column": null,
            "overflow_y": null,
            "overflow_x": null,
            "grid_auto_flow": null,
            "grid_area": null,
            "grid_template_columns": null,
            "flex": null,
            "_model_name": "LayoutModel",
            "justify_items": null,
            "grid_row": null,
            "max_height": null,
            "align_content": null,
            "visibility": null,
            "align_self": null,
            "height": null,
            "min_height": null,
            "padding": null,
            "grid_auto_rows": null,
            "grid_gap": null,
            "max_width": null,
            "order": null,
            "_view_module_version": "1.2.0",
            "grid_template_areas": null,
            "object_position": null,
            "object_fit": null,
            "grid_auto_columns": null,
            "margin": null,
            "display": null,
            "left": null
          }
        }
      }
    }
  },
  "cells": [
    {
      "cell_type": "markdown",
      "metadata": {
        "id": "view-in-github",
        "colab_type": "text"
      },
      "source": [
        "<a href=\"https://colab.research.google.com/github/cosminnedescu/ProjectMLDL/blob/main/baselines/LearningWithoutForgetting-v1_0_2.ipynb\" target=\"_parent\"><img src=\"https://colab.research.google.com/assets/colab-badge.svg\" alt=\"Open In Colab\"/></a>"
      ]
    },
    {
      "cell_type": "code",
      "metadata": {
        "id": "pJimWkPdQu6y"
      },
      "source": [
        "import os\n",
        "import random\n",
        "\n",
        "import torch\n",
        "import torch.nn as nn\n",
        "import torch.nn.init as init\n",
        "import torch.optim as optim\n",
        "import torch.nn.functional as F\n",
        "from torch.autograd import Variable\n",
        "\n",
        "import torchvision\n",
        "from torchvision import transforms, datasets, models\n",
        "from torch.utils.data import Subset, DataLoader\n",
        "\n",
        "from PIL import Image\n",
        "\n",
        "import numpy as np\n",
        "import matplotlib \n",
        "import matplotlib.pyplot as plt\n",
        "from copy import copy\n",
        "from copy import deepcopy"
      ],
      "execution_count": 1,
      "outputs": []
    },
    {
      "cell_type": "markdown",
      "metadata": {
        "id": "7BZw-bZJ16ay"
      },
      "source": [
        "#### Cloning the Git repository"
      ]
    },
    {
      "cell_type": "code",
      "metadata": {
        "id": "yjntw1jZQ7Lg",
        "colab": {
          "base_uri": "https://localhost:8080/"
        },
        "outputId": "b5f08f17-17e3-4557-cb8b-d68f48d10495"
      },
      "source": [
        "!rm -rf ProjectMLDL\n",
        "if not os.path.isdir('/content/ProjectMLDL'):\n",
        "  !git clone https://github.com/cosminnedescu/ProjectMLDL.git\n",
        "  %cd /content/ProjectMLDL\n",
        "  !rm -rf LICENSE README.md"
      ],
      "execution_count": 2,
      "outputs": [
        {
          "output_type": "stream",
          "text": [
            "Cloning into 'ProjectMLDL'...\n",
            "remote: Enumerating objects: 446, done.\u001b[K\n",
            "remote: Counting objects: 100% (446/446), done.\u001b[K\n",
            "remote: Compressing objects: 100% (435/435), done.\u001b[K\n",
            "remote: Total 446 (delta 206), reused 0 (delta 0), pack-reused 0\u001b[K\n",
            "Receiving objects: 100% (446/446), 11.86 MiB | 2.79 MiB/s, done.\n",
            "Resolving deltas: 100% (206/206), done.\n",
            "/content/ProjectMLDL\n"
          ],
          "name": "stdout"
        }
      ]
    },
    {
      "cell_type": "code",
      "metadata": {
        "id": "nvqmxRxo2lUW"
      },
      "source": [
        "from data.cifar100 import CIFAR100\n",
        "from model.resnet32 import resnet32\n",
        "import data.utils\n",
        "from model.lwf import LearningWithoutForgetting"
      ],
      "execution_count": 3,
      "outputs": []
    },
    {
      "cell_type": "markdown",
      "metadata": {
        "id": "Nhv6X5Cg2B2y"
      },
      "source": [
        "#### Downloading data from Cifar100"
      ]
    },
    {
      "cell_type": "code",
      "metadata": {
        "id": "XwomFTtQo1x-"
      },
      "source": [
        "# True mean and std of Cifar100 dataset (src=\"https://gist.github.com/weiaicunzai/e623931921efefd4c331622c344d8151\")\n",
        "mean = [0.5071, 0.4867, 0.4408]\n",
        "std = [0.2675, 0.2565, 0.2761]\n",
        "\n",
        "train_transform = transforms.Compose([\n",
        "    transforms.RandomCrop(32, padding=4),\n",
        "    transforms.RandomHorizontalFlip(),\n",
        "    transforms.ToTensor(),\n",
        "    transforms.Normalize(mean, std),\n",
        "])\n",
        "test_transform = transforms.Compose(\n",
        "    [transforms.ToTensor(), \n",
        "     transforms.Normalize(mean, std),\n",
        "     ])"
      ],
      "execution_count": 4,
      "outputs": []
    },
    {
      "cell_type": "code",
      "metadata": {
        "colab": {
          "base_uri": "https://localhost:8080/",
          "height": 104,
          "referenced_widgets": [
            "952a9fae29b04663a0e763ba47bca765",
            "05735ec4094e4b5381769b88ab8e9456",
            "1059a826cbfe46a294b0c9a5e9bd25cc",
            "eb10a500ea994b6aaa74a65e697ecb53",
            "5836e115aaed42d0982592526e57a77e",
            "be7cd4c64d3c4d128238e2c8935ccdf1",
            "8b06c1010e604690b79b85288cb79c5a",
            "de17c30ca7ae4a9199ebd6ce9b6bfc0d"
          ]
        },
        "id": "BCz7GGfdpRiL",
        "outputId": "7093992d-ec6f-41af-cee2-3def523ec4f2"
      },
      "source": [
        "train_data = CIFAR100(\"dataset\", train=True, transform=train_transform, download=True)\n",
        "test_data = CIFAR100(\"dataset\", train=False, transform=test_transform, download=True)"
      ],
      "execution_count": 5,
      "outputs": [
        {
          "output_type": "stream",
          "text": [
            "Downloading https://www.cs.toronto.edu/~kriz/cifar-100-python.tar.gz to dataset/cifar-100-python.tar.gz\n"
          ],
          "name": "stdout"
        },
        {
          "output_type": "display_data",
          "data": {
            "application/vnd.jupyter.widget-view+json": {
              "model_id": "952a9fae29b04663a0e763ba47bca765",
              "version_minor": 0,
              "version_major": 2
            },
            "text/plain": [
              "HBox(children=(FloatProgress(value=1.0, bar_style='info', max=1.0), HTML(value='')))"
            ]
          },
          "metadata": {
            "tags": []
          }
        },
        {
          "output_type": "stream",
          "text": [
            "Extracting dataset/cifar-100-python.tar.gz to dataset\n",
            "Files already downloaded and verified\n"
          ],
          "name": "stdout"
        }
      ]
    },
    {
      "cell_type": "code",
      "metadata": {
        "colab": {
          "base_uri": "https://localhost:8080/",
          "height": 284
        },
        "id": "cGlVf385aUDd",
        "outputId": "d434ac98-4d94-432c-98bc-ac77a3bfd53c"
      },
      "source": [
        "#check images and labels after shuffle\n",
        "#https://github.com/keras-team/keras/issues/2653#issuecomment-450133996\n",
        "import matplotlib.pyplot as plt\n",
        "\n",
        "plt.imshow(train_data.data[6])\n",
        "print(\"classe: {}\".format(train_data.targets[6]))"
      ],
      "execution_count": 6,
      "outputs": [
        {
          "output_type": "stream",
          "text": [
            "classe: 90\n"
          ],
          "name": "stdout"
        },
        {
          "output_type": "display_data",
          "data": {
            "image/png": "[encoded data removed]",
            "text/plain": [
              "<Figure size 432x288 with 1 Axes>"
            ]
          },
          "metadata": {
            "tags": [],
            "needs_background": "light"
          }
        }
      ]
    },
    {
      "cell_type": "markdown",
      "metadata": {
        "id": "yRoS-R_sRhHT"
      },
      "source": [
        "## Learning Without Forgetting"
      ]
    },
    {
      "cell_type": "markdown",
      "metadata": {
        "id": "3ocVW0wM2Iw2"
      },
      "source": [
        "### Defining hyperparameters according to iCarl paper"
      ]
    },
    {
      "cell_type": "code",
      "metadata": {
        "id": "nmEo_9lnwyBk"
      },
      "source": [
        "# Settings\n",
        "DEVICE = 'cuda'\n",
        "NUM_CLASSES = 100         # Total number of classes\n",
        "VAL_SIZE = 0.2            # Proportion of validation set with respect to training set (between 0 and 1)\n",
        "\n",
        "# Training\n",
        "BATCH_SIZE = 128          # Batch size\n",
        "LR = 2                    # Initial learning rate\n",
        "                       \n",
        "MOMENTUM = 0.9            # Momentum for stochastic gradient descent (SGD)\n",
        "WEIGHT_DECAY = 1e-5       # Weight decay from iCaRL\n",
        "\n",
        "RANDOM_SEED = [42,13,10]  # Random seeds defining the runs of every method\n",
        "                          # Note: this should be at least 3 to have a fair benchmark\n",
        "\n",
        "NUM_EPOCHS = 70           # Total number of training epochs\n",
        "MILESTONES = [49, 63]     # Step down policy from iCaRL (MultiStepLR)\n",
        "                          # Decrease the learning rate by gamma at each milestone\n",
        "GAMMA = 0.2               # Gamma factor from iCaRL (1/5)"
      ],
      "execution_count": 7,
      "outputs": []
    },
    {
      "cell_type": "markdown",
      "metadata": {
        "id": "btwAEFoF0YUE"
      },
      "source": [
        "### Definition of `do_shuffle` and `do_group_classes`\n",
        "`do_shuffle` and `do_group_classes` are two functions that rispectively shuffle data downloaded from Cifar100 and get the incremental classes division for the incremental learning phase.\n",
        "\n"
      ]
    },
    {
      "cell_type": "code",
      "metadata": {
        "id": "rVh61C63FECy"
      },
      "source": [
        "def do_shuffle(train_d, test_d):\n",
        "  train_d.__shuffle_seed__(RANDOM_SEED[run])\n",
        "  test_d.__shuffle_seed__(RANDOM_SEED[run])\n",
        "  return train_d, test_d\n",
        "\n",
        "def do_group_classes(train_d, test_d):\n",
        "  indexes_train_data = train_d.__incremental_indexes__(True)\n",
        "  indexes_test_data = test_d.__incremental_indexes__(False)\n",
        "\n",
        "\n",
        "  train_dataloader = [[] for i in range(10)]\n",
        "  val_dataloader = [[] for i in range(10)]\n",
        "  test_dataloader = [[] for i in range(10)]\n",
        "  for i in range(10):\n",
        "    train_dataset = Subset(train_d, indexes_train_data[i])\n",
        "    train_set, val_set = torch.utils.data.random_split(train_dataset, \n",
        "                                                       [int((1-VAL_SIZE)*len(indexes_train_data[i])), int(VAL_SIZE*len(indexes_train_data[i]))])\n",
        "    tmp_dl = DataLoader(train_set, \n",
        "                        batch_size=BATCH_SIZE,\n",
        "                        shuffle=True,\n",
        "                        num_workers=4,\n",
        "                        drop_last=True)\n",
        "    train_dataloader[i] = copy(tmp_dl) # gruppi di 10 classi \n",
        "    tmp_dl = DataLoader(val_set, \n",
        "                        batch_size=BATCH_SIZE,\n",
        "                        shuffle=True,\n",
        "                        num_workers=4,\n",
        "                        drop_last=True)\n",
        "    val_dataloader[i] = copy(tmp_dl) # gruppi di 10 classi\n",
        "\n",
        "\n",
        "    test_dataset = Subset(test_d, indexes_test_data[i])\n",
        "    tmp_dl = DataLoader(test_dataset,\n",
        "                        batch_size=BATCH_SIZE,\n",
        "                        shuffle=True,\n",
        "                        num_workers=4,\n",
        "                        drop_last=True)\n",
        "    test_dataloader[i] = copy(tmp_dl) # classi incrementali: 0:0-9, 1:0-19, 2:0-29, ..., 9:0-99\n",
        "    \n",
        "  return train_dataloader, val_dataloader, test_dataloader"
      ],
      "execution_count": 8,
      "outputs": []
    },
    {
      "cell_type": "markdown",
      "metadata": {
        "id": "20APZIgI1eBy"
      },
      "source": [
        "### Going on with the model\n",
        "This is the main LWF step.\n",
        "\n",
        "This step is run 3 times with different `RANDOM_SEED`.\n",
        "Here the model is instantiated, trained and tested.\n",
        "\n",
        "Results and some statistics are then stored in the variable `logs`."
      ]
    },
    {
      "cell_type": "code",
      "metadata": {
        "id": "mJHKbipz0bMr",
        "colab": {
          "base_uri": "https://localhost:8080/"
        },
        "outputId": "9881e029-5612-4ab6-9309-5fe3c248491b"
      },
      "source": [
        "logs = [[] for i in range(len(RANDOM_SEED))]\n",
        "best_net_tot_classes = [None for i in range(len(RANDOM_SEED))]\n",
        "\n",
        "\n",
        "for run in range(len(RANDOM_SEED)):\n",
        "  random.seed(RANDOM_SEED[run])\n",
        "  print(\"#################################\")\n",
        "  print(f\"Radom seed: {RANDOM_SEED[run]}\")\n",
        "  print(\"\")\n",
        "\n",
        "  #shuffle data\n",
        "  train_data, test_data = do_shuffle(train_data, test_data)\n",
        "  #get dataloader separated in incremental groups of 10 classes\n",
        "  train_dl, val_dl, test_dl = do_group_classes(train_data, test_data)\n",
        "\n",
        "  #create the resnet\n",
        "  net = resnet32()\n",
        "\n",
        "  #define criterion, parameters, optimizer and scheduler\n",
        "  criterion = nn.BCEWithLogitsLoss()\n",
        "  parameters_to_optimize = net.parameters()\n",
        "  optimizer = optim.SGD(parameters_to_optimize, \n",
        "                        lr=LR, \n",
        "                        momentum=MOMENTUM, \n",
        "                        weight_decay=WEIGHT_DECAY)\n",
        "  scheduler = optim.lr_scheduler.MultiStepLR(optimizer, \n",
        "                                             milestones=MILESTONES, \n",
        "                                             gamma=GAMMA)\n",
        "  \n",
        "  trainer = LearningWithoutForgetting(DEVICE,\n",
        "                                      net,\n",
        "                                      LR,\n",
        "                                      MOMENTUM,\n",
        "                                      WEIGHT_DECAY,\n",
        "                                      MILESTONES,\n",
        "                                      GAMMA,\n",
        "                                      train_dl,\n",
        "                                      val_dl,\n",
        "                                      test_dl)\n",
        "\n",
        "  #train and evaluate the model\n",
        "  logs[run] = trainer.train_model(NUM_EPOCHS)\n",
        "\n",
        "  best_net_tot_classes[run] = deepcopy(trainer.best_net)\n",
        "\n",
        "  print(\"#################################\")\n",
        "  print(\"\")\n",
        "  print(\"\")"
      ],
      "execution_count": 9,
      "outputs": [
        {
          "output_type": "stream",
          "text": [
            "#################################\n",
            "Radom seed: 42\n",
            "\n"
          ],
          "name": "stdout"
        },
        {
          "output_type": "stream",
          "text": [
            "/usr/local/lib/python3.7/dist-packages/torch/utils/data/dataloader.py:477: UserWarning: This DataLoader will create 4 worker processes in total. Our suggested max number of worker in current system is 2, which is smaller than what this DataLoader is going to create. Please be aware that excessive worker creation might get DataLoader running slow or even freeze, lower the worker number to avoid potential slowness/freeze if necessary.\n",
            "  cpuset_checked))\n"
          ],
          "name": "stderr"
        },
        {
          "output_type": "stream",
          "text": [
            "Epoch 1/3 LR: [2]\n",
            "Validation accuracy on group 1/10: 0.10\n",
            "Best model updated\n",
            "\n",
            "Epoch 2/3 LR: [2]\n",
            "Validation accuracy on group 1/10: 0.11\n",
            "Best model updated\n",
            "\n",
            "Epoch 3/3 LR: [2]\n",
            "Validation accuracy on group 1/10: 0.12\n",
            "Best model updated\n",
            "\n",
            "Group 1 Finished!\n",
            "Best accuracy found at epoch 3: 0.12\n",
            "Testing classes seen so far, accuracy: 0.14\n",
            "\n",
            "=============================================\n",
            "\n",
            "Epoch 1/3 LR: [2]\n",
            "Validation accuracy on group 2/10: 0.01\n",
            "Best model updated\n",
            "\n",
            "Epoch 2/3 LR: [2]\n",
            "Validation accuracy on group 2/10: 0.01\n",
            "\n",
            "Epoch 3/3 LR: [2]\n",
            "Validation accuracy on group 2/10: 0.02\n",
            "Best model updated\n",
            "\n",
            "Group 2 Finished!\n",
            "Best accuracy found at epoch 3: 0.02\n",
            "Testing classes seen so far, accuracy: 0.07\n",
            "\n",
            "=============================================\n",
            "\n",
            "Epoch 1/3 LR: [2]\n",
            "Validation accuracy on group 3/10: 0.01\n",
            "Best model updated\n",
            "\n",
            "Epoch 2/3 LR: [2]\n",
            "Validation accuracy on group 3/10: 0.00\n",
            "\n",
            "Epoch 3/3 LR: [2]\n",
            "Validation accuracy on group 3/10: 0.01\n",
            "Best model updated\n",
            "\n",
            "Group 3 Finished!\n",
            "Best accuracy found at epoch 3: 0.01\n",
            "Testing classes seen so far, accuracy: 0.04\n",
            "\n",
            "=============================================\n",
            "\n",
            "Epoch 1/3 LR: [2]\n",
            "Validation accuracy on group 4/10: 0.04\n",
            "Best model updated\n",
            "\n",
            "Epoch 2/3 LR: [2]\n",
            "Validation accuracy on group 4/10: 0.06\n",
            "Best model updated\n",
            "\n",
            "Epoch 3/3 LR: [2]\n",
            "Validation accuracy on group 4/10: 0.06\n",
            "\n",
            "Group 4 Finished!\n",
            "Best accuracy found at epoch 2: 0.06\n",
            "Testing classes seen so far, accuracy: 0.04\n",
            "\n",
            "=============================================\n",
            "\n",
            "Epoch 1/3 LR: [2]\n",
            "Validation accuracy on group 5/10: 0.01\n",
            "Best model updated\n",
            "\n",
            "Epoch 2/3 LR: [2]\n",
            "Validation accuracy on group 5/10: 0.11\n",
            "Best model updated\n",
            "\n",
            "Epoch 3/3 LR: [2]\n",
            "Validation accuracy on group 5/10: 0.13\n",
            "Best model updated\n",
            "\n",
            "Group 5 Finished!\n",
            "Best accuracy found at epoch 3: 0.13\n",
            "Testing classes seen so far, accuracy: 0.03\n",
            "\n",
            "=============================================\n",
            "\n",
            "Epoch 1/3 LR: [2]\n",
            "Validation accuracy on group 6/10: 0.14\n",
            "Best model updated\n",
            "\n",
            "Epoch 2/3 LR: [2]\n",
            "Validation accuracy on group 6/10: 0.16\n",
            "Best model updated\n",
            "\n",
            "Epoch 3/3 LR: [2]\n",
            "Validation accuracy on group 6/10: 0.16\n",
            "\n",
            "Group 6 Finished!\n",
            "Best accuracy found at epoch 2: 0.16\n",
            "Testing classes seen so far, accuracy: 0.03\n",
            "\n",
            "=============================================\n",
            "\n",
            "Epoch 1/3 LR: [2]\n",
            "Validation accuracy on group 7/10: 0.05\n",
            "Best model updated\n",
            "\n",
            "Epoch 2/3 LR: [2]\n",
            "Validation accuracy on group 7/10: 0.05\n",
            "Best model updated\n",
            "\n",
            "Epoch 3/3 LR: [2]\n",
            "Validation accuracy on group 7/10: 0.06\n",
            "Best model updated\n",
            "\n",
            "Group 7 Finished!\n",
            "Best accuracy found at epoch 3: 0.06\n",
            "Testing classes seen so far, accuracy: 0.02\n",
            "\n",
            "=============================================\n",
            "\n",
            "Epoch 1/3 LR: [2]\n",
            "Validation accuracy on group 8/10: 0.01\n",
            "Best model updated\n",
            "\n",
            "Epoch 2/3 LR: [2]\n",
            "Validation accuracy on group 8/10: 0.03\n",
            "Best model updated\n",
            "\n",
            "Epoch 3/3 LR: [2]\n",
            "Validation accuracy on group 8/10: 0.04\n",
            "Best model updated\n",
            "\n",
            "Group 8 Finished!\n",
            "Best accuracy found at epoch 3: 0.04\n",
            "Testing classes seen so far, accuracy: 0.02\n",
            "\n",
            "=============================================\n",
            "\n",
            "Epoch 1/3 LR: [2]\n",
            "Validation accuracy on group 9/10: 0.00\n",
            "\n",
            "Epoch 2/3 LR: [2]\n",
            "Validation accuracy on group 9/10: 0.00\n",
            "\n",
            "Epoch 3/3 LR: [2]\n",
            "Validation accuracy on group 9/10: 0.00\n",
            "\n",
            "Group 9 Finished!\n",
            "Best accuracy found at epoch 3: 0.00\n",
            "Testing classes seen so far, accuracy: 0.01\n",
            "\n",
            "=============================================\n",
            "\n",
            "Epoch 1/3 LR: [2]\n",
            "Validation accuracy on group 10/10: 0.00\n",
            "\n",
            "Epoch 2/3 LR: [2]\n",
            "Validation accuracy on group 10/10: 0.00\n",
            "\n",
            "Epoch 3/3 LR: [2]\n",
            "Validation accuracy on group 10/10: 0.00\n",
            "\n",
            "Group 10 Finished!\n",
            "Best accuracy found at epoch 3: 0.00\n",
            "Testing classes seen so far, accuracy: 0.00\n",
            "\n",
            "=============================================\n",
            "\n",
            "#################################\n",
            "\n",
            "\n",
            "#################################\n",
            "Radom seed: 13\n",
            "\n",
            "Epoch 1/3 LR: [2]\n",
            "Validation accuracy on group 1/10: 0.15\n",
            "Best model updated\n",
            "\n",
            "Epoch 2/3 LR: [2]\n",
            "Validation accuracy on group 1/10: 0.16\n",
            "Best model updated\n",
            "\n",
            "Epoch 3/3 LR: [2]\n",
            "Validation accuracy on group 1/10: 0.16\n",
            "Best model updated\n",
            "\n",
            "Group 1 Finished!\n",
            "Best accuracy found at epoch 3: 0.16\n",
            "Testing classes seen so far, accuracy: 0.21\n",
            "\n",
            "=============================================\n",
            "\n",
            "Epoch 1/3 LR: [2]\n",
            "Validation accuracy on group 2/10: 0.03\n",
            "Best model updated\n",
            "\n",
            "Epoch 2/3 LR: [2]\n",
            "Validation accuracy on group 2/10: 0.02\n",
            "\n",
            "Epoch 3/3 LR: [2]\n",
            "Validation accuracy on group 2/10: 0.04\n",
            "Best model updated\n",
            "\n",
            "Group 2 Finished!\n",
            "Best accuracy found at epoch 3: 0.04\n",
            "Testing classes seen so far, accuracy: 0.09\n",
            "\n",
            "=============================================\n",
            "\n",
            "Epoch 1/3 LR: [2]\n",
            "Validation accuracy on group 3/10: 0.00\n",
            "Best model updated\n",
            "\n",
            "Epoch 2/3 LR: [2]\n",
            "Validation accuracy on group 3/10: 0.03\n",
            "Best model updated\n",
            "\n",
            "Epoch 3/3 LR: [2]\n",
            "Validation accuracy on group 3/10: 0.03\n",
            "Best model updated\n",
            "\n",
            "Group 3 Finished!\n",
            "Best accuracy found at epoch 3: 0.03\n",
            "Testing classes seen so far, accuracy: 0.06\n",
            "\n",
            "=============================================\n",
            "\n",
            "Epoch 1/3 LR: [2]\n",
            "Validation accuracy on group 4/10: 0.05\n",
            "Best model updated\n",
            "\n",
            "Epoch 2/3 LR: [2]\n",
            "Validation accuracy on group 4/10: 0.03\n",
            "\n",
            "Epoch 3/3 LR: [2]\n",
            "Validation accuracy on group 4/10: 0.04\n",
            "\n",
            "Group 4 Finished!\n",
            "Best accuracy found at epoch 1: 0.05\n",
            "Testing classes seen so far, accuracy: 0.03\n",
            "\n",
            "=============================================\n",
            "\n",
            "Epoch 1/3 LR: [2]\n",
            "Validation accuracy on group 5/10: 0.05\n",
            "Best model updated\n",
            "\n",
            "Epoch 2/3 LR: [2]\n",
            "Validation accuracy on group 5/10: 0.06\n",
            "Best model updated\n",
            "\n",
            "Epoch 3/3 LR: [2]\n",
            "Validation accuracy on group 5/10: 0.07\n",
            "Best model updated\n",
            "\n",
            "Group 5 Finished!\n",
            "Best accuracy found at epoch 3: 0.07\n",
            "Testing classes seen so far, accuracy: 0.04\n",
            "\n",
            "=============================================\n",
            "\n",
            "Epoch 1/3 LR: [2]\n",
            "Validation accuracy on group 6/10: 0.07\n",
            "Best model updated\n",
            "\n",
            "Epoch 2/3 LR: [2]\n",
            "Validation accuracy on group 6/10: 0.08\n",
            "Best model updated\n",
            "\n",
            "Epoch 3/3 LR: [2]\n",
            "Validation accuracy on group 6/10: 0.08\n",
            "Best model updated\n",
            "\n",
            "Group 6 Finished!\n",
            "Best accuracy found at epoch 3: 0.08\n",
            "Testing classes seen so far, accuracy: 0.04\n",
            "\n",
            "=============================================\n",
            "\n",
            "Epoch 1/3 LR: [2]\n",
            "Validation accuracy on group 7/10: 0.10\n",
            "Best model updated\n",
            "\n",
            "Epoch 2/3 LR: [2]\n",
            "Validation accuracy on group 7/10: 0.11\n",
            "Best model updated\n",
            "\n",
            "Epoch 3/3 LR: [2]\n",
            "Validation accuracy on group 7/10: 0.11\n",
            "Best model updated\n",
            "\n",
            "Group 7 Finished!\n",
            "Best accuracy found at epoch 3: 0.11\n",
            "Testing classes seen so far, accuracy: 0.03\n",
            "\n",
            "=============================================\n",
            "\n",
            "Epoch 1/3 LR: [2]\n",
            "Validation accuracy on group 8/10: 0.05\n",
            "Best model updated\n",
            "\n",
            "Epoch 2/3 LR: [2]\n",
            "Validation accuracy on group 8/10: 0.05\n",
            "Best model updated\n",
            "\n",
            "Epoch 3/3 LR: [2]\n",
            "Validation accuracy on group 8/10: 0.05\n",
            "\n",
            "Group 8 Finished!\n",
            "Best accuracy found at epoch 2: 0.05\n",
            "Testing classes seen so far, accuracy: 0.02\n",
            "\n",
            "=============================================\n",
            "\n",
            "Epoch 1/3 LR: [2]\n",
            "Validation accuracy on group 9/10: 0.00\n",
            "\n",
            "Epoch 2/3 LR: [2]\n",
            "Validation accuracy on group 9/10: 0.00\n",
            "\n",
            "Epoch 3/3 LR: [2]\n",
            "Validation accuracy on group 9/10: 0.04\n",
            "Best model updated\n",
            "\n",
            "Group 9 Finished!\n",
            "Best accuracy found at epoch 3: 0.04\n",
            "Testing classes seen so far, accuracy: 0.03\n",
            "\n",
            "=============================================\n",
            "\n",
            "Epoch 1/3 LR: [2]\n",
            "Validation accuracy on group 10/10: 0.00\n",
            "\n",
            "Epoch 2/3 LR: [2]\n",
            "Validation accuracy on group 10/10: 0.00\n",
            "\n",
            "Epoch 3/3 LR: [2]\n",
            "Validation accuracy on group 10/10: 0.00\n",
            "\n",
            "Group 10 Finished!\n",
            "Best accuracy found at epoch 3: 0.00\n",
            "Testing classes seen so far, accuracy: 0.01\n",
            "\n",
            "=============================================\n",
            "\n",
            "#################################\n",
            "\n",
            "\n",
            "#################################\n",
            "Radom seed: 10\n",
            "\n",
            "Epoch 1/3 LR: [2]\n",
            "Validation accuracy on group 1/10: 0.10\n",
            "Best model updated\n",
            "\n",
            "Epoch 2/3 LR: [2]\n",
            "Validation accuracy on group 1/10: 0.17\n",
            "Best model updated\n",
            "\n",
            "Epoch 3/3 LR: [2]\n",
            "Validation accuracy on group 1/10: 0.17\n",
            "Best model updated\n",
            "\n",
            "Group 1 Finished!\n",
            "Best accuracy found at epoch 3: 0.17\n",
            "Testing classes seen so far, accuracy: 0.18\n",
            "\n",
            "=============================================\n",
            "\n",
            "Epoch 1/3 LR: [2]\n",
            "Validation accuracy on group 2/10: 0.03\n",
            "Best model updated\n",
            "\n",
            "Epoch 2/3 LR: [2]\n",
            "Validation accuracy on group 2/10: 0.03\n",
            "Best model updated\n",
            "\n",
            "Epoch 3/3 LR: [2]\n",
            "Validation accuracy on group 2/10: 0.03\n",
            "\n",
            "Group 2 Finished!\n",
            "Best accuracy found at epoch 2: 0.03\n",
            "Testing classes seen so far, accuracy: 0.06\n",
            "\n",
            "=============================================\n",
            "\n",
            "Epoch 1/3 LR: [2]\n",
            "Validation accuracy on group 3/10: 0.03\n",
            "Best model updated\n",
            "\n",
            "Epoch 2/3 LR: [2]\n",
            "Validation accuracy on group 3/10: 0.01\n",
            "\n",
            "Epoch 3/3 LR: [2]\n",
            "Validation accuracy on group 3/10: 0.04\n",
            "Best model updated\n",
            "\n",
            "Group 3 Finished!\n",
            "Best accuracy found at epoch 3: 0.04\n",
            "Testing classes seen so far, accuracy: 0.04\n",
            "\n",
            "=============================================\n",
            "\n",
            "Epoch 1/3 LR: [2]\n",
            "Validation accuracy on group 4/10: 0.01\n",
            "Best model updated\n",
            "\n",
            "Epoch 2/3 LR: [2]\n",
            "Validation accuracy on group 4/10: 0.02\n",
            "Best model updated\n",
            "\n",
            "Epoch 3/3 LR: [2]\n",
            "Validation accuracy on group 4/10: 0.04\n",
            "Best model updated\n",
            "\n",
            "Group 4 Finished!\n",
            "Best accuracy found at epoch 3: 0.04\n",
            "Testing classes seen so far, accuracy: 0.04\n",
            "\n",
            "=============================================\n",
            "\n",
            "Epoch 1/3 LR: [2]\n",
            "Validation accuracy on group 5/10: 0.00\n",
            "\n",
            "Epoch 2/3 LR: [2]\n",
            "Validation accuracy on group 5/10: 0.02\n",
            "Best model updated\n",
            "\n",
            "Epoch 3/3 LR: [2]\n",
            "Validation accuracy on group 5/10: 0.05\n",
            "Best model updated\n",
            "\n",
            "Group 5 Finished!\n",
            "Best accuracy found at epoch 3: 0.05\n",
            "Testing classes seen so far, accuracy: 0.03\n",
            "\n",
            "=============================================\n",
            "\n",
            "Epoch 1/3 LR: [2]\n",
            "Validation accuracy on group 6/10: 0.09\n",
            "Best model updated\n",
            "\n",
            "Epoch 2/3 LR: [2]\n",
            "Validation accuracy on group 6/10: 0.10\n",
            "Best model updated\n",
            "\n",
            "Epoch 3/3 LR: [2]\n",
            "Validation accuracy on group 6/10: 0.12\n",
            "Best model updated\n",
            "\n",
            "Group 6 Finished!\n",
            "Best accuracy found at epoch 3: 0.12\n",
            "Testing classes seen so far, accuracy: 0.03\n",
            "\n",
            "=============================================\n",
            "\n",
            "Epoch 1/3 LR: [2]\n",
            "Validation accuracy on group 7/10: 0.08\n",
            "Best model updated\n",
            "\n",
            "Epoch 2/3 LR: [2]\n",
            "Validation accuracy on group 7/10: 0.08\n",
            "Best model updated\n",
            "\n",
            "Epoch 3/3 LR: [2]\n",
            "Validation accuracy on group 7/10: 0.07\n",
            "\n",
            "Group 7 Finished!\n",
            "Best accuracy found at epoch 2: 0.08\n",
            "Testing classes seen so far, accuracy: 0.03\n",
            "\n",
            "=============================================\n",
            "\n",
            "Epoch 1/3 LR: [2]\n",
            "Validation accuracy on group 8/10: 0.00\n",
            "\n",
            "Epoch 2/3 LR: [2]\n",
            "Validation accuracy on group 8/10: 0.07\n",
            "Best model updated\n",
            "\n",
            "Epoch 3/3 LR: [2]\n",
            "Validation accuracy on group 8/10: 0.04\n",
            "\n",
            "Group 8 Finished!\n",
            "Best accuracy found at epoch 2: 0.07\n",
            "Testing classes seen so far, accuracy: 0.02\n",
            "\n",
            "=============================================\n",
            "\n",
            "Epoch 1/3 LR: [2]\n",
            "Validation accuracy on group 9/10: 0.00\n",
            "\n",
            "Epoch 2/3 LR: [2]\n",
            "Validation accuracy on group 9/10: 0.00\n",
            "\n",
            "Epoch 3/3 LR: [2]\n",
            "Validation accuracy on group 9/10: 0.00\n",
            "\n",
            "Group 9 Finished!\n",
            "Best accuracy found at epoch 2: 0.00\n",
            "Testing classes seen so far, accuracy: 0.00\n",
            "\n",
            "=============================================\n",
            "\n",
            "Epoch 1/3 LR: [2]\n",
            "Validation accuracy on group 10/10: 0.00\n",
            "Best model updated\n",
            "\n",
            "Epoch 2/3 LR: [2]\n",
            "Validation accuracy on group 10/10: 0.00\n",
            "Best model updated\n",
            "\n",
            "Epoch 3/3 LR: [2]\n",
            "Validation accuracy on group 10/10: 0.00\n",
            "\n",
            "Group 10 Finished!\n",
            "Best accuracy found at epoch 2: 0.00\n",
            "Testing classes seen so far, accuracy: 0.00\n",
            "\n",
            "=============================================\n",
            "\n",
            "#################################\n",
            "\n",
            "\n"
          ],
          "name": "stdout"
        }
      ]
    },
    {
      "cell_type": "markdown",
      "metadata": {
        "id": "UIUvaKyhx0rC"
      },
      "source": [
        "### Store logs in more usable dtype"
      ]
    },
    {
      "cell_type": "code",
      "metadata": {
        "id": "1-uV6X0yxzQc"
      },
      "source": [
        "train_loss = [[logs[run_i]['group_train_loss'][i] for i in range(10)] for run_i in range(len(RANDOM_SEED))]\n",
        "train_accuracy = [[logs[run_i]['group_train_accuracies'][i] for i in range(10)] for run_i in range(len(RANDOM_SEED))]\n",
        "val_loss = [[logs[run_i]['val_losses'][i] for i in range(10)] for run_i in range(len(RANDOM_SEED))]\n",
        "val_accuracy = [[logs[run_i]['val_accuracies'][i] for i in range(10)] for run_i in range(len(RANDOM_SEED))]\n",
        "test_accuracy = [[logs[run_i]['test_accuracies'][i] for i in range(10)] for run_i in range(len(RANDOM_SEED))]"
      ],
      "execution_count": 10,
      "outputs": []
    },
    {
      "cell_type": "markdown",
      "metadata": {
        "id": "6r_ybcCLmc2R"
      },
      "source": [
        "### Save the model"
      ]
    },
    {
      "cell_type": "markdown",
      "metadata": {
        "id": "nIG3hIOkyFNs"
      },
      "source": [
        "#### Saving logs in JSON files"
      ]
    },
    {
      "cell_type": "code",
      "metadata": {
        "id": "mF_GR4KAyNYs",
        "colab": {
          "base_uri": "https://localhost:8080/"
        },
        "outputId": "72a8b0fb-dcb0-43da-ac2e-5b234bd9612a"
      },
      "source": [
        "import json\n",
        "\n",
        "with open('states/LWF_train_loss.json', 'w') as a:\n",
        "  json.dump(train_loss, a)\n",
        "a.close\n",
        "with open('states/LWF_train_accuracy.json', 'w') as b:\n",
        "  json.dump(train_accuracy, b)\n",
        "b.close\n",
        "\n",
        "with open('states/LWF_val_loss.json', 'w') as c:\n",
        "  json.dump(val_loss, c)\n",
        "c.close  \n",
        "\n",
        "with open('states/LWF_val_accuracy.json', 'w') as d:\n",
        "  json.dump(val_accuracy, d)\n",
        "d.close\n",
        "\n",
        "with open('states/LWF_test_accuracy.json', 'w') as e:\n",
        "  json.dump(test_accuracy, e)\n",
        "e.close\n"
      ],
      "execution_count": 11,
      "outputs": [
        {
          "output_type": "execute_result",
          "data": {
            "text/plain": [
              "<function TextIOWrapper.close>"
            ]
          },
          "metadata": {
            "tags": []
          },
          "execution_count": 11
        }
      ]
    },
    {
      "cell_type": "markdown",
      "metadata": {
        "id": "JoVU9_V4zXOL"
      },
      "source": [
        "#### Saving best resnet on 100 classes for each seed"
      ]
    },
    {
      "cell_type": "code",
      "metadata": {
        "id": "nukM57Euzgr9"
      },
      "source": [
        "for i in range(len(RANDOM_SEED)):\n",
        "  torch.save(best_net_tot_classes[i].state_dict(), \"states/LWF_bestnet_seed[{}]\".format(RANDOM_SEED[i]))"
      ],
      "execution_count": 12,
      "outputs": []
    },
    {
      "cell_type": "markdown",
      "metadata": {
        "id": "2NMLqiIS19IJ"
      },
      "source": [
        "### Print some graphs"
      ]
    },
    {
      "cell_type": "code",
      "metadata": {
        "id": "G6Mg2QiIBNRo"
      },
      "source": [
        "from data.utils_plot import plot_train_val, plot_test_accuracies, plot_confusion_matrix"
      ],
      "execution_count": 13,
      "outputs": []
    },
    {
      "cell_type": "code",
      "metadata": {
        "id": "M2QzOlExmhKo"
      },
      "source": [
        "train_loss = np.array(train_loss)\n",
        "train_accuracy = np.array(train_accuracy)\n",
        "val_loss = np.array(val_loss)\n",
        "val_accuracy = np.array(val_accuracy)\n",
        "test_accuracy = np.array(test_accuracy)\n",
        "\n",
        "train_loss_stats = np.array([train_loss.mean(0), train_loss.std(0)]).transpose()\n",
        "train_accuracy_stats = np.array([train_accuracy.mean(0), train_accuracy.std(0)]).transpose()\n",
        "val_loss_stats = np.array([val_loss.mean(0), val_loss.std(0)]).transpose()\n",
        "val_accuracy_stats = np.array([val_accuracy.mean(0), val_accuracy.std(0)]).transpose()\n",
        "test_accuracy_stats = np.array([test_accuracy.mean(0), test_accuracy.std(0)]).transpose()"
      ],
      "execution_count": 14,
      "outputs": []
    },
    {
      "cell_type": "markdown",
      "metadata": {
        "id": "6rB0p1PlFxrc"
      },
      "source": [
        "#### Train validation loss"
      ]
    },
    {
      "cell_type": "code",
      "metadata": {
        "id": "xy7FS53Mmmg-",
        "colab": {
          "base_uri": "https://localhost:8080/",
          "height": 507
        },
        "outputId": "ffdbaf01-0b52-4b7f-8a69-27f6bd25cdc4"
      },
      "source": [
        "plot_train_val(train_loss_stats, val_loss_stats, loss = True)"
      ],
      "execution_count": 15,
      "outputs": [
        {
          "output_type": "display_data",
          "data": {
            "image/png": "[encoded data removed]",
            "text/plain": [
              "<Figure size 1000x500 with 1 Axes>"
            ]
          },
          "metadata": {
            "tags": [],
            "needs_background": "light"
          }
        }
      ]
    },
    {
      "cell_type": "markdown",
      "metadata": {
        "id": "Hb_RNTNKF18b"
      },
      "source": [
        "#### Train validation accuracy"
      ]
    },
    {
      "cell_type": "code",
      "metadata": {
        "id": "05IT5LFUBBBV",
        "colab": {
          "base_uri": "https://localhost:8080/",
          "height": 507
        },
        "outputId": "2b392513-7289-4370-8495-d3adb480abe6"
      },
      "source": [
        "plot_train_val(train_accuracy_stats, val_accuracy_stats, loss = False)"
      ],
      "execution_count": 16,
      "outputs": [
        {
          "output_type": "display_data",
          "data": {
            "image/png": "[encoded data removed]",
            "text/plain": [
              "<Figure size 1000x500 with 1 Axes>"
            ]
          },
          "metadata": {
            "tags": [],
            "needs_background": "light"
          }
        }
      ]
    },
    {
      "cell_type": "markdown",
      "metadata": {
        "id": "llzylw_LF7e_"
      },
      "source": [
        "#### Test accuracy"
      ]
    },
    {
      "cell_type": "code",
      "metadata": {
        "id": "Bou4H0k9mteX",
        "colab": {
          "base_uri": "https://localhost:8080/",
          "height": 507
        },
        "outputId": "34139259-e134-40e4-e7b8-41cad7088c4d"
      },
      "source": [
        "plot_test_accuracies(test_accuracy_stats)"
      ],
      "execution_count": 17,
      "outputs": [
        {
          "output_type": "display_data",
          "data": {
            "image/png": "[encoded data removed]",
            "text/plain": [
              "<Figure size 1000x500 with 1 Axes>"
            ]
          },
          "metadata": {
            "tags": [],
            "needs_background": "light"
          }
        }
      ]
    },
    {
      "cell_type": "markdown",
      "metadata": {
        "id": "gN6cighYm1nG"
      },
      "source": [
        "#### Confusion Matrix"
      ]
    },
    {
      "cell_type": "code",
      "metadata": {
        "id": "LPG6aNRjm5Se",
        "colab": {
          "base_uri": "https://localhost:8080/",
          "height": 1000
        },
        "outputId": "0109c84f-38d1-47b8-a104-a235bdc097c2"
      },
      "source": [
        "for run in range(len(RANDOM_SEED)):\n",
        "  targets = logs[run]['true_labels'].cpu().data.numpy()\n",
        "  preds = logs[run]['predictions'].cpu().data.numpy()\n",
        "\n",
        "  plot_confusion_matrix(targets, preds, RANDOM_SEED[run], 'LWF')"
      ],
      "execution_count": 21,
      "outputs": [
        {
          "output_type": "display_data",
          "data": {
            "image/png": "[encoded data removed]",
            "text/plain": [
              "<Figure size 500x500 with 2 Axes>"
            ]
          },
          "metadata": {
            "tags": [],
            "needs_background": "light"
          }
        },
        {
          "output_type": "display_data",
          "data": {
            "image/png": "[encoded data removed]",
            "text/plain": [
              "<Figure size 500x500 with 2 Axes>"
            ]
          },
          "metadata": {
            "tags": [],
            "needs_background": "light"
          }
        },
        {
          "output_type": "display_data",
          "data": {
            "image/png": "[encoded data removed]",
            "text/plain": [
              "<Figure size 500x500 with 2 Axes>"
            ]
          },
          "metadata": {
            "tags": [],
            "needs_background": "light"
          }
        }
      ]
    },
    {
      "cell_type": "markdown",
      "metadata": {
        "id": "d2VPuBu-m9zI"
      },
      "source": [
        "### Load modello da spostare"
      ]
    },
    {
      "cell_type": "code",
      "metadata": {
        "id": "4rM1WE1lt1dq"
      },
      "source": [
        "model2 = resnet32()\n",
        "\n",
        "in_features = model2.fc.in_features  # size of each input sample\n",
        "out_features = model2.fc.out_features  # size of each output sample\n",
        "weight = model2.fc.weight.data\n",
        "model2.fc = nn.Linear(in_features, 100)\n",
        "model2.fc.weight.data[:out_features] = weight"
      ],
      "execution_count": null,
      "outputs": []
    },
    {
      "cell_type": "code",
      "metadata": {
        "id": "gc-chHjtt_dd"
      },
      "source": [
        "model2.load_state_dict(torch.load(\"./state\"))"
      ],
      "execution_count": null,
      "outputs": []
    },
    {
      "cell_type": "code",
      "metadata": {
        "id": "UOwzQxZGuFSk"
      },
      "source": [
        "trainer2 = Trainer(DEVICE,\n",
        "                    model2,\n",
        "                    LR,\n",
        "                    MOMENTUM,\n",
        "                    WEIGHT_DECAY,\n",
        "                    MILESTONES,\n",
        "                    GAMMA,\n",
        "                    train_dl,\n",
        "                    val_dl,\n",
        "                    test_dl)"
      ],
      "execution_count": null,
      "outputs": []
    },
    {
      "cell_type": "code",
      "metadata": {
        "id": "LqRMb4g2uG2m"
      },
      "source": [
        "trainer.best_net = model2.cuda()\n",
        "\n",
        "#trainer.test()"
      ],
      "execution_count": null,
      "outputs": []
    },
    {
      "cell_type": "code",
      "metadata": {
        "id": "clPyN8yC2dYE"
      },
      "source": [
        "\n",
        "#load\n",
        "f = open('FineTuning_logs.json')\n",
        "x = json.load(f)"
      ],
      "execution_count": null,
      "outputs": []
    }
  ]
}