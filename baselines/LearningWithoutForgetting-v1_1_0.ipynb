{
  "nbformat": 4,
  "nbformat_minor": 0,
  "metadata": {
    "colab": {
      "name": "FineTuning.ipynb",
      "provenance": [],
      "include_colab_link": true
    },
    "kernelspec": {
      "name": "python3",
      "display_name": "Python 3"
    },
    "language_info": {
      "name": "python"
    },
    "accelerator": "GPU",
    "widgets": {
      "application/vnd.jupyter.widget-state+json": {
        "565d2c694023451b92b9dcc27b89702a": {
          "model_module": "@jupyter-widgets/controls",
          "model_name": "HBoxModel",
          "state": {
            "_view_name": "HBoxView",
            "_dom_classes": [],
            "_model_name": "HBoxModel",
            "_view_module": "@jupyter-widgets/controls",
            "_model_module_version": "1.5.0",
            "_view_count": null,
            "_view_module_version": "1.5.0",
            "box_style": "",
            "layout": "IPY_MODEL_b9f8129ac4354219ba22f8226c003e0f",
            "_model_module": "@jupyter-widgets/controls",
            "children": [
              "IPY_MODEL_0799c70766414e0898b9f0ff6bdc0243",
              "IPY_MODEL_3cc87165824540e2a255fdc1acb12590"
            ]
          }
        },
        "b9f8129ac4354219ba22f8226c003e0f": {
          "model_module": "@jupyter-widgets/base",
          "model_name": "LayoutModel",
          "state": {
            "_view_name": "LayoutView",
            "grid_template_rows": null,
            "right": null,
            "justify_content": null,
            "_view_module": "@jupyter-widgets/base",
            "overflow": null,
            "_model_module_version": "1.2.0",
            "_view_count": null,
            "flex_flow": null,
            "width": null,
            "min_width": null,
            "border": null,
            "align_items": null,
            "bottom": null,
            "_model_module": "@jupyter-widgets/base",
            "top": null,
            "grid_column": null,
            "overflow_y": null,
            "overflow_x": null,
            "grid_auto_flow": null,
            "grid_area": null,
            "grid_template_columns": null,
            "flex": null,
            "_model_name": "LayoutModel",
            "justify_items": null,
            "grid_row": null,
            "max_height": null,
            "align_content": null,
            "visibility": null,
            "align_self": null,
            "height": null,
            "min_height": null,
            "padding": null,
            "grid_auto_rows": null,
            "grid_gap": null,
            "max_width": null,
            "order": null,
            "_view_module_version": "1.2.0",
            "grid_template_areas": null,
            "object_position": null,
            "object_fit": null,
            "grid_auto_columns": null,
            "margin": null,
            "display": null,
            "left": null
          }
        },
        "0799c70766414e0898b9f0ff6bdc0243": {
          "model_module": "@jupyter-widgets/controls",
          "model_name": "FloatProgressModel",
          "state": {
            "_view_name": "ProgressView",
            "style": "IPY_MODEL_05d607db2f844c48a0cb4c04d4e49ae8",
            "_dom_classes": [],
            "description": "",
            "_model_name": "FloatProgressModel",
            "bar_style": "success",
            "max": 1,
            "_view_module": "@jupyter-widgets/controls",
            "_model_module_version": "1.5.0",
            "value": 1,
            "_view_count": null,
            "_view_module_version": "1.5.0",
            "orientation": "horizontal",
            "min": 0,
            "description_tooltip": null,
            "_model_module": "@jupyter-widgets/controls",
            "layout": "IPY_MODEL_435c419bb6b2445b820057354db659b9"
          }
        },
        "3cc87165824540e2a255fdc1acb12590": {
          "model_module": "@jupyter-widgets/controls",
          "model_name": "HTMLModel",
          "state": {
            "_view_name": "HTMLView",
            "style": "IPY_MODEL_ccd4d510ef8647df94b758df64061e52",
            "_dom_classes": [],
            "description": "",
            "_model_name": "HTMLModel",
            "placeholder": "​",
            "_view_module": "@jupyter-widgets/controls",
            "_model_module_version": "1.5.0",
            "value": " 169009152/? [00:09&lt;00:00, 17172376.30it/s]",
            "_view_count": null,
            "_view_module_version": "1.5.0",
            "description_tooltip": null,
            "_model_module": "@jupyter-widgets/controls",
            "layout": "IPY_MODEL_5946dfe0e414439c91e77908c7f1e408"
          }
        },
        "05d607db2f844c48a0cb4c04d4e49ae8": {
          "model_module": "@jupyter-widgets/controls",
          "model_name": "ProgressStyleModel",
          "state": {
            "_view_name": "StyleView",
            "_model_name": "ProgressStyleModel",
            "description_width": "initial",
            "_view_module": "@jupyter-widgets/base",
            "_model_module_version": "1.5.0",
            "_view_count": null,
            "_view_module_version": "1.2.0",
            "bar_color": null,
            "_model_module": "@jupyter-widgets/controls"
          }
        },
        "435c419bb6b2445b820057354db659b9": {
          "model_module": "@jupyter-widgets/base",
          "model_name": "LayoutModel",
          "state": {
            "_view_name": "LayoutView",
            "grid_template_rows": null,
            "right": null,
            "justify_content": null,
            "_view_module": "@jupyter-widgets/base",
            "overflow": null,
            "_model_module_version": "1.2.0",
            "_view_count": null,
            "flex_flow": null,
            "width": null,
            "min_width": null,
            "border": null,
            "align_items": null,
            "bottom": null,
            "_model_module": "@jupyter-widgets/base",
            "top": null,
            "grid_column": null,
            "overflow_y": null,
            "overflow_x": null,
            "grid_auto_flow": null,
            "grid_area": null,
            "grid_template_columns": null,
            "flex": null,
            "_model_name": "LayoutModel",
            "justify_items": null,
            "grid_row": null,
            "max_height": null,
            "align_content": null,
            "visibility": null,
            "align_self": null,
            "height": null,
            "min_height": null,
            "padding": null,
            "grid_auto_rows": null,
            "grid_gap": null,
            "max_width": null,
            "order": null,
            "_view_module_version": "1.2.0",
            "grid_template_areas": null,
            "object_position": null,
            "object_fit": null,
            "grid_auto_columns": null,
            "margin": null,
            "display": null,
            "left": null
          }
        },
        "ccd4d510ef8647df94b758df64061e52": {
          "model_module": "@jupyter-widgets/controls",
          "model_name": "DescriptionStyleModel",
          "state": {
            "_view_name": "StyleView",
            "_model_name": "DescriptionStyleModel",
            "description_width": "",
            "_view_module": "@jupyter-widgets/base",
            "_model_module_version": "1.5.0",
            "_view_count": null,
            "_view_module_version": "1.2.0",
            "_model_module": "@jupyter-widgets/controls"
          }
        },
        "5946dfe0e414439c91e77908c7f1e408": {
          "model_module": "@jupyter-widgets/base",
          "model_name": "LayoutModel",
          "state": {
            "_view_name": "LayoutView",
            "grid_template_rows": null,
            "right": null,
            "justify_content": null,
            "_view_module": "@jupyter-widgets/base",
            "overflow": null,
            "_model_module_version": "1.2.0",
            "_view_count": null,
            "flex_flow": null,
            "width": null,
            "min_width": null,
            "border": null,
            "align_items": null,
            "bottom": null,
            "_model_module": "@jupyter-widgets/base",
            "top": null,
            "grid_column": null,
            "overflow_y": null,
            "overflow_x": null,
            "grid_auto_flow": null,
            "grid_area": null,
            "grid_template_columns": null,
            "flex": null,
            "_model_name": "LayoutModel",
            "justify_items": null,
            "grid_row": null,
            "max_height": null,
            "align_content": null,
            "visibility": null,
            "align_self": null,
            "height": null,
            "min_height": null,
            "padding": null,
            "grid_auto_rows": null,
            "grid_gap": null,
            "max_width": null,
            "order": null,
            "_view_module_version": "1.2.0",
            "grid_template_areas": null,
            "object_position": null,
            "object_fit": null,
            "grid_auto_columns": null,
            "margin": null,
            "display": null,
            "left": null
          }
        }
      }
    }
  },
  "cells": [
    {
      "cell_type": "markdown",
      "metadata": {
        "id": "view-in-github",
        "colab_type": "text"
      },
      "source": [
        "<a href=\"https://colab.research.google.com/github/cosminnedescu/ProjectMLDL/blob/main/baselines/LearningWithoutForgetting-v1_1_0.ipynb\" target=\"_parent\"><img src=\"https://colab.research.google.com/assets/colab-badge.svg\" alt=\"Open In Colab\"/></a>"
      ]
    },
    {
      "cell_type": "code",
      "metadata": {
        "id": "pJimWkPdQu6y"
      },
      "source": [
        "import os\n",
        "import random\n",
        "\n",
        "import torch\n",
        "import torch.nn as nn\n",
        "import torch.nn.init as init\n",
        "import torch.optim as optim\n",
        "import torch.nn.functional as F\n",
        "from torch.autograd import Variable\n",
        "\n",
        "import torchvision\n",
        "from torchvision import transforms, datasets, models\n",
        "from torch.utils.data import Subset, DataLoader\n",
        "\n",
        "from PIL import Image\n",
        "\n",
        "import numpy as np\n",
        "import matplotlib \n",
        "import matplotlib.pyplot as plt\n",
        "from copy import copy\n",
        "from copy import deepcopy"
      ],
      "execution_count": 1,
      "outputs": []
    },
    {
      "cell_type": "markdown",
      "metadata": {
        "id": "7BZw-bZJ16ay"
      },
      "source": [
        "#### Cloning the Git repository"
      ]
    },
    {
      "cell_type": "code",
      "metadata": {
        "id": "yjntw1jZQ7Lg",
        "outputId": "2b61cfc4-e2d7-48d0-da30-cc1a64bc1734",
        "colab": {
          "base_uri": "https://localhost:8080/"
        }
      },
      "source": [
        "!rm -rf ProjectMLDL\n",
        "if not os.path.isdir('/content/ProjectMLDL'):\n",
        "  !git clone https://github.com/cosminnedescu/ProjectMLDL.git\n",
        "  %cd /content/ProjectMLDL\n",
        "  !rm -rf LICENSE README.md"
      ],
      "execution_count": 2,
      "outputs": [
        {
          "output_type": "stream",
          "text": [
            "Cloning into 'ProjectMLDL'...\n",
            "remote: Enumerating objects: 575, done.\u001b[K\n",
            "remote: Counting objects: 100% (186/186), done.\u001b[K\n",
            "remote: Compressing objects: 100% (135/135), done.\u001b[K\n",
            "remote: Total 575 (delta 105), reused 50 (delta 50), pack-reused 389\u001b[K\n",
            "Receiving objects: 100% (575/575), 17.89 MiB | 17.85 MiB/s, done.\n",
            "Resolving deltas: 100% (254/254), done.\n",
            "/content/ProjectMLDL\n"
          ],
          "name": "stdout"
        }
      ]
    },
    {
      "cell_type": "code",
      "metadata": {
        "id": "nvqmxRxo2lUW"
      },
      "source": [
        "from data.cifar100 import CIFAR100\n",
        "from model.resnet32 import resnet32\n",
        "import data.utils\n",
        "from model.lwf import LearningWithoutForgetting"
      ],
      "execution_count": 3,
      "outputs": []
    },
    {
      "cell_type": "markdown",
      "metadata": {
        "id": "Nhv6X5Cg2B2y"
      },
      "source": [
        "#### Downloading data from Cifar100"
      ]
    },
    {
      "cell_type": "code",
      "metadata": {
        "id": "XwomFTtQo1x-"
      },
      "source": [
        "# True mean and std of Cifar100 dataset (src=\"https://gist.github.com/weiaicunzai/e623931921efefd4c331622c344d8151\")\n",
        "mean = [0.5071, 0.4867, 0.4408]\n",
        "std = [0.2675, 0.2565, 0.2761]\n",
        "\n",
        "train_transform = transforms.Compose([\n",
        "    transforms.RandomCrop(32, padding=4),\n",
        "    transforms.RandomHorizontalFlip(),\n",
        "    transforms.ToTensor(),\n",
        "    transforms.Normalize(mean, std),\n",
        "])\n",
        "test_transform = transforms.Compose(\n",
        "    [transforms.ToTensor(), \n",
        "     transforms.Normalize(mean, std),\n",
        "     ])"
      ],
      "execution_count": 4,
      "outputs": []
    },
    {
      "cell_type": "code",
      "metadata": {
        "colab": {
          "base_uri": "https://localhost:8080/",
          "height": 104,
          "referenced_widgets": [
            "565d2c694023451b92b9dcc27b89702a",
            "b9f8129ac4354219ba22f8226c003e0f",
            "0799c70766414e0898b9f0ff6bdc0243",
            "3cc87165824540e2a255fdc1acb12590",
            "05d607db2f844c48a0cb4c04d4e49ae8",
            "435c419bb6b2445b820057354db659b9",
            "ccd4d510ef8647df94b758df64061e52",
            "5946dfe0e414439c91e77908c7f1e408"
          ]
        },
        "id": "BCz7GGfdpRiL",
        "outputId": "6b357d11-82e1-4d30-ee10-9e8158992b8e"
      },
      "source": [
        "train_data = CIFAR100(\"dataset\", train=True, transform=train_transform, download=True)\n",
        "test_data = CIFAR100(\"dataset\", train=False, transform=test_transform, download=True)"
      ],
      "execution_count": 5,
      "outputs": [
        {
          "output_type": "stream",
          "text": [
            "Downloading https://www.cs.toronto.edu/~kriz/cifar-100-python.tar.gz to dataset/cifar-100-python.tar.gz\n"
          ],
          "name": "stdout"
        },
        {
          "output_type": "display_data",
          "data": {
            "application/vnd.jupyter.widget-view+json": {
              "model_id": "565d2c694023451b92b9dcc27b89702a",
              "version_minor": 0,
              "version_major": 2
            },
            "text/plain": [
              "HBox(children=(FloatProgress(value=1.0, bar_style='info', max=1.0), HTML(value='')))"
            ]
          },
          "metadata": {
            "tags": []
          }
        },
        {
          "output_type": "stream",
          "text": [
            "Extracting dataset/cifar-100-python.tar.gz to dataset\n",
            "Files already downloaded and verified\n"
          ],
          "name": "stdout"
        }
      ]
    },
    {
      "cell_type": "code",
      "metadata": {
        "colab": {
          "base_uri": "https://localhost:8080/",
          "height": 302
        },
        "id": "cGlVf385aUDd",
        "outputId": "68e2878c-f6ee-41b3-d2d2-772c5123e6c8"
      },
      "source": [
        "#check images and labels after shuffle\n",
        "#https://github.com/keras-team/keras/issues/2653#issuecomment-450133996\n",
        "import matplotlib.pyplot as plt\n",
        "\n",
        "plt.imshow(train_data.data[6])\n",
        "print(\"classe: {}\".format(train_data.targets[6]))"
      ],
      "execution_count": 6,
      "outputs": [
        {
          "output_type": "stream",
          "text": [
            "\n",
            "classe: 90\n"
          ],
          "name": "stdout"
        },
        {
          "output_type": "display_data",
          "data": {
            "image/png": "[encoded data removed]",
            "text/plain": [
              "<Figure size 432x288 with 1 Axes>"
            ]
          },
          "metadata": {
            "tags": [],
            "needs_background": "light"
          }
        }
      ]
    },
    {
      "cell_type": "markdown",
      "metadata": {
        "id": "yRoS-R_sRhHT"
      },
      "source": [
        "## Learning Without Forgetting"
      ]
    },
    {
      "cell_type": "markdown",
      "metadata": {
        "id": "3ocVW0wM2Iw2"
      },
      "source": [
        "### Defining hyperparameters according to iCarl paper"
      ]
    },
    {
      "cell_type": "code",
      "metadata": {
        "id": "nmEo_9lnwyBk"
      },
      "source": [
        "# Settings\n",
        "DEVICE = 'cuda'\n",
        "NUM_CLASSES = 100         # Total number of classes\n",
        "VAL_SIZE = 0.2            # Proportion of validation set with respect to training set (between 0 and 1)\n",
        "\n",
        "# Training\n",
        "BATCH_SIZE = 128          # Batch size\n",
        "LR = 2                    # Initial learning rate\n",
        "                       \n",
        "MOMENTUM = 0.9            # Momentum for stochastic gradient descent (SGD)\n",
        "WEIGHT_DECAY = 1e-5       # Weight decay from iCaRL\n",
        "\n",
        "RANDOM_SEED = [42,13,10]  # Random seeds defining the runs of every method\n",
        "                          # Note: this should be at least 3 to have a fair benchmark\n",
        "\n",
        "NUM_EPOCHS = 70           # Total number of training epochs\n",
        "MILESTONES = [49, 63]     # Step down policy from iCaRL (MultiStepLR)\n",
        "                          # Decrease the learning rate by gamma at each milestone\n",
        "GAMMA = 0.2               # Gamma factor from iCaRL (1/5)"
      ],
      "execution_count": 7,
      "outputs": []
    },
    {
      "cell_type": "markdown",
      "metadata": {
        "id": "btwAEFoF0YUE"
      },
      "source": [
        "### Definition of `do_shuffle` and `do_group_classes`\n",
        "`do_shuffle` and `do_group_classes` are two functions that rispectively shuffle data downloaded from Cifar100 and get the incremental classes division for the incremental learning phase.\n",
        "\n"
      ]
    },
    {
      "cell_type": "code",
      "metadata": {
        "id": "rVh61C63FECy"
      },
      "source": [
        "def do_shuffle(train_d, test_d):\n",
        "  train_d.__shuffle_seed__(RANDOM_SEED[run])\n",
        "  test_d.__shuffle_seed__(RANDOM_SEED[run])\n",
        "  return train_d, test_d\n",
        "\n",
        "def do_group_classes(train_d, test_d):\n",
        "  indexes_train_data = train_d.__incremental_indexes__(True)\n",
        "  indexes_test_data = test_d.__incremental_indexes__(False)\n",
        "\n",
        "\n",
        "  train_dataloader = [[] for i in range(10)]\n",
        "  val_dataloader = [[] for i in range(10)]\n",
        "  test_dataloader = [[] for i in range(10)]\n",
        "  for i in range(10):\n",
        "    train_dataset = Subset(train_d, indexes_train_data[i])\n",
        "    train_set, val_set = torch.utils.data.random_split(train_dataset, \n",
        "                                                       [int((1-VAL_SIZE)*len(indexes_train_data[i])), int(VAL_SIZE*len(indexes_train_data[i]))])\n",
        "    tmp_dl = DataLoader(train_set, \n",
        "                        batch_size=BATCH_SIZE,\n",
        "                        shuffle=True,\n",
        "                        num_workers=4,\n",
        "                        drop_last=True)\n",
        "    train_dataloader[i] = copy(tmp_dl) # gruppi di 10 classi \n",
        "    tmp_dl = DataLoader(val_set, \n",
        "                        batch_size=BATCH_SIZE,\n",
        "                        shuffle=True,\n",
        "                        num_workers=4,\n",
        "                        drop_last=True)\n",
        "    val_dataloader[i] = copy(tmp_dl) # gruppi di 10 classi\n",
        "\n",
        "\n",
        "    test_dataset = Subset(test_d, indexes_test_data[i])\n",
        "    tmp_dl = DataLoader(test_dataset,\n",
        "                        batch_size=BATCH_SIZE,\n",
        "                        shuffle=True,\n",
        "                        num_workers=4,\n",
        "                        drop_last=True)\n",
        "    test_dataloader[i] = copy(tmp_dl) # classi incrementali: 0:0-9, 1:0-19, 2:0-29, ..., 9:0-99\n",
        "    \n",
        "  return train_dataloader, val_dataloader, test_dataloader"
      ],
      "execution_count": 8,
      "outputs": []
    },
    {
      "cell_type": "markdown",
      "metadata": {
        "id": "20APZIgI1eBy"
      },
      "source": [
        "### Going on with the model\n",
        "This is the main LWF step.\n",
        "\n",
        "This step is run 3 times with different `RANDOM_SEED`.\n",
        "Here the model is instantiated, trained and tested.\n",
        "\n",
        "Results and some statistics are then stored in the variable `logs`."
      ]
    },
    {
      "cell_type": "code",
      "metadata": {
        "id": "mJHKbipz0bMr",
        "colab": {
          "base_uri": "https://localhost:8080/"
        },
        "outputId": "e98e695a-6416-4bc3-f372-a83c5cdf2dc0"
      },
      "source": [
        "logs = [[] for i in range(len(RANDOM_SEED))]\n",
        "best_net_tot_classes = [None for i in range(len(RANDOM_SEED))]\n",
        "\n",
        "\n",
        "for run in range(len(RANDOM_SEED)):\n",
        "  random.seed(RANDOM_SEED[run])\n",
        "  print(\"#################################\")\n",
        "  print(f\"Radom seed: {RANDOM_SEED[run]}\")\n",
        "  print(\"\")\n",
        "\n",
        "  #shuffle data\n",
        "  train_data, test_data = do_shuffle(train_data, test_data)\n",
        "  #get dataloader separated in incremental groups of 10 classes\n",
        "  train_dl, val_dl, test_dl = do_group_classes(train_data, test_data)\n",
        "\n",
        "  #create the resnet\n",
        "  net = resnet32()\n",
        "\n",
        "  #define criterion, parameters, optimizer and scheduler\n",
        "  criterion = nn.BCEWithLogitsLoss()\n",
        "  parameters_to_optimize = net.parameters()\n",
        "  optimizer = optim.SGD(parameters_to_optimize, \n",
        "                        lr=LR, \n",
        "                        momentum=MOMENTUM, \n",
        "                        weight_decay=WEIGHT_DECAY)\n",
        "  scheduler = optim.lr_scheduler.MultiStepLR(optimizer, \n",
        "                                             milestones=MILESTONES, \n",
        "                                             gamma=GAMMA)\n",
        "  \n",
        "  trainer = LearningWithoutForgetting(DEVICE,\n",
        "                                      net,\n",
        "                                      LR,\n",
        "                                      MOMENTUM,\n",
        "                                      WEIGHT_DECAY,\n",
        "                                      MILESTONES,\n",
        "                                      GAMMA,\n",
        "                                      train_dl,\n",
        "                                      val_dl,\n",
        "                                      test_dl)\n",
        "\n",
        "  #train and evaluate the model\n",
        "  logs[run] = trainer.train_model(NUM_EPOCHS)\n",
        "\n",
        "  best_net_tot_classes[run] = deepcopy(trainer.best_net)\n",
        "\n",
        "  print(\"#################################\")\n",
        "  print(\"\")\n",
        "  print(\"\")"
      ],
      "execution_count": 9,
      "outputs": [
        {
          "output_type": "stream",
          "text": [
            "#################################\n",
            "Radom seed: 42\n",
            "\n"
          ],
          "name": "stdout"
        },
        {
          "output_type": "stream",
          "text": [
            "/usr/local/lib/python3.7/dist-packages/torch/utils/data/dataloader.py:477: UserWarning: This DataLoader will create 4 worker processes in total. Our suggested max number of worker in current system is 2, which is smaller than what this DataLoader is going to create. Please be aware that excessive worker creation might get DataLoader running slow or even freeze, lower the worker number to avoid potential slowness/freeze if necessary.\n",
            "  cpuset_checked))\n"
          ],
          "name": "stderr"
        },
        {
          "output_type": "stream",
          "text": [
            "Epoch 1/1 LR: [2]\n",
            "Validation accuracy on group 1/10: 0.13\n",
            "Best model updated\n",
            "\n",
            "Group 1 Finished!\n",
            "Best accuracy found at epoch 1: 0.13\n",
            "Testing classes seen so far, accuracy: 0.13\n",
            "\n",
            "=============================================\n",
            "\n",
            "Epoch 1/1 LR: [2]\n",
            "Validation accuracy on group 2/10: 0.00\n",
            "\n",
            "Group 2 Finished!\n",
            "Best accuracy found at epoch 1: 0.00\n",
            "Testing classes seen so far, accuracy: 0.08\n",
            "\n",
            "=============================================\n",
            "\n",
            "Epoch 1/1 LR: [2]\n",
            "Validation accuracy on group 3/10: 0.00\n",
            "\n",
            "Group 3 Finished!\n",
            "Best accuracy found at epoch 1: 0.00\n",
            "Testing classes seen so far, accuracy: 0.03\n",
            "\n",
            "=============================================\n",
            "\n",
            "Epoch 1/1 LR: [2]\n",
            "Validation accuracy on group 4/10: 0.00\n",
            "\n",
            "Group 4 Finished!\n",
            "Best accuracy found at epoch 1: 0.00\n",
            "Testing classes seen so far, accuracy: 0.03\n",
            "\n",
            "=============================================\n",
            "\n",
            "Epoch 1/1 LR: [2]\n",
            "Validation accuracy on group 5/10: 0.03\n",
            "Best model updated\n",
            "\n",
            "Group 5 Finished!\n",
            "Best accuracy found at epoch 1: 0.03\n",
            "Testing classes seen so far, accuracy: 0.02\n",
            "\n",
            "=============================================\n",
            "\n",
            "Epoch 1/1 LR: [2]\n",
            "Validation accuracy on group 6/10: 0.00\n",
            "\n",
            "Group 6 Finished!\n",
            "Best accuracy found at epoch 1: 0.00\n",
            "Testing classes seen so far, accuracy: 0.02\n",
            "\n",
            "=============================================\n",
            "\n",
            "Epoch 1/1 LR: [2]\n",
            "Validation accuracy on group 7/10: 0.00\n",
            "\n",
            "Group 7 Finished!\n",
            "Best accuracy found at epoch 1: 0.00\n",
            "Testing classes seen so far, accuracy: 0.02\n",
            "\n",
            "=============================================\n",
            "\n",
            "Epoch 1/1 LR: [2]\n",
            "Validation accuracy on group 8/10: 0.00\n",
            "\n",
            "Group 8 Finished!\n",
            "Best accuracy found at epoch 1: 0.00\n",
            "Testing classes seen so far, accuracy: 0.02\n",
            "\n",
            "=============================================\n",
            "\n",
            "Epoch 1/1 LR: [2]\n",
            "Validation accuracy on group 9/10: 0.00\n",
            "\n",
            "Group 9 Finished!\n",
            "Best accuracy found at epoch 1: 0.00\n",
            "Testing classes seen so far, accuracy: 0.01\n",
            "\n",
            "=============================================\n",
            "\n",
            "Epoch 1/1 LR: [2]\n",
            "Validation accuracy on group 10/10: 0.00\n",
            "\n",
            "Group 10 Finished!\n",
            "Best accuracy found at epoch 1: 0.00\n",
            "Testing classes seen so far, accuracy: 0.01\n",
            "\n",
            "=============================================\n",
            "\n",
            "#################################\n",
            "\n",
            "\n",
            "#################################\n",
            "Radom seed: 13\n",
            "\n",
            "Epoch 1/1 LR: [2]\n",
            "Validation accuracy on group 1/10: 0.09\n",
            "Best model updated\n",
            "\n",
            "Group 1 Finished!\n",
            "Best accuracy found at epoch 1: 0.09\n",
            "Testing classes seen so far, accuracy: 0.12\n",
            "\n",
            "=============================================\n",
            "\n",
            "Epoch 1/1 LR: [2]\n",
            "Validation accuracy on group 2/10: 0.00\n",
            "\n",
            "Group 2 Finished!\n",
            "Best accuracy found at epoch 1: 0.00\n",
            "Testing classes seen so far, accuracy: 0.04\n",
            "\n",
            "=============================================\n",
            "\n",
            "Epoch 1/1 LR: [2]\n",
            "Validation accuracy on group 3/10: 0.00\n",
            "\n",
            "Group 3 Finished!\n",
            "Best accuracy found at epoch 1: 0.00\n",
            "Testing classes seen so far, accuracy: 0.03\n",
            "\n",
            "=============================================\n",
            "\n",
            "Epoch 1/1 LR: [2]\n",
            "Validation accuracy on group 4/10: 0.00\n",
            "\n",
            "Group 4 Finished!\n",
            "Best accuracy found at epoch 1: 0.00\n",
            "Testing classes seen so far, accuracy: 0.02\n",
            "\n",
            "=============================================\n",
            "\n",
            "Epoch 1/1 LR: [2]\n",
            "Validation accuracy on group 5/10: 0.00\n",
            "\n",
            "Group 5 Finished!\n",
            "Best accuracy found at epoch 1: 0.00\n",
            "Testing classes seen so far, accuracy: 0.02\n",
            "\n",
            "=============================================\n",
            "\n",
            "Epoch 1/1 LR: [2]\n",
            "Validation accuracy on group 6/10: 0.03\n",
            "Best model updated\n",
            "\n",
            "Group 6 Finished!\n",
            "Best accuracy found at epoch 1: 0.03\n",
            "Testing classes seen so far, accuracy: 0.02\n",
            "\n",
            "=============================================\n",
            "\n",
            "Epoch 1/1 LR: [2]\n",
            "Validation accuracy on group 7/10: 0.01\n",
            "Best model updated\n",
            "\n",
            "Group 7 Finished!\n",
            "Best accuracy found at epoch 1: 0.01\n",
            "Testing classes seen so far, accuracy: 0.02\n",
            "\n",
            "=============================================\n",
            "\n",
            "Epoch 1/1 LR: [2]\n",
            "Validation accuracy on group 8/10: 0.01\n",
            "Best model updated\n",
            "\n",
            "Group 8 Finished!\n",
            "Best accuracy found at epoch 1: 0.01\n",
            "Testing classes seen so far, accuracy: 0.01\n",
            "\n",
            "=============================================\n",
            "\n",
            "Epoch 1/1 LR: [2]\n",
            "Validation accuracy on group 9/10: 0.00\n",
            "\n",
            "Group 9 Finished!\n",
            "Best accuracy found at epoch 1: 0.00\n",
            "Testing classes seen so far, accuracy: 0.01\n",
            "\n",
            "=============================================\n",
            "\n",
            "Epoch 1/1 LR: [2]\n",
            "Validation accuracy on group 10/10: 0.00\n",
            "\n",
            "Group 10 Finished!\n",
            "Best accuracy found at epoch 1: 0.00\n",
            "Testing classes seen so far, accuracy: 0.01\n",
            "\n",
            "=============================================\n",
            "\n",
            "#################################\n",
            "\n",
            "\n",
            "#################################\n",
            "Radom seed: 10\n",
            "\n",
            "Epoch 1/1 LR: [2]\n",
            "Validation accuracy on group 1/10: 0.13\n",
            "Best model updated\n",
            "\n",
            "Group 1 Finished!\n",
            "Best accuracy found at epoch 1: 0.13\n",
            "Testing classes seen so far, accuracy: 0.13\n",
            "\n",
            "=============================================\n",
            "\n",
            "Epoch 1/1 LR: [2]\n",
            "Validation accuracy on group 2/10: 0.00\n",
            "\n",
            "Group 2 Finished!\n",
            "Best accuracy found at epoch 1: 0.00\n",
            "Testing classes seen so far, accuracy: 0.06\n",
            "\n",
            "=============================================\n",
            "\n",
            "Epoch 1/1 LR: [2]\n",
            "Validation accuracy on group 3/10: 0.00\n",
            "\n",
            "Group 3 Finished!\n",
            "Best accuracy found at epoch 1: 0.00\n",
            "Testing classes seen so far, accuracy: 0.03\n",
            "\n",
            "=============================================\n",
            "\n",
            "Epoch 1/1 LR: [2]\n",
            "Validation accuracy on group 4/10: 0.00\n",
            "\n",
            "Group 4 Finished!\n",
            "Best accuracy found at epoch 1: 0.00\n",
            "Testing classes seen so far, accuracy: 0.02\n",
            "\n",
            "=============================================\n",
            "\n",
            "Epoch 1/1 LR: [2]\n",
            "Validation accuracy on group 5/10: 0.00\n",
            "\n",
            "Group 5 Finished!\n",
            "Best accuracy found at epoch 1: 0.00\n",
            "Testing classes seen so far, accuracy: 0.02\n",
            "\n",
            "=============================================\n",
            "\n",
            "Epoch 1/1 LR: [2]\n",
            "Validation accuracy on group 6/10: 0.00\n",
            "\n",
            "Group 6 Finished!\n",
            "Best accuracy found at epoch 1: 0.00\n",
            "Testing classes seen so far, accuracy: 0.02\n",
            "\n",
            "=============================================\n",
            "\n",
            "Epoch 1/1 LR: [2]\n",
            "Validation accuracy on group 7/10: 0.00\n",
            "\n",
            "Group 7 Finished!\n",
            "Best accuracy found at epoch 1: 0.00\n",
            "Testing classes seen so far, accuracy: 0.01\n",
            "\n",
            "=============================================\n",
            "\n",
            "Epoch 1/1 LR: [2]\n",
            "Validation accuracy on group 8/10: 0.00\n",
            "\n",
            "Group 8 Finished!\n",
            "Best accuracy found at epoch 1: 0.00\n",
            "Testing classes seen so far, accuracy: 0.01\n",
            "\n",
            "=============================================\n",
            "\n",
            "Epoch 1/1 LR: [2]\n",
            "Validation accuracy on group 9/10: 0.00\n",
            "\n",
            "Group 9 Finished!\n",
            "Best accuracy found at epoch 1: 0.00\n",
            "Testing classes seen so far, accuracy: 0.01\n",
            "\n",
            "=============================================\n",
            "\n",
            "Epoch 1/1 LR: [2]\n",
            "Validation accuracy on group 10/10: 0.00\n",
            "\n",
            "Group 10 Finished!\n",
            "Best accuracy found at epoch 1: 0.00\n",
            "Testing classes seen so far, accuracy: 0.01\n",
            "\n",
            "=============================================\n",
            "\n",
            "#################################\n",
            "\n",
            "\n"
          ],
          "name": "stdout"
        }
      ]
    },
    {
      "cell_type": "markdown",
      "metadata": {
        "id": "UIUvaKyhx0rC"
      },
      "source": [
        "### Store logs in more usable dtype"
      ]
    },
    {
      "cell_type": "code",
      "metadata": {
        "id": "1-uV6X0yxzQc"
      },
      "source": [
        "train_loss = [[logs[run_i]['group_train_loss'][i] for i in range(10)] for run_i in range(len(RANDOM_SEED))]\n",
        "train_accuracy = [[logs[run_i]['group_train_accuracies'][i] for i in range(10)] for run_i in range(len(RANDOM_SEED))]\n",
        "val_loss = [[logs[run_i]['val_losses'][i] for i in range(10)] for run_i in range(len(RANDOM_SEED))]\n",
        "val_accuracy = [[logs[run_i]['val_accuracies'][i] for i in range(10)] for run_i in range(len(RANDOM_SEED))]\n",
        "test_accuracy = [[logs[run_i]['test_accuracies'][i] for i in range(10)] for run_i in range(len(RANDOM_SEED))]\n",
        "predictions = [logs[run_i]['predictions'].cpu().data.numpy().tolist() for run_i in range(len(RANDOM_SEED))]\n",
        "true_labels = [logs[run_i]['true_labels'].cpu().data.numpy().tolist() for run_i in range(len(RANDOM_SEED))]"
      ],
      "execution_count": 31,
      "outputs": []
    },
    {
      "cell_type": "markdown",
      "metadata": {
        "id": "6r_ybcCLmc2R"
      },
      "source": [
        "### Save the model"
      ]
    },
    {
      "cell_type": "markdown",
      "metadata": {
        "id": "nIG3hIOkyFNs"
      },
      "source": [
        "#### Saving logs in JSON files"
      ]
    },
    {
      "cell_type": "code",
      "metadata": {
        "id": "mF_GR4KAyNYs",
        "colab": {
          "base_uri": "https://localhost:8080/"
        },
        "outputId": "e0ae6a5d-5cac-418c-c986-736de36d2773"
      },
      "source": [
        "import json\n",
        "\n",
        "with open('states/LWF_train_loss.json', 'w') as f:\n",
        "  json.dump(train_loss, f)\n",
        "f.close\n",
        "with open('states/LWF_train_accuracy.json', 'w') as f:\n",
        "  json.dump(train_accuracy, f)\n",
        "f.close\n",
        "with open('states/LWF_val_loss.json', 'w') as f:\n",
        "  json.dump(val_loss, f)\n",
        "f.close  \n",
        "with open('states/LWF_val_accuracy.json', 'w') as f:\n",
        "  json.dump(val_accuracy, f)\n",
        "f.close\n",
        "with open('states/LWF_test_accuracy.json', 'w') as f:\n",
        "  json.dump(test_accuracy, f)\n",
        "f.close\n",
        "with open('states/LWF_predictions.json', 'w') as f:\n",
        "  json.dump(predictions, f)\n",
        "f.close\n",
        "with open('states/LWF_targets.json', 'w') as f:\n",
        "  json.dump(targets, f)\n",
        "f.close"
      ],
      "execution_count": 29,
      "outputs": [
        {
          "output_type": "execute_result",
          "data": {
            "text/plain": [
              "<function TextIOWrapper.close>"
            ]
          },
          "metadata": {
            "tags": []
          },
          "execution_count": 29
        }
      ]
    },
    {
      "cell_type": "markdown",
      "metadata": {
        "id": "JoVU9_V4zXOL"
      },
      "source": [
        "#### Saving best resnet on 100 classes for each seed"
      ]
    },
    {
      "cell_type": "code",
      "metadata": {
        "id": "nukM57Euzgr9"
      },
      "source": [
        "for i in range(len(RANDOM_SEED)):\n",
        "  torch.save(best_net_tot_classes[i].state_dict(), \"states/LWF_bestnet_seed[{}]\".format(RANDOM_SEED[i]))"
      ],
      "execution_count": null,
      "outputs": []
    },
    {
      "cell_type": "markdown",
      "metadata": {
        "id": "2NMLqiIS19IJ"
      },
      "source": [
        "### Print some graphs"
      ]
    },
    {
      "cell_type": "code",
      "metadata": {
        "id": "G6Mg2QiIBNRo"
      },
      "source": [
        "from data.utils_plot import plot_train_val, plot_test_accuracies, plot_confusion_matrix"
      ],
      "execution_count": 23,
      "outputs": []
    },
    {
      "cell_type": "code",
      "metadata": {
        "id": "M2QzOlExmhKo"
      },
      "source": [
        "train_loss = np.array(train_loss)\n",
        "train_accuracy = np.array(train_accuracy)\n",
        "val_loss = np.array(val_loss)\n",
        "val_accuracy = np.array(val_accuracy)\n",
        "test_accuracy = np.array(test_accuracy)\n",
        "\n",
        "train_loss_stats = np.array([train_loss.mean(0), train_loss.std(0)]).transpose()\n",
        "train_accuracy_stats = np.array([train_accuracy.mean(0), train_accuracy.std(0)]).transpose()\n",
        "val_loss_stats = np.array([val_loss.mean(0), val_loss.std(0)]).transpose()\n",
        "val_accuracy_stats = np.array([val_accuracy.mean(0), val_accuracy.std(0)]).transpose()\n",
        "test_accuracy_stats = np.array([test_accuracy.mean(0), test_accuracy.std(0)]).transpose()"
      ],
      "execution_count": null,
      "outputs": []
    },
    {
      "cell_type": "markdown",
      "metadata": {
        "id": "6rB0p1PlFxrc"
      },
      "source": [
        "#### Train validation loss"
      ]
    },
    {
      "cell_type": "code",
      "metadata": {
        "id": "xy7FS53Mmmg-"
      },
      "source": [
        "plot_train_val(train_loss_stats, val_loss_stats, loss = True)"
      ],
      "execution_count": null,
      "outputs": []
    },
    {
      "cell_type": "markdown",
      "metadata": {
        "id": "Hb_RNTNKF18b"
      },
      "source": [
        "#### Train validation accuracy"
      ]
    },
    {
      "cell_type": "code",
      "metadata": {
        "id": "05IT5LFUBBBV"
      },
      "source": [
        "plot_train_val(train_accuracy_stats, val_accuracy_stats, loss = False)"
      ],
      "execution_count": null,
      "outputs": []
    },
    {
      "cell_type": "markdown",
      "metadata": {
        "id": "llzylw_LF7e_"
      },
      "source": [
        "#### Test accuracy"
      ]
    },
    {
      "cell_type": "code",
      "metadata": {
        "id": "Bou4H0k9mteX"
      },
      "source": [
        "plot_test_accuracies(test_accuracy_stats)"
      ],
      "execution_count": null,
      "outputs": []
    },
    {
      "cell_type": "markdown",
      "metadata": {
        "id": "gN6cighYm1nG"
      },
      "source": [
        "#### Confusion Matrix"
      ]
    },
    {
      "cell_type": "code",
      "metadata": {
        "id": "LPG6aNRjm5Se",
        "colab": {
          "base_uri": "https://localhost:8080/",
          "height": 1000
        },
        "outputId": "3341d5f6-c775-44ba-a3e1-e06c6624b8e6"
      },
      "source": [
        "for run in range(len(RANDOM_SEED)):\n",
        "  targets = np.array(true_labels[run])\n",
        "  preds = np.array(predictions[run])\n",
        "\n",
        "  plot_confusion_matrix(targets, preds, RANDOM_SEED[run], 'LWF')"
      ],
      "execution_count": 32,
      "outputs": [
        {
          "output_type": "display_data",
          "data": {
            "image/png": "[encoded data removed]",
            "text/plain": [
              "<Figure size 500x500 with 2 Axes>"
            ]
          },
          "metadata": {
            "tags": [],
            "needs_background": "light"
          }
        },
        {
          "output_type": "display_data",
          "data": {
            "image/png": "[encoded data removed]",
            "text/plain": [
              "<Figure size 500x500 with 2 Axes>"
            ]
          },
          "metadata": {
            "tags": [],
            "needs_background": "light"
          }
        },
        {
          "output_type": "display_data",
          "data": {
            "image/png": "[encoded data removed]",
            "text/plain": [
              "<Figure size 500x500 with 2 Axes>"
            ]
          },
          "metadata": {
            "tags": [],
            "needs_background": "light"
          }
        }
      ]
    }
  ]
}