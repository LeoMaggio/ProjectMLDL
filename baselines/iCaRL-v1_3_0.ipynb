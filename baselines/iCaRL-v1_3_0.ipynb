{
  "nbformat": 4,
  "nbformat_minor": 0,
  "metadata": {
    "colab": {
      "name": "FineTuning.ipynb",
      "provenance": [],
      "include_colab_link": true
    },
    "kernelspec": {
      "name": "python3",
      "display_name": "Python 3"
    },
    "language_info": {
      "name": "python"
    },
    "widgets": {
      "application/vnd.jupyter.widget-state+json": {
        "67f724c4c16e4816b7e152223b90a845": {
          "model_module": "@jupyter-widgets/controls",
          "model_name": "HBoxModel",
          "state": {
            "_view_name": "HBoxView",
            "_dom_classes": [],
            "_model_name": "HBoxModel",
            "_view_module": "@jupyter-widgets/controls",
            "_model_module_version": "1.5.0",
            "_view_count": null,
            "_view_module_version": "1.5.0",
            "box_style": "",
            "layout": "IPY_MODEL_1384cf1b0d6a4d4899d6a4f80ea408f6",
            "_model_module": "@jupyter-widgets/controls",
            "children": [
              "IPY_MODEL_9fc68d28348244a1913aed2970a8128f",
              "IPY_MODEL_4af830ab95864c3f80b11d79d9ac158e"
            ]
          }
        },
        "1384cf1b0d6a4d4899d6a4f80ea408f6": {
          "model_module": "@jupyter-widgets/base",
          "model_name": "LayoutModel",
          "state": {
            "_view_name": "LayoutView",
            "grid_template_rows": null,
            "right": null,
            "justify_content": null,
            "_view_module": "@jupyter-widgets/base",
            "overflow": null,
            "_model_module_version": "1.2.0",
            "_view_count": null,
            "flex_flow": null,
            "width": null,
            "min_width": null,
            "border": null,
            "align_items": null,
            "bottom": null,
            "_model_module": "@jupyter-widgets/base",
            "top": null,
            "grid_column": null,
            "overflow_y": null,
            "overflow_x": null,
            "grid_auto_flow": null,
            "grid_area": null,
            "grid_template_columns": null,
            "flex": null,
            "_model_name": "LayoutModel",
            "justify_items": null,
            "grid_row": null,
            "max_height": null,
            "align_content": null,
            "visibility": null,
            "align_self": null,
            "height": null,
            "min_height": null,
            "padding": null,
            "grid_auto_rows": null,
            "grid_gap": null,
            "max_width": null,
            "order": null,
            "_view_module_version": "1.2.0",
            "grid_template_areas": null,
            "object_position": null,
            "object_fit": null,
            "grid_auto_columns": null,
            "margin": null,
            "display": null,
            "left": null
          }
        },
        "9fc68d28348244a1913aed2970a8128f": {
          "model_module": "@jupyter-widgets/controls",
          "model_name": "FloatProgressModel",
          "state": {
            "_view_name": "ProgressView",
            "style": "IPY_MODEL_cabcaa57eb9a497abaedea1533f3209b",
            "_dom_classes": [],
            "description": "",
            "_model_name": "FloatProgressModel",
            "bar_style": "success",
            "max": 169001437,
            "_view_module": "@jupyter-widgets/controls",
            "_model_module_version": "1.5.0",
            "value": 169001437,
            "_view_count": null,
            "_view_module_version": "1.5.0",
            "orientation": "horizontal",
            "min": 0,
            "description_tooltip": null,
            "_model_module": "@jupyter-widgets/controls",
            "layout": "IPY_MODEL_9d33ad091524425182468421d85350ae"
          }
        },
        "4af830ab95864c3f80b11d79d9ac158e": {
          "model_module": "@jupyter-widgets/controls",
          "model_name": "HTMLModel",
          "state": {
            "_view_name": "HTMLView",
            "style": "IPY_MODEL_48536dfb4f864615a32cb1c7e6d20817",
            "_dom_classes": [],
            "description": "",
            "_model_name": "HTMLModel",
            "placeholder": "​",
            "_view_module": "@jupyter-widgets/controls",
            "_model_module_version": "1.5.0",
            "value": " 169001984/? [00:21&lt;00:00, 7879397.34it/s]",
            "_view_count": null,
            "_view_module_version": "1.5.0",
            "description_tooltip": null,
            "_model_module": "@jupyter-widgets/controls",
            "layout": "IPY_MODEL_9ae1bc82d4b4445c85333d7f0533f527"
          }
        },
        "cabcaa57eb9a497abaedea1533f3209b": {
          "model_module": "@jupyter-widgets/controls",
          "model_name": "ProgressStyleModel",
          "state": {
            "_view_name": "StyleView",
            "_model_name": "ProgressStyleModel",
            "description_width": "initial",
            "_view_module": "@jupyter-widgets/base",
            "_model_module_version": "1.5.0",
            "_view_count": null,
            "_view_module_version": "1.2.0",
            "bar_color": null,
            "_model_module": "@jupyter-widgets/controls"
          }
        },
        "9d33ad091524425182468421d85350ae": {
          "model_module": "@jupyter-widgets/base",
          "model_name": "LayoutModel",
          "state": {
            "_view_name": "LayoutView",
            "grid_template_rows": null,
            "right": null,
            "justify_content": null,
            "_view_module": "@jupyter-widgets/base",
            "overflow": null,
            "_model_module_version": "1.2.0",
            "_view_count": null,
            "flex_flow": null,
            "width": null,
            "min_width": null,
            "border": null,
            "align_items": null,
            "bottom": null,
            "_model_module": "@jupyter-widgets/base",
            "top": null,
            "grid_column": null,
            "overflow_y": null,
            "overflow_x": null,
            "grid_auto_flow": null,
            "grid_area": null,
            "grid_template_columns": null,
            "flex": null,
            "_model_name": "LayoutModel",
            "justify_items": null,
            "grid_row": null,
            "max_height": null,
            "align_content": null,
            "visibility": null,
            "align_self": null,
            "height": null,
            "min_height": null,
            "padding": null,
            "grid_auto_rows": null,
            "grid_gap": null,
            "max_width": null,
            "order": null,
            "_view_module_version": "1.2.0",
            "grid_template_areas": null,
            "object_position": null,
            "object_fit": null,
            "grid_auto_columns": null,
            "margin": null,
            "display": null,
            "left": null
          }
        },
        "48536dfb4f864615a32cb1c7e6d20817": {
          "model_module": "@jupyter-widgets/controls",
          "model_name": "DescriptionStyleModel",
          "state": {
            "_view_name": "StyleView",
            "_model_name": "DescriptionStyleModel",
            "description_width": "",
            "_view_module": "@jupyter-widgets/base",
            "_model_module_version": "1.5.0",
            "_view_count": null,
            "_view_module_version": "1.2.0",
            "_model_module": "@jupyter-widgets/controls"
          }
        },
        "9ae1bc82d4b4445c85333d7f0533f527": {
          "model_module": "@jupyter-widgets/base",
          "model_name": "LayoutModel",
          "state": {
            "_view_name": "LayoutView",
            "grid_template_rows": null,
            "right": null,
            "justify_content": null,
            "_view_module": "@jupyter-widgets/base",
            "overflow": null,
            "_model_module_version": "1.2.0",
            "_view_count": null,
            "flex_flow": null,
            "width": null,
            "min_width": null,
            "border": null,
            "align_items": null,
            "bottom": null,
            "_model_module": "@jupyter-widgets/base",
            "top": null,
            "grid_column": null,
            "overflow_y": null,
            "overflow_x": null,
            "grid_auto_flow": null,
            "grid_area": null,
            "grid_template_columns": null,
            "flex": null,
            "_model_name": "LayoutModel",
            "justify_items": null,
            "grid_row": null,
            "max_height": null,
            "align_content": null,
            "visibility": null,
            "align_self": null,
            "height": null,
            "min_height": null,
            "padding": null,
            "grid_auto_rows": null,
            "grid_gap": null,
            "max_width": null,
            "order": null,
            "_view_module_version": "1.2.0",
            "grid_template_areas": null,
            "object_position": null,
            "object_fit": null,
            "grid_auto_columns": null,
            "margin": null,
            "display": null,
            "left": null
          }
        }
      }
    },
    "accelerator": "GPU"
  },
  "cells": [
    {
      "cell_type": "markdown",
      "metadata": {
        "id": "view-in-github",
        "colab_type": "text"
      },
      "source": [
        "<a href=\"https://colab.research.google.com/github/cosminnedescu/ProjectMLDL/blob/main/baselines/iCaRL-v1_3_0.ipynb\" target=\"_parent\"><img src=\"https://colab.research.google.com/assets/colab-badge.svg\" alt=\"Open In Colab\"/></a>"
      ]
    },
    {
      "cell_type": "code",
      "metadata": {
        "id": "pJimWkPdQu6y"
      },
      "source": [
        "import os\n",
        "import random\n",
        "\n",
        "import torch\n",
        "import torch.nn as nn\n",
        "import torch.nn.init as init\n",
        "import torch.optim as optim\n",
        "from torch.autograd import Variable\n",
        "\n",
        "import torchvision\n",
        "from torchvision import transforms, datasets, models\n",
        "from torch.utils.data import Subset, DataLoader\n",
        "\n",
        "from PIL import Image\n",
        "\n",
        "import numpy as np\n",
        "import matplotlib \n",
        "import matplotlib.pyplot as plt\n",
        "from copy import copy\n",
        "from copy import deepcopy"
      ],
      "execution_count": 1,
      "outputs": []
    },
    {
      "cell_type": "markdown",
      "metadata": {
        "id": "7BZw-bZJ16ay"
      },
      "source": [
        "#### Cloning the Git repository"
      ]
    },
    {
      "cell_type": "code",
      "metadata": {
        "id": "yjntw1jZQ7Lg",
        "colab": {
          "base_uri": "https://localhost:8080/"
        },
        "outputId": "e87cec5d-c210-4502-a892-d2528b112e15"
      },
      "source": [
        "!rm -rf ProjectMLDL\n",
        "if not os.path.isdir('/content/ProjectMLDL'):\n",
        "  !git clone https://github.com/cosminnedescu/ProjectMLDL.git\n",
        "  %cd /content/ProjectMLDL\n",
        "  !rm -rf LICENSE README.md"
      ],
      "execution_count": 2,
      "outputs": [
        {
          "output_type": "stream",
          "text": [
            "Cloning into 'ProjectMLDL'...\n",
            "remote: Enumerating objects: 1066, done.\u001b[K\n",
            "remote: Counting objects: 100% (226/226), done.\u001b[K\n",
            "remote: Compressing objects: 100% (153/153), done.\u001b[K\n",
            "remote: Total 1066 (delta 157), reused 72 (delta 72), pack-reused 840\u001b[K\n",
            "Receiving objects: 100% (1066/1066), 25.48 MiB | 36.34 MiB/s, done.\n",
            "Resolving deltas: 100% (554/554), done.\n",
            "/content/ProjectMLDL\n"
          ],
          "name": "stdout"
        }
      ]
    },
    {
      "cell_type": "code",
      "metadata": {
        "id": "nvqmxRxo2lUW"
      },
      "source": [
        "from data.cifar100 import CIFAR100\n",
        "from model.resnet32 import resnet32\n",
        "import data.utils\n",
        "from model.icarl import iCaRL"
      ],
      "execution_count": 3,
      "outputs": []
    },
    {
      "cell_type": "code",
      "metadata": {
        "id": "XwomFTtQo1x-"
      },
      "source": [
        "# True mean and std of Cifar100 dataset (src=\"https://gist.github.com/weiaicunzai/e623931921efefd4c331622c344d8151\")\n",
        "mean = [0.5071, 0.4867, 0.4408]\n",
        "std = [0.2675, 0.2565, 0.2761]\n",
        "\n",
        "train_transform = transforms.Compose([\n",
        "    transforms.RandomCrop(32, padding=4),\n",
        "    transforms.RandomHorizontalFlip(),\n",
        "    transforms.ToTensor(),\n",
        "    transforms.Normalize(mean, std),\n",
        "])\n",
        "test_transform = transforms.Compose(\n",
        "    [transforms.ToTensor(), \n",
        "     transforms.Normalize(mean, std),\n",
        "     ])"
      ],
      "execution_count": 4,
      "outputs": []
    },
    {
      "cell_type": "markdown",
      "metadata": {
        "id": "yRoS-R_sRhHT"
      },
      "source": [
        "## Incremental Classifier and Representation Learning"
      ]
    },
    {
      "cell_type": "markdown",
      "metadata": {
        "id": "3ocVW0wM2Iw2"
      },
      "source": [
        "### Defining hyperparameters according to iCarl paper"
      ]
    },
    {
      "cell_type": "code",
      "metadata": {
        "id": "nmEo_9lnwyBk"
      },
      "source": [
        "# Settings\n",
        "DEVICE = 'cuda'\n",
        "NUM_CLASSES = 100         # Total number of classes\n",
        "VAL_SIZE = 0.2            # Proportion of validation set with respect to training set (between 0 and 1)\n",
        "\n",
        "# Training\n",
        "BATCH_SIZE = 128          # Batch size\n",
        "LR = 2                    # Initial learning rate\n",
        "                       \n",
        "MOMENTUM = 0.9            # Momentum for stochastic gradient descent (SGD)\n",
        "WEIGHT_DECAY = 1e-5       # Weight decay from iCaRL\n",
        "\n",
        "RANDOM_SEED = [42]  # Random seeds defining the runs of every method\n",
        "                          # Note: this should be at least 3 to have a fair benchmark\n",
        "\n",
        "NUM_EPOCHS = 70           # Total number of training epochs\n",
        "MILESTONES = [49, 63]     # Step down policy from iCaRL (MultiStepLR)\n",
        "                          # Decrease the learning rate by gamma at each milestone\n",
        "GAMMA = 0.2               # Gamma factor from iCaRL (1/5)\n",
        "\n",
        "HERDING = False           # True to perform prioritized selection, False to perform random selection\n",
        "CLASSIFY = True           # True to use mean-of-exemplar classifier, False to use network's output directly for classification"
      ],
      "execution_count": 5,
      "outputs": []
    },
    {
      "cell_type": "code",
      "metadata": {
        "id": "rVh61C63FECy"
      },
      "source": [
        "def do_group_classes(run):\n",
        "\n",
        "  train_subset = [[] for i in range(10)]\n",
        "  train_dataloader = [[] for i in range(10)]\n",
        "  val_dataloader = [[] for i in range(10)]\n",
        "  test_dataloader = [[] for i in range(10)]\n",
        "\n",
        "  for i in range(10):\n",
        "    train_data = CIFAR100(\"dataset\", \n",
        "                          train=True, \n",
        "                          transform=train_transform, \n",
        "                          download=(run+i==0),\n",
        "                          random_state=RANDOM_SEED[run])\n",
        "    test_data = CIFAR100(\"dataset\", \n",
        "                         train=False, \n",
        "                         transform=test_transform, \n",
        "                         download=False,\n",
        "                         random_state=RANDOM_SEED[run])\n",
        "    \n",
        "    train_data.set_index_map(train_data.splits[i])\n",
        "    test_data.set_index_map([test_data.splits[j] for j in range(0, i+1)])\n",
        "    \n",
        "    train_indices, val_indices = train_data.train_val_split(VAL_SIZE, RANDOM_SEED[run])\n",
        "    \n",
        "    train_subset[i] = copy(Subset(train_data, train_indices))\n",
        "    val_subset = Subset(train_data, val_indices)\n",
        "\n",
        "    tmp_dl = DataLoader(val_subset,\n",
        "                       batch_size=BATCH_SIZE,\n",
        "                       shuffle=True, \n",
        "                       num_workers=4,\n",
        "                       drop_last=True)\n",
        "    val_dataloader[i] = copy(tmp_dl)\n",
        "\n",
        "    tmp_dl = DataLoader(test_data,\n",
        "                       batch_size=BATCH_SIZE,\n",
        "                       shuffle=True, \n",
        "                       num_workers=4,\n",
        "                       drop_last=True)\n",
        "    test_dataloader[i] = copy(tmp_dl)\n",
        "\n",
        "  return train_dataloader, val_dataloader, test_dataloader, train_subset"
      ],
      "execution_count": 6,
      "outputs": []
    },
    {
      "cell_type": "markdown",
      "metadata": {
        "id": "20APZIgI1eBy"
      },
      "source": [
        "### Going on with the model\n",
        "This is the main iCaRL step.\n",
        "\n",
        "This step is run 3 times with different `RANDOM_SEED`.\n",
        "Here the model is instantiated, trained and tested.\n",
        "\n",
        "Results and some statistics are then stored in the variable `logs`."
      ]
    },
    {
      "cell_type": "code",
      "metadata": {
        "id": "mJHKbipz0bMr",
        "colab": {
          "base_uri": "https://localhost:8080/",
          "height": 1000,
          "referenced_widgets": [
            "67f724c4c16e4816b7e152223b90a845",
            "1384cf1b0d6a4d4899d6a4f80ea408f6",
            "9fc68d28348244a1913aed2970a8128f",
            "4af830ab95864c3f80b11d79d9ac158e",
            "cabcaa57eb9a497abaedea1533f3209b",
            "9d33ad091524425182468421d85350ae",
            "48536dfb4f864615a32cb1c7e6d20817",
            "9ae1bc82d4b4445c85333d7f0533f527"
          ]
        },
        "outputId": "be417e74-1421-4645-f4a7-dbce3106ca5d"
      },
      "source": [
        "logs = [[] for i in range(len(RANDOM_SEED))]\n",
        "best_net_tot_classes = [None for i in range(len(RANDOM_SEED))]\n",
        "\n",
        "for run in range(len(RANDOM_SEED)):\n",
        "  print(\"#################################\")\n",
        "  print(f\"Radom seed: {RANDOM_SEED[run]}\")\n",
        "  print(\"\")\n",
        "\n",
        "  # get data_subsets separated in incremental groups of 10 classes\n",
        "  train_dl, val_dl, test_dl, train_set = do_group_classes(run)\n",
        "\n",
        "  #create the resnet\n",
        "  net = resnet32()\n",
        "  \n",
        "  trainer = iCaRL(DEVICE,\n",
        "                  net,\n",
        "                  LR,\n",
        "                  MOMENTUM,\n",
        "                  WEIGHT_DECAY,\n",
        "                  MILESTONES,\n",
        "                  GAMMA,\n",
        "                  train_dl,\n",
        "                  val_dl,\n",
        "                  test_dl,\n",
        "                  BATCH_SIZE,\n",
        "                  train_set,\n",
        "                  train_transform,\n",
        "                  test_transform)\n",
        "\n",
        "  #train and evaluate the model\n",
        "  logs[run] = trainer.train_model(NUM_EPOCHS, HERDING, CLASSIFY)\n",
        "\n",
        "  best_net_tot_classes[run] = deepcopy(trainer.best_net)\n",
        "\n",
        "  print(\"#################################\")\n",
        "  print(\"\")\n",
        "  print(\"\")"
      ],
      "execution_count": 7,
      "outputs": [
        {
          "output_type": "stream",
          "text": [
            "#################################\n",
            "Radom seed: 42\n",
            "\n",
            "Downloading https://www.cs.toronto.edu/~kriz/cifar-100-python.tar.gz to dataset/cifar-100-python.tar.gz\n"
          ],
          "name": "stdout"
        },
        {
          "output_type": "display_data",
          "data": {
            "application/vnd.jupyter.widget-view+json": {
              "model_id": "67f724c4c16e4816b7e152223b90a845",
              "version_minor": 0,
              "version_major": 2
            },
            "text/plain": [
              "HBox(children=(FloatProgress(value=0.0, max=169001437.0), HTML(value='')))"
            ]
          },
          "metadata": {
            "tags": []
          }
        },
        {
          "output_type": "stream",
          "text": [
            "\n",
            "Extracting dataset/cifar-100-python.tar.gz to dataset\n"
          ],
          "name": "stdout"
        },
        {
          "output_type": "stream",
          "text": [
            "/usr/local/lib/python3.7/dist-packages/torch/utils/data/dataloader.py:477: UserWarning: This DataLoader will create 4 worker processes in total. Our suggested max number of worker in current system is 2, which is smaller than what this DataLoader is going to create. Please be aware that excessive worker creation might get DataLoader running slow or even freeze, lower the worker number to avoid potential slowness/freeze if necessary.\n",
            "  cpuset_checked))\n"
          ],
          "name": "stderr"
        },
        {
          "output_type": "stream",
          "text": [
            "Length of exemplars set: 0\n",
            "Epoch 1/7 LR: [2]\n",
            "Validation accuracy on group 1/10: 0.12\n",
            "Best model updated\n",
            "\n",
            "Epoch 2/7 LR: [2]\n",
            "Validation accuracy on group 1/10: 0.10\n",
            "\n",
            "Epoch 3/7 LR: [2]\n",
            "Validation accuracy on group 1/10: 0.12\n",
            "\n",
            "Epoch 4/7 LR: [2]\n",
            "Validation accuracy on group 1/10: 0.10\n",
            "\n",
            "Epoch 5/7 LR: [2]\n",
            "Validation accuracy on group 1/10: 0.10\n",
            "\n",
            "Epoch 6/7 LR: [2]\n",
            "Validation accuracy on group 1/10: 0.09\n",
            "\n",
            "Epoch 7/7 LR: [2]\n",
            "Validation accuracy on group 1/10: 0.10\n",
            "\n",
            "Group 1 Finished!\n",
            "Best accuracy found at epoch 1: 0.12\n",
            "Target number of exemplars: 200\n",
            "Randomly extracting exemplars from class 0 of current split... Extracted 200 exemplars.\n",
            "Randomly extracting exemplars from class 1 of current split... Extracted 200 exemplars.\n",
            "Randomly extracting exemplars from class 2 of current split... Extracted 200 exemplars.\n",
            "Randomly extracting exemplars from class 3 of current split... Extracted 200 exemplars.\n",
            "Randomly extracting exemplars from class 4 of current split... Extracted 200 exemplars.\n",
            "Randomly extracting exemplars from class 5 of current split... Extracted 200 exemplars.\n",
            "Randomly extracting exemplars from class 6 of current split... Extracted 200 exemplars.\n",
            "Randomly extracting exemplars from class 7 of current split... Extracted 200 exemplars.\n",
            "Randomly extracting exemplars from class 8 of current split... Extracted 200 exemplars.\n",
            "Randomly extracting exemplars from class 9 of current split... Extracted 200 exemplars.\n",
            "Computing mean of exemplars... done\n",
            "Testing classes seen so far, accuracy: 0.15\n",
            "\n",
            "=============================================\n",
            "\n",
            "Length of exemplars set: 2000\n",
            "Epoch 1/7 LR: [2]\n",
            "Validation accuracy on group 2/10: 0.00\n",
            "\n",
            "Epoch 2/7 LR: [2]\n",
            "Validation accuracy on group 2/10: 0.00\n",
            "\n",
            "Epoch 3/7 LR: [2]\n",
            "Validation accuracy on group 2/10: 0.00\n",
            "\n",
            "Epoch 4/7 LR: [2]\n",
            "Validation accuracy on group 2/10: 0.00\n",
            "\n",
            "Epoch 5/7 LR: [2]\n",
            "Validation accuracy on group 2/10: 0.02\n",
            "Best model updated\n",
            "\n",
            "Epoch 6/7 LR: [2]\n",
            "Validation accuracy on group 2/10: 0.02\n",
            "\n",
            "Epoch 7/7 LR: [2]\n",
            "Validation accuracy on group 2/10: 0.00\n",
            "\n",
            "Group 2 Finished!\n",
            "Best accuracy found at epoch 5: 0.02\n",
            "Target number of exemplars: 100\n",
            "Randomly extracting exemplars from class 0 of current split... Extracted 100 exemplars.\n",
            "Randomly extracting exemplars from class 1 of current split... Extracted 100 exemplars.\n",
            "Randomly extracting exemplars from class 2 of current split... Extracted 100 exemplars.\n",
            "Randomly extracting exemplars from class 3 of current split... Extracted 100 exemplars.\n",
            "Randomly extracting exemplars from class 4 of current split... Extracted 100 exemplars.\n",
            "Randomly extracting exemplars from class 5 of current split... Extracted 100 exemplars.\n",
            "Randomly extracting exemplars from class 6 of current split... Extracted 100 exemplars.\n",
            "Randomly extracting exemplars from class 7 of current split... Extracted 100 exemplars.\n",
            "Randomly extracting exemplars from class 8 of current split... Extracted 100 exemplars.\n",
            "Randomly extracting exemplars from class 9 of current split... Extracted 100 exemplars.\n",
            "Computing mean of exemplars... done\n",
            "Testing classes seen so far, accuracy: 0.11\n",
            "\n",
            "=============================================\n",
            "\n",
            "Length of exemplars set: 2000\n",
            "Epoch 1/7 LR: [2]\n",
            "Validation accuracy on group 3/10: 0.00\n",
            "\n",
            "Epoch 2/7 LR: [2]\n",
            "Validation accuracy on group 3/10: 0.00\n",
            "\n",
            "Epoch 3/7 LR: [2]\n",
            "Validation accuracy on group 3/10: 0.00\n",
            "\n",
            "Epoch 4/7 LR: [2]\n",
            "Validation accuracy on group 3/10: 0.00\n",
            "\n",
            "Epoch 5/7 LR: [2]\n",
            "Validation accuracy on group 3/10: 0.00\n",
            "\n",
            "Epoch 6/7 LR: [2]\n",
            "Validation accuracy on group 3/10: 0.00\n",
            "\n",
            "Epoch 7/7 LR: [2]\n",
            "Validation accuracy on group 3/10: 0.00\n",
            "\n",
            "Group 3 Finished!\n",
            "Best accuracy found at epoch 5: 0.00\n",
            "Target number of exemplars: 66\n",
            "Randomly extracting exemplars from class 0 of current split... Extracted 66 exemplars.\n",
            "Randomly extracting exemplars from class 1 of current split... Extracted 66 exemplars.\n",
            "Randomly extracting exemplars from class 2 of current split... Extracted 66 exemplars.\n",
            "Randomly extracting exemplars from class 3 of current split... Extracted 66 exemplars.\n",
            "Randomly extracting exemplars from class 4 of current split... Extracted 66 exemplars.\n",
            "Randomly extracting exemplars from class 5 of current split... Extracted 66 exemplars.\n",
            "Randomly extracting exemplars from class 6 of current split... Extracted 66 exemplars.\n",
            "Randomly extracting exemplars from class 7 of current split... Extracted 66 exemplars.\n",
            "Randomly extracting exemplars from class 8 of current split... Extracted 66 exemplars.\n",
            "Randomly extracting exemplars from class 9 of current split... Extracted 66 exemplars.\n",
            "Computing mean of exemplars... done\n",
            "Testing classes seen so far, accuracy: 0.08\n",
            "\n",
            "=============================================\n",
            "\n",
            "Length of exemplars set: 1980\n",
            "Epoch 1/7 LR: [2]\n",
            "Validation accuracy on group 4/10: 0.00\n",
            "\n",
            "Epoch 2/7 LR: [2]\n",
            "Validation accuracy on group 4/10: 0.00\n",
            "\n",
            "Epoch 3/7 LR: [2]\n",
            "Validation accuracy on group 4/10: 0.01\n",
            "Best model updated\n",
            "\n",
            "Epoch 4/7 LR: [2]\n",
            "Validation accuracy on group 4/10: 0.01\n",
            "\n",
            "Epoch 5/7 LR: [2]\n",
            "Validation accuracy on group 4/10: 0.00\n",
            "\n",
            "Epoch 6/7 LR: [2]\n",
            "Validation accuracy on group 4/10: 0.00\n",
            "\n",
            "Epoch 7/7 LR: [2]\n",
            "Validation accuracy on group 4/10: 0.00\n",
            "\n",
            "Group 4 Finished!\n",
            "Best accuracy found at epoch 3: 0.01\n",
            "Target number of exemplars: 50\n",
            "Randomly extracting exemplars from class 0 of current split... Extracted 50 exemplars.\n",
            "Randomly extracting exemplars from class 1 of current split... Extracted 50 exemplars.\n",
            "Randomly extracting exemplars from class 2 of current split... Extracted 50 exemplars.\n",
            "Randomly extracting exemplars from class 3 of current split... Extracted 50 exemplars.\n",
            "Randomly extracting exemplars from class 4 of current split... Extracted 50 exemplars.\n",
            "Randomly extracting exemplars from class 5 of current split... Extracted 50 exemplars.\n",
            "Randomly extracting exemplars from class 6 of current split... Extracted 50 exemplars.\n",
            "Randomly extracting exemplars from class 7 of current split... Extracted 50 exemplars.\n",
            "Randomly extracting exemplars from class 8 of current split... Extracted 50 exemplars.\n",
            "Randomly extracting exemplars from class 9 of current split... Extracted 50 exemplars.\n",
            "Computing mean of exemplars... done\n",
            "Testing classes seen so far, accuracy: 0.06\n",
            "\n",
            "=============================================\n",
            "\n",
            "Length of exemplars set: 2000\n",
            "Epoch 1/7 LR: [2]\n",
            "Validation accuracy on group 5/10: 0.00\n",
            "\n",
            "Epoch 2/7 LR: [2]\n",
            "Validation accuracy on group 5/10: 0.00\n",
            "\n",
            "Epoch 3/7 LR: [2]\n",
            "Validation accuracy on group 5/10: 0.01\n",
            "Best model updated\n",
            "\n",
            "Epoch 4/7 LR: [2]\n",
            "Validation accuracy on group 5/10: 0.00\n",
            "\n",
            "Epoch 5/7 LR: [2]\n",
            "Validation accuracy on group 5/10: 0.00\n",
            "\n",
            "Epoch 6/7 LR: [2]\n",
            "Validation accuracy on group 5/10: 0.01\n",
            "Best model updated\n",
            "\n",
            "Epoch 7/7 LR: [2]\n",
            "Validation accuracy on group 5/10: 0.00\n",
            "\n",
            "Group 5 Finished!\n",
            "Best accuracy found at epoch 6: 0.01\n",
            "Target number of exemplars: 40\n",
            "Randomly extracting exemplars from class 0 of current split... Extracted 40 exemplars.\n",
            "Randomly extracting exemplars from class 1 of current split... Extracted 40 exemplars.\n",
            "Randomly extracting exemplars from class 2 of current split... Extracted 40 exemplars.\n",
            "Randomly extracting exemplars from class 3 of current split... Extracted 40 exemplars.\n",
            "Randomly extracting exemplars from class 4 of current split... Extracted 40 exemplars.\n",
            "Randomly extracting exemplars from class 5 of current split... Extracted 40 exemplars.\n",
            "Randomly extracting exemplars from class 6 of current split... Extracted 40 exemplars.\n",
            "Randomly extracting exemplars from class 7 of current split... Extracted 40 exemplars.\n",
            "Randomly extracting exemplars from class 8 of current split... Extracted 40 exemplars.\n",
            "Randomly extracting exemplars from class 9 of current split... Extracted 40 exemplars.\n",
            "Computing mean of exemplars... done\n",
            "Testing classes seen so far, accuracy: 0.05\n",
            "\n",
            "=============================================\n",
            "\n",
            "Length of exemplars set: 2000\n",
            "Epoch 1/7 LR: [2]\n",
            "Validation accuracy on group 6/10: 0.00\n",
            "\n",
            "Epoch 2/7 LR: [2]\n",
            "Validation accuracy on group 6/10: 0.00\n",
            "\n",
            "Epoch 3/7 LR: [2]\n",
            "Validation accuracy on group 6/10: 0.00\n",
            "\n",
            "Epoch 4/7 LR: [2]\n",
            "Validation accuracy on group 6/10: 0.00\n",
            "Best model updated\n",
            "\n",
            "Epoch 5/7 LR: [2]\n",
            "Validation accuracy on group 6/10: 0.00\n",
            "\n",
            "Epoch 6/7 LR: [2]\n",
            "Validation accuracy on group 6/10: 0.01\n",
            "Best model updated\n",
            "\n",
            "Epoch 7/7 LR: [2]\n",
            "Validation accuracy on group 6/10: 0.00\n",
            "\n",
            "Group 6 Finished!\n",
            "Best accuracy found at epoch 6: 0.01\n",
            "Target number of exemplars: 33\n",
            "Randomly extracting exemplars from class 0 of current split... Extracted 33 exemplars.\n",
            "Randomly extracting exemplars from class 1 of current split... Extracted 33 exemplars.\n",
            "Randomly extracting exemplars from class 2 of current split... Extracted 33 exemplars.\n",
            "Randomly extracting exemplars from class 3 of current split... Extracted 33 exemplars.\n",
            "Randomly extracting exemplars from class 4 of current split... Extracted 33 exemplars.\n",
            "Randomly extracting exemplars from class 5 of current split... Extracted 33 exemplars.\n",
            "Randomly extracting exemplars from class 6 of current split... Extracted 33 exemplars.\n",
            "Randomly extracting exemplars from class 7 of current split... Extracted 33 exemplars.\n",
            "Randomly extracting exemplars from class 8 of current split... Extracted 33 exemplars.\n",
            "Randomly extracting exemplars from class 9 of current split... Extracted 33 exemplars.\n",
            "Computing mean of exemplars... done\n",
            "Testing classes seen so far, accuracy: 0.06\n",
            "\n",
            "=============================================\n",
            "\n",
            "Length of exemplars set: 1980\n",
            "Epoch 1/7 LR: [2]\n",
            "Validation accuracy on group 7/10: 0.00\n",
            "\n",
            "Epoch 2/7 LR: [2]\n",
            "Validation accuracy on group 7/10: 0.00\n",
            "\n",
            "Epoch 3/7 LR: [2]\n",
            "Validation accuracy on group 7/10: 0.01\n",
            "Best model updated\n",
            "\n",
            "Epoch 4/7 LR: [2]\n",
            "Validation accuracy on group 7/10: 0.01\n",
            "Best model updated\n",
            "\n",
            "Epoch 5/7 LR: [2]\n",
            "Validation accuracy on group 7/10: 0.00\n",
            "\n",
            "Epoch 6/7 LR: [2]\n",
            "Validation accuracy on group 7/10: 0.00\n",
            "\n",
            "Epoch 7/7 LR: [2]\n",
            "Validation accuracy on group 7/10: 0.02\n",
            "Best model updated\n",
            "\n",
            "Group 7 Finished!\n",
            "Best accuracy found at epoch 7: 0.02\n",
            "Target number of exemplars: 28\n",
            "Randomly extracting exemplars from class 0 of current split... Extracted 28 exemplars.\n",
            "Randomly extracting exemplars from class 1 of current split... Extracted 28 exemplars.\n",
            "Randomly extracting exemplars from class 2 of current split... Extracted 28 exemplars.\n",
            "Randomly extracting exemplars from class 3 of current split... Extracted 28 exemplars.\n",
            "Randomly extracting exemplars from class 4 of current split... Extracted 28 exemplars.\n",
            "Randomly extracting exemplars from class 5 of current split... Extracted 28 exemplars.\n",
            "Randomly extracting exemplars from class 6 of current split... Extracted 28 exemplars.\n",
            "Randomly extracting exemplars from class 7 of current split... Extracted 28 exemplars.\n",
            "Randomly extracting exemplars from class 8 of current split... Extracted 28 exemplars.\n",
            "Randomly extracting exemplars from class 9 of current split... Extracted 28 exemplars.\n",
            "Computing mean of exemplars... done\n",
            "Testing classes seen so far, accuracy: 0.05\n",
            "\n",
            "=============================================\n",
            "\n",
            "Length of exemplars set: 1960\n",
            "Epoch 1/7 LR: [2]\n",
            "Validation accuracy on group 8/10: 0.00\n",
            "\n",
            "Epoch 2/7 LR: [2]\n",
            "Validation accuracy on group 8/10: 0.00\n",
            "\n",
            "Epoch 3/7 LR: [2]\n",
            "Validation accuracy on group 8/10: 0.00\n",
            "\n",
            "Epoch 4/7 LR: [2]\n",
            "Validation accuracy on group 8/10: 0.00\n",
            "\n",
            "Epoch 5/7 LR: [2]\n",
            "Validation accuracy on group 8/10: 0.00\n",
            "\n",
            "Epoch 6/7 LR: [2]\n",
            "Validation accuracy on group 8/10: 0.00\n",
            "\n",
            "Epoch 7/7 LR: [2]\n",
            "Validation accuracy on group 8/10: 0.00\n",
            "\n",
            "Group 8 Finished!\n",
            "Best accuracy found at epoch 7: 0.00\n",
            "Target number of exemplars: 25\n",
            "Randomly extracting exemplars from class 0 of current split... Extracted 25 exemplars.\n",
            "Randomly extracting exemplars from class 1 of current split... Extracted 25 exemplars.\n",
            "Randomly extracting exemplars from class 2 of current split... Extracted 25 exemplars.\n",
            "Randomly extracting exemplars from class 3 of current split... Extracted 25 exemplars.\n",
            "Randomly extracting exemplars from class 4 of current split... Extracted 25 exemplars.\n",
            "Randomly extracting exemplars from class 5 of current split... Extracted 25 exemplars.\n",
            "Randomly extracting exemplars from class 6 of current split... Extracted 25 exemplars.\n",
            "Randomly extracting exemplars from class 7 of current split... Extracted 25 exemplars.\n",
            "Randomly extracting exemplars from class 8 of current split... Extracted 25 exemplars.\n",
            "Randomly extracting exemplars from class 9 of current split... Extracted 25 exemplars.\n",
            "Computing mean of exemplars... done\n",
            "Testing classes seen so far, accuracy: 0.04\n",
            "\n",
            "=============================================\n",
            "\n",
            "Length of exemplars set: 2000\n",
            "Epoch 1/7 LR: [2]\n",
            "Validation accuracy on group 9/10: 0.00\n",
            "\n",
            "Epoch 2/7 LR: [2]\n",
            "Validation accuracy on group 9/10: 0.00\n",
            "\n",
            "Epoch 3/7 LR: [2]\n",
            "Validation accuracy on group 9/10: 0.00\n",
            "\n",
            "Epoch 4/7 LR: [2]\n",
            "Validation accuracy on group 9/10: 0.00\n",
            "Best model updated\n",
            "\n",
            "Epoch 5/7 LR: [2]\n",
            "Validation accuracy on group 9/10: 0.01\n",
            "Best model updated\n",
            "\n",
            "Epoch 6/7 LR: [2]\n",
            "Validation accuracy on group 9/10: 0.01\n",
            "\n",
            "Epoch 7/7 LR: [2]\n",
            "Validation accuracy on group 9/10: 0.01\n",
            "Best model updated\n",
            "\n",
            "Group 9 Finished!\n",
            "Best accuracy found at epoch 7: 0.01\n",
            "Target number of exemplars: 22\n",
            "Randomly extracting exemplars from class 0 of current split... Extracted 22 exemplars.\n",
            "Randomly extracting exemplars from class 1 of current split... Extracted 22 exemplars.\n",
            "Randomly extracting exemplars from class 2 of current split... Extracted 22 exemplars.\n",
            "Randomly extracting exemplars from class 3 of current split... Extracted 22 exemplars.\n",
            "Randomly extracting exemplars from class 4 of current split... Extracted 22 exemplars.\n",
            "Randomly extracting exemplars from class 5 of current split... Extracted 22 exemplars.\n",
            "Randomly extracting exemplars from class 6 of current split... Extracted 22 exemplars.\n",
            "Randomly extracting exemplars from class 7 of current split... Extracted 22 exemplars.\n",
            "Randomly extracting exemplars from class 8 of current split... Extracted 22 exemplars.\n",
            "Randomly extracting exemplars from class 9 of current split... Extracted 22 exemplars.\n",
            "Computing mean of exemplars... done\n",
            "Testing classes seen so far, accuracy: 0.04\n",
            "\n",
            "=============================================\n",
            "\n",
            "Length of exemplars set: 1980\n",
            "Epoch 1/7 LR: [2]\n",
            "Validation accuracy on group 10/10: 0.00\n",
            "\n",
            "Epoch 2/7 LR: [2]\n",
            "Validation accuracy on group 10/10: 0.00\n",
            "\n",
            "Epoch 3/7 LR: [2]\n",
            "Validation accuracy on group 10/10: 0.01\n",
            "Best model updated\n",
            "\n",
            "Epoch 4/7 LR: [2]\n",
            "Validation accuracy on group 10/10: 0.00\n",
            "\n",
            "Epoch 5/7 LR: [2]\n",
            "Validation accuracy on group 10/10: 0.02\n",
            "Best model updated\n",
            "\n",
            "Epoch 6/7 LR: [2]\n",
            "Validation accuracy on group 10/10: 0.03\n",
            "Best model updated\n",
            "\n",
            "Epoch 7/7 LR: [2]\n",
            "Validation accuracy on group 10/10: 0.02\n",
            "\n",
            "Group 10 Finished!\n",
            "Best accuracy found at epoch 6: 0.03\n",
            "Target number of exemplars: 20\n",
            "Randomly extracting exemplars from class 0 of current split... Extracted 20 exemplars.\n",
            "Randomly extracting exemplars from class 1 of current split... Extracted 20 exemplars.\n",
            "Randomly extracting exemplars from class 2 of current split... Extracted 20 exemplars.\n",
            "Randomly extracting exemplars from class 3 of current split... Extracted 20 exemplars.\n",
            "Randomly extracting exemplars from class 4 of current split... Extracted 20 exemplars.\n",
            "Randomly extracting exemplars from class 5 of current split... Extracted 20 exemplars.\n",
            "Randomly extracting exemplars from class 6 of current split... Extracted 20 exemplars.\n",
            "Randomly extracting exemplars from class 7 of current split... Extracted 20 exemplars.\n",
            "Randomly extracting exemplars from class 8 of current split... Extracted 20 exemplars.\n",
            "Randomly extracting exemplars from class 9 of current split... Extracted 20 exemplars.\n",
            "Computing mean of exemplars... done\n",
            "Testing classes seen so far, accuracy: 0.05\n",
            "\n",
            "=============================================\n",
            "\n",
            "#################################\n",
            "\n",
            "\n"
          ],
          "name": "stdout"
        }
      ]
    },
    {
      "cell_type": "markdown",
      "metadata": {
        "id": "UIUvaKyhx0rC"
      },
      "source": [
        "### Store logs in more usable dtype"
      ]
    },
    {
      "cell_type": "code",
      "metadata": {
        "id": "1-uV6X0yxzQc"
      },
      "source": [
        "train_loss = [[logs[run_i]['group_train_loss'][i] for i in range(10)] for run_i in range(len(RANDOM_SEED))]\n",
        "train_accuracy = [[logs[run_i]['group_train_accuracies'][i] for i in range(10)] for run_i in range(len(RANDOM_SEED))]\n",
        "val_loss = [[logs[run_i]['val_losses'][i] for i in range(10)] for run_i in range(len(RANDOM_SEED))]\n",
        "val_accuracy = [[logs[run_i]['val_accuracies'][i] for i in range(10)] for run_i in range(len(RANDOM_SEED))]\n",
        "test_accuracy = [[logs[run_i]['test_accuracies'][i] for i in range(10)] for run_i in range(len(RANDOM_SEED))]\n",
        "predictions = [logs[run_i]['predictions'].cpu().data.numpy().tolist() for run_i in range(len(RANDOM_SEED))]\n",
        "true_labels = [logs[run_i]['true_labels'].cpu().data.numpy().tolist() for run_i in range(len(RANDOM_SEED))]"
      ],
      "execution_count": 8,
      "outputs": []
    },
    {
      "cell_type": "markdown",
      "metadata": {
        "id": "6r_ybcCLmc2R"
      },
      "source": [
        "### Save the model"
      ]
    },
    {
      "cell_type": "markdown",
      "metadata": {
        "id": "nIG3hIOkyFNs"
      },
      "source": [
        "#### Saving logs in JSON files"
      ]
    },
    {
      "cell_type": "code",
      "metadata": {
        "id": "mF_GR4KAyNYs",
        "outputId": "02fe60ec-f488-45a8-cea7-ac7096035c0e",
        "colab": {
          "base_uri": "https://localhost:8080/"
        }
      },
      "source": [
        "import json\n",
        "\n",
        "with open('states/LWF_train_loss.json', 'w') as f:\n",
        "  json.dump(train_loss, f)\n",
        "f.close\n",
        "with open('states/LWF_train_accuracy.json', 'w') as f:\n",
        "  json.dump(train_accuracy, f)\n",
        "f.close\n",
        "with open('states/LWF_val_loss.json', 'w') as f:\n",
        "  json.dump(val_loss, f)\n",
        "f.close  \n",
        "with open('states/LWF_val_accuracy.json', 'w') as f:\n",
        "  json.dump(val_accuracy, f)\n",
        "f.close\n",
        "with open('states/LWF_test_accuracy.json', 'w') as f:\n",
        "  json.dump(test_accuracy, f)\n",
        "f.close\n",
        "with open('states/LWF_predictions.json', 'w') as f:\n",
        "  json.dump(predictions, f)\n",
        "f.close\n",
        "with open('states/LWF_targets.json', 'w') as f:\n",
        "  json.dump(true_labels, f)\n",
        "f.close"
      ],
      "execution_count": 9,
      "outputs": [
        {
          "output_type": "execute_result",
          "data": {
            "text/plain": [
              "<function TextIOWrapper.close>"
            ]
          },
          "metadata": {
            "tags": []
          },
          "execution_count": 9
        }
      ]
    },
    {
      "cell_type": "markdown",
      "metadata": {
        "id": "JoVU9_V4zXOL"
      },
      "source": [
        "#### Saving best resnet on 100 classes for each seed"
      ]
    },
    {
      "cell_type": "code",
      "metadata": {
        "id": "nukM57Euzgr9"
      },
      "source": [
        "for i in range(len(RANDOM_SEED)):\n",
        "  torch.save(best_net_tot_classes[i].state_dict(), \"states/LWF_bestnet_seed[{}]\".format(RANDOM_SEED[i]))"
      ],
      "execution_count": 10,
      "outputs": []
    },
    {
      "cell_type": "markdown",
      "metadata": {
        "id": "2NMLqiIS19IJ"
      },
      "source": [
        "### Print some graphs"
      ]
    },
    {
      "cell_type": "code",
      "metadata": {
        "id": "G6Mg2QiIBNRo"
      },
      "source": [
        "from data.utils_plot import plot_train_val, plot_test_accuracies, plot_confusion_matrix"
      ],
      "execution_count": 11,
      "outputs": []
    },
    {
      "cell_type": "code",
      "metadata": {
        "id": "M2QzOlExmhKo"
      },
      "source": [
        "train_loss = np.array(train_loss)\n",
        "train_accuracy = np.array(train_accuracy)\n",
        "val_loss = np.array(val_loss)\n",
        "val_accuracy = np.array(val_accuracy)\n",
        "test_accuracy = np.array(test_accuracy)\n",
        "\n",
        "train_loss_stats = np.array([train_loss.mean(0), train_loss.std(0)]).transpose()\n",
        "train_accuracy_stats = np.array([train_accuracy.mean(0), train_accuracy.std(0)]).transpose()\n",
        "val_loss_stats = np.array([val_loss.mean(0), val_loss.std(0)]).transpose()\n",
        "val_accuracy_stats = np.array([val_accuracy.mean(0), val_accuracy.std(0)]).transpose()\n",
        "test_accuracy_stats = np.array([test_accuracy.mean(0), test_accuracy.std(0)]).transpose()"
      ],
      "execution_count": 12,
      "outputs": []
    },
    {
      "cell_type": "markdown",
      "metadata": {
        "id": "6rB0p1PlFxrc"
      },
      "source": [
        "#### Train validation loss"
      ]
    },
    {
      "cell_type": "code",
      "metadata": {
        "id": "xy7FS53Mmmg-",
        "outputId": "bbe71f32-3f0c-4d01-dc45-85e85fc353c4",
        "colab": {
          "base_uri": "https://localhost:8080/",
          "height": 355
        }
      },
      "source": [
        "plot_train_val(train_loss_stats, val_loss_stats, loss = True)"
      ],
      "execution_count": 13,
      "outputs": [
        {
          "output_type": "display_data",
          "data": {
            "image/png": "[encoded data removed]",
            "text/plain": [
              "<Figure size 1000x500 with 1 Axes>"
            ]
          },
          "metadata": {
            "tags": [],
            "needs_background": "light"
          }
        }
      ]
    },
    {
      "cell_type": "markdown",
      "metadata": {
        "id": "Hb_RNTNKF18b"
      },
      "source": [
        "#### Train validation accuracy"
      ]
    },
    {
      "cell_type": "code",
      "metadata": {
        "id": "05IT5LFUBBBV",
        "outputId": "32fbf765-363d-4338-ff32-5b1ceda1baf8",
        "colab": {
          "base_uri": "https://localhost:8080/",
          "height": 355
        }
      },
      "source": [
        "plot_train_val(train_accuracy_stats, val_accuracy_stats, loss = False)"
      ],
      "execution_count": 14,
      "outputs": [
        {
          "output_type": "display_data",
          "data": {
            "image/png": "[encoded data removed]",
            "text/plain": [
              "<Figure size 1000x500 with 1 Axes>"
            ]
          },
          "metadata": {
            "tags": [],
            "needs_background": "light"
          }
        }
      ]
    },
    {
      "cell_type": "markdown",
      "metadata": {
        "id": "llzylw_LF7e_"
      },
      "source": [
        "#### Test accuracy"
      ]
    },
    {
      "cell_type": "code",
      "metadata": {
        "id": "Bou4H0k9mteX",
        "outputId": "94bd0840-3f58-4265-eb09-bf019fbac27b",
        "colab": {
          "base_uri": "https://localhost:8080/",
          "height": 355
        }
      },
      "source": [
        "plot_test_accuracies(test_accuracy_stats)"
      ],
      "execution_count": 15,
      "outputs": [
        {
          "output_type": "display_data",
          "data": {
            "image/png": "[encoded data removed]",
            "text/plain": [
              "<Figure size 1000x500 with 1 Axes>"
            ]
          },
          "metadata": {
            "tags": [],
            "needs_background": "light"
          }
        }
      ]
    },
    {
      "cell_type": "markdown",
      "metadata": {
        "id": "gN6cighYm1nG"
      },
      "source": [
        "#### Confusion Matrix"
      ]
    },
    {
      "cell_type": "code",
      "metadata": {
        "id": "LPG6aNRjm5Se",
        "outputId": "80d9ee88-a441-4a76-aa72-9b72298d48fb",
        "colab": {
          "base_uri": "https://localhost:8080/",
          "height": 483
        }
      },
      "source": [
        "for run in range(len(RANDOM_SEED)):\n",
        "  targets = np.array(true_labels[run])\n",
        "  preds = np.array(predictions[run])\n",
        "\n",
        "  plot_confusion_matrix(targets, preds, RANDOM_SEED[run], 'iCaRL')"
      ],
      "execution_count": 16,
      "outputs": [
        {
          "output_type": "display_data",
          "data": {
            "image/png": "[encoded data removed]",
            "text/plain": [
              "<Figure size 500x500 with 2 Axes>"
            ]
          },
          "metadata": {
            "tags": [],
            "needs_background": "light"
          }
        }
      ]
    }
  ]
}