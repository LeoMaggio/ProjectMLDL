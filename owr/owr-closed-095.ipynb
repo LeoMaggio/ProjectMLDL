{
  "nbformat": 4,
  "nbformat_minor": 0,
  "metadata": {
    "colab": {
      "name": "OWR-ClosedSet-095.ipynb",
      "provenance": [],
      "include_colab_link": true
    },
    "kernelspec": {
      "name": "python3",
      "display_name": "Python 3"
    },
    "language_info": {
      "name": "python"
    },
    "accelerator": "GPU",
    "widgets": {
      "application/vnd.jupyter.widget-state+json": {
        "ddd1d0ea61c241249546e04c29735f02": {
          "model_module": "@jupyter-widgets/controls",
          "model_name": "HBoxModel",
          "state": {
            "_view_name": "HBoxView",
            "_dom_classes": [],
            "_model_name": "HBoxModel",
            "_view_module": "@jupyter-widgets/controls",
            "_model_module_version": "1.5.0",
            "_view_count": null,
            "_view_module_version": "1.5.0",
            "box_style": "",
            "layout": "IPY_MODEL_9514acbb11ae4fca904e4f904c5da30e",
            "_model_module": "@jupyter-widgets/controls",
            "children": [
              "IPY_MODEL_436f1517c52c4306b9f81ae775df4de9",
              "IPY_MODEL_c7d68381bb324b4695aa91c4fafa16ee"
            ]
          }
        },
        "9514acbb11ae4fca904e4f904c5da30e": {
          "model_module": "@jupyter-widgets/base",
          "model_name": "LayoutModel",
          "state": {
            "_view_name": "LayoutView",
            "grid_template_rows": null,
            "right": null,
            "justify_content": null,
            "_view_module": "@jupyter-widgets/base",
            "overflow": null,
            "_model_module_version": "1.2.0",
            "_view_count": null,
            "flex_flow": null,
            "width": null,
            "min_width": null,
            "border": null,
            "align_items": null,
            "bottom": null,
            "_model_module": "@jupyter-widgets/base",
            "top": null,
            "grid_column": null,
            "overflow_y": null,
            "overflow_x": null,
            "grid_auto_flow": null,
            "grid_area": null,
            "grid_template_columns": null,
            "flex": null,
            "_model_name": "LayoutModel",
            "justify_items": null,
            "grid_row": null,
            "max_height": null,
            "align_content": null,
            "visibility": null,
            "align_self": null,
            "height": null,
            "min_height": null,
            "padding": null,
            "grid_auto_rows": null,
            "grid_gap": null,
            "max_width": null,
            "order": null,
            "_view_module_version": "1.2.0",
            "grid_template_areas": null,
            "object_position": null,
            "object_fit": null,
            "grid_auto_columns": null,
            "margin": null,
            "display": null,
            "left": null
          }
        },
        "436f1517c52c4306b9f81ae775df4de9": {
          "model_module": "@jupyter-widgets/controls",
          "model_name": "FloatProgressModel",
          "state": {
            "_view_name": "ProgressView",
            "style": "IPY_MODEL_9f83a5d6fd6b4363870ab51ba77293a1",
            "_dom_classes": [],
            "description": "",
            "_model_name": "FloatProgressModel",
            "bar_style": "success",
            "max": 169001437,
            "_view_module": "@jupyter-widgets/controls",
            "_model_module_version": "1.5.0",
            "value": 169001437,
            "_view_count": null,
            "_view_module_version": "1.5.0",
            "orientation": "horizontal",
            "min": 0,
            "description_tooltip": null,
            "_model_module": "@jupyter-widgets/controls",
            "layout": "IPY_MODEL_320be024bcce475093f7d0445ee03f07"
          }
        },
        "c7d68381bb324b4695aa91c4fafa16ee": {
          "model_module": "@jupyter-widgets/controls",
          "model_name": "HTMLModel",
          "state": {
            "_view_name": "HTMLView",
            "style": "IPY_MODEL_20442bcc09fe4d8eae250f92f11e56de",
            "_dom_classes": [],
            "description": "",
            "_model_name": "HTMLModel",
            "placeholder": "​",
            "_view_module": "@jupyter-widgets/controls",
            "_model_module_version": "1.5.0",
            "value": " 169001984/? [00:58&lt;00:00, 2904446.31it/s]",
            "_view_count": null,
            "_view_module_version": "1.5.0",
            "description_tooltip": null,
            "_model_module": "@jupyter-widgets/controls",
            "layout": "IPY_MODEL_cf0dc44331ac491281601fd1c3de5349"
          }
        },
        "9f83a5d6fd6b4363870ab51ba77293a1": {
          "model_module": "@jupyter-widgets/controls",
          "model_name": "ProgressStyleModel",
          "state": {
            "_view_name": "StyleView",
            "_model_name": "ProgressStyleModel",
            "description_width": "initial",
            "_view_module": "@jupyter-widgets/base",
            "_model_module_version": "1.5.0",
            "_view_count": null,
            "_view_module_version": "1.2.0",
            "bar_color": null,
            "_model_module": "@jupyter-widgets/controls"
          }
        },
        "320be024bcce475093f7d0445ee03f07": {
          "model_module": "@jupyter-widgets/base",
          "model_name": "LayoutModel",
          "state": {
            "_view_name": "LayoutView",
            "grid_template_rows": null,
            "right": null,
            "justify_content": null,
            "_view_module": "@jupyter-widgets/base",
            "overflow": null,
            "_model_module_version": "1.2.0",
            "_view_count": null,
            "flex_flow": null,
            "width": null,
            "min_width": null,
            "border": null,
            "align_items": null,
            "bottom": null,
            "_model_module": "@jupyter-widgets/base",
            "top": null,
            "grid_column": null,
            "overflow_y": null,
            "overflow_x": null,
            "grid_auto_flow": null,
            "grid_area": null,
            "grid_template_columns": null,
            "flex": null,
            "_model_name": "LayoutModel",
            "justify_items": null,
            "grid_row": null,
            "max_height": null,
            "align_content": null,
            "visibility": null,
            "align_self": null,
            "height": null,
            "min_height": null,
            "padding": null,
            "grid_auto_rows": null,
            "grid_gap": null,
            "max_width": null,
            "order": null,
            "_view_module_version": "1.2.0",
            "grid_template_areas": null,
            "object_position": null,
            "object_fit": null,
            "grid_auto_columns": null,
            "margin": null,
            "display": null,
            "left": null
          }
        },
        "20442bcc09fe4d8eae250f92f11e56de": {
          "model_module": "@jupyter-widgets/controls",
          "model_name": "DescriptionStyleModel",
          "state": {
            "_view_name": "StyleView",
            "_model_name": "DescriptionStyleModel",
            "description_width": "",
            "_view_module": "@jupyter-widgets/base",
            "_model_module_version": "1.5.0",
            "_view_count": null,
            "_view_module_version": "1.2.0",
            "_model_module": "@jupyter-widgets/controls"
          }
        },
        "cf0dc44331ac491281601fd1c3de5349": {
          "model_module": "@jupyter-widgets/base",
          "model_name": "LayoutModel",
          "state": {
            "_view_name": "LayoutView",
            "grid_template_rows": null,
            "right": null,
            "justify_content": null,
            "_view_module": "@jupyter-widgets/base",
            "overflow": null,
            "_model_module_version": "1.2.0",
            "_view_count": null,
            "flex_flow": null,
            "width": null,
            "min_width": null,
            "border": null,
            "align_items": null,
            "bottom": null,
            "_model_module": "@jupyter-widgets/base",
            "top": null,
            "grid_column": null,
            "overflow_y": null,
            "overflow_x": null,
            "grid_auto_flow": null,
            "grid_area": null,
            "grid_template_columns": null,
            "flex": null,
            "_model_name": "LayoutModel",
            "justify_items": null,
            "grid_row": null,
            "max_height": null,
            "align_content": null,
            "visibility": null,
            "align_self": null,
            "height": null,
            "min_height": null,
            "padding": null,
            "grid_auto_rows": null,
            "grid_gap": null,
            "max_width": null,
            "order": null,
            "_view_module_version": "1.2.0",
            "grid_template_areas": null,
            "object_position": null,
            "object_fit": null,
            "grid_auto_columns": null,
            "margin": null,
            "display": null,
            "left": null
          }
        }
      }
    }
  },
  "cells": [
    {
      "cell_type": "markdown",
      "metadata": {
        "id": "view-in-github",
        "colab_type": "text"
      },
      "source": [
        "<a href=\"https://colab.research.google.com/github/cosminnedescu/ProjectMLDL/blob/main/owr/owr-closed-095.ipynb\" target=\"_parent\"><img src=\"https://colab.research.google.com/assets/colab-badge.svg\" alt=\"Open In Colab\"/></a>"
      ]
    },
    {
      "cell_type": "code",
      "metadata": {
        "id": "PF5bRIxnU-PW",
        "colab": {
          "base_uri": "https://localhost:8080/"
        },
        "outputId": "f54a3716-67f4-4471-b2d7-190e748f0dc7"
        
      },
      "source": [
        "# Avoid K80\n",
        "!nvidia-smi"
      ],
      "execution_count": 1,
      "outputs": [
        {
          "output_type": "stream",
          "text": [
            "Thu Jul 15 22:44:48 2021       \n",
            "+-----------------------------------------------------------------------------+\n",
            "| NVIDIA-SMI 470.42.01    Driver Version: 460.32.03    CUDA Version: 11.2     |\n",
            "|-------------------------------+----------------------+----------------------+\n",
            "| GPU  Name        Persistence-M| Bus-Id        Disp.A | Volatile Uncorr. ECC |\n",
            "| Fan  Temp  Perf  Pwr:Usage/Cap|         Memory-Usage | GPU-Util  Compute M. |\n",
            "|                               |                      |               MIG M. |\n",
            "|===============================+======================+======================|\n",
            "|   0  Tesla T4            Off  | 00000000:00:04.0 Off |                    0 |\n",
            "| N/A   44C    P8     9W /  70W |      0MiB / 15109MiB |      0%      Default |\n",
            "|                               |                      |                  N/A |\n",
            "+-------------------------------+----------------------+----------------------+\n",
            "                                                                               \n",
            "+-----------------------------------------------------------------------------+\n",
            "| Processes:                                                                  |\n",
            "|  GPU   GI   CI        PID   Type   Process name                  GPU Memory |\n",
            "|        ID   ID                                                   Usage      |\n",
            "|=============================================================================|\n",
            "|  No running processes found                                                 |\n",
            "+-----------------------------------------------------------------------------+\n"
          ],
          "name": "stdout"
        }
      ]
    },
    {
      "cell_type": "code",
      "metadata": {
        "id": "pJimWkPdQu6y"
      },
      "source": [
        "import os\n",
        "import random\n",
        "\n",
        "import torch\n",
        "import torch.nn as nn\n",
        "import torch.nn.init as init\n",
        "import torch.optim as optim\n",
        "from torch.autograd import Variable\n",
        "\n",
        "import torchvision\n",
        "from torchvision import transforms, datasets, models\n",
        "from torch.utils.data import Subset, DataLoader\n",
        "\n",
        "from PIL import Image\n",
        "\n",
        "import numpy as np\n",
        "import matplotlib \n",
        "import matplotlib.pyplot as plt\n",
        "from copy import copy\n",
        "from copy import deepcopy"
      ],
      "execution_count": 2,
      "outputs": []
    },
    {
      "cell_type": "markdown",
      "metadata": {
        "id": "7BZw-bZJ16ay"
      },
      "source": [
        "#### Cloning the Git repository"
      ]
    },
    {
      "cell_type": "code",
      "metadata": {
        "id": "yjntw1jZQ7Lg",
        "colab": {
          "base_uri": "https://localhost:8080/"
        },
        "outputId": "1cb23ecc-3b61-495a-e0b4-63af95304fdf"
      },
      "source": [
        "!rm -rf ProjectMLDL\n",
        "if not os.path.isdir('/content/ProjectMLDL'):\n",
        "  !git clone https://github.com/cosminnedescu/ProjectMLDL.git\n",
        "  %cd /content/ProjectMLDL\n",
        "  !rm -rf LICENSE README.md"
      ],
      "execution_count": 3,
      "outputs": [
        {
          "output_type": "stream",
          "text": [
            "Cloning into 'ProjectMLDL'...\n",
            "remote: Enumerating objects: 3678, done.\u001b[K\n",
            "remote: Counting objects: 100% (1094/1094), done.\u001b[K\n",
            "remote: Compressing objects: 100% (524/524), done.\u001b[K\n",
            "remote: Total 3678 (delta 635), reused 944 (delta 552), pack-reused 2584\u001b[K\n",
            "Receiving objects: 100% (3678/3678), 184.89 MiB | 33.78 MiB/s, done.\n",
            "Resolving deltas: 100% (2020/2020), done.\n",
            "/content/ProjectMLDL\n"
          ],
          "name": "stdout"
        }
      ]
    },
    {
      "cell_type": "code",
      "metadata": {
        "id": "nvqmxRxo2lUW"
      },
      "source": [
        "from data.cifar100 import CIFAR100\n",
        "from model.resnet32_modified import resnet32\n",
        "import data.utils\n",
        "from model.OWR import owrCosine"
      ],
      "execution_count": 4,
      "outputs": []
    },
    {
      "cell_type": "code",
      "metadata": {
        "id": "XwomFTtQo1x-"
      },
      "source": [
        "# True mean and std of Cifar100 dataset (src=\"https://gist.github.com/weiaicunzai/e623931921efefd4c331622c344d8151\")\n",
        "mean = [0.5071, 0.4867, 0.4408]\n",
        "std = [0.2675, 0.2565, 0.2761]\n",
        "\n",
        "train_transform = transforms.Compose([\n",
        "    transforms.RandomCrop(32, padding=4),\n",
        "    transforms.RandomHorizontalFlip(),\n",
        "    transforms.ToTensor(),\n",
        "    transforms.Normalize(mean, std),\n",
        "])\n",
        "test_transform = transforms.Compose(\n",
        "    [transforms.ToTensor(), \n",
        "     transforms.Normalize(mean, std),\n",
        "     ])"
      ],
      "execution_count": 6,
      "outputs": []
    },
    {
      "cell_type": "markdown",
      "metadata": {
        "id": "yRoS-R_sRhHT"
      },
      "source": [
        "## Incremental Classifier and Representation Learning"
      ]
    },
    {
      "cell_type": "markdown",
      "metadata": {
        "id": "3ocVW0wM2Iw2"
      },
      "source": [
        "### Defining hyperparameters according to iCarl paper"
      ]
    },
    {
      "cell_type": "code",
      "metadata": {
        "id": "nmEo_9lnwyBk"
      },
      "source": [
        "# Settings\n",
        "DEVICE = 'cuda'\n",
        "NUM_CLASSES = 100         # Total number of classes\n",
        "VAL_SIZE = 0.2            # Proportion of validation set with respect to training set (between 0 and 1)\n",
        "\n",
        "# Training\n",
        "BATCH_SIZE = 128          # Batch size\n",
        "LR = 0.1                    # Initial learning rate\n",
        "                       \n",
        "MOMENTUM = 0.9            # Momentum for stochastic gradient descent (SGD)\n",
        "WEIGHT_DECAY = 1e-5       # Weight decay from iCaRL\n",
        "\n",
        "RANDOM_SEED = [20,24,66]  # Random seeds defining the runs of every method\n",
        "                          # Note: this should be at least 3 to have a fair benchmark\n",
        "\n",
        "NUM_EPOCHS = 70           # Total number of training epochs\n",
        "MILESTONES = [43, 63]     # Step down policy from iCaRL (MultiStepLR)\n",
        "                          # Decrease the learning rate by gamma at each milestone\n",
        "GAMMA = 0.2               # Gamma factor from iCaRL (1/5)\n",
        "\n",
        "HERDING = False           # True to perform prioritized selection, False to perform random selection\n",
        "CLASSIFY = True           # True to use mean-of-exemplar classifier, False to use network's output directly for classification\n",
        "\n",
        "REJECTION_THRESHOLD = 0.95\n",
        "TESTING_MODE = 'harmonic' #open, closed, harmonic"
      ],
      "execution_count": 7,
      "outputs": []
    },
    {
      "cell_type": "code",
      "metadata": {
        "id": "rVh61C63FECy"
      },
      "source": [
        "def do_group_classes(run):\n",
        "\n",
        "  train_subset = [[] for i in range(10)]\n",
        "  train_dataloader = [[] for i in range(10)]\n",
        "  val_dataloader = [[] for i in range(10)]\n",
        "  test_dataloader = [[] for i in range(10)]\n",
        "\n",
        "  for i in range(10):\n",
        "    train_data = CIFAR100(\"dataset\", \n",
        "                          train=True, \n",
        "                          transform=train_transform, \n",
        "                          download=(run+i==0),\n",
        "                          random_state=RANDOM_SEED[run])\n",
        "    test_data = CIFAR100(\"dataset\", \n",
        "                         train=False, \n",
        "                         transform=test_transform, \n",
        "                         download=False,\n",
        "                         random_state=RANDOM_SEED[run])\n",
        "    \n",
        "    train_data.set_index_map(train_data.splits[i])\n",
        "    test_data.set_index_map([test_data.splits[j] for j in range(0, i+1)])\n",
        "    \n",
        "    train_indices, val_indices = train_data.train_val_split(VAL_SIZE, RANDOM_SEED[run])\n",
        "    \n",
        "    train_subset[i] = copy(Subset(train_data, train_indices))\n",
        "    val_subset = Subset(train_data, val_indices)\n",
        "\n",
        "    tmp_dl = DataLoader(val_subset,\n",
        "                       batch_size=BATCH_SIZE,\n",
        "                       shuffle=True, \n",
        "                       num_workers=4,\n",
        "                       drop_last=True)\n",
        "    val_dataloader[i] = copy(tmp_dl)\n",
        "\n",
        "    tmp_dl = DataLoader(test_data,\n",
        "                       batch_size=BATCH_SIZE,\n",
        "                       shuffle=True, \n",
        "                       num_workers=4,\n",
        "                       drop_last=True)\n",
        "    test_dataloader[i] = copy(tmp_dl)\n",
        "\n",
        "  return train_dataloader, val_dataloader, test_dataloader, train_subset"
      ],
      "execution_count": 8,
      "outputs": []
    },
    {
      "cell_type": "markdown",
      "metadata": {
        "id": "20APZIgI1eBy"
      },
      "source": [
        "### Going on with the model\n",
        "This is the main iCaRL step.\n",
        "\n",
        "This step is run 3 times with different `RANDOM_SEED`.\n",
        "Here the model is instantiated, trained and tested.\n",
        "\n",
        "Results and some statistics are then stored in the variable `logs`."
      ]
    },
    {
      "cell_type": "code",
      "metadata": {
        "id": "mJHKbipz0bMr",
        "colab": {
          "base_uri": "https://localhost:8080/",
          "height": 1000,
          "referenced_widgets": [
            "ddd1d0ea61c241249546e04c29735f02",
            "9514acbb11ae4fca904e4f904c5da30e",
            "436f1517c52c4306b9f81ae775df4de9",
            "c7d68381bb324b4695aa91c4fafa16ee",
            "9f83a5d6fd6b4363870ab51ba77293a1",
            "320be024bcce475093f7d0445ee03f07",
            "20442bcc09fe4d8eae250f92f11e56de",
            "cf0dc44331ac491281601fd1c3de5349"
          ]
        },
        "outputId": "0aaf5754-2640-4986-bed8-52661ec646bc"
      },
      "source": [
        "logs = [[] for i in range(len(RANDOM_SEED))]\n",
        "best_net_tot_classes = [None for i in range(len(RANDOM_SEED))]\n",
        "\n",
        "for run in range(len(RANDOM_SEED)):\n",
        "  print(\"#################################\")\n",
        "  print(f\"Radom seed: {RANDOM_SEED[run]}\")\n",
        "  print(\"\")\n",
        "\n",
        "  # get data_subsets separated in incremental groups of 10 classes\n",
        "  train_dl, val_dl, test_dl, train_set = do_group_classes(run)\n",
        "\n",
        "  #create the resnet\n",
        "  net = resnet32()\n",
        "  \n",
        "  trainer = owrCosine(DEVICE,\n",
        "                  net,\n",
        "                  LR,\n",
        "                  MOMENTUM,\n",
        "                  WEIGHT_DECAY,\n",
        "                  MILESTONES,\n",
        "                  GAMMA,\n",
        "                  train_dl,\n",
        "                  val_dl,\n",
        "                  test_dl,\n",
        "                  BATCH_SIZE,\n",
        "                  train_set,\n",
        "                  train_transform,\n",
        "                  test_transform,\n",
        "                  TESTING_MODE,\n",
        "                  REJECTION_THRESHOLD) \n",
        "\n",
        "  #train and evaluate the model\n",
        "  logs[run] = trainer.train_model(NUM_EPOCHS)\n",
        "\n",
        "  best_net_tot_classes[run] = deepcopy(trainer.best_net)\n",
        "\n",
        "  print(\"#################################\")\n",
        "  print(\"\")\n",
        "  print(\"\")"
      ],
      "execution_count": 9,
      "outputs": [
        {
          "output_type": "stream",
          "text": [
            "#################################\n",
            "Radom seed: 20\n",
            "\n",
            "Downloading https://www.cs.toronto.edu/~kriz/cifar-100-python.tar.gz to dataset/cifar-100-python.tar.gz\n"
          ],
          "name": "stdout"
        },
        {
          "output_type": "display_data",
          "data": {
            "application/vnd.jupyter.widget-view+json": {
              "model_id": "ddd1d0ea61c241249546e04c29735f02",
              "version_minor": 0,
              "version_major": 2
            },
            "text/plain": [
              "HBox(children=(FloatProgress(value=0.0, max=169001437.0), HTML(value='')))"
            ]
          },
          "metadata": {
            "tags": []
          }
        },
        {
          "output_type": "stream",
          "text": [
            "\n",
            "Extracting dataset/cifar-100-python.tar.gz to dataset\n"
          ],
          "name": "stdout"
        },
        {
          "output_type": "stream",
          "text": [
            "/usr/local/lib/python3.7/dist-packages/torch/utils/data/dataloader.py:481: UserWarning: This DataLoader will create 4 worker processes in total. Our suggested max number of worker in current system is 2, which is smaller than what this DataLoader is going to create. Please be aware that excessive worker creation might get DataLoader running slow or even freeze, lower the worker number to avoid potential slowness/freeze if necessary.\n",
            "  cpuset_checked))\n"
          ],
          "name": "stderr"
        },
        {
          "output_type": "stream",
          "text": [
            "Length of exemplars set: 0\n",
            "Epoch 1/10 LR: [0.1]\n",
            "Validation accuracy on group 1/5: 0.19\n",
            "Best model updated\n",
            "\n",
            "Epoch 2/10 LR: [0.1]\n",
            "Validation accuracy on group 1/5: 0.24\n",
            "Best model updated\n",
            "\n",
            "Epoch 3/10 LR: [0.1]\n",
            "Validation accuracy on group 1/5: 0.20\n",
            "\n",
            "Epoch 4/10 LR: [0.1]\n",
            "Validation accuracy on group 1/5: 0.39\n",
            "Best model updated\n",
            "\n",
            "Epoch 5/10 LR: [0.1]\n",
            "Validation accuracy on group 1/5: 0.31\n",
            "\n",
            "Epoch 6/10 LR: [0.1]\n",
            "Validation accuracy on group 1/5: 0.39\n",
            "\n",
            "Epoch 7/10 LR: [0.1]\n",
            "Validation accuracy on group 1/5: 0.46\n",
            "Best model updated\n",
            "\n",
            "Epoch 8/10 LR: [0.1]\n",
            "Validation accuracy on group 1/5: 0.55\n",
            "Best model updated\n",
            "\n",
            "Epoch 9/10 LR: [0.1]\n",
            "Validation accuracy on group 1/5: 0.55\n",
            "\n",
            "Epoch 10/10 LR: [0.1]\n",
            "Validation accuracy on group 1/5: 0.62\n",
            "Best model updated\n",
            "\n",
            "Group 1 Finished!\n",
            "Best accuracy found at epoch 10: 0.62\n",
            "Target number of exemplars: 200\n",
            "Randomly extracting exemplars from class 0 of current split... Extracted 200 exemplars.\n",
            "Randomly extracting exemplars from class 1 of current split... Extracted 200 exemplars.\n",
            "Randomly extracting exemplars from class 2 of current split... Extracted 200 exemplars.\n",
            "Randomly extracting exemplars from class 3 of current split... Extracted 200 exemplars.\n",
            "Randomly extracting exemplars from class 4 of current split... Extracted 200 exemplars.\n",
            "Randomly extracting exemplars from class 5 of current split... Extracted 200 exemplars.\n",
            "Randomly extracting exemplars from class 6 of current split... Extracted 200 exemplars.\n",
            "Randomly extracting exemplars from class 7 of current split... Extracted 200 exemplars.\n",
            "Randomly extracting exemplars from class 8 of current split... Extracted 200 exemplars.\n",
            "Randomly extracting exemplars from class 9 of current split... Extracted 200 exemplars.\n",
            "Testing classes seen so far, accuracy: 0.06\n",
            "839 unkown found, 465 predictions of them where correct\n",
            "\n",
            "=============================================\n",
            "\n",
            "Length of exemplars set: 2000\n",
            "Epoch 1/10 LR: [0.1]\n",
            "Validation accuracy on group 2/5: 0.31\n",
            "Best model updated\n",
            "\n",
            "Epoch 2/10 LR: [0.1]\n",
            "Validation accuracy on group 2/5: 0.47\n",
            "Best model updated\n",
            "\n",
            "Epoch 3/10 LR: [0.1]\n",
            "Validation accuracy on group 2/5: 0.45\n",
            "\n",
            "Epoch 4/10 LR: [0.1]\n",
            "Validation accuracy on group 2/5: 0.53\n",
            "Best model updated\n",
            "\n",
            "Epoch 5/10 LR: [0.1]\n",
            "Validation accuracy on group 2/5: 0.58\n",
            "Best model updated\n",
            "\n",
            "Epoch 6/10 LR: [0.1]\n",
            "Validation accuracy on group 2/5: 0.61\n",
            "Best model updated\n",
            "\n",
            "Epoch 7/10 LR: [0.1]\n",
            "Validation accuracy on group 2/5: 0.50\n",
            "\n",
            "Epoch 8/10 LR: [0.1]\n",
            "Validation accuracy on group 2/5: 0.60\n",
            "\n",
            "Epoch 9/10 LR: [0.1]\n",
            "Validation accuracy on group 2/5: 0.64\n",
            "Best model updated\n",
            "\n",
            "Epoch 10/10 LR: [0.1]\n",
            "Validation accuracy on group 2/5: 0.59\n",
            "\n",
            "Group 2 Finished!\n",
            "Best accuracy found at epoch 9: 0.64\n",
            "Target number of exemplars: 100\n",
            "Randomly extracting exemplars from class 0 of current split... Extracted 100 exemplars.\n",
            "Randomly extracting exemplars from class 1 of current split... Extracted 100 exemplars.\n",
            "Randomly extracting exemplars from class 2 of current split... Extracted 100 exemplars.\n",
            "Randomly extracting exemplars from class 3 of current split... Extracted 100 exemplars.\n",
            "Randomly extracting exemplars from class 4 of current split... Extracted 100 exemplars.\n",
            "Randomly extracting exemplars from class 5 of current split... Extracted 100 exemplars.\n",
            "Randomly extracting exemplars from class 6 of current split... Extracted 100 exemplars.\n",
            "Randomly extracting exemplars from class 7 of current split... Extracted 100 exemplars.\n",
            "Randomly extracting exemplars from class 8 of current split... Extracted 100 exemplars.\n",
            "Randomly extracting exemplars from class 9 of current split... Extracted 100 exemplars.\n",
            "Testing classes seen so far, accuracy: 0.17\n",
            "1546 unkown found, 677 predictions of them where correct\n",
            "\n",
            "=============================================\n",
            "\n",
            "Length of exemplars set: 2000\n",
            "Epoch 1/10 LR: [0.1]\n",
            "Validation accuracy on group 3/5: 0.46\n",
            "Best model updated\n",
            "\n",
            "Epoch 2/10 LR: [0.1]\n",
            "Validation accuracy on group 3/5: 0.53\n",
            "Best model updated\n",
            "\n",
            "Epoch 3/10 LR: [0.1]\n",
            "Validation accuracy on group 3/5: 0.47\n",
            "\n",
            "Epoch 4/10 LR: [0.1]\n",
            "Validation accuracy on group 3/5: 0.65\n",
            "Best model updated\n",
            "\n",
            "Epoch 5/10 LR: [0.1]\n",
            "Validation accuracy on group 3/5: 0.64\n",
            "\n",
            "Epoch 6/10 LR: [0.1]\n",
            "Validation accuracy on group 3/5: 0.61\n",
            "\n",
            "Epoch 7/10 LR: [0.1]\n",
            "Validation accuracy on group 3/5: 0.63\n",
            "\n",
            "Epoch 8/10 LR: [0.1]\n",
            "Validation accuracy on group 3/5: 0.49\n",
            "\n",
            "Epoch 9/10 LR: [0.1]\n",
            "Validation accuracy on group 3/5: 0.53\n",
            "\n",
            "Epoch 10/10 LR: [0.1]\n",
            "Validation accuracy on group 3/5: 0.64\n",
            "\n",
            "Group 3 Finished!\n",
            "Best accuracy found at epoch 4: 0.65\n",
            "Target number of exemplars: 66\n",
            "Randomly extracting exemplars from class 0 of current split... Extracted 66 exemplars.\n",
            "Randomly extracting exemplars from class 1 of current split... Extracted 66 exemplars.\n",
            "Randomly extracting exemplars from class 2 of current split... Extracted 66 exemplars.\n",
            "Randomly extracting exemplars from class 3 of current split... Extracted 66 exemplars.\n",
            "Randomly extracting exemplars from class 4 of current split... Extracted 66 exemplars.\n",
            "Randomly extracting exemplars from class 5 of current split... Extracted 66 exemplars.\n",
            "Randomly extracting exemplars from class 6 of current split... Extracted 66 exemplars.\n",
            "Randomly extracting exemplars from class 7 of current split... Extracted 66 exemplars.\n",
            "Randomly extracting exemplars from class 8 of current split... Extracted 66 exemplars.\n",
            "Randomly extracting exemplars from class 9 of current split... Extracted 66 exemplars.\n",
            "Testing classes seen so far, accuracy: 0.10\n",
            "2602 unkown found, 1077 predictions of them where correct\n",
            "\n",
            "=============================================\n",
            "\n",
            "Length of exemplars set: 1980\n",
            "Epoch 1/10 LR: [0.1]\n",
            "Validation accuracy on group 4/5: 0.56\n",
            "Best model updated\n",
            "\n",
            "Epoch 2/10 LR: [0.1]\n",
            "Validation accuracy on group 4/5: 0.56\n",
            "Best model updated\n",
            "\n",
            "Epoch 3/10 LR: [0.1]\n",
            "Validation accuracy on group 4/5: 0.55\n",
            "\n",
            "Epoch 4/10 LR: [0.1]\n",
            "Validation accuracy on group 4/5: 0.65\n",
            "Best model updated\n",
            "\n",
            "Epoch 5/10 LR: [0.1]\n",
            "Validation accuracy on group 4/5: 0.58\n",
            "\n",
            "Epoch 6/10 LR: [0.1]\n",
            "Validation accuracy on group 4/5: 0.64\n",
            "\n",
            "Epoch 7/10 LR: [0.1]\n",
            "Validation accuracy on group 4/5: 0.67\n",
            "Best model updated\n",
            "\n",
            "Epoch 8/10 LR: [0.1]\n",
            "Validation accuracy on group 4/5: 0.63\n",
            "\n",
            "Epoch 9/10 LR: [0.1]\n",
            "Validation accuracy on group 4/5: 0.64\n",
            "\n",
            "Epoch 10/10 LR: [0.1]\n",
            "Validation accuracy on group 4/5: 0.62\n",
            "\n",
            "Group 4 Finished!\n",
            "Best accuracy found at epoch 7: 0.67\n",
            "Target number of exemplars: 50\n",
            "Randomly extracting exemplars from class 0 of current split... Extracted 50 exemplars.\n",
            "Randomly extracting exemplars from class 1 of current split... Extracted 50 exemplars.\n",
            "Randomly extracting exemplars from class 2 of current split... Extracted 50 exemplars.\n",
            "Randomly extracting exemplars from class 3 of current split... Extracted 50 exemplars.\n",
            "Randomly extracting exemplars from class 4 of current split... Extracted 50 exemplars.\n",
            "Randomly extracting exemplars from class 5 of current split... Extracted 50 exemplars.\n",
            "Randomly extracting exemplars from class 6 of current split... Extracted 50 exemplars.\n",
            "Randomly extracting exemplars from class 7 of current split... Extracted 50 exemplars.\n",
            "Randomly extracting exemplars from class 8 of current split... Extracted 50 exemplars.\n",
            "Randomly extracting exemplars from class 9 of current split... Extracted 50 exemplars.\n",
            "Testing classes seen so far, accuracy: 0.14\n",
            "3294 unkown found, 1152 predictions of them where correct\n",
            "\n",
            "=============================================\n",
            "\n",
            "Length of exemplars set: 2000\n",
            "Epoch 1/10 LR: [0.1]\n",
            "Validation accuracy on group 5/5: 0.67\n",
            "Best model updated\n",
            "\n",
            "Epoch 2/10 LR: [0.1]\n",
            "Validation accuracy on group 5/5: 0.68\n",
            "Best model updated\n",
            "\n",
            "Epoch 3/10 LR: [0.1]\n",
            "Validation accuracy on group 5/5: 0.65\n",
            "\n",
            "Epoch 4/10 LR: [0.1]\n",
            "Validation accuracy on group 5/5: 0.65\n",
            "\n",
            "Epoch 5/10 LR: [0.1]\n",
            "Validation accuracy on group 5/5: 0.70\n",
            "Best model updated\n",
            "\n",
            "Epoch 6/10 LR: [0.1]\n",
            "Validation accuracy on group 5/5: 0.73\n",
            "Best model updated\n",
            "\n",
            "Epoch 7/10 LR: [0.1]\n",
            "Validation accuracy on group 5/5: 0.74\n",
            "Best model updated\n",
            "\n",
            "Epoch 8/10 LR: [0.1]\n",
            "Validation accuracy on group 5/5: 0.71\n",
            "\n",
            "Epoch 9/10 LR: [0.1]\n",
            "Validation accuracy on group 5/5: 0.75\n",
            "Best model updated\n",
            "\n",
            "Epoch 10/10 LR: [0.1]\n",
            "Validation accuracy on group 5/5: 0.69\n",
            "\n",
            "Group 5 Finished!\n",
            "Best accuracy found at epoch 9: 0.75\n",
            "Target number of exemplars: 40\n",
            "Randomly extracting exemplars from class 0 of current split... Extracted 40 exemplars.\n",
            "Randomly extracting exemplars from class 1 of current split... Extracted 40 exemplars.\n",
            "Randomly extracting exemplars from class 2 of current split... Extracted 40 exemplars.\n",
            "Randomly extracting exemplars from class 3 of current split... Extracted 40 exemplars.\n",
            "Randomly extracting exemplars from class 4 of current split... Extracted 40 exemplars.\n",
            "Randomly extracting exemplars from class 5 of current split... Extracted 40 exemplars.\n",
            "Randomly extracting exemplars from class 6 of current split... Extracted 40 exemplars.\n",
            "Randomly extracting exemplars from class 7 of current split... Extracted 40 exemplars.\n",
            "Randomly extracting exemplars from class 8 of current split... Extracted 40 exemplars.\n",
            "Randomly extracting exemplars from class 9 of current split... Extracted 40 exemplars.\n",
            "Testing classes seen so far, accuracy: 0.18\n",
            "3888 unkown found, 1233 predictions of them where correct\n",
            "\n",
            "=============================================\n",
            "\n",
            "#################################\n",
            "\n",
            "\n",
            "#################################\n",
            "Radom seed: 24\n",
            "\n",
            "Length of exemplars set: 0\n",
            "Epoch 1/10 LR: [0.1]\n",
            "Validation accuracy on group 1/5: 0.26\n",
            "Best model updated\n",
            "\n",
            "Epoch 2/10 LR: [0.1]\n",
            "Validation accuracy on group 1/5: 0.15\n",
            "\n",
            "Epoch 3/10 LR: [0.1]\n",
            "Validation accuracy on group 1/5: 0.34\n",
            "Best model updated\n",
            "\n",
            "Epoch 4/10 LR: [0.1]\n",
            "Validation accuracy on group 1/5: 0.38\n",
            "Best model updated\n",
            "\n",
            "Epoch 5/10 LR: [0.1]\n",
            "Validation accuracy on group 1/5: 0.32\n",
            "\n",
            "Epoch 6/10 LR: [0.1]\n",
            "Validation accuracy on group 1/5: 0.39\n",
            "Best model updated\n",
            "\n",
            "Epoch 7/10 LR: [0.1]\n",
            "Validation accuracy on group 1/5: 0.46\n",
            "Best model updated\n",
            "\n",
            "Epoch 8/10 LR: [0.1]\n",
            "Validation accuracy on group 1/5: 0.57\n",
            "Best model updated\n",
            "\n",
            "Epoch 9/10 LR: [0.1]\n",
            "Validation accuracy on group 1/5: 0.50\n",
            "\n",
            "Epoch 10/10 LR: [0.1]\n",
            "Validation accuracy on group 1/5: 0.48\n",
            "\n",
            "Group 1 Finished!\n",
            "Best accuracy found at epoch 8: 0.57\n",
            "Target number of exemplars: 200\n",
            "Randomly extracting exemplars from class 0 of current split... Extracted 200 exemplars.\n",
            "Randomly extracting exemplars from class 1 of current split... Extracted 200 exemplars.\n",
            "Randomly extracting exemplars from class 2 of current split... Extracted 200 exemplars.\n",
            "Randomly extracting exemplars from class 3 of current split... Extracted 200 exemplars.\n",
            "Randomly extracting exemplars from class 4 of current split... Extracted 200 exemplars.\n",
            "Randomly extracting exemplars from class 5 of current split... Extracted 200 exemplars.\n",
            "Randomly extracting exemplars from class 6 of current split... Extracted 200 exemplars.\n",
            "Randomly extracting exemplars from class 7 of current split... Extracted 200 exemplars.\n",
            "Randomly extracting exemplars from class 8 of current split... Extracted 200 exemplars.\n",
            "Randomly extracting exemplars from class 9 of current split... Extracted 200 exemplars.\n",
            "Testing classes seen so far, accuracy: 0.04\n",
            "863 unkown found, 447 predictions of them where correct\n",
            "\n",
            "=============================================\n",
            "\n",
            "Length of exemplars set: 2000\n",
            "Epoch 1/10 LR: [0.1]\n",
            "Validation accuracy on group 2/5: 0.30\n",
            "Best model updated\n",
            "\n",
            "Epoch 2/10 LR: [0.1]\n",
            "Validation accuracy on group 2/5: 0.42\n",
            "Best model updated\n",
            "\n",
            "Epoch 3/10 LR: [0.1]\n",
            "Validation accuracy on group 2/5: 0.45\n",
            "Best model updated\n",
            "\n",
            "Epoch 4/10 LR: [0.1]\n",
            "Validation accuracy on group 2/5: 0.55\n",
            "Best model updated\n",
            "\n",
            "Epoch 5/10 LR: [0.1]\n",
            "Validation accuracy on group 2/5: 0.55\n",
            "\n",
            "Epoch 6/10 LR: [0.1]\n",
            "Validation accuracy on group 2/5: 0.63\n",
            "Best model updated\n",
            "\n",
            "Epoch 7/10 LR: [0.1]\n",
            "Validation accuracy on group 2/5: 0.63\n",
            "Best model updated\n",
            "\n",
            "Epoch 8/10 LR: [0.1]\n",
            "Validation accuracy on group 2/5: 0.62\n",
            "\n",
            "Epoch 9/10 LR: [0.1]\n",
            "Validation accuracy on group 2/5: 0.66\n",
            "Best model updated\n",
            "\n",
            "Epoch 10/10 LR: [0.1]\n",
            "Validation accuracy on group 2/5: 0.73\n",
            "Best model updated\n",
            "\n",
            "Group 2 Finished!\n",
            "Best accuracy found at epoch 10: 0.73\n",
            "Target number of exemplars: 100\n",
            "Randomly extracting exemplars from class 0 of current split... Extracted 100 exemplars.\n",
            "Randomly extracting exemplars from class 1 of current split... Extracted 100 exemplars.\n",
            "Randomly extracting exemplars from class 2 of current split... Extracted 100 exemplars.\n",
            "Randomly extracting exemplars from class 3 of current split... Extracted 100 exemplars.\n",
            "Randomly extracting exemplars from class 4 of current split... Extracted 100 exemplars.\n",
            "Randomly extracting exemplars from class 5 of current split... Extracted 100 exemplars.\n",
            "Randomly extracting exemplars from class 6 of current split... Extracted 100 exemplars.\n",
            "Randomly extracting exemplars from class 7 of current split... Extracted 100 exemplars.\n",
            "Randomly extracting exemplars from class 8 of current split... Extracted 100 exemplars.\n",
            "Randomly extracting exemplars from class 9 of current split... Extracted 100 exemplars.\n",
            "Testing classes seen so far, accuracy: 0.22\n",
            "1473 unkown found, 742 predictions of them where correct\n",
            "\n",
            "=============================================\n",
            "\n",
            "Length of exemplars set: 2000\n",
            "Epoch 1/10 LR: [0.1]\n",
            "Validation accuracy on group 3/5: 0.57\n",
            "Best model updated\n",
            "\n",
            "Epoch 2/10 LR: [0.1]\n",
            "Validation accuracy on group 3/5: 0.53\n",
            "\n",
            "Epoch 3/10 LR: [0.1]\n",
            "Validation accuracy on group 3/5: 0.55\n",
            "\n",
            "Epoch 4/10 LR: [0.1]\n",
            "Validation accuracy on group 3/5: 0.52\n",
            "\n",
            "Epoch 5/10 LR: [0.1]\n",
            "Validation accuracy on group 3/5: 0.64\n",
            "Best model updated\n",
            "\n",
            "Epoch 6/10 LR: [0.1]\n",
            "Validation accuracy on group 3/5: 0.64\n",
            "Best model updated\n",
            "\n",
            "Epoch 7/10 LR: [0.1]\n",
            "Validation accuracy on group 3/5: 0.66\n",
            "Best model updated\n",
            "\n",
            "Epoch 8/10 LR: [0.1]\n",
            "Validation accuracy on group 3/5: 0.65\n",
            "\n",
            "Epoch 9/10 LR: [0.1]\n",
            "Validation accuracy on group 3/5: 0.61\n",
            "\n",
            "Epoch 10/10 LR: [0.1]\n",
            "Validation accuracy on group 3/5: 0.57\n",
            "\n",
            "Group 3 Finished!\n",
            "Best accuracy found at epoch 7: 0.66\n",
            "Target number of exemplars: 66\n",
            "Randomly extracting exemplars from class 0 of current split... Extracted 66 exemplars.\n",
            "Randomly extracting exemplars from class 1 of current split... Extracted 66 exemplars.\n",
            "Randomly extracting exemplars from class 2 of current split... Extracted 66 exemplars.\n",
            "Randomly extracting exemplars from class 3 of current split... Extracted 66 exemplars.\n",
            "Randomly extracting exemplars from class 4 of current split... Extracted 66 exemplars.\n",
            "Randomly extracting exemplars from class 5 of current split... Extracted 66 exemplars.\n",
            "Randomly extracting exemplars from class 6 of current split... Extracted 66 exemplars.\n",
            "Randomly extracting exemplars from class 7 of current split... Extracted 66 exemplars.\n",
            "Randomly extracting exemplars from class 8 of current split... Extracted 66 exemplars.\n",
            "Randomly extracting exemplars from class 9 of current split... Extracted 66 exemplars.\n",
            "Testing classes seen so far, accuracy: 0.19\n",
            "2346 unkown found, 905 predictions of them where correct\n",
            "\n",
            "=============================================\n",
            "\n",
            "Length of exemplars set: 1980\n",
            "Epoch 1/10 LR: [0.1]\n",
            "Validation accuracy on group 4/5: 0.58\n",
            "Best model updated\n",
            "\n",
            "Epoch 2/10 LR: [0.1]\n",
            "Validation accuracy on group 4/5: 0.64\n",
            "Best model updated\n",
            "\n",
            "Epoch 3/10 LR: [0.1]\n",
            "Validation accuracy on group 4/5: 0.67\n",
            "Best model updated\n",
            "\n",
            "Epoch 4/10 LR: [0.1]\n",
            "Validation accuracy on group 4/5: 0.71\n",
            "Best model updated\n",
            "\n",
            "Epoch 5/10 LR: [0.1]\n",
            "Validation accuracy on group 4/5: 0.70\n",
            "\n",
            "Epoch 6/10 LR: [0.1]\n",
            "Validation accuracy on group 4/5: 0.64\n",
            "\n",
            "Epoch 7/10 LR: [0.1]\n",
            "Validation accuracy on group 4/5: 0.69\n",
            "\n",
            "Epoch 8/10 LR: [0.1]\n",
            "Validation accuracy on group 4/5: 0.69\n",
            "\n",
            "Epoch 9/10 LR: [0.1]\n",
            "Validation accuracy on group 4/5: 0.69\n",
            "\n",
            "Epoch 10/10 LR: [0.1]\n",
            "Validation accuracy on group 4/5: 0.71\n",
            "Best model updated\n",
            "\n",
            "Group 4 Finished!\n",
            "Best accuracy found at epoch 10: 0.71\n",
            "Target number of exemplars: 50\n",
            "Randomly extracting exemplars from class 0 of current split... Extracted 50 exemplars.\n",
            "Randomly extracting exemplars from class 1 of current split... Extracted 50 exemplars.\n",
            "Randomly extracting exemplars from class 2 of current split... Extracted 50 exemplars.\n",
            "Randomly extracting exemplars from class 3 of current split... Extracted 50 exemplars.\n",
            "Randomly extracting exemplars from class 4 of current split... Extracted 50 exemplars.\n",
            "Randomly extracting exemplars from class 5 of current split... Extracted 50 exemplars.\n",
            "Randomly extracting exemplars from class 6 of current split... Extracted 50 exemplars.\n",
            "Randomly extracting exemplars from class 7 of current split... Extracted 50 exemplars.\n",
            "Randomly extracting exemplars from class 8 of current split... Extracted 50 exemplars.\n",
            "Randomly extracting exemplars from class 9 of current split... Extracted 50 exemplars.\n",
            "Testing classes seen so far, accuracy: 0.19\n",
            "3028 unkown found, 1146 predictions of them where correct\n",
            "\n",
            "=============================================\n",
            "\n",
            "Length of exemplars set: 2000\n",
            "Epoch 1/10 LR: [0.1]\n",
            "Validation accuracy on group 5/5: 0.54\n",
            "Best model updated\n",
            "\n",
            "Epoch 2/10 LR: [0.1]\n",
            "Validation accuracy on group 5/5: 0.56\n",
            "Best model updated\n",
            "\n",
            "Epoch 3/10 LR: [0.1]\n",
            "Validation accuracy on group 5/5: 0.68\n",
            "Best model updated\n",
            "\n",
            "Epoch 4/10 LR: [0.1]\n",
            "Validation accuracy on group 5/5: 0.64\n",
            "\n",
            "Epoch 5/10 LR: [0.1]\n",
            "Validation accuracy on group 5/5: 0.65\n",
            "\n",
            "Epoch 6/10 LR: [0.1]\n",
            "Validation accuracy on group 5/5: 0.64\n",
            "\n",
            "Epoch 7/10 LR: [0.1]\n",
            "Validation accuracy on group 5/5: 0.63\n",
            "\n",
            "Epoch 8/10 LR: [0.1]\n",
            "Validation accuracy on group 5/5: 0.65\n",
            "\n",
            "Epoch 9/10 LR: [0.1]\n",
            "Validation accuracy on group 5/5: 0.67\n",
            "\n",
            "Epoch 10/10 LR: [0.1]\n",
            "Validation accuracy on group 5/5: 0.73\n",
            "Best model updated\n",
            "\n",
            "Group 5 Finished!\n",
            "Best accuracy found at epoch 10: 0.73\n",
            "Target number of exemplars: 40\n",
            "Randomly extracting exemplars from class 0 of current split... Extracted 40 exemplars.\n",
            "Randomly extracting exemplars from class 1 of current split... Extracted 40 exemplars.\n",
            "Randomly extracting exemplars from class 2 of current split... Extracted 40 exemplars.\n",
            "Randomly extracting exemplars from class 3 of current split... Extracted 40 exemplars.\n",
            "Randomly extracting exemplars from class 4 of current split... Extracted 40 exemplars.\n",
            "Randomly extracting exemplars from class 5 of current split... Extracted 40 exemplars.\n",
            "Randomly extracting exemplars from class 6 of current split... Extracted 40 exemplars.\n",
            "Randomly extracting exemplars from class 7 of current split... Extracted 40 exemplars.\n",
            "Randomly extracting exemplars from class 8 of current split... Extracted 40 exemplars.\n",
            "Randomly extracting exemplars from class 9 of current split... Extracted 40 exemplars.\n",
            "Testing classes seen so far, accuracy: 0.18\n",
            "3862 unkown found, 1190 predictions of them where correct\n",
            "\n",
            "=============================================\n",
            "\n",
            "#################################\n",
            "\n",
            "\n",
            "#################################\n",
            "Radom seed: 66\n",
            "\n",
            "Length of exemplars set: 0\n",
            "Epoch 1/10 LR: [0.1]\n",
            "Validation accuracy on group 1/5: 0.28\n",
            "Best model updated\n",
            "\n",
            "Epoch 2/10 LR: [0.1]\n",
            "Validation accuracy on group 1/5: 0.30\n",
            "Best model updated\n",
            "\n",
            "Epoch 3/10 LR: [0.1]\n",
            "Validation accuracy on group 1/5: 0.45\n",
            "Best model updated\n",
            "\n",
            "Epoch 4/10 LR: [0.1]\n",
            "Validation accuracy on group 1/5: 0.54\n",
            "Best model updated\n",
            "\n",
            "Epoch 5/10 LR: [0.1]\n",
            "Validation accuracy on group 1/5: 0.52\n",
            "\n",
            "Epoch 6/10 LR: [0.1]\n",
            "Validation accuracy on group 1/5: 0.61\n",
            "Best model updated\n",
            "\n",
            "Epoch 7/10 LR: [0.1]\n",
            "Validation accuracy on group 1/5: 0.61\n",
            "Best model updated\n",
            "\n",
            "Epoch 8/10 LR: [0.1]\n",
            "Validation accuracy on group 1/5: 0.62\n",
            "Best model updated\n",
            "\n",
            "Epoch 9/10 LR: [0.1]\n",
            "Validation accuracy on group 1/5: 0.51\n",
            "\n",
            "Epoch 10/10 LR: [0.1]\n",
            "Validation accuracy on group 1/5: 0.71\n",
            "Best model updated\n",
            "\n",
            "Group 1 Finished!\n",
            "Best accuracy found at epoch 10: 0.71\n",
            "Target number of exemplars: 200\n",
            "Randomly extracting exemplars from class 0 of current split... Extracted 200 exemplars.\n",
            "Randomly extracting exemplars from class 1 of current split... Extracted 200 exemplars.\n",
            "Randomly extracting exemplars from class 2 of current split... Extracted 200 exemplars.\n",
            "Randomly extracting exemplars from class 3 of current split... Extracted 200 exemplars.\n",
            "Randomly extracting exemplars from class 4 of current split... Extracted 200 exemplars.\n",
            "Randomly extracting exemplars from class 5 of current split... Extracted 200 exemplars.\n",
            "Randomly extracting exemplars from class 6 of current split... Extracted 200 exemplars.\n",
            "Randomly extracting exemplars from class 7 of current split... Extracted 200 exemplars.\n",
            "Randomly extracting exemplars from class 8 of current split... Extracted 200 exemplars.\n",
            "Randomly extracting exemplars from class 9 of current split... Extracted 200 exemplars.\n",
            "Testing classes seen so far, accuracy: 0.19\n",
            "723 unkown found, 493 predictions of them where correct\n",
            "\n",
            "=============================================\n",
            "\n",
            "Length of exemplars set: 2000\n",
            "Epoch 1/10 LR: [0.1]\n",
            "Validation accuracy on group 2/5: 0.23\n",
            "Best model updated\n",
            "\n",
            "Epoch 2/10 LR: [0.1]\n",
            "Validation accuracy on group 2/5: 0.32\n",
            "Best model updated\n",
            "\n",
            "Epoch 3/10 LR: [0.1]\n",
            "Validation accuracy on group 2/5: 0.31\n",
            "\n",
            "Epoch 4/10 LR: [0.1]\n",
            "Validation accuracy on group 2/5: 0.32\n",
            "Best model updated\n",
            "\n",
            "Epoch 5/10 LR: [0.1]\n",
            "Validation accuracy on group 2/5: 0.41\n",
            "Best model updated\n",
            "\n",
            "Epoch 6/10 LR: [0.1]\n",
            "Validation accuracy on group 2/5: 0.42\n",
            "Best model updated\n",
            "\n",
            "Epoch 7/10 LR: [0.1]\n",
            "Validation accuracy on group 2/5: 0.45\n",
            "Best model updated\n",
            "\n",
            "Epoch 8/10 LR: [0.1]\n",
            "Validation accuracy on group 2/5: 0.46\n",
            "Best model updated\n",
            "\n",
            "Epoch 9/10 LR: [0.1]\n",
            "Validation accuracy on group 2/5: 0.44\n",
            "\n",
            "Epoch 10/10 LR: [0.1]\n",
            "Validation accuracy on group 2/5: 0.46\n",
            "\n",
            "Group 2 Finished!\n",
            "Best accuracy found at epoch 8: 0.46\n",
            "Target number of exemplars: 100\n",
            "Randomly extracting exemplars from class 0 of current split... Extracted 100 exemplars.\n",
            "Randomly extracting exemplars from class 1 of current split... Extracted 100 exemplars.\n",
            "Randomly extracting exemplars from class 2 of current split... Extracted 100 exemplars.\n",
            "Randomly extracting exemplars from class 3 of current split... Extracted 100 exemplars.\n",
            "Randomly extracting exemplars from class 4 of current split... Extracted 100 exemplars.\n",
            "Randomly extracting exemplars from class 5 of current split... Extracted 100 exemplars.\n",
            "Randomly extracting exemplars from class 6 of current split... Extracted 100 exemplars.\n",
            "Randomly extracting exemplars from class 7 of current split... Extracted 100 exemplars.\n",
            "Randomly extracting exemplars from class 8 of current split... Extracted 100 exemplars.\n",
            "Randomly extracting exemplars from class 9 of current split... Extracted 100 exemplars.\n",
            "Testing classes seen so far, accuracy: 0.16\n",
            "1609 unkown found, 615 predictions of them where correct\n",
            "\n",
            "=============================================\n",
            "\n",
            "Length of exemplars set: 2000\n",
            "Epoch 1/10 LR: [0.1]\n",
            "Validation accuracy on group 3/5: 0.57\n",
            "Best model updated\n",
            "\n",
            "Epoch 2/10 LR: [0.1]\n",
            "Validation accuracy on group 3/5: 0.50\n",
            "\n",
            "Epoch 3/10 LR: [0.1]\n",
            "Validation accuracy on group 3/5: 0.64\n",
            "Best model updated\n",
            "\n",
            "Epoch 4/10 LR: [0.1]\n",
            "Validation accuracy on group 3/5: 0.63\n",
            "\n",
            "Epoch 5/10 LR: [0.1]\n",
            "Validation accuracy on group 3/5: 0.58\n",
            "\n",
            "Epoch 6/10 LR: [0.1]\n",
            "Validation accuracy on group 3/5: 0.67\n",
            "Best model updated\n",
            "\n",
            "Epoch 7/10 LR: [0.1]\n",
            "Validation accuracy on group 3/5: 0.68\n",
            "Best model updated\n",
            "\n",
            "Epoch 8/10 LR: [0.1]\n",
            "Validation accuracy on group 3/5: 0.60\n",
            "\n",
            "Epoch 9/10 LR: [0.1]\n",
            "Validation accuracy on group 3/5: 0.69\n",
            "Best model updated\n",
            "\n",
            "Epoch 10/10 LR: [0.1]\n",
            "Validation accuracy on group 3/5: 0.57\n",
            "\n",
            "Group 3 Finished!\n",
            "Best accuracy found at epoch 9: 0.69\n",
            "Target number of exemplars: 66\n",
            "Randomly extracting exemplars from class 0 of current split... Extracted 66 exemplars.\n",
            "Randomly extracting exemplars from class 1 of current split... Extracted 66 exemplars.\n",
            "Randomly extracting exemplars from class 2 of current split... Extracted 66 exemplars.\n",
            "Randomly extracting exemplars from class 3 of current split... Extracted 66 exemplars.\n",
            "Randomly extracting exemplars from class 4 of current split... Extracted 66 exemplars.\n",
            "Randomly extracting exemplars from class 5 of current split... Extracted 66 exemplars.\n",
            "Randomly extracting exemplars from class 6 of current split... Extracted 66 exemplars.\n",
            "Randomly extracting exemplars from class 7 of current split... Extracted 66 exemplars.\n",
            "Randomly extracting exemplars from class 8 of current split... Extracted 66 exemplars.\n",
            "Randomly extracting exemplars from class 9 of current split... Extracted 66 exemplars.\n",
            "Testing classes seen so far, accuracy: 0.20\n",
            "2231 unkown found, 708 predictions of them where correct\n",
            "\n",
            "=============================================\n",
            "\n",
            "Length of exemplars set: 1980\n",
            "Epoch 1/10 LR: [0.1]\n",
            "Validation accuracy on group 4/5: 0.59\n",
            "Best model updated\n",
            "\n",
            "Epoch 2/10 LR: [0.1]\n",
            "Validation accuracy on group 4/5: 0.58\n",
            "\n",
            "Epoch 3/10 LR: [0.1]\n",
            "Validation accuracy on group 4/5: 0.50\n",
            "\n",
            "Epoch 4/10 LR: [0.1]\n",
            "Validation accuracy on group 4/5: 0.55\n",
            "\n",
            "Epoch 5/10 LR: [0.1]\n",
            "Validation accuracy on group 4/5: 0.63\n",
            "Best model updated\n",
            "\n",
            "Epoch 6/10 LR: [0.1]\n",
            "Validation accuracy on group 4/5: 0.65\n",
            "Best model updated\n",
            "\n",
            "Epoch 7/10 LR: [0.1]\n",
            "Validation accuracy on group 4/5: 0.69\n",
            "Best model updated\n",
            "\n",
            "Epoch 8/10 LR: [0.1]\n",
            "Validation accuracy on group 4/5: 0.60\n",
            "\n",
            "Epoch 9/10 LR: [0.1]\n",
            "Validation accuracy on group 4/5: 0.63\n",
            "\n",
            "Epoch 10/10 LR: [0.1]\n",
            "Validation accuracy on group 4/5: 0.66\n",
            "\n",
            "Group 4 Finished!\n",
            "Best accuracy found at epoch 7: 0.69\n",
            "Target number of exemplars: 50\n",
            "Randomly extracting exemplars from class 0 of current split... Extracted 50 exemplars.\n",
            "Randomly extracting exemplars from class 1 of current split... Extracted 50 exemplars.\n",
            "Randomly extracting exemplars from class 2 of current split... Extracted 50 exemplars.\n",
            "Randomly extracting exemplars from class 3 of current split... Extracted 50 exemplars.\n",
            "Randomly extracting exemplars from class 4 of current split... Extracted 50 exemplars.\n",
            "Randomly extracting exemplars from class 5 of current split... Extracted 50 exemplars.\n",
            "Randomly extracting exemplars from class 6 of current split... Extracted 50 exemplars.\n",
            "Randomly extracting exemplars from class 7 of current split... Extracted 50 exemplars.\n",
            "Randomly extracting exemplars from class 8 of current split... Extracted 50 exemplars.\n",
            "Randomly extracting exemplars from class 9 of current split... Extracted 50 exemplars.\n",
            "Testing classes seen so far, accuracy: 0.16\n",
            "3195 unkown found, 1011 predictions of them where correct\n",
            "\n",
            "=============================================\n",
            "\n",
            "Length of exemplars set: 2000\n",
            "Epoch 1/10 LR: [0.1]\n",
            "Validation accuracy on group 5/5: 0.58\n",
            "Best model updated\n",
            "\n",
            "Epoch 2/10 LR: [0.1]\n",
            "Validation accuracy on group 5/5: 0.63\n",
            "Best model updated\n",
            "\n",
            "Epoch 3/10 LR: [0.1]\n",
            "Validation accuracy on group 5/5: 0.66\n",
            "Best model updated\n",
            "\n",
            "Epoch 4/10 LR: [0.1]\n",
            "Validation accuracy on group 5/5: 0.60\n",
            "\n",
            "Epoch 5/10 LR: [0.1]\n",
            "Validation accuracy on group 5/5: 0.62\n",
            "\n",
            "Epoch 6/10 LR: [0.1]\n",
            "Validation accuracy on group 5/5: 0.60\n",
            "\n",
            "Epoch 7/10 LR: [0.1]\n",
            "Validation accuracy on group 5/5: 0.65\n",
            "\n",
            "Epoch 8/10 LR: [0.1]\n",
            "Validation accuracy on group 5/5: 0.64\n",
            "\n",
            "Epoch 9/10 LR: [0.1]\n",
            "Validation accuracy on group 5/5: 0.63\n",
            "\n",
            "Epoch 10/10 LR: [0.1]\n",
            "Validation accuracy on group 5/5: 0.65\n",
            "\n",
            "Group 5 Finished!\n",
            "Best accuracy found at epoch 3: 0.66\n",
            "Target number of exemplars: 40\n",
            "Randomly extracting exemplars from class 0 of current split... Extracted 40 exemplars.\n",
            "Randomly extracting exemplars from class 1 of current split... Extracted 40 exemplars.\n",
            "Randomly extracting exemplars from class 2 of current split... Extracted 40 exemplars.\n",
            "Randomly extracting exemplars from class 3 of current split... Extracted 40 exemplars.\n",
            "Randomly extracting exemplars from class 4 of current split... Extracted 40 exemplars.\n",
            "Randomly extracting exemplars from class 5 of current split... Extracted 40 exemplars.\n",
            "Randomly extracting exemplars from class 6 of current split... Extracted 40 exemplars.\n",
            "Randomly extracting exemplars from class 7 of current split... Extracted 40 exemplars.\n",
            "Randomly extracting exemplars from class 8 of current split... Extracted 40 exemplars.\n",
            "Randomly extracting exemplars from class 9 of current split... Extracted 40 exemplars.\n",
            "Testing classes seen so far, accuracy: 0.10\n",
            "4389 unkown found, 1375 predictions of them where correct\n",
            "\n",
            "=============================================\n",
            "\n",
            "#################################\n",
            "\n",
            "\n"
          ],
          "name": "stdout"
        }
      ]
    },
    {
      "cell_type": "code",
      "metadata": {
        "id": "RaAGDvgBW5i2",
        "outputId": "516f74ca-f3c4-4d31-d2e5-b0a25c74c5a4",
        "colab": {
          "base_uri": "https://localhost:8080/",
          "height": 17
        }
      },
      "source": [
        "import json\n",
        "from google.colab import files\n",
        "\n",
        "predictions = [logs[run_i]['predictions'].cpu().data.numpy().tolist() for run_i in range(len(RANDOM_SEED))]\n",
        "true_labels = [logs[run_i]['true_labels'].cpu().data.numpy().tolist() for run_i in range(len(RANDOM_SEED))]\n",
        "\n",
        "with open('095_predictions.json', 'w') as f:\n",
        "  json.dump(predictions, f)\n",
        "f.close\n",
        "with open('095_true_labels.json', 'w') as f:\n",
        "  json.dump(true_labels, f)\n",
        "f.close\n",
        "\n",
        "test_accuracy = [[logs[run_i]['test_accuracies'][i] for i in range(5)] for run_i in range(len(RANDOM_SEED))]\n",
        "with open('095_test_accuracy.json', 'w') as f:\n",
        "  json.dump(test_accuracy, f)\n",
        "f.close\n",
        "\n",
        "files.download('095_test_accuracy.json')\n",
        "files.download('095_true_labels.json')\n",
        "files.download('095_predictions.json')"
      ],
      "execution_count": 19,
      "outputs": [
        {
          "output_type": "display_data",
          "data": {
            "application/javascript": [
              "\n",
              "    async function download(id, filename, size) {\n",
              "      if (!google.colab.kernel.accessAllowed) {\n",
              "        return;\n",
              "      }\n",
              "      const div = document.createElement('div');\n",
              "      const label = document.createElement('label');\n",
              "      label.textContent = `Downloading \"${filename}\": `;\n",
              "      div.appendChild(label);\n",
              "      const progress = document.createElement('progress');\n",
              "      progress.max = size;\n",
              "      div.appendChild(progress);\n",
              "      document.body.appendChild(div);\n",
              "\n",
              "      const buffers = [];\n",
              "      let downloaded = 0;\n",
              "\n",
              "      const channel = await google.colab.kernel.comms.open(id);\n",
              "      // Send a message to notify the kernel that we're ready.\n",
              "      channel.send({})\n",
              "\n",
              "      for await (const message of channel.messages) {\n",
              "        // Send a message to notify the kernel that we're ready.\n",
              "        channel.send({})\n",
              "        if (message.buffers) {\n",
              "          for (const buffer of message.buffers) {\n",
              "            buffers.push(buffer);\n",
              "            downloaded += buffer.byteLength;\n",
              "            progress.value = downloaded;\n",
              "          }\n",
              "        }\n",
              "      }\n",
              "      const blob = new Blob(buffers, {type: 'application/binary'});\n",
              "      const a = document.createElement('a');\n",
              "      a.href = window.URL.createObjectURL(blob);\n",
              "      a.download = filename;\n",
              "      div.appendChild(a);\n",
              "      a.click();\n",
              "      div.remove();\n",
              "    }\n",
              "  "
            ],
            "text/plain": [
              "<IPython.core.display.Javascript object>"
            ]
          },
          "metadata": {
            "tags": []
          }
        },
        {
          "output_type": "display_data",
          "data": {
            "application/javascript": [
              "download(\"download_cb094bed-fb6d-4346-81f8-981bfb44cf9b\", \"095_test_accuracy.json\", 282)"
            ],
            "text/plain": [
              "<IPython.core.display.Javascript object>"
            ]
          },
          "metadata": {
            "tags": []
          }
        },
        {
          "output_type": "display_data",
          "data": {
            "application/javascript": [
              "\n",
              "    async function download(id, filename, size) {\n",
              "      if (!google.colab.kernel.accessAllowed) {\n",
              "        return;\n",
              "      }\n",
              "      const div = document.createElement('div');\n",
              "      const label = document.createElement('label');\n",
              "      label.textContent = `Downloading \"${filename}\": `;\n",
              "      div.appendChild(label);\n",
              "      const progress = document.createElement('progress');\n",
              "      progress.max = size;\n",
              "      div.appendChild(progress);\n",
              "      document.body.appendChild(div);\n",
              "\n",
              "      const buffers = [];\n",
              "      let downloaded = 0;\n",
              "\n",
              "      const channel = await google.colab.kernel.comms.open(id);\n",
              "      // Send a message to notify the kernel that we're ready.\n",
              "      channel.send({})\n",
              "\n",
              "      for await (const message of channel.messages) {\n",
              "        // Send a message to notify the kernel that we're ready.\n",
              "        channel.send({})\n",
              "        if (message.buffers) {\n",
              "          for (const buffer of message.buffers) {\n",
              "            buffers.push(buffer);\n",
              "            downloaded += buffer.byteLength;\n",
              "            progress.value = downloaded;\n",
              "          }\n",
              "        }\n",
              "      }\n",
              "      const blob = new Blob(buffers, {type: 'application/binary'});\n",
              "      const a = document.createElement('a');\n",
              "      a.href = window.URL.createObjectURL(blob);\n",
              "      a.download = filename;\n",
              "      div.appendChild(a);\n",
              "      a.click();\n",
              "      div.remove();\n",
              "    }\n",
              "  "
            ],
            "text/plain": [
              "<IPython.core.display.Javascript object>"
            ]
          },
          "metadata": {
            "tags": []
          }
        },
        {
          "output_type": "display_data",
          "data": {
            "application/javascript": [
              "download(\"download_ba5fa74d-031a-417b-878c-c13fa4ee4b7c\", \"095_true_labels.json\", 56914)"
            ],
            "text/plain": [
              "<IPython.core.display.Javascript object>"
            ]
          },
          "metadata": {
            "tags": []
          }
        },
        {
          "output_type": "display_data",
          "data": {
            "application/javascript": [
              "\n",
              "    async function download(id, filename, size) {\n",
              "      if (!google.colab.kernel.accessAllowed) {\n",
              "        return;\n",
              "      }\n",
              "      const div = document.createElement('div');\n",
              "      const label = document.createElement('label');\n",
              "      label.textContent = `Downloading \"${filename}\": `;\n",
              "      div.appendChild(label);\n",
              "      const progress = document.createElement('progress');\n",
              "      progress.max = size;\n",
              "      div.appendChild(progress);\n",
              "      document.body.appendChild(div);\n",
              "\n",
              "      const buffers = [];\n",
              "      let downloaded = 0;\n",
              "\n",
              "      const channel = await google.colab.kernel.comms.open(id);\n",
              "      // Send a message to notify the kernel that we're ready.\n",
              "      channel.send({})\n",
              "\n",
              "      for await (const message of channel.messages) {\n",
              "        // Send a message to notify the kernel that we're ready.\n",
              "        channel.send({})\n",
              "        if (message.buffers) {\n",
              "          for (const buffer of message.buffers) {\n",
              "            buffers.push(buffer);\n",
              "            downloaded += buffer.byteLength;\n",
              "            progress.value = downloaded;\n",
              "          }\n",
              "        }\n",
              "      }\n",
              "      const blob = new Blob(buffers, {type: 'application/binary'});\n",
              "      const a = document.createElement('a');\n",
              "      a.href = window.URL.createObjectURL(blob);\n",
              "      a.download = filename;\n",
              "      div.appendChild(a);\n",
              "      a.click();\n",
              "      div.remove();\n",
              "    }\n",
              "  "
            ],
            "text/plain": [
              "<IPython.core.display.Javascript object>"
            ]
          },
          "metadata": {
            "tags": []
          }
        },
        {
          "output_type": "display_data",
          "data": {
            "application/javascript": [
              "download(\"download_3cfc9bcf-9cc2-4478-a7a3-7bb92ee552c5\", \"095_predictions.json\", 71652)"
            ],
            "text/plain": [
              "<IPython.core.display.Javascript object>"
            ]
          },
          "metadata": {
            "tags": []
          }
        }
      ]
    },
    {
      "cell_type": "code",
      "metadata": {
        "id": "Pix1bfi9aC1O"
      },
      "source": [
        "test_accuracy = np.array(test_accuracy)\n",
        "test_accuracy_stats = np.array([test_accuracy.mean(0), test_accuracy.std(0)]).transpose()"
      ],
      "execution_count": 16,
      "outputs": []
    },
    {
      "cell_type": "code",
      "metadata": {
        "id": "HAb6egv4XImI"
      },
      "source": [
        "from data.utils_plot import plot_train_val, plot_test_accuracies, plot_confusion_matrix"
      ],
      "execution_count": 14,
      "outputs": []
    },
    {
      "cell_type": "code",
      "metadata": {
        "id": "o2yTOPFCXJRa",
        "outputId": "20185444-63b0-4643-b807-a7c4bc9b7300",
        "colab": {
          "base_uri": "https://localhost:8080/",
          "height": 507
        }
      },
      "source": [
        "def plot_test(stats, save_directory = None):\n",
        "  mean = np.array(stats)[:, 0]\n",
        "  std = np.array(stats)[:, 1]\n",
        "  fig, ax = plt.subplots(figsize = (10, 5), dpi = 100)\n",
        "  x = np.arange(10, 51, 10)\n",
        "  ax.errorbar(x, mean, std)\n",
        "  ax.set_title(\"Test accuracy\")\n",
        "  ax.set_xlabel(\"Number of classes\")\n",
        "  ax.set_ylabel(\"Accuracy\")\n",
        "  plt.tight_layout()\n",
        "  if save_directory != None:\n",
        "    fig.savefig(save_directory)\n",
        "  plt.show()\n",
        "  \n",
        "plot_test(test_accuracy_stats)"
      ],
      "execution_count": 17,
      "outputs": [
        {
          "output_type": "display_data",
          "data": {
            "image/png": "[encoded data removed]",
            "text/plain": [
              "<Figure size 1000x500 with 1 Axes>"
            ]
          },
          "metadata": {
            "tags": [],
            "needs_background": "light"
          }
        }
      ]
    },
    {
      "cell_type": "code",
      "metadata": {
        "id": "5gb3_OcpXhvL",
        "outputId": "12ce37d8-0bea-49ae-f8a0-064bb12382ff",
        "colab": {
          "base_uri": "https://localhost:8080/",
          "height": 1000
        }
      },
      "source": [
        "for run in range(len(RANDOM_SEED)):\n",
        "  targets = np.array(true_labels[run])\n",
        "  preds = np.array(predictions[run])\n",
        "\n",
        "  plot_confusion_matrix(targets, preds, RANDOM_SEED[run], 't=0.95')"
      ],
      "execution_count": 18,
      "outputs": [
        {
          "output_type": "display_data",
          "data": {
            "image/png": "[encoded data removed]",
            "text/plain": [
              "<Figure size 500x500 with 2 Axes>"
            ]
          },
          "metadata": {
            "tags": [],
            "needs_background": "light"
          }
        },
        {
          "output_type": "display_data",
          "data": {
            "image/png": "[encoded data removed]",
            "text/plain": [
              "<Figure size 500x500 with 2 Axes>"
            ]
          },
          "metadata": {
            "tags": [],
            "needs_background": "light"
          }
        },
        {
          "output_type": "display_data",
          "data": {
            "image/png": "[encoded data removed]",
            "text/plain": [
              "<Figure size 500x500 with 2 Axes>"
            ]
          },
          "metadata": {
            "tags": [],
            "needs_background": "light"
          }
        }
      ]
    },
    {
      "cell_type": "markdown",
      "metadata": {
        "id": "UIUvaKyhx0rC"
      },
      "source": [
        "### Store logs in more usable dtype"
      ]
    },
    {
      "cell_type": "code",
      "metadata": {
        "id": "1-uV6X0yxzQc"
      },
      "source": [
        "train_loss = [[logs[run_i]['group_train_loss'][i] for i in range(5)] for run_i in range(len(RANDOM_SEED))]\n",
        "train_accuracy = [[logs[run_i]['group_train_accuracies'][i] for i in range(5)] for run_i in range(len(RANDOM_SEED))]\n",
        "val_loss = [[logs[run_i]['val_losses'][i] for i in range(5)] for run_i in range(len(RANDOM_SEED))]\n",
        "val_accuracy = [[logs[run_i]['val_accuracies'][i] for i in range(5)] for run_i in range(len(RANDOM_SEED))]\n",
        "test_accuracy = [[logs[run_i]['test_accuracies'][i] for i in range(5)] for run_i in range(len(RANDOM_SEED))]\n",
        "\n",
        "\n",
        "open_values = [[logs[run_i]['open_values'][i] for i in range(5)] for run_i in range(len(RANDOM_SEED))]\n",
        "closed_values = [[logs[run_i]['closed_values'][i] for i in range(5)] for run_i in range(len(RANDOM_SEED))]"
      ],
      "execution_count": null,
      "outputs": []
    },
    {
      "cell_type": "markdown",
      "metadata": {
        "id": "6r_ybcCLmc2R"
      },
      "source": [
        "### Save the model"
      ]
    },
    {
      "cell_type": "markdown",
      "metadata": {
        "id": "nIG3hIOkyFNs"
      },
      "source": [
        "#### Saving logs in JSON files"
      ]
    },
    {
      "cell_type": "code",
      "metadata": {
        "id": "mF_GR4KAyNYs",
        "colab": {
          "base_uri": "https://localhost:8080/"
        },
        "outputId": "4a554c33-f665-4073-a968-22c449ed1fae"
      },
      "source": [
        "import json\n",
        "\n",
        "with open('states/095_train_loss.json', 'w') as f:\n",
        "  json.dump(train_loss, f)\n",
        "f.close\n",
        "with open('states/095_train_accuracy.json', 'w') as f:\n",
        "  json.dump(train_accuracy, f)\n",
        "f.close\n",
        "with open('states/095_val_loss.json', 'w') as f:\n",
        "  json.dump(val_loss, f)\n",
        "f.close  \n",
        "with open('states/095_val_accuracy.json', 'w') as f:\n",
        "  json.dump(val_accuracy, f)\n",
        "f.close\n",
        "with open('states/095_test_accuracy.json', 'w') as f:\n",
        "  json.dump(test_accuracy, f)\n",
        "f.close\n",
        "with open('states/095_predictions.json', 'w') as f:\n",
        "  json.dump(predictions, f)\n",
        "f.close\n",
        "with open('states/095_true_labels.json', 'w') as f:\n",
        "  json.dump(true_labels, f)\n",
        "f.close"
      ],
      "execution_count": null,
      "outputs": [
        {
          "output_type": "execute_result",
          "data": {
            "text/plain": [
              "<function TextIOWrapper.close>"
            ]
          },
          "metadata": {
            "tags": []
          },
          "execution_count": 10
        }
      ]
    },
    {
      "cell_type": "markdown",
      "metadata": {
        "id": "JoVU9_V4zXOL"
      },
      "source": [
        "#### Saving best resnet on 100 classes for each seed"
      ]
    },
    {
      "cell_type": "code",
      "metadata": {
        "id": "tE-zisGejrST"
      },
      "source": [
        "for i in range(len(RANDOM_SEED)):\n",
        "  torch.save(best_net_tot_classes[i].state_dict(), \"states/095_bestnet_seed[{}]\".format(RANDOM_SEED[i]))"
      ],
      "execution_count": null,
      "outputs": []
    },
    {
      "cell_type": "markdown",
      "metadata": {
        "id": "2NMLqiIS19IJ"
      },
      "source": [
        "### Print some graphs"
      ]
    },
    {
      "cell_type": "code",
      "metadata": {
        "id": "G6Mg2QiIBNRo"
      },
      "source": [
        "from data.utils_plot import plot_train_val, plot_test_accuracies, plot_confusion_matrix"
      ],
      "execution_count": null,
      "outputs": []
    },
    {
      "cell_type": "code",
      "metadata": {
        "id": "M2QzOlExmhKo"
      },
      "source": [
        "train_loss = np.array(train_loss)\n",
        "train_accuracy = np.array(train_accuracy)\n",
        "val_loss = np.array(val_loss)\n",
        "val_accuracy = np.array(val_accuracy)\n",
        "test_accuracy = np.array(test_accuracy)\n",
        "\n",
        "\n",
        "\n",
        "train_loss_stats = np.array([train_loss.mean(0), train_loss.std(0)]).transpose()\n",
        "train_accuracy_stats = np.array([train_accuracy.mean(0), train_accuracy.std(0)]).transpose()\n",
        "val_loss_stats = np.array([val_loss.mean(0), val_loss.std(0)]).transpose()\n",
        "val_accuracy_stats = np.array([val_accuracy.mean(0), val_accuracy.std(0)]).transpose()\n",
        "test_accuracy_stats = np.array([test_accuracy.mean(0), test_accuracy.std(0)]).transpose()\n",
        "\n",
        "\n",
        "open_values = np.array(open_values)\n",
        "closed_values = np.array(closed_values)"
      ],
      "execution_count": null,
      "outputs": []
    },
    {
      "cell_type": "code",
      "metadata": {
        "colab": {
          "base_uri": "https://localhost:8080/",
          "height": 605
        },
        "id": "jhDfQb32kuJg",
        "outputId": "fcd1ba06-267c-4643-b070-ac5f094b6573"
      },
      "source": [
        "threshold = 0.95\n",
        "print(f\"Threshold: {threshold}\")\n",
        "fig, axs = plt.subplots(1,2)\n",
        "fig.set_size_inches(15, 5)\n",
        "\n",
        "\n",
        "\n",
        "a,b,c = axs[0].hist(closed_values[0][4].cpu().numpy(), color = 'red', edgecolor = 'black', bins = [0,threshold,1])\n",
        "below = c[0].get_height()\n",
        "above = c[1].get_height()\n",
        "print(f\"closed_below:{below}, close_above:{above}\")\n",
        "print(f\"closed world rejection rate: {below/(below+above):.2f} (should be 0)\")\n",
        "\n",
        "\n",
        "a,b,c = axs[1].hist(open_values[0][4].cpu().numpy(), color = 'blue', edgecolor = 'black', bins = [0,threshold,1])\n",
        "below = c[0].get_height()\n",
        "above = c[1].get_height()\n",
        "print(f\"open_below:{below}, open_above:{above}\")\n",
        "print(f\"open world rejection rate: {below/(below+above):.2f} (should be 1)\")"
      ],
      "execution_count": null,
      "outputs": [
        {
          "output_type": "stream",
          "text": [
            "Threshold: 0.95\n",
            "closed_below:0.0, close_above:1.0\n",
            "closed world rejection rate: 0.00 (should be 0)\n"
          ],
          "name": "stdout"
        },
        {
          "output_type": "error",
          "ename": "AttributeError",
          "evalue": "ignored",
          "traceback": [
            "\u001b[0;31m---------------------------------------------------------------------------\u001b[0m",
            "\u001b[0;31mAttributeError\u001b[0m                            Traceback (most recent call last)",
            "\u001b[0;32m<ipython-input-14-ae7a48bdea2b>\u001b[0m in \u001b[0;36m<module>\u001b[0;34m()\u001b[0m\n\u001b[1;32m     13\u001b[0m \u001b[0;34m\u001b[0m\u001b[0m\n\u001b[1;32m     14\u001b[0m \u001b[0;34m\u001b[0m\u001b[0m\n\u001b[0;32m---> 15\u001b[0;31m \u001b[0ma\u001b[0m\u001b[0;34m,\u001b[0m\u001b[0mb\u001b[0m\u001b[0;34m,\u001b[0m\u001b[0mc\u001b[0m \u001b[0;34m=\u001b[0m \u001b[0maxs\u001b[0m\u001b[0;34m[\u001b[0m\u001b[0;36m1\u001b[0m\u001b[0;34m]\u001b[0m\u001b[0;34m.\u001b[0m\u001b[0mhist\u001b[0m\u001b[0;34m(\u001b[0m\u001b[0mopen_values\u001b[0m\u001b[0;34m[\u001b[0m\u001b[0;36m0\u001b[0m\u001b[0;34m]\u001b[0m\u001b[0;34m[\u001b[0m\u001b[0;36m4\u001b[0m\u001b[0;34m]\u001b[0m\u001b[0;34m.\u001b[0m\u001b[0mcpu\u001b[0m\u001b[0;34m(\u001b[0m\u001b[0;34m)\u001b[0m\u001b[0;34m.\u001b[0m\u001b[0mnumpy\u001b[0m\u001b[0;34m(\u001b[0m\u001b[0;34m)\u001b[0m\u001b[0;34m,\u001b[0m \u001b[0mcolor\u001b[0m \u001b[0;34m=\u001b[0m \u001b[0;34m'blue'\u001b[0m\u001b[0;34m,\u001b[0m \u001b[0medgecolor\u001b[0m \u001b[0;34m=\u001b[0m \u001b[0;34m'black'\u001b[0m\u001b[0;34m,\u001b[0m \u001b[0mbins\u001b[0m \u001b[0;34m=\u001b[0m \u001b[0;34m[\u001b[0m\u001b[0;36m0\u001b[0m\u001b[0;34m,\u001b[0m\u001b[0mthreshold\u001b[0m\u001b[0;34m,\u001b[0m\u001b[0;36m1\u001b[0m\u001b[0;34m]\u001b[0m\u001b[0;34m)\u001b[0m\u001b[0;34m\u001b[0m\u001b[0;34m\u001b[0m\u001b[0m\n\u001b[0m\u001b[1;32m     16\u001b[0m \u001b[0mbelow\u001b[0m \u001b[0;34m=\u001b[0m \u001b[0mc\u001b[0m\u001b[0;34m[\u001b[0m\u001b[0;36m0\u001b[0m\u001b[0;34m]\u001b[0m\u001b[0;34m.\u001b[0m\u001b[0mget_height\u001b[0m\u001b[0;34m(\u001b[0m\u001b[0;34m)\u001b[0m\u001b[0;34m\u001b[0m\u001b[0;34m\u001b[0m\u001b[0m\n\u001b[1;32m     17\u001b[0m \u001b[0mabove\u001b[0m \u001b[0;34m=\u001b[0m \u001b[0mc\u001b[0m\u001b[0;34m[\u001b[0m\u001b[0;36m1\u001b[0m\u001b[0;34m]\u001b[0m\u001b[0;34m.\u001b[0m\u001b[0mget_height\u001b[0m\u001b[0;34m(\u001b[0m\u001b[0;34m)\u001b[0m\u001b[0;34m\u001b[0m\u001b[0;34m\u001b[0m\u001b[0m\n",
            "\u001b[0;31mAttributeError\u001b[0m: type object 'float' has no attribute 'cpu'"
          ]
        },
        {
          "output_type": "display_data",
          "data": {
            "image/png": "[encoded data removed]",
            "text/plain": [
              "<Figure size 1080x360 with 2 Axes>"
            ]
          },
          "metadata": {
            "tags": [],
            "needs_background": "light"
          }
        }
      ]
    },
    {
      "cell_type": "markdown",
      "metadata": {
        "id": "6rB0p1PlFxrc"
      },
      "source": [
        "#### Train validation loss"
      ]
    },
    {
      "cell_type": "code",
      "metadata": {
        "id": "lAW6ze3-S_Kk",
        "colab": {
          "base_uri": "https://localhost:8080/",
          "height": 507
        },
        "outputId": "3f043556-23b6-48f3-a594-59f9ab996ad8"
      },
      "source": [
        "def plot_losses(train_stats, val_stats, loss = bool, save_directory = None):\n",
        "  train_mean = np.array(train_stats)[:, 0]\n",
        "  train_std = np.array(train_stats)[:, 1]\n",
        "  val_mean = np.array(val_stats)[:, 0]\n",
        "  val_std = np.array(val_stats)[:, 1]\n",
        "  fig, ax = plt.subplots(figsize = (10, 5), dpi = 100)\n",
        "  x = np.arange(10,51,10)\n",
        "  ax.errorbar(x, train_mean, train_std, label = 'Training')\n",
        "  ax.errorbar(x, val_mean, val_std, label = 'Validation')\n",
        "  if loss:\n",
        "    ax.set_title(\"Training and validation loss\")\n",
        "    ax.set_ylabel(\"Loss\")\n",
        "  else:\n",
        "    ax.set_title(\"Training and validation accuracy\")\n",
        "    ax.set_ylabel(\"Accuracy\")\n",
        "  ax.set_xlabel(\"Number of classes\")\n",
        "  plt.tight_layout()\n",
        "  ax.legend()\n",
        "  if save_directory != None:\n",
        "    fig.savefig(save_directory)\n",
        "  plt.show()\n",
        "\n",
        "plot_losses(train_loss_stats, val_loss_stats, loss = True)"
      ],
      "execution_count": null,
      "outputs": [
        {
          "output_type": "display_data",
          "data": {
            "image/png": "[encoded data removed]",
            "text/plain": [
              "<Figure size 1000x500 with 1 Axes>"
            ]
          },
          "metadata": {
            "tags": [],
            "needs_background": "light"
          }
        }
      ]
    },
    {
      "cell_type": "markdown",
      "metadata": {
        "id": "Hb_RNTNKF18b"
      },
      "source": [
        "#### Train validation accuracy"
      ]
    },
    {
      "cell_type": "code",
      "metadata": {
        "id": "05IT5LFUBBBV",
        "colab": {
          "base_uri": "https://localhost:8080/",
          "height": 507
        },
        "outputId": "0e294e30-59a1-4cbb-d91c-4ee5f1f63aa3"
      },
      "source": [
        "def plot_acc(train_stats, val_stats, loss = bool, save_directory = None):\n",
        "  train_mean = np.array(train_stats)[:, 0]\n",
        "  train_std = np.array(train_stats)[:, 1]\n",
        "  val_mean = np.array(val_stats)[:, 0]\n",
        "  val_std = np.array(val_stats)[:, 1]\n",
        "  fig, ax = plt.subplots(figsize = (10, 5), dpi = 100)\n",
        "  x = np.arange(10, 51, 10)\n",
        "  ax.errorbar(x, train_mean, train_std, label = 'Training')\n",
        "  ax.errorbar(x, val_mean, val_std, label = 'Validation')\n",
        "  if loss:\n",
        "    ax.set_title(\"Training and validation loss\")\n",
        "    ax.set_ylabel(\"Loss\")\n",
        "  else:\n",
        "    ax.set_title(\"Training and validation accuracy\")\n",
        "    ax.set_ylabel(\"Accuracy\")\n",
        "  ax.set_xlabel(\"Number of classes\")\n",
        "  plt.tight_layout()\n",
        "  ax.legend()\n",
        "  if save_directory != None:\n",
        "    fig.savefig(save_directory)\n",
        "  plt.show()\n",
        "\n",
        "plot_acc(train_accuracy_stats, val_accuracy_stats, loss = False)"
      ],
      "execution_count": null,
      "outputs": [
        {
          "output_type": "display_data",
          "data": {
            "image/png": "[encoded data removed]",
            "text/plain": [
              "<Figure size 1000x500 with 1 Axes>"
            ]
          },
          "metadata": {
            "tags": [],
            "needs_background": "light"
          }
        }
      ]
    },
    {
      "cell_type": "markdown",
      "metadata": {
        "id": "llzylw_LF7e_"
      },
      "source": [
        "#### Test accuracy"
      ]
    },
    {
      "cell_type": "code",
      "metadata": {
        "id": "Bou4H0k9mteX",
        "colab": {
          "base_uri": "https://localhost:8080/",
          "height": 507
        },
        "outputId": "2a55b713-5b46-430b-d83b-57577e9723e6"
      },
      "source": [
        "def plot_test(stats, save_directory = None):\n",
        "  mean = np.array(stats)[:, 0]\n",
        "  std = np.array(stats)[:, 1]\n",
        "  fig, ax = plt.subplots(figsize = (10, 5), dpi = 100)\n",
        "  x = np.arange(10, 51, 10)\n",
        "  ax.errorbar(x, mean, std)\n",
        "  ax.set_title(\"Test accuracy\")\n",
        "  ax.set_xlabel(\"Number of classes\")\n",
        "  ax.set_ylabel(\"Accuracy\")\n",
        "  plt.tight_layout()\n",
        "  if save_directory != None:\n",
        "    fig.savefig(save_directory)\n",
        "  plt.show()\n",
        "  \n",
        "plot_test(test_accuracy_stats)"
      ],
      "execution_count": null,
      "outputs": [
        {
          "output_type": "display_data",
          "data": {
            "image/png": "[encoded data removed]",
            "text/plain": [
              "<Figure size 1000x500 with 1 Axes>"
            ]
          },
          "metadata": {
            "tags": [],
            "needs_background": "light"
          }
        }
      ]
    },
    {
      "cell_type": "markdown",
      "metadata": {
        "id": "gN6cighYm1nG"
      },
      "source": [
        "#### Confusion Matrix"
      ]
    },
    {
      "cell_type": "code",
      "metadata": {
        "id": "LPG6aNRjm5Se",
        "colab": {
          "base_uri": "https://localhost:8080/",
          "height": 1000
        },
        "outputId": "83bdce08-b31c-47cb-b299-cbc3c2346061"
      },
      "source": [
        "for run in range(len(RANDOM_SEED)):\n",
        "  targets = np.array(true_labels[run])\n",
        "  preds = np.array(predictions[run])\n",
        "\n",
        "  plot_confusion_matrix(targets, preds, RANDOM_SEED[run], 't=0.95')"
      ],
      "execution_count": null,
      "outputs": [
        {
          "output_type": "display_data",
          "data": {
            "image/png": "[encoded data removed]",
            "text/plain": [
              "<Figure size 500x500 with 2 Axes>"
            ]
          },
          "metadata": {
            "tags": [],
            "needs_background": "light"
          }
        },
        {
          "output_type": "display_data",
          "data": {
            "image/png": "[encoded data removed]",
            "text/plain": [
              "<Figure size 500x500 with 2 Axes>"
            ]
          },
          "metadata": {
            "tags": [],
            "needs_background": "light"
          }
        },
        {
          "output_type": "display_data",
          "data": {
            "image/png": "[encoded data removed]",
            "text/plain": [
              "<Figure size 500x500 with 2 Axes>"
            ]
          },
          "metadata": {
            "tags": [],
            "needs_background": "light"
          }
        }
      ]
    }
  ]
}
