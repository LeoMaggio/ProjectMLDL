{
  "nbformat": 4,
  "nbformat_minor": 0,
  "metadata": {
    "colab": {
      "name": "OWR-Ensembles.ipynb",
      "provenance": [],
      "include_colab_link": true
    },
    "kernelspec": {
      "name": "python3",
      "display_name": "Python 3"
    },
    "language_info": {
      "name": "python"
    },
    "accelerator": "GPU",
    "widgets": {
      "application/vnd.jupyter.widget-state+json": {
        "ebc9f2a475d2459488df8c9a7a86cb1c": {
          "model_module": "@jupyter-widgets/controls",
          "model_name": "HBoxModel",
          "state": {
            "_view_name": "HBoxView",
            "_dom_classes": [],
            "_model_name": "HBoxModel",
            "_view_module": "@jupyter-widgets/controls",
            "_model_module_version": "1.5.0",
            "_view_count": null,
            "_view_module_version": "1.5.0",
            "box_style": "",
            "layout": "IPY_MODEL_3b2b1bca26ad44a88850bfd607a29cff",
            "_model_module": "@jupyter-widgets/controls",
            "children": [
              "IPY_MODEL_2d6ff13f82df4d76aa1eda0f737635ae",
              "IPY_MODEL_4a606f1fd33e4e08b273ab19ade8ac8f"
            ]
          }
        },
        "3b2b1bca26ad44a88850bfd607a29cff": {
          "model_module": "@jupyter-widgets/base",
          "model_name": "LayoutModel",
          "state": {
            "_view_name": "LayoutView",
            "grid_template_rows": null,
            "right": null,
            "justify_content": null,
            "_view_module": "@jupyter-widgets/base",
            "overflow": null,
            "_model_module_version": "1.2.0",
            "_view_count": null,
            "flex_flow": null,
            "width": null,
            "min_width": null,
            "border": null,
            "align_items": null,
            "bottom": null,
            "_model_module": "@jupyter-widgets/base",
            "top": null,
            "grid_column": null,
            "overflow_y": null,
            "overflow_x": null,
            "grid_auto_flow": null,
            "grid_area": null,
            "grid_template_columns": null,
            "flex": null,
            "_model_name": "LayoutModel",
            "justify_items": null,
            "grid_row": null,
            "max_height": null,
            "align_content": null,
            "visibility": null,
            "align_self": null,
            "height": null,
            "min_height": null,
            "padding": null,
            "grid_auto_rows": null,
            "grid_gap": null,
            "max_width": null,
            "order": null,
            "_view_module_version": "1.2.0",
            "grid_template_areas": null,
            "object_position": null,
            "object_fit": null,
            "grid_auto_columns": null,
            "margin": null,
            "display": null,
            "left": null
          }
        },
        "2d6ff13f82df4d76aa1eda0f737635ae": {
          "model_module": "@jupyter-widgets/controls",
          "model_name": "FloatProgressModel",
          "state": {
            "_view_name": "ProgressView",
            "style": "IPY_MODEL_b68253d37b7f4b8a81fcbfe0137bd089",
            "_dom_classes": [],
            "description": "",
            "_model_name": "FloatProgressModel",
            "bar_style": "success",
            "max": 169001437,
            "_view_module": "@jupyter-widgets/controls",
            "_model_module_version": "1.5.0",
            "value": 169001437,
            "_view_count": null,
            "_view_module_version": "1.5.0",
            "orientation": "horizontal",
            "min": 0,
            "description_tooltip": null,
            "_model_module": "@jupyter-widgets/controls",
            "layout": "IPY_MODEL_66f7ebe6ef834e7f9726e97c8ccb6914"
          }
        },
        "4a606f1fd33e4e08b273ab19ade8ac8f": {
          "model_module": "@jupyter-widgets/controls",
          "model_name": "HTMLModel",
          "state": {
            "_view_name": "HTMLView",
            "style": "IPY_MODEL_b7286fe6313f41309d0282a4f3307dcd",
            "_dom_classes": [],
            "description": "",
            "_model_name": "HTMLModel",
            "placeholder": "​",
            "_view_module": "@jupyter-widgets/controls",
            "_model_module_version": "1.5.0",
            "value": " 169001984/? [00:32&lt;00:00, 5171680.69it/s]",
            "_view_count": null,
            "_view_module_version": "1.5.0",
            "description_tooltip": null,
            "_model_module": "@jupyter-widgets/controls",
            "layout": "IPY_MODEL_88cf1387ed6743c3a47ab4c7b1d48afc"
          }
        },
        "b68253d37b7f4b8a81fcbfe0137bd089": {
          "model_module": "@jupyter-widgets/controls",
          "model_name": "ProgressStyleModel",
          "state": {
            "_view_name": "StyleView",
            "_model_name": "ProgressStyleModel",
            "description_width": "initial",
            "_view_module": "@jupyter-widgets/base",
            "_model_module_version": "1.5.0",
            "_view_count": null,
            "_view_module_version": "1.2.0",
            "bar_color": null,
            "_model_module": "@jupyter-widgets/controls"
          }
        },
        "66f7ebe6ef834e7f9726e97c8ccb6914": {
          "model_module": "@jupyter-widgets/base",
          "model_name": "LayoutModel",
          "state": {
            "_view_name": "LayoutView",
            "grid_template_rows": null,
            "right": null,
            "justify_content": null,
            "_view_module": "@jupyter-widgets/base",
            "overflow": null,
            "_model_module_version": "1.2.0",
            "_view_count": null,
            "flex_flow": null,
            "width": null,
            "min_width": null,
            "border": null,
            "align_items": null,
            "bottom": null,
            "_model_module": "@jupyter-widgets/base",
            "top": null,
            "grid_column": null,
            "overflow_y": null,
            "overflow_x": null,
            "grid_auto_flow": null,
            "grid_area": null,
            "grid_template_columns": null,
            "flex": null,
            "_model_name": "LayoutModel",
            "justify_items": null,
            "grid_row": null,
            "max_height": null,
            "align_content": null,
            "visibility": null,
            "align_self": null,
            "height": null,
            "min_height": null,
            "padding": null,
            "grid_auto_rows": null,
            "grid_gap": null,
            "max_width": null,
            "order": null,
            "_view_module_version": "1.2.0",
            "grid_template_areas": null,
            "object_position": null,
            "object_fit": null,
            "grid_auto_columns": null,
            "margin": null,
            "display": null,
            "left": null
          }
        },
        "b7286fe6313f41309d0282a4f3307dcd": {
          "model_module": "@jupyter-widgets/controls",
          "model_name": "DescriptionStyleModel",
          "state": {
            "_view_name": "StyleView",
            "_model_name": "DescriptionStyleModel",
            "description_width": "",
            "_view_module": "@jupyter-widgets/base",
            "_model_module_version": "1.5.0",
            "_view_count": null,
            "_view_module_version": "1.2.0",
            "_model_module": "@jupyter-widgets/controls"
          }
        },
        "88cf1387ed6743c3a47ab4c7b1d48afc": {
          "model_module": "@jupyter-widgets/base",
          "model_name": "LayoutModel",
          "state": {
            "_view_name": "LayoutView",
            "grid_template_rows": null,
            "right": null,
            "justify_content": null,
            "_view_module": "@jupyter-widgets/base",
            "overflow": null,
            "_model_module_version": "1.2.0",
            "_view_count": null,
            "flex_flow": null,
            "width": null,
            "min_width": null,
            "border": null,
            "align_items": null,
            "bottom": null,
            "_model_module": "@jupyter-widgets/base",
            "top": null,
            "grid_column": null,
            "overflow_y": null,
            "overflow_x": null,
            "grid_auto_flow": null,
            "grid_area": null,
            "grid_template_columns": null,
            "flex": null,
            "_model_name": "LayoutModel",
            "justify_items": null,
            "grid_row": null,
            "max_height": null,
            "align_content": null,
            "visibility": null,
            "align_self": null,
            "height": null,
            "min_height": null,
            "padding": null,
            "grid_auto_rows": null,
            "grid_gap": null,
            "max_width": null,
            "order": null,
            "_view_module_version": "1.2.0",
            "grid_template_areas": null,
            "object_position": null,
            "object_fit": null,
            "grid_auto_columns": null,
            "margin": null,
            "display": null,
            "left": null
          }
        }
      }
    }
  },
  "cells": [
    {
      "cell_type": "markdown",
      "metadata": {
        "id": "view-in-github",
        "colab_type": "text"
      },
      "source": [
        "<a href=\"https://colab.research.google.com/github/cosminnedescu/ProjectMLDL/blob/main/owr/owr-ensebles-0687.ipynb\" target=\"_parent\"><img src=\"https://colab.research.google.com/assets/colab-badge.svg\" alt=\"Open In Colab\"/></a>"
      ]
    },
    {
      "cell_type": "code",
      "metadata": {
        "id": "PF5bRIxnU-PW",
        "colab": {
          "base_uri": "https://localhost:8080/"
        },
        "outputId": "59127054-f19a-4f5e-f480-fcbc4b485c08"
      },
      "source": [
        "# Avoid K80\n",
        "!nvidia-smi"
      ],
      "execution_count": 1,
      "outputs": [
        {
          "output_type": "stream",
          "text": [
            "Tue Jul 13 09:48:53 2021       \n",
            "+-----------------------------------------------------------------------------+\n",
            "| NVIDIA-SMI 470.42.01    Driver Version: 460.32.03    CUDA Version: 11.2     |\n",
            "|-------------------------------+----------------------+----------------------+\n",
            "| GPU  Name        Persistence-M| Bus-Id        Disp.A | Volatile Uncorr. ECC |\n",
            "| Fan  Temp  Perf  Pwr:Usage/Cap|         Memory-Usage | GPU-Util  Compute M. |\n",
            "|                               |                      |               MIG M. |\n",
            "|===============================+======================+======================|\n",
            "|   0  Tesla T4            Off  | 00000000:00:04.0 Off |                    0 |\n",
            "| N/A   64C    P8    11W /  70W |      0MiB / 15109MiB |      0%      Default |\n",
            "|                               |                      |                  N/A |\n",
            "+-------------------------------+----------------------+----------------------+\n",
            "                                                                               \n",
            "+-----------------------------------------------------------------------------+\n",
            "| Processes:                                                                  |\n",
            "|  GPU   GI   CI        PID   Type   Process name                  GPU Memory |\n",
            "|        ID   ID                                                   Usage      |\n",
            "|=============================================================================|\n",
            "|  No running processes found                                                 |\n",
            "+-----------------------------------------------------------------------------+\n"
          ],
          "name": "stdout"
        }
      ]
    },
    {
      "cell_type": "code",
      "metadata": {
        "id": "pJimWkPdQu6y"
      },
      "source": [
        "import os\n",
        "import random\n",
        "\n",
        "import torch\n",
        "import torch.nn as nn\n",
        "import torch.nn.init as init\n",
        "import torch.optim as optim\n",
        "from torch.autograd import Variable\n",
        "\n",
        "import torchvision\n",
        "from torchvision import transforms, datasets, models\n",
        "from torch.utils.data import Subset, DataLoader\n",
        "\n",
        "from PIL import Image\n",
        "\n",
        "import numpy as np\n",
        "import matplotlib \n",
        "import matplotlib.pyplot as plt\n",
        "from copy import copy\n",
        "from copy import deepcopy"
      ],
      "execution_count": 2,
      "outputs": []
    },
    {
      "cell_type": "markdown",
      "metadata": {
        "id": "7BZw-bZJ16ay"
      },
      "source": [
        "#### Cloning the Git repository"
      ]
    },
    {
      "cell_type": "code",
      "metadata": {
        "id": "yjntw1jZQ7Lg",
        "colab": {
          "base_uri": "https://localhost:8080/"
        },
        "outputId": "d2e63e92-baf1-4b5e-fa0b-34c6cb983347"
      },
      "source": [
        "!rm -rf ProjectMLDL\n",
        "if not os.path.isdir('/content/ProjectMLDL'):\n",
        "  !git clone https://github.com/cosminnedescu/ProjectMLDL.git\n",
        "  %cd /content/ProjectMLDL\n",
        "  !rm -rf LICENSE README.md"
      ],
      "execution_count": 3,
      "outputs": [
        {
          "output_type": "stream",
          "text": [
            "Cloning into 'ProjectMLDL'...\n",
            "remote: Enumerating objects: 3561, done.\u001b[K\n",
            "remote: Counting objects: 100% (977/977), done.\u001b[K\n",
            "remote: Compressing objects: 100% (416/416), done.\u001b[K\n",
            "remote: Total 3561 (delta 559), reused 931 (delta 544), pack-reused 2584\u001b[K\n",
            "Receiving objects: 100% (3561/3561), 182.18 MiB | 37.40 MiB/s, done.\n",
            "Resolving deltas: 100% (1944/1944), done.\n",
            "Checking out files: 100% (392/392), done.\n",
            "/content/ProjectMLDL\n"
          ],
          "name": "stdout"
        }
      ]
    },
    {
      "cell_type": "code",
      "metadata": {
        "id": "nvqmxRxo2lUW",
        "outputId": "3731ae5c-8174-4e35-dffa-35ff4ba39148",
        "colab": {
          "base_uri": "https://localhost:8080/",
          "height": 128
        }
      },
      "source": [
        "from data.cifar100 import CIFAR100\n",
        "from model.resnet32_modified import resnet32\n",
        "import data.utils\n",
        "from model.owrEnsamble import owrEnsemble"
      ],
      "execution_count": 4,
      "outputs": [
        {
          "output_type": "error",
          "ename": "SyntaxError",
          "evalue": "ignored",
          "traceback": [
            "\u001b[0;36m  File \u001b[0;32m\"/content/ProjectMLDL/model/owrEnsamble.py\"\u001b[0;36m, line \u001b[0;32m28\u001b[0m\n\u001b[0;31m    '0.6827 : 1,\u001b[0m\n\u001b[0m                ^\u001b[0m\n\u001b[0;31mSyntaxError\u001b[0m\u001b[0;31m:\u001b[0m EOL while scanning string literal\n"
          ]
        }
      ]
    },
    {
      "cell_type": "code",
      "metadata": {
        "id": "XwomFTtQo1x-"
      },
      "source": [
        "# True mean and std of Cifar100 dataset (src=\"https://gist.github.com/weiaicunzai/e623931921efefd4c331622c344d8151\")\n",
        "mean = [0.5071, 0.4867, 0.4408]\n",
        "std = [0.2675, 0.2565, 0.2761]\n",
        "\n",
        "train_transform = transforms.Compose([\n",
        "    transforms.RandomCrop(32, padding=4),\n",
        "    transforms.RandomHorizontalFlip(),\n",
        "    transforms.ToTensor(),\n",
        "    transforms.Normalize(mean, std),\n",
        "])\n",
        "test_transform = transforms.Compose(\n",
        "    [transforms.ToTensor(), \n",
        "     transforms.Normalize(mean, std),\n",
        "     ])"
      ],
      "execution_count": null,
      "outputs": []
    },
    {
      "cell_type": "markdown",
      "metadata": {
        "id": "yRoS-R_sRhHT"
      },
      "source": [
        "## Incremental Classifier and Representation Learning"
      ]
    },
    {
      "cell_type": "markdown",
      "metadata": {
        "id": "3ocVW0wM2Iw2"
      },
      "source": [
        "### Defining hyperparameters according to iCarl paper"
      ]
    },
    {
      "cell_type": "code",
      "metadata": {
        "id": "nmEo_9lnwyBk"
      },
      "source": [
        "# Settings\n",
        "DEVICE = 'cuda'\n",
        "NUM_CLASSES = 100         # Total number of classes\n",
        "VAL_SIZE = 0.2            # Proportion of validation set with respect to training set (between 0 and 1)\n",
        "\n",
        "# Training\n",
        "BATCH_SIZE = 128          # Batch size\n",
        "LR = 0.1                    # Initial learning rate\n",
        "                       \n",
        "MOMENTUM = 0.9            # Momentum for stochastic gradient descent (SGD)\n",
        "WEIGHT_DECAY = 1e-5       # Weight decay from iCaRL\n",
        "\n",
        "RANDOM_SEED = [20]        # Random seeds defining the runs of every method\n",
        "                          # Note: this should be at least 3 to have a fair benchmark\n",
        "\n",
        "NUM_EPOCHS = 70           # Total number of training epochs\n",
        "MILESTONES = [43, 63]     # Step down policy from iCaRL (MultiStepLR)\n",
        "                          # Decrease the learning rate by gamma at each milestone\n",
        "GAMMA = 0.2               # Gamma factor from iCaRL (1/5)\n",
        "\n",
        "HERDING = False           # True to perform prioritized selection, False to perform random selection\n",
        "CLASSIFY = True           # True to use mean-of-exemplar classifier, False to use network's output directly for classification\n",
        "\n",
        "REJECTION_THRESHOLD = [0.25, 0.35, 0.50, 0.60, 0.75, 0.85, 0.95]\n",
        "TESTING_MODE = 'harmonic' #open, closed, harmonic\n",
        "N_ESTIMATORS = 5\n",
        "CONFIDENCE = '0.6827' #'0.900':1.47, '0.950':1.94, '0.975':2.45, '0.990':3.36\n",
        "    "
      ],
      "execution_count": null,
      "outputs": []
    },
    {
      "cell_type": "code",
      "metadata": {
        "id": "rVh61C63FECy"
      },
      "source": [
        "def do_group_classes(run):\n",
        "\n",
        "  train_subset = [[] for i in range(10)]\n",
        "  train_dataloader = [[] for i in range(10)]\n",
        "  val_dataloader = [[] for i in range(10)]\n",
        "  test_dataloader = [[] for i in range(10)]\n",
        "\n",
        "  for i in range(10):\n",
        "    train_data = CIFAR100(\"dataset\", \n",
        "                          train=True, \n",
        "                          transform=train_transform, \n",
        "                          download=(run+i==0),\n",
        "                          random_state=RANDOM_SEED[run])\n",
        "    test_data = CIFAR100(\"dataset\", \n",
        "                         train=False, \n",
        "                         transform=test_transform, \n",
        "                         download=False,\n",
        "                         random_state=RANDOM_SEED[run])\n",
        "    \n",
        "    train_data.set_index_map(train_data.splits[i])\n",
        "    test_data.set_index_map([test_data.splits[j] for j in range(0, i+1)])\n",
        "    \n",
        "    train_indices, val_indices = train_data.train_val_split(VAL_SIZE, RANDOM_SEED[run])\n",
        "    \n",
        "    train_subset[i] = copy(Subset(train_data, train_indices))\n",
        "    val_subset = Subset(train_data, val_indices)\n",
        "\n",
        "    tmp_dl = DataLoader(val_subset,\n",
        "                       batch_size=BATCH_SIZE,\n",
        "                       shuffle=True, \n",
        "                       num_workers=4,\n",
        "                       drop_last=True)\n",
        "    val_dataloader[i] = copy(tmp_dl)\n",
        "\n",
        "    tmp_dl = DataLoader(test_data,\n",
        "                       batch_size=BATCH_SIZE,\n",
        "                       shuffle=True, \n",
        "                       num_workers=4,\n",
        "                       drop_last=True)\n",
        "    test_dataloader[i] = copy(tmp_dl)\n",
        "\n",
        "  return train_dataloader, val_dataloader, test_dataloader, train_subset"
      ],
      "execution_count": null,
      "outputs": []
    },
    {
      "cell_type": "markdown",
      "metadata": {
        "id": "20APZIgI1eBy"
      },
      "source": [
        "### Going on with the model\n",
        "This is the main iCaRL step.\n",
        "\n",
        "This step is run 3 times with different `RANDOM_SEED`.\n",
        "Here the model is instantiated, trained and tested.\n",
        "\n",
        "Results and some statistics are then stored in the variable `logs`."
      ]
    },
    {
      "cell_type": "code",
      "metadata": {
        "id": "mJHKbipz0bMr",
        "colab": {
          "base_uri": "https://localhost:8080/",
          "height": 1000,
          "referenced_widgets": [
            "ebc9f2a475d2459488df8c9a7a86cb1c",
            "3b2b1bca26ad44a88850bfd607a29cff",
            "2d6ff13f82df4d76aa1eda0f737635ae",
            "4a606f1fd33e4e08b273ab19ade8ac8f",
            "b68253d37b7f4b8a81fcbfe0137bd089",
            "66f7ebe6ef834e7f9726e97c8ccb6914",
            "b7286fe6313f41309d0282a4f3307dcd",
            "88cf1387ed6743c3a47ab4c7b1d48afc"
          ]
        },
        "outputId": "b3c03bf3-733b-414d-ca07-26be760dbdf8"
      },
      "source": [
        "logs = [[] for i in range(len(RANDOM_SEED))]\n",
        "best_net_tot_classes = [None for i in range(len(RANDOM_SEED))]\n",
        "\n",
        "for run in range(len(RANDOM_SEED)):\n",
        "  print(\"#################################\")\n",
        "  print(f\"Radom seed: {RANDOM_SEED[run]}\")\n",
        "  print(\"\")\n",
        "\n",
        "  # get data_subsets separated in incremental groups of 10 classes\n",
        "  train_dl, val_dl, test_dl, train_set = do_group_classes(run)\n",
        "\n",
        "  #create the resnet\n",
        "  net = resnet32()\n",
        "  \n",
        "  trainer = owrEnsemble(DEVICE,\n",
        "                  net,\n",
        "                  LR,\n",
        "                  MOMENTUM,\n",
        "                  WEIGHT_DECAY,\n",
        "                  MILESTONES,\n",
        "                  GAMMA,\n",
        "                  train_dl,\n",
        "                  val_dl,\n",
        "                  test_dl,\n",
        "                  BATCH_SIZE,\n",
        "                  train_set,\n",
        "                  train_transform,\n",
        "                  test_transform,\n",
        "                  TESTING_MODE,\n",
        "                  REJECTION_THRESHOLD,\n",
        "                  N_ESTIMATORS,\n",
        "                  CONFIDENCE) \n",
        "\n",
        "  #train and evaluate the model\n",
        "  logs[run] = trainer.train_model(NUM_EPOCHS)\n",
        "\n",
        "  best_net_tot_classes[run] = deepcopy(trainer.best_net)\n",
        "\n",
        "  print(\"#################################\")\n",
        "  print(\"\")\n",
        "  print(\"\")"
      ],
      "execution_count": null,
      "outputs": [
        {
          "output_type": "stream",
          "text": [
            "#################################\n",
            "Radom seed: 20\n",
            "\n",
            "Downloading https://www.cs.toronto.edu/~kriz/cifar-100-python.tar.gz to dataset/cifar-100-python.tar.gz\n"
          ],
          "name": "stdout"
        },
        {
          "output_type": "display_data",
          "data": {
            "application/vnd.jupyter.widget-view+json": {
              "model_id": "ebc9f2a475d2459488df8c9a7a86cb1c",
              "version_minor": 0,
              "version_major": 2
            },
            "text/plain": [
              "HBox(children=(FloatProgress(value=0.0, max=169001437.0), HTML(value='')))"
            ]
          },
          "metadata": {
            "tags": []
          }
        },
        {
          "output_type": "stream",
          "text": [
            "\n",
            "Extracting dataset/cifar-100-python.tar.gz to dataset\n"
          ],
          "name": "stdout"
        },
        {
          "output_type": "stream",
          "text": [
            "/usr/local/lib/python3.7/dist-packages/torch/utils/data/dataloader.py:481: UserWarning: This DataLoader will create 4 worker processes in total. Our suggested max number of worker in current system is 2, which is smaller than what this DataLoader is going to create. Please be aware that excessive worker creation might get DataLoader running slow or even freeze, lower the worker number to avoid potential slowness/freeze if necessary.\n",
            "  cpuset_checked))\n"
          ],
          "name": "stderr"
        },
        {
          "output_type": "stream",
          "text": [
            "Log will be saved in '/content/ProjectMLDL/logs'.\n",
            "Create folder 'logs/'\n",
            "Start logging into file /content/ProjectMLDL/logs/classification_mnist_mlp-2021_07_13_07_13.log...\n",
            "Length of exemplars set: 0\n"
          ],
          "name": "stdout"
        },
        {
          "output_type": "stream",
          "text": [
            "2021-07-13 07:13:52,027 - INFO: lr: 0.10000 | Epoch: 000 | Batch: 000 | Loss: 2.32229 | Correct: 12/128\n"
          ],
          "name": "stderr"
        },
        {
          "output_type": "stream",
          "text": [
            "None\n"
          ],
          "name": "stdout"
        },
        {
          "output_type": "stream",
          "text": [
            "2021-07-13 07:13:54,171 - INFO: lr: 0.09875 | Epoch: 001 | Batch: 000 | Loss: 1.86382 | Correct: 36/128\n"
          ],
          "name": "stderr"
        },
        {
          "output_type": "stream",
          "text": [
            "None\n"
          ],
          "name": "stdout"
        },
        {
          "output_type": "stream",
          "text": [
            "2021-07-13 07:13:56,342 - INFO: lr: 0.09505 | Epoch: 002 | Batch: 000 | Loss: 1.68591 | Correct: 47/128\n"
          ],
          "name": "stderr"
        },
        {
          "output_type": "stream",
          "text": [
            "None\n"
          ],
          "name": "stdout"
        },
        {
          "output_type": "stream",
          "text": [
            "2021-07-13 07:13:58,533 - INFO: lr: 0.08909 | Epoch: 003 | Batch: 000 | Loss: 1.55647 | Correct: 63/128\n"
          ],
          "name": "stderr"
        },
        {
          "output_type": "stream",
          "text": [
            "None\n"
          ],
          "name": "stdout"
        },
        {
          "output_type": "stream",
          "text": [
            "2021-07-13 07:14:00,723 - INFO: lr: 0.08117 | Epoch: 004 | Batch: 000 | Loss: 1.36078 | Correct: 56/128\n"
          ],
          "name": "stderr"
        },
        {
          "output_type": "stream",
          "text": [
            "None\n"
          ],
          "name": "stdout"
        },
        {
          "output_type": "stream",
          "text": [
            "2021-07-13 07:14:02,869 - INFO: lr: 0.07169 | Epoch: 005 | Batch: 000 | Loss: 1.15290 | Correct: 78/128\n"
          ],
          "name": "stderr"
        },
        {
          "output_type": "stream",
          "text": [
            "None\n"
          ],
          "name": "stdout"
        },
        {
          "output_type": "stream",
          "text": [
            "2021-07-13 07:14:05,066 - INFO: lr: 0.06113 | Epoch: 006 | Batch: 000 | Loss: 1.22434 | Correct: 71/128\n"
          ],
          "name": "stderr"
        },
        {
          "output_type": "stream",
          "text": [
            "None\n"
          ],
          "name": "stdout"
        },
        {
          "output_type": "stream",
          "text": [
            "2021-07-13 07:14:07,247 - INFO: lr: 0.05000 | Epoch: 007 | Batch: 000 | Loss: 0.96372 | Correct: 77/128\n"
          ],
          "name": "stderr"
        },
        {
          "output_type": "stream",
          "text": [
            "None\n"
          ],
          "name": "stdout"
        },
        {
          "output_type": "stream",
          "text": [
            "2021-07-13 07:14:09,423 - INFO: lr: 0.03887 | Epoch: 008 | Batch: 000 | Loss: 1.10324 | Correct: 77/128\n"
          ],
          "name": "stderr"
        },
        {
          "output_type": "stream",
          "text": [
            "None\n"
          ],
          "name": "stdout"
        },
        {
          "output_type": "stream",
          "text": [
            "2021-07-13 07:14:11,591 - INFO: lr: 0.02831 | Epoch: 009 | Batch: 000 | Loss: 1.08723 | Correct: 81/128\n"
          ],
          "name": "stderr"
        },
        {
          "output_type": "stream",
          "text": [
            "None\n"
          ],
          "name": "stdout"
        },
        {
          "output_type": "stream",
          "text": [
            "2021-07-13 07:14:13,696 - INFO: lr: 0.01883 | Epoch: 010 | Batch: 000 | Loss: 0.86107 | Correct: 88/128\n"
          ],
          "name": "stderr"
        },
        {
          "output_type": "stream",
          "text": [
            "None\n"
          ],
          "name": "stdout"
        },
        {
          "output_type": "stream",
          "text": [
            "2021-07-13 07:14:15,884 - INFO: lr: 0.01091 | Epoch: 011 | Batch: 000 | Loss: 0.80462 | Correct: 93/128\n"
          ],
          "name": "stderr"
        },
        {
          "output_type": "stream",
          "text": [
            "None\n"
          ],
          "name": "stdout"
        },
        {
          "output_type": "stream",
          "text": [
            "2021-07-13 07:14:18,102 - INFO: lr: 0.00495 | Epoch: 012 | Batch: 000 | Loss: 0.77717 | Correct: 94/128\n"
          ],
          "name": "stderr"
        },
        {
          "output_type": "stream",
          "text": [
            "None\n"
          ],
          "name": "stdout"
        },
        {
          "output_type": "stream",
          "text": [
            "2021-07-13 07:14:20,287 - INFO: lr: 0.00125 | Epoch: 013 | Batch: 000 | Loss: 0.71291 | Correct: 100/128\n"
          ],
          "name": "stderr"
        },
        {
          "output_type": "stream",
          "text": [
            "None\n"
          ],
          "name": "stdout"
        },
        {
          "output_type": "stream",
          "text": [
            "2021-07-13 07:14:22,115 - INFO: Save the snapshot model with index: 0\n",
            "2021-07-13 07:14:22,710 - INFO: n_estimators: 1 | Validation Acc: 67.857 % | Historical Best: 67.857 %\n",
            "2021-07-13 07:14:23,146 - INFO: lr: 0.10000 | Epoch: 014 | Batch: 000 | Loss: 0.73557 | Correct: 99/128\n"
          ],
          "name": "stderr"
        },
        {
          "output_type": "stream",
          "text": [
            "None\n"
          ],
          "name": "stdout"
        },
        {
          "output_type": "stream",
          "text": [
            "2021-07-13 07:14:25,288 - INFO: lr: 0.09875 | Epoch: 015 | Batch: 000 | Loss: 0.92246 | Correct: 83/128\n"
          ],
          "name": "stderr"
        },
        {
          "output_type": "stream",
          "text": [
            "None\n"
          ],
          "name": "stdout"
        },
        {
          "output_type": "stream",
          "text": [
            "2021-07-13 07:14:27,533 - INFO: lr: 0.09505 | Epoch: 016 | Batch: 000 | Loss: 0.94901 | Correct: 82/128\n"
          ],
          "name": "stderr"
        },
        {
          "output_type": "stream",
          "text": [
            "None\n"
          ],
          "name": "stdout"
        },
        {
          "output_type": "stream",
          "text": [
            "2021-07-13 07:14:29,697 - INFO: lr: 0.08909 | Epoch: 017 | Batch: 000 | Loss: 0.92383 | Correct: 90/128\n"
          ],
          "name": "stderr"
        },
        {
          "output_type": "stream",
          "text": [
            "None\n"
          ],
          "name": "stdout"
        },
        {
          "output_type": "stream",
          "text": [
            "2021-07-13 07:14:31,828 - INFO: lr: 0.08117 | Epoch: 018 | Batch: 000 | Loss: 0.76852 | Correct: 96/128\n"
          ],
          "name": "stderr"
        },
        {
          "output_type": "stream",
          "text": [
            "None\n"
          ],
          "name": "stdout"
        },
        {
          "output_type": "stream",
          "text": [
            "2021-07-13 07:14:34,154 - INFO: lr: 0.07169 | Epoch: 019 | Batch: 000 | Loss: 0.92543 | Correct: 89/128\n"
          ],
          "name": "stderr"
        },
        {
          "output_type": "stream",
          "text": [
            "None\n"
          ],
          "name": "stdout"
        },
        {
          "output_type": "stream",
          "text": [
            "2021-07-13 07:14:36,280 - INFO: lr: 0.06113 | Epoch: 020 | Batch: 000 | Loss: 0.73367 | Correct: 95/128\n"
          ],
          "name": "stderr"
        },
        {
          "output_type": "stream",
          "text": [
            "None\n"
          ],
          "name": "stdout"
        },
        {
          "output_type": "stream",
          "text": [
            "2021-07-13 07:14:38,591 - INFO: lr: 0.05000 | Epoch: 021 | Batch: 000 | Loss: 0.68728 | Correct: 99/128\n"
          ],
          "name": "stderr"
        },
        {
          "output_type": "stream",
          "text": [
            "None\n"
          ],
          "name": "stdout"
        },
        {
          "output_type": "stream",
          "text": [
            "2021-07-13 07:14:40,850 - INFO: lr: 0.03887 | Epoch: 022 | Batch: 000 | Loss: 0.80039 | Correct: 89/128\n"
          ],
          "name": "stderr"
        },
        {
          "output_type": "stream",
          "text": [
            "None\n"
          ],
          "name": "stdout"
        },
        {
          "output_type": "stream",
          "text": [
            "2021-07-13 07:14:43,091 - INFO: lr: 0.02831 | Epoch: 023 | Batch: 000 | Loss: 0.56084 | Correct: 105/128\n"
          ],
          "name": "stderr"
        },
        {
          "output_type": "stream",
          "text": [
            "None\n"
          ],
          "name": "stdout"
        },
        {
          "output_type": "stream",
          "text": [
            "2021-07-13 07:14:45,316 - INFO: lr: 0.01883 | Epoch: 024 | Batch: 000 | Loss: 0.59792 | Correct: 101/128\n"
          ],
          "name": "stderr"
        },
        {
          "output_type": "stream",
          "text": [
            "None\n"
          ],
          "name": "stdout"
        },
        {
          "output_type": "stream",
          "text": [
            "2021-07-13 07:14:47,526 - INFO: lr: 0.01091 | Epoch: 025 | Batch: 000 | Loss: 0.58545 | Correct: 103/128\n"
          ],
          "name": "stderr"
        },
        {
          "output_type": "stream",
          "text": [
            "None\n"
          ],
          "name": "stdout"
        },
        {
          "output_type": "stream",
          "text": [
            "2021-07-13 07:14:49,689 - INFO: lr: 0.00495 | Epoch: 026 | Batch: 000 | Loss: 0.41860 | Correct: 110/128\n"
          ],
          "name": "stderr"
        },
        {
          "output_type": "stream",
          "text": [
            "None\n"
          ],
          "name": "stdout"
        },
        {
          "output_type": "stream",
          "text": [
            "2021-07-13 07:14:51,953 - INFO: lr: 0.00125 | Epoch: 027 | Batch: 000 | Loss: 0.46848 | Correct: 109/128\n"
          ],
          "name": "stderr"
        },
        {
          "output_type": "stream",
          "text": [
            "None\n"
          ],
          "name": "stdout"
        },
        {
          "output_type": "stream",
          "text": [
            "2021-07-13 07:14:53,780 - INFO: Save the snapshot model with index: 1\n",
            "2021-07-13 07:14:54,480 - INFO: n_estimators: 2 | Validation Acc: 78.571 % | Historical Best: 78.571 %\n",
            "2021-07-13 07:14:54,808 - INFO: lr: 0.10000 | Epoch: 028 | Batch: 000 | Loss: 0.45870 | Correct: 106/128\n"
          ],
          "name": "stderr"
        },
        {
          "output_type": "stream",
          "text": [
            "None\n"
          ],
          "name": "stdout"
        },
        {
          "output_type": "stream",
          "text": [
            "2021-07-13 07:14:57,004 - INFO: lr: 0.09875 | Epoch: 029 | Batch: 000 | Loss: 0.92469 | Correct: 88/128\n"
          ],
          "name": "stderr"
        },
        {
          "output_type": "stream",
          "text": [
            "None\n"
          ],
          "name": "stdout"
        },
        {
          "output_type": "stream",
          "text": [
            "2021-07-13 07:14:59,183 - INFO: lr: 0.09505 | Epoch: 030 | Batch: 000 | Loss: 0.71515 | Correct: 97/128\n"
          ],
          "name": "stderr"
        },
        {
          "output_type": "stream",
          "text": [
            "None\n"
          ],
          "name": "stdout"
        },
        {
          "output_type": "stream",
          "text": [
            "2021-07-13 07:15:01,499 - INFO: lr: 0.08909 | Epoch: 031 | Batch: 000 | Loss: 0.68754 | Correct: 102/128\n"
          ],
          "name": "stderr"
        },
        {
          "output_type": "stream",
          "text": [
            "None\n"
          ],
          "name": "stdout"
        },
        {
          "output_type": "stream",
          "text": [
            "2021-07-13 07:15:03,702 - INFO: lr: 0.08117 | Epoch: 032 | Batch: 000 | Loss: 0.54730 | Correct: 104/128\n"
          ],
          "name": "stderr"
        },
        {
          "output_type": "stream",
          "text": [
            "None\n"
          ],
          "name": "stdout"
        },
        {
          "output_type": "stream",
          "text": [
            "2021-07-13 07:15:05,856 - INFO: lr: 0.07169 | Epoch: 033 | Batch: 000 | Loss: 0.47377 | Correct: 105/128\n"
          ],
          "name": "stderr"
        },
        {
          "output_type": "stream",
          "text": [
            "None\n"
          ],
          "name": "stdout"
        },
        {
          "output_type": "stream",
          "text": [
            "2021-07-13 07:15:08,059 - INFO: lr: 0.06113 | Epoch: 034 | Batch: 000 | Loss: 0.41501 | Correct: 108/128\n"
          ],
          "name": "stderr"
        },
        {
          "output_type": "stream",
          "text": [
            "None\n"
          ],
          "name": "stdout"
        },
        {
          "output_type": "stream",
          "text": [
            "2021-07-13 07:15:10,201 - INFO: lr: 0.05000 | Epoch: 035 | Batch: 000 | Loss: 0.37029 | Correct: 110/128\n"
          ],
          "name": "stderr"
        },
        {
          "output_type": "stream",
          "text": [
            "None\n"
          ],
          "name": "stdout"
        },
        {
          "output_type": "stream",
          "text": [
            "2021-07-13 07:15:12,437 - INFO: lr: 0.03887 | Epoch: 036 | Batch: 000 | Loss: 0.32874 | Correct: 115/128\n"
          ],
          "name": "stderr"
        },
        {
          "output_type": "stream",
          "text": [
            "None\n"
          ],
          "name": "stdout"
        },
        {
          "output_type": "stream",
          "text": [
            "2021-07-13 07:15:14,588 - INFO: lr: 0.02831 | Epoch: 037 | Batch: 000 | Loss: 0.24225 | Correct: 117/128\n"
          ],
          "name": "stderr"
        },
        {
          "output_type": "stream",
          "text": [
            "None\n"
          ],
          "name": "stdout"
        },
        {
          "output_type": "stream",
          "text": [
            "2021-07-13 07:15:16,832 - INFO: lr: 0.01883 | Epoch: 038 | Batch: 000 | Loss: 0.30853 | Correct: 115/128\n"
          ],
          "name": "stderr"
        },
        {
          "output_type": "stream",
          "text": [
            "None\n"
          ],
          "name": "stdout"
        },
        {
          "output_type": "stream",
          "text": [
            "2021-07-13 07:15:18,967 - INFO: lr: 0.01091 | Epoch: 039 | Batch: 000 | Loss: 0.28645 | Correct: 114/128\n"
          ],
          "name": "stderr"
        },
        {
          "output_type": "stream",
          "text": [
            "None\n"
          ],
          "name": "stdout"
        },
        {
          "output_type": "stream",
          "text": [
            "2021-07-13 07:15:21,133 - INFO: lr: 0.00495 | Epoch: 040 | Batch: 000 | Loss: 0.25010 | Correct: 118/128\n"
          ],
          "name": "stderr"
        },
        {
          "output_type": "stream",
          "text": [
            "None\n"
          ],
          "name": "stdout"
        },
        {
          "output_type": "stream",
          "text": [
            "2021-07-13 07:15:23,296 - INFO: lr: 0.00125 | Epoch: 041 | Batch: 000 | Loss: 0.20058 | Correct: 120/128\n"
          ],
          "name": "stderr"
        },
        {
          "output_type": "stream",
          "text": [
            "None\n"
          ],
          "name": "stdout"
        },
        {
          "output_type": "stream",
          "text": [
            "2021-07-13 07:15:25,121 - INFO: Save the snapshot model with index: 2\n",
            "2021-07-13 07:15:25,936 - INFO: n_estimators: 3 | Validation Acc: 83.147 % | Historical Best: 83.147 %\n",
            "2021-07-13 07:15:26,364 - INFO: lr: 0.10000 | Epoch: 042 | Batch: 000 | Loss: 0.24575 | Correct: 121/128\n"
          ],
          "name": "stderr"
        },
        {
          "output_type": "stream",
          "text": [
            "None\n"
          ],
          "name": "stdout"
        },
        {
          "output_type": "stream",
          "text": [
            "2021-07-13 07:15:28,520 - INFO: lr: 0.09875 | Epoch: 043 | Batch: 000 | Loss: 0.66127 | Correct: 104/128\n"
          ],
          "name": "stderr"
        },
        {
          "output_type": "stream",
          "text": [
            "None\n"
          ],
          "name": "stdout"
        },
        {
          "output_type": "stream",
          "text": [
            "2021-07-13 07:15:30,636 - INFO: lr: 0.09505 | Epoch: 044 | Batch: 000 | Loss: 0.39989 | Correct: 112/128\n"
          ],
          "name": "stderr"
        },
        {
          "output_type": "stream",
          "text": [
            "None\n"
          ],
          "name": "stdout"
        },
        {
          "output_type": "stream",
          "text": [
            "2021-07-13 07:15:32,913 - INFO: lr: 0.08909 | Epoch: 045 | Batch: 000 | Loss: 0.46412 | Correct: 104/128\n"
          ],
          "name": "stderr"
        },
        {
          "output_type": "stream",
          "text": [
            "None\n"
          ],
          "name": "stdout"
        },
        {
          "output_type": "stream",
          "text": [
            "2021-07-13 07:15:35,133 - INFO: lr: 0.08117 | Epoch: 046 | Batch: 000 | Loss: 0.41060 | Correct: 111/128\n"
          ],
          "name": "stderr"
        },
        {
          "output_type": "stream",
          "text": [
            "None\n"
          ],
          "name": "stdout"
        },
        {
          "output_type": "stream",
          "text": [
            "2021-07-13 07:15:37,361 - INFO: lr: 0.07169 | Epoch: 047 | Batch: 000 | Loss: 0.37571 | Correct: 109/128\n"
          ],
          "name": "stderr"
        },
        {
          "output_type": "stream",
          "text": [
            "None\n"
          ],
          "name": "stdout"
        },
        {
          "output_type": "stream",
          "text": [
            "2021-07-13 07:15:39,540 - INFO: lr: 0.06113 | Epoch: 048 | Batch: 000 | Loss: 0.30820 | Correct: 117/128\n"
          ],
          "name": "stderr"
        },
        {
          "output_type": "stream",
          "text": [
            "None\n"
          ],
          "name": "stdout"
        },
        {
          "output_type": "stream",
          "text": [
            "2021-07-13 07:15:41,813 - INFO: lr: 0.05000 | Epoch: 049 | Batch: 000 | Loss: 0.24826 | Correct: 118/128\n"
          ],
          "name": "stderr"
        },
        {
          "output_type": "stream",
          "text": [
            "None\n"
          ],
          "name": "stdout"
        },
        {
          "output_type": "stream",
          "text": [
            "2021-07-13 07:15:43,998 - INFO: lr: 0.03887 | Epoch: 050 | Batch: 000 | Loss: 0.24476 | Correct: 117/128\n"
          ],
          "name": "stderr"
        },
        {
          "output_type": "stream",
          "text": [
            "None\n"
          ],
          "name": "stdout"
        },
        {
          "output_type": "stream",
          "text": [
            "2021-07-13 07:15:46,215 - INFO: lr: 0.02831 | Epoch: 051 | Batch: 000 | Loss: 0.17269 | Correct: 121/128\n"
          ],
          "name": "stderr"
        },
        {
          "output_type": "stream",
          "text": [
            "None\n"
          ],
          "name": "stdout"
        },
        {
          "output_type": "stream",
          "text": [
            "2021-07-13 07:15:48,599 - INFO: lr: 0.01883 | Epoch: 052 | Batch: 000 | Loss: 0.13099 | Correct: 122/128\n"
          ],
          "name": "stderr"
        },
        {
          "output_type": "stream",
          "text": [
            "None\n"
          ],
          "name": "stdout"
        },
        {
          "output_type": "stream",
          "text": [
            "2021-07-13 07:15:50,890 - INFO: lr: 0.01091 | Epoch: 053 | Batch: 000 | Loss: 0.10615 | Correct: 124/128\n"
          ],
          "name": "stderr"
        },
        {
          "output_type": "stream",
          "text": [
            "None\n"
          ],
          "name": "stdout"
        },
        {
          "output_type": "stream",
          "text": [
            "2021-07-13 07:15:53,134 - INFO: lr: 0.00495 | Epoch: 054 | Batch: 000 | Loss: 0.22631 | Correct: 121/128\n"
          ],
          "name": "stderr"
        },
        {
          "output_type": "stream",
          "text": [
            "None\n"
          ],
          "name": "stdout"
        },
        {
          "output_type": "stream",
          "text": [
            "2021-07-13 07:15:55,284 - INFO: lr: 0.00125 | Epoch: 055 | Batch: 000 | Loss: 0.10801 | Correct: 126/128\n"
          ],
          "name": "stderr"
        },
        {
          "output_type": "stream",
          "text": [
            "None\n"
          ],
          "name": "stdout"
        },
        {
          "output_type": "stream",
          "text": [
            "2021-07-13 07:15:57,164 - INFO: Save the snapshot model with index: 3\n",
            "2021-07-13 07:15:58,094 - INFO: n_estimators: 4 | Validation Acc: 84.375 % | Historical Best: 84.375 %\n",
            "2021-07-13 07:15:58,473 - INFO: lr: 0.10000 | Epoch: 056 | Batch: 000 | Loss: 0.10478 | Correct: 124/128\n"
          ],
          "name": "stderr"
        },
        {
          "output_type": "stream",
          "text": [
            "None\n"
          ],
          "name": "stdout"
        },
        {
          "output_type": "stream",
          "text": [
            "2021-07-13 07:16:00,665 - INFO: lr: 0.09875 | Epoch: 057 | Batch: 000 | Loss: 0.43862 | Correct: 109/128\n"
          ],
          "name": "stderr"
        },
        {
          "output_type": "stream",
          "text": [
            "None\n"
          ],
          "name": "stdout"
        },
        {
          "output_type": "stream",
          "text": [
            "2021-07-13 07:16:02,810 - INFO: lr: 0.09505 | Epoch: 058 | Batch: 000 | Loss: 0.34014 | Correct: 112/128\n"
          ],
          "name": "stderr"
        },
        {
          "output_type": "stream",
          "text": [
            "None\n"
          ],
          "name": "stdout"
        },
        {
          "output_type": "stream",
          "text": [
            "2021-07-13 07:16:05,100 - INFO: lr: 0.08909 | Epoch: 059 | Batch: 000 | Loss: 0.25198 | Correct: 117/128\n"
          ],
          "name": "stderr"
        },
        {
          "output_type": "stream",
          "text": [
            "None\n"
          ],
          "name": "stdout"
        },
        {
          "output_type": "stream",
          "text": [
            "2021-07-13 07:16:07,325 - INFO: lr: 0.08117 | Epoch: 060 | Batch: 000 | Loss: 0.42387 | Correct: 108/128\n"
          ],
          "name": "stderr"
        },
        {
          "output_type": "stream",
          "text": [
            "None\n"
          ],
          "name": "stdout"
        },
        {
          "output_type": "stream",
          "text": [
            "2021-07-13 07:16:09,473 - INFO: lr: 0.07169 | Epoch: 061 | Batch: 000 | Loss: 0.15011 | Correct: 121/128\n"
          ],
          "name": "stderr"
        },
        {
          "output_type": "stream",
          "text": [
            "None\n"
          ],
          "name": "stdout"
        },
        {
          "output_type": "stream",
          "text": [
            "2021-07-13 07:16:11,713 - INFO: lr: 0.06113 | Epoch: 062 | Batch: 000 | Loss: 0.22117 | Correct: 120/128\n"
          ],
          "name": "stderr"
        },
        {
          "output_type": "stream",
          "text": [
            "None\n"
          ],
          "name": "stdout"
        },
        {
          "output_type": "stream",
          "text": [
            "2021-07-13 07:16:13,897 - INFO: lr: 0.05000 | Epoch: 063 | Batch: 000 | Loss: 0.17796 | Correct: 122/128\n"
          ],
          "name": "stderr"
        },
        {
          "output_type": "stream",
          "text": [
            "None\n"
          ],
          "name": "stdout"
        },
        {
          "output_type": "stream",
          "text": [
            "2021-07-13 07:16:16,088 - INFO: lr: 0.03887 | Epoch: 064 | Batch: 000 | Loss: 0.17564 | Correct: 123/128\n"
          ],
          "name": "stderr"
        },
        {
          "output_type": "stream",
          "text": [
            "None\n"
          ],
          "name": "stdout"
        },
        {
          "output_type": "stream",
          "text": [
            "2021-07-13 07:16:18,313 - INFO: lr: 0.02831 | Epoch: 065 | Batch: 000 | Loss: 0.11149 | Correct: 122/128\n"
          ],
          "name": "stderr"
        },
        {
          "output_type": "stream",
          "text": [
            "None\n"
          ],
          "name": "stdout"
        },
        {
          "output_type": "stream",
          "text": [
            "2021-07-13 07:16:20,449 - INFO: lr: 0.01883 | Epoch: 066 | Batch: 000 | Loss: 0.07249 | Correct: 125/128\n"
          ],
          "name": "stderr"
        },
        {
          "output_type": "stream",
          "text": [
            "None\n"
          ],
          "name": "stdout"
        },
        {
          "output_type": "stream",
          "text": [
            "2021-07-13 07:16:22,646 - INFO: lr: 0.01091 | Epoch: 067 | Batch: 000 | Loss: 0.08342 | Correct: 124/128\n"
          ],
          "name": "stderr"
        },
        {
          "output_type": "stream",
          "text": [
            "None\n"
          ],
          "name": "stdout"
        },
        {
          "output_type": "stream",
          "text": [
            "2021-07-13 07:16:24,948 - INFO: lr: 0.00495 | Epoch: 068 | Batch: 000 | Loss: 0.07825 | Correct: 126/128\n"
          ],
          "name": "stderr"
        },
        {
          "output_type": "stream",
          "text": [
            "None\n"
          ],
          "name": "stdout"
        },
        {
          "output_type": "stream",
          "text": [
            "2021-07-13 07:16:27,125 - INFO: lr: 0.00125 | Epoch: 069 | Batch: 000 | Loss: 0.07475 | Correct: 125/128\n"
          ],
          "name": "stderr"
        },
        {
          "output_type": "stream",
          "text": [
            "None\n"
          ],
          "name": "stdout"
        },
        {
          "output_type": "stream",
          "text": [
            "2021-07-13 07:16:28,967 - INFO: Save the snapshot model with index: 4\n",
            "2021-07-13 07:16:30,016 - INFO: n_estimators: 5 | Validation Acc: 87.165 % | Historical Best: 87.165 %\n"
          ],
          "name": "stderr"
        },
        {
          "output_type": "stream",
          "text": [
            "Group 1 Finished!\n",
            "Target number of exemplars: 200\n",
            "Randomly extracting exemplars from class 0 of current split... Extracted 200 exemplars.\n",
            "Randomly extracting exemplars from class 1 of current split... Extracted 200 exemplars.\n",
            "Randomly extracting exemplars from class 2 of current split... Extracted 200 exemplars.\n",
            "Randomly extracting exemplars from class 3 of current split... Extracted 200 exemplars.\n",
            "Randomly extracting exemplars from class 4 of current split... Extracted 200 exemplars.\n",
            "Randomly extracting exemplars from class 5 of current split... Extracted 200 exemplars.\n",
            "Randomly extracting exemplars from class 6 of current split... Extracted 200 exemplars.\n",
            "Randomly extracting exemplars from class 7 of current split... Extracted 200 exemplars.\n",
            "Randomly extracting exemplars from class 8 of current split... Extracted 200 exemplars.\n",
            "Randomly extracting exemplars from class 9 of current split... Extracted 200 exemplars.\n",
            "[0.07700892857142858, 0.16741071428571427, 0.33035714285714285, 0.45982142857142855, 0.6294642857142857, 0.7354910714285714, 0.9553571428571429],[0.7935267857142857, 0.7321428571428571, 0.6194196428571429, 0.5078125, 0.3549107142857143, 0.25111607142857145, 0.04241071428571429]\n",
            "Testing on both open and closed world\n",
            "owr harmonic mean (threshold:0.25) = 0.14039320054945056\n",
            "owr harmonic mean (threshold:0.35) = 0.2725097483161999\n",
            "owr harmonic mean (threshold:0.5) = 0.43090062111801236\n",
            "owr harmonic mean (threshold:0.6) = 0.48262687427912343\n",
            "owr harmonic mean (threshold:0.75) = 0.453899416909621\n",
            "owr harmonic mean (threshold:0.85) = 0.37440156351001946\n",
            "owr harmonic mean (threshold:0.95) = 0.08121604346436562\n",
            "\n",
            "=============================================\n",
            "\n",
            "Length of exemplars set: 2000\n"
          ],
          "name": "stdout"
        },
        {
          "output_type": "stream",
          "text": [
            "2021-07-13 07:16:34,899 - INFO: lr: 0.10000 | Epoch: 000 | Batch: 000 | Loss: 4.34074 | Correct: 8/128\n"
          ],
          "name": "stderr"
        },
        {
          "output_type": "stream",
          "text": [
            "None\n"
          ],
          "name": "stdout"
        },
        {
          "output_type": "stream",
          "text": [
            "2021-07-13 07:16:50,380 - INFO: lr: 0.09875 | Epoch: 001 | Batch: 000 | Loss: 2.75250 | Correct: 22/128\n"
          ],
          "name": "stderr"
        },
        {
          "output_type": "stream",
          "text": [
            "None\n"
          ],
          "name": "stdout"
        },
        {
          "output_type": "stream",
          "text": [
            "2021-07-13 07:17:05,881 - INFO: lr: 0.09505 | Epoch: 002 | Batch: 000 | Loss: 2.43713 | Correct: 31/128\n"
          ],
          "name": "stderr"
        },
        {
          "output_type": "stream",
          "text": [
            "None\n"
          ],
          "name": "stdout"
        },
        {
          "output_type": "stream",
          "text": [
            "2021-07-13 07:17:21,328 - INFO: lr: 0.08909 | Epoch: 003 | Batch: 000 | Loss: 2.30837 | Correct: 36/128\n"
          ],
          "name": "stderr"
        },
        {
          "output_type": "stream",
          "text": [
            "None\n"
          ],
          "name": "stdout"
        },
        {
          "output_type": "stream",
          "text": [
            "2021-07-13 07:17:36,823 - INFO: lr: 0.08117 | Epoch: 004 | Batch: 000 | Loss: 2.08143 | Correct: 38/128\n"
          ],
          "name": "stderr"
        },
        {
          "output_type": "stream",
          "text": [
            "None\n"
          ],
          "name": "stdout"
        },
        {
          "output_type": "stream",
          "text": [
            "2021-07-13 07:17:52,285 - INFO: lr: 0.07169 | Epoch: 005 | Batch: 000 | Loss: 2.10724 | Correct: 39/128\n"
          ],
          "name": "stderr"
        },
        {
          "output_type": "stream",
          "text": [
            "None\n"
          ],
          "name": "stdout"
        },
        {
          "output_type": "stream",
          "text": [
            "2021-07-13 07:18:07,725 - INFO: lr: 0.06113 | Epoch: 006 | Batch: 000 | Loss: 1.81895 | Correct: 54/128\n"
          ],
          "name": "stderr"
        },
        {
          "output_type": "stream",
          "text": [
            "None\n"
          ],
          "name": "stdout"
        },
        {
          "output_type": "stream",
          "text": [
            "2021-07-13 07:18:23,126 - INFO: lr: 0.05000 | Epoch: 007 | Batch: 000 | Loss: 1.92582 | Correct: 47/128\n"
          ],
          "name": "stderr"
        },
        {
          "output_type": "stream",
          "text": [
            "None\n"
          ],
          "name": "stdout"
        },
        {
          "output_type": "stream",
          "text": [
            "2021-07-13 07:18:38,607 - INFO: lr: 0.03887 | Epoch: 008 | Batch: 000 | Loss: 1.73775 | Correct: 53/128\n"
          ],
          "name": "stderr"
        },
        {
          "output_type": "stream",
          "text": [
            "None\n"
          ],
          "name": "stdout"
        },
        {
          "output_type": "stream",
          "text": [
            "2021-07-13 07:18:54,070 - INFO: lr: 0.02831 | Epoch: 009 | Batch: 000 | Loss: 1.56504 | Correct: 66/128\n"
          ],
          "name": "stderr"
        },
        {
          "output_type": "stream",
          "text": [
            "None\n"
          ],
          "name": "stdout"
        },
        {
          "output_type": "stream",
          "text": [
            "2021-07-13 07:19:09,528 - INFO: lr: 0.01883 | Epoch: 010 | Batch: 000 | Loss: 1.52114 | Correct: 76/128\n"
          ],
          "name": "stderr"
        },
        {
          "output_type": "stream",
          "text": [
            "None\n"
          ],
          "name": "stdout"
        },
        {
          "output_type": "stream",
          "text": [
            "2021-07-13 07:19:24,994 - INFO: lr: 0.01091 | Epoch: 011 | Batch: 000 | Loss: 1.42214 | Correct: 74/128\n"
          ],
          "name": "stderr"
        },
        {
          "output_type": "stream",
          "text": [
            "None\n"
          ],
          "name": "stdout"
        },
        {
          "output_type": "stream",
          "text": [
            "2021-07-13 07:19:40,424 - INFO: lr: 0.00495 | Epoch: 012 | Batch: 000 | Loss: 1.54701 | Correct: 70/128\n"
          ],
          "name": "stderr"
        },
        {
          "output_type": "stream",
          "text": [
            "None\n"
          ],
          "name": "stdout"
        },
        {
          "output_type": "stream",
          "text": [
            "2021-07-13 07:19:55,906 - INFO: lr: 0.00125 | Epoch: 013 | Batch: 000 | Loss: 1.32470 | Correct: 76/128\n"
          ],
          "name": "stderr"
        },
        {
          "output_type": "stream",
          "text": [
            "None\n"
          ],
          "name": "stdout"
        },
        {
          "output_type": "stream",
          "text": [
            "2021-07-13 07:20:10,716 - INFO: Save the snapshot model with index: 0\n",
            "2021-07-13 07:20:11,317 - INFO: n_estimators: 1 | Validation Acc: 63.951 % | Historical Best: 63.951 %\n",
            "2021-07-13 07:20:12,042 - INFO: lr: 0.10000 | Epoch: 014 | Batch: 000 | Loss: 1.62067 | Correct: 64/128\n"
          ],
          "name": "stderr"
        },
        {
          "output_type": "stream",
          "text": [
            "None\n"
          ],
          "name": "stdout"
        },
        {
          "output_type": "stream",
          "text": [
            "2021-07-13 07:20:27,493 - INFO: lr: 0.09875 | Epoch: 015 | Batch: 000 | Loss: 1.54714 | Correct: 66/128\n"
          ],
          "name": "stderr"
        },
        {
          "output_type": "stream",
          "text": [
            "None\n"
          ],
          "name": "stdout"
        },
        {
          "output_type": "stream",
          "text": [
            "2021-07-13 07:20:42,995 - INFO: lr: 0.09505 | Epoch: 016 | Batch: 000 | Loss: 1.64413 | Correct: 61/128\n"
          ],
          "name": "stderr"
        },
        {
          "output_type": "stream",
          "text": [
            "None\n"
          ],
          "name": "stdout"
        },
        {
          "output_type": "stream",
          "text": [
            "2021-07-13 07:20:58,509 - INFO: lr: 0.08909 | Epoch: 017 | Batch: 000 | Loss: 1.47486 | Correct: 66/128\n"
          ],
          "name": "stderr"
        },
        {
          "output_type": "stream",
          "text": [
            "None\n"
          ],
          "name": "stdout"
        },
        {
          "output_type": "stream",
          "text": [
            "2021-07-13 07:21:14,010 - INFO: lr: 0.08117 | Epoch: 018 | Batch: 000 | Loss: 1.11198 | Correct: 78/128\n"
          ],
          "name": "stderr"
        },
        {
          "output_type": "stream",
          "text": [
            "None\n"
          ],
          "name": "stdout"
        },
        {
          "output_type": "stream",
          "text": [
            "2021-07-13 07:21:29,420 - INFO: lr: 0.07169 | Epoch: 019 | Batch: 000 | Loss: 1.60371 | Correct: 71/128\n"
          ],
          "name": "stderr"
        },
        {
          "output_type": "stream",
          "text": [
            "None\n"
          ],
          "name": "stdout"
        },
        {
          "output_type": "stream",
          "text": [
            "2021-07-13 07:21:44,878 - INFO: lr: 0.06113 | Epoch: 020 | Batch: 000 | Loss: 0.99822 | Correct: 87/128\n"
          ],
          "name": "stderr"
        },
        {
          "output_type": "stream",
          "text": [
            "None\n"
          ],
          "name": "stdout"
        },
        {
          "output_type": "stream",
          "text": [
            "2021-07-13 07:22:00,388 - INFO: lr: 0.05000 | Epoch: 021 | Batch: 000 | Loss: 1.21046 | Correct: 80/128\n"
          ],
          "name": "stderr"
        },
        {
          "output_type": "stream",
          "text": [
            "None\n"
          ],
          "name": "stdout"
        },
        {
          "output_type": "stream",
          "text": [
            "2021-07-13 07:22:15,868 - INFO: lr: 0.03887 | Epoch: 022 | Batch: 000 | Loss: 0.87115 | Correct: 90/128\n"
          ],
          "name": "stderr"
        },
        {
          "output_type": "stream",
          "text": [
            "None\n"
          ],
          "name": "stdout"
        },
        {
          "output_type": "stream",
          "text": [
            "2021-07-13 07:22:31,300 - INFO: lr: 0.02831 | Epoch: 023 | Batch: 000 | Loss: 1.10414 | Correct: 84/128\n"
          ],
          "name": "stderr"
        },
        {
          "output_type": "stream",
          "text": [
            "None\n"
          ],
          "name": "stdout"
        },
        {
          "output_type": "stream",
          "text": [
            "2021-07-13 07:22:46,782 - INFO: lr: 0.01883 | Epoch: 024 | Batch: 000 | Loss: 0.78504 | Correct: 90/128\n"
          ],
          "name": "stderr"
        },
        {
          "output_type": "stream",
          "text": [
            "None\n"
          ],
          "name": "stdout"
        },
        {
          "output_type": "stream",
          "text": [
            "2021-07-13 07:23:02,283 - INFO: lr: 0.01091 | Epoch: 025 | Batch: 000 | Loss: 0.82018 | Correct: 92/128\n"
          ],
          "name": "stderr"
        },
        {
          "output_type": "stream",
          "text": [
            "None\n"
          ],
          "name": "stdout"
        },
        {
          "output_type": "stream",
          "text": [
            "2021-07-13 07:23:17,731 - INFO: lr: 0.00495 | Epoch: 026 | Batch: 000 | Loss: 0.89094 | Correct: 93/128\n"
          ],
          "name": "stderr"
        },
        {
          "output_type": "stream",
          "text": [
            "None\n"
          ],
          "name": "stdout"
        },
        {
          "output_type": "stream",
          "text": [
            "2021-07-13 07:23:33,192 - INFO: lr: 0.00125 | Epoch: 027 | Batch: 000 | Loss: 0.77102 | Correct: 98/128\n"
          ],
          "name": "stderr"
        },
        {
          "output_type": "stream",
          "text": [
            "None\n"
          ],
          "name": "stdout"
        },
        {
          "output_type": "stream",
          "text": [
            "2021-07-13 07:23:47,950 - INFO: Save the snapshot model with index: 1\n",
            "2021-07-13 07:23:48,692 - INFO: n_estimators: 2 | Validation Acc: 71.652 % | Historical Best: 71.652 %\n",
            "2021-07-13 07:23:49,458 - INFO: lr: 0.10000 | Epoch: 028 | Batch: 000 | Loss: 0.70340 | Correct: 97/128\n"
          ],
          "name": "stderr"
        },
        {
          "output_type": "stream",
          "text": [
            "None\n"
          ],
          "name": "stdout"
        },
        {
          "output_type": "stream",
          "text": [
            "2021-07-13 07:24:04,946 - INFO: lr: 0.09875 | Epoch: 029 | Batch: 000 | Loss: 1.16142 | Correct: 81/128\n"
          ],
          "name": "stderr"
        },
        {
          "output_type": "stream",
          "text": [
            "None\n"
          ],
          "name": "stdout"
        },
        {
          "output_type": "stream",
          "text": [
            "2021-07-13 07:24:20,406 - INFO: lr: 0.09505 | Epoch: 030 | Batch: 000 | Loss: 1.18416 | Correct: 74/128\n"
          ],
          "name": "stderr"
        },
        {
          "output_type": "stream",
          "text": [
            "None\n"
          ],
          "name": "stdout"
        },
        {
          "output_type": "stream",
          "text": [
            "2021-07-13 07:24:35,946 - INFO: lr: 0.08909 | Epoch: 031 | Batch: 000 | Loss: 1.12703 | Correct: 79/128\n"
          ],
          "name": "stderr"
        },
        {
          "output_type": "stream",
          "text": [
            "None\n"
          ],
          "name": "stdout"
        },
        {
          "output_type": "stream",
          "text": [
            "2021-07-13 07:24:51,469 - INFO: lr: 0.08117 | Epoch: 032 | Batch: 000 | Loss: 0.73906 | Correct: 103/128\n"
          ],
          "name": "stderr"
        },
        {
          "output_type": "stream",
          "text": [
            "None\n"
          ],
          "name": "stdout"
        },
        {
          "output_type": "stream",
          "text": [
            "2021-07-13 07:25:06,973 - INFO: lr: 0.07169 | Epoch: 033 | Batch: 000 | Loss: 1.04818 | Correct: 83/128\n"
          ],
          "name": "stderr"
        },
        {
          "output_type": "stream",
          "text": [
            "None\n"
          ],
          "name": "stdout"
        },
        {
          "output_type": "stream",
          "text": [
            "2021-07-13 07:25:22,475 - INFO: lr: 0.06113 | Epoch: 034 | Batch: 000 | Loss: 0.64929 | Correct: 99/128\n"
          ],
          "name": "stderr"
        },
        {
          "output_type": "stream",
          "text": [
            "None\n"
          ],
          "name": "stdout"
        },
        {
          "output_type": "stream",
          "text": [
            "2021-07-13 07:25:37,901 - INFO: lr: 0.05000 | Epoch: 035 | Batch: 000 | Loss: 0.75534 | Correct: 99/128\n"
          ],
          "name": "stderr"
        },
        {
          "output_type": "stream",
          "text": [
            "None\n"
          ],
          "name": "stdout"
        },
        {
          "output_type": "stream",
          "text": [
            "2021-07-13 07:25:53,324 - INFO: lr: 0.03887 | Epoch: 036 | Batch: 000 | Loss: 0.68760 | Correct: 99/128\n"
          ],
          "name": "stderr"
        },
        {
          "output_type": "stream",
          "text": [
            "None\n"
          ],
          "name": "stdout"
        },
        {
          "output_type": "stream",
          "text": [
            "2021-07-13 07:26:08,781 - INFO: lr: 0.02831 | Epoch: 037 | Batch: 000 | Loss: 0.66514 | Correct: 100/128\n"
          ],
          "name": "stderr"
        },
        {
          "output_type": "stream",
          "text": [
            "None\n"
          ],
          "name": "stdout"
        },
        {
          "output_type": "stream",
          "text": [
            "2021-07-13 07:26:24,233 - INFO: lr: 0.01883 | Epoch: 038 | Batch: 000 | Loss: 0.59839 | Correct: 103/128\n"
          ],
          "name": "stderr"
        },
        {
          "output_type": "stream",
          "text": [
            "None\n"
          ],
          "name": "stdout"
        },
        {
          "output_type": "stream",
          "text": [
            "2021-07-13 07:26:39,740 - INFO: lr: 0.01091 | Epoch: 039 | Batch: 000 | Loss: 0.46488 | Correct: 108/128\n"
          ],
          "name": "stderr"
        },
        {
          "output_type": "stream",
          "text": [
            "None\n"
          ],
          "name": "stdout"
        },
        {
          "output_type": "stream",
          "text": [
            "2021-07-13 07:26:55,248 - INFO: lr: 0.00495 | Epoch: 040 | Batch: 000 | Loss: 0.52291 | Correct: 109/128\n"
          ],
          "name": "stderr"
        },
        {
          "output_type": "stream",
          "text": [
            "None\n"
          ],
          "name": "stdout"
        },
        {
          "output_type": "stream",
          "text": [
            "2021-07-13 07:27:10,723 - INFO: lr: 0.00125 | Epoch: 041 | Batch: 000 | Loss: 0.44834 | Correct: 109/128\n"
          ],
          "name": "stderr"
        },
        {
          "output_type": "stream",
          "text": [
            "None\n"
          ],
          "name": "stdout"
        },
        {
          "output_type": "stream",
          "text": [
            "2021-07-13 07:27:25,508 - INFO: Save the snapshot model with index: 2\n",
            "2021-07-13 07:27:26,304 - INFO: n_estimators: 3 | Validation Acc: 75.558 % | Historical Best: 75.558 %\n",
            "2021-07-13 07:27:27,124 - INFO: lr: 0.10000 | Epoch: 042 | Batch: 000 | Loss: 0.47175 | Correct: 109/128\n"
          ],
          "name": "stderr"
        },
        {
          "output_type": "stream",
          "text": [
            "None\n"
          ],
          "name": "stdout"
        },
        {
          "output_type": "stream",
          "text": [
            "2021-07-13 07:27:42,642 - INFO: lr: 0.09875 | Epoch: 043 | Batch: 000 | Loss: 1.00929 | Correct: 89/128\n"
          ],
          "name": "stderr"
        },
        {
          "output_type": "stream",
          "text": [
            "None\n"
          ],
          "name": "stdout"
        },
        {
          "output_type": "stream",
          "text": [
            "2021-07-13 07:27:58,211 - INFO: lr: 0.09505 | Epoch: 044 | Batch: 000 | Loss: 0.77281 | Correct: 103/128\n"
          ],
          "name": "stderr"
        },
        {
          "output_type": "stream",
          "text": [
            "None\n"
          ],
          "name": "stdout"
        },
        {
          "output_type": "stream",
          "text": [
            "2021-07-13 07:28:13,707 - INFO: lr: 0.08909 | Epoch: 045 | Batch: 000 | Loss: 0.87909 | Correct: 93/128\n"
          ],
          "name": "stderr"
        },
        {
          "output_type": "stream",
          "text": [
            "None\n"
          ],
          "name": "stdout"
        },
        {
          "output_type": "stream",
          "text": [
            "2021-07-13 07:28:29,248 - INFO: lr: 0.08117 | Epoch: 046 | Batch: 000 | Loss: 0.66112 | Correct: 102/128\n"
          ],
          "name": "stderr"
        },
        {
          "output_type": "stream",
          "text": [
            "None\n"
          ],
          "name": "stdout"
        },
        {
          "output_type": "stream",
          "text": [
            "2021-07-13 07:28:44,703 - INFO: lr: 0.07169 | Epoch: 047 | Batch: 000 | Loss: 0.62659 | Correct: 100/128\n"
          ],
          "name": "stderr"
        },
        {
          "output_type": "stream",
          "text": [
            "None\n"
          ],
          "name": "stdout"
        },
        {
          "output_type": "stream",
          "text": [
            "2021-07-13 07:29:00,195 - INFO: lr: 0.06113 | Epoch: 048 | Batch: 000 | Loss: 0.48789 | Correct: 110/128\n"
          ],
          "name": "stderr"
        },
        {
          "output_type": "stream",
          "text": [
            "None\n"
          ],
          "name": "stdout"
        },
        {
          "output_type": "stream",
          "text": [
            "2021-07-13 07:29:15,693 - INFO: lr: 0.05000 | Epoch: 049 | Batch: 000 | Loss: 0.61440 | Correct: 101/128\n"
          ],
          "name": "stderr"
        },
        {
          "output_type": "stream",
          "text": [
            "None\n"
          ],
          "name": "stdout"
        },
        {
          "output_type": "stream",
          "text": [
            "2021-07-13 07:29:31,209 - INFO: lr: 0.03887 | Epoch: 050 | Batch: 000 | Loss: 0.47904 | Correct: 103/128\n"
          ],
          "name": "stderr"
        },
        {
          "output_type": "stream",
          "text": [
            "None\n"
          ],
          "name": "stdout"
        },
        {
          "output_type": "stream",
          "text": [
            "2021-07-13 07:29:46,708 - INFO: lr: 0.02831 | Epoch: 051 | Batch: 000 | Loss: 0.44170 | Correct: 111/128\n"
          ],
          "name": "stderr"
        },
        {
          "output_type": "stream",
          "text": [
            "None\n"
          ],
          "name": "stdout"
        },
        {
          "output_type": "stream",
          "text": [
            "2021-07-13 07:30:02,225 - INFO: lr: 0.01883 | Epoch: 052 | Batch: 000 | Loss: 0.28038 | Correct: 116/128\n"
          ],
          "name": "stderr"
        },
        {
          "output_type": "stream",
          "text": [
            "None\n"
          ],
          "name": "stdout"
        },
        {
          "output_type": "stream",
          "text": [
            "2021-07-13 07:30:17,681 - INFO: lr: 0.01091 | Epoch: 053 | Batch: 000 | Loss: 0.27554 | Correct: 116/128\n"
          ],
          "name": "stderr"
        },
        {
          "output_type": "stream",
          "text": [
            "None\n"
          ],
          "name": "stdout"
        },
        {
          "output_type": "stream",
          "text": [
            "2021-07-13 07:30:33,134 - INFO: lr: 0.00495 | Epoch: 054 | Batch: 000 | Loss: 0.37852 | Correct: 111/128\n"
          ],
          "name": "stderr"
        },
        {
          "output_type": "stream",
          "text": [
            "None\n"
          ],
          "name": "stdout"
        },
        {
          "output_type": "stream",
          "text": [
            "2021-07-13 07:30:48,566 - INFO: lr: 0.00125 | Epoch: 055 | Batch: 000 | Loss: 0.27076 | Correct: 119/128\n"
          ],
          "name": "stderr"
        },
        {
          "output_type": "stream",
          "text": [
            "None\n"
          ],
          "name": "stdout"
        },
        {
          "output_type": "stream",
          "text": [
            "2021-07-13 07:31:03,335 - INFO: Save the snapshot model with index: 3\n",
            "2021-07-13 07:31:04,275 - INFO: n_estimators: 4 | Validation Acc: 76.451 % | Historical Best: 76.451 %\n",
            "2021-07-13 07:31:05,016 - INFO: lr: 0.10000 | Epoch: 056 | Batch: 000 | Loss: 0.24051 | Correct: 121/128\n"
          ],
          "name": "stderr"
        },
        {
          "output_type": "stream",
          "text": [
            "None\n"
          ],
          "name": "stdout"
        },
        {
          "output_type": "stream",
          "text": [
            "2021-07-13 07:31:20,510 - INFO: lr: 0.09875 | Epoch: 057 | Batch: 000 | Loss: 0.87107 | Correct: 94/128\n"
          ],
          "name": "stderr"
        },
        {
          "output_type": "stream",
          "text": [
            "None\n"
          ],
          "name": "stdout"
        },
        {
          "output_type": "stream",
          "text": [
            "2021-07-13 07:31:35,971 - INFO: lr: 0.09505 | Epoch: 058 | Batch: 000 | Loss: 0.47563 | Correct: 111/128\n"
          ],
          "name": "stderr"
        },
        {
          "output_type": "stream",
          "text": [
            "None\n"
          ],
          "name": "stdout"
        },
        {
          "output_type": "stream",
          "text": [
            "2021-07-13 07:31:51,446 - INFO: lr: 0.08909 | Epoch: 059 | Batch: 000 | Loss: 0.75262 | Correct: 93/128\n"
          ],
          "name": "stderr"
        },
        {
          "output_type": "stream",
          "text": [
            "None\n"
          ],
          "name": "stdout"
        },
        {
          "output_type": "stream",
          "text": [
            "2021-07-13 07:32:06,923 - INFO: lr: 0.08117 | Epoch: 060 | Batch: 000 | Loss: 0.49805 | Correct: 106/128\n"
          ],
          "name": "stderr"
        },
        {
          "output_type": "stream",
          "text": [
            "None\n"
          ],
          "name": "stdout"
        },
        {
          "output_type": "stream",
          "text": [
            "2021-07-13 07:32:22,408 - INFO: lr: 0.07169 | Epoch: 061 | Batch: 000 | Loss: 0.37172 | Correct: 114/128\n"
          ],
          "name": "stderr"
        },
        {
          "output_type": "stream",
          "text": [
            "None\n"
          ],
          "name": "stdout"
        },
        {
          "output_type": "stream",
          "text": [
            "2021-07-13 07:32:37,818 - INFO: lr: 0.06113 | Epoch: 062 | Batch: 000 | Loss: 0.41847 | Correct: 111/128\n"
          ],
          "name": "stderr"
        },
        {
          "output_type": "stream",
          "text": [
            "None\n"
          ],
          "name": "stdout"
        },
        {
          "output_type": "stream",
          "text": [
            "2021-07-13 07:32:53,285 - INFO: lr: 0.05000 | Epoch: 063 | Batch: 000 | Loss: 0.33209 | Correct: 118/128\n"
          ],
          "name": "stderr"
        },
        {
          "output_type": "stream",
          "text": [
            "None\n"
          ],
          "name": "stdout"
        },
        {
          "output_type": "stream",
          "text": [
            "2021-07-13 07:33:08,736 - INFO: lr: 0.03887 | Epoch: 064 | Batch: 000 | Loss: 0.27854 | Correct: 119/128\n"
          ],
          "name": "stderr"
        },
        {
          "output_type": "stream",
          "text": [
            "None\n"
          ],
          "name": "stdout"
        },
        {
          "output_type": "stream",
          "text": [
            "2021-07-13 07:33:24,189 - INFO: lr: 0.02831 | Epoch: 065 | Batch: 000 | Loss: 0.24011 | Correct: 119/128\n"
          ],
          "name": "stderr"
        },
        {
          "output_type": "stream",
          "text": [
            "None\n"
          ],
          "name": "stdout"
        },
        {
          "output_type": "stream",
          "text": [
            "2021-07-13 07:33:39,725 - INFO: lr: 0.01883 | Epoch: 066 | Batch: 000 | Loss: 0.27907 | Correct: 116/128\n"
          ],
          "name": "stderr"
        },
        {
          "output_type": "stream",
          "text": [
            "None\n"
          ],
          "name": "stdout"
        },
        {
          "output_type": "stream",
          "text": [
            "2021-07-13 07:33:55,216 - INFO: lr: 0.01091 | Epoch: 067 | Batch: 000 | Loss: 0.25109 | Correct: 118/128\n"
          ],
          "name": "stderr"
        },
        {
          "output_type": "stream",
          "text": [
            "None\n"
          ],
          "name": "stdout"
        },
        {
          "output_type": "stream",
          "text": [
            "2021-07-13 07:34:10,677 - INFO: lr: 0.00495 | Epoch: 068 | Batch: 000 | Loss: 0.18561 | Correct: 118/128\n"
          ],
          "name": "stderr"
        },
        {
          "output_type": "stream",
          "text": [
            "None\n"
          ],
          "name": "stdout"
        },
        {
          "output_type": "stream",
          "text": [
            "2021-07-13 07:34:26,086 - INFO: lr: 0.00125 | Epoch: 069 | Batch: 000 | Loss: 0.17564 | Correct: 122/128\n"
          ],
          "name": "stderr"
        },
        {
          "output_type": "stream",
          "text": [
            "None\n"
          ],
          "name": "stdout"
        },
        {
          "output_type": "stream",
          "text": [
            "2021-07-13 07:34:40,865 - INFO: Save the snapshot model with index: 4\n",
            "2021-07-13 07:34:41,876 - INFO: n_estimators: 5 | Validation Acc: 76.339 % | Historical Best: 76.451 %\n"
          ],
          "name": "stderr"
        },
        {
          "output_type": "stream",
          "text": [
            "Group 2 Finished!\n",
            "Target number of exemplars: 100\n",
            "Randomly extracting exemplars from class 0 of current split... Extracted 100 exemplars.\n",
            "Randomly extracting exemplars from class 1 of current split... Extracted 100 exemplars.\n",
            "Randomly extracting exemplars from class 2 of current split... Extracted 100 exemplars.\n",
            "Randomly extracting exemplars from class 3 of current split... Extracted 100 exemplars.\n",
            "Randomly extracting exemplars from class 4 of current split... Extracted 100 exemplars.\n",
            "Randomly extracting exemplars from class 5 of current split... Extracted 100 exemplars.\n",
            "Randomly extracting exemplars from class 6 of current split... Extracted 100 exemplars.\n",
            "Randomly extracting exemplars from class 7 of current split... Extracted 100 exemplars.\n",
            "Randomly extracting exemplars from class 8 of current split... Extracted 100 exemplars.\n",
            "Randomly extracting exemplars from class 9 of current split... Extracted 100 exemplars.\n",
            "[0.16979166666666667, 0.30364583333333334, 0.5041666666666667, 0.6442708333333333, 0.7817708333333333, 0.8614583333333333, 0.9364583333333333],[0.6265625, 0.5625, 0.4390625, 0.3203125, 0.2046875, 0.13333333333333333, 0.06145833333333333]\n",
            "Testing on both open and closed world\n",
            "owr harmonic mean (threshold:0.25) = 0.26718034663178547\n",
            "owr harmonic mean (threshold:0.35) = 0.3943926638604931\n",
            "owr harmonic mean (threshold:0.5) = 0.4693677526228603\n",
            "owr harmonic mean (threshold:0.6) = 0.4278904562634989\n",
            "owr harmonic mean (threshold:0.75) = 0.32443076821541705\n",
            "owr harmonic mean (threshold:0.85) = 0.23092495636998253\n",
            "owr harmonic mean (threshold:0.95) = 0.11534664231036883\n",
            "\n",
            "=============================================\n",
            "\n",
            "Length of exemplars set: 2000\n"
          ],
          "name": "stdout"
        },
        {
          "output_type": "stream",
          "text": [
            "2021-07-13 07:34:48,433 - INFO: lr: 0.10000 | Epoch: 000 | Batch: 000 | Loss: 4.78779 | Correct: 8/128\n"
          ],
          "name": "stderr"
        },
        {
          "output_type": "stream",
          "text": [
            "None\n"
          ],
          "name": "stdout"
        },
        {
          "output_type": "stream",
          "text": [
            "2021-07-13 07:35:04,168 - INFO: lr: 0.09875 | Epoch: 001 | Batch: 000 | Loss: 2.95165 | Correct: 21/128\n"
          ],
          "name": "stderr"
        },
        {
          "output_type": "stream",
          "text": [
            "None\n"
          ],
          "name": "stdout"
        },
        {
          "output_type": "stream",
          "text": [
            "2021-07-13 07:35:19,969 - INFO: lr: 0.09505 | Epoch: 002 | Batch: 000 | Loss: 2.74092 | Correct: 28/128\n"
          ],
          "name": "stderr"
        },
        {
          "output_type": "stream",
          "text": [
            "None\n"
          ],
          "name": "stdout"
        },
        {
          "output_type": "stream",
          "text": [
            "2021-07-13 07:35:35,794 - INFO: lr: 0.08909 | Epoch: 003 | Batch: 000 | Loss: 2.57431 | Correct: 32/128\n"
          ],
          "name": "stderr"
        },
        {
          "output_type": "stream",
          "text": [
            "None\n"
          ],
          "name": "stdout"
        },
        {
          "output_type": "stream",
          "text": [
            "2021-07-13 07:35:51,632 - INFO: lr: 0.08117 | Epoch: 004 | Batch: 000 | Loss: 2.33787 | Correct: 43/128\n"
          ],
          "name": "stderr"
        },
        {
          "output_type": "stream",
          "text": [
            "None\n"
          ],
          "name": "stdout"
        },
        {
          "output_type": "stream",
          "text": [
            "2021-07-13 07:36:07,451 - INFO: lr: 0.07169 | Epoch: 005 | Batch: 000 | Loss: 2.02338 | Correct: 54/128\n"
          ],
          "name": "stderr"
        },
        {
          "output_type": "stream",
          "text": [
            "None\n"
          ],
          "name": "stdout"
        },
        {
          "output_type": "stream",
          "text": [
            "2021-07-13 07:36:23,207 - INFO: lr: 0.06113 | Epoch: 006 | Batch: 000 | Loss: 2.07545 | Correct: 46/128\n"
          ],
          "name": "stderr"
        },
        {
          "output_type": "stream",
          "text": [
            "None\n"
          ],
          "name": "stdout"
        },
        {
          "output_type": "stream",
          "text": [
            "2021-07-13 07:36:38,940 - INFO: lr: 0.05000 | Epoch: 007 | Batch: 000 | Loss: 1.99522 | Correct: 52/128\n"
          ],
          "name": "stderr"
        },
        {
          "output_type": "stream",
          "text": [
            "None\n"
          ],
          "name": "stdout"
        },
        {
          "output_type": "stream",
          "text": [
            "2021-07-13 07:36:54,717 - INFO: lr: 0.03887 | Epoch: 008 | Batch: 000 | Loss: 1.93078 | Correct: 51/128\n"
          ],
          "name": "stderr"
        },
        {
          "output_type": "stream",
          "text": [
            "None\n"
          ],
          "name": "stdout"
        },
        {
          "output_type": "stream",
          "text": [
            "2021-07-13 07:37:10,476 - INFO: lr: 0.02831 | Epoch: 009 | Batch: 000 | Loss: 1.78899 | Correct: 61/128\n"
          ],
          "name": "stderr"
        },
        {
          "output_type": "stream",
          "text": [
            "None\n"
          ],
          "name": "stdout"
        },
        {
          "output_type": "stream",
          "text": [
            "2021-07-13 07:37:26,278 - INFO: lr: 0.01883 | Epoch: 010 | Batch: 000 | Loss: 1.70763 | Correct: 66/128\n"
          ],
          "name": "stderr"
        },
        {
          "output_type": "stream",
          "text": [
            "None\n"
          ],
          "name": "stdout"
        },
        {
          "output_type": "stream",
          "text": [
            "2021-07-13 07:37:42,088 - INFO: lr: 0.01091 | Epoch: 011 | Batch: 000 | Loss: 1.80430 | Correct: 69/128\n"
          ],
          "name": "stderr"
        },
        {
          "output_type": "stream",
          "text": [
            "None\n"
          ],
          "name": "stdout"
        },
        {
          "output_type": "stream",
          "text": [
            "2021-07-13 07:37:57,898 - INFO: lr: 0.00495 | Epoch: 012 | Batch: 000 | Loss: 1.43478 | Correct: 72/128\n"
          ],
          "name": "stderr"
        },
        {
          "output_type": "stream",
          "text": [
            "None\n"
          ],
          "name": "stdout"
        },
        {
          "output_type": "stream",
          "text": [
            "2021-07-13 07:38:13,668 - INFO: lr: 0.00125 | Epoch: 013 | Batch: 000 | Loss: 1.67470 | Correct: 65/128\n"
          ],
          "name": "stderr"
        },
        {
          "output_type": "stream",
          "text": [
            "None\n"
          ],
          "name": "stdout"
        },
        {
          "output_type": "stream",
          "text": [
            "2021-07-13 07:38:28,738 - INFO: Save the snapshot model with index: 0\n",
            "2021-07-13 07:38:29,330 - INFO: n_estimators: 1 | Validation Acc: 61.719 % | Historical Best: 61.719 %\n",
            "2021-07-13 07:38:30,074 - INFO: lr: 0.10000 | Epoch: 014 | Batch: 000 | Loss: 1.56163 | Correct: 69/128\n"
          ],
          "name": "stderr"
        },
        {
          "output_type": "stream",
          "text": [
            "None\n"
          ],
          "name": "stdout"
        },
        {
          "output_type": "stream",
          "text": [
            "2021-07-13 07:38:45,888 - INFO: lr: 0.09875 | Epoch: 015 | Batch: 000 | Loss: 2.01027 | Correct: 54/128\n"
          ],
          "name": "stderr"
        },
        {
          "output_type": "stream",
          "text": [
            "None\n"
          ],
          "name": "stdout"
        },
        {
          "output_type": "stream",
          "text": [
            "2021-07-13 07:39:01,659 - INFO: lr: 0.09505 | Epoch: 016 | Batch: 000 | Loss: 1.66195 | Correct: 64/128\n"
          ],
          "name": "stderr"
        },
        {
          "output_type": "stream",
          "text": [
            "None\n"
          ],
          "name": "stdout"
        },
        {
          "output_type": "stream",
          "text": [
            "2021-07-13 07:39:17,455 - INFO: lr: 0.08909 | Epoch: 017 | Batch: 000 | Loss: 1.77344 | Correct: 60/128\n"
          ],
          "name": "stderr"
        },
        {
          "output_type": "stream",
          "text": [
            "None\n"
          ],
          "name": "stdout"
        },
        {
          "output_type": "stream",
          "text": [
            "2021-07-13 07:39:33,238 - INFO: lr: 0.08117 | Epoch: 018 | Batch: 000 | Loss: 1.68689 | Correct: 63/128\n"
          ],
          "name": "stderr"
        },
        {
          "output_type": "stream",
          "text": [
            "None\n"
          ],
          "name": "stdout"
        },
        {
          "output_type": "stream",
          "text": [
            "2021-07-13 07:39:48,984 - INFO: lr: 0.07169 | Epoch: 019 | Batch: 000 | Loss: 1.40388 | Correct: 73/128\n"
          ],
          "name": "stderr"
        },
        {
          "output_type": "stream",
          "text": [
            "None\n"
          ],
          "name": "stdout"
        },
        {
          "output_type": "stream",
          "text": [
            "2021-07-13 07:40:04,816 - INFO: lr: 0.06113 | Epoch: 020 | Batch: 000 | Loss: 1.53727 | Correct: 61/128\n"
          ],
          "name": "stderr"
        },
        {
          "output_type": "stream",
          "text": [
            "None\n"
          ],
          "name": "stdout"
        },
        {
          "output_type": "stream",
          "text": [
            "2021-07-13 07:40:20,553 - INFO: lr: 0.05000 | Epoch: 021 | Batch: 000 | Loss: 1.58045 | Correct: 65/128\n"
          ],
          "name": "stderr"
        },
        {
          "output_type": "stream",
          "text": [
            "None\n"
          ],
          "name": "stdout"
        },
        {
          "output_type": "stream",
          "text": [
            "2021-07-13 07:40:36,354 - INFO: lr: 0.03887 | Epoch: 022 | Batch: 000 | Loss: 1.23288 | Correct: 81/128\n"
          ],
          "name": "stderr"
        },
        {
          "output_type": "stream",
          "text": [
            "None\n"
          ],
          "name": "stdout"
        },
        {
          "output_type": "stream",
          "text": [
            "2021-07-13 07:40:52,149 - INFO: lr: 0.02831 | Epoch: 023 | Batch: 000 | Loss: 1.32572 | Correct: 78/128\n"
          ],
          "name": "stderr"
        },
        {
          "output_type": "stream",
          "text": [
            "None\n"
          ],
          "name": "stdout"
        },
        {
          "output_type": "stream",
          "text": [
            "2021-07-13 07:41:07,980 - INFO: lr: 0.01883 | Epoch: 024 | Batch: 000 | Loss: 1.13916 | Correct: 86/128\n"
          ],
          "name": "stderr"
        },
        {
          "output_type": "stream",
          "text": [
            "None\n"
          ],
          "name": "stdout"
        },
        {
          "output_type": "stream",
          "text": [
            "2021-07-13 07:41:23,785 - INFO: lr: 0.01091 | Epoch: 025 | Batch: 000 | Loss: 0.95796 | Correct: 93/128\n"
          ],
          "name": "stderr"
        },
        {
          "output_type": "stream",
          "text": [
            "None\n"
          ],
          "name": "stdout"
        },
        {
          "output_type": "stream",
          "text": [
            "2021-07-13 07:41:39,597 - INFO: lr: 0.00495 | Epoch: 026 | Batch: 000 | Loss: 0.93700 | Correct: 94/128\n"
          ],
          "name": "stderr"
        },
        {
          "output_type": "stream",
          "text": [
            "None\n"
          ],
          "name": "stdout"
        },
        {
          "output_type": "stream",
          "text": [
            "2021-07-13 07:41:55,369 - INFO: lr: 0.00125 | Epoch: 027 | Batch: 000 | Loss: 0.92190 | Correct: 94/128\n"
          ],
          "name": "stderr"
        },
        {
          "output_type": "stream",
          "text": [
            "None\n"
          ],
          "name": "stdout"
        },
        {
          "output_type": "stream",
          "text": [
            "2021-07-13 07:42:10,452 - INFO: Save the snapshot model with index: 1\n",
            "2021-07-13 07:42:11,168 - INFO: n_estimators: 2 | Validation Acc: 71.094 % | Historical Best: 71.094 %\n",
            "2021-07-13 07:42:11,920 - INFO: lr: 0.10000 | Epoch: 028 | Batch: 000 | Loss: 0.83264 | Correct: 97/128\n"
          ],
          "name": "stderr"
        },
        {
          "output_type": "stream",
          "text": [
            "None\n"
          ],
          "name": "stdout"
        },
        {
          "output_type": "stream",
          "text": [
            "2021-07-13 07:42:27,701 - INFO: lr: 0.09875 | Epoch: 029 | Batch: 000 | Loss: 1.72856 | Correct: 67/128\n"
          ],
          "name": "stderr"
        },
        {
          "output_type": "stream",
          "text": [
            "None\n"
          ],
          "name": "stdout"
        },
        {
          "output_type": "stream",
          "text": [
            "2021-07-13 07:42:43,519 - INFO: lr: 0.09505 | Epoch: 030 | Batch: 000 | Loss: 1.19130 | Correct: 83/128\n"
          ],
          "name": "stderr"
        },
        {
          "output_type": "stream",
          "text": [
            "None\n"
          ],
          "name": "stdout"
        },
        {
          "output_type": "stream",
          "text": [
            "2021-07-13 07:42:59,340 - INFO: lr: 0.08909 | Epoch: 031 | Batch: 000 | Loss: 1.21018 | Correct: 80/128\n"
          ],
          "name": "stderr"
        },
        {
          "output_type": "stream",
          "text": [
            "None\n"
          ],
          "name": "stdout"
        },
        {
          "output_type": "stream",
          "text": [
            "2021-07-13 07:43:15,202 - INFO: lr: 0.08117 | Epoch: 032 | Batch: 000 | Loss: 1.15701 | Correct: 80/128\n"
          ],
          "name": "stderr"
        },
        {
          "output_type": "stream",
          "text": [
            "None\n"
          ],
          "name": "stdout"
        },
        {
          "output_type": "stream",
          "text": [
            "2021-07-13 07:43:31,011 - INFO: lr: 0.07169 | Epoch: 033 | Batch: 000 | Loss: 1.14861 | Correct: 79/128\n"
          ],
          "name": "stderr"
        },
        {
          "output_type": "stream",
          "text": [
            "None\n"
          ],
          "name": "stdout"
        },
        {
          "output_type": "stream",
          "text": [
            "2021-07-13 07:43:46,835 - INFO: lr: 0.06113 | Epoch: 034 | Batch: 000 | Loss: 0.95417 | Correct: 93/128\n"
          ],
          "name": "stderr"
        },
        {
          "output_type": "stream",
          "text": [
            "None\n"
          ],
          "name": "stdout"
        },
        {
          "output_type": "stream",
          "text": [
            "2021-07-13 07:44:02,649 - INFO: lr: 0.05000 | Epoch: 035 | Batch: 000 | Loss: 0.98744 | Correct: 94/128\n"
          ],
          "name": "stderr"
        },
        {
          "output_type": "stream",
          "text": [
            "None\n"
          ],
          "name": "stdout"
        },
        {
          "output_type": "stream",
          "text": [
            "2021-07-13 07:44:18,435 - INFO: lr: 0.03887 | Epoch: 036 | Batch: 000 | Loss: 0.79134 | Correct: 97/128\n"
          ],
          "name": "stderr"
        },
        {
          "output_type": "stream",
          "text": [
            "None\n"
          ],
          "name": "stdout"
        },
        {
          "output_type": "stream",
          "text": [
            "2021-07-13 07:44:34,237 - INFO: lr: 0.02831 | Epoch: 037 | Batch: 000 | Loss: 0.68104 | Correct: 104/128\n"
          ],
          "name": "stderr"
        },
        {
          "output_type": "stream",
          "text": [
            "None\n"
          ],
          "name": "stdout"
        },
        {
          "output_type": "stream",
          "text": [
            "2021-07-13 07:44:50,019 - INFO: lr: 0.01883 | Epoch: 038 | Batch: 000 | Loss: 0.71157 | Correct: 102/128\n"
          ],
          "name": "stderr"
        },
        {
          "output_type": "stream",
          "text": [
            "None\n"
          ],
          "name": "stdout"
        },
        {
          "output_type": "stream",
          "text": [
            "2021-07-13 07:45:05,764 - INFO: lr: 0.01091 | Epoch: 039 | Batch: 000 | Loss: 0.64067 | Correct: 101/128\n"
          ],
          "name": "stderr"
        },
        {
          "output_type": "stream",
          "text": [
            "None\n"
          ],
          "name": "stdout"
        },
        {
          "output_type": "stream",
          "text": [
            "2021-07-13 07:45:21,533 - INFO: lr: 0.00495 | Epoch: 040 | Batch: 000 | Loss: 0.63886 | Correct: 106/128\n"
          ],
          "name": "stderr"
        },
        {
          "output_type": "stream",
          "text": [
            "None\n"
          ],
          "name": "stdout"
        },
        {
          "output_type": "stream",
          "text": [
            "2021-07-13 07:45:37,320 - INFO: lr: 0.00125 | Epoch: 041 | Batch: 000 | Loss: 0.56687 | Correct: 112/128\n"
          ],
          "name": "stderr"
        },
        {
          "output_type": "stream",
          "text": [
            "None\n"
          ],
          "name": "stdout"
        },
        {
          "output_type": "stream",
          "text": [
            "2021-07-13 07:45:52,386 - INFO: Save the snapshot model with index: 2\n",
            "2021-07-13 07:45:53,195 - INFO: n_estimators: 3 | Validation Acc: 75.000 % | Historical Best: 75.000 %\n",
            "2021-07-13 07:45:53,989 - INFO: lr: 0.10000 | Epoch: 042 | Batch: 000 | Loss: 0.45898 | Correct: 113/128\n"
          ],
          "name": "stderr"
        },
        {
          "output_type": "stream",
          "text": [
            "None\n"
          ],
          "name": "stdout"
        },
        {
          "output_type": "stream",
          "text": [
            "2021-07-13 07:46:09,797 - INFO: lr: 0.09875 | Epoch: 043 | Batch: 000 | Loss: 1.13595 | Correct: 81/128\n"
          ],
          "name": "stderr"
        },
        {
          "output_type": "stream",
          "text": [
            "None\n"
          ],
          "name": "stdout"
        },
        {
          "output_type": "stream",
          "text": [
            "2021-07-13 07:46:25,525 - INFO: lr: 0.09505 | Epoch: 044 | Batch: 000 | Loss: 1.09901 | Correct: 88/128\n"
          ],
          "name": "stderr"
        },
        {
          "output_type": "stream",
          "text": [
            "None\n"
          ],
          "name": "stdout"
        },
        {
          "output_type": "stream",
          "text": [
            "2021-07-13 07:46:41,288 - INFO: lr: 0.08909 | Epoch: 045 | Batch: 000 | Loss: 0.82455 | Correct: 94/128\n"
          ],
          "name": "stderr"
        },
        {
          "output_type": "stream",
          "text": [
            "None\n"
          ],
          "name": "stdout"
        },
        {
          "output_type": "stream",
          "text": [
            "2021-07-13 07:46:57,076 - INFO: lr: 0.08117 | Epoch: 046 | Batch: 000 | Loss: 0.73516 | Correct: 105/128\n"
          ],
          "name": "stderr"
        },
        {
          "output_type": "stream",
          "text": [
            "None\n"
          ],
          "name": "stdout"
        },
        {
          "output_type": "stream",
          "text": [
            "2021-07-13 07:47:12,903 - INFO: lr: 0.07169 | Epoch: 047 | Batch: 000 | Loss: 0.63912 | Correct: 99/128\n"
          ],
          "name": "stderr"
        },
        {
          "output_type": "stream",
          "text": [
            "None\n"
          ],
          "name": "stdout"
        },
        {
          "output_type": "stream",
          "text": [
            "2021-07-13 07:47:28,700 - INFO: lr: 0.06113 | Epoch: 048 | Batch: 000 | Loss: 0.62409 | Correct: 99/128\n"
          ],
          "name": "stderr"
        },
        {
          "output_type": "stream",
          "text": [
            "None\n"
          ],
          "name": "stdout"
        },
        {
          "output_type": "stream",
          "text": [
            "2021-07-13 07:47:44,500 - INFO: lr: 0.05000 | Epoch: 049 | Batch: 000 | Loss: 0.52279 | Correct: 104/128\n"
          ],
          "name": "stderr"
        },
        {
          "output_type": "stream",
          "text": [
            "None\n"
          ],
          "name": "stdout"
        },
        {
          "output_type": "stream",
          "text": [
            "2021-07-13 07:48:00,238 - INFO: lr: 0.03887 | Epoch: 050 | Batch: 000 | Loss: 0.56800 | Correct: 108/128\n"
          ],
          "name": "stderr"
        },
        {
          "output_type": "stream",
          "text": [
            "None\n"
          ],
          "name": "stdout"
        },
        {
          "output_type": "stream",
          "text": [
            "2021-07-13 07:48:16,025 - INFO: lr: 0.02831 | Epoch: 051 | Batch: 000 | Loss: 0.55833 | Correct: 107/128\n"
          ],
          "name": "stderr"
        },
        {
          "output_type": "stream",
          "text": [
            "None\n"
          ],
          "name": "stdout"
        },
        {
          "output_type": "stream",
          "text": [
            "2021-07-13 07:48:31,823 - INFO: lr: 0.01883 | Epoch: 052 | Batch: 000 | Loss: 0.33854 | Correct: 116/128\n"
          ],
          "name": "stderr"
        },
        {
          "output_type": "stream",
          "text": [
            "None\n"
          ],
          "name": "stdout"
        },
        {
          "output_type": "stream",
          "text": [
            "2021-07-13 07:48:47,601 - INFO: lr: 0.01091 | Epoch: 053 | Batch: 000 | Loss: 0.32667 | Correct: 114/128\n"
          ],
          "name": "stderr"
        },
        {
          "output_type": "stream",
          "text": [
            "None\n"
          ],
          "name": "stdout"
        },
        {
          "output_type": "stream",
          "text": [
            "2021-07-13 07:49:03,317 - INFO: lr: 0.00495 | Epoch: 054 | Batch: 000 | Loss: 0.29697 | Correct: 118/128\n"
          ],
          "name": "stderr"
        },
        {
          "output_type": "stream",
          "text": [
            "None\n"
          ],
          "name": "stdout"
        },
        {
          "output_type": "stream",
          "text": [
            "2021-07-13 07:49:19,127 - INFO: lr: 0.00125 | Epoch: 055 | Batch: 000 | Loss: 0.37005 | Correct: 117/128\n"
          ],
          "name": "stderr"
        },
        {
          "output_type": "stream",
          "text": [
            "None\n"
          ],
          "name": "stdout"
        },
        {
          "output_type": "stream",
          "text": [
            "2021-07-13 07:49:34,191 - INFO: Save the snapshot model with index: 3\n",
            "2021-07-13 07:49:35,133 - INFO: n_estimators: 4 | Validation Acc: 77.344 % | Historical Best: 77.344 %\n",
            "2021-07-13 07:49:35,906 - INFO: lr: 0.10000 | Epoch: 056 | Batch: 000 | Loss: 0.27104 | Correct: 122/128\n"
          ],
          "name": "stderr"
        },
        {
          "output_type": "stream",
          "text": [
            "None\n"
          ],
          "name": "stdout"
        },
        {
          "output_type": "stream",
          "text": [
            "2021-07-13 07:49:51,740 - INFO: lr: 0.09875 | Epoch: 057 | Batch: 000 | Loss: 0.83110 | Correct: 98/128\n"
          ],
          "name": "stderr"
        },
        {
          "output_type": "stream",
          "text": [
            "None\n"
          ],
          "name": "stdout"
        },
        {
          "output_type": "stream",
          "text": [
            "2021-07-13 07:50:07,550 - INFO: lr: 0.09505 | Epoch: 058 | Batch: 000 | Loss: 1.02112 | Correct: 88/128\n"
          ],
          "name": "stderr"
        },
        {
          "output_type": "stream",
          "text": [
            "None\n"
          ],
          "name": "stdout"
        },
        {
          "output_type": "stream",
          "text": [
            "2021-07-13 07:50:23,319 - INFO: lr: 0.08909 | Epoch: 059 | Batch: 000 | Loss: 0.75159 | Correct: 103/128\n"
          ],
          "name": "stderr"
        },
        {
          "output_type": "stream",
          "text": [
            "None\n"
          ],
          "name": "stdout"
        },
        {
          "output_type": "stream",
          "text": [
            "2021-07-13 07:50:39,072 - INFO: lr: 0.08117 | Epoch: 060 | Batch: 000 | Loss: 0.71550 | Correct: 100/128\n"
          ],
          "name": "stderr"
        },
        {
          "output_type": "stream",
          "text": [
            "None\n"
          ],
          "name": "stdout"
        },
        {
          "output_type": "stream",
          "text": [
            "2021-07-13 07:50:54,843 - INFO: lr: 0.07169 | Epoch: 061 | Batch: 000 | Loss: 0.43922 | Correct: 113/128\n"
          ],
          "name": "stderr"
        },
        {
          "output_type": "stream",
          "text": [
            "None\n"
          ],
          "name": "stdout"
        },
        {
          "output_type": "stream",
          "text": [
            "2021-07-13 07:51:10,657 - INFO: lr: 0.06113 | Epoch: 062 | Batch: 000 | Loss: 0.41934 | Correct: 108/128\n"
          ],
          "name": "stderr"
        },
        {
          "output_type": "stream",
          "text": [
            "None\n"
          ],
          "name": "stdout"
        },
        {
          "output_type": "stream",
          "text": [
            "2021-07-13 07:51:26,459 - INFO: lr: 0.05000 | Epoch: 063 | Batch: 000 | Loss: 0.37467 | Correct: 114/128\n"
          ],
          "name": "stderr"
        },
        {
          "output_type": "stream",
          "text": [
            "None\n"
          ],
          "name": "stdout"
        },
        {
          "output_type": "stream",
          "text": [
            "2021-07-13 07:51:42,236 - INFO: lr: 0.03887 | Epoch: 064 | Batch: 000 | Loss: 0.30266 | Correct: 119/128\n"
          ],
          "name": "stderr"
        },
        {
          "output_type": "stream",
          "text": [
            "None\n"
          ],
          "name": "stdout"
        },
        {
          "output_type": "stream",
          "text": [
            "2021-07-13 07:51:58,017 - INFO: lr: 0.02831 | Epoch: 065 | Batch: 000 | Loss: 0.18400 | Correct: 125/128\n"
          ],
          "name": "stderr"
        },
        {
          "output_type": "stream",
          "text": [
            "None\n"
          ],
          "name": "stdout"
        },
        {
          "output_type": "stream",
          "text": [
            "2021-07-13 07:52:13,804 - INFO: lr: 0.01883 | Epoch: 066 | Batch: 000 | Loss: 0.21582 | Correct: 120/128\n"
          ],
          "name": "stderr"
        },
        {
          "output_type": "stream",
          "text": [
            "None\n"
          ],
          "name": "stdout"
        },
        {
          "output_type": "stream",
          "text": [
            "2021-07-13 07:52:29,604 - INFO: lr: 0.01091 | Epoch: 067 | Batch: 000 | Loss: 0.14787 | Correct: 125/128\n"
          ],
          "name": "stderr"
        },
        {
          "output_type": "stream",
          "text": [
            "None\n"
          ],
          "name": "stdout"
        },
        {
          "output_type": "stream",
          "text": [
            "2021-07-13 07:52:45,380 - INFO: lr: 0.00495 | Epoch: 068 | Batch: 000 | Loss: 0.12448 | Correct: 125/128\n"
          ],
          "name": "stderr"
        },
        {
          "output_type": "stream",
          "text": [
            "None\n"
          ],
          "name": "stdout"
        },
        {
          "output_type": "stream",
          "text": [
            "2021-07-13 07:53:01,177 - INFO: lr: 0.00125 | Epoch: 069 | Batch: 000 | Loss: 0.18522 | Correct: 122/128\n"
          ],
          "name": "stderr"
        },
        {
          "output_type": "stream",
          "text": [
            "None\n"
          ],
          "name": "stdout"
        },
        {
          "output_type": "stream",
          "text": [
            "2021-07-13 07:53:16,216 - INFO: Save the snapshot model with index: 4\n",
            "2021-07-13 07:53:17,267 - INFO: n_estimators: 5 | Validation Acc: 78.125 % | Historical Best: 78.125 %\n"
          ],
          "name": "stderr"
        },
        {
          "output_type": "stream",
          "text": [
            "Group 3 Finished!\n",
            "Target number of exemplars: 66\n",
            "Randomly extracting exemplars from class 0 of current split... Extracted 66 exemplars.\n",
            "Randomly extracting exemplars from class 1 of current split... Extracted 66 exemplars.\n",
            "Randomly extracting exemplars from class 2 of current split... Extracted 66 exemplars.\n",
            "Randomly extracting exemplars from class 3 of current split... Extracted 66 exemplars.\n",
            "Randomly extracting exemplars from class 4 of current split... Extracted 66 exemplars.\n",
            "Randomly extracting exemplars from class 5 of current split... Extracted 66 exemplars.\n",
            "Randomly extracting exemplars from class 6 of current split... Extracted 66 exemplars.\n",
            "Randomly extracting exemplars from class 7 of current split... Extracted 66 exemplars.\n",
            "Randomly extracting exemplars from class 8 of current split... Extracted 66 exemplars.\n",
            "Randomly extracting exemplars from class 9 of current split... Extracted 66 exemplars.\n",
            "[0.23709239130434784, 0.39639945652173914, 0.6134510869565217, 0.7503396739130435, 0.8495244565217391, 0.9130434782608695, 0.9667119565217391],[0.522078804347826, 0.4548233695652174, 0.32438858695652173, 0.22316576086956522, 0.14198369565217392, 0.08457880434782608, 0.03294836956521739]\n",
            "Testing on both open and closed world\n",
            "owr harmonic mean (threshold:0.25) = 0.3260948594494699\n",
            "owr harmonic mean (threshold:0.35) = 0.42360644236441236\n",
            "owr harmonic mean (threshold:0.5) = 0.42437217533029936\n",
            "owr harmonic mean (threshold:0.6) = 0.34401477024484967\n",
            "owr harmonic mean (threshold:0.75) = 0.24330333869550325\n",
            "owr harmonic mean (threshold:0.85) = 0.15481636097171025\n",
            "owr harmonic mean (threshold:0.95) = 0.06372481126918701\n",
            "\n",
            "=============================================\n",
            "\n",
            "Length of exemplars set: 1980\n"
          ],
          "name": "stdout"
        },
        {
          "output_type": "stream",
          "text": [
            "2021-07-13 07:53:25,579 - INFO: lr: 0.10000 | Epoch: 000 | Batch: 000 | Loss: 4.99522 | Correct: 1/128\n"
          ],
          "name": "stderr"
        },
        {
          "output_type": "stream",
          "text": [
            "None\n"
          ],
          "name": "stdout"
        },
        {
          "output_type": "stream",
          "text": [
            "2021-07-13 07:53:41,748 - INFO: lr: 0.09875 | Epoch: 001 | Batch: 000 | Loss: 2.79073 | Correct: 33/128\n"
          ],
          "name": "stderr"
        },
        {
          "output_type": "stream",
          "text": [
            "None\n"
          ],
          "name": "stdout"
        },
        {
          "output_type": "stream",
          "text": [
            "2021-07-13 07:53:57,930 - INFO: lr: 0.09505 | Epoch: 002 | Batch: 000 | Loss: 3.03030 | Correct: 26/128\n"
          ],
          "name": "stderr"
        },
        {
          "output_type": "stream",
          "text": [
            "None\n"
          ],
          "name": "stdout"
        },
        {
          "output_type": "stream",
          "text": [
            "2021-07-13 07:54:14,103 - INFO: lr: 0.08909 | Epoch: 003 | Batch: 000 | Loss: 2.43310 | Correct: 40/128\n"
          ],
          "name": "stderr"
        },
        {
          "output_type": "stream",
          "text": [
            "None\n"
          ],
          "name": "stdout"
        },
        {
          "output_type": "stream",
          "text": [
            "2021-07-13 07:54:30,293 - INFO: lr: 0.08117 | Epoch: 004 | Batch: 000 | Loss: 2.27332 | Correct: 51/128\n"
          ],
          "name": "stderr"
        },
        {
          "output_type": "stream",
          "text": [
            "None\n"
          ],
          "name": "stdout"
        },
        {
          "output_type": "stream",
          "text": [
            "2021-07-13 07:54:46,460 - INFO: lr: 0.07169 | Epoch: 005 | Batch: 000 | Loss: 2.15965 | Correct: 53/128\n"
          ],
          "name": "stderr"
        },
        {
          "output_type": "stream",
          "text": [
            "None\n"
          ],
          "name": "stdout"
        },
        {
          "output_type": "stream",
          "text": [
            "2021-07-13 07:55:02,636 - INFO: lr: 0.06113 | Epoch: 006 | Batch: 000 | Loss: 2.01643 | Correct: 56/128\n"
          ],
          "name": "stderr"
        },
        {
          "output_type": "stream",
          "text": [
            "None\n"
          ],
          "name": "stdout"
        },
        {
          "output_type": "stream",
          "text": [
            "2021-07-13 07:55:18,797 - INFO: lr: 0.05000 | Epoch: 007 | Batch: 000 | Loss: 2.04700 | Correct: 55/128\n"
          ],
          "name": "stderr"
        },
        {
          "output_type": "stream",
          "text": [
            "None\n"
          ],
          "name": "stdout"
        },
        {
          "output_type": "stream",
          "text": [
            "2021-07-13 07:55:34,901 - INFO: lr: 0.03887 | Epoch: 008 | Batch: 000 | Loss: 1.90195 | Correct: 59/128\n"
          ],
          "name": "stderr"
        },
        {
          "output_type": "stream",
          "text": [
            "None\n"
          ],
          "name": "stdout"
        },
        {
          "output_type": "stream",
          "text": [
            "2021-07-13 07:55:51,034 - INFO: lr: 0.02831 | Epoch: 009 | Batch: 000 | Loss: 1.73213 | Correct: 73/128\n"
          ],
          "name": "stderr"
        },
        {
          "output_type": "stream",
          "text": [
            "None\n"
          ],
          "name": "stdout"
        },
        {
          "output_type": "stream",
          "text": [
            "2021-07-13 07:56:07,171 - INFO: lr: 0.01883 | Epoch: 010 | Batch: 000 | Loss: 1.81474 | Correct: 58/128\n"
          ],
          "name": "stderr"
        },
        {
          "output_type": "stream",
          "text": [
            "None\n"
          ],
          "name": "stdout"
        },
        {
          "output_type": "stream",
          "text": [
            "2021-07-13 07:56:23,282 - INFO: lr: 0.01091 | Epoch: 011 | Batch: 000 | Loss: 2.10781 | Correct: 49/128\n"
          ],
          "name": "stderr"
        },
        {
          "output_type": "stream",
          "text": [
            "None\n"
          ],
          "name": "stdout"
        },
        {
          "output_type": "stream",
          "text": [
            "2021-07-13 07:56:39,442 - INFO: lr: 0.00495 | Epoch: 012 | Batch: 000 | Loss: 1.89782 | Correct: 64/128\n"
          ],
          "name": "stderr"
        },
        {
          "output_type": "stream",
          "text": [
            "None\n"
          ],
          "name": "stdout"
        },
        {
          "output_type": "stream",
          "text": [
            "2021-07-13 07:56:55,588 - INFO: lr: 0.00125 | Epoch: 013 | Batch: 000 | Loss: 1.70236 | Correct: 65/128\n"
          ],
          "name": "stderr"
        },
        {
          "output_type": "stream",
          "text": [
            "None\n"
          ],
          "name": "stdout"
        },
        {
          "output_type": "stream",
          "text": [
            "2021-07-13 07:57:11,004 - INFO: Save the snapshot model with index: 0\n",
            "2021-07-13 07:57:11,608 - INFO: n_estimators: 1 | Validation Acc: 63.728 % | Historical Best: 63.728 %\n",
            "2021-07-13 07:57:12,399 - INFO: lr: 0.10000 | Epoch: 014 | Batch: 000 | Loss: 1.62679 | Correct: 69/128\n"
          ],
          "name": "stderr"
        },
        {
          "output_type": "stream",
          "text": [
            "None\n"
          ],
          "name": "stdout"
        },
        {
          "output_type": "stream",
          "text": [
            "2021-07-13 07:57:28,545 - INFO: lr: 0.09875 | Epoch: 015 | Batch: 000 | Loss: 2.19271 | Correct: 51/128\n"
          ],
          "name": "stderr"
        },
        {
          "output_type": "stream",
          "text": [
            "None\n"
          ],
          "name": "stdout"
        },
        {
          "output_type": "stream",
          "text": [
            "2021-07-13 07:57:44,711 - INFO: lr: 0.09505 | Epoch: 016 | Batch: 000 | Loss: 1.92944 | Correct: 57/128\n"
          ],
          "name": "stderr"
        },
        {
          "output_type": "stream",
          "text": [
            "None\n"
          ],
          "name": "stdout"
        },
        {
          "output_type": "stream",
          "text": [
            "2021-07-13 07:58:00,926 - INFO: lr: 0.08909 | Epoch: 017 | Batch: 000 | Loss: 1.47633 | Correct: 73/128\n"
          ],
          "name": "stderr"
        },
        {
          "output_type": "stream",
          "text": [
            "None\n"
          ],
          "name": "stdout"
        },
        {
          "output_type": "stream",
          "text": [
            "2021-07-13 07:58:17,086 - INFO: lr: 0.08117 | Epoch: 018 | Batch: 000 | Loss: 1.86349 | Correct: 67/128\n"
          ],
          "name": "stderr"
        },
        {
          "output_type": "stream",
          "text": [
            "None\n"
          ],
          "name": "stdout"
        },
        {
          "output_type": "stream",
          "text": [
            "2021-07-13 07:58:33,237 - INFO: lr: 0.07169 | Epoch: 019 | Batch: 000 | Loss: 1.59398 | Correct: 69/128\n"
          ],
          "name": "stderr"
        },
        {
          "output_type": "stream",
          "text": [
            "None\n"
          ],
          "name": "stdout"
        },
        {
          "output_type": "stream",
          "text": [
            "2021-07-13 07:58:49,387 - INFO: lr: 0.06113 | Epoch: 020 | Batch: 000 | Loss: 1.52448 | Correct: 70/128\n"
          ],
          "name": "stderr"
        },
        {
          "output_type": "stream",
          "text": [
            "None\n"
          ],
          "name": "stdout"
        },
        {
          "output_type": "stream",
          "text": [
            "2021-07-13 07:59:05,524 - INFO: lr: 0.05000 | Epoch: 021 | Batch: 000 | Loss: 1.63079 | Correct: 70/128\n"
          ],
          "name": "stderr"
        },
        {
          "output_type": "stream",
          "text": [
            "None\n"
          ],
          "name": "stdout"
        },
        {
          "output_type": "stream",
          "text": [
            "2021-07-13 07:59:21,709 - INFO: lr: 0.03887 | Epoch: 022 | Batch: 000 | Loss: 1.25630 | Correct: 79/128\n"
          ],
          "name": "stderr"
        },
        {
          "output_type": "stream",
          "text": [
            "None\n"
          ],
          "name": "stdout"
        },
        {
          "output_type": "stream",
          "text": [
            "2021-07-13 07:59:37,896 - INFO: lr: 0.02831 | Epoch: 023 | Batch: 000 | Loss: 1.35906 | Correct: 79/128\n"
          ],
          "name": "stderr"
        },
        {
          "output_type": "stream",
          "text": [
            "None\n"
          ],
          "name": "stdout"
        },
        {
          "output_type": "stream",
          "text": [
            "2021-07-13 07:59:54,111 - INFO: lr: 0.01883 | Epoch: 024 | Batch: 000 | Loss: 1.01586 | Correct: 88/128\n"
          ],
          "name": "stderr"
        },
        {
          "output_type": "stream",
          "text": [
            "None\n"
          ],
          "name": "stdout"
        },
        {
          "output_type": "stream",
          "text": [
            "2021-07-13 08:00:10,298 - INFO: lr: 0.01091 | Epoch: 025 | Batch: 000 | Loss: 1.06333 | Correct: 84/128\n"
          ],
          "name": "stderr"
        },
        {
          "output_type": "stream",
          "text": [
            "None\n"
          ],
          "name": "stdout"
        },
        {
          "output_type": "stream",
          "text": [
            "2021-07-13 08:00:26,496 - INFO: lr: 0.00495 | Epoch: 026 | Batch: 000 | Loss: 1.24549 | Correct: 83/128\n"
          ],
          "name": "stderr"
        },
        {
          "output_type": "stream",
          "text": [
            "None\n"
          ],
          "name": "stdout"
        },
        {
          "output_type": "stream",
          "text": [
            "2021-07-13 08:00:42,666 - INFO: lr: 0.00125 | Epoch: 027 | Batch: 000 | Loss: 1.03838 | Correct: 95/128\n"
          ],
          "name": "stderr"
        },
        {
          "output_type": "stream",
          "text": [
            "None\n"
          ],
          "name": "stdout"
        },
        {
          "output_type": "stream",
          "text": [
            "2021-07-13 08:00:58,099 - INFO: Save the snapshot model with index: 1\n",
            "2021-07-13 08:00:58,793 - INFO: n_estimators: 2 | Validation Acc: 71.763 % | Historical Best: 71.763 %\n",
            "2021-07-13 08:00:59,590 - INFO: lr: 0.10000 | Epoch: 028 | Batch: 000 | Loss: 0.93335 | Correct: 95/128\n"
          ],
          "name": "stderr"
        },
        {
          "output_type": "stream",
          "text": [
            "None\n"
          ],
          "name": "stdout"
        },
        {
          "output_type": "stream",
          "text": [
            "2021-07-13 08:01:15,742 - INFO: lr: 0.09875 | Epoch: 029 | Batch: 000 | Loss: 1.66885 | Correct: 69/128\n"
          ],
          "name": "stderr"
        },
        {
          "output_type": "stream",
          "text": [
            "None\n"
          ],
          "name": "stdout"
        },
        {
          "output_type": "stream",
          "text": [
            "2021-07-13 08:01:31,920 - INFO: lr: 0.09505 | Epoch: 030 | Batch: 000 | Loss: 1.35156 | Correct: 79/128\n"
          ],
          "name": "stderr"
        },
        {
          "output_type": "stream",
          "text": [
            "None\n"
          ],
          "name": "stdout"
        },
        {
          "output_type": "stream",
          "text": [
            "2021-07-13 08:01:48,065 - INFO: lr: 0.08909 | Epoch: 031 | Batch: 000 | Loss: 1.57594 | Correct: 71/128\n"
          ],
          "name": "stderr"
        },
        {
          "output_type": "stream",
          "text": [
            "None\n"
          ],
          "name": "stdout"
        },
        {
          "output_type": "stream",
          "text": [
            "2021-07-13 08:02:04,198 - INFO: lr: 0.08117 | Epoch: 032 | Batch: 000 | Loss: 1.38321 | Correct: 76/128\n"
          ],
          "name": "stderr"
        },
        {
          "output_type": "stream",
          "text": [
            "None\n"
          ],
          "name": "stdout"
        },
        {
          "output_type": "stream",
          "text": [
            "2021-07-13 08:02:20,335 - INFO: lr: 0.07169 | Epoch: 033 | Batch: 000 | Loss: 1.19757 | Correct: 85/128\n"
          ],
          "name": "stderr"
        },
        {
          "output_type": "stream",
          "text": [
            "None\n"
          ],
          "name": "stdout"
        },
        {
          "output_type": "stream",
          "text": [
            "2021-07-13 08:02:36,539 - INFO: lr: 0.06113 | Epoch: 034 | Batch: 000 | Loss: 1.13111 | Correct: 86/128\n"
          ],
          "name": "stderr"
        },
        {
          "output_type": "stream",
          "text": [
            "None\n"
          ],
          "name": "stdout"
        },
        {
          "output_type": "stream",
          "text": [
            "2021-07-13 08:02:52,707 - INFO: lr: 0.05000 | Epoch: 035 | Batch: 000 | Loss: 1.02323 | Correct: 91/128\n"
          ],
          "name": "stderr"
        },
        {
          "output_type": "stream",
          "text": [
            "None\n"
          ],
          "name": "stdout"
        },
        {
          "output_type": "stream",
          "text": [
            "2021-07-13 08:03:08,894 - INFO: lr: 0.03887 | Epoch: 036 | Batch: 000 | Loss: 0.97429 | Correct: 89/128\n"
          ],
          "name": "stderr"
        },
        {
          "output_type": "stream",
          "text": [
            "None\n"
          ],
          "name": "stdout"
        },
        {
          "output_type": "stream",
          "text": [
            "2021-07-13 08:03:25,083 - INFO: lr: 0.02831 | Epoch: 037 | Batch: 000 | Loss: 0.75609 | Correct: 99/128\n"
          ],
          "name": "stderr"
        },
        {
          "output_type": "stream",
          "text": [
            "None\n"
          ],
          "name": "stdout"
        },
        {
          "output_type": "stream",
          "text": [
            "2021-07-13 08:03:41,227 - INFO: lr: 0.01883 | Epoch: 038 | Batch: 000 | Loss: 0.69000 | Correct: 105/128\n"
          ],
          "name": "stderr"
        },
        {
          "output_type": "stream",
          "text": [
            "None\n"
          ],
          "name": "stdout"
        },
        {
          "output_type": "stream",
          "text": [
            "2021-07-13 08:03:57,333 - INFO: lr: 0.01091 | Epoch: 039 | Batch: 000 | Loss: 0.80996 | Correct: 99/128\n"
          ],
          "name": "stderr"
        },
        {
          "output_type": "stream",
          "text": [
            "None\n"
          ],
          "name": "stdout"
        },
        {
          "output_type": "stream",
          "text": [
            "2021-07-13 08:04:13,477 - INFO: lr: 0.00495 | Epoch: 040 | Batch: 000 | Loss: 0.76908 | Correct: 98/128\n"
          ],
          "name": "stderr"
        },
        {
          "output_type": "stream",
          "text": [
            "None\n"
          ],
          "name": "stdout"
        },
        {
          "output_type": "stream",
          "text": [
            "2021-07-13 08:04:29,678 - INFO: lr: 0.00125 | Epoch: 041 | Batch: 000 | Loss: 0.66055 | Correct: 103/128\n"
          ],
          "name": "stderr"
        },
        {
          "output_type": "stream",
          "text": [
            "None\n"
          ],
          "name": "stdout"
        },
        {
          "output_type": "stream",
          "text": [
            "2021-07-13 08:04:45,100 - INFO: Save the snapshot model with index: 2\n",
            "2021-07-13 08:04:45,891 - INFO: n_estimators: 3 | Validation Acc: 73.996 % | Historical Best: 73.996 %\n",
            "2021-07-13 08:04:46,690 - INFO: lr: 0.10000 | Epoch: 042 | Batch: 000 | Loss: 0.67622 | Correct: 100/128\n"
          ],
          "name": "stderr"
        },
        {
          "output_type": "stream",
          "text": [
            "None\n"
          ],
          "name": "stdout"
        },
        {
          "output_type": "stream",
          "text": [
            "2021-07-13 08:05:02,802 - INFO: lr: 0.09875 | Epoch: 043 | Batch: 000 | Loss: 1.26300 | Correct: 82/128\n"
          ],
          "name": "stderr"
        },
        {
          "output_type": "stream",
          "text": [
            "None\n"
          ],
          "name": "stdout"
        },
        {
          "output_type": "stream",
          "text": [
            "2021-07-13 08:05:19,014 - INFO: lr: 0.09505 | Epoch: 044 | Batch: 000 | Loss: 1.09415 | Correct: 88/128\n"
          ],
          "name": "stderr"
        },
        {
          "output_type": "stream",
          "text": [
            "None\n"
          ],
          "name": "stdout"
        },
        {
          "output_type": "stream",
          "text": [
            "2021-07-13 08:05:35,171 - INFO: lr: 0.08909 | Epoch: 045 | Batch: 000 | Loss: 1.17417 | Correct: 85/128\n"
          ],
          "name": "stderr"
        },
        {
          "output_type": "stream",
          "text": [
            "None\n"
          ],
          "name": "stdout"
        },
        {
          "output_type": "stream",
          "text": [
            "2021-07-13 08:05:51,357 - INFO: lr: 0.08117 | Epoch: 046 | Batch: 000 | Loss: 0.98702 | Correct: 88/128\n"
          ],
          "name": "stderr"
        },
        {
          "output_type": "stream",
          "text": [
            "None\n"
          ],
          "name": "stdout"
        },
        {
          "output_type": "stream",
          "text": [
            "2021-07-13 08:06:07,451 - INFO: lr: 0.07169 | Epoch: 047 | Batch: 000 | Loss: 0.95535 | Correct: 90/128\n"
          ],
          "name": "stderr"
        },
        {
          "output_type": "stream",
          "text": [
            "None\n"
          ],
          "name": "stdout"
        },
        {
          "output_type": "stream",
          "text": [
            "2021-07-13 08:06:23,581 - INFO: lr: 0.06113 | Epoch: 048 | Batch: 000 | Loss: 0.66817 | Correct: 102/128\n"
          ],
          "name": "stderr"
        },
        {
          "output_type": "stream",
          "text": [
            "None\n"
          ],
          "name": "stdout"
        },
        {
          "output_type": "stream",
          "text": [
            "2021-07-13 08:06:39,703 - INFO: lr: 0.05000 | Epoch: 049 | Batch: 000 | Loss: 0.64484 | Correct: 102/128\n"
          ],
          "name": "stderr"
        },
        {
          "output_type": "stream",
          "text": [
            "None\n"
          ],
          "name": "stdout"
        },
        {
          "output_type": "stream",
          "text": [
            "2021-07-13 08:06:55,865 - INFO: lr: 0.03887 | Epoch: 050 | Batch: 000 | Loss: 0.52914 | Correct: 108/128\n"
          ],
          "name": "stderr"
        },
        {
          "output_type": "stream",
          "text": [
            "None\n"
          ],
          "name": "stdout"
        },
        {
          "output_type": "stream",
          "text": [
            "2021-07-13 08:07:12,004 - INFO: lr: 0.02831 | Epoch: 051 | Batch: 000 | Loss: 0.41221 | Correct: 110/128\n"
          ],
          "name": "stderr"
        },
        {
          "output_type": "stream",
          "text": [
            "None\n"
          ],
          "name": "stdout"
        },
        {
          "output_type": "stream",
          "text": [
            "2021-07-13 08:07:28,179 - INFO: lr: 0.01883 | Epoch: 052 | Batch: 000 | Loss: 0.45638 | Correct: 110/128\n"
          ],
          "name": "stderr"
        },
        {
          "output_type": "stream",
          "text": [
            "None\n"
          ],
          "name": "stdout"
        },
        {
          "output_type": "stream",
          "text": [
            "2021-07-13 08:07:44,317 - INFO: lr: 0.01091 | Epoch: 053 | Batch: 000 | Loss: 0.31920 | Correct: 119/128\n"
          ],
          "name": "stderr"
        },
        {
          "output_type": "stream",
          "text": [
            "None\n"
          ],
          "name": "stdout"
        },
        {
          "output_type": "stream",
          "text": [
            "2021-07-13 08:08:00,504 - INFO: lr: 0.00495 | Epoch: 054 | Batch: 000 | Loss: 0.37368 | Correct: 114/128\n"
          ],
          "name": "stderr"
        },
        {
          "output_type": "stream",
          "text": [
            "None\n"
          ],
          "name": "stdout"
        },
        {
          "output_type": "stream",
          "text": [
            "2021-07-13 08:08:16,640 - INFO: lr: 0.00125 | Epoch: 055 | Batch: 000 | Loss: 0.41853 | Correct: 108/128\n"
          ],
          "name": "stderr"
        },
        {
          "output_type": "stream",
          "text": [
            "None\n"
          ],
          "name": "stdout"
        },
        {
          "output_type": "stream",
          "text": [
            "2021-07-13 08:08:32,055 - INFO: Save the snapshot model with index: 3\n",
            "2021-07-13 08:08:33,013 - INFO: n_estimators: 4 | Validation Acc: 75.335 % | Historical Best: 75.335 %\n",
            "2021-07-13 08:08:33,853 - INFO: lr: 0.10000 | Epoch: 056 | Batch: 000 | Loss: 0.46143 | Correct: 113/128\n"
          ],
          "name": "stderr"
        },
        {
          "output_type": "stream",
          "text": [
            "None\n"
          ],
          "name": "stdout"
        },
        {
          "output_type": "stream",
          "text": [
            "2021-07-13 08:08:50,043 - INFO: lr: 0.09875 | Epoch: 057 | Batch: 000 | Loss: 0.95147 | Correct: 89/128\n"
          ],
          "name": "stderr"
        },
        {
          "output_type": "stream",
          "text": [
            "None\n"
          ],
          "name": "stdout"
        },
        {
          "output_type": "stream",
          "text": [
            "2021-07-13 08:09:06,191 - INFO: lr: 0.09505 | Epoch: 058 | Batch: 000 | Loss: 0.71235 | Correct: 105/128\n"
          ],
          "name": "stderr"
        },
        {
          "output_type": "stream",
          "text": [
            "None\n"
          ],
          "name": "stdout"
        },
        {
          "output_type": "stream",
          "text": [
            "2021-07-13 08:09:22,327 - INFO: lr: 0.08909 | Epoch: 059 | Batch: 000 | Loss: 0.71331 | Correct: 101/128\n"
          ],
          "name": "stderr"
        },
        {
          "output_type": "stream",
          "text": [
            "None\n"
          ],
          "name": "stdout"
        },
        {
          "output_type": "stream",
          "text": [
            "2021-07-13 08:09:38,465 - INFO: lr: 0.08117 | Epoch: 060 | Batch: 000 | Loss: 0.61112 | Correct: 106/128\n"
          ],
          "name": "stderr"
        },
        {
          "output_type": "stream",
          "text": [
            "None\n"
          ],
          "name": "stdout"
        },
        {
          "output_type": "stream",
          "text": [
            "2021-07-13 08:09:54,633 - INFO: lr: 0.07169 | Epoch: 061 | Batch: 000 | Loss: 0.43240 | Correct: 110/128\n"
          ],
          "name": "stderr"
        },
        {
          "output_type": "stream",
          "text": [
            "None\n"
          ],
          "name": "stdout"
        },
        {
          "output_type": "stream",
          "text": [
            "2021-07-13 08:10:10,737 - INFO: lr: 0.06113 | Epoch: 062 | Batch: 000 | Loss: 0.48989 | Correct: 107/128\n"
          ],
          "name": "stderr"
        },
        {
          "output_type": "stream",
          "text": [
            "None\n"
          ],
          "name": "stdout"
        },
        {
          "output_type": "stream",
          "text": [
            "2021-07-13 08:10:26,873 - INFO: lr: 0.05000 | Epoch: 063 | Batch: 000 | Loss: 0.46432 | Correct: 108/128\n"
          ],
          "name": "stderr"
        },
        {
          "output_type": "stream",
          "text": [
            "None\n"
          ],
          "name": "stdout"
        },
        {
          "output_type": "stream",
          "text": [
            "2021-07-13 08:10:43,005 - INFO: lr: 0.03887 | Epoch: 064 | Batch: 000 | Loss: 0.51532 | Correct: 107/128\n"
          ],
          "name": "stderr"
        },
        {
          "output_type": "stream",
          "text": [
            "None\n"
          ],
          "name": "stdout"
        },
        {
          "output_type": "stream",
          "text": [
            "2021-07-13 08:10:59,157 - INFO: lr: 0.02831 | Epoch: 065 | Batch: 000 | Loss: 0.30986 | Correct: 116/128\n"
          ],
          "name": "stderr"
        },
        {
          "output_type": "stream",
          "text": [
            "None\n"
          ],
          "name": "stdout"
        },
        {
          "output_type": "stream",
          "text": [
            "2021-07-13 08:11:15,247 - INFO: lr: 0.01883 | Epoch: 066 | Batch: 000 | Loss: 0.29471 | Correct: 120/128\n"
          ],
          "name": "stderr"
        },
        {
          "output_type": "stream",
          "text": [
            "None\n"
          ],
          "name": "stdout"
        },
        {
          "output_type": "stream",
          "text": [
            "2021-07-13 08:11:31,384 - INFO: lr: 0.01091 | Epoch: 067 | Batch: 000 | Loss: 0.23296 | Correct: 123/128\n"
          ],
          "name": "stderr"
        },
        {
          "output_type": "stream",
          "text": [
            "None\n"
          ],
          "name": "stdout"
        },
        {
          "output_type": "stream",
          "text": [
            "2021-07-13 08:11:47,533 - INFO: lr: 0.00495 | Epoch: 068 | Batch: 000 | Loss: 0.23161 | Correct: 120/128\n"
          ],
          "name": "stderr"
        },
        {
          "output_type": "stream",
          "text": [
            "None\n"
          ],
          "name": "stdout"
        },
        {
          "output_type": "stream",
          "text": [
            "2021-07-13 08:12:03,664 - INFO: lr: 0.00125 | Epoch: 069 | Batch: 000 | Loss: 0.19476 | Correct: 123/128\n"
          ],
          "name": "stderr"
        },
        {
          "output_type": "stream",
          "text": [
            "None\n"
          ],
          "name": "stdout"
        },
        {
          "output_type": "stream",
          "text": [
            "2021-07-13 08:12:19,024 - INFO: Save the snapshot model with index: 4\n",
            "2021-07-13 08:12:20,115 - INFO: n_estimators: 5 | Validation Acc: 75.893 % | Historical Best: 75.893 %\n"
          ],
          "name": "stderr"
        },
        {
          "output_type": "stream",
          "text": [
            "Group 4 Finished!\n",
            "Target number of exemplars: 50\n",
            "Randomly extracting exemplars from class 0 of current split... Extracted 50 exemplars.\n",
            "Randomly extracting exemplars from class 1 of current split... Extracted 50 exemplars.\n",
            "Randomly extracting exemplars from class 2 of current split... Extracted 50 exemplars.\n",
            "Randomly extracting exemplars from class 3 of current split... Extracted 50 exemplars.\n",
            "Randomly extracting exemplars from class 4 of current split... Extracted 50 exemplars.\n",
            "Randomly extracting exemplars from class 5 of current split... Extracted 50 exemplars.\n",
            "Randomly extracting exemplars from class 6 of current split... Extracted 50 exemplars.\n",
            "Randomly extracting exemplars from class 7 of current split... Extracted 50 exemplars.\n",
            "Randomly extracting exemplars from class 8 of current split... Extracted 50 exemplars.\n",
            "Randomly extracting exemplars from class 9 of current split... Extracted 50 exemplars.\n",
            "[0.30544354838709675, 0.4959677419354839, 0.709929435483871, 0.8172883064516129, 0.8865927419354839, 0.921875, 0.9596774193548387],[0.3989415322580645, 0.3329133064516129, 0.2235383064516129, 0.15120967741935484, 0.10206653225806452, 0.07232862903225806, 0.0390625]\n",
            "Testing on both open and closed world\n",
            "owr harmonic mean (threshold:0.25) = 0.34598721795833576\n",
            "owr harmonic mean (threshold:0.35) = 0.398402789356506\n",
            "owr harmonic mean (threshold:0.5) = 0.34001479982407856\n",
            "owr harmonic mean (threshold:0.6) = 0.25520321825186976\n",
            "owr harmonic mean (threshold:0.75) = 0.183058914343039\n",
            "owr harmonic mean (threshold:0.85) = 0.13413339670468946\n",
            "owr harmonic mean (threshold:0.95) = 0.07506939187484228\n",
            "\n",
            "=============================================\n",
            "\n",
            "Length of exemplars set: 2000\n"
          ],
          "name": "stdout"
        },
        {
          "output_type": "stream",
          "text": [
            "2021-07-13 08:12:30,147 - INFO: lr: 0.10000 | Epoch: 000 | Batch: 000 | Loss: 5.20060 | Correct: 1/128\n"
          ],
          "name": "stderr"
        },
        {
          "output_type": "stream",
          "text": [
            "None\n"
          ],
          "name": "stdout"
        },
        {
          "output_type": "stream",
          "text": [
            "2021-07-13 08:12:46,618 - INFO: lr: 0.09875 | Epoch: 001 | Batch: 000 | Loss: 2.97411 | Correct: 23/128\n"
          ],
          "name": "stderr"
        },
        {
          "output_type": "stream",
          "text": [
            "None\n"
          ],
          "name": "stdout"
        },
        {
          "output_type": "stream",
          "text": [
            "2021-07-13 08:13:03,165 - INFO: lr: 0.09505 | Epoch: 002 | Batch: 000 | Loss: 2.94932 | Correct: 31/128\n"
          ],
          "name": "stderr"
        },
        {
          "output_type": "stream",
          "text": [
            "None\n"
          ],
          "name": "stdout"
        },
        {
          "output_type": "stream",
          "text": [
            "2021-07-13 08:13:19,735 - INFO: lr: 0.08909 | Epoch: 003 | Batch: 000 | Loss: 2.58613 | Correct: 43/128\n"
          ],
          "name": "stderr"
        },
        {
          "output_type": "stream",
          "text": [
            "None\n"
          ],
          "name": "stdout"
        },
        {
          "output_type": "stream",
          "text": [
            "2021-07-13 08:13:36,253 - INFO: lr: 0.08117 | Epoch: 004 | Batch: 000 | Loss: 2.63524 | Correct: 41/128\n"
          ],
          "name": "stderr"
        },
        {
          "output_type": "stream",
          "text": [
            "None\n"
          ],
          "name": "stdout"
        },
        {
          "output_type": "stream",
          "text": [
            "2021-07-13 08:13:52,815 - INFO: lr: 0.07169 | Epoch: 005 | Batch: 000 | Loss: 2.40613 | Correct: 52/128\n"
          ],
          "name": "stderr"
        },
        {
          "output_type": "stream",
          "text": [
            "None\n"
          ],
          "name": "stdout"
        },
        {
          "output_type": "stream",
          "text": [
            "2021-07-13 08:14:09,377 - INFO: lr: 0.06113 | Epoch: 006 | Batch: 000 | Loss: 2.41517 | Correct: 48/128\n"
          ],
          "name": "stderr"
        },
        {
          "output_type": "stream",
          "text": [
            "None\n"
          ],
          "name": "stdout"
        },
        {
          "output_type": "stream",
          "text": [
            "2021-07-13 08:14:25,929 - INFO: lr: 0.05000 | Epoch: 007 | Batch: 000 | Loss: 2.15883 | Correct: 54/128\n"
          ],
          "name": "stderr"
        },
        {
          "output_type": "stream",
          "text": [
            "None\n"
          ],
          "name": "stdout"
        },
        {
          "output_type": "stream",
          "text": [
            "2021-07-13 08:14:42,523 - INFO: lr: 0.03887 | Epoch: 008 | Batch: 000 | Loss: 2.43507 | Correct: 51/128\n"
          ],
          "name": "stderr"
        },
        {
          "output_type": "stream",
          "text": [
            "None\n"
          ],
          "name": "stdout"
        },
        {
          "output_type": "stream",
          "text": [
            "2021-07-13 08:14:59,090 - INFO: lr: 0.02831 | Epoch: 009 | Batch: 000 | Loss: 2.10929 | Correct: 58/128\n"
          ],
          "name": "stderr"
        },
        {
          "output_type": "stream",
          "text": [
            "None\n"
          ],
          "name": "stdout"
        },
        {
          "output_type": "stream",
          "text": [
            "2021-07-13 08:15:15,706 - INFO: lr: 0.01883 | Epoch: 010 | Batch: 000 | Loss: 2.01871 | Correct: 59/128\n"
          ],
          "name": "stderr"
        },
        {
          "output_type": "stream",
          "text": [
            "None\n"
          ],
          "name": "stdout"
        },
        {
          "output_type": "stream",
          "text": [
            "2021-07-13 08:15:32,305 - INFO: lr: 0.01091 | Epoch: 011 | Batch: 000 | Loss: 1.79080 | Correct: 66/128\n"
          ],
          "name": "stderr"
        },
        {
          "output_type": "stream",
          "text": [
            "None\n"
          ],
          "name": "stdout"
        },
        {
          "output_type": "stream",
          "text": [
            "2021-07-13 08:15:48,931 - INFO: lr: 0.00495 | Epoch: 012 | Batch: 000 | Loss: 1.69769 | Correct: 66/128\n"
          ],
          "name": "stderr"
        },
        {
          "output_type": "stream",
          "text": [
            "None\n"
          ],
          "name": "stdout"
        },
        {
          "output_type": "stream",
          "text": [
            "2021-07-13 08:16:05,515 - INFO: lr: 0.00125 | Epoch: 013 | Batch: 000 | Loss: 1.65605 | Correct: 70/128\n"
          ],
          "name": "stderr"
        },
        {
          "output_type": "stream",
          "text": [
            "None\n"
          ],
          "name": "stdout"
        },
        {
          "output_type": "stream",
          "text": [
            "2021-07-13 08:16:21,330 - INFO: Save the snapshot model with index: 0\n",
            "2021-07-13 08:16:21,929 - INFO: n_estimators: 1 | Validation Acc: 65.179 % | Historical Best: 65.179 %\n",
            "2021-07-13 08:16:22,748 - INFO: lr: 0.10000 | Epoch: 014 | Batch: 000 | Loss: 2.20447 | Correct: 64/128\n"
          ],
          "name": "stderr"
        },
        {
          "output_type": "stream",
          "text": [
            "None\n"
          ],
          "name": "stdout"
        },
        {
          "output_type": "stream",
          "text": [
            "2021-07-13 08:16:39,338 - INFO: lr: 0.09875 | Epoch: 015 | Batch: 000 | Loss: 1.87784 | Correct: 61/128\n"
          ],
          "name": "stderr"
        },
        {
          "output_type": "stream",
          "text": [
            "None\n"
          ],
          "name": "stdout"
        },
        {
          "output_type": "stream",
          "text": [
            "2021-07-13 08:16:55,942 - INFO: lr: 0.09505 | Epoch: 016 | Batch: 000 | Loss: 2.10530 | Correct: 59/128\n"
          ],
          "name": "stderr"
        },
        {
          "output_type": "stream",
          "text": [
            "None\n"
          ],
          "name": "stdout"
        },
        {
          "output_type": "stream",
          "text": [
            "2021-07-13 08:17:12,503 - INFO: lr: 0.08909 | Epoch: 017 | Batch: 000 | Loss: 1.87660 | Correct: 66/128\n"
          ],
          "name": "stderr"
        },
        {
          "output_type": "stream",
          "text": [
            "None\n"
          ],
          "name": "stdout"
        },
        {
          "output_type": "stream",
          "text": [
            "2021-07-13 08:17:29,089 - INFO: lr: 0.08117 | Epoch: 018 | Batch: 000 | Loss: 1.89569 | Correct: 66/128\n"
          ],
          "name": "stderr"
        },
        {
          "output_type": "stream",
          "text": [
            "None\n"
          ],
          "name": "stdout"
        },
        {
          "output_type": "stream",
          "text": [
            "2021-07-13 08:17:45,670 - INFO: lr: 0.07169 | Epoch: 019 | Batch: 000 | Loss: 1.31825 | Correct: 82/128\n"
          ],
          "name": "stderr"
        },
        {
          "output_type": "stream",
          "text": [
            "None\n"
          ],
          "name": "stdout"
        },
        {
          "output_type": "stream",
          "text": [
            "2021-07-13 08:18:02,299 - INFO: lr: 0.06113 | Epoch: 020 | Batch: 000 | Loss: 1.77761 | Correct: 68/128\n"
          ],
          "name": "stderr"
        },
        {
          "output_type": "stream",
          "text": [
            "None\n"
          ],
          "name": "stdout"
        },
        {
          "output_type": "stream",
          "text": [
            "2021-07-13 08:18:18,869 - INFO: lr: 0.05000 | Epoch: 021 | Batch: 000 | Loss: 1.71894 | Correct: 66/128\n"
          ],
          "name": "stderr"
        },
        {
          "output_type": "stream",
          "text": [
            "None\n"
          ],
          "name": "stdout"
        },
        {
          "output_type": "stream",
          "text": [
            "2021-07-13 08:18:35,506 - INFO: lr: 0.03887 | Epoch: 022 | Batch: 000 | Loss: 1.63440 | Correct: 72/128\n"
          ],
          "name": "stderr"
        },
        {
          "output_type": "stream",
          "text": [
            "None\n"
          ],
          "name": "stdout"
        },
        {
          "output_type": "stream",
          "text": [
            "2021-07-13 08:18:52,099 - INFO: lr: 0.02831 | Epoch: 023 | Batch: 000 | Loss: 1.52075 | Correct: 74/128\n"
          ],
          "name": "stderr"
        },
        {
          "output_type": "stream",
          "text": [
            "None\n"
          ],
          "name": "stdout"
        },
        {
          "output_type": "stream",
          "text": [
            "2021-07-13 08:19:08,697 - INFO: lr: 0.01883 | Epoch: 024 | Batch: 000 | Loss: 1.18586 | Correct: 88/128\n"
          ],
          "name": "stderr"
        },
        {
          "output_type": "stream",
          "text": [
            "None\n"
          ],
          "name": "stdout"
        },
        {
          "output_type": "stream",
          "text": [
            "2021-07-13 08:19:25,294 - INFO: lr: 0.01091 | Epoch: 025 | Batch: 000 | Loss: 1.64168 | Correct: 70/128\n"
          ],
          "name": "stderr"
        },
        {
          "output_type": "stream",
          "text": [
            "None\n"
          ],
          "name": "stdout"
        },
        {
          "output_type": "stream",
          "text": [
            "2021-07-13 08:19:41,869 - INFO: lr: 0.00495 | Epoch: 026 | Batch: 000 | Loss: 1.43560 | Correct: 75/128\n"
          ],
          "name": "stderr"
        },
        {
          "output_type": "stream",
          "text": [
            "None\n"
          ],
          "name": "stdout"
        },
        {
          "output_type": "stream",
          "text": [
            "2021-07-13 08:19:58,424 - INFO: lr: 0.00125 | Epoch: 027 | Batch: 000 | Loss: 1.36307 | Correct: 81/128\n"
          ],
          "name": "stderr"
        },
        {
          "output_type": "stream",
          "text": [
            "None\n"
          ],
          "name": "stdout"
        },
        {
          "output_type": "stream",
          "text": [
            "2021-07-13 08:20:14,226 - INFO: Save the snapshot model with index: 1\n",
            "2021-07-13 08:20:14,944 - INFO: n_estimators: 2 | Validation Acc: 72.321 % | Historical Best: 72.321 %\n",
            "2021-07-13 08:20:15,758 - INFO: lr: 0.10000 | Epoch: 028 | Batch: 000 | Loss: 1.42694 | Correct: 75/128\n"
          ],
          "name": "stderr"
        },
        {
          "output_type": "stream",
          "text": [
            "None\n"
          ],
          "name": "stdout"
        },
        {
          "output_type": "stream",
          "text": [
            "2021-07-13 08:20:32,340 - INFO: lr: 0.09875 | Epoch: 029 | Batch: 000 | Loss: 1.77544 | Correct: 69/128\n"
          ],
          "name": "stderr"
        },
        {
          "output_type": "stream",
          "text": [
            "None\n"
          ],
          "name": "stdout"
        },
        {
          "output_type": "stream",
          "text": [
            "2021-07-13 08:20:48,923 - INFO: lr: 0.09505 | Epoch: 030 | Batch: 000 | Loss: 1.55407 | Correct: 78/128\n"
          ],
          "name": "stderr"
        },
        {
          "output_type": "stream",
          "text": [
            "None\n"
          ],
          "name": "stdout"
        },
        {
          "output_type": "stream",
          "text": [
            "2021-07-13 08:21:05,500 - INFO: lr: 0.08909 | Epoch: 031 | Batch: 000 | Loss: 1.54582 | Correct: 79/128\n"
          ],
          "name": "stderr"
        },
        {
          "output_type": "stream",
          "text": [
            "None\n"
          ],
          "name": "stdout"
        },
        {
          "output_type": "stream",
          "text": [
            "2021-07-13 08:21:22,087 - INFO: lr: 0.08117 | Epoch: 032 | Batch: 000 | Loss: 1.47008 | Correct: 78/128\n"
          ],
          "name": "stderr"
        },
        {
          "output_type": "stream",
          "text": [
            "None\n"
          ],
          "name": "stdout"
        },
        {
          "output_type": "stream",
          "text": [
            "2021-07-13 08:21:38,647 - INFO: lr: 0.07169 | Epoch: 033 | Batch: 000 | Loss: 1.49412 | Correct: 75/128\n"
          ],
          "name": "stderr"
        },
        {
          "output_type": "stream",
          "text": [
            "None\n"
          ],
          "name": "stdout"
        },
        {
          "output_type": "stream",
          "text": [
            "2021-07-13 08:21:55,171 - INFO: lr: 0.06113 | Epoch: 034 | Batch: 000 | Loss: 1.21369 | Correct: 91/128\n"
          ],
          "name": "stderr"
        },
        {
          "output_type": "stream",
          "text": [
            "None\n"
          ],
          "name": "stdout"
        },
        {
          "output_type": "stream",
          "text": [
            "2021-07-13 08:22:11,682 - INFO: lr: 0.05000 | Epoch: 035 | Batch: 000 | Loss: 1.41245 | Correct: 73/128\n"
          ],
          "name": "stderr"
        },
        {
          "output_type": "stream",
          "text": [
            "None\n"
          ],
          "name": "stdout"
        },
        {
          "output_type": "stream",
          "text": [
            "2021-07-13 08:22:28,200 - INFO: lr: 0.03887 | Epoch: 036 | Batch: 000 | Loss: 0.98098 | Correct: 89/128\n"
          ],
          "name": "stderr"
        },
        {
          "output_type": "stream",
          "text": [
            "None\n"
          ],
          "name": "stdout"
        },
        {
          "output_type": "stream",
          "text": [
            "2021-07-13 08:22:44,727 - INFO: lr: 0.02831 | Epoch: 037 | Batch: 000 | Loss: 1.12010 | Correct: 93/128\n"
          ],
          "name": "stderr"
        },
        {
          "output_type": "stream",
          "text": [
            "None\n"
          ],
          "name": "stdout"
        },
        {
          "output_type": "stream",
          "text": [
            "2021-07-13 08:23:01,271 - INFO: lr: 0.01883 | Epoch: 038 | Batch: 000 | Loss: 1.07589 | Correct: 91/128\n"
          ],
          "name": "stderr"
        },
        {
          "output_type": "stream",
          "text": [
            "None\n"
          ],
          "name": "stdout"
        },
        {
          "output_type": "stream",
          "text": [
            "2021-07-13 08:23:17,756 - INFO: lr: 0.01091 | Epoch: 039 | Batch: 000 | Loss: 0.96612 | Correct: 93/128\n"
          ],
          "name": "stderr"
        },
        {
          "output_type": "stream",
          "text": [
            "None\n"
          ],
          "name": "stdout"
        },
        {
          "output_type": "stream",
          "text": [
            "2021-07-13 08:23:34,283 - INFO: lr: 0.00495 | Epoch: 040 | Batch: 000 | Loss: 0.83203 | Correct: 97/128\n"
          ],
          "name": "stderr"
        },
        {
          "output_type": "stream",
          "text": [
            "None\n"
          ],
          "name": "stdout"
        },
        {
          "output_type": "stream",
          "text": [
            "2021-07-13 08:23:50,783 - INFO: lr: 0.00125 | Epoch: 041 | Batch: 000 | Loss: 0.74074 | Correct: 104/128\n"
          ],
          "name": "stderr"
        },
        {
          "output_type": "stream",
          "text": [
            "None\n"
          ],
          "name": "stdout"
        },
        {
          "output_type": "stream",
          "text": [
            "2021-07-13 08:24:06,548 - INFO: Save the snapshot model with index: 2\n",
            "2021-07-13 08:24:07,331 - INFO: n_estimators: 3 | Validation Acc: 75.223 % | Historical Best: 75.223 %\n",
            "2021-07-13 08:24:08,143 - INFO: lr: 0.10000 | Epoch: 042 | Batch: 000 | Loss: 0.89474 | Correct: 97/128\n"
          ],
          "name": "stderr"
        },
        {
          "output_type": "stream",
          "text": [
            "None\n"
          ],
          "name": "stdout"
        },
        {
          "output_type": "stream",
          "text": [
            "2021-07-13 08:24:24,657 - INFO: lr: 0.09875 | Epoch: 043 | Batch: 000 | Loss: 1.22722 | Correct: 80/128\n"
          ],
          "name": "stderr"
        },
        {
          "output_type": "stream",
          "text": [
            "None\n"
          ],
          "name": "stdout"
        },
        {
          "output_type": "stream",
          "text": [
            "2021-07-13 08:24:41,197 - INFO: lr: 0.09505 | Epoch: 044 | Batch: 000 | Loss: 1.45819 | Correct: 79/128\n"
          ],
          "name": "stderr"
        },
        {
          "output_type": "stream",
          "text": [
            "None\n"
          ],
          "name": "stdout"
        },
        {
          "output_type": "stream",
          "text": [
            "2021-07-13 08:24:57,722 - INFO: lr: 0.08909 | Epoch: 045 | Batch: 000 | Loss: 1.55184 | Correct: 72/128\n"
          ],
          "name": "stderr"
        },
        {
          "output_type": "stream",
          "text": [
            "None\n"
          ],
          "name": "stdout"
        },
        {
          "output_type": "stream",
          "text": [
            "2021-07-13 08:25:14,250 - INFO: lr: 0.08117 | Epoch: 046 | Batch: 000 | Loss: 1.07709 | Correct: 89/128\n"
          ],
          "name": "stderr"
        },
        {
          "output_type": "stream",
          "text": [
            "None\n"
          ],
          "name": "stdout"
        },
        {
          "output_type": "stream",
          "text": [
            "2021-07-13 08:25:30,766 - INFO: lr: 0.07169 | Epoch: 047 | Batch: 000 | Loss: 0.92666 | Correct: 96/128\n"
          ],
          "name": "stderr"
        },
        {
          "output_type": "stream",
          "text": [
            "None\n"
          ],
          "name": "stdout"
        },
        {
          "output_type": "stream",
          "text": [
            "2021-07-13 08:25:47,252 - INFO: lr: 0.06113 | Epoch: 048 | Batch: 000 | Loss: 0.96215 | Correct: 93/128\n"
          ],
          "name": "stderr"
        },
        {
          "output_type": "stream",
          "text": [
            "None\n"
          ],
          "name": "stdout"
        },
        {
          "output_type": "stream",
          "text": [
            "2021-07-13 08:26:03,755 - INFO: lr: 0.05000 | Epoch: 049 | Batch: 000 | Loss: 0.70784 | Correct: 105/128\n"
          ],
          "name": "stderr"
        },
        {
          "output_type": "stream",
          "text": [
            "None\n"
          ],
          "name": "stdout"
        },
        {
          "output_type": "stream",
          "text": [
            "2021-07-13 08:26:20,303 - INFO: lr: 0.03887 | Epoch: 050 | Batch: 000 | Loss: 1.00687 | Correct: 91/128\n"
          ],
          "name": "stderr"
        },
        {
          "output_type": "stream",
          "text": [
            "None\n"
          ],
          "name": "stdout"
        },
        {
          "output_type": "stream",
          "text": [
            "2021-07-13 08:26:36,819 - INFO: lr: 0.02831 | Epoch: 051 | Batch: 000 | Loss: 0.71780 | Correct: 100/128\n"
          ],
          "name": "stderr"
        },
        {
          "output_type": "stream",
          "text": [
            "None\n"
          ],
          "name": "stdout"
        },
        {
          "output_type": "stream",
          "text": [
            "2021-07-13 08:26:53,344 - INFO: lr: 0.01883 | Epoch: 052 | Batch: 000 | Loss: 0.83931 | Correct: 96/128\n"
          ],
          "name": "stderr"
        },
        {
          "output_type": "stream",
          "text": [
            "None\n"
          ],
          "name": "stdout"
        },
        {
          "output_type": "stream",
          "text": [
            "2021-07-13 08:27:09,814 - INFO: lr: 0.01091 | Epoch: 053 | Batch: 000 | Loss: 0.60991 | Correct: 103/128\n"
          ],
          "name": "stderr"
        },
        {
          "output_type": "stream",
          "text": [
            "None\n"
          ],
          "name": "stdout"
        },
        {
          "output_type": "stream",
          "text": [
            "2021-07-13 08:27:26,366 - INFO: lr: 0.00495 | Epoch: 054 | Batch: 000 | Loss: 0.58546 | Correct: 106/128\n"
          ],
          "name": "stderr"
        },
        {
          "output_type": "stream",
          "text": [
            "None\n"
          ],
          "name": "stdout"
        },
        {
          "output_type": "stream",
          "text": [
            "2021-07-13 08:27:42,862 - INFO: lr: 0.00125 | Epoch: 055 | Batch: 000 | Loss: 0.53476 | Correct: 110/128\n"
          ],
          "name": "stderr"
        },
        {
          "output_type": "stream",
          "text": [
            "None\n"
          ],
          "name": "stdout"
        },
        {
          "output_type": "stream",
          "text": [
            "2021-07-13 08:27:58,595 - INFO: Save the snapshot model with index: 3\n",
            "2021-07-13 08:27:59,556 - INFO: n_estimators: 4 | Validation Acc: 77.009 % | Historical Best: 77.009 %\n",
            "2021-07-13 08:28:00,367 - INFO: lr: 0.10000 | Epoch: 056 | Batch: 000 | Loss: 0.57632 | Correct: 104/128\n"
          ],
          "name": "stderr"
        },
        {
          "output_type": "stream",
          "text": [
            "None\n"
          ],
          "name": "stdout"
        },
        {
          "output_type": "stream",
          "text": [
            "2021-07-13 08:28:16,828 - INFO: lr: 0.09875 | Epoch: 057 | Batch: 000 | Loss: 1.13479 | Correct: 82/128\n"
          ],
          "name": "stderr"
        },
        {
          "output_type": "stream",
          "text": [
            "None\n"
          ],
          "name": "stdout"
        },
        {
          "output_type": "stream",
          "text": [
            "2021-07-13 08:28:33,384 - INFO: lr: 0.09505 | Epoch: 058 | Batch: 000 | Loss: 1.06917 | Correct: 88/128\n"
          ],
          "name": "stderr"
        },
        {
          "output_type": "stream",
          "text": [
            "None\n"
          ],
          "name": "stdout"
        },
        {
          "output_type": "stream",
          "text": [
            "2021-07-13 08:28:49,988 - INFO: lr: 0.08909 | Epoch: 059 | Batch: 000 | Loss: 0.86135 | Correct: 98/128\n"
          ],
          "name": "stderr"
        },
        {
          "output_type": "stream",
          "text": [
            "None\n"
          ],
          "name": "stdout"
        },
        {
          "output_type": "stream",
          "text": [
            "2021-07-13 08:29:06,514 - INFO: lr: 0.08117 | Epoch: 060 | Batch: 000 | Loss: 0.89919 | Correct: 94/128\n"
          ],
          "name": "stderr"
        },
        {
          "output_type": "stream",
          "text": [
            "None\n"
          ],
          "name": "stdout"
        },
        {
          "output_type": "stream",
          "text": [
            "2021-07-13 08:29:23,025 - INFO: lr: 0.07169 | Epoch: 061 | Batch: 000 | Loss: 0.59950 | Correct: 104/128\n"
          ],
          "name": "stderr"
        },
        {
          "output_type": "stream",
          "text": [
            "None\n"
          ],
          "name": "stdout"
        },
        {
          "output_type": "stream",
          "text": [
            "2021-07-13 08:29:39,545 - INFO: lr: 0.06113 | Epoch: 062 | Batch: 000 | Loss: 0.96014 | Correct: 92/128\n"
          ],
          "name": "stderr"
        },
        {
          "output_type": "stream",
          "text": [
            "None\n"
          ],
          "name": "stdout"
        },
        {
          "output_type": "stream",
          "text": [
            "2021-07-13 08:29:56,089 - INFO: lr: 0.05000 | Epoch: 063 | Batch: 000 | Loss: 0.61888 | Correct: 106/128\n"
          ],
          "name": "stderr"
        },
        {
          "output_type": "stream",
          "text": [
            "None\n"
          ],
          "name": "stdout"
        },
        {
          "output_type": "stream",
          "text": [
            "2021-07-13 08:30:12,584 - INFO: lr: 0.03887 | Epoch: 064 | Batch: 000 | Loss: 0.61575 | Correct: 103/128\n"
          ],
          "name": "stderr"
        },
        {
          "output_type": "stream",
          "text": [
            "None\n"
          ],
          "name": "stdout"
        },
        {
          "output_type": "stream",
          "text": [
            "2021-07-13 08:30:29,103 - INFO: lr: 0.02831 | Epoch: 065 | Batch: 000 | Loss: 0.47080 | Correct: 110/128\n"
          ],
          "name": "stderr"
        },
        {
          "output_type": "stream",
          "text": [
            "None\n"
          ],
          "name": "stdout"
        },
        {
          "output_type": "stream",
          "text": [
            "2021-07-13 08:30:45,618 - INFO: lr: 0.01883 | Epoch: 066 | Batch: 000 | Loss: 0.37434 | Correct: 117/128\n"
          ],
          "name": "stderr"
        },
        {
          "output_type": "stream",
          "text": [
            "None\n"
          ],
          "name": "stdout"
        },
        {
          "output_type": "stream",
          "text": [
            "2021-07-13 08:31:02,199 - INFO: lr: 0.01091 | Epoch: 067 | Batch: 000 | Loss: 0.29505 | Correct: 120/128\n"
          ],
          "name": "stderr"
        },
        {
          "output_type": "stream",
          "text": [
            "None\n"
          ],
          "name": "stdout"
        },
        {
          "output_type": "stream",
          "text": [
            "2021-07-13 08:31:18,736 - INFO: lr: 0.00495 | Epoch: 068 | Batch: 000 | Loss: 0.30833 | Correct: 119/128\n"
          ],
          "name": "stderr"
        },
        {
          "output_type": "stream",
          "text": [
            "None\n"
          ],
          "name": "stdout"
        },
        {
          "output_type": "stream",
          "text": [
            "2021-07-13 08:31:35,322 - INFO: lr: 0.00125 | Epoch: 069 | Batch: 000 | Loss: 0.38482 | Correct: 117/128\n"
          ],
          "name": "stderr"
        },
        {
          "output_type": "stream",
          "text": [
            "None\n"
          ],
          "name": "stdout"
        },
        {
          "output_type": "stream",
          "text": [
            "2021-07-13 08:31:51,050 - INFO: Save the snapshot model with index: 4\n",
            "2021-07-13 08:31:52,113 - INFO: n_estimators: 5 | Validation Acc: 77.232 % | Historical Best: 77.232 %\n"
          ],
          "name": "stderr"
        },
        {
          "output_type": "stream",
          "text": [
            "Group 5 Finished!\n",
            "Target number of exemplars: 40\n",
            "Randomly extracting exemplars from class 0 of current split... Extracted 40 exemplars.\n",
            "Randomly extracting exemplars from class 1 of current split... Extracted 40 exemplars.\n",
            "Randomly extracting exemplars from class 2 of current split... Extracted 40 exemplars.\n",
            "Randomly extracting exemplars from class 3 of current split... Extracted 40 exemplars.\n",
            "Randomly extracting exemplars from class 4 of current split... Extracted 40 exemplars.\n",
            "Randomly extracting exemplars from class 5 of current split... Extracted 40 exemplars.\n",
            "Randomly extracting exemplars from class 6 of current split... Extracted 40 exemplars.\n",
            "Randomly extracting exemplars from class 7 of current split... Extracted 40 exemplars.\n",
            "Randomly extracting exemplars from class 8 of current split... Extracted 40 exemplars.\n",
            "Randomly extracting exemplars from class 9 of current split... Extracted 40 exemplars.\n",
            "[0.3707932692307692, 0.5663060897435898, 0.7658253205128205, 0.8483573717948718, 0.9010416666666666, 0.9240785256410257, 0.9551282051282052],[0.29407051282051283, 0.23858173076923078, 0.15685096153846154, 0.10917467948717949, 0.07612179487179487, 0.0625, 0.039663461538461536]\n",
            "Testing on both open and closed world\n",
            "owr harmonic mean (threshold:0.25) = 0.32800513361299743\n",
            "owr harmonic mean (threshold:0.35) = 0.3357245161197687\n",
            "owr harmonic mean (threshold:0.5) = 0.2603739582985404\n",
            "owr harmonic mean (threshold:0.6) = 0.1934538776687051\n",
            "owr harmonic mean (threshold:0.75) = 0.1403836955036217\n",
            "owr harmonic mean (threshold:0.85) = 0.11708121827411166\n",
            "owr harmonic mean (threshold:0.95) = 0.07616406951888223\n",
            "\n",
            "=============================================\n",
            "\n",
            "#################################\n",
            "\n",
            "\n"
          ],
          "name": "stdout"
        }
      ]
    },
    {
      "cell_type": "markdown",
      "metadata": {
        "id": "UIUvaKyhx0rC"
      },
      "source": [
        "### Store logs in more usable dtype"
      ]
    },
    {
      "cell_type": "code",
      "metadata": {
        "id": "1-uV6X0yxzQc"
      },
      "source": [
        "\n",
        "\n",
        "test_accuracy = [[logs[run_i]['test_accuracies'][i] for i in range(5)] for run_i in range(len(RANDOM_SEED))]\n",
        "\n",
        "\n",
        "open_values = [[logs[run_i]['open_values'][i] for i in range(5)] for run_i in range(len(RANDOM_SEED))]\n",
        "closed_values = [[logs[run_i]['closed_values'][i] for i in range(5)] for run_i in range(len(RANDOM_SEED))]"
      ],
      "execution_count": null,
      "outputs": []
    },
    {
      "cell_type": "markdown",
      "metadata": {
        "id": "6r_ybcCLmc2R"
      },
      "source": [
        "### Save the model"
      ]
    },
    {
      "cell_type": "markdown",
      "metadata": {
        "id": "nIG3hIOkyFNs"
      },
      "source": [
        "#### Saving logs in JSON files"
      ]
    },
    {
      "cell_type": "code",
      "metadata": {
        "id": "mF_GR4KAyNYs",
        "colab": {
          "base_uri": "https://localhost:8080/",
          "height": 370
        },
        "outputId": "183624cf-7c06-4e2b-8cc9-ffcbfa88c157"
      },
      "source": [
        "import json\n",
        "\n",
        "with open('states/reject_test_accuracy.json', 'w') as f:\n",
        "  json.dump(test_accuracy, f)\n",
        "f.close\n",
        "with open('states/reject_open_values.json', 'w') as f:\n",
        "  json.dump(open_values, f)\n",
        "f.close\n",
        "with open('states/reject_closed_values.json', 'w') as f:\n",
        "  json.dump(closed_values, f)\n",
        "f.close"
      ],
      "execution_count": null,
      "outputs": [
        {
          "output_type": "error",
          "ename": "TypeError",
          "evalue": "ignored",
          "traceback": [
            "\u001b[0;31m---------------------------------------------------------------------------\u001b[0m",
            "\u001b[0;31mTypeError\u001b[0m                                 Traceback (most recent call last)",
            "\u001b[0;32m<ipython-input-14-11551abcb2fa>\u001b[0m in \u001b[0;36m<module>\u001b[0;34m()\u001b[0m\n\u001b[1;32m      5\u001b[0m \u001b[0mf\u001b[0m\u001b[0;34m.\u001b[0m\u001b[0mclose\u001b[0m\u001b[0;34m\u001b[0m\u001b[0;34m\u001b[0m\u001b[0m\n\u001b[1;32m      6\u001b[0m \u001b[0;32mwith\u001b[0m \u001b[0mopen\u001b[0m\u001b[0;34m(\u001b[0m\u001b[0;34m'states/reject_open_values.json'\u001b[0m\u001b[0;34m,\u001b[0m \u001b[0;34m'w'\u001b[0m\u001b[0;34m)\u001b[0m \u001b[0;32mas\u001b[0m \u001b[0mf\u001b[0m\u001b[0;34m:\u001b[0m\u001b[0;34m\u001b[0m\u001b[0;34m\u001b[0m\u001b[0m\n\u001b[0;32m----> 7\u001b[0;31m   \u001b[0mjson\u001b[0m\u001b[0;34m.\u001b[0m\u001b[0mdump\u001b[0m\u001b[0;34m(\u001b[0m\u001b[0mopen_values\u001b[0m\u001b[0;34m,\u001b[0m \u001b[0mf\u001b[0m\u001b[0;34m)\u001b[0m\u001b[0;34m\u001b[0m\u001b[0;34m\u001b[0m\u001b[0m\n\u001b[0m\u001b[1;32m      8\u001b[0m \u001b[0mf\u001b[0m\u001b[0;34m.\u001b[0m\u001b[0mclose\u001b[0m\u001b[0;34m\u001b[0m\u001b[0;34m\u001b[0m\u001b[0m\n\u001b[1;32m      9\u001b[0m \u001b[0;32mwith\u001b[0m \u001b[0mopen\u001b[0m\u001b[0;34m(\u001b[0m\u001b[0;34m'states/reject_closed_values.json'\u001b[0m\u001b[0;34m,\u001b[0m \u001b[0;34m'w'\u001b[0m\u001b[0;34m)\u001b[0m \u001b[0;32mas\u001b[0m \u001b[0mf\u001b[0m\u001b[0;34m:\u001b[0m\u001b[0;34m\u001b[0m\u001b[0;34m\u001b[0m\u001b[0m\n",
            "\u001b[0;32m/usr/lib/python3.7/json/__init__.py\u001b[0m in \u001b[0;36mdump\u001b[0;34m(obj, fp, skipkeys, ensure_ascii, check_circular, allow_nan, cls, indent, separators, default, sort_keys, **kw)\u001b[0m\n\u001b[1;32m    177\u001b[0m     \u001b[0;31m# could accelerate with writelines in some versions of Python, at\u001b[0m\u001b[0;34m\u001b[0m\u001b[0;34m\u001b[0m\u001b[0;34m\u001b[0m\u001b[0m\n\u001b[1;32m    178\u001b[0m     \u001b[0;31m# a debuggability cost\u001b[0m\u001b[0;34m\u001b[0m\u001b[0;34m\u001b[0m\u001b[0;34m\u001b[0m\u001b[0m\n\u001b[0;32m--> 179\u001b[0;31m     \u001b[0;32mfor\u001b[0m \u001b[0mchunk\u001b[0m \u001b[0;32min\u001b[0m \u001b[0miterable\u001b[0m\u001b[0;34m:\u001b[0m\u001b[0;34m\u001b[0m\u001b[0;34m\u001b[0m\u001b[0m\n\u001b[0m\u001b[1;32m    180\u001b[0m         \u001b[0mfp\u001b[0m\u001b[0;34m.\u001b[0m\u001b[0mwrite\u001b[0m\u001b[0;34m(\u001b[0m\u001b[0mchunk\u001b[0m\u001b[0;34m)\u001b[0m\u001b[0;34m\u001b[0m\u001b[0;34m\u001b[0m\u001b[0m\n\u001b[1;32m    181\u001b[0m \u001b[0;34m\u001b[0m\u001b[0m\n",
            "\u001b[0;32m/usr/lib/python3.7/json/encoder.py\u001b[0m in \u001b[0;36m_iterencode\u001b[0;34m(o, _current_indent_level)\u001b[0m\n\u001b[1;32m    427\u001b[0m             \u001b[0;32myield\u001b[0m \u001b[0m_floatstr\u001b[0m\u001b[0;34m(\u001b[0m\u001b[0mo\u001b[0m\u001b[0;34m)\u001b[0m\u001b[0;34m\u001b[0m\u001b[0;34m\u001b[0m\u001b[0m\n\u001b[1;32m    428\u001b[0m         \u001b[0;32melif\u001b[0m \u001b[0misinstance\u001b[0m\u001b[0;34m(\u001b[0m\u001b[0mo\u001b[0m\u001b[0;34m,\u001b[0m \u001b[0;34m(\u001b[0m\u001b[0mlist\u001b[0m\u001b[0;34m,\u001b[0m \u001b[0mtuple\u001b[0m\u001b[0;34m)\u001b[0m\u001b[0;34m)\u001b[0m\u001b[0;34m:\u001b[0m\u001b[0;34m\u001b[0m\u001b[0;34m\u001b[0m\u001b[0m\n\u001b[0;32m--> 429\u001b[0;31m             \u001b[0;32myield\u001b[0m \u001b[0;32mfrom\u001b[0m \u001b[0m_iterencode_list\u001b[0m\u001b[0;34m(\u001b[0m\u001b[0mo\u001b[0m\u001b[0;34m,\u001b[0m \u001b[0m_current_indent_level\u001b[0m\u001b[0;34m)\u001b[0m\u001b[0;34m\u001b[0m\u001b[0;34m\u001b[0m\u001b[0m\n\u001b[0m\u001b[1;32m    430\u001b[0m         \u001b[0;32melif\u001b[0m \u001b[0misinstance\u001b[0m\u001b[0;34m(\u001b[0m\u001b[0mo\u001b[0m\u001b[0;34m,\u001b[0m \u001b[0mdict\u001b[0m\u001b[0;34m)\u001b[0m\u001b[0;34m:\u001b[0m\u001b[0;34m\u001b[0m\u001b[0;34m\u001b[0m\u001b[0m\n\u001b[1;32m    431\u001b[0m             \u001b[0;32myield\u001b[0m \u001b[0;32mfrom\u001b[0m \u001b[0m_iterencode_dict\u001b[0m\u001b[0;34m(\u001b[0m\u001b[0mo\u001b[0m\u001b[0;34m,\u001b[0m \u001b[0m_current_indent_level\u001b[0m\u001b[0;34m)\u001b[0m\u001b[0;34m\u001b[0m\u001b[0;34m\u001b[0m\u001b[0m\n",
            "\u001b[0;32m/usr/lib/python3.7/json/encoder.py\u001b[0m in \u001b[0;36m_iterencode_list\u001b[0;34m(lst, _current_indent_level)\u001b[0m\n\u001b[1;32m    323\u001b[0m                 \u001b[0;32melse\u001b[0m\u001b[0;34m:\u001b[0m\u001b[0;34m\u001b[0m\u001b[0;34m\u001b[0m\u001b[0m\n\u001b[1;32m    324\u001b[0m                     \u001b[0mchunks\u001b[0m \u001b[0;34m=\u001b[0m \u001b[0m_iterencode\u001b[0m\u001b[0;34m(\u001b[0m\u001b[0mvalue\u001b[0m\u001b[0;34m,\u001b[0m \u001b[0m_current_indent_level\u001b[0m\u001b[0;34m)\u001b[0m\u001b[0;34m\u001b[0m\u001b[0;34m\u001b[0m\u001b[0m\n\u001b[0;32m--> 325\u001b[0;31m                 \u001b[0;32myield\u001b[0m \u001b[0;32mfrom\u001b[0m \u001b[0mchunks\u001b[0m\u001b[0;34m\u001b[0m\u001b[0;34m\u001b[0m\u001b[0m\n\u001b[0m\u001b[1;32m    326\u001b[0m         \u001b[0;32mif\u001b[0m \u001b[0mnewline_indent\u001b[0m \u001b[0;32mis\u001b[0m \u001b[0;32mnot\u001b[0m \u001b[0;32mNone\u001b[0m\u001b[0;34m:\u001b[0m\u001b[0;34m\u001b[0m\u001b[0;34m\u001b[0m\u001b[0m\n\u001b[1;32m    327\u001b[0m             \u001b[0m_current_indent_level\u001b[0m \u001b[0;34m-=\u001b[0m \u001b[0;36m1\u001b[0m\u001b[0;34m\u001b[0m\u001b[0;34m\u001b[0m\u001b[0m\n",
            "\u001b[0;32m/usr/lib/python3.7/json/encoder.py\u001b[0m in \u001b[0;36m_iterencode_list\u001b[0;34m(lst, _current_indent_level)\u001b[0m\n\u001b[1;32m    323\u001b[0m                 \u001b[0;32melse\u001b[0m\u001b[0;34m:\u001b[0m\u001b[0;34m\u001b[0m\u001b[0;34m\u001b[0m\u001b[0m\n\u001b[1;32m    324\u001b[0m                     \u001b[0mchunks\u001b[0m \u001b[0;34m=\u001b[0m \u001b[0m_iterencode\u001b[0m\u001b[0;34m(\u001b[0m\u001b[0mvalue\u001b[0m\u001b[0;34m,\u001b[0m \u001b[0m_current_indent_level\u001b[0m\u001b[0;34m)\u001b[0m\u001b[0;34m\u001b[0m\u001b[0;34m\u001b[0m\u001b[0m\n\u001b[0;32m--> 325\u001b[0;31m                 \u001b[0;32myield\u001b[0m \u001b[0;32mfrom\u001b[0m \u001b[0mchunks\u001b[0m\u001b[0;34m\u001b[0m\u001b[0;34m\u001b[0m\u001b[0m\n\u001b[0m\u001b[1;32m    326\u001b[0m         \u001b[0;32mif\u001b[0m \u001b[0mnewline_indent\u001b[0m \u001b[0;32mis\u001b[0m \u001b[0;32mnot\u001b[0m \u001b[0;32mNone\u001b[0m\u001b[0;34m:\u001b[0m\u001b[0;34m\u001b[0m\u001b[0;34m\u001b[0m\u001b[0m\n\u001b[1;32m    327\u001b[0m             \u001b[0m_current_indent_level\u001b[0m \u001b[0;34m-=\u001b[0m \u001b[0;36m1\u001b[0m\u001b[0;34m\u001b[0m\u001b[0;34m\u001b[0m\u001b[0m\n",
            "\u001b[0;32m/usr/lib/python3.7/json/encoder.py\u001b[0m in \u001b[0;36m_iterencode\u001b[0;34m(o, _current_indent_level)\u001b[0m\n\u001b[1;32m    436\u001b[0m                     \u001b[0;32mraise\u001b[0m \u001b[0mValueError\u001b[0m\u001b[0;34m(\u001b[0m\u001b[0;34m\"Circular reference detected\"\u001b[0m\u001b[0;34m)\u001b[0m\u001b[0;34m\u001b[0m\u001b[0;34m\u001b[0m\u001b[0m\n\u001b[1;32m    437\u001b[0m                 \u001b[0mmarkers\u001b[0m\u001b[0;34m[\u001b[0m\u001b[0mmarkerid\u001b[0m\u001b[0;34m]\u001b[0m \u001b[0;34m=\u001b[0m \u001b[0mo\u001b[0m\u001b[0;34m\u001b[0m\u001b[0;34m\u001b[0m\u001b[0m\n\u001b[0;32m--> 438\u001b[0;31m             \u001b[0mo\u001b[0m \u001b[0;34m=\u001b[0m \u001b[0m_default\u001b[0m\u001b[0;34m(\u001b[0m\u001b[0mo\u001b[0m\u001b[0;34m)\u001b[0m\u001b[0;34m\u001b[0m\u001b[0;34m\u001b[0m\u001b[0m\n\u001b[0m\u001b[1;32m    439\u001b[0m             \u001b[0;32myield\u001b[0m \u001b[0;32mfrom\u001b[0m \u001b[0m_iterencode\u001b[0m\u001b[0;34m(\u001b[0m\u001b[0mo\u001b[0m\u001b[0;34m,\u001b[0m \u001b[0m_current_indent_level\u001b[0m\u001b[0;34m)\u001b[0m\u001b[0;34m\u001b[0m\u001b[0;34m\u001b[0m\u001b[0m\n\u001b[1;32m    440\u001b[0m             \u001b[0;32mif\u001b[0m \u001b[0mmarkers\u001b[0m \u001b[0;32mis\u001b[0m \u001b[0;32mnot\u001b[0m \u001b[0;32mNone\u001b[0m\u001b[0;34m:\u001b[0m\u001b[0;34m\u001b[0m\u001b[0;34m\u001b[0m\u001b[0m\n",
            "\u001b[0;32m/usr/lib/python3.7/json/encoder.py\u001b[0m in \u001b[0;36mdefault\u001b[0;34m(self, o)\u001b[0m\n\u001b[1;32m    177\u001b[0m \u001b[0;34m\u001b[0m\u001b[0m\n\u001b[1;32m    178\u001b[0m         \"\"\"\n\u001b[0;32m--> 179\u001b[0;31m         raise TypeError(f'Object of type {o.__class__.__name__} '\n\u001b[0m\u001b[1;32m    180\u001b[0m                         f'is not JSON serializable')\n\u001b[1;32m    181\u001b[0m \u001b[0;34m\u001b[0m\u001b[0m\n",
            "\u001b[0;31mTypeError\u001b[0m: Object of type Tensor is not JSON serializable"
          ]
        }
      ]
    },
    {
      "cell_type": "markdown",
      "metadata": {
        "id": "JoVU9_V4zXOL"
      },
      "source": [
        "#### Saving best resnet on 100 classes for each seed"
      ]
    },
    {
      "cell_type": "markdown",
      "metadata": {
        "id": "2NMLqiIS19IJ"
      },
      "source": [
        "### Print some graphs"
      ]
    },
    {
      "cell_type": "code",
      "metadata": {
        "id": "G6Mg2QiIBNRo"
      },
      "source": [
        "from data.utils_plot import plot_train_val, plot_test_accuracies, plot_confusion_matrix"
      ],
      "execution_count": null,
      "outputs": []
    },
    {
      "cell_type": "code",
      "metadata": {
        "id": "M2QzOlExmhKo"
      },
      "source": [
        "train_loss = np.array(train_loss)\n",
        "train_accuracy = np.array(train_accuracy)\n",
        "val_loss = np.array(val_loss)\n",
        "val_accuracy = np.array(val_accuracy)\n",
        "test_accuracy = np.array(test_accuracy)\n",
        "\n",
        "\n",
        "\n",
        "train_loss_stats = np.array([train_loss.mean(0), train_loss.std(0)]).transpose()\n",
        "train_accuracy_stats = np.array([train_accuracy.mean(0), train_accuracy.std(0)]).transpose()\n",
        "val_loss_stats = np.array([val_loss.mean(0), val_loss.std(0)]).transpose()\n",
        "val_accuracy_stats = np.array([val_accuracy.mean(0), val_accuracy.std(0)]).transpose()\n",
        "test_accuracy_stats = np.array([test_accuracy.mean(0), test_accuracy.std(0)]).transpose()\n",
        "\n",
        "\n",
        "open_values = np.array(open_values)\n",
        "closed_values = np.array(closed_values)"
      ],
      "execution_count": null,
      "outputs": []
    },
    {
      "cell_type": "code",
      "metadata": {
        "id": "jhDfQb32kuJg"
      },
      "source": [
        "threshold = 0.75\n",
        "print(f\"Threshold: {threshold}\")\n",
        "fig, axs = plt.subplots(1,2)\n",
        "fig.set_size_inches(15, 5)\n",
        "\n",
        "\n",
        "\n",
        "a,b,c = axs[0].hist(closed_values[0][4].cpu().numpy(), color = 'red', edgecolor = 'black', bins = [0,threshold,1])\n",
        "below = c[0].get_height()\n",
        "above = c[1].get_height()\n",
        "print(f\"closed_below:{below}, close_above:{above}\")\n",
        "print(f\"closed world rejection rate: {below/(below+above):.2f} (should be 0)\")\n",
        "\n",
        "\n",
        "a,b,c = axs[1].hist(open_values[0][4].cpu().numpy(), color = 'blue', edgecolor = 'black', bins = [0,threshold,1])\n",
        "below = c[0].get_height()\n",
        "above = c[1].get_height()\n",
        "print(f\"open_below:{below}, open_above:{above}\")\n",
        "print(f\"open world rejection rate: {below/(below+above):.2f} (should be 1)\")"
      ],
      "execution_count": null,
      "outputs": []
    },
    {
      "cell_type": "code",
      "metadata": {
        "id": "GQc5Bv_yF9eP"
      },
      "source": [
        "mask = logs[run]['predictions'] == 50\n",
        "rejected = torch.sum(mask)\n",
        "total = logs[run]['predictions'].size(0)\n",
        "\n",
        "print(f\"rejection rate: {rejected/total:.2f}\")\n",
        "\n",
        "\n"
      ],
      "execution_count": null,
      "outputs": []
    },
    {
      "cell_type": "markdown",
      "metadata": {
        "id": "6rB0p1PlFxrc"
      },
      "source": [
        "#### Train validation loss"
      ]
    },
    {
      "cell_type": "code",
      "metadata": {
        "id": "lAW6ze3-S_Kk"
      },
      "source": [
        "def plot_losses(train_stats, val_stats, loss = bool, save_directory = None):\n",
        "  train_mean = np.array(train_stats)[:, 0]\n",
        "  train_std = np.array(train_stats)[:, 1]\n",
        "  val_mean = np.array(val_stats)[:, 0]\n",
        "  val_std = np.array(val_stats)[:, 1]\n",
        "  fig, ax = plt.subplots(figsize = (10, 5), dpi = 100)\n",
        "  x = np.arange(10,51,10)\n",
        "  ax.errorbar(x, train_mean, train_std, label = 'Training')\n",
        "  ax.errorbar(x, val_mean, val_std, label = 'Validation')\n",
        "  if loss:\n",
        "    ax.set_title(\"Training and validation loss\")\n",
        "    ax.set_ylabel(\"Loss\")\n",
        "  else:\n",
        "    ax.set_title(\"Training and validation accuracy\")\n",
        "    ax.set_ylabel(\"Accuracy\")\n",
        "  ax.set_xlabel(\"Number of classes\")\n",
        "  plt.tight_layout()\n",
        "  ax.legend()\n",
        "  if save_directory != None:\n",
        "    fig.savefig(save_directory)\n",
        "  plt.show()\n",
        "\n",
        "plot_losses(train_loss_stats, val_loss_stats, loss = True)"
      ],
      "execution_count": null,
      "outputs": []
    },
    {
      "cell_type": "markdown",
      "metadata": {
        "id": "Hb_RNTNKF18b"
      },
      "source": [
        "#### Train validation accuracy"
      ]
    },
    {
      "cell_type": "code",
      "metadata": {
        "id": "05IT5LFUBBBV"
      },
      "source": [
        "def plot_acc(train_stats, val_stats, loss = bool, save_directory = None):\n",
        "  train_mean = np.array(train_stats)[:, 0]\n",
        "  train_std = np.array(train_stats)[:, 1]\n",
        "  val_mean = np.array(val_stats)[:, 0]\n",
        "  val_std = np.array(val_stats)[:, 1]\n",
        "  fig, ax = plt.subplots(figsize = (10, 5), dpi = 100)\n",
        "  x = np.arange(10, 51, 10)\n",
        "  ax.errorbar(x, train_mean, train_std, label = 'Training')\n",
        "  ax.errorbar(x, val_mean, val_std, label = 'Validation')\n",
        "  if loss:\n",
        "    ax.set_title(\"Training and validation loss\")\n",
        "    ax.set_ylabel(\"Loss\")\n",
        "  else:\n",
        "    ax.set_title(\"Training and validation accuracy\")\n",
        "    ax.set_ylabel(\"Accuracy\")\n",
        "  ax.set_xlabel(\"Number of classes\")\n",
        "  plt.tight_layout()\n",
        "  ax.legend()\n",
        "  if save_directory != None:\n",
        "    fig.savefig(save_directory)\n",
        "  plt.show()\n",
        "\n",
        "plot_acc(train_accuracy_stats, val_accuracy_stats, loss = False)"
      ],
      "execution_count": null,
      "outputs": []
    },
    {
      "cell_type": "markdown",
      "metadata": {
        "id": "llzylw_LF7e_"
      },
      "source": [
        "#### Test accuracy"
      ]
    },
    {
      "cell_type": "code",
      "metadata": {
        "id": "Bou4H0k9mteX"
      },
      "source": [
        "def plot_test(stats, save_directory = None):\n",
        "  mean = np.array(stats)[:, 0]\n",
        "  std = np.array(stats)[:, 1]\n",
        "  fig, ax = plt.subplots(figsize = (10, 5), dpi = 100)\n",
        "  x = np.arange(10, 51, 10)\n",
        "  ax.errorbar(x, mean, std)\n",
        "  ax.set_title(\"Test accuracy\")\n",
        "  ax.set_xlabel(\"Number of classes\")\n",
        "  ax.set_ylabel(\"Accuracy\")\n",
        "  plt.tight_layout()\n",
        "  if save_directory != None:\n",
        "    fig.savefig(save_directory)\n",
        "  plt.show()\n",
        "  \n",
        "plot_test(test_accuracy_stats)"
      ],
      "execution_count": null,
      "outputs": []
    },
    {
      "cell_type": "markdown",
      "metadata": {
        "id": "gN6cighYm1nG"
      },
      "source": [
        "#### Confusion Matrix"
      ]
    },
    {
      "cell_type": "code",
      "metadata": {
        "id": "LPG6aNRjm5Se"
      },
      "source": [
        "for run in range(len(RANDOM_SEED)):\n",
        "  targets = np.array(true_labels[run])\n",
        "  preds = np.array(predictions[run])\n",
        "\n",
        "  plot_confusion_matrix(targets, preds, RANDOM_SEED[run], 'iCaRL')"
      ],
      "execution_count": null,
      "outputs": []
    }
  ]
}