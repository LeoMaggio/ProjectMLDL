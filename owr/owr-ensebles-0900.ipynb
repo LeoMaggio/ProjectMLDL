{
  "nbformat": 4,
  "nbformat_minor": 0,
  "metadata": {
    "colab": {
      "name": "OWR-Ensembles.ipynb",
      "provenance": [],
      "include_colab_link": true
    },
    "kernelspec": {
      "name": "python3",
      "display_name": "Python 3"
    },
    "language_info": {
      "name": "python"
    },
    "accelerator": "GPU",
    "widgets": {
      "application/vnd.jupyter.widget-state+json": {
        "e9f51990dca14e45b0e13b3cf1363eaf": {
          "model_module": "@jupyter-widgets/controls",
          "model_name": "HBoxModel",
          "state": {
            "_view_name": "HBoxView",
            "_dom_classes": [],
            "_model_name": "HBoxModel",
            "_view_module": "@jupyter-widgets/controls",
            "_model_module_version": "1.5.0",
            "_view_count": null,
            "_view_module_version": "1.5.0",
            "box_style": "",
            "layout": "IPY_MODEL_82154927a27f4d9587dae4c787305355",
            "_model_module": "@jupyter-widgets/controls",
            "children": [
              "IPY_MODEL_c85c3d616cac4bbe816b122e896f74ac",
              "IPY_MODEL_1d4100a4cb304d9d9565f5e15a544f71"
            ]
          }
        },
        "82154927a27f4d9587dae4c787305355": {
          "model_module": "@jupyter-widgets/base",
          "model_name": "LayoutModel",
          "state": {
            "_view_name": "LayoutView",
            "grid_template_rows": null,
            "right": null,
            "justify_content": null,
            "_view_module": "@jupyter-widgets/base",
            "overflow": null,
            "_model_module_version": "1.2.0",
            "_view_count": null,
            "flex_flow": null,
            "width": null,
            "min_width": null,
            "border": null,
            "align_items": null,
            "bottom": null,
            "_model_module": "@jupyter-widgets/base",
            "top": null,
            "grid_column": null,
            "overflow_y": null,
            "overflow_x": null,
            "grid_auto_flow": null,
            "grid_area": null,
            "grid_template_columns": null,
            "flex": null,
            "_model_name": "LayoutModel",
            "justify_items": null,
            "grid_row": null,
            "max_height": null,
            "align_content": null,
            "visibility": null,
            "align_self": null,
            "height": null,
            "min_height": null,
            "padding": null,
            "grid_auto_rows": null,
            "grid_gap": null,
            "max_width": null,
            "order": null,
            "_view_module_version": "1.2.0",
            "grid_template_areas": null,
            "object_position": null,
            "object_fit": null,
            "grid_auto_columns": null,
            "margin": null,
            "display": null,
            "left": null
          }
        },
        "c85c3d616cac4bbe816b122e896f74ac": {
          "model_module": "@jupyter-widgets/controls",
          "model_name": "FloatProgressModel",
          "state": {
            "_view_name": "ProgressView",
            "style": "IPY_MODEL_acd1716a3ffc4adfaffab4301a76a58d",
            "_dom_classes": [],
            "description": "",
            "_model_name": "FloatProgressModel",
            "bar_style": "success",
            "max": 169001437,
            "_view_module": "@jupyter-widgets/controls",
            "_model_module_version": "1.5.0",
            "value": 169001437,
            "_view_count": null,
            "_view_module_version": "1.5.0",
            "orientation": "horizontal",
            "min": 0,
            "description_tooltip": null,
            "_model_module": "@jupyter-widgets/controls",
            "layout": "IPY_MODEL_160e1b114e344175957ac3391f5f64dd"
          }
        },
        "1d4100a4cb304d9d9565f5e15a544f71": {
          "model_module": "@jupyter-widgets/controls",
          "model_name": "HTMLModel",
          "state": {
            "_view_name": "HTMLView",
            "style": "IPY_MODEL_4e3b483f45bc4a96b52fefebcff6bdfc",
            "_dom_classes": [],
            "description": "",
            "_model_name": "HTMLModel",
            "placeholder": "​",
            "_view_module": "@jupyter-widgets/controls",
            "_model_module_version": "1.5.0",
            "value": " 169001984/? [00:34&lt;00:00, 4908790.89it/s]",
            "_view_count": null,
            "_view_module_version": "1.5.0",
            "description_tooltip": null,
            "_model_module": "@jupyter-widgets/controls",
            "layout": "IPY_MODEL_ea1844270f5647319046c82651c9ae24"
          }
        },
        "acd1716a3ffc4adfaffab4301a76a58d": {
          "model_module": "@jupyter-widgets/controls",
          "model_name": "ProgressStyleModel",
          "state": {
            "_view_name": "StyleView",
            "_model_name": "ProgressStyleModel",
            "description_width": "initial",
            "_view_module": "@jupyter-widgets/base",
            "_model_module_version": "1.5.0",
            "_view_count": null,
            "_view_module_version": "1.2.0",
            "bar_color": null,
            "_model_module": "@jupyter-widgets/controls"
          }
        },
        "160e1b114e344175957ac3391f5f64dd": {
          "model_module": "@jupyter-widgets/base",
          "model_name": "LayoutModel",
          "state": {
            "_view_name": "LayoutView",
            "grid_template_rows": null,
            "right": null,
            "justify_content": null,
            "_view_module": "@jupyter-widgets/base",
            "overflow": null,
            "_model_module_version": "1.2.0",
            "_view_count": null,
            "flex_flow": null,
            "width": null,
            "min_width": null,
            "border": null,
            "align_items": null,
            "bottom": null,
            "_model_module": "@jupyter-widgets/base",
            "top": null,
            "grid_column": null,
            "overflow_y": null,
            "overflow_x": null,
            "grid_auto_flow": null,
            "grid_area": null,
            "grid_template_columns": null,
            "flex": null,
            "_model_name": "LayoutModel",
            "justify_items": null,
            "grid_row": null,
            "max_height": null,
            "align_content": null,
            "visibility": null,
            "align_self": null,
            "height": null,
            "min_height": null,
            "padding": null,
            "grid_auto_rows": null,
            "grid_gap": null,
            "max_width": null,
            "order": null,
            "_view_module_version": "1.2.0",
            "grid_template_areas": null,
            "object_position": null,
            "object_fit": null,
            "grid_auto_columns": null,
            "margin": null,
            "display": null,
            "left": null
          }
        },
        "4e3b483f45bc4a96b52fefebcff6bdfc": {
          "model_module": "@jupyter-widgets/controls",
          "model_name": "DescriptionStyleModel",
          "state": {
            "_view_name": "StyleView",
            "_model_name": "DescriptionStyleModel",
            "description_width": "",
            "_view_module": "@jupyter-widgets/base",
            "_model_module_version": "1.5.0",
            "_view_count": null,
            "_view_module_version": "1.2.0",
            "_model_module": "@jupyter-widgets/controls"
          }
        },
        "ea1844270f5647319046c82651c9ae24": {
          "model_module": "@jupyter-widgets/base",
          "model_name": "LayoutModel",
          "state": {
            "_view_name": "LayoutView",
            "grid_template_rows": null,
            "right": null,
            "justify_content": null,
            "_view_module": "@jupyter-widgets/base",
            "overflow": null,
            "_model_module_version": "1.2.0",
            "_view_count": null,
            "flex_flow": null,
            "width": null,
            "min_width": null,
            "border": null,
            "align_items": null,
            "bottom": null,
            "_model_module": "@jupyter-widgets/base",
            "top": null,
            "grid_column": null,
            "overflow_y": null,
            "overflow_x": null,
            "grid_auto_flow": null,
            "grid_area": null,
            "grid_template_columns": null,
            "flex": null,
            "_model_name": "LayoutModel",
            "justify_items": null,
            "grid_row": null,
            "max_height": null,
            "align_content": null,
            "visibility": null,
            "align_self": null,
            "height": null,
            "min_height": null,
            "padding": null,
            "grid_auto_rows": null,
            "grid_gap": null,
            "max_width": null,
            "order": null,
            "_view_module_version": "1.2.0",
            "grid_template_areas": null,
            "object_position": null,
            "object_fit": null,
            "grid_auto_columns": null,
            "margin": null,
            "display": null,
            "left": null
          }
        }
      }
    }
  },
  "cells": [
    {
      "cell_type": "markdown",
      "metadata": {
        "id": "view-in-github",
        "colab_type": "text"
      },
      "source": [
        "<a href=\"https://colab.research.google.com/github/cosminnedescu/ProjectMLDL/blob/main/owr/owr-ensebles-0900.ipynb\" target=\"_parent\"><img src=\"https://colab.research.google.com/assets/colab-badge.svg\" alt=\"Open In Colab\"/></a>"
      ]
    },
    {
      "cell_type": "code",
      "metadata": {
        "id": "PF5bRIxnU-PW",
        "colab": {
          "base_uri": "https://localhost:8080/"
        },
        "outputId": "c50e6a56-26f5-4646-8172-0167bd029a58"
      },
      "source": [
        "# Avoid K80\n",
        "!nvidia-smi"
      ],
      "execution_count": 1,
      "outputs": [
        {
          "output_type": "stream",
          "text": [
            "Tue Jul 13 07:12:44 2021       \n",
            "+-----------------------------------------------------------------------------+\n",
            "| NVIDIA-SMI 470.42.01    Driver Version: 460.32.03    CUDA Version: 11.2     |\n",
            "|-------------------------------+----------------------+----------------------+\n",
            "| GPU  Name        Persistence-M| Bus-Id        Disp.A | Volatile Uncorr. ECC |\n",
            "| Fan  Temp  Perf  Pwr:Usage/Cap|         Memory-Usage | GPU-Util  Compute M. |\n",
            "|                               |                      |               MIG M. |\n",
            "|===============================+======================+======================|\n",
            "|   0  Tesla T4            Off  | 00000000:00:04.0 Off |                    0 |\n",
            "| N/A   68C    P8    11W /  70W |      0MiB / 15109MiB |      0%      Default |\n",
            "|                               |                      |                  N/A |\n",
            "+-------------------------------+----------------------+----------------------+\n",
            "                                                                               \n",
            "+-----------------------------------------------------------------------------+\n",
            "| Processes:                                                                  |\n",
            "|  GPU   GI   CI        PID   Type   Process name                  GPU Memory |\n",
            "|        ID   ID                                                   Usage      |\n",
            "|=============================================================================|\n",
            "|  No running processes found                                                 |\n",
            "+-----------------------------------------------------------------------------+\n"
          ],
          "name": "stdout"
        }
      ]
    },
    {
      "cell_type": "code",
      "metadata": {
        "id": "pJimWkPdQu6y"
      },
      "source": [
        "import os\n",
        "import random\n",
        "\n",
        "import torch\n",
        "import torch.nn as nn\n",
        "import torch.nn.init as init\n",
        "import torch.optim as optim\n",
        "from torch.autograd import Variable\n",
        "\n",
        "import torchvision\n",
        "from torchvision import transforms, datasets, models\n",
        "from torch.utils.data import Subset, DataLoader\n",
        "\n",
        "from PIL import Image\n",
        "\n",
        "import numpy as np\n",
        "import matplotlib \n",
        "import matplotlib.pyplot as plt\n",
        "from copy import copy\n",
        "from copy import deepcopy"
      ],
      "execution_count": 2,
      "outputs": []
    },
    {
      "cell_type": "markdown",
      "metadata": {
        "id": "7BZw-bZJ16ay"
      },
      "source": [
        "#### Cloning the Git repository"
      ]
    },
    {
      "cell_type": "code",
      "metadata": {
        "id": "yjntw1jZQ7Lg",
        "colab": {
          "base_uri": "https://localhost:8080/"
        },
        "outputId": "41b7f25d-25a6-4295-cedd-4e2f65adb636"
      },
      "source": [
        "!rm -rf ProjectMLDL\n",
        "if not os.path.isdir('/content/ProjectMLDL'):\n",
        "  !git clone https://github.com/cosminnedescu/ProjectMLDL.git\n",
        "  %cd /content/ProjectMLDL\n",
        "  !rm -rf LICENSE README.md"
      ],
      "execution_count": 3,
      "outputs": [
        {
          "output_type": "stream",
          "text": [
            "Cloning into 'ProjectMLDL'...\n",
            "remote: Enumerating objects: 3539, done.\u001b[K\n",
            "remote: Counting objects: 100% (955/955), done.\u001b[K\n",
            "remote: Compressing objects: 100% (395/395), done.\u001b[K\n",
            "remote: Total 3539 (delta 551), reused 930 (delta 544), pack-reused 2584\u001b[K\n",
            "Receiving objects: 100% (3539/3539), 181.76 MiB | 34.57 MiB/s, done.\n",
            "Resolving deltas: 100% (1936/1936), done.\n",
            "Checking out files: 100% (389/389), done.\n",
            "/content/ProjectMLDL\n"
          ],
          "name": "stdout"
        }
      ]
    },
    {
      "cell_type": "code",
      "metadata": {
        "id": "nvqmxRxo2lUW"
      },
      "source": [
        "from data.cifar100 import CIFAR100\n",
        "from model.resnet32_modified import resnet32\n",
        "import data.utils\n",
        "from model.owrEnsamble import owrEnsemble"
      ],
      "execution_count": 4,
      "outputs": []
    },
    {
      "cell_type": "code",
      "metadata": {
        "id": "XwomFTtQo1x-"
      },
      "source": [
        "# True mean and std of Cifar100 dataset (src=\"https://gist.github.com/weiaicunzai/e623931921efefd4c331622c344d8151\")\n",
        "mean = [0.5071, 0.4867, 0.4408]\n",
        "std = [0.2675, 0.2565, 0.2761]\n",
        "\n",
        "train_transform = transforms.Compose([\n",
        "    transforms.RandomCrop(32, padding=4),\n",
        "    transforms.RandomHorizontalFlip(),\n",
        "    transforms.ToTensor(),\n",
        "    transforms.Normalize(mean, std),\n",
        "])\n",
        "test_transform = transforms.Compose(\n",
        "    [transforms.ToTensor(), \n",
        "     transforms.Normalize(mean, std),\n",
        "     ])"
      ],
      "execution_count": 5,
      "outputs": []
    },
    {
      "cell_type": "markdown",
      "metadata": {
        "id": "yRoS-R_sRhHT"
      },
      "source": [
        "## Incremental Classifier and Representation Learning"
      ]
    },
    {
      "cell_type": "markdown",
      "metadata": {
        "id": "3ocVW0wM2Iw2"
      },
      "source": [
        "### Defining hyperparameters according to iCarl paper"
      ]
    },
    {
      "cell_type": "code",
      "metadata": {
        "id": "nmEo_9lnwyBk"
      },
      "source": [
        "# Settings\n",
        "DEVICE = 'cuda'\n",
        "NUM_CLASSES = 100         # Total number of classes\n",
        "VAL_SIZE = 0.2            # Proportion of validation set with respect to training set (between 0 and 1)\n",
        "\n",
        "# Training\n",
        "BATCH_SIZE = 128          # Batch size\n",
        "LR = 0.1                    # Initial learning rate\n",
        "                       \n",
        "MOMENTUM = 0.9            # Momentum for stochastic gradient descent (SGD)\n",
        "WEIGHT_DECAY = 1e-5       # Weight decay from iCaRL\n",
        "\n",
        "RANDOM_SEED = [20]  # Random seeds defining the runs of every method\n",
        "                          # Note: this should be at least 3 to have a fair benchmark\n",
        "\n",
        "NUM_EPOCHS = 70           # Total number of training epochs\n",
        "MILESTONES = [43, 63]     # Step down policy from iCaRL (MultiStepLR)\n",
        "                          # Decrease the learning rate by gamma at each milestone\n",
        "GAMMA = 0.2               # Gamma factor from iCaRL (1/5)\n",
        "\n",
        "HERDING = False           # True to perform prioritized selection, False to perform random selection\n",
        "CLASSIFY = True           # True to use mean-of-exemplar classifier, False to use network's output directly for classification\n",
        "\n",
        "REJECTION_THRESHOLD = [0.25,0.35,0.50,0.60,0.75,0.85,0.95]\n",
        "TESTING_MODE = 'harmonic' #open, closed, harmonic\n",
        "N_ESTIMATORS = 5\n",
        "CONFIDENCE = '0.900' #'0.900':1.47, '0.950':1.94, '0.975':2.45, '0.990':3.36\n",
        "    "
      ],
      "execution_count": 6,
      "outputs": []
    },
    {
      "cell_type": "code",
      "metadata": {
        "id": "rVh61C63FECy"
      },
      "source": [
        "def do_group_classes(run):\n",
        "\n",
        "  train_subset = [[] for i in range(10)]\n",
        "  train_dataloader = [[] for i in range(10)]\n",
        "  val_dataloader = [[] for i in range(10)]\n",
        "  test_dataloader = [[] for i in range(10)]\n",
        "\n",
        "  for i in range(10):\n",
        "    train_data = CIFAR100(\"dataset\", \n",
        "                          train=True, \n",
        "                          transform=train_transform, \n",
        "                          download=(run+i==0),\n",
        "                          random_state=RANDOM_SEED[run])\n",
        "    test_data = CIFAR100(\"dataset\", \n",
        "                         train=False, \n",
        "                         transform=test_transform, \n",
        "                         download=False,\n",
        "                         random_state=RANDOM_SEED[run])\n",
        "    \n",
        "    train_data.set_index_map(train_data.splits[i])\n",
        "    test_data.set_index_map([test_data.splits[j] for j in range(0, i+1)])\n",
        "    \n",
        "    train_indices, val_indices = train_data.train_val_split(VAL_SIZE, RANDOM_SEED[run])\n",
        "    \n",
        "    train_subset[i] = copy(Subset(train_data, train_indices))\n",
        "    val_subset = Subset(train_data, val_indices)\n",
        "\n",
        "    tmp_dl = DataLoader(val_subset,\n",
        "                       batch_size=BATCH_SIZE,\n",
        "                       shuffle=True, \n",
        "                       num_workers=4,\n",
        "                       drop_last=True)\n",
        "    val_dataloader[i] = copy(tmp_dl)\n",
        "\n",
        "    tmp_dl = DataLoader(test_data,\n",
        "                       batch_size=BATCH_SIZE,\n",
        "                       shuffle=True, \n",
        "                       num_workers=4,\n",
        "                       drop_last=True)\n",
        "    test_dataloader[i] = copy(tmp_dl)\n",
        "\n",
        "  return train_dataloader, val_dataloader, test_dataloader, train_subset"
      ],
      "execution_count": 7,
      "outputs": []
    },
    {
      "cell_type": "markdown",
      "metadata": {
        "id": "20APZIgI1eBy"
      },
      "source": [
        "### Going on with the model\n",
        "This is the main iCaRL step.\n",
        "\n",
        "This step is run 3 times with different `RANDOM_SEED`.\n",
        "Here the model is instantiated, trained and tested.\n",
        "\n",
        "Results and some statistics are then stored in the variable `logs`."
      ]
    },
    {
      "cell_type": "code",
      "metadata": {
        "id": "mJHKbipz0bMr",
        "colab": {
          "base_uri": "https://localhost:8080/",
          "height": 1000,
          "referenced_widgets": [
            "e9f51990dca14e45b0e13b3cf1363eaf",
            "82154927a27f4d9587dae4c787305355",
            "c85c3d616cac4bbe816b122e896f74ac",
            "1d4100a4cb304d9d9565f5e15a544f71",
            "acd1716a3ffc4adfaffab4301a76a58d",
            "160e1b114e344175957ac3391f5f64dd",
            "4e3b483f45bc4a96b52fefebcff6bdfc",
            "ea1844270f5647319046c82651c9ae24"
          ]
        },
        "outputId": "593040fa-171b-4158-f077-e889c7e22410"
      },
      "source": [
        "logs = [[] for i in range(len(RANDOM_SEED))]\n",
        "best_net_tot_classes = [None for i in range(len(RANDOM_SEED))]\n",
        "\n",
        "for run in range(len(RANDOM_SEED)):\n",
        "  print(\"#################################\")\n",
        "  print(f\"Radom seed: {RANDOM_SEED[run]}\")\n",
        "  print(\"\")\n",
        "\n",
        "  # get data_subsets separated in incremental groups of 10 classes\n",
        "  train_dl, val_dl, test_dl, train_set = do_group_classes(run)\n",
        "\n",
        "  #create the resnet\n",
        "  net = resnet32()\n",
        "  \n",
        "  trainer = owrEnsemble(DEVICE,\n",
        "                  net,\n",
        "                  LR,\n",
        "                  MOMENTUM,\n",
        "                  WEIGHT_DECAY,\n",
        "                  MILESTONES,\n",
        "                  GAMMA,\n",
        "                  train_dl,\n",
        "                  val_dl,\n",
        "                  test_dl,\n",
        "                  BATCH_SIZE,\n",
        "                  train_set,\n",
        "                  train_transform,\n",
        "                  test_transform,\n",
        "                  TESTING_MODE,\n",
        "                  REJECTION_THRESHOLD,\n",
        "                  N_ESTIMATORS,\n",
        "                  CONFIDENCE) \n",
        "\n",
        "  #train and evaluate the model\n",
        "  logs[run] = trainer.train_model(NUM_EPOCHS)\n",
        "\n",
        "  best_net_tot_classes[run] = deepcopy(trainer.best_net)\n",
        "\n",
        "  print(\"#################################\")\n",
        "  print(\"\")\n",
        "  print(\"\")"
      ],
      "execution_count": 8,
      "outputs": [
        {
          "output_type": "stream",
          "text": [
            "#################################\n",
            "Radom seed: 20\n",
            "\n",
            "Downloading https://www.cs.toronto.edu/~kriz/cifar-100-python.tar.gz to dataset/cifar-100-python.tar.gz\n"
          ],
          "name": "stdout"
        },
        {
          "output_type": "display_data",
          "data": {
            "application/vnd.jupyter.widget-view+json": {
              "model_id": "e9f51990dca14e45b0e13b3cf1363eaf",
              "version_minor": 0,
              "version_major": 2
            },
            "text/plain": [
              "HBox(children=(FloatProgress(value=0.0, max=169001437.0), HTML(value='')))"
            ]
          },
          "metadata": {
            "tags": []
          }
        },
        {
          "output_type": "stream",
          "text": [
            "\n",
            "Extracting dataset/cifar-100-python.tar.gz to dataset\n"
          ],
          "name": "stdout"
        },
        {
          "output_type": "stream",
          "text": [
            "/usr/local/lib/python3.7/dist-packages/torch/utils/data/dataloader.py:481: UserWarning: This DataLoader will create 4 worker processes in total. Our suggested max number of worker in current system is 2, which is smaller than what this DataLoader is going to create. Please be aware that excessive worker creation might get DataLoader running slow or even freeze, lower the worker number to avoid potential slowness/freeze if necessary.\n",
            "  cpuset_checked))\n"
          ],
          "name": "stderr"
        },
        {
          "output_type": "stream",
          "text": [
            "Log will be saved in '/content/ProjectMLDL/logs'.\n",
            "Create folder 'logs/'\n",
            "Start logging into file /content/ProjectMLDL/logs/classification_mnist_mlp-2021_07_13_07_13.log...\n",
            "Length of exemplars set: 0\n"
          ],
          "name": "stdout"
        },
        {
          "output_type": "stream",
          "text": [
            "2021-07-13 07:13:45,218 - INFO: lr: 0.10000 | Epoch: 000 | Batch: 000 | Loss: 2.30352 | Correct: 13/128\n"
          ],
          "name": "stderr"
        },
        {
          "output_type": "stream",
          "text": [
            "None\n"
          ],
          "name": "stdout"
        },
        {
          "output_type": "stream",
          "text": [
            "2021-07-13 07:13:47,377 - INFO: lr: 0.09875 | Epoch: 001 | Batch: 000 | Loss: 1.71175 | Correct: 42/128\n"
          ],
          "name": "stderr"
        },
        {
          "output_type": "stream",
          "text": [
            "None\n"
          ],
          "name": "stdout"
        },
        {
          "output_type": "stream",
          "text": [
            "2021-07-13 07:13:49,644 - INFO: lr: 0.09505 | Epoch: 002 | Batch: 000 | Loss: 1.74316 | Correct: 47/128\n"
          ],
          "name": "stderr"
        },
        {
          "output_type": "stream",
          "text": [
            "None\n"
          ],
          "name": "stdout"
        },
        {
          "output_type": "stream",
          "text": [
            "2021-07-13 07:13:51,733 - INFO: lr: 0.08909 | Epoch: 003 | Batch: 000 | Loss: 1.46446 | Correct: 51/128\n"
          ],
          "name": "stderr"
        },
        {
          "output_type": "stream",
          "text": [
            "None\n"
          ],
          "name": "stdout"
        },
        {
          "output_type": "stream",
          "text": [
            "2021-07-13 07:13:53,912 - INFO: lr: 0.08117 | Epoch: 004 | Batch: 000 | Loss: 1.46210 | Correct: 57/128\n"
          ],
          "name": "stderr"
        },
        {
          "output_type": "stream",
          "text": [
            "None\n"
          ],
          "name": "stdout"
        },
        {
          "output_type": "stream",
          "text": [
            "2021-07-13 07:13:56,106 - INFO: lr: 0.07169 | Epoch: 005 | Batch: 000 | Loss: 1.32257 | Correct: 76/128\n"
          ],
          "name": "stderr"
        },
        {
          "output_type": "stream",
          "text": [
            "None\n"
          ],
          "name": "stdout"
        },
        {
          "output_type": "stream",
          "text": [
            "2021-07-13 07:13:58,257 - INFO: lr: 0.06113 | Epoch: 006 | Batch: 000 | Loss: 1.11320 | Correct: 76/128\n"
          ],
          "name": "stderr"
        },
        {
          "output_type": "stream",
          "text": [
            "None\n"
          ],
          "name": "stdout"
        },
        {
          "output_type": "stream",
          "text": [
            "2021-07-13 07:14:00,440 - INFO: lr: 0.05000 | Epoch: 007 | Batch: 000 | Loss: 1.13702 | Correct: 68/128\n"
          ],
          "name": "stderr"
        },
        {
          "output_type": "stream",
          "text": [
            "None\n"
          ],
          "name": "stdout"
        },
        {
          "output_type": "stream",
          "text": [
            "2021-07-13 07:14:02,600 - INFO: lr: 0.03887 | Epoch: 008 | Batch: 000 | Loss: 1.04327 | Correct: 77/128\n"
          ],
          "name": "stderr"
        },
        {
          "output_type": "stream",
          "text": [
            "None\n"
          ],
          "name": "stdout"
        },
        {
          "output_type": "stream",
          "text": [
            "2021-07-13 07:14:04,822 - INFO: lr: 0.02831 | Epoch: 009 | Batch: 000 | Loss: 1.01238 | Correct: 87/128\n"
          ],
          "name": "stderr"
        },
        {
          "output_type": "stream",
          "text": [
            "None\n"
          ],
          "name": "stdout"
        },
        {
          "output_type": "stream",
          "text": [
            "2021-07-13 07:14:06,991 - INFO: lr: 0.01883 | Epoch: 010 | Batch: 000 | Loss: 0.83025 | Correct: 92/128\n"
          ],
          "name": "stderr"
        },
        {
          "output_type": "stream",
          "text": [
            "None\n"
          ],
          "name": "stdout"
        },
        {
          "output_type": "stream",
          "text": [
            "2021-07-13 07:14:09,093 - INFO: lr: 0.01091 | Epoch: 011 | Batch: 000 | Loss: 0.73212 | Correct: 94/128\n"
          ],
          "name": "stderr"
        },
        {
          "output_type": "stream",
          "text": [
            "None\n"
          ],
          "name": "stdout"
        },
        {
          "output_type": "stream",
          "text": [
            "2021-07-13 07:14:11,368 - INFO: lr: 0.00495 | Epoch: 012 | Batch: 000 | Loss: 0.80332 | Correct: 86/128\n"
          ],
          "name": "stderr"
        },
        {
          "output_type": "stream",
          "text": [
            "None\n"
          ],
          "name": "stdout"
        },
        {
          "output_type": "stream",
          "text": [
            "2021-07-13 07:14:13,491 - INFO: lr: 0.00125 | Epoch: 013 | Batch: 000 | Loss: 0.60394 | Correct: 102/128\n"
          ],
          "name": "stderr"
        },
        {
          "output_type": "stream",
          "text": [
            "None\n"
          ],
          "name": "stdout"
        },
        {
          "output_type": "stream",
          "text": [
            "2021-07-13 07:14:15,372 - INFO: Save the snapshot model with index: 0\n",
            "2021-07-13 07:14:15,967 - INFO: n_estimators: 1 | Validation Acc: 69.420 % | Historical Best: 69.420 %\n",
            "2021-07-13 07:14:16,400 - INFO: lr: 0.10000 | Epoch: 014 | Batch: 000 | Loss: 0.67995 | Correct: 96/128\n"
          ],
          "name": "stderr"
        },
        {
          "output_type": "stream",
          "text": [
            "None\n"
          ],
          "name": "stdout"
        },
        {
          "output_type": "stream",
          "text": [
            "2021-07-13 07:14:18,616 - INFO: lr: 0.09875 | Epoch: 015 | Batch: 000 | Loss: 1.13200 | Correct: 75/128\n"
          ],
          "name": "stderr"
        },
        {
          "output_type": "stream",
          "text": [
            "None\n"
          ],
          "name": "stdout"
        },
        {
          "output_type": "stream",
          "text": [
            "2021-07-13 07:14:20,787 - INFO: lr: 0.09505 | Epoch: 016 | Batch: 000 | Loss: 1.01372 | Correct: 86/128\n"
          ],
          "name": "stderr"
        },
        {
          "output_type": "stream",
          "text": [
            "None\n"
          ],
          "name": "stdout"
        },
        {
          "output_type": "stream",
          "text": [
            "2021-07-13 07:14:23,035 - INFO: lr: 0.08909 | Epoch: 017 | Batch: 000 | Loss: 0.92028 | Correct: 81/128\n"
          ],
          "name": "stderr"
        },
        {
          "output_type": "stream",
          "text": [
            "None\n"
          ],
          "name": "stdout"
        },
        {
          "output_type": "stream",
          "text": [
            "2021-07-13 07:14:25,146 - INFO: lr: 0.08117 | Epoch: 018 | Batch: 000 | Loss: 0.74723 | Correct: 93/128\n"
          ],
          "name": "stderr"
        },
        {
          "output_type": "stream",
          "text": [
            "None\n"
          ],
          "name": "stdout"
        },
        {
          "output_type": "stream",
          "text": [
            "2021-07-13 07:14:27,429 - INFO: lr: 0.07169 | Epoch: 019 | Batch: 000 | Loss: 0.64114 | Correct: 97/128\n"
          ],
          "name": "stderr"
        },
        {
          "output_type": "stream",
          "text": [
            "None\n"
          ],
          "name": "stdout"
        },
        {
          "output_type": "stream",
          "text": [
            "2021-07-13 07:14:29,621 - INFO: lr: 0.06113 | Epoch: 020 | Batch: 000 | Loss: 0.83483 | Correct: 84/128\n"
          ],
          "name": "stderr"
        },
        {
          "output_type": "stream",
          "text": [
            "None\n"
          ],
          "name": "stdout"
        },
        {
          "output_type": "stream",
          "text": [
            "2021-07-13 07:14:31,803 - INFO: lr: 0.05000 | Epoch: 021 | Batch: 000 | Loss: 0.72920 | Correct: 92/128\n"
          ],
          "name": "stderr"
        },
        {
          "output_type": "stream",
          "text": [
            "None\n"
          ],
          "name": "stdout"
        },
        {
          "output_type": "stream",
          "text": [
            "2021-07-13 07:14:34,041 - INFO: lr: 0.03887 | Epoch: 022 | Batch: 000 | Loss: 0.69567 | Correct: 96/128\n"
          ],
          "name": "stderr"
        },
        {
          "output_type": "stream",
          "text": [
            "None\n"
          ],
          "name": "stdout"
        },
        {
          "output_type": "stream",
          "text": [
            "2021-07-13 07:14:36,295 - INFO: lr: 0.02831 | Epoch: 023 | Batch: 000 | Loss: 0.63372 | Correct: 100/128\n"
          ],
          "name": "stderr"
        },
        {
          "output_type": "stream",
          "text": [
            "None\n"
          ],
          "name": "stdout"
        },
        {
          "output_type": "stream",
          "text": [
            "2021-07-13 07:14:38,419 - INFO: lr: 0.01883 | Epoch: 024 | Batch: 000 | Loss: 0.59921 | Correct: 100/128\n"
          ],
          "name": "stderr"
        },
        {
          "output_type": "stream",
          "text": [
            "None\n"
          ],
          "name": "stdout"
        },
        {
          "output_type": "stream",
          "text": [
            "2021-07-13 07:14:40,746 - INFO: lr: 0.01091 | Epoch: 025 | Batch: 000 | Loss: 0.56070 | Correct: 103/128\n"
          ],
          "name": "stderr"
        },
        {
          "output_type": "stream",
          "text": [
            "None\n"
          ],
          "name": "stdout"
        },
        {
          "output_type": "stream",
          "text": [
            "2021-07-13 07:14:42,897 - INFO: lr: 0.00495 | Epoch: 026 | Batch: 000 | Loss: 0.35513 | Correct: 112/128\n"
          ],
          "name": "stderr"
        },
        {
          "output_type": "stream",
          "text": [
            "None\n"
          ],
          "name": "stdout"
        },
        {
          "output_type": "stream",
          "text": [
            "2021-07-13 07:14:45,067 - INFO: lr: 0.00125 | Epoch: 027 | Batch: 000 | Loss: 0.36529 | Correct: 111/128\n"
          ],
          "name": "stderr"
        },
        {
          "output_type": "stream",
          "text": [
            "None\n"
          ],
          "name": "stdout"
        },
        {
          "output_type": "stream",
          "text": [
            "2021-07-13 07:14:46,993 - INFO: Save the snapshot model with index: 1\n",
            "2021-07-13 07:14:47,683 - INFO: n_estimators: 2 | Validation Acc: 77.009 % | Historical Best: 77.009 %\n",
            "2021-07-13 07:14:48,090 - INFO: lr: 0.10000 | Epoch: 028 | Batch: 000 | Loss: 0.39472 | Correct: 108/128\n"
          ],
          "name": "stderr"
        },
        {
          "output_type": "stream",
          "text": [
            "None\n"
          ],
          "name": "stdout"
        },
        {
          "output_type": "stream",
          "text": [
            "2021-07-13 07:14:50,240 - INFO: lr: 0.09875 | Epoch: 029 | Batch: 000 | Loss: 0.75500 | Correct: 91/128\n"
          ],
          "name": "stderr"
        },
        {
          "output_type": "stream",
          "text": [
            "None\n"
          ],
          "name": "stdout"
        },
        {
          "output_type": "stream",
          "text": [
            "2021-07-13 07:14:52,420 - INFO: lr: 0.09505 | Epoch: 030 | Batch: 000 | Loss: 0.70286 | Correct: 96/128\n"
          ],
          "name": "stderr"
        },
        {
          "output_type": "stream",
          "text": [
            "None\n"
          ],
          "name": "stdout"
        },
        {
          "output_type": "stream",
          "text": [
            "2021-07-13 07:14:54,751 - INFO: lr: 0.08909 | Epoch: 031 | Batch: 000 | Loss: 0.59303 | Correct: 104/128\n"
          ],
          "name": "stderr"
        },
        {
          "output_type": "stream",
          "text": [
            "None\n"
          ],
          "name": "stdout"
        },
        {
          "output_type": "stream",
          "text": [
            "2021-07-13 07:14:57,001 - INFO: lr: 0.08117 | Epoch: 032 | Batch: 000 | Loss: 0.48248 | Correct: 104/128\n"
          ],
          "name": "stderr"
        },
        {
          "output_type": "stream",
          "text": [
            "None\n"
          ],
          "name": "stdout"
        },
        {
          "output_type": "stream",
          "text": [
            "2021-07-13 07:14:59,180 - INFO: lr: 0.07169 | Epoch: 033 | Batch: 000 | Loss: 0.53903 | Correct: 104/128\n"
          ],
          "name": "stderr"
        },
        {
          "output_type": "stream",
          "text": [
            "None\n"
          ],
          "name": "stdout"
        },
        {
          "output_type": "stream",
          "text": [
            "2021-07-13 07:15:01,412 - INFO: lr: 0.06113 | Epoch: 034 | Batch: 000 | Loss: 0.48395 | Correct: 107/128\n"
          ],
          "name": "stderr"
        },
        {
          "output_type": "stream",
          "text": [
            "None\n"
          ],
          "name": "stdout"
        },
        {
          "output_type": "stream",
          "text": [
            "2021-07-13 07:15:03,574 - INFO: lr: 0.05000 | Epoch: 035 | Batch: 000 | Loss: 0.47012 | Correct: 104/128\n"
          ],
          "name": "stderr"
        },
        {
          "output_type": "stream",
          "text": [
            "None\n"
          ],
          "name": "stdout"
        },
        {
          "output_type": "stream",
          "text": [
            "2021-07-13 07:15:05,758 - INFO: lr: 0.03887 | Epoch: 036 | Batch: 000 | Loss: 0.36850 | Correct: 113/128\n"
          ],
          "name": "stderr"
        },
        {
          "output_type": "stream",
          "text": [
            "None\n"
          ],
          "name": "stdout"
        },
        {
          "output_type": "stream",
          "text": [
            "2021-07-13 07:15:07,997 - INFO: lr: 0.02831 | Epoch: 037 | Batch: 000 | Loss: 0.39980 | Correct: 110/128\n"
          ],
          "name": "stderr"
        },
        {
          "output_type": "stream",
          "text": [
            "None\n"
          ],
          "name": "stdout"
        },
        {
          "output_type": "stream",
          "text": [
            "2021-07-13 07:15:10,230 - INFO: lr: 0.01883 | Epoch: 038 | Batch: 000 | Loss: 0.20534 | Correct: 119/128\n"
          ],
          "name": "stderr"
        },
        {
          "output_type": "stream",
          "text": [
            "None\n"
          ],
          "name": "stdout"
        },
        {
          "output_type": "stream",
          "text": [
            "2021-07-13 07:15:12,386 - INFO: lr: 0.01091 | Epoch: 039 | Batch: 000 | Loss: 0.35776 | Correct: 114/128\n"
          ],
          "name": "stderr"
        },
        {
          "output_type": "stream",
          "text": [
            "None\n"
          ],
          "name": "stdout"
        },
        {
          "output_type": "stream",
          "text": [
            "2021-07-13 07:15:14,601 - INFO: lr: 0.00495 | Epoch: 040 | Batch: 000 | Loss: 0.16397 | Correct: 123/128\n"
          ],
          "name": "stderr"
        },
        {
          "output_type": "stream",
          "text": [
            "None\n"
          ],
          "name": "stdout"
        },
        {
          "output_type": "stream",
          "text": [
            "2021-07-13 07:15:16,791 - INFO: lr: 0.00125 | Epoch: 041 | Batch: 000 | Loss: 0.22641 | Correct: 116/128\n"
          ],
          "name": "stderr"
        },
        {
          "output_type": "stream",
          "text": [
            "None\n"
          ],
          "name": "stdout"
        },
        {
          "output_type": "stream",
          "text": [
            "2021-07-13 07:15:18,648 - INFO: Save the snapshot model with index: 2\n",
            "2021-07-13 07:15:19,474 - INFO: n_estimators: 3 | Validation Acc: 80.692 % | Historical Best: 80.692 %\n",
            "2021-07-13 07:15:19,870 - INFO: lr: 0.10000 | Epoch: 042 | Batch: 000 | Loss: 0.24780 | Correct: 118/128\n"
          ],
          "name": "stderr"
        },
        {
          "output_type": "stream",
          "text": [
            "None\n"
          ],
          "name": "stdout"
        },
        {
          "output_type": "stream",
          "text": [
            "2021-07-13 07:15:22,039 - INFO: lr: 0.09875 | Epoch: 043 | Batch: 000 | Loss: 0.68284 | Correct: 101/128\n"
          ],
          "name": "stderr"
        },
        {
          "output_type": "stream",
          "text": [
            "None\n"
          ],
          "name": "stdout"
        },
        {
          "output_type": "stream",
          "text": [
            "2021-07-13 07:15:24,217 - INFO: lr: 0.09505 | Epoch: 044 | Batch: 000 | Loss: 0.39835 | Correct: 109/128\n"
          ],
          "name": "stderr"
        },
        {
          "output_type": "stream",
          "text": [
            "None\n"
          ],
          "name": "stdout"
        },
        {
          "output_type": "stream",
          "text": [
            "2021-07-13 07:15:26,347 - INFO: lr: 0.08909 | Epoch: 045 | Batch: 000 | Loss: 0.28316 | Correct: 114/128\n"
          ],
          "name": "stderr"
        },
        {
          "output_type": "stream",
          "text": [
            "None\n"
          ],
          "name": "stdout"
        },
        {
          "output_type": "stream",
          "text": [
            "2021-07-13 07:15:28,681 - INFO: lr: 0.08117 | Epoch: 046 | Batch: 000 | Loss: 0.41115 | Correct: 112/128\n"
          ],
          "name": "stderr"
        },
        {
          "output_type": "stream",
          "text": [
            "None\n"
          ],
          "name": "stdout"
        },
        {
          "output_type": "stream",
          "text": [
            "2021-07-13 07:15:30,858 - INFO: lr: 0.07169 | Epoch: 047 | Batch: 000 | Loss: 0.45413 | Correct: 107/128\n"
          ],
          "name": "stderr"
        },
        {
          "output_type": "stream",
          "text": [
            "None\n"
          ],
          "name": "stdout"
        },
        {
          "output_type": "stream",
          "text": [
            "2021-07-13 07:15:32,963 - INFO: lr: 0.06113 | Epoch: 048 | Batch: 000 | Loss: 0.31948 | Correct: 114/128\n"
          ],
          "name": "stderr"
        },
        {
          "output_type": "stream",
          "text": [
            "None\n"
          ],
          "name": "stdout"
        },
        {
          "output_type": "stream",
          "text": [
            "2021-07-13 07:15:35,173 - INFO: lr: 0.05000 | Epoch: 049 | Batch: 000 | Loss: 0.24402 | Correct: 113/128\n"
          ],
          "name": "stderr"
        },
        {
          "output_type": "stream",
          "text": [
            "None\n"
          ],
          "name": "stdout"
        },
        {
          "output_type": "stream",
          "text": [
            "2021-07-13 07:15:37,354 - INFO: lr: 0.03887 | Epoch: 050 | Batch: 000 | Loss: 0.28497 | Correct: 118/128\n"
          ],
          "name": "stderr"
        },
        {
          "output_type": "stream",
          "text": [
            "None\n"
          ],
          "name": "stdout"
        },
        {
          "output_type": "stream",
          "text": [
            "2021-07-13 07:15:39,822 - INFO: lr: 0.02831 | Epoch: 051 | Batch: 000 | Loss: 0.26894 | Correct: 115/128\n"
          ],
          "name": "stderr"
        },
        {
          "output_type": "stream",
          "text": [
            "None\n"
          ],
          "name": "stdout"
        },
        {
          "output_type": "stream",
          "text": [
            "2021-07-13 07:15:42,079 - INFO: lr: 0.01883 | Epoch: 052 | Batch: 000 | Loss: 0.13743 | Correct: 121/128\n"
          ],
          "name": "stderr"
        },
        {
          "output_type": "stream",
          "text": [
            "None\n"
          ],
          "name": "stdout"
        },
        {
          "output_type": "stream",
          "text": [
            "2021-07-13 07:15:44,225 - INFO: lr: 0.01091 | Epoch: 053 | Batch: 000 | Loss: 0.21032 | Correct: 120/128\n"
          ],
          "name": "stderr"
        },
        {
          "output_type": "stream",
          "text": [
            "None\n"
          ],
          "name": "stdout"
        },
        {
          "output_type": "stream",
          "text": [
            "2021-07-13 07:15:46,467 - INFO: lr: 0.00495 | Epoch: 054 | Batch: 000 | Loss: 0.09980 | Correct: 125/128\n"
          ],
          "name": "stderr"
        },
        {
          "output_type": "stream",
          "text": [
            "None\n"
          ],
          "name": "stdout"
        },
        {
          "output_type": "stream",
          "text": [
            "2021-07-13 07:15:48,666 - INFO: lr: 0.00125 | Epoch: 055 | Batch: 000 | Loss: 0.08280 | Correct: 125/128\n"
          ],
          "name": "stderr"
        },
        {
          "output_type": "stream",
          "text": [
            "None\n"
          ],
          "name": "stdout"
        },
        {
          "output_type": "stream",
          "text": [
            "2021-07-13 07:15:50,550 - INFO: Save the snapshot model with index: 3\n",
            "2021-07-13 07:15:51,481 - INFO: n_estimators: 4 | Validation Acc: 84.040 % | Historical Best: 84.040 %\n",
            "2021-07-13 07:15:51,824 - INFO: lr: 0.10000 | Epoch: 056 | Batch: 000 | Loss: 0.12260 | Correct: 124/128\n"
          ],
          "name": "stderr"
        },
        {
          "output_type": "stream",
          "text": [
            "None\n"
          ],
          "name": "stdout"
        },
        {
          "output_type": "stream",
          "text": [
            "2021-07-13 07:15:54,104 - INFO: lr: 0.09875 | Epoch: 057 | Batch: 000 | Loss: 0.47062 | Correct: 105/128\n"
          ],
          "name": "stderr"
        },
        {
          "output_type": "stream",
          "text": [
            "None\n"
          ],
          "name": "stdout"
        },
        {
          "output_type": "stream",
          "text": [
            "2021-07-13 07:15:56,323 - INFO: lr: 0.09505 | Epoch: 058 | Batch: 000 | Loss: 0.33496 | Correct: 111/128\n"
          ],
          "name": "stderr"
        },
        {
          "output_type": "stream",
          "text": [
            "None\n"
          ],
          "name": "stdout"
        },
        {
          "output_type": "stream",
          "text": [
            "2021-07-13 07:15:58,527 - INFO: lr: 0.08909 | Epoch: 059 | Batch: 000 | Loss: 0.37159 | Correct: 112/128\n"
          ],
          "name": "stderr"
        },
        {
          "output_type": "stream",
          "text": [
            "None\n"
          ],
          "name": "stdout"
        },
        {
          "output_type": "stream",
          "text": [
            "2021-07-13 07:16:00,798 - INFO: lr: 0.08117 | Epoch: 060 | Batch: 000 | Loss: 0.27241 | Correct: 117/128\n"
          ],
          "name": "stderr"
        },
        {
          "output_type": "stream",
          "text": [
            "None\n"
          ],
          "name": "stdout"
        },
        {
          "output_type": "stream",
          "text": [
            "2021-07-13 07:16:03,080 - INFO: lr: 0.07169 | Epoch: 061 | Batch: 000 | Loss: 0.32207 | Correct: 114/128\n"
          ],
          "name": "stderr"
        },
        {
          "output_type": "stream",
          "text": [
            "None\n"
          ],
          "name": "stdout"
        },
        {
          "output_type": "stream",
          "text": [
            "2021-07-13 07:16:05,336 - INFO: lr: 0.06113 | Epoch: 062 | Batch: 000 | Loss: 0.15395 | Correct: 122/128\n"
          ],
          "name": "stderr"
        },
        {
          "output_type": "stream",
          "text": [
            "None\n"
          ],
          "name": "stdout"
        },
        {
          "output_type": "stream",
          "text": [
            "2021-07-13 07:16:07,479 - INFO: lr: 0.05000 | Epoch: 063 | Batch: 000 | Loss: 0.13829 | Correct: 121/128\n"
          ],
          "name": "stderr"
        },
        {
          "output_type": "stream",
          "text": [
            "None\n"
          ],
          "name": "stdout"
        },
        {
          "output_type": "stream",
          "text": [
            "2021-07-13 07:16:09,737 - INFO: lr: 0.03887 | Epoch: 064 | Batch: 000 | Loss: 0.16978 | Correct: 121/128\n"
          ],
          "name": "stderr"
        },
        {
          "output_type": "stream",
          "text": [
            "None\n"
          ],
          "name": "stdout"
        },
        {
          "output_type": "stream",
          "text": [
            "2021-07-13 07:16:11,934 - INFO: lr: 0.02831 | Epoch: 065 | Batch: 000 | Loss: 0.07837 | Correct: 124/128\n"
          ],
          "name": "stderr"
        },
        {
          "output_type": "stream",
          "text": [
            "None\n"
          ],
          "name": "stdout"
        },
        {
          "output_type": "stream",
          "text": [
            "2021-07-13 07:16:14,096 - INFO: lr: 0.01883 | Epoch: 066 | Batch: 000 | Loss: 0.06743 | Correct: 126/128\n"
          ],
          "name": "stderr"
        },
        {
          "output_type": "stream",
          "text": [
            "None\n"
          ],
          "name": "stdout"
        },
        {
          "output_type": "stream",
          "text": [
            "2021-07-13 07:16:16,406 - INFO: lr: 0.01091 | Epoch: 067 | Batch: 000 | Loss: 0.12263 | Correct: 123/128\n"
          ],
          "name": "stderr"
        },
        {
          "output_type": "stream",
          "text": [
            "None\n"
          ],
          "name": "stdout"
        },
        {
          "output_type": "stream",
          "text": [
            "2021-07-13 07:16:18,564 - INFO: lr: 0.00495 | Epoch: 068 | Batch: 000 | Loss: 0.12960 | Correct: 123/128\n"
          ],
          "name": "stderr"
        },
        {
          "output_type": "stream",
          "text": [
            "None\n"
          ],
          "name": "stdout"
        },
        {
          "output_type": "stream",
          "text": [
            "2021-07-13 07:16:20,811 - INFO: lr: 0.00125 | Epoch: 069 | Batch: 000 | Loss: 0.12161 | Correct: 121/128\n"
          ],
          "name": "stderr"
        },
        {
          "output_type": "stream",
          "text": [
            "None\n"
          ],
          "name": "stdout"
        },
        {
          "output_type": "stream",
          "text": [
            "2021-07-13 07:16:22,684 - INFO: Save the snapshot model with index: 4\n",
            "2021-07-13 07:16:23,729 - INFO: n_estimators: 5 | Validation Acc: 85.603 % | Historical Best: 85.603 %\n"
          ],
          "name": "stderr"
        },
        {
          "output_type": "stream",
          "text": [
            "Group 1 Finished!\n",
            "Target number of exemplars: 200\n",
            "Randomly extracting exemplars from class 0 of current split... Extracted 200 exemplars.\n",
            "Randomly extracting exemplars from class 1 of current split... Extracted 200 exemplars.\n",
            "Randomly extracting exemplars from class 2 of current split... Extracted 200 exemplars.\n",
            "Randomly extracting exemplars from class 3 of current split... Extracted 200 exemplars.\n",
            "Randomly extracting exemplars from class 4 of current split... Extracted 200 exemplars.\n",
            "Randomly extracting exemplars from class 5 of current split... Extracted 200 exemplars.\n",
            "Randomly extracting exemplars from class 6 of current split... Extracted 200 exemplars.\n",
            "Randomly extracting exemplars from class 7 of current split... Extracted 200 exemplars.\n",
            "Randomly extracting exemplars from class 8 of current split... Extracted 200 exemplars.\n",
            "Randomly extracting exemplars from class 9 of current split... Extracted 200 exemplars.\n",
            "[0.033482142857142856, 0.09486607142857142, 0.21428571428571427, 0.31919642857142855, 0.5011160714285714, 0.6294642857142857, 0.8705357142857143],[0.8325892857142857, 0.8058035714285714, 0.7332589285714286, 0.6629464285714286, 0.4888392857142857, 0.35825892857142855, 0.12388392857142858]\n",
            "Testing on both open and closed world\n",
            "owr harmonic mean (threshold:0.25) = 0.06437546023564064\n",
            "owr harmonic mean (threshold:0.35) = 0.16974796424145866\n",
            "owr harmonic mean (threshold:0.5) = 0.331650681474003\n",
            "owr harmonic mean (threshold:0.6) = 0.4309151785714286\n",
            "owr harmonic mean (threshold:0.75) = 0.4949015541955226\n",
            "owr harmonic mean (threshold:0.85) = 0.4566283292978207\n",
            "owr harmonic mean (threshold:0.95) = 0.21690115440115443\n",
            "\n",
            "=============================================\n",
            "\n",
            "Length of exemplars set: 2000\n"
          ],
          "name": "stdout"
        },
        {
          "output_type": "stream",
          "text": [
            "2021-07-13 07:16:28,646 - INFO: lr: 0.10000 | Epoch: 000 | Batch: 000 | Loss: 4.23293 | Correct: 4/128\n"
          ],
          "name": "stderr"
        },
        {
          "output_type": "stream",
          "text": [
            "None\n"
          ],
          "name": "stdout"
        },
        {
          "output_type": "stream",
          "text": [
            "2021-07-13 07:16:44,163 - INFO: lr: 0.09875 | Epoch: 001 | Batch: 000 | Loss: 2.49051 | Correct: 32/128\n"
          ],
          "name": "stderr"
        },
        {
          "output_type": "stream",
          "text": [
            "None\n"
          ],
          "name": "stdout"
        },
        {
          "output_type": "stream",
          "text": [
            "2021-07-13 07:16:59,719 - INFO: lr: 0.09505 | Epoch: 002 | Batch: 000 | Loss: 2.29564 | Correct: 35/128\n"
          ],
          "name": "stderr"
        },
        {
          "output_type": "stream",
          "text": [
            "None\n"
          ],
          "name": "stdout"
        },
        {
          "output_type": "stream",
          "text": [
            "2021-07-13 07:17:15,350 - INFO: lr: 0.08909 | Epoch: 003 | Batch: 000 | Loss: 2.19717 | Correct: 38/128\n"
          ],
          "name": "stderr"
        },
        {
          "output_type": "stream",
          "text": [
            "None\n"
          ],
          "name": "stdout"
        },
        {
          "output_type": "stream",
          "text": [
            "2021-07-13 07:17:30,963 - INFO: lr: 0.08117 | Epoch: 004 | Batch: 000 | Loss: 2.03452 | Correct: 44/128\n"
          ],
          "name": "stderr"
        },
        {
          "output_type": "stream",
          "text": [
            "None\n"
          ],
          "name": "stdout"
        },
        {
          "output_type": "stream",
          "text": [
            "2021-07-13 07:17:46,509 - INFO: lr: 0.07169 | Epoch: 005 | Batch: 000 | Loss: 1.90473 | Correct: 47/128\n"
          ],
          "name": "stderr"
        },
        {
          "output_type": "stream",
          "text": [
            "None\n"
          ],
          "name": "stdout"
        },
        {
          "output_type": "stream",
          "text": [
            "2021-07-13 07:18:02,112 - INFO: lr: 0.06113 | Epoch: 006 | Batch: 000 | Loss: 2.14738 | Correct: 36/128\n"
          ],
          "name": "stderr"
        },
        {
          "output_type": "stream",
          "text": [
            "None\n"
          ],
          "name": "stdout"
        },
        {
          "output_type": "stream",
          "text": [
            "2021-07-13 07:18:17,614 - INFO: lr: 0.05000 | Epoch: 007 | Batch: 000 | Loss: 1.78850 | Correct: 56/128\n"
          ],
          "name": "stderr"
        },
        {
          "output_type": "stream",
          "text": [
            "None\n"
          ],
          "name": "stdout"
        },
        {
          "output_type": "stream",
          "text": [
            "2021-07-13 07:18:33,178 - INFO: lr: 0.03887 | Epoch: 008 | Batch: 000 | Loss: 1.52217 | Correct: 70/128\n"
          ],
          "name": "stderr"
        },
        {
          "output_type": "stream",
          "text": [
            "None\n"
          ],
          "name": "stdout"
        },
        {
          "output_type": "stream",
          "text": [
            "2021-07-13 07:18:48,763 - INFO: lr: 0.02831 | Epoch: 009 | Batch: 000 | Loss: 1.42568 | Correct: 74/128\n"
          ],
          "name": "stderr"
        },
        {
          "output_type": "stream",
          "text": [
            "None\n"
          ],
          "name": "stdout"
        },
        {
          "output_type": "stream",
          "text": [
            "2021-07-13 07:19:04,330 - INFO: lr: 0.01883 | Epoch: 010 | Batch: 000 | Loss: 1.30292 | Correct: 76/128\n"
          ],
          "name": "stderr"
        },
        {
          "output_type": "stream",
          "text": [
            "None\n"
          ],
          "name": "stdout"
        },
        {
          "output_type": "stream",
          "text": [
            "2021-07-13 07:19:19,886 - INFO: lr: 0.01091 | Epoch: 011 | Batch: 000 | Loss: 1.19949 | Correct: 77/128\n"
          ],
          "name": "stderr"
        },
        {
          "output_type": "stream",
          "text": [
            "None\n"
          ],
          "name": "stdout"
        },
        {
          "output_type": "stream",
          "text": [
            "2021-07-13 07:19:35,462 - INFO: lr: 0.00495 | Epoch: 012 | Batch: 000 | Loss: 1.21462 | Correct: 76/128\n"
          ],
          "name": "stderr"
        },
        {
          "output_type": "stream",
          "text": [
            "None\n"
          ],
          "name": "stdout"
        },
        {
          "output_type": "stream",
          "text": [
            "2021-07-13 07:19:51,009 - INFO: lr: 0.00125 | Epoch: 013 | Batch: 000 | Loss: 1.26385 | Correct: 77/128\n"
          ],
          "name": "stderr"
        },
        {
          "output_type": "stream",
          "text": [
            "None\n"
          ],
          "name": "stdout"
        },
        {
          "output_type": "stream",
          "text": [
            "2021-07-13 07:20:05,841 - INFO: Save the snapshot model with index: 0\n",
            "2021-07-13 07:20:06,436 - INFO: n_estimators: 1 | Validation Acc: 65.513 % | Historical Best: 65.513 %\n",
            "2021-07-13 07:20:07,207 - INFO: lr: 0.10000 | Epoch: 014 | Batch: 000 | Loss: 1.14331 | Correct: 80/128\n"
          ],
          "name": "stderr"
        },
        {
          "output_type": "stream",
          "text": [
            "None\n"
          ],
          "name": "stdout"
        },
        {
          "output_type": "stream",
          "text": [
            "2021-07-13 07:20:22,756 - INFO: lr: 0.09875 | Epoch: 015 | Batch: 000 | Loss: 1.52465 | Correct: 56/128\n"
          ],
          "name": "stderr"
        },
        {
          "output_type": "stream",
          "text": [
            "None\n"
          ],
          "name": "stdout"
        },
        {
          "output_type": "stream",
          "text": [
            "2021-07-13 07:20:38,311 - INFO: lr: 0.09505 | Epoch: 016 | Batch: 000 | Loss: 1.54610 | Correct: 60/128\n"
          ],
          "name": "stderr"
        },
        {
          "output_type": "stream",
          "text": [
            "None\n"
          ],
          "name": "stdout"
        },
        {
          "output_type": "stream",
          "text": [
            "2021-07-13 07:20:53,865 - INFO: lr: 0.08909 | Epoch: 017 | Batch: 000 | Loss: 1.25478 | Correct: 80/128\n"
          ],
          "name": "stderr"
        },
        {
          "output_type": "stream",
          "text": [
            "None\n"
          ],
          "name": "stdout"
        },
        {
          "output_type": "stream",
          "text": [
            "2021-07-13 07:21:09,411 - INFO: lr: 0.08117 | Epoch: 018 | Batch: 000 | Loss: 1.36101 | Correct: 78/128\n"
          ],
          "name": "stderr"
        },
        {
          "output_type": "stream",
          "text": [
            "None\n"
          ],
          "name": "stdout"
        },
        {
          "output_type": "stream",
          "text": [
            "2021-07-13 07:21:24,977 - INFO: lr: 0.07169 | Epoch: 019 | Batch: 000 | Loss: 1.43165 | Correct: 74/128\n"
          ],
          "name": "stderr"
        },
        {
          "output_type": "stream",
          "text": [
            "None\n"
          ],
          "name": "stdout"
        },
        {
          "output_type": "stream",
          "text": [
            "2021-07-13 07:21:40,517 - INFO: lr: 0.06113 | Epoch: 020 | Batch: 000 | Loss: 0.95175 | Correct: 90/128\n"
          ],
          "name": "stderr"
        },
        {
          "output_type": "stream",
          "text": [
            "None\n"
          ],
          "name": "stdout"
        },
        {
          "output_type": "stream",
          "text": [
            "2021-07-13 07:21:56,058 - INFO: lr: 0.05000 | Epoch: 021 | Batch: 000 | Loss: 1.16550 | Correct: 85/128\n"
          ],
          "name": "stderr"
        },
        {
          "output_type": "stream",
          "text": [
            "None\n"
          ],
          "name": "stdout"
        },
        {
          "output_type": "stream",
          "text": [
            "2021-07-13 07:22:11,616 - INFO: lr: 0.03887 | Epoch: 022 | Batch: 000 | Loss: 0.96229 | Correct: 81/128\n"
          ],
          "name": "stderr"
        },
        {
          "output_type": "stream",
          "text": [
            "None\n"
          ],
          "name": "stdout"
        },
        {
          "output_type": "stream",
          "text": [
            "2021-07-13 07:22:27,178 - INFO: lr: 0.02831 | Epoch: 023 | Batch: 000 | Loss: 0.78055 | Correct: 99/128\n"
          ],
          "name": "stderr"
        },
        {
          "output_type": "stream",
          "text": [
            "None\n"
          ],
          "name": "stdout"
        },
        {
          "output_type": "stream",
          "text": [
            "2021-07-13 07:22:42,734 - INFO: lr: 0.01883 | Epoch: 024 | Batch: 000 | Loss: 0.76537 | Correct: 101/128\n"
          ],
          "name": "stderr"
        },
        {
          "output_type": "stream",
          "text": [
            "None\n"
          ],
          "name": "stdout"
        },
        {
          "output_type": "stream",
          "text": [
            "2021-07-13 07:22:58,255 - INFO: lr: 0.01091 | Epoch: 025 | Batch: 000 | Loss: 0.83785 | Correct: 83/128\n"
          ],
          "name": "stderr"
        },
        {
          "output_type": "stream",
          "text": [
            "None\n"
          ],
          "name": "stdout"
        },
        {
          "output_type": "stream",
          "text": [
            "2021-07-13 07:23:13,821 - INFO: lr: 0.00495 | Epoch: 026 | Batch: 000 | Loss: 0.68627 | Correct: 99/128\n"
          ],
          "name": "stderr"
        },
        {
          "output_type": "stream",
          "text": [
            "None\n"
          ],
          "name": "stdout"
        },
        {
          "output_type": "stream",
          "text": [
            "2021-07-13 07:23:29,410 - INFO: lr: 0.00125 | Epoch: 027 | Batch: 000 | Loss: 0.68356 | Correct: 97/128\n"
          ],
          "name": "stderr"
        },
        {
          "output_type": "stream",
          "text": [
            "None\n"
          ],
          "name": "stdout"
        },
        {
          "output_type": "stream",
          "text": [
            "2021-07-13 07:23:44,252 - INFO: Save the snapshot model with index: 1\n",
            "2021-07-13 07:23:44,955 - INFO: n_estimators: 2 | Validation Acc: 72.210 % | Historical Best: 72.210 %\n",
            "2021-07-13 07:23:45,676 - INFO: lr: 0.10000 | Epoch: 028 | Batch: 000 | Loss: 0.73535 | Correct: 96/128\n"
          ],
          "name": "stderr"
        },
        {
          "output_type": "stream",
          "text": [
            "None\n"
          ],
          "name": "stdout"
        },
        {
          "output_type": "stream",
          "text": [
            "2021-07-13 07:24:01,262 - INFO: lr: 0.09875 | Epoch: 029 | Batch: 000 | Loss: 1.04608 | Correct: 86/128\n"
          ],
          "name": "stderr"
        },
        {
          "output_type": "stream",
          "text": [
            "None\n"
          ],
          "name": "stdout"
        },
        {
          "output_type": "stream",
          "text": [
            "2021-07-13 07:24:16,824 - INFO: lr: 0.09505 | Epoch: 030 | Batch: 000 | Loss: 1.24976 | Correct: 77/128\n"
          ],
          "name": "stderr"
        },
        {
          "output_type": "stream",
          "text": [
            "None\n"
          ],
          "name": "stdout"
        },
        {
          "output_type": "stream",
          "text": [
            "2021-07-13 07:24:32,444 - INFO: lr: 0.08909 | Epoch: 031 | Batch: 000 | Loss: 1.01609 | Correct: 81/128\n"
          ],
          "name": "stderr"
        },
        {
          "output_type": "stream",
          "text": [
            "None\n"
          ],
          "name": "stdout"
        },
        {
          "output_type": "stream",
          "text": [
            "2021-07-13 07:24:48,072 - INFO: lr: 0.08117 | Epoch: 032 | Batch: 000 | Loss: 0.86911 | Correct: 91/128\n"
          ],
          "name": "stderr"
        },
        {
          "output_type": "stream",
          "text": [
            "None\n"
          ],
          "name": "stdout"
        },
        {
          "output_type": "stream",
          "text": [
            "2021-07-13 07:25:03,696 - INFO: lr: 0.07169 | Epoch: 033 | Batch: 000 | Loss: 0.80960 | Correct: 89/128\n"
          ],
          "name": "stderr"
        },
        {
          "output_type": "stream",
          "text": [
            "None\n"
          ],
          "name": "stdout"
        },
        {
          "output_type": "stream",
          "text": [
            "2021-07-13 07:25:19,339 - INFO: lr: 0.06113 | Epoch: 034 | Batch: 000 | Loss: 0.69310 | Correct: 97/128\n"
          ],
          "name": "stderr"
        },
        {
          "output_type": "stream",
          "text": [
            "None\n"
          ],
          "name": "stdout"
        },
        {
          "output_type": "stream",
          "text": [
            "2021-07-13 07:25:34,916 - INFO: lr: 0.05000 | Epoch: 035 | Batch: 000 | Loss: 0.76410 | Correct: 96/128\n"
          ],
          "name": "stderr"
        },
        {
          "output_type": "stream",
          "text": [
            "None\n"
          ],
          "name": "stdout"
        },
        {
          "output_type": "stream",
          "text": [
            "2021-07-13 07:25:50,469 - INFO: lr: 0.03887 | Epoch: 036 | Batch: 000 | Loss: 0.50595 | Correct: 106/128\n"
          ],
          "name": "stderr"
        },
        {
          "output_type": "stream",
          "text": [
            "None\n"
          ],
          "name": "stdout"
        },
        {
          "output_type": "stream",
          "text": [
            "2021-07-13 07:26:05,999 - INFO: lr: 0.02831 | Epoch: 037 | Batch: 000 | Loss: 0.61795 | Correct: 103/128\n"
          ],
          "name": "stderr"
        },
        {
          "output_type": "stream",
          "text": [
            "None\n"
          ],
          "name": "stdout"
        },
        {
          "output_type": "stream",
          "text": [
            "2021-07-13 07:26:21,543 - INFO: lr: 0.01883 | Epoch: 038 | Batch: 000 | Loss: 0.43536 | Correct: 114/128\n"
          ],
          "name": "stderr"
        },
        {
          "output_type": "stream",
          "text": [
            "None\n"
          ],
          "name": "stdout"
        },
        {
          "output_type": "stream",
          "text": [
            "2021-07-13 07:26:37,086 - INFO: lr: 0.01091 | Epoch: 039 | Batch: 000 | Loss: 0.39329 | Correct: 113/128\n"
          ],
          "name": "stderr"
        },
        {
          "output_type": "stream",
          "text": [
            "None\n"
          ],
          "name": "stdout"
        },
        {
          "output_type": "stream",
          "text": [
            "2021-07-13 07:26:52,594 - INFO: lr: 0.00495 | Epoch: 040 | Batch: 000 | Loss: 0.38704 | Correct: 112/128\n"
          ],
          "name": "stderr"
        },
        {
          "output_type": "stream",
          "text": [
            "None\n"
          ],
          "name": "stdout"
        },
        {
          "output_type": "stream",
          "text": [
            "2021-07-13 07:27:08,078 - INFO: lr: 0.00125 | Epoch: 041 | Batch: 000 | Loss: 0.39929 | Correct: 108/128\n"
          ],
          "name": "stderr"
        },
        {
          "output_type": "stream",
          "text": [
            "None\n"
          ],
          "name": "stdout"
        },
        {
          "output_type": "stream",
          "text": [
            "2021-07-13 07:27:22,889 - INFO: Save the snapshot model with index: 2\n",
            "2021-07-13 07:27:23,724 - INFO: n_estimators: 3 | Validation Acc: 76.004 % | Historical Best: 76.004 %\n",
            "2021-07-13 07:27:24,491 - INFO: lr: 0.10000 | Epoch: 042 | Batch: 000 | Loss: 0.38468 | Correct: 113/128\n"
          ],
          "name": "stderr"
        },
        {
          "output_type": "stream",
          "text": [
            "None\n"
          ],
          "name": "stdout"
        },
        {
          "output_type": "stream",
          "text": [
            "2021-07-13 07:27:40,042 - INFO: lr: 0.09875 | Epoch: 043 | Batch: 000 | Loss: 0.74896 | Correct: 102/128\n"
          ],
          "name": "stderr"
        },
        {
          "output_type": "stream",
          "text": [
            "None\n"
          ],
          "name": "stdout"
        },
        {
          "output_type": "stream",
          "text": [
            "2021-07-13 07:27:55,625 - INFO: lr: 0.09505 | Epoch: 044 | Batch: 000 | Loss: 0.73876 | Correct: 95/128\n"
          ],
          "name": "stderr"
        },
        {
          "output_type": "stream",
          "text": [
            "None\n"
          ],
          "name": "stdout"
        },
        {
          "output_type": "stream",
          "text": [
            "2021-07-13 07:28:11,155 - INFO: lr: 0.08909 | Epoch: 045 | Batch: 000 | Loss: 0.65879 | Correct: 99/128\n"
          ],
          "name": "stderr"
        },
        {
          "output_type": "stream",
          "text": [
            "None\n"
          ],
          "name": "stdout"
        },
        {
          "output_type": "stream",
          "text": [
            "2021-07-13 07:28:26,732 - INFO: lr: 0.08117 | Epoch: 046 | Batch: 000 | Loss: 0.58428 | Correct: 102/128\n"
          ],
          "name": "stderr"
        },
        {
          "output_type": "stream",
          "text": [
            "None\n"
          ],
          "name": "stdout"
        },
        {
          "output_type": "stream",
          "text": [
            "2021-07-13 07:28:42,281 - INFO: lr: 0.07169 | Epoch: 047 | Batch: 000 | Loss: 0.38739 | Correct: 115/128\n"
          ],
          "name": "stderr"
        },
        {
          "output_type": "stream",
          "text": [
            "None\n"
          ],
          "name": "stdout"
        },
        {
          "output_type": "stream",
          "text": [
            "2021-07-13 07:28:57,802 - INFO: lr: 0.06113 | Epoch: 048 | Batch: 000 | Loss: 0.47248 | Correct: 109/128\n"
          ],
          "name": "stderr"
        },
        {
          "output_type": "stream",
          "text": [
            "None\n"
          ],
          "name": "stdout"
        },
        {
          "output_type": "stream",
          "text": [
            "2021-07-13 07:29:13,319 - INFO: lr: 0.05000 | Epoch: 049 | Batch: 000 | Loss: 0.43650 | Correct: 109/128\n"
          ],
          "name": "stderr"
        },
        {
          "output_type": "stream",
          "text": [
            "None\n"
          ],
          "name": "stdout"
        },
        {
          "output_type": "stream",
          "text": [
            "2021-07-13 07:29:28,841 - INFO: lr: 0.03887 | Epoch: 050 | Batch: 000 | Loss: 0.30985 | Correct: 113/128\n"
          ],
          "name": "stderr"
        },
        {
          "output_type": "stream",
          "text": [
            "None\n"
          ],
          "name": "stdout"
        },
        {
          "output_type": "stream",
          "text": [
            "2021-07-13 07:29:44,389 - INFO: lr: 0.02831 | Epoch: 051 | Batch: 000 | Loss: 0.27535 | Correct: 117/128\n"
          ],
          "name": "stderr"
        },
        {
          "output_type": "stream",
          "text": [
            "None\n"
          ],
          "name": "stdout"
        },
        {
          "output_type": "stream",
          "text": [
            "2021-07-13 07:29:59,937 - INFO: lr: 0.01883 | Epoch: 052 | Batch: 000 | Loss: 0.31422 | Correct: 115/128\n"
          ],
          "name": "stderr"
        },
        {
          "output_type": "stream",
          "text": [
            "None\n"
          ],
          "name": "stdout"
        },
        {
          "output_type": "stream",
          "text": [
            "2021-07-13 07:30:15,462 - INFO: lr: 0.01091 | Epoch: 053 | Batch: 000 | Loss: 0.20305 | Correct: 122/128\n"
          ],
          "name": "stderr"
        },
        {
          "output_type": "stream",
          "text": [
            "None\n"
          ],
          "name": "stdout"
        },
        {
          "output_type": "stream",
          "text": [
            "2021-07-13 07:30:30,990 - INFO: lr: 0.00495 | Epoch: 054 | Batch: 000 | Loss: 0.18463 | Correct: 122/128\n"
          ],
          "name": "stderr"
        },
        {
          "output_type": "stream",
          "text": [
            "None\n"
          ],
          "name": "stdout"
        },
        {
          "output_type": "stream",
          "text": [
            "2021-07-13 07:30:46,466 - INFO: lr: 0.00125 | Epoch: 055 | Batch: 000 | Loss: 0.26847 | Correct: 119/128\n"
          ],
          "name": "stderr"
        },
        {
          "output_type": "stream",
          "text": [
            "None\n"
          ],
          "name": "stdout"
        },
        {
          "output_type": "stream",
          "text": [
            "2021-07-13 07:31:01,305 - INFO: Save the snapshot model with index: 3\n",
            "2021-07-13 07:31:02,197 - INFO: n_estimators: 4 | Validation Acc: 77.902 % | Historical Best: 77.902 %\n",
            "2021-07-13 07:31:02,905 - INFO: lr: 0.10000 | Epoch: 056 | Batch: 000 | Loss: 0.23080 | Correct: 120/128\n"
          ],
          "name": "stderr"
        },
        {
          "output_type": "stream",
          "text": [
            "None\n"
          ],
          "name": "stdout"
        },
        {
          "output_type": "stream",
          "text": [
            "2021-07-13 07:31:18,412 - INFO: lr: 0.09875 | Epoch: 057 | Batch: 000 | Loss: 0.82500 | Correct: 94/128\n"
          ],
          "name": "stderr"
        },
        {
          "output_type": "stream",
          "text": [
            "None\n"
          ],
          "name": "stdout"
        },
        {
          "output_type": "stream",
          "text": [
            "2021-07-13 07:31:34,000 - INFO: lr: 0.09505 | Epoch: 058 | Batch: 000 | Loss: 0.50671 | Correct: 106/128\n"
          ],
          "name": "stderr"
        },
        {
          "output_type": "stream",
          "text": [
            "None\n"
          ],
          "name": "stdout"
        },
        {
          "output_type": "stream",
          "text": [
            "2021-07-13 07:31:49,573 - INFO: lr: 0.08909 | Epoch: 059 | Batch: 000 | Loss: 0.45534 | Correct: 110/128\n"
          ],
          "name": "stderr"
        },
        {
          "output_type": "stream",
          "text": [
            "None\n"
          ],
          "name": "stdout"
        },
        {
          "output_type": "stream",
          "text": [
            "2021-07-13 07:32:05,103 - INFO: lr: 0.08117 | Epoch: 060 | Batch: 000 | Loss: 0.40606 | Correct: 107/128\n"
          ],
          "name": "stderr"
        },
        {
          "output_type": "stream",
          "text": [
            "None\n"
          ],
          "name": "stdout"
        },
        {
          "output_type": "stream",
          "text": [
            "2021-07-13 07:32:20,644 - INFO: lr: 0.07169 | Epoch: 061 | Batch: 000 | Loss: 0.37578 | Correct: 113/128\n"
          ],
          "name": "stderr"
        },
        {
          "output_type": "stream",
          "text": [
            "None\n"
          ],
          "name": "stdout"
        },
        {
          "output_type": "stream",
          "text": [
            "2021-07-13 07:32:36,193 - INFO: lr: 0.06113 | Epoch: 062 | Batch: 000 | Loss: 0.28221 | Correct: 114/128\n"
          ],
          "name": "stderr"
        },
        {
          "output_type": "stream",
          "text": [
            "None\n"
          ],
          "name": "stdout"
        },
        {
          "output_type": "stream",
          "text": [
            "2021-07-13 07:32:51,749 - INFO: lr: 0.05000 | Epoch: 063 | Batch: 000 | Loss: 0.33238 | Correct: 116/128\n"
          ],
          "name": "stderr"
        },
        {
          "output_type": "stream",
          "text": [
            "None\n"
          ],
          "name": "stdout"
        },
        {
          "output_type": "stream",
          "text": [
            "2021-07-13 07:33:07,300 - INFO: lr: 0.03887 | Epoch: 064 | Batch: 000 | Loss: 0.24775 | Correct: 115/128\n"
          ],
          "name": "stderr"
        },
        {
          "output_type": "stream",
          "text": [
            "None\n"
          ],
          "name": "stdout"
        },
        {
          "output_type": "stream",
          "text": [
            "2021-07-13 07:33:22,814 - INFO: lr: 0.02831 | Epoch: 065 | Batch: 000 | Loss: 0.11630 | Correct: 124/128\n"
          ],
          "name": "stderr"
        },
        {
          "output_type": "stream",
          "text": [
            "None\n"
          ],
          "name": "stdout"
        },
        {
          "output_type": "stream",
          "text": [
            "2021-07-13 07:33:38,327 - INFO: lr: 0.01883 | Epoch: 066 | Batch: 000 | Loss: 0.18097 | Correct: 119/128\n"
          ],
          "name": "stderr"
        },
        {
          "output_type": "stream",
          "text": [
            "None\n"
          ],
          "name": "stdout"
        },
        {
          "output_type": "stream",
          "text": [
            "2021-07-13 07:33:53,875 - INFO: lr: 0.01091 | Epoch: 067 | Batch: 000 | Loss: 0.09768 | Correct: 125/128\n"
          ],
          "name": "stderr"
        },
        {
          "output_type": "stream",
          "text": [
            "None\n"
          ],
          "name": "stdout"
        },
        {
          "output_type": "stream",
          "text": [
            "2021-07-13 07:34:09,409 - INFO: lr: 0.00495 | Epoch: 068 | Batch: 000 | Loss: 0.18766 | Correct: 118/128\n"
          ],
          "name": "stderr"
        },
        {
          "output_type": "stream",
          "text": [
            "None\n"
          ],
          "name": "stdout"
        },
        {
          "output_type": "stream",
          "text": [
            "2021-07-13 07:34:24,913 - INFO: lr: 0.00125 | Epoch: 069 | Batch: 000 | Loss: 0.17058 | Correct: 122/128\n"
          ],
          "name": "stderr"
        },
        {
          "output_type": "stream",
          "text": [
            "None\n"
          ],
          "name": "stdout"
        },
        {
          "output_type": "stream",
          "text": [
            "2021-07-13 07:34:39,765 - INFO: Save the snapshot model with index: 4\n",
            "2021-07-13 07:34:40,770 - INFO: n_estimators: 5 | Validation Acc: 79.911 % | Historical Best: 79.911 %\n"
          ],
          "name": "stderr"
        },
        {
          "output_type": "stream",
          "text": [
            "Group 2 Finished!\n",
            "Target number of exemplars: 100\n",
            "Randomly extracting exemplars from class 0 of current split... Extracted 100 exemplars.\n",
            "Randomly extracting exemplars from class 1 of current split... Extracted 100 exemplars.\n",
            "Randomly extracting exemplars from class 2 of current split... Extracted 100 exemplars.\n",
            "Randomly extracting exemplars from class 3 of current split... Extracted 100 exemplars.\n",
            "Randomly extracting exemplars from class 4 of current split... Extracted 100 exemplars.\n",
            "Randomly extracting exemplars from class 5 of current split... Extracted 100 exemplars.\n",
            "Randomly extracting exemplars from class 6 of current split... Extracted 100 exemplars.\n",
            "Randomly extracting exemplars from class 7 of current split... Extracted 100 exemplars.\n",
            "Randomly extracting exemplars from class 8 of current split... Extracted 100 exemplars.\n",
            "Randomly extracting exemplars from class 9 of current split... Extracted 100 exemplars.\n",
            "[0.046875, 0.12447916666666667, 0.26979166666666665, 0.3776041666666667, 0.6057291666666667, 0.7348958333333333, 0.8671875],[0.7322916666666667, 0.7, 0.6244791666666667, 0.5520833333333334, 0.3729166666666667, 0.2557291666666667, 0.12916666666666668]\n",
            "Testing on both open and closed world\n",
            "owr harmonic mean (threshold:0.25) = 0.08810995989304814\n",
            "owr harmonic mean (threshold:0.35) = 0.21137081490840176\n",
            "owr harmonic mean (threshold:0.5) = 0.3767969811687051\n",
            "owr harmonic mean (threshold:0.6) = 0.44847105508870216\n",
            "owr harmonic mean (threshold:0.75) = 0.4616307433031754\n",
            "owr harmonic mean (threshold:0.85) = 0.37942571416053283\n",
            "owr harmonic mean (threshold:0.95) = 0.22484317825405126\n",
            "\n",
            "=============================================\n",
            "\n",
            "Length of exemplars set: 2000\n"
          ],
          "name": "stdout"
        },
        {
          "output_type": "stream",
          "text": [
            "2021-07-13 07:34:47,562 - INFO: lr: 0.10000 | Epoch: 000 | Batch: 000 | Loss: 4.58842 | Correct: 4/128\n"
          ],
          "name": "stderr"
        },
        {
          "output_type": "stream",
          "text": [
            "None\n"
          ],
          "name": "stdout"
        },
        {
          "output_type": "stream",
          "text": [
            "2021-07-13 07:35:03,395 - INFO: lr: 0.09875 | Epoch: 001 | Batch: 000 | Loss: 2.63984 | Correct: 32/128\n"
          ],
          "name": "stderr"
        },
        {
          "output_type": "stream",
          "text": [
            "None\n"
          ],
          "name": "stdout"
        },
        {
          "output_type": "stream",
          "text": [
            "2021-07-13 07:35:19,318 - INFO: lr: 0.09505 | Epoch: 002 | Batch: 000 | Loss: 2.69598 | Correct: 29/128\n"
          ],
          "name": "stderr"
        },
        {
          "output_type": "stream",
          "text": [
            "None\n"
          ],
          "name": "stdout"
        },
        {
          "output_type": "stream",
          "text": [
            "2021-07-13 07:35:35,209 - INFO: lr: 0.08909 | Epoch: 003 | Batch: 000 | Loss: 2.29266 | Correct: 52/128\n"
          ],
          "name": "stderr"
        },
        {
          "output_type": "stream",
          "text": [
            "None\n"
          ],
          "name": "stdout"
        },
        {
          "output_type": "stream",
          "text": [
            "2021-07-13 07:35:51,070 - INFO: lr: 0.08117 | Epoch: 004 | Batch: 000 | Loss: 2.44377 | Correct: 43/128\n"
          ],
          "name": "stderr"
        },
        {
          "output_type": "stream",
          "text": [
            "None\n"
          ],
          "name": "stdout"
        },
        {
          "output_type": "stream",
          "text": [
            "2021-07-13 07:36:06,942 - INFO: lr: 0.07169 | Epoch: 005 | Batch: 000 | Loss: 2.30292 | Correct: 53/128\n"
          ],
          "name": "stderr"
        },
        {
          "output_type": "stream",
          "text": [
            "None\n"
          ],
          "name": "stdout"
        },
        {
          "output_type": "stream",
          "text": [
            "2021-07-13 07:36:22,876 - INFO: lr: 0.06113 | Epoch: 006 | Batch: 000 | Loss: 2.05150 | Correct: 46/128\n"
          ],
          "name": "stderr"
        },
        {
          "output_type": "stream",
          "text": [
            "None\n"
          ],
          "name": "stdout"
        },
        {
          "output_type": "stream",
          "text": [
            "2021-07-13 07:36:38,775 - INFO: lr: 0.05000 | Epoch: 007 | Batch: 000 | Loss: 1.80472 | Correct: 59/128\n"
          ],
          "name": "stderr"
        },
        {
          "output_type": "stream",
          "text": [
            "None\n"
          ],
          "name": "stdout"
        },
        {
          "output_type": "stream",
          "text": [
            "2021-07-13 07:36:54,692 - INFO: lr: 0.03887 | Epoch: 008 | Batch: 000 | Loss: 1.70951 | Correct: 61/128\n"
          ],
          "name": "stderr"
        },
        {
          "output_type": "stream",
          "text": [
            "None\n"
          ],
          "name": "stdout"
        },
        {
          "output_type": "stream",
          "text": [
            "2021-07-13 07:37:10,560 - INFO: lr: 0.02831 | Epoch: 009 | Batch: 000 | Loss: 1.64201 | Correct: 65/128\n"
          ],
          "name": "stderr"
        },
        {
          "output_type": "stream",
          "text": [
            "None\n"
          ],
          "name": "stdout"
        },
        {
          "output_type": "stream",
          "text": [
            "2021-07-13 07:37:26,421 - INFO: lr: 0.01883 | Epoch: 010 | Batch: 000 | Loss: 1.56339 | Correct: 69/128\n"
          ],
          "name": "stderr"
        },
        {
          "output_type": "stream",
          "text": [
            "None\n"
          ],
          "name": "stdout"
        },
        {
          "output_type": "stream",
          "text": [
            "2021-07-13 07:37:42,277 - INFO: lr: 0.01091 | Epoch: 011 | Batch: 000 | Loss: 1.51552 | Correct: 72/128\n"
          ],
          "name": "stderr"
        },
        {
          "output_type": "stream",
          "text": [
            "None\n"
          ],
          "name": "stdout"
        },
        {
          "output_type": "stream",
          "text": [
            "2021-07-13 07:37:58,118 - INFO: lr: 0.00495 | Epoch: 012 | Batch: 000 | Loss: 1.71438 | Correct: 63/128\n"
          ],
          "name": "stderr"
        },
        {
          "output_type": "stream",
          "text": [
            "None\n"
          ],
          "name": "stdout"
        },
        {
          "output_type": "stream",
          "text": [
            "2021-07-13 07:38:14,023 - INFO: lr: 0.00125 | Epoch: 013 | Batch: 000 | Loss: 1.39118 | Correct: 78/128\n"
          ],
          "name": "stderr"
        },
        {
          "output_type": "stream",
          "text": [
            "None\n"
          ],
          "name": "stdout"
        },
        {
          "output_type": "stream",
          "text": [
            "2021-07-13 07:38:29,166 - INFO: Save the snapshot model with index: 0\n",
            "2021-07-13 07:38:29,788 - INFO: n_estimators: 1 | Validation Acc: 62.165 % | Historical Best: 62.165 %\n",
            "2021-07-13 07:38:30,554 - INFO: lr: 0.10000 | Epoch: 014 | Batch: 000 | Loss: 1.50950 | Correct: 68/128\n"
          ],
          "name": "stderr"
        },
        {
          "output_type": "stream",
          "text": [
            "None\n"
          ],
          "name": "stdout"
        },
        {
          "output_type": "stream",
          "text": [
            "2021-07-13 07:38:46,429 - INFO: lr: 0.09875 | Epoch: 015 | Batch: 000 | Loss: 2.01750 | Correct: 58/128\n"
          ],
          "name": "stderr"
        },
        {
          "output_type": "stream",
          "text": [
            "None\n"
          ],
          "name": "stdout"
        },
        {
          "output_type": "stream",
          "text": [
            "2021-07-13 07:39:02,296 - INFO: lr: 0.09505 | Epoch: 016 | Batch: 000 | Loss: 1.52324 | Correct: 75/128\n"
          ],
          "name": "stderr"
        },
        {
          "output_type": "stream",
          "text": [
            "None\n"
          ],
          "name": "stdout"
        },
        {
          "output_type": "stream",
          "text": [
            "2021-07-13 07:39:18,193 - INFO: lr: 0.08909 | Epoch: 017 | Batch: 000 | Loss: 1.67638 | Correct: 68/128\n"
          ],
          "name": "stderr"
        },
        {
          "output_type": "stream",
          "text": [
            "None\n"
          ],
          "name": "stdout"
        },
        {
          "output_type": "stream",
          "text": [
            "2021-07-13 07:39:34,069 - INFO: lr: 0.08117 | Epoch: 018 | Batch: 000 | Loss: 1.55859 | Correct: 67/128\n"
          ],
          "name": "stderr"
        },
        {
          "output_type": "stream",
          "text": [
            "None\n"
          ],
          "name": "stdout"
        },
        {
          "output_type": "stream",
          "text": [
            "2021-07-13 07:39:49,938 - INFO: lr: 0.07169 | Epoch: 019 | Batch: 000 | Loss: 1.43086 | Correct: 77/128\n"
          ],
          "name": "stderr"
        },
        {
          "output_type": "stream",
          "text": [
            "None\n"
          ],
          "name": "stdout"
        },
        {
          "output_type": "stream",
          "text": [
            "2021-07-13 07:40:05,773 - INFO: lr: 0.06113 | Epoch: 020 | Batch: 000 | Loss: 1.45590 | Correct: 75/128\n"
          ],
          "name": "stderr"
        },
        {
          "output_type": "stream",
          "text": [
            "None\n"
          ],
          "name": "stdout"
        },
        {
          "output_type": "stream",
          "text": [
            "2021-07-13 07:40:21,633 - INFO: lr: 0.05000 | Epoch: 021 | Batch: 000 | Loss: 1.31986 | Correct: 74/128\n"
          ],
          "name": "stderr"
        },
        {
          "output_type": "stream",
          "text": [
            "None\n"
          ],
          "name": "stdout"
        },
        {
          "output_type": "stream",
          "text": [
            "2021-07-13 07:40:37,447 - INFO: lr: 0.03887 | Epoch: 022 | Batch: 000 | Loss: 1.31675 | Correct: 73/128\n"
          ],
          "name": "stderr"
        },
        {
          "output_type": "stream",
          "text": [
            "None\n"
          ],
          "name": "stdout"
        },
        {
          "output_type": "stream",
          "text": [
            "2021-07-13 07:40:53,359 - INFO: lr: 0.02831 | Epoch: 023 | Batch: 000 | Loss: 1.14029 | Correct: 80/128\n"
          ],
          "name": "stderr"
        },
        {
          "output_type": "stream",
          "text": [
            "None\n"
          ],
          "name": "stdout"
        },
        {
          "output_type": "stream",
          "text": [
            "2021-07-13 07:41:09,225 - INFO: lr: 0.01883 | Epoch: 024 | Batch: 000 | Loss: 1.03280 | Correct: 86/128\n"
          ],
          "name": "stderr"
        },
        {
          "output_type": "stream",
          "text": [
            "None\n"
          ],
          "name": "stdout"
        },
        {
          "output_type": "stream",
          "text": [
            "2021-07-13 07:41:25,053 - INFO: lr: 0.01091 | Epoch: 025 | Batch: 000 | Loss: 0.84559 | Correct: 101/128\n"
          ],
          "name": "stderr"
        },
        {
          "output_type": "stream",
          "text": [
            "None\n"
          ],
          "name": "stdout"
        },
        {
          "output_type": "stream",
          "text": [
            "2021-07-13 07:41:40,927 - INFO: lr: 0.00495 | Epoch: 026 | Batch: 000 | Loss: 0.91598 | Correct: 95/128\n"
          ],
          "name": "stderr"
        },
        {
          "output_type": "stream",
          "text": [
            "None\n"
          ],
          "name": "stdout"
        },
        {
          "output_type": "stream",
          "text": [
            "2021-07-13 07:41:56,809 - INFO: lr: 0.00125 | Epoch: 027 | Batch: 000 | Loss: 0.98944 | Correct: 87/128\n"
          ],
          "name": "stderr"
        },
        {
          "output_type": "stream",
          "text": [
            "None\n"
          ],
          "name": "stdout"
        },
        {
          "output_type": "stream",
          "text": [
            "2021-07-13 07:42:11,960 - INFO: Save the snapshot model with index: 1\n",
            "2021-07-13 07:42:12,697 - INFO: n_estimators: 2 | Validation Acc: 69.308 % | Historical Best: 69.308 %\n",
            "2021-07-13 07:42:13,470 - INFO: lr: 0.10000 | Epoch: 028 | Batch: 000 | Loss: 0.82929 | Correct: 96/128\n"
          ],
          "name": "stderr"
        },
        {
          "output_type": "stream",
          "text": [
            "None\n"
          ],
          "name": "stdout"
        },
        {
          "output_type": "stream",
          "text": [
            "2021-07-13 07:42:29,294 - INFO: lr: 0.09875 | Epoch: 029 | Batch: 000 | Loss: 1.41141 | Correct: 76/128\n"
          ],
          "name": "stderr"
        },
        {
          "output_type": "stream",
          "text": [
            "None\n"
          ],
          "name": "stdout"
        },
        {
          "output_type": "stream",
          "text": [
            "2021-07-13 07:42:45,152 - INFO: lr: 0.09505 | Epoch: 030 | Batch: 000 | Loss: 1.36461 | Correct: 75/128\n"
          ],
          "name": "stderr"
        },
        {
          "output_type": "stream",
          "text": [
            "None\n"
          ],
          "name": "stdout"
        },
        {
          "output_type": "stream",
          "text": [
            "2021-07-13 07:43:01,012 - INFO: lr: 0.08909 | Epoch: 031 | Batch: 000 | Loss: 1.12396 | Correct: 86/128\n"
          ],
          "name": "stderr"
        },
        {
          "output_type": "stream",
          "text": [
            "None\n"
          ],
          "name": "stdout"
        },
        {
          "output_type": "stream",
          "text": [
            "2021-07-13 07:43:16,869 - INFO: lr: 0.08117 | Epoch: 032 | Batch: 000 | Loss: 1.19809 | Correct: 78/128\n"
          ],
          "name": "stderr"
        },
        {
          "output_type": "stream",
          "text": [
            "None\n"
          ],
          "name": "stdout"
        },
        {
          "output_type": "stream",
          "text": [
            "2021-07-13 07:43:32,711 - INFO: lr: 0.07169 | Epoch: 033 | Batch: 000 | Loss: 0.98489 | Correct: 93/128\n"
          ],
          "name": "stderr"
        },
        {
          "output_type": "stream",
          "text": [
            "None\n"
          ],
          "name": "stdout"
        },
        {
          "output_type": "stream",
          "text": [
            "2021-07-13 07:43:48,609 - INFO: lr: 0.06113 | Epoch: 034 | Batch: 000 | Loss: 1.13943 | Correct: 83/128\n"
          ],
          "name": "stderr"
        },
        {
          "output_type": "stream",
          "text": [
            "None\n"
          ],
          "name": "stdout"
        },
        {
          "output_type": "stream",
          "text": [
            "2021-07-13 07:44:04,462 - INFO: lr: 0.05000 | Epoch: 035 | Batch: 000 | Loss: 1.05490 | Correct: 85/128\n"
          ],
          "name": "stderr"
        },
        {
          "output_type": "stream",
          "text": [
            "None\n"
          ],
          "name": "stdout"
        },
        {
          "output_type": "stream",
          "text": [
            "2021-07-13 07:44:20,305 - INFO: lr: 0.03887 | Epoch: 036 | Batch: 000 | Loss: 0.94348 | Correct: 100/128\n"
          ],
          "name": "stderr"
        },
        {
          "output_type": "stream",
          "text": [
            "None\n"
          ],
          "name": "stdout"
        },
        {
          "output_type": "stream",
          "text": [
            "2021-07-13 07:44:36,118 - INFO: lr: 0.02831 | Epoch: 037 | Batch: 000 | Loss: 0.66080 | Correct: 102/128\n"
          ],
          "name": "stderr"
        },
        {
          "output_type": "stream",
          "text": [
            "None\n"
          ],
          "name": "stdout"
        },
        {
          "output_type": "stream",
          "text": [
            "2021-07-13 07:44:51,994 - INFO: lr: 0.01883 | Epoch: 038 | Batch: 000 | Loss: 0.49768 | Correct: 111/128\n"
          ],
          "name": "stderr"
        },
        {
          "output_type": "stream",
          "text": [
            "None\n"
          ],
          "name": "stdout"
        },
        {
          "output_type": "stream",
          "text": [
            "2021-07-13 07:45:07,838 - INFO: lr: 0.01091 | Epoch: 039 | Batch: 000 | Loss: 0.54167 | Correct: 107/128\n"
          ],
          "name": "stderr"
        },
        {
          "output_type": "stream",
          "text": [
            "None\n"
          ],
          "name": "stdout"
        },
        {
          "output_type": "stream",
          "text": [
            "2021-07-13 07:45:23,677 - INFO: lr: 0.00495 | Epoch: 040 | Batch: 000 | Loss: 0.43827 | Correct: 115/128\n"
          ],
          "name": "stderr"
        },
        {
          "output_type": "stream",
          "text": [
            "None\n"
          ],
          "name": "stdout"
        },
        {
          "output_type": "stream",
          "text": [
            "2021-07-13 07:45:39,503 - INFO: lr: 0.00125 | Epoch: 041 | Batch: 000 | Loss: 0.59603 | Correct: 105/128\n"
          ],
          "name": "stderr"
        },
        {
          "output_type": "stream",
          "text": [
            "None\n"
          ],
          "name": "stdout"
        },
        {
          "output_type": "stream",
          "text": [
            "2021-07-13 07:45:54,606 - INFO: Save the snapshot model with index: 2\n",
            "2021-07-13 07:45:55,403 - INFO: n_estimators: 3 | Validation Acc: 72.991 % | Historical Best: 72.991 %\n",
            "2021-07-13 07:45:56,127 - INFO: lr: 0.10000 | Epoch: 042 | Batch: 000 | Loss: 0.52054 | Correct: 109/128\n"
          ],
          "name": "stderr"
        },
        {
          "output_type": "stream",
          "text": [
            "None\n"
          ],
          "name": "stdout"
        },
        {
          "output_type": "stream",
          "text": [
            "2021-07-13 07:46:12,029 - INFO: lr: 0.09875 | Epoch: 043 | Batch: 000 | Loss: 1.29249 | Correct: 83/128\n"
          ],
          "name": "stderr"
        },
        {
          "output_type": "stream",
          "text": [
            "None\n"
          ],
          "name": "stdout"
        },
        {
          "output_type": "stream",
          "text": [
            "2021-07-13 07:46:27,861 - INFO: lr: 0.09505 | Epoch: 044 | Batch: 000 | Loss: 1.06171 | Correct: 83/128\n"
          ],
          "name": "stderr"
        },
        {
          "output_type": "stream",
          "text": [
            "None\n"
          ],
          "name": "stdout"
        },
        {
          "output_type": "stream",
          "text": [
            "2021-07-13 07:46:43,726 - INFO: lr: 0.08909 | Epoch: 045 | Batch: 000 | Loss: 1.08359 | Correct: 82/128\n"
          ],
          "name": "stderr"
        },
        {
          "output_type": "stream",
          "text": [
            "None\n"
          ],
          "name": "stdout"
        },
        {
          "output_type": "stream",
          "text": [
            "2021-07-13 07:46:59,555 - INFO: lr: 0.08117 | Epoch: 046 | Batch: 000 | Loss: 0.82730 | Correct: 96/128\n"
          ],
          "name": "stderr"
        },
        {
          "output_type": "stream",
          "text": [
            "None\n"
          ],
          "name": "stdout"
        },
        {
          "output_type": "stream",
          "text": [
            "2021-07-13 07:47:15,438 - INFO: lr: 0.07169 | Epoch: 047 | Batch: 000 | Loss: 0.70411 | Correct: 95/128\n"
          ],
          "name": "stderr"
        },
        {
          "output_type": "stream",
          "text": [
            "None\n"
          ],
          "name": "stdout"
        },
        {
          "output_type": "stream",
          "text": [
            "2021-07-13 07:47:31,308 - INFO: lr: 0.06113 | Epoch: 048 | Batch: 000 | Loss: 0.52233 | Correct: 106/128\n"
          ],
          "name": "stderr"
        },
        {
          "output_type": "stream",
          "text": [
            "None\n"
          ],
          "name": "stdout"
        },
        {
          "output_type": "stream",
          "text": [
            "2021-07-13 07:47:47,190 - INFO: lr: 0.05000 | Epoch: 049 | Batch: 000 | Loss: 0.35552 | Correct: 117/128\n"
          ],
          "name": "stderr"
        },
        {
          "output_type": "stream",
          "text": [
            "None\n"
          ],
          "name": "stdout"
        },
        {
          "output_type": "stream",
          "text": [
            "2021-07-13 07:48:03,037 - INFO: lr: 0.03887 | Epoch: 050 | Batch: 000 | Loss: 0.52156 | Correct: 105/128\n"
          ],
          "name": "stderr"
        },
        {
          "output_type": "stream",
          "text": [
            "None\n"
          ],
          "name": "stdout"
        },
        {
          "output_type": "stream",
          "text": [
            "2021-07-13 07:48:18,936 - INFO: lr: 0.02831 | Epoch: 051 | Batch: 000 | Loss: 0.45440 | Correct: 113/128\n"
          ],
          "name": "stderr"
        },
        {
          "output_type": "stream",
          "text": [
            "None\n"
          ],
          "name": "stdout"
        },
        {
          "output_type": "stream",
          "text": [
            "2021-07-13 07:48:34,758 - INFO: lr: 0.01883 | Epoch: 052 | Batch: 000 | Loss: 0.39561 | Correct: 115/128\n"
          ],
          "name": "stderr"
        },
        {
          "output_type": "stream",
          "text": [
            "None\n"
          ],
          "name": "stdout"
        },
        {
          "output_type": "stream",
          "text": [
            "2021-07-13 07:48:50,602 - INFO: lr: 0.01091 | Epoch: 053 | Batch: 000 | Loss: 0.31891 | Correct: 117/128\n"
          ],
          "name": "stderr"
        },
        {
          "output_type": "stream",
          "text": [
            "None\n"
          ],
          "name": "stdout"
        },
        {
          "output_type": "stream",
          "text": [
            "2021-07-13 07:49:06,436 - INFO: lr: 0.00495 | Epoch: 054 | Batch: 000 | Loss: 0.30083 | Correct: 118/128\n"
          ],
          "name": "stderr"
        },
        {
          "output_type": "stream",
          "text": [
            "None\n"
          ],
          "name": "stdout"
        },
        {
          "output_type": "stream",
          "text": [
            "2021-07-13 07:49:22,281 - INFO: lr: 0.00125 | Epoch: 055 | Batch: 000 | Loss: 0.20746 | Correct: 121/128\n"
          ],
          "name": "stderr"
        },
        {
          "output_type": "stream",
          "text": [
            "None\n"
          ],
          "name": "stdout"
        },
        {
          "output_type": "stream",
          "text": [
            "2021-07-13 07:49:37,371 - INFO: Save the snapshot model with index: 3\n",
            "2021-07-13 07:49:38,319 - INFO: n_estimators: 4 | Validation Acc: 74.665 % | Historical Best: 74.665 %\n",
            "2021-07-13 07:49:39,100 - INFO: lr: 0.10000 | Epoch: 056 | Batch: 000 | Loss: 0.28008 | Correct: 119/128\n"
          ],
          "name": "stderr"
        },
        {
          "output_type": "stream",
          "text": [
            "None\n"
          ],
          "name": "stdout"
        },
        {
          "output_type": "stream",
          "text": [
            "2021-07-13 07:49:54,922 - INFO: lr: 0.09875 | Epoch: 057 | Batch: 000 | Loss: 1.06009 | Correct: 90/128\n"
          ],
          "name": "stderr"
        },
        {
          "output_type": "stream",
          "text": [
            "None\n"
          ],
          "name": "stdout"
        },
        {
          "output_type": "stream",
          "text": [
            "2021-07-13 07:50:10,788 - INFO: lr: 0.09505 | Epoch: 058 | Batch: 000 | Loss: 0.73357 | Correct: 96/128\n"
          ],
          "name": "stderr"
        },
        {
          "output_type": "stream",
          "text": [
            "None\n"
          ],
          "name": "stdout"
        },
        {
          "output_type": "stream",
          "text": [
            "2021-07-13 07:50:26,685 - INFO: lr: 0.08909 | Epoch: 059 | Batch: 000 | Loss: 0.59672 | Correct: 104/128\n"
          ],
          "name": "stderr"
        },
        {
          "output_type": "stream",
          "text": [
            "None\n"
          ],
          "name": "stdout"
        },
        {
          "output_type": "stream",
          "text": [
            "2021-07-13 07:50:42,515 - INFO: lr: 0.08117 | Epoch: 060 | Batch: 000 | Loss: 0.62343 | Correct: 104/128\n"
          ],
          "name": "stderr"
        },
        {
          "output_type": "stream",
          "text": [
            "None\n"
          ],
          "name": "stdout"
        },
        {
          "output_type": "stream",
          "text": [
            "2021-07-13 07:50:58,357 - INFO: lr: 0.07169 | Epoch: 061 | Batch: 000 | Loss: 0.54236 | Correct: 105/128\n"
          ],
          "name": "stderr"
        },
        {
          "output_type": "stream",
          "text": [
            "None\n"
          ],
          "name": "stdout"
        },
        {
          "output_type": "stream",
          "text": [
            "2021-07-13 07:51:14,237 - INFO: lr: 0.06113 | Epoch: 062 | Batch: 000 | Loss: 0.43898 | Correct: 113/128\n"
          ],
          "name": "stderr"
        },
        {
          "output_type": "stream",
          "text": [
            "None\n"
          ],
          "name": "stdout"
        },
        {
          "output_type": "stream",
          "text": [
            "2021-07-13 07:51:30,091 - INFO: lr: 0.05000 | Epoch: 063 | Batch: 000 | Loss: 0.43320 | Correct: 104/128\n"
          ],
          "name": "stderr"
        },
        {
          "output_type": "stream",
          "text": [
            "None\n"
          ],
          "name": "stdout"
        },
        {
          "output_type": "stream",
          "text": [
            "2021-07-13 07:51:45,945 - INFO: lr: 0.03887 | Epoch: 064 | Batch: 000 | Loss: 0.24432 | Correct: 120/128\n"
          ],
          "name": "stderr"
        },
        {
          "output_type": "stream",
          "text": [
            "None\n"
          ],
          "name": "stdout"
        },
        {
          "output_type": "stream",
          "text": [
            "2021-07-13 07:52:01,791 - INFO: lr: 0.02831 | Epoch: 065 | Batch: 000 | Loss: 0.23388 | Correct: 119/128\n"
          ],
          "name": "stderr"
        },
        {
          "output_type": "stream",
          "text": [
            "None\n"
          ],
          "name": "stdout"
        },
        {
          "output_type": "stream",
          "text": [
            "2021-07-13 07:52:17,678 - INFO: lr: 0.01883 | Epoch: 066 | Batch: 000 | Loss: 0.23923 | Correct: 117/128\n"
          ],
          "name": "stderr"
        },
        {
          "output_type": "stream",
          "text": [
            "None\n"
          ],
          "name": "stdout"
        },
        {
          "output_type": "stream",
          "text": [
            "2021-07-13 07:52:33,490 - INFO: lr: 0.01091 | Epoch: 067 | Batch: 000 | Loss: 0.18546 | Correct: 122/128\n"
          ],
          "name": "stderr"
        },
        {
          "output_type": "stream",
          "text": [
            "None\n"
          ],
          "name": "stdout"
        },
        {
          "output_type": "stream",
          "text": [
            "2021-07-13 07:52:49,337 - INFO: lr: 0.00495 | Epoch: 068 | Batch: 000 | Loss: 0.23756 | Correct: 120/128\n"
          ],
          "name": "stderr"
        },
        {
          "output_type": "stream",
          "text": [
            "None\n"
          ],
          "name": "stdout"
        },
        {
          "output_type": "stream",
          "text": [
            "2021-07-13 07:53:05,216 - INFO: lr: 0.00125 | Epoch: 069 | Batch: 000 | Loss: 0.14551 | Correct: 124/128\n"
          ],
          "name": "stderr"
        },
        {
          "output_type": "stream",
          "text": [
            "None\n"
          ],
          "name": "stdout"
        },
        {
          "output_type": "stream",
          "text": [
            "2021-07-13 07:53:20,332 - INFO: Save the snapshot model with index: 4\n",
            "2021-07-13 07:53:21,339 - INFO: n_estimators: 5 | Validation Acc: 75.893 % | Historical Best: 75.893 %\n"
          ],
          "name": "stderr"
        },
        {
          "output_type": "stream",
          "text": [
            "Group 3 Finished!\n",
            "Target number of exemplars: 66\n",
            "Randomly extracting exemplars from class 0 of current split... Extracted 66 exemplars.\n",
            "Randomly extracting exemplars from class 1 of current split... Extracted 66 exemplars.\n",
            "Randomly extracting exemplars from class 2 of current split... Extracted 66 exemplars.\n",
            "Randomly extracting exemplars from class 3 of current split... Extracted 66 exemplars.\n",
            "Randomly extracting exemplars from class 4 of current split... Extracted 66 exemplars.\n",
            "Randomly extracting exemplars from class 5 of current split... Extracted 66 exemplars.\n",
            "Randomly extracting exemplars from class 6 of current split... Extracted 66 exemplars.\n",
            "Randomly extracting exemplars from class 7 of current split... Extracted 66 exemplars.\n",
            "Randomly extracting exemplars from class 8 of current split... Extracted 66 exemplars.\n",
            "Randomly extracting exemplars from class 9 of current split... Extracted 66 exemplars.\n",
            "[0.10394021739130435, 0.234375, 0.4429347826086957, 0.5567255434782609, 0.7666440217391305, 0.8583559782608695, 0.9422554347826086],[0.5492527173913043, 0.5074728260869565, 0.41677989130434784, 0.3532608695652174, 0.20414402173913043, 0.13009510869565216, 0.05536684782608696]\n",
            "Testing on both open and closed world\n",
            "owr harmonic mean (threshold:0.25) = 0.17480117682968188\n",
            "owr harmonic mean (threshold:0.35) = 0.3206559065934066\n",
            "owr harmonic mean (threshold:0.5) = 0.42945948499476067\n",
            "owr harmonic mean (threshold:0.6) = 0.43224678254377846\n",
            "owr harmonic mean (threshold:0.75) = 0.3224304108224054\n",
            "owr harmonic mean (threshold:0.85) = 0.22594525063499177\n",
            "owr harmonic mean (threshold:0.95) = 0.10458810750395998\n",
            "\n",
            "=============================================\n",
            "\n",
            "Length of exemplars set: 1980\n"
          ],
          "name": "stdout"
        },
        {
          "output_type": "stream",
          "text": [
            "2021-07-13 07:53:29,666 - INFO: lr: 0.10000 | Epoch: 000 | Batch: 000 | Loss: 4.96539 | Correct: 7/128\n"
          ],
          "name": "stderr"
        },
        {
          "output_type": "stream",
          "text": [
            "None\n"
          ],
          "name": "stdout"
        },
        {
          "output_type": "stream",
          "text": [
            "2021-07-13 07:53:45,878 - INFO: lr: 0.09875 | Epoch: 001 | Batch: 000 | Loss: 3.05437 | Correct: 25/128\n"
          ],
          "name": "stderr"
        },
        {
          "output_type": "stream",
          "text": [
            "None\n"
          ],
          "name": "stdout"
        },
        {
          "output_type": "stream",
          "text": [
            "2021-07-13 07:54:02,147 - INFO: lr: 0.09505 | Epoch: 002 | Batch: 000 | Loss: 2.65858 | Correct: 41/128\n"
          ],
          "name": "stderr"
        },
        {
          "output_type": "stream",
          "text": [
            "None\n"
          ],
          "name": "stdout"
        },
        {
          "output_type": "stream",
          "text": [
            "2021-07-13 07:54:18,411 - INFO: lr: 0.08909 | Epoch: 003 | Batch: 000 | Loss: 2.61313 | Correct: 32/128\n"
          ],
          "name": "stderr"
        },
        {
          "output_type": "stream",
          "text": [
            "None\n"
          ],
          "name": "stdout"
        },
        {
          "output_type": "stream",
          "text": [
            "2021-07-13 07:54:34,615 - INFO: lr: 0.08117 | Epoch: 004 | Batch: 000 | Loss: 2.36990 | Correct: 40/128\n"
          ],
          "name": "stderr"
        },
        {
          "output_type": "stream",
          "text": [
            "None\n"
          ],
          "name": "stdout"
        },
        {
          "output_type": "stream",
          "text": [
            "2021-07-13 07:54:50,803 - INFO: lr: 0.07169 | Epoch: 005 | Batch: 000 | Loss: 2.12168 | Correct: 60/128\n"
          ],
          "name": "stderr"
        },
        {
          "output_type": "stream",
          "text": [
            "None\n"
          ],
          "name": "stdout"
        },
        {
          "output_type": "stream",
          "text": [
            "2021-07-13 07:55:07,046 - INFO: lr: 0.06113 | Epoch: 006 | Batch: 000 | Loss: 2.25921 | Correct: 43/128\n"
          ],
          "name": "stderr"
        },
        {
          "output_type": "stream",
          "text": [
            "None\n"
          ],
          "name": "stdout"
        },
        {
          "output_type": "stream",
          "text": [
            "2021-07-13 07:55:23,271 - INFO: lr: 0.05000 | Epoch: 007 | Batch: 000 | Loss: 2.14869 | Correct: 49/128\n"
          ],
          "name": "stderr"
        },
        {
          "output_type": "stream",
          "text": [
            "None\n"
          ],
          "name": "stdout"
        },
        {
          "output_type": "stream",
          "text": [
            "2021-07-13 07:55:39,516 - INFO: lr: 0.03887 | Epoch: 008 | Batch: 000 | Loss: 2.03929 | Correct: 57/128\n"
          ],
          "name": "stderr"
        },
        {
          "output_type": "stream",
          "text": [
            "None\n"
          ],
          "name": "stdout"
        },
        {
          "output_type": "stream",
          "text": [
            "2021-07-13 07:55:55,769 - INFO: lr: 0.02831 | Epoch: 009 | Batch: 000 | Loss: 1.91397 | Correct: 63/128\n"
          ],
          "name": "stderr"
        },
        {
          "output_type": "stream",
          "text": [
            "None\n"
          ],
          "name": "stdout"
        },
        {
          "output_type": "stream",
          "text": [
            "2021-07-13 07:56:12,055 - INFO: lr: 0.01883 | Epoch: 010 | Batch: 000 | Loss: 1.83599 | Correct: 55/128\n"
          ],
          "name": "stderr"
        },
        {
          "output_type": "stream",
          "text": [
            "None\n"
          ],
          "name": "stdout"
        },
        {
          "output_type": "stream",
          "text": [
            "2021-07-13 07:56:28,262 - INFO: lr: 0.01091 | Epoch: 011 | Batch: 000 | Loss: 1.66331 | Correct: 67/128\n"
          ],
          "name": "stderr"
        },
        {
          "output_type": "stream",
          "text": [
            "None\n"
          ],
          "name": "stdout"
        },
        {
          "output_type": "stream",
          "text": [
            "2021-07-13 07:56:44,517 - INFO: lr: 0.00495 | Epoch: 012 | Batch: 000 | Loss: 1.59548 | Correct: 70/128\n"
          ],
          "name": "stderr"
        },
        {
          "output_type": "stream",
          "text": [
            "None\n"
          ],
          "name": "stdout"
        },
        {
          "output_type": "stream",
          "text": [
            "2021-07-13 07:57:00,763 - INFO: lr: 0.00125 | Epoch: 013 | Batch: 000 | Loss: 1.75178 | Correct: 68/128\n"
          ],
          "name": "stderr"
        },
        {
          "output_type": "stream",
          "text": [
            "None\n"
          ],
          "name": "stdout"
        },
        {
          "output_type": "stream",
          "text": [
            "2021-07-13 07:57:16,209 - INFO: Save the snapshot model with index: 0\n",
            "2021-07-13 07:57:16,842 - INFO: n_estimators: 1 | Validation Acc: 63.058 % | Historical Best: 63.058 %\n",
            "2021-07-13 07:57:17,692 - INFO: lr: 0.10000 | Epoch: 014 | Batch: 000 | Loss: 1.58171 | Correct: 75/128\n"
          ],
          "name": "stderr"
        },
        {
          "output_type": "stream",
          "text": [
            "None\n"
          ],
          "name": "stdout"
        },
        {
          "output_type": "stream",
          "text": [
            "2021-07-13 07:57:33,929 - INFO: lr: 0.09875 | Epoch: 015 | Batch: 000 | Loss: 2.09719 | Correct: 56/128\n"
          ],
          "name": "stderr"
        },
        {
          "output_type": "stream",
          "text": [
            "None\n"
          ],
          "name": "stdout"
        },
        {
          "output_type": "stream",
          "text": [
            "2021-07-13 07:57:50,176 - INFO: lr: 0.09505 | Epoch: 016 | Batch: 000 | Loss: 2.16121 | Correct: 48/128\n"
          ],
          "name": "stderr"
        },
        {
          "output_type": "stream",
          "text": [
            "None\n"
          ],
          "name": "stdout"
        },
        {
          "output_type": "stream",
          "text": [
            "2021-07-13 07:58:06,509 - INFO: lr: 0.08909 | Epoch: 017 | Batch: 000 | Loss: 1.84032 | Correct: 59/128\n"
          ],
          "name": "stderr"
        },
        {
          "output_type": "stream",
          "text": [
            "None\n"
          ],
          "name": "stdout"
        },
        {
          "output_type": "stream",
          "text": [
            "2021-07-13 07:58:22,887 - INFO: lr: 0.08117 | Epoch: 018 | Batch: 000 | Loss: 1.54908 | Correct: 70/128\n"
          ],
          "name": "stderr"
        },
        {
          "output_type": "stream",
          "text": [
            "None\n"
          ],
          "name": "stdout"
        },
        {
          "output_type": "stream",
          "text": [
            "2021-07-13 07:58:39,209 - INFO: lr: 0.07169 | Epoch: 019 | Batch: 000 | Loss: 1.41267 | Correct: 74/128\n"
          ],
          "name": "stderr"
        },
        {
          "output_type": "stream",
          "text": [
            "None\n"
          ],
          "name": "stdout"
        },
        {
          "output_type": "stream",
          "text": [
            "2021-07-13 07:58:55,445 - INFO: lr: 0.06113 | Epoch: 020 | Batch: 000 | Loss: 1.52582 | Correct: 70/128\n"
          ],
          "name": "stderr"
        },
        {
          "output_type": "stream",
          "text": [
            "None\n"
          ],
          "name": "stdout"
        },
        {
          "output_type": "stream",
          "text": [
            "2021-07-13 07:59:11,671 - INFO: lr: 0.05000 | Epoch: 021 | Batch: 000 | Loss: 1.31456 | Correct: 82/128\n"
          ],
          "name": "stderr"
        },
        {
          "output_type": "stream",
          "text": [
            "None\n"
          ],
          "name": "stdout"
        },
        {
          "output_type": "stream",
          "text": [
            "2021-07-13 07:59:27,911 - INFO: lr: 0.03887 | Epoch: 022 | Batch: 000 | Loss: 1.25634 | Correct: 77/128\n"
          ],
          "name": "stderr"
        },
        {
          "output_type": "stream",
          "text": [
            "None\n"
          ],
          "name": "stdout"
        },
        {
          "output_type": "stream",
          "text": [
            "2021-07-13 07:59:44,148 - INFO: lr: 0.02831 | Epoch: 023 | Batch: 000 | Loss: 1.25144 | Correct: 78/128\n"
          ],
          "name": "stderr"
        },
        {
          "output_type": "stream",
          "text": [
            "None\n"
          ],
          "name": "stdout"
        },
        {
          "output_type": "stream",
          "text": [
            "2021-07-13 08:00:00,341 - INFO: lr: 0.01883 | Epoch: 024 | Batch: 000 | Loss: 1.04878 | Correct: 84/128\n"
          ],
          "name": "stderr"
        },
        {
          "output_type": "stream",
          "text": [
            "None\n"
          ],
          "name": "stdout"
        },
        {
          "output_type": "stream",
          "text": [
            "2021-07-13 08:00:16,570 - INFO: lr: 0.01091 | Epoch: 025 | Batch: 000 | Loss: 0.90467 | Correct: 97/128\n"
          ],
          "name": "stderr"
        },
        {
          "output_type": "stream",
          "text": [
            "None\n"
          ],
          "name": "stdout"
        },
        {
          "output_type": "stream",
          "text": [
            "2021-07-13 08:00:32,814 - INFO: lr: 0.00495 | Epoch: 026 | Batch: 000 | Loss: 1.12069 | Correct: 83/128\n"
          ],
          "name": "stderr"
        },
        {
          "output_type": "stream",
          "text": [
            "None\n"
          ],
          "name": "stdout"
        },
        {
          "output_type": "stream",
          "text": [
            "2021-07-13 08:00:49,049 - INFO: lr: 0.00125 | Epoch: 027 | Batch: 000 | Loss: 1.00601 | Correct: 91/128\n"
          ],
          "name": "stderr"
        },
        {
          "output_type": "stream",
          "text": [
            "None\n"
          ],
          "name": "stdout"
        },
        {
          "output_type": "stream",
          "text": [
            "2021-07-13 08:01:04,566 - INFO: Save the snapshot model with index: 1\n",
            "2021-07-13 08:01:05,287 - INFO: n_estimators: 2 | Validation Acc: 67.634 % | Historical Best: 67.634 %\n",
            "2021-07-13 08:01:06,094 - INFO: lr: 0.10000 | Epoch: 028 | Batch: 000 | Loss: 0.95285 | Correct: 91/128\n"
          ],
          "name": "stderr"
        },
        {
          "output_type": "stream",
          "text": [
            "None\n"
          ],
          "name": "stdout"
        },
        {
          "output_type": "stream",
          "text": [
            "2021-07-13 08:01:22,363 - INFO: lr: 0.09875 | Epoch: 029 | Batch: 000 | Loss: 1.72054 | Correct: 60/128\n"
          ],
          "name": "stderr"
        },
        {
          "output_type": "stream",
          "text": [
            "None\n"
          ],
          "name": "stdout"
        },
        {
          "output_type": "stream",
          "text": [
            "2021-07-13 08:01:38,627 - INFO: lr: 0.09505 | Epoch: 030 | Batch: 000 | Loss: 1.23818 | Correct: 81/128\n"
          ],
          "name": "stderr"
        },
        {
          "output_type": "stream",
          "text": [
            "None\n"
          ],
          "name": "stdout"
        },
        {
          "output_type": "stream",
          "text": [
            "2021-07-13 08:01:54,936 - INFO: lr: 0.08909 | Epoch: 031 | Batch: 000 | Loss: 1.35737 | Correct: 76/128\n"
          ],
          "name": "stderr"
        },
        {
          "output_type": "stream",
          "text": [
            "None\n"
          ],
          "name": "stdout"
        },
        {
          "output_type": "stream",
          "text": [
            "2021-07-13 08:02:11,151 - INFO: lr: 0.08117 | Epoch: 032 | Batch: 000 | Loss: 1.38673 | Correct: 81/128\n"
          ],
          "name": "stderr"
        },
        {
          "output_type": "stream",
          "text": [
            "None\n"
          ],
          "name": "stdout"
        },
        {
          "output_type": "stream",
          "text": [
            "2021-07-13 08:02:27,380 - INFO: lr: 0.07169 | Epoch: 033 | Batch: 000 | Loss: 1.16851 | Correct: 83/128\n"
          ],
          "name": "stderr"
        },
        {
          "output_type": "stream",
          "text": [
            "None\n"
          ],
          "name": "stdout"
        },
        {
          "output_type": "stream",
          "text": [
            "2021-07-13 08:02:43,608 - INFO: lr: 0.06113 | Epoch: 034 | Batch: 000 | Loss: 1.05263 | Correct: 88/128\n"
          ],
          "name": "stderr"
        },
        {
          "output_type": "stream",
          "text": [
            "None\n"
          ],
          "name": "stdout"
        },
        {
          "output_type": "stream",
          "text": [
            "2021-07-13 08:02:59,848 - INFO: lr: 0.05000 | Epoch: 035 | Batch: 000 | Loss: 0.81341 | Correct: 93/128\n"
          ],
          "name": "stderr"
        },
        {
          "output_type": "stream",
          "text": [
            "None\n"
          ],
          "name": "stdout"
        },
        {
          "output_type": "stream",
          "text": [
            "2021-07-13 08:03:16,090 - INFO: lr: 0.03887 | Epoch: 036 | Batch: 000 | Loss: 0.80421 | Correct: 102/128\n"
          ],
          "name": "stderr"
        },
        {
          "output_type": "stream",
          "text": [
            "None\n"
          ],
          "name": "stdout"
        },
        {
          "output_type": "stream",
          "text": [
            "2021-07-13 08:03:32,317 - INFO: lr: 0.02831 | Epoch: 037 | Batch: 000 | Loss: 0.85402 | Correct: 99/128\n"
          ],
          "name": "stderr"
        },
        {
          "output_type": "stream",
          "text": [
            "None\n"
          ],
          "name": "stdout"
        },
        {
          "output_type": "stream",
          "text": [
            "2021-07-13 08:03:48,550 - INFO: lr: 0.01883 | Epoch: 038 | Batch: 000 | Loss: 0.77649 | Correct: 101/128\n"
          ],
          "name": "stderr"
        },
        {
          "output_type": "stream",
          "text": [
            "None\n"
          ],
          "name": "stdout"
        },
        {
          "output_type": "stream",
          "text": [
            "2021-07-13 08:04:04,788 - INFO: lr: 0.01091 | Epoch: 039 | Batch: 000 | Loss: 0.80943 | Correct: 98/128\n"
          ],
          "name": "stderr"
        },
        {
          "output_type": "stream",
          "text": [
            "None\n"
          ],
          "name": "stdout"
        },
        {
          "output_type": "stream",
          "text": [
            "2021-07-13 08:04:21,022 - INFO: lr: 0.00495 | Epoch: 040 | Batch: 000 | Loss: 0.65606 | Correct: 104/128\n"
          ],
          "name": "stderr"
        },
        {
          "output_type": "stream",
          "text": [
            "None\n"
          ],
          "name": "stdout"
        },
        {
          "output_type": "stream",
          "text": [
            "2021-07-13 08:04:37,231 - INFO: lr: 0.00125 | Epoch: 041 | Batch: 000 | Loss: 0.73345 | Correct: 101/128\n"
          ],
          "name": "stderr"
        },
        {
          "output_type": "stream",
          "text": [
            "None\n"
          ],
          "name": "stdout"
        },
        {
          "output_type": "stream",
          "text": [
            "2021-07-13 08:04:52,662 - INFO: Save the snapshot model with index: 2\n",
            "2021-07-13 08:04:53,500 - INFO: n_estimators: 3 | Validation Acc: 72.768 % | Historical Best: 72.768 %\n",
            "2021-07-13 08:04:54,309 - INFO: lr: 0.10000 | Epoch: 042 | Batch: 000 | Loss: 0.68581 | Correct: 99/128\n"
          ],
          "name": "stderr"
        },
        {
          "output_type": "stream",
          "text": [
            "None\n"
          ],
          "name": "stdout"
        },
        {
          "output_type": "stream",
          "text": [
            "2021-07-13 08:05:10,510 - INFO: lr: 0.09875 | Epoch: 043 | Batch: 000 | Loss: 1.25064 | Correct: 80/128\n"
          ],
          "name": "stderr"
        },
        {
          "output_type": "stream",
          "text": [
            "None\n"
          ],
          "name": "stdout"
        },
        {
          "output_type": "stream",
          "text": [
            "2021-07-13 08:05:26,712 - INFO: lr: 0.09505 | Epoch: 044 | Batch: 000 | Loss: 0.88302 | Correct: 101/128\n"
          ],
          "name": "stderr"
        },
        {
          "output_type": "stream",
          "text": [
            "None\n"
          ],
          "name": "stdout"
        },
        {
          "output_type": "stream",
          "text": [
            "2021-07-13 08:05:42,939 - INFO: lr: 0.08909 | Epoch: 045 | Batch: 000 | Loss: 0.92563 | Correct: 95/128\n"
          ],
          "name": "stderr"
        },
        {
          "output_type": "stream",
          "text": [
            "None\n"
          ],
          "name": "stdout"
        },
        {
          "output_type": "stream",
          "text": [
            "2021-07-13 08:05:59,146 - INFO: lr: 0.08117 | Epoch: 046 | Batch: 000 | Loss: 0.87221 | Correct: 94/128\n"
          ],
          "name": "stderr"
        },
        {
          "output_type": "stream",
          "text": [
            "None\n"
          ],
          "name": "stdout"
        },
        {
          "output_type": "stream",
          "text": [
            "2021-07-13 08:06:15,386 - INFO: lr: 0.07169 | Epoch: 047 | Batch: 000 | Loss: 0.87180 | Correct: 95/128\n"
          ],
          "name": "stderr"
        },
        {
          "output_type": "stream",
          "text": [
            "None\n"
          ],
          "name": "stdout"
        },
        {
          "output_type": "stream",
          "text": [
            "2021-07-13 08:06:31,609 - INFO: lr: 0.06113 | Epoch: 048 | Batch: 000 | Loss: 0.93744 | Correct: 93/128\n"
          ],
          "name": "stderr"
        },
        {
          "output_type": "stream",
          "text": [
            "None\n"
          ],
          "name": "stdout"
        },
        {
          "output_type": "stream",
          "text": [
            "2021-07-13 08:06:47,800 - INFO: lr: 0.05000 | Epoch: 049 | Batch: 000 | Loss: 0.74292 | Correct: 101/128\n"
          ],
          "name": "stderr"
        },
        {
          "output_type": "stream",
          "text": [
            "None\n"
          ],
          "name": "stdout"
        },
        {
          "output_type": "stream",
          "text": [
            "2021-07-13 08:07:04,001 - INFO: lr: 0.03887 | Epoch: 050 | Batch: 000 | Loss: 0.53056 | Correct: 109/128\n"
          ],
          "name": "stderr"
        },
        {
          "output_type": "stream",
          "text": [
            "None\n"
          ],
          "name": "stdout"
        },
        {
          "output_type": "stream",
          "text": [
            "2021-07-13 08:07:20,187 - INFO: lr: 0.02831 | Epoch: 051 | Batch: 000 | Loss: 0.44442 | Correct: 111/128\n"
          ],
          "name": "stderr"
        },
        {
          "output_type": "stream",
          "text": [
            "None\n"
          ],
          "name": "stdout"
        },
        {
          "output_type": "stream",
          "text": [
            "2021-07-13 08:07:36,407 - INFO: lr: 0.01883 | Epoch: 052 | Batch: 000 | Loss: 0.49407 | Correct: 107/128\n"
          ],
          "name": "stderr"
        },
        {
          "output_type": "stream",
          "text": [
            "None\n"
          ],
          "name": "stdout"
        },
        {
          "output_type": "stream",
          "text": [
            "2021-07-13 08:07:52,628 - INFO: lr: 0.01091 | Epoch: 053 | Batch: 000 | Loss: 0.47323 | Correct: 108/128\n"
          ],
          "name": "stderr"
        },
        {
          "output_type": "stream",
          "text": [
            "None\n"
          ],
          "name": "stdout"
        },
        {
          "output_type": "stream",
          "text": [
            "2021-07-13 08:08:08,907 - INFO: lr: 0.00495 | Epoch: 054 | Batch: 000 | Loss: 0.42380 | Correct: 108/128\n"
          ],
          "name": "stderr"
        },
        {
          "output_type": "stream",
          "text": [
            "None\n"
          ],
          "name": "stdout"
        },
        {
          "output_type": "stream",
          "text": [
            "2021-07-13 08:08:25,201 - INFO: lr: 0.00125 | Epoch: 055 | Batch: 000 | Loss: 0.46539 | Correct: 109/128\n"
          ],
          "name": "stderr"
        },
        {
          "output_type": "stream",
          "text": [
            "None\n"
          ],
          "name": "stdout"
        },
        {
          "output_type": "stream",
          "text": [
            "2021-07-13 08:08:40,662 - INFO: Save the snapshot model with index: 3\n",
            "2021-07-13 08:08:41,613 - INFO: n_estimators: 4 | Validation Acc: 75.446 % | Historical Best: 75.446 %\n",
            "2021-07-13 08:08:42,403 - INFO: lr: 0.10000 | Epoch: 056 | Batch: 000 | Loss: 0.38106 | Correct: 118/128\n"
          ],
          "name": "stderr"
        },
        {
          "output_type": "stream",
          "text": [
            "None\n"
          ],
          "name": "stdout"
        },
        {
          "output_type": "stream",
          "text": [
            "2021-07-13 08:08:58,611 - INFO: lr: 0.09875 | Epoch: 057 | Batch: 000 | Loss: 1.10156 | Correct: 84/128\n"
          ],
          "name": "stderr"
        },
        {
          "output_type": "stream",
          "text": [
            "None\n"
          ],
          "name": "stdout"
        },
        {
          "output_type": "stream",
          "text": [
            "2021-07-13 08:09:14,834 - INFO: lr: 0.09505 | Epoch: 058 | Batch: 000 | Loss: 0.75120 | Correct: 100/128\n"
          ],
          "name": "stderr"
        },
        {
          "output_type": "stream",
          "text": [
            "None\n"
          ],
          "name": "stdout"
        },
        {
          "output_type": "stream",
          "text": [
            "2021-07-13 08:09:31,079 - INFO: lr: 0.08909 | Epoch: 059 | Batch: 000 | Loss: 0.66179 | Correct: 100/128\n"
          ],
          "name": "stderr"
        },
        {
          "output_type": "stream",
          "text": [
            "None\n"
          ],
          "name": "stdout"
        },
        {
          "output_type": "stream",
          "text": [
            "2021-07-13 08:09:47,291 - INFO: lr: 0.08117 | Epoch: 060 | Batch: 000 | Loss: 0.55600 | Correct: 103/128\n"
          ],
          "name": "stderr"
        },
        {
          "output_type": "stream",
          "text": [
            "None\n"
          ],
          "name": "stdout"
        },
        {
          "output_type": "stream",
          "text": [
            "2021-07-13 08:10:03,532 - INFO: lr: 0.07169 | Epoch: 061 | Batch: 000 | Loss: 0.74108 | Correct: 102/128\n"
          ],
          "name": "stderr"
        },
        {
          "output_type": "stream",
          "text": [
            "None\n"
          ],
          "name": "stdout"
        },
        {
          "output_type": "stream",
          "text": [
            "2021-07-13 08:10:19,794 - INFO: lr: 0.06113 | Epoch: 062 | Batch: 000 | Loss: 0.73358 | Correct: 100/128\n"
          ],
          "name": "stderr"
        },
        {
          "output_type": "stream",
          "text": [
            "None\n"
          ],
          "name": "stdout"
        },
        {
          "output_type": "stream",
          "text": [
            "2021-07-13 08:10:36,029 - INFO: lr: 0.05000 | Epoch: 063 | Batch: 000 | Loss: 0.45153 | Correct: 109/128\n"
          ],
          "name": "stderr"
        },
        {
          "output_type": "stream",
          "text": [
            "None\n"
          ],
          "name": "stdout"
        },
        {
          "output_type": "stream",
          "text": [
            "2021-07-13 08:10:52,275 - INFO: lr: 0.03887 | Epoch: 064 | Batch: 000 | Loss: 0.46987 | Correct: 112/128\n"
          ],
          "name": "stderr"
        },
        {
          "output_type": "stream",
          "text": [
            "None\n"
          ],
          "name": "stdout"
        },
        {
          "output_type": "stream",
          "text": [
            "2021-07-13 08:11:08,528 - INFO: lr: 0.02831 | Epoch: 065 | Batch: 000 | Loss: 0.29551 | Correct: 116/128\n"
          ],
          "name": "stderr"
        },
        {
          "output_type": "stream",
          "text": [
            "None\n"
          ],
          "name": "stdout"
        },
        {
          "output_type": "stream",
          "text": [
            "2021-07-13 08:11:24,734 - INFO: lr: 0.01883 | Epoch: 066 | Batch: 000 | Loss: 0.23977 | Correct: 119/128\n"
          ],
          "name": "stderr"
        },
        {
          "output_type": "stream",
          "text": [
            "None\n"
          ],
          "name": "stdout"
        },
        {
          "output_type": "stream",
          "text": [
            "2021-07-13 08:11:40,960 - INFO: lr: 0.01091 | Epoch: 067 | Batch: 000 | Loss: 0.25299 | Correct: 118/128\n"
          ],
          "name": "stderr"
        },
        {
          "output_type": "stream",
          "text": [
            "None\n"
          ],
          "name": "stdout"
        },
        {
          "output_type": "stream",
          "text": [
            "2021-07-13 08:11:57,189 - INFO: lr: 0.00495 | Epoch: 068 | Batch: 000 | Loss: 0.23122 | Correct: 120/128\n"
          ],
          "name": "stderr"
        },
        {
          "output_type": "stream",
          "text": [
            "None\n"
          ],
          "name": "stdout"
        },
        {
          "output_type": "stream",
          "text": [
            "2021-07-13 08:12:13,434 - INFO: lr: 0.00125 | Epoch: 069 | Batch: 000 | Loss: 0.22461 | Correct: 123/128\n"
          ],
          "name": "stderr"
        },
        {
          "output_type": "stream",
          "text": [
            "None\n"
          ],
          "name": "stdout"
        },
        {
          "output_type": "stream",
          "text": [
            "2021-07-13 08:12:28,904 - INFO: Save the snapshot model with index: 4\n",
            "2021-07-13 08:12:29,966 - INFO: n_estimators: 5 | Validation Acc: 73.326 % | Historical Best: 75.446 %\n"
          ],
          "name": "stderr"
        },
        {
          "output_type": "stream",
          "text": [
            "Group 4 Finished!\n",
            "Target number of exemplars: 50\n",
            "Randomly extracting exemplars from class 0 of current split... Extracted 50 exemplars.\n",
            "Randomly extracting exemplars from class 1 of current split... Extracted 50 exemplars.\n",
            "Randomly extracting exemplars from class 2 of current split... Extracted 50 exemplars.\n",
            "Randomly extracting exemplars from class 3 of current split... Extracted 50 exemplars.\n",
            "Randomly extracting exemplars from class 4 of current split... Extracted 50 exemplars.\n",
            "Randomly extracting exemplars from class 5 of current split... Extracted 50 exemplars.\n",
            "Randomly extracting exemplars from class 6 of current split... Extracted 50 exemplars.\n",
            "Randomly extracting exemplars from class 7 of current split... Extracted 50 exemplars.\n",
            "Randomly extracting exemplars from class 8 of current split... Extracted 50 exemplars.\n",
            "Randomly extracting exemplars from class 9 of current split... Extracted 50 exemplars.\n",
            "[0.13860887096774194, 0.2928427419354839, 0.5178931451612904, 0.6393649193548387, 0.8278729838709677, 0.9017137096774194, 0.9503528225806451],[0.44682459677419356, 0.40372983870967744, 0.31829637096774194, 0.2618447580645161, 0.14642137096774194, 0.08946572580645161, 0.04813508064516129]\n",
            "Testing on both open and closed world\n",
            "owr harmonic mean (threshold:0.25) = 0.21158289128351826\n",
            "owr harmonic mean (threshold:0.35) = 0.33946025512347694\n",
            "owr harmonic mean (threshold:0.5) = 0.39427308157848684\n",
            "owr harmonic mean (threshold:0.6) = 0.371532523047918\n",
            "owr harmonic mean (threshold:0.75) = 0.24883300756804563\n",
            "owr harmonic mean (threshold:0.85) = 0.1627807612181459\n",
            "owr harmonic mean (threshold:0.95) = 0.0916291716874827\n",
            "\n",
            "=============================================\n",
            "\n",
            "Length of exemplars set: 2000\n"
          ],
          "name": "stdout"
        },
        {
          "output_type": "stream",
          "text": [
            "2021-07-13 08:12:39,975 - INFO: lr: 0.10000 | Epoch: 000 | Batch: 000 | Loss: 5.58711 | Correct: 0/128\n"
          ],
          "name": "stderr"
        },
        {
          "output_type": "stream",
          "text": [
            "None\n"
          ],
          "name": "stdout"
        },
        {
          "output_type": "stream",
          "text": [
            "2021-07-13 08:12:56,558 - INFO: lr: 0.09875 | Epoch: 001 | Batch: 000 | Loss: 2.74327 | Correct: 47/128\n"
          ],
          "name": "stderr"
        },
        {
          "output_type": "stream",
          "text": [
            "None\n"
          ],
          "name": "stdout"
        },
        {
          "output_type": "stream",
          "text": [
            "2021-07-13 08:13:13,186 - INFO: lr: 0.09505 | Epoch: 002 | Batch: 000 | Loss: 2.79983 | Correct: 44/128\n"
          ],
          "name": "stderr"
        },
        {
          "output_type": "stream",
          "text": [
            "None\n"
          ],
          "name": "stdout"
        },
        {
          "output_type": "stream",
          "text": [
            "2021-07-13 08:13:29,830 - INFO: lr: 0.08909 | Epoch: 003 | Batch: 000 | Loss: 2.85391 | Correct: 41/128\n"
          ],
          "name": "stderr"
        },
        {
          "output_type": "stream",
          "text": [
            "None\n"
          ],
          "name": "stdout"
        },
        {
          "output_type": "stream",
          "text": [
            "2021-07-13 08:13:46,417 - INFO: lr: 0.08117 | Epoch: 004 | Batch: 000 | Loss: 2.30867 | Correct: 51/128\n"
          ],
          "name": "stderr"
        },
        {
          "output_type": "stream",
          "text": [
            "None\n"
          ],
          "name": "stdout"
        },
        {
          "output_type": "stream",
          "text": [
            "2021-07-13 08:14:03,019 - INFO: lr: 0.07169 | Epoch: 005 | Batch: 000 | Loss: 2.09737 | Correct: 57/128\n"
          ],
          "name": "stderr"
        },
        {
          "output_type": "stream",
          "text": [
            "None\n"
          ],
          "name": "stdout"
        },
        {
          "output_type": "stream",
          "text": [
            "2021-07-13 08:14:19,615 - INFO: lr: 0.06113 | Epoch: 006 | Batch: 000 | Loss: 2.30066 | Correct: 54/128\n"
          ],
          "name": "stderr"
        },
        {
          "output_type": "stream",
          "text": [
            "None\n"
          ],
          "name": "stdout"
        },
        {
          "output_type": "stream",
          "text": [
            "2021-07-13 08:14:36,179 - INFO: lr: 0.05000 | Epoch: 007 | Batch: 000 | Loss: 2.29708 | Correct: 52/128\n"
          ],
          "name": "stderr"
        },
        {
          "output_type": "stream",
          "text": [
            "None\n"
          ],
          "name": "stdout"
        },
        {
          "output_type": "stream",
          "text": [
            "2021-07-13 08:14:52,820 - INFO: lr: 0.03887 | Epoch: 008 | Batch: 000 | Loss: 2.16310 | Correct: 56/128\n"
          ],
          "name": "stderr"
        },
        {
          "output_type": "stream",
          "text": [
            "None\n"
          ],
          "name": "stdout"
        },
        {
          "output_type": "stream",
          "text": [
            "2021-07-13 08:15:09,546 - INFO: lr: 0.02831 | Epoch: 009 | Batch: 000 | Loss: 1.85566 | Correct: 58/128\n"
          ],
          "name": "stderr"
        },
        {
          "output_type": "stream",
          "text": [
            "None\n"
          ],
          "name": "stdout"
        },
        {
          "output_type": "stream",
          "text": [
            "2021-07-13 08:15:26,319 - INFO: lr: 0.01883 | Epoch: 010 | Batch: 000 | Loss: 1.58651 | Correct: 71/128\n"
          ],
          "name": "stderr"
        },
        {
          "output_type": "stream",
          "text": [
            "None\n"
          ],
          "name": "stdout"
        },
        {
          "output_type": "stream",
          "text": [
            "2021-07-13 08:15:43,043 - INFO: lr: 0.01091 | Epoch: 011 | Batch: 000 | Loss: 1.86028 | Correct: 67/128\n"
          ],
          "name": "stderr"
        },
        {
          "output_type": "stream",
          "text": [
            "None\n"
          ],
          "name": "stdout"
        },
        {
          "output_type": "stream",
          "text": [
            "2021-07-13 08:15:59,699 - INFO: lr: 0.00495 | Epoch: 012 | Batch: 000 | Loss: 1.93984 | Correct: 70/128\n"
          ],
          "name": "stderr"
        },
        {
          "output_type": "stream",
          "text": [
            "None\n"
          ],
          "name": "stdout"
        },
        {
          "output_type": "stream",
          "text": [
            "2021-07-13 08:16:16,335 - INFO: lr: 0.00125 | Epoch: 013 | Batch: 000 | Loss: 1.81308 | Correct: 68/128\n"
          ],
          "name": "stderr"
        },
        {
          "output_type": "stream",
          "text": [
            "None\n"
          ],
          "name": "stdout"
        },
        {
          "output_type": "stream",
          "text": [
            "2021-07-13 08:16:32,269 - INFO: Save the snapshot model with index: 0\n",
            "2021-07-13 08:16:32,923 - INFO: n_estimators: 1 | Validation Acc: 65.737 % | Historical Best: 65.737 %\n",
            "2021-07-13 08:16:33,784 - INFO: lr: 0.10000 | Epoch: 014 | Batch: 000 | Loss: 1.53576 | Correct: 69/128\n"
          ],
          "name": "stderr"
        },
        {
          "output_type": "stream",
          "text": [
            "None\n"
          ],
          "name": "stdout"
        },
        {
          "output_type": "stream",
          "text": [
            "2021-07-13 08:16:50,526 - INFO: lr: 0.09875 | Epoch: 015 | Batch: 000 | Loss: 2.44569 | Correct: 52/128\n"
          ],
          "name": "stderr"
        },
        {
          "output_type": "stream",
          "text": [
            "None\n"
          ],
          "name": "stdout"
        },
        {
          "output_type": "stream",
          "text": [
            "2021-07-13 08:17:07,240 - INFO: lr: 0.09505 | Epoch: 016 | Batch: 000 | Loss: 1.71199 | Correct: 74/128\n"
          ],
          "name": "stderr"
        },
        {
          "output_type": "stream",
          "text": [
            "None\n"
          ],
          "name": "stdout"
        },
        {
          "output_type": "stream",
          "text": [
            "2021-07-13 08:17:23,901 - INFO: lr: 0.08909 | Epoch: 017 | Batch: 000 | Loss: 2.05685 | Correct: 55/128\n"
          ],
          "name": "stderr"
        },
        {
          "output_type": "stream",
          "text": [
            "None\n"
          ],
          "name": "stdout"
        },
        {
          "output_type": "stream",
          "text": [
            "2021-07-13 08:17:40,535 - INFO: lr: 0.08117 | Epoch: 018 | Batch: 000 | Loss: 1.75161 | Correct: 72/128\n"
          ],
          "name": "stderr"
        },
        {
          "output_type": "stream",
          "text": [
            "None\n"
          ],
          "name": "stdout"
        },
        {
          "output_type": "stream",
          "text": [
            "2021-07-13 08:17:57,154 - INFO: lr: 0.07169 | Epoch: 019 | Batch: 000 | Loss: 1.69022 | Correct: 67/128\n"
          ],
          "name": "stderr"
        },
        {
          "output_type": "stream",
          "text": [
            "None\n"
          ],
          "name": "stdout"
        },
        {
          "output_type": "stream",
          "text": [
            "2021-07-13 08:18:13,785 - INFO: lr: 0.06113 | Epoch: 020 | Batch: 000 | Loss: 1.47114 | Correct: 80/128\n"
          ],
          "name": "stderr"
        },
        {
          "output_type": "stream",
          "text": [
            "None\n"
          ],
          "name": "stdout"
        },
        {
          "output_type": "stream",
          "text": [
            "2021-07-13 08:18:30,432 - INFO: lr: 0.05000 | Epoch: 021 | Batch: 000 | Loss: 1.29886 | Correct: 82/128\n"
          ],
          "name": "stderr"
        },
        {
          "output_type": "stream",
          "text": [
            "None\n"
          ],
          "name": "stdout"
        },
        {
          "output_type": "stream",
          "text": [
            "2021-07-13 08:18:47,098 - INFO: lr: 0.03887 | Epoch: 022 | Batch: 000 | Loss: 1.61437 | Correct: 74/128\n"
          ],
          "name": "stderr"
        },
        {
          "output_type": "stream",
          "text": [
            "None\n"
          ],
          "name": "stdout"
        },
        {
          "output_type": "stream",
          "text": [
            "2021-07-13 08:19:03,733 - INFO: lr: 0.02831 | Epoch: 023 | Batch: 000 | Loss: 1.43760 | Correct: 84/128\n"
          ],
          "name": "stderr"
        },
        {
          "output_type": "stream",
          "text": [
            "None\n"
          ],
          "name": "stdout"
        },
        {
          "output_type": "stream",
          "text": [
            "2021-07-13 08:19:20,331 - INFO: lr: 0.01883 | Epoch: 024 | Batch: 000 | Loss: 1.55521 | Correct: 75/128\n"
          ],
          "name": "stderr"
        },
        {
          "output_type": "stream",
          "text": [
            "None\n"
          ],
          "name": "stdout"
        },
        {
          "output_type": "stream",
          "text": [
            "2021-07-13 08:19:36,934 - INFO: lr: 0.01091 | Epoch: 025 | Batch: 000 | Loss: 1.39659 | Correct: 78/128\n"
          ],
          "name": "stderr"
        },
        {
          "output_type": "stream",
          "text": [
            "None\n"
          ],
          "name": "stdout"
        },
        {
          "output_type": "stream",
          "text": [
            "2021-07-13 08:19:53,562 - INFO: lr: 0.00495 | Epoch: 026 | Batch: 000 | Loss: 1.31661 | Correct: 78/128\n"
          ],
          "name": "stderr"
        },
        {
          "output_type": "stream",
          "text": [
            "None\n"
          ],
          "name": "stdout"
        },
        {
          "output_type": "stream",
          "text": [
            "2021-07-13 08:20:10,238 - INFO: lr: 0.00125 | Epoch: 027 | Batch: 000 | Loss: 1.21995 | Correct: 83/128\n"
          ],
          "name": "stderr"
        },
        {
          "output_type": "stream",
          "text": [
            "None\n"
          ],
          "name": "stdout"
        },
        {
          "output_type": "stream",
          "text": [
            "2021-07-13 08:20:26,145 - INFO: Save the snapshot model with index: 1\n",
            "2021-07-13 08:20:26,879 - INFO: n_estimators: 2 | Validation Acc: 73.103 % | Historical Best: 73.103 %\n",
            "2021-07-13 08:20:27,689 - INFO: lr: 0.10000 | Epoch: 028 | Batch: 000 | Loss: 1.33697 | Correct: 82/128\n"
          ],
          "name": "stderr"
        },
        {
          "output_type": "stream",
          "text": [
            "None\n"
          ],
          "name": "stdout"
        },
        {
          "output_type": "stream",
          "text": [
            "2021-07-13 08:20:44,345 - INFO: lr: 0.09875 | Epoch: 029 | Batch: 000 | Loss: 1.71898 | Correct: 67/128\n"
          ],
          "name": "stderr"
        },
        {
          "output_type": "stream",
          "text": [
            "None\n"
          ],
          "name": "stdout"
        },
        {
          "output_type": "stream",
          "text": [
            "2021-07-13 08:21:00,992 - INFO: lr: 0.09505 | Epoch: 030 | Batch: 000 | Loss: 1.57297 | Correct: 71/128\n"
          ],
          "name": "stderr"
        },
        {
          "output_type": "stream",
          "text": [
            "None\n"
          ],
          "name": "stdout"
        },
        {
          "output_type": "stream",
          "text": [
            "2021-07-13 08:21:17,660 - INFO: lr: 0.08909 | Epoch: 031 | Batch: 000 | Loss: 1.66031 | Correct: 74/128\n"
          ],
          "name": "stderr"
        },
        {
          "output_type": "stream",
          "text": [
            "None\n"
          ],
          "name": "stdout"
        },
        {
          "output_type": "stream",
          "text": [
            "2021-07-13 08:21:34,347 - INFO: lr: 0.08117 | Epoch: 032 | Batch: 000 | Loss: 1.27758 | Correct: 88/128\n"
          ],
          "name": "stderr"
        },
        {
          "output_type": "stream",
          "text": [
            "None\n"
          ],
          "name": "stdout"
        },
        {
          "output_type": "stream",
          "text": [
            "2021-07-13 08:21:51,003 - INFO: lr: 0.07169 | Epoch: 033 | Batch: 000 | Loss: 1.28559 | Correct: 80/128\n"
          ],
          "name": "stderr"
        },
        {
          "output_type": "stream",
          "text": [
            "None\n"
          ],
          "name": "stdout"
        },
        {
          "output_type": "stream",
          "text": [
            "2021-07-13 08:22:07,659 - INFO: lr: 0.06113 | Epoch: 034 | Batch: 000 | Loss: 1.36135 | Correct: 80/128\n"
          ],
          "name": "stderr"
        },
        {
          "output_type": "stream",
          "text": [
            "None\n"
          ],
          "name": "stdout"
        },
        {
          "output_type": "stream",
          "text": [
            "2021-07-13 08:22:24,317 - INFO: lr: 0.05000 | Epoch: 035 | Batch: 000 | Loss: 1.15509 | Correct: 80/128\n"
          ],
          "name": "stderr"
        },
        {
          "output_type": "stream",
          "text": [
            "None\n"
          ],
          "name": "stdout"
        },
        {
          "output_type": "stream",
          "text": [
            "2021-07-13 08:22:41,026 - INFO: lr: 0.03887 | Epoch: 036 | Batch: 000 | Loss: 1.13285 | Correct: 92/128\n"
          ],
          "name": "stderr"
        },
        {
          "output_type": "stream",
          "text": [
            "None\n"
          ],
          "name": "stdout"
        },
        {
          "output_type": "stream",
          "text": [
            "2021-07-13 08:22:57,693 - INFO: lr: 0.02831 | Epoch: 037 | Batch: 000 | Loss: 1.06912 | Correct: 93/128\n"
          ],
          "name": "stderr"
        },
        {
          "output_type": "stream",
          "text": [
            "None\n"
          ],
          "name": "stdout"
        },
        {
          "output_type": "stream",
          "text": [
            "2021-07-13 08:23:14,339 - INFO: lr: 0.01883 | Epoch: 038 | Batch: 000 | Loss: 0.89382 | Correct: 92/128\n"
          ],
          "name": "stderr"
        },
        {
          "output_type": "stream",
          "text": [
            "None\n"
          ],
          "name": "stdout"
        },
        {
          "output_type": "stream",
          "text": [
            "2021-07-13 08:23:31,007 - INFO: lr: 0.01091 | Epoch: 039 | Batch: 000 | Loss: 0.88031 | Correct: 98/128\n"
          ],
          "name": "stderr"
        },
        {
          "output_type": "stream",
          "text": [
            "None\n"
          ],
          "name": "stdout"
        },
        {
          "output_type": "stream",
          "text": [
            "2021-07-13 08:23:47,669 - INFO: lr: 0.00495 | Epoch: 040 | Batch: 000 | Loss: 0.71892 | Correct: 97/128\n"
          ],
          "name": "stderr"
        },
        {
          "output_type": "stream",
          "text": [
            "None\n"
          ],
          "name": "stdout"
        },
        {
          "output_type": "stream",
          "text": [
            "2021-07-13 08:24:04,336 - INFO: lr: 0.00125 | Epoch: 041 | Batch: 000 | Loss: 0.82346 | Correct: 101/128\n"
          ],
          "name": "stderr"
        },
        {
          "output_type": "stream",
          "text": [
            "None\n"
          ],
          "name": "stdout"
        },
        {
          "output_type": "stream",
          "text": [
            "2021-07-13 08:24:20,196 - INFO: Save the snapshot model with index: 2\n",
            "2021-07-13 08:24:21,084 - INFO: n_estimators: 3 | Validation Acc: 75.558 % | Historical Best: 75.558 %\n",
            "2021-07-13 08:24:21,928 - INFO: lr: 0.10000 | Epoch: 042 | Batch: 000 | Loss: 0.75076 | Correct: 100/128\n"
          ],
          "name": "stderr"
        },
        {
          "output_type": "stream",
          "text": [
            "None\n"
          ],
          "name": "stdout"
        },
        {
          "output_type": "stream",
          "text": [
            "2021-07-13 08:24:38,554 - INFO: lr: 0.09875 | Epoch: 043 | Batch: 000 | Loss: 1.18086 | Correct: 84/128\n"
          ],
          "name": "stderr"
        },
        {
          "output_type": "stream",
          "text": [
            "None\n"
          ],
          "name": "stdout"
        },
        {
          "output_type": "stream",
          "text": [
            "2021-07-13 08:24:55,179 - INFO: lr: 0.09505 | Epoch: 044 | Batch: 000 | Loss: 1.44302 | Correct: 78/128\n"
          ],
          "name": "stderr"
        },
        {
          "output_type": "stream",
          "text": [
            "None\n"
          ],
          "name": "stdout"
        },
        {
          "output_type": "stream",
          "text": [
            "2021-07-13 08:25:11,826 - INFO: lr: 0.08909 | Epoch: 045 | Batch: 000 | Loss: 1.08647 | Correct: 86/128\n"
          ],
          "name": "stderr"
        },
        {
          "output_type": "stream",
          "text": [
            "None\n"
          ],
          "name": "stdout"
        },
        {
          "output_type": "stream",
          "text": [
            "2021-07-13 08:25:28,440 - INFO: lr: 0.08117 | Epoch: 046 | Batch: 000 | Loss: 1.04515 | Correct: 91/128\n"
          ],
          "name": "stderr"
        },
        {
          "output_type": "stream",
          "text": [
            "None\n"
          ],
          "name": "stdout"
        },
        {
          "output_type": "stream",
          "text": [
            "2021-07-13 08:25:45,086 - INFO: lr: 0.07169 | Epoch: 047 | Batch: 000 | Loss: 0.94679 | Correct: 96/128\n"
          ],
          "name": "stderr"
        },
        {
          "output_type": "stream",
          "text": [
            "None\n"
          ],
          "name": "stdout"
        },
        {
          "output_type": "stream",
          "text": [
            "2021-07-13 08:26:01,743 - INFO: lr: 0.06113 | Epoch: 048 | Batch: 000 | Loss: 1.09004 | Correct: 85/128\n"
          ],
          "name": "stderr"
        },
        {
          "output_type": "stream",
          "text": [
            "None\n"
          ],
          "name": "stdout"
        },
        {
          "output_type": "stream",
          "text": [
            "2021-07-13 08:26:18,387 - INFO: lr: 0.05000 | Epoch: 049 | Batch: 000 | Loss: 0.96885 | Correct: 90/128\n"
          ],
          "name": "stderr"
        },
        {
          "output_type": "stream",
          "text": [
            "None\n"
          ],
          "name": "stdout"
        },
        {
          "output_type": "stream",
          "text": [
            "2021-07-13 08:26:35,039 - INFO: lr: 0.03887 | Epoch: 050 | Batch: 000 | Loss: 0.78738 | Correct: 101/128\n"
          ],
          "name": "stderr"
        },
        {
          "output_type": "stream",
          "text": [
            "None\n"
          ],
          "name": "stdout"
        },
        {
          "output_type": "stream",
          "text": [
            "2021-07-13 08:26:51,709 - INFO: lr: 0.02831 | Epoch: 051 | Batch: 000 | Loss: 0.57979 | Correct: 104/128\n"
          ],
          "name": "stderr"
        },
        {
          "output_type": "stream",
          "text": [
            "None\n"
          ],
          "name": "stdout"
        },
        {
          "output_type": "stream",
          "text": [
            "2021-07-13 08:27:08,393 - INFO: lr: 0.01883 | Epoch: 052 | Batch: 000 | Loss: 0.51598 | Correct: 114/128\n"
          ],
          "name": "stderr"
        },
        {
          "output_type": "stream",
          "text": [
            "None\n"
          ],
          "name": "stdout"
        },
        {
          "output_type": "stream",
          "text": [
            "2021-07-13 08:27:25,045 - INFO: lr: 0.01091 | Epoch: 053 | Batch: 000 | Loss: 0.48099 | Correct: 114/128\n"
          ],
          "name": "stderr"
        },
        {
          "output_type": "stream",
          "text": [
            "None\n"
          ],
          "name": "stdout"
        },
        {
          "output_type": "stream",
          "text": [
            "2021-07-13 08:27:41,710 - INFO: lr: 0.00495 | Epoch: 054 | Batch: 000 | Loss: 0.61201 | Correct: 105/128\n"
          ],
          "name": "stderr"
        },
        {
          "output_type": "stream",
          "text": [
            "None\n"
          ],
          "name": "stdout"
        },
        {
          "output_type": "stream",
          "text": [
            "2021-07-13 08:27:58,364 - INFO: lr: 0.00125 | Epoch: 055 | Batch: 000 | Loss: 0.55980 | Correct: 108/128\n"
          ],
          "name": "stderr"
        },
        {
          "output_type": "stream",
          "text": [
            "None\n"
          ],
          "name": "stdout"
        },
        {
          "output_type": "stream",
          "text": [
            "2021-07-13 08:28:14,235 - INFO: Save the snapshot model with index: 3\n",
            "2021-07-13 08:28:15,187 - INFO: n_estimators: 4 | Validation Acc: 76.004 % | Historical Best: 76.004 %\n",
            "2021-07-13 08:28:16,035 - INFO: lr: 0.10000 | Epoch: 056 | Batch: 000 | Loss: 0.50851 | Correct: 113/128\n"
          ],
          "name": "stderr"
        },
        {
          "output_type": "stream",
          "text": [
            "None\n"
          ],
          "name": "stdout"
        },
        {
          "output_type": "stream",
          "text": [
            "2021-07-13 08:28:32,743 - INFO: lr: 0.09875 | Epoch: 057 | Batch: 000 | Loss: 1.05771 | Correct: 90/128\n"
          ],
          "name": "stderr"
        },
        {
          "output_type": "stream",
          "text": [
            "None\n"
          ],
          "name": "stdout"
        },
        {
          "output_type": "stream",
          "text": [
            "2021-07-13 08:28:49,424 - INFO: lr: 0.09505 | Epoch: 058 | Batch: 000 | Loss: 1.05997 | Correct: 92/128\n"
          ],
          "name": "stderr"
        },
        {
          "output_type": "stream",
          "text": [
            "None\n"
          ],
          "name": "stdout"
        },
        {
          "output_type": "stream",
          "text": [
            "2021-07-13 08:29:06,086 - INFO: lr: 0.08909 | Epoch: 059 | Batch: 000 | Loss: 0.69518 | Correct: 96/128\n"
          ],
          "name": "stderr"
        },
        {
          "output_type": "stream",
          "text": [
            "None\n"
          ],
          "name": "stdout"
        },
        {
          "output_type": "stream",
          "text": [
            "2021-07-13 08:29:22,799 - INFO: lr: 0.08117 | Epoch: 060 | Batch: 000 | Loss: 0.64162 | Correct: 104/128\n"
          ],
          "name": "stderr"
        },
        {
          "output_type": "stream",
          "text": [
            "None\n"
          ],
          "name": "stdout"
        },
        {
          "output_type": "stream",
          "text": [
            "2021-07-13 08:29:39,455 - INFO: lr: 0.07169 | Epoch: 061 | Batch: 000 | Loss: 0.81953 | Correct: 96/128\n"
          ],
          "name": "stderr"
        },
        {
          "output_type": "stream",
          "text": [
            "None\n"
          ],
          "name": "stdout"
        },
        {
          "output_type": "stream",
          "text": [
            "2021-07-13 08:29:56,093 - INFO: lr: 0.06113 | Epoch: 062 | Batch: 000 | Loss: 0.71668 | Correct: 104/128\n"
          ],
          "name": "stderr"
        },
        {
          "output_type": "stream",
          "text": [
            "None\n"
          ],
          "name": "stdout"
        },
        {
          "output_type": "stream",
          "text": [
            "2021-07-13 08:30:12,738 - INFO: lr: 0.05000 | Epoch: 063 | Batch: 000 | Loss: 0.67315 | Correct: 101/128\n"
          ],
          "name": "stderr"
        },
        {
          "output_type": "stream",
          "text": [
            "None\n"
          ],
          "name": "stdout"
        },
        {
          "output_type": "stream",
          "text": [
            "2021-07-13 08:30:29,377 - INFO: lr: 0.03887 | Epoch: 064 | Batch: 000 | Loss: 0.45028 | Correct: 111/128\n"
          ],
          "name": "stderr"
        },
        {
          "output_type": "stream",
          "text": [
            "None\n"
          ],
          "name": "stdout"
        },
        {
          "output_type": "stream",
          "text": [
            "2021-07-13 08:30:46,025 - INFO: lr: 0.02831 | Epoch: 065 | Batch: 000 | Loss: 0.35058 | Correct: 113/128\n"
          ],
          "name": "stderr"
        },
        {
          "output_type": "stream",
          "text": [
            "None\n"
          ],
          "name": "stdout"
        },
        {
          "output_type": "stream",
          "text": [
            "2021-07-13 08:31:02,656 - INFO: lr: 0.01883 | Epoch: 066 | Batch: 000 | Loss: 0.34906 | Correct: 117/128\n"
          ],
          "name": "stderr"
        },
        {
          "output_type": "stream",
          "text": [
            "None\n"
          ],
          "name": "stdout"
        },
        {
          "output_type": "stream",
          "text": [
            "2021-07-13 08:31:19,288 - INFO: lr: 0.01091 | Epoch: 067 | Batch: 000 | Loss: 0.23577 | Correct: 120/128\n"
          ],
          "name": "stderr"
        },
        {
          "output_type": "stream",
          "text": [
            "None\n"
          ],
          "name": "stdout"
        },
        {
          "output_type": "stream",
          "text": [
            "2021-07-13 08:31:35,918 - INFO: lr: 0.00495 | Epoch: 068 | Batch: 000 | Loss: 0.36535 | Correct: 115/128\n"
          ],
          "name": "stderr"
        },
        {
          "output_type": "stream",
          "text": [
            "None\n"
          ],
          "name": "stdout"
        },
        {
          "output_type": "stream",
          "text": [
            "2021-07-13 08:31:52,571 - INFO: lr: 0.00125 | Epoch: 069 | Batch: 000 | Loss: 0.27238 | Correct: 118/128\n"
          ],
          "name": "stderr"
        },
        {
          "output_type": "stream",
          "text": [
            "None\n"
          ],
          "name": "stdout"
        },
        {
          "output_type": "stream",
          "text": [
            "2021-07-13 08:32:08,460 - INFO: Save the snapshot model with index: 4\n",
            "2021-07-13 08:32:09,533 - INFO: n_estimators: 5 | Validation Acc: 79.018 % | Historical Best: 79.018 %\n"
          ],
          "name": "stderr"
        },
        {
          "output_type": "stream",
          "text": [
            "Group 5 Finished!\n",
            "Target number of exemplars: 40\n",
            "Randomly extracting exemplars from class 0 of current split... Extracted 40 exemplars.\n",
            "Randomly extracting exemplars from class 1 of current split... Extracted 40 exemplars.\n",
            "Randomly extracting exemplars from class 2 of current split... Extracted 40 exemplars.\n",
            "Randomly extracting exemplars from class 3 of current split... Extracted 40 exemplars.\n",
            "Randomly extracting exemplars from class 4 of current split... Extracted 40 exemplars.\n",
            "Randomly extracting exemplars from class 5 of current split... Extracted 40 exemplars.\n",
            "Randomly extracting exemplars from class 6 of current split... Extracted 40 exemplars.\n",
            "Randomly extracting exemplars from class 7 of current split... Extracted 40 exemplars.\n",
            "Randomly extracting exemplars from class 8 of current split... Extracted 40 exemplars.\n",
            "Randomly extracting exemplars from class 9 of current split... Extracted 40 exemplars.\n",
            "[0.20012019230769232, 0.3808092948717949, 0.5995592948717948, 0.7073317307692307, 0.8483573717948718, 0.8990384615384616, 0.9417067307692307],[0.3671875, 0.32211538461538464, 0.25, 0.20032051282051283, 0.11919070512820513, 0.08333333333333333, 0.05228365384615385]\n",
            "Testing on both open and closed world\n",
            "owr harmonic mean (threshold:0.25) = 0.2590538930084746\n",
            "owr harmonic mean (threshold:0.35) = 0.34901188153539253\n",
            "owr harmonic mean (threshold:0.5) = 0.35286489035604807\n",
            "owr harmonic mean (threshold:0.6) = 0.3122188173777227\n",
            "owr harmonic mean (threshold:0.75) = 0.20901558435525827\n",
            "owr harmonic mean (threshold:0.85) = 0.15252854812398042\n",
            "owr harmonic mean (threshold:0.95) = 0.09906709259603759\n",
            "\n",
            "=============================================\n",
            "\n",
            "#################################\n",
            "\n",
            "\n"
          ],
          "name": "stdout"
        }
      ]
    },
    {
      "cell_type": "markdown",
      "metadata": {
        "id": "UIUvaKyhx0rC"
      },
      "source": [
        "### Store logs in more usable dtype"
      ]
    },
    {
      "cell_type": "code",
      "metadata": {
        "id": "1-uV6X0yxzQc"
      },
      "source": [
        "#train_loss = [[logs[run_i]['group_train_loss'][i] for i in range(5)] for run_i in range(len(RANDOM_SEED))]\n",
        "#train_accuracy = [[logs[run_i]['group_train_accuracies'][i] for i in range(5)] for run_i in range(len(RANDOM_SEED))]\n",
        "#val_loss = [[logs[run_i]['val_losses'][i] for i in range(5)] for run_i in range(len(RANDOM_SEED))]\n",
        "#val_accuracy = [[logs[run_i]['val_accuracies'][i] for i in range(5)] for run_i in range(len(RANDOM_SEED))]\n",
        "test_accuracy = [[logs[run_i]['test_accuracies'][i] for i in range(5)] for run_i in range(len(RANDOM_SEED))]\n",
        "#predictions = [logs[run_i]['predictions'].cpu().data.numpy().tolist() for run_i in range(len(RANDOM_SEED))]\n",
        "#true_labels = [logs[run_i]['true_labels'].cpu().data.numpy().tolist() for run_i in range(len(RANDOM_SEED))]\n",
        "\n",
        "#open_values = [[logs[run_i]['open_values'][i] for i in range(5)] for run_i in range(len(RANDOM_SEED))]\n",
        "#closed_values = [[logs[run_i]['closed_values'][i] for i in range(5)] for run_i in range(len(RANDOM_SEED))]"
      ],
      "execution_count": 11,
      "outputs": []
    },
    {
      "cell_type": "markdown",
      "metadata": {
        "id": "6r_ybcCLmc2R"
      },
      "source": [
        "### Save the model"
      ]
    },
    {
      "cell_type": "markdown",
      "metadata": {
        "id": "nIG3hIOkyFNs"
      },
      "source": [
        "#### Saving logs in JSON files"
      ]
    },
    {
      "cell_type": "code",
      "metadata": {
        "id": "mF_GR4KAyNYs"
      },
      "source": [
        "import json\n",
        "\n",
        "with open('states/reject_train_loss.json', 'w') as f:\n",
        "  json.dump(train_loss, f)\n",
        "f.close\n",
        "with open('states/reject_train_accuracy.json', 'w') as f:\n",
        "  json.dump(train_accuracy, f)\n",
        "f.close\n",
        "with open('states/reject_val_loss.json', 'w') as f:\n",
        "  json.dump(val_loss, f)\n",
        "f.close  \n",
        "with open('states/reject_val_accuracy.json', 'w') as f:\n",
        "  json.dump(val_accuracy, f)\n",
        "f.close\n",
        "with open('states/reject_test_accuracy.json', 'w') as f:\n",
        "  json.dump(test_accuracy, f)\n",
        "f.close\n",
        "with open('states/reject_predictions.json', 'w') as f:\n",
        "  json.dump(predictions, f)\n",
        "f.close\n",
        "with open('states/reject_true_labels.json', 'w') as f:\n",
        "  json.dump(true_labels, f)\n",
        "f.close"
      ],
      "execution_count": null,
      "outputs": []
    },
    {
      "cell_type": "code",
      "metadata": {
        "id": "7Blm6-cVDALg",
        "outputId": "f8e6c48e-c724-4f8d-80cd-0c5a47e9e7fe",
        "colab": {
          "base_uri": "https://localhost:8080/"
        }
      },
      "source": [
        "import json\n",
        "\n",
        "with open('states/reject_test_accuracy.json', 'w') as f:\n",
        "  json.dump(test_accuracy, f)\n",
        "f.close"
      ],
      "execution_count": 14,
      "outputs": [
        {
          "output_type": "execute_result",
          "data": {
            "text/plain": [
              "<function TextIOWrapper.close>"
            ]
          },
          "metadata": {
            "tags": []
          },
          "execution_count": 14
        }
      ]
    },
    {
      "cell_type": "markdown",
      "metadata": {
        "id": "JoVU9_V4zXOL"
      },
      "source": [
        "#### Saving best resnet on 100 classes for each seed"
      ]
    },
    {
      "cell_type": "markdown",
      "metadata": {
        "id": "2NMLqiIS19IJ"
      },
      "source": [
        "### Print some graphs"
      ]
    },
    {
      "cell_type": "code",
      "metadata": {
        "id": "G6Mg2QiIBNRo"
      },
      "source": [
        "from data.utils_plot import plot_train_val, plot_test_accuracies, plot_confusion_matrix"
      ],
      "execution_count": null,
      "outputs": []
    },
    {
      "cell_type": "code",
      "metadata": {
        "id": "M2QzOlExmhKo"
      },
      "source": [
        "train_loss = np.array(train_loss)\n",
        "train_accuracy = np.array(train_accuracy)\n",
        "val_loss = np.array(val_loss)\n",
        "val_accuracy = np.array(val_accuracy)\n",
        "test_accuracy = np.array(test_accuracy)\n",
        "\n",
        "\n",
        "\n",
        "train_loss_stats = np.array([train_loss.mean(0), train_loss.std(0)]).transpose()\n",
        "train_accuracy_stats = np.array([train_accuracy.mean(0), train_accuracy.std(0)]).transpose()\n",
        "val_loss_stats = np.array([val_loss.mean(0), val_loss.std(0)]).transpose()\n",
        "val_accuracy_stats = np.array([val_accuracy.mean(0), val_accuracy.std(0)]).transpose()\n",
        "test_accuracy_stats = np.array([test_accuracy.mean(0), test_accuracy.std(0)]).transpose()\n",
        "\n",
        "\n",
        "open_values = np.array(open_values)\n",
        "closed_values = np.array(closed_values)"
      ],
      "execution_count": null,
      "outputs": []
    },
    {
      "cell_type": "code",
      "metadata": {
        "id": "jhDfQb32kuJg"
      },
      "source": [
        "threshold = 0.75\n",
        "print(f\"Threshold: {threshold}\")\n",
        "fig, axs = plt.subplots(1,2)\n",
        "fig.set_size_inches(15, 5)\n",
        "\n",
        "\n",
        "\n",
        "a,b,c = axs[0].hist(closed_values[0][4].cpu().numpy(), color = 'red', edgecolor = 'black', bins = [0,threshold,1])\n",
        "below = c[0].get_height()\n",
        "above = c[1].get_height()\n",
        "print(f\"closed_below:{below}, close_above:{above}\")\n",
        "print(f\"closed world rejection rate: {below/(below+above):.2f} (should be 0)\")\n",
        "\n",
        "\n",
        "a,b,c = axs[1].hist(open_values[0][4].cpu().numpy(), color = 'blue', edgecolor = 'black', bins = [0,threshold,1])\n",
        "below = c[0].get_height()\n",
        "above = c[1].get_height()\n",
        "print(f\"open_below:{below}, open_above:{above}\")\n",
        "print(f\"open world rejection rate: {below/(below+above):.2f} (should be 1)\")"
      ],
      "execution_count": null,
      "outputs": []
    },
    {
      "cell_type": "code",
      "metadata": {
        "id": "GQc5Bv_yF9eP"
      },
      "source": [
        "mask = logs[run]['predictions'] == 50\n",
        "rejected = torch.sum(mask)\n",
        "total = logs[run]['predictions'].size(0)\n",
        "\n",
        "print(f\"rejection rate: {rejected/total:.2f}\")\n",
        "\n",
        "\n"
      ],
      "execution_count": null,
      "outputs": []
    },
    {
      "cell_type": "markdown",
      "metadata": {
        "id": "6rB0p1PlFxrc"
      },
      "source": [
        "#### Train validation loss"
      ]
    },
    {
      "cell_type": "code",
      "metadata": {
        "id": "lAW6ze3-S_Kk"
      },
      "source": [
        "def plot_losses(train_stats, val_stats, loss = bool, save_directory = None):\n",
        "  train_mean = np.array(train_stats)[:, 0]\n",
        "  train_std = np.array(train_stats)[:, 1]\n",
        "  val_mean = np.array(val_stats)[:, 0]\n",
        "  val_std = np.array(val_stats)[:, 1]\n",
        "  fig, ax = plt.subplots(figsize = (10, 5), dpi = 100)\n",
        "  x = np.arange(10,51,10)\n",
        "  ax.errorbar(x, train_mean, train_std, label = 'Training')\n",
        "  ax.errorbar(x, val_mean, val_std, label = 'Validation')\n",
        "  if loss:\n",
        "    ax.set_title(\"Training and validation loss\")\n",
        "    ax.set_ylabel(\"Loss\")\n",
        "  else:\n",
        "    ax.set_title(\"Training and validation accuracy\")\n",
        "    ax.set_ylabel(\"Accuracy\")\n",
        "  ax.set_xlabel(\"Number of classes\")\n",
        "  plt.tight_layout()\n",
        "  ax.legend()\n",
        "  if save_directory != None:\n",
        "    fig.savefig(save_directory)\n",
        "  plt.show()\n",
        "\n",
        "plot_losses(train_loss_stats, val_loss_stats, loss = True)"
      ],
      "execution_count": null,
      "outputs": []
    },
    {
      "cell_type": "markdown",
      "metadata": {
        "id": "Hb_RNTNKF18b"
      },
      "source": [
        "#### Train validation accuracy"
      ]
    },
    {
      "cell_type": "code",
      "metadata": {
        "id": "05IT5LFUBBBV"
      },
      "source": [
        "def plot_acc(train_stats, val_stats, loss = bool, save_directory = None):\n",
        "  train_mean = np.array(train_stats)[:, 0]\n",
        "  train_std = np.array(train_stats)[:, 1]\n",
        "  val_mean = np.array(val_stats)[:, 0]\n",
        "  val_std = np.array(val_stats)[:, 1]\n",
        "  fig, ax = plt.subplots(figsize = (10, 5), dpi = 100)\n",
        "  x = np.arange(10, 51, 10)\n",
        "  ax.errorbar(x, train_mean, train_std, label = 'Training')\n",
        "  ax.errorbar(x, val_mean, val_std, label = 'Validation')\n",
        "  if loss:\n",
        "    ax.set_title(\"Training and validation loss\")\n",
        "    ax.set_ylabel(\"Loss\")\n",
        "  else:\n",
        "    ax.set_title(\"Training and validation accuracy\")\n",
        "    ax.set_ylabel(\"Accuracy\")\n",
        "  ax.set_xlabel(\"Number of classes\")\n",
        "  plt.tight_layout()\n",
        "  ax.legend()\n",
        "  if save_directory != None:\n",
        "    fig.savefig(save_directory)\n",
        "  plt.show()\n",
        "\n",
        "plot_acc(train_accuracy_stats, val_accuracy_stats, loss = False)"
      ],
      "execution_count": null,
      "outputs": []
    },
    {
      "cell_type": "markdown",
      "metadata": {
        "id": "llzylw_LF7e_"
      },
      "source": [
        "#### Test accuracy"
      ]
    },
    {
      "cell_type": "code",
      "metadata": {
        "id": "Bou4H0k9mteX"
      },
      "source": [
        "def plot_test(stats, save_directory = None):\n",
        "  mean = np.array(stats)[:, 0]\n",
        "  std = np.array(stats)[:, 1]\n",
        "  fig, ax = plt.subplots(figsize = (10, 5), dpi = 100)\n",
        "  x = np.arange(10, 51, 10)\n",
        "  ax.errorbar(x, mean, std)\n",
        "  ax.set_title(\"Test accuracy\")\n",
        "  ax.set_xlabel(\"Number of classes\")\n",
        "  ax.set_ylabel(\"Accuracy\")\n",
        "  plt.tight_layout()\n",
        "  if save_directory != None:\n",
        "    fig.savefig(save_directory)\n",
        "  plt.show()\n",
        "\n",
        "test_accuracy = np.array(test_accuracy)\n",
        "  \n",
        "plot_test(test_accuracy_stats)"
      ],
      "execution_count": null,
      "outputs": []
    },
    {
      "cell_type": "markdown",
      "metadata": {
        "id": "gN6cighYm1nG"
      },
      "source": [
        "#### Confusion Matrix"
      ]
    },
    {
      "cell_type": "code",
      "metadata": {
        "id": "LPG6aNRjm5Se"
      },
      "source": [
        "for run in range(len(RANDOM_SEED)):\n",
        "  targets = np.array(true_labels[run])\n",
        "  preds = np.array(predictions[run])\n",
        "\n",
        "  plot_confusion_matrix(targets, preds, RANDOM_SEED[run], 'iCaRL')"
      ],
      "execution_count": null,
      "outputs": []
    }
  ]
}