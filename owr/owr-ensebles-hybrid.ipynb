{
  "nbformat": 4,
  "nbformat_minor": 0,
  "metadata": {
    "colab": {
      "name": "OWR-Ensembles.ipynb",
      "provenance": [],
      "include_colab_link": true
    },
    "kernelspec": {
      "name": "python3",
      "display_name": "Python 3"
    },
    "language_info": {
      "name": "python"
    },
    "accelerator": "GPU",
    "widgets": {
      "application/vnd.jupyter.widget-state+json": {
        "6d6ee7554626454b80e7eef8dbdff781": {
          "model_module": "@jupyter-widgets/controls",
          "model_name": "HBoxModel",
          "state": {
            "_view_name": "HBoxView",
            "_dom_classes": [],
            "_model_name": "HBoxModel",
            "_view_module": "@jupyter-widgets/controls",
            "_model_module_version": "1.5.0",
            "_view_count": null,
            "_view_module_version": "1.5.0",
            "box_style": "",
            "layout": "IPY_MODEL_9c7520d10b554757907a4cdbcc0b6e7c",
            "_model_module": "@jupyter-widgets/controls",
            "children": [
              "IPY_MODEL_a83c8fa60d71467cb5be103056718f6e",
              "IPY_MODEL_e1fb1a95dba54bd5a45e5d7b1134e3f1"
            ]
          }
        },
        "9c7520d10b554757907a4cdbcc0b6e7c": {
          "model_module": "@jupyter-widgets/base",
          "model_name": "LayoutModel",
          "state": {
            "_view_name": "LayoutView",
            "grid_template_rows": null,
            "right": null,
            "justify_content": null,
            "_view_module": "@jupyter-widgets/base",
            "overflow": null,
            "_model_module_version": "1.2.0",
            "_view_count": null,
            "flex_flow": null,
            "width": null,
            "min_width": null,
            "border": null,
            "align_items": null,
            "bottom": null,
            "_model_module": "@jupyter-widgets/base",
            "top": null,
            "grid_column": null,
            "overflow_y": null,
            "overflow_x": null,
            "grid_auto_flow": null,
            "grid_area": null,
            "grid_template_columns": null,
            "flex": null,
            "_model_name": "LayoutModel",
            "justify_items": null,
            "grid_row": null,
            "max_height": null,
            "align_content": null,
            "visibility": null,
            "align_self": null,
            "height": null,
            "min_height": null,
            "padding": null,
            "grid_auto_rows": null,
            "grid_gap": null,
            "max_width": null,
            "order": null,
            "_view_module_version": "1.2.0",
            "grid_template_areas": null,
            "object_position": null,
            "object_fit": null,
            "grid_auto_columns": null,
            "margin": null,
            "display": null,
            "left": null
          }
        },
        "a83c8fa60d71467cb5be103056718f6e": {
          "model_module": "@jupyter-widgets/controls",
          "model_name": "FloatProgressModel",
          "state": {
            "_view_name": "ProgressView",
            "style": "IPY_MODEL_da9df0bccc2e4d3885aaeb7a63c771f5",
            "_dom_classes": [],
            "description": "",
            "_model_name": "FloatProgressModel",
            "bar_style": "success",
            "max": 169001437,
            "_view_module": "@jupyter-widgets/controls",
            "_model_module_version": "1.5.0",
            "value": 169001437,
            "_view_count": null,
            "_view_module_version": "1.5.0",
            "orientation": "horizontal",
            "min": 0,
            "description_tooltip": null,
            "_model_module": "@jupyter-widgets/controls",
            "layout": "IPY_MODEL_44939ca40b194ffda69d796325b60d00"
          }
        },
        "e1fb1a95dba54bd5a45e5d7b1134e3f1": {
          "model_module": "@jupyter-widgets/controls",
          "model_name": "HTMLModel",
          "state": {
            "_view_name": "HTMLView",
            "style": "IPY_MODEL_a6ed71bdb582480db8525b08295d3564",
            "_dom_classes": [],
            "description": "",
            "_model_name": "HTMLModel",
            "placeholder": "​",
            "_view_module": "@jupyter-widgets/controls",
            "_model_module_version": "1.5.0",
            "value": " 169001984/? [00:08&lt;00:00, 20615156.92it/s]",
            "_view_count": null,
            "_view_module_version": "1.5.0",
            "description_tooltip": null,
            "_model_module": "@jupyter-widgets/controls",
            "layout": "IPY_MODEL_0855ed2c83b942cca9832e16b2b66ccd"
          }
        },
        "da9df0bccc2e4d3885aaeb7a63c771f5": {
          "model_module": "@jupyter-widgets/controls",
          "model_name": "ProgressStyleModel",
          "state": {
            "_view_name": "StyleView",
            "_model_name": "ProgressStyleModel",
            "description_width": "initial",
            "_view_module": "@jupyter-widgets/base",
            "_model_module_version": "1.5.0",
            "_view_count": null,
            "_view_module_version": "1.2.0",
            "bar_color": null,
            "_model_module": "@jupyter-widgets/controls"
          }
        },
        "44939ca40b194ffda69d796325b60d00": {
          "model_module": "@jupyter-widgets/base",
          "model_name": "LayoutModel",
          "state": {
            "_view_name": "LayoutView",
            "grid_template_rows": null,
            "right": null,
            "justify_content": null,
            "_view_module": "@jupyter-widgets/base",
            "overflow": null,
            "_model_module_version": "1.2.0",
            "_view_count": null,
            "flex_flow": null,
            "width": null,
            "min_width": null,
            "border": null,
            "align_items": null,
            "bottom": null,
            "_model_module": "@jupyter-widgets/base",
            "top": null,
            "grid_column": null,
            "overflow_y": null,
            "overflow_x": null,
            "grid_auto_flow": null,
            "grid_area": null,
            "grid_template_columns": null,
            "flex": null,
            "_model_name": "LayoutModel",
            "justify_items": null,
            "grid_row": null,
            "max_height": null,
            "align_content": null,
            "visibility": null,
            "align_self": null,
            "height": null,
            "min_height": null,
            "padding": null,
            "grid_auto_rows": null,
            "grid_gap": null,
            "max_width": null,
            "order": null,
            "_view_module_version": "1.2.0",
            "grid_template_areas": null,
            "object_position": null,
            "object_fit": null,
            "grid_auto_columns": null,
            "margin": null,
            "display": null,
            "left": null
          }
        },
        "a6ed71bdb582480db8525b08295d3564": {
          "model_module": "@jupyter-widgets/controls",
          "model_name": "DescriptionStyleModel",
          "state": {
            "_view_name": "StyleView",
            "_model_name": "DescriptionStyleModel",
            "description_width": "",
            "_view_module": "@jupyter-widgets/base",
            "_model_module_version": "1.5.0",
            "_view_count": null,
            "_view_module_version": "1.2.0",
            "_model_module": "@jupyter-widgets/controls"
          }
        },
        "0855ed2c83b942cca9832e16b2b66ccd": {
          "model_module": "@jupyter-widgets/base",
          "model_name": "LayoutModel",
          "state": {
            "_view_name": "LayoutView",
            "grid_template_rows": null,
            "right": null,
            "justify_content": null,
            "_view_module": "@jupyter-widgets/base",
            "overflow": null,
            "_model_module_version": "1.2.0",
            "_view_count": null,
            "flex_flow": null,
            "width": null,
            "min_width": null,
            "border": null,
            "align_items": null,
            "bottom": null,
            "_model_module": "@jupyter-widgets/base",
            "top": null,
            "grid_column": null,
            "overflow_y": null,
            "overflow_x": null,
            "grid_auto_flow": null,
            "grid_area": null,
            "grid_template_columns": null,
            "flex": null,
            "_model_name": "LayoutModel",
            "justify_items": null,
            "grid_row": null,
            "max_height": null,
            "align_content": null,
            "visibility": null,
            "align_self": null,
            "height": null,
            "min_height": null,
            "padding": null,
            "grid_auto_rows": null,
            "grid_gap": null,
            "max_width": null,
            "order": null,
            "_view_module_version": "1.2.0",
            "grid_template_areas": null,
            "object_position": null,
            "object_fit": null,
            "grid_auto_columns": null,
            "margin": null,
            "display": null,
            "left": null
          }
        }
      }
    }
  },
  "cells": [
    {
      "cell_type": "markdown",
      "metadata": {
        "id": "view-in-github",
        "colab_type": "text"
      },
      "source": [
        "<a href=\"https://colab.research.google.com/github/cosminnedescu/ProjectMLDL/blob/main/owr/owr-ensebles-hybrid.ipynb\" target=\"_parent\"><img src=\"https://colab.research.google.com/assets/colab-badge.svg\" alt=\"Open In Colab\"/></a>"
      ]
    },
    {
      "cell_type": "code",
      "metadata": {
        "id": "PF5bRIxnU-PW",
        "colab": {
          "base_uri": "https://localhost:8080/"
        },
        "outputId": "6a4beb45-cfab-4b3f-ebc2-ef45542e41ed"
      },
      "source": [
        "# Avoid K80\n",
        "!nvidia-smi"
      ],
      "execution_count": 1,
      "outputs": [
        {
          "output_type": "stream",
          "text": [
            "Tue Jul 13 12:06:01 2021       \n",
            "+-----------------------------------------------------------------------------+\n",
            "| NVIDIA-SMI 470.42.01    Driver Version: 460.32.03    CUDA Version: 11.2     |\n",
            "|-------------------------------+----------------------+----------------------+\n",
            "| GPU  Name        Persistence-M| Bus-Id        Disp.A | Volatile Uncorr. ECC |\n",
            "| Fan  Temp  Perf  Pwr:Usage/Cap|         Memory-Usage | GPU-Util  Compute M. |\n",
            "|                               |                      |               MIG M. |\n",
            "|===============================+======================+======================|\n",
            "|   0  Tesla T4            Off  | 00000000:00:04.0 Off |                    0 |\n",
            "| N/A   67C    P8    11W /  70W |      0MiB / 15109MiB |      0%      Default |\n",
            "|                               |                      |                  N/A |\n",
            "+-------------------------------+----------------------+----------------------+\n",
            "                                                                               \n",
            "+-----------------------------------------------------------------------------+\n",
            "| Processes:                                                                  |\n",
            "|  GPU   GI   CI        PID   Type   Process name                  GPU Memory |\n",
            "|        ID   ID                                                   Usage      |\n",
            "|=============================================================================|\n",
            "|  No running processes found                                                 |\n",
            "+-----------------------------------------------------------------------------+\n"
          ],
          "name": "stdout"
        }
      ]
    },
    {
      "cell_type": "code",
      "metadata": {
        "id": "pJimWkPdQu6y"
      },
      "source": [
        "import os\n",
        "import random\n",
        "\n",
        "import torch\n",
        "import torch.nn as nn\n",
        "import torch.nn.init as init\n",
        "import torch.optim as optim\n",
        "from torch.autograd import Variable\n",
        "\n",
        "import torchvision\n",
        "from torchvision import transforms, datasets, models\n",
        "from torch.utils.data import Subset, DataLoader\n",
        "\n",
        "from PIL import Image\n",
        "\n",
        "import numpy as np\n",
        "import matplotlib \n",
        "import matplotlib.pyplot as plt\n",
        "from copy import copy\n",
        "from copy import deepcopy"
      ],
      "execution_count": 2,
      "outputs": []
    },
    {
      "cell_type": "markdown",
      "metadata": {
        "id": "7BZw-bZJ16ay"
      },
      "source": [
        "#### Cloning the Git repository"
      ]
    },
    {
      "cell_type": "code",
      "metadata": {
        "id": "yjntw1jZQ7Lg",
        "colab": {
          "base_uri": "https://localhost:8080/"
        },
        "outputId": "1d9b6467-1107-4f74-e36d-efe5f20f2093"
      },
      "source": [
        "!rm -rf ProjectMLDL\n",
        "if not os.path.isdir('/content/ProjectMLDL'):\n",
        "  !git clone https://github.com/cosminnedescu/ProjectMLDL.git\n",
        "  %cd /content/ProjectMLDL\n",
        "  !rm -rf LICENSE README.md"
      ],
      "execution_count": 3,
      "outputs": [
        {
          "output_type": "stream",
          "text": [
            "Cloning into 'ProjectMLDL'...\n",
            "remote: Enumerating objects: 3597, done.\u001b[K\n",
            "remote: Counting objects: 100% (1013/1013), done.\u001b[K\n",
            "remote: Compressing objects: 100% (449/449), done.\u001b[K\n",
            "remote: Total 3597 (delta 585), reused 935 (delta 547), pack-reused 2584\u001b[K\n",
            "Receiving objects: 100% (3597/3597), 182.75 MiB | 34.62 MiB/s, done.\n",
            "Resolving deltas: 100% (1970/1970), done.\n",
            "Checking out files: 100% (397/397), done.\n",
            "/content/ProjectMLDL\n"
          ],
          "name": "stdout"
        }
      ]
    },
    {
      "cell_type": "code",
      "metadata": {
        "id": "nvqmxRxo2lUW"
      },
      "source": [
        "from data.cifar100 import CIFAR100\n",
        "from model.resnet32_modified import resnet32\n",
        "import data.utils\n",
        "from model.owrEnsamble import owrEnsemble"
      ],
      "execution_count": 4,
      "outputs": []
    },
    {
      "cell_type": "code",
      "metadata": {
        "id": "XwomFTtQo1x-"
      },
      "source": [
        "# True mean and std of Cifar100 dataset (src=\"https://gist.github.com/weiaicunzai/e623931921efefd4c331622c344d8151\")\n",
        "mean = [0.5071, 0.4867, 0.4408]\n",
        "std = [0.2675, 0.2565, 0.2761]\n",
        "\n",
        "train_transform = transforms.Compose([\n",
        "    transforms.RandomCrop(32, padding=4),\n",
        "    transforms.RandomHorizontalFlip(),\n",
        "    transforms.ToTensor(),\n",
        "    transforms.Normalize(mean, std),\n",
        "])\n",
        "test_transform = transforms.Compose(\n",
        "    [transforms.ToTensor(), \n",
        "     transforms.Normalize(mean, std),\n",
        "     ])"
      ],
      "execution_count": 5,
      "outputs": []
    },
    {
      "cell_type": "markdown",
      "metadata": {
        "id": "yRoS-R_sRhHT"
      },
      "source": [
        "## Incremental Classifier and Representation Learning"
      ]
    },
    {
      "cell_type": "markdown",
      "metadata": {
        "id": "3ocVW0wM2Iw2"
      },
      "source": [
        "### Defining hyperparameters according to iCarl paper"
      ]
    },
    {
      "cell_type": "code",
      "metadata": {
        "id": "nmEo_9lnwyBk"
      },
      "source": [
        "# Settings\n",
        "DEVICE = 'cuda'\n",
        "NUM_CLASSES = 100         # Total number of classes\n",
        "VAL_SIZE = 0.2            # Proportion of validation set with respect to training set (between 0 and 1)\n",
        "\n",
        "# Training\n",
        "BATCH_SIZE = 128          # Batch size\n",
        "LR = 0.1                    # Initial learning rate\n",
        "                       \n",
        "MOMENTUM = 0.9            # Momentum for stochastic gradient descent (SGD)\n",
        "WEIGHT_DECAY = 1e-5       # Weight decay from iCaRL\n",
        "\n",
        "RANDOM_SEED = [20]  # Random seeds defining the runs of every method\n",
        "                          # Note: this should be at least 3 to have a fair benchmark\n",
        "\n",
        "NUM_EPOCHS = 70           # Total number of training epochs\n",
        "MILESTONES = [43, 63]     # Step down policy from iCaRL (MultiStepLR)\n",
        "                          # Decrease the learning rate by gamma at each milestone\n",
        "GAMMA = 0.2               # Gamma factor from iCaRL (1/5)\n",
        "\n",
        "HERDING = False           # True to perform prioritized selection, False to perform random selection\n",
        "CLASSIFY = True           # True to use mean-of-exemplar classifier, False to use network's output directly for classification\n",
        "\n",
        "REJECTION_THRESHOLD = [0.25,0.35,0.50,0.60,0.75,0.85,0.95]\n",
        "TESTING_MODE = 'harmonic' #open, closed, harmonic\n",
        "N_ESTIMATORS = 5\n",
        "CONFIDENCE = '0.900' #'0.6827': 1, '0.900':1.47, '0.950':1.94, '0.975':2.45, '0.990':3.36\n",
        "STRATEGY = 'hybrid' # mean, variance, hybrid\n",
        "    "
      ],
      "execution_count": 6,
      "outputs": []
    },
    {
      "cell_type": "code",
      "metadata": {
        "id": "rVh61C63FECy"
      },
      "source": [
        "def do_group_classes(run):\n",
        "\n",
        "  train_subset = [[] for i in range(10)]\n",
        "  train_dataloader = [[] for i in range(10)]\n",
        "  val_dataloader = [[] for i in range(10)]\n",
        "  test_dataloader = [[] for i in range(10)]\n",
        "\n",
        "  for i in range(10):\n",
        "    train_data = CIFAR100(\"dataset\", \n",
        "                          train=True, \n",
        "                          transform=train_transform, \n",
        "                          download=(run+i==0),\n",
        "                          random_state=RANDOM_SEED[run])\n",
        "    test_data = CIFAR100(\"dataset\", \n",
        "                         train=False, \n",
        "                         transform=test_transform, \n",
        "                         download=False,\n",
        "                         random_state=RANDOM_SEED[run])\n",
        "    \n",
        "    train_data.set_index_map(train_data.splits[i])\n",
        "    test_data.set_index_map([test_data.splits[j] for j in range(0, i+1)])\n",
        "    \n",
        "    train_indices, val_indices = train_data.train_val_split(VAL_SIZE, RANDOM_SEED[run])\n",
        "    \n",
        "    train_subset[i] = copy(Subset(train_data, train_indices))\n",
        "    val_subset = Subset(train_data, val_indices)\n",
        "\n",
        "    tmp_dl = DataLoader(val_subset,\n",
        "                       batch_size=BATCH_SIZE,\n",
        "                       shuffle=True, \n",
        "                       num_workers=4,\n",
        "                       drop_last=True)\n",
        "    val_dataloader[i] = copy(tmp_dl)\n",
        "\n",
        "    tmp_dl = DataLoader(test_data,\n",
        "                       batch_size=BATCH_SIZE,\n",
        "                       shuffle=True, \n",
        "                       num_workers=4,\n",
        "                       drop_last=True)\n",
        "    test_dataloader[i] = copy(tmp_dl)\n",
        "\n",
        "  return train_dataloader, val_dataloader, test_dataloader, train_subset"
      ],
      "execution_count": 7,
      "outputs": []
    },
    {
      "cell_type": "markdown",
      "metadata": {
        "id": "20APZIgI1eBy"
      },
      "source": [
        "### Going on with the model\n",
        "This is the main iCaRL step.\n",
        "\n",
        "This step is run 3 times with different `RANDOM_SEED`.\n",
        "Here the model is instantiated, trained and tested.\n",
        "\n",
        "Results and some statistics are then stored in the variable `logs`."
      ]
    },
    {
      "cell_type": "code",
      "metadata": {
        "id": "mJHKbipz0bMr",
        "colab": {
          "base_uri": "https://localhost:8080/",
          "height": 1000,
          "referenced_widgets": [
            "6d6ee7554626454b80e7eef8dbdff781",
            "9c7520d10b554757907a4cdbcc0b6e7c",
            "a83c8fa60d71467cb5be103056718f6e",
            "e1fb1a95dba54bd5a45e5d7b1134e3f1",
            "da9df0bccc2e4d3885aaeb7a63c771f5",
            "44939ca40b194ffda69d796325b60d00",
            "a6ed71bdb582480db8525b08295d3564",
            "0855ed2c83b942cca9832e16b2b66ccd"
          ]
        },
        "outputId": "e134f0e2-7e79-4481-f288-4aecb93fc1bc"
      },
      "source": [
        "logs = [[] for i in range(len(RANDOM_SEED))]\n",
        "best_net_tot_classes = [None for i in range(len(RANDOM_SEED))]\n",
        "\n",
        "for run in range(len(RANDOM_SEED)):\n",
        "  print(\"#################################\")\n",
        "  print(f\"Radom seed: {RANDOM_SEED[run]}\")\n",
        "  print(\"\")\n",
        "\n",
        "  # get data_subsets separated in incremental groups of 10 classes\n",
        "  train_dl, val_dl, test_dl, train_set = do_group_classes(run)\n",
        "\n",
        "  #create the resnet\n",
        "  net = resnet32()\n",
        "  \n",
        "  trainer = owrEnsemble(DEVICE,\n",
        "                  net,\n",
        "                  LR,\n",
        "                  MOMENTUM,\n",
        "                  WEIGHT_DECAY,\n",
        "                  MILESTONES,\n",
        "                  GAMMA,\n",
        "                  train_dl,\n",
        "                  val_dl,\n",
        "                  test_dl,\n",
        "                  BATCH_SIZE,\n",
        "                  train_set,\n",
        "                  train_transform,\n",
        "                  test_transform,\n",
        "                  TESTING_MODE,\n",
        "                  REJECTION_THRESHOLD,\n",
        "                  N_ESTIMATORS,\n",
        "                  CONFIDENCE,\n",
        "                  STRATEGY) \n",
        "\n",
        "  #train and evaluate the model\n",
        "  logs[run] = trainer.train_model(NUM_EPOCHS)\n",
        "\n",
        "  best_net_tot_classes[run] = deepcopy(trainer.best_net)\n",
        "\n",
        "  print(\"#################################\")\n",
        "  print(\"\")\n",
        "  print(\"\")"
      ],
      "execution_count": 8,
      "outputs": [
        {
          "output_type": "stream",
          "text": [
            "#################################\n",
            "Radom seed: 20\n",
            "\n",
            "Downloading https://www.cs.toronto.edu/~kriz/cifar-100-python.tar.gz to dataset/cifar-100-python.tar.gz\n"
          ],
          "name": "stdout"
        },
        {
          "output_type": "display_data",
          "data": {
            "application/vnd.jupyter.widget-view+json": {
              "model_id": "6d6ee7554626454b80e7eef8dbdff781",
              "version_minor": 0,
              "version_major": 2
            },
            "text/plain": [
              "HBox(children=(FloatProgress(value=0.0, max=169001437.0), HTML(value='')))"
            ]
          },
          "metadata": {
            "tags": []
          }
        },
        {
          "output_type": "stream",
          "text": [
            "\n",
            "Extracting dataset/cifar-100-python.tar.gz to dataset\n"
          ],
          "name": "stdout"
        },
        {
          "output_type": "stream",
          "text": [
            "/usr/local/lib/python3.7/dist-packages/torch/utils/data/dataloader.py:481: UserWarning: This DataLoader will create 4 worker processes in total. Our suggested max number of worker in current system is 2, which is smaller than what this DataLoader is going to create. Please be aware that excessive worker creation might get DataLoader running slow or even freeze, lower the worker number to avoid potential slowness/freeze if necessary.\n",
            "  cpuset_checked))\n"
          ],
          "name": "stderr"
        },
        {
          "output_type": "stream",
          "text": [
            "Log will be saved in '/content/ProjectMLDL/logs'.\n",
            "Create folder 'logs/'\n",
            "Start logging into file /content/ProjectMLDL/logs/classification_mnist_mlp-2021_07_13_12_06.log...\n",
            "Length of exemplars set: 0\n"
          ],
          "name": "stdout"
        },
        {
          "output_type": "stream",
          "text": [
            "2021-07-13 12:07:07,857 - INFO: lr: 0.10000 | Epoch: 000 | Batch: 000 | Loss: 2.30780 | Correct: 17/128\n"
          ],
          "name": "stderr"
        },
        {
          "output_type": "stream",
          "text": [
            "None\n"
          ],
          "name": "stdout"
        },
        {
          "output_type": "stream",
          "text": [
            "2021-07-13 12:07:10,011 - INFO: lr: 0.09875 | Epoch: 001 | Batch: 000 | Loss: 1.80230 | Correct: 38/128\n"
          ],
          "name": "stderr"
        },
        {
          "output_type": "stream",
          "text": [
            "None\n"
          ],
          "name": "stdout"
        },
        {
          "output_type": "stream",
          "text": [
            "2021-07-13 12:07:12,184 - INFO: lr: 0.09505 | Epoch: 002 | Batch: 000 | Loss: 1.68711 | Correct: 50/128\n"
          ],
          "name": "stderr"
        },
        {
          "output_type": "stream",
          "text": [
            "None\n"
          ],
          "name": "stdout"
        },
        {
          "output_type": "stream",
          "text": [
            "2021-07-13 12:07:14,364 - INFO: lr: 0.08909 | Epoch: 003 | Batch: 000 | Loss: 1.50459 | Correct: 61/128\n"
          ],
          "name": "stderr"
        },
        {
          "output_type": "stream",
          "text": [
            "None\n"
          ],
          "name": "stdout"
        },
        {
          "output_type": "stream",
          "text": [
            "2021-07-13 12:07:16,545 - INFO: lr: 0.08117 | Epoch: 004 | Batch: 000 | Loss: 1.28329 | Correct: 68/128\n"
          ],
          "name": "stderr"
        },
        {
          "output_type": "stream",
          "text": [
            "None\n"
          ],
          "name": "stdout"
        },
        {
          "output_type": "stream",
          "text": [
            "2021-07-13 12:07:18,665 - INFO: lr: 0.07169 | Epoch: 005 | Batch: 000 | Loss: 1.36352 | Correct: 66/128\n"
          ],
          "name": "stderr"
        },
        {
          "output_type": "stream",
          "text": [
            "None\n"
          ],
          "name": "stdout"
        },
        {
          "output_type": "stream",
          "text": [
            "2021-07-13 12:07:20,866 - INFO: lr: 0.06113 | Epoch: 006 | Batch: 000 | Loss: 1.18765 | Correct: 72/128\n"
          ],
          "name": "stderr"
        },
        {
          "output_type": "stream",
          "text": [
            "None\n"
          ],
          "name": "stdout"
        },
        {
          "output_type": "stream",
          "text": [
            "2021-07-13 12:07:23,034 - INFO: lr: 0.05000 | Epoch: 007 | Batch: 000 | Loss: 0.98850 | Correct: 87/128\n"
          ],
          "name": "stderr"
        },
        {
          "output_type": "stream",
          "text": [
            "None\n"
          ],
          "name": "stdout"
        },
        {
          "output_type": "stream",
          "text": [
            "2021-07-13 12:07:25,192 - INFO: lr: 0.03887 | Epoch: 008 | Batch: 000 | Loss: 1.16683 | Correct: 78/128\n"
          ],
          "name": "stderr"
        },
        {
          "output_type": "stream",
          "text": [
            "None\n"
          ],
          "name": "stdout"
        },
        {
          "output_type": "stream",
          "text": [
            "2021-07-13 12:07:27,418 - INFO: lr: 0.02831 | Epoch: 009 | Batch: 000 | Loss: 0.89890 | Correct: 86/128\n"
          ],
          "name": "stderr"
        },
        {
          "output_type": "stream",
          "text": [
            "None\n"
          ],
          "name": "stdout"
        },
        {
          "output_type": "stream",
          "text": [
            "2021-07-13 12:07:29,610 - INFO: lr: 0.01883 | Epoch: 010 | Batch: 000 | Loss: 0.87178 | Correct: 88/128\n"
          ],
          "name": "stderr"
        },
        {
          "output_type": "stream",
          "text": [
            "None\n"
          ],
          "name": "stdout"
        },
        {
          "output_type": "stream",
          "text": [
            "2021-07-13 12:07:31,733 - INFO: lr: 0.01091 | Epoch: 011 | Batch: 000 | Loss: 0.85356 | Correct: 92/128\n"
          ],
          "name": "stderr"
        },
        {
          "output_type": "stream",
          "text": [
            "None\n"
          ],
          "name": "stdout"
        },
        {
          "output_type": "stream",
          "text": [
            "2021-07-13 12:07:33,985 - INFO: lr: 0.00495 | Epoch: 012 | Batch: 000 | Loss: 0.81170 | Correct: 90/128\n"
          ],
          "name": "stderr"
        },
        {
          "output_type": "stream",
          "text": [
            "None\n"
          ],
          "name": "stdout"
        },
        {
          "output_type": "stream",
          "text": [
            "2021-07-13 12:07:36,122 - INFO: lr: 0.00125 | Epoch: 013 | Batch: 000 | Loss: 0.79502 | Correct: 99/128\n"
          ],
          "name": "stderr"
        },
        {
          "output_type": "stream",
          "text": [
            "None\n"
          ],
          "name": "stdout"
        },
        {
          "output_type": "stream",
          "text": [
            "2021-07-13 12:07:37,981 - INFO: Save the snapshot model with index: 0\n",
            "2021-07-13 12:07:38,579 - INFO: n_estimators: 1 | Validation Acc: 66.853 % | Historical Best: 66.853 %\n",
            "2021-07-13 12:07:38,978 - INFO: lr: 0.10000 | Epoch: 014 | Batch: 000 | Loss: 0.91890 | Correct: 80/128\n"
          ],
          "name": "stderr"
        },
        {
          "output_type": "stream",
          "text": [
            "None\n"
          ],
          "name": "stdout"
        },
        {
          "output_type": "stream",
          "text": [
            "2021-07-13 12:07:41,071 - INFO: lr: 0.09875 | Epoch: 015 | Batch: 000 | Loss: 1.13376 | Correct: 79/128\n"
          ],
          "name": "stderr"
        },
        {
          "output_type": "stream",
          "text": [
            "None\n"
          ],
          "name": "stdout"
        },
        {
          "output_type": "stream",
          "text": [
            "2021-07-13 12:07:43,412 - INFO: lr: 0.09505 | Epoch: 016 | Batch: 000 | Loss: 1.07269 | Correct: 73/128\n"
          ],
          "name": "stderr"
        },
        {
          "output_type": "stream",
          "text": [
            "None\n"
          ],
          "name": "stdout"
        },
        {
          "output_type": "stream",
          "text": [
            "2021-07-13 12:07:45,566 - INFO: lr: 0.08909 | Epoch: 017 | Batch: 000 | Loss: 1.06336 | Correct: 76/128\n"
          ],
          "name": "stderr"
        },
        {
          "output_type": "stream",
          "text": [
            "None\n"
          ],
          "name": "stdout"
        },
        {
          "output_type": "stream",
          "text": [
            "2021-07-13 12:07:47,814 - INFO: lr: 0.08117 | Epoch: 018 | Batch: 000 | Loss: 0.87794 | Correct: 82/128\n"
          ],
          "name": "stderr"
        },
        {
          "output_type": "stream",
          "text": [
            "None\n"
          ],
          "name": "stdout"
        },
        {
          "output_type": "stream",
          "text": [
            "2021-07-13 12:07:50,045 - INFO: lr: 0.07169 | Epoch: 019 | Batch: 000 | Loss: 0.85211 | Correct: 93/128\n"
          ],
          "name": "stderr"
        },
        {
          "output_type": "stream",
          "text": [
            "None\n"
          ],
          "name": "stdout"
        },
        {
          "output_type": "stream",
          "text": [
            "2021-07-13 12:07:52,263 - INFO: lr: 0.06113 | Epoch: 020 | Batch: 000 | Loss: 0.82395 | Correct: 95/128\n"
          ],
          "name": "stderr"
        },
        {
          "output_type": "stream",
          "text": [
            "None\n"
          ],
          "name": "stdout"
        },
        {
          "output_type": "stream",
          "text": [
            "2021-07-13 12:07:54,432 - INFO: lr: 0.05000 | Epoch: 021 | Batch: 000 | Loss: 0.75289 | Correct: 96/128\n"
          ],
          "name": "stderr"
        },
        {
          "output_type": "stream",
          "text": [
            "None\n"
          ],
          "name": "stdout"
        },
        {
          "output_type": "stream",
          "text": [
            "2021-07-13 12:07:56,638 - INFO: lr: 0.03887 | Epoch: 022 | Batch: 000 | Loss: 0.61527 | Correct: 96/128\n"
          ],
          "name": "stderr"
        },
        {
          "output_type": "stream",
          "text": [
            "None\n"
          ],
          "name": "stdout"
        },
        {
          "output_type": "stream",
          "text": [
            "2021-07-13 12:07:58,919 - INFO: lr: 0.02831 | Epoch: 023 | Batch: 000 | Loss: 0.57736 | Correct: 99/128\n"
          ],
          "name": "stderr"
        },
        {
          "output_type": "stream",
          "text": [
            "None\n"
          ],
          "name": "stdout"
        },
        {
          "output_type": "stream",
          "text": [
            "2021-07-13 12:08:01,135 - INFO: lr: 0.01883 | Epoch: 024 | Batch: 000 | Loss: 0.44391 | Correct: 111/128\n"
          ],
          "name": "stderr"
        },
        {
          "output_type": "stream",
          "text": [
            "None\n"
          ],
          "name": "stdout"
        },
        {
          "output_type": "stream",
          "text": [
            "2021-07-13 12:08:03,317 - INFO: lr: 0.01091 | Epoch: 025 | Batch: 000 | Loss: 0.54572 | Correct: 102/128\n"
          ],
          "name": "stderr"
        },
        {
          "output_type": "stream",
          "text": [
            "None\n"
          ],
          "name": "stdout"
        },
        {
          "output_type": "stream",
          "text": [
            "2021-07-13 12:08:05,558 - INFO: lr: 0.00495 | Epoch: 026 | Batch: 000 | Loss: 0.57510 | Correct: 107/128\n"
          ],
          "name": "stderr"
        },
        {
          "output_type": "stream",
          "text": [
            "None\n"
          ],
          "name": "stdout"
        },
        {
          "output_type": "stream",
          "text": [
            "2021-07-13 12:08:07,694 - INFO: lr: 0.00125 | Epoch: 027 | Batch: 000 | Loss: 0.52900 | Correct: 106/128\n"
          ],
          "name": "stderr"
        },
        {
          "output_type": "stream",
          "text": [
            "None\n"
          ],
          "name": "stdout"
        },
        {
          "output_type": "stream",
          "text": [
            "2021-07-13 12:08:09,565 - INFO: Save the snapshot model with index: 1\n",
            "2021-07-13 12:08:10,247 - INFO: n_estimators: 2 | Validation Acc: 77.344 % | Historical Best: 77.344 %\n",
            "2021-07-13 12:08:10,662 - INFO: lr: 0.10000 | Epoch: 028 | Batch: 000 | Loss: 0.57732 | Correct: 108/128\n"
          ],
          "name": "stderr"
        },
        {
          "output_type": "stream",
          "text": [
            "None\n"
          ],
          "name": "stdout"
        },
        {
          "output_type": "stream",
          "text": [
            "2021-07-13 12:08:12,889 - INFO: lr: 0.09875 | Epoch: 029 | Batch: 000 | Loss: 0.78444 | Correct: 91/128\n"
          ],
          "name": "stderr"
        },
        {
          "output_type": "stream",
          "text": [
            "None\n"
          ],
          "name": "stdout"
        },
        {
          "output_type": "stream",
          "text": [
            "2021-07-13 12:08:14,995 - INFO: lr: 0.09505 | Epoch: 030 | Batch: 000 | Loss: 0.73033 | Correct: 95/128\n"
          ],
          "name": "stderr"
        },
        {
          "output_type": "stream",
          "text": [
            "None\n"
          ],
          "name": "stdout"
        },
        {
          "output_type": "stream",
          "text": [
            "2021-07-13 12:08:17,265 - INFO: lr: 0.08909 | Epoch: 031 | Batch: 000 | Loss: 0.70503 | Correct: 95/128\n"
          ],
          "name": "stderr"
        },
        {
          "output_type": "stream",
          "text": [
            "None\n"
          ],
          "name": "stdout"
        },
        {
          "output_type": "stream",
          "text": [
            "2021-07-13 12:08:19,374 - INFO: lr: 0.08117 | Epoch: 032 | Batch: 000 | Loss: 0.70110 | Correct: 96/128\n"
          ],
          "name": "stderr"
        },
        {
          "output_type": "stream",
          "text": [
            "None\n"
          ],
          "name": "stdout"
        },
        {
          "output_type": "stream",
          "text": [
            "2021-07-13 12:08:21,570 - INFO: lr: 0.07169 | Epoch: 033 | Batch: 000 | Loss: 0.47815 | Correct: 106/128\n"
          ],
          "name": "stderr"
        },
        {
          "output_type": "stream",
          "text": [
            "None\n"
          ],
          "name": "stdout"
        },
        {
          "output_type": "stream",
          "text": [
            "2021-07-13 12:08:23,770 - INFO: lr: 0.06113 | Epoch: 034 | Batch: 000 | Loss: 0.31630 | Correct: 113/128\n"
          ],
          "name": "stderr"
        },
        {
          "output_type": "stream",
          "text": [
            "None\n"
          ],
          "name": "stdout"
        },
        {
          "output_type": "stream",
          "text": [
            "2021-07-13 12:08:25,911 - INFO: lr: 0.05000 | Epoch: 035 | Batch: 000 | Loss: 0.36083 | Correct: 113/128\n"
          ],
          "name": "stderr"
        },
        {
          "output_type": "stream",
          "text": [
            "None\n"
          ],
          "name": "stdout"
        },
        {
          "output_type": "stream",
          "text": [
            "2021-07-13 12:08:28,100 - INFO: lr: 0.03887 | Epoch: 036 | Batch: 000 | Loss: 0.26660 | Correct: 116/128\n"
          ],
          "name": "stderr"
        },
        {
          "output_type": "stream",
          "text": [
            "None\n"
          ],
          "name": "stdout"
        },
        {
          "output_type": "stream",
          "text": [
            "2021-07-13 12:08:30,278 - INFO: lr: 0.02831 | Epoch: 037 | Batch: 000 | Loss: 0.48610 | Correct: 103/128\n"
          ],
          "name": "stderr"
        },
        {
          "output_type": "stream",
          "text": [
            "None\n"
          ],
          "name": "stdout"
        },
        {
          "output_type": "stream",
          "text": [
            "2021-07-13 12:08:32,383 - INFO: lr: 0.01883 | Epoch: 038 | Batch: 000 | Loss: 0.38295 | Correct: 109/128\n"
          ],
          "name": "stderr"
        },
        {
          "output_type": "stream",
          "text": [
            "None\n"
          ],
          "name": "stdout"
        },
        {
          "output_type": "stream",
          "text": [
            "2021-07-13 12:08:34,608 - INFO: lr: 0.01091 | Epoch: 039 | Batch: 000 | Loss: 0.27663 | Correct: 116/128\n"
          ],
          "name": "stderr"
        },
        {
          "output_type": "stream",
          "text": [
            "None\n"
          ],
          "name": "stdout"
        },
        {
          "output_type": "stream",
          "text": [
            "2021-07-13 12:08:36,733 - INFO: lr: 0.00495 | Epoch: 040 | Batch: 000 | Loss: 0.23970 | Correct: 120/128\n"
          ],
          "name": "stderr"
        },
        {
          "output_type": "stream",
          "text": [
            "None\n"
          ],
          "name": "stdout"
        },
        {
          "output_type": "stream",
          "text": [
            "2021-07-13 12:08:38,860 - INFO: lr: 0.00125 | Epoch: 041 | Batch: 000 | Loss: 0.30619 | Correct: 115/128\n"
          ],
          "name": "stderr"
        },
        {
          "output_type": "stream",
          "text": [
            "None\n"
          ],
          "name": "stdout"
        },
        {
          "output_type": "stream",
          "text": [
            "2021-07-13 12:08:40,713 - INFO: Save the snapshot model with index: 2\n",
            "2021-07-13 12:08:41,504 - INFO: n_estimators: 3 | Validation Acc: 82.254 % | Historical Best: 82.254 %\n",
            "2021-07-13 12:08:41,892 - INFO: lr: 0.10000 | Epoch: 042 | Batch: 000 | Loss: 0.22857 | Correct: 117/128\n"
          ],
          "name": "stderr"
        },
        {
          "output_type": "stream",
          "text": [
            "None\n"
          ],
          "name": "stdout"
        },
        {
          "output_type": "stream",
          "text": [
            "2021-07-13 12:08:44,075 - INFO: lr: 0.09875 | Epoch: 043 | Batch: 000 | Loss: 0.54937 | Correct: 105/128\n"
          ],
          "name": "stderr"
        },
        {
          "output_type": "stream",
          "text": [
            "None\n"
          ],
          "name": "stdout"
        },
        {
          "output_type": "stream",
          "text": [
            "2021-07-13 12:08:46,237 - INFO: lr: 0.09505 | Epoch: 044 | Batch: 000 | Loss: 0.50315 | Correct: 106/128\n"
          ],
          "name": "stderr"
        },
        {
          "output_type": "stream",
          "text": [
            "None\n"
          ],
          "name": "stdout"
        },
        {
          "output_type": "stream",
          "text": [
            "2021-07-13 12:08:48,339 - INFO: lr: 0.08909 | Epoch: 045 | Batch: 000 | Loss: 0.43353 | Correct: 108/128\n"
          ],
          "name": "stderr"
        },
        {
          "output_type": "stream",
          "text": [
            "None\n"
          ],
          "name": "stdout"
        },
        {
          "output_type": "stream",
          "text": [
            "2021-07-13 12:08:50,488 - INFO: lr: 0.08117 | Epoch: 046 | Batch: 000 | Loss: 0.46576 | Correct: 105/128\n"
          ],
          "name": "stderr"
        },
        {
          "output_type": "stream",
          "text": [
            "None\n"
          ],
          "name": "stdout"
        },
        {
          "output_type": "stream",
          "text": [
            "2021-07-13 12:08:52,722 - INFO: lr: 0.07169 | Epoch: 047 | Batch: 000 | Loss: 0.49577 | Correct: 106/128\n"
          ],
          "name": "stderr"
        },
        {
          "output_type": "stream",
          "text": [
            "None\n"
          ],
          "name": "stdout"
        },
        {
          "output_type": "stream",
          "text": [
            "2021-07-13 12:08:55,323 - INFO: lr: 0.06113 | Epoch: 048 | Batch: 000 | Loss: 0.25821 | Correct: 120/128\n"
          ],
          "name": "stderr"
        },
        {
          "output_type": "stream",
          "text": [
            "None\n"
          ],
          "name": "stdout"
        },
        {
          "output_type": "stream",
          "text": [
            "2021-07-13 12:08:57,536 - INFO: lr: 0.05000 | Epoch: 049 | Batch: 000 | Loss: 0.31884 | Correct: 113/128\n"
          ],
          "name": "stderr"
        },
        {
          "output_type": "stream",
          "text": [
            "None\n"
          ],
          "name": "stdout"
        },
        {
          "output_type": "stream",
          "text": [
            "2021-07-13 12:08:59,731 - INFO: lr: 0.03887 | Epoch: 050 | Batch: 000 | Loss: 0.18228 | Correct: 122/128\n"
          ],
          "name": "stderr"
        },
        {
          "output_type": "stream",
          "text": [
            "None\n"
          ],
          "name": "stdout"
        },
        {
          "output_type": "stream",
          "text": [
            "2021-07-13 12:09:02,007 - INFO: lr: 0.02831 | Epoch: 051 | Batch: 000 | Loss: 0.22621 | Correct: 119/128\n"
          ],
          "name": "stderr"
        },
        {
          "output_type": "stream",
          "text": [
            "None\n"
          ],
          "name": "stdout"
        },
        {
          "output_type": "stream",
          "text": [
            "2021-07-13 12:09:04,190 - INFO: lr: 0.01883 | Epoch: 052 | Batch: 000 | Loss: 0.13965 | Correct: 122/128\n"
          ],
          "name": "stderr"
        },
        {
          "output_type": "stream",
          "text": [
            "None\n"
          ],
          "name": "stdout"
        },
        {
          "output_type": "stream",
          "text": [
            "2021-07-13 12:09:06,310 - INFO: lr: 0.01091 | Epoch: 053 | Batch: 000 | Loss: 0.12911 | Correct: 122/128\n"
          ],
          "name": "stderr"
        },
        {
          "output_type": "stream",
          "text": [
            "None\n"
          ],
          "name": "stdout"
        },
        {
          "output_type": "stream",
          "text": [
            "2021-07-13 12:09:08,544 - INFO: lr: 0.00495 | Epoch: 054 | Batch: 000 | Loss: 0.16339 | Correct: 120/128\n"
          ],
          "name": "stderr"
        },
        {
          "output_type": "stream",
          "text": [
            "None\n"
          ],
          "name": "stdout"
        },
        {
          "output_type": "stream",
          "text": [
            "2021-07-13 12:09:10,654 - INFO: lr: 0.00125 | Epoch: 055 | Batch: 000 | Loss: 0.17224 | Correct: 120/128\n"
          ],
          "name": "stderr"
        },
        {
          "output_type": "stream",
          "text": [
            "None\n"
          ],
          "name": "stdout"
        },
        {
          "output_type": "stream",
          "text": [
            "2021-07-13 12:09:12,524 - INFO: Save the snapshot model with index: 3\n",
            "2021-07-13 12:09:13,422 - INFO: n_estimators: 4 | Validation Acc: 86.272 % | Historical Best: 86.272 %\n",
            "2021-07-13 12:09:13,825 - INFO: lr: 0.10000 | Epoch: 056 | Batch: 000 | Loss: 0.14127 | Correct: 122/128\n"
          ],
          "name": "stderr"
        },
        {
          "output_type": "stream",
          "text": [
            "None\n"
          ],
          "name": "stdout"
        },
        {
          "output_type": "stream",
          "text": [
            "2021-07-13 12:09:15,974 - INFO: lr: 0.09875 | Epoch: 057 | Batch: 000 | Loss: 0.37427 | Correct: 111/128\n"
          ],
          "name": "stderr"
        },
        {
          "output_type": "stream",
          "text": [
            "None\n"
          ],
          "name": "stdout"
        },
        {
          "output_type": "stream",
          "text": [
            "2021-07-13 12:09:18,206 - INFO: lr: 0.09505 | Epoch: 058 | Batch: 000 | Loss: 0.39363 | Correct: 110/128\n"
          ],
          "name": "stderr"
        },
        {
          "output_type": "stream",
          "text": [
            "None\n"
          ],
          "name": "stdout"
        },
        {
          "output_type": "stream",
          "text": [
            "2021-07-13 12:09:20,364 - INFO: lr: 0.08909 | Epoch: 059 | Batch: 000 | Loss: 0.29979 | Correct: 115/128\n"
          ],
          "name": "stderr"
        },
        {
          "output_type": "stream",
          "text": [
            "None\n"
          ],
          "name": "stdout"
        },
        {
          "output_type": "stream",
          "text": [
            "2021-07-13 12:09:22,575 - INFO: lr: 0.08117 | Epoch: 060 | Batch: 000 | Loss: 0.27845 | Correct: 115/128\n"
          ],
          "name": "stderr"
        },
        {
          "output_type": "stream",
          "text": [
            "None\n"
          ],
          "name": "stdout"
        },
        {
          "output_type": "stream",
          "text": [
            "2021-07-13 12:09:24,667 - INFO: lr: 0.07169 | Epoch: 061 | Batch: 000 | Loss: 0.24053 | Correct: 113/128\n"
          ],
          "name": "stderr"
        },
        {
          "output_type": "stream",
          "text": [
            "None\n"
          ],
          "name": "stdout"
        },
        {
          "output_type": "stream",
          "text": [
            "2021-07-13 12:09:26,843 - INFO: lr: 0.06113 | Epoch: 062 | Batch: 000 | Loss: 0.26396 | Correct: 117/128\n"
          ],
          "name": "stderr"
        },
        {
          "output_type": "stream",
          "text": [
            "None\n"
          ],
          "name": "stdout"
        },
        {
          "output_type": "stream",
          "text": [
            "2021-07-13 12:09:29,017 - INFO: lr: 0.05000 | Epoch: 063 | Batch: 000 | Loss: 0.06064 | Correct: 126/128\n"
          ],
          "name": "stderr"
        },
        {
          "output_type": "stream",
          "text": [
            "None\n"
          ],
          "name": "stdout"
        },
        {
          "output_type": "stream",
          "text": [
            "2021-07-13 12:09:31,220 - INFO: lr: 0.03887 | Epoch: 064 | Batch: 000 | Loss: 0.16420 | Correct: 120/128\n"
          ],
          "name": "stderr"
        },
        {
          "output_type": "stream",
          "text": [
            "None\n"
          ],
          "name": "stdout"
        },
        {
          "output_type": "stream",
          "text": [
            "2021-07-13 12:09:33,384 - INFO: lr: 0.02831 | Epoch: 065 | Batch: 000 | Loss: 0.12082 | Correct: 123/128\n"
          ],
          "name": "stderr"
        },
        {
          "output_type": "stream",
          "text": [
            "None\n"
          ],
          "name": "stdout"
        },
        {
          "output_type": "stream",
          "text": [
            "2021-07-13 12:09:35,568 - INFO: lr: 0.01883 | Epoch: 066 | Batch: 000 | Loss: 0.18458 | Correct: 122/128\n"
          ],
          "name": "stderr"
        },
        {
          "output_type": "stream",
          "text": [
            "None\n"
          ],
          "name": "stdout"
        },
        {
          "output_type": "stream",
          "text": [
            "2021-07-13 12:09:37,778 - INFO: lr: 0.01091 | Epoch: 067 | Batch: 000 | Loss: 0.09828 | Correct: 125/128\n"
          ],
          "name": "stderr"
        },
        {
          "output_type": "stream",
          "text": [
            "None\n"
          ],
          "name": "stdout"
        },
        {
          "output_type": "stream",
          "text": [
            "2021-07-13 12:09:39,927 - INFO: lr: 0.00495 | Epoch: 068 | Batch: 000 | Loss: 0.11984 | Correct: 122/128\n"
          ],
          "name": "stderr"
        },
        {
          "output_type": "stream",
          "text": [
            "None\n"
          ],
          "name": "stdout"
        },
        {
          "output_type": "stream",
          "text": [
            "2021-07-13 12:09:42,191 - INFO: lr: 0.00125 | Epoch: 069 | Batch: 000 | Loss: 0.09852 | Correct: 124/128\n"
          ],
          "name": "stderr"
        },
        {
          "output_type": "stream",
          "text": [
            "None\n"
          ],
          "name": "stdout"
        },
        {
          "output_type": "stream",
          "text": [
            "2021-07-13 12:09:43,976 - INFO: Save the snapshot model with index: 4\n",
            "2021-07-13 12:09:44,972 - INFO: n_estimators: 5 | Validation Acc: 86.272 % | Historical Best: 86.272 %\n"
          ],
          "name": "stderr"
        },
        {
          "output_type": "stream",
          "text": [
            "Group 1 Finished!\n",
            "Target number of exemplars: 200\n",
            "Randomly extracting exemplars from class 0 of current split... Extracted 200 exemplars.\n",
            "Randomly extracting exemplars from class 1 of current split... Extracted 200 exemplars.\n",
            "Randomly extracting exemplars from class 2 of current split... Extracted 200 exemplars.\n",
            "Randomly extracting exemplars from class 3 of current split... Extracted 200 exemplars.\n",
            "Randomly extracting exemplars from class 4 of current split... Extracted 200 exemplars.\n",
            "Randomly extracting exemplars from class 5 of current split... Extracted 200 exemplars.\n",
            "Randomly extracting exemplars from class 6 of current split... Extracted 200 exemplars.\n",
            "Randomly extracting exemplars from class 7 of current split... Extracted 200 exemplars.\n",
            "Randomly extracting exemplars from class 8 of current split... Extracted 200 exemplars.\n",
            "Randomly extracting exemplars from class 9 of current split... Extracted 200 exemplars.\n",
            "[0.07459677419354839, 0.2241179435483871, 0.45680443548387095, 0.601234879032258, 0.8014364919354838, 0.8851310483870968, 0.965070564516129],[0.8348214285714286, 0.8091517857142857, 0.7555803571428571, 0.6830357142857143, 0.49107142857142855, 0.35044642857142855, 0.14397321428571427]\n",
            "Testing on both open and closed world\n",
            "owr harmonic mean (threshold:0.25) = 0.1369556611243072\n",
            "owr harmonic mean (threshold:0.35) = 0.3510127686837328\n",
            "owr harmonic mean (threshold:0.5) = 0.5693777431165962\n",
            "owr harmonic mean (threshold:0.6) = 0.6395301694050499\n",
            "owr harmonic mean (threshold:0.75) = 0.6089905628581058\n",
            "owr harmonic mean (threshold:0.85) = 0.5020988493388578\n",
            "owr harmonic mean (threshold:0.95) = 0.25056596293434785\n",
            "\n",
            "=============================================\n",
            "\n",
            "Length of exemplars set: 2000\n"
          ],
          "name": "stdout"
        },
        {
          "output_type": "stream",
          "text": [
            "2021-07-13 12:10:20,087 - INFO: lr: 0.10000 | Epoch: 000 | Batch: 000 | Loss: 4.59661 | Correct: 10/128\n"
          ],
          "name": "stderr"
        },
        {
          "output_type": "stream",
          "text": [
            "None\n"
          ],
          "name": "stdout"
        },
        {
          "output_type": "stream",
          "text": [
            "2021-07-13 12:10:35,363 - INFO: lr: 0.09875 | Epoch: 001 | Batch: 000 | Loss: 2.44537 | Correct: 32/128\n"
          ],
          "name": "stderr"
        },
        {
          "output_type": "stream",
          "text": [
            "None\n"
          ],
          "name": "stdout"
        },
        {
          "output_type": "stream",
          "text": [
            "2021-07-13 12:10:50,663 - INFO: lr: 0.09505 | Epoch: 002 | Batch: 000 | Loss: 2.33613 | Correct: 41/128\n"
          ],
          "name": "stderr"
        },
        {
          "output_type": "stream",
          "text": [
            "None\n"
          ],
          "name": "stdout"
        },
        {
          "output_type": "stream",
          "text": [
            "2021-07-13 12:11:05,991 - INFO: lr: 0.08909 | Epoch: 003 | Batch: 000 | Loss: 2.04315 | Correct: 41/128\n"
          ],
          "name": "stderr"
        },
        {
          "output_type": "stream",
          "text": [
            "None\n"
          ],
          "name": "stdout"
        },
        {
          "output_type": "stream",
          "text": [
            "2021-07-13 12:11:21,319 - INFO: lr: 0.08117 | Epoch: 004 | Batch: 000 | Loss: 1.90302 | Correct: 49/128\n"
          ],
          "name": "stderr"
        },
        {
          "output_type": "stream",
          "text": [
            "None\n"
          ],
          "name": "stdout"
        },
        {
          "output_type": "stream",
          "text": [
            "2021-07-13 12:11:36,655 - INFO: lr: 0.07169 | Epoch: 005 | Batch: 000 | Loss: 1.62933 | Correct: 64/128\n"
          ],
          "name": "stderr"
        },
        {
          "output_type": "stream",
          "text": [
            "None\n"
          ],
          "name": "stdout"
        },
        {
          "output_type": "stream",
          "text": [
            "2021-07-13 12:11:51,895 - INFO: lr: 0.06113 | Epoch: 006 | Batch: 000 | Loss: 1.69193 | Correct: 64/128\n"
          ],
          "name": "stderr"
        },
        {
          "output_type": "stream",
          "text": [
            "None\n"
          ],
          "name": "stdout"
        },
        {
          "output_type": "stream",
          "text": [
            "2021-07-13 12:12:07,142 - INFO: lr: 0.05000 | Epoch: 007 | Batch: 000 | Loss: 1.58212 | Correct: 60/128\n"
          ],
          "name": "stderr"
        },
        {
          "output_type": "stream",
          "text": [
            "None\n"
          ],
          "name": "stdout"
        },
        {
          "output_type": "stream",
          "text": [
            "2021-07-13 12:12:22,447 - INFO: lr: 0.03887 | Epoch: 008 | Batch: 000 | Loss: 1.33308 | Correct: 74/128\n"
          ],
          "name": "stderr"
        },
        {
          "output_type": "stream",
          "text": [
            "None\n"
          ],
          "name": "stdout"
        },
        {
          "output_type": "stream",
          "text": [
            "2021-07-13 12:12:37,733 - INFO: lr: 0.02831 | Epoch: 009 | Batch: 000 | Loss: 1.46606 | Correct: 70/128\n"
          ],
          "name": "stderr"
        },
        {
          "output_type": "stream",
          "text": [
            "None\n"
          ],
          "name": "stdout"
        },
        {
          "output_type": "stream",
          "text": [
            "2021-07-13 12:12:52,954 - INFO: lr: 0.01883 | Epoch: 010 | Batch: 000 | Loss: 1.18095 | Correct: 70/128\n"
          ],
          "name": "stderr"
        },
        {
          "output_type": "stream",
          "text": [
            "None\n"
          ],
          "name": "stdout"
        },
        {
          "output_type": "stream",
          "text": [
            "2021-07-13 12:13:08,193 - INFO: lr: 0.01091 | Epoch: 011 | Batch: 000 | Loss: 1.13356 | Correct: 83/128\n"
          ],
          "name": "stderr"
        },
        {
          "output_type": "stream",
          "text": [
            "None\n"
          ],
          "name": "stdout"
        },
        {
          "output_type": "stream",
          "text": [
            "2021-07-13 12:13:23,456 - INFO: lr: 0.00495 | Epoch: 012 | Batch: 000 | Loss: 1.00222 | Correct: 95/128\n"
          ],
          "name": "stderr"
        },
        {
          "output_type": "stream",
          "text": [
            "None\n"
          ],
          "name": "stdout"
        },
        {
          "output_type": "stream",
          "text": [
            "2021-07-13 12:13:38,719 - INFO: lr: 0.00125 | Epoch: 013 | Batch: 000 | Loss: 1.10385 | Correct: 80/128\n"
          ],
          "name": "stderr"
        },
        {
          "output_type": "stream",
          "text": [
            "None\n"
          ],
          "name": "stdout"
        },
        {
          "output_type": "stream",
          "text": [
            "2021-07-13 12:13:53,314 - INFO: Save the snapshot model with index: 0\n",
            "2021-07-13 12:13:53,929 - INFO: n_estimators: 1 | Validation Acc: 66.295 % | Historical Best: 66.295 %\n",
            "2021-07-13 12:13:54,598 - INFO: lr: 0.10000 | Epoch: 014 | Batch: 000 | Loss: 0.96737 | Correct: 94/128\n"
          ],
          "name": "stderr"
        },
        {
          "output_type": "stream",
          "text": [
            "None\n"
          ],
          "name": "stdout"
        },
        {
          "output_type": "stream",
          "text": [
            "2021-07-13 12:14:09,883 - INFO: lr: 0.09875 | Epoch: 015 | Batch: 000 | Loss: 1.60415 | Correct: 60/128\n"
          ],
          "name": "stderr"
        },
        {
          "output_type": "stream",
          "text": [
            "None\n"
          ],
          "name": "stdout"
        },
        {
          "output_type": "stream",
          "text": [
            "2021-07-13 12:14:25,135 - INFO: lr: 0.09505 | Epoch: 016 | Batch: 000 | Loss: 1.29506 | Correct: 72/128\n"
          ],
          "name": "stderr"
        },
        {
          "output_type": "stream",
          "text": [
            "None\n"
          ],
          "name": "stdout"
        },
        {
          "output_type": "stream",
          "text": [
            "2021-07-13 12:14:40,387 - INFO: lr: 0.08909 | Epoch: 017 | Batch: 000 | Loss: 1.14837 | Correct: 81/128\n"
          ],
          "name": "stderr"
        },
        {
          "output_type": "stream",
          "text": [
            "None\n"
          ],
          "name": "stdout"
        },
        {
          "output_type": "stream",
          "text": [
            "2021-07-13 12:14:55,627 - INFO: lr: 0.08117 | Epoch: 018 | Batch: 000 | Loss: 1.21304 | Correct: 80/128\n"
          ],
          "name": "stderr"
        },
        {
          "output_type": "stream",
          "text": [
            "None\n"
          ],
          "name": "stdout"
        },
        {
          "output_type": "stream",
          "text": [
            "2021-07-13 12:15:10,938 - INFO: lr: 0.07169 | Epoch: 019 | Batch: 000 | Loss: 1.00217 | Correct: 89/128\n"
          ],
          "name": "stderr"
        },
        {
          "output_type": "stream",
          "text": [
            "None\n"
          ],
          "name": "stdout"
        },
        {
          "output_type": "stream",
          "text": [
            "2021-07-13 12:15:26,149 - INFO: lr: 0.06113 | Epoch: 020 | Batch: 000 | Loss: 1.03979 | Correct: 86/128\n"
          ],
          "name": "stderr"
        },
        {
          "output_type": "stream",
          "text": [
            "None\n"
          ],
          "name": "stdout"
        },
        {
          "output_type": "stream",
          "text": [
            "2021-07-13 12:15:41,409 - INFO: lr: 0.05000 | Epoch: 021 | Batch: 000 | Loss: 0.91784 | Correct: 90/128\n"
          ],
          "name": "stderr"
        },
        {
          "output_type": "stream",
          "text": [
            "None\n"
          ],
          "name": "stdout"
        },
        {
          "output_type": "stream",
          "text": [
            "2021-07-13 12:15:56,720 - INFO: lr: 0.03887 | Epoch: 022 | Batch: 000 | Loss: 0.86379 | Correct: 95/128\n"
          ],
          "name": "stderr"
        },
        {
          "output_type": "stream",
          "text": [
            "None\n"
          ],
          "name": "stdout"
        },
        {
          "output_type": "stream",
          "text": [
            "2021-07-13 12:16:12,010 - INFO: lr: 0.02831 | Epoch: 023 | Batch: 000 | Loss: 0.64671 | Correct: 100/128\n"
          ],
          "name": "stderr"
        },
        {
          "output_type": "stream",
          "text": [
            "None\n"
          ],
          "name": "stdout"
        },
        {
          "output_type": "stream",
          "text": [
            "2021-07-13 12:16:27,288 - INFO: lr: 0.01883 | Epoch: 024 | Batch: 000 | Loss: 0.69802 | Correct: 101/128\n"
          ],
          "name": "stderr"
        },
        {
          "output_type": "stream",
          "text": [
            "None\n"
          ],
          "name": "stdout"
        },
        {
          "output_type": "stream",
          "text": [
            "2021-07-13 12:16:42,591 - INFO: lr: 0.01091 | Epoch: 025 | Batch: 000 | Loss: 0.58468 | Correct: 103/128\n"
          ],
          "name": "stderr"
        },
        {
          "output_type": "stream",
          "text": [
            "None\n"
          ],
          "name": "stdout"
        },
        {
          "output_type": "stream",
          "text": [
            "2021-07-13 12:16:57,917 - INFO: lr: 0.00495 | Epoch: 026 | Batch: 000 | Loss: 0.73360 | Correct: 100/128\n"
          ],
          "name": "stderr"
        },
        {
          "output_type": "stream",
          "text": [
            "None\n"
          ],
          "name": "stdout"
        },
        {
          "output_type": "stream",
          "text": [
            "2021-07-13 12:17:13,171 - INFO: lr: 0.00125 | Epoch: 027 | Batch: 000 | Loss: 0.55770 | Correct: 106/128\n"
          ],
          "name": "stderr"
        },
        {
          "output_type": "stream",
          "text": [
            "None\n"
          ],
          "name": "stdout"
        },
        {
          "output_type": "stream",
          "text": [
            "2021-07-13 12:17:27,721 - INFO: Save the snapshot model with index: 1\n",
            "2021-07-13 12:17:28,437 - INFO: n_estimators: 2 | Validation Acc: 73.996 % | Historical Best: 73.996 %\n",
            "2021-07-13 12:17:29,171 - INFO: lr: 0.10000 | Epoch: 028 | Batch: 000 | Loss: 0.62846 | Correct: 107/128\n"
          ],
          "name": "stderr"
        },
        {
          "output_type": "stream",
          "text": [
            "None\n"
          ],
          "name": "stdout"
        },
        {
          "output_type": "stream",
          "text": [
            "2021-07-13 12:17:44,439 - INFO: lr: 0.09875 | Epoch: 029 | Batch: 000 | Loss: 1.03684 | Correct: 85/128\n"
          ],
          "name": "stderr"
        },
        {
          "output_type": "stream",
          "text": [
            "None\n"
          ],
          "name": "stdout"
        },
        {
          "output_type": "stream",
          "text": [
            "2021-07-13 12:17:59,760 - INFO: lr: 0.09505 | Epoch: 030 | Batch: 000 | Loss: 1.02219 | Correct: 81/128\n"
          ],
          "name": "stderr"
        },
        {
          "output_type": "stream",
          "text": [
            "None\n"
          ],
          "name": "stdout"
        },
        {
          "output_type": "stream",
          "text": [
            "2021-07-13 12:18:15,036 - INFO: lr: 0.08909 | Epoch: 031 | Batch: 000 | Loss: 0.82961 | Correct: 96/128\n"
          ],
          "name": "stderr"
        },
        {
          "output_type": "stream",
          "text": [
            "None\n"
          ],
          "name": "stdout"
        },
        {
          "output_type": "stream",
          "text": [
            "2021-07-13 12:18:30,324 - INFO: lr: 0.08117 | Epoch: 032 | Batch: 000 | Loss: 0.97927 | Correct: 87/128\n"
          ],
          "name": "stderr"
        },
        {
          "output_type": "stream",
          "text": [
            "None\n"
          ],
          "name": "stdout"
        },
        {
          "output_type": "stream",
          "text": [
            "2021-07-13 12:18:45,576 - INFO: lr: 0.07169 | Epoch: 033 | Batch: 000 | Loss: 0.76911 | Correct: 97/128\n"
          ],
          "name": "stderr"
        },
        {
          "output_type": "stream",
          "text": [
            "None\n"
          ],
          "name": "stdout"
        },
        {
          "output_type": "stream",
          "text": [
            "2021-07-13 12:19:00,852 - INFO: lr: 0.06113 | Epoch: 034 | Batch: 000 | Loss: 0.53189 | Correct: 107/128\n"
          ],
          "name": "stderr"
        },
        {
          "output_type": "stream",
          "text": [
            "None\n"
          ],
          "name": "stdout"
        },
        {
          "output_type": "stream",
          "text": [
            "2021-07-13 12:19:16,100 - INFO: lr: 0.05000 | Epoch: 035 | Batch: 000 | Loss: 0.52223 | Correct: 107/128\n"
          ],
          "name": "stderr"
        },
        {
          "output_type": "stream",
          "text": [
            "None\n"
          ],
          "name": "stdout"
        },
        {
          "output_type": "stream",
          "text": [
            "2021-07-13 12:19:31,344 - INFO: lr: 0.03887 | Epoch: 036 | Batch: 000 | Loss: 0.54733 | Correct: 103/128\n"
          ],
          "name": "stderr"
        },
        {
          "output_type": "stream",
          "text": [
            "None\n"
          ],
          "name": "stdout"
        },
        {
          "output_type": "stream",
          "text": [
            "2021-07-13 12:19:46,617 - INFO: lr: 0.02831 | Epoch: 037 | Batch: 000 | Loss: 0.35838 | Correct: 112/128\n"
          ],
          "name": "stderr"
        },
        {
          "output_type": "stream",
          "text": [
            "None\n"
          ],
          "name": "stdout"
        },
        {
          "output_type": "stream",
          "text": [
            "2021-07-13 12:20:01,917 - INFO: lr: 0.01883 | Epoch: 038 | Batch: 000 | Loss: 0.38770 | Correct: 116/128\n"
          ],
          "name": "stderr"
        },
        {
          "output_type": "stream",
          "text": [
            "None\n"
          ],
          "name": "stdout"
        },
        {
          "output_type": "stream",
          "text": [
            "2021-07-13 12:20:17,195 - INFO: lr: 0.01091 | Epoch: 039 | Batch: 000 | Loss: 0.38063 | Correct: 111/128\n"
          ],
          "name": "stderr"
        },
        {
          "output_type": "stream",
          "text": [
            "None\n"
          ],
          "name": "stdout"
        },
        {
          "output_type": "stream",
          "text": [
            "2021-07-13 12:20:32,484 - INFO: lr: 0.00495 | Epoch: 040 | Batch: 000 | Loss: 0.26436 | Correct: 116/128\n"
          ],
          "name": "stderr"
        },
        {
          "output_type": "stream",
          "text": [
            "None\n"
          ],
          "name": "stdout"
        },
        {
          "output_type": "stream",
          "text": [
            "2021-07-13 12:20:47,766 - INFO: lr: 0.00125 | Epoch: 041 | Batch: 000 | Loss: 0.35847 | Correct: 114/128\n"
          ],
          "name": "stderr"
        },
        {
          "output_type": "stream",
          "text": [
            "None\n"
          ],
          "name": "stdout"
        },
        {
          "output_type": "stream",
          "text": [
            "2021-07-13 12:21:02,357 - INFO: Save the snapshot model with index: 2\n",
            "2021-07-13 12:21:03,173 - INFO: n_estimators: 3 | Validation Acc: 76.562 % | Historical Best: 76.562 %\n",
            "2021-07-13 12:21:03,911 - INFO: lr: 0.10000 | Epoch: 042 | Batch: 000 | Loss: 0.31973 | Correct: 119/128\n"
          ],
          "name": "stderr"
        },
        {
          "output_type": "stream",
          "text": [
            "None\n"
          ],
          "name": "stdout"
        },
        {
          "output_type": "stream",
          "text": [
            "2021-07-13 12:21:19,189 - INFO: lr: 0.09875 | Epoch: 043 | Batch: 000 | Loss: 0.96655 | Correct: 89/128\n"
          ],
          "name": "stderr"
        },
        {
          "output_type": "stream",
          "text": [
            "None\n"
          ],
          "name": "stdout"
        },
        {
          "output_type": "stream",
          "text": [
            "2021-07-13 12:21:34,448 - INFO: lr: 0.09505 | Epoch: 044 | Batch: 000 | Loss: 0.58540 | Correct: 107/128\n"
          ],
          "name": "stderr"
        },
        {
          "output_type": "stream",
          "text": [
            "None\n"
          ],
          "name": "stdout"
        },
        {
          "output_type": "stream",
          "text": [
            "2021-07-13 12:21:49,715 - INFO: lr: 0.08909 | Epoch: 045 | Batch: 000 | Loss: 0.53433 | Correct: 108/128\n"
          ],
          "name": "stderr"
        },
        {
          "output_type": "stream",
          "text": [
            "None\n"
          ],
          "name": "stdout"
        },
        {
          "output_type": "stream",
          "text": [
            "2021-07-13 12:22:04,966 - INFO: lr: 0.08117 | Epoch: 046 | Batch: 000 | Loss: 0.62962 | Correct: 98/128\n"
          ],
          "name": "stderr"
        },
        {
          "output_type": "stream",
          "text": [
            "None\n"
          ],
          "name": "stdout"
        },
        {
          "output_type": "stream",
          "text": [
            "2021-07-13 12:22:20,218 - INFO: lr: 0.07169 | Epoch: 047 | Batch: 000 | Loss: 0.50107 | Correct: 109/128\n"
          ],
          "name": "stderr"
        },
        {
          "output_type": "stream",
          "text": [
            "None\n"
          ],
          "name": "stdout"
        },
        {
          "output_type": "stream",
          "text": [
            "2021-07-13 12:22:35,446 - INFO: lr: 0.06113 | Epoch: 048 | Batch: 000 | Loss: 0.39044 | Correct: 111/128\n"
          ],
          "name": "stderr"
        },
        {
          "output_type": "stream",
          "text": [
            "None\n"
          ],
          "name": "stdout"
        },
        {
          "output_type": "stream",
          "text": [
            "2021-07-13 12:22:50,708 - INFO: lr: 0.05000 | Epoch: 049 | Batch: 000 | Loss: 0.41951 | Correct: 110/128\n"
          ],
          "name": "stderr"
        },
        {
          "output_type": "stream",
          "text": [
            "None\n"
          ],
          "name": "stdout"
        },
        {
          "output_type": "stream",
          "text": [
            "2021-07-13 12:23:05,967 - INFO: lr: 0.03887 | Epoch: 050 | Batch: 000 | Loss: 0.32909 | Correct: 113/128\n"
          ],
          "name": "stderr"
        },
        {
          "output_type": "stream",
          "text": [
            "None\n"
          ],
          "name": "stdout"
        },
        {
          "output_type": "stream",
          "text": [
            "2021-07-13 12:23:21,248 - INFO: lr: 0.02831 | Epoch: 051 | Batch: 000 | Loss: 0.32486 | Correct: 112/128\n"
          ],
          "name": "stderr"
        },
        {
          "output_type": "stream",
          "text": [
            "None\n"
          ],
          "name": "stdout"
        },
        {
          "output_type": "stream",
          "text": [
            "2021-07-13 12:23:36,540 - INFO: lr: 0.01883 | Epoch: 052 | Batch: 000 | Loss: 0.23836 | Correct: 120/128\n"
          ],
          "name": "stderr"
        },
        {
          "output_type": "stream",
          "text": [
            "None\n"
          ],
          "name": "stdout"
        },
        {
          "output_type": "stream",
          "text": [
            "2021-07-13 12:23:51,851 - INFO: lr: 0.01091 | Epoch: 053 | Batch: 000 | Loss: 0.18426 | Correct: 121/128\n"
          ],
          "name": "stderr"
        },
        {
          "output_type": "stream",
          "text": [
            "None\n"
          ],
          "name": "stdout"
        },
        {
          "output_type": "stream",
          "text": [
            "2021-07-13 12:24:07,043 - INFO: lr: 0.00495 | Epoch: 054 | Batch: 000 | Loss: 0.19361 | Correct: 122/128\n"
          ],
          "name": "stderr"
        },
        {
          "output_type": "stream",
          "text": [
            "None\n"
          ],
          "name": "stdout"
        },
        {
          "output_type": "stream",
          "text": [
            "2021-07-13 12:24:22,319 - INFO: lr: 0.00125 | Epoch: 055 | Batch: 000 | Loss: 0.20707 | Correct: 118/128\n"
          ],
          "name": "stderr"
        },
        {
          "output_type": "stream",
          "text": [
            "None\n"
          ],
          "name": "stdout"
        },
        {
          "output_type": "stream",
          "text": [
            "2021-07-13 12:24:36,916 - INFO: Save the snapshot model with index: 3\n",
            "2021-07-13 12:24:37,824 - INFO: n_estimators: 4 | Validation Acc: 76.562 % | Historical Best: 76.562 %\n",
            "2021-07-13 12:24:38,550 - INFO: lr: 0.10000 | Epoch: 056 | Batch: 000 | Loss: 0.15504 | Correct: 123/128\n"
          ],
          "name": "stderr"
        },
        {
          "output_type": "stream",
          "text": [
            "None\n"
          ],
          "name": "stdout"
        },
        {
          "output_type": "stream",
          "text": [
            "2021-07-13 12:24:53,805 - INFO: lr: 0.09875 | Epoch: 057 | Batch: 000 | Loss: 0.82293 | Correct: 91/128\n"
          ],
          "name": "stderr"
        },
        {
          "output_type": "stream",
          "text": [
            "None\n"
          ],
          "name": "stdout"
        },
        {
          "output_type": "stream",
          "text": [
            "2021-07-13 12:25:09,105 - INFO: lr: 0.09505 | Epoch: 058 | Batch: 000 | Loss: 0.56163 | Correct: 105/128\n"
          ],
          "name": "stderr"
        },
        {
          "output_type": "stream",
          "text": [
            "None\n"
          ],
          "name": "stdout"
        },
        {
          "output_type": "stream",
          "text": [
            "2021-07-13 12:25:24,395 - INFO: lr: 0.08909 | Epoch: 059 | Batch: 000 | Loss: 0.62040 | Correct: 105/128\n"
          ],
          "name": "stderr"
        },
        {
          "output_type": "stream",
          "text": [
            "None\n"
          ],
          "name": "stdout"
        },
        {
          "output_type": "stream",
          "text": [
            "2021-07-13 12:25:39,684 - INFO: lr: 0.08117 | Epoch: 060 | Batch: 000 | Loss: 0.41704 | Correct: 110/128\n"
          ],
          "name": "stderr"
        },
        {
          "output_type": "stream",
          "text": [
            "None\n"
          ],
          "name": "stdout"
        },
        {
          "output_type": "stream",
          "text": [
            "2021-07-13 12:25:54,936 - INFO: lr: 0.07169 | Epoch: 061 | Batch: 000 | Loss: 0.40080 | Correct: 107/128\n"
          ],
          "name": "stderr"
        },
        {
          "output_type": "stream",
          "text": [
            "None\n"
          ],
          "name": "stdout"
        },
        {
          "output_type": "stream",
          "text": [
            "2021-07-13 12:26:10,253 - INFO: lr: 0.06113 | Epoch: 062 | Batch: 000 | Loss: 0.25583 | Correct: 121/128\n"
          ],
          "name": "stderr"
        },
        {
          "output_type": "stream",
          "text": [
            "None\n"
          ],
          "name": "stdout"
        },
        {
          "output_type": "stream",
          "text": [
            "2021-07-13 12:26:25,531 - INFO: lr: 0.05000 | Epoch: 063 | Batch: 000 | Loss: 0.25787 | Correct: 120/128\n"
          ],
          "name": "stderr"
        },
        {
          "output_type": "stream",
          "text": [
            "None\n"
          ],
          "name": "stdout"
        },
        {
          "output_type": "stream",
          "text": [
            "2021-07-13 12:26:40,810 - INFO: lr: 0.03887 | Epoch: 064 | Batch: 000 | Loss: 0.15782 | Correct: 120/128\n"
          ],
          "name": "stderr"
        },
        {
          "output_type": "stream",
          "text": [
            "None\n"
          ],
          "name": "stdout"
        },
        {
          "output_type": "stream",
          "text": [
            "2021-07-13 12:26:56,091 - INFO: lr: 0.02831 | Epoch: 065 | Batch: 000 | Loss: 0.15078 | Correct: 121/128\n"
          ],
          "name": "stderr"
        },
        {
          "output_type": "stream",
          "text": [
            "None\n"
          ],
          "name": "stdout"
        },
        {
          "output_type": "stream",
          "text": [
            "2021-07-13 12:27:11,349 - INFO: lr: 0.01883 | Epoch: 066 | Batch: 000 | Loss: 0.11173 | Correct: 126/128\n"
          ],
          "name": "stderr"
        },
        {
          "output_type": "stream",
          "text": [
            "None\n"
          ],
          "name": "stdout"
        },
        {
          "output_type": "stream",
          "text": [
            "2021-07-13 12:27:26,655 - INFO: lr: 0.01091 | Epoch: 067 | Batch: 000 | Loss: 0.09761 | Correct: 124/128\n"
          ],
          "name": "stderr"
        },
        {
          "output_type": "stream",
          "text": [
            "None\n"
          ],
          "name": "stdout"
        },
        {
          "output_type": "stream",
          "text": [
            "2021-07-13 12:27:41,928 - INFO: lr: 0.00495 | Epoch: 068 | Batch: 000 | Loss: 0.09543 | Correct: 126/128\n"
          ],
          "name": "stderr"
        },
        {
          "output_type": "stream",
          "text": [
            "None\n"
          ],
          "name": "stdout"
        },
        {
          "output_type": "stream",
          "text": [
            "2021-07-13 12:27:57,216 - INFO: lr: 0.00125 | Epoch: 069 | Batch: 000 | Loss: 0.18148 | Correct: 123/128\n"
          ],
          "name": "stderr"
        },
        {
          "output_type": "stream",
          "text": [
            "None\n"
          ],
          "name": "stdout"
        },
        {
          "output_type": "stream",
          "text": [
            "2021-07-13 12:28:11,792 - INFO: Save the snapshot model with index: 4\n",
            "2021-07-13 12:28:12,801 - INFO: n_estimators: 5 | Validation Acc: 78.237 % | Historical Best: 78.237 %\n"
          ],
          "name": "stderr"
        },
        {
          "output_type": "stream",
          "text": [
            "Group 2 Finished!\n",
            "Target number of exemplars: 100\n",
            "Randomly extracting exemplars from class 0 of current split... Extracted 100 exemplars.\n",
            "Randomly extracting exemplars from class 1 of current split... Extracted 100 exemplars.\n",
            "Randomly extracting exemplars from class 2 of current split... Extracted 100 exemplars.\n",
            "Randomly extracting exemplars from class 3 of current split... Extracted 100 exemplars.\n",
            "Randomly extracting exemplars from class 4 of current split... Extracted 100 exemplars.\n",
            "Randomly extracting exemplars from class 5 of current split... Extracted 100 exemplars.\n",
            "Randomly extracting exemplars from class 6 of current split... Extracted 100 exemplars.\n",
            "Randomly extracting exemplars from class 7 of current split... Extracted 100 exemplars.\n",
            "Randomly extracting exemplars from class 8 of current split... Extracted 100 exemplars.\n",
            "Randomly extracting exemplars from class 9 of current split... Extracted 100 exemplars.\n",
            "[0.10042842741935484, 0.25269657258064515, 0.4747479838709677, 0.5982610887096774, 0.7871723790322581, 0.8707409274193548, 0.9326108870967742],[0.715625, 0.68125, 0.6182291666666667, 0.5557291666666667, 0.40729166666666666, 0.2864583333333333, 0.18125]\n",
            "Testing on both open and closed world\n",
            "owr harmonic mean (threshold:0.25) = 0.1761382060467558\n",
            "owr harmonic mean (threshold:0.35) = 0.36864965325561944\n",
            "owr harmonic mean (threshold:0.5) = 0.5370707892673778\n",
            "owr harmonic mean (threshold:0.6) = 0.5762113410035598\n",
            "owr harmonic mean (threshold:0.75) = 0.5368244466871558\n",
            "owr harmonic mean (threshold:0.85) = 0.43109428651281645\n",
            "owr harmonic mean (threshold:0.95) = 0.30351316801665235\n",
            "\n",
            "=============================================\n",
            "\n",
            "Length of exemplars set: 2000\n"
          ],
          "name": "stdout"
        },
        {
          "output_type": "stream",
          "text": [
            "2021-07-13 12:28:48,719 - INFO: lr: 0.10000 | Epoch: 000 | Batch: 000 | Loss: 4.80454 | Correct: 3/128\n"
          ],
          "name": "stderr"
        },
        {
          "output_type": "stream",
          "text": [
            "None\n"
          ],
          "name": "stdout"
        },
        {
          "output_type": "stream",
          "text": [
            "2021-07-13 12:29:04,328 - INFO: lr: 0.09875 | Epoch: 001 | Batch: 000 | Loss: 2.73732 | Correct: 32/128\n"
          ],
          "name": "stderr"
        },
        {
          "output_type": "stream",
          "text": [
            "None\n"
          ],
          "name": "stdout"
        },
        {
          "output_type": "stream",
          "text": [
            "2021-07-13 12:29:19,942 - INFO: lr: 0.09505 | Epoch: 002 | Batch: 000 | Loss: 2.49874 | Correct: 40/128\n"
          ],
          "name": "stderr"
        },
        {
          "output_type": "stream",
          "text": [
            "None\n"
          ],
          "name": "stdout"
        },
        {
          "output_type": "stream",
          "text": [
            "2021-07-13 12:29:35,555 - INFO: lr: 0.08909 | Epoch: 003 | Batch: 000 | Loss: 2.39478 | Correct: 40/128\n"
          ],
          "name": "stderr"
        },
        {
          "output_type": "stream",
          "text": [
            "None\n"
          ],
          "name": "stdout"
        },
        {
          "output_type": "stream",
          "text": [
            "2021-07-13 12:29:51,136 - INFO: lr: 0.08117 | Epoch: 004 | Batch: 000 | Loss: 2.25339 | Correct: 47/128\n"
          ],
          "name": "stderr"
        },
        {
          "output_type": "stream",
          "text": [
            "None\n"
          ],
          "name": "stdout"
        },
        {
          "output_type": "stream",
          "text": [
            "2021-07-13 12:30:06,698 - INFO: lr: 0.07169 | Epoch: 005 | Batch: 000 | Loss: 2.01466 | Correct: 56/128\n"
          ],
          "name": "stderr"
        },
        {
          "output_type": "stream",
          "text": [
            "None\n"
          ],
          "name": "stdout"
        },
        {
          "output_type": "stream",
          "text": [
            "2021-07-13 12:30:22,246 - INFO: lr: 0.06113 | Epoch: 006 | Batch: 000 | Loss: 2.00826 | Correct: 59/128\n"
          ],
          "name": "stderr"
        },
        {
          "output_type": "stream",
          "text": [
            "None\n"
          ],
          "name": "stdout"
        },
        {
          "output_type": "stream",
          "text": [
            "2021-07-13 12:30:37,794 - INFO: lr: 0.05000 | Epoch: 007 | Batch: 000 | Loss: 1.80663 | Correct: 67/128\n"
          ],
          "name": "stderr"
        },
        {
          "output_type": "stream",
          "text": [
            "None\n"
          ],
          "name": "stdout"
        },
        {
          "output_type": "stream",
          "text": [
            "2021-07-13 12:30:53,344 - INFO: lr: 0.03887 | Epoch: 008 | Batch: 000 | Loss: 1.81547 | Correct: 63/128\n"
          ],
          "name": "stderr"
        },
        {
          "output_type": "stream",
          "text": [
            "None\n"
          ],
          "name": "stdout"
        },
        {
          "output_type": "stream",
          "text": [
            "2021-07-13 12:31:08,927 - INFO: lr: 0.02831 | Epoch: 009 | Batch: 000 | Loss: 1.66397 | Correct: 68/128\n"
          ],
          "name": "stderr"
        },
        {
          "output_type": "stream",
          "text": [
            "None\n"
          ],
          "name": "stdout"
        },
        {
          "output_type": "stream",
          "text": [
            "2021-07-13 12:31:24,503 - INFO: lr: 0.01883 | Epoch: 010 | Batch: 000 | Loss: 1.68754 | Correct: 70/128\n"
          ],
          "name": "stderr"
        },
        {
          "output_type": "stream",
          "text": [
            "None\n"
          ],
          "name": "stdout"
        },
        {
          "output_type": "stream",
          "text": [
            "2021-07-13 12:31:40,083 - INFO: lr: 0.01091 | Epoch: 011 | Batch: 000 | Loss: 1.50676 | Correct: 68/128\n"
          ],
          "name": "stderr"
        },
        {
          "output_type": "stream",
          "text": [
            "None\n"
          ],
          "name": "stdout"
        },
        {
          "output_type": "stream",
          "text": [
            "2021-07-13 12:31:55,672 - INFO: lr: 0.00495 | Epoch: 012 | Batch: 000 | Loss: 1.35428 | Correct: 72/128\n"
          ],
          "name": "stderr"
        },
        {
          "output_type": "stream",
          "text": [
            "None\n"
          ],
          "name": "stdout"
        },
        {
          "output_type": "stream",
          "text": [
            "2021-07-13 12:32:11,175 - INFO: lr: 0.00125 | Epoch: 013 | Batch: 000 | Loss: 1.37382 | Correct: 78/128\n"
          ],
          "name": "stderr"
        },
        {
          "output_type": "stream",
          "text": [
            "None\n"
          ],
          "name": "stdout"
        },
        {
          "output_type": "stream",
          "text": [
            "2021-07-13 12:32:26,070 - INFO: Save the snapshot model with index: 0\n",
            "2021-07-13 12:32:26,668 - INFO: n_estimators: 1 | Validation Acc: 67.188 % | Historical Best: 67.188 %\n",
            "2021-07-13 12:32:27,447 - INFO: lr: 0.10000 | Epoch: 014 | Batch: 000 | Loss: 1.62729 | Correct: 70/128\n"
          ],
          "name": "stderr"
        },
        {
          "output_type": "stream",
          "text": [
            "None\n"
          ],
          "name": "stdout"
        },
        {
          "output_type": "stream",
          "text": [
            "2021-07-13 12:32:43,037 - INFO: lr: 0.09875 | Epoch: 015 | Batch: 000 | Loss: 1.88951 | Correct: 50/128\n"
          ],
          "name": "stderr"
        },
        {
          "output_type": "stream",
          "text": [
            "None\n"
          ],
          "name": "stdout"
        },
        {
          "output_type": "stream",
          "text": [
            "2021-07-13 12:32:58,683 - INFO: lr: 0.09505 | Epoch: 016 | Batch: 000 | Loss: 1.69696 | Correct: 62/128\n"
          ],
          "name": "stderr"
        },
        {
          "output_type": "stream",
          "text": [
            "None\n"
          ],
          "name": "stdout"
        },
        {
          "output_type": "stream",
          "text": [
            "2021-07-13 12:33:14,321 - INFO: lr: 0.08909 | Epoch: 017 | Batch: 000 | Loss: 1.54778 | Correct: 68/128\n"
          ],
          "name": "stderr"
        },
        {
          "output_type": "stream",
          "text": [
            "None\n"
          ],
          "name": "stdout"
        },
        {
          "output_type": "stream",
          "text": [
            "2021-07-13 12:33:29,943 - INFO: lr: 0.08117 | Epoch: 018 | Batch: 000 | Loss: 1.40575 | Correct: 77/128\n"
          ],
          "name": "stderr"
        },
        {
          "output_type": "stream",
          "text": [
            "None\n"
          ],
          "name": "stdout"
        },
        {
          "output_type": "stream",
          "text": [
            "2021-07-13 12:33:45,501 - INFO: lr: 0.07169 | Epoch: 019 | Batch: 000 | Loss: 1.13508 | Correct: 85/128\n"
          ],
          "name": "stderr"
        },
        {
          "output_type": "stream",
          "text": [
            "None\n"
          ],
          "name": "stdout"
        },
        {
          "output_type": "stream",
          "text": [
            "2021-07-13 12:34:01,120 - INFO: lr: 0.06113 | Epoch: 020 | Batch: 000 | Loss: 1.39053 | Correct: 75/128\n"
          ],
          "name": "stderr"
        },
        {
          "output_type": "stream",
          "text": [
            "None\n"
          ],
          "name": "stdout"
        },
        {
          "output_type": "stream",
          "text": [
            "2021-07-13 12:34:16,661 - INFO: lr: 0.05000 | Epoch: 021 | Batch: 000 | Loss: 0.98229 | Correct: 94/128\n"
          ],
          "name": "stderr"
        },
        {
          "output_type": "stream",
          "text": [
            "None\n"
          ],
          "name": "stdout"
        },
        {
          "output_type": "stream",
          "text": [
            "2021-07-13 12:34:32,260 - INFO: lr: 0.03887 | Epoch: 022 | Batch: 000 | Loss: 0.96545 | Correct: 88/128\n"
          ],
          "name": "stderr"
        },
        {
          "output_type": "stream",
          "text": [
            "None\n"
          ],
          "name": "stdout"
        },
        {
          "output_type": "stream",
          "text": [
            "2021-07-13 12:34:47,816 - INFO: lr: 0.02831 | Epoch: 023 | Batch: 000 | Loss: 0.98480 | Correct: 88/128\n"
          ],
          "name": "stderr"
        },
        {
          "output_type": "stream",
          "text": [
            "None\n"
          ],
          "name": "stdout"
        },
        {
          "output_type": "stream",
          "text": [
            "2021-07-13 12:35:03,424 - INFO: lr: 0.01883 | Epoch: 024 | Batch: 000 | Loss: 0.73862 | Correct: 101/128\n"
          ],
          "name": "stderr"
        },
        {
          "output_type": "stream",
          "text": [
            "None\n"
          ],
          "name": "stdout"
        },
        {
          "output_type": "stream",
          "text": [
            "2021-07-13 12:35:19,033 - INFO: lr: 0.01091 | Epoch: 025 | Batch: 000 | Loss: 0.92866 | Correct: 89/128\n"
          ],
          "name": "stderr"
        },
        {
          "output_type": "stream",
          "text": [
            "None\n"
          ],
          "name": "stdout"
        },
        {
          "output_type": "stream",
          "text": [
            "2021-07-13 12:35:34,651 - INFO: lr: 0.00495 | Epoch: 026 | Batch: 000 | Loss: 0.78368 | Correct: 92/128\n"
          ],
          "name": "stderr"
        },
        {
          "output_type": "stream",
          "text": [
            "None\n"
          ],
          "name": "stdout"
        },
        {
          "output_type": "stream",
          "text": [
            "2021-07-13 12:35:50,226 - INFO: lr: 0.00125 | Epoch: 027 | Batch: 000 | Loss: 0.60186 | Correct: 104/128\n"
          ],
          "name": "stderr"
        },
        {
          "output_type": "stream",
          "text": [
            "None\n"
          ],
          "name": "stdout"
        },
        {
          "output_type": "stream",
          "text": [
            "2021-07-13 12:36:05,159 - INFO: Save the snapshot model with index: 1\n",
            "2021-07-13 12:36:05,851 - INFO: n_estimators: 2 | Validation Acc: 72.210 % | Historical Best: 72.210 %\n",
            "2021-07-13 12:36:06,638 - INFO: lr: 0.10000 | Epoch: 028 | Batch: 000 | Loss: 0.85692 | Correct: 94/128\n"
          ],
          "name": "stderr"
        },
        {
          "output_type": "stream",
          "text": [
            "None\n"
          ],
          "name": "stdout"
        },
        {
          "output_type": "stream",
          "text": [
            "2021-07-13 12:36:22,199 - INFO: lr: 0.09875 | Epoch: 029 | Batch: 000 | Loss: 1.13320 | Correct: 79/128\n"
          ],
          "name": "stderr"
        },
        {
          "output_type": "stream",
          "text": [
            "None\n"
          ],
          "name": "stdout"
        },
        {
          "output_type": "stream",
          "text": [
            "2021-07-13 12:36:37,796 - INFO: lr: 0.09505 | Epoch: 030 | Batch: 000 | Loss: 1.06702 | Correct: 86/128\n"
          ],
          "name": "stderr"
        },
        {
          "output_type": "stream",
          "text": [
            "None\n"
          ],
          "name": "stdout"
        },
        {
          "output_type": "stream",
          "text": [
            "2021-07-13 12:36:53,410 - INFO: lr: 0.08909 | Epoch: 031 | Batch: 000 | Loss: 0.95209 | Correct: 97/128\n"
          ],
          "name": "stderr"
        },
        {
          "output_type": "stream",
          "text": [
            "None\n"
          ],
          "name": "stdout"
        },
        {
          "output_type": "stream",
          "text": [
            "2021-07-13 12:37:09,001 - INFO: lr: 0.08117 | Epoch: 032 | Batch: 000 | Loss: 0.97827 | Correct: 88/128\n"
          ],
          "name": "stderr"
        },
        {
          "output_type": "stream",
          "text": [
            "None\n"
          ],
          "name": "stdout"
        },
        {
          "output_type": "stream",
          "text": [
            "2021-07-13 12:37:24,586 - INFO: lr: 0.07169 | Epoch: 033 | Batch: 000 | Loss: 0.90401 | Correct: 92/128\n"
          ],
          "name": "stderr"
        },
        {
          "output_type": "stream",
          "text": [
            "None\n"
          ],
          "name": "stdout"
        },
        {
          "output_type": "stream",
          "text": [
            "2021-07-13 12:37:40,243 - INFO: lr: 0.06113 | Epoch: 034 | Batch: 000 | Loss: 0.68154 | Correct: 100/128\n"
          ],
          "name": "stderr"
        },
        {
          "output_type": "stream",
          "text": [
            "None\n"
          ],
          "name": "stdout"
        },
        {
          "output_type": "stream",
          "text": [
            "2021-07-13 12:37:55,940 - INFO: lr: 0.05000 | Epoch: 035 | Batch: 000 | Loss: 0.59871 | Correct: 104/128\n"
          ],
          "name": "stderr"
        },
        {
          "output_type": "stream",
          "text": [
            "None\n"
          ],
          "name": "stdout"
        },
        {
          "output_type": "stream",
          "text": [
            "2021-07-13 12:38:11,585 - INFO: lr: 0.03887 | Epoch: 036 | Batch: 000 | Loss: 0.58262 | Correct: 112/128\n"
          ],
          "name": "stderr"
        },
        {
          "output_type": "stream",
          "text": [
            "None\n"
          ],
          "name": "stdout"
        },
        {
          "output_type": "stream",
          "text": [
            "2021-07-13 12:38:27,197 - INFO: lr: 0.02831 | Epoch: 037 | Batch: 000 | Loss: 0.54083 | Correct: 108/128\n"
          ],
          "name": "stderr"
        },
        {
          "output_type": "stream",
          "text": [
            "None\n"
          ],
          "name": "stdout"
        },
        {
          "output_type": "stream",
          "text": [
            "2021-07-13 12:38:42,774 - INFO: lr: 0.01883 | Epoch: 038 | Batch: 000 | Loss: 0.50853 | Correct: 107/128\n"
          ],
          "name": "stderr"
        },
        {
          "output_type": "stream",
          "text": [
            "None\n"
          ],
          "name": "stdout"
        },
        {
          "output_type": "stream",
          "text": [
            "2021-07-13 12:38:58,319 - INFO: lr: 0.01091 | Epoch: 039 | Batch: 000 | Loss: 0.43419 | Correct: 112/128\n"
          ],
          "name": "stderr"
        },
        {
          "output_type": "stream",
          "text": [
            "None\n"
          ],
          "name": "stdout"
        },
        {
          "output_type": "stream",
          "text": [
            "2021-07-13 12:39:13,913 - INFO: lr: 0.00495 | Epoch: 040 | Batch: 000 | Loss: 0.40028 | Correct: 111/128\n"
          ],
          "name": "stderr"
        },
        {
          "output_type": "stream",
          "text": [
            "None\n"
          ],
          "name": "stdout"
        },
        {
          "output_type": "stream",
          "text": [
            "2021-07-13 12:39:29,518 - INFO: lr: 0.00125 | Epoch: 041 | Batch: 000 | Loss: 0.45255 | Correct: 110/128\n"
          ],
          "name": "stderr"
        },
        {
          "output_type": "stream",
          "text": [
            "None\n"
          ],
          "name": "stdout"
        },
        {
          "output_type": "stream",
          "text": [
            "2021-07-13 12:39:44,391 - INFO: Save the snapshot model with index: 2\n",
            "2021-07-13 12:39:45,192 - INFO: n_estimators: 3 | Validation Acc: 76.339 % | Historical Best: 76.339 %\n",
            "2021-07-13 12:39:45,924 - INFO: lr: 0.10000 | Epoch: 042 | Batch: 000 | Loss: 0.39161 | Correct: 114/128\n"
          ],
          "name": "stderr"
        },
        {
          "output_type": "stream",
          "text": [
            "None\n"
          ],
          "name": "stdout"
        },
        {
          "output_type": "stream",
          "text": [
            "2021-07-13 12:40:01,512 - INFO: lr: 0.09875 | Epoch: 043 | Batch: 000 | Loss: 1.08195 | Correct: 84/128\n"
          ],
          "name": "stderr"
        },
        {
          "output_type": "stream",
          "text": [
            "None\n"
          ],
          "name": "stdout"
        },
        {
          "output_type": "stream",
          "text": [
            "2021-07-13 12:40:17,084 - INFO: lr: 0.09505 | Epoch: 044 | Batch: 000 | Loss: 0.81609 | Correct: 99/128\n"
          ],
          "name": "stderr"
        },
        {
          "output_type": "stream",
          "text": [
            "None\n"
          ],
          "name": "stdout"
        },
        {
          "output_type": "stream",
          "text": [
            "2021-07-13 12:40:32,713 - INFO: lr: 0.08909 | Epoch: 045 | Batch: 000 | Loss: 0.77151 | Correct: 98/128\n"
          ],
          "name": "stderr"
        },
        {
          "output_type": "stream",
          "text": [
            "None\n"
          ],
          "name": "stdout"
        },
        {
          "output_type": "stream",
          "text": [
            "2021-07-13 12:40:48,314 - INFO: lr: 0.08117 | Epoch: 046 | Batch: 000 | Loss: 0.57310 | Correct: 106/128\n"
          ],
          "name": "stderr"
        },
        {
          "output_type": "stream",
          "text": [
            "None\n"
          ],
          "name": "stdout"
        },
        {
          "output_type": "stream",
          "text": [
            "2021-07-13 12:41:03,948 - INFO: lr: 0.07169 | Epoch: 047 | Batch: 000 | Loss: 0.48195 | Correct: 109/128\n"
          ],
          "name": "stderr"
        },
        {
          "output_type": "stream",
          "text": [
            "None\n"
          ],
          "name": "stdout"
        },
        {
          "output_type": "stream",
          "text": [
            "2021-07-13 12:41:19,428 - INFO: lr: 0.06113 | Epoch: 048 | Batch: 000 | Loss: 0.64772 | Correct: 107/128\n"
          ],
          "name": "stderr"
        },
        {
          "output_type": "stream",
          "text": [
            "None\n"
          ],
          "name": "stdout"
        },
        {
          "output_type": "stream",
          "text": [
            "2021-07-13 12:41:35,058 - INFO: lr: 0.05000 | Epoch: 049 | Batch: 000 | Loss: 0.57625 | Correct: 107/128\n"
          ],
          "name": "stderr"
        },
        {
          "output_type": "stream",
          "text": [
            "None\n"
          ],
          "name": "stdout"
        },
        {
          "output_type": "stream",
          "text": [
            "2021-07-13 12:41:50,695 - INFO: lr: 0.03887 | Epoch: 050 | Batch: 000 | Loss: 0.53247 | Correct: 107/128\n"
          ],
          "name": "stderr"
        },
        {
          "output_type": "stream",
          "text": [
            "None\n"
          ],
          "name": "stdout"
        },
        {
          "output_type": "stream",
          "text": [
            "2021-07-13 12:42:06,326 - INFO: lr: 0.02831 | Epoch: 051 | Batch: 000 | Loss: 0.39137 | Correct: 114/128\n"
          ],
          "name": "stderr"
        },
        {
          "output_type": "stream",
          "text": [
            "None\n"
          ],
          "name": "stdout"
        },
        {
          "output_type": "stream",
          "text": [
            "2021-07-13 12:42:21,952 - INFO: lr: 0.01883 | Epoch: 052 | Batch: 000 | Loss: 0.24318 | Correct: 118/128\n"
          ],
          "name": "stderr"
        },
        {
          "output_type": "stream",
          "text": [
            "None\n"
          ],
          "name": "stdout"
        },
        {
          "output_type": "stream",
          "text": [
            "2021-07-13 12:42:37,550 - INFO: lr: 0.01091 | Epoch: 053 | Batch: 000 | Loss: 0.21556 | Correct: 119/128\n"
          ],
          "name": "stderr"
        },
        {
          "output_type": "stream",
          "text": [
            "None\n"
          ],
          "name": "stdout"
        },
        {
          "output_type": "stream",
          "text": [
            "2021-07-13 12:42:53,133 - INFO: lr: 0.00495 | Epoch: 054 | Batch: 000 | Loss: 0.23679 | Correct: 122/128\n"
          ],
          "name": "stderr"
        },
        {
          "output_type": "stream",
          "text": [
            "None\n"
          ],
          "name": "stdout"
        },
        {
          "output_type": "stream",
          "text": [
            "2021-07-13 12:43:08,731 - INFO: lr: 0.00125 | Epoch: 055 | Batch: 000 | Loss: 0.14764 | Correct: 125/128\n"
          ],
          "name": "stderr"
        },
        {
          "output_type": "stream",
          "text": [
            "None\n"
          ],
          "name": "stdout"
        },
        {
          "output_type": "stream",
          "text": [
            "2021-07-13 12:43:23,602 - INFO: Save the snapshot model with index: 3\n",
            "2021-07-13 12:43:24,494 - INFO: n_estimators: 4 | Validation Acc: 77.232 % | Historical Best: 77.232 %\n",
            "2021-07-13 12:43:25,253 - INFO: lr: 0.10000 | Epoch: 056 | Batch: 000 | Loss: 0.19933 | Correct: 119/128\n"
          ],
          "name": "stderr"
        },
        {
          "output_type": "stream",
          "text": [
            "None\n"
          ],
          "name": "stdout"
        },
        {
          "output_type": "stream",
          "text": [
            "2021-07-13 12:43:40,896 - INFO: lr: 0.09875 | Epoch: 057 | Batch: 000 | Loss: 0.78559 | Correct: 98/128\n"
          ],
          "name": "stderr"
        },
        {
          "output_type": "stream",
          "text": [
            "None\n"
          ],
          "name": "stdout"
        },
        {
          "output_type": "stream",
          "text": [
            "2021-07-13 12:43:56,515 - INFO: lr: 0.09505 | Epoch: 058 | Batch: 000 | Loss: 0.75896 | Correct: 95/128\n"
          ],
          "name": "stderr"
        },
        {
          "output_type": "stream",
          "text": [
            "None\n"
          ],
          "name": "stdout"
        },
        {
          "output_type": "stream",
          "text": [
            "2021-07-13 12:44:12,123 - INFO: lr: 0.08909 | Epoch: 059 | Batch: 000 | Loss: 0.65434 | Correct: 96/128\n"
          ],
          "name": "stderr"
        },
        {
          "output_type": "stream",
          "text": [
            "None\n"
          ],
          "name": "stdout"
        },
        {
          "output_type": "stream",
          "text": [
            "2021-07-13 12:44:27,755 - INFO: lr: 0.08117 | Epoch: 060 | Batch: 000 | Loss: 0.46773 | Correct: 113/128\n"
          ],
          "name": "stderr"
        },
        {
          "output_type": "stream",
          "text": [
            "None\n"
          ],
          "name": "stdout"
        },
        {
          "output_type": "stream",
          "text": [
            "2021-07-13 12:44:43,373 - INFO: lr: 0.07169 | Epoch: 061 | Batch: 000 | Loss: 0.39501 | Correct: 113/128\n"
          ],
          "name": "stderr"
        },
        {
          "output_type": "stream",
          "text": [
            "None\n"
          ],
          "name": "stdout"
        },
        {
          "output_type": "stream",
          "text": [
            "2021-07-13 12:44:58,931 - INFO: lr: 0.06113 | Epoch: 062 | Batch: 000 | Loss: 0.44032 | Correct: 112/128\n"
          ],
          "name": "stderr"
        },
        {
          "output_type": "stream",
          "text": [
            "None\n"
          ],
          "name": "stdout"
        },
        {
          "output_type": "stream",
          "text": [
            "2021-07-13 12:45:14,525 - INFO: lr: 0.05000 | Epoch: 063 | Batch: 000 | Loss: 0.25691 | Correct: 120/128\n"
          ],
          "name": "stderr"
        },
        {
          "output_type": "stream",
          "text": [
            "None\n"
          ],
          "name": "stdout"
        },
        {
          "output_type": "stream",
          "text": [
            "2021-07-13 12:45:30,047 - INFO: lr: 0.03887 | Epoch: 064 | Batch: 000 | Loss: 0.19534 | Correct: 119/128\n"
          ],
          "name": "stderr"
        },
        {
          "output_type": "stream",
          "text": [
            "None\n"
          ],
          "name": "stdout"
        },
        {
          "output_type": "stream",
          "text": [
            "2021-07-13 12:45:45,623 - INFO: lr: 0.02831 | Epoch: 065 | Batch: 000 | Loss: 0.21766 | Correct: 119/128\n"
          ],
          "name": "stderr"
        },
        {
          "output_type": "stream",
          "text": [
            "None\n"
          ],
          "name": "stdout"
        },
        {
          "output_type": "stream",
          "text": [
            "2021-07-13 12:46:01,197 - INFO: lr: 0.01883 | Epoch: 066 | Batch: 000 | Loss: 0.12153 | Correct: 126/128\n"
          ],
          "name": "stderr"
        },
        {
          "output_type": "stream",
          "text": [
            "None\n"
          ],
          "name": "stdout"
        },
        {
          "output_type": "stream",
          "text": [
            "2021-07-13 12:46:16,785 - INFO: lr: 0.01091 | Epoch: 067 | Batch: 000 | Loss: 0.14496 | Correct: 123/128\n"
          ],
          "name": "stderr"
        },
        {
          "output_type": "stream",
          "text": [
            "None\n"
          ],
          "name": "stdout"
        },
        {
          "output_type": "stream",
          "text": [
            "2021-07-13 12:46:32,319 - INFO: lr: 0.00495 | Epoch: 068 | Batch: 000 | Loss: 0.14062 | Correct: 125/128\n"
          ],
          "name": "stderr"
        },
        {
          "output_type": "stream",
          "text": [
            "None\n"
          ],
          "name": "stdout"
        },
        {
          "output_type": "stream",
          "text": [
            "2021-07-13 12:46:47,892 - INFO: lr: 0.00125 | Epoch: 069 | Batch: 000 | Loss: 0.12004 | Correct: 126/128\n"
          ],
          "name": "stderr"
        },
        {
          "output_type": "stream",
          "text": [
            "None\n"
          ],
          "name": "stdout"
        },
        {
          "output_type": "stream",
          "text": [
            "2021-07-13 12:47:02,766 - INFO: Save the snapshot model with index: 4\n",
            "2021-07-13 12:47:03,781 - INFO: n_estimators: 5 | Validation Acc: 77.679 % | Historical Best: 77.679 %\n"
          ],
          "name": "stderr"
        },
        {
          "output_type": "stream",
          "text": [
            "Group 3 Finished!\n",
            "Target number of exemplars: 66\n",
            "Randomly extracting exemplars from class 0 of current split... Extracted 66 exemplars.\n",
            "Randomly extracting exemplars from class 1 of current split... Extracted 66 exemplars.\n",
            "Randomly extracting exemplars from class 2 of current split... Extracted 66 exemplars.\n",
            "Randomly extracting exemplars from class 3 of current split... Extracted 66 exemplars.\n",
            "Randomly extracting exemplars from class 4 of current split... Extracted 66 exemplars.\n",
            "Randomly extracting exemplars from class 5 of current split... Extracted 66 exemplars.\n",
            "Randomly extracting exemplars from class 6 of current split... Extracted 66 exemplars.\n",
            "Randomly extracting exemplars from class 7 of current split... Extracted 66 exemplars.\n",
            "Randomly extracting exemplars from class 8 of current split... Extracted 66 exemplars.\n",
            "Randomly extracting exemplars from class 9 of current split... Extracted 66 exemplars.\n",
            "[0.14243951612903225, 0.3110383064516129, 0.5297379032258065, 0.6543094758064516, 0.8274445564516129, 0.897202620967742, 0.9553427419354839],[0.5896739130434783, 0.5431385869565217, 0.46671195652173914, 0.39639945652173914, 0.2425271739130435, 0.15183423913043478, 0.0703125]\n",
            "Testing on both open and closed world\n",
            "owr harmonic mean (threshold:0.25) = 0.22945315165919336\n",
            "owr harmonic mean (threshold:0.35) = 0.39555484949124886\n",
            "owr harmonic mean (threshold:0.5) = 0.49623171871563676\n",
            "owr harmonic mean (threshold:0.6) = 0.49370080071935174\n",
            "owr harmonic mean (threshold:0.75) = 0.37510858306050493\n",
            "owr harmonic mean (threshold:0.85) = 0.25971647419084953\n",
            "owr harmonic mean (threshold:0.95) = 0.13098463069438301\n",
            "\n",
            "=============================================\n",
            "\n",
            "Length of exemplars set: 1980\n"
          ],
          "name": "stdout"
        },
        {
          "output_type": "stream",
          "text": [
            "2021-07-13 12:47:40,728 - INFO: lr: 0.10000 | Epoch: 000 | Batch: 000 | Loss: 4.94767 | Correct: 0/128\n"
          ],
          "name": "stderr"
        },
        {
          "output_type": "stream",
          "text": [
            "None\n"
          ],
          "name": "stdout"
        },
        {
          "output_type": "stream",
          "text": [
            "2021-07-13 12:47:56,655 - INFO: lr: 0.09875 | Epoch: 001 | Batch: 000 | Loss: 2.96446 | Correct: 31/128\n"
          ],
          "name": "stderr"
        },
        {
          "output_type": "stream",
          "text": [
            "None\n"
          ],
          "name": "stdout"
        },
        {
          "output_type": "stream",
          "text": [
            "2021-07-13 12:48:12,628 - INFO: lr: 0.09505 | Epoch: 002 | Batch: 000 | Loss: 2.67714 | Correct: 38/128\n"
          ],
          "name": "stderr"
        },
        {
          "output_type": "stream",
          "text": [
            "None\n"
          ],
          "name": "stdout"
        },
        {
          "output_type": "stream",
          "text": [
            "2021-07-13 12:48:28,619 - INFO: lr: 0.08909 | Epoch: 003 | Batch: 000 | Loss: 2.49143 | Correct: 43/128\n"
          ],
          "name": "stderr"
        },
        {
          "output_type": "stream",
          "text": [
            "None\n"
          ],
          "name": "stdout"
        },
        {
          "output_type": "stream",
          "text": [
            "2021-07-13 12:48:44,588 - INFO: lr: 0.08117 | Epoch: 004 | Batch: 000 | Loss: 2.43954 | Correct: 42/128\n"
          ],
          "name": "stderr"
        },
        {
          "output_type": "stream",
          "text": [
            "None\n"
          ],
          "name": "stdout"
        },
        {
          "output_type": "stream",
          "text": [
            "2021-07-13 12:49:00,592 - INFO: lr: 0.07169 | Epoch: 005 | Batch: 000 | Loss: 2.41656 | Correct: 43/128\n"
          ],
          "name": "stderr"
        },
        {
          "output_type": "stream",
          "text": [
            "None\n"
          ],
          "name": "stdout"
        },
        {
          "output_type": "stream",
          "text": [
            "2021-07-13 12:49:16,580 - INFO: lr: 0.06113 | Epoch: 006 | Batch: 000 | Loss: 2.14137 | Correct: 59/128\n"
          ],
          "name": "stderr"
        },
        {
          "output_type": "stream",
          "text": [
            "None\n"
          ],
          "name": "stdout"
        },
        {
          "output_type": "stream",
          "text": [
            "2021-07-13 12:49:32,538 - INFO: lr: 0.05000 | Epoch: 007 | Batch: 000 | Loss: 2.03843 | Correct: 52/128\n"
          ],
          "name": "stderr"
        },
        {
          "output_type": "stream",
          "text": [
            "None\n"
          ],
          "name": "stdout"
        },
        {
          "output_type": "stream",
          "text": [
            "2021-07-13 12:49:48,444 - INFO: lr: 0.03887 | Epoch: 008 | Batch: 000 | Loss: 1.77257 | Correct: 60/128\n"
          ],
          "name": "stderr"
        },
        {
          "output_type": "stream",
          "text": [
            "None\n"
          ],
          "name": "stdout"
        },
        {
          "output_type": "stream",
          "text": [
            "2021-07-13 12:50:04,422 - INFO: lr: 0.02831 | Epoch: 009 | Batch: 000 | Loss: 1.86124 | Correct: 67/128\n"
          ],
          "name": "stderr"
        },
        {
          "output_type": "stream",
          "text": [
            "None\n"
          ],
          "name": "stdout"
        },
        {
          "output_type": "stream",
          "text": [
            "2021-07-13 12:50:20,442 - INFO: lr: 0.01883 | Epoch: 010 | Batch: 000 | Loss: 1.67667 | Correct: 65/128\n"
          ],
          "name": "stderr"
        },
        {
          "output_type": "stream",
          "text": [
            "None\n"
          ],
          "name": "stdout"
        },
        {
          "output_type": "stream",
          "text": [
            "2021-07-13 12:50:36,444 - INFO: lr: 0.01091 | Epoch: 011 | Batch: 000 | Loss: 1.63834 | Correct: 70/128\n"
          ],
          "name": "stderr"
        },
        {
          "output_type": "stream",
          "text": [
            "None\n"
          ],
          "name": "stdout"
        },
        {
          "output_type": "stream",
          "text": [
            "2021-07-13 12:50:52,495 - INFO: lr: 0.00495 | Epoch: 012 | Batch: 000 | Loss: 1.51730 | Correct: 74/128\n"
          ],
          "name": "stderr"
        },
        {
          "output_type": "stream",
          "text": [
            "None\n"
          ],
          "name": "stdout"
        },
        {
          "output_type": "stream",
          "text": [
            "2021-07-13 12:51:08,510 - INFO: lr: 0.00125 | Epoch: 013 | Batch: 000 | Loss: 1.69336 | Correct: 64/128\n"
          ],
          "name": "stderr"
        },
        {
          "output_type": "stream",
          "text": [
            "None\n"
          ],
          "name": "stdout"
        },
        {
          "output_type": "stream",
          "text": [
            "2021-07-13 12:51:23,783 - INFO: Save the snapshot model with index: 0\n",
            "2021-07-13 12:51:24,397 - INFO: n_estimators: 1 | Validation Acc: 62.277 % | Historical Best: 62.277 %\n",
            "2021-07-13 12:51:25,186 - INFO: lr: 0.10000 | Epoch: 014 | Batch: 000 | Loss: 1.54419 | Correct: 66/128\n"
          ],
          "name": "stderr"
        },
        {
          "output_type": "stream",
          "text": [
            "None\n"
          ],
          "name": "stdout"
        },
        {
          "output_type": "stream",
          "text": [
            "2021-07-13 12:51:41,153 - INFO: lr: 0.09875 | Epoch: 015 | Batch: 000 | Loss: 2.13823 | Correct: 54/128\n"
          ],
          "name": "stderr"
        },
        {
          "output_type": "stream",
          "text": [
            "None\n"
          ],
          "name": "stdout"
        },
        {
          "output_type": "stream",
          "text": [
            "2021-07-13 12:51:57,136 - INFO: lr: 0.09505 | Epoch: 016 | Batch: 000 | Loss: 1.80438 | Correct: 66/128\n"
          ],
          "name": "stderr"
        },
        {
          "output_type": "stream",
          "text": [
            "None\n"
          ],
          "name": "stdout"
        },
        {
          "output_type": "stream",
          "text": [
            "2021-07-13 12:52:13,135 - INFO: lr: 0.08909 | Epoch: 017 | Batch: 000 | Loss: 1.59727 | Correct: 69/128\n"
          ],
          "name": "stderr"
        },
        {
          "output_type": "stream",
          "text": [
            "None\n"
          ],
          "name": "stdout"
        },
        {
          "output_type": "stream",
          "text": [
            "2021-07-13 12:52:29,120 - INFO: lr: 0.08117 | Epoch: 018 | Batch: 000 | Loss: 1.85921 | Correct: 64/128\n"
          ],
          "name": "stderr"
        },
        {
          "output_type": "stream",
          "text": [
            "None\n"
          ],
          "name": "stdout"
        },
        {
          "output_type": "stream",
          "text": [
            "2021-07-13 12:52:45,156 - INFO: lr: 0.07169 | Epoch: 019 | Batch: 000 | Loss: 1.53680 | Correct: 69/128\n"
          ],
          "name": "stderr"
        },
        {
          "output_type": "stream",
          "text": [
            "None\n"
          ],
          "name": "stdout"
        },
        {
          "output_type": "stream",
          "text": [
            "2021-07-13 12:53:01,196 - INFO: lr: 0.06113 | Epoch: 020 | Batch: 000 | Loss: 1.49772 | Correct: 69/128\n"
          ],
          "name": "stderr"
        },
        {
          "output_type": "stream",
          "text": [
            "None\n"
          ],
          "name": "stdout"
        },
        {
          "output_type": "stream",
          "text": [
            "2021-07-13 12:53:17,266 - INFO: lr: 0.05000 | Epoch: 021 | Batch: 000 | Loss: 1.12847 | Correct: 85/128\n"
          ],
          "name": "stderr"
        },
        {
          "output_type": "stream",
          "text": [
            "None\n"
          ],
          "name": "stdout"
        },
        {
          "output_type": "stream",
          "text": [
            "2021-07-13 12:53:33,274 - INFO: lr: 0.03887 | Epoch: 022 | Batch: 000 | Loss: 1.26867 | Correct: 80/128\n"
          ],
          "name": "stderr"
        },
        {
          "output_type": "stream",
          "text": [
            "None\n"
          ],
          "name": "stdout"
        },
        {
          "output_type": "stream",
          "text": [
            "2021-07-13 12:53:49,290 - INFO: lr: 0.02831 | Epoch: 023 | Batch: 000 | Loss: 1.27992 | Correct: 74/128\n"
          ],
          "name": "stderr"
        },
        {
          "output_type": "stream",
          "text": [
            "None\n"
          ],
          "name": "stdout"
        },
        {
          "output_type": "stream",
          "text": [
            "2021-07-13 12:54:05,283 - INFO: lr: 0.01883 | Epoch: 024 | Batch: 000 | Loss: 1.20059 | Correct: 82/128\n"
          ],
          "name": "stderr"
        },
        {
          "output_type": "stream",
          "text": [
            "None\n"
          ],
          "name": "stdout"
        },
        {
          "output_type": "stream",
          "text": [
            "2021-07-13 12:54:21,318 - INFO: lr: 0.01091 | Epoch: 025 | Batch: 000 | Loss: 0.89316 | Correct: 97/128\n"
          ],
          "name": "stderr"
        },
        {
          "output_type": "stream",
          "text": [
            "None\n"
          ],
          "name": "stdout"
        },
        {
          "output_type": "stream",
          "text": [
            "2021-07-13 12:54:37,295 - INFO: lr: 0.00495 | Epoch: 026 | Batch: 000 | Loss: 0.96682 | Correct: 94/128\n"
          ],
          "name": "stderr"
        },
        {
          "output_type": "stream",
          "text": [
            "None\n"
          ],
          "name": "stdout"
        },
        {
          "output_type": "stream",
          "text": [
            "2021-07-13 12:54:53,244 - INFO: lr: 0.00125 | Epoch: 027 | Batch: 000 | Loss: 1.11323 | Correct: 83/128\n"
          ],
          "name": "stderr"
        },
        {
          "output_type": "stream",
          "text": [
            "None\n"
          ],
          "name": "stdout"
        },
        {
          "output_type": "stream",
          "text": [
            "2021-07-13 12:55:08,512 - INFO: Save the snapshot model with index: 1\n",
            "2021-07-13 12:55:09,237 - INFO: n_estimators: 2 | Validation Acc: 69.308 % | Historical Best: 69.308 %\n",
            "2021-07-13 12:55:10,016 - INFO: lr: 0.10000 | Epoch: 028 | Batch: 000 | Loss: 0.87576 | Correct: 85/128\n"
          ],
          "name": "stderr"
        },
        {
          "output_type": "stream",
          "text": [
            "None\n"
          ],
          "name": "stdout"
        },
        {
          "output_type": "stream",
          "text": [
            "2021-07-13 12:55:26,019 - INFO: lr: 0.09875 | Epoch: 029 | Batch: 000 | Loss: 1.72560 | Correct: 61/128\n"
          ],
          "name": "stderr"
        },
        {
          "output_type": "stream",
          "text": [
            "None\n"
          ],
          "name": "stdout"
        },
        {
          "output_type": "stream",
          "text": [
            "2021-07-13 12:55:42,081 - INFO: lr: 0.09505 | Epoch: 030 | Batch: 000 | Loss: 1.08171 | Correct: 88/128\n"
          ],
          "name": "stderr"
        },
        {
          "output_type": "stream",
          "text": [
            "None\n"
          ],
          "name": "stdout"
        },
        {
          "output_type": "stream",
          "text": [
            "2021-07-13 12:55:58,134 - INFO: lr: 0.08909 | Epoch: 031 | Batch: 000 | Loss: 1.14814 | Correct: 84/128\n"
          ],
          "name": "stderr"
        },
        {
          "output_type": "stream",
          "text": [
            "None\n"
          ],
          "name": "stdout"
        },
        {
          "output_type": "stream",
          "text": [
            "2021-07-13 12:56:14,257 - INFO: lr: 0.08117 | Epoch: 032 | Batch: 000 | Loss: 1.16758 | Correct: 82/128\n"
          ],
          "name": "stderr"
        },
        {
          "output_type": "stream",
          "text": [
            "None\n"
          ],
          "name": "stdout"
        },
        {
          "output_type": "stream",
          "text": [
            "2021-07-13 12:56:30,423 - INFO: lr: 0.07169 | Epoch: 033 | Batch: 000 | Loss: 1.15352 | Correct: 78/128\n"
          ],
          "name": "stderr"
        },
        {
          "output_type": "stream",
          "text": [
            "None\n"
          ],
          "name": "stdout"
        },
        {
          "output_type": "stream",
          "text": [
            "2021-07-13 12:56:46,475 - INFO: lr: 0.06113 | Epoch: 034 | Batch: 000 | Loss: 0.87730 | Correct: 94/128\n"
          ],
          "name": "stderr"
        },
        {
          "output_type": "stream",
          "text": [
            "None\n"
          ],
          "name": "stdout"
        },
        {
          "output_type": "stream",
          "text": [
            "2021-07-13 12:57:02,524 - INFO: lr: 0.05000 | Epoch: 035 | Batch: 000 | Loss: 1.14905 | Correct: 84/128\n"
          ],
          "name": "stderr"
        },
        {
          "output_type": "stream",
          "text": [
            "None\n"
          ],
          "name": "stdout"
        },
        {
          "output_type": "stream",
          "text": [
            "2021-07-13 12:57:18,599 - INFO: lr: 0.03887 | Epoch: 036 | Batch: 000 | Loss: 0.99290 | Correct: 85/128\n"
          ],
          "name": "stderr"
        },
        {
          "output_type": "stream",
          "text": [
            "None\n"
          ],
          "name": "stdout"
        },
        {
          "output_type": "stream",
          "text": [
            "2021-07-13 12:57:34,613 - INFO: lr: 0.02831 | Epoch: 037 | Batch: 000 | Loss: 0.77471 | Correct: 97/128\n"
          ],
          "name": "stderr"
        },
        {
          "output_type": "stream",
          "text": [
            "None\n"
          ],
          "name": "stdout"
        },
        {
          "output_type": "stream",
          "text": [
            "2021-07-13 12:57:50,657 - INFO: lr: 0.01883 | Epoch: 038 | Batch: 000 | Loss: 0.72774 | Correct: 99/128\n"
          ],
          "name": "stderr"
        },
        {
          "output_type": "stream",
          "text": [
            "None\n"
          ],
          "name": "stdout"
        },
        {
          "output_type": "stream",
          "text": [
            "2021-07-13 12:58:06,671 - INFO: lr: 0.01091 | Epoch: 039 | Batch: 000 | Loss: 0.77613 | Correct: 96/128\n"
          ],
          "name": "stderr"
        },
        {
          "output_type": "stream",
          "text": [
            "None\n"
          ],
          "name": "stdout"
        },
        {
          "output_type": "stream",
          "text": [
            "2021-07-13 12:58:22,717 - INFO: lr: 0.00495 | Epoch: 040 | Batch: 000 | Loss: 0.66213 | Correct: 102/128\n"
          ],
          "name": "stderr"
        },
        {
          "output_type": "stream",
          "text": [
            "None\n"
          ],
          "name": "stdout"
        },
        {
          "output_type": "stream",
          "text": [
            "2021-07-13 12:58:38,761 - INFO: lr: 0.00125 | Epoch: 041 | Batch: 000 | Loss: 0.64511 | Correct: 103/128\n"
          ],
          "name": "stderr"
        },
        {
          "output_type": "stream",
          "text": [
            "None\n"
          ],
          "name": "stdout"
        },
        {
          "output_type": "stream",
          "text": [
            "2021-07-13 12:58:54,124 - INFO: Save the snapshot model with index: 2\n",
            "2021-07-13 12:58:54,925 - INFO: n_estimators: 3 | Validation Acc: 74.442 % | Historical Best: 74.442 %\n",
            "2021-07-13 12:58:55,738 - INFO: lr: 0.10000 | Epoch: 042 | Batch: 000 | Loss: 0.58948 | Correct: 109/128\n"
          ],
          "name": "stderr"
        },
        {
          "output_type": "stream",
          "text": [
            "None\n"
          ],
          "name": "stdout"
        },
        {
          "output_type": "stream",
          "text": [
            "2021-07-13 12:59:11,784 - INFO: lr: 0.09875 | Epoch: 043 | Batch: 000 | Loss: 1.07711 | Correct: 90/128\n"
          ],
          "name": "stderr"
        },
        {
          "output_type": "stream",
          "text": [
            "None\n"
          ],
          "name": "stdout"
        },
        {
          "output_type": "stream",
          "text": [
            "2021-07-13 12:59:27,859 - INFO: lr: 0.09505 | Epoch: 044 | Batch: 000 | Loss: 0.95854 | Correct: 88/128\n"
          ],
          "name": "stderr"
        },
        {
          "output_type": "stream",
          "text": [
            "None\n"
          ],
          "name": "stdout"
        },
        {
          "output_type": "stream",
          "text": [
            "2021-07-13 12:59:43,890 - INFO: lr: 0.08909 | Epoch: 045 | Batch: 000 | Loss: 1.08619 | Correct: 86/128\n"
          ],
          "name": "stderr"
        },
        {
          "output_type": "stream",
          "text": [
            "None\n"
          ],
          "name": "stdout"
        },
        {
          "output_type": "stream",
          "text": [
            "2021-07-13 12:59:59,951 - INFO: lr: 0.08117 | Epoch: 046 | Batch: 000 | Loss: 1.04367 | Correct: 89/128\n"
          ],
          "name": "stderr"
        },
        {
          "output_type": "stream",
          "text": [
            "None\n"
          ],
          "name": "stdout"
        },
        {
          "output_type": "stream",
          "text": [
            "2021-07-13 13:00:15,969 - INFO: lr: 0.07169 | Epoch: 047 | Batch: 000 | Loss: 0.94639 | Correct: 90/128\n"
          ],
          "name": "stderr"
        },
        {
          "output_type": "stream",
          "text": [
            "None\n"
          ],
          "name": "stdout"
        },
        {
          "output_type": "stream",
          "text": [
            "2021-07-13 13:00:32,026 - INFO: lr: 0.06113 | Epoch: 048 | Batch: 000 | Loss: 0.60838 | Correct: 104/128\n"
          ],
          "name": "stderr"
        },
        {
          "output_type": "stream",
          "text": [
            "None\n"
          ],
          "name": "stdout"
        },
        {
          "output_type": "stream",
          "text": [
            "2021-07-13 13:00:48,010 - INFO: lr: 0.05000 | Epoch: 049 | Batch: 000 | Loss: 0.58774 | Correct: 105/128\n"
          ],
          "name": "stderr"
        },
        {
          "output_type": "stream",
          "text": [
            "None\n"
          ],
          "name": "stdout"
        },
        {
          "output_type": "stream",
          "text": [
            "2021-07-13 13:01:04,024 - INFO: lr: 0.03887 | Epoch: 050 | Batch: 000 | Loss: 0.56621 | Correct: 104/128\n"
          ],
          "name": "stderr"
        },
        {
          "output_type": "stream",
          "text": [
            "None\n"
          ],
          "name": "stdout"
        },
        {
          "output_type": "stream",
          "text": [
            "2021-07-13 13:01:19,965 - INFO: lr: 0.02831 | Epoch: 051 | Batch: 000 | Loss: 0.46967 | Correct: 106/128\n"
          ],
          "name": "stderr"
        },
        {
          "output_type": "stream",
          "text": [
            "None\n"
          ],
          "name": "stdout"
        },
        {
          "output_type": "stream",
          "text": [
            "2021-07-13 13:01:35,926 - INFO: lr: 0.01883 | Epoch: 052 | Batch: 000 | Loss: 0.37701 | Correct: 115/128\n"
          ],
          "name": "stderr"
        },
        {
          "output_type": "stream",
          "text": [
            "None\n"
          ],
          "name": "stdout"
        },
        {
          "output_type": "stream",
          "text": [
            "2021-07-13 13:01:51,976 - INFO: lr: 0.01091 | Epoch: 053 | Batch: 000 | Loss: 0.39283 | Correct: 117/128\n"
          ],
          "name": "stderr"
        },
        {
          "output_type": "stream",
          "text": [
            "None\n"
          ],
          "name": "stdout"
        },
        {
          "output_type": "stream",
          "text": [
            "2021-07-13 13:02:07,948 - INFO: lr: 0.00495 | Epoch: 054 | Batch: 000 | Loss: 0.41671 | Correct: 113/128\n"
          ],
          "name": "stderr"
        },
        {
          "output_type": "stream",
          "text": [
            "None\n"
          ],
          "name": "stdout"
        },
        {
          "output_type": "stream",
          "text": [
            "2021-07-13 13:02:23,993 - INFO: lr: 0.00125 | Epoch: 055 | Batch: 000 | Loss: 0.29479 | Correct: 122/128\n"
          ],
          "name": "stderr"
        },
        {
          "output_type": "stream",
          "text": [
            "None\n"
          ],
          "name": "stdout"
        },
        {
          "output_type": "stream",
          "text": [
            "2021-07-13 13:02:39,208 - INFO: Save the snapshot model with index: 3\n",
            "2021-07-13 13:02:40,142 - INFO: n_estimators: 4 | Validation Acc: 74.219 % | Historical Best: 74.442 %\n",
            "2021-07-13 13:02:40,934 - INFO: lr: 0.10000 | Epoch: 056 | Batch: 000 | Loss: 0.36401 | Correct: 115/128\n"
          ],
          "name": "stderr"
        },
        {
          "output_type": "stream",
          "text": [
            "None\n"
          ],
          "name": "stdout"
        },
        {
          "output_type": "stream",
          "text": [
            "2021-07-13 13:02:56,917 - INFO: lr: 0.09875 | Epoch: 057 | Batch: 000 | Loss: 0.95978 | Correct: 85/128\n"
          ],
          "name": "stderr"
        },
        {
          "output_type": "stream",
          "text": [
            "None\n"
          ],
          "name": "stdout"
        },
        {
          "output_type": "stream",
          "text": [
            "2021-07-13 13:03:12,934 - INFO: lr: 0.09505 | Epoch: 058 | Batch: 000 | Loss: 0.88426 | Correct: 94/128\n"
          ],
          "name": "stderr"
        },
        {
          "output_type": "stream",
          "text": [
            "None\n"
          ],
          "name": "stdout"
        },
        {
          "output_type": "stream",
          "text": [
            "2021-07-13 13:03:28,947 - INFO: lr: 0.08909 | Epoch: 059 | Batch: 000 | Loss: 0.60556 | Correct: 103/128\n"
          ],
          "name": "stderr"
        },
        {
          "output_type": "stream",
          "text": [
            "None\n"
          ],
          "name": "stdout"
        },
        {
          "output_type": "stream",
          "text": [
            "2021-07-13 13:03:45,037 - INFO: lr: 0.08117 | Epoch: 060 | Batch: 000 | Loss: 0.65378 | Correct: 102/128\n"
          ],
          "name": "stderr"
        },
        {
          "output_type": "stream",
          "text": [
            "None\n"
          ],
          "name": "stdout"
        },
        {
          "output_type": "stream",
          "text": [
            "2021-07-13 13:04:01,111 - INFO: lr: 0.07169 | Epoch: 061 | Batch: 000 | Loss: 0.58429 | Correct: 105/128\n"
          ],
          "name": "stderr"
        },
        {
          "output_type": "stream",
          "text": [
            "None\n"
          ],
          "name": "stdout"
        },
        {
          "output_type": "stream",
          "text": [
            "2021-07-13 13:04:17,182 - INFO: lr: 0.06113 | Epoch: 062 | Batch: 000 | Loss: 0.48977 | Correct: 106/128\n"
          ],
          "name": "stderr"
        },
        {
          "output_type": "stream",
          "text": [
            "None\n"
          ],
          "name": "stdout"
        },
        {
          "output_type": "stream",
          "text": [
            "2021-07-13 13:04:33,302 - INFO: lr: 0.05000 | Epoch: 063 | Batch: 000 | Loss: 0.42545 | Correct: 113/128\n"
          ],
          "name": "stderr"
        },
        {
          "output_type": "stream",
          "text": [
            "None\n"
          ],
          "name": "stdout"
        },
        {
          "output_type": "stream",
          "text": [
            "2021-07-13 13:04:49,411 - INFO: lr: 0.03887 | Epoch: 064 | Batch: 000 | Loss: 0.38249 | Correct: 114/128\n"
          ],
          "name": "stderr"
        },
        {
          "output_type": "stream",
          "text": [
            "None\n"
          ],
          "name": "stdout"
        },
        {
          "output_type": "stream",
          "text": [
            "2021-07-13 13:05:05,507 - INFO: lr: 0.02831 | Epoch: 065 | Batch: 000 | Loss: 0.23919 | Correct: 121/128\n"
          ],
          "name": "stderr"
        },
        {
          "output_type": "stream",
          "text": [
            "None\n"
          ],
          "name": "stdout"
        },
        {
          "output_type": "stream",
          "text": [
            "2021-07-13 13:05:21,655 - INFO: lr: 0.01883 | Epoch: 066 | Batch: 000 | Loss: 0.27887 | Correct: 117/128\n"
          ],
          "name": "stderr"
        },
        {
          "output_type": "stream",
          "text": [
            "None\n"
          ],
          "name": "stdout"
        },
        {
          "output_type": "stream",
          "text": [
            "2021-07-13 13:05:37,751 - INFO: lr: 0.01091 | Epoch: 067 | Batch: 000 | Loss: 0.28493 | Correct: 118/128\n"
          ],
          "name": "stderr"
        },
        {
          "output_type": "stream",
          "text": [
            "None\n"
          ],
          "name": "stdout"
        },
        {
          "output_type": "stream",
          "text": [
            "2021-07-13 13:05:53,792 - INFO: lr: 0.00495 | Epoch: 068 | Batch: 000 | Loss: 0.23192 | Correct: 121/128\n"
          ],
          "name": "stderr"
        },
        {
          "output_type": "stream",
          "text": [
            "None\n"
          ],
          "name": "stdout"
        },
        {
          "output_type": "stream",
          "text": [
            "2021-07-13 13:06:09,890 - INFO: lr: 0.00125 | Epoch: 069 | Batch: 000 | Loss: 0.18007 | Correct: 121/128\n"
          ],
          "name": "stderr"
        },
        {
          "output_type": "stream",
          "text": [
            "None\n"
          ],
          "name": "stdout"
        },
        {
          "output_type": "stream",
          "text": [
            "2021-07-13 13:06:25,183 - INFO: Save the snapshot model with index: 4\n",
            "2021-07-13 13:06:26,277 - INFO: n_estimators: 5 | Validation Acc: 75.335 % | Historical Best: 75.335 %\n"
          ],
          "name": "stderr"
        },
        {
          "output_type": "stream",
          "text": [
            "Group 4 Finished!\n",
            "Target number of exemplars: 50\n",
            "Randomly extracting exemplars from class 0 of current split... Extracted 50 exemplars.\n",
            "Randomly extracting exemplars from class 1 of current split... Extracted 50 exemplars.\n",
            "Randomly extracting exemplars from class 2 of current split... Extracted 50 exemplars.\n",
            "Randomly extracting exemplars from class 3 of current split... Extracted 50 exemplars.\n",
            "Randomly extracting exemplars from class 4 of current split... Extracted 50 exemplars.\n",
            "Randomly extracting exemplars from class 5 of current split... Extracted 50 exemplars.\n",
            "Randomly extracting exemplars from class 6 of current split... Extracted 50 exemplars.\n",
            "Randomly extracting exemplars from class 7 of current split... Extracted 50 exemplars.\n",
            "Randomly extracting exemplars from class 8 of current split... Extracted 50 exemplars.\n",
            "Randomly extracting exemplars from class 9 of current split... Extracted 50 exemplars.\n",
            "[0.17061491935483872, 0.3457157258064516, 0.5793346774193548, 0.6989415322580645, 0.8629284274193548, 0.9230846774193548, 0.9649445564516129],[0.46622983870967744, 0.42389112903225806, 0.3329133064516129, 0.2746975806451613, 0.14793346774193547, 0.09475806451612903, 0.05090725806451613]\n",
            "Testing on both open and closed world\n",
            "owr harmonic mean (threshold:0.25) = 0.2498121098586875\n",
            "owr harmonic mean (threshold:0.35) = 0.38083296273917844\n",
            "owr harmonic mean (threshold:0.5) = 0.4228416536112313\n",
            "owr harmonic mean (threshold:0.6) = 0.39439160851130634\n",
            "owr harmonic mean (threshold:0.75) = 0.2525686155394586\n",
            "owr harmonic mean (threshold:0.85) = 0.1718727536444872\n",
            "owr harmonic mean (threshold:0.95) = 0.096712297701866\n",
            "\n",
            "=============================================\n",
            "\n",
            "Length of exemplars set: 2000\n"
          ],
          "name": "stdout"
        },
        {
          "output_type": "stream",
          "text": [
            "2021-07-13 13:07:04,824 - INFO: lr: 0.10000 | Epoch: 000 | Batch: 000 | Loss: 5.07095 | Correct: 1/128\n"
          ],
          "name": "stderr"
        },
        {
          "output_type": "stream",
          "text": [
            "None\n"
          ],
          "name": "stdout"
        },
        {
          "output_type": "stream",
          "text": [
            "2021-07-13 13:07:21,304 - INFO: lr: 0.09875 | Epoch: 001 | Batch: 000 | Loss: 2.70838 | Correct: 43/128\n"
          ],
          "name": "stderr"
        },
        {
          "output_type": "stream",
          "text": [
            "None\n"
          ],
          "name": "stdout"
        },
        {
          "output_type": "stream",
          "text": [
            "2021-07-13 13:07:37,841 - INFO: lr: 0.09505 | Epoch: 002 | Batch: 000 | Loss: 2.64163 | Correct: 41/128\n"
          ],
          "name": "stderr"
        },
        {
          "output_type": "stream",
          "text": [
            "None\n"
          ],
          "name": "stdout"
        },
        {
          "output_type": "stream",
          "text": [
            "2021-07-13 13:07:54,325 - INFO: lr: 0.08909 | Epoch: 003 | Batch: 000 | Loss: 2.61417 | Correct: 40/128\n"
          ],
          "name": "stderr"
        },
        {
          "output_type": "stream",
          "text": [
            "None\n"
          ],
          "name": "stdout"
        },
        {
          "output_type": "stream",
          "text": [
            "2021-07-13 13:08:10,788 - INFO: lr: 0.08117 | Epoch: 004 | Batch: 000 | Loss: 2.43783 | Correct: 45/128\n"
          ],
          "name": "stderr"
        },
        {
          "output_type": "stream",
          "text": [
            "None\n"
          ],
          "name": "stdout"
        },
        {
          "output_type": "stream",
          "text": [
            "2021-07-13 13:08:27,256 - INFO: lr: 0.07169 | Epoch: 005 | Batch: 000 | Loss: 2.39396 | Correct: 48/128\n"
          ],
          "name": "stderr"
        },
        {
          "output_type": "stream",
          "text": [
            "None\n"
          ],
          "name": "stdout"
        },
        {
          "output_type": "stream",
          "text": [
            "2021-07-13 13:08:43,743 - INFO: lr: 0.06113 | Epoch: 006 | Batch: 000 | Loss: 2.20211 | Correct: 55/128\n"
          ],
          "name": "stderr"
        },
        {
          "output_type": "stream",
          "text": [
            "None\n"
          ],
          "name": "stdout"
        },
        {
          "output_type": "stream",
          "text": [
            "2021-07-13 13:09:00,237 - INFO: lr: 0.05000 | Epoch: 007 | Batch: 000 | Loss: 2.08601 | Correct: 69/128\n"
          ],
          "name": "stderr"
        },
        {
          "output_type": "stream",
          "text": [
            "None\n"
          ],
          "name": "stdout"
        },
        {
          "output_type": "stream",
          "text": [
            "2021-07-13 13:09:16,702 - INFO: lr: 0.03887 | Epoch: 008 | Batch: 000 | Loss: 2.23123 | Correct: 56/128\n"
          ],
          "name": "stderr"
        },
        {
          "output_type": "stream",
          "text": [
            "None\n"
          ],
          "name": "stdout"
        },
        {
          "output_type": "stream",
          "text": [
            "2021-07-13 13:09:33,276 - INFO: lr: 0.02831 | Epoch: 009 | Batch: 000 | Loss: 1.83941 | Correct: 66/128\n"
          ],
          "name": "stderr"
        },
        {
          "output_type": "stream",
          "text": [
            "None\n"
          ],
          "name": "stdout"
        },
        {
          "output_type": "stream",
          "text": [
            "2021-07-13 13:09:49,823 - INFO: lr: 0.01883 | Epoch: 010 | Batch: 000 | Loss: 2.13381 | Correct: 53/128\n"
          ],
          "name": "stderr"
        },
        {
          "output_type": "stream",
          "text": [
            "None\n"
          ],
          "name": "stdout"
        },
        {
          "output_type": "stream",
          "text": [
            "2021-07-13 13:10:06,296 - INFO: lr: 0.01091 | Epoch: 011 | Batch: 000 | Loss: 1.65045 | Correct: 71/128\n"
          ],
          "name": "stderr"
        },
        {
          "output_type": "stream",
          "text": [
            "None\n"
          ],
          "name": "stdout"
        },
        {
          "output_type": "stream",
          "text": [
            "2021-07-13 13:10:22,758 - INFO: lr: 0.00495 | Epoch: 012 | Batch: 000 | Loss: 1.84465 | Correct: 64/128\n"
          ],
          "name": "stderr"
        },
        {
          "output_type": "stream",
          "text": [
            "None\n"
          ],
          "name": "stdout"
        },
        {
          "output_type": "stream",
          "text": [
            "2021-07-13 13:10:39,191 - INFO: lr: 0.00125 | Epoch: 013 | Batch: 000 | Loss: 1.54981 | Correct: 77/128\n"
          ],
          "name": "stderr"
        },
        {
          "output_type": "stream",
          "text": [
            "None\n"
          ],
          "name": "stdout"
        },
        {
          "output_type": "stream",
          "text": [
            "2021-07-13 13:10:54,814 - INFO: Save the snapshot model with index: 0\n",
            "2021-07-13 13:10:55,436 - INFO: n_estimators: 1 | Validation Acc: 68.638 % | Historical Best: 68.638 %\n",
            "2021-07-13 13:10:56,264 - INFO: lr: 0.10000 | Epoch: 014 | Batch: 000 | Loss: 1.78063 | Correct: 65/128\n"
          ],
          "name": "stderr"
        },
        {
          "output_type": "stream",
          "text": [
            "None\n"
          ],
          "name": "stdout"
        },
        {
          "output_type": "stream",
          "text": [
            "2021-07-13 13:11:12,641 - INFO: lr: 0.09875 | Epoch: 015 | Batch: 000 | Loss: 2.02916 | Correct: 65/128\n"
          ],
          "name": "stderr"
        },
        {
          "output_type": "stream",
          "text": [
            "None\n"
          ],
          "name": "stdout"
        },
        {
          "output_type": "stream",
          "text": [
            "2021-07-13 13:11:29,035 - INFO: lr: 0.09505 | Epoch: 016 | Batch: 000 | Loss: 1.99341 | Correct: 64/128\n"
          ],
          "name": "stderr"
        },
        {
          "output_type": "stream",
          "text": [
            "None\n"
          ],
          "name": "stdout"
        },
        {
          "output_type": "stream",
          "text": [
            "2021-07-13 13:11:45,481 - INFO: lr: 0.08909 | Epoch: 017 | Batch: 000 | Loss: 1.80766 | Correct: 66/128\n"
          ],
          "name": "stderr"
        },
        {
          "output_type": "stream",
          "text": [
            "None\n"
          ],
          "name": "stdout"
        },
        {
          "output_type": "stream",
          "text": [
            "2021-07-13 13:12:02,049 - INFO: lr: 0.08117 | Epoch: 018 | Batch: 000 | Loss: 1.91308 | Correct: 64/128\n"
          ],
          "name": "stderr"
        },
        {
          "output_type": "stream",
          "text": [
            "None\n"
          ],
          "name": "stdout"
        },
        {
          "output_type": "stream",
          "text": [
            "2021-07-13 13:12:18,540 - INFO: lr: 0.07169 | Epoch: 019 | Batch: 000 | Loss: 1.58887 | Correct: 77/128\n"
          ],
          "name": "stderr"
        },
        {
          "output_type": "stream",
          "text": [
            "None\n"
          ],
          "name": "stdout"
        },
        {
          "output_type": "stream",
          "text": [
            "2021-07-13 13:12:34,954 - INFO: lr: 0.06113 | Epoch: 020 | Batch: 000 | Loss: 1.41155 | Correct: 78/128\n"
          ],
          "name": "stderr"
        },
        {
          "output_type": "stream",
          "text": [
            "None\n"
          ],
          "name": "stdout"
        },
        {
          "output_type": "stream",
          "text": [
            "2021-07-13 13:12:51,404 - INFO: lr: 0.05000 | Epoch: 021 | Batch: 000 | Loss: 1.29478 | Correct: 82/128\n"
          ],
          "name": "stderr"
        },
        {
          "output_type": "stream",
          "text": [
            "None\n"
          ],
          "name": "stdout"
        },
        {
          "output_type": "stream",
          "text": [
            "2021-07-13 13:13:07,830 - INFO: lr: 0.03887 | Epoch: 022 | Batch: 000 | Loss: 1.52665 | Correct: 75/128\n"
          ],
          "name": "stderr"
        },
        {
          "output_type": "stream",
          "text": [
            "None\n"
          ],
          "name": "stdout"
        },
        {
          "output_type": "stream",
          "text": [
            "2021-07-13 13:13:24,200 - INFO: lr: 0.02831 | Epoch: 023 | Batch: 000 | Loss: 1.38558 | Correct: 76/128\n"
          ],
          "name": "stderr"
        },
        {
          "output_type": "stream",
          "text": [
            "None\n"
          ],
          "name": "stdout"
        },
        {
          "output_type": "stream",
          "text": [
            "2021-07-13 13:13:40,573 - INFO: lr: 0.01883 | Epoch: 024 | Batch: 000 | Loss: 1.37616 | Correct: 77/128\n"
          ],
          "name": "stderr"
        },
        {
          "output_type": "stream",
          "text": [
            "None\n"
          ],
          "name": "stdout"
        },
        {
          "output_type": "stream",
          "text": [
            "2021-07-13 13:13:57,016 - INFO: lr: 0.01091 | Epoch: 025 | Batch: 000 | Loss: 1.24129 | Correct: 86/128\n"
          ],
          "name": "stderr"
        },
        {
          "output_type": "stream",
          "text": [
            "None\n"
          ],
          "name": "stdout"
        },
        {
          "output_type": "stream",
          "text": [
            "2021-07-13 13:14:13,382 - INFO: lr: 0.00495 | Epoch: 026 | Batch: 000 | Loss: 1.06111 | Correct: 89/128\n"
          ],
          "name": "stderr"
        },
        {
          "output_type": "stream",
          "text": [
            "None\n"
          ],
          "name": "stdout"
        },
        {
          "output_type": "stream",
          "text": [
            "2021-07-13 13:14:29,767 - INFO: lr: 0.00125 | Epoch: 027 | Batch: 000 | Loss: 1.32962 | Correct: 80/128\n"
          ],
          "name": "stderr"
        },
        {
          "output_type": "stream",
          "text": [
            "None\n"
          ],
          "name": "stdout"
        },
        {
          "output_type": "stream",
          "text": [
            "2021-07-13 13:14:45,376 - INFO: Save the snapshot model with index: 1\n",
            "2021-07-13 13:14:46,116 - INFO: n_estimators: 2 | Validation Acc: 72.768 % | Historical Best: 72.768 %\n",
            "2021-07-13 13:14:46,954 - INFO: lr: 0.10000 | Epoch: 028 | Batch: 000 | Loss: 1.24345 | Correct: 88/128\n"
          ],
          "name": "stderr"
        },
        {
          "output_type": "stream",
          "text": [
            "None\n"
          ],
          "name": "stdout"
        },
        {
          "output_type": "stream",
          "text": [
            "2021-07-13 13:15:03,333 - INFO: lr: 0.09875 | Epoch: 029 | Batch: 000 | Loss: 1.50735 | Correct: 80/128\n"
          ],
          "name": "stderr"
        },
        {
          "output_type": "stream",
          "text": [
            "None\n"
          ],
          "name": "stdout"
        },
        {
          "output_type": "stream",
          "text": [
            "2021-07-13 13:15:19,703 - INFO: lr: 0.09505 | Epoch: 030 | Batch: 000 | Loss: 1.19160 | Correct: 86/128\n"
          ],
          "name": "stderr"
        },
        {
          "output_type": "stream",
          "text": [
            "None\n"
          ],
          "name": "stdout"
        },
        {
          "output_type": "stream",
          "text": [
            "2021-07-13 13:15:36,135 - INFO: lr: 0.08909 | Epoch: 031 | Batch: 000 | Loss: 1.34385 | Correct: 77/128\n"
          ],
          "name": "stderr"
        },
        {
          "output_type": "stream",
          "text": [
            "None\n"
          ],
          "name": "stdout"
        },
        {
          "output_type": "stream",
          "text": [
            "2021-07-13 13:15:52,499 - INFO: lr: 0.08117 | Epoch: 032 | Batch: 000 | Loss: 1.38750 | Correct: 78/128\n"
          ],
          "name": "stderr"
        },
        {
          "output_type": "stream",
          "text": [
            "None\n"
          ],
          "name": "stdout"
        },
        {
          "output_type": "stream",
          "text": [
            "2021-07-13 13:16:08,870 - INFO: lr: 0.07169 | Epoch: 033 | Batch: 000 | Loss: 1.53255 | Correct: 73/128\n"
          ],
          "name": "stderr"
        },
        {
          "output_type": "stream",
          "text": [
            "None\n"
          ],
          "name": "stdout"
        },
        {
          "output_type": "stream",
          "text": [
            "2021-07-13 13:16:25,218 - INFO: lr: 0.06113 | Epoch: 034 | Batch: 000 | Loss: 0.99821 | Correct: 93/128\n"
          ],
          "name": "stderr"
        },
        {
          "output_type": "stream",
          "text": [
            "None\n"
          ],
          "name": "stdout"
        },
        {
          "output_type": "stream",
          "text": [
            "2021-07-13 13:16:41,604 - INFO: lr: 0.05000 | Epoch: 035 | Batch: 000 | Loss: 1.22435 | Correct: 84/128\n"
          ],
          "name": "stderr"
        },
        {
          "output_type": "stream",
          "text": [
            "None\n"
          ],
          "name": "stdout"
        },
        {
          "output_type": "stream",
          "text": [
            "2021-07-13 13:16:57,965 - INFO: lr: 0.03887 | Epoch: 036 | Batch: 000 | Loss: 1.04843 | Correct: 90/128\n"
          ],
          "name": "stderr"
        },
        {
          "output_type": "stream",
          "text": [
            "None\n"
          ],
          "name": "stdout"
        },
        {
          "output_type": "stream",
          "text": [
            "2021-07-13 13:17:14,331 - INFO: lr: 0.02831 | Epoch: 037 | Batch: 000 | Loss: 0.85923 | Correct: 95/128\n"
          ],
          "name": "stderr"
        },
        {
          "output_type": "stream",
          "text": [
            "None\n"
          ],
          "name": "stdout"
        },
        {
          "output_type": "stream",
          "text": [
            "2021-07-13 13:17:30,687 - INFO: lr: 0.01883 | Epoch: 038 | Batch: 000 | Loss: 0.78340 | Correct: 97/128\n"
          ],
          "name": "stderr"
        },
        {
          "output_type": "stream",
          "text": [
            "None\n"
          ],
          "name": "stdout"
        },
        {
          "output_type": "stream",
          "text": [
            "2021-07-13 13:17:47,048 - INFO: lr: 0.01091 | Epoch: 039 | Batch: 000 | Loss: 0.72505 | Correct: 100/128\n"
          ],
          "name": "stderr"
        },
        {
          "output_type": "stream",
          "text": [
            "None\n"
          ],
          "name": "stdout"
        },
        {
          "output_type": "stream",
          "text": [
            "2021-07-13 13:18:03,456 - INFO: lr: 0.00495 | Epoch: 040 | Batch: 000 | Loss: 0.78717 | Correct: 105/128\n"
          ],
          "name": "stderr"
        },
        {
          "output_type": "stream",
          "text": [
            "None\n"
          ],
          "name": "stdout"
        },
        {
          "output_type": "stream",
          "text": [
            "2021-07-13 13:18:19,817 - INFO: lr: 0.00125 | Epoch: 041 | Batch: 000 | Loss: 0.64837 | Correct: 103/128\n"
          ],
          "name": "stderr"
        },
        {
          "output_type": "stream",
          "text": [
            "None\n"
          ],
          "name": "stdout"
        },
        {
          "output_type": "stream",
          "text": [
            "2021-07-13 13:18:35,416 - INFO: Save the snapshot model with index: 2\n",
            "2021-07-13 13:18:36,241 - INFO: n_estimators: 3 | Validation Acc: 77.679 % | Historical Best: 77.679 %\n",
            "2021-07-13 13:18:37,066 - INFO: lr: 0.10000 | Epoch: 042 | Batch: 000 | Loss: 0.90262 | Correct: 99/128\n"
          ],
          "name": "stderr"
        },
        {
          "output_type": "stream",
          "text": [
            "None\n"
          ],
          "name": "stdout"
        },
        {
          "output_type": "stream",
          "text": [
            "2021-07-13 13:18:53,427 - INFO: lr: 0.09875 | Epoch: 043 | Batch: 000 | Loss: 1.32934 | Correct: 81/128\n"
          ],
          "name": "stderr"
        },
        {
          "output_type": "stream",
          "text": [
            "None\n"
          ],
          "name": "stdout"
        },
        {
          "output_type": "stream",
          "text": [
            "2021-07-13 13:19:09,808 - INFO: lr: 0.09505 | Epoch: 044 | Batch: 000 | Loss: 1.12686 | Correct: 82/128\n"
          ],
          "name": "stderr"
        },
        {
          "output_type": "stream",
          "text": [
            "None\n"
          ],
          "name": "stdout"
        },
        {
          "output_type": "stream",
          "text": [
            "2021-07-13 13:19:26,196 - INFO: lr: 0.08909 | Epoch: 045 | Batch: 000 | Loss: 1.07686 | Correct: 86/128\n"
          ],
          "name": "stderr"
        },
        {
          "output_type": "stream",
          "text": [
            "None\n"
          ],
          "name": "stdout"
        },
        {
          "output_type": "stream",
          "text": [
            "2021-07-13 13:19:42,585 - INFO: lr: 0.08117 | Epoch: 046 | Batch: 000 | Loss: 1.03932 | Correct: 87/128\n"
          ],
          "name": "stderr"
        },
        {
          "output_type": "stream",
          "text": [
            "None\n"
          ],
          "name": "stdout"
        },
        {
          "output_type": "stream",
          "text": [
            "2021-07-13 13:19:58,993 - INFO: lr: 0.07169 | Epoch: 047 | Batch: 000 | Loss: 0.93857 | Correct: 91/128\n"
          ],
          "name": "stderr"
        },
        {
          "output_type": "stream",
          "text": [
            "None\n"
          ],
          "name": "stdout"
        },
        {
          "output_type": "stream",
          "text": [
            "2021-07-13 13:20:15,396 - INFO: lr: 0.06113 | Epoch: 048 | Batch: 000 | Loss: 0.73565 | Correct: 110/128\n"
          ],
          "name": "stderr"
        },
        {
          "output_type": "stream",
          "text": [
            "None\n"
          ],
          "name": "stdout"
        },
        {
          "output_type": "stream",
          "text": [
            "2021-07-13 13:20:31,769 - INFO: lr: 0.05000 | Epoch: 049 | Batch: 000 | Loss: 0.71105 | Correct: 106/128\n"
          ],
          "name": "stderr"
        },
        {
          "output_type": "stream",
          "text": [
            "None\n"
          ],
          "name": "stdout"
        },
        {
          "output_type": "stream",
          "text": [
            "2021-07-13 13:20:48,124 - INFO: lr: 0.03887 | Epoch: 050 | Batch: 000 | Loss: 0.56340 | Correct: 111/128\n"
          ],
          "name": "stderr"
        },
        {
          "output_type": "stream",
          "text": [
            "None\n"
          ],
          "name": "stdout"
        },
        {
          "output_type": "stream",
          "text": [
            "2021-07-13 13:21:04,500 - INFO: lr: 0.02831 | Epoch: 051 | Batch: 000 | Loss: 0.54746 | Correct: 104/128\n"
          ],
          "name": "stderr"
        },
        {
          "output_type": "stream",
          "text": [
            "None\n"
          ],
          "name": "stdout"
        },
        {
          "output_type": "stream",
          "text": [
            "2021-07-13 13:21:20,883 - INFO: lr: 0.01883 | Epoch: 052 | Batch: 000 | Loss: 0.52929 | Correct: 109/128\n"
          ],
          "name": "stderr"
        },
        {
          "output_type": "stream",
          "text": [
            "None\n"
          ],
          "name": "stdout"
        },
        {
          "output_type": "stream",
          "text": [
            "2021-07-13 13:21:37,273 - INFO: lr: 0.01091 | Epoch: 053 | Batch: 000 | Loss: 0.42739 | Correct: 112/128\n"
          ],
          "name": "stderr"
        },
        {
          "output_type": "stream",
          "text": [
            "None\n"
          ],
          "name": "stdout"
        },
        {
          "output_type": "stream",
          "text": [
            "2021-07-13 13:21:53,641 - INFO: lr: 0.00495 | Epoch: 054 | Batch: 000 | Loss: 0.44061 | Correct: 114/128\n"
          ],
          "name": "stderr"
        },
        {
          "output_type": "stream",
          "text": [
            "None\n"
          ],
          "name": "stdout"
        },
        {
          "output_type": "stream",
          "text": [
            "2021-07-13 13:22:10,039 - INFO: lr: 0.00125 | Epoch: 055 | Batch: 000 | Loss: 0.38955 | Correct: 118/128\n"
          ],
          "name": "stderr"
        },
        {
          "output_type": "stream",
          "text": [
            "None\n"
          ],
          "name": "stdout"
        },
        {
          "output_type": "stream",
          "text": [
            "2021-07-13 13:22:25,636 - INFO: Save the snapshot model with index: 3\n",
            "2021-07-13 13:22:26,599 - INFO: n_estimators: 4 | Validation Acc: 79.241 % | Historical Best: 79.241 %\n",
            "2021-07-13 13:22:27,427 - INFO: lr: 0.10000 | Epoch: 056 | Batch: 000 | Loss: 0.48096 | Correct: 113/128\n"
          ],
          "name": "stderr"
        },
        {
          "output_type": "stream",
          "text": [
            "None\n"
          ],
          "name": "stdout"
        },
        {
          "output_type": "stream",
          "text": [
            "2021-07-13 13:22:43,861 - INFO: lr: 0.09875 | Epoch: 057 | Batch: 000 | Loss: 1.07310 | Correct: 88/128\n"
          ],
          "name": "stderr"
        },
        {
          "output_type": "stream",
          "text": [
            "None\n"
          ],
          "name": "stdout"
        },
        {
          "output_type": "stream",
          "text": [
            "2021-07-13 13:23:00,260 - INFO: lr: 0.09505 | Epoch: 058 | Batch: 000 | Loss: 0.84522 | Correct: 94/128\n"
          ],
          "name": "stderr"
        },
        {
          "output_type": "stream",
          "text": [
            "None\n"
          ],
          "name": "stdout"
        },
        {
          "output_type": "stream",
          "text": [
            "2021-07-13 13:23:16,690 - INFO: lr: 0.08909 | Epoch: 059 | Batch: 000 | Loss: 0.72624 | Correct: 95/128\n"
          ],
          "name": "stderr"
        },
        {
          "output_type": "stream",
          "text": [
            "None\n"
          ],
          "name": "stdout"
        },
        {
          "output_type": "stream",
          "text": [
            "2021-07-13 13:23:33,140 - INFO: lr: 0.08117 | Epoch: 060 | Batch: 000 | Loss: 0.82841 | Correct: 99/128\n"
          ],
          "name": "stderr"
        },
        {
          "output_type": "stream",
          "text": [
            "None\n"
          ],
          "name": "stdout"
        },
        {
          "output_type": "stream",
          "text": [
            "2021-07-13 13:23:49,626 - INFO: lr: 0.07169 | Epoch: 061 | Batch: 000 | Loss: 0.65019 | Correct: 107/128\n"
          ],
          "name": "stderr"
        },
        {
          "output_type": "stream",
          "text": [
            "None\n"
          ],
          "name": "stdout"
        },
        {
          "output_type": "stream",
          "text": [
            "2021-07-13 13:24:06,131 - INFO: lr: 0.06113 | Epoch: 062 | Batch: 000 | Loss: 0.63694 | Correct: 105/128\n"
          ],
          "name": "stderr"
        },
        {
          "output_type": "stream",
          "text": [
            "None\n"
          ],
          "name": "stdout"
        },
        {
          "output_type": "stream",
          "text": [
            "2021-07-13 13:24:22,609 - INFO: lr: 0.05000 | Epoch: 063 | Batch: 000 | Loss: 0.40449 | Correct: 111/128\n"
          ],
          "name": "stderr"
        },
        {
          "output_type": "stream",
          "text": [
            "None\n"
          ],
          "name": "stdout"
        },
        {
          "output_type": "stream",
          "text": [
            "2021-07-13 13:24:39,076 - INFO: lr: 0.03887 | Epoch: 064 | Batch: 000 | Loss: 0.36193 | Correct: 113/128\n"
          ],
          "name": "stderr"
        },
        {
          "output_type": "stream",
          "text": [
            "None\n"
          ],
          "name": "stdout"
        },
        {
          "output_type": "stream",
          "text": [
            "2021-07-13 13:24:55,540 - INFO: lr: 0.02831 | Epoch: 065 | Batch: 000 | Loss: 0.36809 | Correct: 111/128\n"
          ],
          "name": "stderr"
        },
        {
          "output_type": "stream",
          "text": [
            "None\n"
          ],
          "name": "stdout"
        },
        {
          "output_type": "stream",
          "text": [
            "2021-07-13 13:25:12,009 - INFO: lr: 0.01883 | Epoch: 066 | Batch: 000 | Loss: 0.24387 | Correct: 120/128\n"
          ],
          "name": "stderr"
        },
        {
          "output_type": "stream",
          "text": [
            "None\n"
          ],
          "name": "stdout"
        },
        {
          "output_type": "stream",
          "text": [
            "2021-07-13 13:25:28,484 - INFO: lr: 0.01091 | Epoch: 067 | Batch: 000 | Loss: 0.32203 | Correct: 115/128\n"
          ],
          "name": "stderr"
        },
        {
          "output_type": "stream",
          "text": [
            "None\n"
          ],
          "name": "stdout"
        },
        {
          "output_type": "stream",
          "text": [
            "2021-07-13 13:25:44,914 - INFO: lr: 0.00495 | Epoch: 068 | Batch: 000 | Loss: 0.26203 | Correct: 120/128\n"
          ],
          "name": "stderr"
        },
        {
          "output_type": "stream",
          "text": [
            "None\n"
          ],
          "name": "stdout"
        },
        {
          "output_type": "stream",
          "text": [
            "2021-07-13 13:26:01,328 - INFO: lr: 0.00125 | Epoch: 069 | Batch: 000 | Loss: 0.30188 | Correct: 115/128\n"
          ],
          "name": "stderr"
        },
        {
          "output_type": "stream",
          "text": [
            "None\n"
          ],
          "name": "stdout"
        },
        {
          "output_type": "stream",
          "text": [
            "2021-07-13 13:26:16,984 - INFO: Save the snapshot model with index: 4\n",
            "2021-07-13 13:26:18,081 - INFO: n_estimators: 5 | Validation Acc: 80.357 % | Historical Best: 80.357 %\n"
          ],
          "name": "stderr"
        },
        {
          "output_type": "stream",
          "text": [
            "Group 5 Finished!\n",
            "Target number of exemplars: 40\n",
            "Randomly extracting exemplars from class 0 of current split... Extracted 40 exemplars.\n",
            "Randomly extracting exemplars from class 1 of current split... Extracted 40 exemplars.\n",
            "Randomly extracting exemplars from class 2 of current split... Extracted 40 exemplars.\n",
            "Randomly extracting exemplars from class 3 of current split... Extracted 40 exemplars.\n",
            "Randomly extracting exemplars from class 4 of current split... Extracted 40 exemplars.\n",
            "Randomly extracting exemplars from class 5 of current split... Extracted 40 exemplars.\n",
            "Randomly extracting exemplars from class 6 of current split... Extracted 40 exemplars.\n",
            "Randomly extracting exemplars from class 7 of current split... Extracted 40 exemplars.\n",
            "Randomly extracting exemplars from class 8 of current split... Extracted 40 exemplars.\n",
            "Randomly extracting exemplars from class 9 of current split... Extracted 40 exemplars.\n",
            "[0.21098790322580646, 0.4078125, 0.6302923387096774, 0.744430443548387, 0.874773185483871, 0.9214969758064516, 0.9579385080645161],[0.3764022435897436, 0.3311298076923077, 0.2608173076923077, 0.21053685897435898, 0.12099358974358974, 0.08253205128205128, 0.05248397435897436]\n",
            "Testing on both open and closed world\n",
            "owr harmonic mean (threshold:0.25) = 0.2704039915379352\n",
            "owr harmonic mean (threshold:0.35) = 0.3654923349056604\n",
            "owr harmonic mean (threshold:0.5) = 0.36895830160767507\n",
            "owr harmonic mean (threshold:0.6) = 0.32824170397359376\n",
            "owr harmonic mean (threshold:0.75) = 0.21258381090080333\n",
            "owr harmonic mean (threshold:0.85) = 0.15149569108385813\n",
            "owr harmonic mean (threshold:0.95) = 0.09951564017883809\n",
            "\n",
            "=============================================\n",
            "\n",
            "#################################\n",
            "\n",
            "\n"
          ],
          "name": "stdout"
        }
      ]
    },
    {
      "cell_type": "code",
      "metadata": {
        "id": "FlhjGZlYBYdR"
      },
      "source": [
        "predictions = [[logs[run_i]['predictions'][i].cpu().numpy() for i in range(len(logs[run_i]['predictions']))] for run_i in range(len(RANDOM_SEED))]"
      ],
      "execution_count": 9,
      "outputs": []
    },
    {
      "cell_type": "code",
      "metadata": {
        "id": "ReLwAHhLCvfn"
      },
      "source": [
        "accuracies = []\n",
        "for i in range(len(REJECTION_THRESHOLD)):\n",
        "  tmp_list = []\n",
        "  for k in range(5):\n",
        "    tmp_list.append(logs[0]['test_accuracies'][k][i])\n",
        "  accuracies.append(tmp_list)"
      ],
      "execution_count": 10,
      "outputs": []
    },
    {
      "cell_type": "code",
      "metadata": {
        "id": "8683fPolB-q8"
      },
      "source": [
        "true_labels = [logs[run_i]['true_labels'].cpu().data.numpy().tolist() for run_i in range(len(RANDOM_SEED))]"
      ],
      "execution_count": 11,
      "outputs": []
    },
    {
      "cell_type": "code",
      "metadata": {
        "colab": {
          "base_uri": "https://localhost:8080/"
        },
        "id": "jzGrXNnPMUa9",
        "outputId": "7ae4a8ba-d633-4e65-db4c-98497811a2df"
      },
      "source": [
        "import json\n",
        "\n",
        "with open('states/accuracies.json', 'w') as f:\n",
        "  json.dump(accuracies, f)\n",
        "f.close"
      ],
      "execution_count": 12,
      "outputs": [
        {
          "output_type": "execute_result",
          "data": {
            "text/plain": [
              "<function TextIOWrapper.close>"
            ]
          },
          "metadata": {
            "tags": []
          },
          "execution_count": 12
        }
      ]
    },
    {
      "cell_type": "markdown",
      "metadata": {
        "id": "2NMLqiIS19IJ"
      },
      "source": [
        "### Print some graphs"
      ]
    },
    {
      "cell_type": "code",
      "metadata": {
        "id": "G6Mg2QiIBNRo"
      },
      "source": [
        "from data.utils_plot import plot_train_val, plot_test_accuracies, plot_confusion_matrix"
      ],
      "execution_count": 13,
      "outputs": []
    },
    {
      "cell_type": "code",
      "metadata": {
        "id": "ttyNLP2hGnLN"
      },
      "source": [
        "accuracies = np.array([accuracies])\n",
        "accuracies_stats = np.array([accuracies.mean(0), accuracies.std(0)])"
      ],
      "execution_count": 14,
      "outputs": []
    },
    {
      "cell_type": "code",
      "metadata": {
        "id": "ZthTHrJOp9f3",
        "colab": {
          "base_uri": "https://localhost:8080/"
        },
        "outputId": "a61acead-65c1-47b2-9d99-577b4c336118"
      },
      "source": [
        "accuracies_stats[0][1]"
      ],
      "execution_count": 15,
      "outputs": [
        {
          "output_type": "execute_result",
          "data": {
            "text/plain": [
              "array([0.35101277, 0.36864965, 0.39555485, 0.38083296, 0.36549233])"
            ]
          },
          "metadata": {
            "tags": []
          },
          "execution_count": 15
        }
      ]
    },
    {
      "cell_type": "markdown",
      "metadata": {
        "id": "llzylw_LF7e_"
      },
      "source": [
        "#### Test accuracy"
      ]
    },
    {
      "cell_type": "code",
      "metadata": {
        "colab": {
          "base_uri": "https://localhost:8080/",
          "height": 1000
        },
        "id": "NQfpluscGzX8",
        "outputId": "cd6b2a45-f51a-441e-d6f7-3a30cc9238b5"
      },
      "source": [
        "def plot_test(stats, save_directory = None, title = \"\"):\n",
        "  mean = np.array(stats[0])\n",
        "  std = np.array(stats[1])\n",
        "  fig, ax = plt.subplots(figsize = (10, 5), dpi = 100)\n",
        "  x = np.arange(10, 51, 10)\n",
        "  ax.errorbar(x, mean, std)\n",
        "  ax.set_title(f\"Harmonic mean accuracy - threshold: {title}\")\n",
        "  ax.set_xlabel(\"Number of classes\")\n",
        "  ax.set_ylabel(\"Accuracy\")\n",
        "  plt.tight_layout()\n",
        "  if save_directory != None:\n",
        "    fig.savefig(save_directory)\n",
        "  plt.show()\n",
        "\n",
        "\n",
        "for i in range(len(REJECTION_THRESHOLD)):\n",
        "  plot_test(stats = [accuracies_stats[0][i],accuracies_stats[1][i]], title = REJECTION_THRESHOLD[i])"
      ],
      "execution_count": 16,
      "outputs": [
        {
          "output_type": "display_data",
          "data": {
            "image/png": "[encoded data removed]",
            "text/plain": [
              "<Figure size 1000x500 with 1 Axes>"
            ]
          },
          "metadata": {
            "tags": [],
            "needs_background": "light"
          }
        },
        {
          "output_type": "display_data",
          "data": {
            "image/png": "[encoded data removed]",
            "text/plain": [
              "<Figure size 1000x500 with 1 Axes>"
            ]
          },
          "metadata": {
            "tags": [],
            "needs_background": "light"
          }
        },
        {
          "output_type": "display_data",
          "data": {
            "image/png": "[encoded data removed]",
            "text/plain": [
              "<Figure size 1000x500 with 1 Axes>"
            ]
          },
          "metadata": {
            "tags": [],
            "needs_background": "light"
          }
        },
        {
          "output_type": "display_data",
          "data": {
            "image/png": "[encoded data removed]",
            "text/plain": [
              "<Figure size 1000x500 with 1 Axes>"
            ]
          },
          "metadata": {
            "tags": [],
            "needs_background": "light"
          }
        },
        {
          "output_type": "display_data",
          "data": {
            "image/png": "[encoded data removed]",
            "text/plain": [
              "<Figure size 1000x500 with 1 Axes>"
            ]
          },
          "metadata": {
            "tags": [],
            "needs_background": "light"
          }
        },
        {
          "output_type": "display_data",
          "data": {
            "image/png": "[encoded data removed]",
            "text/plain": [
              "<Figure size 1000x500 with 1 Axes>"
            ]
          },
          "metadata": {
            "tags": [],
            "needs_background": "light"
          }
        },
        {
          "output_type": "display_data",
          "data": {
            "image/png": "[encoded data removed]",
            "text/plain": [
              "<Figure size 1000x500 with 1 Axes>"
            ]
          },
          "metadata": {
            "tags": [],
            "needs_background": "light"
          }
        }
      ]
    },
    {
      "cell_type": "markdown",
      "metadata": {
        "id": "gN6cighYm1nG"
      },
      "source": [
        "#### Confusion Matrix"
      ]
    },
    {
      "cell_type": "code",
      "metadata": {
        "id": "JZBrIV_SKq2W",
        "outputId": "49d82057-bc18-49e3-8998-100320cd1748",
        "colab": {
          "base_uri": "https://localhost:8080/"
        }
      },
      "source": [
        "len(true_labels[0])/128"
      ],
      "execution_count": 17,
      "outputs": [
        {
          "output_type": "execute_result",
          "data": {
            "text/plain": [
              "349.0"
            ]
          },
          "metadata": {
            "tags": []
          },
          "execution_count": 17
        }
      ]
    },
    {
      "cell_type": "code",
      "metadata": {
        "id": "LPG6aNRjm5Se",
        "outputId": "98436184-d05c-40ec-88b9-0d8886c47db2",
        "colab": {
          "base_uri": "https://localhost:8080/",
          "height": 1000
        }
      },
      "source": [
        "for i in range(len(REJECTION_THRESHOLD)):\n",
        "  targets = np.array(true_labels[0])\n",
        "  preds = np.array(predictions[0][i])\n",
        "  title = f\"Confusion matrix - Threshold: {REJECTION_THRESHOLD[i]}\"\n",
        "  plot_confusion_matrix(targets, preds, RANDOM_SEED[run], title)"
      ],
      "execution_count": 18,
      "outputs": [
        {
          "output_type": "display_data",
          "data": {
            "image/png": "[encoded data removed]",
            "text/plain": [
              "<Figure size 500x500 with 2 Axes>"
            ]
          },
          "metadata": {
            "tags": [],
            "needs_background": "light"
          }
        },
        {
          "output_type": "display_data",
          "data": {
            "image/png": "[encoded data removed]",
            "text/plain": [
              "<Figure size 500x500 with 2 Axes>"
            ]
          },
          "metadata": {
            "tags": [],
            "needs_background": "light"
          }
        },
        {
          "output_type": "display_data",
          "data": {
            "image/png": "[encoded data removed]",
            "text/plain": [
              "<Figure size 500x500 with 2 Axes>"
            ]
          },
          "metadata": {
            "tags": [],
            "needs_background": "light"
          }
        },
        {
          "output_type": "display_data",
          "data": {
            "image/png": "[encoded data removed]",
            "text/plain": [
              "<Figure size 500x500 with 2 Axes>"
            ]
          },
          "metadata": {
            "tags": [],
            "needs_background": "light"
          }
        },
        {
          "output_type": "display_data",
          "data": {
            "image/png": "[encoded data removed]",
            "text/plain": [
              "<Figure size 500x500 with 2 Axes>"
            ]
          },
          "metadata": {
            "tags": [],
            "needs_background": "light"
          }
        },
        {
          "output_type": "display_data",
          "data": {
            "image/png": "[encoded data removed]",
            "text/plain": [
              "<Figure size 500x500 with 2 Axes>"
            ]
          },
          "metadata": {
            "tags": [],
            "needs_background": "light"
          }
        },
        {
          "output_type": "display_data",
          "data": {
            "image/png": "[encoded data removed]",
            "text/plain": [
              "<Figure size 500x500 with 2 Axes>"
            ]
          },
          "metadata": {
            "tags": [],
            "needs_background": "light"
          }
        }
      ]
    }
  ]
}