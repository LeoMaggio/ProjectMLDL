{
  "nbformat": 4,
  "nbformat_minor": 0,
  "metadata": {
    "colab": {
      "name": "OWR-Ensembles.ipynb",
      "provenance": [],
      "include_colab_link": true
    },
    "kernelspec": {
      "name": "python3",
      "display_name": "Python 3"
    },
    "language_info": {
      "name": "python"
    },
    "accelerator": "GPU",
    "widgets": {
      "application/vnd.jupyter.widget-state+json": {
        "48c51b2d0db241f8ac4fb73b930dfb63": {
          "model_module": "@jupyter-widgets/controls",
          "model_name": "HBoxModel",
          "state": {
            "_view_name": "HBoxView",
            "_dom_classes": [],
            "_model_name": "HBoxModel",
            "_view_module": "@jupyter-widgets/controls",
            "_model_module_version": "1.5.0",
            "_view_count": null,
            "_view_module_version": "1.5.0",
            "box_style": "",
            "layout": "IPY_MODEL_9c167c817c59454596b3e40ddb05e9ad",
            "_model_module": "@jupyter-widgets/controls",
            "children": [
              "IPY_MODEL_1a3ecd0972624a4a85bf8e9c3e07bbee",
              "IPY_MODEL_e838523b63b84bb8a8d733505c74d124"
            ]
          }
        },
        "9c167c817c59454596b3e40ddb05e9ad": {
          "model_module": "@jupyter-widgets/base",
          "model_name": "LayoutModel",
          "state": {
            "_view_name": "LayoutView",
            "grid_template_rows": null,
            "right": null,
            "justify_content": null,
            "_view_module": "@jupyter-widgets/base",
            "overflow": null,
            "_model_module_version": "1.2.0",
            "_view_count": null,
            "flex_flow": null,
            "width": null,
            "min_width": null,
            "border": null,
            "align_items": null,
            "bottom": null,
            "_model_module": "@jupyter-widgets/base",
            "top": null,
            "grid_column": null,
            "overflow_y": null,
            "overflow_x": null,
            "grid_auto_flow": null,
            "grid_area": null,
            "grid_template_columns": null,
            "flex": null,
            "_model_name": "LayoutModel",
            "justify_items": null,
            "grid_row": null,
            "max_height": null,
            "align_content": null,
            "visibility": null,
            "align_self": null,
            "height": null,
            "min_height": null,
            "padding": null,
            "grid_auto_rows": null,
            "grid_gap": null,
            "max_width": null,
            "order": null,
            "_view_module_version": "1.2.0",
            "grid_template_areas": null,
            "object_position": null,
            "object_fit": null,
            "grid_auto_columns": null,
            "margin": null,
            "display": null,
            "left": null
          }
        },
        "1a3ecd0972624a4a85bf8e9c3e07bbee": {
          "model_module": "@jupyter-widgets/controls",
          "model_name": "FloatProgressModel",
          "state": {
            "_view_name": "ProgressView",
            "style": "IPY_MODEL_bd81435b7a5446b6bd0da43c5d20f3e3",
            "_dom_classes": [],
            "description": "",
            "_model_name": "FloatProgressModel",
            "bar_style": "success",
            "max": 169001437,
            "_view_module": "@jupyter-widgets/controls",
            "_model_module_version": "1.5.0",
            "value": 169001437,
            "_view_count": null,
            "_view_module_version": "1.5.0",
            "orientation": "horizontal",
            "min": 0,
            "description_tooltip": null,
            "_model_module": "@jupyter-widgets/controls",
            "layout": "IPY_MODEL_c3b7644e245e422b883482437ee96104"
          }
        },
        "e838523b63b84bb8a8d733505c74d124": {
          "model_module": "@jupyter-widgets/controls",
          "model_name": "HTMLModel",
          "state": {
            "_view_name": "HTMLView",
            "style": "IPY_MODEL_978ff20b94ec4d9a862b080e5a8fc728",
            "_dom_classes": [],
            "description": "",
            "_model_name": "HTMLModel",
            "placeholder": "​",
            "_view_module": "@jupyter-widgets/controls",
            "_model_module_version": "1.5.0",
            "value": " 169001984/? [00:24&lt;00:00, 6993884.76it/s]",
            "_view_count": null,
            "_view_module_version": "1.5.0",
            "description_tooltip": null,
            "_model_module": "@jupyter-widgets/controls",
            "layout": "IPY_MODEL_aa5777a6f22f44a7a2bf368b898de7e5"
          }
        },
        "bd81435b7a5446b6bd0da43c5d20f3e3": {
          "model_module": "@jupyter-widgets/controls",
          "model_name": "ProgressStyleModel",
          "state": {
            "_view_name": "StyleView",
            "_model_name": "ProgressStyleModel",
            "description_width": "initial",
            "_view_module": "@jupyter-widgets/base",
            "_model_module_version": "1.5.0",
            "_view_count": null,
            "_view_module_version": "1.2.0",
            "bar_color": null,
            "_model_module": "@jupyter-widgets/controls"
          }
        },
        "c3b7644e245e422b883482437ee96104": {
          "model_module": "@jupyter-widgets/base",
          "model_name": "LayoutModel",
          "state": {
            "_view_name": "LayoutView",
            "grid_template_rows": null,
            "right": null,
            "justify_content": null,
            "_view_module": "@jupyter-widgets/base",
            "overflow": null,
            "_model_module_version": "1.2.0",
            "_view_count": null,
            "flex_flow": null,
            "width": null,
            "min_width": null,
            "border": null,
            "align_items": null,
            "bottom": null,
            "_model_module": "@jupyter-widgets/base",
            "top": null,
            "grid_column": null,
            "overflow_y": null,
            "overflow_x": null,
            "grid_auto_flow": null,
            "grid_area": null,
            "grid_template_columns": null,
            "flex": null,
            "_model_name": "LayoutModel",
            "justify_items": null,
            "grid_row": null,
            "max_height": null,
            "align_content": null,
            "visibility": null,
            "align_self": null,
            "height": null,
            "min_height": null,
            "padding": null,
            "grid_auto_rows": null,
            "grid_gap": null,
            "max_width": null,
            "order": null,
            "_view_module_version": "1.2.0",
            "grid_template_areas": null,
            "object_position": null,
            "object_fit": null,
            "grid_auto_columns": null,
            "margin": null,
            "display": null,
            "left": null
          }
        },
        "978ff20b94ec4d9a862b080e5a8fc728": {
          "model_module": "@jupyter-widgets/controls",
          "model_name": "DescriptionStyleModel",
          "state": {
            "_view_name": "StyleView",
            "_model_name": "DescriptionStyleModel",
            "description_width": "",
            "_view_module": "@jupyter-widgets/base",
            "_model_module_version": "1.5.0",
            "_view_count": null,
            "_view_module_version": "1.2.0",
            "_model_module": "@jupyter-widgets/controls"
          }
        },
        "aa5777a6f22f44a7a2bf368b898de7e5": {
          "model_module": "@jupyter-widgets/base",
          "model_name": "LayoutModel",
          "state": {
            "_view_name": "LayoutView",
            "grid_template_rows": null,
            "right": null,
            "justify_content": null,
            "_view_module": "@jupyter-widgets/base",
            "overflow": null,
            "_model_module_version": "1.2.0",
            "_view_count": null,
            "flex_flow": null,
            "width": null,
            "min_width": null,
            "border": null,
            "align_items": null,
            "bottom": null,
            "_model_module": "@jupyter-widgets/base",
            "top": null,
            "grid_column": null,
            "overflow_y": null,
            "overflow_x": null,
            "grid_auto_flow": null,
            "grid_area": null,
            "grid_template_columns": null,
            "flex": null,
            "_model_name": "LayoutModel",
            "justify_items": null,
            "grid_row": null,
            "max_height": null,
            "align_content": null,
            "visibility": null,
            "align_self": null,
            "height": null,
            "min_height": null,
            "padding": null,
            "grid_auto_rows": null,
            "grid_gap": null,
            "max_width": null,
            "order": null,
            "_view_module_version": "1.2.0",
            "grid_template_areas": null,
            "object_position": null,
            "object_fit": null,
            "grid_auto_columns": null,
            "margin": null,
            "display": null,
            "left": null
          }
        }
      }
    }
  },
  "cells": [
    {
      "cell_type": "markdown",
      "metadata": {
        "id": "view-in-github",
        "colab_type": "text"
      },
      "source": [
        "<a href=\"https://colab.research.google.com/github/cosminnedescu/ProjectMLDL/blob/main/owr/owr-ensebles-mean-final.ipynb\" target=\"_parent\"><img src=\"https://colab.research.google.com/assets/colab-badge.svg\" alt=\"Open In Colab\"/></a>"
      ]
    },
    {
      "cell_type": "code",
      "metadata": {
        "id": "PF5bRIxnU-PW",
        "colab": {
          "base_uri": "https://localhost:8080/"
        },
        "outputId": "4275625a-eaac-41d6-ccc7-7721abf3f338"
      },
      "source": [
        "# Avoid K80\n",
        "!nvidia-smi"
      ],
      "execution_count": 1,
      "outputs": [
        {
          "output_type": "stream",
          "text": [
            "Tue Jul 13 11:48:53 2021       \n",
            "+-----------------------------------------------------------------------------+\n",
            "| NVIDIA-SMI 470.42.01    Driver Version: 460.32.03    CUDA Version: 11.2     |\n",
            "|-------------------------------+----------------------+----------------------+\n",
            "| GPU  Name        Persistence-M| Bus-Id        Disp.A | Volatile Uncorr. ECC |\n",
            "| Fan  Temp  Perf  Pwr:Usage/Cap|         Memory-Usage | GPU-Util  Compute M. |\n",
            "|                               |                      |               MIG M. |\n",
            "|===============================+======================+======================|\n",
            "|   0  Tesla T4            Off  | 00000000:00:04.0 Off |                    0 |\n",
            "| N/A   66C    P8    11W /  70W |      0MiB / 15109MiB |      0%      Default |\n",
            "|                               |                      |                  N/A |\n",
            "+-------------------------------+----------------------+----------------------+\n",
            "                                                                               \n",
            "+-----------------------------------------------------------------------------+\n",
            "| Processes:                                                                  |\n",
            "|  GPU   GI   CI        PID   Type   Process name                  GPU Memory |\n",
            "|        ID   ID                                                   Usage      |\n",
            "|=============================================================================|\n",
            "|  No running processes found                                                 |\n",
            "+-----------------------------------------------------------------------------+\n"
          ],
          "name": "stdout"
        }
      ]
    },
    {
      "cell_type": "code",
      "metadata": {
        "id": "pJimWkPdQu6y"
      },
      "source": [
        "import os\n",
        "import random\n",
        "\n",
        "import torch\n",
        "import torch.nn as nn\n",
        "import torch.nn.init as init\n",
        "import torch.optim as optim\n",
        "from torch.autograd import Variable\n",
        "\n",
        "import torchvision\n",
        "from torchvision import transforms, datasets, models\n",
        "from torch.utils.data import Subset, DataLoader\n",
        "\n",
        "from PIL import Image\n",
        "\n",
        "import numpy as np\n",
        "import matplotlib \n",
        "import matplotlib.pyplot as plt\n",
        "from copy import copy\n",
        "from copy import deepcopy"
      ],
      "execution_count": 2,
      "outputs": []
    },
    {
      "cell_type": "markdown",
      "metadata": {
        "id": "7BZw-bZJ16ay"
      },
      "source": [
        "#### Cloning the Git repository"
      ]
    },
    {
      "cell_type": "code",
      "metadata": {
        "id": "yjntw1jZQ7Lg",
        "colab": {
          "base_uri": "https://localhost:8080/"
        },
        "outputId": "ba7c39b0-fb02-4c0b-faa2-800a38023164"
      },
      "source": [
        "!rm -rf ProjectMLDL\n",
        "if not os.path.isdir('/content/ProjectMLDL'):\n",
        "  !git clone https://github.com/cosminnedescu/ProjectMLDL.git\n",
        "  %cd /content/ProjectMLDL\n",
        "  !rm -rf LICENSE README.md"
      ],
      "execution_count": 3,
      "outputs": [
        {
          "output_type": "stream",
          "text": [
            "Cloning into 'ProjectMLDL'...\n",
            "remote: Enumerating objects: 3597, done.\u001b[K\n",
            "remote: Counting objects: 100% (1013/1013), done.\u001b[K\n",
            "remote: Compressing objects: 100% (449/449), done.\u001b[K\n",
            "remote: Total 3597 (delta 585), reused 935 (delta 547), pack-reused 2584\u001b[K\n",
            "Receiving objects: 100% (3597/3597), 182.75 MiB | 26.23 MiB/s, done.\n",
            "Resolving deltas: 100% (1970/1970), done.\n",
            "Checking out files: 100% (397/397), done.\n",
            "/content/ProjectMLDL\n"
          ],
          "name": "stdout"
        }
      ]
    },
    {
      "cell_type": "code",
      "metadata": {
        "id": "nvqmxRxo2lUW"
      },
      "source": [
        "from data.cifar100 import CIFAR100\n",
        "from model.resnet32_modified import resnet32\n",
        "import data.utils\n",
        "from model.owrEnsamble import owrEnsemble"
      ],
      "execution_count": 4,
      "outputs": []
    },
    {
      "cell_type": "code",
      "metadata": {
        "id": "XwomFTtQo1x-"
      },
      "source": [
        "# True mean and std of Cifar100 dataset (src=\"https://gist.github.com/weiaicunzai/e623931921efefd4c331622c344d8151\")\n",
        "mean = [0.5071, 0.4867, 0.4408]\n",
        "std = [0.2675, 0.2565, 0.2761]\n",
        "\n",
        "train_transform = transforms.Compose([\n",
        "    transforms.RandomCrop(32, padding=4),\n",
        "    transforms.RandomHorizontalFlip(),\n",
        "    transforms.ToTensor(),\n",
        "    transforms.Normalize(mean, std),\n",
        "])\n",
        "test_transform = transforms.Compose(\n",
        "    [transforms.ToTensor(), \n",
        "     transforms.Normalize(mean, std),\n",
        "     ])"
      ],
      "execution_count": 5,
      "outputs": []
    },
    {
      "cell_type": "markdown",
      "metadata": {
        "id": "yRoS-R_sRhHT"
      },
      "source": [
        "## Incremental Classifier and Representation Learning"
      ]
    },
    {
      "cell_type": "markdown",
      "metadata": {
        "id": "3ocVW0wM2Iw2"
      },
      "source": [
        "### Defining hyperparameters according to iCarl paper"
      ]
    },
    {
      "cell_type": "code",
      "metadata": {
        "id": "nmEo_9lnwyBk"
      },
      "source": [
        "# Settings\n",
        "DEVICE = 'cuda'\n",
        "NUM_CLASSES = 100         # Total number of classes\n",
        "VAL_SIZE = 0.2            # Proportion of validation set with respect to training set (between 0 and 1)\n",
        "\n",
        "# Training\n",
        "BATCH_SIZE = 128          # Batch size\n",
        "LR = 0.1                    # Initial learning rate\n",
        "                       \n",
        "MOMENTUM = 0.9            # Momentum for stochastic gradient descent (SGD)\n",
        "WEIGHT_DECAY = 1e-5       # Weight decay from iCaRL\n",
        "\n",
        "RANDOM_SEED = [20]  # Random seeds defining the runs of every method\n",
        "                          # Note: this should be at least 3 to have a fair benchmark\n",
        "\n",
        "NUM_EPOCHS = 70           # Total number of training epochs\n",
        "MILESTONES = [43, 63]     # Step down policy from iCaRL (MultiStepLR)\n",
        "                          # Decrease the learning rate by gamma at each milestone\n",
        "GAMMA = 0.2               # Gamma factor from iCaRL (1/5)\n",
        "\n",
        "HERDING = False           # True to perform prioritized selection, False to perform random selection\n",
        "CLASSIFY = True           # True to use mean-of-exemplar classifier, False to use network's output directly for classification\n",
        "\n",
        "REJECTION_THRESHOLD = [0.25,0.35,0.50,0.60,0.75,0.85,0.95]\n",
        "TESTING_MODE = 'harmonic' #open, closed, harmonic\n",
        "N_ESTIMATORS = 5\n",
        "CONFIDENCE = '0.900' #'0.6827': 1, '0.900':1.47, '0.950':1.94, '0.975':2.45, '0.990':3.36\n",
        "STRATEGY = 'mean' # mean, variance, hybrid\n",
        "    "
      ],
      "execution_count": 6,
      "outputs": []
    },
    {
      "cell_type": "code",
      "metadata": {
        "id": "rVh61C63FECy"
      },
      "source": [
        "def do_group_classes(run):\n",
        "\n",
        "  train_subset = [[] for i in range(10)]\n",
        "  train_dataloader = [[] for i in range(10)]\n",
        "  val_dataloader = [[] for i in range(10)]\n",
        "  test_dataloader = [[] for i in range(10)]\n",
        "\n",
        "  for i in range(10):\n",
        "    train_data = CIFAR100(\"dataset\", \n",
        "                          train=True, \n",
        "                          transform=train_transform, \n",
        "                          download=(run+i==0),\n",
        "                          random_state=RANDOM_SEED[run])\n",
        "    test_data = CIFAR100(\"dataset\", \n",
        "                         train=False, \n",
        "                         transform=test_transform, \n",
        "                         download=False,\n",
        "                         random_state=RANDOM_SEED[run])\n",
        "    \n",
        "    train_data.set_index_map(train_data.splits[i])\n",
        "    test_data.set_index_map([test_data.splits[j] for j in range(0, i+1)])\n",
        "    \n",
        "    train_indices, val_indices = train_data.train_val_split(VAL_SIZE, RANDOM_SEED[run])\n",
        "    \n",
        "    train_subset[i] = copy(Subset(train_data, train_indices))\n",
        "    val_subset = Subset(train_data, val_indices)\n",
        "\n",
        "    tmp_dl = DataLoader(val_subset,\n",
        "                       batch_size=BATCH_SIZE,\n",
        "                       shuffle=True, \n",
        "                       num_workers=4,\n",
        "                       drop_last=True)\n",
        "    val_dataloader[i] = copy(tmp_dl)\n",
        "\n",
        "    tmp_dl = DataLoader(test_data,\n",
        "                       batch_size=BATCH_SIZE,\n",
        "                       shuffle=True, \n",
        "                       num_workers=4,\n",
        "                       drop_last=True)\n",
        "    test_dataloader[i] = copy(tmp_dl)\n",
        "\n",
        "  return train_dataloader, val_dataloader, test_dataloader, train_subset"
      ],
      "execution_count": 7,
      "outputs": []
    },
    {
      "cell_type": "markdown",
      "metadata": {
        "id": "20APZIgI1eBy"
      },
      "source": [
        "### Going on with the model\n",
        "This is the main iCaRL step.\n",
        "\n",
        "This step is run 3 times with different `RANDOM_SEED`.\n",
        "Here the model is instantiated, trained and tested.\n",
        "\n",
        "Results and some statistics are then stored in the variable `logs`."
      ]
    },
    {
      "cell_type": "code",
      "metadata": {
        "id": "mJHKbipz0bMr",
        "colab": {
          "base_uri": "https://localhost:8080/",
          "height": 1000,
          "referenced_widgets": [
            "48c51b2d0db241f8ac4fb73b930dfb63",
            "9c167c817c59454596b3e40ddb05e9ad",
            "1a3ecd0972624a4a85bf8e9c3e07bbee",
            "e838523b63b84bb8a8d733505c74d124",
            "bd81435b7a5446b6bd0da43c5d20f3e3",
            "c3b7644e245e422b883482437ee96104",
            "978ff20b94ec4d9a862b080e5a8fc728",
            "aa5777a6f22f44a7a2bf368b898de7e5"
          ]
        },
        "outputId": "380e0140-4217-4175-c694-3f7e7167ed5d"
      },
      "source": [
        "logs = [[] for i in range(len(RANDOM_SEED))]\n",
        "best_net_tot_classes = [None for i in range(len(RANDOM_SEED))]\n",
        "\n",
        "for run in range(len(RANDOM_SEED)):\n",
        "  print(\"#################################\")\n",
        "  print(f\"Radom seed: {RANDOM_SEED[run]}\")\n",
        "  print(\"\")\n",
        "\n",
        "  # get data_subsets separated in incremental groups of 10 classes\n",
        "  train_dl, val_dl, test_dl, train_set = do_group_classes(run)\n",
        "\n",
        "  #create the resnet\n",
        "  net = resnet32()\n",
        "  \n",
        "  trainer = owrEnsemble(DEVICE,\n",
        "                  net,\n",
        "                  LR,\n",
        "                  MOMENTUM,\n",
        "                  WEIGHT_DECAY,\n",
        "                  MILESTONES,\n",
        "                  GAMMA,\n",
        "                  train_dl,\n",
        "                  val_dl,\n",
        "                  test_dl,\n",
        "                  BATCH_SIZE,\n",
        "                  train_set,\n",
        "                  train_transform,\n",
        "                  test_transform,\n",
        "                  TESTING_MODE,\n",
        "                  REJECTION_THRESHOLD,\n",
        "                  N_ESTIMATORS,\n",
        "                  CONFIDENCE,\n",
        "                  STRATEGY) \n",
        "\n",
        "  #train and evaluate the model\n",
        "  logs[run] = trainer.train_model(NUM_EPOCHS)\n",
        "\n",
        "  best_net_tot_classes[run] = deepcopy(trainer.best_net)\n",
        "\n",
        "  print(\"#################################\")\n",
        "  print(\"\")\n",
        "  print(\"\")"
      ],
      "execution_count": 8,
      "outputs": [
        {
          "output_type": "stream",
          "text": [
            "#################################\n",
            "Radom seed: 20\n",
            "\n",
            "Downloading https://www.cs.toronto.edu/~kriz/cifar-100-python.tar.gz to dataset/cifar-100-python.tar.gz\n"
          ],
          "name": "stdout"
        },
        {
          "output_type": "display_data",
          "data": {
            "application/vnd.jupyter.widget-view+json": {
              "model_id": "48c51b2d0db241f8ac4fb73b930dfb63",
              "version_minor": 0,
              "version_major": 2
            },
            "text/plain": [
              "HBox(children=(FloatProgress(value=0.0, max=169001437.0), HTML(value='')))"
            ]
          },
          "metadata": {
            "tags": []
          }
        },
        {
          "output_type": "stream",
          "text": [
            "\n",
            "Extracting dataset/cifar-100-python.tar.gz to dataset\n"
          ],
          "name": "stdout"
        },
        {
          "output_type": "stream",
          "text": [
            "/usr/local/lib/python3.7/dist-packages/torch/utils/data/dataloader.py:481: UserWarning: This DataLoader will create 4 worker processes in total. Our suggested max number of worker in current system is 2, which is smaller than what this DataLoader is going to create. Please be aware that excessive worker creation might get DataLoader running slow or even freeze, lower the worker number to avoid potential slowness/freeze if necessary.\n",
            "  cpuset_checked))\n"
          ],
          "name": "stderr"
        },
        {
          "output_type": "stream",
          "text": [
            "Log will be saved in '/content/ProjectMLDL/logs'.\n",
            "Create folder 'logs/'\n",
            "Start logging into file /content/ProjectMLDL/logs/classification_mnist_mlp-2021_07_13_11_49.log...\n",
            "Length of exemplars set: 0\n"
          ],
          "name": "stdout"
        },
        {
          "output_type": "stream",
          "text": [
            "2021-07-13 11:49:26,484 - INFO: lr: 0.10000 | Epoch: 000 | Batch: 000 | Loss: 2.30594 | Correct: 9/128\n"
          ],
          "name": "stderr"
        },
        {
          "output_type": "stream",
          "text": [
            "None\n"
          ],
          "name": "stdout"
        },
        {
          "output_type": "stream",
          "text": [
            "2021-07-13 11:49:28,652 - INFO: lr: 0.09875 | Epoch: 001 | Batch: 000 | Loss: 1.87467 | Correct: 38/128\n"
          ],
          "name": "stderr"
        },
        {
          "output_type": "stream",
          "text": [
            "None\n"
          ],
          "name": "stdout"
        },
        {
          "output_type": "stream",
          "text": [
            "2021-07-13 11:49:30,889 - INFO: lr: 0.09505 | Epoch: 002 | Batch: 000 | Loss: 1.59731 | Correct: 48/128\n"
          ],
          "name": "stderr"
        },
        {
          "output_type": "stream",
          "text": [
            "None\n"
          ],
          "name": "stdout"
        },
        {
          "output_type": "stream",
          "text": [
            "2021-07-13 11:49:32,963 - INFO: lr: 0.08909 | Epoch: 003 | Batch: 000 | Loss: 1.45856 | Correct: 61/128\n"
          ],
          "name": "stderr"
        },
        {
          "output_type": "stream",
          "text": [
            "None\n"
          ],
          "name": "stdout"
        },
        {
          "output_type": "stream",
          "text": [
            "2021-07-13 11:49:35,083 - INFO: lr: 0.08117 | Epoch: 004 | Batch: 000 | Loss: 1.41156 | Correct: 64/128\n"
          ],
          "name": "stderr"
        },
        {
          "output_type": "stream",
          "text": [
            "None\n"
          ],
          "name": "stdout"
        },
        {
          "output_type": "stream",
          "text": [
            "2021-07-13 11:49:37,330 - INFO: lr: 0.07169 | Epoch: 005 | Batch: 000 | Loss: 1.09918 | Correct: 73/128\n"
          ],
          "name": "stderr"
        },
        {
          "output_type": "stream",
          "text": [
            "None\n"
          ],
          "name": "stdout"
        },
        {
          "output_type": "stream",
          "text": [
            "2021-07-13 11:49:39,601 - INFO: lr: 0.06113 | Epoch: 006 | Batch: 000 | Loss: 1.08890 | Correct: 76/128\n"
          ],
          "name": "stderr"
        },
        {
          "output_type": "stream",
          "text": [
            "None\n"
          ],
          "name": "stdout"
        },
        {
          "output_type": "stream",
          "text": [
            "2021-07-13 11:49:41,785 - INFO: lr: 0.05000 | Epoch: 007 | Batch: 000 | Loss: 0.97484 | Correct: 85/128\n"
          ],
          "name": "stderr"
        },
        {
          "output_type": "stream",
          "text": [
            "None\n"
          ],
          "name": "stdout"
        },
        {
          "output_type": "stream",
          "text": [
            "2021-07-13 11:49:43,948 - INFO: lr: 0.03887 | Epoch: 008 | Batch: 000 | Loss: 0.86224 | Correct: 85/128\n"
          ],
          "name": "stderr"
        },
        {
          "output_type": "stream",
          "text": [
            "None\n"
          ],
          "name": "stdout"
        },
        {
          "output_type": "stream",
          "text": [
            "2021-07-13 11:49:46,212 - INFO: lr: 0.02831 | Epoch: 009 | Batch: 000 | Loss: 0.97476 | Correct: 85/128\n"
          ],
          "name": "stderr"
        },
        {
          "output_type": "stream",
          "text": [
            "None\n"
          ],
          "name": "stdout"
        },
        {
          "output_type": "stream",
          "text": [
            "2021-07-13 11:49:48,320 - INFO: lr: 0.01883 | Epoch: 010 | Batch: 000 | Loss: 0.79287 | Correct: 91/128\n"
          ],
          "name": "stderr"
        },
        {
          "output_type": "stream",
          "text": [
            "None\n"
          ],
          "name": "stdout"
        },
        {
          "output_type": "stream",
          "text": [
            "2021-07-13 11:49:50,488 - INFO: lr: 0.01091 | Epoch: 011 | Batch: 000 | Loss: 0.83844 | Correct: 89/128\n"
          ],
          "name": "stderr"
        },
        {
          "output_type": "stream",
          "text": [
            "None\n"
          ],
          "name": "stdout"
        },
        {
          "output_type": "stream",
          "text": [
            "2021-07-13 11:49:52,772 - INFO: lr: 0.00495 | Epoch: 012 | Batch: 000 | Loss: 0.94887 | Correct: 77/128\n"
          ],
          "name": "stderr"
        },
        {
          "output_type": "stream",
          "text": [
            "None\n"
          ],
          "name": "stdout"
        },
        {
          "output_type": "stream",
          "text": [
            "2021-07-13 11:49:54,925 - INFO: lr: 0.00125 | Epoch: 013 | Batch: 000 | Loss: 0.78264 | Correct: 85/128\n"
          ],
          "name": "stderr"
        },
        {
          "output_type": "stream",
          "text": [
            "None\n"
          ],
          "name": "stdout"
        },
        {
          "output_type": "stream",
          "text": [
            "2021-07-13 11:49:56,777 - INFO: Save the snapshot model with index: 0\n",
            "2021-07-13 11:49:57,401 - INFO: n_estimators: 1 | Validation Acc: 67.746 % | Historical Best: 67.746 %\n",
            "2021-07-13 11:49:57,822 - INFO: lr: 0.10000 | Epoch: 014 | Batch: 000 | Loss: 0.76263 | Correct: 92/128\n"
          ],
          "name": "stderr"
        },
        {
          "output_type": "stream",
          "text": [
            "None\n"
          ],
          "name": "stdout"
        },
        {
          "output_type": "stream",
          "text": [
            "2021-07-13 11:50:00,047 - INFO: lr: 0.09875 | Epoch: 015 | Batch: 000 | Loss: 0.85344 | Correct: 92/128\n"
          ],
          "name": "stderr"
        },
        {
          "output_type": "stream",
          "text": [
            "None\n"
          ],
          "name": "stdout"
        },
        {
          "output_type": "stream",
          "text": [
            "2021-07-13 11:50:02,178 - INFO: lr: 0.09505 | Epoch: 016 | Batch: 000 | Loss: 0.88808 | Correct: 82/128\n"
          ],
          "name": "stderr"
        },
        {
          "output_type": "stream",
          "text": [
            "None\n"
          ],
          "name": "stdout"
        },
        {
          "output_type": "stream",
          "text": [
            "2021-07-13 11:50:04,340 - INFO: lr: 0.08909 | Epoch: 017 | Batch: 000 | Loss: 0.89563 | Correct: 88/128\n"
          ],
          "name": "stderr"
        },
        {
          "output_type": "stream",
          "text": [
            "None\n"
          ],
          "name": "stdout"
        },
        {
          "output_type": "stream",
          "text": [
            "2021-07-13 11:50:06,654 - INFO: lr: 0.08117 | Epoch: 018 | Batch: 000 | Loss: 0.95951 | Correct: 81/128\n"
          ],
          "name": "stderr"
        },
        {
          "output_type": "stream",
          "text": [
            "None\n"
          ],
          "name": "stdout"
        },
        {
          "output_type": "stream",
          "text": [
            "2021-07-13 11:50:08,740 - INFO: lr: 0.07169 | Epoch: 019 | Batch: 000 | Loss: 0.85117 | Correct: 93/128\n"
          ],
          "name": "stderr"
        },
        {
          "output_type": "stream",
          "text": [
            "None\n"
          ],
          "name": "stdout"
        },
        {
          "output_type": "stream",
          "text": [
            "2021-07-13 11:50:11,030 - INFO: lr: 0.06113 | Epoch: 020 | Batch: 000 | Loss: 0.86571 | Correct: 93/128\n"
          ],
          "name": "stderr"
        },
        {
          "output_type": "stream",
          "text": [
            "None\n"
          ],
          "name": "stdout"
        },
        {
          "output_type": "stream",
          "text": [
            "2021-07-13 11:50:13,263 - INFO: lr: 0.05000 | Epoch: 021 | Batch: 000 | Loss: 0.64476 | Correct: 103/128\n"
          ],
          "name": "stderr"
        },
        {
          "output_type": "stream",
          "text": [
            "None\n"
          ],
          "name": "stdout"
        },
        {
          "output_type": "stream",
          "text": [
            "2021-07-13 11:50:15,411 - INFO: lr: 0.03887 | Epoch: 022 | Batch: 000 | Loss: 0.67845 | Correct: 98/128\n"
          ],
          "name": "stderr"
        },
        {
          "output_type": "stream",
          "text": [
            "None\n"
          ],
          "name": "stdout"
        },
        {
          "output_type": "stream",
          "text": [
            "2021-07-13 11:50:17,643 - INFO: lr: 0.02831 | Epoch: 023 | Batch: 000 | Loss: 0.48578 | Correct: 104/128\n"
          ],
          "name": "stderr"
        },
        {
          "output_type": "stream",
          "text": [
            "None\n"
          ],
          "name": "stdout"
        },
        {
          "output_type": "stream",
          "text": [
            "2021-07-13 11:50:19,830 - INFO: lr: 0.01883 | Epoch: 024 | Batch: 000 | Loss: 0.41734 | Correct: 105/128\n"
          ],
          "name": "stderr"
        },
        {
          "output_type": "stream",
          "text": [
            "None\n"
          ],
          "name": "stdout"
        },
        {
          "output_type": "stream",
          "text": [
            "2021-07-13 11:50:22,055 - INFO: lr: 0.01091 | Epoch: 025 | Batch: 000 | Loss: 0.41805 | Correct: 114/128\n"
          ],
          "name": "stderr"
        },
        {
          "output_type": "stream",
          "text": [
            "None\n"
          ],
          "name": "stdout"
        },
        {
          "output_type": "stream",
          "text": [
            "2021-07-13 11:50:24,219 - INFO: lr: 0.00495 | Epoch: 026 | Batch: 000 | Loss: 0.40046 | Correct: 111/128\n"
          ],
          "name": "stderr"
        },
        {
          "output_type": "stream",
          "text": [
            "None\n"
          ],
          "name": "stdout"
        },
        {
          "output_type": "stream",
          "text": [
            "2021-07-13 11:50:26,422 - INFO: lr: 0.00125 | Epoch: 027 | Batch: 000 | Loss: 0.42442 | Correct: 114/128\n"
          ],
          "name": "stderr"
        },
        {
          "output_type": "stream",
          "text": [
            "None\n"
          ],
          "name": "stdout"
        },
        {
          "output_type": "stream",
          "text": [
            "2021-07-13 11:50:28,286 - INFO: Save the snapshot model with index: 1\n",
            "2021-07-13 11:50:29,010 - INFO: n_estimators: 2 | Validation Acc: 77.902 % | Historical Best: 77.902 %\n",
            "2021-07-13 11:50:29,400 - INFO: lr: 0.10000 | Epoch: 028 | Batch: 000 | Loss: 0.33851 | Correct: 117/128\n"
          ],
          "name": "stderr"
        },
        {
          "output_type": "stream",
          "text": [
            "None\n"
          ],
          "name": "stdout"
        },
        {
          "output_type": "stream",
          "text": [
            "2021-07-13 11:50:31,645 - INFO: lr: 0.09875 | Epoch: 029 | Batch: 000 | Loss: 0.83720 | Correct: 93/128\n"
          ],
          "name": "stderr"
        },
        {
          "output_type": "stream",
          "text": [
            "None\n"
          ],
          "name": "stdout"
        },
        {
          "output_type": "stream",
          "text": [
            "2021-07-13 11:50:33,904 - INFO: lr: 0.09505 | Epoch: 030 | Batch: 000 | Loss: 0.68828 | Correct: 98/128\n"
          ],
          "name": "stderr"
        },
        {
          "output_type": "stream",
          "text": [
            "None\n"
          ],
          "name": "stdout"
        },
        {
          "output_type": "stream",
          "text": [
            "2021-07-13 11:50:36,059 - INFO: lr: 0.08909 | Epoch: 031 | Batch: 000 | Loss: 0.47528 | Correct: 108/128\n"
          ],
          "name": "stderr"
        },
        {
          "output_type": "stream",
          "text": [
            "None\n"
          ],
          "name": "stdout"
        },
        {
          "output_type": "stream",
          "text": [
            "2021-07-13 11:50:38,366 - INFO: lr: 0.08117 | Epoch: 032 | Batch: 000 | Loss: 0.51971 | Correct: 106/128\n"
          ],
          "name": "stderr"
        },
        {
          "output_type": "stream",
          "text": [
            "None\n"
          ],
          "name": "stdout"
        },
        {
          "output_type": "stream",
          "text": [
            "2021-07-13 11:50:40,538 - INFO: lr: 0.07169 | Epoch: 033 | Batch: 000 | Loss: 0.53569 | Correct: 102/128\n"
          ],
          "name": "stderr"
        },
        {
          "output_type": "stream",
          "text": [
            "None\n"
          ],
          "name": "stdout"
        },
        {
          "output_type": "stream",
          "text": [
            "2021-07-13 11:50:42,798 - INFO: lr: 0.06113 | Epoch: 034 | Batch: 000 | Loss: 0.38545 | Correct: 113/128\n"
          ],
          "name": "stderr"
        },
        {
          "output_type": "stream",
          "text": [
            "None\n"
          ],
          "name": "stdout"
        },
        {
          "output_type": "stream",
          "text": [
            "2021-07-13 11:50:44,991 - INFO: lr: 0.05000 | Epoch: 035 | Batch: 000 | Loss: 0.43857 | Correct: 112/128\n"
          ],
          "name": "stderr"
        },
        {
          "output_type": "stream",
          "text": [
            "None\n"
          ],
          "name": "stdout"
        },
        {
          "output_type": "stream",
          "text": [
            "2021-07-13 11:50:47,185 - INFO: lr: 0.03887 | Epoch: 036 | Batch: 000 | Loss: 0.29061 | Correct: 117/128\n"
          ],
          "name": "stderr"
        },
        {
          "output_type": "stream",
          "text": [
            "None\n"
          ],
          "name": "stdout"
        },
        {
          "output_type": "stream",
          "text": [
            "2021-07-13 11:50:49,412 - INFO: lr: 0.02831 | Epoch: 037 | Batch: 000 | Loss: 0.23621 | Correct: 118/128\n"
          ],
          "name": "stderr"
        },
        {
          "output_type": "stream",
          "text": [
            "None\n"
          ],
          "name": "stdout"
        },
        {
          "output_type": "stream",
          "text": [
            "2021-07-13 11:50:51,671 - INFO: lr: 0.01883 | Epoch: 038 | Batch: 000 | Loss: 0.22304 | Correct: 118/128\n"
          ],
          "name": "stderr"
        },
        {
          "output_type": "stream",
          "text": [
            "None\n"
          ],
          "name": "stdout"
        },
        {
          "output_type": "stream",
          "text": [
            "2021-07-13 11:50:53,904 - INFO: lr: 0.01091 | Epoch: 039 | Batch: 000 | Loss: 0.22512 | Correct: 120/128\n"
          ],
          "name": "stderr"
        },
        {
          "output_type": "stream",
          "text": [
            "None\n"
          ],
          "name": "stdout"
        },
        {
          "output_type": "stream",
          "text": [
            "2021-07-13 11:50:56,112 - INFO: lr: 0.00495 | Epoch: 040 | Batch: 000 | Loss: 0.36155 | Correct: 113/128\n"
          ],
          "name": "stderr"
        },
        {
          "output_type": "stream",
          "text": [
            "None\n"
          ],
          "name": "stdout"
        },
        {
          "output_type": "stream",
          "text": [
            "2021-07-13 11:50:58,285 - INFO: lr: 0.00125 | Epoch: 041 | Batch: 000 | Loss: 0.15524 | Correct: 126/128\n"
          ],
          "name": "stderr"
        },
        {
          "output_type": "stream",
          "text": [
            "None\n"
          ],
          "name": "stdout"
        },
        {
          "output_type": "stream",
          "text": [
            "2021-07-13 11:51:00,121 - INFO: Save the snapshot model with index: 2\n",
            "2021-07-13 11:51:00,909 - INFO: n_estimators: 3 | Validation Acc: 82.478 % | Historical Best: 82.478 %\n",
            "2021-07-13 11:51:01,339 - INFO: lr: 0.10000 | Epoch: 042 | Batch: 000 | Loss: 0.25979 | Correct: 115/128\n"
          ],
          "name": "stderr"
        },
        {
          "output_type": "stream",
          "text": [
            "None\n"
          ],
          "name": "stdout"
        },
        {
          "output_type": "stream",
          "text": [
            "2021-07-13 11:51:03,485 - INFO: lr: 0.09875 | Epoch: 043 | Batch: 000 | Loss: 0.57446 | Correct: 96/128\n"
          ],
          "name": "stderr"
        },
        {
          "output_type": "stream",
          "text": [
            "None\n"
          ],
          "name": "stdout"
        },
        {
          "output_type": "stream",
          "text": [
            "2021-07-13 11:51:05,790 - INFO: lr: 0.09505 | Epoch: 044 | Batch: 000 | Loss: 0.53009 | Correct: 102/128\n"
          ],
          "name": "stderr"
        },
        {
          "output_type": "stream",
          "text": [
            "None\n"
          ],
          "name": "stdout"
        },
        {
          "output_type": "stream",
          "text": [
            "2021-07-13 11:51:07,992 - INFO: lr: 0.08909 | Epoch: 045 | Batch: 000 | Loss: 0.44752 | Correct: 108/128\n"
          ],
          "name": "stderr"
        },
        {
          "output_type": "stream",
          "text": [
            "None\n"
          ],
          "name": "stdout"
        },
        {
          "output_type": "stream",
          "text": [
            "2021-07-13 11:51:10,208 - INFO: lr: 0.08117 | Epoch: 046 | Batch: 000 | Loss: 0.35116 | Correct: 119/128\n"
          ],
          "name": "stderr"
        },
        {
          "output_type": "stream",
          "text": [
            "None\n"
          ],
          "name": "stdout"
        },
        {
          "output_type": "stream",
          "text": [
            "2021-07-13 11:51:12,390 - INFO: lr: 0.07169 | Epoch: 047 | Batch: 000 | Loss: 0.23643 | Correct: 119/128\n"
          ],
          "name": "stderr"
        },
        {
          "output_type": "stream",
          "text": [
            "None\n"
          ],
          "name": "stdout"
        },
        {
          "output_type": "stream",
          "text": [
            "2021-07-13 11:51:14,619 - INFO: lr: 0.06113 | Epoch: 048 | Batch: 000 | Loss: 0.24615 | Correct: 118/128\n"
          ],
          "name": "stderr"
        },
        {
          "output_type": "stream",
          "text": [
            "None\n"
          ],
          "name": "stdout"
        },
        {
          "output_type": "stream",
          "text": [
            "2021-07-13 11:51:16,719 - INFO: lr: 0.05000 | Epoch: 049 | Batch: 000 | Loss: 0.28691 | Correct: 114/128\n"
          ],
          "name": "stderr"
        },
        {
          "output_type": "stream",
          "text": [
            "None\n"
          ],
          "name": "stdout"
        },
        {
          "output_type": "stream",
          "text": [
            "2021-07-13 11:51:19,309 - INFO: lr: 0.03887 | Epoch: 050 | Batch: 000 | Loss: 0.31067 | Correct: 115/128\n"
          ],
          "name": "stderr"
        },
        {
          "output_type": "stream",
          "text": [
            "None\n"
          ],
          "name": "stdout"
        },
        {
          "output_type": "stream",
          "text": [
            "2021-07-13 11:51:21,966 - INFO: lr: 0.02831 | Epoch: 051 | Batch: 000 | Loss: 0.21065 | Correct: 119/128\n"
          ],
          "name": "stderr"
        },
        {
          "output_type": "stream",
          "text": [
            "None\n"
          ],
          "name": "stdout"
        },
        {
          "output_type": "stream",
          "text": [
            "2021-07-13 11:51:24,060 - INFO: lr: 0.01883 | Epoch: 052 | Batch: 000 | Loss: 0.17324 | Correct: 120/128\n"
          ],
          "name": "stderr"
        },
        {
          "output_type": "stream",
          "text": [
            "None\n"
          ],
          "name": "stdout"
        },
        {
          "output_type": "stream",
          "text": [
            "2021-07-13 11:51:26,269 - INFO: lr: 0.01091 | Epoch: 053 | Batch: 000 | Loss: 0.19207 | Correct: 120/128\n"
          ],
          "name": "stderr"
        },
        {
          "output_type": "stream",
          "text": [
            "None\n"
          ],
          "name": "stdout"
        },
        {
          "output_type": "stream",
          "text": [
            "2021-07-13 11:51:28,402 - INFO: lr: 0.00495 | Epoch: 054 | Batch: 000 | Loss: 0.13927 | Correct: 123/128\n"
          ],
          "name": "stderr"
        },
        {
          "output_type": "stream",
          "text": [
            "None\n"
          ],
          "name": "stdout"
        },
        {
          "output_type": "stream",
          "text": [
            "2021-07-13 11:51:30,634 - INFO: lr: 0.00125 | Epoch: 055 | Batch: 000 | Loss: 0.08728 | Correct: 126/128\n"
          ],
          "name": "stderr"
        },
        {
          "output_type": "stream",
          "text": [
            "None\n"
          ],
          "name": "stdout"
        },
        {
          "output_type": "stream",
          "text": [
            "2021-07-13 11:51:32,433 - INFO: Save the snapshot model with index: 3\n",
            "2021-07-13 11:51:33,396 - INFO: n_estimators: 4 | Validation Acc: 83.929 % | Historical Best: 83.929 %\n",
            "2021-07-13 11:51:33,783 - INFO: lr: 0.10000 | Epoch: 056 | Batch: 000 | Loss: 0.11087 | Correct: 124/128\n"
          ],
          "name": "stderr"
        },
        {
          "output_type": "stream",
          "text": [
            "None\n"
          ],
          "name": "stdout"
        },
        {
          "output_type": "stream",
          "text": [
            "2021-07-13 11:51:35,984 - INFO: lr: 0.09875 | Epoch: 057 | Batch: 000 | Loss: 0.33276 | Correct: 112/128\n"
          ],
          "name": "stderr"
        },
        {
          "output_type": "stream",
          "text": [
            "None\n"
          ],
          "name": "stdout"
        },
        {
          "output_type": "stream",
          "text": [
            "2021-07-13 11:51:38,134 - INFO: lr: 0.09505 | Epoch: 058 | Batch: 000 | Loss: 0.47183 | Correct: 110/128\n"
          ],
          "name": "stderr"
        },
        {
          "output_type": "stream",
          "text": [
            "None\n"
          ],
          "name": "stdout"
        },
        {
          "output_type": "stream",
          "text": [
            "2021-07-13 11:51:40,431 - INFO: lr: 0.08909 | Epoch: 059 | Batch: 000 | Loss: 0.27176 | Correct: 116/128\n"
          ],
          "name": "stderr"
        },
        {
          "output_type": "stream",
          "text": [
            "None\n"
          ],
          "name": "stdout"
        },
        {
          "output_type": "stream",
          "text": [
            "2021-07-13 11:51:42,544 - INFO: lr: 0.08117 | Epoch: 060 | Batch: 000 | Loss: 0.24777 | Correct: 115/128\n"
          ],
          "name": "stderr"
        },
        {
          "output_type": "stream",
          "text": [
            "None\n"
          ],
          "name": "stdout"
        },
        {
          "output_type": "stream",
          "text": [
            "2021-07-13 11:51:44,738 - INFO: lr: 0.07169 | Epoch: 061 | Batch: 000 | Loss: 0.18176 | Correct: 118/128\n"
          ],
          "name": "stderr"
        },
        {
          "output_type": "stream",
          "text": [
            "None\n"
          ],
          "name": "stdout"
        },
        {
          "output_type": "stream",
          "text": [
            "2021-07-13 11:51:47,036 - INFO: lr: 0.06113 | Epoch: 062 | Batch: 000 | Loss: 0.18854 | Correct: 121/128\n"
          ],
          "name": "stderr"
        },
        {
          "output_type": "stream",
          "text": [
            "None\n"
          ],
          "name": "stdout"
        },
        {
          "output_type": "stream",
          "text": [
            "2021-07-13 11:51:49,260 - INFO: lr: 0.05000 | Epoch: 063 | Batch: 000 | Loss: 0.15927 | Correct: 123/128\n"
          ],
          "name": "stderr"
        },
        {
          "output_type": "stream",
          "text": [
            "None\n"
          ],
          "name": "stdout"
        },
        {
          "output_type": "stream",
          "text": [
            "2021-07-13 11:51:51,504 - INFO: lr: 0.03887 | Epoch: 064 | Batch: 000 | Loss: 0.21128 | Correct: 118/128\n"
          ],
          "name": "stderr"
        },
        {
          "output_type": "stream",
          "text": [
            "None\n"
          ],
          "name": "stdout"
        },
        {
          "output_type": "stream",
          "text": [
            "2021-07-13 11:51:53,713 - INFO: lr: 0.02831 | Epoch: 065 | Batch: 000 | Loss: 0.13578 | Correct: 121/128\n"
          ],
          "name": "stderr"
        },
        {
          "output_type": "stream",
          "text": [
            "None\n"
          ],
          "name": "stdout"
        },
        {
          "output_type": "stream",
          "text": [
            "2021-07-13 11:51:55,857 - INFO: lr: 0.01883 | Epoch: 066 | Batch: 000 | Loss: 0.05267 | Correct: 126/128\n"
          ],
          "name": "stderr"
        },
        {
          "output_type": "stream",
          "text": [
            "None\n"
          ],
          "name": "stdout"
        },
        {
          "output_type": "stream",
          "text": [
            "2021-07-13 11:51:58,109 - INFO: lr: 0.01091 | Epoch: 067 | Batch: 000 | Loss: 0.09885 | Correct: 122/128\n"
          ],
          "name": "stderr"
        },
        {
          "output_type": "stream",
          "text": [
            "None\n"
          ],
          "name": "stdout"
        },
        {
          "output_type": "stream",
          "text": [
            "2021-07-13 11:52:00,349 - INFO: lr: 0.00495 | Epoch: 068 | Batch: 000 | Loss: 0.05390 | Correct: 125/128\n"
          ],
          "name": "stderr"
        },
        {
          "output_type": "stream",
          "text": [
            "None\n"
          ],
          "name": "stdout"
        },
        {
          "output_type": "stream",
          "text": [
            "2021-07-13 11:52:02,512 - INFO: lr: 0.00125 | Epoch: 069 | Batch: 000 | Loss: 0.07764 | Correct: 127/128\n"
          ],
          "name": "stderr"
        },
        {
          "output_type": "stream",
          "text": [
            "None\n"
          ],
          "name": "stdout"
        },
        {
          "output_type": "stream",
          "text": [
            "2021-07-13 11:52:04,379 - INFO: Save the snapshot model with index: 4\n",
            "2021-07-13 11:52:05,445 - INFO: n_estimators: 5 | Validation Acc: 84.710 % | Historical Best: 84.710 %\n"
          ],
          "name": "stderr"
        },
        {
          "output_type": "stream",
          "text": [
            "Group 1 Finished!\n",
            "Target number of exemplars: 200\n",
            "Randomly extracting exemplars from class 0 of current split... Extracted 200 exemplars.\n",
            "Randomly extracting exemplars from class 1 of current split... Extracted 200 exemplars.\n",
            "Randomly extracting exemplars from class 2 of current split... Extracted 200 exemplars.\n",
            "Randomly extracting exemplars from class 3 of current split... Extracted 200 exemplars.\n",
            "Randomly extracting exemplars from class 4 of current split... Extracted 200 exemplars.\n",
            "Randomly extracting exemplars from class 5 of current split... Extracted 200 exemplars.\n",
            "Randomly extracting exemplars from class 6 of current split... Extracted 200 exemplars.\n",
            "Randomly extracting exemplars from class 7 of current split... Extracted 200 exemplars.\n",
            "Randomly extracting exemplars from class 8 of current split... Extracted 200 exemplars.\n",
            "Randomly extracting exemplars from class 9 of current split... Extracted 200 exemplars.\n",
            "[0.002368951612903226, 0.03954133064516129, 0.19475806451612904, 0.32915826612903226, 0.5099042338709677, 0.6436491935483871, 0.8235635080645162],[0.8359375, 0.8102678571428571, 0.7488839285714286, 0.6930803571428571, 0.4921875, 0.34933035714285715, 0.11495535714285714]\n",
            "Testing on both open and closed world\n",
            "owr harmonic mean (threshold:0.25) = 0.00472451449013949\n",
            "owr harmonic mean (threshold:0.35) = 0.07540297212795974\n",
            "owr harmonic mean (threshold:0.5) = 0.30912398037435235\n",
            "owr harmonic mean (threshold:0.6) = 0.446340264301588\n",
            "owr harmonic mean (threshold:0.75) = 0.5008892532002113\n",
            "owr harmonic mean (threshold:0.85) = 0.4528717686088249\n",
            "owr harmonic mean (threshold:0.95) = 0.20174988635622576\n",
            "\n",
            "=============================================\n",
            "\n",
            "Length of exemplars set: 2000\n"
          ],
          "name": "stdout"
        },
        {
          "output_type": "stream",
          "text": [
            "2021-07-13 11:52:40,845 - INFO: lr: 0.10000 | Epoch: 000 | Batch: 000 | Loss: 4.59266 | Correct: 12/128\n"
          ],
          "name": "stderr"
        },
        {
          "output_type": "stream",
          "text": [
            "None\n"
          ],
          "name": "stdout"
        },
        {
          "output_type": "stream",
          "text": [
            "2021-07-13 11:52:56,151 - INFO: lr: 0.09875 | Epoch: 001 | Batch: 000 | Loss: 2.58613 | Correct: 24/128\n"
          ],
          "name": "stderr"
        },
        {
          "output_type": "stream",
          "text": [
            "None\n"
          ],
          "name": "stdout"
        },
        {
          "output_type": "stream",
          "text": [
            "2021-07-13 11:53:11,551 - INFO: lr: 0.09505 | Epoch: 002 | Batch: 000 | Loss: 2.29354 | Correct: 38/128\n"
          ],
          "name": "stderr"
        },
        {
          "output_type": "stream",
          "text": [
            "None\n"
          ],
          "name": "stdout"
        },
        {
          "output_type": "stream",
          "text": [
            "2021-07-13 11:53:26,943 - INFO: lr: 0.08909 | Epoch: 003 | Batch: 000 | Loss: 2.12655 | Correct: 34/128\n"
          ],
          "name": "stderr"
        },
        {
          "output_type": "stream",
          "text": [
            "None\n"
          ],
          "name": "stdout"
        },
        {
          "output_type": "stream",
          "text": [
            "2021-07-13 11:53:42,315 - INFO: lr: 0.08117 | Epoch: 004 | Batch: 000 | Loss: 1.93623 | Correct: 55/128\n"
          ],
          "name": "stderr"
        },
        {
          "output_type": "stream",
          "text": [
            "None\n"
          ],
          "name": "stdout"
        },
        {
          "output_type": "stream",
          "text": [
            "2021-07-13 11:53:57,641 - INFO: lr: 0.07169 | Epoch: 005 | Batch: 000 | Loss: 1.76554 | Correct: 60/128\n"
          ],
          "name": "stderr"
        },
        {
          "output_type": "stream",
          "text": [
            "None\n"
          ],
          "name": "stdout"
        },
        {
          "output_type": "stream",
          "text": [
            "2021-07-13 11:54:13,002 - INFO: lr: 0.06113 | Epoch: 006 | Batch: 000 | Loss: 1.64255 | Correct: 59/128\n"
          ],
          "name": "stderr"
        },
        {
          "output_type": "stream",
          "text": [
            "None\n"
          ],
          "name": "stdout"
        },
        {
          "output_type": "stream",
          "text": [
            "2021-07-13 11:54:28,374 - INFO: lr: 0.05000 | Epoch: 007 | Batch: 000 | Loss: 1.49153 | Correct: 67/128\n"
          ],
          "name": "stderr"
        },
        {
          "output_type": "stream",
          "text": [
            "None\n"
          ],
          "name": "stdout"
        },
        {
          "output_type": "stream",
          "text": [
            "2021-07-13 11:54:43,715 - INFO: lr: 0.03887 | Epoch: 008 | Batch: 000 | Loss: 1.37032 | Correct: 75/128\n"
          ],
          "name": "stderr"
        },
        {
          "output_type": "stream",
          "text": [
            "None\n"
          ],
          "name": "stdout"
        },
        {
          "output_type": "stream",
          "text": [
            "2021-07-13 11:54:59,091 - INFO: lr: 0.02831 | Epoch: 009 | Batch: 000 | Loss: 1.35076 | Correct: 72/128\n"
          ],
          "name": "stderr"
        },
        {
          "output_type": "stream",
          "text": [
            "None\n"
          ],
          "name": "stdout"
        },
        {
          "output_type": "stream",
          "text": [
            "2021-07-13 11:55:14,461 - INFO: lr: 0.01883 | Epoch: 010 | Batch: 000 | Loss: 1.19754 | Correct: 79/128\n"
          ],
          "name": "stderr"
        },
        {
          "output_type": "stream",
          "text": [
            "None\n"
          ],
          "name": "stdout"
        },
        {
          "output_type": "stream",
          "text": [
            "2021-07-13 11:55:29,834 - INFO: lr: 0.01091 | Epoch: 011 | Batch: 000 | Loss: 1.48185 | Correct: 68/128\n"
          ],
          "name": "stderr"
        },
        {
          "output_type": "stream",
          "text": [
            "None\n"
          ],
          "name": "stdout"
        },
        {
          "output_type": "stream",
          "text": [
            "2021-07-13 11:55:45,217 - INFO: lr: 0.00495 | Epoch: 012 | Batch: 000 | Loss: 0.98469 | Correct: 88/128\n"
          ],
          "name": "stderr"
        },
        {
          "output_type": "stream",
          "text": [
            "None\n"
          ],
          "name": "stdout"
        },
        {
          "output_type": "stream",
          "text": [
            "2021-07-13 11:56:00,583 - INFO: lr: 0.00125 | Epoch: 013 | Batch: 000 | Loss: 1.21418 | Correct: 80/128\n"
          ],
          "name": "stderr"
        },
        {
          "output_type": "stream",
          "text": [
            "None\n"
          ],
          "name": "stdout"
        },
        {
          "output_type": "stream",
          "text": [
            "2021-07-13 11:56:15,222 - INFO: Save the snapshot model with index: 0\n",
            "2021-07-13 11:56:15,869 - INFO: n_estimators: 1 | Validation Acc: 66.853 % | Historical Best: 66.853 %\n",
            "2021-07-13 11:56:16,627 - INFO: lr: 0.10000 | Epoch: 014 | Batch: 000 | Loss: 1.02632 | Correct: 84/128\n"
          ],
          "name": "stderr"
        },
        {
          "output_type": "stream",
          "text": [
            "None\n"
          ],
          "name": "stdout"
        },
        {
          "output_type": "stream",
          "text": [
            "2021-07-13 11:56:31,990 - INFO: lr: 0.09875 | Epoch: 015 | Batch: 000 | Loss: 1.60058 | Correct: 65/128\n"
          ],
          "name": "stderr"
        },
        {
          "output_type": "stream",
          "text": [
            "None\n"
          ],
          "name": "stdout"
        },
        {
          "output_type": "stream",
          "text": [
            "2021-07-13 11:56:47,321 - INFO: lr: 0.09505 | Epoch: 016 | Batch: 000 | Loss: 1.25691 | Correct: 72/128\n"
          ],
          "name": "stderr"
        },
        {
          "output_type": "stream",
          "text": [
            "None\n"
          ],
          "name": "stdout"
        },
        {
          "output_type": "stream",
          "text": [
            "2021-07-13 11:57:02,701 - INFO: lr: 0.08909 | Epoch: 017 | Batch: 000 | Loss: 1.13247 | Correct: 77/128\n"
          ],
          "name": "stderr"
        },
        {
          "output_type": "stream",
          "text": [
            "None\n"
          ],
          "name": "stdout"
        },
        {
          "output_type": "stream",
          "text": [
            "2021-07-13 11:57:18,086 - INFO: lr: 0.08117 | Epoch: 018 | Batch: 000 | Loss: 1.21457 | Correct: 83/128\n"
          ],
          "name": "stderr"
        },
        {
          "output_type": "stream",
          "text": [
            "None\n"
          ],
          "name": "stdout"
        },
        {
          "output_type": "stream",
          "text": [
            "2021-07-13 11:57:33,454 - INFO: lr: 0.07169 | Epoch: 019 | Batch: 000 | Loss: 1.12271 | Correct: 82/128\n"
          ],
          "name": "stderr"
        },
        {
          "output_type": "stream",
          "text": [
            "None\n"
          ],
          "name": "stdout"
        },
        {
          "output_type": "stream",
          "text": [
            "2021-07-13 11:57:48,817 - INFO: lr: 0.06113 | Epoch: 020 | Batch: 000 | Loss: 1.08970 | Correct: 85/128\n"
          ],
          "name": "stderr"
        },
        {
          "output_type": "stream",
          "text": [
            "None\n"
          ],
          "name": "stdout"
        },
        {
          "output_type": "stream",
          "text": [
            "2021-07-13 11:58:04,228 - INFO: lr: 0.05000 | Epoch: 021 | Batch: 000 | Loss: 0.91150 | Correct: 89/128\n"
          ],
          "name": "stderr"
        },
        {
          "output_type": "stream",
          "text": [
            "None\n"
          ],
          "name": "stdout"
        },
        {
          "output_type": "stream",
          "text": [
            "2021-07-13 11:58:19,524 - INFO: lr: 0.03887 | Epoch: 022 | Batch: 000 | Loss: 0.87259 | Correct: 94/128\n"
          ],
          "name": "stderr"
        },
        {
          "output_type": "stream",
          "text": [
            "None\n"
          ],
          "name": "stdout"
        },
        {
          "output_type": "stream",
          "text": [
            "2021-07-13 11:58:34,818 - INFO: lr: 0.02831 | Epoch: 023 | Batch: 000 | Loss: 0.62340 | Correct: 101/128\n"
          ],
          "name": "stderr"
        },
        {
          "output_type": "stream",
          "text": [
            "None\n"
          ],
          "name": "stdout"
        },
        {
          "output_type": "stream",
          "text": [
            "2021-07-13 11:58:50,128 - INFO: lr: 0.01883 | Epoch: 024 | Batch: 000 | Loss: 0.72467 | Correct: 95/128\n"
          ],
          "name": "stderr"
        },
        {
          "output_type": "stream",
          "text": [
            "None\n"
          ],
          "name": "stdout"
        },
        {
          "output_type": "stream",
          "text": [
            "2021-07-13 11:59:05,506 - INFO: lr: 0.01091 | Epoch: 025 | Batch: 000 | Loss: 0.67283 | Correct: 100/128\n"
          ],
          "name": "stderr"
        },
        {
          "output_type": "stream",
          "text": [
            "None\n"
          ],
          "name": "stdout"
        },
        {
          "output_type": "stream",
          "text": [
            "2021-07-13 11:59:20,866 - INFO: lr: 0.00495 | Epoch: 026 | Batch: 000 | Loss: 0.64804 | Correct: 98/128\n"
          ],
          "name": "stderr"
        },
        {
          "output_type": "stream",
          "text": [
            "None\n"
          ],
          "name": "stdout"
        },
        {
          "output_type": "stream",
          "text": [
            "2021-07-13 11:59:36,188 - INFO: lr: 0.00125 | Epoch: 027 | Batch: 000 | Loss: 0.73754 | Correct: 96/128\n"
          ],
          "name": "stderr"
        },
        {
          "output_type": "stream",
          "text": [
            "None\n"
          ],
          "name": "stdout"
        },
        {
          "output_type": "stream",
          "text": [
            "2021-07-13 11:59:50,804 - INFO: Save the snapshot model with index: 1\n",
            "2021-07-13 11:59:51,554 - INFO: n_estimators: 2 | Validation Acc: 74.665 % | Historical Best: 74.665 %\n",
            "2021-07-13 11:59:52,309 - INFO: lr: 0.10000 | Epoch: 028 | Batch: 000 | Loss: 0.80154 | Correct: 102/128\n"
          ],
          "name": "stderr"
        },
        {
          "output_type": "stream",
          "text": [
            "None\n"
          ],
          "name": "stdout"
        },
        {
          "output_type": "stream",
          "text": [
            "2021-07-13 12:00:07,632 - INFO: lr: 0.09875 | Epoch: 029 | Batch: 000 | Loss: 1.17882 | Correct: 78/128\n"
          ],
          "name": "stderr"
        },
        {
          "output_type": "stream",
          "text": [
            "None\n"
          ],
          "name": "stdout"
        },
        {
          "output_type": "stream",
          "text": [
            "2021-07-13 12:00:22,975 - INFO: lr: 0.09505 | Epoch: 030 | Batch: 000 | Loss: 0.92554 | Correct: 90/128\n"
          ],
          "name": "stderr"
        },
        {
          "output_type": "stream",
          "text": [
            "None\n"
          ],
          "name": "stdout"
        },
        {
          "output_type": "stream",
          "text": [
            "2021-07-13 12:00:38,350 - INFO: lr: 0.08909 | Epoch: 031 | Batch: 000 | Loss: 0.96996 | Correct: 91/128\n"
          ],
          "name": "stderr"
        },
        {
          "output_type": "stream",
          "text": [
            "None\n"
          ],
          "name": "stdout"
        },
        {
          "output_type": "stream",
          "text": [
            "2021-07-13 12:00:53,721 - INFO: lr: 0.08117 | Epoch: 032 | Batch: 000 | Loss: 0.87561 | Correct: 91/128\n"
          ],
          "name": "stderr"
        },
        {
          "output_type": "stream",
          "text": [
            "None\n"
          ],
          "name": "stdout"
        },
        {
          "output_type": "stream",
          "text": [
            "2021-07-13 12:01:09,124 - INFO: lr: 0.07169 | Epoch: 033 | Batch: 000 | Loss: 0.90708 | Correct: 96/128\n"
          ],
          "name": "stderr"
        },
        {
          "output_type": "stream",
          "text": [
            "None\n"
          ],
          "name": "stdout"
        },
        {
          "output_type": "stream",
          "text": [
            "2021-07-13 12:01:24,504 - INFO: lr: 0.06113 | Epoch: 034 | Batch: 000 | Loss: 0.72285 | Correct: 100/128\n"
          ],
          "name": "stderr"
        },
        {
          "output_type": "stream",
          "text": [
            "None\n"
          ],
          "name": "stdout"
        },
        {
          "output_type": "stream",
          "text": [
            "2021-07-13 12:01:39,879 - INFO: lr: 0.05000 | Epoch: 035 | Batch: 000 | Loss: 0.71375 | Correct: 104/128\n"
          ],
          "name": "stderr"
        },
        {
          "output_type": "stream",
          "text": [
            "None\n"
          ],
          "name": "stdout"
        },
        {
          "output_type": "stream",
          "text": [
            "2021-07-13 12:01:55,211 - INFO: lr: 0.03887 | Epoch: 036 | Batch: 000 | Loss: 0.73246 | Correct: 96/128\n"
          ],
          "name": "stderr"
        },
        {
          "output_type": "stream",
          "text": [
            "None\n"
          ],
          "name": "stdout"
        },
        {
          "output_type": "stream",
          "text": [
            "2021-07-13 12:02:10,552 - INFO: lr: 0.02831 | Epoch: 037 | Batch: 000 | Loss: 0.48363 | Correct: 108/128\n"
          ],
          "name": "stderr"
        },
        {
          "output_type": "stream",
          "text": [
            "None\n"
          ],
          "name": "stdout"
        },
        {
          "output_type": "stream",
          "text": [
            "2021-07-13 12:02:25,886 - INFO: lr: 0.01883 | Epoch: 038 | Batch: 000 | Loss: 0.50702 | Correct: 110/128\n"
          ],
          "name": "stderr"
        },
        {
          "output_type": "stream",
          "text": [
            "None\n"
          ],
          "name": "stdout"
        },
        {
          "output_type": "stream",
          "text": [
            "2021-07-13 12:02:41,267 - INFO: lr: 0.01091 | Epoch: 039 | Batch: 000 | Loss: 0.42098 | Correct: 112/128\n"
          ],
          "name": "stderr"
        },
        {
          "output_type": "stream",
          "text": [
            "None\n"
          ],
          "name": "stdout"
        },
        {
          "output_type": "stream",
          "text": [
            "2021-07-13 12:02:56,576 - INFO: lr: 0.00495 | Epoch: 040 | Batch: 000 | Loss: 0.54573 | Correct: 102/128\n"
          ],
          "name": "stderr"
        },
        {
          "output_type": "stream",
          "text": [
            "None\n"
          ],
          "name": "stdout"
        },
        {
          "output_type": "stream",
          "text": [
            "2021-07-13 12:03:11,982 - INFO: lr: 0.00125 | Epoch: 041 | Batch: 000 | Loss: 0.40682 | Correct: 109/128\n"
          ],
          "name": "stderr"
        },
        {
          "output_type": "stream",
          "text": [
            "None\n"
          ],
          "name": "stdout"
        },
        {
          "output_type": "stream",
          "text": [
            "2021-07-13 12:03:26,655 - INFO: Save the snapshot model with index: 2\n",
            "2021-07-13 12:03:27,502 - INFO: n_estimators: 3 | Validation Acc: 76.674 % | Historical Best: 76.674 %\n",
            "2021-07-13 12:03:28,250 - INFO: lr: 0.10000 | Epoch: 042 | Batch: 000 | Loss: 0.48807 | Correct: 105/128\n"
          ],
          "name": "stderr"
        },
        {
          "output_type": "stream",
          "text": [
            "None\n"
          ],
          "name": "stdout"
        },
        {
          "output_type": "stream",
          "text": [
            "2021-07-13 12:03:43,670 - INFO: lr: 0.09875 | Epoch: 043 | Batch: 000 | Loss: 0.71360 | Correct: 102/128\n"
          ],
          "name": "stderr"
        },
        {
          "output_type": "stream",
          "text": [
            "None\n"
          ],
          "name": "stdout"
        },
        {
          "output_type": "stream",
          "text": [
            "2021-07-13 12:03:59,054 - INFO: lr: 0.09505 | Epoch: 044 | Batch: 000 | Loss: 0.83253 | Correct: 91/128\n"
          ],
          "name": "stderr"
        },
        {
          "output_type": "stream",
          "text": [
            "None\n"
          ],
          "name": "stdout"
        },
        {
          "output_type": "stream",
          "text": [
            "2021-07-13 12:04:14,430 - INFO: lr: 0.08909 | Epoch: 045 | Batch: 000 | Loss: 0.67303 | Correct: 98/128\n"
          ],
          "name": "stderr"
        },
        {
          "output_type": "stream",
          "text": [
            "None\n"
          ],
          "name": "stdout"
        },
        {
          "output_type": "stream",
          "text": [
            "2021-07-13 12:04:29,836 - INFO: lr: 0.08117 | Epoch: 046 | Batch: 000 | Loss: 0.61174 | Correct: 111/128\n"
          ],
          "name": "stderr"
        },
        {
          "output_type": "stream",
          "text": [
            "None\n"
          ],
          "name": "stdout"
        },
        {
          "output_type": "stream",
          "text": [
            "2021-07-13 12:04:45,232 - INFO: lr: 0.07169 | Epoch: 047 | Batch: 000 | Loss: 0.60130 | Correct: 108/128\n"
          ],
          "name": "stderr"
        },
        {
          "output_type": "stream",
          "text": [
            "None\n"
          ],
          "name": "stdout"
        },
        {
          "output_type": "stream",
          "text": [
            "2021-07-13 12:05:00,611 - INFO: lr: 0.06113 | Epoch: 048 | Batch: 000 | Loss: 0.50722 | Correct: 108/128\n"
          ],
          "name": "stderr"
        },
        {
          "output_type": "stream",
          "text": [
            "None\n"
          ],
          "name": "stdout"
        },
        {
          "output_type": "stream",
          "text": [
            "2021-07-13 12:05:16,047 - INFO: lr: 0.05000 | Epoch: 049 | Batch: 000 | Loss: 0.36375 | Correct: 109/128\n"
          ],
          "name": "stderr"
        },
        {
          "output_type": "stream",
          "text": [
            "None\n"
          ],
          "name": "stdout"
        },
        {
          "output_type": "stream",
          "text": [
            "2021-07-13 12:05:31,508 - INFO: lr: 0.03887 | Epoch: 050 | Batch: 000 | Loss: 0.43968 | Correct: 107/128\n"
          ],
          "name": "stderr"
        },
        {
          "output_type": "stream",
          "text": [
            "None\n"
          ],
          "name": "stdout"
        },
        {
          "output_type": "stream",
          "text": [
            "2021-07-13 12:05:46,861 - INFO: lr: 0.02831 | Epoch: 051 | Batch: 000 | Loss: 0.34758 | Correct: 113/128\n"
          ],
          "name": "stderr"
        },
        {
          "output_type": "stream",
          "text": [
            "None\n"
          ],
          "name": "stdout"
        },
        {
          "output_type": "stream",
          "text": [
            "2021-07-13 12:06:02,219 - INFO: lr: 0.01883 | Epoch: 052 | Batch: 000 | Loss: 0.32167 | Correct: 113/128\n"
          ],
          "name": "stderr"
        },
        {
          "output_type": "stream",
          "text": [
            "None\n"
          ],
          "name": "stdout"
        },
        {
          "output_type": "stream",
          "text": [
            "2021-07-13 12:06:17,610 - INFO: lr: 0.01091 | Epoch: 053 | Batch: 000 | Loss: 0.19482 | Correct: 121/128\n"
          ],
          "name": "stderr"
        },
        {
          "output_type": "stream",
          "text": [
            "None\n"
          ],
          "name": "stdout"
        },
        {
          "output_type": "stream",
          "text": [
            "2021-07-13 12:06:33,007 - INFO: lr: 0.00495 | Epoch: 054 | Batch: 000 | Loss: 0.22548 | Correct: 119/128\n"
          ],
          "name": "stderr"
        },
        {
          "output_type": "stream",
          "text": [
            "None\n"
          ],
          "name": "stdout"
        },
        {
          "output_type": "stream",
          "text": [
            "2021-07-13 12:06:48,387 - INFO: lr: 0.00125 | Epoch: 055 | Batch: 000 | Loss: 0.20860 | Correct: 121/128\n"
          ],
          "name": "stderr"
        },
        {
          "output_type": "stream",
          "text": [
            "None\n"
          ],
          "name": "stdout"
        },
        {
          "output_type": "stream",
          "text": [
            "2021-07-13 12:07:03,080 - INFO: Save the snapshot model with index: 3\n",
            "2021-07-13 12:07:04,058 - INFO: n_estimators: 4 | Validation Acc: 79.129 % | Historical Best: 79.129 %\n",
            "2021-07-13 12:07:04,796 - INFO: lr: 0.10000 | Epoch: 056 | Batch: 000 | Loss: 0.15216 | Correct: 126/128\n"
          ],
          "name": "stderr"
        },
        {
          "output_type": "stream",
          "text": [
            "None\n"
          ],
          "name": "stdout"
        },
        {
          "output_type": "stream",
          "text": [
            "2021-07-13 12:07:20,184 - INFO: lr: 0.09875 | Epoch: 057 | Batch: 000 | Loss: 0.52892 | Correct: 107/128\n"
          ],
          "name": "stderr"
        },
        {
          "output_type": "stream",
          "text": [
            "None\n"
          ],
          "name": "stdout"
        },
        {
          "output_type": "stream",
          "text": [
            "2021-07-13 12:07:35,593 - INFO: lr: 0.09505 | Epoch: 058 | Batch: 000 | Loss: 0.76482 | Correct: 94/128\n"
          ],
          "name": "stderr"
        },
        {
          "output_type": "stream",
          "text": [
            "None\n"
          ],
          "name": "stdout"
        },
        {
          "output_type": "stream",
          "text": [
            "2021-07-13 12:07:50,963 - INFO: lr: 0.08909 | Epoch: 059 | Batch: 000 | Loss: 0.64667 | Correct: 105/128\n"
          ],
          "name": "stderr"
        },
        {
          "output_type": "stream",
          "text": [
            "None\n"
          ],
          "name": "stdout"
        },
        {
          "output_type": "stream",
          "text": [
            "2021-07-13 12:08:06,353 - INFO: lr: 0.08117 | Epoch: 060 | Batch: 000 | Loss: 0.34966 | Correct: 110/128\n"
          ],
          "name": "stderr"
        },
        {
          "output_type": "stream",
          "text": [
            "None\n"
          ],
          "name": "stdout"
        },
        {
          "output_type": "stream",
          "text": [
            "2021-07-13 12:08:21,749 - INFO: lr: 0.07169 | Epoch: 061 | Batch: 000 | Loss: 0.42438 | Correct: 109/128\n"
          ],
          "name": "stderr"
        },
        {
          "output_type": "stream",
          "text": [
            "None\n"
          ],
          "name": "stdout"
        },
        {
          "output_type": "stream",
          "text": [
            "2021-07-13 12:08:37,082 - INFO: lr: 0.06113 | Epoch: 062 | Batch: 000 | Loss: 0.38094 | Correct: 109/128\n"
          ],
          "name": "stderr"
        },
        {
          "output_type": "stream",
          "text": [
            "None\n"
          ],
          "name": "stdout"
        },
        {
          "output_type": "stream",
          "text": [
            "2021-07-13 12:08:52,406 - INFO: lr: 0.05000 | Epoch: 063 | Batch: 000 | Loss: 0.23813 | Correct: 121/128\n"
          ],
          "name": "stderr"
        },
        {
          "output_type": "stream",
          "text": [
            "None\n"
          ],
          "name": "stdout"
        },
        {
          "output_type": "stream",
          "text": [
            "2021-07-13 12:09:07,745 - INFO: lr: 0.03887 | Epoch: 064 | Batch: 000 | Loss: 0.20629 | Correct: 119/128\n"
          ],
          "name": "stderr"
        },
        {
          "output_type": "stream",
          "text": [
            "None\n"
          ],
          "name": "stdout"
        },
        {
          "output_type": "stream",
          "text": [
            "2021-07-13 12:09:23,147 - INFO: lr: 0.02831 | Epoch: 065 | Batch: 000 | Loss: 0.23137 | Correct: 118/128\n"
          ],
          "name": "stderr"
        },
        {
          "output_type": "stream",
          "text": [
            "None\n"
          ],
          "name": "stdout"
        },
        {
          "output_type": "stream",
          "text": [
            "2021-07-13 12:09:38,475 - INFO: lr: 0.01883 | Epoch: 066 | Batch: 000 | Loss: 0.15951 | Correct: 123/128\n"
          ],
          "name": "stderr"
        },
        {
          "output_type": "stream",
          "text": [
            "None\n"
          ],
          "name": "stdout"
        },
        {
          "output_type": "stream",
          "text": [
            "2021-07-13 12:09:53,836 - INFO: lr: 0.01091 | Epoch: 067 | Batch: 000 | Loss: 0.11895 | Correct: 123/128\n"
          ],
          "name": "stderr"
        },
        {
          "output_type": "stream",
          "text": [
            "None\n"
          ],
          "name": "stdout"
        },
        {
          "output_type": "stream",
          "text": [
            "2021-07-13 12:10:09,159 - INFO: lr: 0.00495 | Epoch: 068 | Batch: 000 | Loss: 0.09958 | Correct: 126/128\n"
          ],
          "name": "stderr"
        },
        {
          "output_type": "stream",
          "text": [
            "None\n"
          ],
          "name": "stdout"
        },
        {
          "output_type": "stream",
          "text": [
            "2021-07-13 12:10:24,451 - INFO: lr: 0.00125 | Epoch: 069 | Batch: 000 | Loss: 0.17435 | Correct: 121/128\n"
          ],
          "name": "stderr"
        },
        {
          "output_type": "stream",
          "text": [
            "None\n"
          ],
          "name": "stdout"
        },
        {
          "output_type": "stream",
          "text": [
            "2021-07-13 12:10:39,091 - INFO: Save the snapshot model with index: 4\n",
            "2021-07-13 12:10:40,150 - INFO: n_estimators: 5 | Validation Acc: 80.692 % | Historical Best: 80.692 %\n"
          ],
          "name": "stderr"
        },
        {
          "output_type": "stream",
          "text": [
            "Group 2 Finished!\n",
            "Target number of exemplars: 100\n",
            "Randomly extracting exemplars from class 0 of current split... Extracted 100 exemplars.\n",
            "Randomly extracting exemplars from class 1 of current split... Extracted 100 exemplars.\n",
            "Randomly extracting exemplars from class 2 of current split... Extracted 100 exemplars.\n",
            "Randomly extracting exemplars from class 3 of current split... Extracted 100 exemplars.\n",
            "Randomly extracting exemplars from class 4 of current split... Extracted 100 exemplars.\n",
            "Randomly extracting exemplars from class 5 of current split... Extracted 100 exemplars.\n",
            "Randomly extracting exemplars from class 6 of current split... Extracted 100 exemplars.\n",
            "Randomly extracting exemplars from class 7 of current split... Extracted 100 exemplars.\n",
            "Randomly extracting exemplars from class 8 of current split... Extracted 100 exemplars.\n",
            "Randomly extracting exemplars from class 9 of current split... Extracted 100 exemplars.\n",
            "[0.012373991935483872, 0.08240927419354839, 0.24601814516129034, 0.36496975806451615, 0.5324596774193548, 0.645766129032258, 0.7838961693548387],[0.7015625, 0.6729166666666667, 0.5994791666666667, 0.5416666666666666, 0.4036458333333333, 0.2916666666666667, 0.16510416666666666]\n",
            "Testing on both open and closed world\n",
            "owr harmonic mean (threshold:0.25) = 0.02431905026651135\n",
            "owr harmonic mean (threshold:0.35) = 0.14683614342594037\n",
            "owr harmonic mean (threshold:0.5) = 0.3488662839798109\n",
            "owr harmonic mean (threshold:0.6) = 0.43609973500361354\n",
            "owr harmonic mean (threshold:0.75) = 0.4591899689502306\n",
            "owr harmonic mean (threshold:0.85) = 0.40183884149401394\n",
            "owr harmonic mean (threshold:0.95) = 0.2727597006700953\n",
            "\n",
            "=============================================\n",
            "\n",
            "Length of exemplars set: 2000\n"
          ],
          "name": "stdout"
        },
        {
          "output_type": "stream",
          "text": [
            "2021-07-13 12:11:16,545 - INFO: lr: 0.10000 | Epoch: 000 | Batch: 000 | Loss: 4.57204 | Correct: 2/128\n"
          ],
          "name": "stderr"
        },
        {
          "output_type": "stream",
          "text": [
            "None\n"
          ],
          "name": "stdout"
        },
        {
          "output_type": "stream",
          "text": [
            "2021-07-13 12:11:32,178 - INFO: lr: 0.09875 | Epoch: 001 | Batch: 000 | Loss: 2.44543 | Correct: 33/128\n"
          ],
          "name": "stderr"
        },
        {
          "output_type": "stream",
          "text": [
            "None\n"
          ],
          "name": "stdout"
        },
        {
          "output_type": "stream",
          "text": [
            "2021-07-13 12:11:47,825 - INFO: lr: 0.09505 | Epoch: 002 | Batch: 000 | Loss: 2.48981 | Correct: 41/128\n"
          ],
          "name": "stderr"
        },
        {
          "output_type": "stream",
          "text": [
            "None\n"
          ],
          "name": "stdout"
        },
        {
          "output_type": "stream",
          "text": [
            "2021-07-13 12:12:03,519 - INFO: lr: 0.08909 | Epoch: 003 | Batch: 000 | Loss: 2.24985 | Correct: 43/128\n"
          ],
          "name": "stderr"
        },
        {
          "output_type": "stream",
          "text": [
            "None\n"
          ],
          "name": "stdout"
        },
        {
          "output_type": "stream",
          "text": [
            "2021-07-13 12:12:19,195 - INFO: lr: 0.08117 | Epoch: 004 | Batch: 000 | Loss: 2.16623 | Correct: 45/128\n"
          ],
          "name": "stderr"
        },
        {
          "output_type": "stream",
          "text": [
            "None\n"
          ],
          "name": "stdout"
        },
        {
          "output_type": "stream",
          "text": [
            "2021-07-13 12:12:34,890 - INFO: lr: 0.07169 | Epoch: 005 | Batch: 000 | Loss: 2.16871 | Correct: 40/128\n"
          ],
          "name": "stderr"
        },
        {
          "output_type": "stream",
          "text": [
            "None\n"
          ],
          "name": "stdout"
        },
        {
          "output_type": "stream",
          "text": [
            "2021-07-13 12:12:50,589 - INFO: lr: 0.06113 | Epoch: 006 | Batch: 000 | Loss: 1.78171 | Correct: 61/128\n"
          ],
          "name": "stderr"
        },
        {
          "output_type": "stream",
          "text": [
            "None\n"
          ],
          "name": "stdout"
        },
        {
          "output_type": "stream",
          "text": [
            "2021-07-13 12:13:06,291 - INFO: lr: 0.05000 | Epoch: 007 | Batch: 000 | Loss: 1.79569 | Correct: 65/128\n"
          ],
          "name": "stderr"
        },
        {
          "output_type": "stream",
          "text": [
            "None\n"
          ],
          "name": "stdout"
        },
        {
          "output_type": "stream",
          "text": [
            "2021-07-13 12:13:21,977 - INFO: lr: 0.03887 | Epoch: 008 | Batch: 000 | Loss: 1.83928 | Correct: 60/128\n"
          ],
          "name": "stderr"
        },
        {
          "output_type": "stream",
          "text": [
            "None\n"
          ],
          "name": "stdout"
        },
        {
          "output_type": "stream",
          "text": [
            "2021-07-13 12:13:37,645 - INFO: lr: 0.02831 | Epoch: 009 | Batch: 000 | Loss: 1.71438 | Correct: 62/128\n"
          ],
          "name": "stderr"
        },
        {
          "output_type": "stream",
          "text": [
            "None\n"
          ],
          "name": "stdout"
        },
        {
          "output_type": "stream",
          "text": [
            "2021-07-13 12:13:53,312 - INFO: lr: 0.01883 | Epoch: 010 | Batch: 000 | Loss: 1.46530 | Correct: 75/128\n"
          ],
          "name": "stderr"
        },
        {
          "output_type": "stream",
          "text": [
            "None\n"
          ],
          "name": "stdout"
        },
        {
          "output_type": "stream",
          "text": [
            "2021-07-13 12:14:09,020 - INFO: lr: 0.01091 | Epoch: 011 | Batch: 000 | Loss: 1.43998 | Correct: 75/128\n"
          ],
          "name": "stderr"
        },
        {
          "output_type": "stream",
          "text": [
            "None\n"
          ],
          "name": "stdout"
        },
        {
          "output_type": "stream",
          "text": [
            "2021-07-13 12:14:24,632 - INFO: lr: 0.00495 | Epoch: 012 | Batch: 000 | Loss: 1.26512 | Correct: 81/128\n"
          ],
          "name": "stderr"
        },
        {
          "output_type": "stream",
          "text": [
            "None\n"
          ],
          "name": "stdout"
        },
        {
          "output_type": "stream",
          "text": [
            "2021-07-13 12:14:40,325 - INFO: lr: 0.00125 | Epoch: 013 | Batch: 000 | Loss: 1.32434 | Correct: 80/128\n"
          ],
          "name": "stderr"
        },
        {
          "output_type": "stream",
          "text": [
            "None\n"
          ],
          "name": "stdout"
        },
        {
          "output_type": "stream",
          "text": [
            "2021-07-13 12:14:55,249 - INFO: Save the snapshot model with index: 0\n",
            "2021-07-13 12:14:55,877 - INFO: n_estimators: 1 | Validation Acc: 67.076 % | Historical Best: 67.076 %\n",
            "2021-07-13 12:14:56,660 - INFO: lr: 0.10000 | Epoch: 014 | Batch: 000 | Loss: 1.33502 | Correct: 74/128\n"
          ],
          "name": "stderr"
        },
        {
          "output_type": "stream",
          "text": [
            "None\n"
          ],
          "name": "stdout"
        },
        {
          "output_type": "stream",
          "text": [
            "2021-07-13 12:15:12,376 - INFO: lr: 0.09875 | Epoch: 015 | Batch: 000 | Loss: 1.52140 | Correct: 65/128\n"
          ],
          "name": "stderr"
        },
        {
          "output_type": "stream",
          "text": [
            "None\n"
          ],
          "name": "stdout"
        },
        {
          "output_type": "stream",
          "text": [
            "2021-07-13 12:15:28,138 - INFO: lr: 0.09505 | Epoch: 016 | Batch: 000 | Loss: 1.67741 | Correct: 64/128\n"
          ],
          "name": "stderr"
        },
        {
          "output_type": "stream",
          "text": [
            "None\n"
          ],
          "name": "stdout"
        },
        {
          "output_type": "stream",
          "text": [
            "2021-07-13 12:15:43,802 - INFO: lr: 0.08909 | Epoch: 017 | Batch: 000 | Loss: 1.43380 | Correct: 80/128\n"
          ],
          "name": "stderr"
        },
        {
          "output_type": "stream",
          "text": [
            "None\n"
          ],
          "name": "stdout"
        },
        {
          "output_type": "stream",
          "text": [
            "2021-07-13 12:15:59,475 - INFO: lr: 0.08117 | Epoch: 018 | Batch: 000 | Loss: 1.54455 | Correct: 74/128\n"
          ],
          "name": "stderr"
        },
        {
          "output_type": "stream",
          "text": [
            "None\n"
          ],
          "name": "stdout"
        },
        {
          "output_type": "stream",
          "text": [
            "2021-07-13 12:16:15,236 - INFO: lr: 0.07169 | Epoch: 019 | Batch: 000 | Loss: 1.25644 | Correct: 82/128\n"
          ],
          "name": "stderr"
        },
        {
          "output_type": "stream",
          "text": [
            "None\n"
          ],
          "name": "stdout"
        },
        {
          "output_type": "stream",
          "text": [
            "2021-07-13 12:16:30,984 - INFO: lr: 0.06113 | Epoch: 020 | Batch: 000 | Loss: 1.14930 | Correct: 81/128\n"
          ],
          "name": "stderr"
        },
        {
          "output_type": "stream",
          "text": [
            "None\n"
          ],
          "name": "stdout"
        },
        {
          "output_type": "stream",
          "text": [
            "2021-07-13 12:16:46,771 - INFO: lr: 0.05000 | Epoch: 021 | Batch: 000 | Loss: 1.02571 | Correct: 91/128\n"
          ],
          "name": "stderr"
        },
        {
          "output_type": "stream",
          "text": [
            "None\n"
          ],
          "name": "stdout"
        },
        {
          "output_type": "stream",
          "text": [
            "2021-07-13 12:17:02,551 - INFO: lr: 0.03887 | Epoch: 022 | Batch: 000 | Loss: 1.13646 | Correct: 81/128\n"
          ],
          "name": "stderr"
        },
        {
          "output_type": "stream",
          "text": [
            "None\n"
          ],
          "name": "stdout"
        },
        {
          "output_type": "stream",
          "text": [
            "2021-07-13 12:17:18,262 - INFO: lr: 0.02831 | Epoch: 023 | Batch: 000 | Loss: 0.98316 | Correct: 88/128\n"
          ],
          "name": "stderr"
        },
        {
          "output_type": "stream",
          "text": [
            "None\n"
          ],
          "name": "stdout"
        },
        {
          "output_type": "stream",
          "text": [
            "2021-07-13 12:17:33,924 - INFO: lr: 0.01883 | Epoch: 024 | Batch: 000 | Loss: 1.11196 | Correct: 86/128\n"
          ],
          "name": "stderr"
        },
        {
          "output_type": "stream",
          "text": [
            "None\n"
          ],
          "name": "stdout"
        },
        {
          "output_type": "stream",
          "text": [
            "2021-07-13 12:17:49,592 - INFO: lr: 0.01091 | Epoch: 025 | Batch: 000 | Loss: 0.91467 | Correct: 96/128\n"
          ],
          "name": "stderr"
        },
        {
          "output_type": "stream",
          "text": [
            "None\n"
          ],
          "name": "stdout"
        },
        {
          "output_type": "stream",
          "text": [
            "2021-07-13 12:18:05,271 - INFO: lr: 0.00495 | Epoch: 026 | Batch: 000 | Loss: 0.75861 | Correct: 99/128\n"
          ],
          "name": "stderr"
        },
        {
          "output_type": "stream",
          "text": [
            "None\n"
          ],
          "name": "stdout"
        },
        {
          "output_type": "stream",
          "text": [
            "2021-07-13 12:18:20,905 - INFO: lr: 0.00125 | Epoch: 027 | Batch: 000 | Loss: 0.55186 | Correct: 108/128\n"
          ],
          "name": "stderr"
        },
        {
          "output_type": "stream",
          "text": [
            "None\n"
          ],
          "name": "stdout"
        },
        {
          "output_type": "stream",
          "text": [
            "2021-07-13 12:18:35,788 - INFO: Save the snapshot model with index: 1\n",
            "2021-07-13 12:18:36,525 - INFO: n_estimators: 2 | Validation Acc: 73.326 % | Historical Best: 73.326 %\n",
            "2021-07-13 12:18:37,336 - INFO: lr: 0.10000 | Epoch: 028 | Batch: 000 | Loss: 0.61988 | Correct: 104/128\n"
          ],
          "name": "stderr"
        },
        {
          "output_type": "stream",
          "text": [
            "None\n"
          ],
          "name": "stdout"
        },
        {
          "output_type": "stream",
          "text": [
            "2021-07-13 12:18:52,996 - INFO: lr: 0.09875 | Epoch: 029 | Batch: 000 | Loss: 1.37515 | Correct: 75/128\n"
          ],
          "name": "stderr"
        },
        {
          "output_type": "stream",
          "text": [
            "None\n"
          ],
          "name": "stdout"
        },
        {
          "output_type": "stream",
          "text": [
            "2021-07-13 12:19:08,692 - INFO: lr: 0.09505 | Epoch: 030 | Batch: 000 | Loss: 1.07436 | Correct: 82/128\n"
          ],
          "name": "stderr"
        },
        {
          "output_type": "stream",
          "text": [
            "None\n"
          ],
          "name": "stdout"
        },
        {
          "output_type": "stream",
          "text": [
            "2021-07-13 12:19:24,398 - INFO: lr: 0.08909 | Epoch: 031 | Batch: 000 | Loss: 1.05224 | Correct: 84/128\n"
          ],
          "name": "stderr"
        },
        {
          "output_type": "stream",
          "text": [
            "None\n"
          ],
          "name": "stdout"
        },
        {
          "output_type": "stream",
          "text": [
            "2021-07-13 12:19:40,080 - INFO: lr: 0.08117 | Epoch: 032 | Batch: 000 | Loss: 0.77744 | Correct: 103/128\n"
          ],
          "name": "stderr"
        },
        {
          "output_type": "stream",
          "text": [
            "None\n"
          ],
          "name": "stdout"
        },
        {
          "output_type": "stream",
          "text": [
            "2021-07-13 12:19:55,695 - INFO: lr: 0.07169 | Epoch: 033 | Batch: 000 | Loss: 0.87193 | Correct: 95/128\n"
          ],
          "name": "stderr"
        },
        {
          "output_type": "stream",
          "text": [
            "None\n"
          ],
          "name": "stdout"
        },
        {
          "output_type": "stream",
          "text": [
            "2021-07-13 12:20:11,324 - INFO: lr: 0.06113 | Epoch: 034 | Batch: 000 | Loss: 0.73477 | Correct: 97/128\n"
          ],
          "name": "stderr"
        },
        {
          "output_type": "stream",
          "text": [
            "None\n"
          ],
          "name": "stdout"
        },
        {
          "output_type": "stream",
          "text": [
            "2021-07-13 12:20:26,999 - INFO: lr: 0.05000 | Epoch: 035 | Batch: 000 | Loss: 0.79640 | Correct: 96/128\n"
          ],
          "name": "stderr"
        },
        {
          "output_type": "stream",
          "text": [
            "None\n"
          ],
          "name": "stdout"
        },
        {
          "output_type": "stream",
          "text": [
            "2021-07-13 12:20:42,650 - INFO: lr: 0.03887 | Epoch: 036 | Batch: 000 | Loss: 0.55298 | Correct: 107/128\n"
          ],
          "name": "stderr"
        },
        {
          "output_type": "stream",
          "text": [
            "None\n"
          ],
          "name": "stdout"
        },
        {
          "output_type": "stream",
          "text": [
            "2021-07-13 12:20:58,316 - INFO: lr: 0.02831 | Epoch: 037 | Batch: 000 | Loss: 0.53932 | Correct: 107/128\n"
          ],
          "name": "stderr"
        },
        {
          "output_type": "stream",
          "text": [
            "None\n"
          ],
          "name": "stdout"
        },
        {
          "output_type": "stream",
          "text": [
            "2021-07-13 12:21:13,955 - INFO: lr: 0.01883 | Epoch: 038 | Batch: 000 | Loss: 0.39860 | Correct: 113/128\n"
          ],
          "name": "stderr"
        },
        {
          "output_type": "stream",
          "text": [
            "None\n"
          ],
          "name": "stdout"
        },
        {
          "output_type": "stream",
          "text": [
            "2021-07-13 12:21:29,613 - INFO: lr: 0.01091 | Epoch: 039 | Batch: 000 | Loss: 0.50434 | Correct: 103/128\n"
          ],
          "name": "stderr"
        },
        {
          "output_type": "stream",
          "text": [
            "None\n"
          ],
          "name": "stdout"
        },
        {
          "output_type": "stream",
          "text": [
            "2021-07-13 12:21:45,259 - INFO: lr: 0.00495 | Epoch: 040 | Batch: 000 | Loss: 0.37945 | Correct: 113/128\n"
          ],
          "name": "stderr"
        },
        {
          "output_type": "stream",
          "text": [
            "None\n"
          ],
          "name": "stdout"
        },
        {
          "output_type": "stream",
          "text": [
            "2021-07-13 12:22:00,972 - INFO: lr: 0.00125 | Epoch: 041 | Batch: 000 | Loss: 0.41570 | Correct: 114/128\n"
          ],
          "name": "stderr"
        },
        {
          "output_type": "stream",
          "text": [
            "None\n"
          ],
          "name": "stdout"
        },
        {
          "output_type": "stream",
          "text": [
            "2021-07-13 12:22:15,879 - INFO: Save the snapshot model with index: 2\n",
            "2021-07-13 12:22:16,740 - INFO: n_estimators: 3 | Validation Acc: 77.567 % | Historical Best: 77.567 %\n",
            "2021-07-13 12:22:17,514 - INFO: lr: 0.10000 | Epoch: 042 | Batch: 000 | Loss: 0.41314 | Correct: 112/128\n"
          ],
          "name": "stderr"
        },
        {
          "output_type": "stream",
          "text": [
            "None\n"
          ],
          "name": "stdout"
        },
        {
          "output_type": "stream",
          "text": [
            "2021-07-13 12:22:33,151 - INFO: lr: 0.09875 | Epoch: 043 | Batch: 000 | Loss: 0.96912 | Correct: 93/128\n"
          ],
          "name": "stderr"
        },
        {
          "output_type": "stream",
          "text": [
            "None\n"
          ],
          "name": "stdout"
        },
        {
          "output_type": "stream",
          "text": [
            "2021-07-13 12:22:48,808 - INFO: lr: 0.09505 | Epoch: 044 | Batch: 000 | Loss: 0.80107 | Correct: 98/128\n"
          ],
          "name": "stderr"
        },
        {
          "output_type": "stream",
          "text": [
            "None\n"
          ],
          "name": "stdout"
        },
        {
          "output_type": "stream",
          "text": [
            "2021-07-13 12:23:04,441 - INFO: lr: 0.08909 | Epoch: 045 | Batch: 000 | Loss: 0.62433 | Correct: 101/128\n"
          ],
          "name": "stderr"
        },
        {
          "output_type": "stream",
          "text": [
            "None\n"
          ],
          "name": "stdout"
        },
        {
          "output_type": "stream",
          "text": [
            "2021-07-13 12:23:20,146 - INFO: lr: 0.08117 | Epoch: 046 | Batch: 000 | Loss: 0.70845 | Correct: 101/128\n"
          ],
          "name": "stderr"
        },
        {
          "output_type": "stream",
          "text": [
            "None\n"
          ],
          "name": "stdout"
        },
        {
          "output_type": "stream",
          "text": [
            "2021-07-13 12:23:35,815 - INFO: lr: 0.07169 | Epoch: 047 | Batch: 000 | Loss: 0.55034 | Correct: 106/128\n"
          ],
          "name": "stderr"
        },
        {
          "output_type": "stream",
          "text": [
            "None\n"
          ],
          "name": "stdout"
        },
        {
          "output_type": "stream",
          "text": [
            "2021-07-13 12:23:51,455 - INFO: lr: 0.06113 | Epoch: 048 | Batch: 000 | Loss: 0.58309 | Correct: 107/128\n"
          ],
          "name": "stderr"
        },
        {
          "output_type": "stream",
          "text": [
            "None\n"
          ],
          "name": "stdout"
        },
        {
          "output_type": "stream",
          "text": [
            "2021-07-13 12:24:07,113 - INFO: lr: 0.05000 | Epoch: 049 | Batch: 000 | Loss: 0.38731 | Correct: 116/128\n"
          ],
          "name": "stderr"
        },
        {
          "output_type": "stream",
          "text": [
            "None\n"
          ],
          "name": "stdout"
        },
        {
          "output_type": "stream",
          "text": [
            "2021-07-13 12:24:22,807 - INFO: lr: 0.03887 | Epoch: 050 | Batch: 000 | Loss: 0.37896 | Correct: 111/128\n"
          ],
          "name": "stderr"
        },
        {
          "output_type": "stream",
          "text": [
            "None\n"
          ],
          "name": "stdout"
        },
        {
          "output_type": "stream",
          "text": [
            "2021-07-13 12:24:38,426 - INFO: lr: 0.02831 | Epoch: 051 | Batch: 000 | Loss: 0.28359 | Correct: 117/128\n"
          ],
          "name": "stderr"
        },
        {
          "output_type": "stream",
          "text": [
            "None\n"
          ],
          "name": "stdout"
        },
        {
          "output_type": "stream",
          "text": [
            "2021-07-13 12:24:54,072 - INFO: lr: 0.01883 | Epoch: 052 | Batch: 000 | Loss: 0.25791 | Correct: 117/128\n"
          ],
          "name": "stderr"
        },
        {
          "output_type": "stream",
          "text": [
            "None\n"
          ],
          "name": "stdout"
        },
        {
          "output_type": "stream",
          "text": [
            "2021-07-13 12:25:09,781 - INFO: lr: 0.01091 | Epoch: 053 | Batch: 000 | Loss: 0.28462 | Correct: 116/128\n"
          ],
          "name": "stderr"
        },
        {
          "output_type": "stream",
          "text": [
            "None\n"
          ],
          "name": "stdout"
        },
        {
          "output_type": "stream",
          "text": [
            "2021-07-13 12:25:25,446 - INFO: lr: 0.00495 | Epoch: 054 | Batch: 000 | Loss: 0.24914 | Correct: 121/128\n"
          ],
          "name": "stderr"
        },
        {
          "output_type": "stream",
          "text": [
            "None\n"
          ],
          "name": "stdout"
        },
        {
          "output_type": "stream",
          "text": [
            "2021-07-13 12:25:41,117 - INFO: lr: 0.00125 | Epoch: 055 | Batch: 000 | Loss: 0.28431 | Correct: 117/128\n"
          ],
          "name": "stderr"
        },
        {
          "output_type": "stream",
          "text": [
            "None\n"
          ],
          "name": "stdout"
        },
        {
          "output_type": "stream",
          "text": [
            "2021-07-13 12:25:56,079 - INFO: Save the snapshot model with index: 3\n",
            "2021-07-13 12:25:57,018 - INFO: n_estimators: 4 | Validation Acc: 77.790 % | Historical Best: 77.790 %\n",
            "2021-07-13 12:25:57,814 - INFO: lr: 0.10000 | Epoch: 056 | Batch: 000 | Loss: 0.24779 | Correct: 119/128\n"
          ],
          "name": "stderr"
        },
        {
          "output_type": "stream",
          "text": [
            "None\n"
          ],
          "name": "stdout"
        },
        {
          "output_type": "stream",
          "text": [
            "2021-07-13 12:26:13,504 - INFO: lr: 0.09875 | Epoch: 057 | Batch: 000 | Loss: 0.81858 | Correct: 96/128\n"
          ],
          "name": "stderr"
        },
        {
          "output_type": "stream",
          "text": [
            "None\n"
          ],
          "name": "stdout"
        },
        {
          "output_type": "stream",
          "text": [
            "2021-07-13 12:26:29,215 - INFO: lr: 0.09505 | Epoch: 058 | Batch: 000 | Loss: 0.63623 | Correct: 105/128\n"
          ],
          "name": "stderr"
        },
        {
          "output_type": "stream",
          "text": [
            "None\n"
          ],
          "name": "stdout"
        },
        {
          "output_type": "stream",
          "text": [
            "2021-07-13 12:26:44,864 - INFO: lr: 0.08909 | Epoch: 059 | Batch: 000 | Loss: 0.52018 | Correct: 104/128\n"
          ],
          "name": "stderr"
        },
        {
          "output_type": "stream",
          "text": [
            "None\n"
          ],
          "name": "stdout"
        },
        {
          "output_type": "stream",
          "text": [
            "2021-07-13 12:27:00,470 - INFO: lr: 0.08117 | Epoch: 060 | Batch: 000 | Loss: 0.35749 | Correct: 114/128\n"
          ],
          "name": "stderr"
        },
        {
          "output_type": "stream",
          "text": [
            "None\n"
          ],
          "name": "stdout"
        },
        {
          "output_type": "stream",
          "text": [
            "2021-07-13 12:27:16,167 - INFO: lr: 0.07169 | Epoch: 061 | Batch: 000 | Loss: 0.48212 | Correct: 107/128\n"
          ],
          "name": "stderr"
        },
        {
          "output_type": "stream",
          "text": [
            "None\n"
          ],
          "name": "stdout"
        },
        {
          "output_type": "stream",
          "text": [
            "2021-07-13 12:27:31,834 - INFO: lr: 0.06113 | Epoch: 062 | Batch: 000 | Loss: 0.31551 | Correct: 114/128\n"
          ],
          "name": "stderr"
        },
        {
          "output_type": "stream",
          "text": [
            "None\n"
          ],
          "name": "stdout"
        },
        {
          "output_type": "stream",
          "text": [
            "2021-07-13 12:27:47,556 - INFO: lr: 0.05000 | Epoch: 063 | Batch: 000 | Loss: 0.25676 | Correct: 120/128\n"
          ],
          "name": "stderr"
        },
        {
          "output_type": "stream",
          "text": [
            "None\n"
          ],
          "name": "stdout"
        },
        {
          "output_type": "stream",
          "text": [
            "2021-07-13 12:28:03,240 - INFO: lr: 0.03887 | Epoch: 064 | Batch: 000 | Loss: 0.22395 | Correct: 120/128\n"
          ],
          "name": "stderr"
        },
        {
          "output_type": "stream",
          "text": [
            "None\n"
          ],
          "name": "stdout"
        },
        {
          "output_type": "stream",
          "text": [
            "2021-07-13 12:28:18,964 - INFO: lr: 0.02831 | Epoch: 065 | Batch: 000 | Loss: 0.19342 | Correct: 120/128\n"
          ],
          "name": "stderr"
        },
        {
          "output_type": "stream",
          "text": [
            "None\n"
          ],
          "name": "stdout"
        },
        {
          "output_type": "stream",
          "text": [
            "2021-07-13 12:28:34,703 - INFO: lr: 0.01883 | Epoch: 066 | Batch: 000 | Loss: 0.18862 | Correct: 121/128\n"
          ],
          "name": "stderr"
        },
        {
          "output_type": "stream",
          "text": [
            "None\n"
          ],
          "name": "stdout"
        },
        {
          "output_type": "stream",
          "text": [
            "2021-07-13 12:28:50,428 - INFO: lr: 0.01091 | Epoch: 067 | Batch: 000 | Loss: 0.17053 | Correct: 124/128\n"
          ],
          "name": "stderr"
        },
        {
          "output_type": "stream",
          "text": [
            "None\n"
          ],
          "name": "stdout"
        },
        {
          "output_type": "stream",
          "text": [
            "2021-07-13 12:29:06,277 - INFO: lr: 0.00495 | Epoch: 068 | Batch: 000 | Loss: 0.19028 | Correct: 121/128\n"
          ],
          "name": "stderr"
        },
        {
          "output_type": "stream",
          "text": [
            "None\n"
          ],
          "name": "stdout"
        },
        {
          "output_type": "stream",
          "text": [
            "2021-07-13 12:29:22,067 - INFO: lr: 0.00125 | Epoch: 069 | Batch: 000 | Loss: 0.12068 | Correct: 124/128\n"
          ],
          "name": "stderr"
        },
        {
          "output_type": "stream",
          "text": [
            "None\n"
          ],
          "name": "stdout"
        },
        {
          "output_type": "stream",
          "text": [
            "2021-07-13 12:29:37,115 - INFO: Save the snapshot model with index: 4\n",
            "2021-07-13 12:29:38,222 - INFO: n_estimators: 5 | Validation Acc: 77.902 % | Historical Best: 77.902 %\n"
          ],
          "name": "stderr"
        },
        {
          "output_type": "stream",
          "text": [
            "Group 3 Finished!\n",
            "Target number of exemplars: 66\n",
            "Randomly extracting exemplars from class 0 of current split... Extracted 66 exemplars.\n",
            "Randomly extracting exemplars from class 1 of current split... Extracted 66 exemplars.\n",
            "Randomly extracting exemplars from class 2 of current split... Extracted 66 exemplars.\n",
            "Randomly extracting exemplars from class 3 of current split... Extracted 66 exemplars.\n",
            "Randomly extracting exemplars from class 4 of current split... Extracted 66 exemplars.\n",
            "Randomly extracting exemplars from class 5 of current split... Extracted 66 exemplars.\n",
            "Randomly extracting exemplars from class 6 of current split... Extracted 66 exemplars.\n",
            "Randomly extracting exemplars from class 7 of current split... Extracted 66 exemplars.\n",
            "Randomly extracting exemplars from class 8 of current split... Extracted 66 exemplars.\n",
            "Randomly extracting exemplars from class 9 of current split... Extracted 66 exemplars.\n",
            "[0.025403225806451612, 0.10970262096774193, 0.27613407258064515, 0.3958165322580645, 0.5604334677419355, 0.6614163306451613, 0.7927923387096775],[0.6090353260869565, 0.5699728260869565, 0.4908288043478261, 0.429008152173913, 0.2673233695652174, 0.18478260869565216, 0.10054347826086957]\n",
            "Testing on both open and closed world\n",
            "owr harmonic mean (threshold:0.25) = 0.04877213677044078\n",
            "owr harmonic mean (threshold:0.35) = 0.1839922662296731\n",
            "owr harmonic mean (threshold:0.5) = 0.35343185638199837\n",
            "owr harmonic mean (threshold:0.6) = 0.4117445132497662\n",
            "owr harmonic mean (threshold:0.75) = 0.3619830275308296\n",
            "owr harmonic mean (threshold:0.85) = 0.28886407044122886\n",
            "owr harmonic mean (threshold:0.95) = 0.17845494999349928\n",
            "\n",
            "=============================================\n",
            "\n",
            "Length of exemplars set: 1980\n"
          ],
          "name": "stdout"
        },
        {
          "output_type": "stream",
          "text": [
            "2021-07-13 12:30:15,727 - INFO: lr: 0.10000 | Epoch: 000 | Batch: 000 | Loss: 4.96512 | Correct: 4/128\n"
          ],
          "name": "stderr"
        },
        {
          "output_type": "stream",
          "text": [
            "None\n"
          ],
          "name": "stdout"
        },
        {
          "output_type": "stream",
          "text": [
            "2021-07-13 12:30:31,877 - INFO: lr: 0.09875 | Epoch: 001 | Batch: 000 | Loss: 2.97016 | Correct: 30/128\n"
          ],
          "name": "stderr"
        },
        {
          "output_type": "stream",
          "text": [
            "None\n"
          ],
          "name": "stdout"
        },
        {
          "output_type": "stream",
          "text": [
            "2021-07-13 12:30:48,056 - INFO: lr: 0.09505 | Epoch: 002 | Batch: 000 | Loss: 2.79408 | Correct: 37/128\n"
          ],
          "name": "stderr"
        },
        {
          "output_type": "stream",
          "text": [
            "None\n"
          ],
          "name": "stdout"
        },
        {
          "output_type": "stream",
          "text": [
            "2021-07-13 12:31:04,256 - INFO: lr: 0.08909 | Epoch: 003 | Batch: 000 | Loss: 2.55197 | Correct: 48/128\n"
          ],
          "name": "stderr"
        },
        {
          "output_type": "stream",
          "text": [
            "None\n"
          ],
          "name": "stdout"
        },
        {
          "output_type": "stream",
          "text": [
            "2021-07-13 12:31:20,427 - INFO: lr: 0.08117 | Epoch: 004 | Batch: 000 | Loss: 2.67154 | Correct: 32/128\n"
          ],
          "name": "stderr"
        },
        {
          "output_type": "stream",
          "text": [
            "None\n"
          ],
          "name": "stdout"
        },
        {
          "output_type": "stream",
          "text": [
            "2021-07-13 12:31:36,610 - INFO: lr: 0.07169 | Epoch: 005 | Batch: 000 | Loss: 2.19210 | Correct: 55/128\n"
          ],
          "name": "stderr"
        },
        {
          "output_type": "stream",
          "text": [
            "None\n"
          ],
          "name": "stdout"
        },
        {
          "output_type": "stream",
          "text": [
            "2021-07-13 12:31:52,790 - INFO: lr: 0.06113 | Epoch: 006 | Batch: 000 | Loss: 2.22653 | Correct: 49/128\n"
          ],
          "name": "stderr"
        },
        {
          "output_type": "stream",
          "text": [
            "None\n"
          ],
          "name": "stdout"
        },
        {
          "output_type": "stream",
          "text": [
            "2021-07-13 12:32:08,990 - INFO: lr: 0.05000 | Epoch: 007 | Batch: 000 | Loss: 1.89060 | Correct: 66/128\n"
          ],
          "name": "stderr"
        },
        {
          "output_type": "stream",
          "text": [
            "None\n"
          ],
          "name": "stdout"
        },
        {
          "output_type": "stream",
          "text": [
            "2021-07-13 12:32:25,103 - INFO: lr: 0.03887 | Epoch: 008 | Batch: 000 | Loss: 2.34780 | Correct: 42/128\n"
          ],
          "name": "stderr"
        },
        {
          "output_type": "stream",
          "text": [
            "None\n"
          ],
          "name": "stdout"
        },
        {
          "output_type": "stream",
          "text": [
            "2021-07-13 12:32:41,242 - INFO: lr: 0.02831 | Epoch: 009 | Batch: 000 | Loss: 1.78886 | Correct: 66/128\n"
          ],
          "name": "stderr"
        },
        {
          "output_type": "stream",
          "text": [
            "None\n"
          ],
          "name": "stdout"
        },
        {
          "output_type": "stream",
          "text": [
            "2021-07-13 12:32:57,393 - INFO: lr: 0.01883 | Epoch: 010 | Batch: 000 | Loss: 2.09785 | Correct: 59/128\n"
          ],
          "name": "stderr"
        },
        {
          "output_type": "stream",
          "text": [
            "None\n"
          ],
          "name": "stdout"
        },
        {
          "output_type": "stream",
          "text": [
            "2021-07-13 12:33:13,538 - INFO: lr: 0.01091 | Epoch: 011 | Batch: 000 | Loss: 1.65163 | Correct: 66/128\n"
          ],
          "name": "stderr"
        },
        {
          "output_type": "stream",
          "text": [
            "None\n"
          ],
          "name": "stdout"
        },
        {
          "output_type": "stream",
          "text": [
            "2021-07-13 12:33:29,644 - INFO: lr: 0.00495 | Epoch: 012 | Batch: 000 | Loss: 1.47771 | Correct: 72/128\n"
          ],
          "name": "stderr"
        },
        {
          "output_type": "stream",
          "text": [
            "None\n"
          ],
          "name": "stdout"
        },
        {
          "output_type": "stream",
          "text": [
            "2021-07-13 12:33:45,773 - INFO: lr: 0.00125 | Epoch: 013 | Batch: 000 | Loss: 1.54155 | Correct: 74/128\n"
          ],
          "name": "stderr"
        },
        {
          "output_type": "stream",
          "text": [
            "None\n"
          ],
          "name": "stdout"
        },
        {
          "output_type": "stream",
          "text": [
            "2021-07-13 12:34:01,116 - INFO: Save the snapshot model with index: 0\n",
            "2021-07-13 12:34:01,762 - INFO: n_estimators: 1 | Validation Acc: 61.161 % | Historical Best: 61.161 %\n",
            "2021-07-13 12:34:02,579 - INFO: lr: 0.10000 | Epoch: 014 | Batch: 000 | Loss: 1.64280 | Correct: 73/128\n"
          ],
          "name": "stderr"
        },
        {
          "output_type": "stream",
          "text": [
            "None\n"
          ],
          "name": "stdout"
        },
        {
          "output_type": "stream",
          "text": [
            "2021-07-13 12:34:18,759 - INFO: lr: 0.09875 | Epoch: 015 | Batch: 000 | Loss: 2.07616 | Correct: 56/128\n"
          ],
          "name": "stderr"
        },
        {
          "output_type": "stream",
          "text": [
            "None\n"
          ],
          "name": "stdout"
        },
        {
          "output_type": "stream",
          "text": [
            "2021-07-13 12:34:34,912 - INFO: lr: 0.09505 | Epoch: 016 | Batch: 000 | Loss: 1.94922 | Correct: 63/128\n"
          ],
          "name": "stderr"
        },
        {
          "output_type": "stream",
          "text": [
            "None\n"
          ],
          "name": "stdout"
        },
        {
          "output_type": "stream",
          "text": [
            "2021-07-13 12:34:51,082 - INFO: lr: 0.08909 | Epoch: 017 | Batch: 000 | Loss: 2.04879 | Correct: 56/128\n"
          ],
          "name": "stderr"
        },
        {
          "output_type": "stream",
          "text": [
            "None\n"
          ],
          "name": "stdout"
        },
        {
          "output_type": "stream",
          "text": [
            "2021-07-13 12:35:07,204 - INFO: lr: 0.08117 | Epoch: 018 | Batch: 000 | Loss: 1.61542 | Correct: 65/128\n"
          ],
          "name": "stderr"
        },
        {
          "output_type": "stream",
          "text": [
            "None\n"
          ],
          "name": "stdout"
        },
        {
          "output_type": "stream",
          "text": [
            "2021-07-13 12:35:23,367 - INFO: lr: 0.07169 | Epoch: 019 | Batch: 000 | Loss: 1.67445 | Correct: 72/128\n"
          ],
          "name": "stderr"
        },
        {
          "output_type": "stream",
          "text": [
            "None\n"
          ],
          "name": "stdout"
        },
        {
          "output_type": "stream",
          "text": [
            "2021-07-13 12:35:39,501 - INFO: lr: 0.06113 | Epoch: 020 | Batch: 000 | Loss: 1.78865 | Correct: 59/128\n"
          ],
          "name": "stderr"
        },
        {
          "output_type": "stream",
          "text": [
            "None\n"
          ],
          "name": "stdout"
        },
        {
          "output_type": "stream",
          "text": [
            "2021-07-13 12:35:55,671 - INFO: lr: 0.05000 | Epoch: 021 | Batch: 000 | Loss: 1.29135 | Correct: 84/128\n"
          ],
          "name": "stderr"
        },
        {
          "output_type": "stream",
          "text": [
            "None\n"
          ],
          "name": "stdout"
        },
        {
          "output_type": "stream",
          "text": [
            "2021-07-13 12:36:11,862 - INFO: lr: 0.03887 | Epoch: 022 | Batch: 000 | Loss: 1.44460 | Correct: 79/128\n"
          ],
          "name": "stderr"
        },
        {
          "output_type": "stream",
          "text": [
            "None\n"
          ],
          "name": "stdout"
        },
        {
          "output_type": "stream",
          "text": [
            "2021-07-13 12:36:27,978 - INFO: lr: 0.02831 | Epoch: 023 | Batch: 000 | Loss: 1.27250 | Correct: 84/128\n"
          ],
          "name": "stderr"
        },
        {
          "output_type": "stream",
          "text": [
            "None\n"
          ],
          "name": "stdout"
        },
        {
          "output_type": "stream",
          "text": [
            "2021-07-13 12:36:44,040 - INFO: lr: 0.01883 | Epoch: 024 | Batch: 000 | Loss: 1.13067 | Correct: 90/128\n"
          ],
          "name": "stderr"
        },
        {
          "output_type": "stream",
          "text": [
            "None\n"
          ],
          "name": "stdout"
        },
        {
          "output_type": "stream",
          "text": [
            "2021-07-13 12:37:00,137 - INFO: lr: 0.01091 | Epoch: 025 | Batch: 000 | Loss: 1.18781 | Correct: 77/128\n"
          ],
          "name": "stderr"
        },
        {
          "output_type": "stream",
          "text": [
            "None\n"
          ],
          "name": "stdout"
        },
        {
          "output_type": "stream",
          "text": [
            "2021-07-13 12:37:16,244 - INFO: lr: 0.00495 | Epoch: 026 | Batch: 000 | Loss: 0.99842 | Correct: 85/128\n"
          ],
          "name": "stderr"
        },
        {
          "output_type": "stream",
          "text": [
            "None\n"
          ],
          "name": "stdout"
        },
        {
          "output_type": "stream",
          "text": [
            "2021-07-13 12:37:32,369 - INFO: lr: 0.00125 | Epoch: 027 | Batch: 000 | Loss: 1.00651 | Correct: 91/128\n"
          ],
          "name": "stderr"
        },
        {
          "output_type": "stream",
          "text": [
            "None\n"
          ],
          "name": "stdout"
        },
        {
          "output_type": "stream",
          "text": [
            "2021-07-13 12:37:47,656 - INFO: Save the snapshot model with index: 1\n",
            "2021-07-13 12:37:48,373 - INFO: n_estimators: 2 | Validation Acc: 69.866 % | Historical Best: 69.866 %\n",
            "2021-07-13 12:37:49,177 - INFO: lr: 0.10000 | Epoch: 028 | Batch: 000 | Loss: 1.13139 | Correct: 85/128\n"
          ],
          "name": "stderr"
        },
        {
          "output_type": "stream",
          "text": [
            "None\n"
          ],
          "name": "stdout"
        },
        {
          "output_type": "stream",
          "text": [
            "2021-07-13 12:38:05,218 - INFO: lr: 0.09875 | Epoch: 029 | Batch: 000 | Loss: 1.60232 | Correct: 65/128\n"
          ],
          "name": "stderr"
        },
        {
          "output_type": "stream",
          "text": [
            "None\n"
          ],
          "name": "stdout"
        },
        {
          "output_type": "stream",
          "text": [
            "2021-07-13 12:38:21,250 - INFO: lr: 0.09505 | Epoch: 030 | Batch: 000 | Loss: 1.43804 | Correct: 78/128\n"
          ],
          "name": "stderr"
        },
        {
          "output_type": "stream",
          "text": [
            "None\n"
          ],
          "name": "stdout"
        },
        {
          "output_type": "stream",
          "text": [
            "2021-07-13 12:38:37,366 - INFO: lr: 0.08909 | Epoch: 031 | Batch: 000 | Loss: 1.38320 | Correct: 82/128\n"
          ],
          "name": "stderr"
        },
        {
          "output_type": "stream",
          "text": [
            "None\n"
          ],
          "name": "stdout"
        },
        {
          "output_type": "stream",
          "text": [
            "2021-07-13 12:38:53,408 - INFO: lr: 0.08117 | Epoch: 032 | Batch: 000 | Loss: 1.04268 | Correct: 89/128\n"
          ],
          "name": "stderr"
        },
        {
          "output_type": "stream",
          "text": [
            "None\n"
          ],
          "name": "stdout"
        },
        {
          "output_type": "stream",
          "text": [
            "2021-07-13 12:39:09,419 - INFO: lr: 0.07169 | Epoch: 033 | Batch: 000 | Loss: 1.17192 | Correct: 80/128\n"
          ],
          "name": "stderr"
        },
        {
          "output_type": "stream",
          "text": [
            "None\n"
          ],
          "name": "stdout"
        },
        {
          "output_type": "stream",
          "text": [
            "2021-07-13 12:39:25,443 - INFO: lr: 0.06113 | Epoch: 034 | Batch: 000 | Loss: 0.97837 | Correct: 96/128\n"
          ],
          "name": "stderr"
        },
        {
          "output_type": "stream",
          "text": [
            "None\n"
          ],
          "name": "stdout"
        },
        {
          "output_type": "stream",
          "text": [
            "2021-07-13 12:39:41,515 - INFO: lr: 0.05000 | Epoch: 035 | Batch: 000 | Loss: 0.92844 | Correct: 93/128\n"
          ],
          "name": "stderr"
        },
        {
          "output_type": "stream",
          "text": [
            "None\n"
          ],
          "name": "stdout"
        },
        {
          "output_type": "stream",
          "text": [
            "2021-07-13 12:39:57,542 - INFO: lr: 0.03887 | Epoch: 036 | Batch: 000 | Loss: 0.90058 | Correct: 95/128\n"
          ],
          "name": "stderr"
        },
        {
          "output_type": "stream",
          "text": [
            "None\n"
          ],
          "name": "stdout"
        },
        {
          "output_type": "stream",
          "text": [
            "2021-07-13 12:40:13,621 - INFO: lr: 0.02831 | Epoch: 037 | Batch: 000 | Loss: 0.79404 | Correct: 101/128\n"
          ],
          "name": "stderr"
        },
        {
          "output_type": "stream",
          "text": [
            "None\n"
          ],
          "name": "stdout"
        },
        {
          "output_type": "stream",
          "text": [
            "2021-07-13 12:40:29,703 - INFO: lr: 0.01883 | Epoch: 038 | Batch: 000 | Loss: 0.67667 | Correct: 108/128\n"
          ],
          "name": "stderr"
        },
        {
          "output_type": "stream",
          "text": [
            "None\n"
          ],
          "name": "stdout"
        },
        {
          "output_type": "stream",
          "text": [
            "2021-07-13 12:40:45,764 - INFO: lr: 0.01091 | Epoch: 039 | Batch: 000 | Loss: 0.86624 | Correct: 94/128\n"
          ],
          "name": "stderr"
        },
        {
          "output_type": "stream",
          "text": [
            "None\n"
          ],
          "name": "stdout"
        },
        {
          "output_type": "stream",
          "text": [
            "2021-07-13 12:41:01,860 - INFO: lr: 0.00495 | Epoch: 040 | Batch: 000 | Loss: 0.62368 | Correct: 104/128\n"
          ],
          "name": "stderr"
        },
        {
          "output_type": "stream",
          "text": [
            "None\n"
          ],
          "name": "stdout"
        },
        {
          "output_type": "stream",
          "text": [
            "2021-07-13 12:41:17,908 - INFO: lr: 0.00125 | Epoch: 041 | Batch: 000 | Loss: 0.62445 | Correct: 105/128\n"
          ],
          "name": "stderr"
        },
        {
          "output_type": "stream",
          "text": [
            "None\n"
          ],
          "name": "stdout"
        },
        {
          "output_type": "stream",
          "text": [
            "2021-07-13 12:41:33,200 - INFO: Save the snapshot model with index: 2\n",
            "2021-07-13 12:41:34,051 - INFO: n_estimators: 3 | Validation Acc: 73.438 % | Historical Best: 73.438 %\n",
            "2021-07-13 12:41:34,877 - INFO: lr: 0.10000 | Epoch: 042 | Batch: 000 | Loss: 0.60916 | Correct: 106/128\n"
          ],
          "name": "stderr"
        },
        {
          "output_type": "stream",
          "text": [
            "None\n"
          ],
          "name": "stdout"
        },
        {
          "output_type": "stream",
          "text": [
            "2021-07-13 12:41:50,954 - INFO: lr: 0.09875 | Epoch: 043 | Batch: 000 | Loss: 1.11036 | Correct: 88/128\n"
          ],
          "name": "stderr"
        },
        {
          "output_type": "stream",
          "text": [
            "None\n"
          ],
          "name": "stdout"
        },
        {
          "output_type": "stream",
          "text": [
            "2021-07-13 12:42:07,089 - INFO: lr: 0.09505 | Epoch: 044 | Batch: 000 | Loss: 1.03291 | Correct: 87/128\n"
          ],
          "name": "stderr"
        },
        {
          "output_type": "stream",
          "text": [
            "None\n"
          ],
          "name": "stdout"
        },
        {
          "output_type": "stream",
          "text": [
            "2021-07-13 12:42:23,191 - INFO: lr: 0.08909 | Epoch: 045 | Batch: 000 | Loss: 0.99092 | Correct: 91/128\n"
          ],
          "name": "stderr"
        },
        {
          "output_type": "stream",
          "text": [
            "None\n"
          ],
          "name": "stdout"
        },
        {
          "output_type": "stream",
          "text": [
            "2021-07-13 12:42:39,312 - INFO: lr: 0.08117 | Epoch: 046 | Batch: 000 | Loss: 0.76220 | Correct: 100/128\n"
          ],
          "name": "stderr"
        },
        {
          "output_type": "stream",
          "text": [
            "None\n"
          ],
          "name": "stdout"
        },
        {
          "output_type": "stream",
          "text": [
            "2021-07-13 12:42:55,453 - INFO: lr: 0.07169 | Epoch: 047 | Batch: 000 | Loss: 0.83598 | Correct: 96/128\n"
          ],
          "name": "stderr"
        },
        {
          "output_type": "stream",
          "text": [
            "None\n"
          ],
          "name": "stdout"
        },
        {
          "output_type": "stream",
          "text": [
            "2021-07-13 12:43:11,564 - INFO: lr: 0.06113 | Epoch: 048 | Batch: 000 | Loss: 0.83942 | Correct: 97/128\n"
          ],
          "name": "stderr"
        },
        {
          "output_type": "stream",
          "text": [
            "None\n"
          ],
          "name": "stdout"
        },
        {
          "output_type": "stream",
          "text": [
            "2021-07-13 12:43:27,685 - INFO: lr: 0.05000 | Epoch: 049 | Batch: 000 | Loss: 0.64846 | Correct: 104/128\n"
          ],
          "name": "stderr"
        },
        {
          "output_type": "stream",
          "text": [
            "None\n"
          ],
          "name": "stdout"
        },
        {
          "output_type": "stream",
          "text": [
            "2021-07-13 12:43:43,845 - INFO: lr: 0.03887 | Epoch: 050 | Batch: 000 | Loss: 0.48534 | Correct: 109/128\n"
          ],
          "name": "stderr"
        },
        {
          "output_type": "stream",
          "text": [
            "None\n"
          ],
          "name": "stdout"
        },
        {
          "output_type": "stream",
          "text": [
            "2021-07-13 12:43:59,891 - INFO: lr: 0.02831 | Epoch: 051 | Batch: 000 | Loss: 0.52353 | Correct: 112/128\n"
          ],
          "name": "stderr"
        },
        {
          "output_type": "stream",
          "text": [
            "None\n"
          ],
          "name": "stdout"
        },
        {
          "output_type": "stream",
          "text": [
            "2021-07-13 12:44:16,044 - INFO: lr: 0.01883 | Epoch: 052 | Batch: 000 | Loss: 0.51256 | Correct: 106/128\n"
          ],
          "name": "stderr"
        },
        {
          "output_type": "stream",
          "text": [
            "None\n"
          ],
          "name": "stdout"
        },
        {
          "output_type": "stream",
          "text": [
            "2021-07-13 12:44:32,135 - INFO: lr: 0.01091 | Epoch: 053 | Batch: 000 | Loss: 0.34330 | Correct: 118/128\n"
          ],
          "name": "stderr"
        },
        {
          "output_type": "stream",
          "text": [
            "None\n"
          ],
          "name": "stdout"
        },
        {
          "output_type": "stream",
          "text": [
            "2021-07-13 12:44:48,208 - INFO: lr: 0.00495 | Epoch: 054 | Batch: 000 | Loss: 0.47256 | Correct: 107/128\n"
          ],
          "name": "stderr"
        },
        {
          "output_type": "stream",
          "text": [
            "None\n"
          ],
          "name": "stdout"
        },
        {
          "output_type": "stream",
          "text": [
            "2021-07-13 12:45:04,318 - INFO: lr: 0.00125 | Epoch: 055 | Batch: 000 | Loss: 0.27910 | Correct: 119/128\n"
          ],
          "name": "stderr"
        },
        {
          "output_type": "stream",
          "text": [
            "None\n"
          ],
          "name": "stdout"
        },
        {
          "output_type": "stream",
          "text": [
            "2021-07-13 12:45:19,634 - INFO: Save the snapshot model with index: 3\n",
            "2021-07-13 12:45:20,591 - INFO: n_estimators: 4 | Validation Acc: 73.884 % | Historical Best: 73.884 %\n",
            "2021-07-13 12:45:21,405 - INFO: lr: 0.10000 | Epoch: 056 | Batch: 000 | Loss: 0.34060 | Correct: 116/128\n"
          ],
          "name": "stderr"
        },
        {
          "output_type": "stream",
          "text": [
            "None\n"
          ],
          "name": "stdout"
        },
        {
          "output_type": "stream",
          "text": [
            "2021-07-13 12:45:37,520 - INFO: lr: 0.09875 | Epoch: 057 | Batch: 000 | Loss: 1.22656 | Correct: 78/128\n"
          ],
          "name": "stderr"
        },
        {
          "output_type": "stream",
          "text": [
            "None\n"
          ],
          "name": "stdout"
        },
        {
          "output_type": "stream",
          "text": [
            "2021-07-13 12:45:53,699 - INFO: lr: 0.09505 | Epoch: 058 | Batch: 000 | Loss: 0.88011 | Correct: 92/128\n"
          ],
          "name": "stderr"
        },
        {
          "output_type": "stream",
          "text": [
            "None\n"
          ],
          "name": "stdout"
        },
        {
          "output_type": "stream",
          "text": [
            "2021-07-13 12:46:09,839 - INFO: lr: 0.08909 | Epoch: 059 | Batch: 000 | Loss: 0.66496 | Correct: 101/128\n"
          ],
          "name": "stderr"
        },
        {
          "output_type": "stream",
          "text": [
            "None\n"
          ],
          "name": "stdout"
        },
        {
          "output_type": "stream",
          "text": [
            "2021-07-13 12:46:25,965 - INFO: lr: 0.08117 | Epoch: 060 | Batch: 000 | Loss: 0.68025 | Correct: 100/128\n"
          ],
          "name": "stderr"
        },
        {
          "output_type": "stream",
          "text": [
            "None\n"
          ],
          "name": "stdout"
        },
        {
          "output_type": "stream",
          "text": [
            "2021-07-13 12:46:42,041 - INFO: lr: 0.07169 | Epoch: 061 | Batch: 000 | Loss: 0.61081 | Correct: 107/128\n"
          ],
          "name": "stderr"
        },
        {
          "output_type": "stream",
          "text": [
            "None\n"
          ],
          "name": "stdout"
        },
        {
          "output_type": "stream",
          "text": [
            "2021-07-13 12:46:58,145 - INFO: lr: 0.06113 | Epoch: 062 | Batch: 000 | Loss: 0.51963 | Correct: 109/128\n"
          ],
          "name": "stderr"
        },
        {
          "output_type": "stream",
          "text": [
            "None\n"
          ],
          "name": "stdout"
        },
        {
          "output_type": "stream",
          "text": [
            "2021-07-13 12:47:14,246 - INFO: lr: 0.05000 | Epoch: 063 | Batch: 000 | Loss: 0.44275 | Correct: 112/128\n"
          ],
          "name": "stderr"
        },
        {
          "output_type": "stream",
          "text": [
            "None\n"
          ],
          "name": "stdout"
        },
        {
          "output_type": "stream",
          "text": [
            "2021-07-13 12:47:30,356 - INFO: lr: 0.03887 | Epoch: 064 | Batch: 000 | Loss: 0.35185 | Correct: 116/128\n"
          ],
          "name": "stderr"
        },
        {
          "output_type": "stream",
          "text": [
            "None\n"
          ],
          "name": "stdout"
        },
        {
          "output_type": "stream",
          "text": [
            "2021-07-13 12:47:46,465 - INFO: lr: 0.02831 | Epoch: 065 | Batch: 000 | Loss: 0.25035 | Correct: 119/128\n"
          ],
          "name": "stderr"
        },
        {
          "output_type": "stream",
          "text": [
            "None\n"
          ],
          "name": "stdout"
        },
        {
          "output_type": "stream",
          "text": [
            "2021-07-13 12:48:02,587 - INFO: lr: 0.01883 | Epoch: 066 | Batch: 000 | Loss: 0.27582 | Correct: 121/128\n"
          ],
          "name": "stderr"
        },
        {
          "output_type": "stream",
          "text": [
            "None\n"
          ],
          "name": "stdout"
        },
        {
          "output_type": "stream",
          "text": [
            "2021-07-13 12:48:18,664 - INFO: lr: 0.01091 | Epoch: 067 | Batch: 000 | Loss: 0.18066 | Correct: 123/128\n"
          ],
          "name": "stderr"
        },
        {
          "output_type": "stream",
          "text": [
            "None\n"
          ],
          "name": "stdout"
        },
        {
          "output_type": "stream",
          "text": [
            "2021-07-13 12:48:34,742 - INFO: lr: 0.00495 | Epoch: 068 | Batch: 000 | Loss: 0.27754 | Correct: 118/128\n"
          ],
          "name": "stderr"
        },
        {
          "output_type": "stream",
          "text": [
            "None\n"
          ],
          "name": "stdout"
        },
        {
          "output_type": "stream",
          "text": [
            "2021-07-13 12:48:50,819 - INFO: lr: 0.00125 | Epoch: 069 | Batch: 000 | Loss: 0.26574 | Correct: 117/128\n"
          ],
          "name": "stderr"
        },
        {
          "output_type": "stream",
          "text": [
            "None\n"
          ],
          "name": "stdout"
        },
        {
          "output_type": "stream",
          "text": [
            "2021-07-13 12:49:06,142 - INFO: Save the snapshot model with index: 4\n",
            "2021-07-13 12:49:07,241 - INFO: n_estimators: 5 | Validation Acc: 74.777 % | Historical Best: 74.777 %\n"
          ],
          "name": "stderr"
        },
        {
          "output_type": "stream",
          "text": [
            "Group 4 Finished!\n",
            "Target number of exemplars: 50\n",
            "Randomly extracting exemplars from class 0 of current split... Extracted 50 exemplars.\n",
            "Randomly extracting exemplars from class 1 of current split... Extracted 50 exemplars.\n",
            "Randomly extracting exemplars from class 2 of current split... Extracted 50 exemplars.\n",
            "Randomly extracting exemplars from class 3 of current split... Extracted 50 exemplars.\n",
            "Randomly extracting exemplars from class 4 of current split... Extracted 50 exemplars.\n",
            "Randomly extracting exemplars from class 5 of current split... Extracted 50 exemplars.\n",
            "Randomly extracting exemplars from class 6 of current split... Extracted 50 exemplars.\n",
            "Randomly extracting exemplars from class 7 of current split... Extracted 50 exemplars.\n",
            "Randomly extracting exemplars from class 8 of current split... Extracted 50 exemplars.\n",
            "Randomly extracting exemplars from class 9 of current split... Extracted 50 exemplars.\n",
            "[0.049899193548387094, 0.15738407258064516, 0.36106350806451615, 0.4860383064516129, 0.6479082661290323, 0.743195564516129, 0.8570060483870968],[0.4627016129032258, 0.4188508064516129, 0.3371975806451613, 0.27318548387096775, 0.15246975806451613, 0.1028225806451613, 0.05670362903225806]\n",
            "Testing on both open and closed world\n",
            "owr harmonic mean (threshold:0.25) = 0.0900834998572652\n",
            "owr harmonic mean (threshold:0.35) = 0.22879713853403216\n",
            "owr harmonic mean (threshold:0.5) = 0.3487226865343217\n",
            "owr harmonic mean (threshold:0.6) = 0.34977462935241876\n",
            "owr harmonic mean (threshold:0.75) = 0.24684939765613811\n",
            "owr harmonic mean (threshold:0.85) = 0.18065164749632448\n",
            "owr harmonic mean (threshold:0.95) = 0.10636935176913989\n",
            "\n",
            "=============================================\n",
            "\n",
            "Length of exemplars set: 2000\n"
          ],
          "name": "stdout"
        },
        {
          "output_type": "stream",
          "text": [
            "2021-07-13 12:49:45,533 - INFO: lr: 0.10000 | Epoch: 000 | Batch: 000 | Loss: 5.28901 | Correct: 4/128\n"
          ],
          "name": "stderr"
        },
        {
          "output_type": "stream",
          "text": [
            "None\n"
          ],
          "name": "stdout"
        },
        {
          "output_type": "stream",
          "text": [
            "2021-07-13 12:50:01,989 - INFO: lr: 0.09875 | Epoch: 001 | Batch: 000 | Loss: 3.06586 | Correct: 32/128\n"
          ],
          "name": "stderr"
        },
        {
          "output_type": "stream",
          "text": [
            "None\n"
          ],
          "name": "stdout"
        },
        {
          "output_type": "stream",
          "text": [
            "2021-07-13 12:50:18,460 - INFO: lr: 0.09505 | Epoch: 002 | Batch: 000 | Loss: 2.67624 | Correct: 42/128\n"
          ],
          "name": "stderr"
        },
        {
          "output_type": "stream",
          "text": [
            "None\n"
          ],
          "name": "stdout"
        },
        {
          "output_type": "stream",
          "text": [
            "2021-07-13 12:50:34,940 - INFO: lr: 0.08909 | Epoch: 003 | Batch: 000 | Loss: 2.92535 | Correct: 42/128\n"
          ],
          "name": "stderr"
        },
        {
          "output_type": "stream",
          "text": [
            "None\n"
          ],
          "name": "stdout"
        },
        {
          "output_type": "stream",
          "text": [
            "2021-07-13 12:50:51,412 - INFO: lr: 0.08117 | Epoch: 004 | Batch: 000 | Loss: 2.18812 | Correct: 51/128\n"
          ],
          "name": "stderr"
        },
        {
          "output_type": "stream",
          "text": [
            "None\n"
          ],
          "name": "stdout"
        },
        {
          "output_type": "stream",
          "text": [
            "2021-07-13 12:51:07,870 - INFO: lr: 0.07169 | Epoch: 005 | Batch: 000 | Loss: 2.37835 | Correct: 50/128\n"
          ],
          "name": "stderr"
        },
        {
          "output_type": "stream",
          "text": [
            "None\n"
          ],
          "name": "stdout"
        },
        {
          "output_type": "stream",
          "text": [
            "2021-07-13 12:51:24,340 - INFO: lr: 0.06113 | Epoch: 006 | Batch: 000 | Loss: 2.32156 | Correct: 48/128\n"
          ],
          "name": "stderr"
        },
        {
          "output_type": "stream",
          "text": [
            "None\n"
          ],
          "name": "stdout"
        },
        {
          "output_type": "stream",
          "text": [
            "2021-07-13 12:51:40,798 - INFO: lr: 0.05000 | Epoch: 007 | Batch: 000 | Loss: 1.97028 | Correct: 62/128\n"
          ],
          "name": "stderr"
        },
        {
          "output_type": "stream",
          "text": [
            "None\n"
          ],
          "name": "stdout"
        },
        {
          "output_type": "stream",
          "text": [
            "2021-07-13 12:51:57,304 - INFO: lr: 0.03887 | Epoch: 008 | Batch: 000 | Loss: 2.13648 | Correct: 54/128\n"
          ],
          "name": "stderr"
        },
        {
          "output_type": "stream",
          "text": [
            "None\n"
          ],
          "name": "stdout"
        },
        {
          "output_type": "stream",
          "text": [
            "2021-07-13 12:52:13,786 - INFO: lr: 0.02831 | Epoch: 009 | Batch: 000 | Loss: 1.98770 | Correct: 61/128\n"
          ],
          "name": "stderr"
        },
        {
          "output_type": "stream",
          "text": [
            "None\n"
          ],
          "name": "stdout"
        },
        {
          "output_type": "stream",
          "text": [
            "2021-07-13 12:52:30,197 - INFO: lr: 0.01883 | Epoch: 010 | Batch: 000 | Loss: 1.91082 | Correct: 59/128\n"
          ],
          "name": "stderr"
        },
        {
          "output_type": "stream",
          "text": [
            "None\n"
          ],
          "name": "stdout"
        },
        {
          "output_type": "stream",
          "text": [
            "2021-07-13 12:52:46,679 - INFO: lr: 0.01091 | Epoch: 011 | Batch: 000 | Loss: 1.68530 | Correct: 66/128\n"
          ],
          "name": "stderr"
        },
        {
          "output_type": "stream",
          "text": [
            "None\n"
          ],
          "name": "stdout"
        },
        {
          "output_type": "stream",
          "text": [
            "2021-07-13 12:53:03,205 - INFO: lr: 0.00495 | Epoch: 012 | Batch: 000 | Loss: 1.79927 | Correct: 66/128\n"
          ],
          "name": "stderr"
        },
        {
          "output_type": "stream",
          "text": [
            "None\n"
          ],
          "name": "stdout"
        },
        {
          "output_type": "stream",
          "text": [
            "2021-07-13 12:53:19,710 - INFO: lr: 0.00125 | Epoch: 013 | Batch: 000 | Loss: 1.88144 | Correct: 61/128\n"
          ],
          "name": "stderr"
        },
        {
          "output_type": "stream",
          "text": [
            "None\n"
          ],
          "name": "stdout"
        },
        {
          "output_type": "stream",
          "text": [
            "2021-07-13 12:53:35,380 - INFO: Save the snapshot model with index: 0\n",
            "2021-07-13 12:53:36,016 - INFO: n_estimators: 1 | Validation Acc: 64.732 % | Historical Best: 64.732 %\n",
            "2021-07-13 12:53:36,853 - INFO: lr: 0.10000 | Epoch: 014 | Batch: 000 | Loss: 1.76032 | Correct: 66/128\n"
          ],
          "name": "stderr"
        },
        {
          "output_type": "stream",
          "text": [
            "None\n"
          ],
          "name": "stdout"
        },
        {
          "output_type": "stream",
          "text": [
            "2021-07-13 12:53:53,313 - INFO: lr: 0.09875 | Epoch: 015 | Batch: 000 | Loss: 1.82886 | Correct: 64/128\n"
          ],
          "name": "stderr"
        },
        {
          "output_type": "stream",
          "text": [
            "None\n"
          ],
          "name": "stdout"
        },
        {
          "output_type": "stream",
          "text": [
            "2021-07-13 12:54:09,790 - INFO: lr: 0.09505 | Epoch: 016 | Batch: 000 | Loss: 2.00789 | Correct: 66/128\n"
          ],
          "name": "stderr"
        },
        {
          "output_type": "stream",
          "text": [
            "None\n"
          ],
          "name": "stdout"
        },
        {
          "output_type": "stream",
          "text": [
            "2021-07-13 12:54:26,287 - INFO: lr: 0.08909 | Epoch: 017 | Batch: 000 | Loss: 1.99070 | Correct: 58/128\n"
          ],
          "name": "stderr"
        },
        {
          "output_type": "stream",
          "text": [
            "None\n"
          ],
          "name": "stdout"
        },
        {
          "output_type": "stream",
          "text": [
            "2021-07-13 12:54:42,788 - INFO: lr: 0.08117 | Epoch: 018 | Batch: 000 | Loss: 1.73293 | Correct: 66/128\n"
          ],
          "name": "stderr"
        },
        {
          "output_type": "stream",
          "text": [
            "None\n"
          ],
          "name": "stdout"
        },
        {
          "output_type": "stream",
          "text": [
            "2021-07-13 12:54:59,260 - INFO: lr: 0.07169 | Epoch: 019 | Batch: 000 | Loss: 1.94063 | Correct: 56/128\n"
          ],
          "name": "stderr"
        },
        {
          "output_type": "stream",
          "text": [
            "None\n"
          ],
          "name": "stdout"
        },
        {
          "output_type": "stream",
          "text": [
            "2021-07-13 12:55:15,744 - INFO: lr: 0.06113 | Epoch: 020 | Batch: 000 | Loss: 1.77966 | Correct: 67/128\n"
          ],
          "name": "stderr"
        },
        {
          "output_type": "stream",
          "text": [
            "None\n"
          ],
          "name": "stdout"
        },
        {
          "output_type": "stream",
          "text": [
            "2021-07-13 12:55:32,218 - INFO: lr: 0.05000 | Epoch: 021 | Batch: 000 | Loss: 1.69872 | Correct: 65/128\n"
          ],
          "name": "stderr"
        },
        {
          "output_type": "stream",
          "text": [
            "None\n"
          ],
          "name": "stdout"
        },
        {
          "output_type": "stream",
          "text": [
            "2021-07-13 12:55:48,741 - INFO: lr: 0.03887 | Epoch: 022 | Batch: 000 | Loss: 1.38601 | Correct: 84/128\n"
          ],
          "name": "stderr"
        },
        {
          "output_type": "stream",
          "text": [
            "None\n"
          ],
          "name": "stdout"
        },
        {
          "output_type": "stream",
          "text": [
            "2021-07-13 12:56:05,264 - INFO: lr: 0.02831 | Epoch: 023 | Batch: 000 | Loss: 1.37802 | Correct: 84/128\n"
          ],
          "name": "stderr"
        },
        {
          "output_type": "stream",
          "text": [
            "None\n"
          ],
          "name": "stdout"
        },
        {
          "output_type": "stream",
          "text": [
            "2021-07-13 12:56:21,757 - INFO: lr: 0.01883 | Epoch: 024 | Batch: 000 | Loss: 1.24961 | Correct: 84/128\n"
          ],
          "name": "stderr"
        },
        {
          "output_type": "stream",
          "text": [
            "None\n"
          ],
          "name": "stdout"
        },
        {
          "output_type": "stream",
          "text": [
            "2021-07-13 12:56:38,232 - INFO: lr: 0.01091 | Epoch: 025 | Batch: 000 | Loss: 1.15843 | Correct: 83/128\n"
          ],
          "name": "stderr"
        },
        {
          "output_type": "stream",
          "text": [
            "None\n"
          ],
          "name": "stdout"
        },
        {
          "output_type": "stream",
          "text": [
            "2021-07-13 12:56:54,688 - INFO: lr: 0.00495 | Epoch: 026 | Batch: 000 | Loss: 1.25192 | Correct: 81/128\n"
          ],
          "name": "stderr"
        },
        {
          "output_type": "stream",
          "text": [
            "None\n"
          ],
          "name": "stdout"
        },
        {
          "output_type": "stream",
          "text": [
            "2021-07-13 12:57:11,193 - INFO: lr: 0.00125 | Epoch: 027 | Batch: 000 | Loss: 1.01328 | Correct: 90/128\n"
          ],
          "name": "stderr"
        },
        {
          "output_type": "stream",
          "text": [
            "None\n"
          ],
          "name": "stdout"
        },
        {
          "output_type": "stream",
          "text": [
            "2021-07-13 12:57:26,891 - INFO: Save the snapshot model with index: 1\n",
            "2021-07-13 12:57:27,628 - INFO: n_estimators: 2 | Validation Acc: 71.763 % | Historical Best: 71.763 %\n",
            "2021-07-13 12:57:28,459 - INFO: lr: 0.10000 | Epoch: 028 | Batch: 000 | Loss: 1.37685 | Correct: 80/128\n"
          ],
          "name": "stderr"
        },
        {
          "output_type": "stream",
          "text": [
            "None\n"
          ],
          "name": "stdout"
        },
        {
          "output_type": "stream",
          "text": [
            "2021-07-13 12:57:44,932 - INFO: lr: 0.09875 | Epoch: 029 | Batch: 000 | Loss: 1.51400 | Correct: 75/128\n"
          ],
          "name": "stderr"
        },
        {
          "output_type": "stream",
          "text": [
            "None\n"
          ],
          "name": "stdout"
        },
        {
          "output_type": "stream",
          "text": [
            "2021-07-13 12:58:01,411 - INFO: lr: 0.09505 | Epoch: 030 | Batch: 000 | Loss: 1.48404 | Correct: 74/128\n"
          ],
          "name": "stderr"
        },
        {
          "output_type": "stream",
          "text": [
            "None\n"
          ],
          "name": "stdout"
        },
        {
          "output_type": "stream",
          "text": [
            "2021-07-13 12:58:17,849 - INFO: lr: 0.08909 | Epoch: 031 | Batch: 000 | Loss: 1.72070 | Correct: 75/128\n"
          ],
          "name": "stderr"
        },
        {
          "output_type": "stream",
          "text": [
            "None\n"
          ],
          "name": "stdout"
        },
        {
          "output_type": "stream",
          "text": [
            "2021-07-13 12:58:34,341 - INFO: lr: 0.08117 | Epoch: 032 | Batch: 000 | Loss: 1.50502 | Correct: 73/128\n"
          ],
          "name": "stderr"
        },
        {
          "output_type": "stream",
          "text": [
            "None\n"
          ],
          "name": "stdout"
        },
        {
          "output_type": "stream",
          "text": [
            "2021-07-13 12:58:50,831 - INFO: lr: 0.07169 | Epoch: 033 | Batch: 000 | Loss: 1.53604 | Correct: 72/128\n"
          ],
          "name": "stderr"
        },
        {
          "output_type": "stream",
          "text": [
            "None\n"
          ],
          "name": "stdout"
        },
        {
          "output_type": "stream",
          "text": [
            "2021-07-13 12:59:07,338 - INFO: lr: 0.06113 | Epoch: 034 | Batch: 000 | Loss: 1.23760 | Correct: 86/128\n"
          ],
          "name": "stderr"
        },
        {
          "output_type": "stream",
          "text": [
            "None\n"
          ],
          "name": "stdout"
        },
        {
          "output_type": "stream",
          "text": [
            "2021-07-13 12:59:23,776 - INFO: lr: 0.05000 | Epoch: 035 | Batch: 000 | Loss: 0.98193 | Correct: 94/128\n"
          ],
          "name": "stderr"
        },
        {
          "output_type": "stream",
          "text": [
            "None\n"
          ],
          "name": "stdout"
        },
        {
          "output_type": "stream",
          "text": [
            "2021-07-13 12:59:40,226 - INFO: lr: 0.03887 | Epoch: 036 | Batch: 000 | Loss: 0.93794 | Correct: 91/128\n"
          ],
          "name": "stderr"
        },
        {
          "output_type": "stream",
          "text": [
            "None\n"
          ],
          "name": "stdout"
        },
        {
          "output_type": "stream",
          "text": [
            "2021-07-13 12:59:56,715 - INFO: lr: 0.02831 | Epoch: 037 | Batch: 000 | Loss: 1.01052 | Correct: 94/128\n"
          ],
          "name": "stderr"
        },
        {
          "output_type": "stream",
          "text": [
            "None\n"
          ],
          "name": "stdout"
        },
        {
          "output_type": "stream",
          "text": [
            "2021-07-13 13:00:13,231 - INFO: lr: 0.01883 | Epoch: 038 | Batch: 000 | Loss: 0.82431 | Correct: 97/128\n"
          ],
          "name": "stderr"
        },
        {
          "output_type": "stream",
          "text": [
            "None\n"
          ],
          "name": "stdout"
        },
        {
          "output_type": "stream",
          "text": [
            "2021-07-13 13:00:29,693 - INFO: lr: 0.01091 | Epoch: 039 | Batch: 000 | Loss: 0.70454 | Correct: 103/128\n"
          ],
          "name": "stderr"
        },
        {
          "output_type": "stream",
          "text": [
            "None\n"
          ],
          "name": "stdout"
        },
        {
          "output_type": "stream",
          "text": [
            "2021-07-13 13:00:46,165 - INFO: lr: 0.00495 | Epoch: 040 | Batch: 000 | Loss: 0.90965 | Correct: 97/128\n"
          ],
          "name": "stderr"
        },
        {
          "output_type": "stream",
          "text": [
            "None\n"
          ],
          "name": "stdout"
        },
        {
          "output_type": "stream",
          "text": [
            "2021-07-13 13:01:02,626 - INFO: lr: 0.00125 | Epoch: 041 | Batch: 000 | Loss: 0.65920 | Correct: 106/128\n"
          ],
          "name": "stderr"
        },
        {
          "output_type": "stream",
          "text": [
            "None\n"
          ],
          "name": "stdout"
        },
        {
          "output_type": "stream",
          "text": [
            "2021-07-13 13:01:18,342 - INFO: Save the snapshot model with index: 2\n",
            "2021-07-13 13:01:19,246 - INFO: n_estimators: 3 | Validation Acc: 74.442 % | Historical Best: 74.442 %\n",
            "2021-07-13 13:01:20,113 - INFO: lr: 0.10000 | Epoch: 042 | Batch: 000 | Loss: 0.78448 | Correct: 102/128\n"
          ],
          "name": "stderr"
        },
        {
          "output_type": "stream",
          "text": [
            "None\n"
          ],
          "name": "stdout"
        },
        {
          "output_type": "stream",
          "text": [
            "2021-07-13 13:01:36,727 - INFO: lr: 0.09875 | Epoch: 043 | Batch: 000 | Loss: 1.34612 | Correct: 85/128\n"
          ],
          "name": "stderr"
        },
        {
          "output_type": "stream",
          "text": [
            "None\n"
          ],
          "name": "stdout"
        },
        {
          "output_type": "stream",
          "text": [
            "2021-07-13 13:01:53,268 - INFO: lr: 0.09505 | Epoch: 044 | Batch: 000 | Loss: 1.15328 | Correct: 90/128\n"
          ],
          "name": "stderr"
        },
        {
          "output_type": "stream",
          "text": [
            "None\n"
          ],
          "name": "stdout"
        },
        {
          "output_type": "stream",
          "text": [
            "2021-07-13 13:02:09,779 - INFO: lr: 0.08909 | Epoch: 045 | Batch: 000 | Loss: 0.89221 | Correct: 94/128\n"
          ],
          "name": "stderr"
        },
        {
          "output_type": "stream",
          "text": [
            "None\n"
          ],
          "name": "stdout"
        },
        {
          "output_type": "stream",
          "text": [
            "2021-07-13 13:02:26,283 - INFO: lr: 0.08117 | Epoch: 046 | Batch: 000 | Loss: 1.12042 | Correct: 82/128\n"
          ],
          "name": "stderr"
        },
        {
          "output_type": "stream",
          "text": [
            "None\n"
          ],
          "name": "stdout"
        },
        {
          "output_type": "stream",
          "text": [
            "2021-07-13 13:02:42,787 - INFO: lr: 0.07169 | Epoch: 047 | Batch: 000 | Loss: 0.84482 | Correct: 100/128\n"
          ],
          "name": "stderr"
        },
        {
          "output_type": "stream",
          "text": [
            "None\n"
          ],
          "name": "stdout"
        },
        {
          "output_type": "stream",
          "text": [
            "2021-07-13 13:02:59,295 - INFO: lr: 0.06113 | Epoch: 048 | Batch: 000 | Loss: 0.90511 | Correct: 94/128\n"
          ],
          "name": "stderr"
        },
        {
          "output_type": "stream",
          "text": [
            "None\n"
          ],
          "name": "stdout"
        },
        {
          "output_type": "stream",
          "text": [
            "2021-07-13 13:03:15,841 - INFO: lr: 0.05000 | Epoch: 049 | Batch: 000 | Loss: 0.90973 | Correct: 89/128\n"
          ],
          "name": "stderr"
        },
        {
          "output_type": "stream",
          "text": [
            "None\n"
          ],
          "name": "stdout"
        },
        {
          "output_type": "stream",
          "text": [
            "2021-07-13 13:03:32,346 - INFO: lr: 0.03887 | Epoch: 050 | Batch: 000 | Loss: 0.61585 | Correct: 102/128\n"
          ],
          "name": "stderr"
        },
        {
          "output_type": "stream",
          "text": [
            "None\n"
          ],
          "name": "stdout"
        },
        {
          "output_type": "stream",
          "text": [
            "2021-07-13 13:03:48,846 - INFO: lr: 0.02831 | Epoch: 051 | Batch: 000 | Loss: 0.67257 | Correct: 103/128\n"
          ],
          "name": "stderr"
        },
        {
          "output_type": "stream",
          "text": [
            "None\n"
          ],
          "name": "stdout"
        },
        {
          "output_type": "stream",
          "text": [
            "2021-07-13 13:04:05,393 - INFO: lr: 0.01883 | Epoch: 052 | Batch: 000 | Loss: 0.70406 | Correct: 99/128\n"
          ],
          "name": "stderr"
        },
        {
          "output_type": "stream",
          "text": [
            "None\n"
          ],
          "name": "stdout"
        },
        {
          "output_type": "stream",
          "text": [
            "2021-07-13 13:04:21,943 - INFO: lr: 0.01091 | Epoch: 053 | Batch: 000 | Loss: 0.41445 | Correct: 121/128\n"
          ],
          "name": "stderr"
        },
        {
          "output_type": "stream",
          "text": [
            "None\n"
          ],
          "name": "stdout"
        },
        {
          "output_type": "stream",
          "text": [
            "2021-07-13 13:04:38,468 - INFO: lr: 0.00495 | Epoch: 054 | Batch: 000 | Loss: 0.52641 | Correct: 106/128\n"
          ],
          "name": "stderr"
        },
        {
          "output_type": "stream",
          "text": [
            "None\n"
          ],
          "name": "stdout"
        },
        {
          "output_type": "stream",
          "text": [
            "2021-07-13 13:04:54,982 - INFO: lr: 0.00125 | Epoch: 055 | Batch: 000 | Loss: 0.46080 | Correct: 111/128\n"
          ],
          "name": "stderr"
        },
        {
          "output_type": "stream",
          "text": [
            "None\n"
          ],
          "name": "stdout"
        },
        {
          "output_type": "stream",
          "text": [
            "2021-07-13 13:05:10,728 - INFO: Save the snapshot model with index: 3\n",
            "2021-07-13 13:05:11,676 - INFO: n_estimators: 4 | Validation Acc: 77.790 % | Historical Best: 77.790 %\n",
            "2021-07-13 13:05:12,522 - INFO: lr: 0.10000 | Epoch: 056 | Batch: 000 | Loss: 0.44030 | Correct: 111/128\n"
          ],
          "name": "stderr"
        },
        {
          "output_type": "stream",
          "text": [
            "None\n"
          ],
          "name": "stdout"
        },
        {
          "output_type": "stream",
          "text": [
            "2021-07-13 13:05:29,084 - INFO: lr: 0.09875 | Epoch: 057 | Batch: 000 | Loss: 1.13973 | Correct: 83/128\n"
          ],
          "name": "stderr"
        },
        {
          "output_type": "stream",
          "text": [
            "None\n"
          ],
          "name": "stdout"
        },
        {
          "output_type": "stream",
          "text": [
            "2021-07-13 13:05:45,602 - INFO: lr: 0.09505 | Epoch: 058 | Batch: 000 | Loss: 0.63071 | Correct: 105/128\n"
          ],
          "name": "stderr"
        },
        {
          "output_type": "stream",
          "text": [
            "None\n"
          ],
          "name": "stdout"
        },
        {
          "output_type": "stream",
          "text": [
            "2021-07-13 13:06:02,158 - INFO: lr: 0.08909 | Epoch: 059 | Batch: 000 | Loss: 0.77870 | Correct: 98/128\n"
          ],
          "name": "stderr"
        },
        {
          "output_type": "stream",
          "text": [
            "None\n"
          ],
          "name": "stdout"
        },
        {
          "output_type": "stream",
          "text": [
            "2021-07-13 13:06:18,661 - INFO: lr: 0.08117 | Epoch: 060 | Batch: 000 | Loss: 0.79567 | Correct: 95/128\n"
          ],
          "name": "stderr"
        },
        {
          "output_type": "stream",
          "text": [
            "None\n"
          ],
          "name": "stdout"
        },
        {
          "output_type": "stream",
          "text": [
            "2021-07-13 13:06:35,179 - INFO: lr: 0.07169 | Epoch: 061 | Batch: 000 | Loss: 0.90143 | Correct: 95/128\n"
          ],
          "name": "stderr"
        },
        {
          "output_type": "stream",
          "text": [
            "None\n"
          ],
          "name": "stdout"
        },
        {
          "output_type": "stream",
          "text": [
            "2021-07-13 13:06:51,679 - INFO: lr: 0.06113 | Epoch: 062 | Batch: 000 | Loss: 0.69973 | Correct: 101/128\n"
          ],
          "name": "stderr"
        },
        {
          "output_type": "stream",
          "text": [
            "None\n"
          ],
          "name": "stdout"
        },
        {
          "output_type": "stream",
          "text": [
            "2021-07-13 13:07:08,180 - INFO: lr: 0.05000 | Epoch: 063 | Batch: 000 | Loss: 0.54757 | Correct: 103/128\n"
          ],
          "name": "stderr"
        },
        {
          "output_type": "stream",
          "text": [
            "None\n"
          ],
          "name": "stdout"
        },
        {
          "output_type": "stream",
          "text": [
            "2021-07-13 13:07:24,668 - INFO: lr: 0.03887 | Epoch: 064 | Batch: 000 | Loss: 0.35118 | Correct: 115/128\n"
          ],
          "name": "stderr"
        },
        {
          "output_type": "stream",
          "text": [
            "None\n"
          ],
          "name": "stdout"
        },
        {
          "output_type": "stream",
          "text": [
            "2021-07-13 13:07:41,157 - INFO: lr: 0.02831 | Epoch: 065 | Batch: 000 | Loss: 0.47557 | Correct: 107/128\n"
          ],
          "name": "stderr"
        },
        {
          "output_type": "stream",
          "text": [
            "None\n"
          ],
          "name": "stdout"
        },
        {
          "output_type": "stream",
          "text": [
            "2021-07-13 13:07:57,671 - INFO: lr: 0.01883 | Epoch: 066 | Batch: 000 | Loss: 0.27010 | Correct: 119/128\n"
          ],
          "name": "stderr"
        },
        {
          "output_type": "stream",
          "text": [
            "None\n"
          ],
          "name": "stdout"
        },
        {
          "output_type": "stream",
          "text": [
            "2021-07-13 13:08:14,163 - INFO: lr: 0.01091 | Epoch: 067 | Batch: 000 | Loss: 0.23914 | Correct: 122/128\n"
          ],
          "name": "stderr"
        },
        {
          "output_type": "stream",
          "text": [
            "None\n"
          ],
          "name": "stdout"
        },
        {
          "output_type": "stream",
          "text": [
            "2021-07-13 13:08:30,699 - INFO: lr: 0.00495 | Epoch: 068 | Batch: 000 | Loss: 0.32760 | Correct: 120/128\n"
          ],
          "name": "stderr"
        },
        {
          "output_type": "stream",
          "text": [
            "None\n"
          ],
          "name": "stdout"
        },
        {
          "output_type": "stream",
          "text": [
            "2021-07-13 13:08:47,198 - INFO: lr: 0.00125 | Epoch: 069 | Batch: 000 | Loss: 0.26717 | Correct: 121/128\n"
          ],
          "name": "stderr"
        },
        {
          "output_type": "stream",
          "text": [
            "None\n"
          ],
          "name": "stdout"
        },
        {
          "output_type": "stream",
          "text": [
            "2021-07-13 13:09:02,898 - INFO: Save the snapshot model with index: 4\n",
            "2021-07-13 13:09:03,951 - INFO: n_estimators: 5 | Validation Acc: 78.795 % | Historical Best: 78.795 %\n"
          ],
          "name": "stderr"
        },
        {
          "output_type": "stream",
          "text": [
            "Group 5 Finished!\n",
            "Target number of exemplars: 40\n",
            "Randomly extracting exemplars from class 0 of current split... Extracted 40 exemplars.\n",
            "Randomly extracting exemplars from class 1 of current split... Extracted 40 exemplars.\n",
            "Randomly extracting exemplars from class 2 of current split... Extracted 40 exemplars.\n",
            "Randomly extracting exemplars from class 3 of current split... Extracted 40 exemplars.\n",
            "Randomly extracting exemplars from class 4 of current split... Extracted 40 exemplars.\n",
            "Randomly extracting exemplars from class 5 of current split... Extracted 40 exemplars.\n",
            "Randomly extracting exemplars from class 6 of current split... Extracted 40 exemplars.\n",
            "Randomly extracting exemplars from class 7 of current split... Extracted 40 exemplars.\n",
            "Randomly extracting exemplars from class 8 of current split... Extracted 40 exemplars.\n",
            "Randomly extracting exemplars from class 9 of current split... Extracted 40 exemplars.\n",
            "[0.08130040322580645, 0.2255796370967742, 0.43855846774193546, 0.5538054435483871, 0.6981854838709678, 0.7850806451612903, 0.8788810483870968],[0.3713942307692308, 0.3261217948717949, 0.2548076923076923, 0.20853365384615385, 0.12179487179487179, 0.0859375, 0.046875]\n",
            "Testing on both open and closed world\n",
            "owr harmonic mean (threshold:0.25) = 0.13339897780899115\n",
            "owr harmonic mean (threshold:0.35) = 0.2666893064751707\n",
            "owr harmonic mean (threshold:0.5) = 0.3223349437743593\n",
            "owr harmonic mean (threshold:0.6) = 0.30298084686391435\n",
            "owr harmonic mean (threshold:0.75) = 0.20740841145652733\n",
            "owr harmonic mean (threshold:0.85) = 0.1549172501591343\n",
            "owr harmonic mean (threshold:0.95) = 0.08900303533511188\n",
            "\n",
            "=============================================\n",
            "\n",
            "#################################\n",
            "\n",
            "\n"
          ],
          "name": "stdout"
        }
      ]
    },
    {
      "cell_type": "code",
      "metadata": {
        "id": "FlhjGZlYBYdR"
      },
      "source": [
        "predictions = [[logs[run_i]['predictions'][i].cpu().numpy() for i in range(len(logs[run_i]['predictions']))] for run_i in range(len(RANDOM_SEED))]"
      ],
      "execution_count": 9,
      "outputs": []
    },
    {
      "cell_type": "code",
      "metadata": {
        "id": "ReLwAHhLCvfn"
      },
      "source": [
        "accuracies = []\n",
        "for i in range(len(REJECTION_THRESHOLD)):\n",
        "  tmp_list = []\n",
        "  for k in range(5):\n",
        "    tmp_list.append(logs[0]['test_accuracies'][k][i])\n",
        "  accuracies.append(tmp_list)"
      ],
      "execution_count": 10,
      "outputs": []
    },
    {
      "cell_type": "code",
      "metadata": {
        "id": "8683fPolB-q8"
      },
      "source": [
        "true_labels = [logs[run_i]['true_labels'].cpu().data.numpy().tolist() for run_i in range(len(RANDOM_SEED))]"
      ],
      "execution_count": 11,
      "outputs": []
    },
    {
      "cell_type": "code",
      "metadata": {
        "colab": {
          "base_uri": "https://localhost:8080/"
        },
        "id": "jzGrXNnPMUa9",
        "outputId": "721511ed-db15-4bed-900a-7c0f83c9393a"
      },
      "source": [
        "import json\n",
        "\n",
        "with open('states/accuracies-mean.json', 'w') as f:\n",
        "  json.dump(accuracies, f)\n",
        "f.close"
      ],
      "execution_count": 12,
      "outputs": [
        {
          "output_type": "execute_result",
          "data": {
            "text/plain": [
              "<function TextIOWrapper.close>"
            ]
          },
          "metadata": {
            "tags": []
          },
          "execution_count": 12
        }
      ]
    },
    {
      "cell_type": "markdown",
      "metadata": {
        "id": "2NMLqiIS19IJ"
      },
      "source": [
        "### Print some graphs"
      ]
    },
    {
      "cell_type": "code",
      "metadata": {
        "id": "G6Mg2QiIBNRo"
      },
      "source": [
        "from data.utils_plot import plot_train_val, plot_test_accuracies, plot_confusion_matrix"
      ],
      "execution_count": 13,
      "outputs": []
    },
    {
      "cell_type": "code",
      "metadata": {
        "id": "ttyNLP2hGnLN"
      },
      "source": [
        "accuracies = np.array([accuracies])\n",
        "accuracies_stats = np.array([accuracies.mean(0), accuracies.std(0)])"
      ],
      "execution_count": 14,
      "outputs": []
    },
    {
      "cell_type": "code",
      "metadata": {
        "colab": {
          "base_uri": "https://localhost:8080/"
        },
        "id": "ZthTHrJOp9f3",
        "outputId": "84ca55b3-b166-4091-9627-fc84ba852149"
      },
      "source": [
        "accuracies_stats[0][1]"
      ],
      "execution_count": 15,
      "outputs": [
        {
          "output_type": "execute_result",
          "data": {
            "text/plain": [
              "array([0.07540297, 0.14683614, 0.18399227, 0.22879714, 0.26668931])"
            ]
          },
          "metadata": {
            "tags": []
          },
          "execution_count": 15
        }
      ]
    },
    {
      "cell_type": "markdown",
      "metadata": {
        "id": "llzylw_LF7e_"
      },
      "source": [
        "#### Test accuracy"
      ]
    },
    {
      "cell_type": "code",
      "metadata": {
        "colab": {
          "base_uri": "https://localhost:8080/",
          "height": 1000
        },
        "id": "NQfpluscGzX8",
        "outputId": "6a6ae3e9-88e9-49b5-8bd3-1a0ae84bd0c4"
      },
      "source": [
        "def plot_test(stats, save_directory = None, title = \"\"):\n",
        "  mean = np.array(stats[0])\n",
        "  std = np.array(stats[1])\n",
        "  fig, ax = plt.subplots(figsize = (10, 5), dpi = 100)\n",
        "  x = np.arange(10, 51, 10)\n",
        "  ax.errorbar(x, mean, std)\n",
        "  ax.set_title(f\"Harmonic mean accuracy - threshold: {title}\")\n",
        "  ax.set_xlabel(\"Number of classes\")\n",
        "  ax.set_ylabel(\"Accuracy\")\n",
        "  plt.tight_layout()\n",
        "  if save_directory != None:\n",
        "    fig.savefig(save_directory)\n",
        "  plt.show()\n",
        "\n",
        "\n",
        "for i in range(len(REJECTION_THRESHOLD)):\n",
        "  plot_test(stats = [accuracies_stats[0][i],accuracies_stats[1][i]], title = REJECTION_THRESHOLD[i])"
      ],
      "execution_count": 16,
      "outputs": [
        {
          "output_type": "display_data",
          "data": {
            "image/png": "[encoded data removed]",
            "text/plain": [
              "<Figure size 1000x500 with 1 Axes>"
            ]
          },
          "metadata": {
            "tags": [],
            "needs_background": "light"
          }
        },
        {
          "output_type": "display_data",
          "data": {
            "image/png": "[encoded data removed]",
            "text/plain": [
              "<Figure size 1000x500 with 1 Axes>"
            ]
          },
          "metadata": {
            "tags": [],
            "needs_background": "light"
          }
        },
        {
          "output_type": "display_data",
          "data": {
            "image/png": "[encoded data removed]",
            "text/plain": [
              "<Figure size 1000x500 with 1 Axes>"
            ]
          },
          "metadata": {
            "tags": [],
            "needs_background": "light"
          }
        },
        {
          "output_type": "display_data",
          "data": {
            "image/png": "[encoded data removed]",
            "text/plain": [
              "<Figure size 1000x500 with 1 Axes>"
            ]
          },
          "metadata": {
            "tags": [],
            "needs_background": "light"
          }
        },
        {
          "output_type": "display_data",
          "data": {
            "image/png": "[encoded data removed]",
            "text/plain": [
              "<Figure size 1000x500 with 1 Axes>"
            ]
          },
          "metadata": {
            "tags": [],
            "needs_background": "light"
          }
        },
        {
          "output_type": "display_data",
          "data": {
            "image/png": "[encoded data removed]",
            "text/plain": [
              "<Figure size 1000x500 with 1 Axes>"
            ]
          },
          "metadata": {
            "tags": [],
            "needs_background": "light"
          }
        },
        {
          "output_type": "display_data",
          "data": {
            "image/png": "[encoded data removed]",
            "text/plain": [
              "<Figure size 1000x500 with 1 Axes>"
            ]
          },
          "metadata": {
            "tags": [],
            "needs_background": "light"
          }
        }
      ]
    },
    {
      "cell_type": "markdown",
      "metadata": {
        "id": "gN6cighYm1nG"
      },
      "source": [
        "#### Confusion Matrix"
      ]
    },
    {
      "cell_type": "code",
      "metadata": {
        "colab": {
          "base_uri": "https://localhost:8080/"
        },
        "id": "JZBrIV_SKq2W",
        "outputId": "bef868d1-73a2-4dde-e3b4-dab9311d8089"
      },
      "source": [
        "set(true_labels[0])"
      ],
      "execution_count": 17,
      "outputs": [
        {
          "output_type": "execute_result",
          "data": {
            "text/plain": [
              "{0,\n",
              " 1,\n",
              " 2,\n",
              " 3,\n",
              " 4,\n",
              " 5,\n",
              " 6,\n",
              " 7,\n",
              " 8,\n",
              " 9,\n",
              " 10,\n",
              " 11,\n",
              " 12,\n",
              " 13,\n",
              " 14,\n",
              " 15,\n",
              " 16,\n",
              " 17,\n",
              " 18,\n",
              " 19,\n",
              " 20,\n",
              " 21,\n",
              " 22,\n",
              " 23,\n",
              " 24,\n",
              " 25,\n",
              " 26,\n",
              " 27,\n",
              " 28,\n",
              " 29,\n",
              " 30,\n",
              " 31,\n",
              " 32,\n",
              " 33,\n",
              " 34,\n",
              " 35,\n",
              " 36,\n",
              " 37,\n",
              " 38,\n",
              " 39,\n",
              " 40,\n",
              " 41,\n",
              " 42,\n",
              " 43,\n",
              " 44,\n",
              " 45,\n",
              " 46,\n",
              " 47,\n",
              " 48,\n",
              " 49,\n",
              " 50,\n",
              " 51,\n",
              " 52,\n",
              " 53,\n",
              " 54,\n",
              " 55,\n",
              " 56,\n",
              " 57,\n",
              " 58,\n",
              " 59,\n",
              " 60,\n",
              " 61,\n",
              " 62,\n",
              " 63,\n",
              " 64,\n",
              " 65,\n",
              " 66,\n",
              " 67,\n",
              " 68,\n",
              " 69,\n",
              " 70,\n",
              " 71,\n",
              " 72,\n",
              " 73,\n",
              " 74,\n",
              " 75,\n",
              " 76,\n",
              " 77,\n",
              " 78,\n",
              " 79,\n",
              " 80,\n",
              " 81,\n",
              " 82,\n",
              " 83,\n",
              " 84,\n",
              " 85,\n",
              " 86,\n",
              " 87,\n",
              " 88,\n",
              " 89,\n",
              " 90,\n",
              " 91,\n",
              " 92,\n",
              " 93,\n",
              " 94,\n",
              " 95,\n",
              " 96,\n",
              " 97,\n",
              " 98,\n",
              " 99}"
            ]
          },
          "metadata": {
            "tags": []
          },
          "execution_count": 17
        }
      ]
    },
    {
      "cell_type": "code",
      "metadata": {
        "id": "LPG6aNRjm5Se",
        "colab": {
          "base_uri": "https://localhost:8080/",
          "height": 1000
        },
        "outputId": "0dbe550c-c2a2-4372-b594-34cc2190c329"
      },
      "source": [
        "for i in range(len(REJECTION_THRESHOLD)):\n",
        "  targets = np.array(true_labels[0])\n",
        "  preds = np.array(predictions[0][i])\n",
        "  title = f\"Confusion matrix - Threshold: {REJECTION_THRESHOLD[i]}\"\n",
        "  plot_confusion_matrix(targets, preds, RANDOM_SEED[run], title)"
      ],
      "execution_count": 18,
      "outputs": [
        {
          "output_type": "display_data",
          "data": {
            "image/png": "[encoded data removed]",
            "text/plain": [
              "<Figure size 500x500 with 2 Axes>"
            ]
          },
          "metadata": {
            "tags": [],
            "needs_background": "light"
          }
        },
        {
          "output_type": "display_data",
          "data": {
            "image/png": "[encoded data removed]",
            "text/plain": [
              "<Figure size 500x500 with 2 Axes>"
            ]
          },
          "metadata": {
            "tags": [],
            "needs_background": "light"
          }
        },
        {
          "output_type": "display_data",
          "data": {
            "image/png": "[encoded data removed]",
            "text/plain": [
              "<Figure size 500x500 with 2 Axes>"
            ]
          },
          "metadata": {
            "tags": [],
            "needs_background": "light"
          }
        },
        {
          "output_type": "display_data",
          "data": {
            "image/png": "[encoded data removed]",
            "text/plain": [
              "<Figure size 500x500 with 2 Axes>"
            ]
          },
          "metadata": {
            "tags": [],
            "needs_background": "light"
          }
        },
        {
          "output_type": "display_data",
          "data": {
            "image/png": "[encoded data removed]",
            "text/plain": [
              "<Figure size 500x500 with 2 Axes>"
            ]
          },
          "metadata": {
            "tags": [],
            "needs_background": "light"
          }
        },
        {
          "output_type": "display_data",
          "data": {
            "image/png": "[encoded data removed]",
            "text/plain": [
              "<Figure size 500x500 with 2 Axes>"
            ]
          },
          "metadata": {
            "tags": [],
            "needs_background": "light"
          }
        },
        {
          "output_type": "display_data",
          "data": {
            "image/png": "[encoded data removed]",
            "text/plain": [
              "<Figure size 500x500 with 2 Axes>"
            ]
          },
          "metadata": {
            "tags": [],
            "needs_background": "light"
          }
        }
      ]
    }
  ]
}