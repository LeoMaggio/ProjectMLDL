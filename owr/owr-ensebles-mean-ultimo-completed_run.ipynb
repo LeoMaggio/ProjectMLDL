{
  "nbformat": 4,
  "nbformat_minor": 0,
  "metadata": {
    "colab": {
      "name": "OWR-Ensembles.ipynb",
      "provenance": [],
      "include_colab_link": true
    },
    "kernelspec": {
      "name": "python3",
      "display_name": "Python 3"
    },
    "language_info": {
      "name": "python"
    },
    "accelerator": "GPU",
    "widgets": {
      "application/vnd.jupyter.widget-state+json": {
        "7c8a92253f7c4eef871441b15fe972d3": {
          "model_module": "@jupyter-widgets/controls",
          "model_name": "HBoxModel",
          "state": {
            "_view_name": "HBoxView",
            "_dom_classes": [],
            "_model_name": "HBoxModel",
            "_view_module": "@jupyter-widgets/controls",
            "_model_module_version": "1.5.0",
            "_view_count": null,
            "_view_module_version": "1.5.0",
            "box_style": "",
            "layout": "IPY_MODEL_1fdbd1c9e6844be98b30884a3c4a7843",
            "_model_module": "@jupyter-widgets/controls",
            "children": [
              "IPY_MODEL_d1342d5a7ee74fb58d0fde6f8975a71f",
              "IPY_MODEL_27efe1a76239433a8917681ec579c82f"
            ]
          }
        },
        "1fdbd1c9e6844be98b30884a3c4a7843": {
          "model_module": "@jupyter-widgets/base",
          "model_name": "LayoutModel",
          "state": {
            "_view_name": "LayoutView",
            "grid_template_rows": null,
            "right": null,
            "justify_content": null,
            "_view_module": "@jupyter-widgets/base",
            "overflow": null,
            "_model_module_version": "1.2.0",
            "_view_count": null,
            "flex_flow": null,
            "width": null,
            "min_width": null,
            "border": null,
            "align_items": null,
            "bottom": null,
            "_model_module": "@jupyter-widgets/base",
            "top": null,
            "grid_column": null,
            "overflow_y": null,
            "overflow_x": null,
            "grid_auto_flow": null,
            "grid_area": null,
            "grid_template_columns": null,
            "flex": null,
            "_model_name": "LayoutModel",
            "justify_items": null,
            "grid_row": null,
            "max_height": null,
            "align_content": null,
            "visibility": null,
            "align_self": null,
            "height": null,
            "min_height": null,
            "padding": null,
            "grid_auto_rows": null,
            "grid_gap": null,
            "max_width": null,
            "order": null,
            "_view_module_version": "1.2.0",
            "grid_template_areas": null,
            "object_position": null,
            "object_fit": null,
            "grid_auto_columns": null,
            "margin": null,
            "display": null,
            "left": null
          }
        },
        "d1342d5a7ee74fb58d0fde6f8975a71f": {
          "model_module": "@jupyter-widgets/controls",
          "model_name": "FloatProgressModel",
          "state": {
            "_view_name": "ProgressView",
            "style": "IPY_MODEL_66d8ccc17b6644b58e0b25d5ac12fd65",
            "_dom_classes": [],
            "description": "",
            "_model_name": "FloatProgressModel",
            "bar_style": "success",
            "max": 169001437,
            "_view_module": "@jupyter-widgets/controls",
            "_model_module_version": "1.5.0",
            "value": 169001437,
            "_view_count": null,
            "_view_module_version": "1.5.0",
            "orientation": "horizontal",
            "min": 0,
            "description_tooltip": null,
            "_model_module": "@jupyter-widgets/controls",
            "layout": "IPY_MODEL_6e3ff5468f3d43028fbe739326ad362d"
          }
        },
        "27efe1a76239433a8917681ec579c82f": {
          "model_module": "@jupyter-widgets/controls",
          "model_name": "HTMLModel",
          "state": {
            "_view_name": "HTMLView",
            "style": "IPY_MODEL_31a5b124b89b462bbb8520972d014602",
            "_dom_classes": [],
            "description": "",
            "_model_name": "HTMLModel",
            "placeholder": "​",
            "_view_module": "@jupyter-widgets/controls",
            "_model_module_version": "1.5.0",
            "value": " 169001984/? [00:33&lt;00:00, 5054327.51it/s]",
            "_view_count": null,
            "_view_module_version": "1.5.0",
            "description_tooltip": null,
            "_model_module": "@jupyter-widgets/controls",
            "layout": "IPY_MODEL_c72d781aafa24c22a97e585881e7ec78"
          }
        },
        "66d8ccc17b6644b58e0b25d5ac12fd65": {
          "model_module": "@jupyter-widgets/controls",
          "model_name": "ProgressStyleModel",
          "state": {
            "_view_name": "StyleView",
            "_model_name": "ProgressStyleModel",
            "description_width": "initial",
            "_view_module": "@jupyter-widgets/base",
            "_model_module_version": "1.5.0",
            "_view_count": null,
            "_view_module_version": "1.2.0",
            "bar_color": null,
            "_model_module": "@jupyter-widgets/controls"
          }
        },
        "6e3ff5468f3d43028fbe739326ad362d": {
          "model_module": "@jupyter-widgets/base",
          "model_name": "LayoutModel",
          "state": {
            "_view_name": "LayoutView",
            "grid_template_rows": null,
            "right": null,
            "justify_content": null,
            "_view_module": "@jupyter-widgets/base",
            "overflow": null,
            "_model_module_version": "1.2.0",
            "_view_count": null,
            "flex_flow": null,
            "width": null,
            "min_width": null,
            "border": null,
            "align_items": null,
            "bottom": null,
            "_model_module": "@jupyter-widgets/base",
            "top": null,
            "grid_column": null,
            "overflow_y": null,
            "overflow_x": null,
            "grid_auto_flow": null,
            "grid_area": null,
            "grid_template_columns": null,
            "flex": null,
            "_model_name": "LayoutModel",
            "justify_items": null,
            "grid_row": null,
            "max_height": null,
            "align_content": null,
            "visibility": null,
            "align_self": null,
            "height": null,
            "min_height": null,
            "padding": null,
            "grid_auto_rows": null,
            "grid_gap": null,
            "max_width": null,
            "order": null,
            "_view_module_version": "1.2.0",
            "grid_template_areas": null,
            "object_position": null,
            "object_fit": null,
            "grid_auto_columns": null,
            "margin": null,
            "display": null,
            "left": null
          }
        },
        "31a5b124b89b462bbb8520972d014602": {
          "model_module": "@jupyter-widgets/controls",
          "model_name": "DescriptionStyleModel",
          "state": {
            "_view_name": "StyleView",
            "_model_name": "DescriptionStyleModel",
            "description_width": "",
            "_view_module": "@jupyter-widgets/base",
            "_model_module_version": "1.5.0",
            "_view_count": null,
            "_view_module_version": "1.2.0",
            "_model_module": "@jupyter-widgets/controls"
          }
        },
        "c72d781aafa24c22a97e585881e7ec78": {
          "model_module": "@jupyter-widgets/base",
          "model_name": "LayoutModel",
          "state": {
            "_view_name": "LayoutView",
            "grid_template_rows": null,
            "right": null,
            "justify_content": null,
            "_view_module": "@jupyter-widgets/base",
            "overflow": null,
            "_model_module_version": "1.2.0",
            "_view_count": null,
            "flex_flow": null,
            "width": null,
            "min_width": null,
            "border": null,
            "align_items": null,
            "bottom": null,
            "_model_module": "@jupyter-widgets/base",
            "top": null,
            "grid_column": null,
            "overflow_y": null,
            "overflow_x": null,
            "grid_auto_flow": null,
            "grid_area": null,
            "grid_template_columns": null,
            "flex": null,
            "_model_name": "LayoutModel",
            "justify_items": null,
            "grid_row": null,
            "max_height": null,
            "align_content": null,
            "visibility": null,
            "align_self": null,
            "height": null,
            "min_height": null,
            "padding": null,
            "grid_auto_rows": null,
            "grid_gap": null,
            "max_width": null,
            "order": null,
            "_view_module_version": "1.2.0",
            "grid_template_areas": null,
            "object_position": null,
            "object_fit": null,
            "grid_auto_columns": null,
            "margin": null,
            "display": null,
            "left": null
          }
        }
      }
    }
  },
  "cells": [
    {
      "cell_type": "markdown",
      "metadata": {
        "id": "view-in-github",
        "colab_type": "text"
      },
      "source": [
        "<a href=\"https://colab.research.google.com/github/cosminnedescu/ProjectMLDL/blob/main/owr/owr-ensebles-mean-ultimo-completed_run.ipynb\" target=\"_parent\"><img src=\"https://colab.research.google.com/assets/colab-badge.svg\" alt=\"Open In Colab\"/></a>"
      ]
    },
    {
      "cell_type": "code",
      "metadata": {
        "id": "PF5bRIxnU-PW",
        "colab": {
          "base_uri": "https://localhost:8080/"
        },
        "outputId": "1623e50c-c5eb-4fd9-8724-2466dbd741d8"
      },
      "source": [
        "# Avoid K80\n",
        "!nvidia-smi"
      ],
      "execution_count": 1,
      "outputs": [
        {
          "output_type": "stream",
          "text": [
            "Fri Jul 16 06:53:25 2021       \n",
            "+-----------------------------------------------------------------------------+\n",
            "| NVIDIA-SMI 470.42.01    Driver Version: 460.32.03    CUDA Version: 11.2     |\n",
            "|-------------------------------+----------------------+----------------------+\n",
            "| GPU  Name        Persistence-M| Bus-Id        Disp.A | Volatile Uncorr. ECC |\n",
            "| Fan  Temp  Perf  Pwr:Usage/Cap|         Memory-Usage | GPU-Util  Compute M. |\n",
            "|                               |                      |               MIG M. |\n",
            "|===============================+======================+======================|\n",
            "|   0  Tesla T4            Off  | 00000000:00:04.0 Off |                    0 |\n",
            "| N/A   64C    P8    12W /  70W |      0MiB / 15109MiB |      0%      Default |\n",
            "|                               |                      |                  N/A |\n",
            "+-------------------------------+----------------------+----------------------+\n",
            "                                                                               \n",
            "+-----------------------------------------------------------------------------+\n",
            "| Processes:                                                                  |\n",
            "|  GPU   GI   CI        PID   Type   Process name                  GPU Memory |\n",
            "|        ID   ID                                                   Usage      |\n",
            "|=============================================================================|\n",
            "|  No running processes found                                                 |\n",
            "+-----------------------------------------------------------------------------+\n"
          ],
          "name": "stdout"
        }
      ]
    },
    {
      "cell_type": "code",
      "metadata": {
        "id": "pJimWkPdQu6y"
      },
      "source": [
        "import os\n",
        "import random\n",
        "\n",
        "import torch\n",
        "import torch.nn as nn\n",
        "import torch.nn.init as init\n",
        "import torch.optim as optim\n",
        "from torch.autograd import Variable\n",
        "\n",
        "import torchvision\n",
        "from torchvision import transforms, datasets, models\n",
        "from torch.utils.data import Subset, DataLoader\n",
        "\n",
        "from PIL import Image\n",
        "\n",
        "import numpy as np\n",
        "import matplotlib \n",
        "import matplotlib.pyplot as plt\n",
        "from copy import copy\n",
        "from copy import deepcopy"
      ],
      "execution_count": 2,
      "outputs": []
    },
    {
      "cell_type": "markdown",
      "metadata": {
        "id": "7BZw-bZJ16ay"
      },
      "source": [
        "#### Cloning the Git repository"
      ]
    },
    {
      "cell_type": "code",
      "metadata": {
        "id": "yjntw1jZQ7Lg",
        "colab": {
          "base_uri": "https://localhost:8080/"
        },
        "outputId": "da55ec46-630c-4c43-a105-58add1183167"
      },
      "source": [
        "!rm -rf ProjectMLDL\n",
        "if not os.path.isdir('/content/ProjectMLDL'):\n",
        "  !git clone https://github.com/cosminnedescu/ProjectMLDL.git\n",
        "  %cd /content/ProjectMLDL\n",
        "  !rm -rf LICENSE README.md"
      ],
      "execution_count": 3,
      "outputs": [
        {
          "output_type": "stream",
          "text": [
            "Cloning into 'ProjectMLDL'...\n",
            "remote: Enumerating objects: 3708, done.\u001b[K\n",
            "remote: Counting objects: 100% (1124/1124), done.\u001b[K\n",
            "remote: Compressing objects: 100% (554/554), done.\u001b[K\n",
            "remote: Total 3708 (delta 653), reused 944 (delta 552), pack-reused 2584\u001b[K\n",
            "Receiving objects: 100% (3708/3708), 185.82 MiB | 35.63 MiB/s, done.\n",
            "Resolving deltas: 100% (2038/2038), done.\n",
            "/content/ProjectMLDL\n"
          ],
          "name": "stdout"
        }
      ]
    },
    {
      "cell_type": "code",
      "metadata": {
        "id": "nvqmxRxo2lUW"
      },
      "source": [
        "from data.cifar100 import CIFAR100\n",
        "from model.resnet32_modified import resnet32\n",
        "import data.utils\n",
        "from model.owrEnsamble import owrEnsemble"
      ],
      "execution_count": 4,
      "outputs": []
    },
    {
      "cell_type": "code",
      "metadata": {
        "id": "XwomFTtQo1x-"
      },
      "source": [
        "# True mean and std of Cifar100 dataset (src=\"https://gist.github.com/weiaicunzai/e623931921efefd4c331622c344d8151\")\n",
        "mean = [0.5071, 0.4867, 0.4408]\n",
        "std = [0.2675, 0.2565, 0.2761]\n",
        "\n",
        "train_transform = transforms.Compose([\n",
        "    transforms.RandomCrop(32, padding=4),\n",
        "    transforms.RandomHorizontalFlip(),\n",
        "    transforms.ToTensor(),\n",
        "    transforms.Normalize(mean, std),\n",
        "])\n",
        "test_transform = transforms.Compose(\n",
        "    [transforms.ToTensor(), \n",
        "     transforms.Normalize(mean, std),\n",
        "     ])"
      ],
      "execution_count": 5,
      "outputs": []
    },
    {
      "cell_type": "markdown",
      "metadata": {
        "id": "yRoS-R_sRhHT"
      },
      "source": [
        "## Incremental Classifier and Representation Learning"
      ]
    },
    {
      "cell_type": "markdown",
      "metadata": {
        "id": "3ocVW0wM2Iw2"
      },
      "source": [
        "### Defining hyperparameters according to iCarl paper"
      ]
    },
    {
      "cell_type": "code",
      "metadata": {
        "id": "nmEo_9lnwyBk"
      },
      "source": [
        "# Settings\n",
        "DEVICE = 'cuda'\n",
        "NUM_CLASSES = 100         # Total number of classes\n",
        "VAL_SIZE = 0.2            # Proportion of validation set with respect to training set (between 0 and 1)\n",
        "\n",
        "# Training\n",
        "BATCH_SIZE = 128          # Batch size\n",
        "LR = 0.1                    # Initial learning rate\n",
        "                       \n",
        "MOMENTUM = 0.9            # Momentum for stochastic gradient descent (SGD)\n",
        "WEIGHT_DECAY = 1e-5       # Weight decay from iCaRL\n",
        "\n",
        "RANDOM_SEED = [20]  # Random seeds defining the runs of every method\n",
        "                          # Note: this should be at least 3 to have a fair benchmark\n",
        "\n",
        "NUM_EPOCHS = 70           # Total number of training epochs\n",
        "MILESTONES = [43, 63]     # Step down policy from iCaRL (MultiStepLR)\n",
        "                          # Decrease the learning rate by gamma at each milestone\n",
        "GAMMA = 0.2               # Gamma factor from iCaRL (1/5)\n",
        "\n",
        "HERDING = False           # True to perform prioritized selection, False to perform random selection\n",
        "CLASSIFY = True           # True to use mean-of-exemplar classifier, False to use network's output directly for classification\n",
        "\n",
        "REJECTION_THRESHOLD = [0.25,0.35,0.50,0.60,0.75,0.85,0.95]\n",
        "TESTING_MODE = 'harmonic' #open, closed, harmonic\n",
        "N_ESTIMATORS = 5\n",
        "CONFIDENCE = '0.900' #'0.6827': 1, '0.900':1.47, '0.950':1.94, '0.975':2.45, '0.990':3.36\n",
        "STRATEGY = 'mean' # mean, variance, hybrid\n",
        "    "
      ],
      "execution_count": 6,
      "outputs": []
    },
    {
      "cell_type": "code",
      "metadata": {
        "id": "rVh61C63FECy"
      },
      "source": [
        "def do_group_classes(run):\n",
        "\n",
        "  train_subset = [[] for i in range(10)]\n",
        "  train_dataloader = [[] for i in range(10)]\n",
        "  val_dataloader = [[] for i in range(10)]\n",
        "  test_dataloader = [[] for i in range(10)]\n",
        "\n",
        "  for i in range(10):\n",
        "    train_data = CIFAR100(\"dataset\", \n",
        "                          train=True, \n",
        "                          transform=train_transform, \n",
        "                          download=(run+i==0),\n",
        "                          random_state=RANDOM_SEED[run])\n",
        "    test_data = CIFAR100(\"dataset\", \n",
        "                         train=False, \n",
        "                         transform=test_transform, \n",
        "                         download=False,\n",
        "                         random_state=RANDOM_SEED[run])\n",
        "    \n",
        "    train_data.set_index_map(train_data.splits[i])\n",
        "    test_data.set_index_map([test_data.splits[j] for j in range(0, i+1)])\n",
        "    \n",
        "    train_indices, val_indices = train_data.train_val_split(VAL_SIZE, RANDOM_SEED[run])\n",
        "    \n",
        "    train_subset[i] = copy(Subset(train_data, train_indices))\n",
        "    val_subset = Subset(train_data, val_indices)\n",
        "\n",
        "    tmp_dl = DataLoader(val_subset,\n",
        "                       batch_size=BATCH_SIZE,\n",
        "                       shuffle=True, \n",
        "                       num_workers=4,\n",
        "                       drop_last=True)\n",
        "    val_dataloader[i] = copy(tmp_dl)\n",
        "\n",
        "    tmp_dl = DataLoader(test_data,\n",
        "                       batch_size=BATCH_SIZE,\n",
        "                       shuffle=True, \n",
        "                       num_workers=4,\n",
        "                       drop_last=True)\n",
        "    test_dataloader[i] = copy(tmp_dl)\n",
        "\n",
        "  return train_dataloader, val_dataloader, test_dataloader, train_subset"
      ],
      "execution_count": 7,
      "outputs": []
    },
    {
      "cell_type": "markdown",
      "metadata": {
        "id": "20APZIgI1eBy"
      },
      "source": [
        "### Going on with the model\n",
        "This is the main iCaRL step.\n",
        "\n",
        "This step is run 3 times with different `RANDOM_SEED`.\n",
        "Here the model is instantiated, trained and tested.\n",
        "\n",
        "Results and some statistics are then stored in the variable `logs`."
      ]
    },
    {
      "cell_type": "code",
      "metadata": {
        "id": "mJHKbipz0bMr",
        "colab": {
          "base_uri": "https://localhost:8080/",
          "height": 1000,
          "referenced_widgets": [
            "7c8a92253f7c4eef871441b15fe972d3",
            "1fdbd1c9e6844be98b30884a3c4a7843",
            "d1342d5a7ee74fb58d0fde6f8975a71f",
            "27efe1a76239433a8917681ec579c82f",
            "66d8ccc17b6644b58e0b25d5ac12fd65",
            "6e3ff5468f3d43028fbe739326ad362d",
            "31a5b124b89b462bbb8520972d014602",
            "c72d781aafa24c22a97e585881e7ec78"
          ]
        },
        "outputId": "3fdbefc7-ca4c-44bd-c832-bdfce248873d"
      },
      "source": [
        "logs = [[] for i in range(len(RANDOM_SEED))]\n",
        "best_net_tot_classes = [None for i in range(len(RANDOM_SEED))]\n",
        "\n",
        "for run in range(len(RANDOM_SEED)):\n",
        "  print(\"#################################\")\n",
        "  print(f\"Radom seed: {RANDOM_SEED[run]}\")\n",
        "  print(\"\")\n",
        "\n",
        "  # get data_subsets separated in incremental groups of 10 classes\n",
        "  train_dl, val_dl, test_dl, train_set = do_group_classes(run)\n",
        "\n",
        "  #create the resnet\n",
        "  net = resnet32()\n",
        "  \n",
        "  trainer = owrEnsemble(DEVICE,\n",
        "                  net,\n",
        "                  LR,\n",
        "                  MOMENTUM,\n",
        "                  WEIGHT_DECAY,\n",
        "                  MILESTONES,\n",
        "                  GAMMA,\n",
        "                  train_dl,\n",
        "                  val_dl,\n",
        "                  test_dl,\n",
        "                  BATCH_SIZE,\n",
        "                  train_set,\n",
        "                  train_transform,\n",
        "                  test_transform,\n",
        "                  TESTING_MODE,\n",
        "                  REJECTION_THRESHOLD,\n",
        "                  N_ESTIMATORS,\n",
        "                  CONFIDENCE,\n",
        "                  STRATEGY) \n",
        "\n",
        "  #train and evaluate the model\n",
        "  logs[run] = trainer.train_model(NUM_EPOCHS)\n",
        "\n",
        "  best_net_tot_classes[run] = deepcopy(trainer.best_net)\n",
        "\n",
        "  print(\"#################################\")\n",
        "  print(\"\")\n",
        "  print(\"\")"
      ],
      "execution_count": 8,
      "outputs": [
        {
          "output_type": "stream",
          "text": [
            "#################################\n",
            "Radom seed: 20\n",
            "\n",
            "Downloading https://www.cs.toronto.edu/~kriz/cifar-100-python.tar.gz to dataset/cifar-100-python.tar.gz\n"
          ],
          "name": "stdout"
        },
        {
          "output_type": "display_data",
          "data": {
            "application/vnd.jupyter.widget-view+json": {
              "model_id": "7c8a92253f7c4eef871441b15fe972d3",
              "version_minor": 0,
              "version_major": 2
            },
            "text/plain": [
              "HBox(children=(FloatProgress(value=0.0, max=169001437.0), HTML(value='')))"
            ]
          },
          "metadata": {
            "tags": []
          }
        },
        {
          "output_type": "stream",
          "text": [
            "\n",
            "Extracting dataset/cifar-100-python.tar.gz to dataset\n"
          ],
          "name": "stdout"
        },
        {
          "output_type": "stream",
          "text": [
            "/usr/local/lib/python3.7/dist-packages/torch/utils/data/dataloader.py:481: UserWarning: This DataLoader will create 4 worker processes in total. Our suggested max number of worker in current system is 2, which is smaller than what this DataLoader is going to create. Please be aware that excessive worker creation might get DataLoader running slow or even freeze, lower the worker number to avoid potential slowness/freeze if necessary.\n",
            "  cpuset_checked))\n"
          ],
          "name": "stderr"
        },
        {
          "output_type": "stream",
          "text": [
            "Log will be saved in '/content/ProjectMLDL/logs'.\n",
            "Create folder 'logs/'\n",
            "Start logging into file /content/ProjectMLDL/logs/classification_mnist_mlp-2021_07_16_06_54.log...\n",
            "Length of exemplars set: 0\n"
          ],
          "name": "stdout"
        },
        {
          "output_type": "stream",
          "text": [
            "2021-07-16 06:54:42,573 - INFO: lr: 0.10000 | Epoch: 000 | Batch: 000 | Loss: 2.32485 | Correct: 12/128\n"
          ],
          "name": "stderr"
        },
        {
          "output_type": "stream",
          "text": [
            "None\n"
          ],
          "name": "stdout"
        },
        {
          "output_type": "stream",
          "text": [
            "2021-07-16 06:54:44,822 - INFO: lr: 0.09875 | Epoch: 001 | Batch: 000 | Loss: 1.92662 | Correct: 40/128\n"
          ],
          "name": "stderr"
        },
        {
          "output_type": "stream",
          "text": [
            "None\n"
          ],
          "name": "stdout"
        },
        {
          "output_type": "stream",
          "text": [
            "2021-07-16 06:54:47,089 - INFO: lr: 0.09505 | Epoch: 002 | Batch: 000 | Loss: 1.51778 | Correct: 57/128\n"
          ],
          "name": "stderr"
        },
        {
          "output_type": "stream",
          "text": [
            "None\n"
          ],
          "name": "stdout"
        },
        {
          "output_type": "stream",
          "text": [
            "2021-07-16 06:54:49,362 - INFO: lr: 0.08909 | Epoch: 003 | Batch: 000 | Loss: 1.47537 | Correct: 59/128\n"
          ],
          "name": "stderr"
        },
        {
          "output_type": "stream",
          "text": [
            "None\n"
          ],
          "name": "stdout"
        },
        {
          "output_type": "stream",
          "text": [
            "2021-07-16 06:54:51,527 - INFO: lr: 0.08117 | Epoch: 004 | Batch: 000 | Loss: 1.46334 | Correct: 61/128\n"
          ],
          "name": "stderr"
        },
        {
          "output_type": "stream",
          "text": [
            "None\n"
          ],
          "name": "stdout"
        },
        {
          "output_type": "stream",
          "text": [
            "2021-07-16 06:54:53,768 - INFO: lr: 0.07169 | Epoch: 005 | Batch: 000 | Loss: 1.12432 | Correct: 76/128\n"
          ],
          "name": "stderr"
        },
        {
          "output_type": "stream",
          "text": [
            "None\n"
          ],
          "name": "stdout"
        },
        {
          "output_type": "stream",
          "text": [
            "2021-07-16 06:54:56,061 - INFO: lr: 0.06113 | Epoch: 006 | Batch: 000 | Loss: 1.04922 | Correct: 75/128\n"
          ],
          "name": "stderr"
        },
        {
          "output_type": "stream",
          "text": [
            "None\n"
          ],
          "name": "stdout"
        },
        {
          "output_type": "stream",
          "text": [
            "2021-07-16 06:54:58,332 - INFO: lr: 0.05000 | Epoch: 007 | Batch: 000 | Loss: 1.05366 | Correct: 82/128\n"
          ],
          "name": "stderr"
        },
        {
          "output_type": "stream",
          "text": [
            "None\n"
          ],
          "name": "stdout"
        },
        {
          "output_type": "stream",
          "text": [
            "2021-07-16 06:55:00,621 - INFO: lr: 0.03887 | Epoch: 008 | Batch: 000 | Loss: 0.89779 | Correct: 82/128\n"
          ],
          "name": "stderr"
        },
        {
          "output_type": "stream",
          "text": [
            "None\n"
          ],
          "name": "stdout"
        },
        {
          "output_type": "stream",
          "text": [
            "2021-07-16 06:55:02,811 - INFO: lr: 0.02831 | Epoch: 009 | Batch: 000 | Loss: 0.93770 | Correct: 84/128\n"
          ],
          "name": "stderr"
        },
        {
          "output_type": "stream",
          "text": [
            "None\n"
          ],
          "name": "stdout"
        },
        {
          "output_type": "stream",
          "text": [
            "2021-07-16 06:55:05,080 - INFO: lr: 0.01883 | Epoch: 010 | Batch: 000 | Loss: 0.95816 | Correct: 84/128\n"
          ],
          "name": "stderr"
        },
        {
          "output_type": "stream",
          "text": [
            "None\n"
          ],
          "name": "stdout"
        },
        {
          "output_type": "stream",
          "text": [
            "2021-07-16 06:55:07,289 - INFO: lr: 0.01091 | Epoch: 011 | Batch: 000 | Loss: 0.73026 | Correct: 96/128\n"
          ],
          "name": "stderr"
        },
        {
          "output_type": "stream",
          "text": [
            "None\n"
          ],
          "name": "stdout"
        },
        {
          "output_type": "stream",
          "text": [
            "2021-07-16 06:55:09,402 - INFO: lr: 0.00495 | Epoch: 012 | Batch: 000 | Loss: 0.83214 | Correct: 91/128\n"
          ],
          "name": "stderr"
        },
        {
          "output_type": "stream",
          "text": [
            "None\n"
          ],
          "name": "stdout"
        },
        {
          "output_type": "stream",
          "text": [
            "2021-07-16 06:55:11,638 - INFO: lr: 0.00125 | Epoch: 013 | Batch: 000 | Loss: 0.75106 | Correct: 90/128\n"
          ],
          "name": "stderr"
        },
        {
          "output_type": "stream",
          "text": [
            "None\n"
          ],
          "name": "stdout"
        },
        {
          "output_type": "stream",
          "text": [
            "2021-07-16 06:55:13,500 - INFO: Save the snapshot model with index: 0\n",
            "2021-07-16 06:55:14,113 - INFO: n_estimators: 1 | Validation Acc: 70.089 % | Historical Best: 70.089 %\n",
            "2021-07-16 06:55:14,473 - INFO: lr: 0.10000 | Epoch: 014 | Batch: 000 | Loss: 0.81352 | Correct: 93/128\n"
          ],
          "name": "stderr"
        },
        {
          "output_type": "stream",
          "text": [
            "None\n"
          ],
          "name": "stdout"
        },
        {
          "output_type": "stream",
          "text": [
            "2021-07-16 06:55:16,685 - INFO: lr: 0.09875 | Epoch: 015 | Batch: 000 | Loss: 0.98939 | Correct: 83/128\n"
          ],
          "name": "stderr"
        },
        {
          "output_type": "stream",
          "text": [
            "None\n"
          ],
          "name": "stdout"
        },
        {
          "output_type": "stream",
          "text": [
            "2021-07-16 06:55:18,868 - INFO: lr: 0.09505 | Epoch: 016 | Batch: 000 | Loss: 1.13527 | Correct: 74/128\n"
          ],
          "name": "stderr"
        },
        {
          "output_type": "stream",
          "text": [
            "None\n"
          ],
          "name": "stdout"
        },
        {
          "output_type": "stream",
          "text": [
            "2021-07-16 06:55:21,138 - INFO: lr: 0.08909 | Epoch: 017 | Batch: 000 | Loss: 0.81184 | Correct: 100/128\n"
          ],
          "name": "stderr"
        },
        {
          "output_type": "stream",
          "text": [
            "None\n"
          ],
          "name": "stdout"
        },
        {
          "output_type": "stream",
          "text": [
            "2021-07-16 06:55:23,349 - INFO: lr: 0.08117 | Epoch: 018 | Batch: 000 | Loss: 0.89521 | Correct: 85/128\n"
          ],
          "name": "stderr"
        },
        {
          "output_type": "stream",
          "text": [
            "None\n"
          ],
          "name": "stdout"
        },
        {
          "output_type": "stream",
          "text": [
            "2021-07-16 06:55:25,515 - INFO: lr: 0.07169 | Epoch: 019 | Batch: 000 | Loss: 0.91715 | Correct: 91/128\n"
          ],
          "name": "stderr"
        },
        {
          "output_type": "stream",
          "text": [
            "None\n"
          ],
          "name": "stdout"
        },
        {
          "output_type": "stream",
          "text": [
            "2021-07-16 06:55:27,724 - INFO: lr: 0.06113 | Epoch: 020 | Batch: 000 | Loss: 0.83787 | Correct: 86/128\n"
          ],
          "name": "stderr"
        },
        {
          "output_type": "stream",
          "text": [
            "None\n"
          ],
          "name": "stdout"
        },
        {
          "output_type": "stream",
          "text": [
            "2021-07-16 06:55:29,905 - INFO: lr: 0.05000 | Epoch: 021 | Batch: 000 | Loss: 0.48885 | Correct: 105/128\n"
          ],
          "name": "stderr"
        },
        {
          "output_type": "stream",
          "text": [
            "None\n"
          ],
          "name": "stdout"
        },
        {
          "output_type": "stream",
          "text": [
            "2021-07-16 06:55:32,185 - INFO: lr: 0.03887 | Epoch: 022 | Batch: 000 | Loss: 0.67904 | Correct: 99/128\n"
          ],
          "name": "stderr"
        },
        {
          "output_type": "stream",
          "text": [
            "None\n"
          ],
          "name": "stdout"
        },
        {
          "output_type": "stream",
          "text": [
            "2021-07-16 06:55:34,414 - INFO: lr: 0.02831 | Epoch: 023 | Batch: 000 | Loss: 0.59608 | Correct: 104/128\n"
          ],
          "name": "stderr"
        },
        {
          "output_type": "stream",
          "text": [
            "None\n"
          ],
          "name": "stdout"
        },
        {
          "output_type": "stream",
          "text": [
            "2021-07-16 06:55:36,640 - INFO: lr: 0.01883 | Epoch: 024 | Batch: 000 | Loss: 0.50634 | Correct: 106/128\n"
          ],
          "name": "stderr"
        },
        {
          "output_type": "stream",
          "text": [
            "None\n"
          ],
          "name": "stdout"
        },
        {
          "output_type": "stream",
          "text": [
            "2021-07-16 06:55:38,759 - INFO: lr: 0.01091 | Epoch: 025 | Batch: 000 | Loss: 0.51117 | Correct: 107/128\n"
          ],
          "name": "stderr"
        },
        {
          "output_type": "stream",
          "text": [
            "None\n"
          ],
          "name": "stdout"
        },
        {
          "output_type": "stream",
          "text": [
            "2021-07-16 06:55:41,068 - INFO: lr: 0.00495 | Epoch: 026 | Batch: 000 | Loss: 0.54937 | Correct: 102/128\n"
          ],
          "name": "stderr"
        },
        {
          "output_type": "stream",
          "text": [
            "None\n"
          ],
          "name": "stdout"
        },
        {
          "output_type": "stream",
          "text": [
            "2021-07-16 06:55:43,274 - INFO: lr: 0.00125 | Epoch: 027 | Batch: 000 | Loss: 0.46847 | Correct: 107/128\n"
          ],
          "name": "stderr"
        },
        {
          "output_type": "stream",
          "text": [
            "None\n"
          ],
          "name": "stdout"
        },
        {
          "output_type": "stream",
          "text": [
            "2021-07-16 06:55:45,131 - INFO: Save the snapshot model with index: 1\n",
            "2021-07-16 06:55:45,853 - INFO: n_estimators: 2 | Validation Acc: 78.795 % | Historical Best: 78.795 %\n",
            "2021-07-16 06:55:46,302 - INFO: lr: 0.10000 | Epoch: 028 | Batch: 000 | Loss: 0.46666 | Correct: 109/128\n"
          ],
          "name": "stderr"
        },
        {
          "output_type": "stream",
          "text": [
            "None\n"
          ],
          "name": "stdout"
        },
        {
          "output_type": "stream",
          "text": [
            "2021-07-16 06:55:48,527 - INFO: lr: 0.09875 | Epoch: 029 | Batch: 000 | Loss: 0.68935 | Correct: 99/128\n"
          ],
          "name": "stderr"
        },
        {
          "output_type": "stream",
          "text": [
            "None\n"
          ],
          "name": "stdout"
        },
        {
          "output_type": "stream",
          "text": [
            "2021-07-16 06:55:50,772 - INFO: lr: 0.09505 | Epoch: 030 | Batch: 000 | Loss: 0.68315 | Correct: 97/128\n"
          ],
          "name": "stderr"
        },
        {
          "output_type": "stream",
          "text": [
            "None\n"
          ],
          "name": "stdout"
        },
        {
          "output_type": "stream",
          "text": [
            "2021-07-16 06:55:53,097 - INFO: lr: 0.08909 | Epoch: 031 | Batch: 000 | Loss: 0.61150 | Correct: 95/128\n"
          ],
          "name": "stderr"
        },
        {
          "output_type": "stream",
          "text": [
            "None\n"
          ],
          "name": "stdout"
        },
        {
          "output_type": "stream",
          "text": [
            "2021-07-16 06:55:55,462 - INFO: lr: 0.08117 | Epoch: 032 | Batch: 000 | Loss: 0.58121 | Correct: 101/128\n"
          ],
          "name": "stderr"
        },
        {
          "output_type": "stream",
          "text": [
            "None\n"
          ],
          "name": "stdout"
        },
        {
          "output_type": "stream",
          "text": [
            "2021-07-16 06:55:57,752 - INFO: lr: 0.07169 | Epoch: 033 | Batch: 000 | Loss: 0.58058 | Correct: 100/128\n"
          ],
          "name": "stderr"
        },
        {
          "output_type": "stream",
          "text": [
            "None\n"
          ],
          "name": "stdout"
        },
        {
          "output_type": "stream",
          "text": [
            "2021-07-16 06:55:59,951 - INFO: lr: 0.06113 | Epoch: 034 | Batch: 000 | Loss: 0.39309 | Correct: 108/128\n"
          ],
          "name": "stderr"
        },
        {
          "output_type": "stream",
          "text": [
            "None\n"
          ],
          "name": "stdout"
        },
        {
          "output_type": "stream",
          "text": [
            "2021-07-16 06:56:02,315 - INFO: lr: 0.05000 | Epoch: 035 | Batch: 000 | Loss: 0.37987 | Correct: 112/128\n"
          ],
          "name": "stderr"
        },
        {
          "output_type": "stream",
          "text": [
            "None\n"
          ],
          "name": "stdout"
        },
        {
          "output_type": "stream",
          "text": [
            "2021-07-16 06:56:04,531 - INFO: lr: 0.03887 | Epoch: 036 | Batch: 000 | Loss: 0.21849 | Correct: 121/128\n"
          ],
          "name": "stderr"
        },
        {
          "output_type": "stream",
          "text": [
            "None\n"
          ],
          "name": "stdout"
        },
        {
          "output_type": "stream",
          "text": [
            "2021-07-16 06:56:06,873 - INFO: lr: 0.02831 | Epoch: 037 | Batch: 000 | Loss: 0.24545 | Correct: 118/128\n"
          ],
          "name": "stderr"
        },
        {
          "output_type": "stream",
          "text": [
            "None\n"
          ],
          "name": "stdout"
        },
        {
          "output_type": "stream",
          "text": [
            "2021-07-16 06:56:09,098 - INFO: lr: 0.01883 | Epoch: 038 | Batch: 000 | Loss: 0.25062 | Correct: 118/128\n"
          ],
          "name": "stderr"
        },
        {
          "output_type": "stream",
          "text": [
            "None\n"
          ],
          "name": "stdout"
        },
        {
          "output_type": "stream",
          "text": [
            "2021-07-16 06:56:11,409 - INFO: lr: 0.01091 | Epoch: 039 | Batch: 000 | Loss: 0.37594 | Correct: 108/128\n"
          ],
          "name": "stderr"
        },
        {
          "output_type": "stream",
          "text": [
            "None\n"
          ],
          "name": "stdout"
        },
        {
          "output_type": "stream",
          "text": [
            "2021-07-16 06:56:13,534 - INFO: lr: 0.00495 | Epoch: 040 | Batch: 000 | Loss: 0.25351 | Correct: 117/128\n"
          ],
          "name": "stderr"
        },
        {
          "output_type": "stream",
          "text": [
            "None\n"
          ],
          "name": "stdout"
        },
        {
          "output_type": "stream",
          "text": [
            "2021-07-16 06:56:15,750 - INFO: lr: 0.00125 | Epoch: 041 | Batch: 000 | Loss: 0.16120 | Correct: 122/128\n"
          ],
          "name": "stderr"
        },
        {
          "output_type": "stream",
          "text": [
            "None\n"
          ],
          "name": "stdout"
        },
        {
          "output_type": "stream",
          "text": [
            "2021-07-16 06:56:17,644 - INFO: Save the snapshot model with index: 2\n",
            "2021-07-16 06:56:18,430 - INFO: n_estimators: 3 | Validation Acc: 82.031 % | Historical Best: 82.031 %\n",
            "2021-07-16 06:56:18,891 - INFO: lr: 0.10000 | Epoch: 042 | Batch: 000 | Loss: 0.30918 | Correct: 115/128\n"
          ],
          "name": "stderr"
        },
        {
          "output_type": "stream",
          "text": [
            "None\n"
          ],
          "name": "stdout"
        },
        {
          "output_type": "stream",
          "text": [
            "2021-07-16 06:56:21,092 - INFO: lr: 0.09875 | Epoch: 043 | Batch: 000 | Loss: 0.57360 | Correct: 97/128\n"
          ],
          "name": "stderr"
        },
        {
          "output_type": "stream",
          "text": [
            "None\n"
          ],
          "name": "stdout"
        },
        {
          "output_type": "stream",
          "text": [
            "2021-07-16 06:56:23,209 - INFO: lr: 0.09505 | Epoch: 044 | Batch: 000 | Loss: 0.50994 | Correct: 109/128\n"
          ],
          "name": "stderr"
        },
        {
          "output_type": "stream",
          "text": [
            "None\n"
          ],
          "name": "stdout"
        },
        {
          "output_type": "stream",
          "text": [
            "2021-07-16 06:56:25,436 - INFO: lr: 0.08909 | Epoch: 045 | Batch: 000 | Loss: 0.50456 | Correct: 104/128\n"
          ],
          "name": "stderr"
        },
        {
          "output_type": "stream",
          "text": [
            "None\n"
          ],
          "name": "stdout"
        },
        {
          "output_type": "stream",
          "text": [
            "2021-07-16 06:56:27,674 - INFO: lr: 0.08117 | Epoch: 046 | Batch: 000 | Loss: 0.29968 | Correct: 115/128\n"
          ],
          "name": "stderr"
        },
        {
          "output_type": "stream",
          "text": [
            "None\n"
          ],
          "name": "stdout"
        },
        {
          "output_type": "stream",
          "text": [
            "2021-07-16 06:56:30,030 - INFO: lr: 0.07169 | Epoch: 047 | Batch: 000 | Loss: 0.24223 | Correct: 119/128\n"
          ],
          "name": "stderr"
        },
        {
          "output_type": "stream",
          "text": [
            "None\n"
          ],
          "name": "stdout"
        },
        {
          "output_type": "stream",
          "text": [
            "2021-07-16 06:56:32,249 - INFO: lr: 0.06113 | Epoch: 048 | Batch: 000 | Loss: 0.23163 | Correct: 120/128\n"
          ],
          "name": "stderr"
        },
        {
          "output_type": "stream",
          "text": [
            "None\n"
          ],
          "name": "stdout"
        },
        {
          "output_type": "stream",
          "text": [
            "2021-07-16 06:56:34,408 - INFO: lr: 0.05000 | Epoch: 049 | Batch: 000 | Loss: 0.15745 | Correct: 124/128\n"
          ],
          "name": "stderr"
        },
        {
          "output_type": "stream",
          "text": [
            "None\n"
          ],
          "name": "stdout"
        },
        {
          "output_type": "stream",
          "text": [
            "2021-07-16 06:56:36,564 - INFO: lr: 0.03887 | Epoch: 050 | Batch: 000 | Loss: 0.15234 | Correct: 122/128\n"
          ],
          "name": "stderr"
        },
        {
          "output_type": "stream",
          "text": [
            "None\n"
          ],
          "name": "stdout"
        },
        {
          "output_type": "stream",
          "text": [
            "2021-07-16 06:56:38,851 - INFO: lr: 0.02831 | Epoch: 051 | Batch: 000 | Loss: 0.16456 | Correct: 119/128\n"
          ],
          "name": "stderr"
        },
        {
          "output_type": "stream",
          "text": [
            "None\n"
          ],
          "name": "stdout"
        },
        {
          "output_type": "stream",
          "text": [
            "2021-07-16 06:56:41,052 - INFO: lr: 0.01883 | Epoch: 052 | Batch: 000 | Loss: 0.19228 | Correct: 121/128\n"
          ],
          "name": "stderr"
        },
        {
          "output_type": "stream",
          "text": [
            "None\n"
          ],
          "name": "stdout"
        },
        {
          "output_type": "stream",
          "text": [
            "2021-07-16 06:56:43,239 - INFO: lr: 0.01091 | Epoch: 053 | Batch: 000 | Loss: 0.22941 | Correct: 116/128\n"
          ],
          "name": "stderr"
        },
        {
          "output_type": "stream",
          "text": [
            "None\n"
          ],
          "name": "stdout"
        },
        {
          "output_type": "stream",
          "text": [
            "2021-07-16 06:56:45,398 - INFO: lr: 0.00495 | Epoch: 054 | Batch: 000 | Loss: 0.08791 | Correct: 126/128\n"
          ],
          "name": "stderr"
        },
        {
          "output_type": "stream",
          "text": [
            "None\n"
          ],
          "name": "stdout"
        },
        {
          "output_type": "stream",
          "text": [
            "2021-07-16 06:56:47,663 - INFO: lr: 0.00125 | Epoch: 055 | Batch: 000 | Loss: 0.10019 | Correct: 124/128\n"
          ],
          "name": "stderr"
        },
        {
          "output_type": "stream",
          "text": [
            "None\n"
          ],
          "name": "stdout"
        },
        {
          "output_type": "stream",
          "text": [
            "2021-07-16 06:56:49,511 - INFO: Save the snapshot model with index: 3\n",
            "2021-07-16 06:56:50,399 - INFO: n_estimators: 4 | Validation Acc: 84.598 % | Historical Best: 84.598 %\n",
            "2021-07-16 06:56:50,794 - INFO: lr: 0.10000 | Epoch: 056 | Batch: 000 | Loss: 0.12386 | Correct: 123/128\n"
          ],
          "name": "stderr"
        },
        {
          "output_type": "stream",
          "text": [
            "None\n"
          ],
          "name": "stdout"
        },
        {
          "output_type": "stream",
          "text": [
            "2021-07-16 06:56:53,085 - INFO: lr: 0.09875 | Epoch: 057 | Batch: 000 | Loss: 0.49685 | Correct: 110/128\n"
          ],
          "name": "stderr"
        },
        {
          "output_type": "stream",
          "text": [
            "None\n"
          ],
          "name": "stdout"
        },
        {
          "output_type": "stream",
          "text": [
            "2021-07-16 06:56:55,372 - INFO: lr: 0.09505 | Epoch: 058 | Batch: 000 | Loss: 0.35361 | Correct: 109/128\n"
          ],
          "name": "stderr"
        },
        {
          "output_type": "stream",
          "text": [
            "None\n"
          ],
          "name": "stdout"
        },
        {
          "output_type": "stream",
          "text": [
            "2021-07-16 06:56:57,694 - INFO: lr: 0.08909 | Epoch: 059 | Batch: 000 | Loss: 0.20379 | Correct: 121/128\n"
          ],
          "name": "stderr"
        },
        {
          "output_type": "stream",
          "text": [
            "None\n"
          ],
          "name": "stdout"
        },
        {
          "output_type": "stream",
          "text": [
            "2021-07-16 06:56:59,894 - INFO: lr: 0.08117 | Epoch: 060 | Batch: 000 | Loss: 0.20947 | Correct: 120/128\n"
          ],
          "name": "stderr"
        },
        {
          "output_type": "stream",
          "text": [
            "None\n"
          ],
          "name": "stdout"
        },
        {
          "output_type": "stream",
          "text": [
            "2021-07-16 06:57:02,287 - INFO: lr: 0.07169 | Epoch: 061 | Batch: 000 | Loss: 0.28319 | Correct: 115/128\n"
          ],
          "name": "stderr"
        },
        {
          "output_type": "stream",
          "text": [
            "None\n"
          ],
          "name": "stdout"
        },
        {
          "output_type": "stream",
          "text": [
            "2021-07-16 06:57:04,592 - INFO: lr: 0.06113 | Epoch: 062 | Batch: 000 | Loss: 0.17059 | Correct: 117/128\n"
          ],
          "name": "stderr"
        },
        {
          "output_type": "stream",
          "text": [
            "None\n"
          ],
          "name": "stdout"
        },
        {
          "output_type": "stream",
          "text": [
            "2021-07-16 06:57:06,865 - INFO: lr: 0.05000 | Epoch: 063 | Batch: 000 | Loss: 0.15889 | Correct: 123/128\n"
          ],
          "name": "stderr"
        },
        {
          "output_type": "stream",
          "text": [
            "None\n"
          ],
          "name": "stdout"
        },
        {
          "output_type": "stream",
          "text": [
            "2021-07-16 06:57:09,163 - INFO: lr: 0.03887 | Epoch: 064 | Batch: 000 | Loss: 0.09792 | Correct: 124/128\n"
          ],
          "name": "stderr"
        },
        {
          "output_type": "stream",
          "text": [
            "None\n"
          ],
          "name": "stdout"
        },
        {
          "output_type": "stream",
          "text": [
            "2021-07-16 06:57:11,535 - INFO: lr: 0.02831 | Epoch: 065 | Batch: 000 | Loss: 0.07634 | Correct: 124/128\n"
          ],
          "name": "stderr"
        },
        {
          "output_type": "stream",
          "text": [
            "None\n"
          ],
          "name": "stdout"
        },
        {
          "output_type": "stream",
          "text": [
            "2021-07-16 06:57:13,870 - INFO: lr: 0.01883 | Epoch: 066 | Batch: 000 | Loss: 0.06310 | Correct: 125/128\n"
          ],
          "name": "stderr"
        },
        {
          "output_type": "stream",
          "text": [
            "None\n"
          ],
          "name": "stdout"
        },
        {
          "output_type": "stream",
          "text": [
            "2021-07-16 06:57:16,075 - INFO: lr: 0.01091 | Epoch: 067 | Batch: 000 | Loss: 0.04535 | Correct: 127/128\n"
          ],
          "name": "stderr"
        },
        {
          "output_type": "stream",
          "text": [
            "None\n"
          ],
          "name": "stdout"
        },
        {
          "output_type": "stream",
          "text": [
            "2021-07-16 06:57:18,460 - INFO: lr: 0.00495 | Epoch: 068 | Batch: 000 | Loss: 0.05099 | Correct: 126/128\n"
          ],
          "name": "stderr"
        },
        {
          "output_type": "stream",
          "text": [
            "None\n"
          ],
          "name": "stdout"
        },
        {
          "output_type": "stream",
          "text": [
            "2021-07-16 06:57:20,747 - INFO: lr: 0.00125 | Epoch: 069 | Batch: 000 | Loss: 0.11371 | Correct: 123/128\n"
          ],
          "name": "stderr"
        },
        {
          "output_type": "stream",
          "text": [
            "None\n"
          ],
          "name": "stdout"
        },
        {
          "output_type": "stream",
          "text": [
            "2021-07-16 06:57:22,584 - INFO: Save the snapshot model with index: 4\n",
            "2021-07-16 06:57:23,593 - INFO: n_estimators: 5 | Validation Acc: 85.603 % | Historical Best: 85.603 %\n"
          ],
          "name": "stderr"
        },
        {
          "output_type": "stream",
          "text": [
            "Group 1 Finished!\n",
            "Target number of exemplars: 200\n",
            "Randomly extracting exemplars from class 0 of current split... Extracted 200 exemplars.\n",
            "Randomly extracting exemplars from class 1 of current split... Extracted 200 exemplars.\n",
            "Randomly extracting exemplars from class 2 of current split... Extracted 200 exemplars.\n",
            "Randomly extracting exemplars from class 3 of current split... Extracted 200 exemplars.\n",
            "Randomly extracting exemplars from class 4 of current split... Extracted 200 exemplars.\n",
            "Randomly extracting exemplars from class 5 of current split... Extracted 200 exemplars.\n",
            "Randomly extracting exemplars from class 6 of current split... Extracted 200 exemplars.\n",
            "Randomly extracting exemplars from class 7 of current split... Extracted 200 exemplars.\n",
            "Randomly extracting exemplars from class 8 of current split... Extracted 200 exemplars.\n",
            "Randomly extracting exemplars from class 9 of current split... Extracted 200 exemplars.\n",
            "[0.0017137096774193549, 0.03311491935483871, 0.1848790322580645, 0.31050907258064514, 0.4920110887096774, 0.6307459677419355, 0.8136592741935483]\n",
            "[0.8493303571428571, 0.8470982142857143, 0.8247767857142857, 0.7991071428571429, 0.7433035714285714, 0.6674107142857143, 0.5167410714285714]\n",
            "Testing on both open and closed world\n",
            "owr harmonic mean (threshold:0.25) = 0.003619690566064293\n",
            "owr harmonic mean (threshold:0.35) = 0.0639236723984446\n",
            "owr harmonic mean (threshold:0.5) = 0.3021914749373641\n",
            "owr harmonic mean (threshold:0.6) = 0.4473551313985099\n",
            "owr harmonic mean (threshold:0.75) = 0.5922020234797394\n",
            "owr harmonic mean (threshold:0.85) = 0.6486606467400834\n",
            "owr harmonic mean (threshold:0.95) = 0.6321721116981774\n",
            "\n",
            "=============================================\n",
            "\n",
            "Length of exemplars set: 2000\n"
          ],
          "name": "stdout"
        },
        {
          "output_type": "stream",
          "text": [
            "2021-07-16 06:57:59,125 - INFO: lr: 0.10000 | Epoch: 000 | Batch: 000 | Loss: 4.08031 | Correct: 6/128\n"
          ],
          "name": "stderr"
        },
        {
          "output_type": "stream",
          "text": [
            "None\n"
          ],
          "name": "stdout"
        },
        {
          "output_type": "stream",
          "text": [
            "2021-07-16 06:58:14,529 - INFO: lr: 0.09875 | Epoch: 001 | Batch: 000 | Loss: 2.50887 | Correct: 26/128\n"
          ],
          "name": "stderr"
        },
        {
          "output_type": "stream",
          "text": [
            "None\n"
          ],
          "name": "stdout"
        },
        {
          "output_type": "stream",
          "text": [
            "2021-07-16 06:58:29,915 - INFO: lr: 0.09505 | Epoch: 002 | Batch: 000 | Loss: 2.30866 | Correct: 29/128\n"
          ],
          "name": "stderr"
        },
        {
          "output_type": "stream",
          "text": [
            "None\n"
          ],
          "name": "stdout"
        },
        {
          "output_type": "stream",
          "text": [
            "2021-07-16 06:58:45,344 - INFO: lr: 0.08909 | Epoch: 003 | Batch: 000 | Loss: 2.16593 | Correct: 36/128\n"
          ],
          "name": "stderr"
        },
        {
          "output_type": "stream",
          "text": [
            "None\n"
          ],
          "name": "stdout"
        },
        {
          "output_type": "stream",
          "text": [
            "2021-07-16 06:59:00,763 - INFO: lr: 0.08117 | Epoch: 004 | Batch: 000 | Loss: 2.09538 | Correct: 39/128\n"
          ],
          "name": "stderr"
        },
        {
          "output_type": "stream",
          "text": [
            "None\n"
          ],
          "name": "stdout"
        },
        {
          "output_type": "stream",
          "text": [
            "2021-07-16 06:59:16,223 - INFO: lr: 0.07169 | Epoch: 005 | Batch: 000 | Loss: 1.96862 | Correct: 47/128\n"
          ],
          "name": "stderr"
        },
        {
          "output_type": "stream",
          "text": [
            "None\n"
          ],
          "name": "stdout"
        },
        {
          "output_type": "stream",
          "text": [
            "2021-07-16 06:59:31,670 - INFO: lr: 0.06113 | Epoch: 006 | Batch: 000 | Loss: 1.64091 | Correct: 59/128\n"
          ],
          "name": "stderr"
        },
        {
          "output_type": "stream",
          "text": [
            "None\n"
          ],
          "name": "stdout"
        },
        {
          "output_type": "stream",
          "text": [
            "2021-07-16 06:59:47,139 - INFO: lr: 0.05000 | Epoch: 007 | Batch: 000 | Loss: 1.61559 | Correct: 61/128\n"
          ],
          "name": "stderr"
        },
        {
          "output_type": "stream",
          "text": [
            "None\n"
          ],
          "name": "stdout"
        },
        {
          "output_type": "stream",
          "text": [
            "2021-07-16 07:00:02,583 - INFO: lr: 0.03887 | Epoch: 008 | Batch: 000 | Loss: 1.69233 | Correct: 55/128\n"
          ],
          "name": "stderr"
        },
        {
          "output_type": "stream",
          "text": [
            "None\n"
          ],
          "name": "stdout"
        },
        {
          "output_type": "stream",
          "text": [
            "2021-07-16 07:00:17,993 - INFO: lr: 0.02831 | Epoch: 009 | Batch: 000 | Loss: 1.35859 | Correct: 76/128\n"
          ],
          "name": "stderr"
        },
        {
          "output_type": "stream",
          "text": [
            "None\n"
          ],
          "name": "stdout"
        },
        {
          "output_type": "stream",
          "text": [
            "2021-07-16 07:00:33,416 - INFO: lr: 0.01883 | Epoch: 010 | Batch: 000 | Loss: 1.41831 | Correct: 67/128\n"
          ],
          "name": "stderr"
        },
        {
          "output_type": "stream",
          "text": [
            "None\n"
          ],
          "name": "stdout"
        },
        {
          "output_type": "stream",
          "text": [
            "2021-07-16 07:00:48,915 - INFO: lr: 0.01091 | Epoch: 011 | Batch: 000 | Loss: 1.31674 | Correct: 76/128\n"
          ],
          "name": "stderr"
        },
        {
          "output_type": "stream",
          "text": [
            "None\n"
          ],
          "name": "stdout"
        },
        {
          "output_type": "stream",
          "text": [
            "2021-07-16 07:01:04,444 - INFO: lr: 0.00495 | Epoch: 012 | Batch: 000 | Loss: 1.26743 | Correct: 78/128\n"
          ],
          "name": "stderr"
        },
        {
          "output_type": "stream",
          "text": [
            "None\n"
          ],
          "name": "stdout"
        },
        {
          "output_type": "stream",
          "text": [
            "2021-07-16 07:01:19,852 - INFO: lr: 0.00125 | Epoch: 013 | Batch: 000 | Loss: 1.21575 | Correct: 74/128\n"
          ],
          "name": "stderr"
        },
        {
          "output_type": "stream",
          "text": [
            "None\n"
          ],
          "name": "stdout"
        },
        {
          "output_type": "stream",
          "text": [
            "2021-07-16 07:01:34,558 - INFO: Save the snapshot model with index: 0\n",
            "2021-07-16 07:01:35,159 - INFO: n_estimators: 1 | Validation Acc: 68.527 % | Historical Best: 68.527 %\n",
            "2021-07-16 07:01:35,883 - INFO: lr: 0.10000 | Epoch: 014 | Batch: 000 | Loss: 1.39916 | Correct: 69/128\n"
          ],
          "name": "stderr"
        },
        {
          "output_type": "stream",
          "text": [
            "None\n"
          ],
          "name": "stdout"
        },
        {
          "output_type": "stream",
          "text": [
            "2021-07-16 07:01:51,304 - INFO: lr: 0.09875 | Epoch: 015 | Batch: 000 | Loss: 1.77609 | Correct: 60/128\n"
          ],
          "name": "stderr"
        },
        {
          "output_type": "stream",
          "text": [
            "None\n"
          ],
          "name": "stdout"
        },
        {
          "output_type": "stream",
          "text": [
            "2021-07-16 07:02:06,765 - INFO: lr: 0.09505 | Epoch: 016 | Batch: 000 | Loss: 1.58518 | Correct: 57/128\n"
          ],
          "name": "stderr"
        },
        {
          "output_type": "stream",
          "text": [
            "None\n"
          ],
          "name": "stdout"
        },
        {
          "output_type": "stream",
          "text": [
            "2021-07-16 07:02:22,193 - INFO: lr: 0.08909 | Epoch: 017 | Batch: 000 | Loss: 1.48341 | Correct: 70/128\n"
          ],
          "name": "stderr"
        },
        {
          "output_type": "stream",
          "text": [
            "None\n"
          ],
          "name": "stdout"
        },
        {
          "output_type": "stream",
          "text": [
            "2021-07-16 07:02:37,573 - INFO: lr: 0.08117 | Epoch: 018 | Batch: 000 | Loss: 1.27283 | Correct: 68/128\n"
          ],
          "name": "stderr"
        },
        {
          "output_type": "stream",
          "text": [
            "None\n"
          ],
          "name": "stdout"
        },
        {
          "output_type": "stream",
          "text": [
            "2021-07-16 07:02:52,984 - INFO: lr: 0.07169 | Epoch: 019 | Batch: 000 | Loss: 1.16500 | Correct: 82/128\n"
          ],
          "name": "stderr"
        },
        {
          "output_type": "stream",
          "text": [
            "None\n"
          ],
          "name": "stdout"
        },
        {
          "output_type": "stream",
          "text": [
            "2021-07-16 07:03:08,472 - INFO: lr: 0.06113 | Epoch: 020 | Batch: 000 | Loss: 1.22711 | Correct: 74/128\n"
          ],
          "name": "stderr"
        },
        {
          "output_type": "stream",
          "text": [
            "None\n"
          ],
          "name": "stdout"
        },
        {
          "output_type": "stream",
          "text": [
            "2021-07-16 07:03:23,878 - INFO: lr: 0.05000 | Epoch: 021 | Batch: 000 | Loss: 0.96086 | Correct: 90/128\n"
          ],
          "name": "stderr"
        },
        {
          "output_type": "stream",
          "text": [
            "None\n"
          ],
          "name": "stdout"
        },
        {
          "output_type": "stream",
          "text": [
            "2021-07-16 07:03:39,302 - INFO: lr: 0.03887 | Epoch: 022 | Batch: 000 | Loss: 0.85691 | Correct: 91/128\n"
          ],
          "name": "stderr"
        },
        {
          "output_type": "stream",
          "text": [
            "None\n"
          ],
          "name": "stdout"
        },
        {
          "output_type": "stream",
          "text": [
            "2021-07-16 07:03:54,741 - INFO: lr: 0.02831 | Epoch: 023 | Batch: 000 | Loss: 0.82786 | Correct: 95/128\n"
          ],
          "name": "stderr"
        },
        {
          "output_type": "stream",
          "text": [
            "None\n"
          ],
          "name": "stdout"
        },
        {
          "output_type": "stream",
          "text": [
            "2021-07-16 07:04:10,215 - INFO: lr: 0.01883 | Epoch: 024 | Batch: 000 | Loss: 0.86078 | Correct: 96/128\n"
          ],
          "name": "stderr"
        },
        {
          "output_type": "stream",
          "text": [
            "None\n"
          ],
          "name": "stdout"
        },
        {
          "output_type": "stream",
          "text": [
            "2021-07-16 07:04:25,683 - INFO: lr: 0.01091 | Epoch: 025 | Batch: 000 | Loss: 0.76465 | Correct: 100/128\n"
          ],
          "name": "stderr"
        },
        {
          "output_type": "stream",
          "text": [
            "None\n"
          ],
          "name": "stdout"
        },
        {
          "output_type": "stream",
          "text": [
            "2021-07-16 07:04:41,137 - INFO: lr: 0.00495 | Epoch: 026 | Batch: 000 | Loss: 0.59877 | Correct: 102/128\n"
          ],
          "name": "stderr"
        },
        {
          "output_type": "stream",
          "text": [
            "None\n"
          ],
          "name": "stdout"
        },
        {
          "output_type": "stream",
          "text": [
            "2021-07-16 07:04:56,595 - INFO: lr: 0.00125 | Epoch: 027 | Batch: 000 | Loss: 0.83543 | Correct: 95/128\n"
          ],
          "name": "stderr"
        },
        {
          "output_type": "stream",
          "text": [
            "None\n"
          ],
          "name": "stdout"
        },
        {
          "output_type": "stream",
          "text": [
            "2021-07-16 07:05:11,265 - INFO: Save the snapshot model with index: 1\n",
            "2021-07-16 07:05:11,991 - INFO: n_estimators: 2 | Validation Acc: 73.661 % | Historical Best: 73.661 %\n",
            "2021-07-16 07:05:12,756 - INFO: lr: 0.10000 | Epoch: 028 | Batch: 000 | Loss: 0.61435 | Correct: 108/128\n"
          ],
          "name": "stderr"
        },
        {
          "output_type": "stream",
          "text": [
            "None\n"
          ],
          "name": "stdout"
        },
        {
          "output_type": "stream",
          "text": [
            "2021-07-16 07:05:28,113 - INFO: lr: 0.09875 | Epoch: 029 | Batch: 000 | Loss: 1.18143 | Correct: 79/128\n"
          ],
          "name": "stderr"
        },
        {
          "output_type": "stream",
          "text": [
            "None\n"
          ],
          "name": "stdout"
        },
        {
          "output_type": "stream",
          "text": [
            "2021-07-16 07:05:43,554 - INFO: lr: 0.09505 | Epoch: 030 | Batch: 000 | Loss: 0.96477 | Correct: 89/128\n"
          ],
          "name": "stderr"
        },
        {
          "output_type": "stream",
          "text": [
            "None\n"
          ],
          "name": "stdout"
        },
        {
          "output_type": "stream",
          "text": [
            "2021-07-16 07:05:59,019 - INFO: lr: 0.08909 | Epoch: 031 | Batch: 000 | Loss: 0.95645 | Correct: 85/128\n"
          ],
          "name": "stderr"
        },
        {
          "output_type": "stream",
          "text": [
            "None\n"
          ],
          "name": "stdout"
        },
        {
          "output_type": "stream",
          "text": [
            "2021-07-16 07:06:14,486 - INFO: lr: 0.08117 | Epoch: 032 | Batch: 000 | Loss: 1.00899 | Correct: 80/128\n"
          ],
          "name": "stderr"
        },
        {
          "output_type": "stream",
          "text": [
            "None\n"
          ],
          "name": "stdout"
        },
        {
          "output_type": "stream",
          "text": [
            "2021-07-16 07:06:29,888 - INFO: lr: 0.07169 | Epoch: 033 | Batch: 000 | Loss: 0.86741 | Correct: 91/128\n"
          ],
          "name": "stderr"
        },
        {
          "output_type": "stream",
          "text": [
            "None\n"
          ],
          "name": "stdout"
        },
        {
          "output_type": "stream",
          "text": [
            "2021-07-16 07:06:45,313 - INFO: lr: 0.06113 | Epoch: 034 | Batch: 000 | Loss: 0.70327 | Correct: 98/128\n"
          ],
          "name": "stderr"
        },
        {
          "output_type": "stream",
          "text": [
            "None\n"
          ],
          "name": "stdout"
        },
        {
          "output_type": "stream",
          "text": [
            "2021-07-16 07:07:00,785 - INFO: lr: 0.05000 | Epoch: 035 | Batch: 000 | Loss: 0.70987 | Correct: 102/128\n"
          ],
          "name": "stderr"
        },
        {
          "output_type": "stream",
          "text": [
            "None\n"
          ],
          "name": "stdout"
        },
        {
          "output_type": "stream",
          "text": [
            "2021-07-16 07:07:16,165 - INFO: lr: 0.03887 | Epoch: 036 | Batch: 000 | Loss: 0.75672 | Correct: 91/128\n"
          ],
          "name": "stderr"
        },
        {
          "output_type": "stream",
          "text": [
            "None\n"
          ],
          "name": "stdout"
        },
        {
          "output_type": "stream",
          "text": [
            "2021-07-16 07:07:31,570 - INFO: lr: 0.02831 | Epoch: 037 | Batch: 000 | Loss: 0.60859 | Correct: 107/128\n"
          ],
          "name": "stderr"
        },
        {
          "output_type": "stream",
          "text": [
            "None\n"
          ],
          "name": "stdout"
        },
        {
          "output_type": "stream",
          "text": [
            "2021-07-16 07:07:46,937 - INFO: lr: 0.01883 | Epoch: 038 | Batch: 000 | Loss: 0.46588 | Correct: 111/128\n"
          ],
          "name": "stderr"
        },
        {
          "output_type": "stream",
          "text": [
            "None\n"
          ],
          "name": "stdout"
        },
        {
          "output_type": "stream",
          "text": [
            "2021-07-16 07:08:02,388 - INFO: lr: 0.01091 | Epoch: 039 | Batch: 000 | Loss: 0.47506 | Correct: 106/128\n"
          ],
          "name": "stderr"
        },
        {
          "output_type": "stream",
          "text": [
            "None\n"
          ],
          "name": "stdout"
        },
        {
          "output_type": "stream",
          "text": [
            "2021-07-16 07:08:17,856 - INFO: lr: 0.00495 | Epoch: 040 | Batch: 000 | Loss: 0.34741 | Correct: 114/128\n"
          ],
          "name": "stderr"
        },
        {
          "output_type": "stream",
          "text": [
            "None\n"
          ],
          "name": "stdout"
        },
        {
          "output_type": "stream",
          "text": [
            "2021-07-16 07:08:33,277 - INFO: lr: 0.00125 | Epoch: 041 | Batch: 000 | Loss: 0.44201 | Correct: 110/128\n"
          ],
          "name": "stderr"
        },
        {
          "output_type": "stream",
          "text": [
            "None\n"
          ],
          "name": "stdout"
        },
        {
          "output_type": "stream",
          "text": [
            "2021-07-16 07:08:47,986 - INFO: Save the snapshot model with index: 2\n",
            "2021-07-16 07:08:48,808 - INFO: n_estimators: 3 | Validation Acc: 76.004 % | Historical Best: 76.004 %\n",
            "2021-07-16 07:08:49,587 - INFO: lr: 0.10000 | Epoch: 042 | Batch: 000 | Loss: 0.33721 | Correct: 116/128\n"
          ],
          "name": "stderr"
        },
        {
          "output_type": "stream",
          "text": [
            "None\n"
          ],
          "name": "stdout"
        },
        {
          "output_type": "stream",
          "text": [
            "2021-07-16 07:09:05,044 - INFO: lr: 0.09875 | Epoch: 043 | Batch: 000 | Loss: 0.93918 | Correct: 92/128\n"
          ],
          "name": "stderr"
        },
        {
          "output_type": "stream",
          "text": [
            "None\n"
          ],
          "name": "stdout"
        },
        {
          "output_type": "stream",
          "text": [
            "2021-07-16 07:09:20,558 - INFO: lr: 0.09505 | Epoch: 044 | Batch: 000 | Loss: 0.68749 | Correct: 102/128\n"
          ],
          "name": "stderr"
        },
        {
          "output_type": "stream",
          "text": [
            "None\n"
          ],
          "name": "stdout"
        },
        {
          "output_type": "stream",
          "text": [
            "2021-07-16 07:09:35,966 - INFO: lr: 0.08909 | Epoch: 045 | Batch: 000 | Loss: 0.56903 | Correct: 102/128\n"
          ],
          "name": "stderr"
        },
        {
          "output_type": "stream",
          "text": [
            "None\n"
          ],
          "name": "stdout"
        },
        {
          "output_type": "stream",
          "text": [
            "2021-07-16 07:09:51,367 - INFO: lr: 0.08117 | Epoch: 046 | Batch: 000 | Loss: 0.61627 | Correct: 109/128\n"
          ],
          "name": "stderr"
        },
        {
          "output_type": "stream",
          "text": [
            "None\n"
          ],
          "name": "stdout"
        },
        {
          "output_type": "stream",
          "text": [
            "2021-07-16 07:10:06,854 - INFO: lr: 0.07169 | Epoch: 047 | Batch: 000 | Loss: 0.45194 | Correct: 110/128\n"
          ],
          "name": "stderr"
        },
        {
          "output_type": "stream",
          "text": [
            "None\n"
          ],
          "name": "stdout"
        },
        {
          "output_type": "stream",
          "text": [
            "2021-07-16 07:10:22,322 - INFO: lr: 0.06113 | Epoch: 048 | Batch: 000 | Loss: 0.56030 | Correct: 102/128\n"
          ],
          "name": "stderr"
        },
        {
          "output_type": "stream",
          "text": [
            "None\n"
          ],
          "name": "stdout"
        },
        {
          "output_type": "stream",
          "text": [
            "2021-07-16 07:10:37,774 - INFO: lr: 0.05000 | Epoch: 049 | Batch: 000 | Loss: 0.37403 | Correct: 113/128\n"
          ],
          "name": "stderr"
        },
        {
          "output_type": "stream",
          "text": [
            "None\n"
          ],
          "name": "stdout"
        },
        {
          "output_type": "stream",
          "text": [
            "2021-07-16 07:10:53,253 - INFO: lr: 0.03887 | Epoch: 050 | Batch: 000 | Loss: 0.41230 | Correct: 110/128\n"
          ],
          "name": "stderr"
        },
        {
          "output_type": "stream",
          "text": [
            "None\n"
          ],
          "name": "stdout"
        },
        {
          "output_type": "stream",
          "text": [
            "2021-07-16 07:11:08,703 - INFO: lr: 0.02831 | Epoch: 051 | Batch: 000 | Loss: 0.41408 | Correct: 114/128\n"
          ],
          "name": "stderr"
        },
        {
          "output_type": "stream",
          "text": [
            "None\n"
          ],
          "name": "stdout"
        },
        {
          "output_type": "stream",
          "text": [
            "2021-07-16 07:11:24,136 - INFO: lr: 0.01883 | Epoch: 052 | Batch: 000 | Loss: 0.41253 | Correct: 112/128\n"
          ],
          "name": "stderr"
        },
        {
          "output_type": "stream",
          "text": [
            "None\n"
          ],
          "name": "stdout"
        },
        {
          "output_type": "stream",
          "text": [
            "2021-07-16 07:11:39,507 - INFO: lr: 0.01091 | Epoch: 053 | Batch: 000 | Loss: 0.20105 | Correct: 122/128\n"
          ],
          "name": "stderr"
        },
        {
          "output_type": "stream",
          "text": [
            "None\n"
          ],
          "name": "stdout"
        },
        {
          "output_type": "stream",
          "text": [
            "2021-07-16 07:11:54,961 - INFO: lr: 0.00495 | Epoch: 054 | Batch: 000 | Loss: 0.19158 | Correct: 123/128\n"
          ],
          "name": "stderr"
        },
        {
          "output_type": "stream",
          "text": [
            "None\n"
          ],
          "name": "stdout"
        },
        {
          "output_type": "stream",
          "text": [
            "2021-07-16 07:12:10,378 - INFO: lr: 0.00125 | Epoch: 055 | Batch: 000 | Loss: 0.25538 | Correct: 117/128\n"
          ],
          "name": "stderr"
        },
        {
          "output_type": "stream",
          "text": [
            "None\n"
          ],
          "name": "stdout"
        },
        {
          "output_type": "stream",
          "text": [
            "2021-07-16 07:12:25,086 - INFO: Save the snapshot model with index: 3\n",
            "2021-07-16 07:12:26,007 - INFO: n_estimators: 4 | Validation Acc: 76.562 % | Historical Best: 76.562 %\n",
            "2021-07-16 07:12:26,772 - INFO: lr: 0.10000 | Epoch: 056 | Batch: 000 | Loss: 0.33785 | Correct: 118/128\n"
          ],
          "name": "stderr"
        },
        {
          "output_type": "stream",
          "text": [
            "None\n"
          ],
          "name": "stdout"
        },
        {
          "output_type": "stream",
          "text": [
            "2021-07-16 07:12:42,186 - INFO: lr: 0.09875 | Epoch: 057 | Batch: 000 | Loss: 0.80859 | Correct: 91/128\n"
          ],
          "name": "stderr"
        },
        {
          "output_type": "stream",
          "text": [
            "None\n"
          ],
          "name": "stdout"
        },
        {
          "output_type": "stream",
          "text": [
            "2021-07-16 07:12:57,619 - INFO: lr: 0.09505 | Epoch: 058 | Batch: 000 | Loss: 0.53987 | Correct: 108/128\n"
          ],
          "name": "stderr"
        },
        {
          "output_type": "stream",
          "text": [
            "None\n"
          ],
          "name": "stdout"
        },
        {
          "output_type": "stream",
          "text": [
            "2021-07-16 07:13:13,128 - INFO: lr: 0.08909 | Epoch: 059 | Batch: 000 | Loss: 0.37051 | Correct: 113/128\n"
          ],
          "name": "stderr"
        },
        {
          "output_type": "stream",
          "text": [
            "None\n"
          ],
          "name": "stdout"
        },
        {
          "output_type": "stream",
          "text": [
            "2021-07-16 07:13:28,558 - INFO: lr: 0.08117 | Epoch: 060 | Batch: 000 | Loss: 0.39590 | Correct: 112/128\n"
          ],
          "name": "stderr"
        },
        {
          "output_type": "stream",
          "text": [
            "None\n"
          ],
          "name": "stdout"
        },
        {
          "output_type": "stream",
          "text": [
            "2021-07-16 07:13:43,977 - INFO: lr: 0.07169 | Epoch: 061 | Batch: 000 | Loss: 0.45071 | Correct: 107/128\n"
          ],
          "name": "stderr"
        },
        {
          "output_type": "stream",
          "text": [
            "None\n"
          ],
          "name": "stdout"
        },
        {
          "output_type": "stream",
          "text": [
            "2021-07-16 07:13:59,395 - INFO: lr: 0.06113 | Epoch: 062 | Batch: 000 | Loss: 0.33335 | Correct: 115/128\n"
          ],
          "name": "stderr"
        },
        {
          "output_type": "stream",
          "text": [
            "None\n"
          ],
          "name": "stdout"
        },
        {
          "output_type": "stream",
          "text": [
            "2021-07-16 07:14:14,898 - INFO: lr: 0.05000 | Epoch: 063 | Batch: 000 | Loss: 0.27722 | Correct: 115/128\n"
          ],
          "name": "stderr"
        },
        {
          "output_type": "stream",
          "text": [
            "None\n"
          ],
          "name": "stdout"
        },
        {
          "output_type": "stream",
          "text": [
            "2021-07-16 07:14:30,343 - INFO: lr: 0.03887 | Epoch: 064 | Batch: 000 | Loss: 0.32211 | Correct: 116/128\n"
          ],
          "name": "stderr"
        },
        {
          "output_type": "stream",
          "text": [
            "None\n"
          ],
          "name": "stdout"
        },
        {
          "output_type": "stream",
          "text": [
            "2021-07-16 07:14:45,736 - INFO: lr: 0.02831 | Epoch: 065 | Batch: 000 | Loss: 0.21597 | Correct: 122/128\n"
          ],
          "name": "stderr"
        },
        {
          "output_type": "stream",
          "text": [
            "None\n"
          ],
          "name": "stdout"
        },
        {
          "output_type": "stream",
          "text": [
            "2021-07-16 07:15:01,149 - INFO: lr: 0.01883 | Epoch: 066 | Batch: 000 | Loss: 0.08726 | Correct: 127/128\n"
          ],
          "name": "stderr"
        },
        {
          "output_type": "stream",
          "text": [
            "None\n"
          ],
          "name": "stdout"
        },
        {
          "output_type": "stream",
          "text": [
            "2021-07-16 07:15:16,671 - INFO: lr: 0.01091 | Epoch: 067 | Batch: 000 | Loss: 0.14474 | Correct: 123/128\n"
          ],
          "name": "stderr"
        },
        {
          "output_type": "stream",
          "text": [
            "None\n"
          ],
          "name": "stdout"
        },
        {
          "output_type": "stream",
          "text": [
            "2021-07-16 07:15:32,117 - INFO: lr: 0.00495 | Epoch: 068 | Batch: 000 | Loss: 0.20784 | Correct: 121/128\n"
          ],
          "name": "stderr"
        },
        {
          "output_type": "stream",
          "text": [
            "None\n"
          ],
          "name": "stdout"
        },
        {
          "output_type": "stream",
          "text": [
            "2021-07-16 07:15:47,621 - INFO: lr: 0.00125 | Epoch: 069 | Batch: 000 | Loss: 0.07800 | Correct: 127/128\n"
          ],
          "name": "stderr"
        },
        {
          "output_type": "stream",
          "text": [
            "None\n"
          ],
          "name": "stdout"
        },
        {
          "output_type": "stream",
          "text": [
            "2021-07-16 07:16:02,366 - INFO: Save the snapshot model with index: 4\n",
            "2021-07-16 07:16:03,451 - INFO: n_estimators: 5 | Validation Acc: 77.567 % | Historical Best: 77.567 %\n"
          ],
          "name": "stderr"
        },
        {
          "output_type": "stream",
          "text": [
            "Group 2 Finished!\n",
            "Target number of exemplars: 100\n",
            "Randomly extracting exemplars from class 0 of current split... Extracted 100 exemplars.\n",
            "Randomly extracting exemplars from class 1 of current split... Extracted 100 exemplars.\n",
            "Randomly extracting exemplars from class 2 of current split... Extracted 100 exemplars.\n",
            "Randomly extracting exemplars from class 3 of current split... Extracted 100 exemplars.\n",
            "Randomly extracting exemplars from class 4 of current split... Extracted 100 exemplars.\n",
            "Randomly extracting exemplars from class 5 of current split... Extracted 100 exemplars.\n",
            "Randomly extracting exemplars from class 6 of current split... Extracted 100 exemplars.\n",
            "Randomly extracting exemplars from class 7 of current split... Extracted 100 exemplars.\n",
            "Randomly extracting exemplars from class 8 of current split... Extracted 100 exemplars.\n",
            "Randomly extracting exemplars from class 9 of current split... Extracted 100 exemplars.\n",
            "[0.018019153225806453, 0.0885836693548387, 0.2615927419354839, 0.3881804435483871, 0.54921875, 0.6572076612903226, 0.7951612903225806]\n",
            "[0.7255208333333333, 0.7166666666666667, 0.6786458333333333, 0.6447916666666667, 0.571875, 0.5088541666666667, 0.4078125]\n",
            "Testing on both open and closed world\n",
            "owr harmonic mean (threshold:0.25) = 0.03535546104985059\n",
            "owr harmonic mean (threshold:0.35) = 0.1578384047493634\n",
            "owr harmonic mean (threshold:0.5) = 0.37774473075291026\n",
            "owr harmonic mean (threshold:0.6) = 0.48471850894595214\n",
            "owr harmonic mean (threshold:0.75) = 0.560417985084194\n",
            "owr harmonic mean (threshold:0.85) = 0.5736953143389157\n",
            "owr harmonic mean (threshold:0.95) = 0.5392355180904268\n",
            "\n",
            "=============================================\n",
            "\n",
            "Length of exemplars set: 2000\n"
          ],
          "name": "stdout"
        },
        {
          "output_type": "stream",
          "text": [
            "2021-07-16 07:16:40,004 - INFO: lr: 0.10000 | Epoch: 000 | Batch: 000 | Loss: 4.38873 | Correct: 1/128\n"
          ],
          "name": "stderr"
        },
        {
          "output_type": "stream",
          "text": [
            "None\n"
          ],
          "name": "stdout"
        },
        {
          "output_type": "stream",
          "text": [
            "2021-07-16 07:16:55,834 - INFO: lr: 0.09875 | Epoch: 001 | Batch: 000 | Loss: 2.75771 | Correct: 33/128\n"
          ],
          "name": "stderr"
        },
        {
          "output_type": "stream",
          "text": [
            "None\n"
          ],
          "name": "stdout"
        },
        {
          "output_type": "stream",
          "text": [
            "2021-07-16 07:17:11,681 - INFO: lr: 0.09505 | Epoch: 002 | Batch: 000 | Loss: 2.52994 | Correct: 36/128\n"
          ],
          "name": "stderr"
        },
        {
          "output_type": "stream",
          "text": [
            "None\n"
          ],
          "name": "stdout"
        },
        {
          "output_type": "stream",
          "text": [
            "2021-07-16 07:17:27,466 - INFO: lr: 0.08909 | Epoch: 003 | Batch: 000 | Loss: 2.23233 | Correct: 45/128\n"
          ],
          "name": "stderr"
        },
        {
          "output_type": "stream",
          "text": [
            "None\n"
          ],
          "name": "stdout"
        },
        {
          "output_type": "stream",
          "text": [
            "2021-07-16 07:17:43,215 - INFO: lr: 0.08117 | Epoch: 004 | Batch: 000 | Loss: 1.95153 | Correct: 52/128\n"
          ],
          "name": "stderr"
        },
        {
          "output_type": "stream",
          "text": [
            "None\n"
          ],
          "name": "stdout"
        },
        {
          "output_type": "stream",
          "text": [
            "2021-07-16 07:17:59,088 - INFO: lr: 0.07169 | Epoch: 005 | Batch: 000 | Loss: 2.10259 | Correct: 49/128\n"
          ],
          "name": "stderr"
        },
        {
          "output_type": "stream",
          "text": [
            "None\n"
          ],
          "name": "stdout"
        },
        {
          "output_type": "stream",
          "text": [
            "2021-07-16 07:18:14,888 - INFO: lr: 0.06113 | Epoch: 006 | Batch: 000 | Loss: 2.05014 | Correct: 50/128\n"
          ],
          "name": "stderr"
        },
        {
          "output_type": "stream",
          "text": [
            "None\n"
          ],
          "name": "stdout"
        },
        {
          "output_type": "stream",
          "text": [
            "2021-07-16 07:18:30,614 - INFO: lr: 0.05000 | Epoch: 007 | Batch: 000 | Loss: 1.67229 | Correct: 68/128\n"
          ],
          "name": "stderr"
        },
        {
          "output_type": "stream",
          "text": [
            "None\n"
          ],
          "name": "stdout"
        },
        {
          "output_type": "stream",
          "text": [
            "2021-07-16 07:18:46,367 - INFO: lr: 0.03887 | Epoch: 008 | Batch: 000 | Loss: 1.79771 | Correct: 59/128\n"
          ],
          "name": "stderr"
        },
        {
          "output_type": "stream",
          "text": [
            "None\n"
          ],
          "name": "stdout"
        },
        {
          "output_type": "stream",
          "text": [
            "2021-07-16 07:19:02,170 - INFO: lr: 0.02831 | Epoch: 009 | Batch: 000 | Loss: 1.65888 | Correct: 64/128\n"
          ],
          "name": "stderr"
        },
        {
          "output_type": "stream",
          "text": [
            "None\n"
          ],
          "name": "stdout"
        },
        {
          "output_type": "stream",
          "text": [
            "2021-07-16 07:19:18,012 - INFO: lr: 0.01883 | Epoch: 010 | Batch: 000 | Loss: 1.64290 | Correct: 67/128\n"
          ],
          "name": "stderr"
        },
        {
          "output_type": "stream",
          "text": [
            "None\n"
          ],
          "name": "stdout"
        },
        {
          "output_type": "stream",
          "text": [
            "2021-07-16 07:19:33,797 - INFO: lr: 0.01091 | Epoch: 011 | Batch: 000 | Loss: 1.29926 | Correct: 79/128\n"
          ],
          "name": "stderr"
        },
        {
          "output_type": "stream",
          "text": [
            "None\n"
          ],
          "name": "stdout"
        },
        {
          "output_type": "stream",
          "text": [
            "2021-07-16 07:19:49,573 - INFO: lr: 0.00495 | Epoch: 012 | Batch: 000 | Loss: 1.21077 | Correct: 84/128\n"
          ],
          "name": "stderr"
        },
        {
          "output_type": "stream",
          "text": [
            "None\n"
          ],
          "name": "stdout"
        },
        {
          "output_type": "stream",
          "text": [
            "2021-07-16 07:20:05,429 - INFO: lr: 0.00125 | Epoch: 013 | Batch: 000 | Loss: 1.38950 | Correct: 70/128\n"
          ],
          "name": "stderr"
        },
        {
          "output_type": "stream",
          "text": [
            "None\n"
          ],
          "name": "stdout"
        },
        {
          "output_type": "stream",
          "text": [
            "2021-07-16 07:20:20,548 - INFO: Save the snapshot model with index: 0\n",
            "2021-07-16 07:20:21,233 - INFO: n_estimators: 1 | Validation Acc: 67.634 % | Historical Best: 67.634 %\n",
            "2021-07-16 07:20:22,052 - INFO: lr: 0.10000 | Epoch: 014 | Batch: 000 | Loss: 1.25831 | Correct: 76/128\n"
          ],
          "name": "stderr"
        },
        {
          "output_type": "stream",
          "text": [
            "None\n"
          ],
          "name": "stdout"
        },
        {
          "output_type": "stream",
          "text": [
            "2021-07-16 07:20:37,852 - INFO: lr: 0.09875 | Epoch: 015 | Batch: 000 | Loss: 1.58908 | Correct: 71/128\n"
          ],
          "name": "stderr"
        },
        {
          "output_type": "stream",
          "text": [
            "None\n"
          ],
          "name": "stdout"
        },
        {
          "output_type": "stream",
          "text": [
            "2021-07-16 07:20:53,597 - INFO: lr: 0.09505 | Epoch: 016 | Batch: 000 | Loss: 1.95018 | Correct: 61/128\n"
          ],
          "name": "stderr"
        },
        {
          "output_type": "stream",
          "text": [
            "None\n"
          ],
          "name": "stdout"
        },
        {
          "output_type": "stream",
          "text": [
            "2021-07-16 07:21:09,407 - INFO: lr: 0.08909 | Epoch: 017 | Batch: 000 | Loss: 1.51959 | Correct: 67/128\n"
          ],
          "name": "stderr"
        },
        {
          "output_type": "stream",
          "text": [
            "None\n"
          ],
          "name": "stdout"
        },
        {
          "output_type": "stream",
          "text": [
            "2021-07-16 07:21:25,245 - INFO: lr: 0.08117 | Epoch: 018 | Batch: 000 | Loss: 1.23619 | Correct: 84/128\n"
          ],
          "name": "stderr"
        },
        {
          "output_type": "stream",
          "text": [
            "None\n"
          ],
          "name": "stdout"
        },
        {
          "output_type": "stream",
          "text": [
            "2021-07-16 07:21:41,056 - INFO: lr: 0.07169 | Epoch: 019 | Batch: 000 | Loss: 1.19258 | Correct: 77/128\n"
          ],
          "name": "stderr"
        },
        {
          "output_type": "stream",
          "text": [
            "None\n"
          ],
          "name": "stdout"
        },
        {
          "output_type": "stream",
          "text": [
            "2021-07-16 07:21:56,955 - INFO: lr: 0.06113 | Epoch: 020 | Batch: 000 | Loss: 1.12792 | Correct: 85/128\n"
          ],
          "name": "stderr"
        },
        {
          "output_type": "stream",
          "text": [
            "None\n"
          ],
          "name": "stdout"
        },
        {
          "output_type": "stream",
          "text": [
            "2021-07-16 07:22:12,827 - INFO: lr: 0.05000 | Epoch: 021 | Batch: 000 | Loss: 1.43366 | Correct: 73/128\n"
          ],
          "name": "stderr"
        },
        {
          "output_type": "stream",
          "text": [
            "None\n"
          ],
          "name": "stdout"
        },
        {
          "output_type": "stream",
          "text": [
            "2021-07-16 07:22:28,569 - INFO: lr: 0.03887 | Epoch: 022 | Batch: 000 | Loss: 1.25404 | Correct: 79/128\n"
          ],
          "name": "stderr"
        },
        {
          "output_type": "stream",
          "text": [
            "None\n"
          ],
          "name": "stdout"
        },
        {
          "output_type": "stream",
          "text": [
            "2021-07-16 07:22:44,274 - INFO: lr: 0.02831 | Epoch: 023 | Batch: 000 | Loss: 0.83158 | Correct: 100/128\n"
          ],
          "name": "stderr"
        },
        {
          "output_type": "stream",
          "text": [
            "None\n"
          ],
          "name": "stdout"
        },
        {
          "output_type": "stream",
          "text": [
            "2021-07-16 07:23:00,146 - INFO: lr: 0.01883 | Epoch: 024 | Batch: 000 | Loss: 0.93510 | Correct: 88/128\n"
          ],
          "name": "stderr"
        },
        {
          "output_type": "stream",
          "text": [
            "None\n"
          ],
          "name": "stdout"
        },
        {
          "output_type": "stream",
          "text": [
            "2021-07-16 07:23:15,905 - INFO: lr: 0.01091 | Epoch: 025 | Batch: 000 | Loss: 0.69219 | Correct: 103/128\n"
          ],
          "name": "stderr"
        },
        {
          "output_type": "stream",
          "text": [
            "None\n"
          ],
          "name": "stdout"
        },
        {
          "output_type": "stream",
          "text": [
            "2021-07-16 07:23:31,645 - INFO: lr: 0.00495 | Epoch: 026 | Batch: 000 | Loss: 1.00912 | Correct: 85/128\n"
          ],
          "name": "stderr"
        },
        {
          "output_type": "stream",
          "text": [
            "None\n"
          ],
          "name": "stdout"
        },
        {
          "output_type": "stream",
          "text": [
            "2021-07-16 07:23:47,373 - INFO: lr: 0.00125 | Epoch: 027 | Batch: 000 | Loss: 0.87700 | Correct: 93/128\n"
          ],
          "name": "stderr"
        },
        {
          "output_type": "stream",
          "text": [
            "None\n"
          ],
          "name": "stdout"
        },
        {
          "output_type": "stream",
          "text": [
            "2021-07-16 07:24:02,421 - INFO: Save the snapshot model with index: 1\n",
            "2021-07-16 07:24:03,144 - INFO: n_estimators: 2 | Validation Acc: 73.661 % | Historical Best: 73.661 %\n",
            "2021-07-16 07:24:03,964 - INFO: lr: 0.10000 | Epoch: 028 | Batch: 000 | Loss: 0.84103 | Correct: 98/128\n"
          ],
          "name": "stderr"
        },
        {
          "output_type": "stream",
          "text": [
            "None\n"
          ],
          "name": "stdout"
        },
        {
          "output_type": "stream",
          "text": [
            "2021-07-16 07:24:19,793 - INFO: lr: 0.09875 | Epoch: 029 | Batch: 000 | Loss: 1.40889 | Correct: 66/128\n"
          ],
          "name": "stderr"
        },
        {
          "output_type": "stream",
          "text": [
            "None\n"
          ],
          "name": "stdout"
        },
        {
          "output_type": "stream",
          "text": [
            "2021-07-16 07:24:35,545 - INFO: lr: 0.09505 | Epoch: 030 | Batch: 000 | Loss: 1.21998 | Correct: 76/128\n"
          ],
          "name": "stderr"
        },
        {
          "output_type": "stream",
          "text": [
            "None\n"
          ],
          "name": "stdout"
        },
        {
          "output_type": "stream",
          "text": [
            "2021-07-16 07:24:51,294 - INFO: lr: 0.08909 | Epoch: 031 | Batch: 000 | Loss: 1.29911 | Correct: 73/128\n"
          ],
          "name": "stderr"
        },
        {
          "output_type": "stream",
          "text": [
            "None\n"
          ],
          "name": "stdout"
        },
        {
          "output_type": "stream",
          "text": [
            "2021-07-16 07:25:07,184 - INFO: lr: 0.08117 | Epoch: 032 | Batch: 000 | Loss: 1.14000 | Correct: 80/128\n"
          ],
          "name": "stderr"
        },
        {
          "output_type": "stream",
          "text": [
            "None\n"
          ],
          "name": "stdout"
        },
        {
          "output_type": "stream",
          "text": [
            "2021-07-16 07:25:23,051 - INFO: lr: 0.07169 | Epoch: 033 | Batch: 000 | Loss: 1.02298 | Correct: 86/128\n"
          ],
          "name": "stderr"
        },
        {
          "output_type": "stream",
          "text": [
            "None\n"
          ],
          "name": "stdout"
        },
        {
          "output_type": "stream",
          "text": [
            "2021-07-16 07:25:38,796 - INFO: lr: 0.06113 | Epoch: 034 | Batch: 000 | Loss: 0.79709 | Correct: 98/128\n"
          ],
          "name": "stderr"
        },
        {
          "output_type": "stream",
          "text": [
            "None\n"
          ],
          "name": "stdout"
        },
        {
          "output_type": "stream",
          "text": [
            "2021-07-16 07:25:54,551 - INFO: lr: 0.05000 | Epoch: 035 | Batch: 000 | Loss: 0.63199 | Correct: 100/128\n"
          ],
          "name": "stderr"
        },
        {
          "output_type": "stream",
          "text": [
            "None\n"
          ],
          "name": "stdout"
        },
        {
          "output_type": "stream",
          "text": [
            "2021-07-16 07:26:10,388 - INFO: lr: 0.03887 | Epoch: 036 | Batch: 000 | Loss: 0.74373 | Correct: 92/128\n"
          ],
          "name": "stderr"
        },
        {
          "output_type": "stream",
          "text": [
            "None\n"
          ],
          "name": "stdout"
        },
        {
          "output_type": "stream",
          "text": [
            "2021-07-16 07:26:26,198 - INFO: lr: 0.02831 | Epoch: 037 | Batch: 000 | Loss: 0.50388 | Correct: 108/128\n"
          ],
          "name": "stderr"
        },
        {
          "output_type": "stream",
          "text": [
            "None\n"
          ],
          "name": "stdout"
        },
        {
          "output_type": "stream",
          "text": [
            "2021-07-16 07:26:41,993 - INFO: lr: 0.01883 | Epoch: 038 | Batch: 000 | Loss: 0.61326 | Correct: 107/128\n"
          ],
          "name": "stderr"
        },
        {
          "output_type": "stream",
          "text": [
            "None\n"
          ],
          "name": "stdout"
        },
        {
          "output_type": "stream",
          "text": [
            "2021-07-16 07:26:57,826 - INFO: lr: 0.01091 | Epoch: 039 | Batch: 000 | Loss: 0.52536 | Correct: 109/128\n"
          ],
          "name": "stderr"
        },
        {
          "output_type": "stream",
          "text": [
            "None\n"
          ],
          "name": "stdout"
        },
        {
          "output_type": "stream",
          "text": [
            "2021-07-16 07:27:13,630 - INFO: lr: 0.00495 | Epoch: 040 | Batch: 000 | Loss: 0.47963 | Correct: 112/128\n"
          ],
          "name": "stderr"
        },
        {
          "output_type": "stream",
          "text": [
            "None\n"
          ],
          "name": "stdout"
        },
        {
          "output_type": "stream",
          "text": [
            "2021-07-16 07:27:29,418 - INFO: lr: 0.00125 | Epoch: 041 | Batch: 000 | Loss: 0.53313 | Correct: 113/128\n"
          ],
          "name": "stderr"
        },
        {
          "output_type": "stream",
          "text": [
            "None\n"
          ],
          "name": "stdout"
        },
        {
          "output_type": "stream",
          "text": [
            "2021-07-16 07:27:44,440 - INFO: Save the snapshot model with index: 2\n",
            "2021-07-16 07:27:45,316 - INFO: n_estimators: 3 | Validation Acc: 75.670 % | Historical Best: 75.670 %\n",
            "2021-07-16 07:27:46,120 - INFO: lr: 0.10000 | Epoch: 042 | Batch: 000 | Loss: 0.29906 | Correct: 119/128\n"
          ],
          "name": "stderr"
        },
        {
          "output_type": "stream",
          "text": [
            "None\n"
          ],
          "name": "stdout"
        },
        {
          "output_type": "stream",
          "text": [
            "2021-07-16 07:28:01,966 - INFO: lr: 0.09875 | Epoch: 043 | Batch: 000 | Loss: 1.08210 | Correct: 84/128\n"
          ],
          "name": "stderr"
        },
        {
          "output_type": "stream",
          "text": [
            "None\n"
          ],
          "name": "stdout"
        },
        {
          "output_type": "stream",
          "text": [
            "2021-07-16 07:28:17,789 - INFO: lr: 0.09505 | Epoch: 044 | Batch: 000 | Loss: 0.79985 | Correct: 96/128\n"
          ],
          "name": "stderr"
        },
        {
          "output_type": "stream",
          "text": [
            "None\n"
          ],
          "name": "stdout"
        },
        {
          "output_type": "stream",
          "text": [
            "2021-07-16 07:28:33,502 - INFO: lr: 0.08909 | Epoch: 045 | Batch: 000 | Loss: 0.97449 | Correct: 89/128\n"
          ],
          "name": "stderr"
        },
        {
          "output_type": "stream",
          "text": [
            "None\n"
          ],
          "name": "stdout"
        },
        {
          "output_type": "stream",
          "text": [
            "2021-07-16 07:28:49,274 - INFO: lr: 0.08117 | Epoch: 046 | Batch: 000 | Loss: 0.72545 | Correct: 99/128\n"
          ],
          "name": "stderr"
        },
        {
          "output_type": "stream",
          "text": [
            "None\n"
          ],
          "name": "stdout"
        },
        {
          "output_type": "stream",
          "text": [
            "2021-07-16 07:29:05,105 - INFO: lr: 0.07169 | Epoch: 047 | Batch: 000 | Loss: 0.53437 | Correct: 109/128\n"
          ],
          "name": "stderr"
        },
        {
          "output_type": "stream",
          "text": [
            "None\n"
          ],
          "name": "stdout"
        },
        {
          "output_type": "stream",
          "text": [
            "2021-07-16 07:29:20,838 - INFO: lr: 0.06113 | Epoch: 048 | Batch: 000 | Loss: 0.65542 | Correct: 103/128\n"
          ],
          "name": "stderr"
        },
        {
          "output_type": "stream",
          "text": [
            "None\n"
          ],
          "name": "stdout"
        },
        {
          "output_type": "stream",
          "text": [
            "2021-07-16 07:29:36,547 - INFO: lr: 0.05000 | Epoch: 049 | Batch: 000 | Loss: 0.52606 | Correct: 108/128\n"
          ],
          "name": "stderr"
        },
        {
          "output_type": "stream",
          "text": [
            "None\n"
          ],
          "name": "stdout"
        },
        {
          "output_type": "stream",
          "text": [
            "2021-07-16 07:29:52,253 - INFO: lr: 0.03887 | Epoch: 050 | Batch: 000 | Loss: 0.40715 | Correct: 110/128\n"
          ],
          "name": "stderr"
        },
        {
          "output_type": "stream",
          "text": [
            "None\n"
          ],
          "name": "stdout"
        },
        {
          "output_type": "stream",
          "text": [
            "2021-07-16 07:30:08,089 - INFO: lr: 0.02831 | Epoch: 051 | Batch: 000 | Loss: 0.38672 | Correct: 111/128\n"
          ],
          "name": "stderr"
        },
        {
          "output_type": "stream",
          "text": [
            "None\n"
          ],
          "name": "stdout"
        },
        {
          "output_type": "stream",
          "text": [
            "2021-07-16 07:30:23,843 - INFO: lr: 0.01883 | Epoch: 052 | Batch: 000 | Loss: 0.34858 | Correct: 113/128\n"
          ],
          "name": "stderr"
        },
        {
          "output_type": "stream",
          "text": [
            "None\n"
          ],
          "name": "stdout"
        },
        {
          "output_type": "stream",
          "text": [
            "2021-07-16 07:30:39,589 - INFO: lr: 0.01091 | Epoch: 053 | Batch: 000 | Loss: 0.18318 | Correct: 123/128\n"
          ],
          "name": "stderr"
        },
        {
          "output_type": "stream",
          "text": [
            "None\n"
          ],
          "name": "stdout"
        },
        {
          "output_type": "stream",
          "text": [
            "2021-07-16 07:30:55,318 - INFO: lr: 0.00495 | Epoch: 054 | Batch: 000 | Loss: 0.29421 | Correct: 116/128\n"
          ],
          "name": "stderr"
        },
        {
          "output_type": "stream",
          "text": [
            "None\n"
          ],
          "name": "stdout"
        },
        {
          "output_type": "stream",
          "text": [
            "2021-07-16 07:31:11,130 - INFO: lr: 0.00125 | Epoch: 055 | Batch: 000 | Loss: 0.30956 | Correct: 111/128\n"
          ],
          "name": "stderr"
        },
        {
          "output_type": "stream",
          "text": [
            "None\n"
          ],
          "name": "stdout"
        },
        {
          "output_type": "stream",
          "text": [
            "2021-07-16 07:31:26,194 - INFO: Save the snapshot model with index: 3\n",
            "2021-07-16 07:31:27,117 - INFO: n_estimators: 4 | Validation Acc: 77.121 % | Historical Best: 77.121 %\n",
            "2021-07-16 07:31:27,922 - INFO: lr: 0.10000 | Epoch: 056 | Batch: 000 | Loss: 0.22153 | Correct: 120/128\n"
          ],
          "name": "stderr"
        },
        {
          "output_type": "stream",
          "text": [
            "None\n"
          ],
          "name": "stdout"
        },
        {
          "output_type": "stream",
          "text": [
            "2021-07-16 07:31:43,622 - INFO: lr: 0.09875 | Epoch: 057 | Batch: 000 | Loss: 0.77677 | Correct: 95/128\n"
          ],
          "name": "stderr"
        },
        {
          "output_type": "stream",
          "text": [
            "None\n"
          ],
          "name": "stdout"
        },
        {
          "output_type": "stream",
          "text": [
            "2021-07-16 07:31:59,345 - INFO: lr: 0.09505 | Epoch: 058 | Batch: 000 | Loss: 0.71322 | Correct: 102/128\n"
          ],
          "name": "stderr"
        },
        {
          "output_type": "stream",
          "text": [
            "None\n"
          ],
          "name": "stdout"
        },
        {
          "output_type": "stream",
          "text": [
            "2021-07-16 07:32:15,171 - INFO: lr: 0.08909 | Epoch: 059 | Batch: 000 | Loss: 0.63851 | Correct: 111/128\n"
          ],
          "name": "stderr"
        },
        {
          "output_type": "stream",
          "text": [
            "None\n"
          ],
          "name": "stdout"
        },
        {
          "output_type": "stream",
          "text": [
            "2021-07-16 07:32:30,973 - INFO: lr: 0.08117 | Epoch: 060 | Batch: 000 | Loss: 0.35530 | Correct: 116/128\n"
          ],
          "name": "stderr"
        },
        {
          "output_type": "stream",
          "text": [
            "None\n"
          ],
          "name": "stdout"
        },
        {
          "output_type": "stream",
          "text": [
            "2021-07-16 07:32:46,803 - INFO: lr: 0.07169 | Epoch: 061 | Batch: 000 | Loss: 0.37713 | Correct: 116/128\n"
          ],
          "name": "stderr"
        },
        {
          "output_type": "stream",
          "text": [
            "None\n"
          ],
          "name": "stdout"
        },
        {
          "output_type": "stream",
          "text": [
            "2021-07-16 07:33:02,631 - INFO: lr: 0.06113 | Epoch: 062 | Batch: 000 | Loss: 0.37355 | Correct: 108/128\n"
          ],
          "name": "stderr"
        },
        {
          "output_type": "stream",
          "text": [
            "None\n"
          ],
          "name": "stdout"
        },
        {
          "output_type": "stream",
          "text": [
            "2021-07-16 07:33:18,383 - INFO: lr: 0.05000 | Epoch: 063 | Batch: 000 | Loss: 0.29991 | Correct: 116/128\n"
          ],
          "name": "stderr"
        },
        {
          "output_type": "stream",
          "text": [
            "None\n"
          ],
          "name": "stdout"
        },
        {
          "output_type": "stream",
          "text": [
            "2021-07-16 07:33:34,101 - INFO: lr: 0.03887 | Epoch: 064 | Batch: 000 | Loss: 0.31197 | Correct: 118/128\n"
          ],
          "name": "stderr"
        },
        {
          "output_type": "stream",
          "text": [
            "None\n"
          ],
          "name": "stdout"
        },
        {
          "output_type": "stream",
          "text": [
            "2021-07-16 07:33:49,937 - INFO: lr: 0.02831 | Epoch: 065 | Batch: 000 | Loss: 0.16312 | Correct: 122/128\n"
          ],
          "name": "stderr"
        },
        {
          "output_type": "stream",
          "text": [
            "None\n"
          ],
          "name": "stdout"
        },
        {
          "output_type": "stream",
          "text": [
            "2021-07-16 07:34:05,823 - INFO: lr: 0.01883 | Epoch: 066 | Batch: 000 | Loss: 0.17251 | Correct: 123/128\n"
          ],
          "name": "stderr"
        },
        {
          "output_type": "stream",
          "text": [
            "None\n"
          ],
          "name": "stdout"
        },
        {
          "output_type": "stream",
          "text": [
            "2021-07-16 07:34:21,608 - INFO: lr: 0.01091 | Epoch: 067 | Batch: 000 | Loss: 0.21778 | Correct: 121/128\n"
          ],
          "name": "stderr"
        },
        {
          "output_type": "stream",
          "text": [
            "None\n"
          ],
          "name": "stdout"
        },
        {
          "output_type": "stream",
          "text": [
            "2021-07-16 07:34:37,381 - INFO: lr: 0.00495 | Epoch: 068 | Batch: 000 | Loss: 0.28571 | Correct: 116/128\n"
          ],
          "name": "stderr"
        },
        {
          "output_type": "stream",
          "text": [
            "None\n"
          ],
          "name": "stdout"
        },
        {
          "output_type": "stream",
          "text": [
            "2021-07-16 07:34:53,187 - INFO: lr: 0.00125 | Epoch: 069 | Batch: 000 | Loss: 0.10308 | Correct: 127/128\n"
          ],
          "name": "stderr"
        },
        {
          "output_type": "stream",
          "text": [
            "None\n"
          ],
          "name": "stdout"
        },
        {
          "output_type": "stream",
          "text": [
            "2021-07-16 07:35:08,281 - INFO: Save the snapshot model with index: 4\n",
            "2021-07-16 07:35:09,349 - INFO: n_estimators: 5 | Validation Acc: 77.902 % | Historical Best: 77.902 %\n"
          ],
          "name": "stderr"
        },
        {
          "output_type": "stream",
          "text": [
            "Group 3 Finished!\n",
            "Target number of exemplars: 66\n",
            "Randomly extracting exemplars from class 0 of current split... Extracted 66 exemplars.\n",
            "Randomly extracting exemplars from class 1 of current split... Extracted 66 exemplars.\n",
            "Randomly extracting exemplars from class 2 of current split... Extracted 66 exemplars.\n",
            "Randomly extracting exemplars from class 3 of current split... Extracted 66 exemplars.\n",
            "Randomly extracting exemplars from class 4 of current split... Extracted 66 exemplars.\n",
            "Randomly extracting exemplars from class 5 of current split... Extracted 66 exemplars.\n",
            "Randomly extracting exemplars from class 6 of current split... Extracted 66 exemplars.\n",
            "Randomly extracting exemplars from class 7 of current split... Extracted 66 exemplars.\n",
            "Randomly extracting exemplars from class 8 of current split... Extracted 66 exemplars.\n",
            "Randomly extracting exemplars from class 9 of current split... Extracted 66 exemplars.\n",
            "[0.03198084677419355, 0.12121975806451613, 0.31224798387096775, 0.4347782258064516, 0.5926915322580645, 0.6956653225806452, 0.8171118951612903]\n",
            "[0.5978260869565217, 0.5876358695652174, 0.5461956521739131, 0.5071331521739131, 0.445991847826087, 0.3828125, 0.27241847826086957]\n",
            "Testing on both open and closed world\n",
            "owr harmonic mean (threshold:0.25) = 0.06089448909508123\n",
            "owr harmonic mean (threshold:0.35) = 0.20112377851043553\n",
            "owr harmonic mean (threshold:0.5) = 0.39745090603589645\n",
            "owr harmonic mean (threshold:0.6) = 0.46827723015187406\n",
            "owr harmonic mean (threshold:0.75) = 0.5090840320869072\n",
            "owr harmonic mean (threshold:0.85) = 0.4939699945722082\n",
            "owr harmonic mean (threshold:0.95) = 0.4087347614009478\n",
            "\n",
            "=============================================\n",
            "\n",
            "Length of exemplars set: 1980\n"
          ],
          "name": "stdout"
        },
        {
          "output_type": "stream",
          "text": [
            "2021-07-16 07:35:47,082 - INFO: lr: 0.10000 | Epoch: 000 | Batch: 000 | Loss: 4.77859 | Correct: 7/128\n"
          ],
          "name": "stderr"
        },
        {
          "output_type": "stream",
          "text": [
            "None\n"
          ],
          "name": "stdout"
        },
        {
          "output_type": "stream",
          "text": [
            "2021-07-16 07:36:03,262 - INFO: lr: 0.09875 | Epoch: 001 | Batch: 000 | Loss: 2.98786 | Correct: 31/128\n"
          ],
          "name": "stderr"
        },
        {
          "output_type": "stream",
          "text": [
            "None\n"
          ],
          "name": "stdout"
        },
        {
          "output_type": "stream",
          "text": [
            "2021-07-16 07:36:19,571 - INFO: lr: 0.09505 | Epoch: 002 | Batch: 000 | Loss: 2.47701 | Correct: 43/128\n"
          ],
          "name": "stderr"
        },
        {
          "output_type": "stream",
          "text": [
            "None\n"
          ],
          "name": "stdout"
        },
        {
          "output_type": "stream",
          "text": [
            "2021-07-16 07:36:35,798 - INFO: lr: 0.08909 | Epoch: 003 | Batch: 000 | Loss: 2.44853 | Correct: 36/128\n"
          ],
          "name": "stderr"
        },
        {
          "output_type": "stream",
          "text": [
            "None\n"
          ],
          "name": "stdout"
        },
        {
          "output_type": "stream",
          "text": [
            "2021-07-16 07:36:51,972 - INFO: lr: 0.08117 | Epoch: 004 | Batch: 000 | Loss: 2.37791 | Correct: 48/128\n"
          ],
          "name": "stderr"
        },
        {
          "output_type": "stream",
          "text": [
            "None\n"
          ],
          "name": "stdout"
        },
        {
          "output_type": "stream",
          "text": [
            "2021-07-16 07:37:08,157 - INFO: lr: 0.07169 | Epoch: 005 | Batch: 000 | Loss: 2.40725 | Correct: 45/128\n"
          ],
          "name": "stderr"
        },
        {
          "output_type": "stream",
          "text": [
            "None\n"
          ],
          "name": "stdout"
        },
        {
          "output_type": "stream",
          "text": [
            "2021-07-16 07:37:24,435 - INFO: lr: 0.06113 | Epoch: 006 | Batch: 000 | Loss: 2.21024 | Correct: 46/128\n"
          ],
          "name": "stderr"
        },
        {
          "output_type": "stream",
          "text": [
            "None\n"
          ],
          "name": "stdout"
        },
        {
          "output_type": "stream",
          "text": [
            "2021-07-16 07:37:40,684 - INFO: lr: 0.05000 | Epoch: 007 | Batch: 000 | Loss: 1.96810 | Correct: 57/128\n"
          ],
          "name": "stderr"
        },
        {
          "output_type": "stream",
          "text": [
            "None\n"
          ],
          "name": "stdout"
        },
        {
          "output_type": "stream",
          "text": [
            "2021-07-16 07:37:57,001 - INFO: lr: 0.03887 | Epoch: 008 | Batch: 000 | Loss: 2.33056 | Correct: 44/128\n"
          ],
          "name": "stderr"
        },
        {
          "output_type": "stream",
          "text": [
            "None\n"
          ],
          "name": "stdout"
        },
        {
          "output_type": "stream",
          "text": [
            "2021-07-16 07:38:13,175 - INFO: lr: 0.02831 | Epoch: 009 | Batch: 000 | Loss: 2.01248 | Correct: 58/128\n"
          ],
          "name": "stderr"
        },
        {
          "output_type": "stream",
          "text": [
            "None\n"
          ],
          "name": "stdout"
        },
        {
          "output_type": "stream",
          "text": [
            "2021-07-16 07:38:29,364 - INFO: lr: 0.01883 | Epoch: 010 | Batch: 000 | Loss: 1.73674 | Correct: 59/128\n"
          ],
          "name": "stderr"
        },
        {
          "output_type": "stream",
          "text": [
            "None\n"
          ],
          "name": "stdout"
        },
        {
          "output_type": "stream",
          "text": [
            "2021-07-16 07:38:45,598 - INFO: lr: 0.01091 | Epoch: 011 | Batch: 000 | Loss: 1.81685 | Correct: 59/128\n"
          ],
          "name": "stderr"
        },
        {
          "output_type": "stream",
          "text": [
            "None\n"
          ],
          "name": "stdout"
        },
        {
          "output_type": "stream",
          "text": [
            "2021-07-16 07:39:01,921 - INFO: lr: 0.00495 | Epoch: 012 | Batch: 000 | Loss: 1.85522 | Correct: 61/128\n"
          ],
          "name": "stderr"
        },
        {
          "output_type": "stream",
          "text": [
            "None\n"
          ],
          "name": "stdout"
        },
        {
          "output_type": "stream",
          "text": [
            "2021-07-16 07:39:18,102 - INFO: lr: 0.00125 | Epoch: 013 | Batch: 000 | Loss: 1.89237 | Correct: 60/128\n"
          ],
          "name": "stderr"
        },
        {
          "output_type": "stream",
          "text": [
            "None\n"
          ],
          "name": "stdout"
        },
        {
          "output_type": "stream",
          "text": [
            "2021-07-16 07:39:33,491 - INFO: Save the snapshot model with index: 0\n",
            "2021-07-16 07:39:34,129 - INFO: n_estimators: 1 | Validation Acc: 62.054 % | Historical Best: 62.054 %\n",
            "2021-07-16 07:39:34,950 - INFO: lr: 0.10000 | Epoch: 014 | Batch: 000 | Loss: 1.77000 | Correct: 68/128\n"
          ],
          "name": "stderr"
        },
        {
          "output_type": "stream",
          "text": [
            "None\n"
          ],
          "name": "stdout"
        },
        {
          "output_type": "stream",
          "text": [
            "2021-07-16 07:39:51,170 - INFO: lr: 0.09875 | Epoch: 015 | Batch: 000 | Loss: 2.15670 | Correct: 43/128\n"
          ],
          "name": "stderr"
        },
        {
          "output_type": "stream",
          "text": [
            "None\n"
          ],
          "name": "stdout"
        },
        {
          "output_type": "stream",
          "text": [
            "2021-07-16 07:40:07,457 - INFO: lr: 0.09505 | Epoch: 016 | Batch: 000 | Loss: 1.99000 | Correct: 60/128\n"
          ],
          "name": "stderr"
        },
        {
          "output_type": "stream",
          "text": [
            "None\n"
          ],
          "name": "stdout"
        },
        {
          "output_type": "stream",
          "text": [
            "2021-07-16 07:40:23,595 - INFO: lr: 0.08909 | Epoch: 017 | Batch: 000 | Loss: 2.06658 | Correct: 49/128\n"
          ],
          "name": "stderr"
        },
        {
          "output_type": "stream",
          "text": [
            "None\n"
          ],
          "name": "stdout"
        },
        {
          "output_type": "stream",
          "text": [
            "2021-07-16 07:40:39,719 - INFO: lr: 0.08117 | Epoch: 018 | Batch: 000 | Loss: 1.87813 | Correct: 61/128\n"
          ],
          "name": "stderr"
        },
        {
          "output_type": "stream",
          "text": [
            "None\n"
          ],
          "name": "stdout"
        },
        {
          "output_type": "stream",
          "text": [
            "2021-07-16 07:40:55,910 - INFO: lr: 0.07169 | Epoch: 019 | Batch: 000 | Loss: 1.57084 | Correct: 70/128\n"
          ],
          "name": "stderr"
        },
        {
          "output_type": "stream",
          "text": [
            "None\n"
          ],
          "name": "stdout"
        },
        {
          "output_type": "stream",
          "text": [
            "2021-07-16 07:41:12,167 - INFO: lr: 0.06113 | Epoch: 020 | Batch: 000 | Loss: 1.67749 | Correct: 64/128\n"
          ],
          "name": "stderr"
        },
        {
          "output_type": "stream",
          "text": [
            "None\n"
          ],
          "name": "stdout"
        },
        {
          "output_type": "stream",
          "text": [
            "2021-07-16 07:41:28,425 - INFO: lr: 0.05000 | Epoch: 021 | Batch: 000 | Loss: 1.43379 | Correct: 79/128\n"
          ],
          "name": "stderr"
        },
        {
          "output_type": "stream",
          "text": [
            "None\n"
          ],
          "name": "stdout"
        },
        {
          "output_type": "stream",
          "text": [
            "2021-07-16 07:41:44,552 - INFO: lr: 0.03887 | Epoch: 022 | Batch: 000 | Loss: 1.33969 | Correct: 75/128\n"
          ],
          "name": "stderr"
        },
        {
          "output_type": "stream",
          "text": [
            "None\n"
          ],
          "name": "stdout"
        },
        {
          "output_type": "stream",
          "text": [
            "2021-07-16 07:42:00,684 - INFO: lr: 0.02831 | Epoch: 023 | Batch: 000 | Loss: 1.32092 | Correct: 81/128\n"
          ],
          "name": "stderr"
        },
        {
          "output_type": "stream",
          "text": [
            "None\n"
          ],
          "name": "stdout"
        },
        {
          "output_type": "stream",
          "text": [
            "2021-07-16 07:42:16,954 - INFO: lr: 0.01883 | Epoch: 024 | Batch: 000 | Loss: 1.27791 | Correct: 81/128\n"
          ],
          "name": "stderr"
        },
        {
          "output_type": "stream",
          "text": [
            "None\n"
          ],
          "name": "stdout"
        },
        {
          "output_type": "stream",
          "text": [
            "2021-07-16 07:42:33,084 - INFO: lr: 0.01091 | Epoch: 025 | Batch: 000 | Loss: 1.05948 | Correct: 86/128\n"
          ],
          "name": "stderr"
        },
        {
          "output_type": "stream",
          "text": [
            "None\n"
          ],
          "name": "stdout"
        },
        {
          "output_type": "stream",
          "text": [
            "2021-07-16 07:42:49,151 - INFO: lr: 0.00495 | Epoch: 026 | Batch: 000 | Loss: 1.23936 | Correct: 84/128\n"
          ],
          "name": "stderr"
        },
        {
          "output_type": "stream",
          "text": [
            "None\n"
          ],
          "name": "stdout"
        },
        {
          "output_type": "stream",
          "text": [
            "2021-07-16 07:43:05,277 - INFO: lr: 0.00125 | Epoch: 027 | Batch: 000 | Loss: 1.28328 | Correct: 81/128\n"
          ],
          "name": "stderr"
        },
        {
          "output_type": "stream",
          "text": [
            "None\n"
          ],
          "name": "stdout"
        },
        {
          "output_type": "stream",
          "text": [
            "2021-07-16 07:43:20,731 - INFO: Save the snapshot model with index: 1\n",
            "2021-07-16 07:43:21,491 - INFO: n_estimators: 2 | Validation Acc: 67.746 % | Historical Best: 67.746 %\n",
            "2021-07-16 07:43:22,349 - INFO: lr: 0.10000 | Epoch: 028 | Batch: 000 | Loss: 1.25253 | Correct: 78/128\n"
          ],
          "name": "stderr"
        },
        {
          "output_type": "stream",
          "text": [
            "None\n"
          ],
          "name": "stdout"
        },
        {
          "output_type": "stream",
          "text": [
            "2021-07-16 07:43:38,567 - INFO: lr: 0.09875 | Epoch: 029 | Batch: 000 | Loss: 1.76057 | Correct: 71/128\n"
          ],
          "name": "stderr"
        },
        {
          "output_type": "stream",
          "text": [
            "None\n"
          ],
          "name": "stdout"
        },
        {
          "output_type": "stream",
          "text": [
            "2021-07-16 07:43:54,864 - INFO: lr: 0.09505 | Epoch: 030 | Batch: 000 | Loss: 1.10361 | Correct: 91/128\n"
          ],
          "name": "stderr"
        },
        {
          "output_type": "stream",
          "text": [
            "None\n"
          ],
          "name": "stdout"
        },
        {
          "output_type": "stream",
          "text": [
            "2021-07-16 07:44:11,079 - INFO: lr: 0.08909 | Epoch: 031 | Batch: 000 | Loss: 1.39705 | Correct: 74/128\n"
          ],
          "name": "stderr"
        },
        {
          "output_type": "stream",
          "text": [
            "None\n"
          ],
          "name": "stdout"
        },
        {
          "output_type": "stream",
          "text": [
            "2021-07-16 07:44:27,228 - INFO: lr: 0.08117 | Epoch: 032 | Batch: 000 | Loss: 1.08245 | Correct: 89/128\n"
          ],
          "name": "stderr"
        },
        {
          "output_type": "stream",
          "text": [
            "None\n"
          ],
          "name": "stdout"
        },
        {
          "output_type": "stream",
          "text": [
            "2021-07-16 07:44:43,394 - INFO: lr: 0.07169 | Epoch: 033 | Batch: 000 | Loss: 1.19608 | Correct: 79/128\n"
          ],
          "name": "stderr"
        },
        {
          "output_type": "stream",
          "text": [
            "None\n"
          ],
          "name": "stdout"
        },
        {
          "output_type": "stream",
          "text": [
            "2021-07-16 07:44:59,732 - INFO: lr: 0.06113 | Epoch: 034 | Batch: 000 | Loss: 1.12747 | Correct: 82/128\n"
          ],
          "name": "stderr"
        },
        {
          "output_type": "stream",
          "text": [
            "None\n"
          ],
          "name": "stdout"
        },
        {
          "output_type": "stream",
          "text": [
            "2021-07-16 07:45:15,972 - INFO: lr: 0.05000 | Epoch: 035 | Batch: 000 | Loss: 1.04009 | Correct: 84/128\n"
          ],
          "name": "stderr"
        },
        {
          "output_type": "stream",
          "text": [
            "None\n"
          ],
          "name": "stdout"
        },
        {
          "output_type": "stream",
          "text": [
            "2021-07-16 07:45:32,134 - INFO: lr: 0.03887 | Epoch: 036 | Batch: 000 | Loss: 1.11489 | Correct: 82/128\n"
          ],
          "name": "stderr"
        },
        {
          "output_type": "stream",
          "text": [
            "None\n"
          ],
          "name": "stdout"
        },
        {
          "output_type": "stream",
          "text": [
            "2021-07-16 07:45:48,311 - INFO: lr: 0.02831 | Epoch: 037 | Batch: 000 | Loss: 0.91366 | Correct: 98/128\n"
          ],
          "name": "stderr"
        },
        {
          "output_type": "stream",
          "text": [
            "None\n"
          ],
          "name": "stdout"
        },
        {
          "output_type": "stream",
          "text": [
            "2021-07-16 07:46:04,602 - INFO: lr: 0.01883 | Epoch: 038 | Batch: 000 | Loss: 0.65501 | Correct: 103/128\n"
          ],
          "name": "stderr"
        },
        {
          "output_type": "stream",
          "text": [
            "None\n"
          ],
          "name": "stdout"
        },
        {
          "output_type": "stream",
          "text": [
            "2021-07-16 07:46:20,881 - INFO: lr: 0.01091 | Epoch: 039 | Batch: 000 | Loss: 0.75696 | Correct: 98/128\n"
          ],
          "name": "stderr"
        },
        {
          "output_type": "stream",
          "text": [
            "None\n"
          ],
          "name": "stdout"
        },
        {
          "output_type": "stream",
          "text": [
            "2021-07-16 07:46:37,061 - INFO: lr: 0.00495 | Epoch: 040 | Batch: 000 | Loss: 0.59023 | Correct: 107/128\n"
          ],
          "name": "stderr"
        },
        {
          "output_type": "stream",
          "text": [
            "None\n"
          ],
          "name": "stdout"
        },
        {
          "output_type": "stream",
          "text": [
            "2021-07-16 07:46:53,189 - INFO: lr: 0.00125 | Epoch: 041 | Batch: 000 | Loss: 0.65506 | Correct: 101/128\n"
          ],
          "name": "stderr"
        },
        {
          "output_type": "stream",
          "text": [
            "None\n"
          ],
          "name": "stdout"
        },
        {
          "output_type": "stream",
          "text": [
            "2021-07-16 07:47:08,604 - INFO: Save the snapshot model with index: 2\n",
            "2021-07-16 07:47:09,503 - INFO: n_estimators: 3 | Validation Acc: 72.768 % | Historical Best: 72.768 %\n",
            "2021-07-16 07:47:10,374 - INFO: lr: 0.10000 | Epoch: 042 | Batch: 000 | Loss: 0.73347 | Correct: 104/128\n"
          ],
          "name": "stderr"
        },
        {
          "output_type": "stream",
          "text": [
            "None\n"
          ],
          "name": "stdout"
        },
        {
          "output_type": "stream",
          "text": [
            "2021-07-16 07:47:26,636 - INFO: lr: 0.09875 | Epoch: 043 | Batch: 000 | Loss: 1.44945 | Correct: 69/128\n"
          ],
          "name": "stderr"
        },
        {
          "output_type": "stream",
          "text": [
            "None\n"
          ],
          "name": "stdout"
        },
        {
          "output_type": "stream",
          "text": [
            "2021-07-16 07:47:42,784 - INFO: lr: 0.09505 | Epoch: 044 | Batch: 000 | Loss: 1.26738 | Correct: 73/128\n"
          ],
          "name": "stderr"
        },
        {
          "output_type": "stream",
          "text": [
            "None\n"
          ],
          "name": "stdout"
        },
        {
          "output_type": "stream",
          "text": [
            "2021-07-16 07:47:58,951 - INFO: lr: 0.08909 | Epoch: 045 | Batch: 000 | Loss: 1.04607 | Correct: 91/128\n"
          ],
          "name": "stderr"
        },
        {
          "output_type": "stream",
          "text": [
            "None\n"
          ],
          "name": "stdout"
        },
        {
          "output_type": "stream",
          "text": [
            "2021-07-16 07:48:15,205 - INFO: lr: 0.08117 | Epoch: 046 | Batch: 000 | Loss: 0.81148 | Correct: 96/128\n"
          ],
          "name": "stderr"
        },
        {
          "output_type": "stream",
          "text": [
            "None\n"
          ],
          "name": "stdout"
        },
        {
          "output_type": "stream",
          "text": [
            "2021-07-16 07:48:31,430 - INFO: lr: 0.07169 | Epoch: 047 | Batch: 000 | Loss: 1.03617 | Correct: 90/128\n"
          ],
          "name": "stderr"
        },
        {
          "output_type": "stream",
          "text": [
            "None\n"
          ],
          "name": "stdout"
        },
        {
          "output_type": "stream",
          "text": [
            "2021-07-16 07:48:47,693 - INFO: lr: 0.06113 | Epoch: 048 | Batch: 000 | Loss: 0.82018 | Correct: 95/128\n"
          ],
          "name": "stderr"
        },
        {
          "output_type": "stream",
          "text": [
            "None\n"
          ],
          "name": "stdout"
        },
        {
          "output_type": "stream",
          "text": [
            "2021-07-16 07:49:04,000 - INFO: lr: 0.05000 | Epoch: 049 | Batch: 000 | Loss: 0.91501 | Correct: 95/128\n"
          ],
          "name": "stderr"
        },
        {
          "output_type": "stream",
          "text": [
            "None\n"
          ],
          "name": "stdout"
        },
        {
          "output_type": "stream",
          "text": [
            "2021-07-16 07:49:20,159 - INFO: lr: 0.03887 | Epoch: 050 | Batch: 000 | Loss: 0.72845 | Correct: 100/128\n"
          ],
          "name": "stderr"
        },
        {
          "output_type": "stream",
          "text": [
            "None\n"
          ],
          "name": "stdout"
        },
        {
          "output_type": "stream",
          "text": [
            "2021-07-16 07:49:36,269 - INFO: lr: 0.02831 | Epoch: 051 | Batch: 000 | Loss: 0.75936 | Correct: 96/128\n"
          ],
          "name": "stderr"
        },
        {
          "output_type": "stream",
          "text": [
            "None\n"
          ],
          "name": "stdout"
        },
        {
          "output_type": "stream",
          "text": [
            "2021-07-16 07:49:52,480 - INFO: lr: 0.01883 | Epoch: 052 | Batch: 000 | Loss: 0.45426 | Correct: 113/128\n"
          ],
          "name": "stderr"
        },
        {
          "output_type": "stream",
          "text": [
            "None\n"
          ],
          "name": "stdout"
        },
        {
          "output_type": "stream",
          "text": [
            "2021-07-16 07:50:08,688 - INFO: lr: 0.01091 | Epoch: 053 | Batch: 000 | Loss: 0.47601 | Correct: 117/128\n"
          ],
          "name": "stderr"
        },
        {
          "output_type": "stream",
          "text": [
            "None\n"
          ],
          "name": "stdout"
        },
        {
          "output_type": "stream",
          "text": [
            "2021-07-16 07:50:24,829 - INFO: lr: 0.00495 | Epoch: 054 | Batch: 000 | Loss: 0.51886 | Correct: 108/128\n"
          ],
          "name": "stderr"
        },
        {
          "output_type": "stream",
          "text": [
            "None\n"
          ],
          "name": "stdout"
        },
        {
          "output_type": "stream",
          "text": [
            "2021-07-16 07:50:40,965 - INFO: lr: 0.00125 | Epoch: 055 | Batch: 000 | Loss: 0.53571 | Correct: 103/128\n"
          ],
          "name": "stderr"
        },
        {
          "output_type": "stream",
          "text": [
            "None\n"
          ],
          "name": "stdout"
        },
        {
          "output_type": "stream",
          "text": [
            "2021-07-16 07:50:56,365 - INFO: Save the snapshot model with index: 3\n",
            "2021-07-16 07:50:57,349 - INFO: n_estimators: 4 | Validation Acc: 72.545 % | Historical Best: 72.768 %\n",
            "2021-07-16 07:50:58,194 - INFO: lr: 0.10000 | Epoch: 056 | Batch: 000 | Loss: 0.44648 | Correct: 112/128\n"
          ],
          "name": "stderr"
        },
        {
          "output_type": "stream",
          "text": [
            "None\n"
          ],
          "name": "stdout"
        },
        {
          "output_type": "stream",
          "text": [
            "2021-07-16 07:51:14,447 - INFO: lr: 0.09875 | Epoch: 057 | Batch: 000 | Loss: 1.07465 | Correct: 92/128\n"
          ],
          "name": "stderr"
        },
        {
          "output_type": "stream",
          "text": [
            "None\n"
          ],
          "name": "stdout"
        },
        {
          "output_type": "stream",
          "text": [
            "2021-07-16 07:51:30,552 - INFO: lr: 0.09505 | Epoch: 058 | Batch: 000 | Loss: 0.80169 | Correct: 101/128\n"
          ],
          "name": "stderr"
        },
        {
          "output_type": "stream",
          "text": [
            "None\n"
          ],
          "name": "stdout"
        },
        {
          "output_type": "stream",
          "text": [
            "2021-07-16 07:51:46,668 - INFO: lr: 0.08909 | Epoch: 059 | Batch: 000 | Loss: 0.67982 | Correct: 104/128\n"
          ],
          "name": "stderr"
        },
        {
          "output_type": "stream",
          "text": [
            "None\n"
          ],
          "name": "stdout"
        },
        {
          "output_type": "stream",
          "text": [
            "2021-07-16 07:52:02,821 - INFO: lr: 0.08117 | Epoch: 060 | Batch: 000 | Loss: 0.74919 | Correct: 97/128\n"
          ],
          "name": "stderr"
        },
        {
          "output_type": "stream",
          "text": [
            "None\n"
          ],
          "name": "stdout"
        },
        {
          "output_type": "stream",
          "text": [
            "2021-07-16 07:52:19,020 - INFO: lr: 0.07169 | Epoch: 061 | Batch: 000 | Loss: 0.60543 | Correct: 105/128\n"
          ],
          "name": "stderr"
        },
        {
          "output_type": "stream",
          "text": [
            "None\n"
          ],
          "name": "stdout"
        },
        {
          "output_type": "stream",
          "text": [
            "2021-07-16 07:52:35,124 - INFO: lr: 0.06113 | Epoch: 062 | Batch: 000 | Loss: 0.44300 | Correct: 114/128\n"
          ],
          "name": "stderr"
        },
        {
          "output_type": "stream",
          "text": [
            "None\n"
          ],
          "name": "stdout"
        },
        {
          "output_type": "stream",
          "text": [
            "2021-07-16 07:52:51,221 - INFO: lr: 0.05000 | Epoch: 063 | Batch: 000 | Loss: 0.50488 | Correct: 105/128\n"
          ],
          "name": "stderr"
        },
        {
          "output_type": "stream",
          "text": [
            "None\n"
          ],
          "name": "stdout"
        },
        {
          "output_type": "stream",
          "text": [
            "2021-07-16 07:53:07,424 - INFO: lr: 0.03887 | Epoch: 064 | Batch: 000 | Loss: 0.42217 | Correct: 113/128\n"
          ],
          "name": "stderr"
        },
        {
          "output_type": "stream",
          "text": [
            "None\n"
          ],
          "name": "stdout"
        },
        {
          "output_type": "stream",
          "text": [
            "2021-07-16 07:53:23,691 - INFO: lr: 0.02831 | Epoch: 065 | Batch: 000 | Loss: 0.33901 | Correct: 116/128\n"
          ],
          "name": "stderr"
        },
        {
          "output_type": "stream",
          "text": [
            "None\n"
          ],
          "name": "stdout"
        },
        {
          "output_type": "stream",
          "text": [
            "2021-07-16 07:53:39,790 - INFO: lr: 0.01883 | Epoch: 066 | Batch: 000 | Loss: 0.33063 | Correct: 116/128\n"
          ],
          "name": "stderr"
        },
        {
          "output_type": "stream",
          "text": [
            "None\n"
          ],
          "name": "stdout"
        },
        {
          "output_type": "stream",
          "text": [
            "2021-07-16 07:53:55,881 - INFO: lr: 0.01091 | Epoch: 067 | Batch: 000 | Loss: 0.17000 | Correct: 125/128\n"
          ],
          "name": "stderr"
        },
        {
          "output_type": "stream",
          "text": [
            "None\n"
          ],
          "name": "stdout"
        },
        {
          "output_type": "stream",
          "text": [
            "2021-07-16 07:54:12,100 - INFO: lr: 0.00495 | Epoch: 068 | Batch: 000 | Loss: 0.22827 | Correct: 124/128\n"
          ],
          "name": "stderr"
        },
        {
          "output_type": "stream",
          "text": [
            "None\n"
          ],
          "name": "stdout"
        },
        {
          "output_type": "stream",
          "text": [
            "2021-07-16 07:54:28,424 - INFO: lr: 0.00125 | Epoch: 069 | Batch: 000 | Loss: 0.27627 | Correct: 116/128\n"
          ],
          "name": "stderr"
        },
        {
          "output_type": "stream",
          "text": [
            "None\n"
          ],
          "name": "stdout"
        },
        {
          "output_type": "stream",
          "text": [
            "2021-07-16 07:54:43,838 - INFO: Save the snapshot model with index: 4\n",
            "2021-07-16 07:54:44,980 - INFO: n_estimators: 5 | Validation Acc: 73.884 % | Historical Best: 73.884 %\n"
          ],
          "name": "stderr"
        },
        {
          "output_type": "stream",
          "text": [
            "Group 4 Finished!\n",
            "Target number of exemplars: 50\n",
            "Randomly extracting exemplars from class 0 of current split... Extracted 50 exemplars.\n",
            "Randomly extracting exemplars from class 1 of current split... Extracted 50 exemplars.\n",
            "Randomly extracting exemplars from class 2 of current split... Extracted 50 exemplars.\n",
            "Randomly extracting exemplars from class 3 of current split... Extracted 50 exemplars.\n",
            "Randomly extracting exemplars from class 4 of current split... Extracted 50 exemplars.\n",
            "Randomly extracting exemplars from class 5 of current split... Extracted 50 exemplars.\n",
            "Randomly extracting exemplars from class 6 of current split... Extracted 50 exemplars.\n",
            "Randomly extracting exemplars from class 7 of current split... Extracted 50 exemplars.\n",
            "Randomly extracting exemplars from class 8 of current split... Extracted 50 exemplars.\n",
            "Randomly extracting exemplars from class 9 of current split... Extracted 50 exemplars.\n",
            "[0.06983366935483871, 0.19916834677419354, 0.4047883064516129, 0.533820564516129, 0.6868699596774194, 0.7774697580645161, 0.8781502016129032]\n",
            "[0.45388104838709675, 0.42993951612903225, 0.3777721774193548, 0.34400201612903225, 0.27545362903225806, 0.2283266129032258, 0.15347782258064516]\n",
            "Testing on both open and closed world\n",
            "owr harmonic mean (threshold:0.25) = 0.12119743712527137\n",
            "owr harmonic mean (threshold:0.35) = 0.27234130853306754\n",
            "owr harmonic mean (threshold:0.5) = 0.3909140257410496\n",
            "owr harmonic mean (threshold:0.6) = 0.41849297900232424\n",
            "owr harmonic mean (threshold:0.75) = 0.39333491177919355\n",
            "owr harmonic mean (threshold:0.85) = 0.3531178267766408\n",
            "owr harmonic mean (threshold:0.95) = 0.261438438348563\n",
            "\n",
            "=============================================\n",
            "\n",
            "Length of exemplars set: 2000\n"
          ],
          "name": "stdout"
        },
        {
          "output_type": "stream",
          "text": [
            "2021-07-16 07:55:23,734 - INFO: lr: 0.10000 | Epoch: 000 | Batch: 000 | Loss: 5.22808 | Correct: 12/128\n"
          ],
          "name": "stderr"
        },
        {
          "output_type": "stream",
          "text": [
            "None\n"
          ],
          "name": "stdout"
        },
        {
          "output_type": "stream",
          "text": [
            "2021-07-16 07:55:40,197 - INFO: lr: 0.09875 | Epoch: 001 | Batch: 000 | Loss: 2.82926 | Correct: 32/128\n"
          ],
          "name": "stderr"
        },
        {
          "output_type": "stream",
          "text": [
            "None\n"
          ],
          "name": "stdout"
        },
        {
          "output_type": "stream",
          "text": [
            "2021-07-16 07:55:56,837 - INFO: lr: 0.09505 | Epoch: 002 | Batch: 000 | Loss: 2.75379 | Correct: 39/128\n"
          ],
          "name": "stderr"
        },
        {
          "output_type": "stream",
          "text": [
            "None\n"
          ],
          "name": "stdout"
        },
        {
          "output_type": "stream",
          "text": [
            "2021-07-16 07:56:13,456 - INFO: lr: 0.08909 | Epoch: 003 | Batch: 000 | Loss: 2.64263 | Correct: 45/128\n"
          ],
          "name": "stderr"
        },
        {
          "output_type": "stream",
          "text": [
            "None\n"
          ],
          "name": "stdout"
        },
        {
          "output_type": "stream",
          "text": [
            "2021-07-16 07:56:29,998 - INFO: lr: 0.08117 | Epoch: 004 | Batch: 000 | Loss: 2.69813 | Correct: 43/128\n"
          ],
          "name": "stderr"
        },
        {
          "output_type": "stream",
          "text": [
            "None\n"
          ],
          "name": "stdout"
        },
        {
          "output_type": "stream",
          "text": [
            "2021-07-16 07:56:46,500 - INFO: lr: 0.07169 | Epoch: 005 | Batch: 000 | Loss: 2.33999 | Correct: 51/128\n"
          ],
          "name": "stderr"
        },
        {
          "output_type": "stream",
          "text": [
            "None\n"
          ],
          "name": "stdout"
        },
        {
          "output_type": "stream",
          "text": [
            "2021-07-16 07:57:03,146 - INFO: lr: 0.06113 | Epoch: 006 | Batch: 000 | Loss: 2.40643 | Correct: 49/128\n"
          ],
          "name": "stderr"
        },
        {
          "output_type": "stream",
          "text": [
            "None\n"
          ],
          "name": "stdout"
        },
        {
          "output_type": "stream",
          "text": [
            "2021-07-16 07:57:19,749 - INFO: lr: 0.05000 | Epoch: 007 | Batch: 000 | Loss: 2.30810 | Correct: 50/128\n"
          ],
          "name": "stderr"
        },
        {
          "output_type": "stream",
          "text": [
            "None\n"
          ],
          "name": "stdout"
        },
        {
          "output_type": "stream",
          "text": [
            "2021-07-16 07:57:36,268 - INFO: lr: 0.03887 | Epoch: 008 | Batch: 000 | Loss: 2.26404 | Correct: 49/128\n"
          ],
          "name": "stderr"
        },
        {
          "output_type": "stream",
          "text": [
            "None\n"
          ],
          "name": "stdout"
        },
        {
          "output_type": "stream",
          "text": [
            "2021-07-16 07:57:52,743 - INFO: lr: 0.02831 | Epoch: 009 | Batch: 000 | Loss: 2.05262 | Correct: 58/128\n"
          ],
          "name": "stderr"
        },
        {
          "output_type": "stream",
          "text": [
            "None\n"
          ],
          "name": "stdout"
        },
        {
          "output_type": "stream",
          "text": [
            "2021-07-16 07:58:09,377 - INFO: lr: 0.01883 | Epoch: 010 | Batch: 000 | Loss: 2.05868 | Correct: 59/128\n"
          ],
          "name": "stderr"
        },
        {
          "output_type": "stream",
          "text": [
            "None\n"
          ],
          "name": "stdout"
        },
        {
          "output_type": "stream",
          "text": [
            "2021-07-16 07:58:26,032 - INFO: lr: 0.01091 | Epoch: 011 | Batch: 000 | Loss: 2.10865 | Correct: 62/128\n"
          ],
          "name": "stderr"
        },
        {
          "output_type": "stream",
          "text": [
            "None\n"
          ],
          "name": "stdout"
        },
        {
          "output_type": "stream",
          "text": [
            "2021-07-16 07:58:42,526 - INFO: lr: 0.00495 | Epoch: 012 | Batch: 000 | Loss: 1.81096 | Correct: 63/128\n"
          ],
          "name": "stderr"
        },
        {
          "output_type": "stream",
          "text": [
            "None\n"
          ],
          "name": "stdout"
        },
        {
          "output_type": "stream",
          "text": [
            "2021-07-16 07:58:59,012 - INFO: lr: 0.00125 | Epoch: 013 | Batch: 000 | Loss: 1.80847 | Correct: 65/128\n"
          ],
          "name": "stderr"
        },
        {
          "output_type": "stream",
          "text": [
            "None\n"
          ],
          "name": "stdout"
        },
        {
          "output_type": "stream",
          "text": [
            "2021-07-16 07:59:14,833 - INFO: Save the snapshot model with index: 0\n",
            "2021-07-16 07:59:15,515 - INFO: n_estimators: 1 | Validation Acc: 64.732 % | Historical Best: 64.732 %\n",
            "2021-07-16 07:59:16,418 - INFO: lr: 0.10000 | Epoch: 014 | Batch: 000 | Loss: 1.84528 | Correct: 58/128\n"
          ],
          "name": "stderr"
        },
        {
          "output_type": "stream",
          "text": [
            "None\n"
          ],
          "name": "stdout"
        },
        {
          "output_type": "stream",
          "text": [
            "2021-07-16 07:59:33,029 - INFO: lr: 0.09875 | Epoch: 015 | Batch: 000 | Loss: 2.32953 | Correct: 50/128\n"
          ],
          "name": "stderr"
        },
        {
          "output_type": "stream",
          "text": [
            "None\n"
          ],
          "name": "stdout"
        },
        {
          "output_type": "stream",
          "text": [
            "2021-07-16 07:59:49,721 - INFO: lr: 0.09505 | Epoch: 016 | Batch: 000 | Loss: 1.98658 | Correct: 67/128\n"
          ],
          "name": "stderr"
        },
        {
          "output_type": "stream",
          "text": [
            "None\n"
          ],
          "name": "stdout"
        },
        {
          "output_type": "stream",
          "text": [
            "2021-07-16 08:00:06,362 - INFO: lr: 0.08909 | Epoch: 017 | Batch: 000 | Loss: 2.05484 | Correct: 52/128\n"
          ],
          "name": "stderr"
        },
        {
          "output_type": "stream",
          "text": [
            "None\n"
          ],
          "name": "stdout"
        },
        {
          "output_type": "stream",
          "text": [
            "2021-07-16 08:00:22,891 - INFO: lr: 0.08117 | Epoch: 018 | Batch: 000 | Loss: 1.99623 | Correct: 61/128\n"
          ],
          "name": "stderr"
        },
        {
          "output_type": "stream",
          "text": [
            "None\n"
          ],
          "name": "stdout"
        },
        {
          "output_type": "stream",
          "text": [
            "2021-07-16 08:00:39,390 - INFO: lr: 0.07169 | Epoch: 019 | Batch: 000 | Loss: 1.92547 | Correct: 68/128\n"
          ],
          "name": "stderr"
        },
        {
          "output_type": "stream",
          "text": [
            "None\n"
          ],
          "name": "stdout"
        },
        {
          "output_type": "stream",
          "text": [
            "2021-07-16 08:00:56,049 - INFO: lr: 0.06113 | Epoch: 020 | Batch: 000 | Loss: 1.71162 | Correct: 66/128\n"
          ],
          "name": "stderr"
        },
        {
          "output_type": "stream",
          "text": [
            "None\n"
          ],
          "name": "stdout"
        },
        {
          "output_type": "stream",
          "text": [
            "2021-07-16 08:01:12,658 - INFO: lr: 0.05000 | Epoch: 021 | Batch: 000 | Loss: 1.70984 | Correct: 69/128\n"
          ],
          "name": "stderr"
        },
        {
          "output_type": "stream",
          "text": [
            "None\n"
          ],
          "name": "stdout"
        },
        {
          "output_type": "stream",
          "text": [
            "2021-07-16 08:01:29,154 - INFO: lr: 0.03887 | Epoch: 022 | Batch: 000 | Loss: 1.50804 | Correct: 78/128\n"
          ],
          "name": "stderr"
        },
        {
          "output_type": "stream",
          "text": [
            "None\n"
          ],
          "name": "stdout"
        },
        {
          "output_type": "stream",
          "text": [
            "2021-07-16 08:01:45,671 - INFO: lr: 0.02831 | Epoch: 023 | Batch: 000 | Loss: 1.67484 | Correct: 65/128\n"
          ],
          "name": "stderr"
        },
        {
          "output_type": "stream",
          "text": [
            "None\n"
          ],
          "name": "stdout"
        },
        {
          "output_type": "stream",
          "text": [
            "2021-07-16 08:02:02,346 - INFO: lr: 0.01883 | Epoch: 024 | Batch: 000 | Loss: 1.59984 | Correct: 72/128\n"
          ],
          "name": "stderr"
        },
        {
          "output_type": "stream",
          "text": [
            "None\n"
          ],
          "name": "stdout"
        },
        {
          "output_type": "stream",
          "text": [
            "2021-07-16 08:02:18,953 - INFO: lr: 0.01091 | Epoch: 025 | Batch: 000 | Loss: 1.28468 | Correct: 85/128\n"
          ],
          "name": "stderr"
        },
        {
          "output_type": "stream",
          "text": [
            "None\n"
          ],
          "name": "stdout"
        },
        {
          "output_type": "stream",
          "text": [
            "2021-07-16 08:02:35,464 - INFO: lr: 0.00495 | Epoch: 026 | Batch: 000 | Loss: 1.21108 | Correct: 87/128\n"
          ],
          "name": "stderr"
        },
        {
          "output_type": "stream",
          "text": [
            "None\n"
          ],
          "name": "stdout"
        },
        {
          "output_type": "stream",
          "text": [
            "2021-07-16 08:02:51,968 - INFO: lr: 0.00125 | Epoch: 027 | Batch: 000 | Loss: 1.30109 | Correct: 83/128\n"
          ],
          "name": "stderr"
        },
        {
          "output_type": "stream",
          "text": [
            "None\n"
          ],
          "name": "stdout"
        },
        {
          "output_type": "stream",
          "text": [
            "2021-07-16 08:03:07,747 - INFO: Save the snapshot model with index: 1\n",
            "2021-07-16 08:03:08,516 - INFO: n_estimators: 2 | Validation Acc: 70.536 % | Historical Best: 70.536 %\n",
            "2021-07-16 08:03:09,410 - INFO: lr: 0.10000 | Epoch: 028 | Batch: 000 | Loss: 1.34162 | Correct: 84/128\n"
          ],
          "name": "stderr"
        },
        {
          "output_type": "stream",
          "text": [
            "None\n"
          ],
          "name": "stdout"
        },
        {
          "output_type": "stream",
          "text": [
            "2021-07-16 08:03:25,985 - INFO: lr: 0.09875 | Epoch: 029 | Batch: 000 | Loss: 1.60380 | Correct: 75/128\n"
          ],
          "name": "stderr"
        },
        {
          "output_type": "stream",
          "text": [
            "None\n"
          ],
          "name": "stdout"
        },
        {
          "output_type": "stream",
          "text": [
            "2021-07-16 08:03:42,471 - INFO: lr: 0.09505 | Epoch: 030 | Batch: 000 | Loss: 1.64543 | Correct: 73/128\n"
          ],
          "name": "stderr"
        },
        {
          "output_type": "stream",
          "text": [
            "None\n"
          ],
          "name": "stdout"
        },
        {
          "output_type": "stream",
          "text": [
            "2021-07-16 08:03:58,990 - INFO: lr: 0.08909 | Epoch: 031 | Batch: 000 | Loss: 1.57235 | Correct: 72/128\n"
          ],
          "name": "stderr"
        },
        {
          "output_type": "stream",
          "text": [
            "None\n"
          ],
          "name": "stdout"
        },
        {
          "output_type": "stream",
          "text": [
            "2021-07-16 08:04:15,606 - INFO: lr: 0.08117 | Epoch: 032 | Batch: 000 | Loss: 1.49831 | Correct: 81/128\n"
          ],
          "name": "stderr"
        },
        {
          "output_type": "stream",
          "text": [
            "None\n"
          ],
          "name": "stdout"
        },
        {
          "output_type": "stream",
          "text": [
            "2021-07-16 08:04:32,149 - INFO: lr: 0.07169 | Epoch: 033 | Batch: 000 | Loss: 1.20193 | Correct: 84/128\n"
          ],
          "name": "stderr"
        },
        {
          "output_type": "stream",
          "text": [
            "None\n"
          ],
          "name": "stdout"
        },
        {
          "output_type": "stream",
          "text": [
            "2021-07-16 08:04:48,800 - INFO: lr: 0.06113 | Epoch: 034 | Batch: 000 | Loss: 1.46977 | Correct: 79/128\n"
          ],
          "name": "stderr"
        },
        {
          "output_type": "stream",
          "text": [
            "None\n"
          ],
          "name": "stdout"
        },
        {
          "output_type": "stream",
          "text": [
            "2021-07-16 08:05:05,350 - INFO: lr: 0.05000 | Epoch: 035 | Batch: 000 | Loss: 1.19613 | Correct: 87/128\n"
          ],
          "name": "stderr"
        },
        {
          "output_type": "stream",
          "text": [
            "None\n"
          ],
          "name": "stdout"
        },
        {
          "output_type": "stream",
          "text": [
            "2021-07-16 08:05:21,787 - INFO: lr: 0.03887 | Epoch: 036 | Batch: 000 | Loss: 1.32535 | Correct: 82/128\n"
          ],
          "name": "stderr"
        },
        {
          "output_type": "stream",
          "text": [
            "None\n"
          ],
          "name": "stdout"
        },
        {
          "output_type": "stream",
          "text": [
            "2021-07-16 08:05:38,198 - INFO: lr: 0.02831 | Epoch: 037 | Batch: 000 | Loss: 1.04992 | Correct: 94/128\n"
          ],
          "name": "stderr"
        },
        {
          "output_type": "stream",
          "text": [
            "None\n"
          ],
          "name": "stdout"
        },
        {
          "output_type": "stream",
          "text": [
            "2021-07-16 08:05:54,819 - INFO: lr: 0.01883 | Epoch: 038 | Batch: 000 | Loss: 0.79698 | Correct: 102/128\n"
          ],
          "name": "stderr"
        },
        {
          "output_type": "stream",
          "text": [
            "None\n"
          ],
          "name": "stdout"
        },
        {
          "output_type": "stream",
          "text": [
            "2021-07-16 08:06:11,372 - INFO: lr: 0.01091 | Epoch: 039 | Batch: 000 | Loss: 1.07597 | Correct: 86/128\n"
          ],
          "name": "stderr"
        },
        {
          "output_type": "stream",
          "text": [
            "None\n"
          ],
          "name": "stdout"
        },
        {
          "output_type": "stream",
          "text": [
            "2021-07-16 08:06:27,833 - INFO: lr: 0.00495 | Epoch: 040 | Batch: 000 | Loss: 0.85268 | Correct: 99/128\n"
          ],
          "name": "stderr"
        },
        {
          "output_type": "stream",
          "text": [
            "None\n"
          ],
          "name": "stdout"
        },
        {
          "output_type": "stream",
          "text": [
            "2021-07-16 08:06:44,270 - INFO: lr: 0.00125 | Epoch: 041 | Batch: 000 | Loss: 0.97902 | Correct: 93/128\n"
          ],
          "name": "stderr"
        },
        {
          "output_type": "stream",
          "text": [
            "None\n"
          ],
          "name": "stdout"
        },
        {
          "output_type": "stream",
          "text": [
            "2021-07-16 08:07:00,042 - INFO: Save the snapshot model with index: 2\n",
            "2021-07-16 08:07:00,929 - INFO: n_estimators: 3 | Validation Acc: 74.219 % | Historical Best: 74.219 %\n",
            "2021-07-16 08:07:01,822 - INFO: lr: 0.10000 | Epoch: 042 | Batch: 000 | Loss: 0.83919 | Correct: 98/128\n"
          ],
          "name": "stderr"
        },
        {
          "output_type": "stream",
          "text": [
            "None\n"
          ],
          "name": "stdout"
        },
        {
          "output_type": "stream",
          "text": [
            "2021-07-16 08:07:18,338 - INFO: lr: 0.09875 | Epoch: 043 | Batch: 000 | Loss: 1.31858 | Correct: 77/128\n"
          ],
          "name": "stderr"
        },
        {
          "output_type": "stream",
          "text": [
            "None\n"
          ],
          "name": "stdout"
        },
        {
          "output_type": "stream",
          "text": [
            "2021-07-16 08:07:34,768 - INFO: lr: 0.09505 | Epoch: 044 | Batch: 000 | Loss: 1.30607 | Correct: 78/128\n"
          ],
          "name": "stderr"
        },
        {
          "output_type": "stream",
          "text": [
            "None\n"
          ],
          "name": "stdout"
        },
        {
          "output_type": "stream",
          "text": [
            "2021-07-16 08:07:51,219 - INFO: lr: 0.08909 | Epoch: 045 | Batch: 000 | Loss: 1.12701 | Correct: 90/128\n"
          ],
          "name": "stderr"
        },
        {
          "output_type": "stream",
          "text": [
            "None\n"
          ],
          "name": "stdout"
        },
        {
          "output_type": "stream",
          "text": [
            "2021-07-16 08:08:07,812 - INFO: lr: 0.08117 | Epoch: 046 | Batch: 000 | Loss: 1.10353 | Correct: 83/128\n"
          ],
          "name": "stderr"
        },
        {
          "output_type": "stream",
          "text": [
            "None\n"
          ],
          "name": "stdout"
        },
        {
          "output_type": "stream",
          "text": [
            "2021-07-16 08:08:24,324 - INFO: lr: 0.07169 | Epoch: 047 | Batch: 000 | Loss: 1.07495 | Correct: 88/128\n"
          ],
          "name": "stderr"
        },
        {
          "output_type": "stream",
          "text": [
            "None\n"
          ],
          "name": "stdout"
        },
        {
          "output_type": "stream",
          "text": [
            "2021-07-16 08:08:40,771 - INFO: lr: 0.06113 | Epoch: 048 | Batch: 000 | Loss: 0.81930 | Correct: 95/128\n"
          ],
          "name": "stderr"
        },
        {
          "output_type": "stream",
          "text": [
            "None\n"
          ],
          "name": "stdout"
        },
        {
          "output_type": "stream",
          "text": [
            "2021-07-16 08:08:57,267 - INFO: lr: 0.05000 | Epoch: 049 | Batch: 000 | Loss: 1.03853 | Correct: 85/128\n"
          ],
          "name": "stderr"
        },
        {
          "output_type": "stream",
          "text": [
            "None\n"
          ],
          "name": "stdout"
        },
        {
          "output_type": "stream",
          "text": [
            "2021-07-16 08:09:13,896 - INFO: lr: 0.03887 | Epoch: 050 | Batch: 000 | Loss: 1.12456 | Correct: 84/128\n"
          ],
          "name": "stderr"
        },
        {
          "output_type": "stream",
          "text": [
            "None\n"
          ],
          "name": "stdout"
        },
        {
          "output_type": "stream",
          "text": [
            "2021-07-16 08:09:30,453 - INFO: lr: 0.02831 | Epoch: 051 | Batch: 000 | Loss: 0.82376 | Correct: 97/128\n"
          ],
          "name": "stderr"
        },
        {
          "output_type": "stream",
          "text": [
            "None\n"
          ],
          "name": "stdout"
        },
        {
          "output_type": "stream",
          "text": [
            "2021-07-16 08:09:46,923 - INFO: lr: 0.01883 | Epoch: 052 | Batch: 000 | Loss: 0.58160 | Correct: 109/128\n"
          ],
          "name": "stderr"
        },
        {
          "output_type": "stream",
          "text": [
            "None\n"
          ],
          "name": "stdout"
        },
        {
          "output_type": "stream",
          "text": [
            "2021-07-16 08:10:03,364 - INFO: lr: 0.01091 | Epoch: 053 | Batch: 000 | Loss: 0.57752 | Correct: 108/128\n"
          ],
          "name": "stderr"
        },
        {
          "output_type": "stream",
          "text": [
            "None\n"
          ],
          "name": "stdout"
        },
        {
          "output_type": "stream",
          "text": [
            "2021-07-16 08:10:19,993 - INFO: lr: 0.00495 | Epoch: 054 | Batch: 000 | Loss: 0.53119 | Correct: 112/128\n"
          ],
          "name": "stderr"
        },
        {
          "output_type": "stream",
          "text": [
            "None\n"
          ],
          "name": "stdout"
        },
        {
          "output_type": "stream",
          "text": [
            "2021-07-16 08:10:36,527 - INFO: lr: 0.00125 | Epoch: 055 | Batch: 000 | Loss: 0.56435 | Correct: 103/128\n"
          ],
          "name": "stderr"
        },
        {
          "output_type": "stream",
          "text": [
            "None\n"
          ],
          "name": "stdout"
        },
        {
          "output_type": "stream",
          "text": [
            "2021-07-16 08:10:52,284 - INFO: Save the snapshot model with index: 3\n",
            "2021-07-16 08:10:53,303 - INFO: n_estimators: 4 | Validation Acc: 75.558 % | Historical Best: 75.558 %\n",
            "2021-07-16 08:10:54,175 - INFO: lr: 0.10000 | Epoch: 056 | Batch: 000 | Loss: 0.53637 | Correct: 113/128\n"
          ],
          "name": "stderr"
        },
        {
          "output_type": "stream",
          "text": [
            "None\n"
          ],
          "name": "stdout"
        },
        {
          "output_type": "stream",
          "text": [
            "2021-07-16 08:11:10,709 - INFO: lr: 0.09875 | Epoch: 057 | Batch: 000 | Loss: 1.30819 | Correct: 82/128\n"
          ],
          "name": "stderr"
        },
        {
          "output_type": "stream",
          "text": [
            "None\n"
          ],
          "name": "stdout"
        },
        {
          "output_type": "stream",
          "text": [
            "2021-07-16 08:11:27,170 - INFO: lr: 0.09505 | Epoch: 058 | Batch: 000 | Loss: 1.13801 | Correct: 82/128\n"
          ],
          "name": "stderr"
        },
        {
          "output_type": "stream",
          "text": [
            "None\n"
          ],
          "name": "stdout"
        },
        {
          "output_type": "stream",
          "text": [
            "2021-07-16 08:11:43,654 - INFO: lr: 0.08909 | Epoch: 059 | Batch: 000 | Loss: 0.94685 | Correct: 92/128\n"
          ],
          "name": "stderr"
        },
        {
          "output_type": "stream",
          "text": [
            "None\n"
          ],
          "name": "stdout"
        },
        {
          "output_type": "stream",
          "text": [
            "2021-07-16 08:12:00,299 - INFO: lr: 0.08117 | Epoch: 060 | Batch: 000 | Loss: 0.91900 | Correct: 92/128\n"
          ],
          "name": "stderr"
        },
        {
          "output_type": "stream",
          "text": [
            "None\n"
          ],
          "name": "stdout"
        },
        {
          "output_type": "stream",
          "text": [
            "2021-07-16 08:12:16,793 - INFO: lr: 0.07169 | Epoch: 061 | Batch: 000 | Loss: 0.84593 | Correct: 98/128\n"
          ],
          "name": "stderr"
        },
        {
          "output_type": "stream",
          "text": [
            "None\n"
          ],
          "name": "stdout"
        },
        {
          "output_type": "stream",
          "text": [
            "2021-07-16 08:12:33,216 - INFO: lr: 0.06113 | Epoch: 062 | Batch: 000 | Loss: 0.53924 | Correct: 108/128\n"
          ],
          "name": "stderr"
        },
        {
          "output_type": "stream",
          "text": [
            "None\n"
          ],
          "name": "stdout"
        },
        {
          "output_type": "stream",
          "text": [
            "2021-07-16 08:12:49,675 - INFO: lr: 0.05000 | Epoch: 063 | Batch: 000 | Loss: 0.60470 | Correct: 112/128\n"
          ],
          "name": "stderr"
        },
        {
          "output_type": "stream",
          "text": [
            "None\n"
          ],
          "name": "stdout"
        },
        {
          "output_type": "stream",
          "text": [
            "2021-07-16 08:13:06,265 - INFO: lr: 0.03887 | Epoch: 064 | Batch: 000 | Loss: 0.49889 | Correct: 110/128\n"
          ],
          "name": "stderr"
        },
        {
          "output_type": "stream",
          "text": [
            "None\n"
          ],
          "name": "stdout"
        },
        {
          "output_type": "stream",
          "text": [
            "2021-07-16 08:13:22,741 - INFO: lr: 0.02831 | Epoch: 065 | Batch: 000 | Loss: 0.48449 | Correct: 109/128\n"
          ],
          "name": "stderr"
        },
        {
          "output_type": "stream",
          "text": [
            "None\n"
          ],
          "name": "stdout"
        },
        {
          "output_type": "stream",
          "text": [
            "2021-07-16 08:13:39,175 - INFO: lr: 0.01883 | Epoch: 066 | Batch: 000 | Loss: 0.42268 | Correct: 116/128\n"
          ],
          "name": "stderr"
        },
        {
          "output_type": "stream",
          "text": [
            "None\n"
          ],
          "name": "stdout"
        },
        {
          "output_type": "stream",
          "text": [
            "2021-07-16 08:13:55,675 - INFO: lr: 0.01091 | Epoch: 067 | Batch: 000 | Loss: 0.46968 | Correct: 113/128\n"
          ],
          "name": "stderr"
        },
        {
          "output_type": "stream",
          "text": [
            "None\n"
          ],
          "name": "stdout"
        },
        {
          "output_type": "stream",
          "text": [
            "2021-07-16 08:14:12,289 - INFO: lr: 0.00495 | Epoch: 068 | Batch: 000 | Loss: 0.33201 | Correct: 117/128\n"
          ],
          "name": "stderr"
        },
        {
          "output_type": "stream",
          "text": [
            "None\n"
          ],
          "name": "stdout"
        },
        {
          "output_type": "stream",
          "text": [
            "2021-07-16 08:14:28,811 - INFO: lr: 0.00125 | Epoch: 069 | Batch: 000 | Loss: 0.33529 | Correct: 117/128\n"
          ],
          "name": "stderr"
        },
        {
          "output_type": "stream",
          "text": [
            "None\n"
          ],
          "name": "stdout"
        },
        {
          "output_type": "stream",
          "text": [
            "2021-07-16 08:14:44,475 - INFO: Save the snapshot model with index: 4\n",
            "2021-07-16 08:14:45,564 - INFO: n_estimators: 5 | Validation Acc: 78.013 % | Historical Best: 78.013 %\n"
          ],
          "name": "stderr"
        },
        {
          "output_type": "stream",
          "text": [
            "Group 5 Finished!\n",
            "Target number of exemplars: 40\n",
            "Randomly extracting exemplars from class 0 of current split... Extracted 40 exemplars.\n",
            "Randomly extracting exemplars from class 1 of current split... Extracted 40 exemplars.\n",
            "Randomly extracting exemplars from class 2 of current split... Extracted 40 exemplars.\n",
            "Randomly extracting exemplars from class 3 of current split... Extracted 40 exemplars.\n",
            "Randomly extracting exemplars from class 4 of current split... Extracted 40 exemplars.\n",
            "Randomly extracting exemplars from class 5 of current split... Extracted 40 exemplars.\n",
            "Randomly extracting exemplars from class 6 of current split... Extracted 40 exemplars.\n",
            "Randomly extracting exemplars from class 7 of current split... Extracted 40 exemplars.\n",
            "Randomly extracting exemplars from class 8 of current split... Extracted 40 exemplars.\n",
            "Randomly extracting exemplars from class 9 of current split... Extracted 40 exemplars.\n",
            "[0.11310483870967741, 0.263835685483871, 0.47434475806451615, 0.5917338709677419, 0.726335685483871, 0.804914314516129, 0.8935987903225806]\n",
            "[0.3854166666666667, 0.3613782051282051, 0.3104967948717949, 0.27063301282051283, 0.2153445512820513, 0.17708333333333334, 0.1187900641025641]\n",
            "Testing on both open and closed world\n",
            "owr harmonic mean (threshold:0.25) = 0.17501692467405905\n",
            "owr harmonic mean (threshold:0.35) = 0.3051003480738806\n",
            "owr harmonic mean (threshold:0.5) = 0.37542221974718326\n",
            "owr harmonic mean (threshold:0.6) = 0.3715166208853825\n",
            "owr harmonic mean (threshold:0.75) = 0.33232804805784927\n",
            "owr harmonic mean (threshold:0.85) = 0.2904407680863786\n",
            "owr harmonic mean (threshold:0.95) = 0.20986189213025794\n",
            "\n",
            "=============================================\n",
            "\n",
            "#################################\n",
            "\n",
            "\n"
          ],
          "name": "stdout"
        }
      ]
    },
    {
      "cell_type": "code",
      "metadata": {
        "id": "FlhjGZlYBYdR",
        "colab": {
          "base_uri": "https://localhost:8080/",
          "height": 17
        },
        "outputId": "1aaf5d88-5878-44d4-b140-089e2ff0ea7c"
      },
      "source": [
        "import json\n",
        "from google.colab import files\n",
        "\n",
        "\n",
        "predictions = [[logs[run_i]['predictions'][i].cpu().numpy() for i in range(len(logs[run_i]['predictions']))] for run_i in range(len(RANDOM_SEED))]\n",
        "prediction_list = []\n",
        "for pred in predictions[0]:\n",
        "  prediction_list.append(pred.tolist())\n",
        "\n",
        "with open('predictions.json', 'w') as f:\n",
        "  json.dump(prediction_list, f)\n",
        "f.close\n",
        "\n",
        "accuracies = []\n",
        "for i in range(len(REJECTION_THRESHOLD)):\n",
        "  tmp_list = []\n",
        "  for k in range(5):\n",
        "    tmp_list.append(logs[0]['test_accuracies'][k][i])\n",
        "  accuracies.append(tmp_list)\n",
        "\n",
        "with open('accuracies.json', 'w') as f:\n",
        "  json.dump(accuracies, f)\n",
        "f.close\n",
        "\n",
        "true_labels = [logs[run_i]['true_labels'].cpu().data.numpy().tolist() for run_i in range(len(RANDOM_SEED))]\n",
        "with open('true_labels.json', 'w') as f:\n",
        "  json.dump(true_labels, f)\n",
        "f.close\n",
        "\n",
        "files.download('true_labels.json')\n",
        "files.download('accuracies.json')\n",
        "files.download('predictions.json')"
      ],
      "execution_count": 9,
      "outputs": [
        {
          "output_type": "display_data",
          "data": {
            "application/javascript": [
              "\n",
              "    async function download(id, filename, size) {\n",
              "      if (!google.colab.kernel.accessAllowed) {\n",
              "        return;\n",
              "      }\n",
              "      const div = document.createElement('div');\n",
              "      const label = document.createElement('label');\n",
              "      label.textContent = `Downloading \"${filename}\": `;\n",
              "      div.appendChild(label);\n",
              "      const progress = document.createElement('progress');\n",
              "      progress.max = size;\n",
              "      div.appendChild(progress);\n",
              "      document.body.appendChild(div);\n",
              "\n",
              "      const buffers = [];\n",
              "      let downloaded = 0;\n",
              "\n",
              "      const channel = await google.colab.kernel.comms.open(id);\n",
              "      // Send a message to notify the kernel that we're ready.\n",
              "      channel.send({})\n",
              "\n",
              "      for await (const message of channel.messages) {\n",
              "        // Send a message to notify the kernel that we're ready.\n",
              "        channel.send({})\n",
              "        if (message.buffers) {\n",
              "          for (const buffer of message.buffers) {\n",
              "            buffers.push(buffer);\n",
              "            downloaded += buffer.byteLength;\n",
              "            progress.value = downloaded;\n",
              "          }\n",
              "        }\n",
              "      }\n",
              "      const blob = new Blob(buffers, {type: 'application/binary'});\n",
              "      const a = document.createElement('a');\n",
              "      a.href = window.URL.createObjectURL(blob);\n",
              "      a.download = filename;\n",
              "      div.appendChild(a);\n",
              "      a.click();\n",
              "      div.remove();\n",
              "    }\n",
              "  "
            ],
            "text/plain": [
              "<IPython.core.display.Javascript object>"
            ]
          },
          "metadata": {
            "tags": []
          }
        },
        {
          "output_type": "display_data",
          "data": {
            "application/javascript": [
              "download(\"download_3a4cb197-7a4d-4e76-a4d0-571dd5557f6a\", \"true_labels.json\", 172734)"
            ],
            "text/plain": [
              "<IPython.core.display.Javascript object>"
            ]
          },
          "metadata": {
            "tags": []
          }
        },
        {
          "output_type": "display_data",
          "data": {
            "application/javascript": [
              "\n",
              "    async function download(id, filename, size) {\n",
              "      if (!google.colab.kernel.accessAllowed) {\n",
              "        return;\n",
              "      }\n",
              "      const div = document.createElement('div');\n",
              "      const label = document.createElement('label');\n",
              "      label.textContent = `Downloading \"${filename}\": `;\n",
              "      div.appendChild(label);\n",
              "      const progress = document.createElement('progress');\n",
              "      progress.max = size;\n",
              "      div.appendChild(progress);\n",
              "      document.body.appendChild(div);\n",
              "\n",
              "      const buffers = [];\n",
              "      let downloaded = 0;\n",
              "\n",
              "      const channel = await google.colab.kernel.comms.open(id);\n",
              "      // Send a message to notify the kernel that we're ready.\n",
              "      channel.send({})\n",
              "\n",
              "      for await (const message of channel.messages) {\n",
              "        // Send a message to notify the kernel that we're ready.\n",
              "        channel.send({})\n",
              "        if (message.buffers) {\n",
              "          for (const buffer of message.buffers) {\n",
              "            buffers.push(buffer);\n",
              "            downloaded += buffer.byteLength;\n",
              "            progress.value = downloaded;\n",
              "          }\n",
              "        }\n",
              "      }\n",
              "      const blob = new Blob(buffers, {type: 'application/binary'});\n",
              "      const a = document.createElement('a');\n",
              "      a.href = window.URL.createObjectURL(blob);\n",
              "      a.download = filename;\n",
              "      div.appendChild(a);\n",
              "      a.click();\n",
              "      div.remove();\n",
              "    }\n",
              "  "
            ],
            "text/plain": [
              "<IPython.core.display.Javascript object>"
            ]
          },
          "metadata": {
            "tags": []
          }
        },
        {
          "output_type": "display_data",
          "data": {
            "application/javascript": [
              "download(\"download_3dbe6a34-7733-4a4a-bf43-55b9cbcf6296\", \"accuracies.json\", 729)"
            ],
            "text/plain": [
              "<IPython.core.display.Javascript object>"
            ]
          },
          "metadata": {
            "tags": []
          }
        },
        {
          "output_type": "display_data",
          "data": {
            "application/javascript": [
              "\n",
              "    async function download(id, filename, size) {\n",
              "      if (!google.colab.kernel.accessAllowed) {\n",
              "        return;\n",
              "      }\n",
              "      const div = document.createElement('div');\n",
              "      const label = document.createElement('label');\n",
              "      label.textContent = `Downloading \"${filename}\": `;\n",
              "      div.appendChild(label);\n",
              "      const progress = document.createElement('progress');\n",
              "      progress.max = size;\n",
              "      div.appendChild(progress);\n",
              "      document.body.appendChild(div);\n",
              "\n",
              "      const buffers = [];\n",
              "      let downloaded = 0;\n",
              "\n",
              "      const channel = await google.colab.kernel.comms.open(id);\n",
              "      // Send a message to notify the kernel that we're ready.\n",
              "      channel.send({})\n",
              "\n",
              "      for await (const message of channel.messages) {\n",
              "        // Send a message to notify the kernel that we're ready.\n",
              "        channel.send({})\n",
              "        if (message.buffers) {\n",
              "          for (const buffer of message.buffers) {\n",
              "            buffers.push(buffer);\n",
              "            downloaded += buffer.byteLength;\n",
              "            progress.value = downloaded;\n",
              "          }\n",
              "        }\n",
              "      }\n",
              "      const blob = new Blob(buffers, {type: 'application/binary'});\n",
              "      const a = document.createElement('a');\n",
              "      a.href = window.URL.createObjectURL(blob);\n",
              "      a.download = filename;\n",
              "      div.appendChild(a);\n",
              "      a.click();\n",
              "      div.remove();\n",
              "    }\n",
              "  "
            ],
            "text/plain": [
              "<IPython.core.display.Javascript object>"
            ]
          },
          "metadata": {
            "tags": []
          }
        },
        {
          "output_type": "display_data",
          "data": {
            "application/javascript": [
              "download(\"download_585aa5b5-64f9-4d3b-8dac-2cc6a908caf5\", \"predictions.json\", 2032558)"
            ],
            "text/plain": [
              "<IPython.core.display.Javascript object>"
            ]
          },
          "metadata": {
            "tags": []
          }
        }
      ]
    },
    {
      "cell_type": "markdown",
      "metadata": {
        "id": "2NMLqiIS19IJ"
      },
      "source": [
        "### Print some graphs"
      ]
    },
    {
      "cell_type": "code",
      "metadata": {
        "id": "G6Mg2QiIBNRo"
      },
      "source": [
        "from data.utils_plot import plot_train_val, plot_test_accuracies, plot_confusion_matrix"
      ],
      "execution_count": 10,
      "outputs": []
    },
    {
      "cell_type": "code",
      "metadata": {
        "id": "ttyNLP2hGnLN"
      },
      "source": [
        "accuracies = np.array([accuracies])\n",
        "accuracies_stats = np.array([accuracies.mean(0), accuracies.std(0)])"
      ],
      "execution_count": 11,
      "outputs": []
    },
    {
      "cell_type": "markdown",
      "metadata": {
        "id": "llzylw_LF7e_"
      },
      "source": [
        "#### Test accuracy"
      ]
    },
    {
      "cell_type": "code",
      "metadata": {
        "colab": {
          "base_uri": "https://localhost:8080/",
          "height": 1000
        },
        "id": "NQfpluscGzX8",
        "outputId": "9d049ee5-9c23-4e5c-dac3-859547d8235d"
      },
      "source": [
        "def plot_test(stats, save_directory = None, title = \"\"):\n",
        "  mean = np.array(stats[0])\n",
        "  std = np.array(stats[1])\n",
        "  fig, ax = plt.subplots(figsize = (10, 5), dpi = 100)\n",
        "  x = np.arange(10, 51, 10)\n",
        "  ax.errorbar(x, mean, std)\n",
        "  ax.set_title(f\"Harmonic mean accuracy - threshold: {title}\")\n",
        "  ax.set_xlabel(\"Number of classes\")\n",
        "  ax.set_ylabel(\"Accuracy\")\n",
        "  plt.tight_layout()\n",
        "  if save_directory != None:\n",
        "    fig.savefig(save_directory)\n",
        "  plt.show()\n",
        "\n",
        "\n",
        "for i in range(len(REJECTION_THRESHOLD)):\n",
        "  plot_test(stats = [accuracies_stats[0][i],accuracies_stats[1][i]], title = REJECTION_THRESHOLD[i])"
      ],
      "execution_count": 12,
      "outputs": [
        {
          "output_type": "display_data",
          "data": {
            "image/png": "[encoded data removed]",
            "text/plain": [
              "<Figure size 1000x500 with 1 Axes>"
            ]
          },
          "metadata": {
            "tags": [],
            "needs_background": "light"
          }
        },
        {
          "output_type": "display_data",
          "data": {
            "image/png": "[encoded data removed]",
            "text/plain": [
              "<Figure size 1000x500 with 1 Axes>"
            ]
          },
          "metadata": {
            "tags": [],
            "needs_background": "light"
          }
        },
        {
          "output_type": "display_data",
          "data": {
            "image/png": "[encoded data removed]",
            "text/plain": [
              "<Figure size 1000x500 with 1 Axes>"
            ]
          },
          "metadata": {
            "tags": [],
            "needs_background": "light"
          }
        },
        {
          "output_type": "display_data",
          "data": {
            "image/png": "[encoded data removed]",
            "text/plain": [
              "<Figure size 1000x500 with 1 Axes>"
            ]
          },
          "metadata": {
            "tags": [],
            "needs_background": "light"
          }
        },
        {
          "output_type": "display_data",
          "data": {
            "image/png": "[encoded data removed]",
            "text/plain": [
              "<Figure size 1000x500 with 1 Axes>"
            ]
          },
          "metadata": {
            "tags": [],
            "needs_background": "light"
          }
        },
        {
          "output_type": "display_data",
          "data": {
            "image/png": "[encoded data removed]",
            "text/plain": [
              "<Figure size 1000x500 with 1 Axes>"
            ]
          },
          "metadata": {
            "tags": [],
            "needs_background": "light"
          }
        },
        {
          "output_type": "display_data",
          "data": {
            "image/png": "[encoded data removed]",
            "text/plain": [
              "<Figure size 1000x500 with 1 Axes>"
            ]
          },
          "metadata": {
            "tags": [],
            "needs_background": "light"
          }
        }
      ]
    },
    {
      "cell_type": "markdown",
      "metadata": {
        "id": "gN6cighYm1nG"
      },
      "source": [
        "#### Confusion Matrix"
      ]
    },
    {
      "cell_type": "code",
      "metadata": {
        "id": "LPG6aNRjm5Se",
        "colab": {
          "base_uri": "https://localhost:8080/",
          "height": 1000
        },
        "outputId": "a9f16a47-cd9b-419f-bea6-61328c12afe3"
      },
      "source": [
        "for i in range(len(REJECTION_THRESHOLD)):\n",
        "  targets = np.array(true_labels[0])\n",
        "  preds = np.array(predictions[0][i])\n",
        "  title = f\"Confusion matrix - Threshold: {REJECTION_THRESHOLD[i]}\"\n",
        "  plot_confusion_matrix(targets, preds, RANDOM_SEED[run], title)"
      ],
      "execution_count": 13,
      "outputs": [
        {
          "output_type": "display_data",
          "data": {
            "image/png": "[encoded data removed]",
            "text/plain": [
              "<Figure size 500x500 with 2 Axes>"
            ]
          },
          "metadata": {
            "tags": [],
            "needs_background": "light"
          }
        },
        {
          "output_type": "display_data",
          "data": {
            "image/png": "[encoded data removed]",
            "text/plain": [
              "<Figure size 500x500 with 2 Axes>"
            ]
          },
          "metadata": {
            "tags": [],
            "needs_background": "light"
          }
        },
        {
          "output_type": "display_data",
          "data": {
            "image/png": "[encoded data removed]",
            "text/plain": [
              "<Figure size 500x500 with 2 Axes>"
            ]
          },
          "metadata": {
            "tags": [],
            "needs_background": "light"
          }
        },
        {
          "output_type": "display_data",
          "data": {
            "image/png": "[encoded data removed]",
            "text/plain": [
              "<Figure size 500x500 with 2 Axes>"
            ]
          },
          "metadata": {
            "tags": [],
            "needs_background": "light"
          }
        },
        {
          "output_type": "display_data",
          "data": {
            "image/png": "[encoded data removed]",
            "text/plain": [
              "<Figure size 500x500 with 2 Axes>"
            ]
          },
          "metadata": {
            "tags": [],
            "needs_background": "light"
          }
        },
        {
          "output_type": "display_data",
          "data": {
            "image/png": "[encoded data removed]",
            "text/plain": [
              "<Figure size 500x500 with 2 Axes>"
            ]
          },
          "metadata": {
            "tags": [],
            "needs_background": "light"
          }
        },
        {
          "output_type": "display_data",
          "data": {
            "image/png": "[encoded data removed]",
            "text/plain": [
              "<Figure size 500x500 with 2 Axes>"
            ]
          },
          "metadata": {
            "tags": [],
            "needs_background": "light"
          }
        }
      ]
    }
  ]
}