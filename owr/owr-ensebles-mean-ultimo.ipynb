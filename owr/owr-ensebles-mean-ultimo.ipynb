{
  "nbformat": 4,
  "nbformat_minor": 0,
  "metadata": {
    "colab": {
      "name": "OWR-Ensembles.ipynb",
      "provenance": [],
      "include_colab_link": true
    },
    "kernelspec": {
      "name": "python3",
      "display_name": "Python 3"
    },
    "language_info": {
      "name": "python"
    },
    "accelerator": "GPU",
    "widgets": {
      "application/vnd.jupyter.widget-state+json": {
        "ad4dee513860453abdc680e22c088fa4": {
          "model_module": "@jupyter-widgets/controls",
          "model_name": "HBoxModel",
          "state": {
            "_view_name": "HBoxView",
            "_dom_classes": [],
            "_model_name": "HBoxModel",
            "_view_module": "@jupyter-widgets/controls",
            "_model_module_version": "1.5.0",
            "_view_count": null,
            "_view_module_version": "1.5.0",
            "box_style": "",
            "layout": "IPY_MODEL_5f237b29086a4142972d083acc5ce1d2",
            "_model_module": "@jupyter-widgets/controls",
            "children": [
              "IPY_MODEL_32a11ae1104a4d2788c5ea535e94a5c3",
              "IPY_MODEL_1339ca6876184c4996c225067a97d075"
            ]
          }
        },
        "5f237b29086a4142972d083acc5ce1d2": {
          "model_module": "@jupyter-widgets/base",
          "model_name": "LayoutModel",
          "state": {
            "_view_name": "LayoutView",
            "grid_template_rows": null,
            "right": null,
            "justify_content": null,
            "_view_module": "@jupyter-widgets/base",
            "overflow": null,
            "_model_module_version": "1.2.0",
            "_view_count": null,
            "flex_flow": null,
            "width": null,
            "min_width": null,
            "border": null,
            "align_items": null,
            "bottom": null,
            "_model_module": "@jupyter-widgets/base",
            "top": null,
            "grid_column": null,
            "overflow_y": null,
            "overflow_x": null,
            "grid_auto_flow": null,
            "grid_area": null,
            "grid_template_columns": null,
            "flex": null,
            "_model_name": "LayoutModel",
            "justify_items": null,
            "grid_row": null,
            "max_height": null,
            "align_content": null,
            "visibility": null,
            "align_self": null,
            "height": null,
            "min_height": null,
            "padding": null,
            "grid_auto_rows": null,
            "grid_gap": null,
            "max_width": null,
            "order": null,
            "_view_module_version": "1.2.0",
            "grid_template_areas": null,
            "object_position": null,
            "object_fit": null,
            "grid_auto_columns": null,
            "margin": null,
            "display": null,
            "left": null
          }
        },
        "32a11ae1104a4d2788c5ea535e94a5c3": {
          "model_module": "@jupyter-widgets/controls",
          "model_name": "FloatProgressModel",
          "state": {
            "_view_name": "ProgressView",
            "style": "IPY_MODEL_5895eaaeefd1409bba955ef001be6f11",
            "_dom_classes": [],
            "description": "",
            "_model_name": "FloatProgressModel",
            "bar_style": "success",
            "max": 169001437,
            "_view_module": "@jupyter-widgets/controls",
            "_model_module_version": "1.5.0",
            "value": 169001437,
            "_view_count": null,
            "_view_module_version": "1.5.0",
            "orientation": "horizontal",
            "min": 0,
            "description_tooltip": null,
            "_model_module": "@jupyter-widgets/controls",
            "layout": "IPY_MODEL_59bc7319514548afaffc3e7cdb78dffc"
          }
        },
        "1339ca6876184c4996c225067a97d075": {
          "model_module": "@jupyter-widgets/controls",
          "model_name": "HTMLModel",
          "state": {
            "_view_name": "HTMLView",
            "style": "IPY_MODEL_f30cb60caad7430e9b16f00d21d8053e",
            "_dom_classes": [],
            "description": "",
            "_model_name": "HTMLModel",
            "placeholder": "​",
            "_view_module": "@jupyter-widgets/controls",
            "_model_module_version": "1.5.0",
            "value": " 169001984/? [00:10&lt;00:00, 16505271.69it/s]",
            "_view_count": null,
            "_view_module_version": "1.5.0",
            "description_tooltip": null,
            "_model_module": "@jupyter-widgets/controls",
            "layout": "IPY_MODEL_bb92faf0045e44baaac98b625503ff5d"
          }
        },
        "5895eaaeefd1409bba955ef001be6f11": {
          "model_module": "@jupyter-widgets/controls",
          "model_name": "ProgressStyleModel",
          "state": {
            "_view_name": "StyleView",
            "_model_name": "ProgressStyleModel",
            "description_width": "initial",
            "_view_module": "@jupyter-widgets/base",
            "_model_module_version": "1.5.0",
            "_view_count": null,
            "_view_module_version": "1.2.0",
            "bar_color": null,
            "_model_module": "@jupyter-widgets/controls"
          }
        },
        "59bc7319514548afaffc3e7cdb78dffc": {
          "model_module": "@jupyter-widgets/base",
          "model_name": "LayoutModel",
          "state": {
            "_view_name": "LayoutView",
            "grid_template_rows": null,
            "right": null,
            "justify_content": null,
            "_view_module": "@jupyter-widgets/base",
            "overflow": null,
            "_model_module_version": "1.2.0",
            "_view_count": null,
            "flex_flow": null,
            "width": null,
            "min_width": null,
            "border": null,
            "align_items": null,
            "bottom": null,
            "_model_module": "@jupyter-widgets/base",
            "top": null,
            "grid_column": null,
            "overflow_y": null,
            "overflow_x": null,
            "grid_auto_flow": null,
            "grid_area": null,
            "grid_template_columns": null,
            "flex": null,
            "_model_name": "LayoutModel",
            "justify_items": null,
            "grid_row": null,
            "max_height": null,
            "align_content": null,
            "visibility": null,
            "align_self": null,
            "height": null,
            "min_height": null,
            "padding": null,
            "grid_auto_rows": null,
            "grid_gap": null,
            "max_width": null,
            "order": null,
            "_view_module_version": "1.2.0",
            "grid_template_areas": null,
            "object_position": null,
            "object_fit": null,
            "grid_auto_columns": null,
            "margin": null,
            "display": null,
            "left": null
          }
        },
        "f30cb60caad7430e9b16f00d21d8053e": {
          "model_module": "@jupyter-widgets/controls",
          "model_name": "DescriptionStyleModel",
          "state": {
            "_view_name": "StyleView",
            "_model_name": "DescriptionStyleModel",
            "description_width": "",
            "_view_module": "@jupyter-widgets/base",
            "_model_module_version": "1.5.0",
            "_view_count": null,
            "_view_module_version": "1.2.0",
            "_model_module": "@jupyter-widgets/controls"
          }
        },
        "bb92faf0045e44baaac98b625503ff5d": {
          "model_module": "@jupyter-widgets/base",
          "model_name": "LayoutModel",
          "state": {
            "_view_name": "LayoutView",
            "grid_template_rows": null,
            "right": null,
            "justify_content": null,
            "_view_module": "@jupyter-widgets/base",
            "overflow": null,
            "_model_module_version": "1.2.0",
            "_view_count": null,
            "flex_flow": null,
            "width": null,
            "min_width": null,
            "border": null,
            "align_items": null,
            "bottom": null,
            "_model_module": "@jupyter-widgets/base",
            "top": null,
            "grid_column": null,
            "overflow_y": null,
            "overflow_x": null,
            "grid_auto_flow": null,
            "grid_area": null,
            "grid_template_columns": null,
            "flex": null,
            "_model_name": "LayoutModel",
            "justify_items": null,
            "grid_row": null,
            "max_height": null,
            "align_content": null,
            "visibility": null,
            "align_self": null,
            "height": null,
            "min_height": null,
            "padding": null,
            "grid_auto_rows": null,
            "grid_gap": null,
            "max_width": null,
            "order": null,
            "_view_module_version": "1.2.0",
            "grid_template_areas": null,
            "object_position": null,
            "object_fit": null,
            "grid_auto_columns": null,
            "margin": null,
            "display": null,
            "left": null
          }
        }
      }
    }
  },
  "cells": [
    {
      "cell_type": "markdown",
      "metadata": {
        "id": "view-in-github",
        "colab_type": "text"
      },
      "source": [
        "<a href=\"https://colab.research.google.com/github/cosminnedescu/ProjectMLDL/blob/main/owr/owr-ensebles-mean-ultimo.ipynb\" target=\"_parent\"><img src=\"https://colab.research.google.com/assets/colab-badge.svg\" alt=\"Open In Colab\"/></a>"
      ]
    },
    {
      "cell_type": "code",
      "metadata": {
        "id": "PF5bRIxnU-PW",
        "colab": {
          "base_uri": "https://localhost:8080/"
        },
        "outputId": "9734e6e3-a4aa-401c-cd50-6cf1478875dc"
      },
      "source": [
        "# Avoid K80\n",
        "!nvidia-smi"
      ],
      "execution_count": 1,
      "outputs": [
        {
          "output_type": "stream",
          "text": [
            "Thu Jul 15 22:22:40 2021       \n",
            "+-----------------------------------------------------------------------------+\n",
            "| NVIDIA-SMI 470.42.01    Driver Version: 460.32.03    CUDA Version: 11.2     |\n",
            "|-------------------------------+----------------------+----------------------+\n",
            "| GPU  Name        Persistence-M| Bus-Id        Disp.A | Volatile Uncorr. ECC |\n",
            "| Fan  Temp  Perf  Pwr:Usage/Cap|         Memory-Usage | GPU-Util  Compute M. |\n",
            "|                               |                      |               MIG M. |\n",
            "|===============================+======================+======================|\n",
            "|   0  Tesla T4            Off  | 00000000:00:04.0 Off |                    0 |\n",
            "| N/A   68C    P8    11W /  70W |      0MiB / 15109MiB |      0%      Default |\n",
            "|                               |                      |                  N/A |\n",
            "+-------------------------------+----------------------+----------------------+\n",
            "                                                                               \n",
            "+-----------------------------------------------------------------------------+\n",
            "| Processes:                                                                  |\n",
            "|  GPU   GI   CI        PID   Type   Process name                  GPU Memory |\n",
            "|        ID   ID                                                   Usage      |\n",
            "|=============================================================================|\n",
            "|  No running processes found                                                 |\n",
            "+-----------------------------------------------------------------------------+\n"
          ],
          "name": "stdout"
        }
      ]
    },
    {
      "cell_type": "code",
      "metadata": {
        "id": "pJimWkPdQu6y"
      },
      "source": [
        "import os\n",
        "import random\n",
        "\n",
        "import torch\n",
        "import torch.nn as nn\n",
        "import torch.nn.init as init\n",
        "import torch.optim as optim\n",
        "from torch.autograd import Variable\n",
        "\n",
        "import torchvision\n",
        "from torchvision import transforms, datasets, models\n",
        "from torch.utils.data import Subset, DataLoader\n",
        "\n",
        "from PIL import Image\n",
        "\n",
        "import numpy as np\n",
        "import matplotlib \n",
        "import matplotlib.pyplot as plt\n",
        "from copy import copy\n",
        "from copy import deepcopy"
      ],
      "execution_count": 2,
      "outputs": []
    },
    {
      "cell_type": "markdown",
      "metadata": {
        "id": "7BZw-bZJ16ay"
      },
      "source": [
        "#### Cloning the Git repository"
      ]
    },
    {
      "cell_type": "code",
      "metadata": {
        "id": "yjntw1jZQ7Lg",
        "colab": {
          "base_uri": "https://localhost:8080/"
        },
        "outputId": "6cfd4967-f219-457d-9c79-14b39924497e"
      },
      "source": [
        "!rm -rf ProjectMLDL\n",
        "if not os.path.isdir('/content/ProjectMLDL'):\n",
        "  !git clone https://github.com/cosminnedescu/ProjectMLDL.git\n",
        "  %cd /content/ProjectMLDL\n",
        "  !rm -rf LICENSE README.md"
      ],
      "execution_count": 3,
      "outputs": [
        {
          "output_type": "stream",
          "text": [
            "Cloning into 'ProjectMLDL'...\n",
            "remote: Enumerating objects: 3666, done.\u001b[K\n",
            "remote: Counting objects: 100% (1082/1082), done.\u001b[K\n",
            "remote: Compressing objects: 100% (512/512), done.\u001b[K\n",
            "remote: Total 3666 (delta 628), reused 944 (delta 552), pack-reused 2584\u001b[K\n",
            "Receiving objects: 100% (3666/3666), 184.52 MiB | 35.34 MiB/s, done.\n",
            "Resolving deltas: 100% (2013/2013), done.\n",
            "/content/ProjectMLDL\n"
          ],
          "name": "stdout"
        }
      ]
    },
    {
      "cell_type": "code",
      "metadata": {
        "id": "nvqmxRxo2lUW"
      },
      "source": [
        "from data.cifar100 import CIFAR100\n",
        "from model.resnet32_modified import resnet32\n",
        "import data.utils\n",
        "from model.owrEnsamble import owrEnsemble"
      ],
      "execution_count": 4,
      "outputs": []
    },
    {
      "cell_type": "code",
      "metadata": {
        "id": "XwomFTtQo1x-"
      },
      "source": [
        "# True mean and std of Cifar100 dataset (src=\"https://gist.github.com/weiaicunzai/e623931921efefd4c331622c344d8151\")\n",
        "mean = [0.5071, 0.4867, 0.4408]\n",
        "std = [0.2675, 0.2565, 0.2761]\n",
        "\n",
        "train_transform = transforms.Compose([\n",
        "    transforms.RandomCrop(32, padding=4),\n",
        "    transforms.RandomHorizontalFlip(),\n",
        "    transforms.ToTensor(),\n",
        "    transforms.Normalize(mean, std),\n",
        "])\n",
        "test_transform = transforms.Compose(\n",
        "    [transforms.ToTensor(), \n",
        "     transforms.Normalize(mean, std),\n",
        "     ])"
      ],
      "execution_count": 5,
      "outputs": []
    },
    {
      "cell_type": "markdown",
      "metadata": {
        "id": "yRoS-R_sRhHT"
      },
      "source": [
        "## Incremental Classifier and Representation Learning"
      ]
    },
    {
      "cell_type": "markdown",
      "metadata": {
        "id": "3ocVW0wM2Iw2"
      },
      "source": [
        "### Defining hyperparameters according to iCarl paper"
      ]
    },
    {
      "cell_type": "code",
      "metadata": {
        "id": "nmEo_9lnwyBk"
      },
      "source": [
        "# Settings\n",
        "DEVICE = 'cuda'\n",
        "NUM_CLASSES = 100         # Total number of classes\n",
        "VAL_SIZE = 0.2            # Proportion of validation set with respect to training set (between 0 and 1)\n",
        "\n",
        "# Training\n",
        "BATCH_SIZE = 128          # Batch size\n",
        "LR = 0.1                    # Initial learning rate\n",
        "                       \n",
        "MOMENTUM = 0.9            # Momentum for stochastic gradient descent (SGD)\n",
        "WEIGHT_DECAY = 1e-5       # Weight decay from iCaRL\n",
        "\n",
        "RANDOM_SEED = [20]  # Random seeds defining the runs of every method\n",
        "                          # Note: this should be at least 3 to have a fair benchmark\n",
        "\n",
        "NUM_EPOCHS = 10           # Total number of training epochs\n",
        "MILESTONES = [43, 63]     # Step down policy from iCaRL (MultiStepLR)\n",
        "                          # Decrease the learning rate by gamma at each milestone\n",
        "GAMMA = 0.2               # Gamma factor from iCaRL (1/5)\n",
        "\n",
        "HERDING = False           # True to perform prioritized selection, False to perform random selection\n",
        "CLASSIFY = True           # True to use mean-of-exemplar classifier, False to use network's output directly for classification\n",
        "\n",
        "REJECTION_THRESHOLD = [0.25,0.35,0.50,0.60,0.75,0.85,0.95]\n",
        "TESTING_MODE = 'harmonic' #open, closed, harmonic\n",
        "N_ESTIMATORS = 5\n",
        "CONFIDENCE = '0.900' #'0.6827': 1, '0.900':1.47, '0.950':1.94, '0.975':2.45, '0.990':3.36\n",
        "STRATEGY = 'mean' # mean, variance, hybrid\n",
        "    "
      ],
      "execution_count": 6,
      "outputs": []
    },
    {
      "cell_type": "code",
      "metadata": {
        "id": "rVh61C63FECy"
      },
      "source": [
        "def do_group_classes(run):\n",
        "\n",
        "  train_subset = [[] for i in range(10)]\n",
        "  train_dataloader = [[] for i in range(10)]\n",
        "  val_dataloader = [[] for i in range(10)]\n",
        "  test_dataloader = [[] for i in range(10)]\n",
        "\n",
        "  for i in range(10):\n",
        "    train_data = CIFAR100(\"dataset\", \n",
        "                          train=True, \n",
        "                          transform=train_transform, \n",
        "                          download=(run+i==0),\n",
        "                          random_state=RANDOM_SEED[run])\n",
        "    test_data = CIFAR100(\"dataset\", \n",
        "                         train=False, \n",
        "                         transform=test_transform, \n",
        "                         download=False,\n",
        "                         random_state=RANDOM_SEED[run])\n",
        "    \n",
        "    train_data.set_index_map(train_data.splits[i])\n",
        "    test_data.set_index_map([test_data.splits[j] for j in range(0, i+1)])\n",
        "    \n",
        "    train_indices, val_indices = train_data.train_val_split(VAL_SIZE, RANDOM_SEED[run])\n",
        "    \n",
        "    train_subset[i] = copy(Subset(train_data, train_indices))\n",
        "    val_subset = Subset(train_data, val_indices)\n",
        "\n",
        "    tmp_dl = DataLoader(val_subset,\n",
        "                       batch_size=BATCH_SIZE,\n",
        "                       shuffle=True, \n",
        "                       num_workers=4,\n",
        "                       drop_last=True)\n",
        "    val_dataloader[i] = copy(tmp_dl)\n",
        "\n",
        "    tmp_dl = DataLoader(test_data,\n",
        "                       batch_size=BATCH_SIZE,\n",
        "                       shuffle=True, \n",
        "                       num_workers=4,\n",
        "                       drop_last=True)\n",
        "    test_dataloader[i] = copy(tmp_dl)\n",
        "\n",
        "  return train_dataloader, val_dataloader, test_dataloader, train_subset"
      ],
      "execution_count": 7,
      "outputs": []
    },
    {
      "cell_type": "markdown",
      "metadata": {
        "id": "20APZIgI1eBy"
      },
      "source": [
        "### Going on with the model\n",
        "This is the main iCaRL step.\n",
        "\n",
        "This step is run 3 times with different `RANDOM_SEED`.\n",
        "Here the model is instantiated, trained and tested.\n",
        "\n",
        "Results and some statistics are then stored in the variable `logs`."
      ]
    },
    {
      "cell_type": "code",
      "metadata": {
        "id": "mJHKbipz0bMr",
        "colab": {
          "base_uri": "https://localhost:8080/",
          "height": 1000,
          "referenced_widgets": [
            "ad4dee513860453abdc680e22c088fa4",
            "5f237b29086a4142972d083acc5ce1d2",
            "32a11ae1104a4d2788c5ea535e94a5c3",
            "1339ca6876184c4996c225067a97d075",
            "5895eaaeefd1409bba955ef001be6f11",
            "59bc7319514548afaffc3e7cdb78dffc",
            "f30cb60caad7430e9b16f00d21d8053e",
            "bb92faf0045e44baaac98b625503ff5d"
          ]
        },
        "outputId": "6cfa8bb8-5918-410e-db7e-cd8dad0ff8b2"
      },
      "source": [
        "logs = [[] for i in range(len(RANDOM_SEED))]\n",
        "best_net_tot_classes = [None for i in range(len(RANDOM_SEED))]\n",
        "\n",
        "for run in range(len(RANDOM_SEED)):\n",
        "  print(\"#################################\")\n",
        "  print(f\"Radom seed: {RANDOM_SEED[run]}\")\n",
        "  print(\"\")\n",
        "\n",
        "  # get data_subsets separated in incremental groups of 10 classes\n",
        "  train_dl, val_dl, test_dl, train_set = do_group_classes(run)\n",
        "\n",
        "  #create the resnet\n",
        "  net = resnet32()\n",
        "  \n",
        "  trainer = owrEnsemble(DEVICE,\n",
        "                  net,\n",
        "                  LR,\n",
        "                  MOMENTUM,\n",
        "                  WEIGHT_DECAY,\n",
        "                  MILESTONES,\n",
        "                  GAMMA,\n",
        "                  train_dl,\n",
        "                  val_dl,\n",
        "                  test_dl,\n",
        "                  BATCH_SIZE,\n",
        "                  train_set,\n",
        "                  train_transform,\n",
        "                  test_transform,\n",
        "                  TESTING_MODE,\n",
        "                  REJECTION_THRESHOLD,\n",
        "                  N_ESTIMATORS,\n",
        "                  CONFIDENCE,\n",
        "                  STRATEGY) \n",
        "\n",
        "  #train and evaluate the model\n",
        "  logs[run] = trainer.train_model(NUM_EPOCHS)\n",
        "\n",
        "  best_net_tot_classes[run] = deepcopy(trainer.best_net)\n",
        "\n",
        "  print(\"#################################\")\n",
        "  print(\"\")\n",
        "  print(\"\")"
      ],
      "execution_count": 8,
      "outputs": [
        {
          "output_type": "stream",
          "text": [
            "#################################\n",
            "Radom seed: 20\n",
            "\n",
            "Downloading https://www.cs.toronto.edu/~kriz/cifar-100-python.tar.gz to dataset/cifar-100-python.tar.gz\n"
          ],
          "name": "stdout"
        },
        {
          "output_type": "display_data",
          "data": {
            "application/vnd.jupyter.widget-view+json": {
              "model_id": "ad4dee513860453abdc680e22c088fa4",
              "version_minor": 0,
              "version_major": 2
            },
            "text/plain": [
              "HBox(children=(FloatProgress(value=0.0, max=169001437.0), HTML(value='')))"
            ]
          },
          "metadata": {
            "tags": []
          }
        },
        {
          "output_type": "stream",
          "text": [
            "\n",
            "Extracting dataset/cifar-100-python.tar.gz to dataset\n"
          ],
          "name": "stdout"
        },
        {
          "output_type": "stream",
          "text": [
            "/usr/local/lib/python3.7/dist-packages/torch/utils/data/dataloader.py:481: UserWarning: This DataLoader will create 4 worker processes in total. Our suggested max number of worker in current system is 2, which is smaller than what this DataLoader is going to create. Please be aware that excessive worker creation might get DataLoader running slow or even freeze, lower the worker number to avoid potential slowness/freeze if necessary.\n",
            "  cpuset_checked))\n"
          ],
          "name": "stderr"
        },
        {
          "output_type": "stream",
          "text": [
            "Log will be saved in '/content/ProjectMLDL/logs'.\n",
            "Create folder 'logs/'\n",
            "Start logging into file /content/ProjectMLDL/logs/classification_mnist_mlp-2021_07_15_22_23.log...\n",
            "Length of exemplars set: 0\n"
          ],
          "name": "stdout"
        },
        {
          "output_type": "stream",
          "text": [
            "2021-07-15 22:23:37,941 - INFO: lr: 0.10000 | Epoch: 000 | Batch: 000 | Loss: 2.31196 | Correct: 17/128\n"
          ],
          "name": "stderr"
        },
        {
          "output_type": "stream",
          "text": [
            "None\n"
          ],
          "name": "stdout"
        },
        {
          "output_type": "stream",
          "text": [
            "2021-07-15 22:23:38,541 - INFO: lr: 0.09372 | Epoch: 000 | Batch: 010 | Loss: 2.19624 | Correct: 26/128\n"
          ],
          "name": "stderr"
        },
        {
          "output_type": "stream",
          "text": [
            "None\n"
          ],
          "name": "stdout"
        },
        {
          "output_type": "stream",
          "text": [
            "2021-07-15 22:23:39,098 - INFO: lr: 0.07645 | Epoch: 000 | Batch: 020 | Loss: 1.97839 | Correct: 36/128\n"
          ],
          "name": "stderr"
        },
        {
          "output_type": "stream",
          "text": [
            "None\n"
          ],
          "name": "stdout"
        },
        {
          "output_type": "stream",
          "text": [
            "2021-07-15 22:23:39,641 - INFO: lr: 0.05253 | Epoch: 000 | Batch: 030 | Loss: 1.99397 | Correct: 35/128\n"
          ],
          "name": "stderr"
        },
        {
          "output_type": "stream",
          "text": [
            "None\n"
          ],
          "name": "stdout"
        },
        {
          "output_type": "stream",
          "text": [
            "2021-07-15 22:23:40,210 - INFO: lr: 0.05000 | Epoch: 001 | Batch: 000 | Loss: 1.79381 | Correct: 52/128\n"
          ],
          "name": "stderr"
        },
        {
          "output_type": "stream",
          "text": [
            "None\n"
          ],
          "name": "stdout"
        },
        {
          "output_type": "stream",
          "text": [
            "2021-07-15 22:23:40,783 - INFO: lr: 0.02573 | Epoch: 001 | Batch: 010 | Loss: 1.75773 | Correct: 45/128\n"
          ],
          "name": "stderr"
        },
        {
          "output_type": "stream",
          "text": [
            "None\n"
          ],
          "name": "stdout"
        },
        {
          "output_type": "stream",
          "text": [
            "2021-07-15 22:23:41,330 - INFO: lr: 0.00757 | Epoch: 001 | Batch: 020 | Loss: 1.70751 | Correct: 46/128\n"
          ],
          "name": "stderr"
        },
        {
          "output_type": "stream",
          "text": [
            "None\n"
          ],
          "name": "stdout"
        },
        {
          "output_type": "stream",
          "text": [
            "2021-07-15 22:23:41,872 - INFO: lr: 0.00006 | Epoch: 001 | Batch: 030 | Loss: 1.62530 | Correct: 44/128\n",
            "2021-07-15 22:23:42,030 - INFO: Save the snapshot model with index: 0\n"
          ],
          "name": "stderr"
        },
        {
          "output_type": "stream",
          "text": [
            "None\n"
          ],
          "name": "stdout"
        },
        {
          "output_type": "stream",
          "text": [
            "2021-07-15 22:23:42,618 - INFO: n_estimators: 1 | Validation Acc: 40.625 % | Historical Best: 40.625 %\n",
            "2021-07-15 22:23:43,012 - INFO: lr: 0.10000 | Epoch: 002 | Batch: 000 | Loss: 1.64744 | Correct: 58/128\n"
          ],
          "name": "stderr"
        },
        {
          "output_type": "stream",
          "text": [
            "None\n"
          ],
          "name": "stdout"
        },
        {
          "output_type": "stream",
          "text": [
            "2021-07-15 22:23:43,635 - INFO: lr: 0.09372 | Epoch: 002 | Batch: 010 | Loss: 1.78250 | Correct: 43/128\n"
          ],
          "name": "stderr"
        },
        {
          "output_type": "stream",
          "text": [
            "None\n"
          ],
          "name": "stdout"
        },
        {
          "output_type": "stream",
          "text": [
            "2021-07-15 22:23:44,196 - INFO: lr: 0.07645 | Epoch: 002 | Batch: 020 | Loss: 1.47143 | Correct: 53/128\n"
          ],
          "name": "stderr"
        },
        {
          "output_type": "stream",
          "text": [
            "None\n"
          ],
          "name": "stdout"
        },
        {
          "output_type": "stream",
          "text": [
            "2021-07-15 22:23:44,739 - INFO: lr: 0.05253 | Epoch: 002 | Batch: 030 | Loss: 1.50908 | Correct: 53/128\n"
          ],
          "name": "stderr"
        },
        {
          "output_type": "stream",
          "text": [
            "None\n"
          ],
          "name": "stdout"
        },
        {
          "output_type": "stream",
          "text": [
            "2021-07-15 22:23:45,207 - INFO: lr: 0.05000 | Epoch: 003 | Batch: 000 | Loss: 1.42494 | Correct: 60/128\n"
          ],
          "name": "stderr"
        },
        {
          "output_type": "stream",
          "text": [
            "None\n"
          ],
          "name": "stdout"
        },
        {
          "output_type": "stream",
          "text": [
            "2021-07-15 22:23:45,825 - INFO: lr: 0.02573 | Epoch: 003 | Batch: 010 | Loss: 1.59574 | Correct: 54/128\n"
          ],
          "name": "stderr"
        },
        {
          "output_type": "stream",
          "text": [
            "None\n"
          ],
          "name": "stdout"
        },
        {
          "output_type": "stream",
          "text": [
            "2021-07-15 22:23:46,377 - INFO: lr: 0.00757 | Epoch: 003 | Batch: 020 | Loss: 1.57673 | Correct: 54/128\n"
          ],
          "name": "stderr"
        },
        {
          "output_type": "stream",
          "text": [
            "None\n"
          ],
          "name": "stdout"
        },
        {
          "output_type": "stream",
          "text": [
            "2021-07-15 22:23:46,920 - INFO: lr: 0.00006 | Epoch: 003 | Batch: 030 | Loss: 1.48667 | Correct: 61/128\n",
            "2021-07-15 22:23:47,082 - INFO: Save the snapshot model with index: 1\n"
          ],
          "name": "stderr"
        },
        {
          "output_type": "stream",
          "text": [
            "None\n"
          ],
          "name": "stdout"
        },
        {
          "output_type": "stream",
          "text": [
            "2021-07-15 22:23:47,778 - INFO: n_estimators: 2 | Validation Acc: 48.772 % | Historical Best: 48.772 %\n",
            "2021-07-15 22:23:48,161 - INFO: lr: 0.10000 | Epoch: 004 | Batch: 000 | Loss: 1.49287 | Correct: 60/128\n"
          ],
          "name": "stderr"
        },
        {
          "output_type": "stream",
          "text": [
            "None\n"
          ],
          "name": "stdout"
        },
        {
          "output_type": "stream",
          "text": [
            "2021-07-15 22:23:48,772 - INFO: lr: 0.09372 | Epoch: 004 | Batch: 010 | Loss: 1.46138 | Correct: 55/128\n"
          ],
          "name": "stderr"
        },
        {
          "output_type": "stream",
          "text": [
            "None\n"
          ],
          "name": "stdout"
        },
        {
          "output_type": "stream",
          "text": [
            "2021-07-15 22:23:49,329 - INFO: lr: 0.07645 | Epoch: 004 | Batch: 020 | Loss: 1.35133 | Correct: 62/128\n"
          ],
          "name": "stderr"
        },
        {
          "output_type": "stream",
          "text": [
            "None\n"
          ],
          "name": "stdout"
        },
        {
          "output_type": "stream",
          "text": [
            "2021-07-15 22:23:49,874 - INFO: lr: 0.05253 | Epoch: 004 | Batch: 030 | Loss: 1.51939 | Correct: 64/128\n"
          ],
          "name": "stderr"
        },
        {
          "output_type": "stream",
          "text": [
            "None\n"
          ],
          "name": "stdout"
        },
        {
          "output_type": "stream",
          "text": [
            "2021-07-15 22:23:50,325 - INFO: lr: 0.05000 | Epoch: 005 | Batch: 000 | Loss: 1.39835 | Correct: 56/128\n"
          ],
          "name": "stderr"
        },
        {
          "output_type": "stream",
          "text": [
            "None\n"
          ],
          "name": "stdout"
        },
        {
          "output_type": "stream",
          "text": [
            "2021-07-15 22:23:50,990 - INFO: lr: 0.02573 | Epoch: 005 | Batch: 010 | Loss: 1.32817 | Correct: 60/128\n"
          ],
          "name": "stderr"
        },
        {
          "output_type": "stream",
          "text": [
            "None\n"
          ],
          "name": "stdout"
        },
        {
          "output_type": "stream",
          "text": [
            "2021-07-15 22:23:51,549 - INFO: lr: 0.00757 | Epoch: 005 | Batch: 020 | Loss: 1.28269 | Correct: 70/128\n"
          ],
          "name": "stderr"
        },
        {
          "output_type": "stream",
          "text": [
            "None\n"
          ],
          "name": "stdout"
        },
        {
          "output_type": "stream",
          "text": [
            "2021-07-15 22:23:52,089 - INFO: lr: 0.00006 | Epoch: 005 | Batch: 030 | Loss: 1.23123 | Correct: 80/128\n",
            "2021-07-15 22:23:52,250 - INFO: Save the snapshot model with index: 2\n"
          ],
          "name": "stderr"
        },
        {
          "output_type": "stream",
          "text": [
            "None\n"
          ],
          "name": "stdout"
        },
        {
          "output_type": "stream",
          "text": [
            "2021-07-15 22:23:53,019 - INFO: n_estimators: 3 | Validation Acc: 52.232 % | Historical Best: 52.232 %\n",
            "2021-07-15 22:23:53,319 - INFO: lr: 0.10000 | Epoch: 006 | Batch: 000 | Loss: 1.24366 | Correct: 71/128\n"
          ],
          "name": "stderr"
        },
        {
          "output_type": "stream",
          "text": [
            "None\n"
          ],
          "name": "stdout"
        },
        {
          "output_type": "stream",
          "text": [
            "2021-07-15 22:23:54,004 - INFO: lr: 0.09372 | Epoch: 006 | Batch: 010 | Loss: 1.22041 | Correct: 76/128\n"
          ],
          "name": "stderr"
        },
        {
          "output_type": "stream",
          "text": [
            "None\n"
          ],
          "name": "stdout"
        },
        {
          "output_type": "stream",
          "text": [
            "2021-07-15 22:23:54,562 - INFO: lr: 0.07645 | Epoch: 006 | Batch: 020 | Loss: 1.41935 | Correct: 60/128\n"
          ],
          "name": "stderr"
        },
        {
          "output_type": "stream",
          "text": [
            "None\n"
          ],
          "name": "stdout"
        },
        {
          "output_type": "stream",
          "text": [
            "2021-07-15 22:23:55,110 - INFO: lr: 0.05253 | Epoch: 006 | Batch: 030 | Loss: 1.17071 | Correct: 80/128\n"
          ],
          "name": "stderr"
        },
        {
          "output_type": "stream",
          "text": [
            "None\n"
          ],
          "name": "stdout"
        },
        {
          "output_type": "stream",
          "text": [
            "2021-07-15 22:23:55,665 - INFO: lr: 0.05000 | Epoch: 007 | Batch: 000 | Loss: 1.39118 | Correct: 60/128\n"
          ],
          "name": "stderr"
        },
        {
          "output_type": "stream",
          "text": [
            "None\n"
          ],
          "name": "stdout"
        },
        {
          "output_type": "stream",
          "text": [
            "2021-07-15 22:23:56,297 - INFO: lr: 0.02573 | Epoch: 007 | Batch: 010 | Loss: 1.04604 | Correct: 85/128\n"
          ],
          "name": "stderr"
        },
        {
          "output_type": "stream",
          "text": [
            "None\n"
          ],
          "name": "stdout"
        },
        {
          "output_type": "stream",
          "text": [
            "2021-07-15 22:23:56,868 - INFO: lr: 0.00757 | Epoch: 007 | Batch: 020 | Loss: 1.21418 | Correct: 72/128\n"
          ],
          "name": "stderr"
        },
        {
          "output_type": "stream",
          "text": [
            "None\n"
          ],
          "name": "stdout"
        },
        {
          "output_type": "stream",
          "text": [
            "2021-07-15 22:23:57,421 - INFO: lr: 0.00006 | Epoch: 007 | Batch: 030 | Loss: 1.29611 | Correct: 66/128\n",
            "2021-07-15 22:23:57,581 - INFO: Save the snapshot model with index: 3\n"
          ],
          "name": "stderr"
        },
        {
          "output_type": "stream",
          "text": [
            "None\n"
          ],
          "name": "stdout"
        },
        {
          "output_type": "stream",
          "text": [
            "2021-07-15 22:23:58,496 - INFO: n_estimators: 4 | Validation Acc: 58.147 % | Historical Best: 58.147 %\n",
            "2021-07-15 22:23:58,904 - INFO: lr: 0.10000 | Epoch: 008 | Batch: 000 | Loss: 1.14611 | Correct: 78/128\n"
          ],
          "name": "stderr"
        },
        {
          "output_type": "stream",
          "text": [
            "None\n"
          ],
          "name": "stdout"
        },
        {
          "output_type": "stream",
          "text": [
            "2021-07-15 22:23:59,523 - INFO: lr: 0.09372 | Epoch: 008 | Batch: 010 | Loss: 1.30607 | Correct: 66/128\n"
          ],
          "name": "stderr"
        },
        {
          "output_type": "stream",
          "text": [
            "None\n"
          ],
          "name": "stdout"
        },
        {
          "output_type": "stream",
          "text": [
            "2021-07-15 22:24:00,086 - INFO: lr: 0.07645 | Epoch: 008 | Batch: 020 | Loss: 1.37626 | Correct: 56/128\n"
          ],
          "name": "stderr"
        },
        {
          "output_type": "stream",
          "text": [
            "None\n"
          ],
          "name": "stdout"
        },
        {
          "output_type": "stream",
          "text": [
            "2021-07-15 22:24:00,638 - INFO: lr: 0.05253 | Epoch: 008 | Batch: 030 | Loss: 1.10952 | Correct: 76/128\n"
          ],
          "name": "stderr"
        },
        {
          "output_type": "stream",
          "text": [
            "None\n"
          ],
          "name": "stdout"
        },
        {
          "output_type": "stream",
          "text": [
            "2021-07-15 22:24:01,062 - INFO: lr: 0.05000 | Epoch: 009 | Batch: 000 | Loss: 1.21934 | Correct: 73/128\n"
          ],
          "name": "stderr"
        },
        {
          "output_type": "stream",
          "text": [
            "None\n"
          ],
          "name": "stdout"
        },
        {
          "output_type": "stream",
          "text": [
            "2021-07-15 22:24:01,749 - INFO: lr: 0.02573 | Epoch: 009 | Batch: 010 | Loss: 1.08924 | Correct: 88/128\n"
          ],
          "name": "stderr"
        },
        {
          "output_type": "stream",
          "text": [
            "None\n"
          ],
          "name": "stdout"
        },
        {
          "output_type": "stream",
          "text": [
            "2021-07-15 22:24:02,317 - INFO: lr: 0.00757 | Epoch: 009 | Batch: 020 | Loss: 1.05626 | Correct: 85/128\n"
          ],
          "name": "stderr"
        },
        {
          "output_type": "stream",
          "text": [
            "None\n"
          ],
          "name": "stdout"
        },
        {
          "output_type": "stream",
          "text": [
            "2021-07-15 22:24:02,867 - INFO: lr: 0.00006 | Epoch: 009 | Batch: 030 | Loss: 1.12730 | Correct: 77/128\n",
            "2021-07-15 22:24:03,030 - INFO: Save the snapshot model with index: 4\n"
          ],
          "name": "stderr"
        },
        {
          "output_type": "stream",
          "text": [
            "None\n"
          ],
          "name": "stdout"
        },
        {
          "output_type": "stream",
          "text": [
            "2021-07-15 22:24:04,054 - INFO: n_estimators: 5 | Validation Acc: 59.821 % | Historical Best: 59.821 %\n"
          ],
          "name": "stderr"
        },
        {
          "output_type": "stream",
          "text": [
            "Group 1 Finished!\n",
            "Target number of exemplars: 200\n",
            "Randomly extracting exemplars from class 0 of current split... Extracted 200 exemplars.\n",
            "Randomly extracting exemplars from class 1 of current split... Extracted 200 exemplars.\n",
            "Randomly extracting exemplars from class 2 of current split... Extracted 200 exemplars.\n",
            "Randomly extracting exemplars from class 3 of current split... Extracted 200 exemplars.\n",
            "Randomly extracting exemplars from class 4 of current split... Extracted 200 exemplars.\n",
            "Randomly extracting exemplars from class 5 of current split... Extracted 200 exemplars.\n",
            "Randomly extracting exemplars from class 6 of current split... Extracted 200 exemplars.\n",
            "Randomly extracting exemplars from class 7 of current split... Extracted 200 exemplars.\n",
            "Randomly extracting exemplars from class 8 of current split... Extracted 200 exemplars.\n",
            "Randomly extracting exemplars from class 9 of current split... Extracted 200 exemplars.\n",
            "[0.08102318548387097, 0.3956149193548387, 0.7978074596774194, 0.9096774193548387, 0.9841985887096775, 1.0, 1.0]\n",
            "[0.5714285714285714, 0.5100446428571429, 0.2700892857142857, 0.15290178571428573, 0.03794642857142857, 0.0, 0.0]\n",
            "Testing on both open and closed world\n",
            "owr harmonic mean (threshold:0.25) = 0.1420795020262295\n",
            "owr harmonic mean (threshold:0.35) = 0.4457023022742613\n",
            "owr harmonic mean (threshold:0.5) = 0.40368262056126736\n",
            "owr harmonic mean (threshold:0.6) = 0.2619501192719918\n",
            "owr harmonic mean (threshold:0.75) = 0.07326107197723766\n",
            "owr harmonic mean (threshold:0.85) = 0.00019998000399920013\n",
            "owr harmonic mean (threshold:0.95) = 0.00019998000399920013\n",
            "\n",
            "=============================================\n",
            "\n",
            "Length of exemplars set: 2000\n"
          ],
          "name": "stdout"
        },
        {
          "output_type": "stream",
          "text": [
            "2021-07-15 22:24:39,431 - INFO: lr: 0.10000 | Epoch: 000 | Batch: 000 | Loss: 4.25463 | Correct: 3/128\n"
          ],
          "name": "stderr"
        },
        {
          "output_type": "stream",
          "text": [
            "None\n"
          ],
          "name": "stdout"
        },
        {
          "output_type": "stream",
          "text": [
            "2021-07-15 22:24:42,699 - INFO: lr: 0.09711 | Epoch: 000 | Batch: 010 | Loss: 2.88857 | Correct: 10/128\n"
          ],
          "name": "stderr"
        },
        {
          "output_type": "stream",
          "text": [
            "None\n"
          ],
          "name": "stdout"
        },
        {
          "output_type": "stream",
          "text": [
            "2021-07-15 22:24:45,953 - INFO: lr: 0.08879 | Epoch: 000 | Batch: 020 | Loss: 2.91071 | Correct: 17/128\n"
          ],
          "name": "stderr"
        },
        {
          "output_type": "stream",
          "text": [
            "None\n"
          ],
          "name": "stdout"
        },
        {
          "output_type": "stream",
          "text": [
            "2021-07-15 22:24:49,201 - INFO: lr: 0.07598 | Epoch: 000 | Batch: 030 | Loss: 2.60069 | Correct: 23/128\n"
          ],
          "name": "stderr"
        },
        {
          "output_type": "stream",
          "text": [
            "None\n"
          ],
          "name": "stdout"
        },
        {
          "output_type": "stream",
          "text": [
            "2021-07-15 22:24:52,448 - INFO: lr: 0.06017 | Epoch: 000 | Batch: 040 | Loss: 2.71797 | Correct: 20/128\n"
          ],
          "name": "stderr"
        },
        {
          "output_type": "stream",
          "text": [
            "None\n"
          ],
          "name": "stdout"
        },
        {
          "output_type": "stream",
          "text": [
            "2021-07-15 22:24:54,863 - INFO: lr: 0.05000 | Epoch: 001 | Batch: 000 | Loss: 2.47929 | Correct: 29/128\n"
          ],
          "name": "stderr"
        },
        {
          "output_type": "stream",
          "text": [
            "None\n"
          ],
          "name": "stdout"
        },
        {
          "output_type": "stream",
          "text": [
            "2021-07-15 22:24:58,106 - INFO: lr: 0.03326 | Epoch: 001 | Batch: 010 | Loss: 2.44686 | Correct: 29/128\n"
          ],
          "name": "stderr"
        },
        {
          "output_type": "stream",
          "text": [
            "None\n"
          ],
          "name": "stdout"
        },
        {
          "output_type": "stream",
          "text": [
            "2021-07-15 22:25:01,338 - INFO: lr: 0.01845 | Epoch: 001 | Batch: 020 | Loss: 2.30742 | Correct: 34/128\n"
          ],
          "name": "stderr"
        },
        {
          "output_type": "stream",
          "text": [
            "None\n"
          ],
          "name": "stdout"
        },
        {
          "output_type": "stream",
          "text": [
            "2021-07-15 22:25:04,602 - INFO: lr: 0.00728 | Epoch: 001 | Batch: 030 | Loss: 2.36077 | Correct: 31/128\n"
          ],
          "name": "stderr"
        },
        {
          "output_type": "stream",
          "text": [
            "None\n"
          ],
          "name": "stdout"
        },
        {
          "output_type": "stream",
          "text": [
            "2021-07-15 22:25:07,835 - INFO: lr: 0.00105 | Epoch: 001 | Batch: 040 | Loss: 2.31489 | Correct: 38/128\n"
          ],
          "name": "stderr"
        },
        {
          "output_type": "stream",
          "text": [
            "None\n"
          ],
          "name": "stdout"
        },
        {
          "output_type": "stream",
          "text": [
            "2021-07-15 22:25:09,538 - INFO: Save the snapshot model with index: 0\n",
            "2021-07-15 22:25:10,145 - INFO: n_estimators: 1 | Validation Acc: 35.156 % | Historical Best: 35.156 %\n",
            "2021-07-15 22:25:10,875 - INFO: lr: 0.10000 | Epoch: 002 | Batch: 000 | Loss: 2.30218 | Correct: 33/128\n"
          ],
          "name": "stderr"
        },
        {
          "output_type": "stream",
          "text": [
            "None\n"
          ],
          "name": "stdout"
        },
        {
          "output_type": "stream",
          "text": [
            "2021-07-15 22:25:14,112 - INFO: lr: 0.09711 | Epoch: 002 | Batch: 010 | Loss: 2.40887 | Correct: 31/128\n"
          ],
          "name": "stderr"
        },
        {
          "output_type": "stream",
          "text": [
            "None\n"
          ],
          "name": "stdout"
        },
        {
          "output_type": "stream",
          "text": [
            "2021-07-15 22:25:17,349 - INFO: lr: 0.08879 | Epoch: 002 | Batch: 020 | Loss: 2.29537 | Correct: 30/128\n"
          ],
          "name": "stderr"
        },
        {
          "output_type": "stream",
          "text": [
            "None\n"
          ],
          "name": "stdout"
        },
        {
          "output_type": "stream",
          "text": [
            "2021-07-15 22:25:20,585 - INFO: lr: 0.07598 | Epoch: 002 | Batch: 030 | Loss: 2.37801 | Correct: 29/128\n"
          ],
          "name": "stderr"
        },
        {
          "output_type": "stream",
          "text": [
            "None\n"
          ],
          "name": "stdout"
        },
        {
          "output_type": "stream",
          "text": [
            "2021-07-15 22:25:23,830 - INFO: lr: 0.06017 | Epoch: 002 | Batch: 040 | Loss: 2.28999 | Correct: 38/128\n"
          ],
          "name": "stderr"
        },
        {
          "output_type": "stream",
          "text": [
            "None\n"
          ],
          "name": "stdout"
        },
        {
          "output_type": "stream",
          "text": [
            "2021-07-15 22:25:26,187 - INFO: lr: 0.05000 | Epoch: 003 | Batch: 000 | Loss: 2.32698 | Correct: 33/128\n"
          ],
          "name": "stderr"
        },
        {
          "output_type": "stream",
          "text": [
            "None\n"
          ],
          "name": "stdout"
        },
        {
          "output_type": "stream",
          "text": [
            "2021-07-15 22:25:29,431 - INFO: lr: 0.03326 | Epoch: 003 | Batch: 010 | Loss: 2.01963 | Correct: 44/128\n"
          ],
          "name": "stderr"
        },
        {
          "output_type": "stream",
          "text": [
            "None\n"
          ],
          "name": "stdout"
        },
        {
          "output_type": "stream",
          "text": [
            "2021-07-15 22:25:32,679 - INFO: lr: 0.01845 | Epoch: 003 | Batch: 020 | Loss: 2.22710 | Correct: 44/128\n"
          ],
          "name": "stderr"
        },
        {
          "output_type": "stream",
          "text": [
            "None\n"
          ],
          "name": "stdout"
        },
        {
          "output_type": "stream",
          "text": [
            "2021-07-15 22:25:35,936 - INFO: lr: 0.00728 | Epoch: 003 | Batch: 030 | Loss: 1.98192 | Correct: 46/128\n"
          ],
          "name": "stderr"
        },
        {
          "output_type": "stream",
          "text": [
            "None\n"
          ],
          "name": "stdout"
        },
        {
          "output_type": "stream",
          "text": [
            "2021-07-15 22:25:39,198 - INFO: lr: 0.00105 | Epoch: 003 | Batch: 040 | Loss: 2.01772 | Correct: 41/128\n"
          ],
          "name": "stderr"
        },
        {
          "output_type": "stream",
          "text": [
            "None\n"
          ],
          "name": "stdout"
        },
        {
          "output_type": "stream",
          "text": [
            "2021-07-15 22:25:40,912 - INFO: Save the snapshot model with index: 1\n",
            "2021-07-15 22:25:41,599 - INFO: n_estimators: 2 | Validation Acc: 45.647 % | Historical Best: 45.647 %\n",
            "2021-07-15 22:25:42,283 - INFO: lr: 0.10000 | Epoch: 004 | Batch: 000 | Loss: 1.95904 | Correct: 45/128\n"
          ],
          "name": "stderr"
        },
        {
          "output_type": "stream",
          "text": [
            "None\n"
          ],
          "name": "stdout"
        },
        {
          "output_type": "stream",
          "text": [
            "2021-07-15 22:25:45,554 - INFO: lr: 0.09711 | Epoch: 004 | Batch: 010 | Loss: 2.23755 | Correct: 29/128\n"
          ],
          "name": "stderr"
        },
        {
          "output_type": "stream",
          "text": [
            "None\n"
          ],
          "name": "stdout"
        },
        {
          "output_type": "stream",
          "text": [
            "2021-07-15 22:25:48,818 - INFO: lr: 0.08879 | Epoch: 004 | Batch: 020 | Loss: 2.38966 | Correct: 35/128\n"
          ],
          "name": "stderr"
        },
        {
          "output_type": "stream",
          "text": [
            "None\n"
          ],
          "name": "stdout"
        },
        {
          "output_type": "stream",
          "text": [
            "2021-07-15 22:25:52,076 - INFO: lr: 0.07598 | Epoch: 004 | Batch: 030 | Loss: 2.34776 | Correct: 34/128\n"
          ],
          "name": "stderr"
        },
        {
          "output_type": "stream",
          "text": [
            "None\n"
          ],
          "name": "stdout"
        },
        {
          "output_type": "stream",
          "text": [
            "2021-07-15 22:25:55,344 - INFO: lr: 0.06017 | Epoch: 004 | Batch: 040 | Loss: 2.14837 | Correct: 41/128\n"
          ],
          "name": "stderr"
        },
        {
          "output_type": "stream",
          "text": [
            "None\n"
          ],
          "name": "stdout"
        },
        {
          "output_type": "stream",
          "text": [
            "2021-07-15 22:25:57,734 - INFO: lr: 0.05000 | Epoch: 005 | Batch: 000 | Loss: 2.08115 | Correct: 46/128\n"
          ],
          "name": "stderr"
        },
        {
          "output_type": "stream",
          "text": [
            "None\n"
          ],
          "name": "stdout"
        },
        {
          "output_type": "stream",
          "text": [
            "2021-07-15 22:26:00,994 - INFO: lr: 0.03326 | Epoch: 005 | Batch: 010 | Loss: 2.16379 | Correct: 40/128\n"
          ],
          "name": "stderr"
        },
        {
          "output_type": "stream",
          "text": [
            "None\n"
          ],
          "name": "stdout"
        },
        {
          "output_type": "stream",
          "text": [
            "2021-07-15 22:26:04,269 - INFO: lr: 0.01845 | Epoch: 005 | Batch: 020 | Loss: 1.88713 | Correct: 53/128\n"
          ],
          "name": "stderr"
        },
        {
          "output_type": "stream",
          "text": [
            "None\n"
          ],
          "name": "stdout"
        },
        {
          "output_type": "stream",
          "text": [
            "2021-07-15 22:26:07,534 - INFO: lr: 0.00728 | Epoch: 005 | Batch: 030 | Loss: 1.83731 | Correct: 46/128\n"
          ],
          "name": "stderr"
        },
        {
          "output_type": "stream",
          "text": [
            "None\n"
          ],
          "name": "stdout"
        },
        {
          "output_type": "stream",
          "text": [
            "2021-07-15 22:26:10,813 - INFO: lr: 0.00105 | Epoch: 005 | Batch: 040 | Loss: 1.85183 | Correct: 56/128\n"
          ],
          "name": "stderr"
        },
        {
          "output_type": "stream",
          "text": [
            "None\n"
          ],
          "name": "stdout"
        },
        {
          "output_type": "stream",
          "text": [
            "2021-07-15 22:26:12,536 - INFO: Save the snapshot model with index: 2\n",
            "2021-07-15 22:26:13,391 - INFO: n_estimators: 3 | Validation Acc: 50.670 % | Historical Best: 50.670 %\n",
            "2021-07-15 22:26:14,127 - INFO: lr: 0.10000 | Epoch: 006 | Batch: 000 | Loss: 1.72404 | Correct: 54/128\n"
          ],
          "name": "stderr"
        },
        {
          "output_type": "stream",
          "text": [
            "None\n"
          ],
          "name": "stdout"
        },
        {
          "output_type": "stream",
          "text": [
            "2021-07-15 22:26:17,394 - INFO: lr: 0.09711 | Epoch: 006 | Batch: 010 | Loss: 1.97979 | Correct: 51/128\n"
          ],
          "name": "stderr"
        },
        {
          "output_type": "stream",
          "text": [
            "None\n"
          ],
          "name": "stdout"
        },
        {
          "output_type": "stream",
          "text": [
            "2021-07-15 22:26:20,661 - INFO: lr: 0.08879 | Epoch: 006 | Batch: 020 | Loss: 2.18416 | Correct: 43/128\n"
          ],
          "name": "stderr"
        },
        {
          "output_type": "stream",
          "text": [
            "None\n"
          ],
          "name": "stdout"
        },
        {
          "output_type": "stream",
          "text": [
            "2021-07-15 22:26:23,910 - INFO: lr: 0.07598 | Epoch: 006 | Batch: 030 | Loss: 2.11067 | Correct: 49/128\n"
          ],
          "name": "stderr"
        },
        {
          "output_type": "stream",
          "text": [
            "None\n"
          ],
          "name": "stdout"
        },
        {
          "output_type": "stream",
          "text": [
            "2021-07-15 22:26:27,156 - INFO: lr: 0.06017 | Epoch: 006 | Batch: 040 | Loss: 1.97001 | Correct: 48/128\n"
          ],
          "name": "stderr"
        },
        {
          "output_type": "stream",
          "text": [
            "None\n"
          ],
          "name": "stdout"
        },
        {
          "output_type": "stream",
          "text": [
            "2021-07-15 22:26:29,564 - INFO: lr: 0.05000 | Epoch: 007 | Batch: 000 | Loss: 2.07226 | Correct: 41/128\n"
          ],
          "name": "stderr"
        },
        {
          "output_type": "stream",
          "text": [
            "None\n"
          ],
          "name": "stdout"
        },
        {
          "output_type": "stream",
          "text": [
            "2021-07-15 22:26:32,821 - INFO: lr: 0.03326 | Epoch: 007 | Batch: 010 | Loss: 1.83220 | Correct: 56/128\n"
          ],
          "name": "stderr"
        },
        {
          "output_type": "stream",
          "text": [
            "None\n"
          ],
          "name": "stdout"
        },
        {
          "output_type": "stream",
          "text": [
            "2021-07-15 22:26:36,082 - INFO: lr: 0.01845 | Epoch: 007 | Batch: 020 | Loss: 1.83845 | Correct: 56/128\n"
          ],
          "name": "stderr"
        },
        {
          "output_type": "stream",
          "text": [
            "None\n"
          ],
          "name": "stdout"
        },
        {
          "output_type": "stream",
          "text": [
            "2021-07-15 22:26:39,353 - INFO: lr: 0.00728 | Epoch: 007 | Batch: 030 | Loss: 1.71486 | Correct: 56/128\n"
          ],
          "name": "stderr"
        },
        {
          "output_type": "stream",
          "text": [
            "None\n"
          ],
          "name": "stdout"
        },
        {
          "output_type": "stream",
          "text": [
            "2021-07-15 22:26:42,622 - INFO: lr: 0.00105 | Epoch: 007 | Batch: 040 | Loss: 1.75836 | Correct: 56/128\n"
          ],
          "name": "stderr"
        },
        {
          "output_type": "stream",
          "text": [
            "None\n"
          ],
          "name": "stdout"
        },
        {
          "output_type": "stream",
          "text": [
            "2021-07-15 22:26:44,330 - INFO: Save the snapshot model with index: 3\n",
            "2021-07-15 22:26:45,279 - INFO: n_estimators: 4 | Validation Acc: 55.246 % | Historical Best: 55.246 %\n",
            "2021-07-15 22:26:46,000 - INFO: lr: 0.10000 | Epoch: 008 | Batch: 000 | Loss: 1.66248 | Correct: 62/128\n"
          ],
          "name": "stderr"
        },
        {
          "output_type": "stream",
          "text": [
            "None\n"
          ],
          "name": "stdout"
        },
        {
          "output_type": "stream",
          "text": [
            "2021-07-15 22:26:49,261 - INFO: lr: 0.09711 | Epoch: 008 | Batch: 010 | Loss: 1.96564 | Correct: 41/128\n"
          ],
          "name": "stderr"
        },
        {
          "output_type": "stream",
          "text": [
            "None\n"
          ],
          "name": "stdout"
        },
        {
          "output_type": "stream",
          "text": [
            "2021-07-15 22:26:52,500 - INFO: lr: 0.08879 | Epoch: 008 | Batch: 020 | Loss: 1.97704 | Correct: 45/128\n"
          ],
          "name": "stderr"
        },
        {
          "output_type": "stream",
          "text": [
            "None\n"
          ],
          "name": "stdout"
        },
        {
          "output_type": "stream",
          "text": [
            "2021-07-15 22:26:55,752 - INFO: lr: 0.07598 | Epoch: 008 | Batch: 030 | Loss: 1.83969 | Correct: 48/128\n"
          ],
          "name": "stderr"
        },
        {
          "output_type": "stream",
          "text": [
            "None\n"
          ],
          "name": "stdout"
        },
        {
          "output_type": "stream",
          "text": [
            "2021-07-15 22:26:59,003 - INFO: lr: 0.06017 | Epoch: 008 | Batch: 040 | Loss: 1.66886 | Correct: 67/128\n"
          ],
          "name": "stderr"
        },
        {
          "output_type": "stream",
          "text": [
            "None\n"
          ],
          "name": "stdout"
        },
        {
          "output_type": "stream",
          "text": [
            "2021-07-15 22:27:01,414 - INFO: lr: 0.05000 | Epoch: 009 | Batch: 000 | Loss: 1.70676 | Correct: 59/128\n"
          ],
          "name": "stderr"
        },
        {
          "output_type": "stream",
          "text": [
            "None\n"
          ],
          "name": "stdout"
        },
        {
          "output_type": "stream",
          "text": [
            "2021-07-15 22:27:04,664 - INFO: lr: 0.03326 | Epoch: 009 | Batch: 010 | Loss: 1.65894 | Correct: 63/128\n"
          ],
          "name": "stderr"
        },
        {
          "output_type": "stream",
          "text": [
            "None\n"
          ],
          "name": "stdout"
        },
        {
          "output_type": "stream",
          "text": [
            "2021-07-15 22:27:07,918 - INFO: lr: 0.01845 | Epoch: 009 | Batch: 020 | Loss: 1.62123 | Correct: 53/128\n"
          ],
          "name": "stderr"
        },
        {
          "output_type": "stream",
          "text": [
            "None\n"
          ],
          "name": "stdout"
        },
        {
          "output_type": "stream",
          "text": [
            "2021-07-15 22:27:11,164 - INFO: lr: 0.00728 | Epoch: 009 | Batch: 030 | Loss: 1.77232 | Correct: 62/128\n"
          ],
          "name": "stderr"
        },
        {
          "output_type": "stream",
          "text": [
            "None\n"
          ],
          "name": "stdout"
        },
        {
          "output_type": "stream",
          "text": [
            "2021-07-15 22:27:14,427 - INFO: lr: 0.00105 | Epoch: 009 | Batch: 040 | Loss: 1.60901 | Correct: 61/128\n"
          ],
          "name": "stderr"
        },
        {
          "output_type": "stream",
          "text": [
            "None\n"
          ],
          "name": "stdout"
        },
        {
          "output_type": "stream",
          "text": [
            "2021-07-15 22:27:16,145 - INFO: Save the snapshot model with index: 4\n",
            "2021-07-15 22:27:17,163 - INFO: n_estimators: 5 | Validation Acc: 58.259 % | Historical Best: 58.259 %\n"
          ],
          "name": "stderr"
        },
        {
          "output_type": "stream",
          "text": [
            "Group 2 Finished!\n",
            "Target number of exemplars: 100\n",
            "Randomly extracting exemplars from class 0 of current split... Extracted 100 exemplars.\n",
            "Randomly extracting exemplars from class 1 of current split... Extracted 100 exemplars.\n",
            "Randomly extracting exemplars from class 2 of current split... Extracted 100 exemplars.\n",
            "Randomly extracting exemplars from class 3 of current split... Extracted 100 exemplars.\n",
            "Randomly extracting exemplars from class 4 of current split... Extracted 100 exemplars.\n",
            "Randomly extracting exemplars from class 5 of current split... Extracted 100 exemplars.\n",
            "Randomly extracting exemplars from class 6 of current split... Extracted 100 exemplars.\n",
            "Randomly extracting exemplars from class 7 of current split... Extracted 100 exemplars.\n",
            "Randomly extracting exemplars from class 8 of current split... Extracted 100 exemplars.\n",
            "Randomly extracting exemplars from class 9 of current split... Extracted 100 exemplars.\n",
            "[0.42258064516129035, 0.6870463709677419, 0.8729082661290323, 0.928351814516129, 0.9735635080645161, 0.9890625, 0.9989667338709678]\n",
            "[0.34479166666666666, 0.25416666666666665, 0.1484375, 0.1015625, 0.05, 0.025520833333333333, 0.004166666666666667]\n",
            "Testing on both open and closed world\n",
            "owr harmonic mean (threshold:0.25) = 0.37984442620200753\n",
            "owr harmonic mean (threshold:0.35) = 0.3711833388182058\n",
            "owr harmonic mean (threshold:0.5) = 0.2538789149340213\n",
            "owr harmonic mean (threshold:0.6) = 0.18325875344734485\n",
            "owr harmonic mean (threshold:0.75) = 0.09529650426054878\n",
            "owr harmonic mean (threshold:0.85) = 0.04994793808612676\n",
            "owr harmonic mean (threshold:0.95) = 0.008497045406638797\n",
            "\n",
            "=============================================\n",
            "\n",
            "Length of exemplars set: 2000\n"
          ],
          "name": "stdout"
        },
        {
          "output_type": "stream",
          "text": [
            "2021-07-15 22:27:53,325 - INFO: lr: 0.10000 | Epoch: 000 | Batch: 000 | Loss: 4.63229 | Correct: 3/128\n"
          ],
          "name": "stderr"
        },
        {
          "output_type": "stream",
          "text": [
            "None\n"
          ],
          "name": "stdout"
        },
        {
          "output_type": "stream",
          "text": [
            "2021-07-15 22:27:56,657 - INFO: lr: 0.09711 | Epoch: 000 | Batch: 010 | Loss: 3.23776 | Correct: 15/128\n"
          ],
          "name": "stderr"
        },
        {
          "output_type": "stream",
          "text": [
            "None\n"
          ],
          "name": "stdout"
        },
        {
          "output_type": "stream",
          "text": [
            "2021-07-15 22:27:59,992 - INFO: lr: 0.08879 | Epoch: 000 | Batch: 020 | Loss: 2.84646 | Correct: 28/128\n"
          ],
          "name": "stderr"
        },
        {
          "output_type": "stream",
          "text": [
            "None\n"
          ],
          "name": "stdout"
        },
        {
          "output_type": "stream",
          "text": [
            "2021-07-15 22:28:03,316 - INFO: lr: 0.07598 | Epoch: 000 | Batch: 030 | Loss: 2.75561 | Correct: 29/128\n"
          ],
          "name": "stderr"
        },
        {
          "output_type": "stream",
          "text": [
            "None\n"
          ],
          "name": "stdout"
        },
        {
          "output_type": "stream",
          "text": [
            "2021-07-15 22:28:06,647 - INFO: lr: 0.06017 | Epoch: 000 | Batch: 040 | Loss: 2.56182 | Correct: 35/128\n"
          ],
          "name": "stderr"
        },
        {
          "output_type": "stream",
          "text": [
            "None\n"
          ],
          "name": "stdout"
        },
        {
          "output_type": "stream",
          "text": [
            "2021-07-15 22:28:09,060 - INFO: lr: 0.05000 | Epoch: 001 | Batch: 000 | Loss: 2.66023 | Correct: 27/128\n"
          ],
          "name": "stderr"
        },
        {
          "output_type": "stream",
          "text": [
            "None\n"
          ],
          "name": "stdout"
        },
        {
          "output_type": "stream",
          "text": [
            "2021-07-15 22:28:12,390 - INFO: lr: 0.03326 | Epoch: 001 | Batch: 010 | Loss: 2.46975 | Correct: 33/128\n"
          ],
          "name": "stderr"
        },
        {
          "output_type": "stream",
          "text": [
            "None\n"
          ],
          "name": "stdout"
        },
        {
          "output_type": "stream",
          "text": [
            "2021-07-15 22:28:15,723 - INFO: lr: 0.01845 | Epoch: 001 | Batch: 020 | Loss: 2.41467 | Correct: 42/128\n"
          ],
          "name": "stderr"
        },
        {
          "output_type": "stream",
          "text": [
            "None\n"
          ],
          "name": "stdout"
        },
        {
          "output_type": "stream",
          "text": [
            "2021-07-15 22:28:19,061 - INFO: lr: 0.00728 | Epoch: 001 | Batch: 030 | Loss: 2.45231 | Correct: 32/128\n"
          ],
          "name": "stderr"
        },
        {
          "output_type": "stream",
          "text": [
            "None\n"
          ],
          "name": "stdout"
        },
        {
          "output_type": "stream",
          "text": [
            "2021-07-15 22:28:22,407 - INFO: lr: 0.00105 | Epoch: 001 | Batch: 040 | Loss: 2.42788 | Correct: 47/128\n"
          ],
          "name": "stderr"
        },
        {
          "output_type": "stream",
          "text": [
            "None\n"
          ],
          "name": "stdout"
        },
        {
          "output_type": "stream",
          "text": [
            "2021-07-15 22:28:24,170 - INFO: Save the snapshot model with index: 0\n",
            "2021-07-15 22:28:24,763 - INFO: n_estimators: 1 | Validation Acc: 48.549 % | Historical Best: 48.549 %\n",
            "2021-07-15 22:28:25,565 - INFO: lr: 0.10000 | Epoch: 002 | Batch: 000 | Loss: 2.34154 | Correct: 44/128\n"
          ],
          "name": "stderr"
        },
        {
          "output_type": "stream",
          "text": [
            "None\n"
          ],
          "name": "stdout"
        },
        {
          "output_type": "stream",
          "text": [
            "2021-07-15 22:28:28,900 - INFO: lr: 0.09711 | Epoch: 002 | Batch: 010 | Loss: 2.65298 | Correct: 31/128\n"
          ],
          "name": "stderr"
        },
        {
          "output_type": "stream",
          "text": [
            "None\n"
          ],
          "name": "stdout"
        },
        {
          "output_type": "stream",
          "text": [
            "2021-07-15 22:28:32,237 - INFO: lr: 0.08879 | Epoch: 002 | Batch: 020 | Loss: 2.63028 | Correct: 35/128\n"
          ],
          "name": "stderr"
        },
        {
          "output_type": "stream",
          "text": [
            "None\n"
          ],
          "name": "stdout"
        },
        {
          "output_type": "stream",
          "text": [
            "2021-07-15 22:28:35,562 - INFO: lr: 0.07598 | Epoch: 002 | Batch: 030 | Loss: 2.50886 | Correct: 43/128\n"
          ],
          "name": "stderr"
        },
        {
          "output_type": "stream",
          "text": [
            "None\n"
          ],
          "name": "stdout"
        },
        {
          "output_type": "stream",
          "text": [
            "2021-07-15 22:28:38,911 - INFO: lr: 0.06017 | Epoch: 002 | Batch: 040 | Loss: 2.51233 | Correct: 38/128\n"
          ],
          "name": "stderr"
        },
        {
          "output_type": "stream",
          "text": [
            "None\n"
          ],
          "name": "stdout"
        },
        {
          "output_type": "stream",
          "text": [
            "2021-07-15 22:28:41,361 - INFO: lr: 0.05000 | Epoch: 003 | Batch: 000 | Loss: 2.39398 | Correct: 44/128\n"
          ],
          "name": "stderr"
        },
        {
          "output_type": "stream",
          "text": [
            "None\n"
          ],
          "name": "stdout"
        },
        {
          "output_type": "stream",
          "text": [
            "2021-07-15 22:28:44,693 - INFO: lr: 0.03326 | Epoch: 003 | Batch: 010 | Loss: 2.21246 | Correct: 44/128\n"
          ],
          "name": "stderr"
        },
        {
          "output_type": "stream",
          "text": [
            "None\n"
          ],
          "name": "stdout"
        },
        {
          "output_type": "stream",
          "text": [
            "2021-07-15 22:28:48,010 - INFO: lr: 0.01845 | Epoch: 003 | Batch: 020 | Loss: 2.17408 | Correct: 53/128\n"
          ],
          "name": "stderr"
        },
        {
          "output_type": "stream",
          "text": [
            "None\n"
          ],
          "name": "stdout"
        },
        {
          "output_type": "stream",
          "text": [
            "2021-07-15 22:28:51,335 - INFO: lr: 0.00728 | Epoch: 003 | Batch: 030 | Loss: 2.10079 | Correct: 50/128\n"
          ],
          "name": "stderr"
        },
        {
          "output_type": "stream",
          "text": [
            "None\n"
          ],
          "name": "stdout"
        },
        {
          "output_type": "stream",
          "text": [
            "2021-07-15 22:28:54,667 - INFO: lr: 0.00105 | Epoch: 003 | Batch: 040 | Loss: 2.26439 | Correct: 46/128\n"
          ],
          "name": "stderr"
        },
        {
          "output_type": "stream",
          "text": [
            "None\n"
          ],
          "name": "stdout"
        },
        {
          "output_type": "stream",
          "text": [
            "2021-07-15 22:28:56,418 - INFO: Save the snapshot model with index: 1\n",
            "2021-07-15 22:28:57,098 - INFO: n_estimators: 2 | Validation Acc: 53.795 % | Historical Best: 53.795 %\n",
            "2021-07-15 22:28:57,881 - INFO: lr: 0.10000 | Epoch: 004 | Batch: 000 | Loss: 2.20071 | Correct: 48/128\n"
          ],
          "name": "stderr"
        },
        {
          "output_type": "stream",
          "text": [
            "None\n"
          ],
          "name": "stdout"
        },
        {
          "output_type": "stream",
          "text": [
            "2021-07-15 22:29:01,202 - INFO: lr: 0.09711 | Epoch: 004 | Batch: 010 | Loss: 2.73854 | Correct: 35/128\n"
          ],
          "name": "stderr"
        },
        {
          "output_type": "stream",
          "text": [
            "None\n"
          ],
          "name": "stdout"
        },
        {
          "output_type": "stream",
          "text": [
            "2021-07-15 22:29:04,514 - INFO: lr: 0.08879 | Epoch: 004 | Batch: 020 | Loss: 2.34785 | Correct: 41/128\n"
          ],
          "name": "stderr"
        },
        {
          "output_type": "stream",
          "text": [
            "None\n"
          ],
          "name": "stdout"
        },
        {
          "output_type": "stream",
          "text": [
            "2021-07-15 22:29:07,836 - INFO: lr: 0.07598 | Epoch: 004 | Batch: 030 | Loss: 2.42751 | Correct: 40/128\n"
          ],
          "name": "stderr"
        },
        {
          "output_type": "stream",
          "text": [
            "None\n"
          ],
          "name": "stdout"
        },
        {
          "output_type": "stream",
          "text": [
            "2021-07-15 22:29:11,149 - INFO: lr: 0.06017 | Epoch: 004 | Batch: 040 | Loss: 2.18881 | Correct: 45/128\n"
          ],
          "name": "stderr"
        },
        {
          "output_type": "stream",
          "text": [
            "None\n"
          ],
          "name": "stdout"
        },
        {
          "output_type": "stream",
          "text": [
            "2021-07-15 22:29:13,634 - INFO: lr: 0.05000 | Epoch: 005 | Batch: 000 | Loss: 2.12469 | Correct: 45/128\n"
          ],
          "name": "stderr"
        },
        {
          "output_type": "stream",
          "text": [
            "None\n"
          ],
          "name": "stdout"
        },
        {
          "output_type": "stream",
          "text": [
            "2021-07-15 22:29:16,956 - INFO: lr: 0.03326 | Epoch: 005 | Batch: 010 | Loss: 2.23442 | Correct: 51/128\n"
          ],
          "name": "stderr"
        },
        {
          "output_type": "stream",
          "text": [
            "None\n"
          ],
          "name": "stdout"
        },
        {
          "output_type": "stream",
          "text": [
            "2021-07-15 22:29:20,269 - INFO: lr: 0.01845 | Epoch: 005 | Batch: 020 | Loss: 2.21412 | Correct: 41/128\n"
          ],
          "name": "stderr"
        },
        {
          "output_type": "stream",
          "text": [
            "None\n"
          ],
          "name": "stdout"
        },
        {
          "output_type": "stream",
          "text": [
            "2021-07-15 22:29:23,599 - INFO: lr: 0.00728 | Epoch: 005 | Batch: 030 | Loss: 2.08327 | Correct: 49/128\n"
          ],
          "name": "stderr"
        },
        {
          "output_type": "stream",
          "text": [
            "None\n"
          ],
          "name": "stdout"
        },
        {
          "output_type": "stream",
          "text": [
            "2021-07-15 22:29:26,935 - INFO: lr: 0.00105 | Epoch: 005 | Batch: 040 | Loss: 2.17582 | Correct: 48/128\n"
          ],
          "name": "stderr"
        },
        {
          "output_type": "stream",
          "text": [
            "None\n"
          ],
          "name": "stdout"
        },
        {
          "output_type": "stream",
          "text": [
            "2021-07-15 22:29:28,681 - INFO: Save the snapshot model with index: 2\n",
            "2021-07-15 22:29:29,478 - INFO: n_estimators: 3 | Validation Acc: 55.022 % | Historical Best: 55.022 %\n",
            "2021-07-15 22:29:30,255 - INFO: lr: 0.10000 | Epoch: 006 | Batch: 000 | Loss: 1.83876 | Correct: 55/128\n"
          ],
          "name": "stderr"
        },
        {
          "output_type": "stream",
          "text": [
            "None\n"
          ],
          "name": "stdout"
        },
        {
          "output_type": "stream",
          "text": [
            "2021-07-15 22:29:33,587 - INFO: lr: 0.09711 | Epoch: 006 | Batch: 010 | Loss: 2.04493 | Correct: 56/128\n"
          ],
          "name": "stderr"
        },
        {
          "output_type": "stream",
          "text": [
            "None\n"
          ],
          "name": "stdout"
        },
        {
          "output_type": "stream",
          "text": [
            "2021-07-15 22:29:36,902 - INFO: lr: 0.08879 | Epoch: 006 | Batch: 020 | Loss: 2.24097 | Correct: 43/128\n"
          ],
          "name": "stderr"
        },
        {
          "output_type": "stream",
          "text": [
            "None\n"
          ],
          "name": "stdout"
        },
        {
          "output_type": "stream",
          "text": [
            "2021-07-15 22:29:40,233 - INFO: lr: 0.07598 | Epoch: 006 | Batch: 030 | Loss: 2.19186 | Correct: 48/128\n"
          ],
          "name": "stderr"
        },
        {
          "output_type": "stream",
          "text": [
            "None\n"
          ],
          "name": "stdout"
        },
        {
          "output_type": "stream",
          "text": [
            "2021-07-15 22:29:43,568 - INFO: lr: 0.06017 | Epoch: 006 | Batch: 040 | Loss: 2.21927 | Correct: 42/128\n"
          ],
          "name": "stderr"
        },
        {
          "output_type": "stream",
          "text": [
            "None\n"
          ],
          "name": "stdout"
        },
        {
          "output_type": "stream",
          "text": [
            "2021-07-15 22:29:46,064 - INFO: lr: 0.05000 | Epoch: 007 | Batch: 000 | Loss: 2.01204 | Correct: 51/128\n"
          ],
          "name": "stderr"
        },
        {
          "output_type": "stream",
          "text": [
            "None\n"
          ],
          "name": "stdout"
        },
        {
          "output_type": "stream",
          "text": [
            "2021-07-15 22:29:49,386 - INFO: lr: 0.03326 | Epoch: 007 | Batch: 010 | Loss: 1.73942 | Correct: 71/128\n"
          ],
          "name": "stderr"
        },
        {
          "output_type": "stream",
          "text": [
            "None\n"
          ],
          "name": "stdout"
        },
        {
          "output_type": "stream",
          "text": [
            "2021-07-15 22:29:52,723 - INFO: lr: 0.01845 | Epoch: 007 | Batch: 020 | Loss: 2.18436 | Correct: 48/128\n"
          ],
          "name": "stderr"
        },
        {
          "output_type": "stream",
          "text": [
            "None\n"
          ],
          "name": "stdout"
        },
        {
          "output_type": "stream",
          "text": [
            "2021-07-15 22:29:56,055 - INFO: lr: 0.00728 | Epoch: 007 | Batch: 030 | Loss: 1.91187 | Correct: 58/128\n"
          ],
          "name": "stderr"
        },
        {
          "output_type": "stream",
          "text": [
            "None\n"
          ],
          "name": "stdout"
        },
        {
          "output_type": "stream",
          "text": [
            "2021-07-15 22:29:59,393 - INFO: lr: 0.00105 | Epoch: 007 | Batch: 040 | Loss: 2.03196 | Correct: 50/128\n"
          ],
          "name": "stderr"
        },
        {
          "output_type": "stream",
          "text": [
            "None\n"
          ],
          "name": "stdout"
        },
        {
          "output_type": "stream",
          "text": [
            "2021-07-15 22:30:01,139 - INFO: Save the snapshot model with index: 3\n",
            "2021-07-15 22:30:02,086 - INFO: n_estimators: 4 | Validation Acc: 55.580 % | Historical Best: 55.580 %\n",
            "2021-07-15 22:30:02,942 - INFO: lr: 0.10000 | Epoch: 008 | Batch: 000 | Loss: 1.88859 | Correct: 58/128\n"
          ],
          "name": "stderr"
        },
        {
          "output_type": "stream",
          "text": [
            "None\n"
          ],
          "name": "stdout"
        },
        {
          "output_type": "stream",
          "text": [
            "2021-07-15 22:30:06,298 - INFO: lr: 0.09711 | Epoch: 008 | Batch: 010 | Loss: 2.16510 | Correct: 46/128\n"
          ],
          "name": "stderr"
        },
        {
          "output_type": "stream",
          "text": [
            "None\n"
          ],
          "name": "stdout"
        },
        {
          "output_type": "stream",
          "text": [
            "2021-07-15 22:30:09,624 - INFO: lr: 0.08879 | Epoch: 008 | Batch: 020 | Loss: 2.21896 | Correct: 44/128\n"
          ],
          "name": "stderr"
        },
        {
          "output_type": "stream",
          "text": [
            "None\n"
          ],
          "name": "stdout"
        },
        {
          "output_type": "stream",
          "text": [
            "2021-07-15 22:30:12,959 - INFO: lr: 0.07598 | Epoch: 008 | Batch: 030 | Loss: 2.31919 | Correct: 45/128\n"
          ],
          "name": "stderr"
        },
        {
          "output_type": "stream",
          "text": [
            "None\n"
          ],
          "name": "stdout"
        },
        {
          "output_type": "stream",
          "text": [
            "2021-07-15 22:30:16,304 - INFO: lr: 0.06017 | Epoch: 008 | Batch: 040 | Loss: 2.06178 | Correct: 54/128\n"
          ],
          "name": "stderr"
        },
        {
          "output_type": "stream",
          "text": [
            "None\n"
          ],
          "name": "stdout"
        },
        {
          "output_type": "stream",
          "text": [
            "2021-07-15 22:30:18,796 - INFO: lr: 0.05000 | Epoch: 009 | Batch: 000 | Loss: 2.00564 | Correct: 51/128\n"
          ],
          "name": "stderr"
        },
        {
          "output_type": "stream",
          "text": [
            "None\n"
          ],
          "name": "stdout"
        },
        {
          "output_type": "stream",
          "text": [
            "2021-07-15 22:30:22,119 - INFO: lr: 0.03326 | Epoch: 009 | Batch: 010 | Loss: 2.00743 | Correct: 53/128\n"
          ],
          "name": "stderr"
        },
        {
          "output_type": "stream",
          "text": [
            "None\n"
          ],
          "name": "stdout"
        },
        {
          "output_type": "stream",
          "text": [
            "2021-07-15 22:30:25,453 - INFO: lr: 0.01845 | Epoch: 009 | Batch: 020 | Loss: 1.64403 | Correct: 60/128\n"
          ],
          "name": "stderr"
        },
        {
          "output_type": "stream",
          "text": [
            "None\n"
          ],
          "name": "stdout"
        },
        {
          "output_type": "stream",
          "text": [
            "2021-07-15 22:30:28,778 - INFO: lr: 0.00728 | Epoch: 009 | Batch: 030 | Loss: 1.76884 | Correct: 62/128\n"
          ],
          "name": "stderr"
        },
        {
          "output_type": "stream",
          "text": [
            "None\n"
          ],
          "name": "stdout"
        },
        {
          "output_type": "stream",
          "text": [
            "2021-07-15 22:30:32,100 - INFO: lr: 0.00105 | Epoch: 009 | Batch: 040 | Loss: 1.75368 | Correct: 63/128\n"
          ],
          "name": "stderr"
        },
        {
          "output_type": "stream",
          "text": [
            "None\n"
          ],
          "name": "stdout"
        },
        {
          "output_type": "stream",
          "text": [
            "2021-07-15 22:30:33,854 - INFO: Save the snapshot model with index: 4\n",
            "2021-07-15 22:30:34,885 - INFO: n_estimators: 5 | Validation Acc: 60.938 % | Historical Best: 60.938 %\n"
          ],
          "name": "stderr"
        },
        {
          "output_type": "stream",
          "text": [
            "Group 3 Finished!\n",
            "Target number of exemplars: 66\n",
            "Randomly extracting exemplars from class 0 of current split... Extracted 66 exemplars.\n",
            "Randomly extracting exemplars from class 1 of current split... Extracted 66 exemplars.\n",
            "Randomly extracting exemplars from class 2 of current split... Extracted 66 exemplars.\n",
            "Randomly extracting exemplars from class 3 of current split... Extracted 66 exemplars.\n",
            "Randomly extracting exemplars from class 4 of current split... Extracted 66 exemplars.\n",
            "Randomly extracting exemplars from class 5 of current split... Extracted 66 exemplars.\n",
            "Randomly extracting exemplars from class 6 of current split... Extracted 66 exemplars.\n",
            "Randomly extracting exemplars from class 7 of current split... Extracted 66 exemplars.\n",
            "Randomly extracting exemplars from class 8 of current split... Extracted 66 exemplars.\n",
            "Randomly extracting exemplars from class 9 of current split... Extracted 66 exemplars.\n",
            "[0.34662298387096774, 0.6077368951612904, 0.8143901209677419, 0.8893397177419354, 0.9511340725806452, 0.9729334677419355, 0.9881552419354839]\n",
            "[0.23811141304347827, 0.18410326086956522, 0.11413043478260869, 0.08118206521739131, 0.0390625, 0.018682065217391304, 0.007472826086956522]\n",
            "Testing on both open and closed world\n",
            "owr harmonic mean (threshold:0.25) = 0.2824021714511505\n",
            "owr harmonic mean (threshold:0.35) = 0.2827269231566079\n",
            "owr harmonic mean (threshold:0.5) = 0.2003607222177059\n",
            "owr harmonic mean (threshold:0.6) = 0.14895204457870354\n",
            "owr harmonic mean (threshold:0.75) = 0.07522785397039758\n",
            "owr harmonic mean (threshold:0.85) = 0.03685277643374619\n",
            "owr harmonic mean (threshold:0.95) = 0.015030476278023359\n",
            "\n",
            "=============================================\n",
            "\n",
            "Length of exemplars set: 1980\n"
          ],
          "name": "stdout"
        },
        {
          "output_type": "stream",
          "text": [
            "2021-07-15 22:31:11,902 - INFO: lr: 0.10000 | Epoch: 000 | Batch: 000 | Loss: 4.67024 | Correct: 2/128\n"
          ],
          "name": "stderr"
        },
        {
          "output_type": "stream",
          "text": [
            "None\n"
          ],
          "name": "stdout"
        },
        {
          "output_type": "stream",
          "text": [
            "2021-07-15 22:31:15,305 - INFO: lr: 0.09711 | Epoch: 000 | Batch: 010 | Loss: 3.15157 | Correct: 22/128\n"
          ],
          "name": "stderr"
        },
        {
          "output_type": "stream",
          "text": [
            "None\n"
          ],
          "name": "stdout"
        },
        {
          "output_type": "stream",
          "text": [
            "2021-07-15 22:31:18,715 - INFO: lr: 0.08879 | Epoch: 000 | Batch: 020 | Loss: 3.31868 | Correct: 22/128\n"
          ],
          "name": "stderr"
        },
        {
          "output_type": "stream",
          "text": [
            "None\n"
          ],
          "name": "stdout"
        },
        {
          "output_type": "stream",
          "text": [
            "2021-07-15 22:31:22,115 - INFO: lr: 0.07598 | Epoch: 000 | Batch: 030 | Loss: 2.85902 | Correct: 32/128\n"
          ],
          "name": "stderr"
        },
        {
          "output_type": "stream",
          "text": [
            "None\n"
          ],
          "name": "stdout"
        },
        {
          "output_type": "stream",
          "text": [
            "2021-07-15 22:31:25,522 - INFO: lr: 0.06017 | Epoch: 000 | Batch: 040 | Loss: 2.89469 | Correct: 29/128\n"
          ],
          "name": "stderr"
        },
        {
          "output_type": "stream",
          "text": [
            "None\n"
          ],
          "name": "stdout"
        },
        {
          "output_type": "stream",
          "text": [
            "2021-07-15 22:31:28,089 - INFO: lr: 0.05000 | Epoch: 001 | Batch: 000 | Loss: 3.02387 | Correct: 25/128\n"
          ],
          "name": "stderr"
        },
        {
          "output_type": "stream",
          "text": [
            "None\n"
          ],
          "name": "stdout"
        },
        {
          "output_type": "stream",
          "text": [
            "2021-07-15 22:31:31,488 - INFO: lr: 0.03326 | Epoch: 001 | Batch: 010 | Loss: 2.90096 | Correct: 35/128\n"
          ],
          "name": "stderr"
        },
        {
          "output_type": "stream",
          "text": [
            "None\n"
          ],
          "name": "stdout"
        },
        {
          "output_type": "stream",
          "text": [
            "2021-07-15 22:31:34,888 - INFO: lr: 0.01845 | Epoch: 001 | Batch: 020 | Loss: 2.91046 | Correct: 35/128\n"
          ],
          "name": "stderr"
        },
        {
          "output_type": "stream",
          "text": [
            "None\n"
          ],
          "name": "stdout"
        },
        {
          "output_type": "stream",
          "text": [
            "2021-07-15 22:31:38,299 - INFO: lr: 0.00728 | Epoch: 001 | Batch: 030 | Loss: 2.52271 | Correct: 42/128\n"
          ],
          "name": "stderr"
        },
        {
          "output_type": "stream",
          "text": [
            "None\n"
          ],
          "name": "stdout"
        },
        {
          "output_type": "stream",
          "text": [
            "2021-07-15 22:31:41,728 - INFO: lr: 0.00105 | Epoch: 001 | Batch: 040 | Loss: 2.66620 | Correct: 32/128\n"
          ],
          "name": "stderr"
        },
        {
          "output_type": "stream",
          "text": [
            "None\n"
          ],
          "name": "stdout"
        },
        {
          "output_type": "stream",
          "text": [
            "2021-07-15 22:31:43,531 - INFO: Save the snapshot model with index: 0\n",
            "2021-07-15 22:31:44,139 - INFO: n_estimators: 1 | Validation Acc: 43.638 % | Historical Best: 43.638 %\n",
            "2021-07-15 22:31:44,924 - INFO: lr: 0.10000 | Epoch: 002 | Batch: 000 | Loss: 2.59433 | Correct: 41/128\n"
          ],
          "name": "stderr"
        },
        {
          "output_type": "stream",
          "text": [
            "None\n"
          ],
          "name": "stdout"
        },
        {
          "output_type": "stream",
          "text": [
            "2021-07-15 22:31:48,329 - INFO: lr: 0.09711 | Epoch: 002 | Batch: 010 | Loss: 2.95650 | Correct: 25/128\n"
          ],
          "name": "stderr"
        },
        {
          "output_type": "stream",
          "text": [
            "None\n"
          ],
          "name": "stdout"
        },
        {
          "output_type": "stream",
          "text": [
            "2021-07-15 22:31:51,738 - INFO: lr: 0.08879 | Epoch: 002 | Batch: 020 | Loss: 2.53982 | Correct: 43/128\n"
          ],
          "name": "stderr"
        },
        {
          "output_type": "stream",
          "text": [
            "None\n"
          ],
          "name": "stdout"
        },
        {
          "output_type": "stream",
          "text": [
            "2021-07-15 22:31:55,137 - INFO: lr: 0.07598 | Epoch: 002 | Batch: 030 | Loss: 2.52002 | Correct: 41/128\n"
          ],
          "name": "stderr"
        },
        {
          "output_type": "stream",
          "text": [
            "None\n"
          ],
          "name": "stdout"
        },
        {
          "output_type": "stream",
          "text": [
            "2021-07-15 22:31:58,542 - INFO: lr: 0.06017 | Epoch: 002 | Batch: 040 | Loss: 2.69983 | Correct: 38/128\n"
          ],
          "name": "stderr"
        },
        {
          "output_type": "stream",
          "text": [
            "None\n"
          ],
          "name": "stdout"
        },
        {
          "output_type": "stream",
          "text": [
            "2021-07-15 22:32:01,090 - INFO: lr: 0.05000 | Epoch: 003 | Batch: 000 | Loss: 2.57244 | Correct: 40/128\n"
          ],
          "name": "stderr"
        },
        {
          "output_type": "stream",
          "text": [
            "None\n"
          ],
          "name": "stdout"
        },
        {
          "output_type": "stream",
          "text": [
            "2021-07-15 22:32:04,508 - INFO: lr: 0.03326 | Epoch: 003 | Batch: 010 | Loss: 2.46691 | Correct: 41/128\n"
          ],
          "name": "stderr"
        },
        {
          "output_type": "stream",
          "text": [
            "None\n"
          ],
          "name": "stdout"
        },
        {
          "output_type": "stream",
          "text": [
            "2021-07-15 22:32:07,912 - INFO: lr: 0.01845 | Epoch: 003 | Batch: 020 | Loss: 2.35695 | Correct: 48/128\n"
          ],
          "name": "stderr"
        },
        {
          "output_type": "stream",
          "text": [
            "None\n"
          ],
          "name": "stdout"
        },
        {
          "output_type": "stream",
          "text": [
            "2021-07-15 22:32:11,315 - INFO: lr: 0.00728 | Epoch: 003 | Batch: 030 | Loss: 2.28501 | Correct: 53/128\n"
          ],
          "name": "stderr"
        },
        {
          "output_type": "stream",
          "text": [
            "None\n"
          ],
          "name": "stdout"
        },
        {
          "output_type": "stream",
          "text": [
            "2021-07-15 22:32:14,736 - INFO: lr: 0.00105 | Epoch: 003 | Batch: 040 | Loss: 2.35841 | Correct: 48/128\n"
          ],
          "name": "stderr"
        },
        {
          "output_type": "stream",
          "text": [
            "None\n"
          ],
          "name": "stdout"
        },
        {
          "output_type": "stream",
          "text": [
            "2021-07-15 22:32:16,522 - INFO: Save the snapshot model with index: 1\n",
            "2021-07-15 22:32:17,248 - INFO: n_estimators: 2 | Validation Acc: 48.996 % | Historical Best: 48.996 %\n",
            "2021-07-15 22:32:18,042 - INFO: lr: 0.10000 | Epoch: 004 | Batch: 000 | Loss: 2.37574 | Correct: 47/128\n"
          ],
          "name": "stderr"
        },
        {
          "output_type": "stream",
          "text": [
            "None\n"
          ],
          "name": "stdout"
        },
        {
          "output_type": "stream",
          "text": [
            "2021-07-15 22:32:21,450 - INFO: lr: 0.09711 | Epoch: 004 | Batch: 010 | Loss: 2.50301 | Correct: 46/128\n"
          ],
          "name": "stderr"
        },
        {
          "output_type": "stream",
          "text": [
            "None\n"
          ],
          "name": "stdout"
        },
        {
          "output_type": "stream",
          "text": [
            "2021-07-15 22:32:24,849 - INFO: lr: 0.08879 | Epoch: 004 | Batch: 020 | Loss: 2.33865 | Correct: 50/128\n"
          ],
          "name": "stderr"
        },
        {
          "output_type": "stream",
          "text": [
            "None\n"
          ],
          "name": "stdout"
        },
        {
          "output_type": "stream",
          "text": [
            "2021-07-15 22:32:28,254 - INFO: lr: 0.07598 | Epoch: 004 | Batch: 030 | Loss: 2.65270 | Correct: 37/128\n"
          ],
          "name": "stderr"
        },
        {
          "output_type": "stream",
          "text": [
            "None\n"
          ],
          "name": "stdout"
        },
        {
          "output_type": "stream",
          "text": [
            "2021-07-15 22:32:31,672 - INFO: lr: 0.06017 | Epoch: 004 | Batch: 040 | Loss: 2.42462 | Correct: 41/128\n"
          ],
          "name": "stderr"
        },
        {
          "output_type": "stream",
          "text": [
            "None\n"
          ],
          "name": "stdout"
        },
        {
          "output_type": "stream",
          "text": [
            "2021-07-15 22:32:34,215 - INFO: lr: 0.05000 | Epoch: 005 | Batch: 000 | Loss: 2.48582 | Correct: 46/128\n"
          ],
          "name": "stderr"
        },
        {
          "output_type": "stream",
          "text": [
            "None\n"
          ],
          "name": "stdout"
        },
        {
          "output_type": "stream",
          "text": [
            "2021-07-15 22:32:37,634 - INFO: lr: 0.03326 | Epoch: 005 | Batch: 010 | Loss: 2.38288 | Correct: 44/128\n"
          ],
          "name": "stderr"
        },
        {
          "output_type": "stream",
          "text": [
            "None\n"
          ],
          "name": "stdout"
        },
        {
          "output_type": "stream",
          "text": [
            "2021-07-15 22:32:41,059 - INFO: lr: 0.01845 | Epoch: 005 | Batch: 020 | Loss: 2.27567 | Correct: 50/128\n"
          ],
          "name": "stderr"
        },
        {
          "output_type": "stream",
          "text": [
            "None\n"
          ],
          "name": "stdout"
        },
        {
          "output_type": "stream",
          "text": [
            "2021-07-15 22:32:44,471 - INFO: lr: 0.00728 | Epoch: 005 | Batch: 030 | Loss: 2.29642 | Correct: 53/128\n"
          ],
          "name": "stderr"
        },
        {
          "output_type": "stream",
          "text": [
            "None\n"
          ],
          "name": "stdout"
        },
        {
          "output_type": "stream",
          "text": [
            "2021-07-15 22:32:47,881 - INFO: lr: 0.00105 | Epoch: 005 | Batch: 040 | Loss: 2.29491 | Correct: 47/128\n"
          ],
          "name": "stderr"
        },
        {
          "output_type": "stream",
          "text": [
            "None\n"
          ],
          "name": "stdout"
        },
        {
          "output_type": "stream",
          "text": [
            "2021-07-15 22:32:49,666 - INFO: Save the snapshot model with index: 2\n",
            "2021-07-15 22:32:50,497 - INFO: n_estimators: 3 | Validation Acc: 53.683 % | Historical Best: 53.683 %\n",
            "2021-07-15 22:32:51,260 - INFO: lr: 0.10000 | Epoch: 006 | Batch: 000 | Loss: 2.24209 | Correct: 50/128\n"
          ],
          "name": "stderr"
        },
        {
          "output_type": "stream",
          "text": [
            "None\n"
          ],
          "name": "stdout"
        },
        {
          "output_type": "stream",
          "text": [
            "2021-07-15 22:32:54,673 - INFO: lr: 0.09711 | Epoch: 006 | Batch: 010 | Loss: 2.60129 | Correct: 43/128\n"
          ],
          "name": "stderr"
        },
        {
          "output_type": "stream",
          "text": [
            "None\n"
          ],
          "name": "stdout"
        },
        {
          "output_type": "stream",
          "text": [
            "2021-07-15 22:32:58,093 - INFO: lr: 0.08879 | Epoch: 006 | Batch: 020 | Loss: 2.61405 | Correct: 43/128\n"
          ],
          "name": "stderr"
        },
        {
          "output_type": "stream",
          "text": [
            "None\n"
          ],
          "name": "stdout"
        },
        {
          "output_type": "stream",
          "text": [
            "2021-07-15 22:33:01,510 - INFO: lr: 0.07598 | Epoch: 006 | Batch: 030 | Loss: 2.46314 | Correct: 45/128\n"
          ],
          "name": "stderr"
        },
        {
          "output_type": "stream",
          "text": [
            "None\n"
          ],
          "name": "stdout"
        },
        {
          "output_type": "stream",
          "text": [
            "2021-07-15 22:33:04,917 - INFO: lr: 0.06017 | Epoch: 006 | Batch: 040 | Loss: 2.14797 | Correct: 58/128\n"
          ],
          "name": "stderr"
        },
        {
          "output_type": "stream",
          "text": [
            "None\n"
          ],
          "name": "stdout"
        },
        {
          "output_type": "stream",
          "text": [
            "2021-07-15 22:33:07,445 - INFO: lr: 0.05000 | Epoch: 007 | Batch: 000 | Loss: 2.10057 | Correct: 61/128\n"
          ],
          "name": "stderr"
        },
        {
          "output_type": "stream",
          "text": [
            "None\n"
          ],
          "name": "stdout"
        },
        {
          "output_type": "stream",
          "text": [
            "2021-07-15 22:33:10,852 - INFO: lr: 0.03326 | Epoch: 007 | Batch: 010 | Loss: 2.30733 | Correct: 39/128\n"
          ],
          "name": "stderr"
        },
        {
          "output_type": "stream",
          "text": [
            "None\n"
          ],
          "name": "stdout"
        },
        {
          "output_type": "stream",
          "text": [
            "2021-07-15 22:33:14,277 - INFO: lr: 0.01845 | Epoch: 007 | Batch: 020 | Loss: 2.04928 | Correct: 50/128\n"
          ],
          "name": "stderr"
        },
        {
          "output_type": "stream",
          "text": [
            "None\n"
          ],
          "name": "stdout"
        },
        {
          "output_type": "stream",
          "text": [
            "2021-07-15 22:33:17,708 - INFO: lr: 0.00728 | Epoch: 007 | Batch: 030 | Loss: 1.91351 | Correct: 56/128\n"
          ],
          "name": "stderr"
        },
        {
          "output_type": "stream",
          "text": [
            "None\n"
          ],
          "name": "stdout"
        },
        {
          "output_type": "stream",
          "text": [
            "2021-07-15 22:33:21,142 - INFO: lr: 0.00105 | Epoch: 007 | Batch: 040 | Loss: 2.02478 | Correct: 57/128\n"
          ],
          "name": "stderr"
        },
        {
          "output_type": "stream",
          "text": [
            "None\n"
          ],
          "name": "stdout"
        },
        {
          "output_type": "stream",
          "text": [
            "2021-07-15 22:33:22,927 - INFO: Save the snapshot model with index: 3\n",
            "2021-07-15 22:33:23,891 - INFO: n_estimators: 4 | Validation Acc: 55.804 % | Historical Best: 55.804 %\n",
            "2021-07-15 22:33:24,652 - INFO: lr: 0.10000 | Epoch: 008 | Batch: 000 | Loss: 1.95209 | Correct: 60/128\n"
          ],
          "name": "stderr"
        },
        {
          "output_type": "stream",
          "text": [
            "None\n"
          ],
          "name": "stdout"
        },
        {
          "output_type": "stream",
          "text": [
            "2021-07-15 22:33:28,055 - INFO: lr: 0.09711 | Epoch: 008 | Batch: 010 | Loss: 2.08716 | Correct: 57/128\n"
          ],
          "name": "stderr"
        },
        {
          "output_type": "stream",
          "text": [
            "None\n"
          ],
          "name": "stdout"
        },
        {
          "output_type": "stream",
          "text": [
            "2021-07-15 22:33:31,465 - INFO: lr: 0.08879 | Epoch: 008 | Batch: 020 | Loss: 2.24677 | Correct: 51/128\n"
          ],
          "name": "stderr"
        },
        {
          "output_type": "stream",
          "text": [
            "None\n"
          ],
          "name": "stdout"
        },
        {
          "output_type": "stream",
          "text": [
            "2021-07-15 22:33:34,890 - INFO: lr: 0.07598 | Epoch: 008 | Batch: 030 | Loss: 2.34184 | Correct: 47/128\n"
          ],
          "name": "stderr"
        },
        {
          "output_type": "stream",
          "text": [
            "None\n"
          ],
          "name": "stdout"
        },
        {
          "output_type": "stream",
          "text": [
            "2021-07-15 22:33:38,313 - INFO: lr: 0.06017 | Epoch: 008 | Batch: 040 | Loss: 2.12843 | Correct: 55/128\n"
          ],
          "name": "stderr"
        },
        {
          "output_type": "stream",
          "text": [
            "None\n"
          ],
          "name": "stdout"
        },
        {
          "output_type": "stream",
          "text": [
            "2021-07-15 22:33:40,855 - INFO: lr: 0.05000 | Epoch: 009 | Batch: 000 | Loss: 2.00414 | Correct: 49/128\n"
          ],
          "name": "stderr"
        },
        {
          "output_type": "stream",
          "text": [
            "None\n"
          ],
          "name": "stdout"
        },
        {
          "output_type": "stream",
          "text": [
            "2021-07-15 22:33:44,309 - INFO: lr: 0.03326 | Epoch: 009 | Batch: 010 | Loss: 1.93386 | Correct: 64/128\n"
          ],
          "name": "stderr"
        },
        {
          "output_type": "stream",
          "text": [
            "None\n"
          ],
          "name": "stdout"
        },
        {
          "output_type": "stream",
          "text": [
            "2021-07-15 22:33:47,750 - INFO: lr: 0.01845 | Epoch: 009 | Batch: 020 | Loss: 1.96860 | Correct: 56/128\n"
          ],
          "name": "stderr"
        },
        {
          "output_type": "stream",
          "text": [
            "None\n"
          ],
          "name": "stdout"
        },
        {
          "output_type": "stream",
          "text": [
            "2021-07-15 22:33:51,183 - INFO: lr: 0.00728 | Epoch: 009 | Batch: 030 | Loss: 1.72208 | Correct: 66/128\n"
          ],
          "name": "stderr"
        },
        {
          "output_type": "stream",
          "text": [
            "None\n"
          ],
          "name": "stdout"
        },
        {
          "output_type": "stream",
          "text": [
            "2021-07-15 22:33:54,614 - INFO: lr: 0.00105 | Epoch: 009 | Batch: 040 | Loss: 1.80708 | Correct: 69/128\n"
          ],
          "name": "stderr"
        },
        {
          "output_type": "stream",
          "text": [
            "None\n"
          ],
          "name": "stdout"
        },
        {
          "output_type": "stream",
          "text": [
            "2021-07-15 22:33:56,409 - INFO: Save the snapshot model with index: 4\n",
            "2021-07-15 22:33:57,469 - INFO: n_estimators: 5 | Validation Acc: 57.701 % | Historical Best: 57.701 %\n"
          ],
          "name": "stderr"
        },
        {
          "output_type": "stream",
          "text": [
            "Group 4 Finished!\n",
            "Target number of exemplars: 50\n",
            "Randomly extracting exemplars from class 0 of current split... Extracted 50 exemplars.\n",
            "Randomly extracting exemplars from class 1 of current split... Extracted 50 exemplars.\n",
            "Randomly extracting exemplars from class 2 of current split... Extracted 50 exemplars.\n",
            "Randomly extracting exemplars from class 3 of current split... Extracted 50 exemplars.\n",
            "Randomly extracting exemplars from class 4 of current split... Extracted 50 exemplars.\n",
            "Randomly extracting exemplars from class 5 of current split... Extracted 50 exemplars.\n",
            "Randomly extracting exemplars from class 6 of current split... Extracted 50 exemplars.\n",
            "Randomly extracting exemplars from class 7 of current split... Extracted 50 exemplars.\n",
            "Randomly extracting exemplars from class 8 of current split... Extracted 50 exemplars.\n",
            "Randomly extracting exemplars from class 9 of current split... Extracted 50 exemplars.\n",
            "[0.43971774193548385, 0.6958417338709677, 0.8674647177419355, 0.9137600806451613, 0.9487903225806451, 0.9672883064516129, 0.9865171370967742]\n",
            "[0.1610383064516129, 0.1272681451612903, 0.07736895161290322, 0.0625, 0.046118951612903226, 0.03477822580645161, 0.021169354838709676]\n",
            "Testing on both open and closed world\n",
            "owr harmonic mean (threshold:0.25) = 0.23586246040144884\n",
            "owr harmonic mean (threshold:0.35) = 0.21532793433176928\n",
            "owr harmonic mean (threshold:0.5) = 0.14223689868255152\n",
            "owr harmonic mean (threshold:0.6) = 0.1171735377253501\n",
            "owr harmonic mean (threshold:0.75) = 0.08814452250150945\n",
            "owr harmonic mean (threshold:0.85) = 0.06732897230225493\n",
            "owr harmonic mean (threshold:0.95) = 0.04164101840191429\n",
            "\n",
            "=============================================\n",
            "\n",
            "Length of exemplars set: 2000\n"
          ],
          "name": "stdout"
        },
        {
          "output_type": "stream",
          "text": [
            "2021-07-15 22:34:35,800 - INFO: lr: 0.10000 | Epoch: 000 | Batch: 000 | Loss: 5.15646 | Correct: 1/128\n"
          ],
          "name": "stderr"
        },
        {
          "output_type": "stream",
          "text": [
            "None\n"
          ],
          "name": "stdout"
        },
        {
          "output_type": "stream",
          "text": [
            "2021-07-15 22:34:39,291 - INFO: lr: 0.09711 | Epoch: 000 | Batch: 010 | Loss: 3.29374 | Correct: 25/128\n"
          ],
          "name": "stderr"
        },
        {
          "output_type": "stream",
          "text": [
            "None\n"
          ],
          "name": "stdout"
        },
        {
          "output_type": "stream",
          "text": [
            "2021-07-15 22:34:42,785 - INFO: lr: 0.08879 | Epoch: 000 | Batch: 020 | Loss: 3.06466 | Correct: 30/128\n"
          ],
          "name": "stderr"
        },
        {
          "output_type": "stream",
          "text": [
            "None\n"
          ],
          "name": "stdout"
        },
        {
          "output_type": "stream",
          "text": [
            "2021-07-15 22:34:46,288 - INFO: lr: 0.07598 | Epoch: 000 | Batch: 030 | Loss: 2.78498 | Correct: 41/128\n"
          ],
          "name": "stderr"
        },
        {
          "output_type": "stream",
          "text": [
            "None\n"
          ],
          "name": "stdout"
        },
        {
          "output_type": "stream",
          "text": [
            "2021-07-15 22:34:49,780 - INFO: lr: 0.06017 | Epoch: 000 | Batch: 040 | Loss: 2.90386 | Correct: 36/128\n"
          ],
          "name": "stderr"
        },
        {
          "output_type": "stream",
          "text": [
            "None\n"
          ],
          "name": "stdout"
        },
        {
          "output_type": "stream",
          "text": [
            "2021-07-15 22:34:52,398 - INFO: lr: 0.05000 | Epoch: 001 | Batch: 000 | Loss: 2.83308 | Correct: 42/128\n"
          ],
          "name": "stderr"
        },
        {
          "output_type": "stream",
          "text": [
            "None\n"
          ],
          "name": "stdout"
        },
        {
          "output_type": "stream",
          "text": [
            "2021-07-15 22:34:55,880 - INFO: lr: 0.03326 | Epoch: 001 | Batch: 010 | Loss: 2.75958 | Correct: 40/128\n"
          ],
          "name": "stderr"
        },
        {
          "output_type": "stream",
          "text": [
            "None\n"
          ],
          "name": "stdout"
        },
        {
          "output_type": "stream",
          "text": [
            "2021-07-15 22:34:59,394 - INFO: lr: 0.01845 | Epoch: 001 | Batch: 020 | Loss: 2.61904 | Correct: 40/128\n"
          ],
          "name": "stderr"
        },
        {
          "output_type": "stream",
          "text": [
            "None\n"
          ],
          "name": "stdout"
        },
        {
          "output_type": "stream",
          "text": [
            "2021-07-15 22:35:02,887 - INFO: lr: 0.00728 | Epoch: 001 | Batch: 030 | Loss: 2.68381 | Correct: 44/128\n"
          ],
          "name": "stderr"
        },
        {
          "output_type": "stream",
          "text": [
            "None\n"
          ],
          "name": "stdout"
        },
        {
          "output_type": "stream",
          "text": [
            "2021-07-15 22:35:06,399 - INFO: lr: 0.00105 | Epoch: 001 | Batch: 040 | Loss: 2.67796 | Correct: 43/128\n"
          ],
          "name": "stderr"
        },
        {
          "output_type": "stream",
          "text": [
            "None\n"
          ],
          "name": "stdout"
        },
        {
          "output_type": "stream",
          "text": [
            "2021-07-15 22:35:08,238 - INFO: Save the snapshot model with index: 0\n",
            "2021-07-15 22:35:08,844 - INFO: n_estimators: 1 | Validation Acc: 49.107 % | Historical Best: 49.107 %\n",
            "2021-07-15 22:35:09,654 - INFO: lr: 0.10000 | Epoch: 002 | Batch: 000 | Loss: 2.54094 | Correct: 46/128\n"
          ],
          "name": "stderr"
        },
        {
          "output_type": "stream",
          "text": [
            "None\n"
          ],
          "name": "stdout"
        },
        {
          "output_type": "stream",
          "text": [
            "2021-07-15 22:35:13,142 - INFO: lr: 0.09711 | Epoch: 002 | Batch: 010 | Loss: 2.99099 | Correct: 36/128\n"
          ],
          "name": "stderr"
        },
        {
          "output_type": "stream",
          "text": [
            "None\n"
          ],
          "name": "stdout"
        },
        {
          "output_type": "stream",
          "text": [
            "2021-07-15 22:35:16,648 - INFO: lr: 0.08879 | Epoch: 002 | Batch: 020 | Loss: 3.07190 | Correct: 36/128\n"
          ],
          "name": "stderr"
        },
        {
          "output_type": "stream",
          "text": [
            "None\n"
          ],
          "name": "stdout"
        },
        {
          "output_type": "stream",
          "text": [
            "2021-07-15 22:35:20,145 - INFO: lr: 0.07598 | Epoch: 002 | Batch: 030 | Loss: 2.66600 | Correct: 39/128\n"
          ],
          "name": "stderr"
        },
        {
          "output_type": "stream",
          "text": [
            "None\n"
          ],
          "name": "stdout"
        },
        {
          "output_type": "stream",
          "text": [
            "2021-07-15 22:35:23,644 - INFO: lr: 0.06017 | Epoch: 002 | Batch: 040 | Loss: 2.63720 | Correct: 42/128\n"
          ],
          "name": "stderr"
        },
        {
          "output_type": "stream",
          "text": [
            "None\n"
          ],
          "name": "stdout"
        },
        {
          "output_type": "stream",
          "text": [
            "2021-07-15 22:35:26,275 - INFO: lr: 0.05000 | Epoch: 003 | Batch: 000 | Loss: 2.70876 | Correct: 45/128\n"
          ],
          "name": "stderr"
        },
        {
          "output_type": "stream",
          "text": [
            "None\n"
          ],
          "name": "stdout"
        },
        {
          "output_type": "stream",
          "text": [
            "2021-07-15 22:35:29,780 - INFO: lr: 0.03326 | Epoch: 003 | Batch: 010 | Loss: 2.58768 | Correct: 39/128\n"
          ],
          "name": "stderr"
        },
        {
          "output_type": "stream",
          "text": [
            "None\n"
          ],
          "name": "stdout"
        },
        {
          "output_type": "stream",
          "text": [
            "2021-07-15 22:35:33,269 - INFO: lr: 0.01845 | Epoch: 003 | Batch: 020 | Loss: 2.62998 | Correct: 50/128\n"
          ],
          "name": "stderr"
        },
        {
          "output_type": "stream",
          "text": [
            "None\n"
          ],
          "name": "stdout"
        },
        {
          "output_type": "stream",
          "text": [
            "2021-07-15 22:35:36,749 - INFO: lr: 0.00728 | Epoch: 003 | Batch: 030 | Loss: 2.31976 | Correct: 55/128\n"
          ],
          "name": "stderr"
        },
        {
          "output_type": "stream",
          "text": [
            "None\n"
          ],
          "name": "stdout"
        },
        {
          "output_type": "stream",
          "text": [
            "2021-07-15 22:35:40,241 - INFO: lr: 0.00105 | Epoch: 003 | Batch: 040 | Loss: 2.40112 | Correct: 51/128\n"
          ],
          "name": "stderr"
        },
        {
          "output_type": "stream",
          "text": [
            "None\n"
          ],
          "name": "stdout"
        },
        {
          "output_type": "stream",
          "text": [
            "2021-07-15 22:35:42,087 - INFO: Save the snapshot model with index: 1\n",
            "2021-07-15 22:35:42,787 - INFO: n_estimators: 2 | Validation Acc: 52.455 % | Historical Best: 52.455 %\n",
            "2021-07-15 22:35:43,623 - INFO: lr: 0.10000 | Epoch: 004 | Batch: 000 | Loss: 2.38026 | Correct: 51/128\n"
          ],
          "name": "stderr"
        },
        {
          "output_type": "stream",
          "text": [
            "None\n"
          ],
          "name": "stdout"
        },
        {
          "output_type": "stream",
          "text": [
            "2021-07-15 22:35:47,113 - INFO: lr: 0.09711 | Epoch: 004 | Batch: 010 | Loss: 2.77395 | Correct: 38/128\n"
          ],
          "name": "stderr"
        },
        {
          "output_type": "stream",
          "text": [
            "None\n"
          ],
          "name": "stdout"
        },
        {
          "output_type": "stream",
          "text": [
            "2021-07-15 22:35:50,604 - INFO: lr: 0.08879 | Epoch: 004 | Batch: 020 | Loss: 2.51971 | Correct: 39/128\n"
          ],
          "name": "stderr"
        },
        {
          "output_type": "stream",
          "text": [
            "None\n"
          ],
          "name": "stdout"
        },
        {
          "output_type": "stream",
          "text": [
            "2021-07-15 22:35:54,085 - INFO: lr: 0.07598 | Epoch: 004 | Batch: 030 | Loss: 2.59467 | Correct: 44/128\n"
          ],
          "name": "stderr"
        },
        {
          "output_type": "stream",
          "text": [
            "None\n"
          ],
          "name": "stdout"
        },
        {
          "output_type": "stream",
          "text": [
            "2021-07-15 22:35:57,573 - INFO: lr: 0.06017 | Epoch: 004 | Batch: 040 | Loss: 2.65731 | Correct: 39/128\n"
          ],
          "name": "stderr"
        },
        {
          "output_type": "stream",
          "text": [
            "None\n"
          ],
          "name": "stdout"
        },
        {
          "output_type": "stream",
          "text": [
            "2021-07-15 22:36:00,190 - INFO: lr: 0.05000 | Epoch: 005 | Batch: 000 | Loss: 2.34034 | Correct: 51/128\n"
          ],
          "name": "stderr"
        },
        {
          "output_type": "stream",
          "text": [
            "None\n"
          ],
          "name": "stdout"
        },
        {
          "output_type": "stream",
          "text": [
            "2021-07-15 22:36:03,694 - INFO: lr: 0.03326 | Epoch: 005 | Batch: 010 | Loss: 2.54106 | Correct: 43/128\n"
          ],
          "name": "stderr"
        },
        {
          "output_type": "stream",
          "text": [
            "None\n"
          ],
          "name": "stdout"
        },
        {
          "output_type": "stream",
          "text": [
            "2021-07-15 22:36:07,184 - INFO: lr: 0.01845 | Epoch: 005 | Batch: 020 | Loss: 2.30114 | Correct: 54/128\n"
          ],
          "name": "stderr"
        },
        {
          "output_type": "stream",
          "text": [
            "None\n"
          ],
          "name": "stdout"
        },
        {
          "output_type": "stream",
          "text": [
            "2021-07-15 22:36:10,679 - INFO: lr: 0.00728 | Epoch: 005 | Batch: 030 | Loss: 2.06781 | Correct: 58/128\n"
          ],
          "name": "stderr"
        },
        {
          "output_type": "stream",
          "text": [
            "None\n"
          ],
          "name": "stdout"
        },
        {
          "output_type": "stream",
          "text": [
            "2021-07-15 22:36:14,158 - INFO: lr: 0.00105 | Epoch: 005 | Batch: 040 | Loss: 2.22412 | Correct: 54/128\n"
          ],
          "name": "stderr"
        },
        {
          "output_type": "stream",
          "text": [
            "None\n"
          ],
          "name": "stdout"
        },
        {
          "output_type": "stream",
          "text": [
            "2021-07-15 22:36:15,995 - INFO: Save the snapshot model with index: 2\n",
            "2021-07-15 22:36:16,849 - INFO: n_estimators: 3 | Validation Acc: 55.804 % | Historical Best: 55.804 %\n",
            "2021-07-15 22:36:17,691 - INFO: lr: 0.10000 | Epoch: 006 | Batch: 000 | Loss: 2.43433 | Correct: 46/128\n"
          ],
          "name": "stderr"
        },
        {
          "output_type": "stream",
          "text": [
            "None\n"
          ],
          "name": "stdout"
        },
        {
          "output_type": "stream",
          "text": [
            "2021-07-15 22:36:21,174 - INFO: lr: 0.09711 | Epoch: 006 | Batch: 010 | Loss: 2.75617 | Correct: 42/128\n"
          ],
          "name": "stderr"
        },
        {
          "output_type": "stream",
          "text": [
            "None\n"
          ],
          "name": "stdout"
        },
        {
          "output_type": "stream",
          "text": [
            "2021-07-15 22:36:24,669 - INFO: lr: 0.08879 | Epoch: 006 | Batch: 020 | Loss: 2.49687 | Correct: 41/128\n"
          ],
          "name": "stderr"
        },
        {
          "output_type": "stream",
          "text": [
            "None\n"
          ],
          "name": "stdout"
        },
        {
          "output_type": "stream",
          "text": [
            "2021-07-15 22:36:28,156 - INFO: lr: 0.07598 | Epoch: 006 | Batch: 030 | Loss: 2.18852 | Correct: 57/128\n"
          ],
          "name": "stderr"
        },
        {
          "output_type": "stream",
          "text": [
            "None\n"
          ],
          "name": "stdout"
        },
        {
          "output_type": "stream",
          "text": [
            "2021-07-15 22:36:31,654 - INFO: lr: 0.06017 | Epoch: 006 | Batch: 040 | Loss: 2.33093 | Correct: 51/128\n"
          ],
          "name": "stderr"
        },
        {
          "output_type": "stream",
          "text": [
            "None\n"
          ],
          "name": "stdout"
        },
        {
          "output_type": "stream",
          "text": [
            "2021-07-15 22:36:34,260 - INFO: lr: 0.05000 | Epoch: 007 | Batch: 000 | Loss: 2.69653 | Correct: 38/128\n"
          ],
          "name": "stderr"
        },
        {
          "output_type": "stream",
          "text": [
            "None\n"
          ],
          "name": "stdout"
        },
        {
          "output_type": "stream",
          "text": [
            "2021-07-15 22:36:37,765 - INFO: lr: 0.03326 | Epoch: 007 | Batch: 010 | Loss: 2.05142 | Correct: 61/128\n"
          ],
          "name": "stderr"
        },
        {
          "output_type": "stream",
          "text": [
            "None\n"
          ],
          "name": "stdout"
        },
        {
          "output_type": "stream",
          "text": [
            "2021-07-15 22:36:41,261 - INFO: lr: 0.01845 | Epoch: 007 | Batch: 020 | Loss: 2.29903 | Correct: 51/128\n"
          ],
          "name": "stderr"
        },
        {
          "output_type": "stream",
          "text": [
            "None\n"
          ],
          "name": "stdout"
        },
        {
          "output_type": "stream",
          "text": [
            "2021-07-15 22:36:44,763 - INFO: lr: 0.00728 | Epoch: 007 | Batch: 030 | Loss: 2.06128 | Correct: 62/128\n"
          ],
          "name": "stderr"
        },
        {
          "output_type": "stream",
          "text": [
            "None\n"
          ],
          "name": "stdout"
        },
        {
          "output_type": "stream",
          "text": [
            "2021-07-15 22:36:48,259 - INFO: lr: 0.00105 | Epoch: 007 | Batch: 040 | Loss: 2.20184 | Correct: 55/128\n"
          ],
          "name": "stderr"
        },
        {
          "output_type": "stream",
          "text": [
            "None\n"
          ],
          "name": "stdout"
        },
        {
          "output_type": "stream",
          "text": [
            "2021-07-15 22:36:50,096 - INFO: Save the snapshot model with index: 3\n",
            "2021-07-15 22:36:51,047 - INFO: n_estimators: 4 | Validation Acc: 57.031 % | Historical Best: 57.031 %\n",
            "2021-07-15 22:36:51,884 - INFO: lr: 0.10000 | Epoch: 008 | Batch: 000 | Loss: 2.19764 | Correct: 53/128\n"
          ],
          "name": "stderr"
        },
        {
          "output_type": "stream",
          "text": [
            "None\n"
          ],
          "name": "stdout"
        },
        {
          "output_type": "stream",
          "text": [
            "2021-07-15 22:36:55,400 - INFO: lr: 0.09711 | Epoch: 008 | Batch: 010 | Loss: 2.41242 | Correct: 49/128\n"
          ],
          "name": "stderr"
        },
        {
          "output_type": "stream",
          "text": [
            "None\n"
          ],
          "name": "stdout"
        },
        {
          "output_type": "stream",
          "text": [
            "2021-07-15 22:36:58,875 - INFO: lr: 0.08879 | Epoch: 008 | Batch: 020 | Loss: 2.46680 | Correct: 48/128\n"
          ],
          "name": "stderr"
        },
        {
          "output_type": "stream",
          "text": [
            "None\n"
          ],
          "name": "stdout"
        },
        {
          "output_type": "stream",
          "text": [
            "2021-07-15 22:37:02,371 - INFO: lr: 0.07598 | Epoch: 008 | Batch: 030 | Loss: 2.38280 | Correct: 51/128\n"
          ],
          "name": "stderr"
        },
        {
          "output_type": "stream",
          "text": [
            "None\n"
          ],
          "name": "stdout"
        },
        {
          "output_type": "stream",
          "text": [
            "2021-07-15 22:37:05,852 - INFO: lr: 0.06017 | Epoch: 008 | Batch: 040 | Loss: 2.44145 | Correct: 53/128\n"
          ],
          "name": "stderr"
        },
        {
          "output_type": "stream",
          "text": [
            "None\n"
          ],
          "name": "stdout"
        },
        {
          "output_type": "stream",
          "text": [
            "2021-07-15 22:37:08,472 - INFO: lr: 0.05000 | Epoch: 009 | Batch: 000 | Loss: 2.25539 | Correct: 54/128\n"
          ],
          "name": "stderr"
        },
        {
          "output_type": "stream",
          "text": [
            "None\n"
          ],
          "name": "stdout"
        },
        {
          "output_type": "stream",
          "text": [
            "2021-07-15 22:37:11,973 - INFO: lr: 0.03326 | Epoch: 009 | Batch: 010 | Loss: 2.08443 | Correct: 58/128\n"
          ],
          "name": "stderr"
        },
        {
          "output_type": "stream",
          "text": [
            "None\n"
          ],
          "name": "stdout"
        },
        {
          "output_type": "stream",
          "text": [
            "2021-07-15 22:37:15,474 - INFO: lr: 0.01845 | Epoch: 009 | Batch: 020 | Loss: 2.00714 | Correct: 61/128\n"
          ],
          "name": "stderr"
        },
        {
          "output_type": "stream",
          "text": [
            "None\n"
          ],
          "name": "stdout"
        },
        {
          "output_type": "stream",
          "text": [
            "2021-07-15 22:37:18,968 - INFO: lr: 0.00728 | Epoch: 009 | Batch: 030 | Loss: 1.89876 | Correct: 66/128\n"
          ],
          "name": "stderr"
        },
        {
          "output_type": "stream",
          "text": [
            "None\n"
          ],
          "name": "stdout"
        },
        {
          "output_type": "stream",
          "text": [
            "2021-07-15 22:37:22,455 - INFO: lr: 0.00105 | Epoch: 009 | Batch: 040 | Loss: 1.85168 | Correct: 66/128\n"
          ],
          "name": "stderr"
        },
        {
          "output_type": "stream",
          "text": [
            "None\n"
          ],
          "name": "stdout"
        },
        {
          "output_type": "stream",
          "text": [
            "2021-07-15 22:37:24,292 - INFO: Save the snapshot model with index: 4\n",
            "2021-07-15 22:37:25,351 - INFO: n_estimators: 5 | Validation Acc: 59.933 % | Historical Best: 59.933 %\n"
          ],
          "name": "stderr"
        },
        {
          "output_type": "stream",
          "text": [
            "Group 5 Finished!\n",
            "Target number of exemplars: 40\n",
            "Randomly extracting exemplars from class 0 of current split... Extracted 40 exemplars.\n",
            "Randomly extracting exemplars from class 1 of current split... Extracted 40 exemplars.\n",
            "Randomly extracting exemplars from class 2 of current split... Extracted 40 exemplars.\n",
            "Randomly extracting exemplars from class 3 of current split... Extracted 40 exemplars.\n",
            "Randomly extracting exemplars from class 4 of current split... Extracted 40 exemplars.\n",
            "Randomly extracting exemplars from class 5 of current split... Extracted 40 exemplars.\n",
            "Randomly extracting exemplars from class 6 of current split... Extracted 40 exemplars.\n",
            "Randomly extracting exemplars from class 7 of current split... Extracted 40 exemplars.\n",
            "Randomly extracting exemplars from class 8 of current split... Extracted 40 exemplars.\n",
            "Randomly extracting exemplars from class 9 of current split... Extracted 40 exemplars.\n",
            "[0.5373487903225806, 0.7089717741935484, 0.8179435483870968, 0.85859375, 0.9138860887096775, 0.9483114919354839, 0.9853074596774194]\n",
            "[0.11678685897435898, 0.09955929487179487, 0.08193108974358974, 0.0733173076923077, 0.05809294871794872, 0.04447115384615385, 0.016626602564102564]\n",
            "Testing on both open and closed world\n",
            "owr harmonic mean (threshold:0.25) = 0.19201368908410818\n",
            "owr harmonic mean (threshold:0.35) = 0.17475671637368986\n",
            "owr harmonic mean (threshold:0.5) = 0.14910986464694323\n",
            "owr harmonic mean (threshold:0.6) = 0.13526925302933634\n",
            "owr harmonic mean (threshold:0.75) = 0.10941923975224642\n",
            "owr harmonic mean (threshold:0.85) = 0.08514105396724636\n",
            "owr harmonic mean (threshold:0.95) = 0.032894838251199376\n",
            "\n",
            "=============================================\n",
            "\n",
            "#################################\n",
            "\n",
            "\n"
          ],
          "name": "stdout"
        }
      ]
    },
    {
      "cell_type": "code",
      "metadata": {
        "id": "FlhjGZlYBYdR",
        "outputId": "7ee5a4ca-7a1c-479f-a94c-fbbe346b20e4",
        "colab": {
          "base_uri": "https://localhost:8080/",
          "height": 17
        }
      },
      "source": [
        "import json\n",
        "from google.colab import files\n",
        "\n",
        "\n",
        "predictions = [[logs[run_i]['predictions'][i].cpu().numpy() for i in range(len(logs[run_i]['predictions']))] for run_i in range(len(RANDOM_SEED))]\n",
        "prediction_list = []\n",
        "for pred in predictions[0]:\n",
        "  prediction_list.append(pred.tolist())\n",
        "\n",
        "with open('predictions.json', 'w') as f:\n",
        "  json.dump(prediction_list, f)\n",
        "f.close\n",
        "\n",
        "accuracies = []\n",
        "for i in range(len(REJECTION_THRESHOLD)):\n",
        "  tmp_list = []\n",
        "  for k in range(5):\n",
        "    tmp_list.append(logs[0]['test_accuracies'][k][i])\n",
        "  accuracies.append(tmp_list)\n",
        "\n",
        "with open('accuracies.json', 'w') as f:\n",
        "  json.dump(accuracies, f)\n",
        "f.close\n",
        "\n",
        "true_labels = [logs[run_i]['true_labels'].cpu().data.numpy().tolist() for run_i in range(len(RANDOM_SEED))]\n",
        "with open('true_labels.json', 'w') as f:\n",
        "  json.dump(true_labels, f)\n",
        "f.close\n",
        "\n",
        "files.download('true_labels.json')\n",
        "files.download('accuracies.json')\n",
        "files.download('predictions.json')"
      ],
      "execution_count": 9,
      "outputs": [
        {
          "output_type": "display_data",
          "data": {
            "application/javascript": [
              "\n",
              "    async function download(id, filename, size) {\n",
              "      if (!google.colab.kernel.accessAllowed) {\n",
              "        return;\n",
              "      }\n",
              "      const div = document.createElement('div');\n",
              "      const label = document.createElement('label');\n",
              "      label.textContent = `Downloading \"${filename}\": `;\n",
              "      div.appendChild(label);\n",
              "      const progress = document.createElement('progress');\n",
              "      progress.max = size;\n",
              "      div.appendChild(progress);\n",
              "      document.body.appendChild(div);\n",
              "\n",
              "      const buffers = [];\n",
              "      let downloaded = 0;\n",
              "\n",
              "      const channel = await google.colab.kernel.comms.open(id);\n",
              "      // Send a message to notify the kernel that we're ready.\n",
              "      channel.send({})\n",
              "\n",
              "      for await (const message of channel.messages) {\n",
              "        // Send a message to notify the kernel that we're ready.\n",
              "        channel.send({})\n",
              "        if (message.buffers) {\n",
              "          for (const buffer of message.buffers) {\n",
              "            buffers.push(buffer);\n",
              "            downloaded += buffer.byteLength;\n",
              "            progress.value = downloaded;\n",
              "          }\n",
              "        }\n",
              "      }\n",
              "      const blob = new Blob(buffers, {type: 'application/binary'});\n",
              "      const a = document.createElement('a');\n",
              "      a.href = window.URL.createObjectURL(blob);\n",
              "      a.download = filename;\n",
              "      div.appendChild(a);\n",
              "      a.click();\n",
              "      div.remove();\n",
              "    }\n",
              "  "
            ],
            "text/plain": [
              "<IPython.core.display.Javascript object>"
            ]
          },
          "metadata": {
            "tags": []
          }
        },
        {
          "output_type": "display_data",
          "data": {
            "application/javascript": [
              "download(\"download_86b0be39-3af6-4acd-80c0-0616e2ddfc29\", \"true_labels.json\", 172731)"
            ],
            "text/plain": [
              "<IPython.core.display.Javascript object>"
            ]
          },
          "metadata": {
            "tags": []
          }
        },
        {
          "output_type": "display_data",
          "data": {
            "application/javascript": [
              "\n",
              "    async function download(id, filename, size) {\n",
              "      if (!google.colab.kernel.accessAllowed) {\n",
              "        return;\n",
              "      }\n",
              "      const div = document.createElement('div');\n",
              "      const label = document.createElement('label');\n",
              "      label.textContent = `Downloading \"${filename}\": `;\n",
              "      div.appendChild(label);\n",
              "      const progress = document.createElement('progress');\n",
              "      progress.max = size;\n",
              "      div.appendChild(progress);\n",
              "      document.body.appendChild(div);\n",
              "\n",
              "      const buffers = [];\n",
              "      let downloaded = 0;\n",
              "\n",
              "      const channel = await google.colab.kernel.comms.open(id);\n",
              "      // Send a message to notify the kernel that we're ready.\n",
              "      channel.send({})\n",
              "\n",
              "      for await (const message of channel.messages) {\n",
              "        // Send a message to notify the kernel that we're ready.\n",
              "        channel.send({})\n",
              "        if (message.buffers) {\n",
              "          for (const buffer of message.buffers) {\n",
              "            buffers.push(buffer);\n",
              "            downloaded += buffer.byteLength;\n",
              "            progress.value = downloaded;\n",
              "          }\n",
              "        }\n",
              "      }\n",
              "      const blob = new Blob(buffers, {type: 'application/binary'});\n",
              "      const a = document.createElement('a');\n",
              "      a.href = window.URL.createObjectURL(blob);\n",
              "      a.download = filename;\n",
              "      div.appendChild(a);\n",
              "      a.click();\n",
              "      div.remove();\n",
              "    }\n",
              "  "
            ],
            "text/plain": [
              "<IPython.core.display.Javascript object>"
            ]
          },
          "metadata": {
            "tags": []
          }
        },
        {
          "output_type": "display_data",
          "data": {
            "application/javascript": [
              "download(\"download_7982ba17-79a0-40eb-9608-8a7f6e4e04f7\", \"accuracies.json\", 749)"
            ],
            "text/plain": [
              "<IPython.core.display.Javascript object>"
            ]
          },
          "metadata": {
            "tags": []
          }
        },
        {
          "output_type": "display_data",
          "data": {
            "application/javascript": [
              "\n",
              "    async function download(id, filename, size) {\n",
              "      if (!google.colab.kernel.accessAllowed) {\n",
              "        return;\n",
              "      }\n",
              "      const div = document.createElement('div');\n",
              "      const label = document.createElement('label');\n",
              "      label.textContent = `Downloading \"${filename}\": `;\n",
              "      div.appendChild(label);\n",
              "      const progress = document.createElement('progress');\n",
              "      progress.max = size;\n",
              "      div.appendChild(progress);\n",
              "      document.body.appendChild(div);\n",
              "\n",
              "      const buffers = [];\n",
              "      let downloaded = 0;\n",
              "\n",
              "      const channel = await google.colab.kernel.comms.open(id);\n",
              "      // Send a message to notify the kernel that we're ready.\n",
              "      channel.send({})\n",
              "\n",
              "      for await (const message of channel.messages) {\n",
              "        // Send a message to notify the kernel that we're ready.\n",
              "        channel.send({})\n",
              "        if (message.buffers) {\n",
              "          for (const buffer of message.buffers) {\n",
              "            buffers.push(buffer);\n",
              "            downloaded += buffer.byteLength;\n",
              "            progress.value = downloaded;\n",
              "          }\n",
              "        }\n",
              "      }\n",
              "      const blob = new Blob(buffers, {type: 'application/binary'});\n",
              "      const a = document.createElement('a');\n",
              "      a.href = window.URL.createObjectURL(blob);\n",
              "      a.download = filename;\n",
              "      div.appendChild(a);\n",
              "      a.click();\n",
              "      div.remove();\n",
              "    }\n",
              "  "
            ],
            "text/plain": [
              "<IPython.core.display.Javascript object>"
            ]
          },
          "metadata": {
            "tags": []
          }
        },
        {
          "output_type": "display_data",
          "data": {
            "application/javascript": [
              "download(\"download_d445a51b-6c50-43f4-b354-08366ace293f\", \"predictions.json\", 2133707)"
            ],
            "text/plain": [
              "<IPython.core.display.Javascript object>"
            ]
          },
          "metadata": {
            "tags": []
          }
        }
      ]
    },
    {
      "cell_type": "markdown",
      "metadata": {
        "id": "2NMLqiIS19IJ"
      },
      "source": [
        "### Print some graphs"
      ]
    },
    {
      "cell_type": "code",
      "metadata": {
        "id": "G6Mg2QiIBNRo"
      },
      "source": [
        "from data.utils_plot import plot_train_val, plot_test_accuracies, plot_confusion_matrix"
      ],
      "execution_count": 10,
      "outputs": []
    },
    {
      "cell_type": "code",
      "metadata": {
        "id": "ttyNLP2hGnLN"
      },
      "source": [
        "accuracies = np.array([accuracies])\n",
        "accuracies_stats = np.array([accuracies.mean(0), accuracies.std(0)])"
      ],
      "execution_count": 11,
      "outputs": []
    },
    {
      "cell_type": "markdown",
      "metadata": {
        "id": "llzylw_LF7e_"
      },
      "source": [
        "#### Test accuracy"
      ]
    },
    {
      "cell_type": "code",
      "metadata": {
        "colab": {
          "base_uri": "https://localhost:8080/",
          "height": 1000
        },
        "id": "NQfpluscGzX8",
        "outputId": "e25e5991-7d73-4811-c1e9-d75d1a8d84d5"
      },
      "source": [
        "def plot_test(stats, save_directory = None, title = \"\"):\n",
        "  mean = np.array(stats[0])\n",
        "  std = np.array(stats[1])\n",
        "  fig, ax = plt.subplots(figsize = (10, 5), dpi = 100)\n",
        "  x = np.arange(10, 51, 10)\n",
        "  ax.errorbar(x, mean, std)\n",
        "  ax.set_title(f\"Harmonic mean accuracy - threshold: {title}\")\n",
        "  ax.set_xlabel(\"Number of classes\")\n",
        "  ax.set_ylabel(\"Accuracy\")\n",
        "  plt.tight_layout()\n",
        "  if save_directory != None:\n",
        "    fig.savefig(save_directory)\n",
        "  plt.show()\n",
        "\n",
        "\n",
        "for i in range(len(REJECTION_THRESHOLD)):\n",
        "  plot_test(stats = [accuracies_stats[0][i],accuracies_stats[1][i]], title = REJECTION_THRESHOLD[i])"
      ],
      "execution_count": 12,
      "outputs": [
        {
          "output_type": "display_data",
          "data": {
            "image/png": "[encoded data removed]",
            "text/plain": [
              "<Figure size 1000x500 with 1 Axes>"
            ]
          },
          "metadata": {
            "tags": [],
            "needs_background": "light"
          }
        },
        {
          "output_type": "display_data",
          "data": {
            "image/png": "[encoded data removed]",
            "text/plain": [
              "<Figure size 1000x500 with 1 Axes>"
            ]
          },
          "metadata": {
            "tags": [],
            "needs_background": "light"
          }
        },
        {
          "output_type": "display_data",
          "data": {
            "image/png": "[encoded data removed]",
            "text/plain": [
              "<Figure size 1000x500 with 1 Axes>"
            ]
          },
          "metadata": {
            "tags": [],
            "needs_background": "light"
          }
        },
        {
          "output_type": "display_data",
          "data": {
            "image/png": "[encoded data removed]",
            "text/plain": [
              "<Figure size 1000x500 with 1 Axes>"
            ]
          },
          "metadata": {
            "tags": [],
            "needs_background": "light"
          }
        },
        {
          "output_type": "display_data",
          "data": {
            "image/png": "[encoded data removed]",
            "text/plain": [
              "<Figure size 1000x500 with 1 Axes>"
            ]
          },
          "metadata": {
            "tags": [],
            "needs_background": "light"
          }
        },
        {
          "output_type": "display_data",
          "data": {
            "image/png": "[encoded data removed]",
            "text/plain": [
              "<Figure size 1000x500 with 1 Axes>"
            ]
          },
          "metadata": {
            "tags": [],
            "needs_background": "light"
          }
        },
        {
          "output_type": "display_data",
          "data": {
            "image/png": "[encoded data removed]",
            "text/plain": [
              "<Figure size 1000x500 with 1 Axes>"
            ]
          },
          "metadata": {
            "tags": [],
            "needs_background": "light"
          }
        }
      ]
    },
    {
      "cell_type": "markdown",
      "metadata": {
        "id": "gN6cighYm1nG"
      },
      "source": [
        "#### Confusion Matrix"
      ]
    },
    {
      "cell_type": "code",
      "metadata": {
        "id": "LPG6aNRjm5Se",
        "colab": {
          "base_uri": "https://localhost:8080/",
          "height": 1000
        },
        "outputId": "1821eb00-6b36-47bd-db5d-6fa4388d7ef2"
      },
      "source": [
        "for i in range(len(REJECTION_THRESHOLD)):\n",
        "  targets = np.array(true_labels[0])\n",
        "  preds = np.array(predictions[0][i])\n",
        "  title = f\"Confusion matrix - Threshold: {REJECTION_THRESHOLD[i]}\"\n",
        "  plot_confusion_matrix(targets, preds, RANDOM_SEED[run], title)"
      ],
      "execution_count": 13,
      "outputs": [
        {
          "output_type": "display_data",
          "data": {
            "image/png": "[encoded data removed]",
            "text/plain": [
              "<Figure size 500x500 with 2 Axes>"
            ]
          },
          "metadata": {
            "tags": [],
            "needs_background": "light"
          }
        },
        {
          "output_type": "display_data",
          "data": {
            "image/png": "[encoded data removed]",
            "text/plain": [
              "<Figure size 500x500 with 2 Axes>"
            ]
          },
          "metadata": {
            "tags": [],
            "needs_background": "light"
          }
        },
        {
          "output_type": "display_data",
          "data": {
            "image/png": "[encoded data removed]",
            "text/plain": [
              "<Figure size 500x500 with 2 Axes>"
            ]
          },
          "metadata": {
            "tags": [],
            "needs_background": "light"
          }
        },
        {
          "output_type": "display_data",
          "data": {
            "image/png": "[encoded data removed]",
            "text/plain": [
              "<Figure size 500x500 with 2 Axes>"
            ]
          },
          "metadata": {
            "tags": [],
            "needs_background": "light"
          }
        },
        {
          "output_type": "display_data",
          "data": {
            "image/png": "[encoded data removed]",
            "text/plain": [
              "<Figure size 500x500 with 2 Axes>"
            ]
          },
          "metadata": {
            "tags": [],
            "needs_background": "light"
          }
        },
        {
          "output_type": "display_data",
          "data": {
            "image/png": "[encoded data removed]",
            "text/plain": [
              "<Figure size 500x500 with 2 Axes>"
            ]
          },
          "metadata": {
            "tags": [],
            "needs_background": "light"
          }
        },
        {
          "output_type": "display_data",
          "data": {
            "image/png": "[encoded data removed]",
            "text/plain": [
              "<Figure size 500x500 with 2 Axes>"
            ]
          },
          "metadata": {
            "tags": [],
            "needs_background": "light"
          }
        }
      ]
    }
  ]
}