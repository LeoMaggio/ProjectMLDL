{
  "nbformat": 4,
  "nbformat_minor": 0,
  "metadata": {
    "colab": {
      "name": "OWR-Ensembles.ipynb",
      "provenance": [],
      "include_colab_link": true
    },
    "kernelspec": {
      "name": "python3",
      "display_name": "Python 3"
    },
    "language_info": {
      "name": "python"
    },
    "accelerator": "GPU",
    "widgets": {
      "application/vnd.jupyter.widget-state+json": {
        "6315aab1ccd54310abce52aed8039518": {
          "model_module": "@jupyter-widgets/controls",
          "model_name": "HBoxModel",
          "state": {
            "_view_name": "HBoxView",
            "_dom_classes": [],
            "_model_name": "HBoxModel",
            "_view_module": "@jupyter-widgets/controls",
            "_model_module_version": "1.5.0",
            "_view_count": null,
            "_view_module_version": "1.5.0",
            "box_style": "",
            "layout": "IPY_MODEL_aa3559f64077494180d70f782b6e99ed",
            "_model_module": "@jupyter-widgets/controls",
            "children": [
              "IPY_MODEL_85f5ba6b9e87454e849a3a9626314524",
              "IPY_MODEL_e8051ad7235c43e0946da529158f5ebd"
            ]
          }
        },
        "aa3559f64077494180d70f782b6e99ed": {
          "model_module": "@jupyter-widgets/base",
          "model_name": "LayoutModel",
          "state": {
            "_view_name": "LayoutView",
            "grid_template_rows": null,
            "right": null,
            "justify_content": null,
            "_view_module": "@jupyter-widgets/base",
            "overflow": null,
            "_model_module_version": "1.2.0",
            "_view_count": null,
            "flex_flow": null,
            "width": null,
            "min_width": null,
            "border": null,
            "align_items": null,
            "bottom": null,
            "_model_module": "@jupyter-widgets/base",
            "top": null,
            "grid_column": null,
            "overflow_y": null,
            "overflow_x": null,
            "grid_auto_flow": null,
            "grid_area": null,
            "grid_template_columns": null,
            "flex": null,
            "_model_name": "LayoutModel",
            "justify_items": null,
            "grid_row": null,
            "max_height": null,
            "align_content": null,
            "visibility": null,
            "align_self": null,
            "height": null,
            "min_height": null,
            "padding": null,
            "grid_auto_rows": null,
            "grid_gap": null,
            "max_width": null,
            "order": null,
            "_view_module_version": "1.2.0",
            "grid_template_areas": null,
            "object_position": null,
            "object_fit": null,
            "grid_auto_columns": null,
            "margin": null,
            "display": null,
            "left": null
          }
        },
        "85f5ba6b9e87454e849a3a9626314524": {
          "model_module": "@jupyter-widgets/controls",
          "model_name": "FloatProgressModel",
          "state": {
            "_view_name": "ProgressView",
            "style": "IPY_MODEL_a6c19d3cfa8f493f9965ffd7b66bcfa1",
            "_dom_classes": [],
            "description": "",
            "_model_name": "FloatProgressModel",
            "bar_style": "success",
            "max": 169001437,
            "_view_module": "@jupyter-widgets/controls",
            "_model_module_version": "1.5.0",
            "value": 169001437,
            "_view_count": null,
            "_view_module_version": "1.5.0",
            "orientation": "horizontal",
            "min": 0,
            "description_tooltip": null,
            "_model_module": "@jupyter-widgets/controls",
            "layout": "IPY_MODEL_b15004be77a6413789d0a6b21a141102"
          }
        },
        "e8051ad7235c43e0946da529158f5ebd": {
          "model_module": "@jupyter-widgets/controls",
          "model_name": "HTMLModel",
          "state": {
            "_view_name": "HTMLView",
            "style": "IPY_MODEL_fd821d11b8a04901be4c308b64c72bf1",
            "_dom_classes": [],
            "description": "",
            "_model_name": "HTMLModel",
            "placeholder": "​",
            "_view_module": "@jupyter-widgets/controls",
            "_model_module_version": "1.5.0",
            "value": " 169001984/? [00:08&lt;00:00, 19151023.96it/s]",
            "_view_count": null,
            "_view_module_version": "1.5.0",
            "description_tooltip": null,
            "_model_module": "@jupyter-widgets/controls",
            "layout": "IPY_MODEL_f1b607ba77414822ac329e5c95e4a10c"
          }
        },
        "a6c19d3cfa8f493f9965ffd7b66bcfa1": {
          "model_module": "@jupyter-widgets/controls",
          "model_name": "ProgressStyleModel",
          "state": {
            "_view_name": "StyleView",
            "_model_name": "ProgressStyleModel",
            "description_width": "initial",
            "_view_module": "@jupyter-widgets/base",
            "_model_module_version": "1.5.0",
            "_view_count": null,
            "_view_module_version": "1.2.0",
            "bar_color": null,
            "_model_module": "@jupyter-widgets/controls"
          }
        },
        "b15004be77a6413789d0a6b21a141102": {
          "model_module": "@jupyter-widgets/base",
          "model_name": "LayoutModel",
          "state": {
            "_view_name": "LayoutView",
            "grid_template_rows": null,
            "right": null,
            "justify_content": null,
            "_view_module": "@jupyter-widgets/base",
            "overflow": null,
            "_model_module_version": "1.2.0",
            "_view_count": null,
            "flex_flow": null,
            "width": null,
            "min_width": null,
            "border": null,
            "align_items": null,
            "bottom": null,
            "_model_module": "@jupyter-widgets/base",
            "top": null,
            "grid_column": null,
            "overflow_y": null,
            "overflow_x": null,
            "grid_auto_flow": null,
            "grid_area": null,
            "grid_template_columns": null,
            "flex": null,
            "_model_name": "LayoutModel",
            "justify_items": null,
            "grid_row": null,
            "max_height": null,
            "align_content": null,
            "visibility": null,
            "align_self": null,
            "height": null,
            "min_height": null,
            "padding": null,
            "grid_auto_rows": null,
            "grid_gap": null,
            "max_width": null,
            "order": null,
            "_view_module_version": "1.2.0",
            "grid_template_areas": null,
            "object_position": null,
            "object_fit": null,
            "grid_auto_columns": null,
            "margin": null,
            "display": null,
            "left": null
          }
        },
        "fd821d11b8a04901be4c308b64c72bf1": {
          "model_module": "@jupyter-widgets/controls",
          "model_name": "DescriptionStyleModel",
          "state": {
            "_view_name": "StyleView",
            "_model_name": "DescriptionStyleModel",
            "description_width": "",
            "_view_module": "@jupyter-widgets/base",
            "_model_module_version": "1.5.0",
            "_view_count": null,
            "_view_module_version": "1.2.0",
            "_model_module": "@jupyter-widgets/controls"
          }
        },
        "f1b607ba77414822ac329e5c95e4a10c": {
          "model_module": "@jupyter-widgets/base",
          "model_name": "LayoutModel",
          "state": {
            "_view_name": "LayoutView",
            "grid_template_rows": null,
            "right": null,
            "justify_content": null,
            "_view_module": "@jupyter-widgets/base",
            "overflow": null,
            "_model_module_version": "1.2.0",
            "_view_count": null,
            "flex_flow": null,
            "width": null,
            "min_width": null,
            "border": null,
            "align_items": null,
            "bottom": null,
            "_model_module": "@jupyter-widgets/base",
            "top": null,
            "grid_column": null,
            "overflow_y": null,
            "overflow_x": null,
            "grid_auto_flow": null,
            "grid_area": null,
            "grid_template_columns": null,
            "flex": null,
            "_model_name": "LayoutModel",
            "justify_items": null,
            "grid_row": null,
            "max_height": null,
            "align_content": null,
            "visibility": null,
            "align_self": null,
            "height": null,
            "min_height": null,
            "padding": null,
            "grid_auto_rows": null,
            "grid_gap": null,
            "max_width": null,
            "order": null,
            "_view_module_version": "1.2.0",
            "grid_template_areas": null,
            "object_position": null,
            "object_fit": null,
            "grid_auto_columns": null,
            "margin": null,
            "display": null,
            "left": null
          }
        }
      }
    }
  },
  "cells": [
    {
      "cell_type": "markdown",
      "metadata": {
        "id": "view-in-github",
        "colab_type": "text"
      },
      "source": [
        "<a href=\"https://colab.research.google.com/github/cosminnedescu/ProjectMLDL/blob/main/owr/owr-ensebles-mean-ultimo.ipynb\" target=\"_parent\"><img src=\"https://colab.research.google.com/assets/colab-badge.svg\" alt=\"Open In Colab\"/></a>"
      ]
    },
    {
      "cell_type": "code",
      "metadata": {
        "id": "PF5bRIxnU-PW",
        "colab": {
          "base_uri": "https://localhost:8080/"
        },
        "outputId": "dd68fd9e-c1c1-457c-ab48-0772ece78529"
      },
      "source": [
        "# Avoid K80\n",
        "!nvidia-smi"
      ],
      "execution_count": 1,
      "outputs": [
        {
          "output_type": "stream",
          "text": [
            "Tue Jul 13 15:41:40 2021       \n",
            "+-----------------------------------------------------------------------------+\n",
            "| NVIDIA-SMI 470.42.01    Driver Version: 460.32.03    CUDA Version: 11.2     |\n",
            "|-------------------------------+----------------------+----------------------+\n",
            "| GPU  Name        Persistence-M| Bus-Id        Disp.A | Volatile Uncorr. ECC |\n",
            "| Fan  Temp  Perf  Pwr:Usage/Cap|         Memory-Usage | GPU-Util  Compute M. |\n",
            "|                               |                      |               MIG M. |\n",
            "|===============================+======================+======================|\n",
            "|   0  Tesla T4            Off  | 00000000:00:04.0 Off |                    0 |\n",
            "| N/A   67C    P8    11W /  70W |      0MiB / 15109MiB |      0%      Default |\n",
            "|                               |                      |                  N/A |\n",
            "+-------------------------------+----------------------+----------------------+\n",
            "                                                                               \n",
            "+-----------------------------------------------------------------------------+\n",
            "| Processes:                                                                  |\n",
            "|  GPU   GI   CI        PID   Type   Process name                  GPU Memory |\n",
            "|        ID   ID                                                   Usage      |\n",
            "|=============================================================================|\n",
            "|  No running processes found                                                 |\n",
            "+-----------------------------------------------------------------------------+\n"
          ],
          "name": "stdout"
        }
      ]
    },
    {
      "cell_type": "code",
      "metadata": {
        "id": "pJimWkPdQu6y"
      },
      "source": [
        "import os\n",
        "import random\n",
        "\n",
        "import torch\n",
        "import torch.nn as nn\n",
        "import torch.nn.init as init\n",
        "import torch.optim as optim\n",
        "from torch.autograd import Variable\n",
        "\n",
        "import torchvision\n",
        "from torchvision import transforms, datasets, models\n",
        "from torch.utils.data import Subset, DataLoader\n",
        "\n",
        "from PIL import Image\n",
        "\n",
        "import numpy as np\n",
        "import matplotlib \n",
        "import matplotlib.pyplot as plt\n",
        "from copy import copy\n",
        "from copy import deepcopy"
      ],
      "execution_count": 2,
      "outputs": []
    },
    {
      "cell_type": "markdown",
      "metadata": {
        "id": "7BZw-bZJ16ay"
      },
      "source": [
        "#### Cloning the Git repository"
      ]
    },
    {
      "cell_type": "code",
      "metadata": {
        "id": "yjntw1jZQ7Lg",
        "colab": {
          "base_uri": "https://localhost:8080/"
        },
        "outputId": "aa8e0e96-915d-4a5d-e7d2-1997e35bd0e8"
      },
      "source": [
        "!rm -rf ProjectMLDL\n",
        "if not os.path.isdir('/content/ProjectMLDL'):\n",
        "  !git clone https://github.com/cosminnedescu/ProjectMLDL.git\n",
        "  %cd /content/ProjectMLDL\n",
        "  !rm -rf LICENSE README.md"
      ],
      "execution_count": 3,
      "outputs": [
        {
          "output_type": "stream",
          "text": [
            "Cloning into 'ProjectMLDL'...\n",
            "remote: Enumerating objects: 3617, done.\u001b[K\n",
            "remote: Counting objects: 100% (1033/1033), done.\u001b[K\n",
            "remote: Compressing objects: 100% (469/469), done.\u001b[K\n",
            "remote: Total 3617 (delta 597), reused 935 (delta 547), pack-reused 2584\u001b[K\n",
            "Receiving objects: 100% (3617/3617), 183.93 MiB | 34.02 MiB/s, done.\n",
            "Resolving deltas: 100% (1982/1982), done.\n",
            "Checking out files: 100% (400/400), done.\n",
            "/content/ProjectMLDL\n"
          ],
          "name": "stdout"
        }
      ]
    },
    {
      "cell_type": "code",
      "metadata": {
        "id": "nvqmxRxo2lUW"
      },
      "source": [
        "from data.cifar100 import CIFAR100\n",
        "from model.resnet32_modified import resnet32\n",
        "import data.utils\n",
        "from model.owrEnsamble import owrEnsemble"
      ],
      "execution_count": 4,
      "outputs": []
    },
    {
      "cell_type": "code",
      "metadata": {
        "id": "XwomFTtQo1x-"
      },
      "source": [
        "# True mean and std of Cifar100 dataset (src=\"https://gist.github.com/weiaicunzai/e623931921efefd4c331622c344d8151\")\n",
        "mean = [0.5071, 0.4867, 0.4408]\n",
        "std = [0.2675, 0.2565, 0.2761]\n",
        "\n",
        "train_transform = transforms.Compose([\n",
        "    transforms.RandomCrop(32, padding=4),\n",
        "    transforms.RandomHorizontalFlip(),\n",
        "    transforms.ToTensor(),\n",
        "    transforms.Normalize(mean, std),\n",
        "])\n",
        "test_transform = transforms.Compose(\n",
        "    [transforms.ToTensor(), \n",
        "     transforms.Normalize(mean, std),\n",
        "     ])"
      ],
      "execution_count": 5,
      "outputs": []
    },
    {
      "cell_type": "markdown",
      "metadata": {
        "id": "yRoS-R_sRhHT"
      },
      "source": [
        "## Incremental Classifier and Representation Learning"
      ]
    },
    {
      "cell_type": "markdown",
      "metadata": {
        "id": "3ocVW0wM2Iw2"
      },
      "source": [
        "### Defining hyperparameters according to iCarl paper"
      ]
    },
    {
      "cell_type": "code",
      "metadata": {
        "id": "nmEo_9lnwyBk"
      },
      "source": [
        "# Settings\n",
        "DEVICE = 'cuda'\n",
        "NUM_CLASSES = 100         # Total number of classes\n",
        "VAL_SIZE = 0.2            # Proportion of validation set with respect to training set (between 0 and 1)\n",
        "\n",
        "# Training\n",
        "BATCH_SIZE = 128          # Batch size\n",
        "LR = 0.1                    # Initial learning rate\n",
        "                       \n",
        "MOMENTUM = 0.9            # Momentum for stochastic gradient descent (SGD)\n",
        "WEIGHT_DECAY = 1e-5       # Weight decay from iCaRL\n",
        "\n",
        "RANDOM_SEED = [20]  # Random seeds defining the runs of every method\n",
        "                          # Note: this should be at least 3 to have a fair benchmark\n",
        "\n",
        "NUM_EPOCHS = 70           # Total number of training epochs\n",
        "MILESTONES = [43, 63]     # Step down policy from iCaRL (MultiStepLR)\n",
        "                          # Decrease the learning rate by gamma at each milestone\n",
        "GAMMA = 0.2               # Gamma factor from iCaRL (1/5)\n",
        "\n",
        "HERDING = False           # True to perform prioritized selection, False to perform random selection\n",
        "CLASSIFY = True           # True to use mean-of-exemplar classifier, False to use network's output directly for classification\n",
        "\n",
        "REJECTION_THRESHOLD = [0.25,0.35,0.50,0.60,0.75,0.85,0.95]\n",
        "TESTING_MODE = 'harmonic' #open, closed, harmonic\n",
        "N_ESTIMATORS = 5\n",
        "CONFIDENCE = '0.900' #'0.6827': 1, '0.900':1.47, '0.950':1.94, '0.975':2.45, '0.990':3.36\n",
        "STRATEGY = 'mean' # mean, variance, hybrid\n",
        "    "
      ],
      "execution_count": 7,
      "outputs": []
    },
    {
      "cell_type": "code",
      "metadata": {
        "id": "rVh61C63FECy"
      },
      "source": [
        "def do_group_classes(run):\n",
        "\n",
        "  train_subset = [[] for i in range(10)]\n",
        "  train_dataloader = [[] for i in range(10)]\n",
        "  val_dataloader = [[] for i in range(10)]\n",
        "  test_dataloader = [[] for i in range(10)]\n",
        "\n",
        "  for i in range(10):\n",
        "    train_data = CIFAR100(\"dataset\", \n",
        "                          train=True, \n",
        "                          transform=train_transform, \n",
        "                          download=(run+i==0),\n",
        "                          random_state=RANDOM_SEED[run])\n",
        "    test_data = CIFAR100(\"dataset\", \n",
        "                         train=False, \n",
        "                         transform=test_transform, \n",
        "                         download=False,\n",
        "                         random_state=RANDOM_SEED[run])\n",
        "    \n",
        "    train_data.set_index_map(train_data.splits[i])\n",
        "    test_data.set_index_map([test_data.splits[j] for j in range(0, i+1)])\n",
        "    \n",
        "    train_indices, val_indices = train_data.train_val_split(VAL_SIZE, RANDOM_SEED[run])\n",
        "    \n",
        "    train_subset[i] = copy(Subset(train_data, train_indices))\n",
        "    val_subset = Subset(train_data, val_indices)\n",
        "\n",
        "    tmp_dl = DataLoader(val_subset,\n",
        "                       batch_size=BATCH_SIZE,\n",
        "                       shuffle=True, \n",
        "                       num_workers=4,\n",
        "                       drop_last=True)\n",
        "    val_dataloader[i] = copy(tmp_dl)\n",
        "\n",
        "    tmp_dl = DataLoader(test_data,\n",
        "                       batch_size=BATCH_SIZE,\n",
        "                       shuffle=True, \n",
        "                       num_workers=4,\n",
        "                       drop_last=True)\n",
        "    test_dataloader[i] = copy(tmp_dl)\n",
        "\n",
        "  return train_dataloader, val_dataloader, test_dataloader, train_subset"
      ],
      "execution_count": 8,
      "outputs": []
    },
    {
      "cell_type": "markdown",
      "metadata": {
        "id": "20APZIgI1eBy"
      },
      "source": [
        "### Going on with the model\n",
        "This is the main iCaRL step.\n",
        "\n",
        "This step is run 3 times with different `RANDOM_SEED`.\n",
        "Here the model is instantiated, trained and tested.\n",
        "\n",
        "Results and some statistics are then stored in the variable `logs`."
      ]
    },
    {
      "cell_type": "code",
      "metadata": {
        "id": "mJHKbipz0bMr",
        "colab": {
          "base_uri": "https://localhost:8080/",
          "height": 1000,
          "referenced_widgets": [
            "6315aab1ccd54310abce52aed8039518",
            "aa3559f64077494180d70f782b6e99ed",
            "85f5ba6b9e87454e849a3a9626314524",
            "e8051ad7235c43e0946da529158f5ebd",
            "a6c19d3cfa8f493f9965ffd7b66bcfa1",
            "b15004be77a6413789d0a6b21a141102",
            "fd821d11b8a04901be4c308b64c72bf1",
            "f1b607ba77414822ac329e5c95e4a10c"
          ]
        },
        "outputId": "f91bb6ab-79d3-4a8c-d3c2-df6ecf876f51"
      },
      "source": [
        "logs = [[] for i in range(len(RANDOM_SEED))]\n",
        "best_net_tot_classes = [None for i in range(len(RANDOM_SEED))]\n",
        "\n",
        "for run in range(len(RANDOM_SEED)):\n",
        "  print(\"#################################\")\n",
        "  print(f\"Radom seed: {RANDOM_SEED[run]}\")\n",
        "  print(\"\")\n",
        "\n",
        "  # get data_subsets separated in incremental groups of 10 classes\n",
        "  train_dl, val_dl, test_dl, train_set = do_group_classes(run)\n",
        "\n",
        "  #create the resnet\n",
        "  net = resnet32()\n",
        "  \n",
        "  trainer = owrEnsemble(DEVICE,\n",
        "                  net,\n",
        "                  LR,\n",
        "                  MOMENTUM,\n",
        "                  WEIGHT_DECAY,\n",
        "                  MILESTONES,\n",
        "                  GAMMA,\n",
        "                  train_dl,\n",
        "                  val_dl,\n",
        "                  test_dl,\n",
        "                  BATCH_SIZE,\n",
        "                  train_set,\n",
        "                  train_transform,\n",
        "                  test_transform,\n",
        "                  TESTING_MODE,\n",
        "                  REJECTION_THRESHOLD,\n",
        "                  N_ESTIMATORS,\n",
        "                  CONFIDENCE,\n",
        "                  STRATEGY) \n",
        "\n",
        "  #train and evaluate the model\n",
        "  logs[run] = trainer.train_model(NUM_EPOCHS)\n",
        "\n",
        "  best_net_tot_classes[run] = deepcopy(trainer.best_net)\n",
        "\n",
        "  print(\"#################################\")\n",
        "  print(\"\")\n",
        "  print(\"\")"
      ],
      "execution_count": 9,
      "outputs": [
        {
          "output_type": "stream",
          "text": [
            "#################################\n",
            "Radom seed: 20\n",
            "\n",
            "Downloading https://www.cs.toronto.edu/~kriz/cifar-100-python.tar.gz to dataset/cifar-100-python.tar.gz\n"
          ],
          "name": "stdout"
        },
        {
          "output_type": "display_data",
          "data": {
            "application/vnd.jupyter.widget-view+json": {
              "model_id": "6315aab1ccd54310abce52aed8039518",
              "version_minor": 0,
              "version_major": 2
            },
            "text/plain": [
              "HBox(children=(FloatProgress(value=0.0, max=169001437.0), HTML(value='')))"
            ]
          },
          "metadata": {
            "tags": []
          }
        },
        {
          "output_type": "stream",
          "text": [
            "\n",
            "Extracting dataset/cifar-100-python.tar.gz to dataset\n"
          ],
          "name": "stdout"
        },
        {
          "output_type": "stream",
          "text": [
            "/usr/local/lib/python3.7/dist-packages/torch/utils/data/dataloader.py:481: UserWarning: This DataLoader will create 4 worker processes in total. Our suggested max number of worker in current system is 2, which is smaller than what this DataLoader is going to create. Please be aware that excessive worker creation might get DataLoader running slow or even freeze, lower the worker number to avoid potential slowness/freeze if necessary.\n",
            "  cpuset_checked))\n"
          ],
          "name": "stderr"
        },
        {
          "output_type": "stream",
          "text": [
            "Log will be saved in '/content/ProjectMLDL/logs'.\n",
            "Create folder 'logs/'\n",
            "Start logging into file /content/ProjectMLDL/logs/classification_mnist_mlp-2021_07_13_15_42.log...\n",
            "Length of exemplars set: 0\n"
          ],
          "name": "stdout"
        },
        {
          "output_type": "stream",
          "text": [
            "2021-07-13 15:42:58,464 - INFO: lr: 0.10000 | Epoch: 000 | Batch: 000 | Loss: 2.32630 | Correct: 11/128\n"
          ],
          "name": "stderr"
        },
        {
          "output_type": "stream",
          "text": [
            "None\n"
          ],
          "name": "stdout"
        },
        {
          "output_type": "stream",
          "text": [
            "2021-07-13 15:43:00,587 - INFO: lr: 0.09875 | Epoch: 001 | Batch: 000 | Loss: 1.74150 | Correct: 52/128\n"
          ],
          "name": "stderr"
        },
        {
          "output_type": "stream",
          "text": [
            "None\n"
          ],
          "name": "stdout"
        },
        {
          "output_type": "stream",
          "text": [
            "2021-07-13 15:43:02,741 - INFO: lr: 0.09505 | Epoch: 002 | Batch: 000 | Loss: 1.46996 | Correct: 56/128\n"
          ],
          "name": "stderr"
        },
        {
          "output_type": "stream",
          "text": [
            "None\n"
          ],
          "name": "stdout"
        },
        {
          "output_type": "stream",
          "text": [
            "2021-07-13 15:43:04,951 - INFO: lr: 0.08909 | Epoch: 003 | Batch: 000 | Loss: 1.41944 | Correct: 62/128\n"
          ],
          "name": "stderr"
        },
        {
          "output_type": "stream",
          "text": [
            "None\n"
          ],
          "name": "stdout"
        },
        {
          "output_type": "stream",
          "text": [
            "2021-07-13 15:43:07,065 - INFO: lr: 0.08117 | Epoch: 004 | Batch: 000 | Loss: 1.29442 | Correct: 65/128\n"
          ],
          "name": "stderr"
        },
        {
          "output_type": "stream",
          "text": [
            "None\n"
          ],
          "name": "stdout"
        },
        {
          "output_type": "stream",
          "text": [
            "2021-07-13 15:43:09,261 - INFO: lr: 0.07169 | Epoch: 005 | Batch: 000 | Loss: 1.19522 | Correct: 65/128\n"
          ],
          "name": "stderr"
        },
        {
          "output_type": "stream",
          "text": [
            "None\n"
          ],
          "name": "stdout"
        },
        {
          "output_type": "stream",
          "text": [
            "2021-07-13 15:43:11,473 - INFO: lr: 0.06113 | Epoch: 006 | Batch: 000 | Loss: 1.19014 | Correct: 76/128\n"
          ],
          "name": "stderr"
        },
        {
          "output_type": "stream",
          "text": [
            "None\n"
          ],
          "name": "stdout"
        },
        {
          "output_type": "stream",
          "text": [
            "2021-07-13 15:43:13,665 - INFO: lr: 0.05000 | Epoch: 007 | Batch: 000 | Loss: 1.26948 | Correct: 67/128\n"
          ],
          "name": "stderr"
        },
        {
          "output_type": "stream",
          "text": [
            "None\n"
          ],
          "name": "stdout"
        },
        {
          "output_type": "stream",
          "text": [
            "2021-07-13 15:43:15,874 - INFO: lr: 0.03887 | Epoch: 008 | Batch: 000 | Loss: 0.99870 | Correct: 79/128\n"
          ],
          "name": "stderr"
        },
        {
          "output_type": "stream",
          "text": [
            "None\n"
          ],
          "name": "stdout"
        },
        {
          "output_type": "stream",
          "text": [
            "2021-07-13 15:43:18,039 - INFO: lr: 0.02831 | Epoch: 009 | Batch: 000 | Loss: 0.96223 | Correct: 81/128\n"
          ],
          "name": "stderr"
        },
        {
          "output_type": "stream",
          "text": [
            "None\n"
          ],
          "name": "stdout"
        },
        {
          "output_type": "stream",
          "text": [
            "2021-07-13 15:43:20,171 - INFO: lr: 0.01883 | Epoch: 010 | Batch: 000 | Loss: 0.89405 | Correct: 90/128\n"
          ],
          "name": "stderr"
        },
        {
          "output_type": "stream",
          "text": [
            "None\n"
          ],
          "name": "stdout"
        },
        {
          "output_type": "stream",
          "text": [
            "2021-07-13 15:43:22,341 - INFO: lr: 0.01091 | Epoch: 011 | Batch: 000 | Loss: 0.90012 | Correct: 91/128\n"
          ],
          "name": "stderr"
        },
        {
          "output_type": "stream",
          "text": [
            "None\n"
          ],
          "name": "stdout"
        },
        {
          "output_type": "stream",
          "text": [
            "2021-07-13 15:43:24,529 - INFO: lr: 0.00495 | Epoch: 012 | Batch: 000 | Loss: 0.80036 | Correct: 95/128\n"
          ],
          "name": "stderr"
        },
        {
          "output_type": "stream",
          "text": [
            "None\n"
          ],
          "name": "stdout"
        },
        {
          "output_type": "stream",
          "text": [
            "2021-07-13 15:43:26,804 - INFO: lr: 0.00125 | Epoch: 013 | Batch: 000 | Loss: 0.85122 | Correct: 88/128\n"
          ],
          "name": "stderr"
        },
        {
          "output_type": "stream",
          "text": [
            "None\n"
          ],
          "name": "stdout"
        },
        {
          "output_type": "stream",
          "text": [
            "2021-07-13 15:43:28,902 - INFO: Save the snapshot model with index: 0\n",
            "2021-07-13 15:43:29,630 - INFO: n_estimators: 1 | Validation Acc: 71.875 % | Historical Best: 71.875 %\n",
            "2021-07-13 15:43:30,018 - INFO: lr: 0.10000 | Epoch: 014 | Batch: 000 | Loss: 0.81939 | Correct: 90/128\n"
          ],
          "name": "stderr"
        },
        {
          "output_type": "stream",
          "text": [
            "None\n"
          ],
          "name": "stdout"
        },
        {
          "output_type": "stream",
          "text": [
            "2021-07-13 15:43:32,277 - INFO: lr: 0.09875 | Epoch: 015 | Batch: 000 | Loss: 1.22722 | Correct: 65/128\n"
          ],
          "name": "stderr"
        },
        {
          "output_type": "stream",
          "text": [
            "None\n"
          ],
          "name": "stdout"
        },
        {
          "output_type": "stream",
          "text": [
            "2021-07-13 15:43:34,514 - INFO: lr: 0.09505 | Epoch: 016 | Batch: 000 | Loss: 0.87721 | Correct: 86/128\n"
          ],
          "name": "stderr"
        },
        {
          "output_type": "stream",
          "text": [
            "None\n"
          ],
          "name": "stdout"
        },
        {
          "output_type": "stream",
          "text": [
            "2021-07-13 15:43:36,717 - INFO: lr: 0.08909 | Epoch: 017 | Batch: 000 | Loss: 0.87054 | Correct: 88/128\n"
          ],
          "name": "stderr"
        },
        {
          "output_type": "stream",
          "text": [
            "None\n"
          ],
          "name": "stdout"
        },
        {
          "output_type": "stream",
          "text": [
            "2021-07-13 15:43:38,909 - INFO: lr: 0.08117 | Epoch: 018 | Batch: 000 | Loss: 0.75646 | Correct: 93/128\n"
          ],
          "name": "stderr"
        },
        {
          "output_type": "stream",
          "text": [
            "None\n"
          ],
          "name": "stdout"
        },
        {
          "output_type": "stream",
          "text": [
            "2021-07-13 15:43:41,076 - INFO: lr: 0.07169 | Epoch: 019 | Batch: 000 | Loss: 0.73781 | Correct: 97/128\n"
          ],
          "name": "stderr"
        },
        {
          "output_type": "stream",
          "text": [
            "None\n"
          ],
          "name": "stdout"
        },
        {
          "output_type": "stream",
          "text": [
            "2021-07-13 15:43:43,287 - INFO: lr: 0.06113 | Epoch: 020 | Batch: 000 | Loss: 0.71555 | Correct: 95/128\n"
          ],
          "name": "stderr"
        },
        {
          "output_type": "stream",
          "text": [
            "None\n"
          ],
          "name": "stdout"
        },
        {
          "output_type": "stream",
          "text": [
            "2021-07-13 15:43:45,440 - INFO: lr: 0.05000 | Epoch: 021 | Batch: 000 | Loss: 0.71283 | Correct: 94/128\n"
          ],
          "name": "stderr"
        },
        {
          "output_type": "stream",
          "text": [
            "None\n"
          ],
          "name": "stdout"
        },
        {
          "output_type": "stream",
          "text": [
            "2021-07-13 15:43:47,655 - INFO: lr: 0.03887 | Epoch: 022 | Batch: 000 | Loss: 0.62977 | Correct: 106/128\n"
          ],
          "name": "stderr"
        },
        {
          "output_type": "stream",
          "text": [
            "None\n"
          ],
          "name": "stdout"
        },
        {
          "output_type": "stream",
          "text": [
            "2021-07-13 15:43:49,841 - INFO: lr: 0.02831 | Epoch: 023 | Batch: 000 | Loss: 0.58981 | Correct: 101/128\n"
          ],
          "name": "stderr"
        },
        {
          "output_type": "stream",
          "text": [
            "None\n"
          ],
          "name": "stdout"
        },
        {
          "output_type": "stream",
          "text": [
            "2021-07-13 15:43:52,045 - INFO: lr: 0.01883 | Epoch: 024 | Batch: 000 | Loss: 0.43066 | Correct: 109/128\n"
          ],
          "name": "stderr"
        },
        {
          "output_type": "stream",
          "text": [
            "None\n"
          ],
          "name": "stdout"
        },
        {
          "output_type": "stream",
          "text": [
            "2021-07-13 15:43:54,215 - INFO: lr: 0.01091 | Epoch: 025 | Batch: 000 | Loss: 0.44423 | Correct: 113/128\n"
          ],
          "name": "stderr"
        },
        {
          "output_type": "stream",
          "text": [
            "None\n"
          ],
          "name": "stdout"
        },
        {
          "output_type": "stream",
          "text": [
            "2021-07-13 15:43:56,565 - INFO: lr: 0.00495 | Epoch: 026 | Batch: 000 | Loss: 0.34190 | Correct: 115/128\n"
          ],
          "name": "stderr"
        },
        {
          "output_type": "stream",
          "text": [
            "None\n"
          ],
          "name": "stdout"
        },
        {
          "output_type": "stream",
          "text": [
            "2021-07-13 15:43:58,751 - INFO: lr: 0.00125 | Epoch: 027 | Batch: 000 | Loss: 0.43858 | Correct: 111/128\n"
          ],
          "name": "stderr"
        },
        {
          "output_type": "stream",
          "text": [
            "None\n"
          ],
          "name": "stdout"
        },
        {
          "output_type": "stream",
          "text": [
            "2021-07-13 15:44:00,586 - INFO: Save the snapshot model with index: 1\n",
            "2021-07-13 15:44:01,266 - INFO: n_estimators: 2 | Validation Acc: 79.911 % | Historical Best: 79.911 %\n",
            "2021-07-13 15:44:01,698 - INFO: lr: 0.10000 | Epoch: 028 | Batch: 000 | Loss: 0.44078 | Correct: 106/128\n"
          ],
          "name": "stderr"
        },
        {
          "output_type": "stream",
          "text": [
            "None\n"
          ],
          "name": "stdout"
        },
        {
          "output_type": "stream",
          "text": [
            "2021-07-13 15:44:03,906 - INFO: lr: 0.09875 | Epoch: 029 | Batch: 000 | Loss: 0.89138 | Correct: 91/128\n"
          ],
          "name": "stderr"
        },
        {
          "output_type": "stream",
          "text": [
            "None\n"
          ],
          "name": "stdout"
        },
        {
          "output_type": "stream",
          "text": [
            "2021-07-13 15:44:06,037 - INFO: lr: 0.09505 | Epoch: 030 | Batch: 000 | Loss: 0.47891 | Correct: 108/128\n"
          ],
          "name": "stderr"
        },
        {
          "output_type": "stream",
          "text": [
            "None\n"
          ],
          "name": "stdout"
        },
        {
          "output_type": "stream",
          "text": [
            "2021-07-13 15:44:08,329 - INFO: lr: 0.08909 | Epoch: 031 | Batch: 000 | Loss: 0.54091 | Correct: 104/128\n"
          ],
          "name": "stderr"
        },
        {
          "output_type": "stream",
          "text": [
            "None\n"
          ],
          "name": "stdout"
        },
        {
          "output_type": "stream",
          "text": [
            "2021-07-13 15:44:10,465 - INFO: lr: 0.08117 | Epoch: 032 | Batch: 000 | Loss: 0.48572 | Correct: 110/128\n"
          ],
          "name": "stderr"
        },
        {
          "output_type": "stream",
          "text": [
            "None\n"
          ],
          "name": "stdout"
        },
        {
          "output_type": "stream",
          "text": [
            "2021-07-13 15:44:12,693 - INFO: lr: 0.07169 | Epoch: 033 | Batch: 000 | Loss: 0.45360 | Correct: 107/128\n"
          ],
          "name": "stderr"
        },
        {
          "output_type": "stream",
          "text": [
            "None\n"
          ],
          "name": "stdout"
        },
        {
          "output_type": "stream",
          "text": [
            "2021-07-13 15:44:14,894 - INFO: lr: 0.06113 | Epoch: 034 | Batch: 000 | Loss: 0.30520 | Correct: 114/128\n"
          ],
          "name": "stderr"
        },
        {
          "output_type": "stream",
          "text": [
            "None\n"
          ],
          "name": "stdout"
        },
        {
          "output_type": "stream",
          "text": [
            "2021-07-13 15:44:17,127 - INFO: lr: 0.05000 | Epoch: 035 | Batch: 000 | Loss: 0.40642 | Correct: 110/128\n"
          ],
          "name": "stderr"
        },
        {
          "output_type": "stream",
          "text": [
            "None\n"
          ],
          "name": "stdout"
        },
        {
          "output_type": "stream",
          "text": [
            "2021-07-13 15:44:19,294 - INFO: lr: 0.03887 | Epoch: 036 | Batch: 000 | Loss: 0.24098 | Correct: 119/128\n"
          ],
          "name": "stderr"
        },
        {
          "output_type": "stream",
          "text": [
            "None\n"
          ],
          "name": "stdout"
        },
        {
          "output_type": "stream",
          "text": [
            "2021-07-13 15:44:21,586 - INFO: lr: 0.02831 | Epoch: 037 | Batch: 000 | Loss: 0.22422 | Correct: 119/128\n"
          ],
          "name": "stderr"
        },
        {
          "output_type": "stream",
          "text": [
            "None\n"
          ],
          "name": "stdout"
        },
        {
          "output_type": "stream",
          "text": [
            "2021-07-13 15:44:23,751 - INFO: lr: 0.01883 | Epoch: 038 | Batch: 000 | Loss: 0.24559 | Correct: 117/128\n"
          ],
          "name": "stderr"
        },
        {
          "output_type": "stream",
          "text": [
            "None\n"
          ],
          "name": "stdout"
        },
        {
          "output_type": "stream",
          "text": [
            "2021-07-13 15:44:25,966 - INFO: lr: 0.01091 | Epoch: 039 | Batch: 000 | Loss: 0.21813 | Correct: 119/128\n"
          ],
          "name": "stderr"
        },
        {
          "output_type": "stream",
          "text": [
            "None\n"
          ],
          "name": "stdout"
        },
        {
          "output_type": "stream",
          "text": [
            "2021-07-13 15:44:28,146 - INFO: lr: 0.00495 | Epoch: 040 | Batch: 000 | Loss: 0.22550 | Correct: 117/128\n"
          ],
          "name": "stderr"
        },
        {
          "output_type": "stream",
          "text": [
            "None\n"
          ],
          "name": "stdout"
        },
        {
          "output_type": "stream",
          "text": [
            "2021-07-13 15:44:30,409 - INFO: lr: 0.00125 | Epoch: 041 | Batch: 000 | Loss: 0.19465 | Correct: 119/128\n"
          ],
          "name": "stderr"
        },
        {
          "output_type": "stream",
          "text": [
            "None\n"
          ],
          "name": "stdout"
        },
        {
          "output_type": "stream",
          "text": [
            "2021-07-13 15:44:32,218 - INFO: Save the snapshot model with index: 2\n",
            "2021-07-13 15:44:33,040 - INFO: n_estimators: 3 | Validation Acc: 82.254 % | Historical Best: 82.254 %\n",
            "2021-07-13 15:44:33,421 - INFO: lr: 0.10000 | Epoch: 042 | Batch: 000 | Loss: 0.28382 | Correct: 117/128\n"
          ],
          "name": "stderr"
        },
        {
          "output_type": "stream",
          "text": [
            "None\n"
          ],
          "name": "stdout"
        },
        {
          "output_type": "stream",
          "text": [
            "2021-07-13 15:44:35,630 - INFO: lr: 0.09875 | Epoch: 043 | Batch: 000 | Loss: 0.66757 | Correct: 102/128\n"
          ],
          "name": "stderr"
        },
        {
          "output_type": "stream",
          "text": [
            "None\n"
          ],
          "name": "stdout"
        },
        {
          "output_type": "stream",
          "text": [
            "2021-07-13 15:44:37,803 - INFO: lr: 0.09505 | Epoch: 044 | Batch: 000 | Loss: 0.48251 | Correct: 108/128\n"
          ],
          "name": "stderr"
        },
        {
          "output_type": "stream",
          "text": [
            "None\n"
          ],
          "name": "stdout"
        },
        {
          "output_type": "stream",
          "text": [
            "2021-07-13 15:44:40,002 - INFO: lr: 0.08909 | Epoch: 045 | Batch: 000 | Loss: 0.40580 | Correct: 114/128\n"
          ],
          "name": "stderr"
        },
        {
          "output_type": "stream",
          "text": [
            "None\n"
          ],
          "name": "stdout"
        },
        {
          "output_type": "stream",
          "text": [
            "2021-07-13 15:44:42,257 - INFO: lr: 0.08117 | Epoch: 046 | Batch: 000 | Loss: 0.33115 | Correct: 115/128\n"
          ],
          "name": "stderr"
        },
        {
          "output_type": "stream",
          "text": [
            "None\n"
          ],
          "name": "stdout"
        },
        {
          "output_type": "stream",
          "text": [
            "2021-07-13 15:44:44,365 - INFO: lr: 0.07169 | Epoch: 047 | Batch: 000 | Loss: 0.29975 | Correct: 112/128\n"
          ],
          "name": "stderr"
        },
        {
          "output_type": "stream",
          "text": [
            "None\n"
          ],
          "name": "stdout"
        },
        {
          "output_type": "stream",
          "text": [
            "2021-07-13 15:44:46,997 - INFO: lr: 0.06113 | Epoch: 048 | Batch: 000 | Loss: 0.29913 | Correct: 115/128\n"
          ],
          "name": "stderr"
        },
        {
          "output_type": "stream",
          "text": [
            "None\n"
          ],
          "name": "stdout"
        },
        {
          "output_type": "stream",
          "text": [
            "2021-07-13 15:44:49,305 - INFO: lr: 0.05000 | Epoch: 049 | Batch: 000 | Loss: 0.28517 | Correct: 116/128\n"
          ],
          "name": "stderr"
        },
        {
          "output_type": "stream",
          "text": [
            "None\n"
          ],
          "name": "stdout"
        },
        {
          "output_type": "stream",
          "text": [
            "2021-07-13 15:44:51,524 - INFO: lr: 0.03887 | Epoch: 050 | Batch: 000 | Loss: 0.22602 | Correct: 118/128\n"
          ],
          "name": "stderr"
        },
        {
          "output_type": "stream",
          "text": [
            "None\n"
          ],
          "name": "stdout"
        },
        {
          "output_type": "stream",
          "text": [
            "2021-07-13 15:44:53,697 - INFO: lr: 0.02831 | Epoch: 051 | Batch: 000 | Loss: 0.19469 | Correct: 120/128\n"
          ],
          "name": "stderr"
        },
        {
          "output_type": "stream",
          "text": [
            "None\n"
          ],
          "name": "stdout"
        },
        {
          "output_type": "stream",
          "text": [
            "2021-07-13 15:44:55,862 - INFO: lr: 0.01883 | Epoch: 052 | Batch: 000 | Loss: 0.09939 | Correct: 125/128\n"
          ],
          "name": "stderr"
        },
        {
          "output_type": "stream",
          "text": [
            "None\n"
          ],
          "name": "stdout"
        },
        {
          "output_type": "stream",
          "text": [
            "2021-07-13 15:44:58,094 - INFO: lr: 0.01091 | Epoch: 053 | Batch: 000 | Loss: 0.13987 | Correct: 123/128\n"
          ],
          "name": "stderr"
        },
        {
          "output_type": "stream",
          "text": [
            "None\n"
          ],
          "name": "stdout"
        },
        {
          "output_type": "stream",
          "text": [
            "2021-07-13 15:45:00,383 - INFO: lr: 0.00495 | Epoch: 054 | Batch: 000 | Loss: 0.10061 | Correct: 125/128\n"
          ],
          "name": "stderr"
        },
        {
          "output_type": "stream",
          "text": [
            "None\n"
          ],
          "name": "stdout"
        },
        {
          "output_type": "stream",
          "text": [
            "2021-07-13 15:45:02,600 - INFO: lr: 0.00125 | Epoch: 055 | Batch: 000 | Loss: 0.10279 | Correct: 125/128\n"
          ],
          "name": "stderr"
        },
        {
          "output_type": "stream",
          "text": [
            "None\n"
          ],
          "name": "stdout"
        },
        {
          "output_type": "stream",
          "text": [
            "2021-07-13 15:45:04,408 - INFO: Save the snapshot model with index: 3\n",
            "2021-07-13 15:45:05,345 - INFO: n_estimators: 4 | Validation Acc: 85.491 % | Historical Best: 85.491 %\n",
            "2021-07-13 15:45:05,764 - INFO: lr: 0.10000 | Epoch: 056 | Batch: 000 | Loss: 0.12475 | Correct: 125/128\n"
          ],
          "name": "stderr"
        },
        {
          "output_type": "stream",
          "text": [
            "None\n"
          ],
          "name": "stdout"
        },
        {
          "output_type": "stream",
          "text": [
            "2021-07-13 15:45:07,949 - INFO: lr: 0.09875 | Epoch: 057 | Batch: 000 | Loss: 0.39298 | Correct: 111/128\n"
          ],
          "name": "stderr"
        },
        {
          "output_type": "stream",
          "text": [
            "None\n"
          ],
          "name": "stdout"
        },
        {
          "output_type": "stream",
          "text": [
            "2021-07-13 15:45:10,158 - INFO: lr: 0.09505 | Epoch: 058 | Batch: 000 | Loss: 0.25049 | Correct: 119/128\n"
          ],
          "name": "stderr"
        },
        {
          "output_type": "stream",
          "text": [
            "None\n"
          ],
          "name": "stdout"
        },
        {
          "output_type": "stream",
          "text": [
            "2021-07-13 15:45:12,386 - INFO: lr: 0.08909 | Epoch: 059 | Batch: 000 | Loss: 0.27312 | Correct: 114/128\n"
          ],
          "name": "stderr"
        },
        {
          "output_type": "stream",
          "text": [
            "None\n"
          ],
          "name": "stdout"
        },
        {
          "output_type": "stream",
          "text": [
            "2021-07-13 15:45:14,585 - INFO: lr: 0.08117 | Epoch: 060 | Batch: 000 | Loss: 0.22472 | Correct: 119/128\n"
          ],
          "name": "stderr"
        },
        {
          "output_type": "stream",
          "text": [
            "None\n"
          ],
          "name": "stdout"
        },
        {
          "output_type": "stream",
          "text": [
            "2021-07-13 15:45:16,677 - INFO: lr: 0.07169 | Epoch: 061 | Batch: 000 | Loss: 0.23421 | Correct: 119/128\n"
          ],
          "name": "stderr"
        },
        {
          "output_type": "stream",
          "text": [
            "None\n"
          ],
          "name": "stdout"
        },
        {
          "output_type": "stream",
          "text": [
            "2021-07-13 15:45:18,839 - INFO: lr: 0.06113 | Epoch: 062 | Batch: 000 | Loss: 0.21878 | Correct: 115/128\n"
          ],
          "name": "stderr"
        },
        {
          "output_type": "stream",
          "text": [
            "None\n"
          ],
          "name": "stdout"
        },
        {
          "output_type": "stream",
          "text": [
            "2021-07-13 15:45:21,149 - INFO: lr: 0.05000 | Epoch: 063 | Batch: 000 | Loss: 0.11851 | Correct: 124/128\n"
          ],
          "name": "stderr"
        },
        {
          "output_type": "stream",
          "text": [
            "None\n"
          ],
          "name": "stdout"
        },
        {
          "output_type": "stream",
          "text": [
            "2021-07-13 15:45:23,336 - INFO: lr: 0.03887 | Epoch: 064 | Batch: 000 | Loss: 0.15905 | Correct: 121/128\n"
          ],
          "name": "stderr"
        },
        {
          "output_type": "stream",
          "text": [
            "None\n"
          ],
          "name": "stdout"
        },
        {
          "output_type": "stream",
          "text": [
            "2021-07-13 15:45:25,452 - INFO: lr: 0.02831 | Epoch: 065 | Batch: 000 | Loss: 0.07634 | Correct: 125/128\n"
          ],
          "name": "stderr"
        },
        {
          "output_type": "stream",
          "text": [
            "None\n"
          ],
          "name": "stdout"
        },
        {
          "output_type": "stream",
          "text": [
            "2021-07-13 15:45:27,772 - INFO: lr: 0.01883 | Epoch: 066 | Batch: 000 | Loss: 0.15398 | Correct: 122/128\n"
          ],
          "name": "stderr"
        },
        {
          "output_type": "stream",
          "text": [
            "None\n"
          ],
          "name": "stdout"
        },
        {
          "output_type": "stream",
          "text": [
            "2021-07-13 15:45:30,010 - INFO: lr: 0.01091 | Epoch: 067 | Batch: 000 | Loss: 0.07190 | Correct: 126/128\n"
          ],
          "name": "stderr"
        },
        {
          "output_type": "stream",
          "text": [
            "None\n"
          ],
          "name": "stdout"
        },
        {
          "output_type": "stream",
          "text": [
            "2021-07-13 15:45:32,308 - INFO: lr: 0.00495 | Epoch: 068 | Batch: 000 | Loss: 0.06888 | Correct: 126/128\n"
          ],
          "name": "stderr"
        },
        {
          "output_type": "stream",
          "text": [
            "None\n"
          ],
          "name": "stdout"
        },
        {
          "output_type": "stream",
          "text": [
            "2021-07-13 15:45:34,542 - INFO: lr: 0.00125 | Epoch: 069 | Batch: 000 | Loss: 0.06838 | Correct: 127/128\n"
          ],
          "name": "stderr"
        },
        {
          "output_type": "stream",
          "text": [
            "None\n"
          ],
          "name": "stdout"
        },
        {
          "output_type": "stream",
          "text": [
            "2021-07-13 15:45:36,389 - INFO: Save the snapshot model with index: 4\n",
            "2021-07-13 15:45:37,439 - INFO: n_estimators: 5 | Validation Acc: 87.165 % | Historical Best: 87.165 %\n"
          ],
          "name": "stderr"
        },
        {
          "output_type": "stream",
          "text": [
            "Group 1 Finished!\n",
            "Target number of exemplars: 200\n",
            "Randomly extracting exemplars from class 0 of current split... Extracted 200 exemplars.\n",
            "Randomly extracting exemplars from class 1 of current split... Extracted 200 exemplars.\n",
            "Randomly extracting exemplars from class 2 of current split... Extracted 200 exemplars.\n",
            "Randomly extracting exemplars from class 3 of current split... Extracted 200 exemplars.\n",
            "Randomly extracting exemplars from class 4 of current split... Extracted 200 exemplars.\n",
            "Randomly extracting exemplars from class 5 of current split... Extracted 200 exemplars.\n",
            "Randomly extracting exemplars from class 6 of current split... Extracted 200 exemplars.\n",
            "Randomly extracting exemplars from class 7 of current split... Extracted 200 exemplars.\n",
            "Randomly extracting exemplars from class 8 of current split... Extracted 200 exemplars.\n",
            "Randomly extracting exemplars from class 9 of current split... Extracted 200 exemplars.\n",
            "[0.002066532258064516, 0.033744959677419355, 0.18971774193548388, 0.32283266129032256, 0.5034526209677419, 0.6345514112903226, 0.8124495967741936]\n",
            "[0.8381696428571429, 0.8348214285714286, 0.8102678571428571, 0.7790178571428571, 0.7232142857142857, 0.6618303571428571, 0.5078125]\n",
            "Testing on both open and closed world\n",
            "owr harmonic mean (threshold:0.25) = 0.004122899384705035\n",
            "owr harmonic mean (threshold:0.35) = 0.06486784620294876\n",
            "owr harmonic mean (threshold:0.5) = 0.30744880398623253\n",
            "owr harmonic mean (threshold:0.6) = 0.4564909736971082\n",
            "owr harmonic mean (threshold:0.75) = 0.5936479180791209\n",
            "owr harmonic mean (threshold:0.85) = 0.6479038773699396\n",
            "owr harmonic mean (threshold:0.95) = 0.6249850872337176\n",
            "\n",
            "=============================================\n",
            "\n",
            "Length of exemplars set: 2000\n"
          ],
          "name": "stdout"
        },
        {
          "output_type": "stream",
          "text": [
            "2021-07-13 15:46:13,075 - INFO: lr: 0.10000 | Epoch: 000 | Batch: 000 | Loss: 3.98303 | Correct: 3/128\n"
          ],
          "name": "stderr"
        },
        {
          "output_type": "stream",
          "text": [
            "None\n"
          ],
          "name": "stdout"
        },
        {
          "output_type": "stream",
          "text": [
            "2021-07-13 15:46:28,481 - INFO: lr: 0.09875 | Epoch: 001 | Batch: 000 | Loss: 2.43739 | Correct: 35/128\n"
          ],
          "name": "stderr"
        },
        {
          "output_type": "stream",
          "text": [
            "None\n"
          ],
          "name": "stdout"
        },
        {
          "output_type": "stream",
          "text": [
            "2021-07-13 15:46:43,918 - INFO: lr: 0.09505 | Epoch: 002 | Batch: 000 | Loss: 2.09875 | Correct: 49/128\n"
          ],
          "name": "stderr"
        },
        {
          "output_type": "stream",
          "text": [
            "None\n"
          ],
          "name": "stdout"
        },
        {
          "output_type": "stream",
          "text": [
            "2021-07-13 15:46:59,415 - INFO: lr: 0.08909 | Epoch: 003 | Batch: 000 | Loss: 2.16023 | Correct: 35/128\n"
          ],
          "name": "stderr"
        },
        {
          "output_type": "stream",
          "text": [
            "None\n"
          ],
          "name": "stdout"
        },
        {
          "output_type": "stream",
          "text": [
            "2021-07-13 15:47:14,854 - INFO: lr: 0.08117 | Epoch: 004 | Batch: 000 | Loss: 2.23016 | Correct: 34/128\n"
          ],
          "name": "stderr"
        },
        {
          "output_type": "stream",
          "text": [
            "None\n"
          ],
          "name": "stdout"
        },
        {
          "output_type": "stream",
          "text": [
            "2021-07-13 15:47:30,288 - INFO: lr: 0.07169 | Epoch: 005 | Batch: 000 | Loss: 1.81779 | Correct: 57/128\n"
          ],
          "name": "stderr"
        },
        {
          "output_type": "stream",
          "text": [
            "None\n"
          ],
          "name": "stdout"
        },
        {
          "output_type": "stream",
          "text": [
            "2021-07-13 15:47:45,741 - INFO: lr: 0.06113 | Epoch: 006 | Batch: 000 | Loss: 1.59252 | Correct: 64/128\n"
          ],
          "name": "stderr"
        },
        {
          "output_type": "stream",
          "text": [
            "None\n"
          ],
          "name": "stdout"
        },
        {
          "output_type": "stream",
          "text": [
            "2021-07-13 15:48:01,124 - INFO: lr: 0.05000 | Epoch: 007 | Batch: 000 | Loss: 1.56606 | Correct: 61/128\n"
          ],
          "name": "stderr"
        },
        {
          "output_type": "stream",
          "text": [
            "None\n"
          ],
          "name": "stdout"
        },
        {
          "output_type": "stream",
          "text": [
            "2021-07-13 15:48:16,562 - INFO: lr: 0.03887 | Epoch: 008 | Batch: 000 | Loss: 1.76373 | Correct: 53/128\n"
          ],
          "name": "stderr"
        },
        {
          "output_type": "stream",
          "text": [
            "None\n"
          ],
          "name": "stdout"
        },
        {
          "output_type": "stream",
          "text": [
            "2021-07-13 15:48:31,986 - INFO: lr: 0.02831 | Epoch: 009 | Batch: 000 | Loss: 1.34996 | Correct: 71/128\n"
          ],
          "name": "stderr"
        },
        {
          "output_type": "stream",
          "text": [
            "None\n"
          ],
          "name": "stdout"
        },
        {
          "output_type": "stream",
          "text": [
            "2021-07-13 15:48:47,430 - INFO: lr: 0.01883 | Epoch: 010 | Batch: 000 | Loss: 1.29055 | Correct: 76/128\n"
          ],
          "name": "stderr"
        },
        {
          "output_type": "stream",
          "text": [
            "None\n"
          ],
          "name": "stdout"
        },
        {
          "output_type": "stream",
          "text": [
            "2021-07-13 15:49:02,861 - INFO: lr: 0.01091 | Epoch: 011 | Batch: 000 | Loss: 1.20046 | Correct: 78/128\n"
          ],
          "name": "stderr"
        },
        {
          "output_type": "stream",
          "text": [
            "None\n"
          ],
          "name": "stdout"
        },
        {
          "output_type": "stream",
          "text": [
            "2021-07-13 15:49:18,325 - INFO: lr: 0.00495 | Epoch: 012 | Batch: 000 | Loss: 1.19452 | Correct: 81/128\n"
          ],
          "name": "stderr"
        },
        {
          "output_type": "stream",
          "text": [
            "None\n"
          ],
          "name": "stdout"
        },
        {
          "output_type": "stream",
          "text": [
            "2021-07-13 15:49:33,745 - INFO: lr: 0.00125 | Epoch: 013 | Batch: 000 | Loss: 1.06143 | Correct: 83/128\n"
          ],
          "name": "stderr"
        },
        {
          "output_type": "stream",
          "text": [
            "None\n"
          ],
          "name": "stdout"
        },
        {
          "output_type": "stream",
          "text": [
            "2021-07-13 15:49:48,505 - INFO: Save the snapshot model with index: 0\n",
            "2021-07-13 15:49:49,098 - INFO: n_estimators: 1 | Validation Acc: 65.625 % | Historical Best: 65.625 %\n",
            "2021-07-13 15:49:49,857 - INFO: lr: 0.10000 | Epoch: 014 | Batch: 000 | Loss: 1.13053 | Correct: 86/128\n"
          ],
          "name": "stderr"
        },
        {
          "output_type": "stream",
          "text": [
            "None\n"
          ],
          "name": "stdout"
        },
        {
          "output_type": "stream",
          "text": [
            "2021-07-13 15:50:05,254 - INFO: lr: 0.09875 | Epoch: 015 | Batch: 000 | Loss: 1.71370 | Correct: 54/128\n"
          ],
          "name": "stderr"
        },
        {
          "output_type": "stream",
          "text": [
            "None\n"
          ],
          "name": "stdout"
        },
        {
          "output_type": "stream",
          "text": [
            "2021-07-13 15:50:20,739 - INFO: lr: 0.09505 | Epoch: 016 | Batch: 000 | Loss: 1.29823 | Correct: 77/128\n"
          ],
          "name": "stderr"
        },
        {
          "output_type": "stream",
          "text": [
            "None\n"
          ],
          "name": "stdout"
        },
        {
          "output_type": "stream",
          "text": [
            "2021-07-13 15:50:36,185 - INFO: lr: 0.08909 | Epoch: 017 | Batch: 000 | Loss: 1.13321 | Correct: 82/128\n"
          ],
          "name": "stderr"
        },
        {
          "output_type": "stream",
          "text": [
            "None\n"
          ],
          "name": "stdout"
        },
        {
          "output_type": "stream",
          "text": [
            "2021-07-13 15:50:51,626 - INFO: lr: 0.08117 | Epoch: 018 | Batch: 000 | Loss: 1.31240 | Correct: 77/128\n"
          ],
          "name": "stderr"
        },
        {
          "output_type": "stream",
          "text": [
            "None\n"
          ],
          "name": "stdout"
        },
        {
          "output_type": "stream",
          "text": [
            "2021-07-13 15:51:07,072 - INFO: lr: 0.07169 | Epoch: 019 | Batch: 000 | Loss: 1.14934 | Correct: 73/128\n"
          ],
          "name": "stderr"
        },
        {
          "output_type": "stream",
          "text": [
            "None\n"
          ],
          "name": "stdout"
        },
        {
          "output_type": "stream",
          "text": [
            "2021-07-13 15:51:22,528 - INFO: lr: 0.06113 | Epoch: 020 | Batch: 000 | Loss: 0.91498 | Correct: 88/128\n"
          ],
          "name": "stderr"
        },
        {
          "output_type": "stream",
          "text": [
            "None\n"
          ],
          "name": "stdout"
        },
        {
          "output_type": "stream",
          "text": [
            "2021-07-13 15:51:37,978 - INFO: lr: 0.05000 | Epoch: 021 | Batch: 000 | Loss: 1.00646 | Correct: 82/128\n"
          ],
          "name": "stderr"
        },
        {
          "output_type": "stream",
          "text": [
            "None\n"
          ],
          "name": "stdout"
        },
        {
          "output_type": "stream",
          "text": [
            "2021-07-13 15:51:53,416 - INFO: lr: 0.03887 | Epoch: 022 | Batch: 000 | Loss: 0.80357 | Correct: 97/128\n"
          ],
          "name": "stderr"
        },
        {
          "output_type": "stream",
          "text": [
            "None\n"
          ],
          "name": "stdout"
        },
        {
          "output_type": "stream",
          "text": [
            "2021-07-13 15:52:08,843 - INFO: lr: 0.02831 | Epoch: 023 | Batch: 000 | Loss: 1.01719 | Correct: 86/128\n"
          ],
          "name": "stderr"
        },
        {
          "output_type": "stream",
          "text": [
            "None\n"
          ],
          "name": "stdout"
        },
        {
          "output_type": "stream",
          "text": [
            "2021-07-13 15:52:24,249 - INFO: lr: 0.01883 | Epoch: 024 | Batch: 000 | Loss: 0.77127 | Correct: 99/128\n"
          ],
          "name": "stderr"
        },
        {
          "output_type": "stream",
          "text": [
            "None\n"
          ],
          "name": "stdout"
        },
        {
          "output_type": "stream",
          "text": [
            "2021-07-13 15:52:39,686 - INFO: lr: 0.01091 | Epoch: 025 | Batch: 000 | Loss: 0.74106 | Correct: 98/128\n"
          ],
          "name": "stderr"
        },
        {
          "output_type": "stream",
          "text": [
            "None\n"
          ],
          "name": "stdout"
        },
        {
          "output_type": "stream",
          "text": [
            "2021-07-13 15:52:55,120 - INFO: lr: 0.00495 | Epoch: 026 | Batch: 000 | Loss: 0.67239 | Correct: 100/128\n"
          ],
          "name": "stderr"
        },
        {
          "output_type": "stream",
          "text": [
            "None\n"
          ],
          "name": "stdout"
        },
        {
          "output_type": "stream",
          "text": [
            "2021-07-13 15:53:10,530 - INFO: lr: 0.00125 | Epoch: 027 | Batch: 000 | Loss: 0.59627 | Correct: 103/128\n"
          ],
          "name": "stderr"
        },
        {
          "output_type": "stream",
          "text": [
            "None\n"
          ],
          "name": "stdout"
        },
        {
          "output_type": "stream",
          "text": [
            "2021-07-13 15:53:25,285 - INFO: Save the snapshot model with index: 1\n",
            "2021-07-13 15:53:26,012 - INFO: n_estimators: 2 | Validation Acc: 72.768 % | Historical Best: 72.768 %\n",
            "2021-07-13 15:53:26,778 - INFO: lr: 0.10000 | Epoch: 028 | Batch: 000 | Loss: 0.67919 | Correct: 101/128\n"
          ],
          "name": "stderr"
        },
        {
          "output_type": "stream",
          "text": [
            "None\n"
          ],
          "name": "stdout"
        },
        {
          "output_type": "stream",
          "text": [
            "2021-07-13 15:53:42,225 - INFO: lr: 0.09875 | Epoch: 029 | Batch: 000 | Loss: 1.11504 | Correct: 83/128\n"
          ],
          "name": "stderr"
        },
        {
          "output_type": "stream",
          "text": [
            "None\n"
          ],
          "name": "stdout"
        },
        {
          "output_type": "stream",
          "text": [
            "2021-07-13 15:53:57,694 - INFO: lr: 0.09505 | Epoch: 030 | Batch: 000 | Loss: 0.98167 | Correct: 89/128\n"
          ],
          "name": "stderr"
        },
        {
          "output_type": "stream",
          "text": [
            "None\n"
          ],
          "name": "stdout"
        },
        {
          "output_type": "stream",
          "text": [
            "2021-07-13 15:54:13,151 - INFO: lr: 0.08909 | Epoch: 031 | Batch: 000 | Loss: 0.90941 | Correct: 92/128\n"
          ],
          "name": "stderr"
        },
        {
          "output_type": "stream",
          "text": [
            "None\n"
          ],
          "name": "stdout"
        },
        {
          "output_type": "stream",
          "text": [
            "2021-07-13 15:54:28,613 - INFO: lr: 0.08117 | Epoch: 032 | Batch: 000 | Loss: 0.88754 | Correct: 94/128\n"
          ],
          "name": "stderr"
        },
        {
          "output_type": "stream",
          "text": [
            "None\n"
          ],
          "name": "stdout"
        },
        {
          "output_type": "stream",
          "text": [
            "2021-07-13 15:54:44,046 - INFO: lr: 0.07169 | Epoch: 033 | Batch: 000 | Loss: 0.85873 | Correct: 94/128\n"
          ],
          "name": "stderr"
        },
        {
          "output_type": "stream",
          "text": [
            "None\n"
          ],
          "name": "stdout"
        },
        {
          "output_type": "stream",
          "text": [
            "2021-07-13 15:54:59,610 - INFO: lr: 0.06113 | Epoch: 034 | Batch: 000 | Loss: 0.59075 | Correct: 104/128\n"
          ],
          "name": "stderr"
        },
        {
          "output_type": "stream",
          "text": [
            "None\n"
          ],
          "name": "stdout"
        },
        {
          "output_type": "stream",
          "text": [
            "2021-07-13 15:55:15,065 - INFO: lr: 0.05000 | Epoch: 035 | Batch: 000 | Loss: 0.62384 | Correct: 100/128\n"
          ],
          "name": "stderr"
        },
        {
          "output_type": "stream",
          "text": [
            "None\n"
          ],
          "name": "stdout"
        },
        {
          "output_type": "stream",
          "text": [
            "2021-07-13 15:55:30,482 - INFO: lr: 0.03887 | Epoch: 036 | Batch: 000 | Loss: 0.61811 | Correct: 103/128\n"
          ],
          "name": "stderr"
        },
        {
          "output_type": "stream",
          "text": [
            "None\n"
          ],
          "name": "stdout"
        },
        {
          "output_type": "stream",
          "text": [
            "2021-07-13 15:55:45,909 - INFO: lr: 0.02831 | Epoch: 037 | Batch: 000 | Loss: 0.40881 | Correct: 114/128\n"
          ],
          "name": "stderr"
        },
        {
          "output_type": "stream",
          "text": [
            "None\n"
          ],
          "name": "stdout"
        },
        {
          "output_type": "stream",
          "text": [
            "2021-07-13 15:56:01,322 - INFO: lr: 0.01883 | Epoch: 038 | Batch: 000 | Loss: 0.35654 | Correct: 112/128\n"
          ],
          "name": "stderr"
        },
        {
          "output_type": "stream",
          "text": [
            "None\n"
          ],
          "name": "stdout"
        },
        {
          "output_type": "stream",
          "text": [
            "2021-07-13 15:56:16,723 - INFO: lr: 0.01091 | Epoch: 039 | Batch: 000 | Loss: 0.51868 | Correct: 108/128\n"
          ],
          "name": "stderr"
        },
        {
          "output_type": "stream",
          "text": [
            "None\n"
          ],
          "name": "stdout"
        },
        {
          "output_type": "stream",
          "text": [
            "2021-07-13 15:56:32,151 - INFO: lr: 0.00495 | Epoch: 040 | Batch: 000 | Loss: 0.47571 | Correct: 111/128\n"
          ],
          "name": "stderr"
        },
        {
          "output_type": "stream",
          "text": [
            "None\n"
          ],
          "name": "stdout"
        },
        {
          "output_type": "stream",
          "text": [
            "2021-07-13 15:56:47,566 - INFO: lr: 0.00125 | Epoch: 041 | Batch: 000 | Loss: 0.38705 | Correct: 112/128\n"
          ],
          "name": "stderr"
        },
        {
          "output_type": "stream",
          "text": [
            "None\n"
          ],
          "name": "stdout"
        },
        {
          "output_type": "stream",
          "text": [
            "2021-07-13 15:57:02,251 - INFO: Save the snapshot model with index: 2\n",
            "2021-07-13 15:57:03,052 - INFO: n_estimators: 3 | Validation Acc: 75.223 % | Historical Best: 75.223 %\n",
            "2021-07-13 15:57:03,780 - INFO: lr: 0.10000 | Epoch: 042 | Batch: 000 | Loss: 0.30250 | Correct: 115/128\n"
          ],
          "name": "stderr"
        },
        {
          "output_type": "stream",
          "text": [
            "None\n"
          ],
          "name": "stdout"
        },
        {
          "output_type": "stream",
          "text": [
            "2021-07-13 15:57:19,156 - INFO: lr: 0.09875 | Epoch: 043 | Batch: 000 | Loss: 0.77576 | Correct: 98/128\n"
          ],
          "name": "stderr"
        },
        {
          "output_type": "stream",
          "text": [
            "None\n"
          ],
          "name": "stdout"
        },
        {
          "output_type": "stream",
          "text": [
            "2021-07-13 15:57:34,623 - INFO: lr: 0.09505 | Epoch: 044 | Batch: 000 | Loss: 0.70240 | Correct: 94/128\n"
          ],
          "name": "stderr"
        },
        {
          "output_type": "stream",
          "text": [
            "None\n"
          ],
          "name": "stdout"
        },
        {
          "output_type": "stream",
          "text": [
            "2021-07-13 15:57:50,063 - INFO: lr: 0.08909 | Epoch: 045 | Batch: 000 | Loss: 0.82443 | Correct: 96/128\n"
          ],
          "name": "stderr"
        },
        {
          "output_type": "stream",
          "text": [
            "None\n"
          ],
          "name": "stdout"
        },
        {
          "output_type": "stream",
          "text": [
            "2021-07-13 15:58:05,462 - INFO: lr: 0.08117 | Epoch: 046 | Batch: 000 | Loss: 0.55645 | Correct: 107/128\n"
          ],
          "name": "stderr"
        },
        {
          "output_type": "stream",
          "text": [
            "None\n"
          ],
          "name": "stdout"
        },
        {
          "output_type": "stream",
          "text": [
            "2021-07-13 15:58:20,918 - INFO: lr: 0.07169 | Epoch: 047 | Batch: 000 | Loss: 0.54343 | Correct: 101/128\n"
          ],
          "name": "stderr"
        },
        {
          "output_type": "stream",
          "text": [
            "None\n"
          ],
          "name": "stdout"
        },
        {
          "output_type": "stream",
          "text": [
            "2021-07-13 15:58:36,334 - INFO: lr: 0.06113 | Epoch: 048 | Batch: 000 | Loss: 0.58825 | Correct: 106/128\n"
          ],
          "name": "stderr"
        },
        {
          "output_type": "stream",
          "text": [
            "None\n"
          ],
          "name": "stdout"
        },
        {
          "output_type": "stream",
          "text": [
            "2021-07-13 15:58:51,775 - INFO: lr: 0.05000 | Epoch: 049 | Batch: 000 | Loss: 0.43994 | Correct: 112/128\n"
          ],
          "name": "stderr"
        },
        {
          "output_type": "stream",
          "text": [
            "None\n"
          ],
          "name": "stdout"
        },
        {
          "output_type": "stream",
          "text": [
            "2021-07-13 15:59:07,202 - INFO: lr: 0.03887 | Epoch: 050 | Batch: 000 | Loss: 0.33288 | Correct: 111/128\n"
          ],
          "name": "stderr"
        },
        {
          "output_type": "stream",
          "text": [
            "None\n"
          ],
          "name": "stdout"
        },
        {
          "output_type": "stream",
          "text": [
            "2021-07-13 15:59:22,604 - INFO: lr: 0.02831 | Epoch: 051 | Batch: 000 | Loss: 0.25763 | Correct: 120/128\n"
          ],
          "name": "stderr"
        },
        {
          "output_type": "stream",
          "text": [
            "None\n"
          ],
          "name": "stdout"
        },
        {
          "output_type": "stream",
          "text": [
            "2021-07-13 15:59:37,899 - INFO: lr: 0.01883 | Epoch: 052 | Batch: 000 | Loss: 0.25569 | Correct: 118/128\n"
          ],
          "name": "stderr"
        },
        {
          "output_type": "stream",
          "text": [
            "None\n"
          ],
          "name": "stdout"
        },
        {
          "output_type": "stream",
          "text": [
            "2021-07-13 15:59:53,348 - INFO: lr: 0.01091 | Epoch: 053 | Batch: 000 | Loss: 0.20728 | Correct: 119/128\n"
          ],
          "name": "stderr"
        },
        {
          "output_type": "stream",
          "text": [
            "None\n"
          ],
          "name": "stdout"
        },
        {
          "output_type": "stream",
          "text": [
            "2021-07-13 16:00:08,796 - INFO: lr: 0.00495 | Epoch: 054 | Batch: 000 | Loss: 0.36062 | Correct: 112/128\n"
          ],
          "name": "stderr"
        },
        {
          "output_type": "stream",
          "text": [
            "None\n"
          ],
          "name": "stdout"
        },
        {
          "output_type": "stream",
          "text": [
            "2021-07-13 16:00:24,260 - INFO: lr: 0.00125 | Epoch: 055 | Batch: 000 | Loss: 0.20632 | Correct: 118/128\n"
          ],
          "name": "stderr"
        },
        {
          "output_type": "stream",
          "text": [
            "None\n"
          ],
          "name": "stdout"
        },
        {
          "output_type": "stream",
          "text": [
            "2021-07-13 16:00:38,977 - INFO: Save the snapshot model with index: 3\n",
            "2021-07-13 16:00:39,928 - INFO: n_estimators: 4 | Validation Acc: 78.125 % | Historical Best: 78.125 %\n",
            "2021-07-13 16:00:40,660 - INFO: lr: 0.10000 | Epoch: 056 | Batch: 000 | Loss: 0.25471 | Correct: 116/128\n"
          ],
          "name": "stderr"
        },
        {
          "output_type": "stream",
          "text": [
            "None\n"
          ],
          "name": "stdout"
        },
        {
          "output_type": "stream",
          "text": [
            "2021-07-13 16:00:56,083 - INFO: lr: 0.09875 | Epoch: 057 | Batch: 000 | Loss: 0.79787 | Correct: 87/128\n"
          ],
          "name": "stderr"
        },
        {
          "output_type": "stream",
          "text": [
            "None\n"
          ],
          "name": "stdout"
        },
        {
          "output_type": "stream",
          "text": [
            "2021-07-13 16:01:11,508 - INFO: lr: 0.09505 | Epoch: 058 | Batch: 000 | Loss: 0.68538 | Correct: 99/128\n"
          ],
          "name": "stderr"
        },
        {
          "output_type": "stream",
          "text": [
            "None\n"
          ],
          "name": "stdout"
        },
        {
          "output_type": "stream",
          "text": [
            "2021-07-13 16:01:26,925 - INFO: lr: 0.08909 | Epoch: 059 | Batch: 000 | Loss: 0.54217 | Correct: 106/128\n"
          ],
          "name": "stderr"
        },
        {
          "output_type": "stream",
          "text": [
            "None\n"
          ],
          "name": "stdout"
        },
        {
          "output_type": "stream",
          "text": [
            "2021-07-13 16:01:42,304 - INFO: lr: 0.08117 | Epoch: 060 | Batch: 000 | Loss: 0.35656 | Correct: 112/128\n"
          ],
          "name": "stderr"
        },
        {
          "output_type": "stream",
          "text": [
            "None\n"
          ],
          "name": "stdout"
        },
        {
          "output_type": "stream",
          "text": [
            "2021-07-13 16:01:57,714 - INFO: lr: 0.07169 | Epoch: 061 | Batch: 000 | Loss: 0.31447 | Correct: 111/128\n"
          ],
          "name": "stderr"
        },
        {
          "output_type": "stream",
          "text": [
            "None\n"
          ],
          "name": "stdout"
        },
        {
          "output_type": "stream",
          "text": [
            "2021-07-13 16:02:13,138 - INFO: lr: 0.06113 | Epoch: 062 | Batch: 000 | Loss: 0.42598 | Correct: 112/128\n"
          ],
          "name": "stderr"
        },
        {
          "output_type": "stream",
          "text": [
            "None\n"
          ],
          "name": "stdout"
        },
        {
          "output_type": "stream",
          "text": [
            "2021-07-13 16:02:28,538 - INFO: lr: 0.05000 | Epoch: 063 | Batch: 000 | Loss: 0.21195 | Correct: 123/128\n"
          ],
          "name": "stderr"
        },
        {
          "output_type": "stream",
          "text": [
            "None\n"
          ],
          "name": "stdout"
        },
        {
          "output_type": "stream",
          "text": [
            "2021-07-13 16:02:43,890 - INFO: lr: 0.03887 | Epoch: 064 | Batch: 000 | Loss: 0.15416 | Correct: 125/128\n"
          ],
          "name": "stderr"
        },
        {
          "output_type": "stream",
          "text": [
            "None\n"
          ],
          "name": "stdout"
        },
        {
          "output_type": "stream",
          "text": [
            "2021-07-13 16:02:59,256 - INFO: lr: 0.02831 | Epoch: 065 | Batch: 000 | Loss: 0.15358 | Correct: 122/128\n"
          ],
          "name": "stderr"
        },
        {
          "output_type": "stream",
          "text": [
            "None\n"
          ],
          "name": "stdout"
        },
        {
          "output_type": "stream",
          "text": [
            "2021-07-13 16:03:14,598 - INFO: lr: 0.01883 | Epoch: 066 | Batch: 000 | Loss: 0.12173 | Correct: 124/128\n"
          ],
          "name": "stderr"
        },
        {
          "output_type": "stream",
          "text": [
            "None\n"
          ],
          "name": "stdout"
        },
        {
          "output_type": "stream",
          "text": [
            "2021-07-13 16:03:29,894 - INFO: lr: 0.01091 | Epoch: 067 | Batch: 000 | Loss: 0.09903 | Correct: 124/128\n"
          ],
          "name": "stderr"
        },
        {
          "output_type": "stream",
          "text": [
            "None\n"
          ],
          "name": "stdout"
        },
        {
          "output_type": "stream",
          "text": [
            "2021-07-13 16:03:45,278 - INFO: lr: 0.00495 | Epoch: 068 | Batch: 000 | Loss: 0.19895 | Correct: 122/128\n"
          ],
          "name": "stderr"
        },
        {
          "output_type": "stream",
          "text": [
            "None\n"
          ],
          "name": "stdout"
        },
        {
          "output_type": "stream",
          "text": [
            "2021-07-13 16:04:00,655 - INFO: lr: 0.00125 | Epoch: 069 | Batch: 000 | Loss: 0.13203 | Correct: 124/128\n"
          ],
          "name": "stderr"
        },
        {
          "output_type": "stream",
          "text": [
            "None\n"
          ],
          "name": "stdout"
        },
        {
          "output_type": "stream",
          "text": [
            "2021-07-13 16:04:15,340 - INFO: Save the snapshot model with index: 4\n",
            "2021-07-13 16:04:16,413 - INFO: n_estimators: 5 | Validation Acc: 79.799 % | Historical Best: 79.799 %\n"
          ],
          "name": "stderr"
        },
        {
          "output_type": "stream",
          "text": [
            "Group 2 Finished!\n",
            "Target number of exemplars: 100\n",
            "Randomly extracting exemplars from class 0 of current split... Extracted 100 exemplars.\n",
            "Randomly extracting exemplars from class 1 of current split... Extracted 100 exemplars.\n",
            "Randomly extracting exemplars from class 2 of current split... Extracted 100 exemplars.\n",
            "Randomly extracting exemplars from class 3 of current split... Extracted 100 exemplars.\n",
            "Randomly extracting exemplars from class 4 of current split... Extracted 100 exemplars.\n",
            "Randomly extracting exemplars from class 5 of current split... Extracted 100 exemplars.\n",
            "Randomly extracting exemplars from class 6 of current split... Extracted 100 exemplars.\n",
            "Randomly extracting exemplars from class 7 of current split... Extracted 100 exemplars.\n",
            "Randomly extracting exemplars from class 8 of current split... Extracted 100 exemplars.\n",
            "Randomly extracting exemplars from class 9 of current split... Extracted 100 exemplars.\n",
            "[0.019027217741935484, 0.0892641129032258, 0.26796875, 0.3888104838709677, 0.5515120967741935, 0.6617691532258064, 0.7995967741935484]\n",
            "[0.7213541666666666, 0.7161458333333334, 0.6859375, 0.6463541666666667, 0.5833333333333334, 0.5244791666666667, 0.40729166666666666]\n",
            "Testing on both open and closed world\n",
            "owr harmonic mean (threshold:0.25) = 0.03707646650025529\n",
            "owr harmonic mean (threshold:0.35) = 0.15874182537861403\n",
            "owr harmonic mean (threshold:0.5) = 0.3853833947583947\n",
            "owr harmonic mean (threshold:0.6) = 0.4855445482284583\n",
            "owr harmonic mean (threshold:0.75) = 0.5669765789239926\n",
            "owr harmonic mean (threshold:0.85) = 0.5851795584267515\n",
            "owr harmonic mean (threshold:0.95) = 0.5396838544421861\n",
            "\n",
            "=============================================\n",
            "\n",
            "Length of exemplars set: 2000\n"
          ],
          "name": "stdout"
        },
        {
          "output_type": "stream",
          "text": [
            "2021-07-13 16:04:52,800 - INFO: lr: 0.10000 | Epoch: 000 | Batch: 000 | Loss: 4.61559 | Correct: 2/128\n"
          ],
          "name": "stderr"
        },
        {
          "output_type": "stream",
          "text": [
            "None\n"
          ],
          "name": "stdout"
        },
        {
          "output_type": "stream",
          "text": [
            "2021-07-13 16:05:08,430 - INFO: lr: 0.09875 | Epoch: 001 | Batch: 000 | Loss: 2.86930 | Correct: 25/128\n"
          ],
          "name": "stderr"
        },
        {
          "output_type": "stream",
          "text": [
            "None\n"
          ],
          "name": "stdout"
        },
        {
          "output_type": "stream",
          "text": [
            "2021-07-13 16:05:24,212 - INFO: lr: 0.09505 | Epoch: 002 | Batch: 000 | Loss: 2.40436 | Correct: 49/128\n"
          ],
          "name": "stderr"
        },
        {
          "output_type": "stream",
          "text": [
            "None\n"
          ],
          "name": "stdout"
        },
        {
          "output_type": "stream",
          "text": [
            "2021-07-13 16:05:39,893 - INFO: lr: 0.08909 | Epoch: 003 | Batch: 000 | Loss: 2.28223 | Correct: 43/128\n"
          ],
          "name": "stderr"
        },
        {
          "output_type": "stream",
          "text": [
            "None\n"
          ],
          "name": "stdout"
        },
        {
          "output_type": "stream",
          "text": [
            "2021-07-13 16:05:55,641 - INFO: lr: 0.08117 | Epoch: 004 | Batch: 000 | Loss: 2.18851 | Correct: 47/128\n"
          ],
          "name": "stderr"
        },
        {
          "output_type": "stream",
          "text": [
            "None\n"
          ],
          "name": "stdout"
        },
        {
          "output_type": "stream",
          "text": [
            "2021-07-13 16:06:11,263 - INFO: lr: 0.07169 | Epoch: 005 | Batch: 000 | Loss: 1.87750 | Correct: 63/128\n"
          ],
          "name": "stderr"
        },
        {
          "output_type": "stream",
          "text": [
            "None\n"
          ],
          "name": "stdout"
        },
        {
          "output_type": "stream",
          "text": [
            "2021-07-13 16:06:26,936 - INFO: lr: 0.06113 | Epoch: 006 | Batch: 000 | Loss: 1.88934 | Correct: 52/128\n"
          ],
          "name": "stderr"
        },
        {
          "output_type": "stream",
          "text": [
            "None\n"
          ],
          "name": "stdout"
        },
        {
          "output_type": "stream",
          "text": [
            "2021-07-13 16:06:42,568 - INFO: lr: 0.05000 | Epoch: 007 | Batch: 000 | Loss: 1.81035 | Correct: 60/128\n"
          ],
          "name": "stderr"
        },
        {
          "output_type": "stream",
          "text": [
            "None\n"
          ],
          "name": "stdout"
        },
        {
          "output_type": "stream",
          "text": [
            "2021-07-13 16:06:58,248 - INFO: lr: 0.03887 | Epoch: 008 | Batch: 000 | Loss: 1.98896 | Correct: 58/128\n"
          ],
          "name": "stderr"
        },
        {
          "output_type": "stream",
          "text": [
            "None\n"
          ],
          "name": "stdout"
        },
        {
          "output_type": "stream",
          "text": [
            "2021-07-13 16:07:13,936 - INFO: lr: 0.02831 | Epoch: 009 | Batch: 000 | Loss: 1.80843 | Correct: 58/128\n"
          ],
          "name": "stderr"
        },
        {
          "output_type": "stream",
          "text": [
            "None\n"
          ],
          "name": "stdout"
        },
        {
          "output_type": "stream",
          "text": [
            "2021-07-13 16:07:29,654 - INFO: lr: 0.01883 | Epoch: 010 | Batch: 000 | Loss: 1.58340 | Correct: 70/128\n"
          ],
          "name": "stderr"
        },
        {
          "output_type": "stream",
          "text": [
            "None\n"
          ],
          "name": "stdout"
        },
        {
          "output_type": "stream",
          "text": [
            "2021-07-13 16:07:45,324 - INFO: lr: 0.01091 | Epoch: 011 | Batch: 000 | Loss: 1.46502 | Correct: 76/128\n"
          ],
          "name": "stderr"
        },
        {
          "output_type": "stream",
          "text": [
            "None\n"
          ],
          "name": "stdout"
        },
        {
          "output_type": "stream",
          "text": [
            "2021-07-13 16:08:01,023 - INFO: lr: 0.00495 | Epoch: 012 | Batch: 000 | Loss: 1.52385 | Correct: 68/128\n"
          ],
          "name": "stderr"
        },
        {
          "output_type": "stream",
          "text": [
            "None\n"
          ],
          "name": "stdout"
        },
        {
          "output_type": "stream",
          "text": [
            "2021-07-13 16:08:16,713 - INFO: lr: 0.00125 | Epoch: 013 | Batch: 000 | Loss: 1.26966 | Correct: 76/128\n"
          ],
          "name": "stderr"
        },
        {
          "output_type": "stream",
          "text": [
            "None\n"
          ],
          "name": "stdout"
        },
        {
          "output_type": "stream",
          "text": [
            "2021-07-13 16:08:31,692 - INFO: Save the snapshot model with index: 0\n",
            "2021-07-13 16:08:32,321 - INFO: n_estimators: 1 | Validation Acc: 66.741 % | Historical Best: 66.741 %\n",
            "2021-07-13 16:08:33,093 - INFO: lr: 0.10000 | Epoch: 014 | Batch: 000 | Loss: 1.40878 | Correct: 71/128\n"
          ],
          "name": "stderr"
        },
        {
          "output_type": "stream",
          "text": [
            "None\n"
          ],
          "name": "stdout"
        },
        {
          "output_type": "stream",
          "text": [
            "2021-07-13 16:08:48,924 - INFO: lr: 0.09875 | Epoch: 015 | Batch: 000 | Loss: 1.98448 | Correct: 55/128\n"
          ],
          "name": "stderr"
        },
        {
          "output_type": "stream",
          "text": [
            "None\n"
          ],
          "name": "stdout"
        },
        {
          "output_type": "stream",
          "text": [
            "2021-07-13 16:09:04,756 - INFO: lr: 0.09505 | Epoch: 016 | Batch: 000 | Loss: 1.89690 | Correct: 54/128\n"
          ],
          "name": "stderr"
        },
        {
          "output_type": "stream",
          "text": [
            "None\n"
          ],
          "name": "stdout"
        },
        {
          "output_type": "stream",
          "text": [
            "2021-07-13 16:09:20,529 - INFO: lr: 0.08909 | Epoch: 017 | Batch: 000 | Loss: 1.61032 | Correct: 78/128\n"
          ],
          "name": "stderr"
        },
        {
          "output_type": "stream",
          "text": [
            "None\n"
          ],
          "name": "stdout"
        },
        {
          "output_type": "stream",
          "text": [
            "2021-07-13 16:09:36,309 - INFO: lr: 0.08117 | Epoch: 018 | Batch: 000 | Loss: 1.59594 | Correct: 70/128\n"
          ],
          "name": "stderr"
        },
        {
          "output_type": "stream",
          "text": [
            "None\n"
          ],
          "name": "stdout"
        },
        {
          "output_type": "stream",
          "text": [
            "2021-07-13 16:09:52,071 - INFO: lr: 0.07169 | Epoch: 019 | Batch: 000 | Loss: 1.29399 | Correct: 78/128\n"
          ],
          "name": "stderr"
        },
        {
          "output_type": "stream",
          "text": [
            "None\n"
          ],
          "name": "stdout"
        },
        {
          "output_type": "stream",
          "text": [
            "2021-07-13 16:10:07,855 - INFO: lr: 0.06113 | Epoch: 020 | Batch: 000 | Loss: 1.38695 | Correct: 74/128\n"
          ],
          "name": "stderr"
        },
        {
          "output_type": "stream",
          "text": [
            "None\n"
          ],
          "name": "stdout"
        },
        {
          "output_type": "stream",
          "text": [
            "2021-07-13 16:10:23,633 - INFO: lr: 0.05000 | Epoch: 021 | Batch: 000 | Loss: 1.14318 | Correct: 82/128\n"
          ],
          "name": "stderr"
        },
        {
          "output_type": "stream",
          "text": [
            "None\n"
          ],
          "name": "stdout"
        },
        {
          "output_type": "stream",
          "text": [
            "2021-07-13 16:10:39,425 - INFO: lr: 0.03887 | Epoch: 022 | Batch: 000 | Loss: 1.02481 | Correct: 86/128\n"
          ],
          "name": "stderr"
        },
        {
          "output_type": "stream",
          "text": [
            "None\n"
          ],
          "name": "stdout"
        },
        {
          "output_type": "stream",
          "text": [
            "2021-07-13 16:10:55,106 - INFO: lr: 0.02831 | Epoch: 023 | Batch: 000 | Loss: 0.87979 | Correct: 94/128\n"
          ],
          "name": "stderr"
        },
        {
          "output_type": "stream",
          "text": [
            "None\n"
          ],
          "name": "stdout"
        },
        {
          "output_type": "stream",
          "text": [
            "2021-07-13 16:11:10,851 - INFO: lr: 0.01883 | Epoch: 024 | Batch: 000 | Loss: 0.93427 | Correct: 91/128\n"
          ],
          "name": "stderr"
        },
        {
          "output_type": "stream",
          "text": [
            "None\n"
          ],
          "name": "stdout"
        },
        {
          "output_type": "stream",
          "text": [
            "2021-07-13 16:11:26,626 - INFO: lr: 0.01091 | Epoch: 025 | Batch: 000 | Loss: 0.72683 | Correct: 101/128\n"
          ],
          "name": "stderr"
        },
        {
          "output_type": "stream",
          "text": [
            "None\n"
          ],
          "name": "stdout"
        },
        {
          "output_type": "stream",
          "text": [
            "2021-07-13 16:11:42,359 - INFO: lr: 0.00495 | Epoch: 026 | Batch: 000 | Loss: 0.92302 | Correct: 93/128\n"
          ],
          "name": "stderr"
        },
        {
          "output_type": "stream",
          "text": [
            "None\n"
          ],
          "name": "stdout"
        },
        {
          "output_type": "stream",
          "text": [
            "2021-07-13 16:11:58,083 - INFO: lr: 0.00125 | Epoch: 027 | Batch: 000 | Loss: 0.75587 | Correct: 106/128\n"
          ],
          "name": "stderr"
        },
        {
          "output_type": "stream",
          "text": [
            "None\n"
          ],
          "name": "stdout"
        },
        {
          "output_type": "stream",
          "text": [
            "2021-07-13 16:12:13,087 - INFO: Save the snapshot model with index: 1\n",
            "2021-07-13 16:12:13,780 - INFO: n_estimators: 2 | Validation Acc: 71.540 % | Historical Best: 71.540 %\n",
            "2021-07-13 16:12:14,564 - INFO: lr: 0.10000 | Epoch: 028 | Batch: 000 | Loss: 0.61896 | Correct: 106/128\n"
          ],
          "name": "stderr"
        },
        {
          "output_type": "stream",
          "text": [
            "None\n"
          ],
          "name": "stdout"
        },
        {
          "output_type": "stream",
          "text": [
            "2021-07-13 16:12:30,331 - INFO: lr: 0.09875 | Epoch: 029 | Batch: 000 | Loss: 1.48534 | Correct: 78/128\n"
          ],
          "name": "stderr"
        },
        {
          "output_type": "stream",
          "text": [
            "None\n"
          ],
          "name": "stdout"
        },
        {
          "output_type": "stream",
          "text": [
            "2021-07-13 16:12:46,084 - INFO: lr: 0.09505 | Epoch: 030 | Batch: 000 | Loss: 1.29477 | Correct: 80/128\n"
          ],
          "name": "stderr"
        },
        {
          "output_type": "stream",
          "text": [
            "None\n"
          ],
          "name": "stdout"
        },
        {
          "output_type": "stream",
          "text": [
            "2021-07-13 16:13:01,871 - INFO: lr: 0.08909 | Epoch: 031 | Batch: 000 | Loss: 1.03318 | Correct: 90/128\n"
          ],
          "name": "stderr"
        },
        {
          "output_type": "stream",
          "text": [
            "None\n"
          ],
          "name": "stdout"
        },
        {
          "output_type": "stream",
          "text": [
            "2021-07-13 16:13:17,663 - INFO: lr: 0.08117 | Epoch: 032 | Batch: 000 | Loss: 0.97053 | Correct: 88/128\n"
          ],
          "name": "stderr"
        },
        {
          "output_type": "stream",
          "text": [
            "None\n"
          ],
          "name": "stdout"
        },
        {
          "output_type": "stream",
          "text": [
            "2021-07-13 16:13:33,451 - INFO: lr: 0.07169 | Epoch: 033 | Batch: 000 | Loss: 0.85797 | Correct: 92/128\n"
          ],
          "name": "stderr"
        },
        {
          "output_type": "stream",
          "text": [
            "None\n"
          ],
          "name": "stdout"
        },
        {
          "output_type": "stream",
          "text": [
            "2021-07-13 16:13:49,218 - INFO: lr: 0.06113 | Epoch: 034 | Batch: 000 | Loss: 0.74007 | Correct: 102/128\n"
          ],
          "name": "stderr"
        },
        {
          "output_type": "stream",
          "text": [
            "None\n"
          ],
          "name": "stdout"
        },
        {
          "output_type": "stream",
          "text": [
            "2021-07-13 16:14:05,009 - INFO: lr: 0.05000 | Epoch: 035 | Batch: 000 | Loss: 0.81887 | Correct: 94/128\n"
          ],
          "name": "stderr"
        },
        {
          "output_type": "stream",
          "text": [
            "None\n"
          ],
          "name": "stdout"
        },
        {
          "output_type": "stream",
          "text": [
            "2021-07-13 16:14:20,802 - INFO: lr: 0.03887 | Epoch: 036 | Batch: 000 | Loss: 0.61502 | Correct: 103/128\n"
          ],
          "name": "stderr"
        },
        {
          "output_type": "stream",
          "text": [
            "None\n"
          ],
          "name": "stdout"
        },
        {
          "output_type": "stream",
          "text": [
            "2021-07-13 16:14:36,515 - INFO: lr: 0.02831 | Epoch: 037 | Batch: 000 | Loss: 0.69277 | Correct: 98/128\n"
          ],
          "name": "stderr"
        },
        {
          "output_type": "stream",
          "text": [
            "None\n"
          ],
          "name": "stdout"
        },
        {
          "output_type": "stream",
          "text": [
            "2021-07-13 16:14:52,248 - INFO: lr: 0.01883 | Epoch: 038 | Batch: 000 | Loss: 0.49714 | Correct: 109/128\n"
          ],
          "name": "stderr"
        },
        {
          "output_type": "stream",
          "text": [
            "None\n"
          ],
          "name": "stdout"
        },
        {
          "output_type": "stream",
          "text": [
            "2021-07-13 16:15:07,977 - INFO: lr: 0.01091 | Epoch: 039 | Batch: 000 | Loss: 0.45138 | Correct: 113/128\n"
          ],
          "name": "stderr"
        },
        {
          "output_type": "stream",
          "text": [
            "None\n"
          ],
          "name": "stdout"
        },
        {
          "output_type": "stream",
          "text": [
            "2021-07-13 16:15:23,740 - INFO: lr: 0.00495 | Epoch: 040 | Batch: 000 | Loss: 0.40154 | Correct: 115/128\n"
          ],
          "name": "stderr"
        },
        {
          "output_type": "stream",
          "text": [
            "None\n"
          ],
          "name": "stdout"
        },
        {
          "output_type": "stream",
          "text": [
            "2021-07-13 16:15:39,465 - INFO: lr: 0.00125 | Epoch: 041 | Batch: 000 | Loss: 0.34804 | Correct: 112/128\n"
          ],
          "name": "stderr"
        },
        {
          "output_type": "stream",
          "text": [
            "None\n"
          ],
          "name": "stdout"
        },
        {
          "output_type": "stream",
          "text": [
            "2021-07-13 16:15:54,478 - INFO: Save the snapshot model with index: 2\n",
            "2021-07-13 16:15:55,307 - INFO: n_estimators: 3 | Validation Acc: 74.554 % | Historical Best: 74.554 %\n",
            "2021-07-13 16:15:56,082 - INFO: lr: 0.10000 | Epoch: 042 | Batch: 000 | Loss: 0.39285 | Correct: 117/128\n"
          ],
          "name": "stderr"
        },
        {
          "output_type": "stream",
          "text": [
            "None\n"
          ],
          "name": "stdout"
        },
        {
          "output_type": "stream",
          "text": [
            "2021-07-13 16:16:11,864 - INFO: lr: 0.09875 | Epoch: 043 | Batch: 000 | Loss: 1.13879 | Correct: 78/128\n"
          ],
          "name": "stderr"
        },
        {
          "output_type": "stream",
          "text": [
            "None\n"
          ],
          "name": "stdout"
        },
        {
          "output_type": "stream",
          "text": [
            "2021-07-13 16:16:27,642 - INFO: lr: 0.09505 | Epoch: 044 | Batch: 000 | Loss: 0.72970 | Correct: 100/128\n"
          ],
          "name": "stderr"
        },
        {
          "output_type": "stream",
          "text": [
            "None\n"
          ],
          "name": "stdout"
        },
        {
          "output_type": "stream",
          "text": [
            "2021-07-13 16:16:43,409 - INFO: lr: 0.08909 | Epoch: 045 | Batch: 000 | Loss: 0.99826 | Correct: 92/128\n"
          ],
          "name": "stderr"
        },
        {
          "output_type": "stream",
          "text": [
            "None\n"
          ],
          "name": "stdout"
        },
        {
          "output_type": "stream",
          "text": [
            "2021-07-13 16:16:59,140 - INFO: lr: 0.08117 | Epoch: 046 | Batch: 000 | Loss: 0.74087 | Correct: 99/128\n"
          ],
          "name": "stderr"
        },
        {
          "output_type": "stream",
          "text": [
            "None\n"
          ],
          "name": "stdout"
        },
        {
          "output_type": "stream",
          "text": [
            "2021-07-13 16:17:14,881 - INFO: lr: 0.07169 | Epoch: 047 | Batch: 000 | Loss: 0.58284 | Correct: 105/128\n"
          ],
          "name": "stderr"
        },
        {
          "output_type": "stream",
          "text": [
            "None\n"
          ],
          "name": "stdout"
        },
        {
          "output_type": "stream",
          "text": [
            "2021-07-13 16:17:30,708 - INFO: lr: 0.06113 | Epoch: 048 | Batch: 000 | Loss: 0.57578 | Correct: 108/128\n"
          ],
          "name": "stderr"
        },
        {
          "output_type": "stream",
          "text": [
            "None\n"
          ],
          "name": "stdout"
        },
        {
          "output_type": "stream",
          "text": [
            "2021-07-13 16:17:46,503 - INFO: lr: 0.05000 | Epoch: 049 | Batch: 000 | Loss: 0.49457 | Correct: 108/128\n"
          ],
          "name": "stderr"
        },
        {
          "output_type": "stream",
          "text": [
            "None\n"
          ],
          "name": "stdout"
        },
        {
          "output_type": "stream",
          "text": [
            "2021-07-13 16:18:02,168 - INFO: lr: 0.03887 | Epoch: 050 | Batch: 000 | Loss: 0.41400 | Correct: 111/128\n"
          ],
          "name": "stderr"
        },
        {
          "output_type": "stream",
          "text": [
            "None\n"
          ],
          "name": "stdout"
        },
        {
          "output_type": "stream",
          "text": [
            "2021-07-13 16:18:17,929 - INFO: lr: 0.02831 | Epoch: 051 | Batch: 000 | Loss: 0.30288 | Correct: 118/128\n"
          ],
          "name": "stderr"
        },
        {
          "output_type": "stream",
          "text": [
            "None\n"
          ],
          "name": "stdout"
        },
        {
          "output_type": "stream",
          "text": [
            "2021-07-13 16:18:33,677 - INFO: lr: 0.01883 | Epoch: 052 | Batch: 000 | Loss: 0.26282 | Correct: 121/128\n"
          ],
          "name": "stderr"
        },
        {
          "output_type": "stream",
          "text": [
            "None\n"
          ],
          "name": "stdout"
        },
        {
          "output_type": "stream",
          "text": [
            "2021-07-13 16:18:49,417 - INFO: lr: 0.01091 | Epoch: 053 | Batch: 000 | Loss: 0.32678 | Correct: 119/128\n"
          ],
          "name": "stderr"
        },
        {
          "output_type": "stream",
          "text": [
            "None\n"
          ],
          "name": "stdout"
        },
        {
          "output_type": "stream",
          "text": [
            "2021-07-13 16:19:05,146 - INFO: lr: 0.00495 | Epoch: 054 | Batch: 000 | Loss: 0.23310 | Correct: 119/128\n"
          ],
          "name": "stderr"
        },
        {
          "output_type": "stream",
          "text": [
            "None\n"
          ],
          "name": "stdout"
        },
        {
          "output_type": "stream",
          "text": [
            "2021-07-13 16:19:20,923 - INFO: lr: 0.00125 | Epoch: 055 | Batch: 000 | Loss: 0.23943 | Correct: 120/128\n"
          ],
          "name": "stderr"
        },
        {
          "output_type": "stream",
          "text": [
            "None\n"
          ],
          "name": "stdout"
        },
        {
          "output_type": "stream",
          "text": [
            "2021-07-13 16:19:35,965 - INFO: Save the snapshot model with index: 3\n",
            "2021-07-13 16:19:36,891 - INFO: n_estimators: 4 | Validation Acc: 77.232 % | Historical Best: 77.232 %\n",
            "2021-07-13 16:19:37,647 - INFO: lr: 0.10000 | Epoch: 056 | Batch: 000 | Loss: 0.26720 | Correct: 118/128\n"
          ],
          "name": "stderr"
        },
        {
          "output_type": "stream",
          "text": [
            "None\n"
          ],
          "name": "stdout"
        },
        {
          "output_type": "stream",
          "text": [
            "2021-07-13 16:19:53,439 - INFO: lr: 0.09875 | Epoch: 057 | Batch: 000 | Loss: 0.99373 | Correct: 90/128\n"
          ],
          "name": "stderr"
        },
        {
          "output_type": "stream",
          "text": [
            "None\n"
          ],
          "name": "stdout"
        },
        {
          "output_type": "stream",
          "text": [
            "2021-07-13 16:20:09,205 - INFO: lr: 0.09505 | Epoch: 058 | Batch: 000 | Loss: 0.83305 | Correct: 102/128\n"
          ],
          "name": "stderr"
        },
        {
          "output_type": "stream",
          "text": [
            "None\n"
          ],
          "name": "stdout"
        },
        {
          "output_type": "stream",
          "text": [
            "2021-07-13 16:20:25,011 - INFO: lr: 0.08909 | Epoch: 059 | Batch: 000 | Loss: 0.44067 | Correct: 110/128\n"
          ],
          "name": "stderr"
        },
        {
          "output_type": "stream",
          "text": [
            "None\n"
          ],
          "name": "stdout"
        },
        {
          "output_type": "stream",
          "text": [
            "2021-07-13 16:20:40,796 - INFO: lr: 0.08117 | Epoch: 060 | Batch: 000 | Loss: 0.65581 | Correct: 99/128\n"
          ],
          "name": "stderr"
        },
        {
          "output_type": "stream",
          "text": [
            "None\n"
          ],
          "name": "stdout"
        },
        {
          "output_type": "stream",
          "text": [
            "2021-07-13 16:20:56,588 - INFO: lr: 0.07169 | Epoch: 061 | Batch: 000 | Loss: 0.32183 | Correct: 118/128\n"
          ],
          "name": "stderr"
        },
        {
          "output_type": "stream",
          "text": [
            "None\n"
          ],
          "name": "stdout"
        },
        {
          "output_type": "stream",
          "text": [
            "2021-07-13 16:21:12,379 - INFO: lr: 0.06113 | Epoch: 062 | Batch: 000 | Loss: 0.40624 | Correct: 113/128\n"
          ],
          "name": "stderr"
        },
        {
          "output_type": "stream",
          "text": [
            "None\n"
          ],
          "name": "stdout"
        },
        {
          "output_type": "stream",
          "text": [
            "2021-07-13 16:21:28,142 - INFO: lr: 0.05000 | Epoch: 063 | Batch: 000 | Loss: 0.30004 | Correct: 117/128\n"
          ],
          "name": "stderr"
        },
        {
          "output_type": "stream",
          "text": [
            "None\n"
          ],
          "name": "stdout"
        },
        {
          "output_type": "stream",
          "text": [
            "2021-07-13 16:21:43,875 - INFO: lr: 0.03887 | Epoch: 064 | Batch: 000 | Loss: 0.26131 | Correct: 117/128\n"
          ],
          "name": "stderr"
        },
        {
          "output_type": "stream",
          "text": [
            "None\n"
          ],
          "name": "stdout"
        },
        {
          "output_type": "stream",
          "text": [
            "2021-07-13 16:21:59,682 - INFO: lr: 0.02831 | Epoch: 065 | Batch: 000 | Loss: 0.28375 | Correct: 118/128\n"
          ],
          "name": "stderr"
        },
        {
          "output_type": "stream",
          "text": [
            "None\n"
          ],
          "name": "stdout"
        },
        {
          "output_type": "stream",
          "text": [
            "2021-07-13 16:22:15,417 - INFO: lr: 0.01883 | Epoch: 066 | Batch: 000 | Loss: 0.13284 | Correct: 126/128\n"
          ],
          "name": "stderr"
        },
        {
          "output_type": "stream",
          "text": [
            "None\n"
          ],
          "name": "stdout"
        },
        {
          "output_type": "stream",
          "text": [
            "2021-07-13 16:22:31,155 - INFO: lr: 0.01091 | Epoch: 067 | Batch: 000 | Loss: 0.20042 | Correct: 120/128\n"
          ],
          "name": "stderr"
        },
        {
          "output_type": "stream",
          "text": [
            "None\n"
          ],
          "name": "stdout"
        },
        {
          "output_type": "stream",
          "text": [
            "2021-07-13 16:22:46,883 - INFO: lr: 0.00495 | Epoch: 068 | Batch: 000 | Loss: 0.16426 | Correct: 123/128\n"
          ],
          "name": "stderr"
        },
        {
          "output_type": "stream",
          "text": [
            "None\n"
          ],
          "name": "stdout"
        },
        {
          "output_type": "stream",
          "text": [
            "2021-07-13 16:23:02,604 - INFO: lr: 0.00125 | Epoch: 069 | Batch: 000 | Loss: 0.10410 | Correct: 125/128\n"
          ],
          "name": "stderr"
        },
        {
          "output_type": "stream",
          "text": [
            "None\n"
          ],
          "name": "stdout"
        },
        {
          "output_type": "stream",
          "text": [
            "2021-07-13 16:23:17,623 - INFO: Save the snapshot model with index: 4\n",
            "2021-07-13 16:23:18,642 - INFO: n_estimators: 5 | Validation Acc: 78.013 % | Historical Best: 78.013 %\n"
          ],
          "name": "stderr"
        },
        {
          "output_type": "stream",
          "text": [
            "Group 3 Finished!\n",
            "Target number of exemplars: 66\n",
            "Randomly extracting exemplars from class 0 of current split... Extracted 66 exemplars.\n",
            "Randomly extracting exemplars from class 1 of current split... Extracted 66 exemplars.\n",
            "Randomly extracting exemplars from class 2 of current split... Extracted 66 exemplars.\n",
            "Randomly extracting exemplars from class 3 of current split... Extracted 66 exemplars.\n",
            "Randomly extracting exemplars from class 4 of current split... Extracted 66 exemplars.\n",
            "Randomly extracting exemplars from class 5 of current split... Extracted 66 exemplars.\n",
            "Randomly extracting exemplars from class 6 of current split... Extracted 66 exemplars.\n",
            "Randomly extracting exemplars from class 7 of current split... Extracted 66 exemplars.\n",
            "Randomly extracting exemplars from class 8 of current split... Extracted 66 exemplars.\n",
            "Randomly extracting exemplars from class 9 of current split... Extracted 66 exemplars.\n",
            "[0.03150201612903226, 0.12653729838709676, 0.3147681451612903, 0.43480342741935485, 0.5956653225806452, 0.6943296370967742, 0.8159022177419355]\n",
            "[0.6039402173913043, 0.5886548913043478, 0.5489130434782609, 0.5118885869565217, 0.4453125, 0.38722826086956524, 0.28158967391304346]\n",
            "Testing on both open and closed world\n",
            "owr harmonic mean (threshold:0.25) = 0.059880610590933386\n",
            "owr harmonic mean (threshold:0.35) = 0.20829869425765993\n",
            "owr harmonic mean (threshold:0.5) = 0.40010212755160296\n",
            "owr harmonic mean (threshold:0.6) = 0.4702076465961951\n",
            "owr harmonic mean (threshold:0.75) = 0.5096308647654094\n",
            "owr harmonic mean (threshold:0.85) = 0.49717922331985576\n",
            "owr harmonic mean (threshold:0.95) = 0.41868125165357944\n",
            "\n",
            "=============================================\n",
            "\n",
            "Length of exemplars set: 1980\n"
          ],
          "name": "stdout"
        },
        {
          "output_type": "stream",
          "text": [
            "2021-07-13 16:23:56,061 - INFO: lr: 0.10000 | Epoch: 000 | Batch: 000 | Loss: 5.12050 | Correct: 1/128\n"
          ],
          "name": "stderr"
        },
        {
          "output_type": "stream",
          "text": [
            "None\n"
          ],
          "name": "stdout"
        },
        {
          "output_type": "stream",
          "text": [
            "2021-07-13 16:24:12,169 - INFO: lr: 0.09875 | Epoch: 001 | Batch: 000 | Loss: 2.81215 | Correct: 31/128\n"
          ],
          "name": "stderr"
        },
        {
          "output_type": "stream",
          "text": [
            "None\n"
          ],
          "name": "stdout"
        },
        {
          "output_type": "stream",
          "text": [
            "2021-07-13 16:24:28,333 - INFO: lr: 0.09505 | Epoch: 002 | Batch: 000 | Loss: 2.46432 | Correct: 45/128\n"
          ],
          "name": "stderr"
        },
        {
          "output_type": "stream",
          "text": [
            "None\n"
          ],
          "name": "stdout"
        },
        {
          "output_type": "stream",
          "text": [
            "2021-07-13 16:24:44,475 - INFO: lr: 0.08909 | Epoch: 003 | Batch: 000 | Loss: 2.57621 | Correct: 34/128\n"
          ],
          "name": "stderr"
        },
        {
          "output_type": "stream",
          "text": [
            "None\n"
          ],
          "name": "stdout"
        },
        {
          "output_type": "stream",
          "text": [
            "2021-07-13 16:25:00,620 - INFO: lr: 0.08117 | Epoch: 004 | Batch: 000 | Loss: 2.27678 | Correct: 61/128\n"
          ],
          "name": "stderr"
        },
        {
          "output_type": "stream",
          "text": [
            "None\n"
          ],
          "name": "stdout"
        },
        {
          "output_type": "stream",
          "text": [
            "2021-07-13 16:25:16,715 - INFO: lr: 0.07169 | Epoch: 005 | Batch: 000 | Loss: 2.06412 | Correct: 59/128\n"
          ],
          "name": "stderr"
        },
        {
          "output_type": "stream",
          "text": [
            "None\n"
          ],
          "name": "stdout"
        },
        {
          "output_type": "stream",
          "text": [
            "2021-07-13 16:25:32,792 - INFO: lr: 0.06113 | Epoch: 006 | Batch: 000 | Loss: 2.04785 | Correct: 60/128\n"
          ],
          "name": "stderr"
        },
        {
          "output_type": "stream",
          "text": [
            "None\n"
          ],
          "name": "stdout"
        },
        {
          "output_type": "stream",
          "text": [
            "2021-07-13 16:25:48,885 - INFO: lr: 0.05000 | Epoch: 007 | Batch: 000 | Loss: 1.82337 | Correct: 61/128\n"
          ],
          "name": "stderr"
        },
        {
          "output_type": "stream",
          "text": [
            "None\n"
          ],
          "name": "stdout"
        },
        {
          "output_type": "stream",
          "text": [
            "2021-07-13 16:26:05,059 - INFO: lr: 0.03887 | Epoch: 008 | Batch: 000 | Loss: 2.01556 | Correct: 61/128\n"
          ],
          "name": "stderr"
        },
        {
          "output_type": "stream",
          "text": [
            "None\n"
          ],
          "name": "stdout"
        },
        {
          "output_type": "stream",
          "text": [
            "2021-07-13 16:26:21,194 - INFO: lr: 0.02831 | Epoch: 009 | Batch: 000 | Loss: 1.89674 | Correct: 60/128\n"
          ],
          "name": "stderr"
        },
        {
          "output_type": "stream",
          "text": [
            "None\n"
          ],
          "name": "stdout"
        },
        {
          "output_type": "stream",
          "text": [
            "2021-07-13 16:26:37,324 - INFO: lr: 0.01883 | Epoch: 010 | Batch: 000 | Loss: 1.77269 | Correct: 68/128\n"
          ],
          "name": "stderr"
        },
        {
          "output_type": "stream",
          "text": [
            "None\n"
          ],
          "name": "stdout"
        },
        {
          "output_type": "stream",
          "text": [
            "2021-07-13 16:26:53,534 - INFO: lr: 0.01091 | Epoch: 011 | Batch: 000 | Loss: 1.77920 | Correct: 66/128\n"
          ],
          "name": "stderr"
        },
        {
          "output_type": "stream",
          "text": [
            "None\n"
          ],
          "name": "stdout"
        },
        {
          "output_type": "stream",
          "text": [
            "2021-07-13 16:27:09,765 - INFO: lr: 0.00495 | Epoch: 012 | Batch: 000 | Loss: 1.82721 | Correct: 61/128\n"
          ],
          "name": "stderr"
        },
        {
          "output_type": "stream",
          "text": [
            "None\n"
          ],
          "name": "stdout"
        },
        {
          "output_type": "stream",
          "text": [
            "2021-07-13 16:27:26,014 - INFO: lr: 0.00125 | Epoch: 013 | Batch: 000 | Loss: 1.79238 | Correct: 65/128\n"
          ],
          "name": "stderr"
        },
        {
          "output_type": "stream",
          "text": [
            "None\n"
          ],
          "name": "stdout"
        },
        {
          "output_type": "stream",
          "text": [
            "2021-07-13 16:27:41,445 - INFO: Save the snapshot model with index: 0\n",
            "2021-07-13 16:27:42,063 - INFO: n_estimators: 1 | Validation Acc: 61.830 % | Historical Best: 61.830 %\n",
            "2021-07-13 16:27:42,868 - INFO: lr: 0.10000 | Epoch: 014 | Batch: 000 | Loss: 1.63142 | Correct: 70/128\n"
          ],
          "name": "stderr"
        },
        {
          "output_type": "stream",
          "text": [
            "None\n"
          ],
          "name": "stdout"
        },
        {
          "output_type": "stream",
          "text": [
            "2021-07-13 16:27:59,048 - INFO: lr: 0.09875 | Epoch: 015 | Batch: 000 | Loss: 2.01574 | Correct: 57/128\n"
          ],
          "name": "stderr"
        },
        {
          "output_type": "stream",
          "text": [
            "None\n"
          ],
          "name": "stdout"
        },
        {
          "output_type": "stream",
          "text": [
            "2021-07-13 16:28:15,179 - INFO: lr: 0.09505 | Epoch: 016 | Batch: 000 | Loss: 2.03707 | Correct: 51/128\n"
          ],
          "name": "stderr"
        },
        {
          "output_type": "stream",
          "text": [
            "None\n"
          ],
          "name": "stdout"
        },
        {
          "output_type": "stream",
          "text": [
            "2021-07-13 16:28:31,324 - INFO: lr: 0.08909 | Epoch: 017 | Batch: 000 | Loss: 2.05426 | Correct: 51/128\n"
          ],
          "name": "stderr"
        },
        {
          "output_type": "stream",
          "text": [
            "None\n"
          ],
          "name": "stdout"
        },
        {
          "output_type": "stream",
          "text": [
            "2021-07-13 16:28:47,410 - INFO: lr: 0.08117 | Epoch: 018 | Batch: 000 | Loss: 1.64789 | Correct: 67/128\n"
          ],
          "name": "stderr"
        },
        {
          "output_type": "stream",
          "text": [
            "None\n"
          ],
          "name": "stdout"
        },
        {
          "output_type": "stream",
          "text": [
            "2021-07-13 16:29:03,546 - INFO: lr: 0.07169 | Epoch: 019 | Batch: 000 | Loss: 1.59421 | Correct: 65/128\n"
          ],
          "name": "stderr"
        },
        {
          "output_type": "stream",
          "text": [
            "None\n"
          ],
          "name": "stdout"
        },
        {
          "output_type": "stream",
          "text": [
            "2021-07-13 16:29:19,743 - INFO: lr: 0.06113 | Epoch: 020 | Batch: 000 | Loss: 1.32815 | Correct: 83/128\n"
          ],
          "name": "stderr"
        },
        {
          "output_type": "stream",
          "text": [
            "None\n"
          ],
          "name": "stdout"
        },
        {
          "output_type": "stream",
          "text": [
            "2021-07-13 16:29:35,920 - INFO: lr: 0.05000 | Epoch: 021 | Batch: 000 | Loss: 1.25566 | Correct: 85/128\n"
          ],
          "name": "stderr"
        },
        {
          "output_type": "stream",
          "text": [
            "None\n"
          ],
          "name": "stdout"
        },
        {
          "output_type": "stream",
          "text": [
            "2021-07-13 16:29:52,059 - INFO: lr: 0.03887 | Epoch: 022 | Batch: 000 | Loss: 1.19644 | Correct: 87/128\n"
          ],
          "name": "stderr"
        },
        {
          "output_type": "stream",
          "text": [
            "None\n"
          ],
          "name": "stdout"
        },
        {
          "output_type": "stream",
          "text": [
            "2021-07-13 16:30:08,160 - INFO: lr: 0.02831 | Epoch: 023 | Batch: 000 | Loss: 1.28168 | Correct: 85/128\n"
          ],
          "name": "stderr"
        },
        {
          "output_type": "stream",
          "text": [
            "None\n"
          ],
          "name": "stdout"
        },
        {
          "output_type": "stream",
          "text": [
            "2021-07-13 16:30:24,301 - INFO: lr: 0.01883 | Epoch: 024 | Batch: 000 | Loss: 1.22753 | Correct: 80/128\n"
          ],
          "name": "stderr"
        },
        {
          "output_type": "stream",
          "text": [
            "None\n"
          ],
          "name": "stdout"
        },
        {
          "output_type": "stream",
          "text": [
            "2021-07-13 16:30:40,445 - INFO: lr: 0.01091 | Epoch: 025 | Batch: 000 | Loss: 1.18786 | Correct: 82/128\n"
          ],
          "name": "stderr"
        },
        {
          "output_type": "stream",
          "text": [
            "None\n"
          ],
          "name": "stdout"
        },
        {
          "output_type": "stream",
          "text": [
            "2021-07-13 16:30:56,597 - INFO: lr: 0.00495 | Epoch: 026 | Batch: 000 | Loss: 1.14967 | Correct: 88/128\n"
          ],
          "name": "stderr"
        },
        {
          "output_type": "stream",
          "text": [
            "None\n"
          ],
          "name": "stdout"
        },
        {
          "output_type": "stream",
          "text": [
            "2021-07-13 16:31:12,718 - INFO: lr: 0.00125 | Epoch: 027 | Batch: 000 | Loss: 1.21802 | Correct: 73/128\n"
          ],
          "name": "stderr"
        },
        {
          "output_type": "stream",
          "text": [
            "None\n"
          ],
          "name": "stdout"
        },
        {
          "output_type": "stream",
          "text": [
            "2021-07-13 16:31:28,108 - INFO: Save the snapshot model with index: 1\n",
            "2021-07-13 16:31:28,814 - INFO: n_estimators: 2 | Validation Acc: 69.978 % | Historical Best: 69.978 %\n",
            "2021-07-13 16:31:29,640 - INFO: lr: 0.10000 | Epoch: 028 | Batch: 000 | Loss: 1.06651 | Correct: 84/128\n"
          ],
          "name": "stderr"
        },
        {
          "output_type": "stream",
          "text": [
            "None\n"
          ],
          "name": "stdout"
        },
        {
          "output_type": "stream",
          "text": [
            "2021-07-13 16:31:45,775 - INFO: lr: 0.09875 | Epoch: 029 | Batch: 000 | Loss: 1.50689 | Correct: 72/128\n"
          ],
          "name": "stderr"
        },
        {
          "output_type": "stream",
          "text": [
            "None\n"
          ],
          "name": "stdout"
        },
        {
          "output_type": "stream",
          "text": [
            "2021-07-13 16:32:01,948 - INFO: lr: 0.09505 | Epoch: 030 | Batch: 000 | Loss: 1.47459 | Correct: 74/128\n"
          ],
          "name": "stderr"
        },
        {
          "output_type": "stream",
          "text": [
            "None\n"
          ],
          "name": "stdout"
        },
        {
          "output_type": "stream",
          "text": [
            "2021-07-13 16:32:18,088 - INFO: lr: 0.08909 | Epoch: 031 | Batch: 000 | Loss: 1.42422 | Correct: 72/128\n"
          ],
          "name": "stderr"
        },
        {
          "output_type": "stream",
          "text": [
            "None\n"
          ],
          "name": "stdout"
        },
        {
          "output_type": "stream",
          "text": [
            "2021-07-13 16:32:34,247 - INFO: lr: 0.08117 | Epoch: 032 | Batch: 000 | Loss: 1.48403 | Correct: 69/128\n"
          ],
          "name": "stderr"
        },
        {
          "output_type": "stream",
          "text": [
            "None\n"
          ],
          "name": "stdout"
        },
        {
          "output_type": "stream",
          "text": [
            "2021-07-13 16:32:50,368 - INFO: lr: 0.07169 | Epoch: 033 | Batch: 000 | Loss: 1.18878 | Correct: 81/128\n"
          ],
          "name": "stderr"
        },
        {
          "output_type": "stream",
          "text": [
            "None\n"
          ],
          "name": "stdout"
        },
        {
          "output_type": "stream",
          "text": [
            "2021-07-13 16:33:06,493 - INFO: lr: 0.06113 | Epoch: 034 | Batch: 000 | Loss: 1.17671 | Correct: 86/128\n"
          ],
          "name": "stderr"
        },
        {
          "output_type": "stream",
          "text": [
            "None\n"
          ],
          "name": "stdout"
        },
        {
          "output_type": "stream",
          "text": [
            "2021-07-13 16:33:22,651 - INFO: lr: 0.05000 | Epoch: 035 | Batch: 000 | Loss: 1.11352 | Correct: 87/128\n"
          ],
          "name": "stderr"
        },
        {
          "output_type": "stream",
          "text": [
            "None\n"
          ],
          "name": "stdout"
        },
        {
          "output_type": "stream",
          "text": [
            "2021-07-13 16:33:38,802 - INFO: lr: 0.03887 | Epoch: 036 | Batch: 000 | Loss: 0.89495 | Correct: 93/128\n"
          ],
          "name": "stderr"
        },
        {
          "output_type": "stream",
          "text": [
            "None\n"
          ],
          "name": "stdout"
        },
        {
          "output_type": "stream",
          "text": [
            "2021-07-13 16:33:54,904 - INFO: lr: 0.02831 | Epoch: 037 | Batch: 000 | Loss: 0.67106 | Correct: 106/128\n"
          ],
          "name": "stderr"
        },
        {
          "output_type": "stream",
          "text": [
            "None\n"
          ],
          "name": "stdout"
        },
        {
          "output_type": "stream",
          "text": [
            "2021-07-13 16:34:11,031 - INFO: lr: 0.01883 | Epoch: 038 | Batch: 000 | Loss: 0.72035 | Correct: 104/128\n"
          ],
          "name": "stderr"
        },
        {
          "output_type": "stream",
          "text": [
            "None\n"
          ],
          "name": "stdout"
        },
        {
          "output_type": "stream",
          "text": [
            "2021-07-13 16:34:27,221 - INFO: lr: 0.01091 | Epoch: 039 | Batch: 000 | Loss: 0.66340 | Correct: 102/128\n"
          ],
          "name": "stderr"
        },
        {
          "output_type": "stream",
          "text": [
            "None\n"
          ],
          "name": "stdout"
        },
        {
          "output_type": "stream",
          "text": [
            "2021-07-13 16:34:43,376 - INFO: lr: 0.00495 | Epoch: 040 | Batch: 000 | Loss: 0.69362 | Correct: 102/128\n"
          ],
          "name": "stderr"
        },
        {
          "output_type": "stream",
          "text": [
            "None\n"
          ],
          "name": "stdout"
        },
        {
          "output_type": "stream",
          "text": [
            "2021-07-13 16:34:59,561 - INFO: lr: 0.00125 | Epoch: 041 | Batch: 000 | Loss: 0.81999 | Correct: 94/128\n"
          ],
          "name": "stderr"
        },
        {
          "output_type": "stream",
          "text": [
            "None\n"
          ],
          "name": "stdout"
        },
        {
          "output_type": "stream",
          "text": [
            "2021-07-13 16:35:14,989 - INFO: Save the snapshot model with index: 2\n",
            "2021-07-13 16:35:15,817 - INFO: n_estimators: 3 | Validation Acc: 74.107 % | Historical Best: 74.107 %\n",
            "2021-07-13 16:35:16,647 - INFO: lr: 0.10000 | Epoch: 042 | Batch: 000 | Loss: 0.84089 | Correct: 98/128\n"
          ],
          "name": "stderr"
        },
        {
          "output_type": "stream",
          "text": [
            "None\n"
          ],
          "name": "stdout"
        },
        {
          "output_type": "stream",
          "text": [
            "2021-07-13 16:35:32,858 - INFO: lr: 0.09875 | Epoch: 043 | Batch: 000 | Loss: 1.16460 | Correct: 84/128\n"
          ],
          "name": "stderr"
        },
        {
          "output_type": "stream",
          "text": [
            "None\n"
          ],
          "name": "stdout"
        },
        {
          "output_type": "stream",
          "text": [
            "2021-07-13 16:35:49,043 - INFO: lr: 0.09505 | Epoch: 044 | Batch: 000 | Loss: 1.26996 | Correct: 79/128\n"
          ],
          "name": "stderr"
        },
        {
          "output_type": "stream",
          "text": [
            "None\n"
          ],
          "name": "stdout"
        },
        {
          "output_type": "stream",
          "text": [
            "2021-07-13 16:36:05,269 - INFO: lr: 0.08909 | Epoch: 045 | Batch: 000 | Loss: 0.93536 | Correct: 93/128\n"
          ],
          "name": "stderr"
        },
        {
          "output_type": "stream",
          "text": [
            "None\n"
          ],
          "name": "stdout"
        },
        {
          "output_type": "stream",
          "text": [
            "2021-07-13 16:36:21,427 - INFO: lr: 0.08117 | Epoch: 046 | Batch: 000 | Loss: 0.88782 | Correct: 102/128\n"
          ],
          "name": "stderr"
        },
        {
          "output_type": "stream",
          "text": [
            "None\n"
          ],
          "name": "stdout"
        },
        {
          "output_type": "stream",
          "text": [
            "2021-07-13 16:36:37,539 - INFO: lr: 0.07169 | Epoch: 047 | Batch: 000 | Loss: 0.88776 | Correct: 96/128\n"
          ],
          "name": "stderr"
        },
        {
          "output_type": "stream",
          "text": [
            "None\n"
          ],
          "name": "stdout"
        },
        {
          "output_type": "stream",
          "text": [
            "2021-07-13 16:36:53,644 - INFO: lr: 0.06113 | Epoch: 048 | Batch: 000 | Loss: 0.70934 | Correct: 100/128\n"
          ],
          "name": "stderr"
        },
        {
          "output_type": "stream",
          "text": [
            "None\n"
          ],
          "name": "stdout"
        },
        {
          "output_type": "stream",
          "text": [
            "2021-07-13 16:37:09,771 - INFO: lr: 0.05000 | Epoch: 049 | Batch: 000 | Loss: 0.54946 | Correct: 107/128\n"
          ],
          "name": "stderr"
        },
        {
          "output_type": "stream",
          "text": [
            "None\n"
          ],
          "name": "stdout"
        },
        {
          "output_type": "stream",
          "text": [
            "2021-07-13 16:37:25,901 - INFO: lr: 0.03887 | Epoch: 050 | Batch: 000 | Loss: 0.46720 | Correct: 110/128\n"
          ],
          "name": "stderr"
        },
        {
          "output_type": "stream",
          "text": [
            "None\n"
          ],
          "name": "stdout"
        },
        {
          "output_type": "stream",
          "text": [
            "2021-07-13 16:37:41,970 - INFO: lr: 0.02831 | Epoch: 051 | Batch: 000 | Loss: 0.57219 | Correct: 104/128\n"
          ],
          "name": "stderr"
        },
        {
          "output_type": "stream",
          "text": [
            "None\n"
          ],
          "name": "stdout"
        },
        {
          "output_type": "stream",
          "text": [
            "2021-07-13 16:37:58,151 - INFO: lr: 0.01883 | Epoch: 052 | Batch: 000 | Loss: 0.53674 | Correct: 109/128\n"
          ],
          "name": "stderr"
        },
        {
          "output_type": "stream",
          "text": [
            "None\n"
          ],
          "name": "stdout"
        },
        {
          "output_type": "stream",
          "text": [
            "2021-07-13 16:38:14,295 - INFO: lr: 0.01091 | Epoch: 053 | Batch: 000 | Loss: 0.55128 | Correct: 108/128\n"
          ],
          "name": "stderr"
        },
        {
          "output_type": "stream",
          "text": [
            "None\n"
          ],
          "name": "stdout"
        },
        {
          "output_type": "stream",
          "text": [
            "2021-07-13 16:38:30,514 - INFO: lr: 0.00495 | Epoch: 054 | Batch: 000 | Loss: 0.36619 | Correct: 115/128\n"
          ],
          "name": "stderr"
        },
        {
          "output_type": "stream",
          "text": [
            "None\n"
          ],
          "name": "stdout"
        },
        {
          "output_type": "stream",
          "text": [
            "2021-07-13 16:38:46,755 - INFO: lr: 0.00125 | Epoch: 055 | Batch: 000 | Loss: 0.32449 | Correct: 113/128\n"
          ],
          "name": "stderr"
        },
        {
          "output_type": "stream",
          "text": [
            "None\n"
          ],
          "name": "stdout"
        },
        {
          "output_type": "stream",
          "text": [
            "2021-07-13 16:39:02,214 - INFO: Save the snapshot model with index: 3\n",
            "2021-07-13 16:39:03,169 - INFO: n_estimators: 4 | Validation Acc: 74.442 % | Historical Best: 74.442 %\n",
            "2021-07-13 16:39:03,977 - INFO: lr: 0.10000 | Epoch: 056 | Batch: 000 | Loss: 0.32214 | Correct: 116/128\n"
          ],
          "name": "stderr"
        },
        {
          "output_type": "stream",
          "text": [
            "None\n"
          ],
          "name": "stdout"
        },
        {
          "output_type": "stream",
          "text": [
            "2021-07-13 16:39:20,170 - INFO: lr: 0.09875 | Epoch: 057 | Batch: 000 | Loss: 0.99164 | Correct: 86/128\n"
          ],
          "name": "stderr"
        },
        {
          "output_type": "stream",
          "text": [
            "None\n"
          ],
          "name": "stdout"
        },
        {
          "output_type": "stream",
          "text": [
            "2021-07-13 16:39:36,331 - INFO: lr: 0.09505 | Epoch: 058 | Batch: 000 | Loss: 0.98915 | Correct: 85/128\n"
          ],
          "name": "stderr"
        },
        {
          "output_type": "stream",
          "text": [
            "None\n"
          ],
          "name": "stdout"
        },
        {
          "output_type": "stream",
          "text": [
            "2021-07-13 16:39:52,488 - INFO: lr: 0.08909 | Epoch: 059 | Batch: 000 | Loss: 0.87612 | Correct: 91/128\n"
          ],
          "name": "stderr"
        },
        {
          "output_type": "stream",
          "text": [
            "None\n"
          ],
          "name": "stdout"
        },
        {
          "output_type": "stream",
          "text": [
            "2021-07-13 16:40:08,643 - INFO: lr: 0.08117 | Epoch: 060 | Batch: 000 | Loss: 0.70584 | Correct: 98/128\n"
          ],
          "name": "stderr"
        },
        {
          "output_type": "stream",
          "text": [
            "None\n"
          ],
          "name": "stdout"
        },
        {
          "output_type": "stream",
          "text": [
            "2021-07-13 16:40:24,844 - INFO: lr: 0.07169 | Epoch: 061 | Batch: 000 | Loss: 0.58420 | Correct: 103/128\n"
          ],
          "name": "stderr"
        },
        {
          "output_type": "stream",
          "text": [
            "None\n"
          ],
          "name": "stdout"
        },
        {
          "output_type": "stream",
          "text": [
            "2021-07-13 16:40:40,974 - INFO: lr: 0.06113 | Epoch: 062 | Batch: 000 | Loss: 0.48445 | Correct: 111/128\n"
          ],
          "name": "stderr"
        },
        {
          "output_type": "stream",
          "text": [
            "None\n"
          ],
          "name": "stdout"
        },
        {
          "output_type": "stream",
          "text": [
            "2021-07-13 16:40:57,103 - INFO: lr: 0.05000 | Epoch: 063 | Batch: 000 | Loss: 0.34834 | Correct: 114/128\n"
          ],
          "name": "stderr"
        },
        {
          "output_type": "stream",
          "text": [
            "None\n"
          ],
          "name": "stdout"
        },
        {
          "output_type": "stream",
          "text": [
            "2021-07-13 16:41:13,268 - INFO: lr: 0.03887 | Epoch: 064 | Batch: 000 | Loss: 0.31352 | Correct: 116/128\n"
          ],
          "name": "stderr"
        },
        {
          "output_type": "stream",
          "text": [
            "None\n"
          ],
          "name": "stdout"
        },
        {
          "output_type": "stream",
          "text": [
            "2021-07-13 16:41:29,474 - INFO: lr: 0.02831 | Epoch: 065 | Batch: 000 | Loss: 0.37448 | Correct: 115/128\n"
          ],
          "name": "stderr"
        },
        {
          "output_type": "stream",
          "text": [
            "None\n"
          ],
          "name": "stdout"
        },
        {
          "output_type": "stream",
          "text": [
            "2021-07-13 16:41:45,682 - INFO: lr: 0.01883 | Epoch: 066 | Batch: 000 | Loss: 0.29521 | Correct: 116/128\n"
          ],
          "name": "stderr"
        },
        {
          "output_type": "stream",
          "text": [
            "None\n"
          ],
          "name": "stdout"
        },
        {
          "output_type": "stream",
          "text": [
            "2021-07-13 16:42:01,813 - INFO: lr: 0.01091 | Epoch: 067 | Batch: 000 | Loss: 0.35412 | Correct: 117/128\n"
          ],
          "name": "stderr"
        },
        {
          "output_type": "stream",
          "text": [
            "None\n"
          ],
          "name": "stdout"
        },
        {
          "output_type": "stream",
          "text": [
            "2021-07-13 16:42:17,969 - INFO: lr: 0.00495 | Epoch: 068 | Batch: 000 | Loss: 0.23695 | Correct: 121/128\n"
          ],
          "name": "stderr"
        },
        {
          "output_type": "stream",
          "text": [
            "None\n"
          ],
          "name": "stdout"
        },
        {
          "output_type": "stream",
          "text": [
            "2021-07-13 16:42:34,140 - INFO: lr: 0.00125 | Epoch: 069 | Batch: 000 | Loss: 0.20241 | Correct: 120/128\n"
          ],
          "name": "stderr"
        },
        {
          "output_type": "stream",
          "text": [
            "None\n"
          ],
          "name": "stdout"
        },
        {
          "output_type": "stream",
          "text": [
            "2021-07-13 16:42:49,524 - INFO: Save the snapshot model with index: 4\n",
            "2021-07-13 16:42:50,592 - INFO: n_estimators: 5 | Validation Acc: 75.223 % | Historical Best: 75.223 %\n"
          ],
          "name": "stderr"
        },
        {
          "output_type": "stream",
          "text": [
            "Group 4 Finished!\n",
            "Target number of exemplars: 50\n",
            "Randomly extracting exemplars from class 0 of current split... Extracted 50 exemplars.\n",
            "Randomly extracting exemplars from class 1 of current split... Extracted 50 exemplars.\n",
            "Randomly extracting exemplars from class 2 of current split... Extracted 50 exemplars.\n",
            "Randomly extracting exemplars from class 3 of current split... Extracted 50 exemplars.\n",
            "Randomly extracting exemplars from class 4 of current split... Extracted 50 exemplars.\n",
            "Randomly extracting exemplars from class 5 of current split... Extracted 50 exemplars.\n",
            "Randomly extracting exemplars from class 6 of current split... Extracted 50 exemplars.\n",
            "Randomly extracting exemplars from class 7 of current split... Extracted 50 exemplars.\n",
            "Randomly extracting exemplars from class 8 of current split... Extracted 50 exemplars.\n",
            "Randomly extracting exemplars from class 9 of current split... Extracted 50 exemplars.\n",
            "[0.05408266129032258, 0.17154737903225806, 0.37739415322580644, 0.5090977822580646, 0.6666834677419354, 0.7611139112903226, 0.8709677419354839]\n",
            "[0.47631048387096775, 0.4581653225806452, 0.4107862903225806, 0.3639112903225806, 0.3001512096774194, 0.24647177419354838, 0.16733870967741934]\n",
            "Testing on both open and closed world\n",
            "owr harmonic mean (threshold:0.25) = 0.09713601619187465\n",
            "owr harmonic mean (threshold:0.35) = 0.249628314788206\n",
            "owr harmonic mean (threshold:0.5) = 0.3933828743456847\n",
            "owr harmonic mean (threshold:0.6) = 0.424431856805892\n",
            "owr harmonic mean (threshold:0.75) = 0.41394015748130814\n",
            "owr harmonic mean (threshold:0.85) = 0.3723615743687929\n",
            "owr harmonic mean (threshold:0.95) = 0.2807391168180394\n",
            "\n",
            "=============================================\n",
            "\n",
            "Length of exemplars set: 2000\n"
          ],
          "name": "stdout"
        },
        {
          "output_type": "stream",
          "text": [
            "2021-07-13 16:43:29,072 - INFO: lr: 0.10000 | Epoch: 000 | Batch: 000 | Loss: 5.02275 | Correct: 10/128\n"
          ],
          "name": "stderr"
        },
        {
          "output_type": "stream",
          "text": [
            "None\n"
          ],
          "name": "stdout"
        },
        {
          "output_type": "stream",
          "text": [
            "2021-07-13 16:43:45,545 - INFO: lr: 0.09875 | Epoch: 001 | Batch: 000 | Loss: 2.77630 | Correct: 38/128\n"
          ],
          "name": "stderr"
        },
        {
          "output_type": "stream",
          "text": [
            "None\n"
          ],
          "name": "stdout"
        },
        {
          "output_type": "stream",
          "text": [
            "2021-07-13 16:44:02,054 - INFO: lr: 0.09505 | Epoch: 002 | Batch: 000 | Loss: 2.80635 | Correct: 31/128\n"
          ],
          "name": "stderr"
        },
        {
          "output_type": "stream",
          "text": [
            "None\n"
          ],
          "name": "stdout"
        },
        {
          "output_type": "stream",
          "text": [
            "2021-07-13 16:44:18,543 - INFO: lr: 0.08909 | Epoch: 003 | Batch: 000 | Loss: 2.30846 | Correct: 50/128\n"
          ],
          "name": "stderr"
        },
        {
          "output_type": "stream",
          "text": [
            "None\n"
          ],
          "name": "stdout"
        },
        {
          "output_type": "stream",
          "text": [
            "2021-07-13 16:44:35,030 - INFO: lr: 0.08117 | Epoch: 004 | Batch: 000 | Loss: 2.51629 | Correct: 48/128\n"
          ],
          "name": "stderr"
        },
        {
          "output_type": "stream",
          "text": [
            "None\n"
          ],
          "name": "stdout"
        },
        {
          "output_type": "stream",
          "text": [
            "2021-07-13 16:44:51,457 - INFO: lr: 0.07169 | Epoch: 005 | Batch: 000 | Loss: 2.25150 | Correct: 53/128\n"
          ],
          "name": "stderr"
        },
        {
          "output_type": "stream",
          "text": [
            "None\n"
          ],
          "name": "stdout"
        },
        {
          "output_type": "stream",
          "text": [
            "2021-07-13 16:45:07,962 - INFO: lr: 0.06113 | Epoch: 006 | Batch: 000 | Loss: 2.09018 | Correct: 60/128\n"
          ],
          "name": "stderr"
        },
        {
          "output_type": "stream",
          "text": [
            "None\n"
          ],
          "name": "stdout"
        },
        {
          "output_type": "stream",
          "text": [
            "2021-07-13 16:45:24,555 - INFO: lr: 0.05000 | Epoch: 007 | Batch: 000 | Loss: 2.35233 | Correct: 53/128\n"
          ],
          "name": "stderr"
        },
        {
          "output_type": "stream",
          "text": [
            "None\n"
          ],
          "name": "stdout"
        },
        {
          "output_type": "stream",
          "text": [
            "2021-07-13 16:45:41,081 - INFO: lr: 0.03887 | Epoch: 008 | Batch: 000 | Loss: 2.18265 | Correct: 59/128\n"
          ],
          "name": "stderr"
        },
        {
          "output_type": "stream",
          "text": [
            "None\n"
          ],
          "name": "stdout"
        },
        {
          "output_type": "stream",
          "text": [
            "2021-07-13 16:45:57,601 - INFO: lr: 0.02831 | Epoch: 009 | Batch: 000 | Loss: 2.12264 | Correct: 50/128\n"
          ],
          "name": "stderr"
        },
        {
          "output_type": "stream",
          "text": [
            "None\n"
          ],
          "name": "stdout"
        },
        {
          "output_type": "stream",
          "text": [
            "2021-07-13 16:46:14,157 - INFO: lr: 0.01883 | Epoch: 010 | Batch: 000 | Loss: 1.98563 | Correct: 60/128\n"
          ],
          "name": "stderr"
        },
        {
          "output_type": "stream",
          "text": [
            "None\n"
          ],
          "name": "stdout"
        },
        {
          "output_type": "stream",
          "text": [
            "2021-07-13 16:46:30,734 - INFO: lr: 0.01091 | Epoch: 011 | Batch: 000 | Loss: 1.86111 | Correct: 66/128\n"
          ],
          "name": "stderr"
        },
        {
          "output_type": "stream",
          "text": [
            "None\n"
          ],
          "name": "stdout"
        },
        {
          "output_type": "stream",
          "text": [
            "2021-07-13 16:46:47,259 - INFO: lr: 0.00495 | Epoch: 012 | Batch: 000 | Loss: 1.96609 | Correct: 57/128\n"
          ],
          "name": "stderr"
        },
        {
          "output_type": "stream",
          "text": [
            "None\n"
          ],
          "name": "stdout"
        },
        {
          "output_type": "stream",
          "text": [
            "2021-07-13 16:47:03,774 - INFO: lr: 0.00125 | Epoch: 013 | Batch: 000 | Loss: 1.73980 | Correct: 67/128\n"
          ],
          "name": "stderr"
        },
        {
          "output_type": "stream",
          "text": [
            "None\n"
          ],
          "name": "stdout"
        },
        {
          "output_type": "stream",
          "text": [
            "2021-07-13 16:47:19,505 - INFO: Save the snapshot model with index: 0\n",
            "2021-07-13 16:47:20,108 - INFO: n_estimators: 1 | Validation Acc: 62.946 % | Historical Best: 62.946 %\n",
            "2021-07-13 16:47:20,915 - INFO: lr: 0.10000 | Epoch: 014 | Batch: 000 | Loss: 1.98232 | Correct: 56/128\n"
          ],
          "name": "stderr"
        },
        {
          "output_type": "stream",
          "text": [
            "None\n"
          ],
          "name": "stdout"
        },
        {
          "output_type": "stream",
          "text": [
            "2021-07-13 16:47:37,406 - INFO: lr: 0.09875 | Epoch: 015 | Batch: 000 | Loss: 2.35929 | Correct: 50/128\n"
          ],
          "name": "stderr"
        },
        {
          "output_type": "stream",
          "text": [
            "None\n"
          ],
          "name": "stdout"
        },
        {
          "output_type": "stream",
          "text": [
            "2021-07-13 16:47:53,886 - INFO: lr: 0.09505 | Epoch: 016 | Batch: 000 | Loss: 2.12871 | Correct: 49/128\n"
          ],
          "name": "stderr"
        },
        {
          "output_type": "stream",
          "text": [
            "None\n"
          ],
          "name": "stdout"
        },
        {
          "output_type": "stream",
          "text": [
            "2021-07-13 16:48:10,355 - INFO: lr: 0.08909 | Epoch: 017 | Batch: 000 | Loss: 1.93213 | Correct: 61/128\n"
          ],
          "name": "stderr"
        },
        {
          "output_type": "stream",
          "text": [
            "None\n"
          ],
          "name": "stdout"
        },
        {
          "output_type": "stream",
          "text": [
            "2021-07-13 16:48:26,884 - INFO: lr: 0.08117 | Epoch: 018 | Batch: 000 | Loss: 1.65831 | Correct: 75/128\n"
          ],
          "name": "stderr"
        },
        {
          "output_type": "stream",
          "text": [
            "None\n"
          ],
          "name": "stdout"
        },
        {
          "output_type": "stream",
          "text": [
            "2021-07-13 16:48:43,374 - INFO: lr: 0.07169 | Epoch: 019 | Batch: 000 | Loss: 1.43125 | Correct: 78/128\n"
          ],
          "name": "stderr"
        },
        {
          "output_type": "stream",
          "text": [
            "None\n"
          ],
          "name": "stdout"
        },
        {
          "output_type": "stream",
          "text": [
            "2021-07-13 16:48:59,894 - INFO: lr: 0.06113 | Epoch: 020 | Batch: 000 | Loss: 1.60886 | Correct: 73/128\n"
          ],
          "name": "stderr"
        },
        {
          "output_type": "stream",
          "text": [
            "None\n"
          ],
          "name": "stdout"
        },
        {
          "output_type": "stream",
          "text": [
            "2021-07-13 16:49:16,405 - INFO: lr: 0.05000 | Epoch: 021 | Batch: 000 | Loss: 1.31836 | Correct: 84/128\n"
          ],
          "name": "stderr"
        },
        {
          "output_type": "stream",
          "text": [
            "None\n"
          ],
          "name": "stdout"
        },
        {
          "output_type": "stream",
          "text": [
            "2021-07-13 16:49:32,933 - INFO: lr: 0.03887 | Epoch: 022 | Batch: 000 | Loss: 1.50975 | Correct: 79/128\n"
          ],
          "name": "stderr"
        },
        {
          "output_type": "stream",
          "text": [
            "None\n"
          ],
          "name": "stdout"
        },
        {
          "output_type": "stream",
          "text": [
            "2021-07-13 16:49:49,407 - INFO: lr: 0.02831 | Epoch: 023 | Batch: 000 | Loss: 1.60382 | Correct: 71/128\n"
          ],
          "name": "stderr"
        },
        {
          "output_type": "stream",
          "text": [
            "None\n"
          ],
          "name": "stdout"
        },
        {
          "output_type": "stream",
          "text": [
            "2021-07-13 16:50:05,917 - INFO: lr: 0.01883 | Epoch: 024 | Batch: 000 | Loss: 1.55742 | Correct: 76/128\n"
          ],
          "name": "stderr"
        },
        {
          "output_type": "stream",
          "text": [
            "None\n"
          ],
          "name": "stdout"
        },
        {
          "output_type": "stream",
          "text": [
            "2021-07-13 16:50:22,463 - INFO: lr: 0.01091 | Epoch: 025 | Batch: 000 | Loss: 1.32607 | Correct: 82/128\n"
          ],
          "name": "stderr"
        },
        {
          "output_type": "stream",
          "text": [
            "None\n"
          ],
          "name": "stdout"
        },
        {
          "output_type": "stream",
          "text": [
            "2021-07-13 16:50:39,069 - INFO: lr: 0.00495 | Epoch: 026 | Batch: 000 | Loss: 1.23300 | Correct: 88/128\n"
          ],
          "name": "stderr"
        },
        {
          "output_type": "stream",
          "text": [
            "None\n"
          ],
          "name": "stdout"
        },
        {
          "output_type": "stream",
          "text": [
            "2021-07-13 16:50:55,696 - INFO: lr: 0.00125 | Epoch: 027 | Batch: 000 | Loss: 1.25064 | Correct: 83/128\n"
          ],
          "name": "stderr"
        },
        {
          "output_type": "stream",
          "text": [
            "None\n"
          ],
          "name": "stdout"
        },
        {
          "output_type": "stream",
          "text": [
            "2021-07-13 16:51:11,487 - INFO: Save the snapshot model with index: 1\n",
            "2021-07-13 16:51:12,212 - INFO: n_estimators: 2 | Validation Acc: 75.781 % | Historical Best: 75.781 %\n",
            "2021-07-13 16:51:13,041 - INFO: lr: 0.10000 | Epoch: 028 | Batch: 000 | Loss: 0.96028 | Correct: 89/128\n"
          ],
          "name": "stderr"
        },
        {
          "output_type": "stream",
          "text": [
            "None\n"
          ],
          "name": "stdout"
        },
        {
          "output_type": "stream",
          "text": [
            "2021-07-13 16:51:29,515 - INFO: lr: 0.09875 | Epoch: 029 | Batch: 000 | Loss: 1.73072 | Correct: 64/128\n"
          ],
          "name": "stderr"
        },
        {
          "output_type": "stream",
          "text": [
            "None\n"
          ],
          "name": "stdout"
        },
        {
          "output_type": "stream",
          "text": [
            "2021-07-13 16:51:45,993 - INFO: lr: 0.09505 | Epoch: 030 | Batch: 000 | Loss: 1.47932 | Correct: 75/128\n"
          ],
          "name": "stderr"
        },
        {
          "output_type": "stream",
          "text": [
            "None\n"
          ],
          "name": "stdout"
        },
        {
          "output_type": "stream",
          "text": [
            "2021-07-13 16:52:02,451 - INFO: lr: 0.08909 | Epoch: 031 | Batch: 000 | Loss: 1.30898 | Correct: 83/128\n"
          ],
          "name": "stderr"
        },
        {
          "output_type": "stream",
          "text": [
            "None\n"
          ],
          "name": "stdout"
        },
        {
          "output_type": "stream",
          "text": [
            "2021-07-13 16:52:18,928 - INFO: lr: 0.08117 | Epoch: 032 | Batch: 000 | Loss: 1.42983 | Correct: 75/128\n"
          ],
          "name": "stderr"
        },
        {
          "output_type": "stream",
          "text": [
            "None\n"
          ],
          "name": "stdout"
        },
        {
          "output_type": "stream",
          "text": [
            "2021-07-13 16:52:35,450 - INFO: lr: 0.07169 | Epoch: 033 | Batch: 000 | Loss: 1.35674 | Correct: 80/128\n"
          ],
          "name": "stderr"
        },
        {
          "output_type": "stream",
          "text": [
            "None\n"
          ],
          "name": "stdout"
        },
        {
          "output_type": "stream",
          "text": [
            "2021-07-13 16:52:51,987 - INFO: lr: 0.06113 | Epoch: 034 | Batch: 000 | Loss: 1.06374 | Correct: 92/128\n"
          ],
          "name": "stderr"
        },
        {
          "output_type": "stream",
          "text": [
            "None\n"
          ],
          "name": "stdout"
        },
        {
          "output_type": "stream",
          "text": [
            "2021-07-13 16:53:08,503 - INFO: lr: 0.05000 | Epoch: 035 | Batch: 000 | Loss: 1.08761 | Correct: 87/128\n"
          ],
          "name": "stderr"
        },
        {
          "output_type": "stream",
          "text": [
            "None\n"
          ],
          "name": "stdout"
        },
        {
          "output_type": "stream",
          "text": [
            "2021-07-13 16:53:25,098 - INFO: lr: 0.03887 | Epoch: 036 | Batch: 000 | Loss: 0.89223 | Correct: 98/128\n"
          ],
          "name": "stderr"
        },
        {
          "output_type": "stream",
          "text": [
            "None\n"
          ],
          "name": "stdout"
        },
        {
          "output_type": "stream",
          "text": [
            "2021-07-13 16:53:41,614 - INFO: lr: 0.02831 | Epoch: 037 | Batch: 000 | Loss: 0.79909 | Correct: 100/128\n"
          ],
          "name": "stderr"
        },
        {
          "output_type": "stream",
          "text": [
            "None\n"
          ],
          "name": "stdout"
        },
        {
          "output_type": "stream",
          "text": [
            "2021-07-13 16:53:58,153 - INFO: lr: 0.01883 | Epoch: 038 | Batch: 000 | Loss: 0.87052 | Correct: 94/128\n"
          ],
          "name": "stderr"
        },
        {
          "output_type": "stream",
          "text": [
            "None\n"
          ],
          "name": "stdout"
        },
        {
          "output_type": "stream",
          "text": [
            "2021-07-13 16:54:14,667 - INFO: lr: 0.01091 | Epoch: 039 | Batch: 000 | Loss: 0.69364 | Correct: 103/128\n"
          ],
          "name": "stderr"
        },
        {
          "output_type": "stream",
          "text": [
            "None\n"
          ],
          "name": "stdout"
        },
        {
          "output_type": "stream",
          "text": [
            "2021-07-13 16:54:31,210 - INFO: lr: 0.00495 | Epoch: 040 | Batch: 000 | Loss: 0.79131 | Correct: 101/128\n"
          ],
          "name": "stderr"
        },
        {
          "output_type": "stream",
          "text": [
            "None\n"
          ],
          "name": "stdout"
        },
        {
          "output_type": "stream",
          "text": [
            "2021-07-13 16:54:47,706 - INFO: lr: 0.00125 | Epoch: 041 | Batch: 000 | Loss: 0.91124 | Correct: 96/128\n"
          ],
          "name": "stderr"
        },
        {
          "output_type": "stream",
          "text": [
            "None\n"
          ],
          "name": "stdout"
        },
        {
          "output_type": "stream",
          "text": [
            "2021-07-13 16:55:03,430 - INFO: Save the snapshot model with index: 2\n",
            "2021-07-13 16:55:04,244 - INFO: n_estimators: 3 | Validation Acc: 78.795 % | Historical Best: 78.795 %\n",
            "2021-07-13 16:55:05,040 - INFO: lr: 0.10000 | Epoch: 042 | Batch: 000 | Loss: 0.70756 | Correct: 105/128\n"
          ],
          "name": "stderr"
        },
        {
          "output_type": "stream",
          "text": [
            "None\n"
          ],
          "name": "stdout"
        },
        {
          "output_type": "stream",
          "text": [
            "2021-07-13 16:55:21,526 - INFO: lr: 0.09875 | Epoch: 043 | Batch: 000 | Loss: 1.11109 | Correct: 82/128\n"
          ],
          "name": "stderr"
        },
        {
          "output_type": "stream",
          "text": [
            "None\n"
          ],
          "name": "stdout"
        },
        {
          "output_type": "stream",
          "text": [
            "2021-07-13 16:55:38,003 - INFO: lr: 0.09505 | Epoch: 044 | Batch: 000 | Loss: 1.31085 | Correct: 82/128\n"
          ],
          "name": "stderr"
        },
        {
          "output_type": "stream",
          "text": [
            "None\n"
          ],
          "name": "stdout"
        },
        {
          "output_type": "stream",
          "text": [
            "2021-07-13 16:55:54,435 - INFO: lr: 0.08909 | Epoch: 045 | Batch: 000 | Loss: 0.96376 | Correct: 89/128\n"
          ],
          "name": "stderr"
        },
        {
          "output_type": "stream",
          "text": [
            "None\n"
          ],
          "name": "stdout"
        },
        {
          "output_type": "stream",
          "text": [
            "2021-07-13 16:56:10,954 - INFO: lr: 0.08117 | Epoch: 046 | Batch: 000 | Loss: 0.97221 | Correct: 90/128\n"
          ],
          "name": "stderr"
        },
        {
          "output_type": "stream",
          "text": [
            "None\n"
          ],
          "name": "stdout"
        },
        {
          "output_type": "stream",
          "text": [
            "2021-07-13 16:56:27,512 - INFO: lr: 0.07169 | Epoch: 047 | Batch: 000 | Loss: 1.20496 | Correct: 84/128\n"
          ],
          "name": "stderr"
        },
        {
          "output_type": "stream",
          "text": [
            "None\n"
          ],
          "name": "stdout"
        },
        {
          "output_type": "stream",
          "text": [
            "2021-07-13 16:56:44,018 - INFO: lr: 0.06113 | Epoch: 048 | Batch: 000 | Loss: 0.94546 | Correct: 93/128\n"
          ],
          "name": "stderr"
        },
        {
          "output_type": "stream",
          "text": [
            "None\n"
          ],
          "name": "stdout"
        },
        {
          "output_type": "stream",
          "text": [
            "2021-07-13 16:57:00,539 - INFO: lr: 0.05000 | Epoch: 049 | Batch: 000 | Loss: 0.78664 | Correct: 100/128\n"
          ],
          "name": "stderr"
        },
        {
          "output_type": "stream",
          "text": [
            "None\n"
          ],
          "name": "stdout"
        },
        {
          "output_type": "stream",
          "text": [
            "2021-07-13 16:57:17,069 - INFO: lr: 0.03887 | Epoch: 050 | Batch: 000 | Loss: 0.63161 | Correct: 107/128\n"
          ],
          "name": "stderr"
        },
        {
          "output_type": "stream",
          "text": [
            "None\n"
          ],
          "name": "stdout"
        },
        {
          "output_type": "stream",
          "text": [
            "2021-07-13 16:57:33,648 - INFO: lr: 0.02831 | Epoch: 051 | Batch: 000 | Loss: 0.60121 | Correct: 109/128\n"
          ],
          "name": "stderr"
        },
        {
          "output_type": "stream",
          "text": [
            "None\n"
          ],
          "name": "stdout"
        },
        {
          "output_type": "stream",
          "text": [
            "2021-07-13 16:57:50,187 - INFO: lr: 0.01883 | Epoch: 052 | Batch: 000 | Loss: 0.50280 | Correct: 113/128\n"
          ],
          "name": "stderr"
        },
        {
          "output_type": "stream",
          "text": [
            "None\n"
          ],
          "name": "stdout"
        },
        {
          "output_type": "stream",
          "text": [
            "2021-07-13 16:58:06,725 - INFO: lr: 0.01091 | Epoch: 053 | Batch: 000 | Loss: 0.48708 | Correct: 110/128\n"
          ],
          "name": "stderr"
        },
        {
          "output_type": "stream",
          "text": [
            "None\n"
          ],
          "name": "stdout"
        },
        {
          "output_type": "stream",
          "text": [
            "2021-07-13 16:58:23,245 - INFO: lr: 0.00495 | Epoch: 054 | Batch: 000 | Loss: 0.47534 | Correct: 109/128\n"
          ],
          "name": "stderr"
        },
        {
          "output_type": "stream",
          "text": [
            "None\n"
          ],
          "name": "stdout"
        },
        {
          "output_type": "stream",
          "text": [
            "2021-07-13 16:58:39,768 - INFO: lr: 0.00125 | Epoch: 055 | Batch: 000 | Loss: 0.57052 | Correct: 109/128\n"
          ],
          "name": "stderr"
        },
        {
          "output_type": "stream",
          "text": [
            "None\n"
          ],
          "name": "stdout"
        },
        {
          "output_type": "stream",
          "text": [
            "2021-07-13 16:58:55,434 - INFO: Save the snapshot model with index: 3\n",
            "2021-07-13 16:58:56,404 - INFO: n_estimators: 4 | Validation Acc: 80.246 % | Historical Best: 80.246 %\n",
            "2021-07-13 16:58:57,217 - INFO: lr: 0.10000 | Epoch: 056 | Batch: 000 | Loss: 0.46377 | Correct: 110/128\n"
          ],
          "name": "stderr"
        },
        {
          "output_type": "stream",
          "text": [
            "None\n"
          ],
          "name": "stdout"
        },
        {
          "output_type": "stream",
          "text": [
            "2021-07-13 16:59:13,754 - INFO: lr: 0.09875 | Epoch: 057 | Batch: 000 | Loss: 1.14089 | Correct: 86/128\n"
          ],
          "name": "stderr"
        },
        {
          "output_type": "stream",
          "text": [
            "None\n"
          ],
          "name": "stdout"
        },
        {
          "output_type": "stream",
          "text": [
            "2021-07-13 16:59:30,229 - INFO: lr: 0.09505 | Epoch: 058 | Batch: 000 | Loss: 0.68910 | Correct: 101/128\n"
          ],
          "name": "stderr"
        },
        {
          "output_type": "stream",
          "text": [
            "None\n"
          ],
          "name": "stdout"
        },
        {
          "output_type": "stream",
          "text": [
            "2021-07-13 16:59:46,711 - INFO: lr: 0.08909 | Epoch: 059 | Batch: 000 | Loss: 0.84254 | Correct: 97/128\n"
          ],
          "name": "stderr"
        },
        {
          "output_type": "stream",
          "text": [
            "None\n"
          ],
          "name": "stdout"
        },
        {
          "output_type": "stream",
          "text": [
            "2021-07-13 17:00:03,237 - INFO: lr: 0.08117 | Epoch: 060 | Batch: 000 | Loss: 1.07727 | Correct: 90/128\n"
          ],
          "name": "stderr"
        },
        {
          "output_type": "stream",
          "text": [
            "None\n"
          ],
          "name": "stdout"
        },
        {
          "output_type": "stream",
          "text": [
            "2021-07-13 17:00:19,826 - INFO: lr: 0.07169 | Epoch: 061 | Batch: 000 | Loss: 0.64909 | Correct: 102/128\n"
          ],
          "name": "stderr"
        },
        {
          "output_type": "stream",
          "text": [
            "None\n"
          ],
          "name": "stdout"
        },
        {
          "output_type": "stream",
          "text": [
            "2021-07-13 17:00:36,376 - INFO: lr: 0.06113 | Epoch: 062 | Batch: 000 | Loss: 0.46855 | Correct: 107/128\n"
          ],
          "name": "stderr"
        },
        {
          "output_type": "stream",
          "text": [
            "None\n"
          ],
          "name": "stdout"
        },
        {
          "output_type": "stream",
          "text": [
            "2021-07-13 17:00:52,913 - INFO: lr: 0.05000 | Epoch: 063 | Batch: 000 | Loss: 0.48443 | Correct: 111/128\n"
          ],
          "name": "stderr"
        },
        {
          "output_type": "stream",
          "text": [
            "None\n"
          ],
          "name": "stdout"
        },
        {
          "output_type": "stream",
          "text": [
            "2021-07-13 17:01:09,403 - INFO: lr: 0.03887 | Epoch: 064 | Batch: 000 | Loss: 0.55883 | Correct: 109/128\n"
          ],
          "name": "stderr"
        },
        {
          "output_type": "stream",
          "text": [
            "None\n"
          ],
          "name": "stdout"
        },
        {
          "output_type": "stream",
          "text": [
            "2021-07-13 17:01:25,899 - INFO: lr: 0.02831 | Epoch: 065 | Batch: 000 | Loss: 0.32357 | Correct: 116/128\n"
          ],
          "name": "stderr"
        },
        {
          "output_type": "stream",
          "text": [
            "None\n"
          ],
          "name": "stdout"
        },
        {
          "output_type": "stream",
          "text": [
            "2021-07-13 17:01:42,422 - INFO: lr: 0.01883 | Epoch: 066 | Batch: 000 | Loss: 0.42186 | Correct: 110/128\n"
          ],
          "name": "stderr"
        },
        {
          "output_type": "stream",
          "text": [
            "None\n"
          ],
          "name": "stdout"
        },
        {
          "output_type": "stream",
          "text": [
            "2021-07-13 17:01:58,882 - INFO: lr: 0.01091 | Epoch: 067 | Batch: 000 | Loss: 0.26935 | Correct: 119/128\n"
          ],
          "name": "stderr"
        },
        {
          "output_type": "stream",
          "text": [
            "None\n"
          ],
          "name": "stdout"
        },
        {
          "output_type": "stream",
          "text": [
            "2021-07-13 17:02:15,331 - INFO: lr: 0.00495 | Epoch: 068 | Batch: 000 | Loss: 0.31648 | Correct: 117/128\n"
          ],
          "name": "stderr"
        },
        {
          "output_type": "stream",
          "text": [
            "None\n"
          ],
          "name": "stdout"
        },
        {
          "output_type": "stream",
          "text": [
            "2021-07-13 17:02:31,810 - INFO: lr: 0.00125 | Epoch: 069 | Batch: 000 | Loss: 0.29309 | Correct: 117/128\n"
          ],
          "name": "stderr"
        },
        {
          "output_type": "stream",
          "text": [
            "None\n"
          ],
          "name": "stdout"
        },
        {
          "output_type": "stream",
          "text": [
            "2021-07-13 17:02:47,522 - INFO: Save the snapshot model with index: 4\n",
            "2021-07-13 17:02:48,588 - INFO: n_estimators: 5 | Validation Acc: 80.915 % | Historical Best: 80.915 %\n"
          ],
          "name": "stderr"
        },
        {
          "output_type": "stream",
          "text": [
            "Group 5 Finished!\n",
            "Target number of exemplars: 40\n",
            "Randomly extracting exemplars from class 0 of current split... Extracted 40 exemplars.\n",
            "Randomly extracting exemplars from class 1 of current split... Extracted 40 exemplars.\n",
            "Randomly extracting exemplars from class 2 of current split... Extracted 40 exemplars.\n",
            "Randomly extracting exemplars from class 3 of current split... Extracted 40 exemplars.\n",
            "Randomly extracting exemplars from class 4 of current split... Extracted 40 exemplars.\n",
            "Randomly extracting exemplars from class 5 of current split... Extracted 40 exemplars.\n",
            "Randomly extracting exemplars from class 6 of current split... Extracted 40 exemplars.\n",
            "Randomly extracting exemplars from class 7 of current split... Extracted 40 exemplars.\n",
            "Randomly extracting exemplars from class 8 of current split... Extracted 40 exemplars.\n",
            "Randomly extracting exemplars from class 9 of current split... Extracted 40 exemplars.\n",
            "[0.0917086693548387, 0.23218245967741935, 0.4409274193548387, 0.5527217741935484, 0.6953125, 0.777116935483871, 0.8731350806451613]\n",
            "[0.3954326923076923, 0.3719951923076923, 0.32592147435897434, 0.29146634615384615, 0.24078525641025642, 0.2029246794871795, 0.13661858974358973]\n",
            "Testing on both open and closed world\n",
            "owr harmonic mean (threshold:0.25) = 0.14888740265115186\n",
            "owr harmonic mean (threshold:0.35) = 0.285911795824924\n",
            "owr harmonic mean (threshold:0.5) = 0.3748006048635138\n",
            "owr harmonic mean (threshold:0.6) = 0.38166800048683475\n",
            "owr harmonic mean (threshold:0.75) = 0.3576998181040017\n",
            "owr harmonic mean (threshold:0.85) = 0.321815324264127\n",
            "owr harmonic mean (threshold:0.95) = 0.23626848185156407\n",
            "\n",
            "=============================================\n",
            "\n",
            "#################################\n",
            "\n",
            "\n"
          ],
          "name": "stdout"
        }
      ]
    },
    {
      "cell_type": "code",
      "metadata": {
        "id": "FlhjGZlYBYdR"
      },
      "source": [
        "predictions = [[logs[run_i]['predictions'][i].cpu().numpy() for i in range(len(logs[run_i]['predictions']))] for run_i in range(len(RANDOM_SEED))]"
      ],
      "execution_count": 10,
      "outputs": []
    },
    {
      "cell_type": "code",
      "metadata": {
        "id": "ReLwAHhLCvfn"
      },
      "source": [
        "accuracies = []\n",
        "for i in range(len(REJECTION_THRESHOLD)):\n",
        "  tmp_list = []\n",
        "  for k in range(5):\n",
        "    tmp_list.append(logs[0]['test_accuracies'][k][i])\n",
        "  accuracies.append(tmp_list)"
      ],
      "execution_count": 11,
      "outputs": []
    },
    {
      "cell_type": "code",
      "metadata": {
        "id": "8683fPolB-q8"
      },
      "source": [
        "true_labels = [logs[run_i]['true_labels'].cpu().data.numpy().tolist() for run_i in range(len(RANDOM_SEED))]"
      ],
      "execution_count": 12,
      "outputs": []
    },
    {
      "cell_type": "code",
      "metadata": {
        "colab": {
          "base_uri": "https://localhost:8080/"
        },
        "id": "jzGrXNnPMUa9",
        "outputId": "c629c131-fc38-4da2-e89e-e045c3e03406"
      },
      "source": [
        "import json\n",
        "\n",
        "with open('states/accuracies-mean-ultimo.json', 'w') as f:\n",
        "  json.dump(accuracies, f)\n",
        "f.close"
      ],
      "execution_count": 13,
      "outputs": [
        {
          "output_type": "execute_result",
          "data": {
            "text/plain": [
              "<function TextIOWrapper.close>"
            ]
          },
          "metadata": {
            "tags": []
          },
          "execution_count": 13
        }
      ]
    },
    {
      "cell_type": "markdown",
      "metadata": {
        "id": "2NMLqiIS19IJ"
      },
      "source": [
        "### Print some graphs"
      ]
    },
    {
      "cell_type": "code",
      "metadata": {
        "id": "G6Mg2QiIBNRo"
      },
      "source": [
        "from data.utils_plot import plot_train_val, plot_test_accuracies, plot_confusion_matrix"
      ],
      "execution_count": 14,
      "outputs": []
    },
    {
      "cell_type": "code",
      "metadata": {
        "id": "ttyNLP2hGnLN"
      },
      "source": [
        "accuracies = np.array([accuracies])\n",
        "accuracies_stats = np.array([accuracies.mean(0), accuracies.std(0)])"
      ],
      "execution_count": 15,
      "outputs": []
    },
    {
      "cell_type": "code",
      "metadata": {
        "colab": {
          "base_uri": "https://localhost:8080/"
        },
        "id": "ZthTHrJOp9f3",
        "outputId": "84ca55b3-b166-4091-9627-fc84ba852149"
      },
      "source": [
        "accuracies_stats[0][1]"
      ],
      "execution_count": null,
      "outputs": [
        {
          "output_type": "execute_result",
          "data": {
            "text/plain": [
              "array([0.07540297, 0.14683614, 0.18399227, 0.22879714, 0.26668931])"
            ]
          },
          "metadata": {
            "tags": []
          },
          "execution_count": 15
        }
      ]
    },
    {
      "cell_type": "markdown",
      "metadata": {
        "id": "llzylw_LF7e_"
      },
      "source": [
        "#### Test accuracy"
      ]
    },
    {
      "cell_type": "code",
      "metadata": {
        "colab": {
          "base_uri": "https://localhost:8080/",
          "height": 1000
        },
        "id": "NQfpluscGzX8",
        "outputId": "b320a0b2-789a-4c14-ccab-3372576f6125"
      },
      "source": [
        "def plot_test(stats, save_directory = None, title = \"\"):\n",
        "  mean = np.array(stats[0])\n",
        "  std = np.array(stats[1])\n",
        "  fig, ax = plt.subplots(figsize = (10, 5), dpi = 100)\n",
        "  x = np.arange(10, 51, 10)\n",
        "  ax.errorbar(x, mean, std)\n",
        "  ax.set_title(f\"Harmonic mean accuracy - threshold: {title}\")\n",
        "  ax.set_xlabel(\"Number of classes\")\n",
        "  ax.set_ylabel(\"Accuracy\")\n",
        "  plt.tight_layout()\n",
        "  if save_directory != None:\n",
        "    fig.savefig(save_directory)\n",
        "  plt.show()\n",
        "\n",
        "\n",
        "for i in range(len(REJECTION_THRESHOLD)):\n",
        "  plot_test(stats = [accuracies_stats[0][i],accuracies_stats[1][i]], title = REJECTION_THRESHOLD[i])"
      ],
      "execution_count": 16,
      "outputs": [
        {
          "output_type": "display_data",
          "data": {
            "image/png": "[encoded data removed]",
            "text/plain": [
              "<Figure size 1000x500 with 1 Axes>"
            ]
          },
          "metadata": {
            "tags": [],
            "needs_background": "light"
          }
        },
        {
          "output_type": "display_data",
          "data": {
            "image/png": "[encoded data removed]",
            "text/plain": [
              "<Figure size 1000x500 with 1 Axes>"
            ]
          },
          "metadata": {
            "tags": [],
            "needs_background": "light"
          }
        },
        {
          "output_type": "display_data",
          "data": {
            "image/png": "[encoded data removed]",
            "text/plain": [
              "<Figure size 1000x500 with 1 Axes>"
            ]
          },
          "metadata": {
            "tags": [],
            "needs_background": "light"
          }
        },
        {
          "output_type": "display_data",
          "data": {
            "image/png": "[encoded data removed]",
            "text/plain": [
              "<Figure size 1000x500 with 1 Axes>"
            ]
          },
          "metadata": {
            "tags": [],
            "needs_background": "light"
          }
        },
        {
          "output_type": "display_data",
          "data": {
            "image/png": "[encoded data removed]",
            "text/plain": [
              "<Figure size 1000x500 with 1 Axes>"
            ]
          },
          "metadata": {
            "tags": [],
            "needs_background": "light"
          }
        },
        {
          "output_type": "display_data",
          "data": {
            "image/png": "[encoded data removed]",
            "text/plain": [
              "<Figure size 1000x500 with 1 Axes>"
            ]
          },
          "metadata": {
            "tags": [],
            "needs_background": "light"
          }
        },
        {
          "output_type": "display_data",
          "data": {
            "image/png": "[encoded data removed]",
            "text/plain": [
              "<Figure size 1000x500 with 1 Axes>"
            ]
          },
          "metadata": {
            "tags": [],
            "needs_background": "light"
          }
        }
      ]
    },
    {
      "cell_type": "markdown",
      "metadata": {
        "id": "gN6cighYm1nG"
      },
      "source": [
        "#### Confusion Matrix"
      ]
    },
    {
      "cell_type": "code",
      "metadata": {
        "colab": {
          "base_uri": "https://localhost:8080/"
        },
        "id": "JZBrIV_SKq2W",
        "outputId": "bef868d1-73a2-4dde-e3b4-dab9311d8089"
      },
      "source": [
        "set(true_labels[0])"
      ],
      "execution_count": null,
      "outputs": [
        {
          "output_type": "execute_result",
          "data": {
            "text/plain": [
              "{0,\n",
              " 1,\n",
              " 2,\n",
              " 3,\n",
              " 4,\n",
              " 5,\n",
              " 6,\n",
              " 7,\n",
              " 8,\n",
              " 9,\n",
              " 10,\n",
              " 11,\n",
              " 12,\n",
              " 13,\n",
              " 14,\n",
              " 15,\n",
              " 16,\n",
              " 17,\n",
              " 18,\n",
              " 19,\n",
              " 20,\n",
              " 21,\n",
              " 22,\n",
              " 23,\n",
              " 24,\n",
              " 25,\n",
              " 26,\n",
              " 27,\n",
              " 28,\n",
              " 29,\n",
              " 30,\n",
              " 31,\n",
              " 32,\n",
              " 33,\n",
              " 34,\n",
              " 35,\n",
              " 36,\n",
              " 37,\n",
              " 38,\n",
              " 39,\n",
              " 40,\n",
              " 41,\n",
              " 42,\n",
              " 43,\n",
              " 44,\n",
              " 45,\n",
              " 46,\n",
              " 47,\n",
              " 48,\n",
              " 49,\n",
              " 50,\n",
              " 51,\n",
              " 52,\n",
              " 53,\n",
              " 54,\n",
              " 55,\n",
              " 56,\n",
              " 57,\n",
              " 58,\n",
              " 59,\n",
              " 60,\n",
              " 61,\n",
              " 62,\n",
              " 63,\n",
              " 64,\n",
              " 65,\n",
              " 66,\n",
              " 67,\n",
              " 68,\n",
              " 69,\n",
              " 70,\n",
              " 71,\n",
              " 72,\n",
              " 73,\n",
              " 74,\n",
              " 75,\n",
              " 76,\n",
              " 77,\n",
              " 78,\n",
              " 79,\n",
              " 80,\n",
              " 81,\n",
              " 82,\n",
              " 83,\n",
              " 84,\n",
              " 85,\n",
              " 86,\n",
              " 87,\n",
              " 88,\n",
              " 89,\n",
              " 90,\n",
              " 91,\n",
              " 92,\n",
              " 93,\n",
              " 94,\n",
              " 95,\n",
              " 96,\n",
              " 97,\n",
              " 98,\n",
              " 99}"
            ]
          },
          "metadata": {
            "tags": []
          },
          "execution_count": 17
        }
      ]
    },
    {
      "cell_type": "code",
      "metadata": {
        "id": "LPG6aNRjm5Se",
        "colab": {
          "base_uri": "https://localhost:8080/",
          "height": 1000
        },
        "outputId": "0dbe550c-c2a2-4372-b594-34cc2190c329"
      },
      "source": [
        "for i in range(len(REJECTION_THRESHOLD)):\n",
        "  targets = np.array(true_labels[0])\n",
        "  preds = np.array(predictions[0][i])\n",
        "  title = f\"Confusion matrix - Threshold: {REJECTION_THRESHOLD[i]}\"\n",
        "  plot_confusion_matrix(targets, preds, RANDOM_SEED[run], title)"
      ],
      "execution_count": null,
      "outputs": [
        {
          "output_type": "display_data",
          "data": {
            "image/png": "[encoded data removed]",
            "text/plain": [
              "<Figure size 500x500 with 2 Axes>"
            ]
          },
          "metadata": {
            "tags": [],
            "needs_background": "light"
          }
        },
        {
          "output_type": "display_data",
          "data": {
            "image/png": "[encoded data removed]",
            "text/plain": [
              "<Figure size 500x500 with 2 Axes>"
            ]
          },
          "metadata": {
            "tags": [],
            "needs_background": "light"
          }
        },
        {
          "output_type": "display_data",
          "data": {
            "image/png": "[encoded data removed]",
            "text/plain": [
              "<Figure size 500x500 with 2 Axes>"
            ]
          },
          "metadata": {
            "tags": [],
            "needs_background": "light"
          }
        },
        {
          "output_type": "display_data",
          "data": {
            "image/png": "[encoded data removed]",
            "text/plain": [
              "<Figure size 500x500 with 2 Axes>"
            ]
          },
          "metadata": {
            "tags": [],
            "needs_background": "light"
          }
        },
        {
          "output_type": "display_data",
          "data": {
            "image/png": "[encoded data removed]",
            "text/plain": [
              "<Figure size 500x500 with 2 Axes>"
            ]
          },
          "metadata": {
            "tags": [],
            "needs_background": "light"
          }
        },
        {
          "output_type": "display_data",
          "data": {
            "image/png": "[encoded data removed]",
            "text/plain": [
              "<Figure size 500x500 with 2 Axes>"
            ]
          },
          "metadata": {
            "tags": [],
            "needs_background": "light"
          }
        },
        {
          "output_type": "display_data",
          "data": {
            "image/png": "[encoded data removed]",
            "text/plain": [
              "<Figure size 500x500 with 2 Axes>"
            ]
          },
          "metadata": {
            "tags": [],
            "needs_background": "light"
          }
        }
      ]
    }
  ]
}