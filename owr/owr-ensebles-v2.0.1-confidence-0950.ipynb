{
  "nbformat": 4,
  "nbformat_minor": 0,
  "metadata": {
    "colab": {
      "name": "OWR-Ensembles.ipynb",
      "provenance": [],
      "include_colab_link": true
    },
    "kernelspec": {
      "name": "python3",
      "display_name": "Python 3"
    },
    "language_info": {
      "name": "python"
    },
    "accelerator": "GPU"
  },
  "cells": [
    {
      "cell_type": "markdown",
      "metadata": {
        "id": "view-in-github",
        "colab_type": "text"
      },
      "source": [
        "<a href=\"https://colab.research.google.com/github/cosminnedescu/ProjectMLDL/blob/main/owr/owr-ensebles-v2.0.1-confidence-0950.ipynb\" target=\"_parent\"><img src=\"https://colab.research.google.com/assets/colab-badge.svg\" alt=\"Open In Colab\"/></a>"
      ]
    },
    {
      "cell_type": "code",
      "metadata": {
        "id": "PF5bRIxnU-PW",
        "colab": {
          "base_uri": "https://localhost:8080/"
        },
        "outputId": "36133e3a-2ec5-4d68-fa8c-13ecd13fc1cd"
      },
      "source": [
        "# Avoid K80\n",
        "!nvidia-smi"
      ],
      "execution_count": 1,
      "outputs": [
        {
          "output_type": "stream",
          "text": [
            "Tue Jul 13 07:19:18 2021       \n",
            "+-----------------------------------------------------------------------------+\n",
            "| NVIDIA-SMI 470.42.01    Driver Version: 460.32.03    CUDA Version: 11.2     |\n",
            "|-------------------------------+----------------------+----------------------+\n",
            "| GPU  Name        Persistence-M| Bus-Id        Disp.A | Volatile Uncorr. ECC |\n",
            "| Fan  Temp  Perf  Pwr:Usage/Cap|         Memory-Usage | GPU-Util  Compute M. |\n",
            "|                               |                      |               MIG M. |\n",
            "|===============================+======================+======================|\n",
            "|   0  Tesla T4            Off  | 00000000:00:04.0 Off |                    0 |\n",
            "| N/A   67C    P8    11W /  70W |      0MiB / 15109MiB |      0%      Default |\n",
            "|                               |                      |                  N/A |\n",
            "+-------------------------------+----------------------+----------------------+\n",
            "                                                                               \n",
            "+-----------------------------------------------------------------------------+\n",
            "| Processes:                                                                  |\n",
            "|  GPU   GI   CI        PID   Type   Process name                  GPU Memory |\n",
            "|        ID   ID                                                   Usage      |\n",
            "|=============================================================================|\n",
            "|  No running processes found                                                 |\n",
            "+-----------------------------------------------------------------------------+\n"
          ],
          "name": "stdout"
        }
      ]
    },
    {
      "cell_type": "code",
      "metadata": {
        "id": "pJimWkPdQu6y"
      },
      "source": [
        "import os\n",
        "import random\n",
        "\n",
        "import torch\n",
        "import torch.nn as nn\n",
        "import torch.nn.init as init\n",
        "import torch.optim as optim\n",
        "from torch.autograd import Variable\n",
        "\n",
        "import torchvision\n",
        "from torchvision import transforms, datasets, models\n",
        "from torch.utils.data import Subset, DataLoader\n",
        "\n",
        "from PIL import Image\n",
        "\n",
        "import numpy as np\n",
        "import matplotlib \n",
        "import matplotlib.pyplot as plt\n",
        "from copy import copy\n",
        "from copy import deepcopy"
      ],
      "execution_count": 2,
      "outputs": []
    },
    {
      "cell_type": "markdown",
      "metadata": {
        "id": "7BZw-bZJ16ay"
      },
      "source": [
        "#### Cloning the Git repository"
      ]
    },
    {
      "cell_type": "code",
      "metadata": {
        "id": "yjntw1jZQ7Lg",
        "colab": {
          "base_uri": "https://localhost:8080/"
        },
        "outputId": "57d3ce48-8eac-41df-9fee-ee841797b0ed"
      },
      "source": [
        "!rm -rf ProjectMLDL\n",
        "if not os.path.isdir('/content/ProjectMLDL'):\n",
        "  !git clone https://github.com/cosminnedescu/ProjectMLDL.git\n",
        "  %cd /content/ProjectMLDL\n",
        "  !rm -rf LICENSE README.md"
      ],
      "execution_count": 3,
      "outputs": [
        {
          "output_type": "stream",
          "text": [
            "Cloning into 'ProjectMLDL'...\n",
            "remote: Enumerating objects: 3545, done.\u001b[K\n",
            "remote: Counting objects: 100% (961/961), done.\u001b[K\n",
            "remote: Compressing objects: 100% (401/401), done.\u001b[K\n",
            "remote: Total 3545 (delta 553), reused 931 (delta 544), pack-reused 2584\u001b[K\n",
            "Receiving objects: 100% (3545/3545), 181.77 MiB | 29.20 MiB/s, done.\n",
            "Resolving deltas: 100% (1938/1938), done.\n",
            "Checking out files: 100% (390/390), done.\n",
            "/content/ProjectMLDL\n"
          ],
          "name": "stdout"
        }
      ]
    },
    {
      "cell_type": "code",
      "metadata": {
        "id": "nvqmxRxo2lUW"
      },
      "source": [
        "from data.cifar100 import CIFAR100\n",
        "from model.resnet32_modified import resnet32\n",
        "import data.utils\n",
        "from model.owrEnsamble import owrEnsemble"
      ],
      "execution_count": 4,
      "outputs": []
    },
    {
      "cell_type": "code",
      "metadata": {
        "id": "XwomFTtQo1x-"
      },
      "source": [
        "# True mean and std of Cifar100 dataset (src=\"https://gist.github.com/weiaicunzai/e623931921efefd4c331622c344d8151\")\n",
        "mean = [0.5071, 0.4867, 0.4408]\n",
        "std = [0.2675, 0.2565, 0.2761]\n",
        "\n",
        "train_transform = transforms.Compose([\n",
        "    transforms.RandomCrop(32, padding=4),\n",
        "    transforms.RandomHorizontalFlip(),\n",
        "    transforms.ToTensor(),\n",
        "    transforms.Normalize(mean, std),\n",
        "])\n",
        "test_transform = transforms.Compose(\n",
        "    [transforms.ToTensor(), \n",
        "     transforms.Normalize(mean, std),\n",
        "     ])"
      ],
      "execution_count": 5,
      "outputs": []
    },
    {
      "cell_type": "markdown",
      "metadata": {
        "id": "yRoS-R_sRhHT"
      },
      "source": [
        "## Incremental Classifier and Representation Learning"
      ]
    },
    {
      "cell_type": "markdown",
      "metadata": {
        "id": "3ocVW0wM2Iw2"
      },
      "source": [
        "### Defining hyperparameters according to iCarl paper"
      ]
    },
    {
      "cell_type": "code",
      "metadata": {
        "id": "nmEo_9lnwyBk"
      },
      "source": [
        "# Settings\n",
        "DEVICE = 'cuda'\n",
        "NUM_CLASSES = 100         # Total number of classes\n",
        "VAL_SIZE = 0.2            # Proportion of validation set with respect to training set (between 0 and 1)\n",
        "\n",
        "# Training\n",
        "BATCH_SIZE = 128          # Batch size\n",
        "LR = 0.1                    # Initial learning rate\n",
        "                       \n",
        "MOMENTUM = 0.9            # Momentum for stochastic gradient descent (SGD)\n",
        "WEIGHT_DECAY = 1e-5       # Weight decay from iCaRL\n",
        "\n",
        "RANDOM_SEED = [20]  # Random seeds defining the runs of every method\n",
        "                          # Note: this should be at least 3 to have a fair benchmark\n",
        "\n",
        "NUM_EPOCHS = 70           # Total number of training epochs\n",
        "MILESTONES = [43, 63]     # Step down policy from iCaRL (MultiStepLR)\n",
        "                          # Decrease the learning rate by gamma at each milestone\n",
        "GAMMA = 0.2               # Gamma factor from iCaRL (1/5)\n",
        "\n",
        "HERDING = False           # True to perform prioritized selection, False to perform random selection\n",
        "CLASSIFY = True           # True to use mean-of-exemplar classifier, False to use network's output directly for classification\n",
        "\n",
        "REJECTION_THRESHOLD = [0.25,0.35,0.50,0.60,0.75,0.85,0.95]\n",
        "TESTING_MODE = 'harmonic' #open, closed, harmonic\n",
        "N_ESTIMATORS = 5\n",
        "CONFIDENCE = '0.950' #'0.900':1.47, '0.950':1.94, '0.975':2.45, '0.990':3.36\n",
        "    "
      ],
      "execution_count": 9,
      "outputs": []
    },
    {
      "cell_type": "code",
      "metadata": {
        "id": "rVh61C63FECy"
      },
      "source": [
        "def do_group_classes(run):\n",
        "\n",
        "  train_subset = [[] for i in range(10)]\n",
        "  train_dataloader = [[] for i in range(10)]\n",
        "  val_dataloader = [[] for i in range(10)]\n",
        "  test_dataloader = [[] for i in range(10)]\n",
        "\n",
        "  for i in range(10):\n",
        "    train_data = CIFAR100(\"dataset\", \n",
        "                          train=True, \n",
        "                          transform=train_transform, \n",
        "                          download=(run+i==0),\n",
        "                          random_state=RANDOM_SEED[run])\n",
        "    test_data = CIFAR100(\"dataset\", \n",
        "                         train=False, \n",
        "                         transform=test_transform, \n",
        "                         download=False,\n",
        "                         random_state=RANDOM_SEED[run])\n",
        "    \n",
        "    train_data.set_index_map(train_data.splits[i])\n",
        "    test_data.set_index_map([test_data.splits[j] for j in range(0, i+1)])\n",
        "    \n",
        "    train_indices, val_indices = train_data.train_val_split(VAL_SIZE, RANDOM_SEED[run])\n",
        "    \n",
        "    train_subset[i] = copy(Subset(train_data, train_indices))\n",
        "    val_subset = Subset(train_data, val_indices)\n",
        "\n",
        "    tmp_dl = DataLoader(val_subset,\n",
        "                       batch_size=BATCH_SIZE,\n",
        "                       shuffle=True, \n",
        "                       num_workers=4,\n",
        "                       drop_last=True)\n",
        "    val_dataloader[i] = copy(tmp_dl)\n",
        "\n",
        "    tmp_dl = DataLoader(test_data,\n",
        "                       batch_size=BATCH_SIZE,\n",
        "                       shuffle=True, \n",
        "                       num_workers=4,\n",
        "                       drop_last=True)\n",
        "    test_dataloader[i] = copy(tmp_dl)\n",
        "\n",
        "  return train_dataloader, val_dataloader, test_dataloader, train_subset"
      ],
      "execution_count": 7,
      "outputs": []
    },
    {
      "cell_type": "markdown",
      "metadata": {
        "id": "20APZIgI1eBy"
      },
      "source": [
        "### Going on with the model\n",
        "This is the main iCaRL step.\n",
        "\n",
        "This step is run 3 times with different `RANDOM_SEED`.\n",
        "Here the model is instantiated, trained and tested.\n",
        "\n",
        "Results and some statistics are then stored in the variable `logs`."
      ]
    },
    {
      "cell_type": "code",
      "metadata": {
        "id": "mJHKbipz0bMr",
        "colab": {
          "base_uri": "https://localhost:8080/"
        },
        "outputId": "525e1138-3aa7-44c6-9b17-b2555334447e"
      },
      "source": [
        "logs = [[] for i in range(len(RANDOM_SEED))]\n",
        "best_net_tot_classes = [None for i in range(len(RANDOM_SEED))]\n",
        "\n",
        "for run in range(len(RANDOM_SEED)):\n",
        "  print(\"#################################\")\n",
        "  print(f\"Radom seed: {RANDOM_SEED[run]}\")\n",
        "  print(\"\")\n",
        "\n",
        "  # get data_subsets separated in incremental groups of 10 classes\n",
        "  train_dl, val_dl, test_dl, train_set = do_group_classes(run)\n",
        "\n",
        "  #create the resnet\n",
        "  net = resnet32()\n",
        "  \n",
        "  trainer = owrEnsemble(DEVICE,\n",
        "                  net,\n",
        "                  LR,\n",
        "                  MOMENTUM,\n",
        "                  WEIGHT_DECAY,\n",
        "                  MILESTONES,\n",
        "                  GAMMA,\n",
        "                  train_dl,\n",
        "                  val_dl,\n",
        "                  test_dl,\n",
        "                  BATCH_SIZE,\n",
        "                  train_set,\n",
        "                  train_transform,\n",
        "                  test_transform,\n",
        "                  TESTING_MODE,\n",
        "                  REJECTION_THRESHOLD,\n",
        "                  N_ESTIMATORS,\n",
        "                  CONFIDENCE) \n",
        "\n",
        "  #train and evaluate the model\n",
        "  logs[run] = trainer.train_model(NUM_EPOCHS)\n",
        "\n",
        "  best_net_tot_classes[run] = deepcopy(trainer.best_net)\n",
        "\n",
        "  print(\"#################################\")\n",
        "  print(\"\")\n",
        "  print(\"\")"
      ],
      "execution_count": 10,
      "outputs": [
        {
          "output_type": "stream",
          "text": [
            "#################################\n",
            "Radom seed: 20\n",
            "\n",
            "Using downloaded and verified file: dataset/cifar-100-python.tar.gz\n",
            "Extracting dataset/cifar-100-python.tar.gz to dataset\n"
          ],
          "name": "stdout"
        },
        {
          "output_type": "stream",
          "text": [
            "/usr/local/lib/python3.7/dist-packages/torch/utils/data/dataloader.py:481: UserWarning: This DataLoader will create 4 worker processes in total. Our suggested max number of worker in current system is 2, which is smaller than what this DataLoader is going to create. Please be aware that excessive worker creation might get DataLoader running slow or even freeze, lower the worker number to avoid potential slowness/freeze if necessary.\n",
            "  cpuset_checked))\n"
          ],
          "name": "stderr"
        },
        {
          "output_type": "stream",
          "text": [
            "Log will be saved in '/content/ProjectMLDL/logs'.\n",
            "Create folder 'logs/'\n",
            "Start logging into file /content/ProjectMLDL/logs/classification_mnist_mlp-2021_07_13_07_20.log...\n",
            "Length of exemplars set: 0\n"
          ],
          "name": "stdout"
        },
        {
          "output_type": "stream",
          "text": [
            "2021-07-13 07:20:38,786 - INFO: lr: 0.10000 | Epoch: 000 | Batch: 000 | Loss: 2.30765 | Correct: 18/128\n"
          ],
          "name": "stderr"
        },
        {
          "output_type": "stream",
          "text": [
            "None\n"
          ],
          "name": "stdout"
        },
        {
          "output_type": "stream",
          "text": [
            "2021-07-13 07:20:40,939 - INFO: lr: 0.09875 | Epoch: 001 | Batch: 000 | Loss: 1.96117 | Correct: 29/128\n"
          ],
          "name": "stderr"
        },
        {
          "output_type": "stream",
          "text": [
            "None\n"
          ],
          "name": "stdout"
        },
        {
          "output_type": "stream",
          "text": [
            "2021-07-13 07:20:43,100 - INFO: lr: 0.09505 | Epoch: 002 | Batch: 000 | Loss: 1.49705 | Correct: 59/128\n"
          ],
          "name": "stderr"
        },
        {
          "output_type": "stream",
          "text": [
            "None\n"
          ],
          "name": "stdout"
        },
        {
          "output_type": "stream",
          "text": [
            "2021-07-13 07:20:45,191 - INFO: lr: 0.08909 | Epoch: 003 | Batch: 000 | Loss: 1.58324 | Correct: 44/128\n"
          ],
          "name": "stderr"
        },
        {
          "output_type": "stream",
          "text": [
            "None\n"
          ],
          "name": "stdout"
        },
        {
          "output_type": "stream",
          "text": [
            "2021-07-13 07:20:47,360 - INFO: lr: 0.08117 | Epoch: 004 | Batch: 000 | Loss: 1.43271 | Correct: 54/128\n"
          ],
          "name": "stderr"
        },
        {
          "output_type": "stream",
          "text": [
            "None\n"
          ],
          "name": "stdout"
        },
        {
          "output_type": "stream",
          "text": [
            "2021-07-13 07:20:49,475 - INFO: lr: 0.07169 | Epoch: 005 | Batch: 000 | Loss: 1.18675 | Correct: 67/128\n"
          ],
          "name": "stderr"
        },
        {
          "output_type": "stream",
          "text": [
            "None\n"
          ],
          "name": "stdout"
        },
        {
          "output_type": "stream",
          "text": [
            "2021-07-13 07:20:51,669 - INFO: lr: 0.06113 | Epoch: 006 | Batch: 000 | Loss: 1.03190 | Correct: 79/128\n"
          ],
          "name": "stderr"
        },
        {
          "output_type": "stream",
          "text": [
            "None\n"
          ],
          "name": "stdout"
        },
        {
          "output_type": "stream",
          "text": [
            "2021-07-13 07:20:53,769 - INFO: lr: 0.05000 | Epoch: 007 | Batch: 000 | Loss: 1.13116 | Correct: 72/128\n"
          ],
          "name": "stderr"
        },
        {
          "output_type": "stream",
          "text": [
            "None\n"
          ],
          "name": "stdout"
        },
        {
          "output_type": "stream",
          "text": [
            "2021-07-13 07:20:55,977 - INFO: lr: 0.03887 | Epoch: 008 | Batch: 000 | Loss: 1.04744 | Correct: 83/128\n"
          ],
          "name": "stderr"
        },
        {
          "output_type": "stream",
          "text": [
            "None\n"
          ],
          "name": "stdout"
        },
        {
          "output_type": "stream",
          "text": [
            "2021-07-13 07:20:58,142 - INFO: lr: 0.02831 | Epoch: 009 | Batch: 000 | Loss: 0.96885 | Correct: 85/128\n"
          ],
          "name": "stderr"
        },
        {
          "output_type": "stream",
          "text": [
            "None\n"
          ],
          "name": "stdout"
        },
        {
          "output_type": "stream",
          "text": [
            "2021-07-13 07:21:00,198 - INFO: lr: 0.01883 | Epoch: 010 | Batch: 000 | Loss: 0.82976 | Correct: 94/128\n"
          ],
          "name": "stderr"
        },
        {
          "output_type": "stream",
          "text": [
            "None\n"
          ],
          "name": "stdout"
        },
        {
          "output_type": "stream",
          "text": [
            "2021-07-13 07:21:02,416 - INFO: lr: 0.01091 | Epoch: 011 | Batch: 000 | Loss: 0.81599 | Correct: 93/128\n"
          ],
          "name": "stderr"
        },
        {
          "output_type": "stream",
          "text": [
            "None\n"
          ],
          "name": "stdout"
        },
        {
          "output_type": "stream",
          "text": [
            "2021-07-13 07:21:04,518 - INFO: lr: 0.00495 | Epoch: 012 | Batch: 000 | Loss: 0.78972 | Correct: 93/128\n"
          ],
          "name": "stderr"
        },
        {
          "output_type": "stream",
          "text": [
            "None\n"
          ],
          "name": "stdout"
        },
        {
          "output_type": "stream",
          "text": [
            "2021-07-13 07:21:06,734 - INFO: lr: 0.00125 | Epoch: 013 | Batch: 000 | Loss: 0.62895 | Correct: 95/128\n"
          ],
          "name": "stderr"
        },
        {
          "output_type": "stream",
          "text": [
            "None\n"
          ],
          "name": "stdout"
        },
        {
          "output_type": "stream",
          "text": [
            "2021-07-13 07:21:08,557 - INFO: Save the snapshot model with index: 0\n",
            "2021-07-13 07:21:09,149 - INFO: n_estimators: 1 | Validation Acc: 69.643 % | Historical Best: 69.643 %\n",
            "2021-07-13 07:21:09,536 - INFO: lr: 0.10000 | Epoch: 014 | Batch: 000 | Loss: 0.79472 | Correct: 92/128\n"
          ],
          "name": "stderr"
        },
        {
          "output_type": "stream",
          "text": [
            "None\n"
          ],
          "name": "stdout"
        },
        {
          "output_type": "stream",
          "text": [
            "2021-07-13 07:21:11,640 - INFO: lr: 0.09875 | Epoch: 015 | Batch: 000 | Loss: 1.01902 | Correct: 78/128\n"
          ],
          "name": "stderr"
        },
        {
          "output_type": "stream",
          "text": [
            "None\n"
          ],
          "name": "stdout"
        },
        {
          "output_type": "stream",
          "text": [
            "2021-07-13 07:21:13,867 - INFO: lr: 0.09505 | Epoch: 016 | Batch: 000 | Loss: 1.03020 | Correct: 79/128\n"
          ],
          "name": "stderr"
        },
        {
          "output_type": "stream",
          "text": [
            "None\n"
          ],
          "name": "stdout"
        },
        {
          "output_type": "stream",
          "text": [
            "2021-07-13 07:21:15,994 - INFO: lr: 0.08909 | Epoch: 017 | Batch: 000 | Loss: 0.99495 | Correct: 81/128\n"
          ],
          "name": "stderr"
        },
        {
          "output_type": "stream",
          "text": [
            "None\n"
          ],
          "name": "stdout"
        },
        {
          "output_type": "stream",
          "text": [
            "2021-07-13 07:21:18,201 - INFO: lr: 0.08117 | Epoch: 018 | Batch: 000 | Loss: 0.84791 | Correct: 91/128\n"
          ],
          "name": "stderr"
        },
        {
          "output_type": "stream",
          "text": [
            "None\n"
          ],
          "name": "stdout"
        },
        {
          "output_type": "stream",
          "text": [
            "2021-07-13 07:21:20,417 - INFO: lr: 0.07169 | Epoch: 019 | Batch: 000 | Loss: 0.79079 | Correct: 92/128\n"
          ],
          "name": "stderr"
        },
        {
          "output_type": "stream",
          "text": [
            "None\n"
          ],
          "name": "stdout"
        },
        {
          "output_type": "stream",
          "text": [
            "2021-07-13 07:21:22,611 - INFO: lr: 0.06113 | Epoch: 020 | Batch: 000 | Loss: 0.72268 | Correct: 92/128\n"
          ],
          "name": "stderr"
        },
        {
          "output_type": "stream",
          "text": [
            "None\n"
          ],
          "name": "stdout"
        },
        {
          "output_type": "stream",
          "text": [
            "2021-07-13 07:21:24,830 - INFO: lr: 0.05000 | Epoch: 021 | Batch: 000 | Loss: 0.68780 | Correct: 93/128\n"
          ],
          "name": "stderr"
        },
        {
          "output_type": "stream",
          "text": [
            "None\n"
          ],
          "name": "stdout"
        },
        {
          "output_type": "stream",
          "text": [
            "2021-07-13 07:21:26,908 - INFO: lr: 0.03887 | Epoch: 022 | Batch: 000 | Loss: 0.60620 | Correct: 104/128\n"
          ],
          "name": "stderr"
        },
        {
          "output_type": "stream",
          "text": [
            "None\n"
          ],
          "name": "stdout"
        },
        {
          "output_type": "stream",
          "text": [
            "2021-07-13 07:21:29,175 - INFO: lr: 0.02831 | Epoch: 023 | Batch: 000 | Loss: 0.42913 | Correct: 106/128\n"
          ],
          "name": "stderr"
        },
        {
          "output_type": "stream",
          "text": [
            "None\n"
          ],
          "name": "stdout"
        },
        {
          "output_type": "stream",
          "text": [
            "2021-07-13 07:21:31,289 - INFO: lr: 0.01883 | Epoch: 024 | Batch: 000 | Loss: 0.43518 | Correct: 109/128\n"
          ],
          "name": "stderr"
        },
        {
          "output_type": "stream",
          "text": [
            "None\n"
          ],
          "name": "stdout"
        },
        {
          "output_type": "stream",
          "text": [
            "2021-07-13 07:21:33,616 - INFO: lr: 0.01091 | Epoch: 025 | Batch: 000 | Loss: 0.56991 | Correct: 104/128\n"
          ],
          "name": "stderr"
        },
        {
          "output_type": "stream",
          "text": [
            "None\n"
          ],
          "name": "stdout"
        },
        {
          "output_type": "stream",
          "text": [
            "2021-07-13 07:21:35,782 - INFO: lr: 0.00495 | Epoch: 026 | Batch: 000 | Loss: 0.46954 | Correct: 105/128\n"
          ],
          "name": "stderr"
        },
        {
          "output_type": "stream",
          "text": [
            "None\n"
          ],
          "name": "stdout"
        },
        {
          "output_type": "stream",
          "text": [
            "2021-07-13 07:21:38,036 - INFO: lr: 0.00125 | Epoch: 027 | Batch: 000 | Loss: 0.51529 | Correct: 101/128\n"
          ],
          "name": "stderr"
        },
        {
          "output_type": "stream",
          "text": [
            "None\n"
          ],
          "name": "stdout"
        },
        {
          "output_type": "stream",
          "text": [
            "2021-07-13 07:21:39,879 - INFO: Save the snapshot model with index: 1\n",
            "2021-07-13 07:21:40,570 - INFO: n_estimators: 2 | Validation Acc: 77.009 % | Historical Best: 77.009 %\n",
            "2021-07-13 07:21:40,929 - INFO: lr: 0.10000 | Epoch: 028 | Batch: 000 | Loss: 0.38015 | Correct: 113/128\n"
          ],
          "name": "stderr"
        },
        {
          "output_type": "stream",
          "text": [
            "None\n"
          ],
          "name": "stdout"
        },
        {
          "output_type": "stream",
          "text": [
            "2021-07-13 07:21:43,131 - INFO: lr: 0.09875 | Epoch: 029 | Batch: 000 | Loss: 0.96720 | Correct: 83/128\n"
          ],
          "name": "stderr"
        },
        {
          "output_type": "stream",
          "text": [
            "None\n"
          ],
          "name": "stdout"
        },
        {
          "output_type": "stream",
          "text": [
            "2021-07-13 07:21:45,371 - INFO: lr: 0.09505 | Epoch: 030 | Batch: 000 | Loss: 0.57433 | Correct: 102/128\n"
          ],
          "name": "stderr"
        },
        {
          "output_type": "stream",
          "text": [
            "None\n"
          ],
          "name": "stdout"
        },
        {
          "output_type": "stream",
          "text": [
            "2021-07-13 07:21:47,558 - INFO: lr: 0.08909 | Epoch: 031 | Batch: 000 | Loss: 0.61340 | Correct: 93/128\n"
          ],
          "name": "stderr"
        },
        {
          "output_type": "stream",
          "text": [
            "None\n"
          ],
          "name": "stdout"
        },
        {
          "output_type": "stream",
          "text": [
            "2021-07-13 07:21:49,751 - INFO: lr: 0.08117 | Epoch: 032 | Batch: 000 | Loss: 0.57683 | Correct: 96/128\n"
          ],
          "name": "stderr"
        },
        {
          "output_type": "stream",
          "text": [
            "None\n"
          ],
          "name": "stdout"
        },
        {
          "output_type": "stream",
          "text": [
            "2021-07-13 07:21:52,038 - INFO: lr: 0.07169 | Epoch: 033 | Batch: 000 | Loss: 0.35262 | Correct: 111/128\n"
          ],
          "name": "stderr"
        },
        {
          "output_type": "stream",
          "text": [
            "None\n"
          ],
          "name": "stdout"
        },
        {
          "output_type": "stream",
          "text": [
            "2021-07-13 07:21:54,181 - INFO: lr: 0.06113 | Epoch: 034 | Batch: 000 | Loss: 0.46970 | Correct: 104/128\n"
          ],
          "name": "stderr"
        },
        {
          "output_type": "stream",
          "text": [
            "None\n"
          ],
          "name": "stdout"
        },
        {
          "output_type": "stream",
          "text": [
            "2021-07-13 07:21:56,340 - INFO: lr: 0.05000 | Epoch: 035 | Batch: 000 | Loss: 0.38543 | Correct: 111/128\n"
          ],
          "name": "stderr"
        },
        {
          "output_type": "stream",
          "text": [
            "None\n"
          ],
          "name": "stdout"
        },
        {
          "output_type": "stream",
          "text": [
            "2021-07-13 07:21:58,655 - INFO: lr: 0.03887 | Epoch: 036 | Batch: 000 | Loss: 0.26283 | Correct: 116/128\n"
          ],
          "name": "stderr"
        },
        {
          "output_type": "stream",
          "text": [
            "None\n"
          ],
          "name": "stdout"
        },
        {
          "output_type": "stream",
          "text": [
            "2021-07-13 07:22:00,799 - INFO: lr: 0.02831 | Epoch: 037 | Batch: 000 | Loss: 0.23053 | Correct: 122/128\n"
          ],
          "name": "stderr"
        },
        {
          "output_type": "stream",
          "text": [
            "None\n"
          ],
          "name": "stdout"
        },
        {
          "output_type": "stream",
          "text": [
            "2021-07-13 07:22:03,035 - INFO: lr: 0.01883 | Epoch: 038 | Batch: 000 | Loss: 0.29089 | Correct: 111/128\n"
          ],
          "name": "stderr"
        },
        {
          "output_type": "stream",
          "text": [
            "None\n"
          ],
          "name": "stdout"
        },
        {
          "output_type": "stream",
          "text": [
            "2021-07-13 07:22:05,251 - INFO: lr: 0.01091 | Epoch: 039 | Batch: 000 | Loss: 0.24746 | Correct: 115/128\n"
          ],
          "name": "stderr"
        },
        {
          "output_type": "stream",
          "text": [
            "None\n"
          ],
          "name": "stdout"
        },
        {
          "output_type": "stream",
          "text": [
            "2021-07-13 07:22:07,382 - INFO: lr: 0.00495 | Epoch: 040 | Batch: 000 | Loss: 0.27042 | Correct: 114/128\n"
          ],
          "name": "stderr"
        },
        {
          "output_type": "stream",
          "text": [
            "None\n"
          ],
          "name": "stdout"
        },
        {
          "output_type": "stream",
          "text": [
            "2021-07-13 07:22:09,572 - INFO: lr: 0.00125 | Epoch: 041 | Batch: 000 | Loss: 0.15107 | Correct: 122/128\n"
          ],
          "name": "stderr"
        },
        {
          "output_type": "stream",
          "text": [
            "None\n"
          ],
          "name": "stdout"
        },
        {
          "output_type": "stream",
          "text": [
            "2021-07-13 07:22:11,438 - INFO: Save the snapshot model with index: 2\n",
            "2021-07-13 07:22:12,227 - INFO: n_estimators: 3 | Validation Acc: 81.362 % | Historical Best: 81.362 %\n",
            "2021-07-13 07:22:12,658 - INFO: lr: 0.10000 | Epoch: 042 | Batch: 000 | Loss: 0.22258 | Correct: 119/128\n"
          ],
          "name": "stderr"
        },
        {
          "output_type": "stream",
          "text": [
            "None\n"
          ],
          "name": "stdout"
        },
        {
          "output_type": "stream",
          "text": [
            "2021-07-13 07:22:14,900 - INFO: lr: 0.09875 | Epoch: 043 | Batch: 000 | Loss: 0.76110 | Correct: 87/128\n"
          ],
          "name": "stderr"
        },
        {
          "output_type": "stream",
          "text": [
            "None\n"
          ],
          "name": "stdout"
        },
        {
          "output_type": "stream",
          "text": [
            "2021-07-13 07:22:17,096 - INFO: lr: 0.09505 | Epoch: 044 | Batch: 000 | Loss: 0.40283 | Correct: 108/128\n"
          ],
          "name": "stderr"
        },
        {
          "output_type": "stream",
          "text": [
            "None\n"
          ],
          "name": "stdout"
        },
        {
          "output_type": "stream",
          "text": [
            "2021-07-13 07:22:19,283 - INFO: lr: 0.08909 | Epoch: 045 | Batch: 000 | Loss: 0.63987 | Correct: 99/128\n"
          ],
          "name": "stderr"
        },
        {
          "output_type": "stream",
          "text": [
            "None\n"
          ],
          "name": "stdout"
        },
        {
          "output_type": "stream",
          "text": [
            "2021-07-13 07:22:21,995 - INFO: lr: 0.08117 | Epoch: 046 | Batch: 000 | Loss: 0.36892 | Correct: 113/128\n"
          ],
          "name": "stderr"
        },
        {
          "output_type": "stream",
          "text": [
            "None\n"
          ],
          "name": "stdout"
        },
        {
          "output_type": "stream",
          "text": [
            "2021-07-13 07:22:24,296 - INFO: lr: 0.07169 | Epoch: 047 | Batch: 000 | Loss: 0.34691 | Correct: 115/128\n"
          ],
          "name": "stderr"
        },
        {
          "output_type": "stream",
          "text": [
            "None\n"
          ],
          "name": "stdout"
        },
        {
          "output_type": "stream",
          "text": [
            "2021-07-13 07:22:26,491 - INFO: lr: 0.06113 | Epoch: 048 | Batch: 000 | Loss: 0.20470 | Correct: 119/128\n"
          ],
          "name": "stderr"
        },
        {
          "output_type": "stream",
          "text": [
            "None\n"
          ],
          "name": "stdout"
        },
        {
          "output_type": "stream",
          "text": [
            "2021-07-13 07:22:28,657 - INFO: lr: 0.05000 | Epoch: 049 | Batch: 000 | Loss: 0.32526 | Correct: 113/128\n"
          ],
          "name": "stderr"
        },
        {
          "output_type": "stream",
          "text": [
            "None\n"
          ],
          "name": "stdout"
        },
        {
          "output_type": "stream",
          "text": [
            "2021-07-13 07:22:30,774 - INFO: lr: 0.03887 | Epoch: 050 | Batch: 000 | Loss: 0.23732 | Correct: 121/128\n"
          ],
          "name": "stderr"
        },
        {
          "output_type": "stream",
          "text": [
            "None\n"
          ],
          "name": "stdout"
        },
        {
          "output_type": "stream",
          "text": [
            "2021-07-13 07:22:33,023 - INFO: lr: 0.02831 | Epoch: 051 | Batch: 000 | Loss: 0.16857 | Correct: 124/128\n"
          ],
          "name": "stderr"
        },
        {
          "output_type": "stream",
          "text": [
            "None\n"
          ],
          "name": "stdout"
        },
        {
          "output_type": "stream",
          "text": [
            "2021-07-13 07:22:35,254 - INFO: lr: 0.01883 | Epoch: 052 | Batch: 000 | Loss: 0.15403 | Correct: 123/128\n"
          ],
          "name": "stderr"
        },
        {
          "output_type": "stream",
          "text": [
            "None\n"
          ],
          "name": "stdout"
        },
        {
          "output_type": "stream",
          "text": [
            "2021-07-13 07:22:37,341 - INFO: lr: 0.01091 | Epoch: 053 | Batch: 000 | Loss: 0.13495 | Correct: 123/128\n"
          ],
          "name": "stderr"
        },
        {
          "output_type": "stream",
          "text": [
            "None\n"
          ],
          "name": "stdout"
        },
        {
          "output_type": "stream",
          "text": [
            "2021-07-13 07:22:39,624 - INFO: lr: 0.00495 | Epoch: 054 | Batch: 000 | Loss: 0.16928 | Correct: 121/128\n"
          ],
          "name": "stderr"
        },
        {
          "output_type": "stream",
          "text": [
            "None\n"
          ],
          "name": "stdout"
        },
        {
          "output_type": "stream",
          "text": [
            "2021-07-13 07:22:41,794 - INFO: lr: 0.00125 | Epoch: 055 | Batch: 000 | Loss: 0.11614 | Correct: 125/128\n"
          ],
          "name": "stderr"
        },
        {
          "output_type": "stream",
          "text": [
            "None\n"
          ],
          "name": "stdout"
        },
        {
          "output_type": "stream",
          "text": [
            "2021-07-13 07:22:43,653 - INFO: Save the snapshot model with index: 3\n",
            "2021-07-13 07:22:44,611 - INFO: n_estimators: 4 | Validation Acc: 83.371 % | Historical Best: 83.371 %\n",
            "2021-07-13 07:22:45,062 - INFO: lr: 0.10000 | Epoch: 056 | Batch: 000 | Loss: 0.11464 | Correct: 123/128\n"
          ],
          "name": "stderr"
        },
        {
          "output_type": "stream",
          "text": [
            "None\n"
          ],
          "name": "stdout"
        },
        {
          "output_type": "stream",
          "text": [
            "2021-07-13 07:22:47,212 - INFO: lr: 0.09875 | Epoch: 057 | Batch: 000 | Loss: 0.39285 | Correct: 111/128\n"
          ],
          "name": "stderr"
        },
        {
          "output_type": "stream",
          "text": [
            "None\n"
          ],
          "name": "stdout"
        },
        {
          "output_type": "stream",
          "text": [
            "2021-07-13 07:22:49,500 - INFO: lr: 0.09505 | Epoch: 058 | Batch: 000 | Loss: 0.43130 | Correct: 108/128\n"
          ],
          "name": "stderr"
        },
        {
          "output_type": "stream",
          "text": [
            "None\n"
          ],
          "name": "stdout"
        },
        {
          "output_type": "stream",
          "text": [
            "2021-07-13 07:22:51,589 - INFO: lr: 0.08909 | Epoch: 059 | Batch: 000 | Loss: 0.26015 | Correct: 116/128\n"
          ],
          "name": "stderr"
        },
        {
          "output_type": "stream",
          "text": [
            "None\n"
          ],
          "name": "stdout"
        },
        {
          "output_type": "stream",
          "text": [
            "2021-07-13 07:22:53,820 - INFO: lr: 0.08117 | Epoch: 060 | Batch: 000 | Loss: 0.19207 | Correct: 121/128\n"
          ],
          "name": "stderr"
        },
        {
          "output_type": "stream",
          "text": [
            "None\n"
          ],
          "name": "stdout"
        },
        {
          "output_type": "stream",
          "text": [
            "2021-07-13 07:22:56,024 - INFO: lr: 0.07169 | Epoch: 061 | Batch: 000 | Loss: 0.22664 | Correct: 119/128\n"
          ],
          "name": "stderr"
        },
        {
          "output_type": "stream",
          "text": [
            "None\n"
          ],
          "name": "stdout"
        },
        {
          "output_type": "stream",
          "text": [
            "2021-07-13 07:22:58,264 - INFO: lr: 0.06113 | Epoch: 062 | Batch: 000 | Loss: 0.15509 | Correct: 123/128\n"
          ],
          "name": "stderr"
        },
        {
          "output_type": "stream",
          "text": [
            "None\n"
          ],
          "name": "stdout"
        },
        {
          "output_type": "stream",
          "text": [
            "2021-07-13 07:23:00,423 - INFO: lr: 0.05000 | Epoch: 063 | Batch: 000 | Loss: 0.10408 | Correct: 126/128\n"
          ],
          "name": "stderr"
        },
        {
          "output_type": "stream",
          "text": [
            "None\n"
          ],
          "name": "stdout"
        },
        {
          "output_type": "stream",
          "text": [
            "2021-07-13 07:23:02,679 - INFO: lr: 0.03887 | Epoch: 064 | Batch: 000 | Loss: 0.18879 | Correct: 121/128\n"
          ],
          "name": "stderr"
        },
        {
          "output_type": "stream",
          "text": [
            "None\n"
          ],
          "name": "stdout"
        },
        {
          "output_type": "stream",
          "text": [
            "2021-07-13 07:23:04,892 - INFO: lr: 0.02831 | Epoch: 065 | Batch: 000 | Loss: 0.15435 | Correct: 121/128\n"
          ],
          "name": "stderr"
        },
        {
          "output_type": "stream",
          "text": [
            "None\n"
          ],
          "name": "stdout"
        },
        {
          "output_type": "stream",
          "text": [
            "2021-07-13 07:23:07,060 - INFO: lr: 0.01883 | Epoch: 066 | Batch: 000 | Loss: 0.06738 | Correct: 125/128\n"
          ],
          "name": "stderr"
        },
        {
          "output_type": "stream",
          "text": [
            "None\n"
          ],
          "name": "stdout"
        },
        {
          "output_type": "stream",
          "text": [
            "2021-07-13 07:23:09,277 - INFO: lr: 0.01091 | Epoch: 067 | Batch: 000 | Loss: 0.12230 | Correct: 124/128\n"
          ],
          "name": "stderr"
        },
        {
          "output_type": "stream",
          "text": [
            "None\n"
          ],
          "name": "stdout"
        },
        {
          "output_type": "stream",
          "text": [
            "2021-07-13 07:23:11,481 - INFO: lr: 0.00495 | Epoch: 068 | Batch: 000 | Loss: 0.11654 | Correct: 122/128\n"
          ],
          "name": "stderr"
        },
        {
          "output_type": "stream",
          "text": [
            "None\n"
          ],
          "name": "stdout"
        },
        {
          "output_type": "stream",
          "text": [
            "2021-07-13 07:23:13,682 - INFO: lr: 0.00125 | Epoch: 069 | Batch: 000 | Loss: 0.10032 | Correct: 124/128\n"
          ],
          "name": "stderr"
        },
        {
          "output_type": "stream",
          "text": [
            "None\n"
          ],
          "name": "stdout"
        },
        {
          "output_type": "stream",
          "text": [
            "2021-07-13 07:23:15,542 - INFO: Save the snapshot model with index: 4\n",
            "2021-07-13 07:23:16,581 - INFO: n_estimators: 5 | Validation Acc: 85.156 % | Historical Best: 85.156 %\n"
          ],
          "name": "stderr"
        },
        {
          "output_type": "stream",
          "text": [
            "Group 1 Finished!\n",
            "Target number of exemplars: 200\n",
            "Randomly extracting exemplars from class 0 of current split... Extracted 200 exemplars.\n",
            "Randomly extracting exemplars from class 1 of current split... Extracted 200 exemplars.\n",
            "Randomly extracting exemplars from class 2 of current split... Extracted 200 exemplars.\n",
            "Randomly extracting exemplars from class 3 of current split... Extracted 200 exemplars.\n",
            "Randomly extracting exemplars from class 4 of current split... Extracted 200 exemplars.\n",
            "Randomly extracting exemplars from class 5 of current split... Extracted 200 exemplars.\n",
            "Randomly extracting exemplars from class 6 of current split... Extracted 200 exemplars.\n",
            "Randomly extracting exemplars from class 7 of current split... Extracted 200 exemplars.\n",
            "Randomly extracting exemplars from class 8 of current split... Extracted 200 exemplars.\n",
            "Randomly extracting exemplars from class 9 of current split... Extracted 200 exemplars.\n",
            "[0.04799107142857143, 0.14397321428571427, 0.25, 0.3560267857142857, 0.5647321428571429, 0.6964285714285714, 0.9073660714285714],[0.8214285714285714, 0.7756696428571429, 0.7064732142857143, 0.6183035714285714, 0.4263392857142857, 0.2935267857142857, 0.09598214285714286]\n",
            "Testing on both open and closed world\n",
            "owr harmonic mean (threshold:0.25) = 0.0906840271410233\n",
            "owr harmonic mean (threshold:0.35) = 0.24286743671983352\n",
            "owr harmonic mean (threshold:0.5) = 0.3693115519253209\n",
            "owr harmonic mean (threshold:0.6) = 0.45186446571755845\n",
            "owr harmonic mean (threshold:0.75) = 0.4858731499356499\n",
            "owr harmonic mean (threshold:0.85) = 0.41298920921243354\n",
            "owr harmonic mean (threshold:0.95) = 0.17360062768155096\n",
            "\n",
            "=============================================\n",
            "\n",
            "Length of exemplars set: 2000\n"
          ],
          "name": "stdout"
        },
        {
          "output_type": "stream",
          "text": [
            "2021-07-13 07:23:21,549 - INFO: lr: 0.10000 | Epoch: 000 | Batch: 000 | Loss: 4.14433 | Correct: 4/128\n"
          ],
          "name": "stderr"
        },
        {
          "output_type": "stream",
          "text": [
            "None\n"
          ],
          "name": "stdout"
        },
        {
          "output_type": "stream",
          "text": [
            "2021-07-13 07:23:36,941 - INFO: lr: 0.09875 | Epoch: 001 | Batch: 000 | Loss: 2.40707 | Correct: 28/128\n"
          ],
          "name": "stderr"
        },
        {
          "output_type": "stream",
          "text": [
            "None\n"
          ],
          "name": "stdout"
        },
        {
          "output_type": "stream",
          "text": [
            "2021-07-13 07:23:52,323 - INFO: lr: 0.09505 | Epoch: 002 | Batch: 000 | Loss: 2.42464 | Correct: 30/128\n"
          ],
          "name": "stderr"
        },
        {
          "output_type": "stream",
          "text": [
            "None\n"
          ],
          "name": "stdout"
        },
        {
          "output_type": "stream",
          "text": [
            "2021-07-13 07:24:07,750 - INFO: lr: 0.08909 | Epoch: 003 | Batch: 000 | Loss: 2.15056 | Correct: 43/128\n"
          ],
          "name": "stderr"
        },
        {
          "output_type": "stream",
          "text": [
            "None\n"
          ],
          "name": "stdout"
        },
        {
          "output_type": "stream",
          "text": [
            "2021-07-13 07:24:23,141 - INFO: lr: 0.08117 | Epoch: 004 | Batch: 000 | Loss: 2.10556 | Correct: 43/128\n"
          ],
          "name": "stderr"
        },
        {
          "output_type": "stream",
          "text": [
            "None\n"
          ],
          "name": "stdout"
        },
        {
          "output_type": "stream",
          "text": [
            "2021-07-13 07:24:38,523 - INFO: lr: 0.07169 | Epoch: 005 | Batch: 000 | Loss: 1.87740 | Correct: 51/128\n"
          ],
          "name": "stderr"
        },
        {
          "output_type": "stream",
          "text": [
            "None\n"
          ],
          "name": "stdout"
        },
        {
          "output_type": "stream",
          "text": [
            "2021-07-13 07:24:53,942 - INFO: lr: 0.06113 | Epoch: 006 | Batch: 000 | Loss: 1.61216 | Correct: 62/128\n"
          ],
          "name": "stderr"
        },
        {
          "output_type": "stream",
          "text": [
            "None\n"
          ],
          "name": "stdout"
        },
        {
          "output_type": "stream",
          "text": [
            "2021-07-13 07:25:09,333 - INFO: lr: 0.05000 | Epoch: 007 | Batch: 000 | Loss: 1.57595 | Correct: 61/128\n"
          ],
          "name": "stderr"
        },
        {
          "output_type": "stream",
          "text": [
            "None\n"
          ],
          "name": "stdout"
        },
        {
          "output_type": "stream",
          "text": [
            "2021-07-13 07:25:24,762 - INFO: lr: 0.03887 | Epoch: 008 | Batch: 000 | Loss: 1.37024 | Correct: 78/128\n"
          ],
          "name": "stderr"
        },
        {
          "output_type": "stream",
          "text": [
            "None\n"
          ],
          "name": "stdout"
        },
        {
          "output_type": "stream",
          "text": [
            "2021-07-13 07:25:40,183 - INFO: lr: 0.02831 | Epoch: 009 | Batch: 000 | Loss: 1.20655 | Correct: 80/128\n"
          ],
          "name": "stderr"
        },
        {
          "output_type": "stream",
          "text": [
            "None\n"
          ],
          "name": "stdout"
        },
        {
          "output_type": "stream",
          "text": [
            "2021-07-13 07:25:55,560 - INFO: lr: 0.01883 | Epoch: 010 | Batch: 000 | Loss: 1.21531 | Correct: 74/128\n"
          ],
          "name": "stderr"
        },
        {
          "output_type": "stream",
          "text": [
            "None\n"
          ],
          "name": "stdout"
        },
        {
          "output_type": "stream",
          "text": [
            "2021-07-13 07:26:10,967 - INFO: lr: 0.01091 | Epoch: 011 | Batch: 000 | Loss: 1.09712 | Correct: 81/128\n"
          ],
          "name": "stderr"
        },
        {
          "output_type": "stream",
          "text": [
            "None\n"
          ],
          "name": "stdout"
        },
        {
          "output_type": "stream",
          "text": [
            "2021-07-13 07:26:26,347 - INFO: lr: 0.00495 | Epoch: 012 | Batch: 000 | Loss: 1.15125 | Correct: 82/128\n"
          ],
          "name": "stderr"
        },
        {
          "output_type": "stream",
          "text": [
            "None\n"
          ],
          "name": "stdout"
        },
        {
          "output_type": "stream",
          "text": [
            "2021-07-13 07:26:41,727 - INFO: lr: 0.00125 | Epoch: 013 | Batch: 000 | Loss: 1.18220 | Correct: 79/128\n"
          ],
          "name": "stderr"
        },
        {
          "output_type": "stream",
          "text": [
            "None\n"
          ],
          "name": "stdout"
        },
        {
          "output_type": "stream",
          "text": [
            "2021-07-13 07:26:56,405 - INFO: Save the snapshot model with index: 0\n",
            "2021-07-13 07:26:57,001 - INFO: n_estimators: 1 | Validation Acc: 67.969 % | Historical Best: 67.969 %\n",
            "2021-07-13 07:26:57,774 - INFO: lr: 0.10000 | Epoch: 014 | Batch: 000 | Loss: 0.95804 | Correct: 90/128\n"
          ],
          "name": "stderr"
        },
        {
          "output_type": "stream",
          "text": [
            "None\n"
          ],
          "name": "stdout"
        },
        {
          "output_type": "stream",
          "text": [
            "2021-07-13 07:27:13,152 - INFO: lr: 0.09875 | Epoch: 015 | Batch: 000 | Loss: 1.59094 | Correct: 56/128\n"
          ],
          "name": "stderr"
        },
        {
          "output_type": "stream",
          "text": [
            "None\n"
          ],
          "name": "stdout"
        },
        {
          "output_type": "stream",
          "text": [
            "2021-07-13 07:27:28,551 - INFO: lr: 0.09505 | Epoch: 016 | Batch: 000 | Loss: 1.57187 | Correct: 59/128\n"
          ],
          "name": "stderr"
        },
        {
          "output_type": "stream",
          "text": [
            "None\n"
          ],
          "name": "stdout"
        },
        {
          "output_type": "stream",
          "text": [
            "2021-07-13 07:27:43,979 - INFO: lr: 0.08909 | Epoch: 017 | Batch: 000 | Loss: 1.34192 | Correct: 73/128\n"
          ],
          "name": "stderr"
        },
        {
          "output_type": "stream",
          "text": [
            "None\n"
          ],
          "name": "stdout"
        },
        {
          "output_type": "stream",
          "text": [
            "2021-07-13 07:27:59,388 - INFO: lr: 0.08117 | Epoch: 018 | Batch: 000 | Loss: 1.28463 | Correct: 77/128\n"
          ],
          "name": "stderr"
        },
        {
          "output_type": "stream",
          "text": [
            "None\n"
          ],
          "name": "stdout"
        },
        {
          "output_type": "stream",
          "text": [
            "2021-07-13 07:28:14,823 - INFO: lr: 0.07169 | Epoch: 019 | Batch: 000 | Loss: 1.11672 | Correct: 84/128\n"
          ],
          "name": "stderr"
        },
        {
          "output_type": "stream",
          "text": [
            "None\n"
          ],
          "name": "stdout"
        },
        {
          "output_type": "stream",
          "text": [
            "2021-07-13 07:28:30,239 - INFO: lr: 0.06113 | Epoch: 020 | Batch: 000 | Loss: 1.00671 | Correct: 88/128\n"
          ],
          "name": "stderr"
        },
        {
          "output_type": "stream",
          "text": [
            "None\n"
          ],
          "name": "stdout"
        },
        {
          "output_type": "stream",
          "text": [
            "2021-07-13 07:28:45,637 - INFO: lr: 0.05000 | Epoch: 021 | Batch: 000 | Loss: 1.10378 | Correct: 82/128\n"
          ],
          "name": "stderr"
        },
        {
          "output_type": "stream",
          "text": [
            "None\n"
          ],
          "name": "stdout"
        },
        {
          "output_type": "stream",
          "text": [
            "2021-07-13 07:29:00,955 - INFO: lr: 0.03887 | Epoch: 022 | Batch: 000 | Loss: 0.80533 | Correct: 90/128\n"
          ],
          "name": "stderr"
        },
        {
          "output_type": "stream",
          "text": [
            "None\n"
          ],
          "name": "stdout"
        },
        {
          "output_type": "stream",
          "text": [
            "2021-07-13 07:29:16,380 - INFO: lr: 0.02831 | Epoch: 023 | Batch: 000 | Loss: 0.92444 | Correct: 95/128\n"
          ],
          "name": "stderr"
        },
        {
          "output_type": "stream",
          "text": [
            "None\n"
          ],
          "name": "stdout"
        },
        {
          "output_type": "stream",
          "text": [
            "2021-07-13 07:29:31,787 - INFO: lr: 0.01883 | Epoch: 024 | Batch: 000 | Loss: 0.83836 | Correct: 91/128\n"
          ],
          "name": "stderr"
        },
        {
          "output_type": "stream",
          "text": [
            "None\n"
          ],
          "name": "stdout"
        },
        {
          "output_type": "stream",
          "text": [
            "2021-07-13 07:29:47,174 - INFO: lr: 0.01091 | Epoch: 025 | Batch: 000 | Loss: 0.90976 | Correct: 94/128\n"
          ],
          "name": "stderr"
        },
        {
          "output_type": "stream",
          "text": [
            "None\n"
          ],
          "name": "stdout"
        },
        {
          "output_type": "stream",
          "text": [
            "2021-07-13 07:30:02,604 - INFO: lr: 0.00495 | Epoch: 026 | Batch: 000 | Loss: 0.62713 | Correct: 101/128\n"
          ],
          "name": "stderr"
        },
        {
          "output_type": "stream",
          "text": [
            "None\n"
          ],
          "name": "stdout"
        },
        {
          "output_type": "stream",
          "text": [
            "2021-07-13 07:30:17,962 - INFO: lr: 0.00125 | Epoch: 027 | Batch: 000 | Loss: 0.49344 | Correct: 106/128\n"
          ],
          "name": "stderr"
        },
        {
          "output_type": "stream",
          "text": [
            "None\n"
          ],
          "name": "stdout"
        },
        {
          "output_type": "stream",
          "text": [
            "2021-07-13 07:30:32,669 - INFO: Save the snapshot model with index: 1\n",
            "2021-07-13 07:30:33,404 - INFO: n_estimators: 2 | Validation Acc: 73.438 % | Historical Best: 73.438 %\n",
            "2021-07-13 07:30:34,145 - INFO: lr: 0.10000 | Epoch: 028 | Batch: 000 | Loss: 0.50833 | Correct: 112/128\n"
          ],
          "name": "stderr"
        },
        {
          "output_type": "stream",
          "text": [
            "None\n"
          ],
          "name": "stdout"
        },
        {
          "output_type": "stream",
          "text": [
            "2021-07-13 07:30:49,548 - INFO: lr: 0.09875 | Epoch: 029 | Batch: 000 | Loss: 1.06259 | Correct: 82/128\n"
          ],
          "name": "stderr"
        },
        {
          "output_type": "stream",
          "text": [
            "None\n"
          ],
          "name": "stdout"
        },
        {
          "output_type": "stream",
          "text": [
            "2021-07-13 07:31:04,978 - INFO: lr: 0.09505 | Epoch: 030 | Batch: 000 | Loss: 1.11684 | Correct: 80/128\n"
          ],
          "name": "stderr"
        },
        {
          "output_type": "stream",
          "text": [
            "None\n"
          ],
          "name": "stdout"
        },
        {
          "output_type": "stream",
          "text": [
            "2021-07-13 07:31:20,347 - INFO: lr: 0.08909 | Epoch: 031 | Batch: 000 | Loss: 0.86550 | Correct: 95/128\n"
          ],
          "name": "stderr"
        },
        {
          "output_type": "stream",
          "text": [
            "None\n"
          ],
          "name": "stdout"
        },
        {
          "output_type": "stream",
          "text": [
            "2021-07-13 07:31:35,746 - INFO: lr: 0.08117 | Epoch: 032 | Batch: 000 | Loss: 0.90786 | Correct: 93/128\n"
          ],
          "name": "stderr"
        },
        {
          "output_type": "stream",
          "text": [
            "None\n"
          ],
          "name": "stdout"
        },
        {
          "output_type": "stream",
          "text": [
            "2021-07-13 07:31:51,172 - INFO: lr: 0.07169 | Epoch: 033 | Batch: 000 | Loss: 0.71314 | Correct: 98/128\n"
          ],
          "name": "stderr"
        },
        {
          "output_type": "stream",
          "text": [
            "None\n"
          ],
          "name": "stdout"
        },
        {
          "output_type": "stream",
          "text": [
            "2021-07-13 07:32:06,599 - INFO: lr: 0.06113 | Epoch: 034 | Batch: 000 | Loss: 0.62435 | Correct: 99/128\n"
          ],
          "name": "stderr"
        },
        {
          "output_type": "stream",
          "text": [
            "None\n"
          ],
          "name": "stdout"
        },
        {
          "output_type": "stream",
          "text": [
            "2021-07-13 07:32:22,017 - INFO: lr: 0.05000 | Epoch: 035 | Batch: 000 | Loss: 0.64579 | Correct: 98/128\n"
          ],
          "name": "stderr"
        },
        {
          "output_type": "stream",
          "text": [
            "None\n"
          ],
          "name": "stdout"
        },
        {
          "output_type": "stream",
          "text": [
            "2021-07-13 07:32:37,406 - INFO: lr: 0.03887 | Epoch: 036 | Batch: 000 | Loss: 0.66068 | Correct: 98/128\n"
          ],
          "name": "stderr"
        },
        {
          "output_type": "stream",
          "text": [
            "None\n"
          ],
          "name": "stdout"
        },
        {
          "output_type": "stream",
          "text": [
            "2021-07-13 07:32:52,867 - INFO: lr: 0.02831 | Epoch: 037 | Batch: 000 | Loss: 0.50210 | Correct: 109/128\n"
          ],
          "name": "stderr"
        },
        {
          "output_type": "stream",
          "text": [
            "None\n"
          ],
          "name": "stdout"
        },
        {
          "output_type": "stream",
          "text": [
            "2021-07-13 07:33:08,304 - INFO: lr: 0.01883 | Epoch: 038 | Batch: 000 | Loss: 0.31286 | Correct: 116/128\n"
          ],
          "name": "stderr"
        },
        {
          "output_type": "stream",
          "text": [
            "None\n"
          ],
          "name": "stdout"
        },
        {
          "output_type": "stream",
          "text": [
            "2021-07-13 07:33:23,704 - INFO: lr: 0.01091 | Epoch: 039 | Batch: 000 | Loss: 0.44125 | Correct: 110/128\n"
          ],
          "name": "stderr"
        },
        {
          "output_type": "stream",
          "text": [
            "None\n"
          ],
          "name": "stdout"
        },
        {
          "output_type": "stream",
          "text": [
            "2021-07-13 07:33:39,113 - INFO: lr: 0.00495 | Epoch: 040 | Batch: 000 | Loss: 0.36078 | Correct: 112/128\n"
          ],
          "name": "stderr"
        },
        {
          "output_type": "stream",
          "text": [
            "None\n"
          ],
          "name": "stdout"
        },
        {
          "output_type": "stream",
          "text": [
            "2021-07-13 07:33:54,502 - INFO: lr: 0.00125 | Epoch: 041 | Batch: 000 | Loss: 0.36731 | Correct: 113/128\n"
          ],
          "name": "stderr"
        },
        {
          "output_type": "stream",
          "text": [
            "None\n"
          ],
          "name": "stdout"
        },
        {
          "output_type": "stream",
          "text": [
            "2021-07-13 07:34:09,189 - INFO: Save the snapshot model with index: 2\n",
            "2021-07-13 07:34:09,993 - INFO: n_estimators: 3 | Validation Acc: 76.451 % | Historical Best: 76.451 %\n",
            "2021-07-13 07:34:10,743 - INFO: lr: 0.10000 | Epoch: 042 | Batch: 000 | Loss: 0.47740 | Correct: 108/128\n"
          ],
          "name": "stderr"
        },
        {
          "output_type": "stream",
          "text": [
            "None\n"
          ],
          "name": "stdout"
        },
        {
          "output_type": "stream",
          "text": [
            "2021-07-13 07:34:26,164 - INFO: lr: 0.09875 | Epoch: 043 | Batch: 000 | Loss: 1.00054 | Correct: 88/128\n"
          ],
          "name": "stderr"
        },
        {
          "output_type": "stream",
          "text": [
            "None\n"
          ],
          "name": "stdout"
        },
        {
          "output_type": "stream",
          "text": [
            "2021-07-13 07:34:41,594 - INFO: lr: 0.09505 | Epoch: 044 | Batch: 000 | Loss: 0.90850 | Correct: 88/128\n"
          ],
          "name": "stderr"
        },
        {
          "output_type": "stream",
          "text": [
            "None\n"
          ],
          "name": "stdout"
        },
        {
          "output_type": "stream",
          "text": [
            "2021-07-13 07:34:57,034 - INFO: lr: 0.08909 | Epoch: 045 | Batch: 000 | Loss: 0.56991 | Correct: 104/128\n"
          ],
          "name": "stderr"
        },
        {
          "output_type": "stream",
          "text": [
            "None\n"
          ],
          "name": "stdout"
        },
        {
          "output_type": "stream",
          "text": [
            "2021-07-13 07:35:12,444 - INFO: lr: 0.08117 | Epoch: 046 | Batch: 000 | Loss: 0.64275 | Correct: 106/128\n"
          ],
          "name": "stderr"
        },
        {
          "output_type": "stream",
          "text": [
            "None\n"
          ],
          "name": "stdout"
        },
        {
          "output_type": "stream",
          "text": [
            "2021-07-13 07:35:27,845 - INFO: lr: 0.07169 | Epoch: 047 | Batch: 000 | Loss: 0.42561 | Correct: 112/128\n"
          ],
          "name": "stderr"
        },
        {
          "output_type": "stream",
          "text": [
            "None\n"
          ],
          "name": "stdout"
        },
        {
          "output_type": "stream",
          "text": [
            "2021-07-13 07:35:43,218 - INFO: lr: 0.06113 | Epoch: 048 | Batch: 000 | Loss: 0.46344 | Correct: 110/128\n"
          ],
          "name": "stderr"
        },
        {
          "output_type": "stream",
          "text": [
            "None\n"
          ],
          "name": "stdout"
        },
        {
          "output_type": "stream",
          "text": [
            "2021-07-13 07:35:58,676 - INFO: lr: 0.05000 | Epoch: 049 | Batch: 000 | Loss: 0.44752 | Correct: 111/128\n"
          ],
          "name": "stderr"
        },
        {
          "output_type": "stream",
          "text": [
            "None\n"
          ],
          "name": "stdout"
        },
        {
          "output_type": "stream",
          "text": [
            "2021-07-13 07:36:14,084 - INFO: lr: 0.03887 | Epoch: 050 | Batch: 000 | Loss: 0.27599 | Correct: 118/128\n"
          ],
          "name": "stderr"
        },
        {
          "output_type": "stream",
          "text": [
            "None\n"
          ],
          "name": "stdout"
        },
        {
          "output_type": "stream",
          "text": [
            "2021-07-13 07:36:29,545 - INFO: lr: 0.02831 | Epoch: 051 | Batch: 000 | Loss: 0.25144 | Correct: 119/128\n"
          ],
          "name": "stderr"
        },
        {
          "output_type": "stream",
          "text": [
            "None\n"
          ],
          "name": "stdout"
        },
        {
          "output_type": "stream",
          "text": [
            "2021-07-13 07:36:44,882 - INFO: lr: 0.01883 | Epoch: 052 | Batch: 000 | Loss: 0.21933 | Correct: 117/128\n"
          ],
          "name": "stderr"
        },
        {
          "output_type": "stream",
          "text": [
            "None\n"
          ],
          "name": "stdout"
        },
        {
          "output_type": "stream",
          "text": [
            "2021-07-13 07:37:00,250 - INFO: lr: 0.01091 | Epoch: 053 | Batch: 000 | Loss: 0.14760 | Correct: 125/128\n"
          ],
          "name": "stderr"
        },
        {
          "output_type": "stream",
          "text": [
            "None\n"
          ],
          "name": "stdout"
        },
        {
          "output_type": "stream",
          "text": [
            "2021-07-13 07:37:15,666 - INFO: lr: 0.00495 | Epoch: 054 | Batch: 000 | Loss: 0.24142 | Correct: 118/128\n"
          ],
          "name": "stderr"
        },
        {
          "output_type": "stream",
          "text": [
            "None\n"
          ],
          "name": "stdout"
        },
        {
          "output_type": "stream",
          "text": [
            "2021-07-13 07:37:31,077 - INFO: lr: 0.00125 | Epoch: 055 | Batch: 000 | Loss: 0.18503 | Correct: 122/128\n"
          ],
          "name": "stderr"
        },
        {
          "output_type": "stream",
          "text": [
            "None\n"
          ],
          "name": "stdout"
        },
        {
          "output_type": "stream",
          "text": [
            "2021-07-13 07:37:45,786 - INFO: Save the snapshot model with index: 3\n",
            "2021-07-13 07:37:46,750 - INFO: n_estimators: 4 | Validation Acc: 79.241 % | Historical Best: 79.241 %\n",
            "2021-07-13 07:37:47,490 - INFO: lr: 0.10000 | Epoch: 056 | Batch: 000 | Loss: 0.24948 | Correct: 118/128\n"
          ],
          "name": "stderr"
        },
        {
          "output_type": "stream",
          "text": [
            "None\n"
          ],
          "name": "stdout"
        },
        {
          "output_type": "stream",
          "text": [
            "2021-07-13 07:38:02,878 - INFO: lr: 0.09875 | Epoch: 057 | Batch: 000 | Loss: 0.69860 | Correct: 96/128\n"
          ],
          "name": "stderr"
        },
        {
          "output_type": "stream",
          "text": [
            "None\n"
          ],
          "name": "stdout"
        },
        {
          "output_type": "stream",
          "text": [
            "2021-07-13 07:38:18,298 - INFO: lr: 0.09505 | Epoch: 058 | Batch: 000 | Loss: 0.44337 | Correct: 110/128\n"
          ],
          "name": "stderr"
        },
        {
          "output_type": "stream",
          "text": [
            "None\n"
          ],
          "name": "stdout"
        },
        {
          "output_type": "stream",
          "text": [
            "2021-07-13 07:38:33,682 - INFO: lr: 0.08909 | Epoch: 059 | Batch: 000 | Loss: 0.49044 | Correct: 108/128\n"
          ],
          "name": "stderr"
        },
        {
          "output_type": "stream",
          "text": [
            "None\n"
          ],
          "name": "stdout"
        },
        {
          "output_type": "stream",
          "text": [
            "2021-07-13 07:38:49,083 - INFO: lr: 0.08117 | Epoch: 060 | Batch: 000 | Loss: 0.41976 | Correct: 109/128\n"
          ],
          "name": "stderr"
        },
        {
          "output_type": "stream",
          "text": [
            "None\n"
          ],
          "name": "stdout"
        },
        {
          "output_type": "stream",
          "text": [
            "2021-07-13 07:39:04,454 - INFO: lr: 0.07169 | Epoch: 061 | Batch: 000 | Loss: 0.43074 | Correct: 112/128\n"
          ],
          "name": "stderr"
        },
        {
          "output_type": "stream",
          "text": [
            "None\n"
          ],
          "name": "stdout"
        },
        {
          "output_type": "stream",
          "text": [
            "2021-07-13 07:39:19,877 - INFO: lr: 0.06113 | Epoch: 062 | Batch: 000 | Loss: 0.24124 | Correct: 118/128\n"
          ],
          "name": "stderr"
        },
        {
          "output_type": "stream",
          "text": [
            "None\n"
          ],
          "name": "stdout"
        },
        {
          "output_type": "stream",
          "text": [
            "2021-07-13 07:39:35,239 - INFO: lr: 0.05000 | Epoch: 063 | Batch: 000 | Loss: 0.30731 | Correct: 117/128\n"
          ],
          "name": "stderr"
        },
        {
          "output_type": "stream",
          "text": [
            "None\n"
          ],
          "name": "stdout"
        },
        {
          "output_type": "stream",
          "text": [
            "2021-07-13 07:39:50,583 - INFO: lr: 0.03887 | Epoch: 064 | Batch: 000 | Loss: 0.19831 | Correct: 120/128\n"
          ],
          "name": "stderr"
        },
        {
          "output_type": "stream",
          "text": [
            "None\n"
          ],
          "name": "stdout"
        },
        {
          "output_type": "stream",
          "text": [
            "2021-07-13 07:40:05,985 - INFO: lr: 0.02831 | Epoch: 065 | Batch: 000 | Loss: 0.22486 | Correct: 120/128\n"
          ],
          "name": "stderr"
        },
        {
          "output_type": "stream",
          "text": [
            "None\n"
          ],
          "name": "stdout"
        },
        {
          "output_type": "stream",
          "text": [
            "2021-07-13 07:40:21,436 - INFO: lr: 0.01883 | Epoch: 066 | Batch: 000 | Loss: 0.13544 | Correct: 126/128\n"
          ],
          "name": "stderr"
        },
        {
          "output_type": "stream",
          "text": [
            "None\n"
          ],
          "name": "stdout"
        },
        {
          "output_type": "stream",
          "text": [
            "2021-07-13 07:40:36,864 - INFO: lr: 0.01091 | Epoch: 067 | Batch: 000 | Loss: 0.13530 | Correct: 124/128\n"
          ],
          "name": "stderr"
        },
        {
          "output_type": "stream",
          "text": [
            "None\n"
          ],
          "name": "stdout"
        },
        {
          "output_type": "stream",
          "text": [
            "2021-07-13 07:40:52,259 - INFO: lr: 0.00495 | Epoch: 068 | Batch: 000 | Loss: 0.12833 | Correct: 124/128\n"
          ],
          "name": "stderr"
        },
        {
          "output_type": "stream",
          "text": [
            "None\n"
          ],
          "name": "stdout"
        },
        {
          "output_type": "stream",
          "text": [
            "2021-07-13 07:41:07,641 - INFO: lr: 0.00125 | Epoch: 069 | Batch: 000 | Loss: 0.12949 | Correct: 125/128\n"
          ],
          "name": "stderr"
        },
        {
          "output_type": "stream",
          "text": [
            "None\n"
          ],
          "name": "stdout"
        },
        {
          "output_type": "stream",
          "text": [
            "2021-07-13 07:41:22,330 - INFO: Save the snapshot model with index: 4\n",
            "2021-07-13 07:41:23,380 - INFO: n_estimators: 5 | Validation Acc: 79.799 % | Historical Best: 79.799 %\n"
          ],
          "name": "stderr"
        },
        {
          "output_type": "stream",
          "text": [
            "Group 2 Finished!\n",
            "Target number of exemplars: 100\n",
            "Randomly extracting exemplars from class 0 of current split... Extracted 100 exemplars.\n",
            "Randomly extracting exemplars from class 1 of current split... Extracted 100 exemplars.\n",
            "Randomly extracting exemplars from class 2 of current split... Extracted 100 exemplars.\n",
            "Randomly extracting exemplars from class 3 of current split... Extracted 100 exemplars.\n",
            "Randomly extracting exemplars from class 4 of current split... Extracted 100 exemplars.\n",
            "Randomly extracting exemplars from class 5 of current split... Extracted 100 exemplars.\n",
            "Randomly extracting exemplars from class 6 of current split... Extracted 100 exemplars.\n",
            "Randomly extracting exemplars from class 7 of current split... Extracted 100 exemplars.\n",
            "Randomly extracting exemplars from class 8 of current split... Extracted 100 exemplars.\n",
            "Randomly extracting exemplars from class 9 of current split... Extracted 100 exemplars.\n",
            "[0.07916666666666666, 0.178125, 0.3411458333333333, 0.4609375, 0.6458333333333334, 0.7317708333333334, 0.8453125],[0.6973958333333333, 0.6578125, 0.578125, 0.4953125, 0.340625, 0.265625, 0.1578125]\n",
            "Testing on both open and closed world\n",
            "owr harmonic mean (threshold:0.25) = 0.1421920411357031\n",
            "owr harmonic mean (threshold:0.35) = 0.280338785046729\n",
            "owr harmonic mean (threshold:0.5) = 0.4290899433427762\n",
            "owr harmonic mean (threshold:0.6) = 0.4775071486928105\n",
            "owr harmonic mean (threshold:0.75) = 0.4460137275607181\n",
            "owr harmonic mean (threshold:0.85) = 0.3897682767624021\n",
            "owr harmonic mean (threshold:0.95) = 0.26597059968847353\n",
            "\n",
            "=============================================\n",
            "\n",
            "Length of exemplars set: 2000\n"
          ],
          "name": "stdout"
        },
        {
          "output_type": "stream",
          "text": [
            "2021-07-13 07:41:30,206 - INFO: lr: 0.10000 | Epoch: 000 | Batch: 000 | Loss: 4.91382 | Correct: 4/128\n"
          ],
          "name": "stderr"
        },
        {
          "output_type": "stream",
          "text": [
            "None\n"
          ],
          "name": "stdout"
        },
        {
          "output_type": "stream",
          "text": [
            "2021-07-13 07:41:45,968 - INFO: lr: 0.09875 | Epoch: 001 | Batch: 000 | Loss: 3.07864 | Correct: 19/128\n"
          ],
          "name": "stderr"
        },
        {
          "output_type": "stream",
          "text": [
            "None\n"
          ],
          "name": "stdout"
        },
        {
          "output_type": "stream",
          "text": [
            "2021-07-13 07:42:01,771 - INFO: lr: 0.09505 | Epoch: 002 | Batch: 000 | Loss: 2.57817 | Correct: 32/128\n"
          ],
          "name": "stderr"
        },
        {
          "output_type": "stream",
          "text": [
            "None\n"
          ],
          "name": "stdout"
        },
        {
          "output_type": "stream",
          "text": [
            "2021-07-13 07:42:17,559 - INFO: lr: 0.08909 | Epoch: 003 | Batch: 000 | Loss: 2.59939 | Correct: 34/128\n"
          ],
          "name": "stderr"
        },
        {
          "output_type": "stream",
          "text": [
            "None\n"
          ],
          "name": "stdout"
        },
        {
          "output_type": "stream",
          "text": [
            "2021-07-13 07:42:33,338 - INFO: lr: 0.08117 | Epoch: 004 | Batch: 000 | Loss: 2.39113 | Correct: 45/128\n"
          ],
          "name": "stderr"
        },
        {
          "output_type": "stream",
          "text": [
            "None\n"
          ],
          "name": "stdout"
        },
        {
          "output_type": "stream",
          "text": [
            "2021-07-13 07:42:49,117 - INFO: lr: 0.07169 | Epoch: 005 | Batch: 000 | Loss: 2.23036 | Correct: 46/128\n"
          ],
          "name": "stderr"
        },
        {
          "output_type": "stream",
          "text": [
            "None\n"
          ],
          "name": "stdout"
        },
        {
          "output_type": "stream",
          "text": [
            "2021-07-13 07:43:04,909 - INFO: lr: 0.06113 | Epoch: 006 | Batch: 000 | Loss: 2.22674 | Correct: 39/128\n"
          ],
          "name": "stderr"
        },
        {
          "output_type": "stream",
          "text": [
            "None\n"
          ],
          "name": "stdout"
        },
        {
          "output_type": "stream",
          "text": [
            "2021-07-13 07:43:20,644 - INFO: lr: 0.05000 | Epoch: 007 | Batch: 000 | Loss: 2.09451 | Correct: 55/128\n"
          ],
          "name": "stderr"
        },
        {
          "output_type": "stream",
          "text": [
            "None\n"
          ],
          "name": "stdout"
        },
        {
          "output_type": "stream",
          "text": [
            "2021-07-13 07:43:36,417 - INFO: lr: 0.03887 | Epoch: 008 | Batch: 000 | Loss: 1.95115 | Correct: 58/128\n"
          ],
          "name": "stderr"
        },
        {
          "output_type": "stream",
          "text": [
            "None\n"
          ],
          "name": "stdout"
        },
        {
          "output_type": "stream",
          "text": [
            "2021-07-13 07:43:52,181 - INFO: lr: 0.02831 | Epoch: 009 | Batch: 000 | Loss: 1.66186 | Correct: 72/128\n"
          ],
          "name": "stderr"
        },
        {
          "output_type": "stream",
          "text": [
            "None\n"
          ],
          "name": "stdout"
        },
        {
          "output_type": "stream",
          "text": [
            "2021-07-13 07:44:07,923 - INFO: lr: 0.01883 | Epoch: 010 | Batch: 000 | Loss: 1.67599 | Correct: 61/128\n"
          ],
          "name": "stderr"
        },
        {
          "output_type": "stream",
          "text": [
            "None\n"
          ],
          "name": "stdout"
        },
        {
          "output_type": "stream",
          "text": [
            "2021-07-13 07:44:23,698 - INFO: lr: 0.01091 | Epoch: 011 | Batch: 000 | Loss: 1.71749 | Correct: 65/128\n"
          ],
          "name": "stderr"
        },
        {
          "output_type": "stream",
          "text": [
            "None\n"
          ],
          "name": "stdout"
        },
        {
          "output_type": "stream",
          "text": [
            "2021-07-13 07:44:39,444 - INFO: lr: 0.00495 | Epoch: 012 | Batch: 000 | Loss: 1.59994 | Correct: 73/128\n"
          ],
          "name": "stderr"
        },
        {
          "output_type": "stream",
          "text": [
            "None\n"
          ],
          "name": "stdout"
        },
        {
          "output_type": "stream",
          "text": [
            "2021-07-13 07:44:55,211 - INFO: lr: 0.00125 | Epoch: 013 | Batch: 000 | Loss: 1.37004 | Correct: 81/128\n"
          ],
          "name": "stderr"
        },
        {
          "output_type": "stream",
          "text": [
            "None\n"
          ],
          "name": "stdout"
        },
        {
          "output_type": "stream",
          "text": [
            "2021-07-13 07:45:10,214 - INFO: Save the snapshot model with index: 0\n",
            "2021-07-13 07:45:10,836 - INFO: n_estimators: 1 | Validation Acc: 64.397 % | Historical Best: 64.397 %\n",
            "2021-07-13 07:45:11,608 - INFO: lr: 0.10000 | Epoch: 014 | Batch: 000 | Loss: 1.66849 | Correct: 62/128\n"
          ],
          "name": "stderr"
        },
        {
          "output_type": "stream",
          "text": [
            "None\n"
          ],
          "name": "stdout"
        },
        {
          "output_type": "stream",
          "text": [
            "2021-07-13 07:45:27,349 - INFO: lr: 0.09875 | Epoch: 015 | Batch: 000 | Loss: 1.91184 | Correct: 62/128\n"
          ],
          "name": "stderr"
        },
        {
          "output_type": "stream",
          "text": [
            "None\n"
          ],
          "name": "stdout"
        },
        {
          "output_type": "stream",
          "text": [
            "2021-07-13 07:45:43,098 - INFO: lr: 0.09505 | Epoch: 016 | Batch: 000 | Loss: 2.01807 | Correct: 52/128\n"
          ],
          "name": "stderr"
        },
        {
          "output_type": "stream",
          "text": [
            "None\n"
          ],
          "name": "stdout"
        },
        {
          "output_type": "stream",
          "text": [
            "2021-07-13 07:45:58,889 - INFO: lr: 0.08909 | Epoch: 017 | Batch: 000 | Loss: 1.88506 | Correct: 59/128\n"
          ],
          "name": "stderr"
        },
        {
          "output_type": "stream",
          "text": [
            "None\n"
          ],
          "name": "stdout"
        },
        {
          "output_type": "stream",
          "text": [
            "2021-07-13 07:46:14,612 - INFO: lr: 0.08117 | Epoch: 018 | Batch: 000 | Loss: 1.55620 | Correct: 70/128\n"
          ],
          "name": "stderr"
        },
        {
          "output_type": "stream",
          "text": [
            "None\n"
          ],
          "name": "stdout"
        },
        {
          "output_type": "stream",
          "text": [
            "2021-07-13 07:46:30,380 - INFO: lr: 0.07169 | Epoch: 019 | Batch: 000 | Loss: 1.64846 | Correct: 67/128\n"
          ],
          "name": "stderr"
        },
        {
          "output_type": "stream",
          "text": [
            "None\n"
          ],
          "name": "stdout"
        },
        {
          "output_type": "stream",
          "text": [
            "2021-07-13 07:46:46,157 - INFO: lr: 0.06113 | Epoch: 020 | Batch: 000 | Loss: 1.54071 | Correct: 69/128\n"
          ],
          "name": "stderr"
        },
        {
          "output_type": "stream",
          "text": [
            "None\n"
          ],
          "name": "stdout"
        },
        {
          "output_type": "stream",
          "text": [
            "2021-07-13 07:47:01,951 - INFO: lr: 0.05000 | Epoch: 021 | Batch: 000 | Loss: 1.29985 | Correct: 78/128\n"
          ],
          "name": "stderr"
        },
        {
          "output_type": "stream",
          "text": [
            "None\n"
          ],
          "name": "stdout"
        },
        {
          "output_type": "stream",
          "text": [
            "2021-07-13 07:47:17,701 - INFO: lr: 0.03887 | Epoch: 022 | Batch: 000 | Loss: 1.27239 | Correct: 83/128\n"
          ],
          "name": "stderr"
        },
        {
          "output_type": "stream",
          "text": [
            "None\n"
          ],
          "name": "stdout"
        },
        {
          "output_type": "stream",
          "text": [
            "2021-07-13 07:47:33,507 - INFO: lr: 0.02831 | Epoch: 023 | Batch: 000 | Loss: 1.25142 | Correct: 80/128\n"
          ],
          "name": "stderr"
        },
        {
          "output_type": "stream",
          "text": [
            "None\n"
          ],
          "name": "stdout"
        },
        {
          "output_type": "stream",
          "text": [
            "2021-07-13 07:47:49,237 - INFO: lr: 0.01883 | Epoch: 024 | Batch: 000 | Loss: 1.07190 | Correct: 90/128\n"
          ],
          "name": "stderr"
        },
        {
          "output_type": "stream",
          "text": [
            "None\n"
          ],
          "name": "stdout"
        },
        {
          "output_type": "stream",
          "text": [
            "2021-07-13 07:48:04,952 - INFO: lr: 0.01091 | Epoch: 025 | Batch: 000 | Loss: 0.96432 | Correct: 93/128\n"
          ],
          "name": "stderr"
        },
        {
          "output_type": "stream",
          "text": [
            "None\n"
          ],
          "name": "stdout"
        },
        {
          "output_type": "stream",
          "text": [
            "2021-07-13 07:48:20,717 - INFO: lr: 0.00495 | Epoch: 026 | Batch: 000 | Loss: 1.05477 | Correct: 88/128\n"
          ],
          "name": "stderr"
        },
        {
          "output_type": "stream",
          "text": [
            "None\n"
          ],
          "name": "stdout"
        },
        {
          "output_type": "stream",
          "text": [
            "2021-07-13 07:48:36,429 - INFO: lr: 0.00125 | Epoch: 027 | Batch: 000 | Loss: 1.09455 | Correct: 89/128\n"
          ],
          "name": "stderr"
        },
        {
          "output_type": "stream",
          "text": [
            "None\n"
          ],
          "name": "stdout"
        },
        {
          "output_type": "stream",
          "text": [
            "2021-07-13 07:48:51,476 - INFO: Save the snapshot model with index: 1\n",
            "2021-07-13 07:48:52,184 - INFO: n_estimators: 2 | Validation Acc: 70.759 % | Historical Best: 70.759 %\n",
            "2021-07-13 07:48:52,970 - INFO: lr: 0.10000 | Epoch: 028 | Batch: 000 | Loss: 0.92571 | Correct: 89/128\n"
          ],
          "name": "stderr"
        },
        {
          "output_type": "stream",
          "text": [
            "None\n"
          ],
          "name": "stdout"
        },
        {
          "output_type": "stream",
          "text": [
            "2021-07-13 07:49:08,748 - INFO: lr: 0.09875 | Epoch: 029 | Batch: 000 | Loss: 1.50536 | Correct: 73/128\n"
          ],
          "name": "stderr"
        },
        {
          "output_type": "stream",
          "text": [
            "None\n"
          ],
          "name": "stdout"
        },
        {
          "output_type": "stream",
          "text": [
            "2021-07-13 07:49:24,495 - INFO: lr: 0.09505 | Epoch: 030 | Batch: 000 | Loss: 1.27621 | Correct: 77/128\n"
          ],
          "name": "stderr"
        },
        {
          "output_type": "stream",
          "text": [
            "None\n"
          ],
          "name": "stdout"
        },
        {
          "output_type": "stream",
          "text": [
            "2021-07-13 07:49:40,287 - INFO: lr: 0.08909 | Epoch: 031 | Batch: 000 | Loss: 1.20419 | Correct: 82/128\n"
          ],
          "name": "stderr"
        },
        {
          "output_type": "stream",
          "text": [
            "None\n"
          ],
          "name": "stdout"
        },
        {
          "output_type": "stream",
          "text": [
            "2021-07-13 07:49:56,067 - INFO: lr: 0.08117 | Epoch: 032 | Batch: 000 | Loss: 1.19512 | Correct: 82/128\n"
          ],
          "name": "stderr"
        },
        {
          "output_type": "stream",
          "text": [
            "None\n"
          ],
          "name": "stdout"
        },
        {
          "output_type": "stream",
          "text": [
            "2021-07-13 07:50:11,906 - INFO: lr: 0.07169 | Epoch: 033 | Batch: 000 | Loss: 1.09215 | Correct: 79/128\n"
          ],
          "name": "stderr"
        },
        {
          "output_type": "stream",
          "text": [
            "None\n"
          ],
          "name": "stdout"
        },
        {
          "output_type": "stream",
          "text": [
            "2021-07-13 07:50:27,656 - INFO: lr: 0.06113 | Epoch: 034 | Batch: 000 | Loss: 0.94227 | Correct: 99/128\n"
          ],
          "name": "stderr"
        },
        {
          "output_type": "stream",
          "text": [
            "None\n"
          ],
          "name": "stdout"
        },
        {
          "output_type": "stream",
          "text": [
            "2021-07-13 07:50:43,397 - INFO: lr: 0.05000 | Epoch: 035 | Batch: 000 | Loss: 0.93944 | Correct: 93/128\n"
          ],
          "name": "stderr"
        },
        {
          "output_type": "stream",
          "text": [
            "None\n"
          ],
          "name": "stdout"
        },
        {
          "output_type": "stream",
          "text": [
            "2021-07-13 07:50:59,200 - INFO: lr: 0.03887 | Epoch: 036 | Batch: 000 | Loss: 0.82615 | Correct: 97/128\n"
          ],
          "name": "stderr"
        },
        {
          "output_type": "stream",
          "text": [
            "None\n"
          ],
          "name": "stdout"
        },
        {
          "output_type": "stream",
          "text": [
            "2021-07-13 07:51:14,983 - INFO: lr: 0.02831 | Epoch: 037 | Batch: 000 | Loss: 0.66487 | Correct: 104/128\n"
          ],
          "name": "stderr"
        },
        {
          "output_type": "stream",
          "text": [
            "None\n"
          ],
          "name": "stdout"
        },
        {
          "output_type": "stream",
          "text": [
            "2021-07-13 07:51:30,703 - INFO: lr: 0.01883 | Epoch: 038 | Batch: 000 | Loss: 0.64930 | Correct: 99/128\n"
          ],
          "name": "stderr"
        },
        {
          "output_type": "stream",
          "text": [
            "None\n"
          ],
          "name": "stdout"
        },
        {
          "output_type": "stream",
          "text": [
            "2021-07-13 07:51:46,456 - INFO: lr: 0.01091 | Epoch: 039 | Batch: 000 | Loss: 0.49321 | Correct: 104/128\n"
          ],
          "name": "stderr"
        },
        {
          "output_type": "stream",
          "text": [
            "None\n"
          ],
          "name": "stdout"
        },
        {
          "output_type": "stream",
          "text": [
            "2021-07-13 07:52:02,229 - INFO: lr: 0.00495 | Epoch: 040 | Batch: 000 | Loss: 0.51292 | Correct: 110/128\n"
          ],
          "name": "stderr"
        },
        {
          "output_type": "stream",
          "text": [
            "None\n"
          ],
          "name": "stdout"
        },
        {
          "output_type": "stream",
          "text": [
            "2021-07-13 07:52:17,983 - INFO: lr: 0.00125 | Epoch: 041 | Batch: 000 | Loss: 0.56922 | Correct: 106/128\n"
          ],
          "name": "stderr"
        },
        {
          "output_type": "stream",
          "text": [
            "None\n"
          ],
          "name": "stdout"
        },
        {
          "output_type": "stream",
          "text": [
            "2021-07-13 07:52:32,998 - INFO: Save the snapshot model with index: 2\n",
            "2021-07-13 07:52:33,847 - INFO: n_estimators: 3 | Validation Acc: 74.777 % | Historical Best: 74.777 %\n",
            "2021-07-13 07:52:34,650 - INFO: lr: 0.10000 | Epoch: 042 | Batch: 000 | Loss: 0.46608 | Correct: 111/128\n"
          ],
          "name": "stderr"
        },
        {
          "output_type": "stream",
          "text": [
            "None\n"
          ],
          "name": "stdout"
        },
        {
          "output_type": "stream",
          "text": [
            "2021-07-13 07:52:50,370 - INFO: lr: 0.09875 | Epoch: 043 | Batch: 000 | Loss: 1.27990 | Correct: 77/128\n"
          ],
          "name": "stderr"
        },
        {
          "output_type": "stream",
          "text": [
            "None\n"
          ],
          "name": "stdout"
        },
        {
          "output_type": "stream",
          "text": [
            "2021-07-13 07:53:06,133 - INFO: lr: 0.09505 | Epoch: 044 | Batch: 000 | Loss: 0.89760 | Correct: 92/128\n"
          ],
          "name": "stderr"
        },
        {
          "output_type": "stream",
          "text": [
            "None\n"
          ],
          "name": "stdout"
        },
        {
          "output_type": "stream",
          "text": [
            "2021-07-13 07:53:21,905 - INFO: lr: 0.08909 | Epoch: 045 | Batch: 000 | Loss: 0.81470 | Correct: 99/128\n"
          ],
          "name": "stderr"
        },
        {
          "output_type": "stream",
          "text": [
            "None\n"
          ],
          "name": "stdout"
        },
        {
          "output_type": "stream",
          "text": [
            "2021-07-13 07:53:37,686 - INFO: lr: 0.08117 | Epoch: 046 | Batch: 000 | Loss: 0.78419 | Correct: 97/128\n"
          ],
          "name": "stderr"
        },
        {
          "output_type": "stream",
          "text": [
            "None\n"
          ],
          "name": "stdout"
        },
        {
          "output_type": "stream",
          "text": [
            "2021-07-13 07:53:53,441 - INFO: lr: 0.07169 | Epoch: 047 | Batch: 000 | Loss: 0.98089 | Correct: 91/128\n"
          ],
          "name": "stderr"
        },
        {
          "output_type": "stream",
          "text": [
            "None\n"
          ],
          "name": "stdout"
        },
        {
          "output_type": "stream",
          "text": [
            "2021-07-13 07:54:09,264 - INFO: lr: 0.06113 | Epoch: 048 | Batch: 000 | Loss: 0.68177 | Correct: 101/128\n"
          ],
          "name": "stderr"
        },
        {
          "output_type": "stream",
          "text": [
            "None\n"
          ],
          "name": "stdout"
        },
        {
          "output_type": "stream",
          "text": [
            "2021-07-13 07:54:25,003 - INFO: lr: 0.05000 | Epoch: 049 | Batch: 000 | Loss: 0.55111 | Correct: 107/128\n"
          ],
          "name": "stderr"
        },
        {
          "output_type": "stream",
          "text": [
            "None\n"
          ],
          "name": "stdout"
        },
        {
          "output_type": "stream",
          "text": [
            "2021-07-13 07:54:40,762 - INFO: lr: 0.03887 | Epoch: 050 | Batch: 000 | Loss: 0.49166 | Correct: 108/128\n"
          ],
          "name": "stderr"
        },
        {
          "output_type": "stream",
          "text": [
            "None\n"
          ],
          "name": "stdout"
        },
        {
          "output_type": "stream",
          "text": [
            "2021-07-13 07:54:56,533 - INFO: lr: 0.02831 | Epoch: 051 | Batch: 000 | Loss: 0.50131 | Correct: 109/128\n"
          ],
          "name": "stderr"
        },
        {
          "output_type": "stream",
          "text": [
            "None\n"
          ],
          "name": "stdout"
        },
        {
          "output_type": "stream",
          "text": [
            "2021-07-13 07:55:12,297 - INFO: lr: 0.01883 | Epoch: 052 | Batch: 000 | Loss: 0.38146 | Correct: 118/128\n"
          ],
          "name": "stderr"
        },
        {
          "output_type": "stream",
          "text": [
            "None\n"
          ],
          "name": "stdout"
        },
        {
          "output_type": "stream",
          "text": [
            "2021-07-13 07:55:28,013 - INFO: lr: 0.01091 | Epoch: 053 | Batch: 000 | Loss: 0.54064 | Correct: 108/128\n"
          ],
          "name": "stderr"
        },
        {
          "output_type": "stream",
          "text": [
            "None\n"
          ],
          "name": "stdout"
        },
        {
          "output_type": "stream",
          "text": [
            "2021-07-13 07:55:43,786 - INFO: lr: 0.00495 | Epoch: 054 | Batch: 000 | Loss: 0.24717 | Correct: 122/128\n"
          ],
          "name": "stderr"
        },
        {
          "output_type": "stream",
          "text": [
            "None\n"
          ],
          "name": "stdout"
        },
        {
          "output_type": "stream",
          "text": [
            "2021-07-13 07:55:59,608 - INFO: lr: 0.00125 | Epoch: 055 | Batch: 000 | Loss: 0.34008 | Correct: 115/128\n"
          ],
          "name": "stderr"
        },
        {
          "output_type": "stream",
          "text": [
            "None\n"
          ],
          "name": "stdout"
        },
        {
          "output_type": "stream",
          "text": [
            "2021-07-13 07:56:14,617 - INFO: Save the snapshot model with index: 3\n",
            "2021-07-13 07:56:15,607 - INFO: n_estimators: 4 | Validation Acc: 75.223 % | Historical Best: 75.223 %\n",
            "2021-07-13 07:56:16,396 - INFO: lr: 0.10000 | Epoch: 056 | Batch: 000 | Loss: 0.33483 | Correct: 116/128\n"
          ],
          "name": "stderr"
        },
        {
          "output_type": "stream",
          "text": [
            "None\n"
          ],
          "name": "stdout"
        },
        {
          "output_type": "stream",
          "text": [
            "2021-07-13 07:56:32,164 - INFO: lr: 0.09875 | Epoch: 057 | Batch: 000 | Loss: 0.89377 | Correct: 96/128\n"
          ],
          "name": "stderr"
        },
        {
          "output_type": "stream",
          "text": [
            "None\n"
          ],
          "name": "stdout"
        },
        {
          "output_type": "stream",
          "text": [
            "2021-07-13 07:56:47,969 - INFO: lr: 0.09505 | Epoch: 058 | Batch: 000 | Loss: 0.68635 | Correct: 102/128\n"
          ],
          "name": "stderr"
        },
        {
          "output_type": "stream",
          "text": [
            "None\n"
          ],
          "name": "stdout"
        },
        {
          "output_type": "stream",
          "text": [
            "2021-07-13 07:57:03,728 - INFO: lr: 0.08909 | Epoch: 059 | Batch: 000 | Loss: 0.74123 | Correct: 101/128\n"
          ],
          "name": "stderr"
        },
        {
          "output_type": "stream",
          "text": [
            "None\n"
          ],
          "name": "stdout"
        },
        {
          "output_type": "stream",
          "text": [
            "2021-07-13 07:57:19,520 - INFO: lr: 0.08117 | Epoch: 060 | Batch: 000 | Loss: 0.57719 | Correct: 103/128\n"
          ],
          "name": "stderr"
        },
        {
          "output_type": "stream",
          "text": [
            "None\n"
          ],
          "name": "stdout"
        },
        {
          "output_type": "stream",
          "text": [
            "2021-07-13 07:57:35,296 - INFO: lr: 0.07169 | Epoch: 061 | Batch: 000 | Loss: 0.50001 | Correct: 108/128\n"
          ],
          "name": "stderr"
        },
        {
          "output_type": "stream",
          "text": [
            "None\n"
          ],
          "name": "stdout"
        },
        {
          "output_type": "stream",
          "text": [
            "2021-07-13 07:57:51,078 - INFO: lr: 0.06113 | Epoch: 062 | Batch: 000 | Loss: 0.45010 | Correct: 112/128\n"
          ],
          "name": "stderr"
        },
        {
          "output_type": "stream",
          "text": [
            "None\n"
          ],
          "name": "stdout"
        },
        {
          "output_type": "stream",
          "text": [
            "2021-07-13 07:58:06,861 - INFO: lr: 0.05000 | Epoch: 063 | Batch: 000 | Loss: 0.29238 | Correct: 117/128\n"
          ],
          "name": "stderr"
        },
        {
          "output_type": "stream",
          "text": [
            "None\n"
          ],
          "name": "stdout"
        },
        {
          "output_type": "stream",
          "text": [
            "2021-07-13 07:58:22,578 - INFO: lr: 0.03887 | Epoch: 064 | Batch: 000 | Loss: 0.35855 | Correct: 117/128\n"
          ],
          "name": "stderr"
        },
        {
          "output_type": "stream",
          "text": [
            "None\n"
          ],
          "name": "stdout"
        },
        {
          "output_type": "stream",
          "text": [
            "2021-07-13 07:58:38,327 - INFO: lr: 0.02831 | Epoch: 065 | Batch: 000 | Loss: 0.26262 | Correct: 117/128\n"
          ],
          "name": "stderr"
        },
        {
          "output_type": "stream",
          "text": [
            "None\n"
          ],
          "name": "stdout"
        },
        {
          "output_type": "stream",
          "text": [
            "2021-07-13 07:58:54,079 - INFO: lr: 0.01883 | Epoch: 066 | Batch: 000 | Loss: 0.18196 | Correct: 124/128\n"
          ],
          "name": "stderr"
        },
        {
          "output_type": "stream",
          "text": [
            "None\n"
          ],
          "name": "stdout"
        },
        {
          "output_type": "stream",
          "text": [
            "2021-07-13 07:59:09,890 - INFO: lr: 0.01091 | Epoch: 067 | Batch: 000 | Loss: 0.15580 | Correct: 122/128\n"
          ],
          "name": "stderr"
        },
        {
          "output_type": "stream",
          "text": [
            "None\n"
          ],
          "name": "stdout"
        },
        {
          "output_type": "stream",
          "text": [
            "2021-07-13 07:59:25,624 - INFO: lr: 0.00495 | Epoch: 068 | Batch: 000 | Loss: 0.14577 | Correct: 127/128\n"
          ],
          "name": "stderr"
        },
        {
          "output_type": "stream",
          "text": [
            "None\n"
          ],
          "name": "stdout"
        },
        {
          "output_type": "stream",
          "text": [
            "2021-07-13 07:59:41,372 - INFO: lr: 0.00125 | Epoch: 069 | Batch: 000 | Loss: 0.21719 | Correct: 119/128\n"
          ],
          "name": "stderr"
        },
        {
          "output_type": "stream",
          "text": [
            "None\n"
          ],
          "name": "stdout"
        },
        {
          "output_type": "stream",
          "text": [
            "2021-07-13 07:59:56,384 - INFO: Save the snapshot model with index: 4\n",
            "2021-07-13 07:59:57,474 - INFO: n_estimators: 5 | Validation Acc: 77.009 % | Historical Best: 77.009 %\n"
          ],
          "name": "stderr"
        },
        {
          "output_type": "stream",
          "text": [
            "Group 3 Finished!\n",
            "Target number of exemplars: 66\n",
            "Randomly extracting exemplars from class 0 of current split... Extracted 66 exemplars.\n",
            "Randomly extracting exemplars from class 1 of current split... Extracted 66 exemplars.\n",
            "Randomly extracting exemplars from class 2 of current split... Extracted 66 exemplars.\n",
            "Randomly extracting exemplars from class 3 of current split... Extracted 66 exemplars.\n",
            "Randomly extracting exemplars from class 4 of current split... Extracted 66 exemplars.\n",
            "Randomly extracting exemplars from class 5 of current split... Extracted 66 exemplars.\n",
            "Randomly extracting exemplars from class 6 of current split... Extracted 66 exemplars.\n",
            "Randomly extracting exemplars from class 7 of current split... Extracted 66 exemplars.\n",
            "Randomly extracting exemplars from class 8 of current split... Extracted 66 exemplars.\n",
            "Randomly extracting exemplars from class 9 of current split... Extracted 66 exemplars.\n",
            "[0.16270380434782608, 0.30876358695652173, 0.5203804347826086, 0.6610054347826086, 0.8243885869565217, 0.9011548913043478, 0.9619565217391305],[0.5292119565217391, 0.477241847826087, 0.37873641304347827, 0.2860054347826087, 0.15828804347826086, 0.09408967391304347, 0.03838315217391304]\n",
            "Testing on both open and closed world\n",
            "owr harmonic mean (threshold:0.25) = 0.24888809737252138\n",
            "owr harmonic mean (threshold:0.35) = 0.37494627456690843\n",
            "owr harmonic mean (threshold:0.5) = 0.4384013485323829\n",
            "owr harmonic mean (threshold:0.6) = 0.3992586629031252\n",
            "owr harmonic mean (threshold:0.75) = 0.26558249673124035\n",
            "owr harmonic mean (threshold:0.85) = 0.17038901357768213\n",
            "owr harmonic mean (threshold:0.95) = 0.07382077212667011\n",
            "\n",
            "=============================================\n",
            "\n",
            "Length of exemplars set: 1980\n"
          ],
          "name": "stdout"
        },
        {
          "output_type": "stream",
          "text": [
            "2021-07-13 08:00:06,045 - INFO: lr: 0.10000 | Epoch: 000 | Batch: 000 | Loss: 5.05835 | Correct: 4/128\n"
          ],
          "name": "stderr"
        },
        {
          "output_type": "stream",
          "text": [
            "None\n"
          ],
          "name": "stdout"
        },
        {
          "output_type": "stream",
          "text": [
            "2021-07-13 08:00:22,186 - INFO: lr: 0.09875 | Epoch: 001 | Batch: 000 | Loss: 3.01499 | Correct: 26/128\n"
          ],
          "name": "stderr"
        },
        {
          "output_type": "stream",
          "text": [
            "None\n"
          ],
          "name": "stdout"
        },
        {
          "output_type": "stream",
          "text": [
            "2021-07-13 08:00:38,374 - INFO: lr: 0.09505 | Epoch: 002 | Batch: 000 | Loss: 2.50202 | Correct: 40/128\n"
          ],
          "name": "stderr"
        },
        {
          "output_type": "stream",
          "text": [
            "None\n"
          ],
          "name": "stdout"
        },
        {
          "output_type": "stream",
          "text": [
            "2021-07-13 08:00:54,540 - INFO: lr: 0.08909 | Epoch: 003 | Batch: 000 | Loss: 2.63953 | Correct: 33/128\n"
          ],
          "name": "stderr"
        },
        {
          "output_type": "stream",
          "text": [
            "None\n"
          ],
          "name": "stdout"
        },
        {
          "output_type": "stream",
          "text": [
            "2021-07-13 08:01:10,642 - INFO: lr: 0.08117 | Epoch: 004 | Batch: 000 | Loss: 2.52039 | Correct: 43/128\n"
          ],
          "name": "stderr"
        },
        {
          "output_type": "stream",
          "text": [
            "None\n"
          ],
          "name": "stdout"
        },
        {
          "output_type": "stream",
          "text": [
            "2021-07-13 08:01:26,779 - INFO: lr: 0.07169 | Epoch: 005 | Batch: 000 | Loss: 2.25011 | Correct: 47/128\n"
          ],
          "name": "stderr"
        },
        {
          "output_type": "stream",
          "text": [
            "None\n"
          ],
          "name": "stdout"
        },
        {
          "output_type": "stream",
          "text": [
            "2021-07-13 08:01:42,886 - INFO: lr: 0.06113 | Epoch: 006 | Batch: 000 | Loss: 2.32037 | Correct: 48/128\n"
          ],
          "name": "stderr"
        },
        {
          "output_type": "stream",
          "text": [
            "None\n"
          ],
          "name": "stdout"
        },
        {
          "output_type": "stream",
          "text": [
            "2021-07-13 08:01:59,063 - INFO: lr: 0.05000 | Epoch: 007 | Batch: 000 | Loss: 2.19283 | Correct: 54/128\n"
          ],
          "name": "stderr"
        },
        {
          "output_type": "stream",
          "text": [
            "None\n"
          ],
          "name": "stdout"
        },
        {
          "output_type": "stream",
          "text": [
            "2021-07-13 08:02:15,230 - INFO: lr: 0.03887 | Epoch: 008 | Batch: 000 | Loss: 1.96194 | Correct: 56/128\n"
          ],
          "name": "stderr"
        },
        {
          "output_type": "stream",
          "text": [
            "None\n"
          ],
          "name": "stdout"
        },
        {
          "output_type": "stream",
          "text": [
            "2021-07-13 08:02:31,403 - INFO: lr: 0.02831 | Epoch: 009 | Batch: 000 | Loss: 1.90625 | Correct: 63/128\n"
          ],
          "name": "stderr"
        },
        {
          "output_type": "stream",
          "text": [
            "None\n"
          ],
          "name": "stdout"
        },
        {
          "output_type": "stream",
          "text": [
            "2021-07-13 08:02:47,518 - INFO: lr: 0.01883 | Epoch: 010 | Batch: 000 | Loss: 1.77291 | Correct: 59/128\n"
          ],
          "name": "stderr"
        },
        {
          "output_type": "stream",
          "text": [
            "None\n"
          ],
          "name": "stdout"
        },
        {
          "output_type": "stream",
          "text": [
            "2021-07-13 08:03:03,668 - INFO: lr: 0.01091 | Epoch: 011 | Batch: 000 | Loss: 1.70114 | Correct: 72/128\n"
          ],
          "name": "stderr"
        },
        {
          "output_type": "stream",
          "text": [
            "None\n"
          ],
          "name": "stdout"
        },
        {
          "output_type": "stream",
          "text": [
            "2021-07-13 08:03:19,793 - INFO: lr: 0.00495 | Epoch: 012 | Batch: 000 | Loss: 1.74497 | Correct: 64/128\n"
          ],
          "name": "stderr"
        },
        {
          "output_type": "stream",
          "text": [
            "None\n"
          ],
          "name": "stdout"
        },
        {
          "output_type": "stream",
          "text": [
            "2021-07-13 08:03:35,966 - INFO: lr: 0.00125 | Epoch: 013 | Batch: 000 | Loss: 1.67579 | Correct: 67/128\n"
          ],
          "name": "stderr"
        },
        {
          "output_type": "stream",
          "text": [
            "None\n"
          ],
          "name": "stdout"
        },
        {
          "output_type": "stream",
          "text": [
            "2021-07-13 08:03:51,359 - INFO: Save the snapshot model with index: 0\n",
            "2021-07-13 08:03:51,986 - INFO: n_estimators: 1 | Validation Acc: 62.388 % | Historical Best: 62.388 %\n",
            "2021-07-13 08:03:52,819 - INFO: lr: 0.10000 | Epoch: 014 | Batch: 000 | Loss: 1.71445 | Correct: 64/128\n"
          ],
          "name": "stderr"
        },
        {
          "output_type": "stream",
          "text": [
            "None\n"
          ],
          "name": "stdout"
        },
        {
          "output_type": "stream",
          "text": [
            "2021-07-13 08:04:08,954 - INFO: lr: 0.09875 | Epoch: 015 | Batch: 000 | Loss: 2.05983 | Correct: 56/128\n"
          ],
          "name": "stderr"
        },
        {
          "output_type": "stream",
          "text": [
            "None\n"
          ],
          "name": "stdout"
        },
        {
          "output_type": "stream",
          "text": [
            "2021-07-13 08:04:25,095 - INFO: lr: 0.09505 | Epoch: 016 | Batch: 000 | Loss: 1.94834 | Correct: 58/128\n"
          ],
          "name": "stderr"
        },
        {
          "output_type": "stream",
          "text": [
            "None\n"
          ],
          "name": "stdout"
        },
        {
          "output_type": "stream",
          "text": [
            "2021-07-13 08:04:41,246 - INFO: lr: 0.08909 | Epoch: 017 | Batch: 000 | Loss: 1.89311 | Correct: 59/128\n"
          ],
          "name": "stderr"
        },
        {
          "output_type": "stream",
          "text": [
            "None\n"
          ],
          "name": "stdout"
        },
        {
          "output_type": "stream",
          "text": [
            "2021-07-13 08:04:57,362 - INFO: lr: 0.08117 | Epoch: 018 | Batch: 000 | Loss: 1.79672 | Correct: 57/128\n"
          ],
          "name": "stderr"
        },
        {
          "output_type": "stream",
          "text": [
            "None\n"
          ],
          "name": "stdout"
        },
        {
          "output_type": "stream",
          "text": [
            "2021-07-13 08:05:13,518 - INFO: lr: 0.07169 | Epoch: 019 | Batch: 000 | Loss: 1.47674 | Correct: 67/128\n"
          ],
          "name": "stderr"
        },
        {
          "output_type": "stream",
          "text": [
            "None\n"
          ],
          "name": "stdout"
        },
        {
          "output_type": "stream",
          "text": [
            "2021-07-13 08:05:29,642 - INFO: lr: 0.06113 | Epoch: 020 | Batch: 000 | Loss: 1.49281 | Correct: 69/128\n"
          ],
          "name": "stderr"
        },
        {
          "output_type": "stream",
          "text": [
            "None\n"
          ],
          "name": "stdout"
        },
        {
          "output_type": "stream",
          "text": [
            "2021-07-13 08:05:45,802 - INFO: lr: 0.05000 | Epoch: 021 | Batch: 000 | Loss: 1.33282 | Correct: 78/128\n"
          ],
          "name": "stderr"
        },
        {
          "output_type": "stream",
          "text": [
            "None\n"
          ],
          "name": "stdout"
        },
        {
          "output_type": "stream",
          "text": [
            "2021-07-13 08:06:01,950 - INFO: lr: 0.03887 | Epoch: 022 | Batch: 000 | Loss: 1.39553 | Correct: 75/128\n"
          ],
          "name": "stderr"
        },
        {
          "output_type": "stream",
          "text": [
            "None\n"
          ],
          "name": "stdout"
        },
        {
          "output_type": "stream",
          "text": [
            "2021-07-13 08:06:18,093 - INFO: lr: 0.02831 | Epoch: 023 | Batch: 000 | Loss: 1.37137 | Correct: 84/128\n"
          ],
          "name": "stderr"
        },
        {
          "output_type": "stream",
          "text": [
            "None\n"
          ],
          "name": "stdout"
        },
        {
          "output_type": "stream",
          "text": [
            "2021-07-13 08:06:34,259 - INFO: lr: 0.01883 | Epoch: 024 | Batch: 000 | Loss: 1.21357 | Correct: 85/128\n"
          ],
          "name": "stderr"
        },
        {
          "output_type": "stream",
          "text": [
            "None\n"
          ],
          "name": "stdout"
        },
        {
          "output_type": "stream",
          "text": [
            "2021-07-13 08:06:50,452 - INFO: lr: 0.01091 | Epoch: 025 | Batch: 000 | Loss: 1.34945 | Correct: 84/128\n"
          ],
          "name": "stderr"
        },
        {
          "output_type": "stream",
          "text": [
            "None\n"
          ],
          "name": "stdout"
        },
        {
          "output_type": "stream",
          "text": [
            "2021-07-13 08:07:06,552 - INFO: lr: 0.00495 | Epoch: 026 | Batch: 000 | Loss: 1.26734 | Correct: 80/128\n"
          ],
          "name": "stderr"
        },
        {
          "output_type": "stream",
          "text": [
            "None\n"
          ],
          "name": "stdout"
        },
        {
          "output_type": "stream",
          "text": [
            "2021-07-13 08:07:22,695 - INFO: lr: 0.00125 | Epoch: 027 | Batch: 000 | Loss: 1.07661 | Correct: 88/128\n"
          ],
          "name": "stderr"
        },
        {
          "output_type": "stream",
          "text": [
            "None\n"
          ],
          "name": "stdout"
        },
        {
          "output_type": "stream",
          "text": [
            "2021-07-13 08:07:38,040 - INFO: Save the snapshot model with index: 1\n",
            "2021-07-13 08:07:38,815 - INFO: n_estimators: 2 | Validation Acc: 67.634 % | Historical Best: 67.634 %\n",
            "2021-07-13 08:07:39,642 - INFO: lr: 0.10000 | Epoch: 028 | Batch: 000 | Loss: 1.28090 | Correct: 85/128\n"
          ],
          "name": "stderr"
        },
        {
          "output_type": "stream",
          "text": [
            "None\n"
          ],
          "name": "stdout"
        },
        {
          "output_type": "stream",
          "text": [
            "2021-07-13 08:07:55,785 - INFO: lr: 0.09875 | Epoch: 029 | Batch: 000 | Loss: 1.51889 | Correct: 70/128\n"
          ],
          "name": "stderr"
        },
        {
          "output_type": "stream",
          "text": [
            "None\n"
          ],
          "name": "stdout"
        },
        {
          "output_type": "stream",
          "text": [
            "2021-07-13 08:08:11,955 - INFO: lr: 0.09505 | Epoch: 030 | Batch: 000 | Loss: 1.39314 | Correct: 72/128\n"
          ],
          "name": "stderr"
        },
        {
          "output_type": "stream",
          "text": [
            "None\n"
          ],
          "name": "stdout"
        },
        {
          "output_type": "stream",
          "text": [
            "2021-07-13 08:08:28,146 - INFO: lr: 0.08909 | Epoch: 031 | Batch: 000 | Loss: 1.19585 | Correct: 82/128\n"
          ],
          "name": "stderr"
        },
        {
          "output_type": "stream",
          "text": [
            "None\n"
          ],
          "name": "stdout"
        },
        {
          "output_type": "stream",
          "text": [
            "2021-07-13 08:08:44,320 - INFO: lr: 0.08117 | Epoch: 032 | Batch: 000 | Loss: 1.28989 | Correct: 80/128\n"
          ],
          "name": "stderr"
        },
        {
          "output_type": "stream",
          "text": [
            "None\n"
          ],
          "name": "stdout"
        },
        {
          "output_type": "stream",
          "text": [
            "2021-07-13 08:09:00,496 - INFO: lr: 0.07169 | Epoch: 033 | Batch: 000 | Loss: 1.07086 | Correct: 84/128\n"
          ],
          "name": "stderr"
        },
        {
          "output_type": "stream",
          "text": [
            "None\n"
          ],
          "name": "stdout"
        },
        {
          "output_type": "stream",
          "text": [
            "2021-07-13 08:09:16,626 - INFO: lr: 0.06113 | Epoch: 034 | Batch: 000 | Loss: 1.10939 | Correct: 84/128\n"
          ],
          "name": "stderr"
        },
        {
          "output_type": "stream",
          "text": [
            "None\n"
          ],
          "name": "stdout"
        },
        {
          "output_type": "stream",
          "text": [
            "2021-07-13 08:09:32,791 - INFO: lr: 0.05000 | Epoch: 035 | Batch: 000 | Loss: 1.15621 | Correct: 82/128\n"
          ],
          "name": "stderr"
        },
        {
          "output_type": "stream",
          "text": [
            "None\n"
          ],
          "name": "stdout"
        },
        {
          "output_type": "stream",
          "text": [
            "2021-07-13 08:09:48,946 - INFO: lr: 0.03887 | Epoch: 036 | Batch: 000 | Loss: 1.02382 | Correct: 85/128\n"
          ],
          "name": "stderr"
        },
        {
          "output_type": "stream",
          "text": [
            "None\n"
          ],
          "name": "stdout"
        },
        {
          "output_type": "stream",
          "text": [
            "2021-07-13 08:10:05,082 - INFO: lr: 0.02831 | Epoch: 037 | Batch: 000 | Loss: 1.26176 | Correct: 83/128\n"
          ],
          "name": "stderr"
        },
        {
          "output_type": "stream",
          "text": [
            "None\n"
          ],
          "name": "stdout"
        },
        {
          "output_type": "stream",
          "text": [
            "2021-07-13 08:10:21,177 - INFO: lr: 0.01883 | Epoch: 038 | Batch: 000 | Loss: 0.64666 | Correct: 102/128\n"
          ],
          "name": "stderr"
        },
        {
          "output_type": "stream",
          "text": [
            "None\n"
          ],
          "name": "stdout"
        },
        {
          "output_type": "stream",
          "text": [
            "2021-07-13 08:10:37,362 - INFO: lr: 0.01091 | Epoch: 039 | Batch: 000 | Loss: 0.91330 | Correct: 92/128\n"
          ],
          "name": "stderr"
        },
        {
          "output_type": "stream",
          "text": [
            "None\n"
          ],
          "name": "stdout"
        },
        {
          "output_type": "stream",
          "text": [
            "2021-07-13 08:10:53,508 - INFO: lr: 0.00495 | Epoch: 040 | Batch: 000 | Loss: 0.79177 | Correct: 95/128\n"
          ],
          "name": "stderr"
        },
        {
          "output_type": "stream",
          "text": [
            "None\n"
          ],
          "name": "stdout"
        },
        {
          "output_type": "stream",
          "text": [
            "2021-07-13 08:11:09,682 - INFO: lr: 0.00125 | Epoch: 041 | Batch: 000 | Loss: 0.81757 | Correct: 99/128\n"
          ],
          "name": "stderr"
        },
        {
          "output_type": "stream",
          "text": [
            "None\n"
          ],
          "name": "stdout"
        },
        {
          "output_type": "stream",
          "text": [
            "2021-07-13 08:11:25,043 - INFO: Save the snapshot model with index: 2\n",
            "2021-07-13 08:11:25,874 - INFO: n_estimators: 3 | Validation Acc: 74.219 % | Historical Best: 74.219 %\n",
            "2021-07-13 08:11:26,660 - INFO: lr: 0.10000 | Epoch: 042 | Batch: 000 | Loss: 0.73173 | Correct: 107/128\n"
          ],
          "name": "stderr"
        },
        {
          "output_type": "stream",
          "text": [
            "None\n"
          ],
          "name": "stdout"
        },
        {
          "output_type": "stream",
          "text": [
            "2021-07-13 08:11:42,802 - INFO: lr: 0.09875 | Epoch: 043 | Batch: 000 | Loss: 1.39525 | Correct: 73/128\n"
          ],
          "name": "stderr"
        },
        {
          "output_type": "stream",
          "text": [
            "None\n"
          ],
          "name": "stdout"
        },
        {
          "output_type": "stream",
          "text": [
            "2021-07-13 08:11:58,942 - INFO: lr: 0.09505 | Epoch: 044 | Batch: 000 | Loss: 1.16671 | Correct: 90/128\n"
          ],
          "name": "stderr"
        },
        {
          "output_type": "stream",
          "text": [
            "None\n"
          ],
          "name": "stdout"
        },
        {
          "output_type": "stream",
          "text": [
            "2021-07-13 08:12:15,075 - INFO: lr: 0.08909 | Epoch: 045 | Batch: 000 | Loss: 1.15450 | Correct: 81/128\n"
          ],
          "name": "stderr"
        },
        {
          "output_type": "stream",
          "text": [
            "None\n"
          ],
          "name": "stdout"
        },
        {
          "output_type": "stream",
          "text": [
            "2021-07-13 08:12:31,247 - INFO: lr: 0.08117 | Epoch: 046 | Batch: 000 | Loss: 0.94988 | Correct: 95/128\n"
          ],
          "name": "stderr"
        },
        {
          "output_type": "stream",
          "text": [
            "None\n"
          ],
          "name": "stdout"
        },
        {
          "output_type": "stream",
          "text": [
            "2021-07-13 08:12:47,454 - INFO: lr: 0.07169 | Epoch: 047 | Batch: 000 | Loss: 0.94545 | Correct: 90/128\n"
          ],
          "name": "stderr"
        },
        {
          "output_type": "stream",
          "text": [
            "None\n"
          ],
          "name": "stdout"
        },
        {
          "output_type": "stream",
          "text": [
            "2021-07-13 08:13:03,638 - INFO: lr: 0.06113 | Epoch: 048 | Batch: 000 | Loss: 0.73519 | Correct: 100/128\n"
          ],
          "name": "stderr"
        },
        {
          "output_type": "stream",
          "text": [
            "None\n"
          ],
          "name": "stdout"
        },
        {
          "output_type": "stream",
          "text": [
            "2021-07-13 08:13:19,849 - INFO: lr: 0.05000 | Epoch: 049 | Batch: 000 | Loss: 0.74100 | Correct: 95/128\n"
          ],
          "name": "stderr"
        },
        {
          "output_type": "stream",
          "text": [
            "None\n"
          ],
          "name": "stdout"
        },
        {
          "output_type": "stream",
          "text": [
            "2021-07-13 08:13:36,019 - INFO: lr: 0.03887 | Epoch: 050 | Batch: 000 | Loss: 0.60440 | Correct: 105/128\n"
          ],
          "name": "stderr"
        },
        {
          "output_type": "stream",
          "text": [
            "None\n"
          ],
          "name": "stdout"
        },
        {
          "output_type": "stream",
          "text": [
            "2021-07-13 08:13:52,155 - INFO: lr: 0.02831 | Epoch: 051 | Batch: 000 | Loss: 0.50994 | Correct: 109/128\n"
          ],
          "name": "stderr"
        },
        {
          "output_type": "stream",
          "text": [
            "None\n"
          ],
          "name": "stdout"
        },
        {
          "output_type": "stream",
          "text": [
            "2021-07-13 08:14:08,314 - INFO: lr: 0.01883 | Epoch: 052 | Batch: 000 | Loss: 0.39758 | Correct: 114/128\n"
          ],
          "name": "stderr"
        },
        {
          "output_type": "stream",
          "text": [
            "None\n"
          ],
          "name": "stdout"
        },
        {
          "output_type": "stream",
          "text": [
            "2021-07-13 08:14:24,518 - INFO: lr: 0.01091 | Epoch: 053 | Batch: 000 | Loss: 0.59084 | Correct: 102/128\n"
          ],
          "name": "stderr"
        },
        {
          "output_type": "stream",
          "text": [
            "None\n"
          ],
          "name": "stdout"
        },
        {
          "output_type": "stream",
          "text": [
            "2021-07-13 08:14:40,645 - INFO: lr: 0.00495 | Epoch: 054 | Batch: 000 | Loss: 0.44352 | Correct: 112/128\n"
          ],
          "name": "stderr"
        },
        {
          "output_type": "stream",
          "text": [
            "None\n"
          ],
          "name": "stdout"
        },
        {
          "output_type": "stream",
          "text": [
            "2021-07-13 08:14:56,786 - INFO: lr: 0.00125 | Epoch: 055 | Batch: 000 | Loss: 0.56821 | Correct: 105/128\n"
          ],
          "name": "stderr"
        },
        {
          "output_type": "stream",
          "text": [
            "None\n"
          ],
          "name": "stdout"
        },
        {
          "output_type": "stream",
          "text": [
            "2021-07-13 08:15:12,186 - INFO: Save the snapshot model with index: 3\n",
            "2021-07-13 08:15:13,150 - INFO: n_estimators: 4 | Validation Acc: 73.438 % | Historical Best: 74.219 %\n",
            "2021-07-13 08:15:13,950 - INFO: lr: 0.10000 | Epoch: 056 | Batch: 000 | Loss: 0.44098 | Correct: 113/128\n"
          ],
          "name": "stderr"
        },
        {
          "output_type": "stream",
          "text": [
            "None\n"
          ],
          "name": "stdout"
        },
        {
          "output_type": "stream",
          "text": [
            "2021-07-13 08:15:30,130 - INFO: lr: 0.09875 | Epoch: 057 | Batch: 000 | Loss: 1.05296 | Correct: 85/128\n"
          ],
          "name": "stderr"
        },
        {
          "output_type": "stream",
          "text": [
            "None\n"
          ],
          "name": "stdout"
        },
        {
          "output_type": "stream",
          "text": [
            "2021-07-13 08:15:46,275 - INFO: lr: 0.09505 | Epoch: 058 | Batch: 000 | Loss: 0.69364 | Correct: 101/128\n"
          ],
          "name": "stderr"
        },
        {
          "output_type": "stream",
          "text": [
            "None\n"
          ],
          "name": "stdout"
        },
        {
          "output_type": "stream",
          "text": [
            "2021-07-13 08:16:02,400 - INFO: lr: 0.08909 | Epoch: 059 | Batch: 000 | Loss: 0.85471 | Correct: 96/128\n"
          ],
          "name": "stderr"
        },
        {
          "output_type": "stream",
          "text": [
            "None\n"
          ],
          "name": "stdout"
        },
        {
          "output_type": "stream",
          "text": [
            "2021-07-13 08:16:18,555 - INFO: lr: 0.08117 | Epoch: 060 | Batch: 000 | Loss: 0.69404 | Correct: 103/128\n"
          ],
          "name": "stderr"
        },
        {
          "output_type": "stream",
          "text": [
            "None\n"
          ],
          "name": "stdout"
        },
        {
          "output_type": "stream",
          "text": [
            "2021-07-13 08:16:34,761 - INFO: lr: 0.07169 | Epoch: 061 | Batch: 000 | Loss: 0.67785 | Correct: 101/128\n"
          ],
          "name": "stderr"
        },
        {
          "output_type": "stream",
          "text": [
            "None\n"
          ],
          "name": "stdout"
        },
        {
          "output_type": "stream",
          "text": [
            "2021-07-13 08:16:50,955 - INFO: lr: 0.06113 | Epoch: 062 | Batch: 000 | Loss: 0.67394 | Correct: 102/128\n"
          ],
          "name": "stderr"
        },
        {
          "output_type": "stream",
          "text": [
            "None\n"
          ],
          "name": "stdout"
        },
        {
          "output_type": "stream",
          "text": [
            "2021-07-13 08:17:07,106 - INFO: lr: 0.05000 | Epoch: 063 | Batch: 000 | Loss: 0.49697 | Correct: 113/128\n"
          ],
          "name": "stderr"
        },
        {
          "output_type": "stream",
          "text": [
            "None\n"
          ],
          "name": "stdout"
        },
        {
          "output_type": "stream",
          "text": [
            "2021-07-13 08:17:23,201 - INFO: lr: 0.03887 | Epoch: 064 | Batch: 000 | Loss: 0.55929 | Correct: 105/128\n"
          ],
          "name": "stderr"
        },
        {
          "output_type": "stream",
          "text": [
            "None\n"
          ],
          "name": "stdout"
        },
        {
          "output_type": "stream",
          "text": [
            "2021-07-13 08:17:39,344 - INFO: lr: 0.02831 | Epoch: 065 | Batch: 000 | Loss: 0.39200 | Correct: 110/128\n"
          ],
          "name": "stderr"
        },
        {
          "output_type": "stream",
          "text": [
            "None\n"
          ],
          "name": "stdout"
        },
        {
          "output_type": "stream",
          "text": [
            "2021-07-13 08:17:55,462 - INFO: lr: 0.01883 | Epoch: 066 | Batch: 000 | Loss: 0.33828 | Correct: 116/128\n"
          ],
          "name": "stderr"
        },
        {
          "output_type": "stream",
          "text": [
            "None\n"
          ],
          "name": "stdout"
        },
        {
          "output_type": "stream",
          "text": [
            "2021-07-13 08:18:11,555 - INFO: lr: 0.01091 | Epoch: 067 | Batch: 000 | Loss: 0.23490 | Correct: 119/128\n"
          ],
          "name": "stderr"
        },
        {
          "output_type": "stream",
          "text": [
            "None\n"
          ],
          "name": "stdout"
        },
        {
          "output_type": "stream",
          "text": [
            "2021-07-13 08:18:27,700 - INFO: lr: 0.00495 | Epoch: 068 | Batch: 000 | Loss: 0.24804 | Correct: 118/128\n"
          ],
          "name": "stderr"
        },
        {
          "output_type": "stream",
          "text": [
            "None\n"
          ],
          "name": "stdout"
        },
        {
          "output_type": "stream",
          "text": [
            "2021-07-13 08:18:43,871 - INFO: lr: 0.00125 | Epoch: 069 | Batch: 000 | Loss: 0.27557 | Correct: 120/128\n"
          ],
          "name": "stderr"
        },
        {
          "output_type": "stream",
          "text": [
            "None\n"
          ],
          "name": "stdout"
        },
        {
          "output_type": "stream",
          "text": [
            "2021-07-13 08:18:59,234 - INFO: Save the snapshot model with index: 4\n",
            "2021-07-13 08:19:00,314 - INFO: n_estimators: 5 | Validation Acc: 75.335 % | Historical Best: 75.335 %\n"
          ],
          "name": "stderr"
        },
        {
          "output_type": "stream",
          "text": [
            "Group 4 Finished!\n",
            "Target number of exemplars: 50\n",
            "Randomly extracting exemplars from class 0 of current split... Extracted 50 exemplars.\n",
            "Randomly extracting exemplars from class 1 of current split... Extracted 50 exemplars.\n",
            "Randomly extracting exemplars from class 2 of current split... Extracted 50 exemplars.\n",
            "Randomly extracting exemplars from class 3 of current split... Extracted 50 exemplars.\n",
            "Randomly extracting exemplars from class 4 of current split... Extracted 50 exemplars.\n",
            "Randomly extracting exemplars from class 5 of current split... Extracted 50 exemplars.\n",
            "Randomly extracting exemplars from class 6 of current split... Extracted 50 exemplars.\n",
            "Randomly extracting exemplars from class 7 of current split... Extracted 50 exemplars.\n",
            "Randomly extracting exemplars from class 8 of current split... Extracted 50 exemplars.\n",
            "Randomly extracting exemplars from class 9 of current split... Extracted 50 exemplars.\n",
            "[0.21849798387096775, 0.3939012096774194, 0.6176915322580645, 0.7361391129032258, 0.8765120967741935, 0.9173387096774194, 0.9576612903225806],[0.42389112903225806, 0.3676915322580645, 0.2746975806451613, 0.2079133064516129, 0.10836693548387097, 0.07409274193548387, 0.04032258064516129]\n",
            "Testing on both open and closed world\n",
            "owr harmonic mean (threshold:0.25) = 0.2883590497222187\n",
            "owr harmonic mean (threshold:0.35) = 0.3803453771802481\n",
            "owr harmonic mean (threshold:0.5) = 0.3802788874110649\n",
            "owr harmonic mean (threshold:0.6) = 0.3242470732221897\n",
            "owr harmonic mean (threshold:0.75) = 0.1928864900782514\n",
            "owr harmonic mean (threshold:0.85) = 0.13711112386637586\n",
            "owr harmonic mean (threshold:0.95) = 0.07738677093515803\n",
            "\n",
            "=============================================\n",
            "\n",
            "Length of exemplars set: 2000\n"
          ],
          "name": "stdout"
        },
        {
          "output_type": "stream",
          "text": [
            "2021-07-13 08:19:10,411 - INFO: lr: 0.10000 | Epoch: 000 | Batch: 000 | Loss: 5.03652 | Correct: 0/128\n"
          ],
          "name": "stderr"
        },
        {
          "output_type": "stream",
          "text": [
            "None\n"
          ],
          "name": "stdout"
        },
        {
          "output_type": "stream",
          "text": [
            "2021-07-13 08:19:26,951 - INFO: lr: 0.09875 | Epoch: 001 | Batch: 000 | Loss: 2.90716 | Correct: 33/128\n"
          ],
          "name": "stderr"
        },
        {
          "output_type": "stream",
          "text": [
            "None\n"
          ],
          "name": "stdout"
        },
        {
          "output_type": "stream",
          "text": [
            "2021-07-13 08:19:43,513 - INFO: lr: 0.09505 | Epoch: 002 | Batch: 000 | Loss: 2.89320 | Correct: 34/128\n"
          ],
          "name": "stderr"
        },
        {
          "output_type": "stream",
          "text": [
            "None\n"
          ],
          "name": "stdout"
        },
        {
          "output_type": "stream",
          "text": [
            "2021-07-13 08:20:00,002 - INFO: lr: 0.08909 | Epoch: 003 | Batch: 000 | Loss: 2.65546 | Correct: 41/128\n"
          ],
          "name": "stderr"
        },
        {
          "output_type": "stream",
          "text": [
            "None\n"
          ],
          "name": "stdout"
        },
        {
          "output_type": "stream",
          "text": [
            "2021-07-13 08:20:16,492 - INFO: lr: 0.08117 | Epoch: 004 | Batch: 000 | Loss: 2.35932 | Correct: 53/128\n"
          ],
          "name": "stderr"
        },
        {
          "output_type": "stream",
          "text": [
            "None\n"
          ],
          "name": "stdout"
        },
        {
          "output_type": "stream",
          "text": [
            "2021-07-13 08:20:32,988 - INFO: lr: 0.07169 | Epoch: 005 | Batch: 000 | Loss: 2.43327 | Correct: 46/128\n"
          ],
          "name": "stderr"
        },
        {
          "output_type": "stream",
          "text": [
            "None\n"
          ],
          "name": "stdout"
        },
        {
          "output_type": "stream",
          "text": [
            "2021-07-13 08:20:49,472 - INFO: lr: 0.06113 | Epoch: 006 | Batch: 000 | Loss: 2.19127 | Correct: 52/128\n"
          ],
          "name": "stderr"
        },
        {
          "output_type": "stream",
          "text": [
            "None\n"
          ],
          "name": "stdout"
        },
        {
          "output_type": "stream",
          "text": [
            "2021-07-13 08:21:05,949 - INFO: lr: 0.05000 | Epoch: 007 | Batch: 000 | Loss: 2.13154 | Correct: 48/128\n"
          ],
          "name": "stderr"
        },
        {
          "output_type": "stream",
          "text": [
            "None\n"
          ],
          "name": "stdout"
        },
        {
          "output_type": "stream",
          "text": [
            "2021-07-13 08:21:22,437 - INFO: lr: 0.03887 | Epoch: 008 | Batch: 000 | Loss: 2.03022 | Correct: 55/128\n"
          ],
          "name": "stderr"
        },
        {
          "output_type": "stream",
          "text": [
            "None\n"
          ],
          "name": "stdout"
        },
        {
          "output_type": "stream",
          "text": [
            "2021-07-13 08:21:38,972 - INFO: lr: 0.02831 | Epoch: 009 | Batch: 000 | Loss: 1.71484 | Correct: 72/128\n"
          ],
          "name": "stderr"
        },
        {
          "output_type": "stream",
          "text": [
            "None\n"
          ],
          "name": "stdout"
        },
        {
          "output_type": "stream",
          "text": [
            "2021-07-13 08:21:55,465 - INFO: lr: 0.01883 | Epoch: 010 | Batch: 000 | Loss: 1.89821 | Correct: 59/128\n"
          ],
          "name": "stderr"
        },
        {
          "output_type": "stream",
          "text": [
            "None\n"
          ],
          "name": "stdout"
        },
        {
          "output_type": "stream",
          "text": [
            "2021-07-13 08:22:11,931 - INFO: lr: 0.01091 | Epoch: 011 | Batch: 000 | Loss: 1.74882 | Correct: 66/128\n"
          ],
          "name": "stderr"
        },
        {
          "output_type": "stream",
          "text": [
            "None\n"
          ],
          "name": "stdout"
        },
        {
          "output_type": "stream",
          "text": [
            "2021-07-13 08:22:28,400 - INFO: lr: 0.00495 | Epoch: 012 | Batch: 000 | Loss: 1.88530 | Correct: 66/128\n"
          ],
          "name": "stderr"
        },
        {
          "output_type": "stream",
          "text": [
            "None\n"
          ],
          "name": "stdout"
        },
        {
          "output_type": "stream",
          "text": [
            "2021-07-13 08:22:44,910 - INFO: lr: 0.00125 | Epoch: 013 | Batch: 000 | Loss: 1.82306 | Correct: 67/128\n"
          ],
          "name": "stderr"
        },
        {
          "output_type": "stream",
          "text": [
            "None\n"
          ],
          "name": "stdout"
        },
        {
          "output_type": "stream",
          "text": [
            "2021-07-13 08:23:00,633 - INFO: Save the snapshot model with index: 0\n",
            "2021-07-13 08:23:01,267 - INFO: n_estimators: 1 | Validation Acc: 67.076 % | Historical Best: 67.076 %\n",
            "2021-07-13 08:23:02,097 - INFO: lr: 0.10000 | Epoch: 014 | Batch: 000 | Loss: 1.90339 | Correct: 59/128\n"
          ],
          "name": "stderr"
        },
        {
          "output_type": "stream",
          "text": [
            "None\n"
          ],
          "name": "stdout"
        },
        {
          "output_type": "stream",
          "text": [
            "2021-07-13 08:23:18,578 - INFO: lr: 0.09875 | Epoch: 015 | Batch: 000 | Loss: 2.17329 | Correct: 59/128\n"
          ],
          "name": "stderr"
        },
        {
          "output_type": "stream",
          "text": [
            "None\n"
          ],
          "name": "stdout"
        },
        {
          "output_type": "stream",
          "text": [
            "2021-07-13 08:23:35,080 - INFO: lr: 0.09505 | Epoch: 016 | Batch: 000 | Loss: 2.32963 | Correct: 51/128\n"
          ],
          "name": "stderr"
        },
        {
          "output_type": "stream",
          "text": [
            "None\n"
          ],
          "name": "stdout"
        },
        {
          "output_type": "stream",
          "text": [
            "2021-07-13 08:23:51,602 - INFO: lr: 0.08909 | Epoch: 017 | Batch: 000 | Loss: 1.86428 | Correct: 68/128\n"
          ],
          "name": "stderr"
        },
        {
          "output_type": "stream",
          "text": [
            "None\n"
          ],
          "name": "stdout"
        },
        {
          "output_type": "stream",
          "text": [
            "2021-07-13 08:24:08,107 - INFO: lr: 0.08117 | Epoch: 018 | Batch: 000 | Loss: 1.72352 | Correct: 69/128\n"
          ],
          "name": "stderr"
        },
        {
          "output_type": "stream",
          "text": [
            "None\n"
          ],
          "name": "stdout"
        },
        {
          "output_type": "stream",
          "text": [
            "2021-07-13 08:24:24,622 - INFO: lr: 0.07169 | Epoch: 019 | Batch: 000 | Loss: 1.76677 | Correct: 61/128\n"
          ],
          "name": "stderr"
        },
        {
          "output_type": "stream",
          "text": [
            "None\n"
          ],
          "name": "stdout"
        },
        {
          "output_type": "stream",
          "text": [
            "2021-07-13 08:24:41,124 - INFO: lr: 0.06113 | Epoch: 020 | Batch: 000 | Loss: 1.46443 | Correct: 75/128\n"
          ],
          "name": "stderr"
        },
        {
          "output_type": "stream",
          "text": [
            "None\n"
          ],
          "name": "stdout"
        },
        {
          "output_type": "stream",
          "text": [
            "2021-07-13 08:24:57,623 - INFO: lr: 0.05000 | Epoch: 021 | Batch: 000 | Loss: 1.52452 | Correct: 73/128\n"
          ],
          "name": "stderr"
        },
        {
          "output_type": "stream",
          "text": [
            "None\n"
          ],
          "name": "stdout"
        },
        {
          "output_type": "stream",
          "text": [
            "2021-07-13 08:25:14,144 - INFO: lr: 0.03887 | Epoch: 022 | Batch: 000 | Loss: 1.82606 | Correct: 64/128\n"
          ],
          "name": "stderr"
        },
        {
          "output_type": "stream",
          "text": [
            "None\n"
          ],
          "name": "stdout"
        },
        {
          "output_type": "stream",
          "text": [
            "2021-07-13 08:25:30,588 - INFO: lr: 0.02831 | Epoch: 023 | Batch: 000 | Loss: 1.42181 | Correct: 76/128\n"
          ],
          "name": "stderr"
        },
        {
          "output_type": "stream",
          "text": [
            "None\n"
          ],
          "name": "stdout"
        },
        {
          "output_type": "stream",
          "text": [
            "2021-07-13 08:25:47,069 - INFO: lr: 0.01883 | Epoch: 024 | Batch: 000 | Loss: 1.21595 | Correct: 85/128\n"
          ],
          "name": "stderr"
        },
        {
          "output_type": "stream",
          "text": [
            "None\n"
          ],
          "name": "stdout"
        },
        {
          "output_type": "stream",
          "text": [
            "2021-07-13 08:26:03,564 - INFO: lr: 0.01091 | Epoch: 025 | Batch: 000 | Loss: 1.21900 | Correct: 87/128\n"
          ],
          "name": "stderr"
        },
        {
          "output_type": "stream",
          "text": [
            "None\n"
          ],
          "name": "stdout"
        },
        {
          "output_type": "stream",
          "text": [
            "2021-07-13 08:26:20,069 - INFO: lr: 0.00495 | Epoch: 026 | Batch: 000 | Loss: 1.24554 | Correct: 86/128\n"
          ],
          "name": "stderr"
        },
        {
          "output_type": "stream",
          "text": [
            "None\n"
          ],
          "name": "stdout"
        },
        {
          "output_type": "stream",
          "text": [
            "2021-07-13 08:26:36,571 - INFO: lr: 0.00125 | Epoch: 027 | Batch: 000 | Loss: 1.30002 | Correct: 86/128\n"
          ],
          "name": "stderr"
        },
        {
          "output_type": "stream",
          "text": [
            "None\n"
          ],
          "name": "stdout"
        },
        {
          "output_type": "stream",
          "text": [
            "2021-07-13 08:26:52,268 - INFO: Save the snapshot model with index: 1\n",
            "2021-07-13 08:26:52,998 - INFO: n_estimators: 2 | Validation Acc: 72.768 % | Historical Best: 72.768 %\n",
            "2021-07-13 08:26:53,837 - INFO: lr: 0.10000 | Epoch: 028 | Batch: 000 | Loss: 1.15198 | Correct: 86/128\n"
          ],
          "name": "stderr"
        },
        {
          "output_type": "stream",
          "text": [
            "None\n"
          ],
          "name": "stdout"
        },
        {
          "output_type": "stream",
          "text": [
            "2021-07-13 08:27:10,308 - INFO: lr: 0.09875 | Epoch: 029 | Batch: 000 | Loss: 1.54150 | Correct: 71/128\n"
          ],
          "name": "stderr"
        },
        {
          "output_type": "stream",
          "text": [
            "None\n"
          ],
          "name": "stdout"
        },
        {
          "output_type": "stream",
          "text": [
            "2021-07-13 08:27:26,810 - INFO: lr: 0.09505 | Epoch: 030 | Batch: 000 | Loss: 1.52945 | Correct: 76/128\n"
          ],
          "name": "stderr"
        },
        {
          "output_type": "stream",
          "text": [
            "None\n"
          ],
          "name": "stdout"
        },
        {
          "output_type": "stream",
          "text": [
            "2021-07-13 08:27:43,327 - INFO: lr: 0.08909 | Epoch: 031 | Batch: 000 | Loss: 1.51262 | Correct: 76/128\n"
          ],
          "name": "stderr"
        },
        {
          "output_type": "stream",
          "text": [
            "None\n"
          ],
          "name": "stdout"
        },
        {
          "output_type": "stream",
          "text": [
            "2021-07-13 08:27:59,835 - INFO: lr: 0.08117 | Epoch: 032 | Batch: 000 | Loss: 1.33579 | Correct: 79/128\n"
          ],
          "name": "stderr"
        },
        {
          "output_type": "stream",
          "text": [
            "None\n"
          ],
          "name": "stdout"
        },
        {
          "output_type": "stream",
          "text": [
            "2021-07-13 08:28:16,323 - INFO: lr: 0.07169 | Epoch: 033 | Batch: 000 | Loss: 1.24828 | Correct: 84/128\n"
          ],
          "name": "stderr"
        },
        {
          "output_type": "stream",
          "text": [
            "None\n"
          ],
          "name": "stdout"
        },
        {
          "output_type": "stream",
          "text": [
            "2021-07-13 08:28:32,798 - INFO: lr: 0.06113 | Epoch: 034 | Batch: 000 | Loss: 1.24607 | Correct: 80/128\n"
          ],
          "name": "stderr"
        },
        {
          "output_type": "stream",
          "text": [
            "None\n"
          ],
          "name": "stdout"
        },
        {
          "output_type": "stream",
          "text": [
            "2021-07-13 08:28:49,322 - INFO: lr: 0.05000 | Epoch: 035 | Batch: 000 | Loss: 1.24487 | Correct: 85/128\n"
          ],
          "name": "stderr"
        },
        {
          "output_type": "stream",
          "text": [
            "None\n"
          ],
          "name": "stdout"
        },
        {
          "output_type": "stream",
          "text": [
            "2021-07-13 08:29:05,816 - INFO: lr: 0.03887 | Epoch: 036 | Batch: 000 | Loss: 1.24143 | Correct: 84/128\n"
          ],
          "name": "stderr"
        },
        {
          "output_type": "stream",
          "text": [
            "None\n"
          ],
          "name": "stdout"
        },
        {
          "output_type": "stream",
          "text": [
            "2021-07-13 08:29:22,334 - INFO: lr: 0.02831 | Epoch: 037 | Batch: 000 | Loss: 1.02961 | Correct: 90/128\n"
          ],
          "name": "stderr"
        },
        {
          "output_type": "stream",
          "text": [
            "None\n"
          ],
          "name": "stdout"
        },
        {
          "output_type": "stream",
          "text": [
            "2021-07-13 08:29:38,886 - INFO: lr: 0.01883 | Epoch: 038 | Batch: 000 | Loss: 0.86633 | Correct: 95/128\n"
          ],
          "name": "stderr"
        },
        {
          "output_type": "stream",
          "text": [
            "None\n"
          ],
          "name": "stdout"
        },
        {
          "output_type": "stream",
          "text": [
            "2021-07-13 08:29:55,446 - INFO: lr: 0.01091 | Epoch: 039 | Batch: 000 | Loss: 0.93929 | Correct: 95/128\n"
          ],
          "name": "stderr"
        },
        {
          "output_type": "stream",
          "text": [
            "None\n"
          ],
          "name": "stdout"
        },
        {
          "output_type": "stream",
          "text": [
            "2021-07-13 08:30:11,951 - INFO: lr: 0.00495 | Epoch: 040 | Batch: 000 | Loss: 0.99647 | Correct: 95/128\n"
          ],
          "name": "stderr"
        },
        {
          "output_type": "stream",
          "text": [
            "None\n"
          ],
          "name": "stdout"
        },
        {
          "output_type": "stream",
          "text": [
            "2021-07-13 08:30:28,459 - INFO: lr: 0.00125 | Epoch: 041 | Batch: 000 | Loss: 0.79612 | Correct: 99/128\n"
          ],
          "name": "stderr"
        },
        {
          "output_type": "stream",
          "text": [
            "None\n"
          ],
          "name": "stdout"
        },
        {
          "output_type": "stream",
          "text": [
            "2021-07-13 08:30:44,183 - INFO: Save the snapshot model with index: 2\n",
            "2021-07-13 08:30:45,019 - INFO: n_estimators: 3 | Validation Acc: 76.562 % | Historical Best: 76.562 %\n",
            "2021-07-13 08:30:45,853 - INFO: lr: 0.10000 | Epoch: 042 | Batch: 000 | Loss: 0.75882 | Correct: 103/128\n"
          ],
          "name": "stderr"
        },
        {
          "output_type": "stream",
          "text": [
            "None\n"
          ],
          "name": "stdout"
        },
        {
          "output_type": "stream",
          "text": [
            "2021-07-13 08:31:02,372 - INFO: lr: 0.09875 | Epoch: 043 | Batch: 000 | Loss: 1.32000 | Correct: 80/128\n"
          ],
          "name": "stderr"
        },
        {
          "output_type": "stream",
          "text": [
            "None\n"
          ],
          "name": "stdout"
        },
        {
          "output_type": "stream",
          "text": [
            "2021-07-13 08:31:18,876 - INFO: lr: 0.09505 | Epoch: 044 | Batch: 000 | Loss: 0.95839 | Correct: 97/128\n"
          ],
          "name": "stderr"
        },
        {
          "output_type": "stream",
          "text": [
            "None\n"
          ],
          "name": "stdout"
        },
        {
          "output_type": "stream",
          "text": [
            "2021-07-13 08:31:35,386 - INFO: lr: 0.08909 | Epoch: 045 | Batch: 000 | Loss: 1.10452 | Correct: 85/128\n"
          ],
          "name": "stderr"
        },
        {
          "output_type": "stream",
          "text": [
            "None\n"
          ],
          "name": "stdout"
        },
        {
          "output_type": "stream",
          "text": [
            "2021-07-13 08:31:51,892 - INFO: lr: 0.08117 | Epoch: 046 | Batch: 000 | Loss: 1.02114 | Correct: 95/128\n"
          ],
          "name": "stderr"
        },
        {
          "output_type": "stream",
          "text": [
            "None\n"
          ],
          "name": "stdout"
        },
        {
          "output_type": "stream",
          "text": [
            "2021-07-13 08:32:08,387 - INFO: lr: 0.07169 | Epoch: 047 | Batch: 000 | Loss: 1.10833 | Correct: 85/128\n"
          ],
          "name": "stderr"
        },
        {
          "output_type": "stream",
          "text": [
            "None\n"
          ],
          "name": "stdout"
        },
        {
          "output_type": "stream",
          "text": [
            "2021-07-13 08:32:24,890 - INFO: lr: 0.06113 | Epoch: 048 | Batch: 000 | Loss: 1.12363 | Correct: 83/128\n"
          ],
          "name": "stderr"
        },
        {
          "output_type": "stream",
          "text": [
            "None\n"
          ],
          "name": "stdout"
        },
        {
          "output_type": "stream",
          "text": [
            "2021-07-13 08:32:41,380 - INFO: lr: 0.05000 | Epoch: 049 | Batch: 000 | Loss: 0.94843 | Correct: 95/128\n"
          ],
          "name": "stderr"
        },
        {
          "output_type": "stream",
          "text": [
            "None\n"
          ],
          "name": "stdout"
        },
        {
          "output_type": "stream",
          "text": [
            "2021-07-13 08:32:57,872 - INFO: lr: 0.03887 | Epoch: 050 | Batch: 000 | Loss: 0.74563 | Correct: 100/128\n"
          ],
          "name": "stderr"
        },
        {
          "output_type": "stream",
          "text": [
            "None\n"
          ],
          "name": "stdout"
        },
        {
          "output_type": "stream",
          "text": [
            "2021-07-13 08:33:14,363 - INFO: lr: 0.02831 | Epoch: 051 | Batch: 000 | Loss: 0.82386 | Correct: 95/128\n"
          ],
          "name": "stderr"
        },
        {
          "output_type": "stream",
          "text": [
            "None\n"
          ],
          "name": "stdout"
        },
        {
          "output_type": "stream",
          "text": [
            "2021-07-13 08:33:30,863 - INFO: lr: 0.01883 | Epoch: 052 | Batch: 000 | Loss: 0.79377 | Correct: 101/128\n"
          ],
          "name": "stderr"
        },
        {
          "output_type": "stream",
          "text": [
            "None\n"
          ],
          "name": "stdout"
        },
        {
          "output_type": "stream",
          "text": [
            "2021-07-13 08:33:47,396 - INFO: lr: 0.01091 | Epoch: 053 | Batch: 000 | Loss: 0.59456 | Correct: 103/128\n"
          ],
          "name": "stderr"
        },
        {
          "output_type": "stream",
          "text": [
            "None\n"
          ],
          "name": "stdout"
        },
        {
          "output_type": "stream",
          "text": [
            "2021-07-13 08:34:03,857 - INFO: lr: 0.00495 | Epoch: 054 | Batch: 000 | Loss: 0.50938 | Correct: 109/128\n"
          ],
          "name": "stderr"
        },
        {
          "output_type": "stream",
          "text": [
            "None\n"
          ],
          "name": "stdout"
        },
        {
          "output_type": "stream",
          "text": [
            "2021-07-13 08:34:20,388 - INFO: lr: 0.00125 | Epoch: 055 | Batch: 000 | Loss: 0.50257 | Correct: 106/128\n"
          ],
          "name": "stderr"
        },
        {
          "output_type": "stream",
          "text": [
            "None\n"
          ],
          "name": "stdout"
        },
        {
          "output_type": "stream",
          "text": [
            "2021-07-13 08:34:36,085 - INFO: Save the snapshot model with index: 3\n",
            "2021-07-13 08:34:37,057 - INFO: n_estimators: 4 | Validation Acc: 78.460 % | Historical Best: 78.460 %\n",
            "2021-07-13 08:34:37,871 - INFO: lr: 0.10000 | Epoch: 056 | Batch: 000 | Loss: 0.42203 | Correct: 113/128\n"
          ],
          "name": "stderr"
        },
        {
          "output_type": "stream",
          "text": [
            "None\n"
          ],
          "name": "stdout"
        },
        {
          "output_type": "stream",
          "text": [
            "2021-07-13 08:34:54,405 - INFO: lr: 0.09875 | Epoch: 057 | Batch: 000 | Loss: 1.12741 | Correct: 84/128\n"
          ],
          "name": "stderr"
        },
        {
          "output_type": "stream",
          "text": [
            "None\n"
          ],
          "name": "stdout"
        },
        {
          "output_type": "stream",
          "text": [
            "2021-07-13 08:35:10,924 - INFO: lr: 0.09505 | Epoch: 058 | Batch: 000 | Loss: 1.01752 | Correct: 88/128\n"
          ],
          "name": "stderr"
        },
        {
          "output_type": "stream",
          "text": [
            "None\n"
          ],
          "name": "stdout"
        },
        {
          "output_type": "stream",
          "text": [
            "2021-07-13 08:35:27,435 - INFO: lr: 0.08909 | Epoch: 059 | Batch: 000 | Loss: 0.83237 | Correct: 96/128\n"
          ],
          "name": "stderr"
        },
        {
          "output_type": "stream",
          "text": [
            "None\n"
          ],
          "name": "stdout"
        },
        {
          "output_type": "stream",
          "text": [
            "2021-07-13 08:35:43,963 - INFO: lr: 0.08117 | Epoch: 060 | Batch: 000 | Loss: 0.78955 | Correct: 96/128\n"
          ],
          "name": "stderr"
        },
        {
          "output_type": "stream",
          "text": [
            "None\n"
          ],
          "name": "stdout"
        },
        {
          "output_type": "stream",
          "text": [
            "2021-07-13 08:36:00,460 - INFO: lr: 0.07169 | Epoch: 061 | Batch: 000 | Loss: 0.72448 | Correct: 103/128\n"
          ],
          "name": "stderr"
        },
        {
          "output_type": "stream",
          "text": [
            "None\n"
          ],
          "name": "stdout"
        },
        {
          "output_type": "stream",
          "text": [
            "2021-07-13 08:36:16,978 - INFO: lr: 0.06113 | Epoch: 062 | Batch: 000 | Loss: 0.67045 | Correct: 103/128\n"
          ],
          "name": "stderr"
        },
        {
          "output_type": "stream",
          "text": [
            "None\n"
          ],
          "name": "stdout"
        },
        {
          "output_type": "stream",
          "text": [
            "2021-07-13 08:36:33,512 - INFO: lr: 0.05000 | Epoch: 063 | Batch: 000 | Loss: 0.54270 | Correct: 111/128\n"
          ],
          "name": "stderr"
        },
        {
          "output_type": "stream",
          "text": [
            "None\n"
          ],
          "name": "stdout"
        },
        {
          "output_type": "stream",
          "text": [
            "2021-07-13 08:36:50,037 - INFO: lr: 0.03887 | Epoch: 064 | Batch: 000 | Loss: 0.73723 | Correct: 101/128\n"
          ],
          "name": "stderr"
        },
        {
          "output_type": "stream",
          "text": [
            "None\n"
          ],
          "name": "stdout"
        },
        {
          "output_type": "stream",
          "text": [
            "2021-07-13 08:37:06,534 - INFO: lr: 0.02831 | Epoch: 065 | Batch: 000 | Loss: 0.46643 | Correct: 111/128\n"
          ],
          "name": "stderr"
        },
        {
          "output_type": "stream",
          "text": [
            "None\n"
          ],
          "name": "stdout"
        },
        {
          "output_type": "stream",
          "text": [
            "2021-07-13 08:37:23,002 - INFO: lr: 0.01883 | Epoch: 066 | Batch: 000 | Loss: 0.33485 | Correct: 120/128\n"
          ],
          "name": "stderr"
        },
        {
          "output_type": "stream",
          "text": [
            "None\n"
          ],
          "name": "stdout"
        },
        {
          "output_type": "stream",
          "text": [
            "2021-07-13 08:37:39,543 - INFO: lr: 0.01091 | Epoch: 067 | Batch: 000 | Loss: 0.31650 | Correct: 120/128\n"
          ],
          "name": "stderr"
        },
        {
          "output_type": "stream",
          "text": [
            "None\n"
          ],
          "name": "stdout"
        },
        {
          "output_type": "stream",
          "text": [
            "2021-07-13 08:37:56,021 - INFO: lr: 0.00495 | Epoch: 068 | Batch: 000 | Loss: 0.46385 | Correct: 114/128\n"
          ],
          "name": "stderr"
        },
        {
          "output_type": "stream",
          "text": [
            "None\n"
          ],
          "name": "stdout"
        },
        {
          "output_type": "stream",
          "text": [
            "2021-07-13 08:38:12,552 - INFO: lr: 0.00125 | Epoch: 069 | Batch: 000 | Loss: 0.44093 | Correct: 112/128\n"
          ],
          "name": "stderr"
        },
        {
          "output_type": "stream",
          "text": [
            "None\n"
          ],
          "name": "stdout"
        },
        {
          "output_type": "stream",
          "text": [
            "2021-07-13 08:38:28,261 - INFO: Save the snapshot model with index: 4\n",
            "2021-07-13 08:38:29,349 - INFO: n_estimators: 5 | Validation Acc: 81.027 % | Historical Best: 81.027 %\n"
          ],
          "name": "stderr"
        },
        {
          "output_type": "stream",
          "text": [
            "Group 5 Finished!\n",
            "Target number of exemplars: 40\n",
            "Randomly extracting exemplars from class 0 of current split... Extracted 40 exemplars.\n",
            "Randomly extracting exemplars from class 1 of current split... Extracted 40 exemplars.\n",
            "Randomly extracting exemplars from class 2 of current split... Extracted 40 exemplars.\n",
            "Randomly extracting exemplars from class 3 of current split... Extracted 40 exemplars.\n",
            "Randomly extracting exemplars from class 4 of current split... Extracted 40 exemplars.\n",
            "Randomly extracting exemplars from class 5 of current split... Extracted 40 exemplars.\n",
            "Randomly extracting exemplars from class 6 of current split... Extracted 40 exemplars.\n",
            "Randomly extracting exemplars from class 7 of current split... Extracted 40 exemplars.\n",
            "Randomly extracting exemplars from class 8 of current split... Extracted 40 exemplars.\n",
            "Randomly extracting exemplars from class 9 of current split... Extracted 40 exemplars.\n",
            "[0.2636217948717949, 0.45693108974358976, 0.6764823717948718, 0.7792467948717948, 0.8802083333333334, 0.9172676282051282, 0.9559294871794872],[0.3423477564102564, 0.2900641025641026, 0.2107371794871795, 0.15865384615384615, 0.09254807692307693, 0.06931089743589744, 0.04106570512820513]\n",
            "Testing on both open and closed world\n",
            "owr harmonic mean (threshold:0.25) = 0.2978708412799322\n",
            "owr harmonic mean (threshold:0.35) = 0.35485986481561704\n",
            "owr harmonic mean (threshold:0.5) = 0.32136349294567856\n",
            "owr harmonic mean (threshold:0.6) = 0.2636324056123287\n",
            "owr harmonic mean (threshold:0.75) = 0.1674860996705107\n",
            "owr harmonic mean (threshold:0.85) = 0.12888308603410126\n",
            "owr harmonic mean (threshold:0.95) = 0.07874846086871402\n",
            "\n",
            "=============================================\n",
            "\n",
            "#################################\n",
            "\n",
            "\n"
          ],
          "name": "stdout"
        }
      ]
    },
    {
      "cell_type": "code",
      "metadata": {
        "id": "FlhjGZlYBYdR"
      },
      "source": [
        "predictions = [[logs[run_i]['predictions'][i].cpu().numpy() for i in range(len(logs[run_i]['predictions']))] for run_i in range(len(RANDOM_SEED))]"
      ],
      "execution_count": 16,
      "outputs": []
    },
    {
      "cell_type": "code",
      "metadata": {
        "id": "ReLwAHhLCvfn"
      },
      "source": [
        "accuracies = []\n",
        "for i in range(len(REJECTION_THRESHOLD)):\n",
        "  tmp_list = []\n",
        "  for k in range(5):\n",
        "    tmp_list.append(logs[0]['test_accuracies'][k][i])\n",
        "  accuracies.append(tmp_list)"
      ],
      "execution_count": 96,
      "outputs": []
    },
    {
      "cell_type": "code",
      "metadata": {
        "id": "8683fPolB-q8"
      },
      "source": [
        "true_labels = [logs[run_i]['true_labels'].cpu().data.numpy().tolist() for run_i in range(len(RANDOM_SEED))]"
      ],
      "execution_count": 81,
      "outputs": []
    },
    {
      "cell_type": "code",
      "metadata": {
        "id": "jzGrXNnPMUa9",
        "outputId": "eb800ab8-126f-4b3c-8d80-1973cfe23c87",
        "colab": {
          "base_uri": "https://localhost:8080/"
        }
      },
      "source": [
        "import json\n",
        "\n",
        "with open('states/accuracies.json', 'w') as f:\n",
        "  json.dump(accuracies, f)\n",
        "f.close"
      ],
      "execution_count": 97,
      "outputs": [
        {
          "output_type": "execute_result",
          "data": {
            "text/plain": [
              "<function TextIOWrapper.close>"
            ]
          },
          "metadata": {
            "tags": []
          },
          "execution_count": 97
        }
      ]
    },
    {
      "cell_type": "markdown",
      "metadata": {
        "id": "2NMLqiIS19IJ"
      },
      "source": [
        "### Print some graphs"
      ]
    },
    {
      "cell_type": "code",
      "metadata": {
        "id": "G6Mg2QiIBNRo"
      },
      "source": [
        "from data.utils_plot import plot_train_val, plot_test_accuracies, plot_confusion_matrix"
      ],
      "execution_count": 85,
      "outputs": []
    },
    {
      "cell_type": "code",
      "metadata": {
        "id": "ttyNLP2hGnLN"
      },
      "source": [
        "accuracies = np.array(accuracies)\n",
        "accuracies_stats = np.array([accuracies.mean(0), accuracies.std(0)])"
      ],
      "execution_count": 59,
      "outputs": []
    },
    {
      "cell_type": "markdown",
      "metadata": {
        "id": "llzylw_LF7e_"
      },
      "source": [
        "#### Test accuracy"
      ]
    },
    {
      "cell_type": "code",
      "metadata": {
        "id": "NQfpluscGzX8",
        "outputId": "a20ba0c3-233d-4811-e39e-e3363de1ba4a",
        "colab": {
          "base_uri": "https://localhost:8080/",
          "height": 1000
        }
      },
      "source": [
        "def plot_test(stats, save_directory = None, title = \"\"):\n",
        "  mean = stats[0]\n",
        "  std = stats[1]\n",
        "  fig, ax = plt.subplots(figsize = (10, 5), dpi = 100)\n",
        "  x = np.arange(10, 51, 10)\n",
        "  ax.errorbar(x, mean, std)\n",
        "  ax.set_title(f\"Harmonic mean accuracy - threshold: {title}\")\n",
        "  ax.set_xlabel(\"Number of classes\")\n",
        "  ax.set_ylabel(\"Accuracy\")\n",
        "  plt.tight_layout()\n",
        "  if save_directory != None:\n",
        "    fig.savefig(save_directory)\n",
        "  plt.show()\n",
        "\n",
        "\n",
        "for i in range(len(REJECTION_THRESHOLD)):\n",
        "  plot_test(stats = [accuracies_stats[0][0][i],accuracies_stats[1][0][i]], title = REJECTION_THRESHOLD[i])"
      ],
      "execution_count": 79,
      "outputs": [
        {
          "output_type": "display_data",
          "data": {
            "image/png": "[encoded data removed]",
            "text/plain": [
              "<Figure size 1000x500 with 1 Axes>"
            ]
          },
          "metadata": {
            "tags": [],
            "needs_background": "light"
          }
        },
        {
          "output_type": "display_data",
          "data": {
            "image/png": "[encoded data removed]",
            "text/plain": [
              "<Figure size 1000x500 with 1 Axes>"
            ]
          },
          "metadata": {
            "tags": [],
            "needs_background": "light"
          }
        },
        {
          "output_type": "display_data",
          "data": {
            "image/png": "[encoded data removed]",
            "text/plain": [
              "<Figure size 1000x500 with 1 Axes>"
            ]
          },
          "metadata": {
            "tags": [],
            "needs_background": "light"
          }
        },
        {
          "output_type": "display_data",
          "data": {
            "image/png": "[encoded data removed]",
            "text/plain": [
              "<Figure size 1000x500 with 1 Axes>"
            ]
          },
          "metadata": {
            "tags": [],
            "needs_background": "light"
          }
        },
        {
          "output_type": "display_data",
          "data": {
            "image/png": "[encoded data removed]",
            "text/plain": [
              "<Figure size 1000x500 with 1 Axes>"
            ]
          },
          "metadata": {
            "tags": [],
            "needs_background": "light"
          }
        },
        {
          "output_type": "display_data",
          "data": {
            "image/png": "[encoded data removed]",
            "text/plain": [
              "<Figure size 1000x500 with 1 Axes>"
            ]
          },
          "metadata": {
            "tags": [],
            "needs_background": "light"
          }
        },
        {
          "output_type": "display_data",
          "data": {
            "image/png": "[encoded data removed]",
            "text/plain": [
              "<Figure size 1000x500 with 1 Axes>"
            ]
          },
          "metadata": {
            "tags": [],
            "needs_background": "light"
          }
        }
      ]
    },
    {
      "cell_type": "markdown",
      "metadata": {
        "id": "gN6cighYm1nG"
      },
      "source": [
        "#### Confusion Matrix"
      ]
    },
    {
      "cell_type": "code",
      "metadata": {
        "id": "JZBrIV_SKq2W",
        "outputId": "24f64f5a-cff2-4e8d-d475-48c21f55faab",
        "colab": {
          "base_uri": "https://localhost:8080/"
        }
      },
      "source": [
        "len(true_labels[0])/128"
      ],
      "execution_count": 92,
      "outputs": [
        {
          "output_type": "execute_result",
          "data": {
            "text/plain": [
              "78.0"
            ]
          },
          "metadata": {
            "tags": []
          },
          "execution_count": 92
        }
      ]
    },
    {
      "cell_type": "code",
      "metadata": {
        "id": "LPG6aNRjm5Se",
        "outputId": "08f00104-b394-4f56-8239-20ed65c04fbc",
        "colab": {
          "base_uri": "https://localhost:8080/",
          "height": 1000
        }
      },
      "source": [
        "for i in range(len(REJECTION_THRESHOLD)):\n",
        "  targets = np.array(true_labels[0])\n",
        "  preds = np.array(predictions[0][i])\n",
        "  title = f\"Confusion matrix - Threshold: {REJECTION_THRESHOLD[i]}\"\n",
        "  plot_confusion_matrix(targets, preds, RANDOM_SEED[run], title)"
      ],
      "execution_count": 86,
      "outputs": [
        {
          "output_type": "display_data",
          "data": {
            "image/png": "[encoded data removed]",
            "text/plain": [
              "<Figure size 500x500 with 2 Axes>"
            ]
          },
          "metadata": {
            "tags": [],
            "needs_background": "light"
          }
        },
        {
          "output_type": "display_data",
          "data": {
            "image/png": "[encoded data removed]",
            "text/plain": [
              "<Figure size 500x500 with 2 Axes>"
            ]
          },
          "metadata": {
            "tags": [],
            "needs_background": "light"
          }
        },
        {
          "output_type": "display_data",
          "data": {
            "image/png": "[encoded data removed]",
            "text/plain": [
              "<Figure size 500x500 with 2 Axes>"
            ]
          },
          "metadata": {
            "tags": [],
            "needs_background": "light"
          }
        },
        {
          "output_type": "display_data",
          "data": {
            "image/png": "[encoded data removed]",
            "text/plain": [
              "<Figure size 500x500 with 2 Axes>"
            ]
          },
          "metadata": {
            "tags": [],
            "needs_background": "light"
          }
        },
        {
          "output_type": "display_data",
          "data": {
            "image/png": "[encoded data removed]",
            "text/plain": [
              "<Figure size 500x500 with 2 Axes>"
            ]
          },
          "metadata": {
            "tags": [],
            "needs_background": "light"
          }
        },
        {
          "output_type": "display_data",
          "data": {
            "image/png": "[encoded data removed]",
            "text/plain": [
              "<Figure size 500x500 with 2 Axes>"
            ]
          },
          "metadata": {
            "tags": [],
            "needs_background": "light"
          }
        },
        {
          "output_type": "display_data",
          "data": {
            "image/png": "[encoded data removed]",
            "text/plain": [
              "<Figure size 500x500 with 2 Axes>"
            ]
          },
          "metadata": {
            "tags": [],
            "needs_background": "light"
          }
        }
      ]
    }
  ]
}