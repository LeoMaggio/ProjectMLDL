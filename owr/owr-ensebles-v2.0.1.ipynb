{
  "nbformat": 4,
  "nbformat_minor": 0,
  "metadata": {
    "colab": {
      "name": "FineTuning.ipynb",
      "provenance": [],
      "include_colab_link": true
    },
    "kernelspec": {
      "name": "python3",
      "display_name": "Python 3"
    },
    "language_info": {
      "name": "python"
    },
    "accelerator": "GPU",
    "widgets": {
      "application/vnd.jupyter.widget-state+json": {
        "958c9154f46140e69383720779ecad64": {
          "model_module": "@jupyter-widgets/controls",
          "model_name": "HBoxModel",
          "state": {
            "_view_name": "HBoxView",
            "_dom_classes": [],
            "_model_name": "HBoxModel",
            "_view_module": "@jupyter-widgets/controls",
            "_model_module_version": "1.5.0",
            "_view_count": null,
            "_view_module_version": "1.5.0",
            "box_style": "",
            "layout": "IPY_MODEL_2b1bf020485a45dea008ef05b77508ba",
            "_model_module": "@jupyter-widgets/controls",
            "children": [
              "IPY_MODEL_2a544f81e6184d6a8955d68accf2183f",
              "IPY_MODEL_0cd0afa41213436c9a8106560bdb532d"
            ]
          }
        },
        "2b1bf020485a45dea008ef05b77508ba": {
          "model_module": "@jupyter-widgets/base",
          "model_name": "LayoutModel",
          "state": {
            "_view_name": "LayoutView",
            "grid_template_rows": null,
            "right": null,
            "justify_content": null,
            "_view_module": "@jupyter-widgets/base",
            "overflow": null,
            "_model_module_version": "1.2.0",
            "_view_count": null,
            "flex_flow": null,
            "width": null,
            "min_width": null,
            "border": null,
            "align_items": null,
            "bottom": null,
            "_model_module": "@jupyter-widgets/base",
            "top": null,
            "grid_column": null,
            "overflow_y": null,
            "overflow_x": null,
            "grid_auto_flow": null,
            "grid_area": null,
            "grid_template_columns": null,
            "flex": null,
            "_model_name": "LayoutModel",
            "justify_items": null,
            "grid_row": null,
            "max_height": null,
            "align_content": null,
            "visibility": null,
            "align_self": null,
            "height": null,
            "min_height": null,
            "padding": null,
            "grid_auto_rows": null,
            "grid_gap": null,
            "max_width": null,
            "order": null,
            "_view_module_version": "1.2.0",
            "grid_template_areas": null,
            "object_position": null,
            "object_fit": null,
            "grid_auto_columns": null,
            "margin": null,
            "display": null,
            "left": null
          }
        },
        "2a544f81e6184d6a8955d68accf2183f": {
          "model_module": "@jupyter-widgets/controls",
          "model_name": "FloatProgressModel",
          "state": {
            "_view_name": "ProgressView",
            "style": "IPY_MODEL_70c88e1f8ba74f508cb312915d417a60",
            "_dom_classes": [],
            "description": "",
            "_model_name": "FloatProgressModel",
            "bar_style": "success",
            "max": 169001437,
            "_view_module": "@jupyter-widgets/controls",
            "_model_module_version": "1.5.0",
            "value": 169001437,
            "_view_count": null,
            "_view_module_version": "1.5.0",
            "orientation": "horizontal",
            "min": 0,
            "description_tooltip": null,
            "_model_module": "@jupyter-widgets/controls",
            "layout": "IPY_MODEL_0571eb2cfbe24d82bb9e7244e9d23591"
          }
        },
        "0cd0afa41213436c9a8106560bdb532d": {
          "model_module": "@jupyter-widgets/controls",
          "model_name": "HTMLModel",
          "state": {
            "_view_name": "HTMLView",
            "style": "IPY_MODEL_0449a51d9d854cd4a5ad0d72457be62c",
            "_dom_classes": [],
            "description": "",
            "_model_name": "HTMLModel",
            "placeholder": "​",
            "_view_module": "@jupyter-widgets/controls",
            "_model_module_version": "1.5.0",
            "value": " 169001984/? [00:34&lt;00:00, 4851801.48it/s]",
            "_view_count": null,
            "_view_module_version": "1.5.0",
            "description_tooltip": null,
            "_model_module": "@jupyter-widgets/controls",
            "layout": "IPY_MODEL_0bdc1ac460d24a2dba311ffe765bd676"
          }
        },
        "70c88e1f8ba74f508cb312915d417a60": {
          "model_module": "@jupyter-widgets/controls",
          "model_name": "ProgressStyleModel",
          "state": {
            "_view_name": "StyleView",
            "_model_name": "ProgressStyleModel",
            "description_width": "initial",
            "_view_module": "@jupyter-widgets/base",
            "_model_module_version": "1.5.0",
            "_view_count": null,
            "_view_module_version": "1.2.0",
            "bar_color": null,
            "_model_module": "@jupyter-widgets/controls"
          }
        },
        "0571eb2cfbe24d82bb9e7244e9d23591": {
          "model_module": "@jupyter-widgets/base",
          "model_name": "LayoutModel",
          "state": {
            "_view_name": "LayoutView",
            "grid_template_rows": null,
            "right": null,
            "justify_content": null,
            "_view_module": "@jupyter-widgets/base",
            "overflow": null,
            "_model_module_version": "1.2.0",
            "_view_count": null,
            "flex_flow": null,
            "width": null,
            "min_width": null,
            "border": null,
            "align_items": null,
            "bottom": null,
            "_model_module": "@jupyter-widgets/base",
            "top": null,
            "grid_column": null,
            "overflow_y": null,
            "overflow_x": null,
            "grid_auto_flow": null,
            "grid_area": null,
            "grid_template_columns": null,
            "flex": null,
            "_model_name": "LayoutModel",
            "justify_items": null,
            "grid_row": null,
            "max_height": null,
            "align_content": null,
            "visibility": null,
            "align_self": null,
            "height": null,
            "min_height": null,
            "padding": null,
            "grid_auto_rows": null,
            "grid_gap": null,
            "max_width": null,
            "order": null,
            "_view_module_version": "1.2.0",
            "grid_template_areas": null,
            "object_position": null,
            "object_fit": null,
            "grid_auto_columns": null,
            "margin": null,
            "display": null,
            "left": null
          }
        },
        "0449a51d9d854cd4a5ad0d72457be62c": {
          "model_module": "@jupyter-widgets/controls",
          "model_name": "DescriptionStyleModel",
          "state": {
            "_view_name": "StyleView",
            "_model_name": "DescriptionStyleModel",
            "description_width": "",
            "_view_module": "@jupyter-widgets/base",
            "_model_module_version": "1.5.0",
            "_view_count": null,
            "_view_module_version": "1.2.0",
            "_model_module": "@jupyter-widgets/controls"
          }
        },
        "0bdc1ac460d24a2dba311ffe765bd676": {
          "model_module": "@jupyter-widgets/base",
          "model_name": "LayoutModel",
          "state": {
            "_view_name": "LayoutView",
            "grid_template_rows": null,
            "right": null,
            "justify_content": null,
            "_view_module": "@jupyter-widgets/base",
            "overflow": null,
            "_model_module_version": "1.2.0",
            "_view_count": null,
            "flex_flow": null,
            "width": null,
            "min_width": null,
            "border": null,
            "align_items": null,
            "bottom": null,
            "_model_module": "@jupyter-widgets/base",
            "top": null,
            "grid_column": null,
            "overflow_y": null,
            "overflow_x": null,
            "grid_auto_flow": null,
            "grid_area": null,
            "grid_template_columns": null,
            "flex": null,
            "_model_name": "LayoutModel",
            "justify_items": null,
            "grid_row": null,
            "max_height": null,
            "align_content": null,
            "visibility": null,
            "align_self": null,
            "height": null,
            "min_height": null,
            "padding": null,
            "grid_auto_rows": null,
            "grid_gap": null,
            "max_width": null,
            "order": null,
            "_view_module_version": "1.2.0",
            "grid_template_areas": null,
            "object_position": null,
            "object_fit": null,
            "grid_auto_columns": null,
            "margin": null,
            "display": null,
            "left": null
          }
        }
      }
    }
  },
  "cells": [
    {
      "cell_type": "markdown",
      "metadata": {
        "id": "view-in-github",
        "colab_type": "text"
      },
      "source": [
        "<a href=\"https://colab.research.google.com/github/cosminnedescu/ProjectMLDL/blob/main/owr/owr-ensebles-v2.0.1.ipynb\" target=\"_parent\"><img src=\"https://colab.research.google.com/assets/colab-badge.svg\" alt=\"Open In Colab\"/></a>"
      ]
    },
    {
      "cell_type": "code",
      "metadata": {
        "id": "PF5bRIxnU-PW",
        "colab": {
          "base_uri": "https://localhost:8080/"
        },
        "outputId": "2fdfd35d-559c-462a-9144-9692cd3202d4"
      },
      "source": [
        "# Avoid K80\n",
        "!nvidia-smi"
      ],
      "execution_count": 1,
      "outputs": [
        {
          "output_type": "stream",
          "text": [
            "Mon Jul 12 21:28:33 2021       \n",
            "+-----------------------------------------------------------------------------+\n",
            "| NVIDIA-SMI 470.42.01    Driver Version: 460.32.03    CUDA Version: 11.2     |\n",
            "|-------------------------------+----------------------+----------------------+\n",
            "| GPU  Name        Persistence-M| Bus-Id        Disp.A | Volatile Uncorr. ECC |\n",
            "| Fan  Temp  Perf  Pwr:Usage/Cap|         Memory-Usage | GPU-Util  Compute M. |\n",
            "|                               |                      |               MIG M. |\n",
            "|===============================+======================+======================|\n",
            "|   0  Tesla T4            Off  | 00000000:00:04.0 Off |                    0 |\n",
            "| N/A   55C    P8    10W /  70W |      0MiB / 15109MiB |      0%      Default |\n",
            "|                               |                      |                  N/A |\n",
            "+-------------------------------+----------------------+----------------------+\n",
            "                                                                               \n",
            "+-----------------------------------------------------------------------------+\n",
            "| Processes:                                                                  |\n",
            "|  GPU   GI   CI        PID   Type   Process name                  GPU Memory |\n",
            "|        ID   ID                                                   Usage      |\n",
            "|=============================================================================|\n",
            "|  No running processes found                                                 |\n",
            "+-----------------------------------------------------------------------------+\n"
          ],
          "name": "stdout"
        }
      ]
    },
    {
      "cell_type": "code",
      "metadata": {
        "id": "pJimWkPdQu6y"
      },
      "source": [
        "import os\n",
        "import random\n",
        "\n",
        "import torch\n",
        "import torch.nn as nn\n",
        "import torch.nn.init as init\n",
        "import torch.optim as optim\n",
        "from torch.autograd import Variable\n",
        "\n",
        "import torchvision\n",
        "from torchvision import transforms, datasets, models\n",
        "from torch.utils.data import Subset, DataLoader\n",
        "\n",
        "from PIL import Image\n",
        "\n",
        "import numpy as np\n",
        "import matplotlib \n",
        "import matplotlib.pyplot as plt\n",
        "from copy import copy\n",
        "from copy import deepcopy"
      ],
      "execution_count": 2,
      "outputs": []
    },
    {
      "cell_type": "markdown",
      "metadata": {
        "id": "7BZw-bZJ16ay"
      },
      "source": [
        "#### Cloning the Git repository"
      ]
    },
    {
      "cell_type": "code",
      "metadata": {
        "id": "yjntw1jZQ7Lg",
        "colab": {
          "base_uri": "https://localhost:8080/"
        },
        "outputId": "c0ec214d-8b16-4ab0-f7c1-5e88680e62ab"
      },
      "source": [
        "!rm -rf ProjectMLDL\n",
        "if not os.path.isdir('/content/ProjectMLDL'):\n",
        "  !git clone https://github.com/cosminnedescu/ProjectMLDL.git\n",
        "  %cd /content/ProjectMLDL\n",
        "  !rm -rf LICENSE README.md"
      ],
      "execution_count": 3,
      "outputs": [
        {
          "output_type": "stream",
          "text": [
            "Cloning into 'ProjectMLDL'...\n",
            "remote: Enumerating objects: 3441, done.\u001b[K\n",
            "remote: Counting objects: 100% (857/857), done.\u001b[K\n",
            "remote: Compressing objects: 100% (530/530), done.\u001b[K\n",
            "remote: Total 3441 (delta 497), reused 543 (delta 311), pack-reused 2584\u001b[K\n",
            "Receiving objects: 100% (3441/3441), 171.65 MiB | 27.42 MiB/s, done.\n",
            "Resolving deltas: 100% (1882/1882), done.\n",
            "Checking out files: 100% (361/361), done.\n",
            "/content/ProjectMLDL\n"
          ],
          "name": "stdout"
        }
      ]
    },
    {
      "cell_type": "code",
      "metadata": {
        "id": "nvqmxRxo2lUW"
      },
      "source": [
        "from data.cifar100 import CIFAR100\n",
        "from model.resnet32_modified import resnet32\n",
        "import data.utils\n",
        "from model.owrEnsamble import owrEnsemble"
      ],
      "execution_count": 4,
      "outputs": []
    },
    {
      "cell_type": "code",
      "metadata": {
        "id": "XwomFTtQo1x-"
      },
      "source": [
        "# True mean and std of Cifar100 dataset (src=\"https://gist.github.com/weiaicunzai/e623931921efefd4c331622c344d8151\")\n",
        "mean = [0.5071, 0.4867, 0.4408]\n",
        "std = [0.2675, 0.2565, 0.2761]\n",
        "\n",
        "train_transform = transforms.Compose([\n",
        "    transforms.RandomCrop(32, padding=4),\n",
        "    transforms.RandomHorizontalFlip(),\n",
        "    transforms.ToTensor(),\n",
        "    transforms.Normalize(mean, std),\n",
        "])\n",
        "test_transform = transforms.Compose(\n",
        "    [transforms.ToTensor(), \n",
        "     transforms.Normalize(mean, std),\n",
        "     ])"
      ],
      "execution_count": 5,
      "outputs": []
    },
    {
      "cell_type": "markdown",
      "metadata": {
        "id": "yRoS-R_sRhHT"
      },
      "source": [
        "## Incremental Classifier and Representation Learning"
      ]
    },
    {
      "cell_type": "markdown",
      "metadata": {
        "id": "3ocVW0wM2Iw2"
      },
      "source": [
        "### Defining hyperparameters according to iCarl paper"
      ]
    },
    {
      "cell_type": "code",
      "metadata": {
        "id": "nmEo_9lnwyBk"
      },
      "source": [
        "# Settings\n",
        "DEVICE = 'cuda'\n",
        "NUM_CLASSES = 100         # Total number of classes\n",
        "VAL_SIZE = 0.2            # Proportion of validation set with respect to training set (between 0 and 1)\n",
        "\n",
        "# Training\n",
        "BATCH_SIZE = 128          # Batch size\n",
        "LR = 0.1                    # Initial learning rate\n",
        "                       \n",
        "MOMENTUM = 0.9            # Momentum for stochastic gradient descent (SGD)\n",
        "WEIGHT_DECAY = 1e-5       # Weight decay from iCaRL\n",
        "\n",
        "RANDOM_SEED = [20]  # Random seeds defining the runs of every method\n",
        "                          # Note: this should be at least 3 to have a fair benchmark\n",
        "\n",
        "NUM_EPOCHS = 70           # Total number of training epochs\n",
        "MILESTONES = [43, 63]     # Step down policy from iCaRL (MultiStepLR)\n",
        "                          # Decrease the learning rate by gamma at each milestone\n",
        "GAMMA = 0.2               # Gamma factor from iCaRL (1/5)\n",
        "\n",
        "HERDING = False           # True to perform prioritized selection, False to perform random selection\n",
        "CLASSIFY = True           # True to use mean-of-exemplar classifier, False to use network's output directly for classification\n",
        "\n",
        "REJECTION_THRESHOLD = [0.50,0.75,0.95]\n",
        "TESTING_MODE = 'harmonic' #open, closed, harmonic\n",
        "N_ESTIMATORS = 5\n",
        "CONFIDENCE = '0.900' #'0.900':1.47, '0.950':1.94, '0.975':2.45, '0.990':3.36\n",
        "    "
      ],
      "execution_count": 6,
      "outputs": []
    },
    {
      "cell_type": "code",
      "metadata": {
        "id": "rVh61C63FECy"
      },
      "source": [
        "def do_group_classes(run):\n",
        "\n",
        "  train_subset = [[] for i in range(10)]\n",
        "  train_dataloader = [[] for i in range(10)]\n",
        "  val_dataloader = [[] for i in range(10)]\n",
        "  test_dataloader = [[] for i in range(10)]\n",
        "\n",
        "  for i in range(10):\n",
        "    train_data = CIFAR100(\"dataset\", \n",
        "                          train=True, \n",
        "                          transform=train_transform, \n",
        "                          download=(run+i==0),\n",
        "                          random_state=RANDOM_SEED[run])\n",
        "    test_data = CIFAR100(\"dataset\", \n",
        "                         train=False, \n",
        "                         transform=test_transform, \n",
        "                         download=False,\n",
        "                         random_state=RANDOM_SEED[run])\n",
        "    \n",
        "    train_data.set_index_map(train_data.splits[i])\n",
        "    test_data.set_index_map([test_data.splits[j] for j in range(0, i+1)])\n",
        "    \n",
        "    train_indices, val_indices = train_data.train_val_split(VAL_SIZE, RANDOM_SEED[run])\n",
        "    \n",
        "    train_subset[i] = copy(Subset(train_data, train_indices))\n",
        "    val_subset = Subset(train_data, val_indices)\n",
        "\n",
        "    tmp_dl = DataLoader(val_subset,\n",
        "                       batch_size=BATCH_SIZE,\n",
        "                       shuffle=True, \n",
        "                       num_workers=4,\n",
        "                       drop_last=True)\n",
        "    val_dataloader[i] = copy(tmp_dl)\n",
        "\n",
        "    tmp_dl = DataLoader(test_data,\n",
        "                       batch_size=BATCH_SIZE,\n",
        "                       shuffle=True, \n",
        "                       num_workers=4,\n",
        "                       drop_last=True)\n",
        "    test_dataloader[i] = copy(tmp_dl)\n",
        "\n",
        "  return train_dataloader, val_dataloader, test_dataloader, train_subset"
      ],
      "execution_count": 7,
      "outputs": []
    },
    {
      "cell_type": "markdown",
      "metadata": {
        "id": "20APZIgI1eBy"
      },
      "source": [
        "### Going on with the model\n",
        "This is the main iCaRL step.\n",
        "\n",
        "This step is run 3 times with different `RANDOM_SEED`.\n",
        "Here the model is instantiated, trained and tested.\n",
        "\n",
        "Results and some statistics are then stored in the variable `logs`."
      ]
    },
    {
      "cell_type": "code",
      "metadata": {
        "id": "mJHKbipz0bMr",
        "colab": {
          "base_uri": "https://localhost:8080/",
          "height": 1000,
          "referenced_widgets": [
            "958c9154f46140e69383720779ecad64",
            "2b1bf020485a45dea008ef05b77508ba",
            "2a544f81e6184d6a8955d68accf2183f",
            "0cd0afa41213436c9a8106560bdb532d",
            "70c88e1f8ba74f508cb312915d417a60",
            "0571eb2cfbe24d82bb9e7244e9d23591",
            "0449a51d9d854cd4a5ad0d72457be62c",
            "0bdc1ac460d24a2dba311ffe765bd676"
          ]
        },
        "outputId": "d1c71eb0-0b37-426e-d429-ce5bd37132e4"
      },
      "source": [
        "logs = [[] for i in range(len(RANDOM_SEED))]\n",
        "best_net_tot_classes = [None for i in range(len(RANDOM_SEED))]\n",
        "\n",
        "for run in range(len(RANDOM_SEED)):\n",
        "  print(\"#################################\")\n",
        "  print(f\"Radom seed: {RANDOM_SEED[run]}\")\n",
        "  print(\"\")\n",
        "\n",
        "  # get data_subsets separated in incremental groups of 10 classes\n",
        "  train_dl, val_dl, test_dl, train_set = do_group_classes(run)\n",
        "\n",
        "  #create the resnet\n",
        "  net = resnet32()\n",
        "  \n",
        "  trainer = owrEnsemble(DEVICE,\n",
        "                  net,\n",
        "                  LR,\n",
        "                  MOMENTUM,\n",
        "                  WEIGHT_DECAY,\n",
        "                  MILESTONES,\n",
        "                  GAMMA,\n",
        "                  train_dl,\n",
        "                  val_dl,\n",
        "                  test_dl,\n",
        "                  BATCH_SIZE,\n",
        "                  train_set,\n",
        "                  train_transform,\n",
        "                  test_transform,\n",
        "                  TESTING_MODE,\n",
        "                  REJECTION_THRESHOLD,\n",
        "                  N_ESTIMATORS,\n",
        "                  CONFIDENCE) \n",
        "\n",
        "  #train and evaluate the model\n",
        "  logs[run] = trainer.train_model(NUM_EPOCHS)\n",
        "\n",
        "  best_net_tot_classes[run] = deepcopy(trainer.best_net)\n",
        "\n",
        "  print(\"#################################\")\n",
        "  print(\"\")\n",
        "  print(\"\")"
      ],
      "execution_count": null,
      "outputs": [
        {
          "output_type": "stream",
          "text": [
            "#################################\n",
            "Radom seed: 20\n",
            "\n",
            "Downloading https://www.cs.toronto.edu/~kriz/cifar-100-python.tar.gz to dataset/cifar-100-python.tar.gz\n"
          ],
          "name": "stdout"
        },
        {
          "output_type": "display_data",
          "data": {
            "application/vnd.jupyter.widget-view+json": {
              "model_id": "958c9154f46140e69383720779ecad64",
              "version_minor": 0,
              "version_major": 2
            },
            "text/plain": [
              "HBox(children=(FloatProgress(value=0.0, max=169001437.0), HTML(value='')))"
            ]
          },
          "metadata": {
            "tags": []
          }
        },
        {
          "output_type": "stream",
          "text": [
            "\n",
            "Extracting dataset/cifar-100-python.tar.gz to dataset\n"
          ],
          "name": "stdout"
        },
        {
          "output_type": "stream",
          "text": [
            "/usr/local/lib/python3.7/dist-packages/torch/utils/data/dataloader.py:481: UserWarning: This DataLoader will create 4 worker processes in total. Our suggested max number of worker in current system is 2, which is smaller than what this DataLoader is going to create. Please be aware that excessive worker creation might get DataLoader running slow or even freeze, lower the worker number to avoid potential slowness/freeze if necessary.\n",
            "  cpuset_checked))\n"
          ],
          "name": "stderr"
        },
        {
          "output_type": "stream",
          "text": [
            "Log will be saved in '/content/ProjectMLDL/logs'.\n",
            "Create folder 'logs/'\n",
            "Start logging into file /content/ProjectMLDL/logs/classification_mnist_mlp-2021_07_12_21_29.log...\n",
            "Length of exemplars set: 0\n"
          ],
          "name": "stdout"
        },
        {
          "output_type": "stream",
          "text": [
            "2021-07-12 21:29:17,509 - INFO: lr: 0.10000 | Epoch: 000 | Batch: 000 | Loss: 2.29913 | Correct: 16/128\n"
          ],
          "name": "stderr"
        },
        {
          "output_type": "stream",
          "text": [
            "None\n"
          ],
          "name": "stdout"
        },
        {
          "output_type": "stream",
          "text": [
            "2021-07-12 21:29:19,646 - INFO: lr: 0.09875 | Epoch: 001 | Batch: 000 | Loss: 1.78510 | Correct: 42/128\n"
          ],
          "name": "stderr"
        },
        {
          "output_type": "stream",
          "text": [
            "None\n"
          ],
          "name": "stdout"
        },
        {
          "output_type": "stream",
          "text": [
            "2021-07-12 21:29:21,827 - INFO: lr: 0.09505 | Epoch: 002 | Batch: 000 | Loss: 1.59216 | Correct: 41/128\n"
          ],
          "name": "stderr"
        },
        {
          "output_type": "stream",
          "text": [
            "None\n"
          ],
          "name": "stdout"
        },
        {
          "output_type": "stream",
          "text": [
            "2021-07-12 21:29:23,901 - INFO: lr: 0.08909 | Epoch: 003 | Batch: 000 | Loss: 1.55176 | Correct: 54/128\n"
          ],
          "name": "stderr"
        },
        {
          "output_type": "stream",
          "text": [
            "None\n"
          ],
          "name": "stdout"
        },
        {
          "output_type": "stream",
          "text": [
            "2021-07-12 21:29:26,120 - INFO: lr: 0.08117 | Epoch: 004 | Batch: 000 | Loss: 1.51353 | Correct: 56/128\n"
          ],
          "name": "stderr"
        },
        {
          "output_type": "stream",
          "text": [
            "None\n"
          ],
          "name": "stdout"
        },
        {
          "output_type": "stream",
          "text": [
            "2021-07-12 21:29:28,242 - INFO: lr: 0.07169 | Epoch: 005 | Batch: 000 | Loss: 1.36682 | Correct: 58/128\n"
          ],
          "name": "stderr"
        },
        {
          "output_type": "stream",
          "text": [
            "None\n"
          ],
          "name": "stdout"
        },
        {
          "output_type": "stream",
          "text": [
            "2021-07-12 21:29:30,389 - INFO: lr: 0.06113 | Epoch: 006 | Batch: 000 | Loss: 1.20869 | Correct: 73/128\n"
          ],
          "name": "stderr"
        },
        {
          "output_type": "stream",
          "text": [
            "None\n"
          ],
          "name": "stdout"
        },
        {
          "output_type": "stream",
          "text": [
            "2021-07-12 21:29:32,595 - INFO: lr: 0.05000 | Epoch: 007 | Batch: 000 | Loss: 1.10870 | Correct: 70/128\n"
          ],
          "name": "stderr"
        },
        {
          "output_type": "stream",
          "text": [
            "None\n"
          ],
          "name": "stdout"
        },
        {
          "output_type": "stream",
          "text": [
            "2021-07-12 21:29:34,705 - INFO: lr: 0.03887 | Epoch: 008 | Batch: 000 | Loss: 1.00567 | Correct: 82/128\n"
          ],
          "name": "stderr"
        },
        {
          "output_type": "stream",
          "text": [
            "None\n"
          ],
          "name": "stdout"
        },
        {
          "output_type": "stream",
          "text": [
            "2021-07-12 21:29:36,852 - INFO: lr: 0.02831 | Epoch: 009 | Batch: 000 | Loss: 0.99753 | Correct: 80/128\n"
          ],
          "name": "stderr"
        },
        {
          "output_type": "stream",
          "text": [
            "None\n"
          ],
          "name": "stdout"
        },
        {
          "output_type": "stream",
          "text": [
            "2021-07-12 21:29:39,076 - INFO: lr: 0.01883 | Epoch: 010 | Batch: 000 | Loss: 0.87106 | Correct: 88/128\n"
          ],
          "name": "stderr"
        },
        {
          "output_type": "stream",
          "text": [
            "None\n"
          ],
          "name": "stdout"
        },
        {
          "output_type": "stream",
          "text": [
            "2021-07-12 21:29:41,280 - INFO: lr: 0.01091 | Epoch: 011 | Batch: 000 | Loss: 1.00024 | Correct: 76/128\n"
          ],
          "name": "stderr"
        },
        {
          "output_type": "stream",
          "text": [
            "None\n"
          ],
          "name": "stdout"
        },
        {
          "output_type": "stream",
          "text": [
            "2021-07-12 21:29:43,457 - INFO: lr: 0.00495 | Epoch: 012 | Batch: 000 | Loss: 0.73261 | Correct: 96/128\n"
          ],
          "name": "stderr"
        },
        {
          "output_type": "stream",
          "text": [
            "None\n"
          ],
          "name": "stdout"
        },
        {
          "output_type": "stream",
          "text": [
            "2021-07-12 21:29:45,612 - INFO: lr: 0.00125 | Epoch: 013 | Batch: 000 | Loss: 0.87445 | Correct: 85/128\n"
          ],
          "name": "stderr"
        },
        {
          "output_type": "stream",
          "text": [
            "None\n"
          ],
          "name": "stdout"
        },
        {
          "output_type": "stream",
          "text": [
            "2021-07-12 21:29:47,437 - INFO: Save the snapshot model with index: 0\n",
            "2021-07-12 21:29:48,067 - INFO: n_estimators: 1 | Validation Acc: 67.299 % | Historical Best: 67.299 %\n",
            "2021-07-12 21:29:48,425 - INFO: lr: 0.10000 | Epoch: 014 | Batch: 000 | Loss: 0.75047 | Correct: 98/128\n"
          ],
          "name": "stderr"
        },
        {
          "output_type": "stream",
          "text": [
            "None\n"
          ],
          "name": "stdout"
        },
        {
          "output_type": "stream",
          "text": [
            "2021-07-12 21:29:50,640 - INFO: lr: 0.09875 | Epoch: 015 | Batch: 000 | Loss: 1.03865 | Correct: 78/128\n"
          ],
          "name": "stderr"
        },
        {
          "output_type": "stream",
          "text": [
            "None\n"
          ],
          "name": "stdout"
        },
        {
          "output_type": "stream",
          "text": [
            "2021-07-12 21:29:52,757 - INFO: lr: 0.09505 | Epoch: 016 | Batch: 000 | Loss: 0.99197 | Correct: 84/128\n"
          ],
          "name": "stderr"
        },
        {
          "output_type": "stream",
          "text": [
            "None\n"
          ],
          "name": "stdout"
        },
        {
          "output_type": "stream",
          "text": [
            "2021-07-12 21:29:54,932 - INFO: lr: 0.08909 | Epoch: 017 | Batch: 000 | Loss: 0.78057 | Correct: 89/128\n"
          ],
          "name": "stderr"
        },
        {
          "output_type": "stream",
          "text": [
            "None\n"
          ],
          "name": "stdout"
        },
        {
          "output_type": "stream",
          "text": [
            "2021-07-12 21:29:57,122 - INFO: lr: 0.08117 | Epoch: 018 | Batch: 000 | Loss: 1.00651 | Correct: 79/128\n"
          ],
          "name": "stderr"
        },
        {
          "output_type": "stream",
          "text": [
            "None\n"
          ],
          "name": "stdout"
        },
        {
          "output_type": "stream",
          "text": [
            "2021-07-12 21:29:59,329 - INFO: lr: 0.07169 | Epoch: 019 | Batch: 000 | Loss: 0.77263 | Correct: 90/128\n"
          ],
          "name": "stderr"
        },
        {
          "output_type": "stream",
          "text": [
            "None\n"
          ],
          "name": "stdout"
        },
        {
          "output_type": "stream",
          "text": [
            "2021-07-12 21:30:01,488 - INFO: lr: 0.06113 | Epoch: 020 | Batch: 000 | Loss: 0.63393 | Correct: 99/128\n"
          ],
          "name": "stderr"
        },
        {
          "output_type": "stream",
          "text": [
            "None\n"
          ],
          "name": "stdout"
        },
        {
          "output_type": "stream",
          "text": [
            "2021-07-12 21:30:03,626 - INFO: lr: 0.05000 | Epoch: 021 | Batch: 000 | Loss: 0.62995 | Correct: 104/128\n"
          ],
          "name": "stderr"
        },
        {
          "output_type": "stream",
          "text": [
            "None\n"
          ],
          "name": "stdout"
        },
        {
          "output_type": "stream",
          "text": [
            "2021-07-12 21:30:05,795 - INFO: lr: 0.03887 | Epoch: 022 | Batch: 000 | Loss: 0.70328 | Correct: 100/128\n"
          ],
          "name": "stderr"
        },
        {
          "output_type": "stream",
          "text": [
            "None\n"
          ],
          "name": "stdout"
        },
        {
          "output_type": "stream",
          "text": [
            "2021-07-12 21:30:07,988 - INFO: lr: 0.02831 | Epoch: 023 | Batch: 000 | Loss: 0.65226 | Correct: 105/128\n"
          ],
          "name": "stderr"
        },
        {
          "output_type": "stream",
          "text": [
            "None\n"
          ],
          "name": "stdout"
        },
        {
          "output_type": "stream",
          "text": [
            "2021-07-12 21:30:10,247 - INFO: lr: 0.01883 | Epoch: 024 | Batch: 000 | Loss: 0.47741 | Correct: 107/128\n"
          ],
          "name": "stderr"
        },
        {
          "output_type": "stream",
          "text": [
            "None\n"
          ],
          "name": "stdout"
        },
        {
          "output_type": "stream",
          "text": [
            "2021-07-12 21:30:12,478 - INFO: lr: 0.01091 | Epoch: 025 | Batch: 000 | Loss: 0.48183 | Correct: 108/128\n"
          ],
          "name": "stderr"
        },
        {
          "output_type": "stream",
          "text": [
            "None\n"
          ],
          "name": "stdout"
        },
        {
          "output_type": "stream",
          "text": [
            "2021-07-12 21:30:14,638 - INFO: lr: 0.00495 | Epoch: 026 | Batch: 000 | Loss: 0.58029 | Correct: 104/128\n"
          ],
          "name": "stderr"
        },
        {
          "output_type": "stream",
          "text": [
            "None\n"
          ],
          "name": "stdout"
        },
        {
          "output_type": "stream",
          "text": [
            "2021-07-12 21:30:16,784 - INFO: lr: 0.00125 | Epoch: 027 | Batch: 000 | Loss: 0.60077 | Correct: 106/128\n"
          ],
          "name": "stderr"
        },
        {
          "output_type": "stream",
          "text": [
            "None\n"
          ],
          "name": "stdout"
        },
        {
          "output_type": "stream",
          "text": [
            "2021-07-12 21:30:18,640 - INFO: Save the snapshot model with index: 1\n",
            "2021-07-12 21:30:19,330 - INFO: n_estimators: 2 | Validation Acc: 76.674 % | Historical Best: 76.674 %\n",
            "2021-07-12 21:30:19,735 - INFO: lr: 0.10000 | Epoch: 028 | Batch: 000 | Loss: 0.48970 | Correct: 108/128\n"
          ],
          "name": "stderr"
        },
        {
          "output_type": "stream",
          "text": [
            "None\n"
          ],
          "name": "stdout"
        },
        {
          "output_type": "stream",
          "text": [
            "2021-07-12 21:30:21,865 - INFO: lr: 0.09875 | Epoch: 029 | Batch: 000 | Loss: 0.61364 | Correct: 104/128\n"
          ],
          "name": "stderr"
        },
        {
          "output_type": "stream",
          "text": [
            "None\n"
          ],
          "name": "stdout"
        },
        {
          "output_type": "stream",
          "text": [
            "2021-07-12 21:30:24,112 - INFO: lr: 0.09505 | Epoch: 030 | Batch: 000 | Loss: 0.64484 | Correct: 105/128\n"
          ],
          "name": "stderr"
        },
        {
          "output_type": "stream",
          "text": [
            "None\n"
          ],
          "name": "stdout"
        },
        {
          "output_type": "stream",
          "text": [
            "2021-07-12 21:30:26,341 - INFO: lr: 0.08909 | Epoch: 031 | Batch: 000 | Loss: 0.59870 | Correct: 102/128\n"
          ],
          "name": "stderr"
        },
        {
          "output_type": "stream",
          "text": [
            "None\n"
          ],
          "name": "stdout"
        },
        {
          "output_type": "stream",
          "text": [
            "2021-07-12 21:30:28,503 - INFO: lr: 0.08117 | Epoch: 032 | Batch: 000 | Loss: 0.51637 | Correct: 106/128\n"
          ],
          "name": "stderr"
        },
        {
          "output_type": "stream",
          "text": [
            "None\n"
          ],
          "name": "stdout"
        },
        {
          "output_type": "stream",
          "text": [
            "2021-07-12 21:30:30,737 - INFO: lr: 0.07169 | Epoch: 033 | Batch: 000 | Loss: 0.47719 | Correct: 104/128\n"
          ],
          "name": "stderr"
        },
        {
          "output_type": "stream",
          "text": [
            "None\n"
          ],
          "name": "stdout"
        },
        {
          "output_type": "stream",
          "text": [
            "2021-07-12 21:30:33,026 - INFO: lr: 0.06113 | Epoch: 034 | Batch: 000 | Loss: 0.44611 | Correct: 108/128\n"
          ],
          "name": "stderr"
        },
        {
          "output_type": "stream",
          "text": [
            "None\n"
          ],
          "name": "stdout"
        },
        {
          "output_type": "stream",
          "text": [
            "2021-07-12 21:30:35,251 - INFO: lr: 0.05000 | Epoch: 035 | Batch: 000 | Loss: 0.45169 | Correct: 109/128\n"
          ],
          "name": "stderr"
        },
        {
          "output_type": "stream",
          "text": [
            "None\n"
          ],
          "name": "stdout"
        },
        {
          "output_type": "stream",
          "text": [
            "2021-07-12 21:30:37,488 - INFO: lr: 0.03887 | Epoch: 036 | Batch: 000 | Loss: 0.45378 | Correct: 106/128\n"
          ],
          "name": "stderr"
        },
        {
          "output_type": "stream",
          "text": [
            "None\n"
          ],
          "name": "stdout"
        },
        {
          "output_type": "stream",
          "text": [
            "2021-07-12 21:30:39,684 - INFO: lr: 0.02831 | Epoch: 037 | Batch: 000 | Loss: 0.36647 | Correct: 110/128\n"
          ],
          "name": "stderr"
        },
        {
          "output_type": "stream",
          "text": [
            "None\n"
          ],
          "name": "stdout"
        },
        {
          "output_type": "stream",
          "text": [
            "2021-07-12 21:30:41,987 - INFO: lr: 0.01883 | Epoch: 038 | Batch: 000 | Loss: 0.26162 | Correct: 115/128\n"
          ],
          "name": "stderr"
        },
        {
          "output_type": "stream",
          "text": [
            "None\n"
          ],
          "name": "stdout"
        },
        {
          "output_type": "stream",
          "text": [
            "2021-07-12 21:30:44,168 - INFO: lr: 0.01091 | Epoch: 039 | Batch: 000 | Loss: 0.35166 | Correct: 108/128\n"
          ],
          "name": "stderr"
        },
        {
          "output_type": "stream",
          "text": [
            "None\n"
          ],
          "name": "stdout"
        },
        {
          "output_type": "stream",
          "text": [
            "2021-07-12 21:30:46,477 - INFO: lr: 0.00495 | Epoch: 040 | Batch: 000 | Loss: 0.34026 | Correct: 112/128\n"
          ],
          "name": "stderr"
        },
        {
          "output_type": "stream",
          "text": [
            "None\n"
          ],
          "name": "stdout"
        },
        {
          "output_type": "stream",
          "text": [
            "2021-07-12 21:30:48,630 - INFO: lr: 0.00125 | Epoch: 041 | Batch: 000 | Loss: 0.33198 | Correct: 113/128\n"
          ],
          "name": "stderr"
        },
        {
          "output_type": "stream",
          "text": [
            "None\n"
          ],
          "name": "stdout"
        },
        {
          "output_type": "stream",
          "text": [
            "2021-07-12 21:30:50,526 - INFO: Save the snapshot model with index: 2\n",
            "2021-07-12 21:30:51,332 - INFO: n_estimators: 3 | Validation Acc: 82.143 % | Historical Best: 82.143 %\n",
            "2021-07-12 21:30:51,689 - INFO: lr: 0.10000 | Epoch: 042 | Batch: 000 | Loss: 0.32713 | Correct: 115/128\n"
          ],
          "name": "stderr"
        },
        {
          "output_type": "stream",
          "text": [
            "None\n"
          ],
          "name": "stdout"
        },
        {
          "output_type": "stream",
          "text": [
            "2021-07-12 21:30:53,998 - INFO: lr: 0.09875 | Epoch: 043 | Batch: 000 | Loss: 0.47753 | Correct: 105/128\n"
          ],
          "name": "stderr"
        },
        {
          "output_type": "stream",
          "text": [
            "None\n"
          ],
          "name": "stdout"
        },
        {
          "output_type": "stream",
          "text": [
            "2021-07-12 21:30:56,116 - INFO: lr: 0.09505 | Epoch: 044 | Batch: 000 | Loss: 0.51199 | Correct: 106/128\n"
          ],
          "name": "stderr"
        },
        {
          "output_type": "stream",
          "text": [
            "None\n"
          ],
          "name": "stdout"
        },
        {
          "output_type": "stream",
          "text": [
            "2021-07-12 21:30:58,385 - INFO: lr: 0.08909 | Epoch: 045 | Batch: 000 | Loss: 0.57558 | Correct: 109/128\n"
          ],
          "name": "stderr"
        },
        {
          "output_type": "stream",
          "text": [
            "None\n"
          ],
          "name": "stdout"
        },
        {
          "output_type": "stream",
          "text": [
            "2021-07-12 21:31:00,568 - INFO: lr: 0.08117 | Epoch: 046 | Batch: 000 | Loss: 0.57794 | Correct: 105/128\n"
          ],
          "name": "stderr"
        },
        {
          "output_type": "stream",
          "text": [
            "None\n"
          ],
          "name": "stdout"
        },
        {
          "output_type": "stream",
          "text": [
            "2021-07-12 21:31:02,741 - INFO: lr: 0.07169 | Epoch: 047 | Batch: 000 | Loss: 0.34817 | Correct: 115/128\n"
          ],
          "name": "stderr"
        },
        {
          "output_type": "stream",
          "text": [
            "None\n"
          ],
          "name": "stdout"
        },
        {
          "output_type": "stream",
          "text": [
            "2021-07-12 21:31:04,956 - INFO: lr: 0.06113 | Epoch: 048 | Batch: 000 | Loss: 0.29601 | Correct: 118/128\n"
          ],
          "name": "stderr"
        },
        {
          "output_type": "stream",
          "text": [
            "None\n"
          ],
          "name": "stdout"
        },
        {
          "output_type": "stream",
          "text": [
            "2021-07-12 21:31:07,258 - INFO: lr: 0.05000 | Epoch: 049 | Batch: 000 | Loss: 0.26604 | Correct: 116/128\n"
          ],
          "name": "stderr"
        },
        {
          "output_type": "stream",
          "text": [
            "None\n"
          ],
          "name": "stdout"
        },
        {
          "output_type": "stream",
          "text": [
            "2021-07-12 21:31:09,771 - INFO: lr: 0.03887 | Epoch: 050 | Batch: 000 | Loss: 0.27678 | Correct: 119/128\n"
          ],
          "name": "stderr"
        },
        {
          "output_type": "stream",
          "text": [
            "None\n"
          ],
          "name": "stdout"
        },
        {
          "output_type": "stream",
          "text": [
            "2021-07-12 21:31:11,900 - INFO: lr: 0.02831 | Epoch: 051 | Batch: 000 | Loss: 0.19521 | Correct: 124/128\n"
          ],
          "name": "stderr"
        },
        {
          "output_type": "stream",
          "text": [
            "None\n"
          ],
          "name": "stdout"
        },
        {
          "output_type": "stream",
          "text": [
            "2021-07-12 21:31:14,098 - INFO: lr: 0.01883 | Epoch: 052 | Batch: 000 | Loss: 0.15453 | Correct: 119/128\n"
          ],
          "name": "stderr"
        },
        {
          "output_type": "stream",
          "text": [
            "None\n"
          ],
          "name": "stdout"
        },
        {
          "output_type": "stream",
          "text": [
            "2021-07-12 21:31:16,344 - INFO: lr: 0.01091 | Epoch: 053 | Batch: 000 | Loss: 0.17997 | Correct: 122/128\n"
          ],
          "name": "stderr"
        },
        {
          "output_type": "stream",
          "text": [
            "None\n"
          ],
          "name": "stdout"
        },
        {
          "output_type": "stream",
          "text": [
            "2021-07-12 21:31:18,637 - INFO: lr: 0.00495 | Epoch: 054 | Batch: 000 | Loss: 0.14273 | Correct: 123/128\n"
          ],
          "name": "stderr"
        },
        {
          "output_type": "stream",
          "text": [
            "None\n"
          ],
          "name": "stdout"
        },
        {
          "output_type": "stream",
          "text": [
            "2021-07-12 21:31:20,866 - INFO: lr: 0.00125 | Epoch: 055 | Batch: 000 | Loss: 0.17641 | Correct: 121/128\n"
          ],
          "name": "stderr"
        },
        {
          "output_type": "stream",
          "text": [
            "None\n"
          ],
          "name": "stdout"
        },
        {
          "output_type": "stream",
          "text": [
            "2021-07-12 21:31:22,682 - INFO: Save the snapshot model with index: 3\n",
            "2021-07-12 21:31:23,609 - INFO: n_estimators: 4 | Validation Acc: 85.045 % | Historical Best: 85.045 %\n",
            "2021-07-12 21:31:23,979 - INFO: lr: 0.10000 | Epoch: 056 | Batch: 000 | Loss: 0.08944 | Correct: 125/128\n"
          ],
          "name": "stderr"
        },
        {
          "output_type": "stream",
          "text": [
            "None\n"
          ],
          "name": "stdout"
        },
        {
          "output_type": "stream",
          "text": [
            "2021-07-12 21:31:26,227 - INFO: lr: 0.09875 | Epoch: 057 | Batch: 000 | Loss: 0.31968 | Correct: 113/128\n"
          ],
          "name": "stderr"
        },
        {
          "output_type": "stream",
          "text": [
            "None\n"
          ],
          "name": "stdout"
        },
        {
          "output_type": "stream",
          "text": [
            "2021-07-12 21:31:28,418 - INFO: lr: 0.09505 | Epoch: 058 | Batch: 000 | Loss: 0.34776 | Correct: 113/128\n"
          ],
          "name": "stderr"
        },
        {
          "output_type": "stream",
          "text": [
            "None\n"
          ],
          "name": "stdout"
        },
        {
          "output_type": "stream",
          "text": [
            "2021-07-12 21:31:30,706 - INFO: lr: 0.08909 | Epoch: 059 | Batch: 000 | Loss: 0.34648 | Correct: 112/128\n"
          ],
          "name": "stderr"
        },
        {
          "output_type": "stream",
          "text": [
            "None\n"
          ],
          "name": "stdout"
        },
        {
          "output_type": "stream",
          "text": [
            "2021-07-12 21:31:32,955 - INFO: lr: 0.08117 | Epoch: 060 | Batch: 000 | Loss: 0.28282 | Correct: 116/128\n"
          ],
          "name": "stderr"
        },
        {
          "output_type": "stream",
          "text": [
            "None\n"
          ],
          "name": "stdout"
        },
        {
          "output_type": "stream",
          "text": [
            "2021-07-12 21:31:35,174 - INFO: lr: 0.07169 | Epoch: 061 | Batch: 000 | Loss: 0.29005 | Correct: 113/128\n"
          ],
          "name": "stderr"
        },
        {
          "output_type": "stream",
          "text": [
            "None\n"
          ],
          "name": "stdout"
        },
        {
          "output_type": "stream",
          "text": [
            "2021-07-12 21:31:37,378 - INFO: lr: 0.06113 | Epoch: 062 | Batch: 000 | Loss: 0.19874 | Correct: 121/128\n"
          ],
          "name": "stderr"
        },
        {
          "output_type": "stream",
          "text": [
            "None\n"
          ],
          "name": "stdout"
        },
        {
          "output_type": "stream",
          "text": [
            "2021-07-12 21:31:39,592 - INFO: lr: 0.05000 | Epoch: 063 | Batch: 000 | Loss: 0.18901 | Correct: 119/128\n"
          ],
          "name": "stderr"
        },
        {
          "output_type": "stream",
          "text": [
            "None\n"
          ],
          "name": "stdout"
        },
        {
          "output_type": "stream",
          "text": [
            "2021-07-12 21:31:41,860 - INFO: lr: 0.03887 | Epoch: 064 | Batch: 000 | Loss: 0.08802 | Correct: 124/128\n"
          ],
          "name": "stderr"
        },
        {
          "output_type": "stream",
          "text": [
            "None\n"
          ],
          "name": "stdout"
        },
        {
          "output_type": "stream",
          "text": [
            "2021-07-12 21:31:44,092 - INFO: lr: 0.02831 | Epoch: 065 | Batch: 000 | Loss: 0.15865 | Correct: 124/128\n"
          ],
          "name": "stderr"
        },
        {
          "output_type": "stream",
          "text": [
            "None\n"
          ],
          "name": "stdout"
        },
        {
          "output_type": "stream",
          "text": [
            "2021-07-12 21:31:46,360 - INFO: lr: 0.01883 | Epoch: 066 | Batch: 000 | Loss: 0.20410 | Correct: 122/128\n"
          ],
          "name": "stderr"
        },
        {
          "output_type": "stream",
          "text": [
            "None\n"
          ],
          "name": "stdout"
        },
        {
          "output_type": "stream",
          "text": [
            "2021-07-12 21:31:48,621 - INFO: lr: 0.01091 | Epoch: 067 | Batch: 000 | Loss: 0.10392 | Correct: 125/128\n"
          ],
          "name": "stderr"
        },
        {
          "output_type": "stream",
          "text": [
            "None\n"
          ],
          "name": "stdout"
        },
        {
          "output_type": "stream",
          "text": [
            "2021-07-12 21:31:50,768 - INFO: lr: 0.00495 | Epoch: 068 | Batch: 000 | Loss: 0.03742 | Correct: 127/128\n"
          ],
          "name": "stderr"
        },
        {
          "output_type": "stream",
          "text": [
            "None\n"
          ],
          "name": "stdout"
        },
        {
          "output_type": "stream",
          "text": [
            "2021-07-12 21:31:53,012 - INFO: lr: 0.00125 | Epoch: 069 | Batch: 000 | Loss: 0.09501 | Correct: 125/128\n"
          ],
          "name": "stderr"
        },
        {
          "output_type": "stream",
          "text": [
            "None\n"
          ],
          "name": "stdout"
        },
        {
          "output_type": "stream",
          "text": [
            "2021-07-12 21:31:54,881 - INFO: Save the snapshot model with index: 4\n",
            "2021-07-12 21:31:55,932 - INFO: n_estimators: 5 | Validation Acc: 85.156 % | Historical Best: 85.156 %\n"
          ],
          "name": "stderr"
        },
        {
          "output_type": "stream",
          "text": [
            "Group 1 Finished!\n",
            "Target number of exemplars: 200\n",
            "Randomly extracting exemplars from class 0 of current split... Extracted 200 exemplars.\n",
            "Randomly extracting exemplars from class 1 of current split... Extracted 200 exemplars.\n",
            "Randomly extracting exemplars from class 2 of current split... Extracted 200 exemplars.\n",
            "Randomly extracting exemplars from class 3 of current split... Extracted 200 exemplars.\n",
            "Randomly extracting exemplars from class 4 of current split... Extracted 200 exemplars.\n",
            "Randomly extracting exemplars from class 5 of current split... Extracted 200 exemplars.\n",
            "Randomly extracting exemplars from class 6 of current split... Extracted 200 exemplars.\n",
            "Randomly extracting exemplars from class 7 of current split... Extracted 200 exemplars.\n",
            "Randomly extracting exemplars from class 8 of current split... Extracted 200 exemplars.\n",
            "Randomly extracting exemplars from class 9 of current split... Extracted 200 exemplars.\n",
            "[0.20647321428571427, 0.5133928571428571, 0.9051339285714286],[0.7321428571428571, 0.48214285714285715, 0.08928571428571429]\n",
            "Testing on both open and closed world\n",
            "owr harmonic mean (threshold:0.5) = 0.3221080346526244\n",
            "owr harmonic mean (threshold:0.75) = 0.49727738629083923\n",
            "owr harmonic mean (threshold:0.95) = 0.16253807920474586\n",
            "\n",
            "=============================================\n",
            "\n",
            "Length of exemplars set: 2000\n"
          ],
          "name": "stdout"
        },
        {
          "output_type": "stream",
          "text": [
            "2021-07-12 21:32:00,832 - INFO: lr: 0.10000 | Epoch: 000 | Batch: 000 | Loss: 4.37934 | Correct: 3/128\n"
          ],
          "name": "stderr"
        },
        {
          "output_type": "stream",
          "text": [
            "None\n"
          ],
          "name": "stdout"
        },
        {
          "output_type": "stream",
          "text": [
            "2021-07-12 21:32:16,101 - INFO: lr: 0.09875 | Epoch: 001 | Batch: 000 | Loss: 2.38084 | Correct: 39/128\n"
          ],
          "name": "stderr"
        },
        {
          "output_type": "stream",
          "text": [
            "None\n"
          ],
          "name": "stdout"
        },
        {
          "output_type": "stream",
          "text": [
            "2021-07-12 21:32:31,428 - INFO: lr: 0.09505 | Epoch: 002 | Batch: 000 | Loss: 2.32334 | Correct: 32/128\n"
          ],
          "name": "stderr"
        },
        {
          "output_type": "stream",
          "text": [
            "None\n"
          ],
          "name": "stdout"
        },
        {
          "output_type": "stream",
          "text": [
            "2021-07-12 21:32:46,712 - INFO: lr: 0.08909 | Epoch: 003 | Batch: 000 | Loss: 2.10804 | Correct: 46/128\n"
          ],
          "name": "stderr"
        },
        {
          "output_type": "stream",
          "text": [
            "None\n"
          ],
          "name": "stdout"
        },
        {
          "output_type": "stream",
          "text": [
            "2021-07-12 21:33:01,967 - INFO: lr: 0.08117 | Epoch: 004 | Batch: 000 | Loss: 1.94746 | Correct: 45/128\n"
          ],
          "name": "stderr"
        },
        {
          "output_type": "stream",
          "text": [
            "None\n"
          ],
          "name": "stdout"
        },
        {
          "output_type": "stream",
          "text": [
            "2021-07-12 21:33:17,201 - INFO: lr: 0.07169 | Epoch: 005 | Batch: 000 | Loss: 1.63339 | Correct: 67/128\n"
          ],
          "name": "stderr"
        },
        {
          "output_type": "stream",
          "text": [
            "None\n"
          ],
          "name": "stdout"
        },
        {
          "output_type": "stream",
          "text": [
            "2021-07-12 21:33:32,461 - INFO: lr: 0.06113 | Epoch: 006 | Batch: 000 | Loss: 1.67535 | Correct: 64/128\n"
          ],
          "name": "stderr"
        },
        {
          "output_type": "stream",
          "text": [
            "None\n"
          ],
          "name": "stdout"
        },
        {
          "output_type": "stream",
          "text": [
            "2021-07-12 21:33:47,787 - INFO: lr: 0.05000 | Epoch: 007 | Batch: 000 | Loss: 1.67142 | Correct: 60/128\n"
          ],
          "name": "stderr"
        },
        {
          "output_type": "stream",
          "text": [
            "None\n"
          ],
          "name": "stdout"
        },
        {
          "output_type": "stream",
          "text": [
            "2021-07-12 21:34:03,096 - INFO: lr: 0.03887 | Epoch: 008 | Batch: 000 | Loss: 1.71210 | Correct: 56/128\n"
          ],
          "name": "stderr"
        },
        {
          "output_type": "stream",
          "text": [
            "None\n"
          ],
          "name": "stdout"
        },
        {
          "output_type": "stream",
          "text": [
            "2021-07-12 21:34:18,339 - INFO: lr: 0.02831 | Epoch: 009 | Batch: 000 | Loss: 1.59737 | Correct: 64/128\n"
          ],
          "name": "stderr"
        },
        {
          "output_type": "stream",
          "text": [
            "None\n"
          ],
          "name": "stdout"
        },
        {
          "output_type": "stream",
          "text": [
            "2021-07-12 21:34:33,605 - INFO: lr: 0.01883 | Epoch: 010 | Batch: 000 | Loss: 1.44846 | Correct: 75/128\n"
          ],
          "name": "stderr"
        },
        {
          "output_type": "stream",
          "text": [
            "None\n"
          ],
          "name": "stdout"
        },
        {
          "output_type": "stream",
          "text": [
            "2021-07-12 21:34:48,900 - INFO: lr: 0.01091 | Epoch: 011 | Batch: 000 | Loss: 1.33527 | Correct: 76/128\n"
          ],
          "name": "stderr"
        },
        {
          "output_type": "stream",
          "text": [
            "None\n"
          ],
          "name": "stdout"
        },
        {
          "output_type": "stream",
          "text": [
            "2021-07-12 21:35:04,184 - INFO: lr: 0.00495 | Epoch: 012 | Batch: 000 | Loss: 1.21442 | Correct: 77/128\n"
          ],
          "name": "stderr"
        },
        {
          "output_type": "stream",
          "text": [
            "None\n"
          ],
          "name": "stdout"
        },
        {
          "output_type": "stream",
          "text": [
            "2021-07-12 21:35:19,466 - INFO: lr: 0.00125 | Epoch: 013 | Batch: 000 | Loss: 1.09794 | Correct: 76/128\n"
          ],
          "name": "stderr"
        },
        {
          "output_type": "stream",
          "text": [
            "None\n"
          ],
          "name": "stdout"
        },
        {
          "output_type": "stream",
          "text": [
            "2021-07-12 21:35:34,012 - INFO: Save the snapshot model with index: 0\n",
            "2021-07-12 21:35:34,625 - INFO: n_estimators: 1 | Validation Acc: 66.853 % | Historical Best: 66.853 %\n",
            "2021-07-12 21:35:35,390 - INFO: lr: 0.10000 | Epoch: 014 | Batch: 000 | Loss: 1.22494 | Correct: 77/128\n"
          ],
          "name": "stderr"
        },
        {
          "output_type": "stream",
          "text": [
            "None\n"
          ],
          "name": "stdout"
        },
        {
          "output_type": "stream",
          "text": [
            "2021-07-12 21:35:50,643 - INFO: lr: 0.09875 | Epoch: 015 | Batch: 000 | Loss: 1.35685 | Correct: 77/128\n"
          ],
          "name": "stderr"
        },
        {
          "output_type": "stream",
          "text": [
            "None\n"
          ],
          "name": "stdout"
        },
        {
          "output_type": "stream",
          "text": [
            "2021-07-12 21:36:06,025 - INFO: lr: 0.09505 | Epoch: 016 | Batch: 000 | Loss: 1.30331 | Correct: 73/128\n"
          ],
          "name": "stderr"
        },
        {
          "output_type": "stream",
          "text": [
            "None\n"
          ],
          "name": "stdout"
        },
        {
          "output_type": "stream",
          "text": [
            "2021-07-12 21:36:21,408 - INFO: lr: 0.08909 | Epoch: 017 | Batch: 000 | Loss: 1.38907 | Correct: 68/128\n"
          ],
          "name": "stderr"
        },
        {
          "output_type": "stream",
          "text": [
            "None\n"
          ],
          "name": "stdout"
        },
        {
          "output_type": "stream",
          "text": [
            "2021-07-12 21:36:36,748 - INFO: lr: 0.08117 | Epoch: 018 | Batch: 000 | Loss: 1.21139 | Correct: 80/128\n"
          ],
          "name": "stderr"
        },
        {
          "output_type": "stream",
          "text": [
            "None\n"
          ],
          "name": "stdout"
        },
        {
          "output_type": "stream",
          "text": [
            "2021-07-12 21:36:52,056 - INFO: lr: 0.07169 | Epoch: 019 | Batch: 000 | Loss: 1.13315 | Correct: 84/128\n"
          ],
          "name": "stderr"
        },
        {
          "output_type": "stream",
          "text": [
            "None\n"
          ],
          "name": "stdout"
        },
        {
          "output_type": "stream",
          "text": [
            "2021-07-12 21:37:07,347 - INFO: lr: 0.06113 | Epoch: 020 | Batch: 000 | Loss: 1.10736 | Correct: 80/128\n"
          ],
          "name": "stderr"
        },
        {
          "output_type": "stream",
          "text": [
            "None\n"
          ],
          "name": "stdout"
        },
        {
          "output_type": "stream",
          "text": [
            "2021-07-12 21:37:22,657 - INFO: lr: 0.05000 | Epoch: 021 | Batch: 000 | Loss: 0.98908 | Correct: 87/128\n"
          ],
          "name": "stderr"
        },
        {
          "output_type": "stream",
          "text": [
            "None\n"
          ],
          "name": "stdout"
        },
        {
          "output_type": "stream",
          "text": [
            "2021-07-12 21:37:37,964 - INFO: lr: 0.03887 | Epoch: 022 | Batch: 000 | Loss: 1.08198 | Correct: 83/128\n"
          ],
          "name": "stderr"
        },
        {
          "output_type": "stream",
          "text": [
            "None\n"
          ],
          "name": "stdout"
        },
        {
          "output_type": "stream",
          "text": [
            "2021-07-12 21:37:53,209 - INFO: lr: 0.02831 | Epoch: 023 | Batch: 000 | Loss: 0.97242 | Correct: 92/128\n"
          ],
          "name": "stderr"
        },
        {
          "output_type": "stream",
          "text": [
            "None\n"
          ],
          "name": "stdout"
        },
        {
          "output_type": "stream",
          "text": [
            "2021-07-12 21:38:08,520 - INFO: lr: 0.01883 | Epoch: 024 | Batch: 000 | Loss: 0.71382 | Correct: 92/128\n"
          ],
          "name": "stderr"
        },
        {
          "output_type": "stream",
          "text": [
            "None\n"
          ],
          "name": "stdout"
        },
        {
          "output_type": "stream",
          "text": [
            "2021-07-12 21:38:23,854 - INFO: lr: 0.01091 | Epoch: 025 | Batch: 000 | Loss: 0.72291 | Correct: 97/128\n"
          ],
          "name": "stderr"
        },
        {
          "output_type": "stream",
          "text": [
            "None\n"
          ],
          "name": "stdout"
        },
        {
          "output_type": "stream",
          "text": [
            "2021-07-12 21:38:39,102 - INFO: lr: 0.00495 | Epoch: 026 | Batch: 000 | Loss: 0.53757 | Correct: 109/128\n"
          ],
          "name": "stderr"
        },
        {
          "output_type": "stream",
          "text": [
            "None\n"
          ],
          "name": "stdout"
        },
        {
          "output_type": "stream",
          "text": [
            "2021-07-12 21:38:54,378 - INFO: lr: 0.00125 | Epoch: 027 | Batch: 000 | Loss: 0.69437 | Correct: 104/128\n"
          ],
          "name": "stderr"
        },
        {
          "output_type": "stream",
          "text": [
            "None\n"
          ],
          "name": "stdout"
        },
        {
          "output_type": "stream",
          "text": [
            "2021-07-12 21:39:08,960 - INFO: Save the snapshot model with index: 1\n",
            "2021-07-12 21:39:09,688 - INFO: n_estimators: 2 | Validation Acc: 74.219 % | Historical Best: 74.219 %\n",
            "2021-07-12 21:39:10,439 - INFO: lr: 0.10000 | Epoch: 028 | Batch: 000 | Loss: 0.59308 | Correct: 108/128\n"
          ],
          "name": "stderr"
        },
        {
          "output_type": "stream",
          "text": [
            "None\n"
          ],
          "name": "stdout"
        },
        {
          "output_type": "stream",
          "text": [
            "2021-07-12 21:39:25,768 - INFO: lr: 0.09875 | Epoch: 029 | Batch: 000 | Loss: 1.06495 | Correct: 85/128\n"
          ],
          "name": "stderr"
        },
        {
          "output_type": "stream",
          "text": [
            "None\n"
          ],
          "name": "stdout"
        },
        {
          "output_type": "stream",
          "text": [
            "2021-07-12 21:39:41,102 - INFO: lr: 0.09505 | Epoch: 030 | Batch: 000 | Loss: 1.00896 | Correct: 95/128\n"
          ],
          "name": "stderr"
        },
        {
          "output_type": "stream",
          "text": [
            "None\n"
          ],
          "name": "stdout"
        },
        {
          "output_type": "stream",
          "text": [
            "2021-07-12 21:39:56,421 - INFO: lr: 0.08909 | Epoch: 031 | Batch: 000 | Loss: 0.92390 | Correct: 86/128\n"
          ],
          "name": "stderr"
        },
        {
          "output_type": "stream",
          "text": [
            "None\n"
          ],
          "name": "stdout"
        },
        {
          "output_type": "stream",
          "text": [
            "2021-07-12 21:40:11,686 - INFO: lr: 0.08117 | Epoch: 032 | Batch: 000 | Loss: 0.90617 | Correct: 89/128\n"
          ],
          "name": "stderr"
        },
        {
          "output_type": "stream",
          "text": [
            "None\n"
          ],
          "name": "stdout"
        },
        {
          "output_type": "stream",
          "text": [
            "2021-07-12 21:40:27,001 - INFO: lr: 0.07169 | Epoch: 033 | Batch: 000 | Loss: 0.75660 | Correct: 94/128\n"
          ],
          "name": "stderr"
        },
        {
          "output_type": "stream",
          "text": [
            "None\n"
          ],
          "name": "stdout"
        },
        {
          "output_type": "stream",
          "text": [
            "2021-07-12 21:40:42,306 - INFO: lr: 0.06113 | Epoch: 034 | Batch: 000 | Loss: 0.69459 | Correct: 99/128\n"
          ],
          "name": "stderr"
        },
        {
          "output_type": "stream",
          "text": [
            "None\n"
          ],
          "name": "stdout"
        },
        {
          "output_type": "stream",
          "text": [
            "2021-07-12 21:40:57,599 - INFO: lr: 0.05000 | Epoch: 035 | Batch: 000 | Loss: 0.60171 | Correct: 103/128\n"
          ],
          "name": "stderr"
        },
        {
          "output_type": "stream",
          "text": [
            "None\n"
          ],
          "name": "stdout"
        },
        {
          "output_type": "stream",
          "text": [
            "2021-07-12 21:41:12,933 - INFO: lr: 0.03887 | Epoch: 036 | Batch: 000 | Loss: 0.56850 | Correct: 101/128\n"
          ],
          "name": "stderr"
        },
        {
          "output_type": "stream",
          "text": [
            "None\n"
          ],
          "name": "stdout"
        },
        {
          "output_type": "stream",
          "text": [
            "2021-07-12 21:41:28,254 - INFO: lr: 0.02831 | Epoch: 037 | Batch: 000 | Loss: 0.57636 | Correct: 104/128\n"
          ],
          "name": "stderr"
        },
        {
          "output_type": "stream",
          "text": [
            "None\n"
          ],
          "name": "stdout"
        },
        {
          "output_type": "stream",
          "text": [
            "2021-07-12 21:41:43,548 - INFO: lr: 0.01883 | Epoch: 038 | Batch: 000 | Loss: 0.46801 | Correct: 107/128\n"
          ],
          "name": "stderr"
        },
        {
          "output_type": "stream",
          "text": [
            "None\n"
          ],
          "name": "stdout"
        },
        {
          "output_type": "stream",
          "text": [
            "2021-07-12 21:41:58,844 - INFO: lr: 0.01091 | Epoch: 039 | Batch: 000 | Loss: 0.41791 | Correct: 112/128\n"
          ],
          "name": "stderr"
        },
        {
          "output_type": "stream",
          "text": [
            "None\n"
          ],
          "name": "stdout"
        },
        {
          "output_type": "stream",
          "text": [
            "2021-07-12 21:42:14,118 - INFO: lr: 0.00495 | Epoch: 040 | Batch: 000 | Loss: 0.56985 | Correct: 106/128\n"
          ],
          "name": "stderr"
        },
        {
          "output_type": "stream",
          "text": [
            "None\n"
          ],
          "name": "stdout"
        },
        {
          "output_type": "stream",
          "text": [
            "2021-07-12 21:42:29,443 - INFO: lr: 0.00125 | Epoch: 041 | Batch: 000 | Loss: 0.32869 | Correct: 113/128\n"
          ],
          "name": "stderr"
        },
        {
          "output_type": "stream",
          "text": [
            "None\n"
          ],
          "name": "stdout"
        },
        {
          "output_type": "stream",
          "text": [
            "2021-07-12 21:42:44,033 - INFO: Save the snapshot model with index: 2\n",
            "2021-07-12 21:42:44,845 - INFO: n_estimators: 3 | Validation Acc: 78.237 % | Historical Best: 78.237 %\n",
            "2021-07-12 21:42:45,626 - INFO: lr: 0.10000 | Epoch: 042 | Batch: 000 | Loss: 0.35048 | Correct: 114/128\n"
          ],
          "name": "stderr"
        },
        {
          "output_type": "stream",
          "text": [
            "None\n"
          ],
          "name": "stdout"
        },
        {
          "output_type": "stream",
          "text": [
            "2021-07-12 21:43:00,907 - INFO: lr: 0.09875 | Epoch: 043 | Batch: 000 | Loss: 0.73923 | Correct: 91/128\n"
          ],
          "name": "stderr"
        },
        {
          "output_type": "stream",
          "text": [
            "None\n"
          ],
          "name": "stdout"
        },
        {
          "output_type": "stream",
          "text": [
            "2021-07-12 21:43:16,193 - INFO: lr: 0.09505 | Epoch: 044 | Batch: 000 | Loss: 0.81467 | Correct: 95/128\n"
          ],
          "name": "stderr"
        },
        {
          "output_type": "stream",
          "text": [
            "None\n"
          ],
          "name": "stdout"
        },
        {
          "output_type": "stream",
          "text": [
            "2021-07-12 21:43:31,508 - INFO: lr: 0.08909 | Epoch: 045 | Batch: 000 | Loss: 0.61077 | Correct: 105/128\n"
          ],
          "name": "stderr"
        },
        {
          "output_type": "stream",
          "text": [
            "None\n"
          ],
          "name": "stdout"
        },
        {
          "output_type": "stream",
          "text": [
            "2021-07-12 21:43:46,856 - INFO: lr: 0.08117 | Epoch: 046 | Batch: 000 | Loss: 0.60085 | Correct: 103/128\n"
          ],
          "name": "stderr"
        },
        {
          "output_type": "stream",
          "text": [
            "None\n"
          ],
          "name": "stdout"
        },
        {
          "output_type": "stream",
          "text": [
            "2021-07-12 21:44:02,180 - INFO: lr: 0.07169 | Epoch: 047 | Batch: 000 | Loss: 0.59747 | Correct: 105/128\n"
          ],
          "name": "stderr"
        },
        {
          "output_type": "stream",
          "text": [
            "None\n"
          ],
          "name": "stdout"
        },
        {
          "output_type": "stream",
          "text": [
            "2021-07-12 21:44:17,438 - INFO: lr: 0.06113 | Epoch: 048 | Batch: 000 | Loss: 0.48559 | Correct: 107/128\n"
          ],
          "name": "stderr"
        },
        {
          "output_type": "stream",
          "text": [
            "None\n"
          ],
          "name": "stdout"
        },
        {
          "output_type": "stream",
          "text": [
            "2021-07-12 21:44:32,735 - INFO: lr: 0.05000 | Epoch: 049 | Batch: 000 | Loss: 0.33830 | Correct: 114/128\n"
          ],
          "name": "stderr"
        },
        {
          "output_type": "stream",
          "text": [
            "None\n"
          ],
          "name": "stdout"
        },
        {
          "output_type": "stream",
          "text": [
            "2021-07-12 21:44:48,078 - INFO: lr: 0.03887 | Epoch: 050 | Batch: 000 | Loss: 0.42507 | Correct: 110/128\n"
          ],
          "name": "stderr"
        },
        {
          "output_type": "stream",
          "text": [
            "None\n"
          ],
          "name": "stdout"
        },
        {
          "output_type": "stream",
          "text": [
            "2021-07-12 21:45:03,396 - INFO: lr: 0.02831 | Epoch: 051 | Batch: 000 | Loss: 0.36560 | Correct: 115/128\n"
          ],
          "name": "stderr"
        },
        {
          "output_type": "stream",
          "text": [
            "None\n"
          ],
          "name": "stdout"
        },
        {
          "output_type": "stream",
          "text": [
            "2021-07-12 21:45:18,722 - INFO: lr: 0.01883 | Epoch: 052 | Batch: 000 | Loss: 0.27626 | Correct: 117/128\n"
          ],
          "name": "stderr"
        },
        {
          "output_type": "stream",
          "text": [
            "None\n"
          ],
          "name": "stdout"
        },
        {
          "output_type": "stream",
          "text": [
            "2021-07-12 21:45:34,030 - INFO: lr: 0.01091 | Epoch: 053 | Batch: 000 | Loss: 0.22673 | Correct: 116/128\n"
          ],
          "name": "stderr"
        },
        {
          "output_type": "stream",
          "text": [
            "None\n"
          ],
          "name": "stdout"
        },
        {
          "output_type": "stream",
          "text": [
            "2021-07-12 21:45:49,275 - INFO: lr: 0.00495 | Epoch: 054 | Batch: 000 | Loss: 0.24429 | Correct: 123/128\n"
          ],
          "name": "stderr"
        },
        {
          "output_type": "stream",
          "text": [
            "None\n"
          ],
          "name": "stdout"
        },
        {
          "output_type": "stream",
          "text": [
            "2021-07-12 21:46:04,565 - INFO: lr: 0.00125 | Epoch: 055 | Batch: 000 | Loss: 0.17462 | Correct: 124/128\n"
          ],
          "name": "stderr"
        },
        {
          "output_type": "stream",
          "text": [
            "None\n"
          ],
          "name": "stdout"
        },
        {
          "output_type": "stream",
          "text": [
            "2021-07-12 21:46:19,099 - INFO: Save the snapshot model with index: 3\n",
            "2021-07-12 21:46:20,054 - INFO: n_estimators: 4 | Validation Acc: 77.790 % | Historical Best: 78.237 %\n",
            "2021-07-12 21:46:20,837 - INFO: lr: 0.10000 | Epoch: 056 | Batch: 000 | Loss: 0.27532 | Correct: 115/128\n"
          ],
          "name": "stderr"
        },
        {
          "output_type": "stream",
          "text": [
            "None\n"
          ],
          "name": "stdout"
        },
        {
          "output_type": "stream",
          "text": [
            "2021-07-12 21:46:36,132 - INFO: lr: 0.09875 | Epoch: 057 | Batch: 000 | Loss: 0.70379 | Correct: 99/128\n"
          ],
          "name": "stderr"
        },
        {
          "output_type": "stream",
          "text": [
            "None\n"
          ],
          "name": "stdout"
        },
        {
          "output_type": "stream",
          "text": [
            "2021-07-12 21:46:51,453 - INFO: lr: 0.09505 | Epoch: 058 | Batch: 000 | Loss: 0.50276 | Correct: 106/128\n"
          ],
          "name": "stderr"
        },
        {
          "output_type": "stream",
          "text": [
            "None\n"
          ],
          "name": "stdout"
        },
        {
          "output_type": "stream",
          "text": [
            "2021-07-12 21:47:06,769 - INFO: lr: 0.08909 | Epoch: 059 | Batch: 000 | Loss: 0.36315 | Correct: 111/128\n"
          ],
          "name": "stderr"
        },
        {
          "output_type": "stream",
          "text": [
            "None\n"
          ],
          "name": "stdout"
        },
        {
          "output_type": "stream",
          "text": [
            "2021-07-12 21:47:22,107 - INFO: lr: 0.08117 | Epoch: 060 | Batch: 000 | Loss: 0.55173 | Correct: 105/128\n"
          ],
          "name": "stderr"
        },
        {
          "output_type": "stream",
          "text": [
            "None\n"
          ],
          "name": "stdout"
        },
        {
          "output_type": "stream",
          "text": [
            "2021-07-12 21:47:37,418 - INFO: lr: 0.07169 | Epoch: 061 | Batch: 000 | Loss: 0.45858 | Correct: 105/128\n"
          ],
          "name": "stderr"
        },
        {
          "output_type": "stream",
          "text": [
            "None\n"
          ],
          "name": "stdout"
        },
        {
          "output_type": "stream",
          "text": [
            "2021-07-12 21:47:52,693 - INFO: lr: 0.06113 | Epoch: 062 | Batch: 000 | Loss: 0.36432 | Correct: 116/128\n"
          ],
          "name": "stderr"
        },
        {
          "output_type": "stream",
          "text": [
            "None\n"
          ],
          "name": "stdout"
        },
        {
          "output_type": "stream",
          "text": [
            "2021-07-12 21:48:07,956 - INFO: lr: 0.05000 | Epoch: 063 | Batch: 000 | Loss: 0.26257 | Correct: 118/128\n"
          ],
          "name": "stderr"
        },
        {
          "output_type": "stream",
          "text": [
            "None\n"
          ],
          "name": "stdout"
        },
        {
          "output_type": "stream",
          "text": [
            "2021-07-12 21:48:23,247 - INFO: lr: 0.03887 | Epoch: 064 | Batch: 000 | Loss: 0.18553 | Correct: 123/128\n"
          ],
          "name": "stderr"
        },
        {
          "output_type": "stream",
          "text": [
            "None\n"
          ],
          "name": "stdout"
        },
        {
          "output_type": "stream",
          "text": [
            "2021-07-12 21:48:38,540 - INFO: lr: 0.02831 | Epoch: 065 | Batch: 000 | Loss: 0.15501 | Correct: 122/128\n"
          ],
          "name": "stderr"
        },
        {
          "output_type": "stream",
          "text": [
            "None\n"
          ],
          "name": "stdout"
        },
        {
          "output_type": "stream",
          "text": [
            "2021-07-12 21:48:53,857 - INFO: lr: 0.01883 | Epoch: 066 | Batch: 000 | Loss: 0.14617 | Correct: 123/128\n"
          ],
          "name": "stderr"
        },
        {
          "output_type": "stream",
          "text": [
            "None\n"
          ],
          "name": "stdout"
        },
        {
          "output_type": "stream",
          "text": [
            "2021-07-12 21:49:09,196 - INFO: lr: 0.01091 | Epoch: 067 | Batch: 000 | Loss: 0.10985 | Correct: 125/128\n"
          ],
          "name": "stderr"
        },
        {
          "output_type": "stream",
          "text": [
            "None\n"
          ],
          "name": "stdout"
        },
        {
          "output_type": "stream",
          "text": [
            "2021-07-12 21:49:24,545 - INFO: lr: 0.00495 | Epoch: 068 | Batch: 000 | Loss: 0.15950 | Correct: 120/128\n"
          ],
          "name": "stderr"
        },
        {
          "output_type": "stream",
          "text": [
            "None\n"
          ],
          "name": "stdout"
        },
        {
          "output_type": "stream",
          "text": [
            "2021-07-12 21:49:39,906 - INFO: lr: 0.00125 | Epoch: 069 | Batch: 000 | Loss: 0.15722 | Correct: 119/128\n"
          ],
          "name": "stderr"
        },
        {
          "output_type": "stream",
          "text": [
            "None\n"
          ],
          "name": "stdout"
        },
        {
          "output_type": "stream",
          "text": [
            "2021-07-12 21:49:54,506 - INFO: Save the snapshot model with index: 4\n",
            "2021-07-12 21:49:55,552 - INFO: n_estimators: 5 | Validation Acc: 78.795 % | Historical Best: 78.795 %\n"
          ],
          "name": "stderr"
        },
        {
          "output_type": "stream",
          "text": [
            "Group 2 Finished!\n",
            "Target number of exemplars: 100\n",
            "Randomly extracting exemplars from class 0 of current split... Extracted 100 exemplars.\n",
            "Randomly extracting exemplars from class 1 of current split... Extracted 100 exemplars.\n",
            "Randomly extracting exemplars from class 2 of current split... Extracted 100 exemplars.\n",
            "Randomly extracting exemplars from class 3 of current split... Extracted 100 exemplars.\n",
            "Randomly extracting exemplars from class 4 of current split... Extracted 100 exemplars.\n",
            "Randomly extracting exemplars from class 5 of current split... Extracted 100 exemplars.\n",
            "Randomly extracting exemplars from class 6 of current split... Extracted 100 exemplars.\n",
            "Randomly extracting exemplars from class 7 of current split... Extracted 100 exemplars.\n",
            "Randomly extracting exemplars from class 8 of current split... Extracted 100 exemplars.\n",
            "Randomly extracting exemplars from class 9 of current split... Extracted 100 exemplars.\n",
            "[0.3072916666666667, 0.6083333333333333, 0.846875],[0.5973958333333333, 0.3729166666666667, 0.15729166666666666]\n",
            "Testing on both open and closed world\n",
            "owr harmonic mean (threshold:0.5) = 0.4058302149299559\n",
            "owr harmonic mean (threshold:0.75) = 0.46238499646142955\n",
            "owr harmonic mean (threshold:0.95) = 0.26530731327800827\n",
            "\n",
            "=============================================\n",
            "\n",
            "Length of exemplars set: 2000\n"
          ],
          "name": "stdout"
        },
        {
          "output_type": "stream",
          "text": [
            "2021-07-12 21:50:02,347 - INFO: lr: 0.10000 | Epoch: 000 | Batch: 000 | Loss: 4.56385 | Correct: 9/128\n"
          ],
          "name": "stderr"
        },
        {
          "output_type": "stream",
          "text": [
            "None\n"
          ],
          "name": "stdout"
        },
        {
          "output_type": "stream",
          "text": [
            "2021-07-12 21:50:18,035 - INFO: lr: 0.09875 | Epoch: 001 | Batch: 000 | Loss: 2.88228 | Correct: 17/128\n"
          ],
          "name": "stderr"
        },
        {
          "output_type": "stream",
          "text": [
            "None\n"
          ],
          "name": "stdout"
        },
        {
          "output_type": "stream",
          "text": [
            "2021-07-12 21:50:33,712 - INFO: lr: 0.09505 | Epoch: 002 | Batch: 000 | Loss: 2.68811 | Correct: 35/128\n"
          ],
          "name": "stderr"
        },
        {
          "output_type": "stream",
          "text": [
            "None\n"
          ],
          "name": "stdout"
        },
        {
          "output_type": "stream",
          "text": [
            "2021-07-12 21:50:49,386 - INFO: lr: 0.08909 | Epoch: 003 | Batch: 000 | Loss: 2.34013 | Correct: 44/128\n"
          ],
          "name": "stderr"
        },
        {
          "output_type": "stream",
          "text": [
            "None\n"
          ],
          "name": "stdout"
        },
        {
          "output_type": "stream",
          "text": [
            "2021-07-12 21:51:05,041 - INFO: lr: 0.08117 | Epoch: 004 | Batch: 000 | Loss: 2.31408 | Correct: 47/128\n"
          ],
          "name": "stderr"
        },
        {
          "output_type": "stream",
          "text": [
            "None\n"
          ],
          "name": "stdout"
        },
        {
          "output_type": "stream",
          "text": [
            "2021-07-12 21:51:20,698 - INFO: lr: 0.07169 | Epoch: 005 | Batch: 000 | Loss: 1.87268 | Correct: 59/128\n"
          ],
          "name": "stderr"
        },
        {
          "output_type": "stream",
          "text": [
            "None\n"
          ],
          "name": "stdout"
        },
        {
          "output_type": "stream",
          "text": [
            "2021-07-12 21:51:36,342 - INFO: lr: 0.06113 | Epoch: 006 | Batch: 000 | Loss: 2.14276 | Correct: 47/128\n"
          ],
          "name": "stderr"
        },
        {
          "output_type": "stream",
          "text": [
            "None\n"
          ],
          "name": "stdout"
        },
        {
          "output_type": "stream",
          "text": [
            "2021-07-12 21:51:52,019 - INFO: lr: 0.05000 | Epoch: 007 | Batch: 000 | Loss: 1.77675 | Correct: 65/128\n"
          ],
          "name": "stderr"
        },
        {
          "output_type": "stream",
          "text": [
            "None\n"
          ],
          "name": "stdout"
        },
        {
          "output_type": "stream",
          "text": [
            "2021-07-12 21:52:07,677 - INFO: lr: 0.03887 | Epoch: 008 | Batch: 000 | Loss: 1.73701 | Correct: 70/128\n"
          ],
          "name": "stderr"
        },
        {
          "output_type": "stream",
          "text": [
            "None\n"
          ],
          "name": "stdout"
        },
        {
          "output_type": "stream",
          "text": [
            "2021-07-12 21:52:23,301 - INFO: lr: 0.02831 | Epoch: 009 | Batch: 000 | Loss: 1.78023 | Correct: 70/128\n"
          ],
          "name": "stderr"
        },
        {
          "output_type": "stream",
          "text": [
            "None\n"
          ],
          "name": "stdout"
        },
        {
          "output_type": "stream",
          "text": [
            "2021-07-12 21:52:38,968 - INFO: lr: 0.01883 | Epoch: 010 | Batch: 000 | Loss: 1.55882 | Correct: 68/128\n"
          ],
          "name": "stderr"
        },
        {
          "output_type": "stream",
          "text": [
            "None\n"
          ],
          "name": "stdout"
        },
        {
          "output_type": "stream",
          "text": [
            "2021-07-12 21:52:54,633 - INFO: lr: 0.01091 | Epoch: 011 | Batch: 000 | Loss: 1.35813 | Correct: 74/128\n"
          ],
          "name": "stderr"
        },
        {
          "output_type": "stream",
          "text": [
            "None\n"
          ],
          "name": "stdout"
        },
        {
          "output_type": "stream",
          "text": [
            "2021-07-12 21:53:10,261 - INFO: lr: 0.00495 | Epoch: 012 | Batch: 000 | Loss: 1.63526 | Correct: 65/128\n"
          ],
          "name": "stderr"
        },
        {
          "output_type": "stream",
          "text": [
            "None\n"
          ],
          "name": "stdout"
        },
        {
          "output_type": "stream",
          "text": [
            "2021-07-12 21:53:25,943 - INFO: lr: 0.00125 | Epoch: 013 | Batch: 000 | Loss: 1.58392 | Correct: 70/128\n"
          ],
          "name": "stderr"
        },
        {
          "output_type": "stream",
          "text": [
            "None\n"
          ],
          "name": "stdout"
        },
        {
          "output_type": "stream",
          "text": [
            "2021-07-12 21:53:40,856 - INFO: Save the snapshot model with index: 0\n",
            "2021-07-12 21:53:41,507 - INFO: n_estimators: 1 | Validation Acc: 65.179 % | Historical Best: 65.179 %\n",
            "2021-07-12 21:53:42,275 - INFO: lr: 0.10000 | Epoch: 014 | Batch: 000 | Loss: 1.55620 | Correct: 72/128\n"
          ],
          "name": "stderr"
        },
        {
          "output_type": "stream",
          "text": [
            "None\n"
          ],
          "name": "stdout"
        },
        {
          "output_type": "stream",
          "text": [
            "2021-07-12 21:53:57,878 - INFO: lr: 0.09875 | Epoch: 015 | Batch: 000 | Loss: 1.95809 | Correct: 52/128\n"
          ],
          "name": "stderr"
        },
        {
          "output_type": "stream",
          "text": [
            "None\n"
          ],
          "name": "stdout"
        },
        {
          "output_type": "stream",
          "text": [
            "2021-07-12 21:54:13,508 - INFO: lr: 0.09505 | Epoch: 016 | Batch: 000 | Loss: 1.63474 | Correct: 67/128\n"
          ],
          "name": "stderr"
        },
        {
          "output_type": "stream",
          "text": [
            "None\n"
          ],
          "name": "stdout"
        },
        {
          "output_type": "stream",
          "text": [
            "2021-07-12 21:54:29,178 - INFO: lr: 0.08909 | Epoch: 017 | Batch: 000 | Loss: 1.73542 | Correct: 64/128\n"
          ],
          "name": "stderr"
        },
        {
          "output_type": "stream",
          "text": [
            "None\n"
          ],
          "name": "stdout"
        },
        {
          "output_type": "stream",
          "text": [
            "2021-07-12 21:54:44,841 - INFO: lr: 0.08117 | Epoch: 018 | Batch: 000 | Loss: 1.40228 | Correct: 75/128\n"
          ],
          "name": "stderr"
        },
        {
          "output_type": "stream",
          "text": [
            "None\n"
          ],
          "name": "stdout"
        },
        {
          "output_type": "stream",
          "text": [
            "2021-07-12 21:55:00,479 - INFO: lr: 0.07169 | Epoch: 019 | Batch: 000 | Loss: 1.49144 | Correct: 71/128\n"
          ],
          "name": "stderr"
        },
        {
          "output_type": "stream",
          "text": [
            "None\n"
          ],
          "name": "stdout"
        },
        {
          "output_type": "stream",
          "text": [
            "2021-07-12 21:55:16,082 - INFO: lr: 0.06113 | Epoch: 020 | Batch: 000 | Loss: 1.32514 | Correct: 82/128\n"
          ],
          "name": "stderr"
        },
        {
          "output_type": "stream",
          "text": [
            "None\n"
          ],
          "name": "stdout"
        },
        {
          "output_type": "stream",
          "text": [
            "2021-07-12 21:55:31,704 - INFO: lr: 0.05000 | Epoch: 021 | Batch: 000 | Loss: 1.40769 | Correct: 70/128\n"
          ],
          "name": "stderr"
        },
        {
          "output_type": "stream",
          "text": [
            "None\n"
          ],
          "name": "stdout"
        },
        {
          "output_type": "stream",
          "text": [
            "2021-07-12 21:55:47,280 - INFO: lr: 0.03887 | Epoch: 022 | Batch: 000 | Loss: 1.06393 | Correct: 86/128\n"
          ],
          "name": "stderr"
        },
        {
          "output_type": "stream",
          "text": [
            "None\n"
          ],
          "name": "stdout"
        },
        {
          "output_type": "stream",
          "text": [
            "2021-07-12 21:56:02,900 - INFO: lr: 0.02831 | Epoch: 023 | Batch: 000 | Loss: 1.02331 | Correct: 94/128\n"
          ],
          "name": "stderr"
        },
        {
          "output_type": "stream",
          "text": [
            "None\n"
          ],
          "name": "stdout"
        },
        {
          "output_type": "stream",
          "text": [
            "2021-07-12 21:56:18,457 - INFO: lr: 0.01883 | Epoch: 024 | Batch: 000 | Loss: 0.99871 | Correct: 89/128\n"
          ],
          "name": "stderr"
        },
        {
          "output_type": "stream",
          "text": [
            "None\n"
          ],
          "name": "stdout"
        },
        {
          "output_type": "stream",
          "text": [
            "2021-07-12 21:56:34,102 - INFO: lr: 0.01091 | Epoch: 025 | Batch: 000 | Loss: 0.76183 | Correct: 97/128\n"
          ],
          "name": "stderr"
        },
        {
          "output_type": "stream",
          "text": [
            "None\n"
          ],
          "name": "stdout"
        },
        {
          "output_type": "stream",
          "text": [
            "2021-07-12 21:56:49,754 - INFO: lr: 0.00495 | Epoch: 026 | Batch: 000 | Loss: 0.85438 | Correct: 94/128\n"
          ],
          "name": "stderr"
        },
        {
          "output_type": "stream",
          "text": [
            "None\n"
          ],
          "name": "stdout"
        },
        {
          "output_type": "stream",
          "text": [
            "2021-07-12 21:57:05,379 - INFO: lr: 0.00125 | Epoch: 027 | Batch: 000 | Loss: 0.74395 | Correct: 97/128\n"
          ],
          "name": "stderr"
        },
        {
          "output_type": "stream",
          "text": [
            "None\n"
          ],
          "name": "stdout"
        },
        {
          "output_type": "stream",
          "text": [
            "2021-07-12 21:57:20,257 - INFO: Save the snapshot model with index: 1\n",
            "2021-07-12 21:57:20,969 - INFO: n_estimators: 2 | Validation Acc: 71.987 % | Historical Best: 71.987 %\n",
            "2021-07-12 21:57:21,785 - INFO: lr: 0.10000 | Epoch: 028 | Batch: 000 | Loss: 0.87069 | Correct: 91/128\n"
          ],
          "name": "stderr"
        },
        {
          "output_type": "stream",
          "text": [
            "None\n"
          ],
          "name": "stdout"
        },
        {
          "output_type": "stream",
          "text": [
            "2021-07-12 21:57:37,403 - INFO: lr: 0.09875 | Epoch: 029 | Batch: 000 | Loss: 1.64614 | Correct: 65/128\n"
          ],
          "name": "stderr"
        },
        {
          "output_type": "stream",
          "text": [
            "None\n"
          ],
          "name": "stdout"
        },
        {
          "output_type": "stream",
          "text": [
            "2021-07-12 21:57:53,056 - INFO: lr: 0.09505 | Epoch: 030 | Batch: 000 | Loss: 1.23546 | Correct: 78/128\n"
          ],
          "name": "stderr"
        },
        {
          "output_type": "stream",
          "text": [
            "None\n"
          ],
          "name": "stdout"
        },
        {
          "output_type": "stream",
          "text": [
            "2021-07-12 21:58:08,663 - INFO: lr: 0.08909 | Epoch: 031 | Batch: 000 | Loss: 0.95439 | Correct: 92/128\n"
          ],
          "name": "stderr"
        },
        {
          "output_type": "stream",
          "text": [
            "None\n"
          ],
          "name": "stdout"
        },
        {
          "output_type": "stream",
          "text": [
            "2021-07-12 21:58:24,239 - INFO: lr: 0.08117 | Epoch: 032 | Batch: 000 | Loss: 1.26746 | Correct: 78/128\n"
          ],
          "name": "stderr"
        },
        {
          "output_type": "stream",
          "text": [
            "None\n"
          ],
          "name": "stdout"
        },
        {
          "output_type": "stream",
          "text": [
            "2021-07-12 21:58:39,890 - INFO: lr: 0.07169 | Epoch: 033 | Batch: 000 | Loss: 0.88205 | Correct: 88/128\n"
          ],
          "name": "stderr"
        },
        {
          "output_type": "stream",
          "text": [
            "None\n"
          ],
          "name": "stdout"
        },
        {
          "output_type": "stream",
          "text": [
            "2021-07-12 21:58:55,552 - INFO: lr: 0.06113 | Epoch: 034 | Batch: 000 | Loss: 0.84558 | Correct: 94/128\n"
          ],
          "name": "stderr"
        },
        {
          "output_type": "stream",
          "text": [
            "None\n"
          ],
          "name": "stdout"
        },
        {
          "output_type": "stream",
          "text": [
            "2021-07-12 21:59:11,157 - INFO: lr: 0.05000 | Epoch: 035 | Batch: 000 | Loss: 0.89616 | Correct: 91/128\n"
          ],
          "name": "stderr"
        },
        {
          "output_type": "stream",
          "text": [
            "None\n"
          ],
          "name": "stdout"
        },
        {
          "output_type": "stream",
          "text": [
            "2021-07-12 21:59:26,782 - INFO: lr: 0.03887 | Epoch: 036 | Batch: 000 | Loss: 0.70728 | Correct: 98/128\n"
          ],
          "name": "stderr"
        },
        {
          "output_type": "stream",
          "text": [
            "None\n"
          ],
          "name": "stdout"
        },
        {
          "output_type": "stream",
          "text": [
            "2021-07-12 21:59:42,450 - INFO: lr: 0.02831 | Epoch: 037 | Batch: 000 | Loss: 0.65163 | Correct: 100/128\n"
          ],
          "name": "stderr"
        },
        {
          "output_type": "stream",
          "text": [
            "None\n"
          ],
          "name": "stdout"
        },
        {
          "output_type": "stream",
          "text": [
            "2021-07-12 21:59:58,140 - INFO: lr: 0.01883 | Epoch: 038 | Batch: 000 | Loss: 0.68691 | Correct: 102/128\n"
          ],
          "name": "stderr"
        },
        {
          "output_type": "stream",
          "text": [
            "None\n"
          ],
          "name": "stdout"
        },
        {
          "output_type": "stream",
          "text": [
            "2021-07-12 22:00:13,776 - INFO: lr: 0.01091 | Epoch: 039 | Batch: 000 | Loss: 0.53940 | Correct: 112/128\n"
          ],
          "name": "stderr"
        },
        {
          "output_type": "stream",
          "text": [
            "None\n"
          ],
          "name": "stdout"
        },
        {
          "output_type": "stream",
          "text": [
            "2021-07-12 22:00:29,455 - INFO: lr: 0.00495 | Epoch: 040 | Batch: 000 | Loss: 0.65879 | Correct: 106/128\n"
          ],
          "name": "stderr"
        },
        {
          "output_type": "stream",
          "text": [
            "None\n"
          ],
          "name": "stdout"
        },
        {
          "output_type": "stream",
          "text": [
            "2021-07-12 22:00:45,070 - INFO: lr: 0.00125 | Epoch: 041 | Batch: 000 | Loss: 0.50344 | Correct: 108/128\n"
          ],
          "name": "stderr"
        },
        {
          "output_type": "stream",
          "text": [
            "None\n"
          ],
          "name": "stdout"
        },
        {
          "output_type": "stream",
          "text": [
            "2021-07-12 22:00:59,981 - INFO: Save the snapshot model with index: 2\n",
            "2021-07-12 22:01:00,877 - INFO: n_estimators: 3 | Validation Acc: 74.777 % | Historical Best: 74.777 %\n",
            "2021-07-12 22:01:01,677 - INFO: lr: 0.10000 | Epoch: 042 | Batch: 000 | Loss: 0.43199 | Correct: 114/128\n"
          ],
          "name": "stderr"
        },
        {
          "output_type": "stream",
          "text": [
            "None\n"
          ],
          "name": "stdout"
        },
        {
          "output_type": "stream",
          "text": [
            "2021-07-12 22:01:17,320 - INFO: lr: 0.09875 | Epoch: 043 | Batch: 000 | Loss: 1.24147 | Correct: 81/128\n"
          ],
          "name": "stderr"
        },
        {
          "output_type": "stream",
          "text": [
            "None\n"
          ],
          "name": "stdout"
        },
        {
          "output_type": "stream",
          "text": [
            "2021-07-12 22:01:32,991 - INFO: lr: 0.09505 | Epoch: 044 | Batch: 000 | Loss: 0.92850 | Correct: 94/128\n"
          ],
          "name": "stderr"
        },
        {
          "output_type": "stream",
          "text": [
            "None\n"
          ],
          "name": "stdout"
        },
        {
          "output_type": "stream",
          "text": [
            "2021-07-12 22:01:48,630 - INFO: lr: 0.08909 | Epoch: 045 | Batch: 000 | Loss: 0.94750 | Correct: 92/128\n"
          ],
          "name": "stderr"
        },
        {
          "output_type": "stream",
          "text": [
            "None\n"
          ],
          "name": "stdout"
        },
        {
          "output_type": "stream",
          "text": [
            "2021-07-12 22:02:04,280 - INFO: lr: 0.08117 | Epoch: 046 | Batch: 000 | Loss: 0.85578 | Correct: 91/128\n"
          ],
          "name": "stderr"
        },
        {
          "output_type": "stream",
          "text": [
            "None\n"
          ],
          "name": "stdout"
        },
        {
          "output_type": "stream",
          "text": [
            "2021-07-12 22:02:19,915 - INFO: lr: 0.07169 | Epoch: 047 | Batch: 000 | Loss: 0.62611 | Correct: 103/128\n"
          ],
          "name": "stderr"
        },
        {
          "output_type": "stream",
          "text": [
            "None\n"
          ],
          "name": "stdout"
        },
        {
          "output_type": "stream",
          "text": [
            "2021-07-12 22:02:35,610 - INFO: lr: 0.06113 | Epoch: 048 | Batch: 000 | Loss: 0.53865 | Correct: 109/128\n"
          ],
          "name": "stderr"
        },
        {
          "output_type": "stream",
          "text": [
            "None\n"
          ],
          "name": "stdout"
        },
        {
          "output_type": "stream",
          "text": [
            "2021-07-12 22:02:51,253 - INFO: lr: 0.05000 | Epoch: 049 | Batch: 000 | Loss: 0.49003 | Correct: 110/128\n"
          ],
          "name": "stderr"
        },
        {
          "output_type": "stream",
          "text": [
            "None\n"
          ],
          "name": "stdout"
        },
        {
          "output_type": "stream",
          "text": [
            "2021-07-12 22:03:06,902 - INFO: lr: 0.03887 | Epoch: 050 | Batch: 000 | Loss: 0.44473 | Correct: 108/128\n"
          ],
          "name": "stderr"
        },
        {
          "output_type": "stream",
          "text": [
            "None\n"
          ],
          "name": "stdout"
        },
        {
          "output_type": "stream",
          "text": [
            "2021-07-12 22:03:22,547 - INFO: lr: 0.02831 | Epoch: 051 | Batch: 000 | Loss: 0.44042 | Correct: 109/128\n"
          ],
          "name": "stderr"
        },
        {
          "output_type": "stream",
          "text": [
            "None\n"
          ],
          "name": "stdout"
        },
        {
          "output_type": "stream",
          "text": [
            "2021-07-12 22:03:38,179 - INFO: lr: 0.01883 | Epoch: 052 | Batch: 000 | Loss: 0.38841 | Correct: 115/128\n"
          ],
          "name": "stderr"
        },
        {
          "output_type": "stream",
          "text": [
            "None\n"
          ],
          "name": "stdout"
        },
        {
          "output_type": "stream",
          "text": [
            "2021-07-12 22:03:53,831 - INFO: lr: 0.01091 | Epoch: 053 | Batch: 000 | Loss: 0.22654 | Correct: 123/128\n"
          ],
          "name": "stderr"
        },
        {
          "output_type": "stream",
          "text": [
            "None\n"
          ],
          "name": "stdout"
        },
        {
          "output_type": "stream",
          "text": [
            "2021-07-12 22:04:09,483 - INFO: lr: 0.00495 | Epoch: 054 | Batch: 000 | Loss: 0.24740 | Correct: 117/128\n"
          ],
          "name": "stderr"
        },
        {
          "output_type": "stream",
          "text": [
            "None\n"
          ],
          "name": "stdout"
        },
        {
          "output_type": "stream",
          "text": [
            "2021-07-12 22:04:25,123 - INFO: lr: 0.00125 | Epoch: 055 | Batch: 000 | Loss: 0.25712 | Correct: 118/128\n"
          ],
          "name": "stderr"
        },
        {
          "output_type": "stream",
          "text": [
            "None\n"
          ],
          "name": "stdout"
        },
        {
          "output_type": "stream",
          "text": [
            "2021-07-12 22:04:39,989 - INFO: Save the snapshot model with index: 3\n",
            "2021-07-12 22:04:40,928 - INFO: n_estimators: 4 | Validation Acc: 74.554 % | Historical Best: 74.777 %\n",
            "2021-07-12 22:04:41,733 - INFO: lr: 0.10000 | Epoch: 056 | Batch: 000 | Loss: 0.17514 | Correct: 124/128\n"
          ],
          "name": "stderr"
        },
        {
          "output_type": "stream",
          "text": [
            "None\n"
          ],
          "name": "stdout"
        },
        {
          "output_type": "stream",
          "text": [
            "2021-07-12 22:04:57,363 - INFO: lr: 0.09875 | Epoch: 057 | Batch: 000 | Loss: 0.92562 | Correct: 94/128\n"
          ],
          "name": "stderr"
        },
        {
          "output_type": "stream",
          "text": [
            "None\n"
          ],
          "name": "stdout"
        },
        {
          "output_type": "stream",
          "text": [
            "2021-07-12 22:05:12,998 - INFO: lr: 0.09505 | Epoch: 058 | Batch: 000 | Loss: 0.70440 | Correct: 101/128\n"
          ],
          "name": "stderr"
        },
        {
          "output_type": "stream",
          "text": [
            "None\n"
          ],
          "name": "stdout"
        },
        {
          "output_type": "stream",
          "text": [
            "2021-07-12 22:05:28,618 - INFO: lr: 0.08909 | Epoch: 059 | Batch: 000 | Loss: 0.57272 | Correct: 105/128\n"
          ],
          "name": "stderr"
        },
        {
          "output_type": "stream",
          "text": [
            "None\n"
          ],
          "name": "stdout"
        },
        {
          "output_type": "stream",
          "text": [
            "2021-07-12 22:05:44,243 - INFO: lr: 0.08117 | Epoch: 060 | Batch: 000 | Loss: 0.45239 | Correct: 110/128\n"
          ],
          "name": "stderr"
        },
        {
          "output_type": "stream",
          "text": [
            "None\n"
          ],
          "name": "stdout"
        },
        {
          "output_type": "stream",
          "text": [
            "2021-07-12 22:05:59,879 - INFO: lr: 0.07169 | Epoch: 061 | Batch: 000 | Loss: 0.60450 | Correct: 108/128\n"
          ],
          "name": "stderr"
        },
        {
          "output_type": "stream",
          "text": [
            "None\n"
          ],
          "name": "stdout"
        },
        {
          "output_type": "stream",
          "text": [
            "2021-07-12 22:06:15,491 - INFO: lr: 0.06113 | Epoch: 062 | Batch: 000 | Loss: 0.35713 | Correct: 116/128\n"
          ],
          "name": "stderr"
        },
        {
          "output_type": "stream",
          "text": [
            "None\n"
          ],
          "name": "stdout"
        },
        {
          "output_type": "stream",
          "text": [
            "2021-07-12 22:06:31,134 - INFO: lr: 0.05000 | Epoch: 063 | Batch: 000 | Loss: 0.31280 | Correct: 120/128\n"
          ],
          "name": "stderr"
        },
        {
          "output_type": "stream",
          "text": [
            "None\n"
          ],
          "name": "stdout"
        },
        {
          "output_type": "stream",
          "text": [
            "2021-07-12 22:06:46,775 - INFO: lr: 0.03887 | Epoch: 064 | Batch: 000 | Loss: 0.33754 | Correct: 112/128\n"
          ],
          "name": "stderr"
        },
        {
          "output_type": "stream",
          "text": [
            "None\n"
          ],
          "name": "stdout"
        },
        {
          "output_type": "stream",
          "text": [
            "2021-07-12 22:07:02,405 - INFO: lr: 0.02831 | Epoch: 065 | Batch: 000 | Loss: 0.26136 | Correct: 119/128\n"
          ],
          "name": "stderr"
        },
        {
          "output_type": "stream",
          "text": [
            "None\n"
          ],
          "name": "stdout"
        },
        {
          "output_type": "stream",
          "text": [
            "2021-07-12 22:07:18,039 - INFO: lr: 0.01883 | Epoch: 066 | Batch: 000 | Loss: 0.18719 | Correct: 122/128\n"
          ],
          "name": "stderr"
        },
        {
          "output_type": "stream",
          "text": [
            "None\n"
          ],
          "name": "stdout"
        },
        {
          "output_type": "stream",
          "text": [
            "2021-07-12 22:07:33,642 - INFO: lr: 0.01091 | Epoch: 067 | Batch: 000 | Loss: 0.19478 | Correct: 121/128\n"
          ],
          "name": "stderr"
        },
        {
          "output_type": "stream",
          "text": [
            "None\n"
          ],
          "name": "stdout"
        },
        {
          "output_type": "stream",
          "text": [
            "2021-07-12 22:07:49,265 - INFO: lr: 0.00495 | Epoch: 068 | Batch: 000 | Loss: 0.16796 | Correct: 121/128\n"
          ],
          "name": "stderr"
        },
        {
          "output_type": "stream",
          "text": [
            "None\n"
          ],
          "name": "stdout"
        },
        {
          "output_type": "stream",
          "text": [
            "2021-07-12 22:08:04,871 - INFO: lr: 0.00125 | Epoch: 069 | Batch: 000 | Loss: 0.10448 | Correct: 127/128\n"
          ],
          "name": "stderr"
        },
        {
          "output_type": "stream",
          "text": [
            "None\n"
          ],
          "name": "stdout"
        },
        {
          "output_type": "stream",
          "text": [
            "2021-07-12 22:08:19,750 - INFO: Save the snapshot model with index: 4\n",
            "2021-07-12 22:08:20,822 - INFO: n_estimators: 5 | Validation Acc: 78.125 % | Historical Best: 78.125 %\n"
          ],
          "name": "stderr"
        },
        {
          "output_type": "stream",
          "text": [
            "Group 3 Finished!\n",
            "Target number of exemplars: 66\n",
            "Randomly extracting exemplars from class 0 of current split... Extracted 66 exemplars.\n",
            "Randomly extracting exemplars from class 1 of current split... Extracted 66 exemplars.\n",
            "Randomly extracting exemplars from class 2 of current split... Extracted 66 exemplars.\n",
            "Randomly extracting exemplars from class 3 of current split... Extracted 66 exemplars.\n",
            "Randomly extracting exemplars from class 4 of current split... Extracted 66 exemplars.\n",
            "Randomly extracting exemplars from class 5 of current split... Extracted 66 exemplars.\n",
            "Randomly extracting exemplars from class 6 of current split... Extracted 66 exemplars.\n",
            "Randomly extracting exemplars from class 7 of current split... Extracted 66 exemplars.\n",
            "Randomly extracting exemplars from class 8 of current split... Extracted 66 exemplars.\n",
            "Randomly extracting exemplars from class 9 of current split... Extracted 66 exemplars.\n",
            "[0.42391304347826086, 0.751358695652174, 0.9419157608695652],[0.4453125, 0.22520380434782608, 0.05672554347826087]\n",
            "Testing on both open and closed world\n",
            "owr harmonic mean (threshold:0.5) = 0.43434935521688156\n",
            "owr harmonic mean (threshold:0.75) = 0.34653969754253305\n",
            "owr harmonic mean (threshold:0.95) = 0.1070067565069506\n",
            "\n",
            "=============================================\n",
            "\n",
            "Length of exemplars set: 1980\n"
          ],
          "name": "stdout"
        },
        {
          "output_type": "stream",
          "text": [
            "2021-07-12 22:08:29,193 - INFO: lr: 0.10000 | Epoch: 000 | Batch: 000 | Loss: 5.08137 | Correct: 5/128\n"
          ],
          "name": "stderr"
        },
        {
          "output_type": "stream",
          "text": [
            "None\n"
          ],
          "name": "stdout"
        },
        {
          "output_type": "stream",
          "text": [
            "2021-07-12 22:08:45,216 - INFO: lr: 0.09875 | Epoch: 001 | Batch: 000 | Loss: 3.13184 | Correct: 22/128\n"
          ],
          "name": "stderr"
        },
        {
          "output_type": "stream",
          "text": [
            "None\n"
          ],
          "name": "stdout"
        },
        {
          "output_type": "stream",
          "text": [
            "2021-07-12 22:09:01,240 - INFO: lr: 0.09505 | Epoch: 002 | Batch: 000 | Loss: 2.43354 | Correct: 46/128\n"
          ],
          "name": "stderr"
        },
        {
          "output_type": "stream",
          "text": [
            "None\n"
          ],
          "name": "stdout"
        },
        {
          "output_type": "stream",
          "text": [
            "2021-07-12 22:09:17,326 - INFO: lr: 0.08909 | Epoch: 003 | Batch: 000 | Loss: 2.38023 | Correct: 49/128\n"
          ],
          "name": "stderr"
        },
        {
          "output_type": "stream",
          "text": [
            "None\n"
          ],
          "name": "stdout"
        }
      ]
    },
    {
      "cell_type": "markdown",
      "metadata": {
        "id": "UIUvaKyhx0rC"
      },
      "source": [
        "### Store logs in more usable dtype"
      ]
    },
    {
      "cell_type": "code",
      "metadata": {
        "id": "1-uV6X0yxzQc"
      },
      "source": [
        "train_loss = [[logs[run_i]['group_train_loss'][i] for i in range(5)] for run_i in range(len(RANDOM_SEED))]\n",
        "train_accuracy = [[logs[run_i]['group_train_accuracies'][i] for i in range(5)] for run_i in range(len(RANDOM_SEED))]\n",
        "val_loss = [[logs[run_i]['val_losses'][i] for i in range(5)] for run_i in range(len(RANDOM_SEED))]\n",
        "val_accuracy = [[logs[run_i]['val_accuracies'][i] for i in range(5)] for run_i in range(len(RANDOM_SEED))]\n",
        "test_accuracy = [[logs[run_i]['test_accuracies'][i] for i in range(5)] for run_i in range(len(RANDOM_SEED))]\n",
        "predictions = [logs[run_i]['predictions'].cpu().data.numpy().tolist() for run_i in range(len(RANDOM_SEED))]\n",
        "true_labels = [logs[run_i]['true_labels'].cpu().data.numpy().tolist() for run_i in range(len(RANDOM_SEED))]\n",
        "\n",
        "open_values = [[logs[run_i]['open_values'][i] for i in range(5)] for run_i in range(len(RANDOM_SEED))]\n",
        "closed_values = [[logs[run_i]['closed_values'][i] for i in range(5)] for run_i in range(len(RANDOM_SEED))]"
      ],
      "execution_count": null,
      "outputs": []
    },
    {
      "cell_type": "markdown",
      "metadata": {
        "id": "6r_ybcCLmc2R"
      },
      "source": [
        "### Save the model"
      ]
    },
    {
      "cell_type": "markdown",
      "metadata": {
        "id": "nIG3hIOkyFNs"
      },
      "source": [
        "#### Saving logs in JSON files"
      ]
    },
    {
      "cell_type": "code",
      "metadata": {
        "id": "mF_GR4KAyNYs"
      },
      "source": [
        "import json\n",
        "\n",
        "with open('states/reject_train_loss.json', 'w') as f:\n",
        "  json.dump(train_loss, f)\n",
        "f.close\n",
        "with open('states/reject_train_accuracy.json', 'w') as f:\n",
        "  json.dump(train_accuracy, f)\n",
        "f.close\n",
        "with open('states/reject_val_loss.json', 'w') as f:\n",
        "  json.dump(val_loss, f)\n",
        "f.close  \n",
        "with open('states/reject_val_accuracy.json', 'w') as f:\n",
        "  json.dump(val_accuracy, f)\n",
        "f.close\n",
        "with open('states/reject_test_accuracy.json', 'w') as f:\n",
        "  json.dump(test_accuracy, f)\n",
        "f.close\n",
        "with open('states/reject_predictions.json', 'w') as f:\n",
        "  json.dump(predictions, f)\n",
        "f.close\n",
        "with open('states/reject_true_labels.json', 'w') as f:\n",
        "  json.dump(true_labels, f)\n",
        "f.close"
      ],
      "execution_count": null,
      "outputs": []
    },
    {
      "cell_type": "markdown",
      "metadata": {
        "id": "JoVU9_V4zXOL"
      },
      "source": [
        "#### Saving best resnet on 100 classes for each seed"
      ]
    },
    {
      "cell_type": "markdown",
      "metadata": {
        "id": "2NMLqiIS19IJ"
      },
      "source": [
        "### Print some graphs"
      ]
    },
    {
      "cell_type": "code",
      "metadata": {
        "id": "G6Mg2QiIBNRo"
      },
      "source": [
        "from data.utils_plot import plot_train_val, plot_test_accuracies, plot_confusion_matrix"
      ],
      "execution_count": null,
      "outputs": []
    },
    {
      "cell_type": "code",
      "metadata": {
        "id": "M2QzOlExmhKo"
      },
      "source": [
        "train_loss = np.array(train_loss)\n",
        "train_accuracy = np.array(train_accuracy)\n",
        "val_loss = np.array(val_loss)\n",
        "val_accuracy = np.array(val_accuracy)\n",
        "test_accuracy = np.array(test_accuracy)\n",
        "\n",
        "\n",
        "\n",
        "train_loss_stats = np.array([train_loss.mean(0), train_loss.std(0)]).transpose()\n",
        "train_accuracy_stats = np.array([train_accuracy.mean(0), train_accuracy.std(0)]).transpose()\n",
        "val_loss_stats = np.array([val_loss.mean(0), val_loss.std(0)]).transpose()\n",
        "val_accuracy_stats = np.array([val_accuracy.mean(0), val_accuracy.std(0)]).transpose()\n",
        "test_accuracy_stats = np.array([test_accuracy.mean(0), test_accuracy.std(0)]).transpose()\n",
        "\n",
        "\n",
        "open_values = np.array(open_values)\n",
        "closed_values = np.array(closed_values)"
      ],
      "execution_count": null,
      "outputs": []
    },
    {
      "cell_type": "code",
      "metadata": {
        "id": "jhDfQb32kuJg"
      },
      "source": [
        "threshold = 0.75\n",
        "print(f\"Threshold: {threshold}\")\n",
        "fig, axs = plt.subplots(1,2)\n",
        "fig.set_size_inches(15, 5)\n",
        "\n",
        "\n",
        "\n",
        "a,b,c = axs[0].hist(closed_values[0][4].cpu().numpy(), color = 'red', edgecolor = 'black', bins = [0,threshold,1])\n",
        "below = c[0].get_height()\n",
        "above = c[1].get_height()\n",
        "print(f\"closed_below:{below}, close_above:{above}\")\n",
        "print(f\"closed world rejection rate: {below/(below+above):.2f} (should be 0)\")\n",
        "\n",
        "\n",
        "a,b,c = axs[1].hist(open_values[0][4].cpu().numpy(), color = 'blue', edgecolor = 'black', bins = [0,threshold,1])\n",
        "below = c[0].get_height()\n",
        "above = c[1].get_height()\n",
        "print(f\"open_below:{below}, open_above:{above}\")\n",
        "print(f\"open world rejection rate: {below/(below+above):.2f} (should be 1)\")"
      ],
      "execution_count": null,
      "outputs": []
    },
    {
      "cell_type": "code",
      "metadata": {
        "id": "GQc5Bv_yF9eP"
      },
      "source": [
        "mask = logs[run]['predictions'] == 50\n",
        "rejected = torch.sum(mask)\n",
        "total = logs[run]['predictions'].size(0)\n",
        "\n",
        "print(f\"rejection rate: {rejected/total:.2f}\")\n",
        "\n",
        "\n"
      ],
      "execution_count": null,
      "outputs": []
    },
    {
      "cell_type": "markdown",
      "metadata": {
        "id": "6rB0p1PlFxrc"
      },
      "source": [
        "#### Train validation loss"
      ]
    },
    {
      "cell_type": "code",
      "metadata": {
        "id": "lAW6ze3-S_Kk"
      },
      "source": [
        "def plot_losses(train_stats, val_stats, loss = bool, save_directory = None):\n",
        "  train_mean = np.array(train_stats)[:, 0]\n",
        "  train_std = np.array(train_stats)[:, 1]\n",
        "  val_mean = np.array(val_stats)[:, 0]\n",
        "  val_std = np.array(val_stats)[:, 1]\n",
        "  fig, ax = plt.subplots(figsize = (10, 5), dpi = 100)\n",
        "  x = np.arange(10,51,10)\n",
        "  ax.errorbar(x, train_mean, train_std, label = 'Training')\n",
        "  ax.errorbar(x, val_mean, val_std, label = 'Validation')\n",
        "  if loss:\n",
        "    ax.set_title(\"Training and validation loss\")\n",
        "    ax.set_ylabel(\"Loss\")\n",
        "  else:\n",
        "    ax.set_title(\"Training and validation accuracy\")\n",
        "    ax.set_ylabel(\"Accuracy\")\n",
        "  ax.set_xlabel(\"Number of classes\")\n",
        "  plt.tight_layout()\n",
        "  ax.legend()\n",
        "  if save_directory != None:\n",
        "    fig.savefig(save_directory)\n",
        "  plt.show()\n",
        "\n",
        "plot_losses(train_loss_stats, val_loss_stats, loss = True)"
      ],
      "execution_count": null,
      "outputs": []
    },
    {
      "cell_type": "markdown",
      "metadata": {
        "id": "Hb_RNTNKF18b"
      },
      "source": [
        "#### Train validation accuracy"
      ]
    },
    {
      "cell_type": "code",
      "metadata": {
        "id": "05IT5LFUBBBV"
      },
      "source": [
        "def plot_acc(train_stats, val_stats, loss = bool, save_directory = None):\n",
        "  train_mean = np.array(train_stats)[:, 0]\n",
        "  train_std = np.array(train_stats)[:, 1]\n",
        "  val_mean = np.array(val_stats)[:, 0]\n",
        "  val_std = np.array(val_stats)[:, 1]\n",
        "  fig, ax = plt.subplots(figsize = (10, 5), dpi = 100)\n",
        "  x = np.arange(10, 51, 10)\n",
        "  ax.errorbar(x, train_mean, train_std, label = 'Training')\n",
        "  ax.errorbar(x, val_mean, val_std, label = 'Validation')\n",
        "  if loss:\n",
        "    ax.set_title(\"Training and validation loss\")\n",
        "    ax.set_ylabel(\"Loss\")\n",
        "  else:\n",
        "    ax.set_title(\"Training and validation accuracy\")\n",
        "    ax.set_ylabel(\"Accuracy\")\n",
        "  ax.set_xlabel(\"Number of classes\")\n",
        "  plt.tight_layout()\n",
        "  ax.legend()\n",
        "  if save_directory != None:\n",
        "    fig.savefig(save_directory)\n",
        "  plt.show()\n",
        "\n",
        "plot_acc(train_accuracy_stats, val_accuracy_stats, loss = False)"
      ],
      "execution_count": null,
      "outputs": []
    },
    {
      "cell_type": "markdown",
      "metadata": {
        "id": "llzylw_LF7e_"
      },
      "source": [
        "#### Test accuracy"
      ]
    },
    {
      "cell_type": "code",
      "metadata": {
        "id": "Bou4H0k9mteX"
      },
      "source": [
        "def plot_test(stats, save_directory = None):\n",
        "  mean = np.array(stats)[:, 0]\n",
        "  std = np.array(stats)[:, 1]\n",
        "  fig, ax = plt.subplots(figsize = (10, 5), dpi = 100)\n",
        "  x = np.arange(10, 51, 10)\n",
        "  ax.errorbar(x, mean, std)\n",
        "  ax.set_title(\"Test accuracy\")\n",
        "  ax.set_xlabel(\"Number of classes\")\n",
        "  ax.set_ylabel(\"Accuracy\")\n",
        "  plt.tight_layout()\n",
        "  if save_directory != None:\n",
        "    fig.savefig(save_directory)\n",
        "  plt.show()\n",
        "  \n",
        "plot_test(test_accuracy_stats)"
      ],
      "execution_count": null,
      "outputs": []
    },
    {
      "cell_type": "markdown",
      "metadata": {
        "id": "gN6cighYm1nG"
      },
      "source": [
        "#### Confusion Matrix"
      ]
    },
    {
      "cell_type": "code",
      "metadata": {
        "id": "LPG6aNRjm5Se"
      },
      "source": [
        "for run in range(len(RANDOM_SEED)):\n",
        "  targets = np.array(true_labels[run])\n",
        "  preds = np.array(predictions[run])\n",
        "\n",
        "  plot_confusion_matrix(targets, preds, RANDOM_SEED[run], 'iCaRL')"
      ],
      "execution_count": null,
      "outputs": []
    }
  ]
}