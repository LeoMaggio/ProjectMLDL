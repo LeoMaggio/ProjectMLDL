{
  "nbformat": 4,
  "nbformat_minor": 0,
  "metadata": {
    "colab": {
      "name": "FineTuning.ipynb",
      "provenance": [],
      "include_colab_link": true
    },
    "kernelspec": {
      "name": "python3",
      "display_name": "Python 3"
    },
    "language_info": {
      "name": "python"
    },
    "accelerator": "GPU",
    "widgets": {
      "application/vnd.jupyter.widget-state+json": {
        "368e8ddfd9c84e64a7a05cc0072f94ca": {
          "model_module": "@jupyter-widgets/controls",
          "model_name": "HBoxModel",
          "state": {
            "_view_name": "HBoxView",
            "_dom_classes": [],
            "_model_name": "HBoxModel",
            "_view_module": "@jupyter-widgets/controls",
            "_model_module_version": "1.5.0",
            "_view_count": null,
            "_view_module_version": "1.5.0",
            "box_style": "",
            "layout": "IPY_MODEL_6023891434964b13a68837b50d3fd1bd",
            "_model_module": "@jupyter-widgets/controls",
            "children": [
              "IPY_MODEL_68da077d693345f8a8b4e4f5ea9e0436",
              "IPY_MODEL_a66a34332fe44a8c9495dd39a2f220fb"
            ]
          }
        },
        "6023891434964b13a68837b50d3fd1bd": {
          "model_module": "@jupyter-widgets/base",
          "model_name": "LayoutModel",
          "state": {
            "_view_name": "LayoutView",
            "grid_template_rows": null,
            "right": null,
            "justify_content": null,
            "_view_module": "@jupyter-widgets/base",
            "overflow": null,
            "_model_module_version": "1.2.0",
            "_view_count": null,
            "flex_flow": null,
            "width": null,
            "min_width": null,
            "border": null,
            "align_items": null,
            "bottom": null,
            "_model_module": "@jupyter-widgets/base",
            "top": null,
            "grid_column": null,
            "overflow_y": null,
            "overflow_x": null,
            "grid_auto_flow": null,
            "grid_area": null,
            "grid_template_columns": null,
            "flex": null,
            "_model_name": "LayoutModel",
            "justify_items": null,
            "grid_row": null,
            "max_height": null,
            "align_content": null,
            "visibility": null,
            "align_self": null,
            "height": null,
            "min_height": null,
            "padding": null,
            "grid_auto_rows": null,
            "grid_gap": null,
            "max_width": null,
            "order": null,
            "_view_module_version": "1.2.0",
            "grid_template_areas": null,
            "object_position": null,
            "object_fit": null,
            "grid_auto_columns": null,
            "margin": null,
            "display": null,
            "left": null
          }
        },
        "68da077d693345f8a8b4e4f5ea9e0436": {
          "model_module": "@jupyter-widgets/controls",
          "model_name": "FloatProgressModel",
          "state": {
            "_view_name": "ProgressView",
            "style": "IPY_MODEL_c12e0f8efb5a4a1d9539297094cc6b1a",
            "_dom_classes": [],
            "description": "",
            "_model_name": "FloatProgressModel",
            "bar_style": "success",
            "max": 169001437,
            "_view_module": "@jupyter-widgets/controls",
            "_model_module_version": "1.5.0",
            "value": 169001437,
            "_view_count": null,
            "_view_module_version": "1.5.0",
            "orientation": "horizontal",
            "min": 0,
            "description_tooltip": null,
            "_model_module": "@jupyter-widgets/controls",
            "layout": "IPY_MODEL_9961f96e06744a01b5bfde3f41632843"
          }
        },
        "a66a34332fe44a8c9495dd39a2f220fb": {
          "model_module": "@jupyter-widgets/controls",
          "model_name": "HTMLModel",
          "state": {
            "_view_name": "HTMLView",
            "style": "IPY_MODEL_f9e0ec6ec4b04f40852bc1a35ed62cc9",
            "_dom_classes": [],
            "description": "",
            "_model_name": "HTMLModel",
            "placeholder": "​",
            "_view_module": "@jupyter-widgets/controls",
            "_model_module_version": "1.5.0",
            "value": " 169001984/? [00:25&lt;00:00, 6575646.81it/s]",
            "_view_count": null,
            "_view_module_version": "1.5.0",
            "description_tooltip": null,
            "_model_module": "@jupyter-widgets/controls",
            "layout": "IPY_MODEL_b8d84a9d76ef4c39badb31689307e965"
          }
        },
        "c12e0f8efb5a4a1d9539297094cc6b1a": {
          "model_module": "@jupyter-widgets/controls",
          "model_name": "ProgressStyleModel",
          "state": {
            "_view_name": "StyleView",
            "_model_name": "ProgressStyleModel",
            "description_width": "initial",
            "_view_module": "@jupyter-widgets/base",
            "_model_module_version": "1.5.0",
            "_view_count": null,
            "_view_module_version": "1.2.0",
            "bar_color": null,
            "_model_module": "@jupyter-widgets/controls"
          }
        },
        "9961f96e06744a01b5bfde3f41632843": {
          "model_module": "@jupyter-widgets/base",
          "model_name": "LayoutModel",
          "state": {
            "_view_name": "LayoutView",
            "grid_template_rows": null,
            "right": null,
            "justify_content": null,
            "_view_module": "@jupyter-widgets/base",
            "overflow": null,
            "_model_module_version": "1.2.0",
            "_view_count": null,
            "flex_flow": null,
            "width": null,
            "min_width": null,
            "border": null,
            "align_items": null,
            "bottom": null,
            "_model_module": "@jupyter-widgets/base",
            "top": null,
            "grid_column": null,
            "overflow_y": null,
            "overflow_x": null,
            "grid_auto_flow": null,
            "grid_area": null,
            "grid_template_columns": null,
            "flex": null,
            "_model_name": "LayoutModel",
            "justify_items": null,
            "grid_row": null,
            "max_height": null,
            "align_content": null,
            "visibility": null,
            "align_self": null,
            "height": null,
            "min_height": null,
            "padding": null,
            "grid_auto_rows": null,
            "grid_gap": null,
            "max_width": null,
            "order": null,
            "_view_module_version": "1.2.0",
            "grid_template_areas": null,
            "object_position": null,
            "object_fit": null,
            "grid_auto_columns": null,
            "margin": null,
            "display": null,
            "left": null
          }
        },
        "f9e0ec6ec4b04f40852bc1a35ed62cc9": {
          "model_module": "@jupyter-widgets/controls",
          "model_name": "DescriptionStyleModel",
          "state": {
            "_view_name": "StyleView",
            "_model_name": "DescriptionStyleModel",
            "description_width": "",
            "_view_module": "@jupyter-widgets/base",
            "_model_module_version": "1.5.0",
            "_view_count": null,
            "_view_module_version": "1.2.0",
            "_model_module": "@jupyter-widgets/controls"
          }
        },
        "b8d84a9d76ef4c39badb31689307e965": {
          "model_module": "@jupyter-widgets/base",
          "model_name": "LayoutModel",
          "state": {
            "_view_name": "LayoutView",
            "grid_template_rows": null,
            "right": null,
            "justify_content": null,
            "_view_module": "@jupyter-widgets/base",
            "overflow": null,
            "_model_module_version": "1.2.0",
            "_view_count": null,
            "flex_flow": null,
            "width": null,
            "min_width": null,
            "border": null,
            "align_items": null,
            "bottom": null,
            "_model_module": "@jupyter-widgets/base",
            "top": null,
            "grid_column": null,
            "overflow_y": null,
            "overflow_x": null,
            "grid_auto_flow": null,
            "grid_area": null,
            "grid_template_columns": null,
            "flex": null,
            "_model_name": "LayoutModel",
            "justify_items": null,
            "grid_row": null,
            "max_height": null,
            "align_content": null,
            "visibility": null,
            "align_self": null,
            "height": null,
            "min_height": null,
            "padding": null,
            "grid_auto_rows": null,
            "grid_gap": null,
            "max_width": null,
            "order": null,
            "_view_module_version": "1.2.0",
            "grid_template_areas": null,
            "object_position": null,
            "object_fit": null,
            "grid_auto_columns": null,
            "margin": null,
            "display": null,
            "left": null
          }
        }
      }
    }
  },
  "cells": [
    {
      "cell_type": "markdown",
      "metadata": {
        "id": "view-in-github",
        "colab_type": "text"
      },
      "source": [
        "<a href=\"https://colab.research.google.com/github/cosminnedescu/ProjectMLDL/blob/main/owr/owr-ensebles-v2.0.1.ipynb\" target=\"_parent\"><img src=\"https://colab.research.google.com/assets/colab-badge.svg\" alt=\"Open In Colab\"/></a>"
      ]
    },
    {
      "cell_type": "code",
      "metadata": {
        "id": "PF5bRIxnU-PW",
        "colab": {
          "base_uri": "https://localhost:8080/"
        },
        "outputId": "9d1381d4-086e-4e71-ba8e-9f5db5b8a88b"
      },
      "source": [
        "# Avoid K80\n",
        "!nvidia-smi"
      ],
      "execution_count": null,
      "outputs": [
        {
          "output_type": "stream",
          "text": [
            "Mon Jul 12 19:30:32 2021       \n",
            "+-----------------------------------------------------------------------------+\n",
            "| NVIDIA-SMI 470.42.01    Driver Version: 460.32.03    CUDA Version: 11.2     |\n",
            "|-------------------------------+----------------------+----------------------+\n",
            "| GPU  Name        Persistence-M| Bus-Id        Disp.A | Volatile Uncorr. ECC |\n",
            "| Fan  Temp  Perf  Pwr:Usage/Cap|         Memory-Usage | GPU-Util  Compute M. |\n",
            "|                               |                      |               MIG M. |\n",
            "|===============================+======================+======================|\n",
            "|   0  Tesla T4            Off  | 00000000:00:04.0 Off |                    0 |\n",
            "| N/A   76C    P0    30W /  70W |      0MiB / 15109MiB |      0%      Default |\n",
            "|                               |                      |                  N/A |\n",
            "+-------------------------------+----------------------+----------------------+\n",
            "                                                                               \n",
            "+-----------------------------------------------------------------------------+\n",
            "| Processes:                                                                  |\n",
            "|  GPU   GI   CI        PID   Type   Process name                  GPU Memory |\n",
            "|        ID   ID                                                   Usage      |\n",
            "|=============================================================================|\n",
            "|  No running processes found                                                 |\n",
            "+-----------------------------------------------------------------------------+\n"
          ],
          "name": "stdout"
        }
      ]
    },
    {
      "cell_type": "code",
      "metadata": {
        "id": "pJimWkPdQu6y"
      },
      "source": [
        "import os\n",
        "import random\n",
        "\n",
        "import torch\n",
        "import torch.nn as nn\n",
        "import torch.nn.init as init\n",
        "import torch.optim as optim\n",
        "from torch.autograd import Variable\n",
        "\n",
        "import torchvision\n",
        "from torchvision import transforms, datasets, models\n",
        "from torch.utils.data import Subset, DataLoader\n",
        "\n",
        "from PIL import Image\n",
        "\n",
        "import numpy as np\n",
        "import matplotlib \n",
        "import matplotlib.pyplot as plt\n",
        "from copy import copy\n",
        "from copy import deepcopy"
      ],
      "execution_count": null,
      "outputs": []
    },
    {
      "cell_type": "markdown",
      "metadata": {
        "id": "7BZw-bZJ16ay"
      },
      "source": [
        "#### Cloning the Git repository"
      ]
    },
    {
      "cell_type": "code",
      "metadata": {
        "id": "yjntw1jZQ7Lg",
        "colab": {
          "base_uri": "https://localhost:8080/"
        },
        "outputId": "ecd6a348-a298-4b46-e19c-d2ae64f71bed"
      },
      "source": [
        "!rm -rf ProjectMLDL\n",
        "if not os.path.isdir('/content/ProjectMLDL'):\n",
        "  !git clone https://github.com/cosminnedescu/ProjectMLDL.git\n",
        "  %cd /content/ProjectMLDL\n",
        "  !rm -rf LICENSE README.md"
      ],
      "execution_count": null,
      "outputs": [
        {
          "output_type": "stream",
          "text": [
            "Cloning into 'ProjectMLDL'...\n",
            "remote: Enumerating objects: 3379, done.\u001b[K\n",
            "remote: Counting objects: 100% (795/795), done.\u001b[K\n",
            "remote: Compressing objects: 100% (475/475), done.\u001b[K\n",
            "remote: Total 3379 (delta 470), reused 537 (delta 307), pack-reused 2584\u001b[K\n",
            "Receiving objects: 100% (3379/3379), 170.43 MiB | 29.63 MiB/s, done.\n",
            "Resolving deltas: 100% (1855/1855), done.\n",
            "Checking out files: 100% (359/359), done.\n",
            "/content/ProjectMLDL\n"
          ],
          "name": "stdout"
        }
      ]
    },
    {
      "cell_type": "code",
      "metadata": {
        "id": "nvqmxRxo2lUW"
      },
      "source": [
        "from data.cifar100 import CIFAR100\n",
        "from model.resnet32_modified import resnet32\n",
        "import data.utils\n",
        "from model.owrEnsamble import owrEnsemble"
      ],
      "execution_count": null,
      "outputs": []
    },
    {
      "cell_type": "code",
      "metadata": {
        "id": "XwomFTtQo1x-"
      },
      "source": [
        "# True mean and std of Cifar100 dataset (src=\"https://gist.github.com/weiaicunzai/e623931921efefd4c331622c344d8151\")\n",
        "mean = [0.5071, 0.4867, 0.4408]\n",
        "std = [0.2675, 0.2565, 0.2761]\n",
        "\n",
        "train_transform = transforms.Compose([\n",
        "    transforms.RandomCrop(32, padding=4),\n",
        "    transforms.RandomHorizontalFlip(),\n",
        "    transforms.ToTensor(),\n",
        "    transforms.Normalize(mean, std),\n",
        "])\n",
        "test_transform = transforms.Compose(\n",
        "    [transforms.ToTensor(), \n",
        "     transforms.Normalize(mean, std),\n",
        "     ])"
      ],
      "execution_count": null,
      "outputs": []
    },
    {
      "cell_type": "markdown",
      "metadata": {
        "id": "yRoS-R_sRhHT"
      },
      "source": [
        "## Incremental Classifier and Representation Learning"
      ]
    },
    {
      "cell_type": "markdown",
      "metadata": {
        "id": "3ocVW0wM2Iw2"
      },
      "source": [
        "### Defining hyperparameters according to iCarl paper"
      ]
    },
    {
      "cell_type": "code",
      "metadata": {
        "id": "nmEo_9lnwyBk"
      },
      "source": [
        "# Settings\n",
        "DEVICE = 'cuda'\n",
        "NUM_CLASSES = 100         # Total number of classes\n",
        "VAL_SIZE = 0.2            # Proportion of validation set with respect to training set (between 0 and 1)\n",
        "\n",
        "# Training\n",
        "BATCH_SIZE = 128          # Batch size\n",
        "LR = 0.1                    # Initial learning rate\n",
        "                       \n",
        "MOMENTUM = 0.9            # Momentum for stochastic gradient descent (SGD)\n",
        "WEIGHT_DECAY = 1e-5       # Weight decay from iCaRL\n",
        "\n",
        "RANDOM_SEED = [20]  # Random seeds defining the runs of every method\n",
        "                          # Note: this should be at least 3 to have a fair benchmark\n",
        "\n",
        "NUM_EPOCHS = 70           # Total number of training epochs\n",
        "MILESTONES = [43, 63]     # Step down policy from iCaRL (MultiStepLR)\n",
        "                          # Decrease the learning rate by gamma at each milestone\n",
        "GAMMA = 0.2               # Gamma factor from iCaRL (1/5)\n",
        "\n",
        "HERDING = False           # True to perform prioritized selection, False to perform random selection\n",
        "CLASSIFY = True           # True to use mean-of-exemplar classifier, False to use network's output directly for classification\n",
        "\n",
        "REJECTION_THRESHOLD = [0.50,0.75,0.95]\n",
        "TESTING_MODE = 'harmonic' #open, closed, harmonic\n",
        "N_ESTIMATORS = 5\n",
        "CONFIDENCE = '0.900' #'0.900':1.47, '0.950':1.94, '0.975':2.45, '0.990':3.36\n",
        "    "
      ],
      "execution_count": null,
      "outputs": []
    },
    {
      "cell_type": "code",
      "metadata": {
        "id": "rVh61C63FECy"
      },
      "source": [
        "def do_group_classes(run):\n",
        "\n",
        "  train_subset = [[] for i in range(10)]\n",
        "  train_dataloader = [[] for i in range(10)]\n",
        "  val_dataloader = [[] for i in range(10)]\n",
        "  test_dataloader = [[] for i in range(10)]\n",
        "\n",
        "  for i in range(10):\n",
        "    train_data = CIFAR100(\"dataset\", \n",
        "                          train=True, \n",
        "                          transform=train_transform, \n",
        "                          download=(run+i==0),\n",
        "                          random_state=RANDOM_SEED[run])\n",
        "    test_data = CIFAR100(\"dataset\", \n",
        "                         train=False, \n",
        "                         transform=test_transform, \n",
        "                         download=False,\n",
        "                         random_state=RANDOM_SEED[run])\n",
        "    \n",
        "    train_data.set_index_map(train_data.splits[i])\n",
        "    test_data.set_index_map([test_data.splits[j] for j in range(0, i+1)])\n",
        "    \n",
        "    train_indices, val_indices = train_data.train_val_split(VAL_SIZE, RANDOM_SEED[run])\n",
        "    \n",
        "    train_subset[i] = copy(Subset(train_data, train_indices))\n",
        "    val_subset = Subset(train_data, val_indices)\n",
        "\n",
        "    tmp_dl = DataLoader(val_subset,\n",
        "                       batch_size=BATCH_SIZE,\n",
        "                       shuffle=True, \n",
        "                       num_workers=4,\n",
        "                       drop_last=True)\n",
        "    val_dataloader[i] = copy(tmp_dl)\n",
        "\n",
        "    tmp_dl = DataLoader(test_data,\n",
        "                       batch_size=BATCH_SIZE,\n",
        "                       shuffle=True, \n",
        "                       num_workers=4,\n",
        "                       drop_last=True)\n",
        "    test_dataloader[i] = copy(tmp_dl)\n",
        "\n",
        "  return train_dataloader, val_dataloader, test_dataloader, train_subset"
      ],
      "execution_count": null,
      "outputs": []
    },
    {
      "cell_type": "markdown",
      "metadata": {
        "id": "20APZIgI1eBy"
      },
      "source": [
        "### Going on with the model\n",
        "This is the main iCaRL step.\n",
        "\n",
        "This step is run 3 times with different `RANDOM_SEED`.\n",
        "Here the model is instantiated, trained and tested.\n",
        "\n",
        "Results and some statistics are then stored in the variable `logs`."
      ]
    },
    {
      "cell_type": "code",
      "metadata": {
        "id": "mJHKbipz0bMr",
        "colab": {
          "base_uri": "https://localhost:8080/",
          "height": 1000,
          "referenced_widgets": [
            "368e8ddfd9c84e64a7a05cc0072f94ca",
            "6023891434964b13a68837b50d3fd1bd",
            "68da077d693345f8a8b4e4f5ea9e0436",
            "a66a34332fe44a8c9495dd39a2f220fb",
            "c12e0f8efb5a4a1d9539297094cc6b1a",
            "9961f96e06744a01b5bfde3f41632843",
            "f9e0ec6ec4b04f40852bc1a35ed62cc9",
            "b8d84a9d76ef4c39badb31689307e965"
          ]
        },
        "outputId": "f9e3a8a8-f8ad-4131-9c00-c05cffc47bde"
      },
      "source": [
        "logs = [[] for i in range(len(RANDOM_SEED))]\n",
        "best_net_tot_classes = [None for i in range(len(RANDOM_SEED))]\n",
        "\n",
        "for run in range(len(RANDOM_SEED)):\n",
        "  print(\"#################################\")\n",
        "  print(f\"Radom seed: {RANDOM_SEED[run]}\")\n",
        "  print(\"\")\n",
        "\n",
        "  # get data_subsets separated in incremental groups of 10 classes\n",
        "  train_dl, val_dl, test_dl, train_set = do_group_classes(run)\n",
        "\n",
        "  #create the resnet\n",
        "  net = resnet32()\n",
        "  \n",
        "  trainer = owrEnsemble(DEVICE,\n",
        "                  net,\n",
        "                  LR,\n",
        "                  MOMENTUM,\n",
        "                  WEIGHT_DECAY,\n",
        "                  MILESTONES,\n",
        "                  GAMMA,\n",
        "                  train_dl,\n",
        "                  val_dl,\n",
        "                  test_dl,\n",
        "                  BATCH_SIZE,\n",
        "                  train_set,\n",
        "                  train_transform,\n",
        "                  test_transform,\n",
        "                  TESTING_MODE,\n",
        "                  REJECTION_THRESHOLD,\n",
        "                  N_ESTIMATORS,\n",
        "                  CONFIDENCE) \n",
        "\n",
        "  #train and evaluate the model\n",
        "  logs[run] = trainer.train_model(NUM_EPOCHS)\n",
        "\n",
        "  best_net_tot_classes[run] = deepcopy(trainer.best_net)\n",
        "\n",
        "  print(\"#################################\")\n",
        "  print(\"\")\n",
        "  print(\"\")"
      ],
      "execution_count": null,
      "outputs": [
        {
          "output_type": "stream",
          "text": [
            "#################################\n",
            "Radom seed: 20\n",
            "\n",
            "Downloading https://www.cs.toronto.edu/~kriz/cifar-100-python.tar.gz to dataset/cifar-100-python.tar.gz\n"
          ],
          "name": "stdout"
        },
        {
          "output_type": "display_data",
          "data": {
            "application/vnd.jupyter.widget-view+json": {
              "model_id": "368e8ddfd9c84e64a7a05cc0072f94ca",
              "version_major": 2,
              "version_minor": 0
            },
            "text/plain": [
              "HBox(children=(FloatProgress(value=0.0, max=169001437.0), HTML(value='')))"
            ]
          },
          "metadata": {
            "tags": []
          }
        },
        {
          "output_type": "stream",
          "text": [
            "\n",
            "Extracting dataset/cifar-100-python.tar.gz to dataset\n"
          ],
          "name": "stdout"
        },
        {
          "output_type": "stream",
          "text": [
            "/usr/local/lib/python3.7/dist-packages/torch/utils/data/dataloader.py:481: UserWarning: This DataLoader will create 4 worker processes in total. Our suggested max number of worker in current system is 2, which is smaller than what this DataLoader is going to create. Please be aware that excessive worker creation might get DataLoader running slow or even freeze, lower the worker number to avoid potential slowness/freeze if necessary.\n",
            "  cpuset_checked))\n"
          ],
          "name": "stderr"
        },
        {
          "output_type": "stream",
          "text": [
            "Log will be saved in '/content/ProjectMLDL/logs'.\n",
            "Create folder 'logs/'\n",
            "Start logging into file /content/ProjectMLDL/logs/classification_mnist_mlp-2021_07_12_19_31.log...\n",
            "Length of exemplars set: 0\n"
          ],
          "name": "stdout"
        },
        {
          "output_type": "stream",
          "text": [
            "2021-07-12 19:31:06,362 - INFO: lr: 0.10000 | Epoch: 000 | Batch: 000 | Loss: 2.30382 | Correct: 17/128\n"
          ],
          "name": "stderr"
        },
        {
          "output_type": "stream",
          "text": [
            "None\n"
          ],
          "name": "stdout"
        },
        {
          "output_type": "stream",
          "text": [
            "2021-07-12 19:31:08,566 - INFO: lr: 0.09875 | Epoch: 001 | Batch: 000 | Loss: 1.81359 | Correct: 34/128\n"
          ],
          "name": "stderr"
        },
        {
          "output_type": "stream",
          "text": [
            "None\n"
          ],
          "name": "stdout"
        },
        {
          "output_type": "stream",
          "text": [
            "2021-07-12 19:31:10,684 - INFO: lr: 0.09505 | Epoch: 002 | Batch: 000 | Loss: 1.59822 | Correct: 36/128\n"
          ],
          "name": "stderr"
        },
        {
          "output_type": "stream",
          "text": [
            "None\n"
          ],
          "name": "stdout"
        },
        {
          "output_type": "stream",
          "text": [
            "2021-07-12 19:31:12,855 - INFO: lr: 0.08909 | Epoch: 003 | Batch: 000 | Loss: 1.69661 | Correct: 45/128\n"
          ],
          "name": "stderr"
        },
        {
          "output_type": "stream",
          "text": [
            "None\n"
          ],
          "name": "stdout"
        },
        {
          "output_type": "stream",
          "text": [
            "2021-07-12 19:31:14,988 - INFO: lr: 0.08117 | Epoch: 004 | Batch: 000 | Loss: 1.45352 | Correct: 53/128\n"
          ],
          "name": "stderr"
        },
        {
          "output_type": "stream",
          "text": [
            "None\n"
          ],
          "name": "stdout"
        },
        {
          "output_type": "stream",
          "text": [
            "2021-07-12 19:31:17,086 - INFO: lr: 0.07169 | Epoch: 005 | Batch: 000 | Loss: 1.49867 | Correct: 58/128\n"
          ],
          "name": "stderr"
        },
        {
          "output_type": "stream",
          "text": [
            "None\n"
          ],
          "name": "stdout"
        },
        {
          "output_type": "stream",
          "text": [
            "2021-07-12 19:31:19,317 - INFO: lr: 0.06113 | Epoch: 006 | Batch: 000 | Loss: 1.19075 | Correct: 74/128\n"
          ],
          "name": "stderr"
        },
        {
          "output_type": "stream",
          "text": [
            "None\n"
          ],
          "name": "stdout"
        },
        {
          "output_type": "stream",
          "text": [
            "2021-07-12 19:31:21,478 - INFO: lr: 0.05000 | Epoch: 007 | Batch: 000 | Loss: 1.11199 | Correct: 74/128\n"
          ],
          "name": "stderr"
        },
        {
          "output_type": "stream",
          "text": [
            "None\n"
          ],
          "name": "stdout"
        },
        {
          "output_type": "stream",
          "text": [
            "2021-07-12 19:31:23,594 - INFO: lr: 0.03887 | Epoch: 008 | Batch: 000 | Loss: 1.09908 | Correct: 79/128\n"
          ],
          "name": "stderr"
        },
        {
          "output_type": "stream",
          "text": [
            "None\n"
          ],
          "name": "stdout"
        },
        {
          "output_type": "stream",
          "text": [
            "2021-07-12 19:31:25,934 - INFO: lr: 0.02831 | Epoch: 009 | Batch: 000 | Loss: 0.92277 | Correct: 83/128\n"
          ],
          "name": "stderr"
        },
        {
          "output_type": "stream",
          "text": [
            "None\n"
          ],
          "name": "stdout"
        },
        {
          "output_type": "stream",
          "text": [
            "2021-07-12 19:31:28,042 - INFO: lr: 0.01883 | Epoch: 010 | Batch: 000 | Loss: 0.78455 | Correct: 96/128\n"
          ],
          "name": "stderr"
        },
        {
          "output_type": "stream",
          "text": [
            "None\n"
          ],
          "name": "stdout"
        },
        {
          "output_type": "stream",
          "text": [
            "2021-07-12 19:31:30,287 - INFO: lr: 0.01091 | Epoch: 011 | Batch: 000 | Loss: 0.94336 | Correct: 86/128\n"
          ],
          "name": "stderr"
        },
        {
          "output_type": "stream",
          "text": [
            "None\n"
          ],
          "name": "stdout"
        },
        {
          "output_type": "stream",
          "text": [
            "2021-07-12 19:31:32,532 - INFO: lr: 0.00495 | Epoch: 012 | Batch: 000 | Loss: 0.88480 | Correct: 86/128\n"
          ],
          "name": "stderr"
        },
        {
          "output_type": "stream",
          "text": [
            "None\n"
          ],
          "name": "stdout"
        },
        {
          "output_type": "stream",
          "text": [
            "2021-07-12 19:31:34,673 - INFO: lr: 0.00125 | Epoch: 013 | Batch: 000 | Loss: 0.89936 | Correct: 93/128\n"
          ],
          "name": "stderr"
        },
        {
          "output_type": "stream",
          "text": [
            "None\n"
          ],
          "name": "stdout"
        },
        {
          "output_type": "stream",
          "text": [
            "2021-07-12 19:31:36,516 - INFO: Save the snapshot model with index: 0\n",
            "2021-07-12 19:31:37,116 - INFO: n_estimators: 1 | Validation Acc: 66.071 % | Historical Best: 66.071 %\n",
            "2021-07-12 19:31:37,521 - INFO: lr: 0.10000 | Epoch: 014 | Batch: 000 | Loss: 0.83263 | Correct: 91/128\n"
          ],
          "name": "stderr"
        },
        {
          "output_type": "stream",
          "text": [
            "None\n"
          ],
          "name": "stdout"
        },
        {
          "output_type": "stream",
          "text": [
            "2021-07-12 19:31:39,721 - INFO: lr: 0.09875 | Epoch: 015 | Batch: 000 | Loss: 1.11068 | Correct: 75/128\n"
          ],
          "name": "stderr"
        },
        {
          "output_type": "stream",
          "text": [
            "None\n"
          ],
          "name": "stdout"
        },
        {
          "output_type": "stream",
          "text": [
            "2021-07-12 19:31:41,827 - INFO: lr: 0.09505 | Epoch: 016 | Batch: 000 | Loss: 1.22197 | Correct: 71/128\n"
          ],
          "name": "stderr"
        },
        {
          "output_type": "stream",
          "text": [
            "None\n"
          ],
          "name": "stdout"
        },
        {
          "output_type": "stream",
          "text": [
            "2021-07-12 19:31:43,970 - INFO: lr: 0.08909 | Epoch: 017 | Batch: 000 | Loss: 0.87158 | Correct: 91/128\n"
          ],
          "name": "stderr"
        },
        {
          "output_type": "stream",
          "text": [
            "None\n"
          ],
          "name": "stdout"
        },
        {
          "output_type": "stream",
          "text": [
            "2021-07-12 19:31:46,154 - INFO: lr: 0.08117 | Epoch: 018 | Batch: 000 | Loss: 0.95187 | Correct: 86/128\n"
          ],
          "name": "stderr"
        },
        {
          "output_type": "stream",
          "text": [
            "None\n"
          ],
          "name": "stdout"
        },
        {
          "output_type": "stream",
          "text": [
            "2021-07-12 19:31:48,325 - INFO: lr: 0.07169 | Epoch: 019 | Batch: 000 | Loss: 0.93989 | Correct: 82/128\n"
          ],
          "name": "stderr"
        },
        {
          "output_type": "stream",
          "text": [
            "None\n"
          ],
          "name": "stdout"
        },
        {
          "output_type": "stream",
          "text": [
            "2021-07-12 19:31:50,544 - INFO: lr: 0.06113 | Epoch: 020 | Batch: 000 | Loss: 0.82652 | Correct: 92/128\n"
          ],
          "name": "stderr"
        },
        {
          "output_type": "stream",
          "text": [
            "None\n"
          ],
          "name": "stdout"
        },
        {
          "output_type": "stream",
          "text": [
            "2021-07-12 19:31:52,643 - INFO: lr: 0.05000 | Epoch: 021 | Batch: 000 | Loss: 0.65135 | Correct: 101/128\n"
          ],
          "name": "stderr"
        },
        {
          "output_type": "stream",
          "text": [
            "None\n"
          ],
          "name": "stdout"
        },
        {
          "output_type": "stream",
          "text": [
            "2021-07-12 19:31:54,852 - INFO: lr: 0.03887 | Epoch: 022 | Batch: 000 | Loss: 0.46427 | Correct: 112/128\n"
          ],
          "name": "stderr"
        },
        {
          "output_type": "stream",
          "text": [
            "None\n"
          ],
          "name": "stdout"
        },
        {
          "output_type": "stream",
          "text": [
            "2021-07-12 19:31:56,971 - INFO: lr: 0.02831 | Epoch: 023 | Batch: 000 | Loss: 0.60536 | Correct: 99/128\n"
          ],
          "name": "stderr"
        },
        {
          "output_type": "stream",
          "text": [
            "None\n"
          ],
          "name": "stdout"
        },
        {
          "output_type": "stream",
          "text": [
            "2021-07-12 19:31:59,154 - INFO: lr: 0.01883 | Epoch: 024 | Batch: 000 | Loss: 0.57944 | Correct: 105/128\n"
          ],
          "name": "stderr"
        },
        {
          "output_type": "stream",
          "text": [
            "None\n"
          ],
          "name": "stdout"
        },
        {
          "output_type": "stream",
          "text": [
            "2021-07-12 19:32:01,322 - INFO: lr: 0.01091 | Epoch: 025 | Batch: 000 | Loss: 0.44821 | Correct: 107/128\n"
          ],
          "name": "stderr"
        },
        {
          "output_type": "stream",
          "text": [
            "None\n"
          ],
          "name": "stdout"
        },
        {
          "output_type": "stream",
          "text": [
            "2021-07-12 19:32:03,573 - INFO: lr: 0.00495 | Epoch: 026 | Batch: 000 | Loss: 0.38489 | Correct: 112/128\n"
          ],
          "name": "stderr"
        },
        {
          "output_type": "stream",
          "text": [
            "None\n"
          ],
          "name": "stdout"
        },
        {
          "output_type": "stream",
          "text": [
            "2021-07-12 19:32:05,793 - INFO: lr: 0.00125 | Epoch: 027 | Batch: 000 | Loss: 0.38517 | Correct: 112/128\n"
          ],
          "name": "stderr"
        },
        {
          "output_type": "stream",
          "text": [
            "None\n"
          ],
          "name": "stdout"
        },
        {
          "output_type": "stream",
          "text": [
            "2021-07-12 19:32:07,571 - INFO: Save the snapshot model with index: 1\n",
            "2021-07-12 19:32:08,254 - INFO: n_estimators: 2 | Validation Acc: 77.344 % | Historical Best: 77.344 %\n",
            "2021-07-12 19:32:08,566 - INFO: lr: 0.10000 | Epoch: 028 | Batch: 000 | Loss: 0.42470 | Correct: 107/128\n"
          ],
          "name": "stderr"
        },
        {
          "output_type": "stream",
          "text": [
            "None\n"
          ],
          "name": "stdout"
        },
        {
          "output_type": "stream",
          "text": [
            "2021-07-12 19:32:10,773 - INFO: lr: 0.09875 | Epoch: 029 | Batch: 000 | Loss: 0.78270 | Correct: 94/128\n"
          ],
          "name": "stderr"
        },
        {
          "output_type": "stream",
          "text": [
            "None\n"
          ],
          "name": "stdout"
        },
        {
          "output_type": "stream",
          "text": [
            "2021-07-12 19:32:12,961 - INFO: lr: 0.09505 | Epoch: 030 | Batch: 000 | Loss: 0.73698 | Correct: 102/128\n"
          ],
          "name": "stderr"
        },
        {
          "output_type": "stream",
          "text": [
            "None\n"
          ],
          "name": "stdout"
        },
        {
          "output_type": "stream",
          "text": [
            "2021-07-12 19:32:15,172 - INFO: lr: 0.08909 | Epoch: 031 | Batch: 000 | Loss: 0.53869 | Correct: 105/128\n"
          ],
          "name": "stderr"
        },
        {
          "output_type": "stream",
          "text": [
            "None\n"
          ],
          "name": "stdout"
        },
        {
          "output_type": "stream",
          "text": [
            "2021-07-12 19:32:17,322 - INFO: lr: 0.08117 | Epoch: 032 | Batch: 000 | Loss: 0.51260 | Correct: 108/128\n"
          ],
          "name": "stderr"
        },
        {
          "output_type": "stream",
          "text": [
            "None\n"
          ],
          "name": "stdout"
        },
        {
          "output_type": "stream",
          "text": [
            "2021-07-12 19:32:19,462 - INFO: lr: 0.07169 | Epoch: 033 | Batch: 000 | Loss: 0.56864 | Correct: 103/128\n"
          ],
          "name": "stderr"
        },
        {
          "output_type": "stream",
          "text": [
            "None\n"
          ],
          "name": "stdout"
        },
        {
          "output_type": "stream",
          "text": [
            "2021-07-12 19:32:21,653 - INFO: lr: 0.06113 | Epoch: 034 | Batch: 000 | Loss: 0.44362 | Correct: 111/128\n"
          ],
          "name": "stderr"
        },
        {
          "output_type": "stream",
          "text": [
            "None\n"
          ],
          "name": "stdout"
        },
        {
          "output_type": "stream",
          "text": [
            "2021-07-12 19:32:23,832 - INFO: lr: 0.05000 | Epoch: 035 | Batch: 000 | Loss: 0.38969 | Correct: 110/128\n"
          ],
          "name": "stderr"
        },
        {
          "output_type": "stream",
          "text": [
            "None\n"
          ],
          "name": "stdout"
        },
        {
          "output_type": "stream",
          "text": [
            "2021-07-12 19:32:25,982 - INFO: lr: 0.03887 | Epoch: 036 | Batch: 000 | Loss: 0.37961 | Correct: 114/128\n"
          ],
          "name": "stderr"
        },
        {
          "output_type": "stream",
          "text": [
            "None\n"
          ],
          "name": "stdout"
        },
        {
          "output_type": "stream",
          "text": [
            "2021-07-12 19:32:28,134 - INFO: lr: 0.02831 | Epoch: 037 | Batch: 000 | Loss: 0.36305 | Correct: 115/128\n"
          ],
          "name": "stderr"
        },
        {
          "output_type": "stream",
          "text": [
            "None\n"
          ],
          "name": "stdout"
        },
        {
          "output_type": "stream",
          "text": [
            "2021-07-12 19:32:30,264 - INFO: lr: 0.01883 | Epoch: 038 | Batch: 000 | Loss: 0.27867 | Correct: 116/128\n"
          ],
          "name": "stderr"
        },
        {
          "output_type": "stream",
          "text": [
            "None\n"
          ],
          "name": "stdout"
        },
        {
          "output_type": "stream",
          "text": [
            "2021-07-12 19:32:32,522 - INFO: lr: 0.01091 | Epoch: 039 | Batch: 000 | Loss: 0.31024 | Correct: 115/128\n"
          ],
          "name": "stderr"
        },
        {
          "output_type": "stream",
          "text": [
            "None\n"
          ],
          "name": "stdout"
        },
        {
          "output_type": "stream",
          "text": [
            "2021-07-12 19:32:34,746 - INFO: lr: 0.00495 | Epoch: 040 | Batch: 000 | Loss: 0.26622 | Correct: 117/128\n"
          ],
          "name": "stderr"
        },
        {
          "output_type": "stream",
          "text": [
            "None\n"
          ],
          "name": "stdout"
        },
        {
          "output_type": "stream",
          "text": [
            "2021-07-12 19:32:36,828 - INFO: lr: 0.00125 | Epoch: 041 | Batch: 000 | Loss: 0.22930 | Correct: 121/128\n"
          ],
          "name": "stderr"
        },
        {
          "output_type": "stream",
          "text": [
            "None\n"
          ],
          "name": "stdout"
        },
        {
          "output_type": "stream",
          "text": [
            "2021-07-12 19:32:38,719 - INFO: Save the snapshot model with index: 2\n",
            "2021-07-12 19:32:39,547 - INFO: n_estimators: 3 | Validation Acc: 82.254 % | Historical Best: 82.254 %\n",
            "2021-07-12 19:32:39,959 - INFO: lr: 0.10000 | Epoch: 042 | Batch: 000 | Loss: 0.22365 | Correct: 120/128\n"
          ],
          "name": "stderr"
        },
        {
          "output_type": "stream",
          "text": [
            "None\n"
          ],
          "name": "stdout"
        },
        {
          "output_type": "stream",
          "text": [
            "2021-07-12 19:32:42,052 - INFO: lr: 0.09875 | Epoch: 043 | Batch: 000 | Loss: 0.50774 | Correct: 107/128\n"
          ],
          "name": "stderr"
        },
        {
          "output_type": "stream",
          "text": [
            "None\n"
          ],
          "name": "stdout"
        },
        {
          "output_type": "stream",
          "text": [
            "2021-07-12 19:32:44,215 - INFO: lr: 0.09505 | Epoch: 044 | Batch: 000 | Loss: 0.37040 | Correct: 113/128\n"
          ],
          "name": "stderr"
        },
        {
          "output_type": "stream",
          "text": [
            "None\n"
          ],
          "name": "stdout"
        },
        {
          "output_type": "stream",
          "text": [
            "2021-07-12 19:32:46,401 - INFO: lr: 0.08909 | Epoch: 045 | Batch: 000 | Loss: 0.55599 | Correct: 96/128\n"
          ],
          "name": "stderr"
        },
        {
          "output_type": "stream",
          "text": [
            "None\n"
          ],
          "name": "stdout"
        },
        {
          "output_type": "stream",
          "text": [
            "2021-07-12 19:32:48,502 - INFO: lr: 0.08117 | Epoch: 046 | Batch: 000 | Loss: 0.41187 | Correct: 110/128\n"
          ],
          "name": "stderr"
        },
        {
          "output_type": "stream",
          "text": [
            "None\n"
          ],
          "name": "stdout"
        },
        {
          "output_type": "stream",
          "text": [
            "2021-07-12 19:32:50,725 - INFO: lr: 0.07169 | Epoch: 047 | Batch: 000 | Loss: 0.39655 | Correct: 111/128\n"
          ],
          "name": "stderr"
        },
        {
          "output_type": "stream",
          "text": [
            "None\n"
          ],
          "name": "stdout"
        },
        {
          "output_type": "stream",
          "text": [
            "2021-07-12 19:32:52,875 - INFO: lr: 0.06113 | Epoch: 048 | Batch: 000 | Loss: 0.24165 | Correct: 116/128\n"
          ],
          "name": "stderr"
        },
        {
          "output_type": "stream",
          "text": [
            "None\n"
          ],
          "name": "stdout"
        },
        {
          "output_type": "stream",
          "text": [
            "2021-07-12 19:32:54,963 - INFO: lr: 0.05000 | Epoch: 049 | Batch: 000 | Loss: 0.19866 | Correct: 121/128\n"
          ],
          "name": "stderr"
        },
        {
          "output_type": "stream",
          "text": [
            "None\n"
          ],
          "name": "stdout"
        },
        {
          "output_type": "stream",
          "text": [
            "2021-07-12 19:32:57,219 - INFO: lr: 0.03887 | Epoch: 050 | Batch: 000 | Loss: 0.20812 | Correct: 121/128\n"
          ],
          "name": "stderr"
        },
        {
          "output_type": "stream",
          "text": [
            "None\n"
          ],
          "name": "stdout"
        },
        {
          "output_type": "stream",
          "text": [
            "2021-07-12 19:32:59,304 - INFO: lr: 0.02831 | Epoch: 051 | Batch: 000 | Loss: 0.20129 | Correct: 117/128\n"
          ],
          "name": "stderr"
        },
        {
          "output_type": "stream",
          "text": [
            "None\n"
          ],
          "name": "stdout"
        },
        {
          "output_type": "stream",
          "text": [
            "2021-07-12 19:33:01,488 - INFO: lr: 0.01883 | Epoch: 052 | Batch: 000 | Loss: 0.18129 | Correct: 121/128\n"
          ],
          "name": "stderr"
        },
        {
          "output_type": "stream",
          "text": [
            "None\n"
          ],
          "name": "stdout"
        },
        {
          "output_type": "stream",
          "text": [
            "2021-07-12 19:33:03,659 - INFO: lr: 0.01091 | Epoch: 053 | Batch: 000 | Loss: 0.11036 | Correct: 124/128\n"
          ],
          "name": "stderr"
        },
        {
          "output_type": "stream",
          "text": [
            "None\n"
          ],
          "name": "stdout"
        },
        {
          "output_type": "stream",
          "text": [
            "2021-07-12 19:33:06,329 - INFO: lr: 0.00495 | Epoch: 054 | Batch: 000 | Loss: 0.13136 | Correct: 124/128\n"
          ],
          "name": "stderr"
        },
        {
          "output_type": "stream",
          "text": [
            "None\n"
          ],
          "name": "stdout"
        },
        {
          "output_type": "stream",
          "text": [
            "2021-07-12 19:33:08,570 - INFO: lr: 0.00125 | Epoch: 055 | Batch: 000 | Loss: 0.16863 | Correct: 122/128\n"
          ],
          "name": "stderr"
        },
        {
          "output_type": "stream",
          "text": [
            "None\n"
          ],
          "name": "stdout"
        },
        {
          "output_type": "stream",
          "text": [
            "2021-07-12 19:33:10,409 - INFO: Save the snapshot model with index: 3\n",
            "2021-07-12 19:33:11,318 - INFO: n_estimators: 4 | Validation Acc: 85.714 % | Historical Best: 85.714 %\n",
            "2021-07-12 19:33:11,741 - INFO: lr: 0.10000 | Epoch: 056 | Batch: 000 | Loss: 0.08009 | Correct: 125/128\n"
          ],
          "name": "stderr"
        },
        {
          "output_type": "stream",
          "text": [
            "None\n"
          ],
          "name": "stdout"
        },
        {
          "output_type": "stream",
          "text": [
            "2021-07-12 19:33:13,892 - INFO: lr: 0.09875 | Epoch: 057 | Batch: 000 | Loss: 0.48570 | Correct: 104/128\n"
          ],
          "name": "stderr"
        },
        {
          "output_type": "stream",
          "text": [
            "None\n"
          ],
          "name": "stdout"
        },
        {
          "output_type": "stream",
          "text": [
            "2021-07-12 19:33:16,006 - INFO: lr: 0.09505 | Epoch: 058 | Batch: 000 | Loss: 0.34509 | Correct: 109/128\n"
          ],
          "name": "stderr"
        },
        {
          "output_type": "stream",
          "text": [
            "None\n"
          ],
          "name": "stdout"
        },
        {
          "output_type": "stream",
          "text": [
            "2021-07-12 19:33:18,182 - INFO: lr: 0.08909 | Epoch: 059 | Batch: 000 | Loss: 0.17988 | Correct: 122/128\n"
          ],
          "name": "stderr"
        },
        {
          "output_type": "stream",
          "text": [
            "None\n"
          ],
          "name": "stdout"
        },
        {
          "output_type": "stream",
          "text": [
            "2021-07-12 19:33:20,371 - INFO: lr: 0.08117 | Epoch: 060 | Batch: 000 | Loss: 0.18804 | Correct: 118/128\n"
          ],
          "name": "stderr"
        },
        {
          "output_type": "stream",
          "text": [
            "None\n"
          ],
          "name": "stdout"
        },
        {
          "output_type": "stream",
          "text": [
            "2021-07-12 19:33:22,607 - INFO: lr: 0.07169 | Epoch: 061 | Batch: 000 | Loss: 0.23546 | Correct: 119/128\n"
          ],
          "name": "stderr"
        },
        {
          "output_type": "stream",
          "text": [
            "None\n"
          ],
          "name": "stdout"
        },
        {
          "output_type": "stream",
          "text": [
            "2021-07-12 19:33:24,709 - INFO: lr: 0.06113 | Epoch: 062 | Batch: 000 | Loss: 0.17277 | Correct: 120/128\n"
          ],
          "name": "stderr"
        },
        {
          "output_type": "stream",
          "text": [
            "None\n"
          ],
          "name": "stdout"
        },
        {
          "output_type": "stream",
          "text": [
            "2021-07-12 19:33:26,891 - INFO: lr: 0.05000 | Epoch: 063 | Batch: 000 | Loss: 0.08711 | Correct: 125/128\n"
          ],
          "name": "stderr"
        },
        {
          "output_type": "stream",
          "text": [
            "None\n"
          ],
          "name": "stdout"
        },
        {
          "output_type": "stream",
          "text": [
            "2021-07-12 19:33:29,007 - INFO: lr: 0.03887 | Epoch: 064 | Batch: 000 | Loss: 0.10735 | Correct: 125/128\n"
          ],
          "name": "stderr"
        },
        {
          "output_type": "stream",
          "text": [
            "None\n"
          ],
          "name": "stdout"
        },
        {
          "output_type": "stream",
          "text": [
            "2021-07-12 19:33:31,241 - INFO: lr: 0.02831 | Epoch: 065 | Batch: 000 | Loss: 0.09142 | Correct: 126/128\n"
          ],
          "name": "stderr"
        },
        {
          "output_type": "stream",
          "text": [
            "None\n"
          ],
          "name": "stdout"
        },
        {
          "output_type": "stream",
          "text": [
            "2021-07-12 19:33:33,406 - INFO: lr: 0.01883 | Epoch: 066 | Batch: 000 | Loss: 0.07166 | Correct: 125/128\n"
          ],
          "name": "stderr"
        },
        {
          "output_type": "stream",
          "text": [
            "None\n"
          ],
          "name": "stdout"
        },
        {
          "output_type": "stream",
          "text": [
            "2021-07-12 19:33:35,536 - INFO: lr: 0.01091 | Epoch: 067 | Batch: 000 | Loss: 0.08793 | Correct: 124/128\n"
          ],
          "name": "stderr"
        },
        {
          "output_type": "stream",
          "text": [
            "None\n"
          ],
          "name": "stdout"
        },
        {
          "output_type": "stream",
          "text": [
            "2021-07-12 19:33:37,745 - INFO: lr: 0.00495 | Epoch: 068 | Batch: 000 | Loss: 0.06052 | Correct: 124/128\n"
          ],
          "name": "stderr"
        },
        {
          "output_type": "stream",
          "text": [
            "None\n"
          ],
          "name": "stdout"
        },
        {
          "output_type": "stream",
          "text": [
            "2021-07-12 19:33:39,935 - INFO: lr: 0.00125 | Epoch: 069 | Batch: 000 | Loss: 0.06297 | Correct: 126/128\n"
          ],
          "name": "stderr"
        },
        {
          "output_type": "stream",
          "text": [
            "None\n"
          ],
          "name": "stdout"
        },
        {
          "output_type": "stream",
          "text": [
            "2021-07-12 19:33:41,739 - INFO: Save the snapshot model with index: 4\n",
            "2021-07-12 19:33:42,783 - INFO: n_estimators: 5 | Validation Acc: 84.933 % | Historical Best: 85.714 %\n"
          ],
          "name": "stderr"
        },
        {
          "output_type": "stream",
          "text": [
            "Group 1 Finished!\n",
            "Target number of exemplars: 200\n",
            "Randomly extracting exemplars from class 0 of current split... Extracted 200 exemplars.\n",
            "Randomly extracting exemplars from class 1 of current split... Extracted 200 exemplars.\n",
            "Randomly extracting exemplars from class 2 of current split... Extracted 200 exemplars.\n",
            "Randomly extracting exemplars from class 3 of current split... Extracted 200 exemplars.\n",
            "Randomly extracting exemplars from class 4 of current split... Extracted 200 exemplars.\n",
            "Randomly extracting exemplars from class 5 of current split... Extracted 200 exemplars.\n",
            "Randomly extracting exemplars from class 6 of current split... Extracted 200 exemplars.\n",
            "Randomly extracting exemplars from class 7 of current split... Extracted 200 exemplars.\n",
            "Randomly extracting exemplars from class 8 of current split... Extracted 200 exemplars.\n",
            "Randomly extracting exemplars from class 9 of current split... Extracted 200 exemplars.\n",
            "[0.25892857142857145, 0.6071428571428571, 0.9129464285714286],[0.6919642857142857, 0.38169642857142855, 0.08705357142857142]\n",
            "Testing on both open and closed world\n",
            "owr harmonic mean (threshold:0.5) = 0.3768443997317237\n",
            "owr harmonic mean (threshold:0.75) = 0.4687197678168333\n",
            "owr harmonic mean (threshold:0.95) = 0.15895049426020408\n",
            "\n",
            "=============================================\n",
            "\n",
            "Length of exemplars set: 2000\n"
          ],
          "name": "stdout"
        },
        {
          "output_type": "stream",
          "text": [
            "2021-07-12 19:33:47,623 - INFO: lr: 0.10000 | Epoch: 000 | Batch: 000 | Loss: 4.09423 | Correct: 10/128\n"
          ],
          "name": "stderr"
        },
        {
          "output_type": "stream",
          "text": [
            "None\n"
          ],
          "name": "stdout"
        },
        {
          "output_type": "stream",
          "text": [
            "2021-07-12 19:34:02,768 - INFO: lr: 0.09875 | Epoch: 001 | Batch: 000 | Loss: 2.67805 | Correct: 31/128\n"
          ],
          "name": "stderr"
        },
        {
          "output_type": "stream",
          "text": [
            "None\n"
          ],
          "name": "stdout"
        },
        {
          "output_type": "stream",
          "text": [
            "2021-07-12 19:34:18,029 - INFO: lr: 0.09505 | Epoch: 002 | Batch: 000 | Loss: 2.24297 | Correct: 31/128\n"
          ],
          "name": "stderr"
        },
        {
          "output_type": "stream",
          "text": [
            "None\n"
          ],
          "name": "stdout"
        },
        {
          "output_type": "stream",
          "text": [
            "2021-07-12 19:34:33,290 - INFO: lr: 0.08909 | Epoch: 003 | Batch: 000 | Loss: 2.35924 | Correct: 31/128\n"
          ],
          "name": "stderr"
        },
        {
          "output_type": "stream",
          "text": [
            "None\n"
          ],
          "name": "stdout"
        },
        {
          "output_type": "stream",
          "text": [
            "2021-07-12 19:34:48,477 - INFO: lr: 0.08117 | Epoch: 004 | Batch: 000 | Loss: 1.95678 | Correct: 50/128\n"
          ],
          "name": "stderr"
        },
        {
          "output_type": "stream",
          "text": [
            "None\n"
          ],
          "name": "stdout"
        },
        {
          "output_type": "stream",
          "text": [
            "2021-07-12 19:35:03,656 - INFO: lr: 0.07169 | Epoch: 005 | Batch: 000 | Loss: 1.80667 | Correct: 59/128\n"
          ],
          "name": "stderr"
        },
        {
          "output_type": "stream",
          "text": [
            "None\n"
          ],
          "name": "stdout"
        },
        {
          "output_type": "stream",
          "text": [
            "2021-07-12 19:35:18,852 - INFO: lr: 0.06113 | Epoch: 006 | Batch: 000 | Loss: 1.77981 | Correct: 52/128\n"
          ],
          "name": "stderr"
        },
        {
          "output_type": "stream",
          "text": [
            "None\n"
          ],
          "name": "stdout"
        },
        {
          "output_type": "stream",
          "text": [
            "2021-07-12 19:35:34,045 - INFO: lr: 0.05000 | Epoch: 007 | Batch: 000 | Loss: 1.48118 | Correct: 72/128\n"
          ],
          "name": "stderr"
        },
        {
          "output_type": "stream",
          "text": [
            "None\n"
          ],
          "name": "stdout"
        },
        {
          "output_type": "stream",
          "text": [
            "2021-07-12 19:35:49,308 - INFO: lr: 0.03887 | Epoch: 008 | Batch: 000 | Loss: 1.41359 | Correct: 71/128\n"
          ],
          "name": "stderr"
        },
        {
          "output_type": "stream",
          "text": [
            "None\n"
          ],
          "name": "stdout"
        },
        {
          "output_type": "stream",
          "text": [
            "2021-07-12 19:36:04,496 - INFO: lr: 0.02831 | Epoch: 009 | Batch: 000 | Loss: 1.38923 | Correct: 67/128\n"
          ],
          "name": "stderr"
        },
        {
          "output_type": "stream",
          "text": [
            "None\n"
          ],
          "name": "stdout"
        },
        {
          "output_type": "stream",
          "text": [
            "2021-07-12 19:36:19,702 - INFO: lr: 0.01883 | Epoch: 010 | Batch: 000 | Loss: 1.44025 | Correct: 71/128\n"
          ],
          "name": "stderr"
        },
        {
          "output_type": "stream",
          "text": [
            "None\n"
          ],
          "name": "stdout"
        },
        {
          "output_type": "stream",
          "text": [
            "2021-07-12 19:36:34,962 - INFO: lr: 0.01091 | Epoch: 011 | Batch: 000 | Loss: 1.35485 | Correct: 70/128\n"
          ],
          "name": "stderr"
        },
        {
          "output_type": "stream",
          "text": [
            "None\n"
          ],
          "name": "stdout"
        },
        {
          "output_type": "stream",
          "text": [
            "2021-07-12 19:36:50,178 - INFO: lr: 0.00495 | Epoch: 012 | Batch: 000 | Loss: 1.13597 | Correct: 79/128\n"
          ],
          "name": "stderr"
        },
        {
          "output_type": "stream",
          "text": [
            "None\n"
          ],
          "name": "stdout"
        },
        {
          "output_type": "stream",
          "text": [
            "2021-07-12 19:37:05,432 - INFO: lr: 0.00125 | Epoch: 013 | Batch: 000 | Loss: 1.24710 | Correct: 77/128\n"
          ],
          "name": "stderr"
        },
        {
          "output_type": "stream",
          "text": [
            "None\n"
          ],
          "name": "stdout"
        },
        {
          "output_type": "stream",
          "text": [
            "2021-07-12 19:37:19,943 - INFO: Save the snapshot model with index: 0\n",
            "2021-07-12 19:37:20,576 - INFO: n_estimators: 1 | Validation Acc: 66.071 % | Historical Best: 66.071 %\n",
            "2021-07-12 19:37:21,264 - INFO: lr: 0.10000 | Epoch: 014 | Batch: 000 | Loss: 1.01906 | Correct: 83/128\n"
          ],
          "name": "stderr"
        },
        {
          "output_type": "stream",
          "text": [
            "None\n"
          ],
          "name": "stdout"
        },
        {
          "output_type": "stream",
          "text": [
            "2021-07-12 19:37:36,493 - INFO: lr: 0.09875 | Epoch: 015 | Batch: 000 | Loss: 1.61197 | Correct: 63/128\n"
          ],
          "name": "stderr"
        },
        {
          "output_type": "stream",
          "text": [
            "None\n"
          ],
          "name": "stdout"
        },
        {
          "output_type": "stream",
          "text": [
            "2021-07-12 19:37:51,718 - INFO: lr: 0.09505 | Epoch: 016 | Batch: 000 | Loss: 1.24411 | Correct: 78/128\n"
          ],
          "name": "stderr"
        },
        {
          "output_type": "stream",
          "text": [
            "None\n"
          ],
          "name": "stdout"
        },
        {
          "output_type": "stream",
          "text": [
            "2021-07-12 19:38:06,945 - INFO: lr: 0.08909 | Epoch: 017 | Batch: 000 | Loss: 1.50868 | Correct: 68/128\n"
          ],
          "name": "stderr"
        },
        {
          "output_type": "stream",
          "text": [
            "None\n"
          ],
          "name": "stdout"
        },
        {
          "output_type": "stream",
          "text": [
            "2021-07-12 19:38:22,189 - INFO: lr: 0.08117 | Epoch: 018 | Batch: 000 | Loss: 1.45452 | Correct: 68/128\n"
          ],
          "name": "stderr"
        },
        {
          "output_type": "stream",
          "text": [
            "None\n"
          ],
          "name": "stdout"
        },
        {
          "output_type": "stream",
          "text": [
            "2021-07-12 19:38:37,421 - INFO: lr: 0.07169 | Epoch: 019 | Batch: 000 | Loss: 1.08899 | Correct: 83/128\n"
          ],
          "name": "stderr"
        },
        {
          "output_type": "stream",
          "text": [
            "None\n"
          ],
          "name": "stdout"
        },
        {
          "output_type": "stream",
          "text": [
            "2021-07-12 19:38:52,577 - INFO: lr: 0.06113 | Epoch: 020 | Batch: 000 | Loss: 1.21865 | Correct: 80/128\n"
          ],
          "name": "stderr"
        },
        {
          "output_type": "stream",
          "text": [
            "None\n"
          ],
          "name": "stdout"
        },
        {
          "output_type": "stream",
          "text": [
            "2021-07-12 19:39:07,833 - INFO: lr: 0.05000 | Epoch: 021 | Batch: 000 | Loss: 0.98300 | Correct: 83/128\n"
          ],
          "name": "stderr"
        },
        {
          "output_type": "stream",
          "text": [
            "None\n"
          ],
          "name": "stdout"
        },
        {
          "output_type": "stream",
          "text": [
            "2021-07-12 19:39:23,046 - INFO: lr: 0.03887 | Epoch: 022 | Batch: 000 | Loss: 0.91354 | Correct: 95/128\n"
          ],
          "name": "stderr"
        },
        {
          "output_type": "stream",
          "text": [
            "None\n"
          ],
          "name": "stdout"
        },
        {
          "output_type": "stream",
          "text": [
            "2021-07-12 19:39:38,257 - INFO: lr: 0.02831 | Epoch: 023 | Batch: 000 | Loss: 1.02986 | Correct: 83/128\n"
          ],
          "name": "stderr"
        },
        {
          "output_type": "stream",
          "text": [
            "None\n"
          ],
          "name": "stdout"
        },
        {
          "output_type": "stream",
          "text": [
            "2021-07-12 19:39:53,450 - INFO: lr: 0.01883 | Epoch: 024 | Batch: 000 | Loss: 0.77252 | Correct: 97/128\n"
          ],
          "name": "stderr"
        },
        {
          "output_type": "stream",
          "text": [
            "None\n"
          ],
          "name": "stdout"
        },
        {
          "output_type": "stream",
          "text": [
            "2021-07-12 19:40:08,671 - INFO: lr: 0.01091 | Epoch: 025 | Batch: 000 | Loss: 0.75603 | Correct: 105/128\n"
          ],
          "name": "stderr"
        },
        {
          "output_type": "stream",
          "text": [
            "None\n"
          ],
          "name": "stdout"
        },
        {
          "output_type": "stream",
          "text": [
            "2021-07-12 19:40:23,887 - INFO: lr: 0.00495 | Epoch: 026 | Batch: 000 | Loss: 0.71182 | Correct: 102/128\n"
          ],
          "name": "stderr"
        },
        {
          "output_type": "stream",
          "text": [
            "None\n"
          ],
          "name": "stdout"
        },
        {
          "output_type": "stream",
          "text": [
            "2021-07-12 19:40:39,071 - INFO: lr: 0.00125 | Epoch: 027 | Batch: 000 | Loss: 0.58418 | Correct: 108/128\n"
          ],
          "name": "stderr"
        },
        {
          "output_type": "stream",
          "text": [
            "None\n"
          ],
          "name": "stdout"
        },
        {
          "output_type": "stream",
          "text": [
            "2021-07-12 19:40:53,590 - INFO: Save the snapshot model with index: 1\n",
            "2021-07-12 19:40:54,327 - INFO: n_estimators: 2 | Validation Acc: 72.879 % | Historical Best: 72.879 %\n",
            "2021-07-12 19:40:55,051 - INFO: lr: 0.10000 | Epoch: 028 | Batch: 000 | Loss: 0.75956 | Correct: 93/128\n"
          ],
          "name": "stderr"
        },
        {
          "output_type": "stream",
          "text": [
            "None\n"
          ],
          "name": "stdout"
        },
        {
          "output_type": "stream",
          "text": [
            "2021-07-12 19:41:10,265 - INFO: lr: 0.09875 | Epoch: 029 | Batch: 000 | Loss: 1.32547 | Correct: 79/128\n"
          ],
          "name": "stderr"
        },
        {
          "output_type": "stream",
          "text": [
            "None\n"
          ],
          "name": "stdout"
        },
        {
          "output_type": "stream",
          "text": [
            "2021-07-12 19:41:25,517 - INFO: lr: 0.09505 | Epoch: 030 | Batch: 000 | Loss: 0.78970 | Correct: 93/128\n"
          ],
          "name": "stderr"
        },
        {
          "output_type": "stream",
          "text": [
            "None\n"
          ],
          "name": "stdout"
        },
        {
          "output_type": "stream",
          "text": [
            "2021-07-12 19:41:40,763 - INFO: lr: 0.08909 | Epoch: 031 | Batch: 000 | Loss: 0.91142 | Correct: 83/128\n"
          ],
          "name": "stderr"
        },
        {
          "output_type": "stream",
          "text": [
            "None\n"
          ],
          "name": "stdout"
        },
        {
          "output_type": "stream",
          "text": [
            "2021-07-12 19:41:56,026 - INFO: lr: 0.08117 | Epoch: 032 | Batch: 000 | Loss: 0.84511 | Correct: 88/128\n"
          ],
          "name": "stderr"
        },
        {
          "output_type": "stream",
          "text": [
            "None\n"
          ],
          "name": "stdout"
        },
        {
          "output_type": "stream",
          "text": [
            "2021-07-12 19:42:11,245 - INFO: lr: 0.07169 | Epoch: 033 | Batch: 000 | Loss: 0.61022 | Correct: 102/128\n"
          ],
          "name": "stderr"
        },
        {
          "output_type": "stream",
          "text": [
            "None\n"
          ],
          "name": "stdout"
        },
        {
          "output_type": "stream",
          "text": [
            "2021-07-12 19:42:26,486 - INFO: lr: 0.06113 | Epoch: 034 | Batch: 000 | Loss: 0.57897 | Correct: 105/128\n"
          ],
          "name": "stderr"
        },
        {
          "output_type": "stream",
          "text": [
            "None\n"
          ],
          "name": "stdout"
        },
        {
          "output_type": "stream",
          "text": [
            "2021-07-12 19:42:41,697 - INFO: lr: 0.05000 | Epoch: 035 | Batch: 000 | Loss: 0.70382 | Correct: 99/128\n"
          ],
          "name": "stderr"
        },
        {
          "output_type": "stream",
          "text": [
            "None\n"
          ],
          "name": "stdout"
        },
        {
          "output_type": "stream",
          "text": [
            "2021-07-12 19:42:56,862 - INFO: lr: 0.03887 | Epoch: 036 | Batch: 000 | Loss: 0.57490 | Correct: 100/128\n"
          ],
          "name": "stderr"
        },
        {
          "output_type": "stream",
          "text": [
            "None\n"
          ],
          "name": "stdout"
        },
        {
          "output_type": "stream",
          "text": [
            "2021-07-12 19:43:12,074 - INFO: lr: 0.02831 | Epoch: 037 | Batch: 000 | Loss: 0.44634 | Correct: 114/128\n"
          ],
          "name": "stderr"
        },
        {
          "output_type": "stream",
          "text": [
            "None\n"
          ],
          "name": "stdout"
        },
        {
          "output_type": "stream",
          "text": [
            "2021-07-12 19:43:27,265 - INFO: lr: 0.01883 | Epoch: 038 | Batch: 000 | Loss: 0.40003 | Correct: 111/128\n"
          ],
          "name": "stderr"
        },
        {
          "output_type": "stream",
          "text": [
            "None\n"
          ],
          "name": "stdout"
        },
        {
          "output_type": "stream",
          "text": [
            "2021-07-12 19:43:42,477 - INFO: lr: 0.01091 | Epoch: 039 | Batch: 000 | Loss: 0.32044 | Correct: 117/128\n"
          ],
          "name": "stderr"
        },
        {
          "output_type": "stream",
          "text": [
            "None\n"
          ],
          "name": "stdout"
        },
        {
          "output_type": "stream",
          "text": [
            "2021-07-12 19:43:57,716 - INFO: lr: 0.00495 | Epoch: 040 | Batch: 000 | Loss: 0.45565 | Correct: 109/128\n"
          ],
          "name": "stderr"
        },
        {
          "output_type": "stream",
          "text": [
            "None\n"
          ],
          "name": "stdout"
        },
        {
          "output_type": "stream",
          "text": [
            "2021-07-12 19:44:12,960 - INFO: lr: 0.00125 | Epoch: 041 | Batch: 000 | Loss: 0.49999 | Correct: 106/128\n"
          ],
          "name": "stderr"
        },
        {
          "output_type": "stream",
          "text": [
            "None\n"
          ],
          "name": "stdout"
        },
        {
          "output_type": "stream",
          "text": [
            "2021-07-12 19:44:27,496 - INFO: Save the snapshot model with index: 2\n",
            "2021-07-12 19:44:28,303 - INFO: n_estimators: 3 | Validation Acc: 76.228 % | Historical Best: 76.228 %\n",
            "2021-07-12 19:44:29,075 - INFO: lr: 0.10000 | Epoch: 042 | Batch: 000 | Loss: 0.36858 | Correct: 113/128\n"
          ],
          "name": "stderr"
        },
        {
          "output_type": "stream",
          "text": [
            "None\n"
          ],
          "name": "stdout"
        },
        {
          "output_type": "stream",
          "text": [
            "2021-07-12 19:44:44,343 - INFO: lr: 0.09875 | Epoch: 043 | Batch: 000 | Loss: 0.84342 | Correct: 90/128\n"
          ],
          "name": "stderr"
        },
        {
          "output_type": "stream",
          "text": [
            "None\n"
          ],
          "name": "stdout"
        },
        {
          "output_type": "stream",
          "text": [
            "2021-07-12 19:44:59,484 - INFO: lr: 0.09505 | Epoch: 044 | Batch: 000 | Loss: 0.68552 | Correct: 101/128\n"
          ],
          "name": "stderr"
        },
        {
          "output_type": "stream",
          "text": [
            "None\n"
          ],
          "name": "stdout"
        },
        {
          "output_type": "stream",
          "text": [
            "2021-07-12 19:45:14,685 - INFO: lr: 0.08909 | Epoch: 045 | Batch: 000 | Loss: 0.72672 | Correct: 99/128\n"
          ],
          "name": "stderr"
        },
        {
          "output_type": "stream",
          "text": [
            "None\n"
          ],
          "name": "stdout"
        },
        {
          "output_type": "stream",
          "text": [
            "2021-07-12 19:45:29,934 - INFO: lr: 0.08117 | Epoch: 046 | Batch: 000 | Loss: 0.37611 | Correct: 112/128\n"
          ],
          "name": "stderr"
        },
        {
          "output_type": "stream",
          "text": [
            "None\n"
          ],
          "name": "stdout"
        },
        {
          "output_type": "stream",
          "text": [
            "2021-07-12 19:45:45,152 - INFO: lr: 0.07169 | Epoch: 047 | Batch: 000 | Loss: 0.62521 | Correct: 98/128\n"
          ],
          "name": "stderr"
        },
        {
          "output_type": "stream",
          "text": [
            "None\n"
          ],
          "name": "stdout"
        },
        {
          "output_type": "stream",
          "text": [
            "2021-07-12 19:46:00,348 - INFO: lr: 0.06113 | Epoch: 048 | Batch: 000 | Loss: 0.49603 | Correct: 108/128\n"
          ],
          "name": "stderr"
        },
        {
          "output_type": "stream",
          "text": [
            "None\n"
          ],
          "name": "stdout"
        },
        {
          "output_type": "stream",
          "text": [
            "2021-07-12 19:46:15,567 - INFO: lr: 0.05000 | Epoch: 049 | Batch: 000 | Loss: 0.42494 | Correct: 112/128\n"
          ],
          "name": "stderr"
        },
        {
          "output_type": "stream",
          "text": [
            "None\n"
          ],
          "name": "stdout"
        },
        {
          "output_type": "stream",
          "text": [
            "2021-07-12 19:46:30,760 - INFO: lr: 0.03887 | Epoch: 050 | Batch: 000 | Loss: 0.36229 | Correct: 112/128\n"
          ],
          "name": "stderr"
        },
        {
          "output_type": "stream",
          "text": [
            "None\n"
          ],
          "name": "stdout"
        },
        {
          "output_type": "stream",
          "text": [
            "2021-07-12 19:46:45,989 - INFO: lr: 0.02831 | Epoch: 051 | Batch: 000 | Loss: 0.27701 | Correct: 118/128\n"
          ],
          "name": "stderr"
        },
        {
          "output_type": "stream",
          "text": [
            "None\n"
          ],
          "name": "stdout"
        },
        {
          "output_type": "stream",
          "text": [
            "2021-07-12 19:47:01,197 - INFO: lr: 0.01883 | Epoch: 052 | Batch: 000 | Loss: 0.19251 | Correct: 123/128\n"
          ],
          "name": "stderr"
        },
        {
          "output_type": "stream",
          "text": [
            "None\n"
          ],
          "name": "stdout"
        },
        {
          "output_type": "stream",
          "text": [
            "2021-07-12 19:47:16,435 - INFO: lr: 0.01091 | Epoch: 053 | Batch: 000 | Loss: 0.24938 | Correct: 117/128\n"
          ],
          "name": "stderr"
        },
        {
          "output_type": "stream",
          "text": [
            "None\n"
          ],
          "name": "stdout"
        },
        {
          "output_type": "stream",
          "text": [
            "2021-07-12 19:47:31,710 - INFO: lr: 0.00495 | Epoch: 054 | Batch: 000 | Loss: 0.22251 | Correct: 120/128\n"
          ],
          "name": "stderr"
        },
        {
          "output_type": "stream",
          "text": [
            "None\n"
          ],
          "name": "stdout"
        },
        {
          "output_type": "stream",
          "text": [
            "2021-07-12 19:47:46,934 - INFO: lr: 0.00125 | Epoch: 055 | Batch: 000 | Loss: 0.28127 | Correct: 117/128\n"
          ],
          "name": "stderr"
        },
        {
          "output_type": "stream",
          "text": [
            "None\n"
          ],
          "name": "stdout"
        },
        {
          "output_type": "stream",
          "text": [
            "2021-07-12 19:48:01,466 - INFO: Save the snapshot model with index: 3\n",
            "2021-07-12 19:48:02,439 - INFO: n_estimators: 4 | Validation Acc: 78.683 % | Historical Best: 78.683 %\n",
            "2021-07-12 19:48:03,126 - INFO: lr: 0.10000 | Epoch: 056 | Batch: 000 | Loss: 0.28030 | Correct: 117/128\n"
          ],
          "name": "stderr"
        },
        {
          "output_type": "stream",
          "text": [
            "None\n"
          ],
          "name": "stdout"
        },
        {
          "output_type": "stream",
          "text": [
            "2021-07-12 19:48:18,313 - INFO: lr: 0.09875 | Epoch: 057 | Batch: 000 | Loss: 0.78665 | Correct: 100/128\n"
          ],
          "name": "stderr"
        },
        {
          "output_type": "stream",
          "text": [
            "None\n"
          ],
          "name": "stdout"
        },
        {
          "output_type": "stream",
          "text": [
            "2021-07-12 19:48:33,528 - INFO: lr: 0.09505 | Epoch: 058 | Batch: 000 | Loss: 0.68684 | Correct: 100/128\n"
          ],
          "name": "stderr"
        },
        {
          "output_type": "stream",
          "text": [
            "None\n"
          ],
          "name": "stdout"
        },
        {
          "output_type": "stream",
          "text": [
            "2021-07-12 19:48:48,793 - INFO: lr: 0.08909 | Epoch: 059 | Batch: 000 | Loss: 0.49046 | Correct: 106/128\n"
          ],
          "name": "stderr"
        },
        {
          "output_type": "stream",
          "text": [
            "None\n"
          ],
          "name": "stdout"
        },
        {
          "output_type": "stream",
          "text": [
            "2021-07-12 19:49:04,023 - INFO: lr: 0.08117 | Epoch: 060 | Batch: 000 | Loss: 0.51371 | Correct: 104/128\n"
          ],
          "name": "stderr"
        },
        {
          "output_type": "stream",
          "text": [
            "None\n"
          ],
          "name": "stdout"
        },
        {
          "output_type": "stream",
          "text": [
            "2021-07-12 19:49:19,263 - INFO: lr: 0.07169 | Epoch: 061 | Batch: 000 | Loss: 0.36971 | Correct: 110/128\n"
          ],
          "name": "stderr"
        },
        {
          "output_type": "stream",
          "text": [
            "None\n"
          ],
          "name": "stdout"
        },
        {
          "output_type": "stream",
          "text": [
            "2021-07-12 19:49:34,509 - INFO: lr: 0.06113 | Epoch: 062 | Batch: 000 | Loss: 0.38947 | Correct: 110/128\n"
          ],
          "name": "stderr"
        },
        {
          "output_type": "stream",
          "text": [
            "None\n"
          ],
          "name": "stdout"
        },
        {
          "output_type": "stream",
          "text": [
            "2021-07-12 19:49:49,761 - INFO: lr: 0.05000 | Epoch: 063 | Batch: 000 | Loss: 0.26915 | Correct: 115/128\n"
          ],
          "name": "stderr"
        },
        {
          "output_type": "stream",
          "text": [
            "None\n"
          ],
          "name": "stdout"
        },
        {
          "output_type": "stream",
          "text": [
            "2021-07-12 19:50:05,011 - INFO: lr: 0.03887 | Epoch: 064 | Batch: 000 | Loss: 0.19064 | Correct: 121/128\n"
          ],
          "name": "stderr"
        },
        {
          "output_type": "stream",
          "text": [
            "None\n"
          ],
          "name": "stdout"
        },
        {
          "output_type": "stream",
          "text": [
            "2021-07-12 19:50:20,230 - INFO: lr: 0.02831 | Epoch: 065 | Batch: 000 | Loss: 0.18913 | Correct: 123/128\n"
          ],
          "name": "stderr"
        },
        {
          "output_type": "stream",
          "text": [
            "None\n"
          ],
          "name": "stdout"
        },
        {
          "output_type": "stream",
          "text": [
            "2021-07-12 19:50:35,459 - INFO: lr: 0.01883 | Epoch: 066 | Batch: 000 | Loss: 0.18089 | Correct: 121/128\n"
          ],
          "name": "stderr"
        },
        {
          "output_type": "stream",
          "text": [
            "None\n"
          ],
          "name": "stdout"
        },
        {
          "output_type": "stream",
          "text": [
            "2021-07-12 19:50:50,682 - INFO: lr: 0.01091 | Epoch: 067 | Batch: 000 | Loss: 0.20380 | Correct: 120/128\n"
          ],
          "name": "stderr"
        },
        {
          "output_type": "stream",
          "text": [
            "None\n"
          ],
          "name": "stdout"
        },
        {
          "output_type": "stream",
          "text": [
            "2021-07-12 19:51:05,939 - INFO: lr: 0.00495 | Epoch: 068 | Batch: 000 | Loss: 0.20355 | Correct: 120/128\n"
          ],
          "name": "stderr"
        },
        {
          "output_type": "stream",
          "text": [
            "None\n"
          ],
          "name": "stdout"
        },
        {
          "output_type": "stream",
          "text": [
            "2021-07-12 19:51:21,146 - INFO: lr: 0.00125 | Epoch: 069 | Batch: 000 | Loss: 0.15392 | Correct: 121/128\n"
          ],
          "name": "stderr"
        },
        {
          "output_type": "stream",
          "text": [
            "None\n"
          ],
          "name": "stdout"
        },
        {
          "output_type": "stream",
          "text": [
            "2021-07-12 19:51:35,679 - INFO: Save the snapshot model with index: 4\n",
            "2021-07-12 19:51:36,742 - INFO: n_estimators: 5 | Validation Acc: 78.571 % | Historical Best: 78.683 %\n"
          ],
          "name": "stderr"
        },
        {
          "output_type": "stream",
          "text": [
            "Group 2 Finished!\n",
            "Target number of exemplars: 100\n",
            "Randomly extracting exemplars from class 0 of current split... Extracted 100 exemplars.\n",
            "Randomly extracting exemplars from class 1 of current split... Extracted 100 exemplars.\n",
            "Randomly extracting exemplars from class 2 of current split... Extracted 100 exemplars.\n",
            "Randomly extracting exemplars from class 3 of current split... Extracted 100 exemplars.\n",
            "Randomly extracting exemplars from class 4 of current split... Extracted 100 exemplars.\n",
            "Randomly extracting exemplars from class 5 of current split... Extracted 100 exemplars.\n",
            "Randomly extracting exemplars from class 6 of current split... Extracted 100 exemplars.\n",
            "Randomly extracting exemplars from class 7 of current split... Extracted 100 exemplars.\n",
            "Randomly extracting exemplars from class 8 of current split... Extracted 100 exemplars.\n",
            "Randomly extracting exemplars from class 9 of current split... Extracted 100 exemplars.\n",
            "[0.35572916666666665, 0.6833333333333333, 0.8729166666666667],[0.5536458333333333, 0.30416666666666664, 0.1234375]\n",
            "Testing on both open and closed world\n",
            "owr harmonic mean (threshold:0.5) = 0.43315017659411986\n",
            "owr harmonic mean (threshold:0.75) = 0.4209563994374121\n",
            "owr harmonic mean (threshold:0.95) = 0.21628985886042865\n",
            "\n",
            "=============================================\n",
            "\n",
            "Length of exemplars set: 2000\n"
          ],
          "name": "stdout"
        },
        {
          "output_type": "stream",
          "text": [
            "2021-07-12 19:51:43,288 - INFO: lr: 0.10000 | Epoch: 000 | Batch: 000 | Loss: 4.88692 | Correct: 3/128\n"
          ],
          "name": "stderr"
        },
        {
          "output_type": "stream",
          "text": [
            "None\n"
          ],
          "name": "stdout"
        },
        {
          "output_type": "stream",
          "text": [
            "2021-07-12 19:51:58,863 - INFO: lr: 0.09875 | Epoch: 001 | Batch: 000 | Loss: 2.69957 | Correct: 29/128\n"
          ],
          "name": "stderr"
        },
        {
          "output_type": "stream",
          "text": [
            "None\n"
          ],
          "name": "stdout"
        },
        {
          "output_type": "stream",
          "text": [
            "2021-07-12 19:52:14,496 - INFO: lr: 0.09505 | Epoch: 002 | Batch: 000 | Loss: 2.54051 | Correct: 36/128\n"
          ],
          "name": "stderr"
        },
        {
          "output_type": "stream",
          "text": [
            "None\n"
          ],
          "name": "stdout"
        },
        {
          "output_type": "stream",
          "text": [
            "2021-07-12 19:52:30,098 - INFO: lr: 0.08909 | Epoch: 003 | Batch: 000 | Loss: 2.28835 | Correct: 42/128\n"
          ],
          "name": "stderr"
        },
        {
          "output_type": "stream",
          "text": [
            "None\n"
          ],
          "name": "stdout"
        },
        {
          "output_type": "stream",
          "text": [
            "2021-07-12 19:52:45,651 - INFO: lr: 0.08117 | Epoch: 004 | Batch: 000 | Loss: 2.16065 | Correct: 42/128\n"
          ],
          "name": "stderr"
        },
        {
          "output_type": "stream",
          "text": [
            "None\n"
          ],
          "name": "stdout"
        },
        {
          "output_type": "stream",
          "text": [
            "2021-07-12 19:53:01,226 - INFO: lr: 0.07169 | Epoch: 005 | Batch: 000 | Loss: 1.98498 | Correct: 51/128\n"
          ],
          "name": "stderr"
        },
        {
          "output_type": "stream",
          "text": [
            "None\n"
          ],
          "name": "stdout"
        },
        {
          "output_type": "stream",
          "text": [
            "2021-07-12 19:53:16,772 - INFO: lr: 0.06113 | Epoch: 006 | Batch: 000 | Loss: 2.03777 | Correct: 59/128\n"
          ],
          "name": "stderr"
        },
        {
          "output_type": "stream",
          "text": [
            "None\n"
          ],
          "name": "stdout"
        },
        {
          "output_type": "stream",
          "text": [
            "2021-07-12 19:53:32,288 - INFO: lr: 0.05000 | Epoch: 007 | Batch: 000 | Loss: 1.93212 | Correct: 53/128\n"
          ],
          "name": "stderr"
        },
        {
          "output_type": "stream",
          "text": [
            "None\n"
          ],
          "name": "stdout"
        },
        {
          "output_type": "stream",
          "text": [
            "2021-07-12 19:53:47,853 - INFO: lr: 0.03887 | Epoch: 008 | Batch: 000 | Loss: 1.70286 | Correct: 62/128\n"
          ],
          "name": "stderr"
        },
        {
          "output_type": "stream",
          "text": [
            "None\n"
          ],
          "name": "stdout"
        },
        {
          "output_type": "stream",
          "text": [
            "2021-07-12 19:54:03,446 - INFO: lr: 0.02831 | Epoch: 009 | Batch: 000 | Loss: 1.62296 | Correct: 70/128\n"
          ],
          "name": "stderr"
        },
        {
          "output_type": "stream",
          "text": [
            "None\n"
          ],
          "name": "stdout"
        },
        {
          "output_type": "stream",
          "text": [
            "2021-07-12 19:54:19,022 - INFO: lr: 0.01883 | Epoch: 010 | Batch: 000 | Loss: 1.50345 | Correct: 75/128\n"
          ],
          "name": "stderr"
        },
        {
          "output_type": "stream",
          "text": [
            "None\n"
          ],
          "name": "stdout"
        },
        {
          "output_type": "stream",
          "text": [
            "2021-07-12 19:54:34,624 - INFO: lr: 0.01091 | Epoch: 011 | Batch: 000 | Loss: 1.66642 | Correct: 71/128\n"
          ],
          "name": "stderr"
        },
        {
          "output_type": "stream",
          "text": [
            "None\n"
          ],
          "name": "stdout"
        },
        {
          "output_type": "stream",
          "text": [
            "2021-07-12 19:54:50,192 - INFO: lr: 0.00495 | Epoch: 012 | Batch: 000 | Loss: 1.53269 | Correct: 72/128\n"
          ],
          "name": "stderr"
        },
        {
          "output_type": "stream",
          "text": [
            "None\n"
          ],
          "name": "stdout"
        },
        {
          "output_type": "stream",
          "text": [
            "2021-07-12 19:55:05,743 - INFO: lr: 0.00125 | Epoch: 013 | Batch: 000 | Loss: 1.32404 | Correct: 77/128\n"
          ],
          "name": "stderr"
        },
        {
          "output_type": "stream",
          "text": [
            "None\n"
          ],
          "name": "stdout"
        },
        {
          "output_type": "stream",
          "text": [
            "2021-07-12 19:55:20,591 - INFO: Save the snapshot model with index: 0\n",
            "2021-07-12 19:55:21,224 - INFO: n_estimators: 1 | Validation Acc: 64.955 % | Historical Best: 64.955 %\n",
            "2021-07-12 19:55:21,965 - INFO: lr: 0.10000 | Epoch: 014 | Batch: 000 | Loss: 1.45511 | Correct: 74/128\n"
          ],
          "name": "stderr"
        },
        {
          "output_type": "stream",
          "text": [
            "None\n"
          ],
          "name": "stdout"
        },
        {
          "output_type": "stream",
          "text": [
            "2021-07-12 19:55:37,530 - INFO: lr: 0.09875 | Epoch: 015 | Batch: 000 | Loss: 1.81277 | Correct: 70/128\n"
          ],
          "name": "stderr"
        },
        {
          "output_type": "stream",
          "text": [
            "None\n"
          ],
          "name": "stdout"
        },
        {
          "output_type": "stream",
          "text": [
            "2021-07-12 19:55:53,103 - INFO: lr: 0.09505 | Epoch: 016 | Batch: 000 | Loss: 1.68689 | Correct: 71/128\n"
          ],
          "name": "stderr"
        },
        {
          "output_type": "stream",
          "text": [
            "None\n"
          ],
          "name": "stdout"
        },
        {
          "output_type": "stream",
          "text": [
            "2021-07-12 19:56:08,705 - INFO: lr: 0.08909 | Epoch: 017 | Batch: 000 | Loss: 1.49659 | Correct: 69/128\n"
          ],
          "name": "stderr"
        },
        {
          "output_type": "stream",
          "text": [
            "None\n"
          ],
          "name": "stdout"
        },
        {
          "output_type": "stream",
          "text": [
            "2021-07-12 19:56:24,292 - INFO: lr: 0.08117 | Epoch: 018 | Batch: 000 | Loss: 1.50498 | Correct: 67/128\n"
          ],
          "name": "stderr"
        },
        {
          "output_type": "stream",
          "text": [
            "None\n"
          ],
          "name": "stdout"
        },
        {
          "output_type": "stream",
          "text": [
            "2021-07-12 19:56:39,900 - INFO: lr: 0.07169 | Epoch: 019 | Batch: 000 | Loss: 1.33014 | Correct: 85/128\n"
          ],
          "name": "stderr"
        },
        {
          "output_type": "stream",
          "text": [
            "None\n"
          ],
          "name": "stdout"
        },
        {
          "output_type": "stream",
          "text": [
            "2021-07-12 19:56:55,496 - INFO: lr: 0.06113 | Epoch: 020 | Batch: 000 | Loss: 1.20135 | Correct: 90/128\n"
          ],
          "name": "stderr"
        },
        {
          "output_type": "stream",
          "text": [
            "None\n"
          ],
          "name": "stdout"
        },
        {
          "output_type": "stream",
          "text": [
            "2021-07-12 19:57:11,049 - INFO: lr: 0.05000 | Epoch: 021 | Batch: 000 | Loss: 1.17859 | Correct: 84/128\n"
          ],
          "name": "stderr"
        },
        {
          "output_type": "stream",
          "text": [
            "None\n"
          ],
          "name": "stdout"
        },
        {
          "output_type": "stream",
          "text": [
            "2021-07-12 19:57:26,656 - INFO: lr: 0.03887 | Epoch: 022 | Batch: 000 | Loss: 1.29465 | Correct: 72/128\n"
          ],
          "name": "stderr"
        },
        {
          "output_type": "stream",
          "text": [
            "None\n"
          ],
          "name": "stdout"
        },
        {
          "output_type": "stream",
          "text": [
            "2021-07-12 19:57:42,250 - INFO: lr: 0.02831 | Epoch: 023 | Batch: 000 | Loss: 1.05690 | Correct: 87/128\n"
          ],
          "name": "stderr"
        },
        {
          "output_type": "stream",
          "text": [
            "None\n"
          ],
          "name": "stdout"
        },
        {
          "output_type": "stream",
          "text": [
            "2021-07-12 19:57:57,836 - INFO: lr: 0.01883 | Epoch: 024 | Batch: 000 | Loss: 1.04237 | Correct: 87/128\n"
          ],
          "name": "stderr"
        },
        {
          "output_type": "stream",
          "text": [
            "None\n"
          ],
          "name": "stdout"
        },
        {
          "output_type": "stream",
          "text": [
            "2021-07-12 19:58:13,396 - INFO: lr: 0.01091 | Epoch: 025 | Batch: 000 | Loss: 0.95287 | Correct: 87/128\n"
          ],
          "name": "stderr"
        },
        {
          "output_type": "stream",
          "text": [
            "None\n"
          ],
          "name": "stdout"
        },
        {
          "output_type": "stream",
          "text": [
            "2021-07-12 19:58:28,994 - INFO: lr: 0.00495 | Epoch: 026 | Batch: 000 | Loss: 0.95594 | Correct: 92/128\n"
          ],
          "name": "stderr"
        },
        {
          "output_type": "stream",
          "text": [
            "None\n"
          ],
          "name": "stdout"
        },
        {
          "output_type": "stream",
          "text": [
            "2021-07-12 19:58:44,566 - INFO: lr: 0.00125 | Epoch: 027 | Batch: 000 | Loss: 0.93702 | Correct: 92/128\n"
          ],
          "name": "stderr"
        },
        {
          "output_type": "stream",
          "text": [
            "None\n"
          ],
          "name": "stdout"
        },
        {
          "output_type": "stream",
          "text": [
            "2021-07-12 19:58:59,415 - INFO: Save the snapshot model with index: 1\n",
            "2021-07-12 19:59:00,155 - INFO: n_estimators: 2 | Validation Acc: 72.656 % | Historical Best: 72.656 %\n",
            "2021-07-12 19:59:00,876 - INFO: lr: 0.10000 | Epoch: 028 | Batch: 000 | Loss: 0.99047 | Correct: 92/128\n"
          ],
          "name": "stderr"
        },
        {
          "output_type": "stream",
          "text": [
            "None\n"
          ],
          "name": "stdout"
        },
        {
          "output_type": "stream",
          "text": [
            "2021-07-12 19:59:16,478 - INFO: lr: 0.09875 | Epoch: 029 | Batch: 000 | Loss: 1.30742 | Correct: 85/128\n"
          ],
          "name": "stderr"
        },
        {
          "output_type": "stream",
          "text": [
            "None\n"
          ],
          "name": "stdout"
        },
        {
          "output_type": "stream",
          "text": [
            "2021-07-12 19:59:32,084 - INFO: lr: 0.09505 | Epoch: 030 | Batch: 000 | Loss: 1.17369 | Correct: 89/128\n"
          ],
          "name": "stderr"
        },
        {
          "output_type": "stream",
          "text": [
            "None\n"
          ],
          "name": "stdout"
        },
        {
          "output_type": "stream",
          "text": [
            "2021-07-12 19:59:47,588 - INFO: lr: 0.08909 | Epoch: 031 | Batch: 000 | Loss: 0.82272 | Correct: 99/128\n"
          ],
          "name": "stderr"
        },
        {
          "output_type": "stream",
          "text": [
            "None\n"
          ],
          "name": "stdout"
        },
        {
          "output_type": "stream",
          "text": [
            "2021-07-12 20:00:03,168 - INFO: lr: 0.08117 | Epoch: 032 | Batch: 000 | Loss: 0.98893 | Correct: 89/128\n"
          ],
          "name": "stderr"
        },
        {
          "output_type": "stream",
          "text": [
            "None\n"
          ],
          "name": "stdout"
        },
        {
          "output_type": "stream",
          "text": [
            "2021-07-12 20:00:18,766 - INFO: lr: 0.07169 | Epoch: 033 | Batch: 000 | Loss: 1.04776 | Correct: 87/128\n"
          ],
          "name": "stderr"
        },
        {
          "output_type": "stream",
          "text": [
            "None\n"
          ],
          "name": "stdout"
        },
        {
          "output_type": "stream",
          "text": [
            "2021-07-12 20:00:34,358 - INFO: lr: 0.06113 | Epoch: 034 | Batch: 000 | Loss: 0.94584 | Correct: 88/128\n"
          ],
          "name": "stderr"
        },
        {
          "output_type": "stream",
          "text": [
            "None\n"
          ],
          "name": "stdout"
        },
        {
          "output_type": "stream",
          "text": [
            "2021-07-12 20:00:49,962 - INFO: lr: 0.05000 | Epoch: 035 | Batch: 000 | Loss: 0.87529 | Correct: 92/128\n"
          ],
          "name": "stderr"
        },
        {
          "output_type": "stream",
          "text": [
            "None\n"
          ],
          "name": "stdout"
        },
        {
          "output_type": "stream",
          "text": [
            "2021-07-12 20:01:05,519 - INFO: lr: 0.03887 | Epoch: 036 | Batch: 000 | Loss: 0.53792 | Correct: 106/128\n"
          ],
          "name": "stderr"
        },
        {
          "output_type": "stream",
          "text": [
            "None\n"
          ],
          "name": "stdout"
        },
        {
          "output_type": "stream",
          "text": [
            "2021-07-12 20:01:21,082 - INFO: lr: 0.02831 | Epoch: 037 | Batch: 000 | Loss: 0.60020 | Correct: 102/128\n"
          ],
          "name": "stderr"
        },
        {
          "output_type": "stream",
          "text": [
            "None\n"
          ],
          "name": "stdout"
        },
        {
          "output_type": "stream",
          "text": [
            "2021-07-12 20:01:36,656 - INFO: lr: 0.01883 | Epoch: 038 | Batch: 000 | Loss: 0.70235 | Correct: 98/128\n"
          ],
          "name": "stderr"
        },
        {
          "output_type": "stream",
          "text": [
            "None\n"
          ],
          "name": "stdout"
        },
        {
          "output_type": "stream",
          "text": [
            "2021-07-12 20:01:52,175 - INFO: lr: 0.01091 | Epoch: 039 | Batch: 000 | Loss: 0.63603 | Correct: 100/128\n"
          ],
          "name": "stderr"
        },
        {
          "output_type": "stream",
          "text": [
            "None\n"
          ],
          "name": "stdout"
        },
        {
          "output_type": "stream",
          "text": [
            "2021-07-12 20:02:07,861 - INFO: lr: 0.00495 | Epoch: 040 | Batch: 000 | Loss: 0.57534 | Correct: 107/128\n"
          ],
          "name": "stderr"
        },
        {
          "output_type": "stream",
          "text": [
            "None\n"
          ],
          "name": "stdout"
        },
        {
          "output_type": "stream",
          "text": [
            "2021-07-12 20:02:23,411 - INFO: lr: 0.00125 | Epoch: 041 | Batch: 000 | Loss: 0.42145 | Correct: 111/128\n"
          ],
          "name": "stderr"
        },
        {
          "output_type": "stream",
          "text": [
            "None\n"
          ],
          "name": "stdout"
        },
        {
          "output_type": "stream",
          "text": [
            "2021-07-12 20:02:38,217 - INFO: Save the snapshot model with index: 2\n",
            "2021-07-12 20:02:39,055 - INFO: n_estimators: 3 | Validation Acc: 75.335 % | Historical Best: 75.335 %\n",
            "2021-07-12 20:02:39,829 - INFO: lr: 0.10000 | Epoch: 042 | Batch: 000 | Loss: 0.67819 | Correct: 101/128\n"
          ],
          "name": "stderr"
        },
        {
          "output_type": "stream",
          "text": [
            "None\n"
          ],
          "name": "stdout"
        },
        {
          "output_type": "stream",
          "text": [
            "2021-07-12 20:02:55,375 - INFO: lr: 0.09875 | Epoch: 043 | Batch: 000 | Loss: 1.13534 | Correct: 81/128\n"
          ],
          "name": "stderr"
        },
        {
          "output_type": "stream",
          "text": [
            "None\n"
          ],
          "name": "stdout"
        },
        {
          "output_type": "stream",
          "text": [
            "2021-07-12 20:03:10,951 - INFO: lr: 0.09505 | Epoch: 044 | Batch: 000 | Loss: 0.90538 | Correct: 91/128\n"
          ],
          "name": "stderr"
        },
        {
          "output_type": "stream",
          "text": [
            "None\n"
          ],
          "name": "stdout"
        },
        {
          "output_type": "stream",
          "text": [
            "2021-07-12 20:03:26,527 - INFO: lr: 0.08909 | Epoch: 045 | Batch: 000 | Loss: 1.16410 | Correct: 86/128\n"
          ],
          "name": "stderr"
        },
        {
          "output_type": "stream",
          "text": [
            "None\n"
          ],
          "name": "stdout"
        },
        {
          "output_type": "stream",
          "text": [
            "2021-07-12 20:03:42,080 - INFO: lr: 0.08117 | Epoch: 046 | Batch: 000 | Loss: 0.56611 | Correct: 105/128\n"
          ],
          "name": "stderr"
        },
        {
          "output_type": "stream",
          "text": [
            "None\n"
          ],
          "name": "stdout"
        },
        {
          "output_type": "stream",
          "text": [
            "2021-07-12 20:03:57,645 - INFO: lr: 0.07169 | Epoch: 047 | Batch: 000 | Loss: 0.61486 | Correct: 105/128\n"
          ],
          "name": "stderr"
        },
        {
          "output_type": "stream",
          "text": [
            "None\n"
          ],
          "name": "stdout"
        },
        {
          "output_type": "stream",
          "text": [
            "2021-07-12 20:04:13,199 - INFO: lr: 0.06113 | Epoch: 048 | Batch: 000 | Loss: 0.62013 | Correct: 106/128\n"
          ],
          "name": "stderr"
        },
        {
          "output_type": "stream",
          "text": [
            "None\n"
          ],
          "name": "stdout"
        },
        {
          "output_type": "stream",
          "text": [
            "2021-07-12 20:04:28,783 - INFO: lr: 0.05000 | Epoch: 049 | Batch: 000 | Loss: 0.55672 | Correct: 104/128\n"
          ],
          "name": "stderr"
        },
        {
          "output_type": "stream",
          "text": [
            "None\n"
          ],
          "name": "stdout"
        },
        {
          "output_type": "stream",
          "text": [
            "2021-07-12 20:04:44,297 - INFO: lr: 0.03887 | Epoch: 050 | Batch: 000 | Loss: 0.46991 | Correct: 110/128\n"
          ],
          "name": "stderr"
        },
        {
          "output_type": "stream",
          "text": [
            "None\n"
          ],
          "name": "stdout"
        },
        {
          "output_type": "stream",
          "text": [
            "2021-07-12 20:04:59,846 - INFO: lr: 0.02831 | Epoch: 051 | Batch: 000 | Loss: 0.34902 | Correct: 118/128\n"
          ],
          "name": "stderr"
        },
        {
          "output_type": "stream",
          "text": [
            "None\n"
          ],
          "name": "stdout"
        },
        {
          "output_type": "stream",
          "text": [
            "2021-07-12 20:05:15,379 - INFO: lr: 0.01883 | Epoch: 052 | Batch: 000 | Loss: 0.24536 | Correct: 121/128\n"
          ],
          "name": "stderr"
        },
        {
          "output_type": "stream",
          "text": [
            "None\n"
          ],
          "name": "stdout"
        },
        {
          "output_type": "stream",
          "text": [
            "2021-07-12 20:05:30,939 - INFO: lr: 0.01091 | Epoch: 053 | Batch: 000 | Loss: 0.28735 | Correct: 118/128\n"
          ],
          "name": "stderr"
        },
        {
          "output_type": "stream",
          "text": [
            "None\n"
          ],
          "name": "stdout"
        },
        {
          "output_type": "stream",
          "text": [
            "2021-07-12 20:05:46,506 - INFO: lr: 0.00495 | Epoch: 054 | Batch: 000 | Loss: 0.23980 | Correct: 119/128\n"
          ],
          "name": "stderr"
        },
        {
          "output_type": "stream",
          "text": [
            "None\n"
          ],
          "name": "stdout"
        },
        {
          "output_type": "stream",
          "text": [
            "2021-07-12 20:06:02,070 - INFO: lr: 0.00125 | Epoch: 055 | Batch: 000 | Loss: 0.26643 | Correct: 119/128\n"
          ],
          "name": "stderr"
        },
        {
          "output_type": "stream",
          "text": [
            "None\n"
          ],
          "name": "stdout"
        },
        {
          "output_type": "stream",
          "text": [
            "2021-07-12 20:06:16,902 - INFO: Save the snapshot model with index: 3\n",
            "2021-07-12 20:06:17,822 - INFO: n_estimators: 4 | Validation Acc: 78.125 % | Historical Best: 78.125 %\n",
            "2021-07-12 20:06:18,590 - INFO: lr: 0.10000 | Epoch: 056 | Batch: 000 | Loss: 0.25947 | Correct: 117/128\n"
          ],
          "name": "stderr"
        },
        {
          "output_type": "stream",
          "text": [
            "None\n"
          ],
          "name": "stdout"
        },
        {
          "output_type": "stream",
          "text": [
            "2021-07-12 20:06:34,132 - INFO: lr: 0.09875 | Epoch: 057 | Batch: 000 | Loss: 0.70322 | Correct: 103/128\n"
          ],
          "name": "stderr"
        },
        {
          "output_type": "stream",
          "text": [
            "None\n"
          ],
          "name": "stdout"
        },
        {
          "output_type": "stream",
          "text": [
            "2021-07-12 20:06:49,699 - INFO: lr: 0.09505 | Epoch: 058 | Batch: 000 | Loss: 0.76234 | Correct: 101/128\n"
          ],
          "name": "stderr"
        },
        {
          "output_type": "stream",
          "text": [
            "None\n"
          ],
          "name": "stdout"
        },
        {
          "output_type": "stream",
          "text": [
            "2021-07-12 20:07:05,218 - INFO: lr: 0.08909 | Epoch: 059 | Batch: 000 | Loss: 0.70728 | Correct: 95/128\n"
          ],
          "name": "stderr"
        },
        {
          "output_type": "stream",
          "text": [
            "None\n"
          ],
          "name": "stdout"
        },
        {
          "output_type": "stream",
          "text": [
            "2021-07-12 20:07:20,784 - INFO: lr: 0.08117 | Epoch: 060 | Batch: 000 | Loss: 0.54917 | Correct: 106/128\n"
          ],
          "name": "stderr"
        },
        {
          "output_type": "stream",
          "text": [
            "None\n"
          ],
          "name": "stdout"
        },
        {
          "output_type": "stream",
          "text": [
            "2021-07-12 20:07:36,339 - INFO: lr: 0.07169 | Epoch: 061 | Batch: 000 | Loss: 0.51683 | Correct: 105/128\n"
          ],
          "name": "stderr"
        },
        {
          "output_type": "stream",
          "text": [
            "None\n"
          ],
          "name": "stdout"
        },
        {
          "output_type": "stream",
          "text": [
            "2021-07-12 20:07:51,882 - INFO: lr: 0.06113 | Epoch: 062 | Batch: 000 | Loss: 0.32574 | Correct: 119/128\n"
          ],
          "name": "stderr"
        },
        {
          "output_type": "stream",
          "text": [
            "None\n"
          ],
          "name": "stdout"
        },
        {
          "output_type": "stream",
          "text": [
            "2021-07-12 20:08:07,410 - INFO: lr: 0.05000 | Epoch: 063 | Batch: 000 | Loss: 0.23584 | Correct: 120/128\n"
          ],
          "name": "stderr"
        },
        {
          "output_type": "stream",
          "text": [
            "None\n"
          ],
          "name": "stdout"
        },
        {
          "output_type": "stream",
          "text": [
            "2021-07-12 20:08:23,013 - INFO: lr: 0.03887 | Epoch: 064 | Batch: 000 | Loss: 0.25323 | Correct: 117/128\n"
          ],
          "name": "stderr"
        },
        {
          "output_type": "stream",
          "text": [
            "None\n"
          ],
          "name": "stdout"
        },
        {
          "output_type": "stream",
          "text": [
            "2021-07-12 20:08:38,574 - INFO: lr: 0.02831 | Epoch: 065 | Batch: 000 | Loss: 0.21666 | Correct: 119/128\n"
          ],
          "name": "stderr"
        },
        {
          "output_type": "stream",
          "text": [
            "None\n"
          ],
          "name": "stdout"
        },
        {
          "output_type": "stream",
          "text": [
            "2021-07-12 20:08:54,155 - INFO: lr: 0.01883 | Epoch: 066 | Batch: 000 | Loss: 0.16876 | Correct: 120/128\n"
          ],
          "name": "stderr"
        },
        {
          "output_type": "stream",
          "text": [
            "None\n"
          ],
          "name": "stdout"
        },
        {
          "output_type": "stream",
          "text": [
            "2021-07-12 20:09:09,718 - INFO: lr: 0.01091 | Epoch: 067 | Batch: 000 | Loss: 0.14419 | Correct: 122/128\n"
          ],
          "name": "stderr"
        },
        {
          "output_type": "stream",
          "text": [
            "None\n"
          ],
          "name": "stdout"
        },
        {
          "output_type": "stream",
          "text": [
            "2021-07-12 20:09:25,312 - INFO: lr: 0.00495 | Epoch: 068 | Batch: 000 | Loss: 0.13299 | Correct: 125/128\n"
          ],
          "name": "stderr"
        },
        {
          "output_type": "stream",
          "text": [
            "None\n"
          ],
          "name": "stdout"
        },
        {
          "output_type": "stream",
          "text": [
            "2021-07-12 20:09:40,864 - INFO: lr: 0.00125 | Epoch: 069 | Batch: 000 | Loss: 0.17246 | Correct: 122/128\n"
          ],
          "name": "stderr"
        },
        {
          "output_type": "stream",
          "text": [
            "None\n"
          ],
          "name": "stdout"
        },
        {
          "output_type": "stream",
          "text": [
            "2021-07-12 20:09:55,698 - INFO: Save the snapshot model with index: 4\n",
            "2021-07-12 20:09:56,767 - INFO: n_estimators: 5 | Validation Acc: 77.902 % | Historical Best: 78.125 %\n"
          ],
          "name": "stderr"
        },
        {
          "output_type": "stream",
          "text": [
            "Group 3 Finished!\n",
            "Target number of exemplars: 66\n",
            "Randomly extracting exemplars from class 0 of current split... Extracted 66 exemplars.\n",
            "Randomly extracting exemplars from class 1 of current split... Extracted 66 exemplars.\n",
            "Randomly extracting exemplars from class 2 of current split... Extracted 66 exemplars.\n",
            "Randomly extracting exemplars from class 3 of current split... Extracted 66 exemplars.\n",
            "Randomly extracting exemplars from class 4 of current split... Extracted 66 exemplars.\n",
            "Randomly extracting exemplars from class 5 of current split... Extracted 66 exemplars.\n",
            "Randomly extracting exemplars from class 6 of current split... Extracted 66 exemplars.\n",
            "Randomly extracting exemplars from class 7 of current split... Extracted 66 exemplars.\n",
            "Randomly extracting exemplars from class 8 of current split... Extracted 66 exemplars.\n",
            "Randomly extracting exemplars from class 9 of current split... Extracted 66 exemplars.\n",
            "[0.5084918478260869, 0.8046875, 0.9480298913043478],[0.39402173913043476, 0.17561141304347827, 0.051290760869565216]\n",
            "Testing on both open and closed world\n",
            "owr harmonic mean (threshold:0.5) = 0.44399739817708755\n",
            "owr harmonic mean (threshold:0.75) = 0.2883045304920305\n",
            "owr harmonic mean (threshold:0.95) = 0.09731646063015399\n",
            "\n",
            "=============================================\n",
            "\n",
            "Length of exemplars set: 1980\n"
          ],
          "name": "stdout"
        },
        {
          "output_type": "stream",
          "text": [
            "2021-07-12 20:10:05,091 - INFO: lr: 0.10000 | Epoch: 000 | Batch: 000 | Loss: 4.98795 | Correct: 11/128\n"
          ],
          "name": "stderr"
        },
        {
          "output_type": "stream",
          "text": [
            "None\n"
          ],
          "name": "stdout"
        },
        {
          "output_type": "stream",
          "text": [
            "2021-07-12 20:10:21,047 - INFO: lr: 0.09875 | Epoch: 001 | Batch: 000 | Loss: 2.78807 | Correct: 31/128\n"
          ],
          "name": "stderr"
        },
        {
          "output_type": "stream",
          "text": [
            "None\n"
          ],
          "name": "stdout"
        },
        {
          "output_type": "stream",
          "text": [
            "2021-07-12 20:10:37,015 - INFO: lr: 0.09505 | Epoch: 002 | Batch: 000 | Loss: 2.71064 | Correct: 39/128\n"
          ],
          "name": "stderr"
        },
        {
          "output_type": "stream",
          "text": [
            "None\n"
          ],
          "name": "stdout"
        },
        {
          "output_type": "stream",
          "text": [
            "2021-07-12 20:10:52,965 - INFO: lr: 0.08909 | Epoch: 003 | Batch: 000 | Loss: 2.48703 | Correct: 36/128\n"
          ],
          "name": "stderr"
        },
        {
          "output_type": "stream",
          "text": [
            "None\n"
          ],
          "name": "stdout"
        },
        {
          "output_type": "stream",
          "text": [
            "2021-07-12 20:11:08,956 - INFO: lr: 0.08117 | Epoch: 004 | Batch: 000 | Loss: 2.53086 | Correct: 43/128\n"
          ],
          "name": "stderr"
        },
        {
          "output_type": "stream",
          "text": [
            "None\n"
          ],
          "name": "stdout"
        },
        {
          "output_type": "stream",
          "text": [
            "2021-07-12 20:11:24,887 - INFO: lr: 0.07169 | Epoch: 005 | Batch: 000 | Loss: 2.36133 | Correct: 52/128\n"
          ],
          "name": "stderr"
        },
        {
          "output_type": "stream",
          "text": [
            "None\n"
          ],
          "name": "stdout"
        },
        {
          "output_type": "stream",
          "text": [
            "2021-07-12 20:11:40,832 - INFO: lr: 0.06113 | Epoch: 006 | Batch: 000 | Loss: 2.20037 | Correct: 46/128\n"
          ],
          "name": "stderr"
        },
        {
          "output_type": "stream",
          "text": [
            "None\n"
          ],
          "name": "stdout"
        },
        {
          "output_type": "stream",
          "text": [
            "2021-07-12 20:11:56,800 - INFO: lr: 0.05000 | Epoch: 007 | Batch: 000 | Loss: 2.27298 | Correct: 53/128\n"
          ],
          "name": "stderr"
        },
        {
          "output_type": "stream",
          "text": [
            "None\n"
          ],
          "name": "stdout"
        },
        {
          "output_type": "stream",
          "text": [
            "2021-07-12 20:12:12,770 - INFO: lr: 0.03887 | Epoch: 008 | Batch: 000 | Loss: 2.06628 | Correct: 62/128\n"
          ],
          "name": "stderr"
        },
        {
          "output_type": "stream",
          "text": [
            "None\n"
          ],
          "name": "stdout"
        },
        {
          "output_type": "stream",
          "text": [
            "2021-07-12 20:12:28,772 - INFO: lr: 0.02831 | Epoch: 009 | Batch: 000 | Loss: 1.71297 | Correct: 71/128\n"
          ],
          "name": "stderr"
        },
        {
          "output_type": "stream",
          "text": [
            "None\n"
          ],
          "name": "stdout"
        },
        {
          "output_type": "stream",
          "text": [
            "2021-07-12 20:12:44,765 - INFO: lr: 0.01883 | Epoch: 010 | Batch: 000 | Loss: 1.90733 | Correct: 57/128\n"
          ],
          "name": "stderr"
        },
        {
          "output_type": "stream",
          "text": [
            "None\n"
          ],
          "name": "stdout"
        },
        {
          "output_type": "stream",
          "text": [
            "2021-07-12 20:13:00,716 - INFO: lr: 0.01091 | Epoch: 011 | Batch: 000 | Loss: 1.80161 | Correct: 62/128\n"
          ],
          "name": "stderr"
        },
        {
          "output_type": "stream",
          "text": [
            "None\n"
          ],
          "name": "stdout"
        },
        {
          "output_type": "stream",
          "text": [
            "2021-07-12 20:13:16,651 - INFO: lr: 0.00495 | Epoch: 012 | Batch: 000 | Loss: 1.66060 | Correct: 68/128\n"
          ],
          "name": "stderr"
        },
        {
          "output_type": "stream",
          "text": [
            "None\n"
          ],
          "name": "stdout"
        },
        {
          "output_type": "stream",
          "text": [
            "2021-07-12 20:13:32,522 - INFO: lr: 0.00125 | Epoch: 013 | Batch: 000 | Loss: 1.88456 | Correct: 62/128\n"
          ],
          "name": "stderr"
        },
        {
          "output_type": "stream",
          "text": [
            "None\n"
          ],
          "name": "stdout"
        },
        {
          "output_type": "stream",
          "text": [
            "2021-07-12 20:13:47,712 - INFO: Save the snapshot model with index: 0\n",
            "2021-07-12 20:13:48,376 - INFO: n_estimators: 1 | Validation Acc: 61.607 % | Historical Best: 61.607 %\n",
            "2021-07-12 20:13:49,194 - INFO: lr: 0.10000 | Epoch: 014 | Batch: 000 | Loss: 1.68207 | Correct: 66/128\n"
          ],
          "name": "stderr"
        },
        {
          "output_type": "stream",
          "text": [
            "None\n"
          ],
          "name": "stdout"
        },
        {
          "output_type": "stream",
          "text": [
            "2021-07-12 20:14:05,174 - INFO: lr: 0.09875 | Epoch: 015 | Batch: 000 | Loss: 2.44212 | Correct: 43/128\n"
          ],
          "name": "stderr"
        },
        {
          "output_type": "stream",
          "text": [
            "None\n"
          ],
          "name": "stdout"
        },
        {
          "output_type": "stream",
          "text": [
            "2021-07-12 20:14:21,141 - INFO: lr: 0.09505 | Epoch: 016 | Batch: 000 | Loss: 1.86558 | Correct: 57/128\n"
          ],
          "name": "stderr"
        },
        {
          "output_type": "stream",
          "text": [
            "None\n"
          ],
          "name": "stdout"
        },
        {
          "output_type": "stream",
          "text": [
            "2021-07-12 20:14:37,088 - INFO: lr: 0.08909 | Epoch: 017 | Batch: 000 | Loss: 1.75703 | Correct: 65/128\n"
          ],
          "name": "stderr"
        },
        {
          "output_type": "stream",
          "text": [
            "None\n"
          ],
          "name": "stdout"
        },
        {
          "output_type": "stream",
          "text": [
            "2021-07-12 20:14:53,064 - INFO: lr: 0.08117 | Epoch: 018 | Batch: 000 | Loss: 1.66878 | Correct: 64/128\n"
          ],
          "name": "stderr"
        },
        {
          "output_type": "stream",
          "text": [
            "None\n"
          ],
          "name": "stdout"
        },
        {
          "output_type": "stream",
          "text": [
            "2021-07-12 20:15:09,089 - INFO: lr: 0.07169 | Epoch: 019 | Batch: 000 | Loss: 1.67666 | Correct: 66/128\n"
          ],
          "name": "stderr"
        },
        {
          "output_type": "stream",
          "text": [
            "None\n"
          ],
          "name": "stdout"
        },
        {
          "output_type": "stream",
          "text": [
            "2021-07-12 20:15:25,056 - INFO: lr: 0.06113 | Epoch: 020 | Batch: 000 | Loss: 1.42883 | Correct: 70/128\n"
          ],
          "name": "stderr"
        },
        {
          "output_type": "stream",
          "text": [
            "None\n"
          ],
          "name": "stdout"
        },
        {
          "output_type": "stream",
          "text": [
            "2021-07-12 20:15:41,054 - INFO: lr: 0.05000 | Epoch: 021 | Batch: 000 | Loss: 1.47675 | Correct: 77/128\n"
          ],
          "name": "stderr"
        },
        {
          "output_type": "stream",
          "text": [
            "None\n"
          ],
          "name": "stdout"
        },
        {
          "output_type": "stream",
          "text": [
            "2021-07-12 20:15:56,996 - INFO: lr: 0.03887 | Epoch: 022 | Batch: 000 | Loss: 1.43912 | Correct: 69/128\n"
          ],
          "name": "stderr"
        },
        {
          "output_type": "stream",
          "text": [
            "None\n"
          ],
          "name": "stdout"
        },
        {
          "output_type": "stream",
          "text": [
            "2021-07-12 20:16:12,902 - INFO: lr: 0.02831 | Epoch: 023 | Batch: 000 | Loss: 1.03662 | Correct: 91/128\n"
          ],
          "name": "stderr"
        },
        {
          "output_type": "stream",
          "text": [
            "None\n"
          ],
          "name": "stdout"
        },
        {
          "output_type": "stream",
          "text": [
            "2021-07-12 20:16:28,840 - INFO: lr: 0.01883 | Epoch: 024 | Batch: 000 | Loss: 1.28848 | Correct: 81/128\n"
          ],
          "name": "stderr"
        },
        {
          "output_type": "stream",
          "text": [
            "None\n"
          ],
          "name": "stdout"
        },
        {
          "output_type": "stream",
          "text": [
            "2021-07-12 20:16:44,851 - INFO: lr: 0.01091 | Epoch: 025 | Batch: 000 | Loss: 1.05425 | Correct: 92/128\n"
          ],
          "name": "stderr"
        },
        {
          "output_type": "stream",
          "text": [
            "None\n"
          ],
          "name": "stdout"
        },
        {
          "output_type": "stream",
          "text": [
            "2021-07-12 20:17:00,777 - INFO: lr: 0.00495 | Epoch: 026 | Batch: 000 | Loss: 1.04082 | Correct: 86/128\n"
          ],
          "name": "stderr"
        },
        {
          "output_type": "stream",
          "text": [
            "None\n"
          ],
          "name": "stdout"
        },
        {
          "output_type": "stream",
          "text": [
            "2021-07-12 20:17:16,728 - INFO: lr: 0.00125 | Epoch: 027 | Batch: 000 | Loss: 1.22388 | Correct: 80/128\n"
          ],
          "name": "stderr"
        },
        {
          "output_type": "stream",
          "text": [
            "None\n"
          ],
          "name": "stdout"
        },
        {
          "output_type": "stream",
          "text": [
            "2021-07-12 20:17:31,908 - INFO: Save the snapshot model with index: 1\n",
            "2021-07-12 20:17:32,636 - INFO: n_estimators: 2 | Validation Acc: 69.754 % | Historical Best: 69.754 %\n",
            "2021-07-12 20:17:33,453 - INFO: lr: 0.10000 | Epoch: 028 | Batch: 000 | Loss: 1.01393 | Correct: 94/128\n"
          ],
          "name": "stderr"
        },
        {
          "output_type": "stream",
          "text": [
            "None\n"
          ],
          "name": "stdout"
        },
        {
          "output_type": "stream",
          "text": [
            "2021-07-12 20:17:49,403 - INFO: lr: 0.09875 | Epoch: 029 | Batch: 000 | Loss: 1.58025 | Correct: 64/128\n"
          ],
          "name": "stderr"
        },
        {
          "output_type": "stream",
          "text": [
            "None\n"
          ],
          "name": "stdout"
        },
        {
          "output_type": "stream",
          "text": [
            "2021-07-12 20:18:05,369 - INFO: lr: 0.09505 | Epoch: 030 | Batch: 000 | Loss: 1.43355 | Correct: 72/128\n"
          ],
          "name": "stderr"
        },
        {
          "output_type": "stream",
          "text": [
            "None\n"
          ],
          "name": "stdout"
        },
        {
          "output_type": "stream",
          "text": [
            "2021-07-12 20:18:21,378 - INFO: lr: 0.08909 | Epoch: 031 | Batch: 000 | Loss: 1.35230 | Correct: 67/128\n"
          ],
          "name": "stderr"
        },
        {
          "output_type": "stream",
          "text": [
            "None\n"
          ],
          "name": "stdout"
        },
        {
          "output_type": "stream",
          "text": [
            "2021-07-12 20:18:37,314 - INFO: lr: 0.08117 | Epoch: 032 | Batch: 000 | Loss: 1.21775 | Correct: 79/128\n"
          ],
          "name": "stderr"
        },
        {
          "output_type": "stream",
          "text": [
            "None\n"
          ],
          "name": "stdout"
        },
        {
          "output_type": "stream",
          "text": [
            "2021-07-12 20:18:53,277 - INFO: lr: 0.07169 | Epoch: 033 | Batch: 000 | Loss: 1.20801 | Correct: 83/128\n"
          ],
          "name": "stderr"
        },
        {
          "output_type": "stream",
          "text": [
            "None\n"
          ],
          "name": "stdout"
        },
        {
          "output_type": "stream",
          "text": [
            "2021-07-12 20:19:09,287 - INFO: lr: 0.06113 | Epoch: 034 | Batch: 000 | Loss: 1.03740 | Correct: 89/128\n"
          ],
          "name": "stderr"
        },
        {
          "output_type": "stream",
          "text": [
            "None\n"
          ],
          "name": "stdout"
        },
        {
          "output_type": "stream",
          "text": [
            "2021-07-12 20:19:25,292 - INFO: lr: 0.05000 | Epoch: 035 | Batch: 000 | Loss: 1.17608 | Correct: 85/128\n"
          ],
          "name": "stderr"
        },
        {
          "output_type": "stream",
          "text": [
            "None\n"
          ],
          "name": "stdout"
        },
        {
          "output_type": "stream",
          "text": [
            "2021-07-12 20:19:41,247 - INFO: lr: 0.03887 | Epoch: 036 | Batch: 000 | Loss: 0.81373 | Correct: 99/128\n"
          ],
          "name": "stderr"
        },
        {
          "output_type": "stream",
          "text": [
            "None\n"
          ],
          "name": "stdout"
        },
        {
          "output_type": "stream",
          "text": [
            "2021-07-12 20:19:57,228 - INFO: lr: 0.02831 | Epoch: 037 | Batch: 000 | Loss: 0.77992 | Correct: 99/128\n"
          ],
          "name": "stderr"
        },
        {
          "output_type": "stream",
          "text": [
            "None\n"
          ],
          "name": "stdout"
        },
        {
          "output_type": "stream",
          "text": [
            "2021-07-12 20:20:13,233 - INFO: lr: 0.01883 | Epoch: 038 | Batch: 000 | Loss: 0.87311 | Correct: 88/128\n"
          ],
          "name": "stderr"
        },
        {
          "output_type": "stream",
          "text": [
            "None\n"
          ],
          "name": "stdout"
        },
        {
          "output_type": "stream",
          "text": [
            "2021-07-12 20:20:29,203 - INFO: lr: 0.01091 | Epoch: 039 | Batch: 000 | Loss: 0.71302 | Correct: 102/128\n"
          ],
          "name": "stderr"
        },
        {
          "output_type": "stream",
          "text": [
            "None\n"
          ],
          "name": "stdout"
        },
        {
          "output_type": "stream",
          "text": [
            "2021-07-12 20:20:45,176 - INFO: lr: 0.00495 | Epoch: 040 | Batch: 000 | Loss: 0.70869 | Correct: 103/128\n"
          ],
          "name": "stderr"
        },
        {
          "output_type": "stream",
          "text": [
            "None\n"
          ],
          "name": "stdout"
        },
        {
          "output_type": "stream",
          "text": [
            "2021-07-12 20:21:01,192 - INFO: lr: 0.00125 | Epoch: 041 | Batch: 000 | Loss: 0.60710 | Correct: 109/128\n"
          ],
          "name": "stderr"
        },
        {
          "output_type": "stream",
          "text": [
            "None\n"
          ],
          "name": "stdout"
        },
        {
          "output_type": "stream",
          "text": [
            "2021-07-12 20:21:16,393 - INFO: Save the snapshot model with index: 2\n",
            "2021-07-12 20:21:17,239 - INFO: n_estimators: 3 | Validation Acc: 70.312 % | Historical Best: 70.312 %\n",
            "2021-07-12 20:21:18,033 - INFO: lr: 0.10000 | Epoch: 042 | Batch: 000 | Loss: 0.50911 | Correct: 111/128\n"
          ],
          "name": "stderr"
        },
        {
          "output_type": "stream",
          "text": [
            "None\n"
          ],
          "name": "stdout"
        },
        {
          "output_type": "stream",
          "text": [
            "2021-07-12 20:21:34,001 - INFO: lr: 0.09875 | Epoch: 043 | Batch: 000 | Loss: 1.24532 | Correct: 85/128\n"
          ],
          "name": "stderr"
        },
        {
          "output_type": "stream",
          "text": [
            "None\n"
          ],
          "name": "stdout"
        },
        {
          "output_type": "stream",
          "text": [
            "2021-07-12 20:21:49,946 - INFO: lr: 0.09505 | Epoch: 044 | Batch: 000 | Loss: 1.10134 | Correct: 85/128\n"
          ],
          "name": "stderr"
        },
        {
          "output_type": "stream",
          "text": [
            "None\n"
          ],
          "name": "stdout"
        },
        {
          "output_type": "stream",
          "text": [
            "2021-07-12 20:22:05,960 - INFO: lr: 0.08909 | Epoch: 045 | Batch: 000 | Loss: 0.88029 | Correct: 98/128\n"
          ],
          "name": "stderr"
        },
        {
          "output_type": "stream",
          "text": [
            "None\n"
          ],
          "name": "stdout"
        },
        {
          "output_type": "stream",
          "text": [
            "2021-07-12 20:22:21,933 - INFO: lr: 0.08117 | Epoch: 046 | Batch: 000 | Loss: 0.96560 | Correct: 91/128\n"
          ],
          "name": "stderr"
        },
        {
          "output_type": "stream",
          "text": [
            "None\n"
          ],
          "name": "stdout"
        },
        {
          "output_type": "stream",
          "text": [
            "2021-07-12 20:22:37,912 - INFO: lr: 0.07169 | Epoch: 047 | Batch: 000 | Loss: 0.78677 | Correct: 90/128\n"
          ],
          "name": "stderr"
        },
        {
          "output_type": "stream",
          "text": [
            "None\n"
          ],
          "name": "stdout"
        },
        {
          "output_type": "stream",
          "text": [
            "2021-07-12 20:22:53,904 - INFO: lr: 0.06113 | Epoch: 048 | Batch: 000 | Loss: 0.85149 | Correct: 88/128\n"
          ],
          "name": "stderr"
        },
        {
          "output_type": "stream",
          "text": [
            "None\n"
          ],
          "name": "stdout"
        },
        {
          "output_type": "stream",
          "text": [
            "2021-07-12 20:23:09,850 - INFO: lr: 0.05000 | Epoch: 049 | Batch: 000 | Loss: 0.64253 | Correct: 103/128\n"
          ],
          "name": "stderr"
        },
        {
          "output_type": "stream",
          "text": [
            "None\n"
          ],
          "name": "stdout"
        },
        {
          "output_type": "stream",
          "text": [
            "2021-07-12 20:23:25,798 - INFO: lr: 0.03887 | Epoch: 050 | Batch: 000 | Loss: 0.77225 | Correct: 97/128\n"
          ],
          "name": "stderr"
        },
        {
          "output_type": "stream",
          "text": [
            "None\n"
          ],
          "name": "stdout"
        },
        {
          "output_type": "stream",
          "text": [
            "2021-07-12 20:23:41,782 - INFO: lr: 0.02831 | Epoch: 051 | Batch: 000 | Loss: 0.63802 | Correct: 101/128\n"
          ],
          "name": "stderr"
        },
        {
          "output_type": "stream",
          "text": [
            "None\n"
          ],
          "name": "stdout"
        },
        {
          "output_type": "stream",
          "text": [
            "2021-07-12 20:23:57,769 - INFO: lr: 0.01883 | Epoch: 052 | Batch: 000 | Loss: 0.38498 | Correct: 116/128\n"
          ],
          "name": "stderr"
        },
        {
          "output_type": "stream",
          "text": [
            "None\n"
          ],
          "name": "stdout"
        },
        {
          "output_type": "stream",
          "text": [
            "2021-07-12 20:24:13,721 - INFO: lr: 0.01091 | Epoch: 053 | Batch: 000 | Loss: 0.40779 | Correct: 114/128\n"
          ],
          "name": "stderr"
        },
        {
          "output_type": "stream",
          "text": [
            "None\n"
          ],
          "name": "stdout"
        },
        {
          "output_type": "stream",
          "text": [
            "2021-07-12 20:24:29,685 - INFO: lr: 0.00495 | Epoch: 054 | Batch: 000 | Loss: 0.33711 | Correct: 116/128\n"
          ],
          "name": "stderr"
        },
        {
          "output_type": "stream",
          "text": [
            "None\n"
          ],
          "name": "stdout"
        },
        {
          "output_type": "stream",
          "text": [
            "2021-07-12 20:24:45,685 - INFO: lr: 0.00125 | Epoch: 055 | Batch: 000 | Loss: 0.32958 | Correct: 116/128\n"
          ],
          "name": "stderr"
        },
        {
          "output_type": "stream",
          "text": [
            "None\n"
          ],
          "name": "stdout"
        },
        {
          "output_type": "stream",
          "text": [
            "2021-07-12 20:25:00,868 - INFO: Save the snapshot model with index: 3\n",
            "2021-07-12 20:25:01,794 - INFO: n_estimators: 4 | Validation Acc: 73.103 % | Historical Best: 73.103 %\n",
            "2021-07-12 20:25:02,594 - INFO: lr: 0.10000 | Epoch: 056 | Batch: 000 | Loss: 0.36651 | Correct: 115/128\n"
          ],
          "name": "stderr"
        },
        {
          "output_type": "stream",
          "text": [
            "None\n"
          ],
          "name": "stdout"
        },
        {
          "output_type": "stream",
          "text": [
            "2021-07-12 20:25:18,524 - INFO: lr: 0.09875 | Epoch: 057 | Batch: 000 | Loss: 1.04296 | Correct: 85/128\n"
          ],
          "name": "stderr"
        },
        {
          "output_type": "stream",
          "text": [
            "None\n"
          ],
          "name": "stdout"
        },
        {
          "output_type": "stream",
          "text": [
            "2021-07-12 20:25:34,514 - INFO: lr: 0.09505 | Epoch: 058 | Batch: 000 | Loss: 0.82255 | Correct: 94/128\n"
          ],
          "name": "stderr"
        },
        {
          "output_type": "stream",
          "text": [
            "None\n"
          ],
          "name": "stdout"
        },
        {
          "output_type": "stream",
          "text": [
            "2021-07-12 20:25:50,567 - INFO: lr: 0.08909 | Epoch: 059 | Batch: 000 | Loss: 0.75388 | Correct: 95/128\n"
          ],
          "name": "stderr"
        },
        {
          "output_type": "stream",
          "text": [
            "None\n"
          ],
          "name": "stdout"
        },
        {
          "output_type": "stream",
          "text": [
            "2021-07-12 20:26:06,547 - INFO: lr: 0.08117 | Epoch: 060 | Batch: 000 | Loss: 0.75310 | Correct: 96/128\n"
          ],
          "name": "stderr"
        },
        {
          "output_type": "stream",
          "text": [
            "None\n"
          ],
          "name": "stdout"
        },
        {
          "output_type": "stream",
          "text": [
            "2021-07-12 20:26:22,534 - INFO: lr: 0.07169 | Epoch: 061 | Batch: 000 | Loss: 0.60803 | Correct: 102/128\n"
          ],
          "name": "stderr"
        },
        {
          "output_type": "stream",
          "text": [
            "None\n"
          ],
          "name": "stdout"
        },
        {
          "output_type": "stream",
          "text": [
            "2021-07-12 20:26:38,465 - INFO: lr: 0.06113 | Epoch: 062 | Batch: 000 | Loss: 0.64840 | Correct: 96/128\n"
          ],
          "name": "stderr"
        },
        {
          "output_type": "stream",
          "text": [
            "None\n"
          ],
          "name": "stdout"
        },
        {
          "output_type": "stream",
          "text": [
            "2021-07-12 20:26:54,408 - INFO: lr: 0.05000 | Epoch: 063 | Batch: 000 | Loss: 0.48145 | Correct: 110/128\n"
          ],
          "name": "stderr"
        },
        {
          "output_type": "stream",
          "text": [
            "None\n"
          ],
          "name": "stdout"
        },
        {
          "output_type": "stream",
          "text": [
            "2021-07-12 20:27:10,363 - INFO: lr: 0.03887 | Epoch: 064 | Batch: 000 | Loss: 0.34853 | Correct: 117/128\n"
          ],
          "name": "stderr"
        },
        {
          "output_type": "stream",
          "text": [
            "None\n"
          ],
          "name": "stdout"
        },
        {
          "output_type": "stream",
          "text": [
            "2021-07-12 20:27:26,317 - INFO: lr: 0.02831 | Epoch: 065 | Batch: 000 | Loss: 0.30026 | Correct: 121/128\n"
          ],
          "name": "stderr"
        },
        {
          "output_type": "stream",
          "text": [
            "None\n"
          ],
          "name": "stdout"
        },
        {
          "output_type": "stream",
          "text": [
            "2021-07-12 20:27:42,334 - INFO: lr: 0.01883 | Epoch: 066 | Batch: 000 | Loss: 0.30027 | Correct: 117/128\n"
          ],
          "name": "stderr"
        },
        {
          "output_type": "stream",
          "text": [
            "None\n"
          ],
          "name": "stdout"
        },
        {
          "output_type": "stream",
          "text": [
            "2021-07-12 20:27:58,285 - INFO: lr: 0.01091 | Epoch: 067 | Batch: 000 | Loss: 0.17520 | Correct: 122/128\n"
          ],
          "name": "stderr"
        },
        {
          "output_type": "stream",
          "text": [
            "None\n"
          ],
          "name": "stdout"
        },
        {
          "output_type": "stream",
          "text": [
            "2021-07-12 20:28:14,209 - INFO: lr: 0.00495 | Epoch: 068 | Batch: 000 | Loss: 0.25073 | Correct: 119/128\n"
          ],
          "name": "stderr"
        },
        {
          "output_type": "stream",
          "text": [
            "None\n"
          ],
          "name": "stdout"
        },
        {
          "output_type": "stream",
          "text": [
            "2021-07-12 20:28:30,152 - INFO: lr: 0.00125 | Epoch: 069 | Batch: 000 | Loss: 0.17519 | Correct: 124/128\n"
          ],
          "name": "stderr"
        },
        {
          "output_type": "stream",
          "text": [
            "None\n"
          ],
          "name": "stdout"
        },
        {
          "output_type": "stream",
          "text": [
            "2021-07-12 20:28:45,386 - INFO: Save the snapshot model with index: 4\n",
            "2021-07-12 20:28:46,448 - INFO: n_estimators: 5 | Validation Acc: 73.438 % | Historical Best: 73.438 %\n"
          ],
          "name": "stderr"
        },
        {
          "output_type": "stream",
          "text": [
            "Group 4 Finished!\n",
            "Target number of exemplars: 50\n",
            "Randomly extracting exemplars from class 0 of current split... Extracted 50 exemplars.\n",
            "Randomly extracting exemplars from class 1 of current split... Extracted 50 exemplars.\n",
            "Randomly extracting exemplars from class 2 of current split... Extracted 50 exemplars.\n",
            "Randomly extracting exemplars from class 3 of current split... Extracted 50 exemplars.\n",
            "Randomly extracting exemplars from class 4 of current split... Extracted 50 exemplars.\n",
            "Randomly extracting exemplars from class 5 of current split... Extracted 50 exemplars.\n",
            "Randomly extracting exemplars from class 6 of current split... Extracted 50 exemplars.\n",
            "Randomly extracting exemplars from class 7 of current split... Extracted 50 exemplars.\n",
            "Randomly extracting exemplars from class 8 of current split... Extracted 50 exemplars.\n",
            "Randomly extracting exemplars from class 9 of current split... Extracted 50 exemplars.\n",
            "[0.6265120967741935, 0.8787802419354839, 0.9543850806451613],[0.26033266129032256, 0.10307459677419355, 0.043850806451612906]\n",
            "Testing on both open and closed world\n",
            "owr harmonic mean (threshold:0.5) = 0.36782437963497694\n",
            "owr harmonic mean (threshold:0.75) = 0.18450776126879512\n",
            "owr harmonic mean (threshold:0.95) = 0.08384903005920631\n",
            "\n",
            "=============================================\n",
            "\n",
            "Length of exemplars set: 2000\n"
          ],
          "name": "stdout"
        },
        {
          "output_type": "stream",
          "text": [
            "2021-07-12 20:28:56,371 - INFO: lr: 0.10000 | Epoch: 000 | Batch: 000 | Loss: 5.17725 | Correct: 3/128\n"
          ],
          "name": "stderr"
        },
        {
          "output_type": "stream",
          "text": [
            "None\n"
          ],
          "name": "stdout"
        },
        {
          "output_type": "stream",
          "text": [
            "2021-07-12 20:29:12,705 - INFO: lr: 0.09875 | Epoch: 001 | Batch: 000 | Loss: 2.75554 | Correct: 45/128\n"
          ],
          "name": "stderr"
        },
        {
          "output_type": "stream",
          "text": [
            "None\n"
          ],
          "name": "stdout"
        },
        {
          "output_type": "stream",
          "text": [
            "2021-07-12 20:29:29,016 - INFO: lr: 0.09505 | Epoch: 002 | Batch: 000 | Loss: 2.42568 | Correct: 46/128\n"
          ],
          "name": "stderr"
        },
        {
          "output_type": "stream",
          "text": [
            "None\n"
          ],
          "name": "stdout"
        },
        {
          "output_type": "stream",
          "text": [
            "2021-07-12 20:29:45,384 - INFO: lr: 0.08909 | Epoch: 003 | Batch: 000 | Loss: 2.36706 | Correct: 47/128\n"
          ],
          "name": "stderr"
        },
        {
          "output_type": "stream",
          "text": [
            "None\n"
          ],
          "name": "stdout"
        },
        {
          "output_type": "stream",
          "text": [
            "2021-07-12 20:30:01,776 - INFO: lr: 0.08117 | Epoch: 004 | Batch: 000 | Loss: 2.08744 | Correct: 65/128\n"
          ],
          "name": "stderr"
        },
        {
          "output_type": "stream",
          "text": [
            "None\n"
          ],
          "name": "stdout"
        },
        {
          "output_type": "stream",
          "text": [
            "2021-07-12 20:30:18,101 - INFO: lr: 0.07169 | Epoch: 005 | Batch: 000 | Loss: 2.52537 | Correct: 41/128\n"
          ],
          "name": "stderr"
        },
        {
          "output_type": "stream",
          "text": [
            "None\n"
          ],
          "name": "stdout"
        },
        {
          "output_type": "stream",
          "text": [
            "2021-07-12 20:30:34,421 - INFO: lr: 0.06113 | Epoch: 006 | Batch: 000 | Loss: 2.41319 | Correct: 46/128\n"
          ],
          "name": "stderr"
        },
        {
          "output_type": "stream",
          "text": [
            "None\n"
          ],
          "name": "stdout"
        },
        {
          "output_type": "stream",
          "text": [
            "2021-07-12 20:30:50,728 - INFO: lr: 0.05000 | Epoch: 007 | Batch: 000 | Loss: 1.98638 | Correct: 55/128\n"
          ],
          "name": "stderr"
        },
        {
          "output_type": "stream",
          "text": [
            "None\n"
          ],
          "name": "stdout"
        },
        {
          "output_type": "stream",
          "text": [
            "2021-07-12 20:31:07,065 - INFO: lr: 0.03887 | Epoch: 008 | Batch: 000 | Loss: 1.98329 | Correct: 60/128\n"
          ],
          "name": "stderr"
        },
        {
          "output_type": "stream",
          "text": [
            "None\n"
          ],
          "name": "stdout"
        },
        {
          "output_type": "stream",
          "text": [
            "2021-07-12 20:31:23,438 - INFO: lr: 0.02831 | Epoch: 009 | Batch: 000 | Loss: 1.79448 | Correct: 64/128\n"
          ],
          "name": "stderr"
        },
        {
          "output_type": "stream",
          "text": [
            "None\n"
          ],
          "name": "stdout"
        },
        {
          "output_type": "stream",
          "text": [
            "2021-07-12 20:31:39,792 - INFO: lr: 0.01883 | Epoch: 010 | Batch: 000 | Loss: 2.09152 | Correct: 56/128\n"
          ],
          "name": "stderr"
        },
        {
          "output_type": "stream",
          "text": [
            "None\n"
          ],
          "name": "stdout"
        },
        {
          "output_type": "stream",
          "text": [
            "2021-07-12 20:31:56,105 - INFO: lr: 0.01091 | Epoch: 011 | Batch: 000 | Loss: 1.98862 | Correct: 61/128\n"
          ],
          "name": "stderr"
        },
        {
          "output_type": "stream",
          "text": [
            "None\n"
          ],
          "name": "stdout"
        },
        {
          "output_type": "stream",
          "text": [
            "2021-07-12 20:32:12,426 - INFO: lr: 0.00495 | Epoch: 012 | Batch: 000 | Loss: 1.45173 | Correct: 74/128\n"
          ],
          "name": "stderr"
        },
        {
          "output_type": "stream",
          "text": [
            "None\n"
          ],
          "name": "stdout"
        },
        {
          "output_type": "stream",
          "text": [
            "2021-07-12 20:32:28,799 - INFO: lr: 0.00125 | Epoch: 013 | Batch: 000 | Loss: 1.49494 | Correct: 74/128\n"
          ],
          "name": "stderr"
        },
        {
          "output_type": "stream",
          "text": [
            "None\n"
          ],
          "name": "stdout"
        },
        {
          "output_type": "stream",
          "text": [
            "2021-07-12 20:32:44,354 - INFO: Save the snapshot model with index: 0\n",
            "2021-07-12 20:32:44,992 - INFO: n_estimators: 1 | Validation Acc: 66.853 % | Historical Best: 66.853 %\n",
            "2021-07-12 20:32:45,795 - INFO: lr: 0.10000 | Epoch: 014 | Batch: 000 | Loss: 1.66282 | Correct: 71/128\n"
          ],
          "name": "stderr"
        },
        {
          "output_type": "stream",
          "text": [
            "None\n"
          ],
          "name": "stdout"
        },
        {
          "output_type": "stream",
          "text": [
            "2021-07-12 20:33:02,113 - INFO: lr: 0.09875 | Epoch: 015 | Batch: 000 | Loss: 2.21611 | Correct: 52/128\n"
          ],
          "name": "stderr"
        },
        {
          "output_type": "stream",
          "text": [
            "None\n"
          ],
          "name": "stdout"
        },
        {
          "output_type": "stream",
          "text": [
            "2021-07-12 20:33:18,459 - INFO: lr: 0.09505 | Epoch: 016 | Batch: 000 | Loss: 1.61893 | Correct: 67/128\n"
          ],
          "name": "stderr"
        },
        {
          "output_type": "stream",
          "text": [
            "None\n"
          ],
          "name": "stdout"
        },
        {
          "output_type": "stream",
          "text": [
            "2021-07-12 20:33:34,747 - INFO: lr: 0.08909 | Epoch: 017 | Batch: 000 | Loss: 1.68211 | Correct: 69/128\n"
          ],
          "name": "stderr"
        },
        {
          "output_type": "stream",
          "text": [
            "None\n"
          ],
          "name": "stdout"
        },
        {
          "output_type": "stream",
          "text": [
            "2021-07-12 20:33:51,106 - INFO: lr: 0.08117 | Epoch: 018 | Batch: 000 | Loss: 1.64832 | Correct: 71/128\n"
          ],
          "name": "stderr"
        },
        {
          "output_type": "stream",
          "text": [
            "None\n"
          ],
          "name": "stdout"
        },
        {
          "output_type": "stream",
          "text": [
            "2021-07-12 20:34:07,410 - INFO: lr: 0.07169 | Epoch: 019 | Batch: 000 | Loss: 1.74427 | Correct: 73/128\n"
          ],
          "name": "stderr"
        },
        {
          "output_type": "stream",
          "text": [
            "None\n"
          ],
          "name": "stdout"
        },
        {
          "output_type": "stream",
          "text": [
            "2021-07-12 20:34:23,726 - INFO: lr: 0.06113 | Epoch: 020 | Batch: 000 | Loss: 1.75122 | Correct: 69/128\n"
          ],
          "name": "stderr"
        },
        {
          "output_type": "stream",
          "text": [
            "None\n"
          ],
          "name": "stdout"
        },
        {
          "output_type": "stream",
          "text": [
            "2021-07-12 20:34:40,062 - INFO: lr: 0.05000 | Epoch: 021 | Batch: 000 | Loss: 1.71575 | Correct: 75/128\n"
          ],
          "name": "stderr"
        },
        {
          "output_type": "stream",
          "text": [
            "None\n"
          ],
          "name": "stdout"
        },
        {
          "output_type": "stream",
          "text": [
            "2021-07-12 20:34:56,407 - INFO: lr: 0.03887 | Epoch: 022 | Batch: 000 | Loss: 1.64851 | Correct: 73/128\n"
          ],
          "name": "stderr"
        },
        {
          "output_type": "stream",
          "text": [
            "None\n"
          ],
          "name": "stdout"
        },
        {
          "output_type": "stream",
          "text": [
            "2021-07-12 20:35:12,722 - INFO: lr: 0.02831 | Epoch: 023 | Batch: 000 | Loss: 1.38517 | Correct: 84/128\n"
          ],
          "name": "stderr"
        },
        {
          "output_type": "stream",
          "text": [
            "None\n"
          ],
          "name": "stdout"
        },
        {
          "output_type": "stream",
          "text": [
            "2021-07-12 20:35:29,074 - INFO: lr: 0.01883 | Epoch: 024 | Batch: 000 | Loss: 1.24673 | Correct: 82/128\n"
          ],
          "name": "stderr"
        },
        {
          "output_type": "stream",
          "text": [
            "None\n"
          ],
          "name": "stdout"
        },
        {
          "output_type": "stream",
          "text": [
            "2021-07-12 20:35:45,400 - INFO: lr: 0.01091 | Epoch: 025 | Batch: 000 | Loss: 0.96989 | Correct: 94/128\n"
          ],
          "name": "stderr"
        },
        {
          "output_type": "stream",
          "text": [
            "None\n"
          ],
          "name": "stdout"
        },
        {
          "output_type": "stream",
          "text": [
            "2021-07-12 20:36:01,761 - INFO: lr: 0.00495 | Epoch: 026 | Batch: 000 | Loss: 1.15355 | Correct: 88/128\n"
          ],
          "name": "stderr"
        },
        {
          "output_type": "stream",
          "text": [
            "None\n"
          ],
          "name": "stdout"
        },
        {
          "output_type": "stream",
          "text": [
            "2021-07-12 20:36:18,104 - INFO: lr: 0.00125 | Epoch: 027 | Batch: 000 | Loss: 1.02273 | Correct: 89/128\n"
          ],
          "name": "stderr"
        },
        {
          "output_type": "stream",
          "text": [
            "None\n"
          ],
          "name": "stdout"
        },
        {
          "output_type": "stream",
          "text": [
            "2021-07-12 20:36:33,649 - INFO: Save the snapshot model with index: 1\n",
            "2021-07-12 20:36:34,365 - INFO: n_estimators: 2 | Validation Acc: 71.540 % | Historical Best: 71.540 %\n",
            "2021-07-12 20:36:35,189 - INFO: lr: 0.10000 | Epoch: 028 | Batch: 000 | Loss: 1.10765 | Correct: 94/128\n"
          ],
          "name": "stderr"
        },
        {
          "output_type": "stream",
          "text": [
            "None\n"
          ],
          "name": "stdout"
        },
        {
          "output_type": "stream",
          "text": [
            "2021-07-12 20:36:51,507 - INFO: lr: 0.09875 | Epoch: 029 | Batch: 000 | Loss: 1.59938 | Correct: 74/128\n"
          ],
          "name": "stderr"
        },
        {
          "output_type": "stream",
          "text": [
            "None\n"
          ],
          "name": "stdout"
        },
        {
          "output_type": "stream",
          "text": [
            "2021-07-12 20:37:07,830 - INFO: lr: 0.09505 | Epoch: 030 | Batch: 000 | Loss: 1.63672 | Correct: 67/128\n"
          ],
          "name": "stderr"
        },
        {
          "output_type": "stream",
          "text": [
            "None\n"
          ],
          "name": "stdout"
        },
        {
          "output_type": "stream",
          "text": [
            "2021-07-12 20:37:24,140 - INFO: lr: 0.08909 | Epoch: 031 | Batch: 000 | Loss: 1.39030 | Correct: 78/128\n"
          ],
          "name": "stderr"
        },
        {
          "output_type": "stream",
          "text": [
            "None\n"
          ],
          "name": "stdout"
        },
        {
          "output_type": "stream",
          "text": [
            "2021-07-12 20:37:40,489 - INFO: lr: 0.08117 | Epoch: 032 | Batch: 000 | Loss: 1.47186 | Correct: 73/128\n"
          ],
          "name": "stderr"
        },
        {
          "output_type": "stream",
          "text": [
            "None\n"
          ],
          "name": "stdout"
        },
        {
          "output_type": "stream",
          "text": [
            "2021-07-12 20:37:56,810 - INFO: lr: 0.07169 | Epoch: 033 | Batch: 000 | Loss: 1.05304 | Correct: 94/128\n"
          ],
          "name": "stderr"
        },
        {
          "output_type": "stream",
          "text": [
            "None\n"
          ],
          "name": "stdout"
        },
        {
          "output_type": "stream",
          "text": [
            "2021-07-12 20:38:13,144 - INFO: lr: 0.06113 | Epoch: 034 | Batch: 000 | Loss: 1.12996 | Correct: 87/128\n"
          ],
          "name": "stderr"
        },
        {
          "output_type": "stream",
          "text": [
            "None\n"
          ],
          "name": "stdout"
        },
        {
          "output_type": "stream",
          "text": [
            "2021-07-12 20:38:29,478 - INFO: lr: 0.05000 | Epoch: 035 | Batch: 000 | Loss: 1.06789 | Correct: 89/128\n"
          ],
          "name": "stderr"
        },
        {
          "output_type": "stream",
          "text": [
            "None\n"
          ],
          "name": "stdout"
        },
        {
          "output_type": "stream",
          "text": [
            "2021-07-12 20:38:45,809 - INFO: lr: 0.03887 | Epoch: 036 | Batch: 000 | Loss: 1.01014 | Correct: 92/128\n"
          ],
          "name": "stderr"
        },
        {
          "output_type": "stream",
          "text": [
            "None\n"
          ],
          "name": "stdout"
        },
        {
          "output_type": "stream",
          "text": [
            "2021-07-12 20:39:02,125 - INFO: lr: 0.02831 | Epoch: 037 | Batch: 000 | Loss: 0.81244 | Correct: 100/128\n"
          ],
          "name": "stderr"
        },
        {
          "output_type": "stream",
          "text": [
            "None\n"
          ],
          "name": "stdout"
        },
        {
          "output_type": "stream",
          "text": [
            "2021-07-12 20:39:18,444 - INFO: lr: 0.01883 | Epoch: 038 | Batch: 000 | Loss: 1.00050 | Correct: 90/128\n"
          ],
          "name": "stderr"
        },
        {
          "output_type": "stream",
          "text": [
            "None\n"
          ],
          "name": "stdout"
        },
        {
          "output_type": "stream",
          "text": [
            "2021-07-12 20:39:34,784 - INFO: lr: 0.01091 | Epoch: 039 | Batch: 000 | Loss: 0.77307 | Correct: 100/128\n"
          ],
          "name": "stderr"
        },
        {
          "output_type": "stream",
          "text": [
            "None\n"
          ],
          "name": "stdout"
        },
        {
          "output_type": "stream",
          "text": [
            "2021-07-12 20:39:51,096 - INFO: lr: 0.00495 | Epoch: 040 | Batch: 000 | Loss: 0.82142 | Correct: 97/128\n"
          ],
          "name": "stderr"
        },
        {
          "output_type": "stream",
          "text": [
            "None\n"
          ],
          "name": "stdout"
        },
        {
          "output_type": "stream",
          "text": [
            "2021-07-12 20:40:07,381 - INFO: lr: 0.00125 | Epoch: 041 | Batch: 000 | Loss: 0.59930 | Correct: 106/128\n"
          ],
          "name": "stderr"
        },
        {
          "output_type": "stream",
          "text": [
            "None\n"
          ],
          "name": "stdout"
        },
        {
          "output_type": "stream",
          "text": [
            "2021-07-12 20:40:22,911 - INFO: Save the snapshot model with index: 2\n",
            "2021-07-12 20:40:23,776 - INFO: n_estimators: 3 | Validation Acc: 75.781 % | Historical Best: 75.781 %\n",
            "2021-07-12 20:40:24,597 - INFO: lr: 0.10000 | Epoch: 042 | Batch: 000 | Loss: 0.83956 | Correct: 102/128\n"
          ],
          "name": "stderr"
        },
        {
          "output_type": "stream",
          "text": [
            "None\n"
          ],
          "name": "stdout"
        },
        {
          "output_type": "stream",
          "text": [
            "2021-07-12 20:40:40,864 - INFO: lr: 0.09875 | Epoch: 043 | Batch: 000 | Loss: 1.33809 | Correct: 83/128\n"
          ],
          "name": "stderr"
        },
        {
          "output_type": "stream",
          "text": [
            "None\n"
          ],
          "name": "stdout"
        },
        {
          "output_type": "stream",
          "text": [
            "2021-07-12 20:40:57,200 - INFO: lr: 0.09505 | Epoch: 044 | Batch: 000 | Loss: 1.03991 | Correct: 91/128\n"
          ],
          "name": "stderr"
        },
        {
          "output_type": "stream",
          "text": [
            "None\n"
          ],
          "name": "stdout"
        },
        {
          "output_type": "stream",
          "text": [
            "2021-07-12 20:41:13,515 - INFO: lr: 0.08909 | Epoch: 045 | Batch: 000 | Loss: 1.16431 | Correct: 90/128\n"
          ],
          "name": "stderr"
        },
        {
          "output_type": "stream",
          "text": [
            "None\n"
          ],
          "name": "stdout"
        },
        {
          "output_type": "stream",
          "text": [
            "2021-07-12 20:41:29,815 - INFO: lr: 0.08117 | Epoch: 046 | Batch: 000 | Loss: 1.24091 | Correct: 77/128\n"
          ],
          "name": "stderr"
        },
        {
          "output_type": "stream",
          "text": [
            "None\n"
          ],
          "name": "stdout"
        },
        {
          "output_type": "stream",
          "text": [
            "2021-07-12 20:41:46,120 - INFO: lr: 0.07169 | Epoch: 047 | Batch: 000 | Loss: 0.90869 | Correct: 94/128\n"
          ],
          "name": "stderr"
        },
        {
          "output_type": "stream",
          "text": [
            "None\n"
          ],
          "name": "stdout"
        },
        {
          "output_type": "stream",
          "text": [
            "2021-07-12 20:42:02,470 - INFO: lr: 0.06113 | Epoch: 048 | Batch: 000 | Loss: 0.94811 | Correct: 96/128\n"
          ],
          "name": "stderr"
        },
        {
          "output_type": "stream",
          "text": [
            "None\n"
          ],
          "name": "stdout"
        },
        {
          "output_type": "stream",
          "text": [
            "2021-07-12 20:42:18,772 - INFO: lr: 0.05000 | Epoch: 049 | Batch: 000 | Loss: 0.79748 | Correct: 104/128\n"
          ],
          "name": "stderr"
        },
        {
          "output_type": "stream",
          "text": [
            "None\n"
          ],
          "name": "stdout"
        },
        {
          "output_type": "stream",
          "text": [
            "2021-07-12 20:42:35,123 - INFO: lr: 0.03887 | Epoch: 050 | Batch: 000 | Loss: 0.68636 | Correct: 101/128\n"
          ],
          "name": "stderr"
        },
        {
          "output_type": "stream",
          "text": [
            "None\n"
          ],
          "name": "stdout"
        },
        {
          "output_type": "stream",
          "text": [
            "2021-07-12 20:42:51,411 - INFO: lr: 0.02831 | Epoch: 051 | Batch: 000 | Loss: 0.69088 | Correct: 102/128\n"
          ],
          "name": "stderr"
        },
        {
          "output_type": "stream",
          "text": [
            "None\n"
          ],
          "name": "stdout"
        },
        {
          "output_type": "stream",
          "text": [
            "2021-07-12 20:43:07,733 - INFO: lr: 0.01883 | Epoch: 052 | Batch: 000 | Loss: 0.43062 | Correct: 112/128\n"
          ],
          "name": "stderr"
        },
        {
          "output_type": "stream",
          "text": [
            "None\n"
          ],
          "name": "stdout"
        },
        {
          "output_type": "stream",
          "text": [
            "2021-07-12 20:43:24,034 - INFO: lr: 0.01091 | Epoch: 053 | Batch: 000 | Loss: 0.45105 | Correct: 108/128\n"
          ],
          "name": "stderr"
        },
        {
          "output_type": "stream",
          "text": [
            "None\n"
          ],
          "name": "stdout"
        },
        {
          "output_type": "stream",
          "text": [
            "2021-07-12 20:43:40,356 - INFO: lr: 0.00495 | Epoch: 054 | Batch: 000 | Loss: 0.59187 | Correct: 106/128\n"
          ],
          "name": "stderr"
        },
        {
          "output_type": "stream",
          "text": [
            "None\n"
          ],
          "name": "stdout"
        },
        {
          "output_type": "stream",
          "text": [
            "2021-07-12 20:43:56,660 - INFO: lr: 0.00125 | Epoch: 055 | Batch: 000 | Loss: 0.41733 | Correct: 114/128\n"
          ],
          "name": "stderr"
        },
        {
          "output_type": "stream",
          "text": [
            "None\n"
          ],
          "name": "stdout"
        },
        {
          "output_type": "stream",
          "text": [
            "2021-07-12 20:44:12,210 - INFO: Save the snapshot model with index: 3\n",
            "2021-07-12 20:44:13,161 - INFO: n_estimators: 4 | Validation Acc: 79.018 % | Historical Best: 79.018 %\n",
            "2021-07-12 20:44:13,969 - INFO: lr: 0.10000 | Epoch: 056 | Batch: 000 | Loss: 0.57711 | Correct: 108/128\n"
          ],
          "name": "stderr"
        },
        {
          "output_type": "stream",
          "text": [
            "None\n"
          ],
          "name": "stdout"
        },
        {
          "output_type": "stream",
          "text": [
            "2021-07-12 20:44:30,329 - INFO: lr: 0.09875 | Epoch: 057 | Batch: 000 | Loss: 0.89581 | Correct: 97/128\n"
          ],
          "name": "stderr"
        },
        {
          "output_type": "stream",
          "text": [
            "None\n"
          ],
          "name": "stdout"
        },
        {
          "output_type": "stream",
          "text": [
            "2021-07-12 20:44:46,647 - INFO: lr: 0.09505 | Epoch: 058 | Batch: 000 | Loss: 0.95075 | Correct: 88/128\n"
          ],
          "name": "stderr"
        },
        {
          "output_type": "stream",
          "text": [
            "None\n"
          ],
          "name": "stdout"
        },
        {
          "output_type": "stream",
          "text": [
            "2021-07-12 20:45:02,974 - INFO: lr: 0.08909 | Epoch: 059 | Batch: 000 | Loss: 0.94098 | Correct: 97/128\n"
          ],
          "name": "stderr"
        },
        {
          "output_type": "stream",
          "text": [
            "None\n"
          ],
          "name": "stdout"
        },
        {
          "output_type": "stream",
          "text": [
            "2021-07-12 20:45:19,312 - INFO: lr: 0.08117 | Epoch: 060 | Batch: 000 | Loss: 0.80234 | Correct: 99/128\n"
          ],
          "name": "stderr"
        },
        {
          "output_type": "stream",
          "text": [
            "None\n"
          ],
          "name": "stdout"
        },
        {
          "output_type": "stream",
          "text": [
            "2021-07-12 20:45:35,613 - INFO: lr: 0.07169 | Epoch: 061 | Batch: 000 | Loss: 0.61602 | Correct: 102/128\n"
          ],
          "name": "stderr"
        },
        {
          "output_type": "stream",
          "text": [
            "None\n"
          ],
          "name": "stdout"
        },
        {
          "output_type": "stream",
          "text": [
            "2021-07-12 20:45:51,962 - INFO: lr: 0.06113 | Epoch: 062 | Batch: 000 | Loss: 0.58398 | Correct: 104/128\n"
          ],
          "name": "stderr"
        },
        {
          "output_type": "stream",
          "text": [
            "None\n"
          ],
          "name": "stdout"
        },
        {
          "output_type": "stream",
          "text": [
            "2021-07-12 20:46:08,296 - INFO: lr: 0.05000 | Epoch: 063 | Batch: 000 | Loss: 0.61610 | Correct: 103/128\n"
          ],
          "name": "stderr"
        },
        {
          "output_type": "stream",
          "text": [
            "None\n"
          ],
          "name": "stdout"
        },
        {
          "output_type": "stream",
          "text": [
            "2021-07-12 20:46:24,649 - INFO: lr: 0.03887 | Epoch: 064 | Batch: 000 | Loss: 0.34825 | Correct: 115/128\n"
          ],
          "name": "stderr"
        },
        {
          "output_type": "stream",
          "text": [
            "None\n"
          ],
          "name": "stdout"
        },
        {
          "output_type": "stream",
          "text": [
            "2021-07-12 20:46:40,973 - INFO: lr: 0.02831 | Epoch: 065 | Batch: 000 | Loss: 0.50593 | Correct: 106/128\n"
          ],
          "name": "stderr"
        },
        {
          "output_type": "stream",
          "text": [
            "None\n"
          ],
          "name": "stdout"
        },
        {
          "output_type": "stream",
          "text": [
            "2021-07-12 20:46:57,301 - INFO: lr: 0.01883 | Epoch: 066 | Batch: 000 | Loss: 0.29339 | Correct: 118/128\n"
          ],
          "name": "stderr"
        },
        {
          "output_type": "stream",
          "text": [
            "None\n"
          ],
          "name": "stdout"
        },
        {
          "output_type": "stream",
          "text": [
            "2021-07-12 20:47:13,609 - INFO: lr: 0.01091 | Epoch: 067 | Batch: 000 | Loss: 0.35068 | Correct: 117/128\n"
          ],
          "name": "stderr"
        },
        {
          "output_type": "stream",
          "text": [
            "None\n"
          ],
          "name": "stdout"
        },
        {
          "output_type": "stream",
          "text": [
            "2021-07-12 20:47:29,936 - INFO: lr: 0.00495 | Epoch: 068 | Batch: 000 | Loss: 0.31376 | Correct: 119/128\n"
          ],
          "name": "stderr"
        },
        {
          "output_type": "stream",
          "text": [
            "None\n"
          ],
          "name": "stdout"
        },
        {
          "output_type": "stream",
          "text": [
            "2021-07-12 20:47:46,300 - INFO: lr: 0.00125 | Epoch: 069 | Batch: 000 | Loss: 0.21625 | Correct: 121/128\n"
          ],
          "name": "stderr"
        },
        {
          "output_type": "stream",
          "text": [
            "None\n"
          ],
          "name": "stdout"
        },
        {
          "output_type": "stream",
          "text": [
            "2021-07-12 20:48:01,869 - INFO: Save the snapshot model with index: 4\n",
            "2021-07-12 20:48:02,950 - INFO: n_estimators: 5 | Validation Acc: 78.460 % | Historical Best: 79.018 %\n"
          ],
          "name": "stderr"
        },
        {
          "output_type": "stream",
          "text": [
            "Group 5 Finished!\n",
            "Target number of exemplars: 40\n",
            "Randomly extracting exemplars from class 0 of current split... Extracted 40 exemplars.\n",
            "Randomly extracting exemplars from class 1 of current split... Extracted 40 exemplars.\n",
            "Randomly extracting exemplars from class 2 of current split... Extracted 40 exemplars.\n",
            "Randomly extracting exemplars from class 3 of current split... Extracted 40 exemplars.\n",
            "Randomly extracting exemplars from class 4 of current split... Extracted 40 exemplars.\n",
            "Randomly extracting exemplars from class 5 of current split... Extracted 40 exemplars.\n",
            "Randomly extracting exemplars from class 6 of current split... Extracted 40 exemplars.\n",
            "Randomly extracting exemplars from class 7 of current split... Extracted 40 exemplars.\n",
            "Randomly extracting exemplars from class 8 of current split... Extracted 40 exemplars.\n",
            "Randomly extracting exemplars from class 9 of current split... Extracted 40 exemplars.\n",
            "[0.6622596153846154, 0.8623798076923077, 0.9475160256410257],[0.22455929487179488, 0.10717147435897435, 0.04767628205128205]\n",
            "Testing on both open and closed world\n",
            "owr harmonic mean (threshold:0.5) = 0.3353932816110928\n",
            "owr harmonic mean (threshold:0.75) = 0.19065008145263826\n",
            "owr harmonic mean (threshold:0.95) = 0.09078454674016269\n",
            "\n",
            "=============================================\n",
            "\n"
          ],
          "name": "stdout"
        },
        {
          "output_type": "error",
          "ename": "NameError",
          "evalue": "ignored",
          "traceback": [
            "\u001b[0;31m---------------------------------------------------------------------------\u001b[0m",
            "\u001b[0;31mNameError\u001b[0m                                 Traceback (most recent call last)",
            "\u001b[0;32m<ipython-input-8-0dc92aa8b031>\u001b[0m in \u001b[0;36m<module>\u001b[0;34m()\u001b[0m\n\u001b[1;32m     32\u001b[0m \u001b[0;34m\u001b[0m\u001b[0m\n\u001b[1;32m     33\u001b[0m   \u001b[0;31m#train and evaluate the model\u001b[0m\u001b[0;34m\u001b[0m\u001b[0;34m\u001b[0m\u001b[0;34m\u001b[0m\u001b[0m\n\u001b[0;32m---> 34\u001b[0;31m   \u001b[0mlogs\u001b[0m\u001b[0;34m[\u001b[0m\u001b[0mrun\u001b[0m\u001b[0;34m]\u001b[0m \u001b[0;34m=\u001b[0m \u001b[0mtrainer\u001b[0m\u001b[0;34m.\u001b[0m\u001b[0mtrain_model\u001b[0m\u001b[0;34m(\u001b[0m\u001b[0mNUM_EPOCHS\u001b[0m\u001b[0;34m)\u001b[0m\u001b[0;34m\u001b[0m\u001b[0;34m\u001b[0m\u001b[0m\n\u001b[0m\u001b[1;32m     35\u001b[0m \u001b[0;34m\u001b[0m\u001b[0m\n\u001b[1;32m     36\u001b[0m   \u001b[0mbest_net_tot_classes\u001b[0m\u001b[0;34m[\u001b[0m\u001b[0mrun\u001b[0m\u001b[0;34m]\u001b[0m \u001b[0;34m=\u001b[0m \u001b[0mdeepcopy\u001b[0m\u001b[0;34m(\u001b[0m\u001b[0mtrainer\u001b[0m\u001b[0;34m.\u001b[0m\u001b[0mbest_net\u001b[0m\u001b[0;34m)\u001b[0m\u001b[0;34m\u001b[0m\u001b[0;34m\u001b[0m\u001b[0m\n",
            "\u001b[0;32m/content/ProjectMLDL/model/owrEnsamble.py\u001b[0m in \u001b[0;36mtrain_model\u001b[0;34m(self, num_epochs)\u001b[0m\n\u001b[1;32m    104\u001b[0m         \u001b[0mself\u001b[0m\u001b[0;34m.\u001b[0m\u001b[0madd_output_nodes\u001b[0m\u001b[0;34m(\u001b[0m\u001b[0;34m)\u001b[0m\u001b[0;34m\u001b[0m\u001b[0;34m\u001b[0m\u001b[0m\n\u001b[1;32m    105\u001b[0m \u001b[0;34m\u001b[0m\u001b[0m\n\u001b[0;32m--> 106\u001b[0;31m     \u001b[0mlogs\u001b[0m\u001b[0;34m[\u001b[0m\u001b[0;34m'true_labels'\u001b[0m\u001b[0;34m]\u001b[0m \u001b[0;34m=\u001b[0m \u001b[0mtrue_targets\u001b[0m\u001b[0;34m\u001b[0m\u001b[0;34m\u001b[0m\u001b[0m\n\u001b[0m\u001b[1;32m    107\u001b[0m     \u001b[0mlogs\u001b[0m\u001b[0;34m[\u001b[0m\u001b[0;34m'predictions'\u001b[0m\u001b[0;34m]\u001b[0m \u001b[0;34m=\u001b[0m \u001b[0mpredictions\u001b[0m\u001b[0;34m\u001b[0m\u001b[0;34m\u001b[0m\u001b[0m\n\u001b[1;32m    108\u001b[0m     \u001b[0;32mreturn\u001b[0m \u001b[0mlogs\u001b[0m\u001b[0;34m\u001b[0m\u001b[0;34m\u001b[0m\u001b[0m\n",
            "\u001b[0;31mNameError\u001b[0m: name 'true_targets' is not defined"
          ]
        }
      ]
    },
    {
      "cell_type": "markdown",
      "metadata": {
        "id": "UIUvaKyhx0rC"
      },
      "source": [
        "### Store logs in more usable dtype"
      ]
    },
    {
      "cell_type": "code",
      "metadata": {
        "id": "1-uV6X0yxzQc"
      },
      "source": [
        "train_loss = [[logs[run_i]['group_train_loss'][i] for i in range(5)] for run_i in range(len(RANDOM_SEED))]\n",
        "train_accuracy = [[logs[run_i]['group_train_accuracies'][i] for i in range(5)] for run_i in range(len(RANDOM_SEED))]\n",
        "val_loss = [[logs[run_i]['val_losses'][i] for i in range(5)] for run_i in range(len(RANDOM_SEED))]\n",
        "val_accuracy = [[logs[run_i]['val_accuracies'][i] for i in range(5)] for run_i in range(len(RANDOM_SEED))]\n",
        "test_accuracy = [[logs[run_i]['test_accuracies'][i] for i in range(5)] for run_i in range(len(RANDOM_SEED))]\n",
        "predictions = [logs[run_i]['predictions'].cpu().data.numpy().tolist() for run_i in range(len(RANDOM_SEED))]\n",
        "true_labels = [logs[run_i]['true_labels'].cpu().data.numpy().tolist() for run_i in range(len(RANDOM_SEED))]\n",
        "\n",
        "open_values = [[logs[run_i]['open_values'][i] for i in range(5)] for run_i in range(len(RANDOM_SEED))]\n",
        "closed_values = [[logs[run_i]['closed_values'][i] for i in range(5)] for run_i in range(len(RANDOM_SEED))]"
      ],
      "execution_count": null,
      "outputs": []
    },
    {
      "cell_type": "markdown",
      "metadata": {
        "id": "6r_ybcCLmc2R"
      },
      "source": [
        "### Save the model"
      ]
    },
    {
      "cell_type": "markdown",
      "metadata": {
        "id": "nIG3hIOkyFNs"
      },
      "source": [
        "#### Saving logs in JSON files"
      ]
    },
    {
      "cell_type": "code",
      "metadata": {
        "id": "mF_GR4KAyNYs"
      },
      "source": [
        "import json\n",
        "\n",
        "with open('states/reject_train_loss.json', 'w') as f:\n",
        "  json.dump(train_loss, f)\n",
        "f.close\n",
        "with open('states/reject_train_accuracy.json', 'w') as f:\n",
        "  json.dump(train_accuracy, f)\n",
        "f.close\n",
        "with open('states/reject_val_loss.json', 'w') as f:\n",
        "  json.dump(val_loss, f)\n",
        "f.close  \n",
        "with open('states/reject_val_accuracy.json', 'w') as f:\n",
        "  json.dump(val_accuracy, f)\n",
        "f.close\n",
        "with open('states/reject_test_accuracy.json', 'w') as f:\n",
        "  json.dump(test_accuracy, f)\n",
        "f.close\n",
        "with open('states/reject_predictions.json', 'w') as f:\n",
        "  json.dump(predictions, f)\n",
        "f.close\n",
        "with open('states/reject_true_labels.json', 'w') as f:\n",
        "  json.dump(true_labels, f)\n",
        "f.close"
      ],
      "execution_count": null,
      "outputs": []
    },
    {
      "cell_type": "markdown",
      "metadata": {
        "id": "JoVU9_V4zXOL"
      },
      "source": [
        "#### Saving best resnet on 100 classes for each seed"
      ]
    },
    {
      "cell_type": "markdown",
      "metadata": {
        "id": "2NMLqiIS19IJ"
      },
      "source": [
        "### Print some graphs"
      ]
    },
    {
      "cell_type": "code",
      "metadata": {
        "id": "G6Mg2QiIBNRo"
      },
      "source": [
        "from data.utils_plot import plot_train_val, plot_test_accuracies, plot_confusion_matrix"
      ],
      "execution_count": null,
      "outputs": []
    },
    {
      "cell_type": "code",
      "metadata": {
        "id": "M2QzOlExmhKo"
      },
      "source": [
        "train_loss = np.array(train_loss)\n",
        "train_accuracy = np.array(train_accuracy)\n",
        "val_loss = np.array(val_loss)\n",
        "val_accuracy = np.array(val_accuracy)\n",
        "test_accuracy = np.array(test_accuracy)\n",
        "\n",
        "\n",
        "\n",
        "train_loss_stats = np.array([train_loss.mean(0), train_loss.std(0)]).transpose()\n",
        "train_accuracy_stats = np.array([train_accuracy.mean(0), train_accuracy.std(0)]).transpose()\n",
        "val_loss_stats = np.array([val_loss.mean(0), val_loss.std(0)]).transpose()\n",
        "val_accuracy_stats = np.array([val_accuracy.mean(0), val_accuracy.std(0)]).transpose()\n",
        "test_accuracy_stats = np.array([test_accuracy.mean(0), test_accuracy.std(0)]).transpose()\n",
        "\n",
        "\n",
        "open_values = np.array(open_values)\n",
        "closed_values = np.array(closed_values)"
      ],
      "execution_count": null,
      "outputs": []
    },
    {
      "cell_type": "code",
      "metadata": {
        "id": "jhDfQb32kuJg"
      },
      "source": [
        "threshold = 0.75\n",
        "print(f\"Threshold: {threshold}\")\n",
        "fig, axs = plt.subplots(1,2)\n",
        "fig.set_size_inches(15, 5)\n",
        "\n",
        "\n",
        "\n",
        "a,b,c = axs[0].hist(closed_values[0][4].cpu().numpy(), color = 'red', edgecolor = 'black', bins = [0,threshold,1])\n",
        "below = c[0].get_height()\n",
        "above = c[1].get_height()\n",
        "print(f\"closed_below:{below}, close_above:{above}\")\n",
        "print(f\"closed world rejection rate: {below/(below+above):.2f} (should be 0)\")\n",
        "\n",
        "\n",
        "a,b,c = axs[1].hist(open_values[0][4].cpu().numpy(), color = 'blue', edgecolor = 'black', bins = [0,threshold,1])\n",
        "below = c[0].get_height()\n",
        "above = c[1].get_height()\n",
        "print(f\"open_below:{below}, open_above:{above}\")\n",
        "print(f\"open world rejection rate: {below/(below+above):.2f} (should be 1)\")"
      ],
      "execution_count": null,
      "outputs": []
    },
    {
      "cell_type": "code",
      "metadata": {
        "id": "GQc5Bv_yF9eP"
      },
      "source": [
        "mask = logs[run]['predictions'] == 50\n",
        "rejected = torch.sum(mask)\n",
        "total = logs[run]['predictions'].size(0)\n",
        "\n",
        "print(f\"rejection rate: {rejected/total:.2f}\")\n",
        "\n",
        "\n"
      ],
      "execution_count": null,
      "outputs": []
    },
    {
      "cell_type": "markdown",
      "metadata": {
        "id": "6rB0p1PlFxrc"
      },
      "source": [
        "#### Train validation loss"
      ]
    },
    {
      "cell_type": "code",
      "metadata": {
        "id": "lAW6ze3-S_Kk"
      },
      "source": [
        "def plot_losses(train_stats, val_stats, loss = bool, save_directory = None):\n",
        "  train_mean = np.array(train_stats)[:, 0]\n",
        "  train_std = np.array(train_stats)[:, 1]\n",
        "  val_mean = np.array(val_stats)[:, 0]\n",
        "  val_std = np.array(val_stats)[:, 1]\n",
        "  fig, ax = plt.subplots(figsize = (10, 5), dpi = 100)\n",
        "  x = np.arange(10,51,10)\n",
        "  ax.errorbar(x, train_mean, train_std, label = 'Training')\n",
        "  ax.errorbar(x, val_mean, val_std, label = 'Validation')\n",
        "  if loss:\n",
        "    ax.set_title(\"Training and validation loss\")\n",
        "    ax.set_ylabel(\"Loss\")\n",
        "  else:\n",
        "    ax.set_title(\"Training and validation accuracy\")\n",
        "    ax.set_ylabel(\"Accuracy\")\n",
        "  ax.set_xlabel(\"Number of classes\")\n",
        "  plt.tight_layout()\n",
        "  ax.legend()\n",
        "  if save_directory != None:\n",
        "    fig.savefig(save_directory)\n",
        "  plt.show()\n",
        "\n",
        "plot_losses(train_loss_stats, val_loss_stats, loss = True)"
      ],
      "execution_count": null,
      "outputs": []
    },
    {
      "cell_type": "markdown",
      "metadata": {
        "id": "Hb_RNTNKF18b"
      },
      "source": [
        "#### Train validation accuracy"
      ]
    },
    {
      "cell_type": "code",
      "metadata": {
        "id": "05IT5LFUBBBV"
      },
      "source": [
        "def plot_acc(train_stats, val_stats, loss = bool, save_directory = None):\n",
        "  train_mean = np.array(train_stats)[:, 0]\n",
        "  train_std = np.array(train_stats)[:, 1]\n",
        "  val_mean = np.array(val_stats)[:, 0]\n",
        "  val_std = np.array(val_stats)[:, 1]\n",
        "  fig, ax = plt.subplots(figsize = (10, 5), dpi = 100)\n",
        "  x = np.arange(10, 51, 10)\n",
        "  ax.errorbar(x, train_mean, train_std, label = 'Training')\n",
        "  ax.errorbar(x, val_mean, val_std, label = 'Validation')\n",
        "  if loss:\n",
        "    ax.set_title(\"Training and validation loss\")\n",
        "    ax.set_ylabel(\"Loss\")\n",
        "  else:\n",
        "    ax.set_title(\"Training and validation accuracy\")\n",
        "    ax.set_ylabel(\"Accuracy\")\n",
        "  ax.set_xlabel(\"Number of classes\")\n",
        "  plt.tight_layout()\n",
        "  ax.legend()\n",
        "  if save_directory != None:\n",
        "    fig.savefig(save_directory)\n",
        "  plt.show()\n",
        "\n",
        "plot_acc(train_accuracy_stats, val_accuracy_stats, loss = False)"
      ],
      "execution_count": null,
      "outputs": []
    },
    {
      "cell_type": "markdown",
      "metadata": {
        "id": "llzylw_LF7e_"
      },
      "source": [
        "#### Test accuracy"
      ]
    },
    {
      "cell_type": "code",
      "metadata": {
        "id": "Bou4H0k9mteX"
      },
      "source": [
        "def plot_test(stats, save_directory = None):\n",
        "  mean = np.array(stats)[:, 0]\n",
        "  std = np.array(stats)[:, 1]\n",
        "  fig, ax = plt.subplots(figsize = (10, 5), dpi = 100)\n",
        "  x = np.arange(10, 51, 10)\n",
        "  ax.errorbar(x, mean, std)\n",
        "  ax.set_title(\"Test accuracy\")\n",
        "  ax.set_xlabel(\"Number of classes\")\n",
        "  ax.set_ylabel(\"Accuracy\")\n",
        "  plt.tight_layout()\n",
        "  if save_directory != None:\n",
        "    fig.savefig(save_directory)\n",
        "  plt.show()\n",
        "  \n",
        "plot_test(test_accuracy_stats)"
      ],
      "execution_count": null,
      "outputs": []
    },
    {
      "cell_type": "markdown",
      "metadata": {
        "id": "gN6cighYm1nG"
      },
      "source": [
        "#### Confusion Matrix"
      ]
    },
    {
      "cell_type": "code",
      "metadata": {
        "id": "LPG6aNRjm5Se"
      },
      "source": [
        "for run in range(len(RANDOM_SEED)):\n",
        "  targets = np.array(true_labels[run])\n",
        "  preds = np.array(predictions[run])\n",
        "\n",
        "  plot_confusion_matrix(targets, preds, RANDOM_SEED[run], 'iCaRL')"
      ],
      "execution_count": null,
      "outputs": []
    }
  ]
}