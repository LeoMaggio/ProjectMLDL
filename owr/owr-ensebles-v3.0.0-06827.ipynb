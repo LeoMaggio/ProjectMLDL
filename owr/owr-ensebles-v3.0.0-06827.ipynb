{
  "nbformat": 4,
  "nbformat_minor": 0,
  "metadata": {
    "colab": {
      "name": "OWR-Ensembles.ipynb",
      "provenance": [],
      "include_colab_link": true
    },
    "kernelspec": {
      "name": "python3",
      "display_name": "Python 3"
    },
    "language_info": {
      "name": "python"
    },
    "accelerator": "GPU",
    "widgets": {
      "application/vnd.jupyter.widget-state+json": {
        "492cbe3f65cf4f6e8043ba50581d4ac2": {
          "model_module": "@jupyter-widgets/controls",
          "model_name": "HBoxModel",
          "state": {
            "_view_name": "HBoxView",
            "_dom_classes": [],
            "_model_name": "HBoxModel",
            "_view_module": "@jupyter-widgets/controls",
            "_model_module_version": "1.5.0",
            "_view_count": null,
            "_view_module_version": "1.5.0",
            "box_style": "",
            "layout": "IPY_MODEL_b137a2e57343434297b175e0f3bd06a9",
            "_model_module": "@jupyter-widgets/controls",
            "children": [
              "IPY_MODEL_102e8cec0bf848d0854300ba429e54df",
              "IPY_MODEL_ac61b095799040ea8cfa55b4ad5572bb"
            ]
          }
        },
        "b137a2e57343434297b175e0f3bd06a9": {
          "model_module": "@jupyter-widgets/base",
          "model_name": "LayoutModel",
          "state": {
            "_view_name": "LayoutView",
            "grid_template_rows": null,
            "right": null,
            "justify_content": null,
            "_view_module": "@jupyter-widgets/base",
            "overflow": null,
            "_model_module_version": "1.2.0",
            "_view_count": null,
            "flex_flow": null,
            "width": null,
            "min_width": null,
            "border": null,
            "align_items": null,
            "bottom": null,
            "_model_module": "@jupyter-widgets/base",
            "top": null,
            "grid_column": null,
            "overflow_y": null,
            "overflow_x": null,
            "grid_auto_flow": null,
            "grid_area": null,
            "grid_template_columns": null,
            "flex": null,
            "_model_name": "LayoutModel",
            "justify_items": null,
            "grid_row": null,
            "max_height": null,
            "align_content": null,
            "visibility": null,
            "align_self": null,
            "height": null,
            "min_height": null,
            "padding": null,
            "grid_auto_rows": null,
            "grid_gap": null,
            "max_width": null,
            "order": null,
            "_view_module_version": "1.2.0",
            "grid_template_areas": null,
            "object_position": null,
            "object_fit": null,
            "grid_auto_columns": null,
            "margin": null,
            "display": null,
            "left": null
          }
        },
        "102e8cec0bf848d0854300ba429e54df": {
          "model_module": "@jupyter-widgets/controls",
          "model_name": "FloatProgressModel",
          "state": {
            "_view_name": "ProgressView",
            "style": "IPY_MODEL_6f6fbab93416479a9c9f9562c16d148b",
            "_dom_classes": [],
            "description": "",
            "_model_name": "FloatProgressModel",
            "bar_style": "success",
            "max": 169001437,
            "_view_module": "@jupyter-widgets/controls",
            "_model_module_version": "1.5.0",
            "value": 169001437,
            "_view_count": null,
            "_view_module_version": "1.5.0",
            "orientation": "horizontal",
            "min": 0,
            "description_tooltip": null,
            "_model_module": "@jupyter-widgets/controls",
            "layout": "IPY_MODEL_b062028b9930432480a73055268b9fa2"
          }
        },
        "ac61b095799040ea8cfa55b4ad5572bb": {
          "model_module": "@jupyter-widgets/controls",
          "model_name": "HTMLModel",
          "state": {
            "_view_name": "HTMLView",
            "style": "IPY_MODEL_bacd5b763d46459e97bc88318db4070e",
            "_dom_classes": [],
            "description": "",
            "_model_name": "HTMLModel",
            "placeholder": "​",
            "_view_module": "@jupyter-widgets/controls",
            "_model_module_version": "1.5.0",
            "value": " 169001984/? [00:24&lt;00:00, 7027482.88it/s]",
            "_view_count": null,
            "_view_module_version": "1.5.0",
            "description_tooltip": null,
            "_model_module": "@jupyter-widgets/controls",
            "layout": "IPY_MODEL_31351a893aa7461a9db76645683e8b22"
          }
        },
        "6f6fbab93416479a9c9f9562c16d148b": {
          "model_module": "@jupyter-widgets/controls",
          "model_name": "ProgressStyleModel",
          "state": {
            "_view_name": "StyleView",
            "_model_name": "ProgressStyleModel",
            "description_width": "initial",
            "_view_module": "@jupyter-widgets/base",
            "_model_module_version": "1.5.0",
            "_view_count": null,
            "_view_module_version": "1.2.0",
            "bar_color": null,
            "_model_module": "@jupyter-widgets/controls"
          }
        },
        "b062028b9930432480a73055268b9fa2": {
          "model_module": "@jupyter-widgets/base",
          "model_name": "LayoutModel",
          "state": {
            "_view_name": "LayoutView",
            "grid_template_rows": null,
            "right": null,
            "justify_content": null,
            "_view_module": "@jupyter-widgets/base",
            "overflow": null,
            "_model_module_version": "1.2.0",
            "_view_count": null,
            "flex_flow": null,
            "width": null,
            "min_width": null,
            "border": null,
            "align_items": null,
            "bottom": null,
            "_model_module": "@jupyter-widgets/base",
            "top": null,
            "grid_column": null,
            "overflow_y": null,
            "overflow_x": null,
            "grid_auto_flow": null,
            "grid_area": null,
            "grid_template_columns": null,
            "flex": null,
            "_model_name": "LayoutModel",
            "justify_items": null,
            "grid_row": null,
            "max_height": null,
            "align_content": null,
            "visibility": null,
            "align_self": null,
            "height": null,
            "min_height": null,
            "padding": null,
            "grid_auto_rows": null,
            "grid_gap": null,
            "max_width": null,
            "order": null,
            "_view_module_version": "1.2.0",
            "grid_template_areas": null,
            "object_position": null,
            "object_fit": null,
            "grid_auto_columns": null,
            "margin": null,
            "display": null,
            "left": null
          }
        },
        "bacd5b763d46459e97bc88318db4070e": {
          "model_module": "@jupyter-widgets/controls",
          "model_name": "DescriptionStyleModel",
          "state": {
            "_view_name": "StyleView",
            "_model_name": "DescriptionStyleModel",
            "description_width": "",
            "_view_module": "@jupyter-widgets/base",
            "_model_module_version": "1.5.0",
            "_view_count": null,
            "_view_module_version": "1.2.0",
            "_model_module": "@jupyter-widgets/controls"
          }
        },
        "31351a893aa7461a9db76645683e8b22": {
          "model_module": "@jupyter-widgets/base",
          "model_name": "LayoutModel",
          "state": {
            "_view_name": "LayoutView",
            "grid_template_rows": null,
            "right": null,
            "justify_content": null,
            "_view_module": "@jupyter-widgets/base",
            "overflow": null,
            "_model_module_version": "1.2.0",
            "_view_count": null,
            "flex_flow": null,
            "width": null,
            "min_width": null,
            "border": null,
            "align_items": null,
            "bottom": null,
            "_model_module": "@jupyter-widgets/base",
            "top": null,
            "grid_column": null,
            "overflow_y": null,
            "overflow_x": null,
            "grid_auto_flow": null,
            "grid_area": null,
            "grid_template_columns": null,
            "flex": null,
            "_model_name": "LayoutModel",
            "justify_items": null,
            "grid_row": null,
            "max_height": null,
            "align_content": null,
            "visibility": null,
            "align_self": null,
            "height": null,
            "min_height": null,
            "padding": null,
            "grid_auto_rows": null,
            "grid_gap": null,
            "max_width": null,
            "order": null,
            "_view_module_version": "1.2.0",
            "grid_template_areas": null,
            "object_position": null,
            "object_fit": null,
            "grid_auto_columns": null,
            "margin": null,
            "display": null,
            "left": null
          }
        }
      }
    }
  },
  "cells": [
    {
      "cell_type": "markdown",
      "metadata": {
        "id": "view-in-github",
        "colab_type": "text"
      },
      "source": [
        "<a href=\"https://colab.research.google.com/github/cosminnedescu/ProjectMLDL/blob/main/owr/owr-ensebles-v3.0.0-06827.ipynb\" target=\"_parent\"><img src=\"https://colab.research.google.com/assets/colab-badge.svg\" alt=\"Open In Colab\"/></a>"
      ]
    },
    {
      "cell_type": "code",
      "metadata": {
        "id": "PF5bRIxnU-PW",
        "colab": {
          "base_uri": "https://localhost:8080/"
        },
        "outputId": "31bbabd6-495c-4516-a7cf-6872afd7c342"
      },
      "source": [
        "# Avoid K80\n",
        "!nvidia-smi"
      ],
      "execution_count": 1,
      "outputs": [
        {
          "output_type": "stream",
          "text": [
            "Tue Jul 13 10:17:36 2021       \n",
            "+-----------------------------------------------------------------------------+\n",
            "| NVIDIA-SMI 470.42.01    Driver Version: 460.32.03    CUDA Version: 11.2     |\n",
            "|-------------------------------+----------------------+----------------------+\n",
            "| GPU  Name        Persistence-M| Bus-Id        Disp.A | Volatile Uncorr. ECC |\n",
            "| Fan  Temp  Perf  Pwr:Usage/Cap|         Memory-Usage | GPU-Util  Compute M. |\n",
            "|                               |                      |               MIG M. |\n",
            "|===============================+======================+======================|\n",
            "|   0  Tesla T4            Off  | 00000000:00:04.0 Off |                    0 |\n",
            "| N/A   75C    P8    12W /  70W |      0MiB / 15109MiB |      0%      Default |\n",
            "|                               |                      |                  N/A |\n",
            "+-------------------------------+----------------------+----------------------+\n",
            "                                                                               \n",
            "+-----------------------------------------------------------------------------+\n",
            "| Processes:                                                                  |\n",
            "|  GPU   GI   CI        PID   Type   Process name                  GPU Memory |\n",
            "|        ID   ID                                                   Usage      |\n",
            "|=============================================================================|\n",
            "|  No running processes found                                                 |\n",
            "+-----------------------------------------------------------------------------+\n"
          ],
          "name": "stdout"
        }
      ]
    },
    {
      "cell_type": "code",
      "metadata": {
        "id": "pJimWkPdQu6y"
      },
      "source": [
        "import os\n",
        "import random\n",
        "\n",
        "import torch\n",
        "import torch.nn as nn\n",
        "import torch.nn.init as init\n",
        "import torch.optim as optim\n",
        "from torch.autograd import Variable\n",
        "\n",
        "import torchvision\n",
        "from torchvision import transforms, datasets, models\n",
        "from torch.utils.data import Subset, DataLoader\n",
        "\n",
        "from PIL import Image\n",
        "\n",
        "import numpy as np\n",
        "import matplotlib \n",
        "import matplotlib.pyplot as plt\n",
        "from copy import copy\n",
        "from copy import deepcopy"
      ],
      "execution_count": 2,
      "outputs": []
    },
    {
      "cell_type": "markdown",
      "metadata": {
        "id": "7BZw-bZJ16ay"
      },
      "source": [
        "#### Cloning the Git repository"
      ]
    },
    {
      "cell_type": "code",
      "metadata": {
        "id": "yjntw1jZQ7Lg",
        "colab": {
          "base_uri": "https://localhost:8080/"
        },
        "outputId": "563b3d56-99f9-434f-d334-92fcd133913c"
      },
      "source": [
        "!rm -rf ProjectMLDL\n",
        "if not os.path.isdir('/content/ProjectMLDL'):\n",
        "  !git clone https://github.com/cosminnedescu/ProjectMLDL.git\n",
        "  %cd /content/ProjectMLDL\n",
        "  !rm -rf LICENSE README.md"
      ],
      "execution_count": 3,
      "outputs": [
        {
          "output_type": "stream",
          "text": [
            "Cloning into 'ProjectMLDL'...\n",
            "remote: Enumerating objects: 3585, done.\u001b[K\n",
            "remote: Counting objects: 100% (1001/1001), done.\u001b[K\n",
            "remote: Compressing objects: 100% (437/437), done.\u001b[K\n",
            "remote: Total 3585 (delta 576), reused 935 (delta 547), pack-reused 2584\u001b[K\n",
            "Receiving objects: 100% (3585/3585), 182.55 MiB | 32.33 MiB/s, done.\n",
            "Resolving deltas: 100% (1961/1961), done.\n",
            "Checking out files: 100% (395/395), done.\n",
            "/content/ProjectMLDL\n"
          ],
          "name": "stdout"
        }
      ]
    },
    {
      "cell_type": "code",
      "metadata": {
        "id": "nvqmxRxo2lUW"
      },
      "source": [
        "from data.cifar100 import CIFAR100\n",
        "from model.resnet32_modified import resnet32\n",
        "import data.utils\n",
        "from model.owrEnsamble import owrEnsemble"
      ],
      "execution_count": 4,
      "outputs": []
    },
    {
      "cell_type": "code",
      "metadata": {
        "id": "XwomFTtQo1x-"
      },
      "source": [
        "# True mean and std of Cifar100 dataset (src=\"https://gist.github.com/weiaicunzai/e623931921efefd4c331622c344d8151\")\n",
        "mean = [0.5071, 0.4867, 0.4408]\n",
        "std = [0.2675, 0.2565, 0.2761]\n",
        "\n",
        "train_transform = transforms.Compose([\n",
        "    transforms.RandomCrop(32, padding=4),\n",
        "    transforms.RandomHorizontalFlip(),\n",
        "    transforms.ToTensor(),\n",
        "    transforms.Normalize(mean, std),\n",
        "])\n",
        "test_transform = transforms.Compose(\n",
        "    [transforms.ToTensor(), \n",
        "     transforms.Normalize(mean, std),\n",
        "     ])"
      ],
      "execution_count": 5,
      "outputs": []
    },
    {
      "cell_type": "markdown",
      "metadata": {
        "id": "yRoS-R_sRhHT"
      },
      "source": [
        "## Incremental Classifier and Representation Learning"
      ]
    },
    {
      "cell_type": "markdown",
      "metadata": {
        "id": "3ocVW0wM2Iw2"
      },
      "source": [
        "### Defining hyperparameters according to iCarl paper"
      ]
    },
    {
      "cell_type": "code",
      "metadata": {
        "id": "nmEo_9lnwyBk"
      },
      "source": [
        "# Settings\n",
        "DEVICE = 'cuda'\n",
        "NUM_CLASSES = 100         # Total number of classes\n",
        "VAL_SIZE = 0.2            # Proportion of validation set with respect to training set (between 0 and 1)\n",
        "\n",
        "# Training\n",
        "BATCH_SIZE = 128          # Batch size\n",
        "LR = 0.1                    # Initial learning rate\n",
        "                       \n",
        "MOMENTUM = 0.9            # Momentum for stochastic gradient descent (SGD)\n",
        "WEIGHT_DECAY = 1e-5       # Weight decay from iCaRL\n",
        "\n",
        "RANDOM_SEED = [20]  # Random seeds defining the runs of every method\n",
        "                          # Note: this should be at least 3 to have a fair benchmark\n",
        "\n",
        "NUM_EPOCHS = 70           # Total number of training epochs\n",
        "MILESTONES = [43, 63]     # Step down policy from iCaRL (MultiStepLR)\n",
        "                          # Decrease the learning rate by gamma at each milestone\n",
        "GAMMA = 0.2               # Gamma factor from iCaRL (1/5)\n",
        "\n",
        "HERDING = False           # True to perform prioritized selection, False to perform random selection\n",
        "CLASSIFY = True           # True to use mean-of-exemplar classifier, False to use network's output directly for classification\n",
        "\n",
        "REJECTION_THRESHOLD = [0.25,0.35,0.50,0.60,0.75,0.85,0.95]\n",
        "TESTING_MODE = 'harmonic' #open, closed, harmonic\n",
        "N_ESTIMATORS = 5\n",
        "CONFIDENCE = '0.6827' #'0.900':1.47, '0.950':1.94, '0.975':2.45, '0.990':3.36\n",
        "STRATEGY = 'variance' # mean, variance, hybrid\n",
        "    "
      ],
      "execution_count": 6,
      "outputs": []
    },
    {
      "cell_type": "code",
      "metadata": {
        "id": "rVh61C63FECy"
      },
      "source": [
        "def do_group_classes(run):\n",
        "\n",
        "  train_subset = [[] for i in range(10)]\n",
        "  train_dataloader = [[] for i in range(10)]\n",
        "  val_dataloader = [[] for i in range(10)]\n",
        "  test_dataloader = [[] for i in range(10)]\n",
        "\n",
        "  for i in range(10):\n",
        "    train_data = CIFAR100(\"dataset\", \n",
        "                          train=True, \n",
        "                          transform=train_transform, \n",
        "                          download=(run+i==0),\n",
        "                          random_state=RANDOM_SEED[run])\n",
        "    test_data = CIFAR100(\"dataset\", \n",
        "                         train=False, \n",
        "                         transform=test_transform, \n",
        "                         download=False,\n",
        "                         random_state=RANDOM_SEED[run])\n",
        "    \n",
        "    train_data.set_index_map(train_data.splits[i])\n",
        "    test_data.set_index_map([test_data.splits[j] for j in range(0, i+1)])\n",
        "    \n",
        "    train_indices, val_indices = train_data.train_val_split(VAL_SIZE, RANDOM_SEED[run])\n",
        "    \n",
        "    train_subset[i] = copy(Subset(train_data, train_indices))\n",
        "    val_subset = Subset(train_data, val_indices)\n",
        "\n",
        "    tmp_dl = DataLoader(val_subset,\n",
        "                       batch_size=BATCH_SIZE,\n",
        "                       shuffle=True, \n",
        "                       num_workers=4,\n",
        "                       drop_last=True)\n",
        "    val_dataloader[i] = copy(tmp_dl)\n",
        "\n",
        "    tmp_dl = DataLoader(test_data,\n",
        "                       batch_size=BATCH_SIZE,\n",
        "                       shuffle=True, \n",
        "                       num_workers=4,\n",
        "                       drop_last=True)\n",
        "    test_dataloader[i] = copy(tmp_dl)\n",
        "\n",
        "  return train_dataloader, val_dataloader, test_dataloader, train_subset"
      ],
      "execution_count": 7,
      "outputs": []
    },
    {
      "cell_type": "markdown",
      "metadata": {
        "id": "20APZIgI1eBy"
      },
      "source": [
        "### Going on with the model\n",
        "This is the main iCaRL step.\n",
        "\n",
        "This step is run 3 times with different `RANDOM_SEED`.\n",
        "Here the model is instantiated, trained and tested.\n",
        "\n",
        "Results and some statistics are then stored in the variable `logs`."
      ]
    },
    {
      "cell_type": "code",
      "metadata": {
        "id": "mJHKbipz0bMr",
        "colab": {
          "base_uri": "https://localhost:8080/",
          "height": 1000,
          "referenced_widgets": [
            "492cbe3f65cf4f6e8043ba50581d4ac2",
            "b137a2e57343434297b175e0f3bd06a9",
            "102e8cec0bf848d0854300ba429e54df",
            "ac61b095799040ea8cfa55b4ad5572bb",
            "6f6fbab93416479a9c9f9562c16d148b",
            "b062028b9930432480a73055268b9fa2",
            "bacd5b763d46459e97bc88318db4070e",
            "31351a893aa7461a9db76645683e8b22"
          ]
        },
        "outputId": "d3365bf0-d0a2-4596-ac67-d485020f2802"
      },
      "source": [
        "logs = [[] for i in range(len(RANDOM_SEED))]\n",
        "best_net_tot_classes = [None for i in range(len(RANDOM_SEED))]\n",
        "\n",
        "for run in range(len(RANDOM_SEED)):\n",
        "  print(\"#################################\")\n",
        "  print(f\"Radom seed: {RANDOM_SEED[run]}\")\n",
        "  print(\"\")\n",
        "\n",
        "  # get data_subsets separated in incremental groups of 10 classes\n",
        "  train_dl, val_dl, test_dl, train_set = do_group_classes(run)\n",
        "\n",
        "  #create the resnet\n",
        "  net = resnet32()\n",
        "  \n",
        "  trainer = owrEnsemble(DEVICE,\n",
        "                  net,\n",
        "                  LR,\n",
        "                  MOMENTUM,\n",
        "                  WEIGHT_DECAY,\n",
        "                  MILESTONES,\n",
        "                  GAMMA,\n",
        "                  train_dl,\n",
        "                  val_dl,\n",
        "                  test_dl,\n",
        "                  BATCH_SIZE,\n",
        "                  train_set,\n",
        "                  train_transform,\n",
        "                  test_transform,\n",
        "                  TESTING_MODE,\n",
        "                  REJECTION_THRESHOLD,\n",
        "                  N_ESTIMATORS,\n",
        "                  CONFIDENCE,\n",
        "                  STRATEGY) \n",
        "\n",
        "  #train and evaluate the model\n",
        "  logs[run] = trainer.train_model(NUM_EPOCHS)\n",
        "\n",
        "  best_net_tot_classes[run] = deepcopy(trainer.best_net)\n",
        "\n",
        "  print(\"#################################\")\n",
        "  print(\"\")\n",
        "  print(\"\")"
      ],
      "execution_count": 8,
      "outputs": [
        {
          "output_type": "stream",
          "text": [
            "#################################\n",
            "Radom seed: 20\n",
            "\n",
            "Downloading https://www.cs.toronto.edu/~kriz/cifar-100-python.tar.gz to dataset/cifar-100-python.tar.gz\n"
          ],
          "name": "stdout"
        },
        {
          "output_type": "display_data",
          "data": {
            "application/vnd.jupyter.widget-view+json": {
              "model_id": "492cbe3f65cf4f6e8043ba50581d4ac2",
              "version_minor": 0,
              "version_major": 2
            },
            "text/plain": [
              "HBox(children=(FloatProgress(value=0.0, max=169001437.0), HTML(value='')))"
            ]
          },
          "metadata": {
            "tags": []
          }
        },
        {
          "output_type": "stream",
          "text": [
            "\n",
            "Extracting dataset/cifar-100-python.tar.gz to dataset\n"
          ],
          "name": "stdout"
        },
        {
          "output_type": "stream",
          "text": [
            "/usr/local/lib/python3.7/dist-packages/torch/utils/data/dataloader.py:481: UserWarning: This DataLoader will create 4 worker processes in total. Our suggested max number of worker in current system is 2, which is smaller than what this DataLoader is going to create. Please be aware that excessive worker creation might get DataLoader running slow or even freeze, lower the worker number to avoid potential slowness/freeze if necessary.\n",
            "  cpuset_checked))\n"
          ],
          "name": "stderr"
        },
        {
          "output_type": "stream",
          "text": [
            "Log will be saved in '/content/ProjectMLDL/logs'.\n",
            "Create folder 'logs/'\n",
            "Start logging into file /content/ProjectMLDL/logs/classification_mnist_mlp-2021_07_13_10_18.log...\n",
            "Length of exemplars set: 0\n"
          ],
          "name": "stdout"
        },
        {
          "output_type": "stream",
          "text": [
            "2021-07-13 10:18:08,193 - INFO: lr: 0.10000 | Epoch: 000 | Batch: 000 | Loss: 2.31848 | Correct: 7/128\n"
          ],
          "name": "stderr"
        },
        {
          "output_type": "stream",
          "text": [
            "None\n"
          ],
          "name": "stdout"
        },
        {
          "output_type": "stream",
          "text": [
            "2021-07-13 10:18:10,338 - INFO: lr: 0.09875 | Epoch: 001 | Batch: 000 | Loss: 1.91976 | Correct: 26/128\n"
          ],
          "name": "stderr"
        },
        {
          "output_type": "stream",
          "text": [
            "None\n"
          ],
          "name": "stdout"
        },
        {
          "output_type": "stream",
          "text": [
            "2021-07-13 10:18:12,569 - INFO: lr: 0.09505 | Epoch: 002 | Batch: 000 | Loss: 1.51872 | Correct: 52/128\n"
          ],
          "name": "stderr"
        },
        {
          "output_type": "stream",
          "text": [
            "None\n"
          ],
          "name": "stdout"
        },
        {
          "output_type": "stream",
          "text": [
            "2021-07-13 10:18:14,720 - INFO: lr: 0.08909 | Epoch: 003 | Batch: 000 | Loss: 1.34211 | Correct: 66/128\n"
          ],
          "name": "stderr"
        },
        {
          "output_type": "stream",
          "text": [
            "None\n"
          ],
          "name": "stdout"
        },
        {
          "output_type": "stream",
          "text": [
            "2021-07-13 10:18:16,921 - INFO: lr: 0.08117 | Epoch: 004 | Batch: 000 | Loss: 1.36148 | Correct: 60/128\n"
          ],
          "name": "stderr"
        },
        {
          "output_type": "stream",
          "text": [
            "None\n"
          ],
          "name": "stdout"
        },
        {
          "output_type": "stream",
          "text": [
            "2021-07-13 10:18:19,050 - INFO: lr: 0.07169 | Epoch: 005 | Batch: 000 | Loss: 1.29013 | Correct: 65/128\n"
          ],
          "name": "stderr"
        },
        {
          "output_type": "stream",
          "text": [
            "None\n"
          ],
          "name": "stdout"
        },
        {
          "output_type": "stream",
          "text": [
            "2021-07-13 10:18:21,218 - INFO: lr: 0.06113 | Epoch: 006 | Batch: 000 | Loss: 1.40907 | Correct: 63/128\n"
          ],
          "name": "stderr"
        },
        {
          "output_type": "stream",
          "text": [
            "None\n"
          ],
          "name": "stdout"
        },
        {
          "output_type": "stream",
          "text": [
            "2021-07-13 10:18:23,486 - INFO: lr: 0.05000 | Epoch: 007 | Batch: 000 | Loss: 1.10284 | Correct: 75/128\n"
          ],
          "name": "stderr"
        },
        {
          "output_type": "stream",
          "text": [
            "None\n"
          ],
          "name": "stdout"
        },
        {
          "output_type": "stream",
          "text": [
            "2021-07-13 10:18:25,669 - INFO: lr: 0.03887 | Epoch: 008 | Batch: 000 | Loss: 1.12719 | Correct: 73/128\n"
          ],
          "name": "stderr"
        },
        {
          "output_type": "stream",
          "text": [
            "None\n"
          ],
          "name": "stdout"
        },
        {
          "output_type": "stream",
          "text": [
            "2021-07-13 10:18:27,901 - INFO: lr: 0.02831 | Epoch: 009 | Batch: 000 | Loss: 1.14770 | Correct: 78/128\n"
          ],
          "name": "stderr"
        },
        {
          "output_type": "stream",
          "text": [
            "None\n"
          ],
          "name": "stdout"
        },
        {
          "output_type": "stream",
          "text": [
            "2021-07-13 10:18:30,069 - INFO: lr: 0.01883 | Epoch: 010 | Batch: 000 | Loss: 1.06559 | Correct: 74/128\n"
          ],
          "name": "stderr"
        },
        {
          "output_type": "stream",
          "text": [
            "None\n"
          ],
          "name": "stdout"
        },
        {
          "output_type": "stream",
          "text": [
            "2021-07-13 10:18:32,290 - INFO: lr: 0.01091 | Epoch: 011 | Batch: 000 | Loss: 0.99722 | Correct: 85/128\n"
          ],
          "name": "stderr"
        },
        {
          "output_type": "stream",
          "text": [
            "None\n"
          ],
          "name": "stdout"
        },
        {
          "output_type": "stream",
          "text": [
            "2021-07-13 10:18:34,487 - INFO: lr: 0.00495 | Epoch: 012 | Batch: 000 | Loss: 0.88145 | Correct: 83/128\n"
          ],
          "name": "stderr"
        },
        {
          "output_type": "stream",
          "text": [
            "None\n"
          ],
          "name": "stdout"
        },
        {
          "output_type": "stream",
          "text": [
            "2021-07-13 10:18:36,788 - INFO: lr: 0.00125 | Epoch: 013 | Batch: 000 | Loss: 0.83129 | Correct: 88/128\n"
          ],
          "name": "stderr"
        },
        {
          "output_type": "stream",
          "text": [
            "None\n"
          ],
          "name": "stdout"
        },
        {
          "output_type": "stream",
          "text": [
            "2021-07-13 10:18:38,638 - INFO: Save the snapshot model with index: 0\n",
            "2021-07-13 10:18:39,226 - INFO: n_estimators: 1 | Validation Acc: 70.312 % | Historical Best: 70.312 %\n",
            "2021-07-13 10:18:39,656 - INFO: lr: 0.10000 | Epoch: 014 | Batch: 000 | Loss: 0.81148 | Correct: 91/128\n"
          ],
          "name": "stderr"
        },
        {
          "output_type": "stream",
          "text": [
            "None\n"
          ],
          "name": "stdout"
        },
        {
          "output_type": "stream",
          "text": [
            "2021-07-13 10:18:41,809 - INFO: lr: 0.09875 | Epoch: 015 | Batch: 000 | Loss: 1.01808 | Correct: 81/128\n"
          ],
          "name": "stderr"
        },
        {
          "output_type": "stream",
          "text": [
            "None\n"
          ],
          "name": "stdout"
        },
        {
          "output_type": "stream",
          "text": [
            "2021-07-13 10:18:44,057 - INFO: lr: 0.09505 | Epoch: 016 | Batch: 000 | Loss: 1.07336 | Correct: 85/128\n"
          ],
          "name": "stderr"
        },
        {
          "output_type": "stream",
          "text": [
            "None\n"
          ],
          "name": "stdout"
        },
        {
          "output_type": "stream",
          "text": [
            "2021-07-13 10:18:46,278 - INFO: lr: 0.08909 | Epoch: 017 | Batch: 000 | Loss: 1.10600 | Correct: 75/128\n"
          ],
          "name": "stderr"
        },
        {
          "output_type": "stream",
          "text": [
            "None\n"
          ],
          "name": "stdout"
        },
        {
          "output_type": "stream",
          "text": [
            "2021-07-13 10:18:48,569 - INFO: lr: 0.08117 | Epoch: 018 | Batch: 000 | Loss: 0.80662 | Correct: 90/128\n"
          ],
          "name": "stderr"
        },
        {
          "output_type": "stream",
          "text": [
            "None\n"
          ],
          "name": "stdout"
        },
        {
          "output_type": "stream",
          "text": [
            "2021-07-13 10:18:50,715 - INFO: lr: 0.07169 | Epoch: 019 | Batch: 000 | Loss: 0.99361 | Correct: 77/128\n"
          ],
          "name": "stderr"
        },
        {
          "output_type": "stream",
          "text": [
            "None\n"
          ],
          "name": "stdout"
        },
        {
          "output_type": "stream",
          "text": [
            "2021-07-13 10:18:52,889 - INFO: lr: 0.06113 | Epoch: 020 | Batch: 000 | Loss: 0.83926 | Correct: 92/128\n"
          ],
          "name": "stderr"
        },
        {
          "output_type": "stream",
          "text": [
            "None\n"
          ],
          "name": "stdout"
        },
        {
          "output_type": "stream",
          "text": [
            "2021-07-13 10:18:55,163 - INFO: lr: 0.05000 | Epoch: 021 | Batch: 000 | Loss: 0.74853 | Correct: 92/128\n"
          ],
          "name": "stderr"
        },
        {
          "output_type": "stream",
          "text": [
            "None\n"
          ],
          "name": "stdout"
        },
        {
          "output_type": "stream",
          "text": [
            "2021-07-13 10:18:57,297 - INFO: lr: 0.03887 | Epoch: 022 | Batch: 000 | Loss: 0.60868 | Correct: 105/128\n"
          ],
          "name": "stderr"
        },
        {
          "output_type": "stream",
          "text": [
            "None\n"
          ],
          "name": "stdout"
        },
        {
          "output_type": "stream",
          "text": [
            "2021-07-13 10:18:59,544 - INFO: lr: 0.02831 | Epoch: 023 | Batch: 000 | Loss: 0.50851 | Correct: 104/128\n"
          ],
          "name": "stderr"
        },
        {
          "output_type": "stream",
          "text": [
            "None\n"
          ],
          "name": "stdout"
        },
        {
          "output_type": "stream",
          "text": [
            "2021-07-13 10:19:01,729 - INFO: lr: 0.01883 | Epoch: 024 | Batch: 000 | Loss: 0.49470 | Correct: 108/128\n"
          ],
          "name": "stderr"
        },
        {
          "output_type": "stream",
          "text": [
            "None\n"
          ],
          "name": "stdout"
        },
        {
          "output_type": "stream",
          "text": [
            "2021-07-13 10:19:03,947 - INFO: lr: 0.01091 | Epoch: 025 | Batch: 000 | Loss: 0.39050 | Correct: 113/128\n"
          ],
          "name": "stderr"
        },
        {
          "output_type": "stream",
          "text": [
            "None\n"
          ],
          "name": "stdout"
        },
        {
          "output_type": "stream",
          "text": [
            "2021-07-13 10:19:06,134 - INFO: lr: 0.00495 | Epoch: 026 | Batch: 000 | Loss: 0.50066 | Correct: 108/128\n"
          ],
          "name": "stderr"
        },
        {
          "output_type": "stream",
          "text": [
            "None\n"
          ],
          "name": "stdout"
        },
        {
          "output_type": "stream",
          "text": [
            "2021-07-13 10:19:08,373 - INFO: lr: 0.00125 | Epoch: 027 | Batch: 000 | Loss: 0.54968 | Correct: 102/128\n"
          ],
          "name": "stderr"
        },
        {
          "output_type": "stream",
          "text": [
            "None\n"
          ],
          "name": "stdout"
        },
        {
          "output_type": "stream",
          "text": [
            "2021-07-13 10:19:10,198 - INFO: Save the snapshot model with index: 1\n",
            "2021-07-13 10:19:10,918 - INFO: n_estimators: 2 | Validation Acc: 79.464 % | Historical Best: 79.464 %\n",
            "2021-07-13 10:19:11,322 - INFO: lr: 0.10000 | Epoch: 028 | Batch: 000 | Loss: 0.41989 | Correct: 114/128\n"
          ],
          "name": "stderr"
        },
        {
          "output_type": "stream",
          "text": [
            "None\n"
          ],
          "name": "stdout"
        },
        {
          "output_type": "stream",
          "text": [
            "2021-07-13 10:19:13,533 - INFO: lr: 0.09875 | Epoch: 029 | Batch: 000 | Loss: 0.90481 | Correct: 83/128\n"
          ],
          "name": "stderr"
        },
        {
          "output_type": "stream",
          "text": [
            "None\n"
          ],
          "name": "stdout"
        },
        {
          "output_type": "stream",
          "text": [
            "2021-07-13 10:19:15,736 - INFO: lr: 0.09505 | Epoch: 030 | Batch: 000 | Loss: 0.69018 | Correct: 97/128\n"
          ],
          "name": "stderr"
        },
        {
          "output_type": "stream",
          "text": [
            "None\n"
          ],
          "name": "stdout"
        },
        {
          "output_type": "stream",
          "text": [
            "2021-07-13 10:19:17,866 - INFO: lr: 0.08909 | Epoch: 031 | Batch: 000 | Loss: 0.60129 | Correct: 99/128\n"
          ],
          "name": "stderr"
        },
        {
          "output_type": "stream",
          "text": [
            "None\n"
          ],
          "name": "stdout"
        },
        {
          "output_type": "stream",
          "text": [
            "2021-07-13 10:19:20,116 - INFO: lr: 0.08117 | Epoch: 032 | Batch: 000 | Loss: 0.55338 | Correct: 106/128\n"
          ],
          "name": "stderr"
        },
        {
          "output_type": "stream",
          "text": [
            "None\n"
          ],
          "name": "stdout"
        },
        {
          "output_type": "stream",
          "text": [
            "2021-07-13 10:19:22,281 - INFO: lr: 0.07169 | Epoch: 033 | Batch: 000 | Loss: 0.44313 | Correct: 110/128\n"
          ],
          "name": "stderr"
        },
        {
          "output_type": "stream",
          "text": [
            "None\n"
          ],
          "name": "stdout"
        },
        {
          "output_type": "stream",
          "text": [
            "2021-07-13 10:19:24,425 - INFO: lr: 0.06113 | Epoch: 034 | Batch: 000 | Loss: 0.45775 | Correct: 109/128\n"
          ],
          "name": "stderr"
        },
        {
          "output_type": "stream",
          "text": [
            "None\n"
          ],
          "name": "stdout"
        },
        {
          "output_type": "stream",
          "text": [
            "2021-07-13 10:19:26,677 - INFO: lr: 0.05000 | Epoch: 035 | Batch: 000 | Loss: 0.51226 | Correct: 105/128\n"
          ],
          "name": "stderr"
        },
        {
          "output_type": "stream",
          "text": [
            "None\n"
          ],
          "name": "stdout"
        },
        {
          "output_type": "stream",
          "text": [
            "2021-07-13 10:19:28,856 - INFO: lr: 0.03887 | Epoch: 036 | Batch: 000 | Loss: 0.40496 | Correct: 109/128\n"
          ],
          "name": "stderr"
        },
        {
          "output_type": "stream",
          "text": [
            "None\n"
          ],
          "name": "stdout"
        },
        {
          "output_type": "stream",
          "text": [
            "2021-07-13 10:19:31,029 - INFO: lr: 0.02831 | Epoch: 037 | Batch: 000 | Loss: 0.30821 | Correct: 116/128\n"
          ],
          "name": "stderr"
        },
        {
          "output_type": "stream",
          "text": [
            "None\n"
          ],
          "name": "stdout"
        },
        {
          "output_type": "stream",
          "text": [
            "2021-07-13 10:19:33,233 - INFO: lr: 0.01883 | Epoch: 038 | Batch: 000 | Loss: 0.17221 | Correct: 122/128\n"
          ],
          "name": "stderr"
        },
        {
          "output_type": "stream",
          "text": [
            "None\n"
          ],
          "name": "stdout"
        },
        {
          "output_type": "stream",
          "text": [
            "2021-07-13 10:19:35,373 - INFO: lr: 0.01091 | Epoch: 039 | Batch: 000 | Loss: 0.30963 | Correct: 115/128\n"
          ],
          "name": "stderr"
        },
        {
          "output_type": "stream",
          "text": [
            "None\n"
          ],
          "name": "stdout"
        },
        {
          "output_type": "stream",
          "text": [
            "2021-07-13 10:19:37,601 - INFO: lr: 0.00495 | Epoch: 040 | Batch: 000 | Loss: 0.23367 | Correct: 123/128\n"
          ],
          "name": "stderr"
        },
        {
          "output_type": "stream",
          "text": [
            "None\n"
          ],
          "name": "stdout"
        },
        {
          "output_type": "stream",
          "text": [
            "2021-07-13 10:19:39,897 - INFO: lr: 0.00125 | Epoch: 041 | Batch: 000 | Loss: 0.35294 | Correct: 112/128\n"
          ],
          "name": "stderr"
        },
        {
          "output_type": "stream",
          "text": [
            "None\n"
          ],
          "name": "stdout"
        },
        {
          "output_type": "stream",
          "text": [
            "2021-07-13 10:19:41,716 - INFO: Save the snapshot model with index: 2\n",
            "2021-07-13 10:19:42,533 - INFO: n_estimators: 3 | Validation Acc: 81.920 % | Historical Best: 81.920 %\n",
            "2021-07-13 10:19:42,961 - INFO: lr: 0.10000 | Epoch: 042 | Batch: 000 | Loss: 0.17333 | Correct: 122/128\n"
          ],
          "name": "stderr"
        },
        {
          "output_type": "stream",
          "text": [
            "None\n"
          ],
          "name": "stdout"
        },
        {
          "output_type": "stream",
          "text": [
            "2021-07-13 10:19:45,261 - INFO: lr: 0.09875 | Epoch: 043 | Batch: 000 | Loss: 0.61225 | Correct: 99/128\n"
          ],
          "name": "stderr"
        },
        {
          "output_type": "stream",
          "text": [
            "None\n"
          ],
          "name": "stdout"
        },
        {
          "output_type": "stream",
          "text": [
            "2021-07-13 10:19:47,414 - INFO: lr: 0.09505 | Epoch: 044 | Batch: 000 | Loss: 0.46006 | Correct: 105/128\n"
          ],
          "name": "stderr"
        },
        {
          "output_type": "stream",
          "text": [
            "None\n"
          ],
          "name": "stdout"
        },
        {
          "output_type": "stream",
          "text": [
            "2021-07-13 10:19:49,598 - INFO: lr: 0.08909 | Epoch: 045 | Batch: 000 | Loss: 0.53287 | Correct: 102/128\n"
          ],
          "name": "stderr"
        },
        {
          "output_type": "stream",
          "text": [
            "None\n"
          ],
          "name": "stdout"
        },
        {
          "output_type": "stream",
          "text": [
            "2021-07-13 10:19:51,778 - INFO: lr: 0.08117 | Epoch: 046 | Batch: 000 | Loss: 0.45945 | Correct: 107/128\n"
          ],
          "name": "stderr"
        },
        {
          "output_type": "stream",
          "text": [
            "None\n"
          ],
          "name": "stdout"
        },
        {
          "output_type": "stream",
          "text": [
            "2021-07-13 10:19:53,960 - INFO: lr: 0.07169 | Epoch: 047 | Batch: 000 | Loss: 0.31669 | Correct: 113/128\n"
          ],
          "name": "stderr"
        },
        {
          "output_type": "stream",
          "text": [
            "None\n"
          ],
          "name": "stdout"
        },
        {
          "output_type": "stream",
          "text": [
            "2021-07-13 10:19:56,231 - INFO: lr: 0.06113 | Epoch: 048 | Batch: 000 | Loss: 0.29960 | Correct: 115/128\n"
          ],
          "name": "stderr"
        },
        {
          "output_type": "stream",
          "text": [
            "None\n"
          ],
          "name": "stdout"
        },
        {
          "output_type": "stream",
          "text": [
            "2021-07-13 10:19:58,801 - INFO: lr: 0.05000 | Epoch: 049 | Batch: 000 | Loss: 0.30115 | Correct: 117/128\n"
          ],
          "name": "stderr"
        },
        {
          "output_type": "stream",
          "text": [
            "None\n"
          ],
          "name": "stdout"
        },
        {
          "output_type": "stream",
          "text": [
            "2021-07-13 10:20:01,017 - INFO: lr: 0.03887 | Epoch: 050 | Batch: 000 | Loss: 0.23801 | Correct: 118/128\n"
          ],
          "name": "stderr"
        },
        {
          "output_type": "stream",
          "text": [
            "None\n"
          ],
          "name": "stdout"
        },
        {
          "output_type": "stream",
          "text": [
            "2021-07-13 10:20:03,282 - INFO: lr: 0.02831 | Epoch: 051 | Batch: 000 | Loss: 0.20727 | Correct: 120/128\n"
          ],
          "name": "stderr"
        },
        {
          "output_type": "stream",
          "text": [
            "None\n"
          ],
          "name": "stdout"
        },
        {
          "output_type": "stream",
          "text": [
            "2021-07-13 10:20:05,612 - INFO: lr: 0.01883 | Epoch: 052 | Batch: 000 | Loss: 0.13629 | Correct: 123/128\n"
          ],
          "name": "stderr"
        },
        {
          "output_type": "stream",
          "text": [
            "None\n"
          ],
          "name": "stdout"
        },
        {
          "output_type": "stream",
          "text": [
            "2021-07-13 10:20:07,899 - INFO: lr: 0.01091 | Epoch: 053 | Batch: 000 | Loss: 0.16125 | Correct: 120/128\n"
          ],
          "name": "stderr"
        },
        {
          "output_type": "stream",
          "text": [
            "None\n"
          ],
          "name": "stdout"
        },
        {
          "output_type": "stream",
          "text": [
            "2021-07-13 10:20:10,082 - INFO: lr: 0.00495 | Epoch: 054 | Batch: 000 | Loss: 0.12958 | Correct: 123/128\n"
          ],
          "name": "stderr"
        },
        {
          "output_type": "stream",
          "text": [
            "None\n"
          ],
          "name": "stdout"
        },
        {
          "output_type": "stream",
          "text": [
            "2021-07-13 10:20:12,406 - INFO: lr: 0.00125 | Epoch: 055 | Batch: 000 | Loss: 0.11404 | Correct: 122/128\n"
          ],
          "name": "stderr"
        },
        {
          "output_type": "stream",
          "text": [
            "None\n"
          ],
          "name": "stdout"
        },
        {
          "output_type": "stream",
          "text": [
            "2021-07-13 10:20:14,340 - INFO: Save the snapshot model with index: 3\n",
            "2021-07-13 10:20:15,296 - INFO: n_estimators: 4 | Validation Acc: 84.710 % | Historical Best: 84.710 %\n",
            "2021-07-13 10:20:15,687 - INFO: lr: 0.10000 | Epoch: 056 | Batch: 000 | Loss: 0.17605 | Correct: 122/128\n"
          ],
          "name": "stderr"
        },
        {
          "output_type": "stream",
          "text": [
            "None\n"
          ],
          "name": "stdout"
        },
        {
          "output_type": "stream",
          "text": [
            "2021-07-13 10:20:17,960 - INFO: lr: 0.09875 | Epoch: 057 | Batch: 000 | Loss: 0.42702 | Correct: 110/128\n"
          ],
          "name": "stderr"
        },
        {
          "output_type": "stream",
          "text": [
            "None\n"
          ],
          "name": "stdout"
        },
        {
          "output_type": "stream",
          "text": [
            "2021-07-13 10:20:20,310 - INFO: lr: 0.09505 | Epoch: 058 | Batch: 000 | Loss: 0.45210 | Correct: 108/128\n"
          ],
          "name": "stderr"
        },
        {
          "output_type": "stream",
          "text": [
            "None\n"
          ],
          "name": "stdout"
        },
        {
          "output_type": "stream",
          "text": [
            "2021-07-13 10:20:22,521 - INFO: lr: 0.08909 | Epoch: 059 | Batch: 000 | Loss: 0.33690 | Correct: 115/128\n"
          ],
          "name": "stderr"
        },
        {
          "output_type": "stream",
          "text": [
            "None\n"
          ],
          "name": "stdout"
        },
        {
          "output_type": "stream",
          "text": [
            "2021-07-13 10:20:24,884 - INFO: lr: 0.08117 | Epoch: 060 | Batch: 000 | Loss: 0.38291 | Correct: 112/128\n"
          ],
          "name": "stderr"
        },
        {
          "output_type": "stream",
          "text": [
            "None\n"
          ],
          "name": "stdout"
        },
        {
          "output_type": "stream",
          "text": [
            "2021-07-13 10:20:27,058 - INFO: lr: 0.07169 | Epoch: 061 | Batch: 000 | Loss: 0.24194 | Correct: 120/128\n"
          ],
          "name": "stderr"
        },
        {
          "output_type": "stream",
          "text": [
            "None\n"
          ],
          "name": "stdout"
        },
        {
          "output_type": "stream",
          "text": [
            "2021-07-13 10:20:29,316 - INFO: lr: 0.06113 | Epoch: 062 | Batch: 000 | Loss: 0.29982 | Correct: 115/128\n"
          ],
          "name": "stderr"
        },
        {
          "output_type": "stream",
          "text": [
            "None\n"
          ],
          "name": "stdout"
        },
        {
          "output_type": "stream",
          "text": [
            "2021-07-13 10:20:31,566 - INFO: lr: 0.05000 | Epoch: 063 | Batch: 000 | Loss: 0.17827 | Correct: 122/128\n"
          ],
          "name": "stderr"
        },
        {
          "output_type": "stream",
          "text": [
            "None\n"
          ],
          "name": "stdout"
        },
        {
          "output_type": "stream",
          "text": [
            "2021-07-13 10:20:33,795 - INFO: lr: 0.03887 | Epoch: 064 | Batch: 000 | Loss: 0.19235 | Correct: 120/128\n"
          ],
          "name": "stderr"
        },
        {
          "output_type": "stream",
          "text": [
            "None\n"
          ],
          "name": "stdout"
        },
        {
          "output_type": "stream",
          "text": [
            "2021-07-13 10:20:35,999 - INFO: lr: 0.02831 | Epoch: 065 | Batch: 000 | Loss: 0.16369 | Correct: 122/128\n"
          ],
          "name": "stderr"
        },
        {
          "output_type": "stream",
          "text": [
            "None\n"
          ],
          "name": "stdout"
        },
        {
          "output_type": "stream",
          "text": [
            "2021-07-13 10:20:38,249 - INFO: lr: 0.01883 | Epoch: 066 | Batch: 000 | Loss: 0.07566 | Correct: 125/128\n"
          ],
          "name": "stderr"
        },
        {
          "output_type": "stream",
          "text": [
            "None\n"
          ],
          "name": "stdout"
        },
        {
          "output_type": "stream",
          "text": [
            "2021-07-13 10:20:40,516 - INFO: lr: 0.01091 | Epoch: 067 | Batch: 000 | Loss: 0.09266 | Correct: 125/128\n"
          ],
          "name": "stderr"
        },
        {
          "output_type": "stream",
          "text": [
            "None\n"
          ],
          "name": "stdout"
        },
        {
          "output_type": "stream",
          "text": [
            "2021-07-13 10:20:42,799 - INFO: lr: 0.00495 | Epoch: 068 | Batch: 000 | Loss: 0.10289 | Correct: 123/128\n"
          ],
          "name": "stderr"
        },
        {
          "output_type": "stream",
          "text": [
            "None\n"
          ],
          "name": "stdout"
        },
        {
          "output_type": "stream",
          "text": [
            "2021-07-13 10:20:45,145 - INFO: lr: 0.00125 | Epoch: 069 | Batch: 000 | Loss: 0.08065 | Correct: 125/128\n"
          ],
          "name": "stderr"
        },
        {
          "output_type": "stream",
          "text": [
            "None\n"
          ],
          "name": "stdout"
        },
        {
          "output_type": "stream",
          "text": [
            "2021-07-13 10:20:47,029 - INFO: Save the snapshot model with index: 4\n",
            "2021-07-13 10:20:48,098 - INFO: n_estimators: 5 | Validation Acc: 85.603 % | Historical Best: 85.603 %\n"
          ],
          "name": "stderr"
        },
        {
          "output_type": "stream",
          "text": [
            "Group 1 Finished!\n",
            "Target number of exemplars: 200\n",
            "Randomly extracting exemplars from class 0 of current split... Extracted 200 exemplars.\n",
            "Randomly extracting exemplars from class 1 of current split... Extracted 200 exemplars.\n",
            "Randomly extracting exemplars from class 2 of current split... Extracted 200 exemplars.\n",
            "Randomly extracting exemplars from class 3 of current split... Extracted 200 exemplars.\n",
            "Randomly extracting exemplars from class 4 of current split... Extracted 200 exemplars.\n",
            "Randomly extracting exemplars from class 5 of current split... Extracted 200 exemplars.\n",
            "Randomly extracting exemplars from class 6 of current split... Extracted 200 exemplars.\n",
            "Randomly extracting exemplars from class 7 of current split... Extracted 200 exemplars.\n",
            "Randomly extracting exemplars from class 8 of current split... Extracted 200 exemplars.\n",
            "Randomly extracting exemplars from class 9 of current split... Extracted 200 exemplars.\n",
            "[0.020991847826086957, 0.11983695652173913, 0.3061141304347826, 0.4302989130434783, 0.6389266304347826, 0.7927309782608696, 0.9193614130434783],[0.8404017857142857, 0.8247767857142857, 0.7779017857142857, 0.7377232142857143, 0.5904017857142857, 0.41183035714285715, 0.18973214285714285]\n",
            "Testing on both open and closed world\n",
            "owr harmonic mean (threshold:0.25) = 0.040960568343135266\n",
            "owr harmonic mean (threshold:0.35) = 0.20926805400018494\n",
            "owr harmonic mean (threshold:0.5) = 0.43934175716447166\n",
            "owr harmonic mean (threshold:0.6) = 0.5435539101642668\n",
            "owr harmonic mean (threshold:0.75) = 0.6137065060787874\n",
            "owr harmonic mean (threshold:0.85) = 0.5420573818865918\n",
            "owr harmonic mean (threshold:0.95) = 0.31454949860431747\n",
            "\n",
            "=============================================\n",
            "\n",
            "Length of exemplars set: 2000\n"
          ],
          "name": "stdout"
        },
        {
          "output_type": "stream",
          "text": [
            "2021-07-13 10:21:05,390 - INFO: lr: 0.10000 | Epoch: 000 | Batch: 000 | Loss: 4.51221 | Correct: 11/128\n"
          ],
          "name": "stderr"
        },
        {
          "output_type": "stream",
          "text": [
            "None\n"
          ],
          "name": "stdout"
        },
        {
          "output_type": "stream",
          "text": [
            "2021-07-13 10:21:20,991 - INFO: lr: 0.09875 | Epoch: 001 | Batch: 000 | Loss: 2.41366 | Correct: 36/128\n"
          ],
          "name": "stderr"
        },
        {
          "output_type": "stream",
          "text": [
            "None\n"
          ],
          "name": "stdout"
        },
        {
          "output_type": "stream",
          "text": [
            "2021-07-13 10:21:36,508 - INFO: lr: 0.09505 | Epoch: 002 | Batch: 000 | Loss: 2.25050 | Correct: 34/128\n"
          ],
          "name": "stderr"
        },
        {
          "output_type": "stream",
          "text": [
            "None\n"
          ],
          "name": "stdout"
        },
        {
          "output_type": "stream",
          "text": [
            "2021-07-13 10:21:52,104 - INFO: lr: 0.08909 | Epoch: 003 | Batch: 000 | Loss: 2.08211 | Correct: 42/128\n"
          ],
          "name": "stderr"
        },
        {
          "output_type": "stream",
          "text": [
            "None\n"
          ],
          "name": "stdout"
        },
        {
          "output_type": "stream",
          "text": [
            "2021-07-13 10:22:07,642 - INFO: lr: 0.08117 | Epoch: 004 | Batch: 000 | Loss: 2.04577 | Correct: 40/128\n"
          ],
          "name": "stderr"
        },
        {
          "output_type": "stream",
          "text": [
            "None\n"
          ],
          "name": "stdout"
        },
        {
          "output_type": "stream",
          "text": [
            "2021-07-13 10:22:23,170 - INFO: lr: 0.07169 | Epoch: 005 | Batch: 000 | Loss: 1.79239 | Correct: 57/128\n"
          ],
          "name": "stderr"
        },
        {
          "output_type": "stream",
          "text": [
            "None\n"
          ],
          "name": "stdout"
        },
        {
          "output_type": "stream",
          "text": [
            "2021-07-13 10:22:38,613 - INFO: lr: 0.06113 | Epoch: 006 | Batch: 000 | Loss: 1.90613 | Correct: 45/128\n"
          ],
          "name": "stderr"
        },
        {
          "output_type": "stream",
          "text": [
            "None\n"
          ],
          "name": "stdout"
        },
        {
          "output_type": "stream",
          "text": [
            "2021-07-13 10:22:54,123 - INFO: lr: 0.05000 | Epoch: 007 | Batch: 000 | Loss: 1.89429 | Correct: 50/128\n"
          ],
          "name": "stderr"
        },
        {
          "output_type": "stream",
          "text": [
            "None\n"
          ],
          "name": "stdout"
        },
        {
          "output_type": "stream",
          "text": [
            "2021-07-13 10:23:09,737 - INFO: lr: 0.03887 | Epoch: 008 | Batch: 000 | Loss: 1.70412 | Correct: 59/128\n"
          ],
          "name": "stderr"
        },
        {
          "output_type": "stream",
          "text": [
            "None\n"
          ],
          "name": "stdout"
        },
        {
          "output_type": "stream",
          "text": [
            "2021-07-13 10:23:25,340 - INFO: lr: 0.02831 | Epoch: 009 | Batch: 000 | Loss: 1.57620 | Correct: 71/128\n"
          ],
          "name": "stderr"
        },
        {
          "output_type": "stream",
          "text": [
            "None\n"
          ],
          "name": "stdout"
        },
        {
          "output_type": "stream",
          "text": [
            "2021-07-13 10:23:40,892 - INFO: lr: 0.01883 | Epoch: 010 | Batch: 000 | Loss: 1.40727 | Correct: 70/128\n"
          ],
          "name": "stderr"
        },
        {
          "output_type": "stream",
          "text": [
            "None\n"
          ],
          "name": "stdout"
        },
        {
          "output_type": "stream",
          "text": [
            "2021-07-13 10:23:56,486 - INFO: lr: 0.01091 | Epoch: 011 | Batch: 000 | Loss: 1.21600 | Correct: 80/128\n"
          ],
          "name": "stderr"
        },
        {
          "output_type": "stream",
          "text": [
            "None\n"
          ],
          "name": "stdout"
        },
        {
          "output_type": "stream",
          "text": [
            "2021-07-13 10:24:12,080 - INFO: lr: 0.00495 | Epoch: 012 | Batch: 000 | Loss: 1.33531 | Correct: 71/128\n"
          ],
          "name": "stderr"
        },
        {
          "output_type": "stream",
          "text": [
            "None\n"
          ],
          "name": "stdout"
        },
        {
          "output_type": "stream",
          "text": [
            "2021-07-13 10:24:27,565 - INFO: lr: 0.00125 | Epoch: 013 | Batch: 000 | Loss: 1.22201 | Correct: 75/128\n"
          ],
          "name": "stderr"
        },
        {
          "output_type": "stream",
          "text": [
            "None\n"
          ],
          "name": "stdout"
        },
        {
          "output_type": "stream",
          "text": [
            "2021-07-13 10:24:42,418 - INFO: Save the snapshot model with index: 0\n",
            "2021-07-13 10:24:43,020 - INFO: n_estimators: 1 | Validation Acc: 62.612 % | Historical Best: 62.612 %\n",
            "2021-07-13 10:24:43,793 - INFO: lr: 0.10000 | Epoch: 014 | Batch: 000 | Loss: 1.43597 | Correct: 65/128\n"
          ],
          "name": "stderr"
        },
        {
          "output_type": "stream",
          "text": [
            "None\n"
          ],
          "name": "stdout"
        },
        {
          "output_type": "stream",
          "text": [
            "2021-07-13 10:24:59,353 - INFO: lr: 0.09875 | Epoch: 015 | Batch: 000 | Loss: 1.78953 | Correct: 54/128\n"
          ],
          "name": "stderr"
        },
        {
          "output_type": "stream",
          "text": [
            "None\n"
          ],
          "name": "stdout"
        },
        {
          "output_type": "stream",
          "text": [
            "2021-07-13 10:25:14,939 - INFO: lr: 0.09505 | Epoch: 016 | Batch: 000 | Loss: 1.40836 | Correct: 72/128\n"
          ],
          "name": "stderr"
        },
        {
          "output_type": "stream",
          "text": [
            "None\n"
          ],
          "name": "stdout"
        },
        {
          "output_type": "stream",
          "text": [
            "2021-07-13 10:25:30,454 - INFO: lr: 0.08909 | Epoch: 017 | Batch: 000 | Loss: 1.37662 | Correct: 70/128\n"
          ],
          "name": "stderr"
        },
        {
          "output_type": "stream",
          "text": [
            "None\n"
          ],
          "name": "stdout"
        },
        {
          "output_type": "stream",
          "text": [
            "2021-07-13 10:25:45,971 - INFO: lr: 0.08117 | Epoch: 018 | Batch: 000 | Loss: 1.22116 | Correct: 85/128\n"
          ],
          "name": "stderr"
        },
        {
          "output_type": "stream",
          "text": [
            "None\n"
          ],
          "name": "stdout"
        },
        {
          "output_type": "stream",
          "text": [
            "2021-07-13 10:26:01,557 - INFO: lr: 0.07169 | Epoch: 019 | Batch: 000 | Loss: 1.20051 | Correct: 78/128\n"
          ],
          "name": "stderr"
        },
        {
          "output_type": "stream",
          "text": [
            "None\n"
          ],
          "name": "stdout"
        },
        {
          "output_type": "stream",
          "text": [
            "2021-07-13 10:26:17,210 - INFO: lr: 0.06113 | Epoch: 020 | Batch: 000 | Loss: 1.08855 | Correct: 90/128\n"
          ],
          "name": "stderr"
        },
        {
          "output_type": "stream",
          "text": [
            "None\n"
          ],
          "name": "stdout"
        },
        {
          "output_type": "stream",
          "text": [
            "2021-07-13 10:26:32,769 - INFO: lr: 0.05000 | Epoch: 021 | Batch: 000 | Loss: 0.90539 | Correct: 92/128\n"
          ],
          "name": "stderr"
        },
        {
          "output_type": "stream",
          "text": [
            "None\n"
          ],
          "name": "stdout"
        },
        {
          "output_type": "stream",
          "text": [
            "2021-07-13 10:26:48,383 - INFO: lr: 0.03887 | Epoch: 022 | Batch: 000 | Loss: 1.09955 | Correct: 83/128\n"
          ],
          "name": "stderr"
        },
        {
          "output_type": "stream",
          "text": [
            "None\n"
          ],
          "name": "stdout"
        },
        {
          "output_type": "stream",
          "text": [
            "2021-07-13 10:27:03,916 - INFO: lr: 0.02831 | Epoch: 023 | Batch: 000 | Loss: 0.93090 | Correct: 86/128\n"
          ],
          "name": "stderr"
        },
        {
          "output_type": "stream",
          "text": [
            "None\n"
          ],
          "name": "stdout"
        },
        {
          "output_type": "stream",
          "text": [
            "2021-07-13 10:27:19,471 - INFO: lr: 0.01883 | Epoch: 024 | Batch: 000 | Loss: 0.90395 | Correct: 93/128\n"
          ],
          "name": "stderr"
        },
        {
          "output_type": "stream",
          "text": [
            "None\n"
          ],
          "name": "stdout"
        },
        {
          "output_type": "stream",
          "text": [
            "2021-07-13 10:27:34,963 - INFO: lr: 0.01091 | Epoch: 025 | Batch: 000 | Loss: 0.75670 | Correct: 98/128\n"
          ],
          "name": "stderr"
        },
        {
          "output_type": "stream",
          "text": [
            "None\n"
          ],
          "name": "stdout"
        },
        {
          "output_type": "stream",
          "text": [
            "2021-07-13 10:27:50,503 - INFO: lr: 0.00495 | Epoch: 026 | Batch: 000 | Loss: 0.84649 | Correct: 96/128\n"
          ],
          "name": "stderr"
        },
        {
          "output_type": "stream",
          "text": [
            "None\n"
          ],
          "name": "stdout"
        },
        {
          "output_type": "stream",
          "text": [
            "2021-07-13 10:28:06,044 - INFO: lr: 0.00125 | Epoch: 027 | Batch: 000 | Loss: 0.74771 | Correct: 99/128\n"
          ],
          "name": "stderr"
        },
        {
          "output_type": "stream",
          "text": [
            "None\n"
          ],
          "name": "stdout"
        },
        {
          "output_type": "stream",
          "text": [
            "2021-07-13 10:28:20,860 - INFO: Save the snapshot model with index: 1\n",
            "2021-07-13 10:28:21,567 - INFO: n_estimators: 2 | Validation Acc: 72.433 % | Historical Best: 72.433 %\n",
            "2021-07-13 10:28:22,314 - INFO: lr: 0.10000 | Epoch: 028 | Batch: 000 | Loss: 0.76776 | Correct: 97/128\n"
          ],
          "name": "stderr"
        },
        {
          "output_type": "stream",
          "text": [
            "None\n"
          ],
          "name": "stdout"
        },
        {
          "output_type": "stream",
          "text": [
            "2021-07-13 10:28:37,867 - INFO: lr: 0.09875 | Epoch: 029 | Batch: 000 | Loss: 0.98436 | Correct: 81/128\n"
          ],
          "name": "stderr"
        },
        {
          "output_type": "stream",
          "text": [
            "None\n"
          ],
          "name": "stdout"
        },
        {
          "output_type": "stream",
          "text": [
            "2021-07-13 10:28:53,385 - INFO: lr: 0.09505 | Epoch: 030 | Batch: 000 | Loss: 0.87241 | Correct: 92/128\n"
          ],
          "name": "stderr"
        },
        {
          "output_type": "stream",
          "text": [
            "None\n"
          ],
          "name": "stdout"
        },
        {
          "output_type": "stream",
          "text": [
            "2021-07-13 10:29:08,934 - INFO: lr: 0.08909 | Epoch: 031 | Batch: 000 | Loss: 1.18488 | Correct: 77/128\n"
          ],
          "name": "stderr"
        },
        {
          "output_type": "stream",
          "text": [
            "None\n"
          ],
          "name": "stdout"
        },
        {
          "output_type": "stream",
          "text": [
            "2021-07-13 10:29:24,432 - INFO: lr: 0.08117 | Epoch: 032 | Batch: 000 | Loss: 0.91704 | Correct: 89/128\n"
          ],
          "name": "stderr"
        },
        {
          "output_type": "stream",
          "text": [
            "None\n"
          ],
          "name": "stdout"
        },
        {
          "output_type": "stream",
          "text": [
            "2021-07-13 10:29:39,958 - INFO: lr: 0.07169 | Epoch: 033 | Batch: 000 | Loss: 0.75618 | Correct: 99/128\n"
          ],
          "name": "stderr"
        },
        {
          "output_type": "stream",
          "text": [
            "None\n"
          ],
          "name": "stdout"
        },
        {
          "output_type": "stream",
          "text": [
            "2021-07-13 10:29:55,453 - INFO: lr: 0.06113 | Epoch: 034 | Batch: 000 | Loss: 0.80577 | Correct: 93/128\n"
          ],
          "name": "stderr"
        },
        {
          "output_type": "stream",
          "text": [
            "None\n"
          ],
          "name": "stdout"
        },
        {
          "output_type": "stream",
          "text": [
            "2021-07-13 10:30:10,902 - INFO: lr: 0.05000 | Epoch: 035 | Batch: 000 | Loss: 0.60642 | Correct: 109/128\n"
          ],
          "name": "stderr"
        },
        {
          "output_type": "stream",
          "text": [
            "None\n"
          ],
          "name": "stdout"
        },
        {
          "output_type": "stream",
          "text": [
            "2021-07-13 10:30:26,406 - INFO: lr: 0.03887 | Epoch: 036 | Batch: 000 | Loss: 0.53901 | Correct: 100/128\n"
          ],
          "name": "stderr"
        },
        {
          "output_type": "stream",
          "text": [
            "None\n"
          ],
          "name": "stdout"
        },
        {
          "output_type": "stream",
          "text": [
            "2021-07-13 10:30:41,910 - INFO: lr: 0.02831 | Epoch: 037 | Batch: 000 | Loss: 0.60248 | Correct: 105/128\n"
          ],
          "name": "stderr"
        },
        {
          "output_type": "stream",
          "text": [
            "None\n"
          ],
          "name": "stdout"
        },
        {
          "output_type": "stream",
          "text": [
            "2021-07-13 10:30:57,462 - INFO: lr: 0.01883 | Epoch: 038 | Batch: 000 | Loss: 0.49143 | Correct: 107/128\n"
          ],
          "name": "stderr"
        },
        {
          "output_type": "stream",
          "text": [
            "None\n"
          ],
          "name": "stdout"
        },
        {
          "output_type": "stream",
          "text": [
            "2021-07-13 10:31:13,016 - INFO: lr: 0.01091 | Epoch: 039 | Batch: 000 | Loss: 0.38015 | Correct: 115/128\n"
          ],
          "name": "stderr"
        },
        {
          "output_type": "stream",
          "text": [
            "None\n"
          ],
          "name": "stdout"
        },
        {
          "output_type": "stream",
          "text": [
            "2021-07-13 10:31:28,536 - INFO: lr: 0.00495 | Epoch: 040 | Batch: 000 | Loss: 0.40703 | Correct: 110/128\n"
          ],
          "name": "stderr"
        },
        {
          "output_type": "stream",
          "text": [
            "None\n"
          ],
          "name": "stdout"
        },
        {
          "output_type": "stream",
          "text": [
            "2021-07-13 10:31:44,059 - INFO: lr: 0.00125 | Epoch: 041 | Batch: 000 | Loss: 0.32472 | Correct: 117/128\n"
          ],
          "name": "stderr"
        },
        {
          "output_type": "stream",
          "text": [
            "None\n"
          ],
          "name": "stdout"
        },
        {
          "output_type": "stream",
          "text": [
            "2021-07-13 10:31:58,879 - INFO: Save the snapshot model with index: 2\n",
            "2021-07-13 10:31:59,694 - INFO: n_estimators: 3 | Validation Acc: 75.223 % | Historical Best: 75.223 %\n",
            "2021-07-13 10:32:00,438 - INFO: lr: 0.10000 | Epoch: 042 | Batch: 000 | Loss: 0.36461 | Correct: 114/128\n"
          ],
          "name": "stderr"
        },
        {
          "output_type": "stream",
          "text": [
            "None\n"
          ],
          "name": "stdout"
        },
        {
          "output_type": "stream",
          "text": [
            "2021-07-13 10:32:15,977 - INFO: lr: 0.09875 | Epoch: 043 | Batch: 000 | Loss: 0.78000 | Correct: 97/128\n"
          ],
          "name": "stderr"
        },
        {
          "output_type": "stream",
          "text": [
            "None\n"
          ],
          "name": "stdout"
        },
        {
          "output_type": "stream",
          "text": [
            "2021-07-13 10:32:31,494 - INFO: lr: 0.09505 | Epoch: 044 | Batch: 000 | Loss: 0.77482 | Correct: 91/128\n"
          ],
          "name": "stderr"
        },
        {
          "output_type": "stream",
          "text": [
            "None\n"
          ],
          "name": "stdout"
        },
        {
          "output_type": "stream",
          "text": [
            "2021-07-13 10:32:47,034 - INFO: lr: 0.08909 | Epoch: 045 | Batch: 000 | Loss: 0.67468 | Correct: 101/128\n"
          ],
          "name": "stderr"
        },
        {
          "output_type": "stream",
          "text": [
            "None\n"
          ],
          "name": "stdout"
        },
        {
          "output_type": "stream",
          "text": [
            "2021-07-13 10:33:02,576 - INFO: lr: 0.08117 | Epoch: 046 | Batch: 000 | Loss: 0.70468 | Correct: 100/128\n"
          ],
          "name": "stderr"
        },
        {
          "output_type": "stream",
          "text": [
            "None\n"
          ],
          "name": "stdout"
        },
        {
          "output_type": "stream",
          "text": [
            "2021-07-13 10:33:18,124 - INFO: lr: 0.07169 | Epoch: 047 | Batch: 000 | Loss: 0.58367 | Correct: 106/128\n"
          ],
          "name": "stderr"
        },
        {
          "output_type": "stream",
          "text": [
            "None\n"
          ],
          "name": "stdout"
        },
        {
          "output_type": "stream",
          "text": [
            "2021-07-13 10:33:33,641 - INFO: lr: 0.06113 | Epoch: 048 | Batch: 000 | Loss: 0.43217 | Correct: 111/128\n"
          ],
          "name": "stderr"
        },
        {
          "output_type": "stream",
          "text": [
            "None\n"
          ],
          "name": "stdout"
        },
        {
          "output_type": "stream",
          "text": [
            "2021-07-13 10:33:49,107 - INFO: lr: 0.05000 | Epoch: 049 | Batch: 000 | Loss: 0.34850 | Correct: 112/128\n"
          ],
          "name": "stderr"
        },
        {
          "output_type": "stream",
          "text": [
            "None\n"
          ],
          "name": "stdout"
        },
        {
          "output_type": "stream",
          "text": [
            "2021-07-13 10:34:04,609 - INFO: lr: 0.03887 | Epoch: 050 | Batch: 000 | Loss: 0.38445 | Correct: 109/128\n"
          ],
          "name": "stderr"
        },
        {
          "output_type": "stream",
          "text": [
            "None\n"
          ],
          "name": "stdout"
        },
        {
          "output_type": "stream",
          "text": [
            "2021-07-13 10:34:20,102 - INFO: lr: 0.02831 | Epoch: 051 | Batch: 000 | Loss: 0.29541 | Correct: 120/128\n"
          ],
          "name": "stderr"
        },
        {
          "output_type": "stream",
          "text": [
            "None\n"
          ],
          "name": "stdout"
        },
        {
          "output_type": "stream",
          "text": [
            "2021-07-13 10:34:35,614 - INFO: lr: 0.01883 | Epoch: 052 | Batch: 000 | Loss: 0.35194 | Correct: 113/128\n"
          ],
          "name": "stderr"
        },
        {
          "output_type": "stream",
          "text": [
            "None\n"
          ],
          "name": "stdout"
        },
        {
          "output_type": "stream",
          "text": [
            "2021-07-13 10:34:51,159 - INFO: lr: 0.01091 | Epoch: 053 | Batch: 000 | Loss: 0.24114 | Correct: 118/128\n"
          ],
          "name": "stderr"
        },
        {
          "output_type": "stream",
          "text": [
            "None\n"
          ],
          "name": "stdout"
        },
        {
          "output_type": "stream",
          "text": [
            "2021-07-13 10:35:06,652 - INFO: lr: 0.00495 | Epoch: 054 | Batch: 000 | Loss: 0.34471 | Correct: 115/128\n"
          ],
          "name": "stderr"
        },
        {
          "output_type": "stream",
          "text": [
            "None\n"
          ],
          "name": "stdout"
        },
        {
          "output_type": "stream",
          "text": [
            "2021-07-13 10:35:22,173 - INFO: lr: 0.00125 | Epoch: 055 | Batch: 000 | Loss: 0.17485 | Correct: 123/128\n"
          ],
          "name": "stderr"
        },
        {
          "output_type": "stream",
          "text": [
            "None\n"
          ],
          "name": "stdout"
        },
        {
          "output_type": "stream",
          "text": [
            "2021-07-13 10:35:37,029 - INFO: Save the snapshot model with index: 3\n",
            "2021-07-13 10:35:37,997 - INFO: n_estimators: 4 | Validation Acc: 76.897 % | Historical Best: 76.897 %\n",
            "2021-07-13 10:35:38,706 - INFO: lr: 0.10000 | Epoch: 056 | Batch: 000 | Loss: 0.27806 | Correct: 117/128\n"
          ],
          "name": "stderr"
        },
        {
          "output_type": "stream",
          "text": [
            "None\n"
          ],
          "name": "stdout"
        },
        {
          "output_type": "stream",
          "text": [
            "2021-07-13 10:35:54,237 - INFO: lr: 0.09875 | Epoch: 057 | Batch: 000 | Loss: 0.95961 | Correct: 89/128\n"
          ],
          "name": "stderr"
        },
        {
          "output_type": "stream",
          "text": [
            "None\n"
          ],
          "name": "stdout"
        },
        {
          "output_type": "stream",
          "text": [
            "2021-07-13 10:36:09,791 - INFO: lr: 0.09505 | Epoch: 058 | Batch: 000 | Loss: 0.60838 | Correct: 105/128\n"
          ],
          "name": "stderr"
        },
        {
          "output_type": "stream",
          "text": [
            "None\n"
          ],
          "name": "stdout"
        },
        {
          "output_type": "stream",
          "text": [
            "2021-07-13 10:36:25,366 - INFO: lr: 0.08909 | Epoch: 059 | Batch: 000 | Loss: 0.39052 | Correct: 111/128\n"
          ],
          "name": "stderr"
        },
        {
          "output_type": "stream",
          "text": [
            "None\n"
          ],
          "name": "stdout"
        },
        {
          "output_type": "stream",
          "text": [
            "2021-07-13 10:36:40,874 - INFO: lr: 0.08117 | Epoch: 060 | Batch: 000 | Loss: 0.37425 | Correct: 111/128\n"
          ],
          "name": "stderr"
        },
        {
          "output_type": "stream",
          "text": [
            "None\n"
          ],
          "name": "stdout"
        },
        {
          "output_type": "stream",
          "text": [
            "2021-07-13 10:36:56,395 - INFO: lr: 0.07169 | Epoch: 061 | Batch: 000 | Loss: 0.34310 | Correct: 112/128\n"
          ],
          "name": "stderr"
        },
        {
          "output_type": "stream",
          "text": [
            "None\n"
          ],
          "name": "stdout"
        },
        {
          "output_type": "stream",
          "text": [
            "2021-07-13 10:37:11,901 - INFO: lr: 0.06113 | Epoch: 062 | Batch: 000 | Loss: 0.33705 | Correct: 112/128\n"
          ],
          "name": "stderr"
        },
        {
          "output_type": "stream",
          "text": [
            "None\n"
          ],
          "name": "stdout"
        },
        {
          "output_type": "stream",
          "text": [
            "2021-07-13 10:37:27,403 - INFO: lr: 0.05000 | Epoch: 063 | Batch: 000 | Loss: 0.22556 | Correct: 120/128\n"
          ],
          "name": "stderr"
        },
        {
          "output_type": "stream",
          "text": [
            "None\n"
          ],
          "name": "stdout"
        },
        {
          "output_type": "stream",
          "text": [
            "2021-07-13 10:37:42,873 - INFO: lr: 0.03887 | Epoch: 064 | Batch: 000 | Loss: 0.36208 | Correct: 115/128\n"
          ],
          "name": "stderr"
        },
        {
          "output_type": "stream",
          "text": [
            "None\n"
          ],
          "name": "stdout"
        },
        {
          "output_type": "stream",
          "text": [
            "2021-07-13 10:37:58,380 - INFO: lr: 0.02831 | Epoch: 065 | Batch: 000 | Loss: 0.23023 | Correct: 118/128\n"
          ],
          "name": "stderr"
        },
        {
          "output_type": "stream",
          "text": [
            "None\n"
          ],
          "name": "stdout"
        },
        {
          "output_type": "stream",
          "text": [
            "2021-07-13 10:38:13,865 - INFO: lr: 0.01883 | Epoch: 066 | Batch: 000 | Loss: 0.11828 | Correct: 125/128\n"
          ],
          "name": "stderr"
        },
        {
          "output_type": "stream",
          "text": [
            "None\n"
          ],
          "name": "stdout"
        },
        {
          "output_type": "stream",
          "text": [
            "2021-07-13 10:38:29,443 - INFO: lr: 0.01091 | Epoch: 067 | Batch: 000 | Loss: 0.17067 | Correct: 124/128\n"
          ],
          "name": "stderr"
        },
        {
          "output_type": "stream",
          "text": [
            "None\n"
          ],
          "name": "stdout"
        },
        {
          "output_type": "stream",
          "text": [
            "2021-07-13 10:38:44,967 - INFO: lr: 0.00495 | Epoch: 068 | Batch: 000 | Loss: 0.16442 | Correct: 121/128\n"
          ],
          "name": "stderr"
        },
        {
          "output_type": "stream",
          "text": [
            "None\n"
          ],
          "name": "stdout"
        },
        {
          "output_type": "stream",
          "text": [
            "2021-07-13 10:39:00,553 - INFO: lr: 0.00125 | Epoch: 069 | Batch: 000 | Loss: 0.17880 | Correct: 122/128\n"
          ],
          "name": "stderr"
        },
        {
          "output_type": "stream",
          "text": [
            "None\n"
          ],
          "name": "stdout"
        },
        {
          "output_type": "stream",
          "text": [
            "2021-07-13 10:39:15,391 - INFO: Save the snapshot model with index: 4\n",
            "2021-07-13 10:39:16,453 - INFO: n_estimators: 5 | Validation Acc: 78.906 % | Historical Best: 78.906 %\n"
          ],
          "name": "stderr"
        },
        {
          "output_type": "stream",
          "text": [
            "Group 2 Finished!\n",
            "Target number of exemplars: 100\n",
            "Randomly extracting exemplars from class 0 of current split... Extracted 100 exemplars.\n",
            "Randomly extracting exemplars from class 1 of current split... Extracted 100 exemplars.\n",
            "Randomly extracting exemplars from class 2 of current split... Extracted 100 exemplars.\n",
            "Randomly extracting exemplars from class 3 of current split... Extracted 100 exemplars.\n",
            "Randomly extracting exemplars from class 4 of current split... Extracted 100 exemplars.\n",
            "Randomly extracting exemplars from class 5 of current split... Extracted 100 exemplars.\n",
            "Randomly extracting exemplars from class 6 of current split... Extracted 100 exemplars.\n",
            "Randomly extracting exemplars from class 7 of current split... Extracted 100 exemplars.\n",
            "Randomly extracting exemplars from class 8 of current split... Extracted 100 exemplars.\n",
            "Randomly extracting exemplars from class 9 of current split... Extracted 100 exemplars.\n",
            "[0.052309782608695655, 0.16644021739130435, 0.3624320652173913, 0.47744565217391305, 0.6449728260869565, 0.8044836956521739, 0.9197690217391304],[0.7005208333333334, 0.675, 0.615625, 0.5619791666666667, 0.44635416666666666, 0.27447916666666666, 0.12864583333333332]\n",
            "Testing on both open and closed world\n",
            "owr harmonic mean (threshold:0.25) = 0.0973501654384118\n",
            "owr harmonic mean (threshold:0.35) = 0.2670353625060552\n",
            "owr harmonic mean (threshold:0.5) = 0.45625607765506704\n",
            "owr harmonic mean (threshold:0.6) = 0.5162749722228274\n",
            "owr harmonic mean (threshold:0.75) = 0.5275894580125744\n",
            "owr harmonic mean (threshold:0.85) = 0.4093079050097593\n",
            "owr harmonic mean (threshold:0.95) = 0.22572067097930795\n",
            "\n",
            "=============================================\n",
            "\n",
            "Length of exemplars set: 2000\n"
          ],
          "name": "stdout"
        },
        {
          "output_type": "stream",
          "text": [
            "2021-07-13 10:39:34,667 - INFO: lr: 0.10000 | Epoch: 000 | Batch: 000 | Loss: 4.69327 | Correct: 3/128\n"
          ],
          "name": "stderr"
        },
        {
          "output_type": "stream",
          "text": [
            "None\n"
          ],
          "name": "stdout"
        },
        {
          "output_type": "stream",
          "text": [
            "2021-07-13 10:39:50,567 - INFO: lr: 0.09875 | Epoch: 001 | Batch: 000 | Loss: 2.64042 | Correct: 35/128\n"
          ],
          "name": "stderr"
        },
        {
          "output_type": "stream",
          "text": [
            "None\n"
          ],
          "name": "stdout"
        },
        {
          "output_type": "stream",
          "text": [
            "2021-07-13 10:40:06,524 - INFO: lr: 0.09505 | Epoch: 002 | Batch: 000 | Loss: 2.52432 | Correct: 36/128\n"
          ],
          "name": "stderr"
        },
        {
          "output_type": "stream",
          "text": [
            "None\n"
          ],
          "name": "stdout"
        },
        {
          "output_type": "stream",
          "text": [
            "2021-07-13 10:40:22,456 - INFO: lr: 0.08909 | Epoch: 003 | Batch: 000 | Loss: 2.30273 | Correct: 44/128\n"
          ],
          "name": "stderr"
        },
        {
          "output_type": "stream",
          "text": [
            "None\n"
          ],
          "name": "stdout"
        },
        {
          "output_type": "stream",
          "text": [
            "2021-07-13 10:40:38,324 - INFO: lr: 0.08117 | Epoch: 004 | Batch: 000 | Loss: 2.60017 | Correct: 32/128\n"
          ],
          "name": "stderr"
        },
        {
          "output_type": "stream",
          "text": [
            "None\n"
          ],
          "name": "stdout"
        },
        {
          "output_type": "stream",
          "text": [
            "2021-07-13 10:40:54,203 - INFO: lr: 0.07169 | Epoch: 005 | Batch: 000 | Loss: 2.11863 | Correct: 52/128\n"
          ],
          "name": "stderr"
        },
        {
          "output_type": "stream",
          "text": [
            "None\n"
          ],
          "name": "stdout"
        },
        {
          "output_type": "stream",
          "text": [
            "2021-07-13 10:41:10,128 - INFO: lr: 0.06113 | Epoch: 006 | Batch: 000 | Loss: 1.93178 | Correct: 56/128\n"
          ],
          "name": "stderr"
        },
        {
          "output_type": "stream",
          "text": [
            "None\n"
          ],
          "name": "stdout"
        },
        {
          "output_type": "stream",
          "text": [
            "2021-07-13 10:41:25,980 - INFO: lr: 0.05000 | Epoch: 007 | Batch: 000 | Loss: 1.85693 | Correct: 55/128\n"
          ],
          "name": "stderr"
        },
        {
          "output_type": "stream",
          "text": [
            "None\n"
          ],
          "name": "stdout"
        },
        {
          "output_type": "stream",
          "text": [
            "2021-07-13 10:41:41,881 - INFO: lr: 0.03887 | Epoch: 008 | Batch: 000 | Loss: 1.48974 | Correct: 75/128\n"
          ],
          "name": "stderr"
        },
        {
          "output_type": "stream",
          "text": [
            "None\n"
          ],
          "name": "stdout"
        },
        {
          "output_type": "stream",
          "text": [
            "2021-07-13 10:41:57,747 - INFO: lr: 0.02831 | Epoch: 009 | Batch: 000 | Loss: 1.51833 | Correct: 76/128\n"
          ],
          "name": "stderr"
        },
        {
          "output_type": "stream",
          "text": [
            "None\n"
          ],
          "name": "stdout"
        },
        {
          "output_type": "stream",
          "text": [
            "2021-07-13 10:42:13,628 - INFO: lr: 0.01883 | Epoch: 010 | Batch: 000 | Loss: 1.58095 | Correct: 67/128\n"
          ],
          "name": "stderr"
        },
        {
          "output_type": "stream",
          "text": [
            "None\n"
          ],
          "name": "stdout"
        },
        {
          "output_type": "stream",
          "text": [
            "2021-07-13 10:42:29,540 - INFO: lr: 0.01091 | Epoch: 011 | Batch: 000 | Loss: 1.54347 | Correct: 69/128\n"
          ],
          "name": "stderr"
        },
        {
          "output_type": "stream",
          "text": [
            "None\n"
          ],
          "name": "stdout"
        },
        {
          "output_type": "stream",
          "text": [
            "2021-07-13 10:42:45,387 - INFO: lr: 0.00495 | Epoch: 012 | Batch: 000 | Loss: 1.63757 | Correct: 73/128\n"
          ],
          "name": "stderr"
        },
        {
          "output_type": "stream",
          "text": [
            "None\n"
          ],
          "name": "stdout"
        },
        {
          "output_type": "stream",
          "text": [
            "2021-07-13 10:43:01,242 - INFO: lr: 0.00125 | Epoch: 013 | Batch: 000 | Loss: 1.42485 | Correct: 80/128\n"
          ],
          "name": "stderr"
        },
        {
          "output_type": "stream",
          "text": [
            "None\n"
          ],
          "name": "stdout"
        },
        {
          "output_type": "stream",
          "text": [
            "2021-07-13 10:43:16,382 - INFO: Save the snapshot model with index: 0\n",
            "2021-07-13 10:43:17,009 - INFO: n_estimators: 1 | Validation Acc: 64.955 % | Historical Best: 64.955 %\n",
            "2021-07-13 10:43:17,808 - INFO: lr: 0.10000 | Epoch: 014 | Batch: 000 | Loss: 1.44954 | Correct: 73/128\n"
          ],
          "name": "stderr"
        },
        {
          "output_type": "stream",
          "text": [
            "None\n"
          ],
          "name": "stdout"
        },
        {
          "output_type": "stream",
          "text": [
            "2021-07-13 10:43:33,700 - INFO: lr: 0.09875 | Epoch: 015 | Batch: 000 | Loss: 1.59179 | Correct: 69/128\n"
          ],
          "name": "stderr"
        },
        {
          "output_type": "stream",
          "text": [
            "None\n"
          ],
          "name": "stdout"
        },
        {
          "output_type": "stream",
          "text": [
            "2021-07-13 10:43:49,583 - INFO: lr: 0.09505 | Epoch: 016 | Batch: 000 | Loss: 1.54205 | Correct: 65/128\n"
          ],
          "name": "stderr"
        },
        {
          "output_type": "stream",
          "text": [
            "None\n"
          ],
          "name": "stdout"
        },
        {
          "output_type": "stream",
          "text": [
            "2021-07-13 10:44:05,442 - INFO: lr: 0.08909 | Epoch: 017 | Batch: 000 | Loss: 1.43443 | Correct: 70/128\n"
          ],
          "name": "stderr"
        },
        {
          "output_type": "stream",
          "text": [
            "None\n"
          ],
          "name": "stdout"
        },
        {
          "output_type": "stream",
          "text": [
            "2021-07-13 10:44:21,292 - INFO: lr: 0.08117 | Epoch: 018 | Batch: 000 | Loss: 1.71209 | Correct: 60/128\n"
          ],
          "name": "stderr"
        },
        {
          "output_type": "stream",
          "text": [
            "None\n"
          ],
          "name": "stdout"
        },
        {
          "output_type": "stream",
          "text": [
            "2021-07-13 10:44:37,181 - INFO: lr: 0.07169 | Epoch: 019 | Batch: 000 | Loss: 1.40956 | Correct: 76/128\n"
          ],
          "name": "stderr"
        },
        {
          "output_type": "stream",
          "text": [
            "None\n"
          ],
          "name": "stdout"
        },
        {
          "output_type": "stream",
          "text": [
            "2021-07-13 10:44:53,054 - INFO: lr: 0.06113 | Epoch: 020 | Batch: 000 | Loss: 1.30527 | Correct: 80/128\n"
          ],
          "name": "stderr"
        },
        {
          "output_type": "stream",
          "text": [
            "None\n"
          ],
          "name": "stdout"
        },
        {
          "output_type": "stream",
          "text": [
            "2021-07-13 10:45:08,919 - INFO: lr: 0.05000 | Epoch: 021 | Batch: 000 | Loss: 1.18415 | Correct: 80/128\n"
          ],
          "name": "stderr"
        },
        {
          "output_type": "stream",
          "text": [
            "None\n"
          ],
          "name": "stdout"
        },
        {
          "output_type": "stream",
          "text": [
            "2021-07-13 10:45:24,809 - INFO: lr: 0.03887 | Epoch: 022 | Batch: 000 | Loss: 1.16234 | Correct: 83/128\n"
          ],
          "name": "stderr"
        },
        {
          "output_type": "stream",
          "text": [
            "None\n"
          ],
          "name": "stdout"
        },
        {
          "output_type": "stream",
          "text": [
            "2021-07-13 10:45:40,666 - INFO: lr: 0.02831 | Epoch: 023 | Batch: 000 | Loss: 0.98865 | Correct: 85/128\n"
          ],
          "name": "stderr"
        },
        {
          "output_type": "stream",
          "text": [
            "None\n"
          ],
          "name": "stdout"
        },
        {
          "output_type": "stream",
          "text": [
            "2021-07-13 10:45:56,539 - INFO: lr: 0.01883 | Epoch: 024 | Batch: 000 | Loss: 0.80915 | Correct: 97/128\n"
          ],
          "name": "stderr"
        },
        {
          "output_type": "stream",
          "text": [
            "None\n"
          ],
          "name": "stdout"
        },
        {
          "output_type": "stream",
          "text": [
            "2021-07-13 10:46:12,407 - INFO: lr: 0.01091 | Epoch: 025 | Batch: 000 | Loss: 0.74953 | Correct: 95/128\n"
          ],
          "name": "stderr"
        },
        {
          "output_type": "stream",
          "text": [
            "None\n"
          ],
          "name": "stdout"
        },
        {
          "output_type": "stream",
          "text": [
            "2021-07-13 10:46:28,239 - INFO: lr: 0.00495 | Epoch: 026 | Batch: 000 | Loss: 0.84576 | Correct: 93/128\n"
          ],
          "name": "stderr"
        },
        {
          "output_type": "stream",
          "text": [
            "None\n"
          ],
          "name": "stdout"
        },
        {
          "output_type": "stream",
          "text": [
            "2021-07-13 10:46:44,113 - INFO: lr: 0.00125 | Epoch: 027 | Batch: 000 | Loss: 0.93565 | Correct: 91/128\n"
          ],
          "name": "stderr"
        },
        {
          "output_type": "stream",
          "text": [
            "None\n"
          ],
          "name": "stdout"
        },
        {
          "output_type": "stream",
          "text": [
            "2021-07-13 10:46:59,215 - INFO: Save the snapshot model with index: 1\n",
            "2021-07-13 10:46:59,929 - INFO: n_estimators: 2 | Validation Acc: 72.768 % | Historical Best: 72.768 %\n",
            "2021-07-13 10:47:00,710 - INFO: lr: 0.10000 | Epoch: 028 | Batch: 000 | Loss: 0.84778 | Correct: 99/128\n"
          ],
          "name": "stderr"
        },
        {
          "output_type": "stream",
          "text": [
            "None\n"
          ],
          "name": "stdout"
        },
        {
          "output_type": "stream",
          "text": [
            "2021-07-13 10:47:16,599 - INFO: lr: 0.09875 | Epoch: 029 | Batch: 000 | Loss: 1.50218 | Correct: 72/128\n"
          ],
          "name": "stderr"
        },
        {
          "output_type": "stream",
          "text": [
            "None\n"
          ],
          "name": "stdout"
        },
        {
          "output_type": "stream",
          "text": [
            "2021-07-13 10:47:32,442 - INFO: lr: 0.09505 | Epoch: 030 | Batch: 000 | Loss: 1.19144 | Correct: 76/128\n"
          ],
          "name": "stderr"
        },
        {
          "output_type": "stream",
          "text": [
            "None\n"
          ],
          "name": "stdout"
        },
        {
          "output_type": "stream",
          "text": [
            "2021-07-13 10:47:48,355 - INFO: lr: 0.08909 | Epoch: 031 | Batch: 000 | Loss: 1.07441 | Correct: 86/128\n"
          ],
          "name": "stderr"
        },
        {
          "output_type": "stream",
          "text": [
            "None\n"
          ],
          "name": "stdout"
        },
        {
          "output_type": "stream",
          "text": [
            "2021-07-13 10:48:04,258 - INFO: lr: 0.08117 | Epoch: 032 | Batch: 000 | Loss: 0.96417 | Correct: 89/128\n"
          ],
          "name": "stderr"
        },
        {
          "output_type": "stream",
          "text": [
            "None\n"
          ],
          "name": "stdout"
        },
        {
          "output_type": "stream",
          "text": [
            "2021-07-13 10:48:20,210 - INFO: lr: 0.07169 | Epoch: 033 | Batch: 000 | Loss: 0.82207 | Correct: 94/128\n"
          ],
          "name": "stderr"
        },
        {
          "output_type": "stream",
          "text": [
            "None\n"
          ],
          "name": "stdout"
        },
        {
          "output_type": "stream",
          "text": [
            "2021-07-13 10:48:36,075 - INFO: lr: 0.06113 | Epoch: 034 | Batch: 000 | Loss: 0.78920 | Correct: 99/128\n"
          ],
          "name": "stderr"
        },
        {
          "output_type": "stream",
          "text": [
            "None\n"
          ],
          "name": "stdout"
        },
        {
          "output_type": "stream",
          "text": [
            "2021-07-13 10:48:51,987 - INFO: lr: 0.05000 | Epoch: 035 | Batch: 000 | Loss: 0.74786 | Correct: 97/128\n"
          ],
          "name": "stderr"
        },
        {
          "output_type": "stream",
          "text": [
            "None\n"
          ],
          "name": "stdout"
        },
        {
          "output_type": "stream",
          "text": [
            "2021-07-13 10:49:07,843 - INFO: lr: 0.03887 | Epoch: 036 | Batch: 000 | Loss: 0.52869 | Correct: 107/128\n"
          ],
          "name": "stderr"
        },
        {
          "output_type": "stream",
          "text": [
            "None\n"
          ],
          "name": "stdout"
        },
        {
          "output_type": "stream",
          "text": [
            "2021-07-13 10:49:23,725 - INFO: lr: 0.02831 | Epoch: 037 | Batch: 000 | Loss: 0.45866 | Correct: 113/128\n"
          ],
          "name": "stderr"
        },
        {
          "output_type": "stream",
          "text": [
            "None\n"
          ],
          "name": "stdout"
        },
        {
          "output_type": "stream",
          "text": [
            "2021-07-13 10:49:39,570 - INFO: lr: 0.01883 | Epoch: 038 | Batch: 000 | Loss: 0.54195 | Correct: 107/128\n"
          ],
          "name": "stderr"
        },
        {
          "output_type": "stream",
          "text": [
            "None\n"
          ],
          "name": "stdout"
        },
        {
          "output_type": "stream",
          "text": [
            "2021-07-13 10:49:55,451 - INFO: lr: 0.01091 | Epoch: 039 | Batch: 000 | Loss: 0.50394 | Correct: 106/128\n"
          ],
          "name": "stderr"
        },
        {
          "output_type": "stream",
          "text": [
            "None\n"
          ],
          "name": "stdout"
        },
        {
          "output_type": "stream",
          "text": [
            "2021-07-13 10:50:11,321 - INFO: lr: 0.00495 | Epoch: 040 | Batch: 000 | Loss: 0.44276 | Correct: 113/128\n"
          ],
          "name": "stderr"
        },
        {
          "output_type": "stream",
          "text": [
            "None\n"
          ],
          "name": "stdout"
        },
        {
          "output_type": "stream",
          "text": [
            "2021-07-13 10:50:27,309 - INFO: lr: 0.00125 | Epoch: 041 | Batch: 000 | Loss: 0.38862 | Correct: 112/128\n"
          ],
          "name": "stderr"
        },
        {
          "output_type": "stream",
          "text": [
            "None\n"
          ],
          "name": "stdout"
        },
        {
          "output_type": "stream",
          "text": [
            "2021-07-13 10:50:42,608 - INFO: Save the snapshot model with index: 2\n",
            "2021-07-13 10:50:43,448 - INFO: n_estimators: 3 | Validation Acc: 75.893 % | Historical Best: 75.893 %\n",
            "2021-07-13 10:50:44,237 - INFO: lr: 0.10000 | Epoch: 042 | Batch: 000 | Loss: 0.39175 | Correct: 115/128\n"
          ],
          "name": "stderr"
        },
        {
          "output_type": "stream",
          "text": [
            "None\n"
          ],
          "name": "stdout"
        },
        {
          "output_type": "stream",
          "text": [
            "2021-07-13 10:51:00,127 - INFO: lr: 0.09875 | Epoch: 043 | Batch: 000 | Loss: 1.14974 | Correct: 79/128\n"
          ],
          "name": "stderr"
        },
        {
          "output_type": "stream",
          "text": [
            "None\n"
          ],
          "name": "stdout"
        },
        {
          "output_type": "stream",
          "text": [
            "2021-07-13 10:51:16,036 - INFO: lr: 0.09505 | Epoch: 044 | Batch: 000 | Loss: 0.90099 | Correct: 92/128\n"
          ],
          "name": "stderr"
        },
        {
          "output_type": "stream",
          "text": [
            "None\n"
          ],
          "name": "stdout"
        },
        {
          "output_type": "stream",
          "text": [
            "2021-07-13 10:51:31,922 - INFO: lr: 0.08909 | Epoch: 045 | Batch: 000 | Loss: 0.94516 | Correct: 88/128\n"
          ],
          "name": "stderr"
        },
        {
          "output_type": "stream",
          "text": [
            "None\n"
          ],
          "name": "stdout"
        },
        {
          "output_type": "stream",
          "text": [
            "2021-07-13 10:51:47,791 - INFO: lr: 0.08117 | Epoch: 046 | Batch: 000 | Loss: 0.56778 | Correct: 104/128\n"
          ],
          "name": "stderr"
        },
        {
          "output_type": "stream",
          "text": [
            "None\n"
          ],
          "name": "stdout"
        },
        {
          "output_type": "stream",
          "text": [
            "2021-07-13 10:52:03,611 - INFO: lr: 0.07169 | Epoch: 047 | Batch: 000 | Loss: 0.65238 | Correct: 102/128\n"
          ],
          "name": "stderr"
        },
        {
          "output_type": "stream",
          "text": [
            "None\n"
          ],
          "name": "stdout"
        },
        {
          "output_type": "stream",
          "text": [
            "2021-07-13 10:52:19,469 - INFO: lr: 0.06113 | Epoch: 048 | Batch: 000 | Loss: 0.61906 | Correct: 107/128\n"
          ],
          "name": "stderr"
        },
        {
          "output_type": "stream",
          "text": [
            "None\n"
          ],
          "name": "stdout"
        },
        {
          "output_type": "stream",
          "text": [
            "2021-07-13 10:52:35,323 - INFO: lr: 0.05000 | Epoch: 049 | Batch: 000 | Loss: 0.61016 | Correct: 105/128\n"
          ],
          "name": "stderr"
        },
        {
          "output_type": "stream",
          "text": [
            "None\n"
          ],
          "name": "stdout"
        },
        {
          "output_type": "stream",
          "text": [
            "2021-07-13 10:52:51,163 - INFO: lr: 0.03887 | Epoch: 050 | Batch: 000 | Loss: 0.53197 | Correct: 106/128\n"
          ],
          "name": "stderr"
        },
        {
          "output_type": "stream",
          "text": [
            "None\n"
          ],
          "name": "stdout"
        },
        {
          "output_type": "stream",
          "text": [
            "2021-07-13 10:53:06,973 - INFO: lr: 0.02831 | Epoch: 051 | Batch: 000 | Loss: 0.39489 | Correct: 119/128\n"
          ],
          "name": "stderr"
        },
        {
          "output_type": "stream",
          "text": [
            "None\n"
          ],
          "name": "stdout"
        },
        {
          "output_type": "stream",
          "text": [
            "2021-07-13 10:53:22,826 - INFO: lr: 0.01883 | Epoch: 052 | Batch: 000 | Loss: 0.29653 | Correct: 116/128\n"
          ],
          "name": "stderr"
        },
        {
          "output_type": "stream",
          "text": [
            "None\n"
          ],
          "name": "stdout"
        },
        {
          "output_type": "stream",
          "text": [
            "2021-07-13 10:53:38,671 - INFO: lr: 0.01091 | Epoch: 053 | Batch: 000 | Loss: 0.31267 | Correct: 115/128\n"
          ],
          "name": "stderr"
        },
        {
          "output_type": "stream",
          "text": [
            "None\n"
          ],
          "name": "stdout"
        },
        {
          "output_type": "stream",
          "text": [
            "2021-07-13 10:53:54,576 - INFO: lr: 0.00495 | Epoch: 054 | Batch: 000 | Loss: 0.27160 | Correct: 118/128\n"
          ],
          "name": "stderr"
        },
        {
          "output_type": "stream",
          "text": [
            "None\n"
          ],
          "name": "stdout"
        },
        {
          "output_type": "stream",
          "text": [
            "2021-07-13 10:54:10,417 - INFO: lr: 0.00125 | Epoch: 055 | Batch: 000 | Loss: 0.19003 | Correct: 125/128\n"
          ],
          "name": "stderr"
        },
        {
          "output_type": "stream",
          "text": [
            "None\n"
          ],
          "name": "stdout"
        },
        {
          "output_type": "stream",
          "text": [
            "2021-07-13 10:54:25,539 - INFO: Save the snapshot model with index: 3\n",
            "2021-07-13 10:54:26,490 - INFO: n_estimators: 4 | Validation Acc: 79.911 % | Historical Best: 79.911 %\n",
            "2021-07-13 10:54:27,266 - INFO: lr: 0.10000 | Epoch: 056 | Batch: 000 | Loss: 0.27630 | Correct: 114/128\n"
          ],
          "name": "stderr"
        },
        {
          "output_type": "stream",
          "text": [
            "None\n"
          ],
          "name": "stdout"
        },
        {
          "output_type": "stream",
          "text": [
            "2021-07-13 10:54:43,127 - INFO: lr: 0.09875 | Epoch: 057 | Batch: 000 | Loss: 0.91858 | Correct: 99/128\n"
          ],
          "name": "stderr"
        },
        {
          "output_type": "stream",
          "text": [
            "None\n"
          ],
          "name": "stdout"
        },
        {
          "output_type": "stream",
          "text": [
            "2021-07-13 10:54:58,963 - INFO: lr: 0.09505 | Epoch: 058 | Batch: 000 | Loss: 0.69839 | Correct: 98/128\n"
          ],
          "name": "stderr"
        },
        {
          "output_type": "stream",
          "text": [
            "None\n"
          ],
          "name": "stdout"
        },
        {
          "output_type": "stream",
          "text": [
            "2021-07-13 10:55:14,800 - INFO: lr: 0.08909 | Epoch: 059 | Batch: 000 | Loss: 0.58296 | Correct: 103/128\n"
          ],
          "name": "stderr"
        },
        {
          "output_type": "stream",
          "text": [
            "None\n"
          ],
          "name": "stdout"
        },
        {
          "output_type": "stream",
          "text": [
            "2021-07-13 10:55:30,646 - INFO: lr: 0.08117 | Epoch: 060 | Batch: 000 | Loss: 0.49982 | Correct: 108/128\n"
          ],
          "name": "stderr"
        },
        {
          "output_type": "stream",
          "text": [
            "None\n"
          ],
          "name": "stdout"
        },
        {
          "output_type": "stream",
          "text": [
            "2021-07-13 10:55:46,521 - INFO: lr: 0.07169 | Epoch: 061 | Batch: 000 | Loss: 0.45527 | Correct: 111/128\n"
          ],
          "name": "stderr"
        },
        {
          "output_type": "stream",
          "text": [
            "None\n"
          ],
          "name": "stdout"
        },
        {
          "output_type": "stream",
          "text": [
            "2021-07-13 10:56:02,403 - INFO: lr: 0.06113 | Epoch: 062 | Batch: 000 | Loss: 0.45855 | Correct: 111/128\n"
          ],
          "name": "stderr"
        },
        {
          "output_type": "stream",
          "text": [
            "None\n"
          ],
          "name": "stdout"
        },
        {
          "output_type": "stream",
          "text": [
            "2021-07-13 10:56:18,323 - INFO: lr: 0.05000 | Epoch: 063 | Batch: 000 | Loss: 0.24961 | Correct: 119/128\n"
          ],
          "name": "stderr"
        },
        {
          "output_type": "stream",
          "text": [
            "None\n"
          ],
          "name": "stdout"
        },
        {
          "output_type": "stream",
          "text": [
            "2021-07-13 10:56:34,202 - INFO: lr: 0.03887 | Epoch: 064 | Batch: 000 | Loss: 0.36541 | Correct: 114/128\n"
          ],
          "name": "stderr"
        },
        {
          "output_type": "stream",
          "text": [
            "None\n"
          ],
          "name": "stdout"
        },
        {
          "output_type": "stream",
          "text": [
            "2021-07-13 10:56:50,024 - INFO: lr: 0.02831 | Epoch: 065 | Batch: 000 | Loss: 0.23587 | Correct: 119/128\n"
          ],
          "name": "stderr"
        },
        {
          "output_type": "stream",
          "text": [
            "None\n"
          ],
          "name": "stdout"
        },
        {
          "output_type": "stream",
          "text": [
            "2021-07-13 10:57:05,884 - INFO: lr: 0.01883 | Epoch: 066 | Batch: 000 | Loss: 0.12220 | Correct: 126/128\n"
          ],
          "name": "stderr"
        },
        {
          "output_type": "stream",
          "text": [
            "None\n"
          ],
          "name": "stdout"
        },
        {
          "output_type": "stream",
          "text": [
            "2021-07-13 10:57:21,815 - INFO: lr: 0.01091 | Epoch: 067 | Batch: 000 | Loss: 0.17719 | Correct: 121/128\n"
          ],
          "name": "stderr"
        },
        {
          "output_type": "stream",
          "text": [
            "None\n"
          ],
          "name": "stdout"
        },
        {
          "output_type": "stream",
          "text": [
            "2021-07-13 10:57:37,689 - INFO: lr: 0.00495 | Epoch: 068 | Batch: 000 | Loss: 0.15317 | Correct: 123/128\n"
          ],
          "name": "stderr"
        },
        {
          "output_type": "stream",
          "text": [
            "None\n"
          ],
          "name": "stdout"
        },
        {
          "output_type": "stream",
          "text": [
            "2021-07-13 10:57:53,547 - INFO: lr: 0.00125 | Epoch: 069 | Batch: 000 | Loss: 0.17530 | Correct: 123/128\n"
          ],
          "name": "stderr"
        },
        {
          "output_type": "stream",
          "text": [
            "None\n"
          ],
          "name": "stdout"
        },
        {
          "output_type": "stream",
          "text": [
            "2021-07-13 10:58:08,664 - INFO: Save the snapshot model with index: 4\n",
            "2021-07-13 10:58:09,765 - INFO: n_estimators: 5 | Validation Acc: 78.906 % | Historical Best: 79.911 %\n"
          ],
          "name": "stderr"
        },
        {
          "output_type": "stream",
          "text": [
            "Group 3 Finished!\n",
            "Target number of exemplars: 66\n",
            "Randomly extracting exemplars from class 0 of current split... Extracted 66 exemplars.\n",
            "Randomly extracting exemplars from class 1 of current split... Extracted 66 exemplars.\n",
            "Randomly extracting exemplars from class 2 of current split... Extracted 66 exemplars.\n",
            "Randomly extracting exemplars from class 3 of current split... Extracted 66 exemplars.\n",
            "Randomly extracting exemplars from class 4 of current split... Extracted 66 exemplars.\n",
            "Randomly extracting exemplars from class 5 of current split... Extracted 66 exemplars.\n",
            "Randomly extracting exemplars from class 6 of current split... Extracted 66 exemplars.\n",
            "Randomly extracting exemplars from class 7 of current split... Extracted 66 exemplars.\n",
            "Randomly extracting exemplars from class 8 of current split... Extracted 66 exemplars.\n",
            "Randomly extracting exemplars from class 9 of current split... Extracted 66 exemplars.\n",
            "[0.06535326086956522, 0.18804347826086956, 0.3995244565217391, 0.5177309782608696, 0.6867527173913044, 0.8383152173913043, 0.9396059782608696],[0.595108695652174, 0.5614809782608695, 0.4857336956521739, 0.4266304347826087, 0.3226902173913043, 0.1871603260869565, 0.07302989130434782]\n",
            "Testing on both open and closed world\n",
            "owr harmonic mean (threshold:0.25) = 0.11777300251334939\n",
            "owr harmonic mean (threshold:0.35) = 0.2817328646471652\n",
            "owr harmonic mean (threshold:0.5) = 0.4384314118840357\n",
            "owr harmonic mean (threshold:0.6) = 0.46778656837324817\n",
            "owr harmonic mean (threshold:0.75) = 0.4390706518081561\n",
            "owr harmonic mean (threshold:0.85) = 0.30600310353269866\n",
            "owr harmonic mean (threshold:0.95) = 0.13552615411652152\n",
            "\n",
            "=============================================\n",
            "\n",
            "Length of exemplars set: 1980\n"
          ],
          "name": "stdout"
        },
        {
          "output_type": "stream",
          "text": [
            "2021-07-13 10:58:28,761 - INFO: lr: 0.10000 | Epoch: 000 | Batch: 000 | Loss: 5.01111 | Correct: 1/128\n"
          ],
          "name": "stderr"
        },
        {
          "output_type": "stream",
          "text": [
            "None\n"
          ],
          "name": "stdout"
        },
        {
          "output_type": "stream",
          "text": [
            "2021-07-13 10:58:45,037 - INFO: lr: 0.09875 | Epoch: 001 | Batch: 000 | Loss: 2.95325 | Correct: 25/128\n"
          ],
          "name": "stderr"
        },
        {
          "output_type": "stream",
          "text": [
            "None\n"
          ],
          "name": "stdout"
        },
        {
          "output_type": "stream",
          "text": [
            "2021-07-13 10:59:01,327 - INFO: lr: 0.09505 | Epoch: 002 | Batch: 000 | Loss: 2.70394 | Correct: 36/128\n"
          ],
          "name": "stderr"
        },
        {
          "output_type": "stream",
          "text": [
            "None\n"
          ],
          "name": "stdout"
        },
        {
          "output_type": "stream",
          "text": [
            "2021-07-13 10:59:17,609 - INFO: lr: 0.08909 | Epoch: 003 | Batch: 000 | Loss: 2.46370 | Correct: 46/128\n"
          ],
          "name": "stderr"
        },
        {
          "output_type": "stream",
          "text": [
            "None\n"
          ],
          "name": "stdout"
        },
        {
          "output_type": "stream",
          "text": [
            "2021-07-13 10:59:33,831 - INFO: lr: 0.08117 | Epoch: 004 | Batch: 000 | Loss: 2.56261 | Correct: 29/128\n"
          ],
          "name": "stderr"
        },
        {
          "output_type": "stream",
          "text": [
            "None\n"
          ],
          "name": "stdout"
        },
        {
          "output_type": "stream",
          "text": [
            "2021-07-13 10:59:50,061 - INFO: lr: 0.07169 | Epoch: 005 | Batch: 000 | Loss: 2.27312 | Correct: 44/128\n"
          ],
          "name": "stderr"
        },
        {
          "output_type": "stream",
          "text": [
            "None\n"
          ],
          "name": "stdout"
        },
        {
          "output_type": "stream",
          "text": [
            "2021-07-13 11:00:06,303 - INFO: lr: 0.06113 | Epoch: 006 | Batch: 000 | Loss: 1.95987 | Correct: 56/128\n"
          ],
          "name": "stderr"
        },
        {
          "output_type": "stream",
          "text": [
            "None\n"
          ],
          "name": "stdout"
        },
        {
          "output_type": "stream",
          "text": [
            "2021-07-13 11:00:22,657 - INFO: lr: 0.05000 | Epoch: 007 | Batch: 000 | Loss: 1.82332 | Correct: 63/128\n"
          ],
          "name": "stderr"
        },
        {
          "output_type": "stream",
          "text": [
            "None\n"
          ],
          "name": "stdout"
        },
        {
          "output_type": "stream",
          "text": [
            "2021-07-13 11:00:38,992 - INFO: lr: 0.03887 | Epoch: 008 | Batch: 000 | Loss: 1.84027 | Correct: 59/128\n"
          ],
          "name": "stderr"
        },
        {
          "output_type": "stream",
          "text": [
            "None\n"
          ],
          "name": "stdout"
        },
        {
          "output_type": "stream",
          "text": [
            "2021-07-13 11:00:55,329 - INFO: lr: 0.02831 | Epoch: 009 | Batch: 000 | Loss: 1.75451 | Correct: 66/128\n"
          ],
          "name": "stderr"
        },
        {
          "output_type": "stream",
          "text": [
            "None\n"
          ],
          "name": "stdout"
        },
        {
          "output_type": "stream",
          "text": [
            "2021-07-13 11:01:11,575 - INFO: lr: 0.01883 | Epoch: 010 | Batch: 000 | Loss: 1.97330 | Correct: 54/128\n"
          ],
          "name": "stderr"
        },
        {
          "output_type": "stream",
          "text": [
            "None\n"
          ],
          "name": "stdout"
        },
        {
          "output_type": "stream",
          "text": [
            "2021-07-13 11:01:27,851 - INFO: lr: 0.01091 | Epoch: 011 | Batch: 000 | Loss: 1.59873 | Correct: 69/128\n"
          ],
          "name": "stderr"
        },
        {
          "output_type": "stream",
          "text": [
            "None\n"
          ],
          "name": "stdout"
        },
        {
          "output_type": "stream",
          "text": [
            "2021-07-13 11:01:44,100 - INFO: lr: 0.00495 | Epoch: 012 | Batch: 000 | Loss: 1.94004 | Correct: 63/128\n"
          ],
          "name": "stderr"
        },
        {
          "output_type": "stream",
          "text": [
            "None\n"
          ],
          "name": "stdout"
        },
        {
          "output_type": "stream",
          "text": [
            "2021-07-13 11:02:00,374 - INFO: lr: 0.00125 | Epoch: 013 | Batch: 000 | Loss: 1.71951 | Correct: 68/128\n"
          ],
          "name": "stderr"
        },
        {
          "output_type": "stream",
          "text": [
            "None\n"
          ],
          "name": "stdout"
        },
        {
          "output_type": "stream",
          "text": [
            "2021-07-13 11:02:15,846 - INFO: Save the snapshot model with index: 0\n",
            "2021-07-13 11:02:16,467 - INFO: n_estimators: 1 | Validation Acc: 64.062 % | Historical Best: 64.062 %\n",
            "2021-07-13 11:02:17,278 - INFO: lr: 0.10000 | Epoch: 014 | Batch: 000 | Loss: 1.65950 | Correct: 67/128\n"
          ],
          "name": "stderr"
        },
        {
          "output_type": "stream",
          "text": [
            "None\n"
          ],
          "name": "stdout"
        },
        {
          "output_type": "stream",
          "text": [
            "2021-07-13 11:02:33,517 - INFO: lr: 0.09875 | Epoch: 015 | Batch: 000 | Loss: 1.83517 | Correct: 63/128\n"
          ],
          "name": "stderr"
        },
        {
          "output_type": "stream",
          "text": [
            "None\n"
          ],
          "name": "stdout"
        },
        {
          "output_type": "stream",
          "text": [
            "2021-07-13 11:02:49,758 - INFO: lr: 0.09505 | Epoch: 016 | Batch: 000 | Loss: 1.70301 | Correct: 67/128\n"
          ],
          "name": "stderr"
        },
        {
          "output_type": "stream",
          "text": [
            "None\n"
          ],
          "name": "stdout"
        },
        {
          "output_type": "stream",
          "text": [
            "2021-07-13 11:03:06,033 - INFO: lr: 0.08909 | Epoch: 017 | Batch: 000 | Loss: 1.97032 | Correct: 58/128\n"
          ],
          "name": "stderr"
        },
        {
          "output_type": "stream",
          "text": [
            "None\n"
          ],
          "name": "stdout"
        },
        {
          "output_type": "stream",
          "text": [
            "2021-07-13 11:03:22,285 - INFO: lr: 0.08117 | Epoch: 018 | Batch: 000 | Loss: 1.61573 | Correct: 72/128\n"
          ],
          "name": "stderr"
        },
        {
          "output_type": "stream",
          "text": [
            "None\n"
          ],
          "name": "stdout"
        },
        {
          "output_type": "stream",
          "text": [
            "2021-07-13 11:03:38,533 - INFO: lr: 0.07169 | Epoch: 019 | Batch: 000 | Loss: 1.70619 | Correct: 69/128\n"
          ],
          "name": "stderr"
        },
        {
          "output_type": "stream",
          "text": [
            "None\n"
          ],
          "name": "stdout"
        },
        {
          "output_type": "stream",
          "text": [
            "2021-07-13 11:03:54,764 - INFO: lr: 0.06113 | Epoch: 020 | Batch: 000 | Loss: 1.58049 | Correct: 75/128\n"
          ],
          "name": "stderr"
        },
        {
          "output_type": "stream",
          "text": [
            "None\n"
          ],
          "name": "stdout"
        },
        {
          "output_type": "stream",
          "text": [
            "2021-07-13 11:04:11,001 - INFO: lr: 0.05000 | Epoch: 021 | Batch: 000 | Loss: 1.21354 | Correct: 81/128\n"
          ],
          "name": "stderr"
        },
        {
          "output_type": "stream",
          "text": [
            "None\n"
          ],
          "name": "stdout"
        },
        {
          "output_type": "stream",
          "text": [
            "2021-07-13 11:04:27,299 - INFO: lr: 0.03887 | Epoch: 022 | Batch: 000 | Loss: 1.42943 | Correct: 75/128\n"
          ],
          "name": "stderr"
        },
        {
          "output_type": "stream",
          "text": [
            "None\n"
          ],
          "name": "stdout"
        },
        {
          "output_type": "stream",
          "text": [
            "2021-07-13 11:04:43,648 - INFO: lr: 0.02831 | Epoch: 023 | Batch: 000 | Loss: 1.38599 | Correct: 74/128\n"
          ],
          "name": "stderr"
        },
        {
          "output_type": "stream",
          "text": [
            "None\n"
          ],
          "name": "stdout"
        },
        {
          "output_type": "stream",
          "text": [
            "2021-07-13 11:04:59,897 - INFO: lr: 0.01883 | Epoch: 024 | Batch: 000 | Loss: 1.17408 | Correct: 86/128\n"
          ],
          "name": "stderr"
        },
        {
          "output_type": "stream",
          "text": [
            "None\n"
          ],
          "name": "stdout"
        },
        {
          "output_type": "stream",
          "text": [
            "2021-07-13 11:05:16,085 - INFO: lr: 0.01091 | Epoch: 025 | Batch: 000 | Loss: 1.22675 | Correct: 84/128\n"
          ],
          "name": "stderr"
        },
        {
          "output_type": "stream",
          "text": [
            "None\n"
          ],
          "name": "stdout"
        },
        {
          "output_type": "stream",
          "text": [
            "2021-07-13 11:05:32,298 - INFO: lr: 0.00495 | Epoch: 026 | Batch: 000 | Loss: 1.14841 | Correct: 81/128\n"
          ],
          "name": "stderr"
        },
        {
          "output_type": "stream",
          "text": [
            "None\n"
          ],
          "name": "stdout"
        },
        {
          "output_type": "stream",
          "text": [
            "2021-07-13 11:05:48,519 - INFO: lr: 0.00125 | Epoch: 027 | Batch: 000 | Loss: 1.01597 | Correct: 88/128\n"
          ],
          "name": "stderr"
        },
        {
          "output_type": "stream",
          "text": [
            "None\n"
          ],
          "name": "stdout"
        },
        {
          "output_type": "stream",
          "text": [
            "2021-07-13 11:06:04,085 - INFO: Save the snapshot model with index: 1\n",
            "2021-07-13 11:06:04,814 - INFO: n_estimators: 2 | Validation Acc: 68.750 % | Historical Best: 68.750 %\n",
            "2021-07-13 11:06:05,620 - INFO: lr: 0.10000 | Epoch: 028 | Batch: 000 | Loss: 0.95616 | Correct: 93/128\n"
          ],
          "name": "stderr"
        },
        {
          "output_type": "stream",
          "text": [
            "None\n"
          ],
          "name": "stdout"
        },
        {
          "output_type": "stream",
          "text": [
            "2021-07-13 11:06:21,852 - INFO: lr: 0.09875 | Epoch: 029 | Batch: 000 | Loss: 1.39419 | Correct: 73/128\n"
          ],
          "name": "stderr"
        },
        {
          "output_type": "stream",
          "text": [
            "None\n"
          ],
          "name": "stdout"
        },
        {
          "output_type": "stream",
          "text": [
            "2021-07-13 11:06:38,081 - INFO: lr: 0.09505 | Epoch: 030 | Batch: 000 | Loss: 1.60513 | Correct: 68/128\n"
          ],
          "name": "stderr"
        },
        {
          "output_type": "stream",
          "text": [
            "None\n"
          ],
          "name": "stdout"
        },
        {
          "output_type": "stream",
          "text": [
            "2021-07-13 11:06:54,291 - INFO: lr: 0.08909 | Epoch: 031 | Batch: 000 | Loss: 1.58173 | Correct: 73/128\n"
          ],
          "name": "stderr"
        },
        {
          "output_type": "stream",
          "text": [
            "None\n"
          ],
          "name": "stdout"
        },
        {
          "output_type": "stream",
          "text": [
            "2021-07-13 11:07:10,506 - INFO: lr: 0.08117 | Epoch: 032 | Batch: 000 | Loss: 1.21007 | Correct: 77/128\n"
          ],
          "name": "stderr"
        },
        {
          "output_type": "stream",
          "text": [
            "None\n"
          ],
          "name": "stdout"
        },
        {
          "output_type": "stream",
          "text": [
            "2021-07-13 11:07:26,682 - INFO: lr: 0.07169 | Epoch: 033 | Batch: 000 | Loss: 1.01353 | Correct: 93/128\n"
          ],
          "name": "stderr"
        },
        {
          "output_type": "stream",
          "text": [
            "None\n"
          ],
          "name": "stdout"
        },
        {
          "output_type": "stream",
          "text": [
            "2021-07-13 11:07:42,890 - INFO: lr: 0.06113 | Epoch: 034 | Batch: 000 | Loss: 1.22039 | Correct: 81/128\n"
          ],
          "name": "stderr"
        },
        {
          "output_type": "stream",
          "text": [
            "None\n"
          ],
          "name": "stdout"
        },
        {
          "output_type": "stream",
          "text": [
            "2021-07-13 11:07:59,103 - INFO: lr: 0.05000 | Epoch: 035 | Batch: 000 | Loss: 1.32244 | Correct: 73/128\n"
          ],
          "name": "stderr"
        },
        {
          "output_type": "stream",
          "text": [
            "None\n"
          ],
          "name": "stdout"
        },
        {
          "output_type": "stream",
          "text": [
            "2021-07-13 11:08:15,359 - INFO: lr: 0.03887 | Epoch: 036 | Batch: 000 | Loss: 1.06593 | Correct: 88/128\n"
          ],
          "name": "stderr"
        },
        {
          "output_type": "stream",
          "text": [
            "None\n"
          ],
          "name": "stdout"
        },
        {
          "output_type": "stream",
          "text": [
            "2021-07-13 11:08:31,658 - INFO: lr: 0.02831 | Epoch: 037 | Batch: 000 | Loss: 0.95750 | Correct: 91/128\n"
          ],
          "name": "stderr"
        },
        {
          "output_type": "stream",
          "text": [
            "None\n"
          ],
          "name": "stdout"
        },
        {
          "output_type": "stream",
          "text": [
            "2021-07-13 11:08:47,949 - INFO: lr: 0.01883 | Epoch: 038 | Batch: 000 | Loss: 0.83268 | Correct: 94/128\n"
          ],
          "name": "stderr"
        },
        {
          "output_type": "stream",
          "text": [
            "None\n"
          ],
          "name": "stdout"
        },
        {
          "output_type": "stream",
          "text": [
            "2021-07-13 11:09:04,177 - INFO: lr: 0.01091 | Epoch: 039 | Batch: 000 | Loss: 0.69618 | Correct: 103/128\n"
          ],
          "name": "stderr"
        },
        {
          "output_type": "stream",
          "text": [
            "None\n"
          ],
          "name": "stdout"
        },
        {
          "output_type": "stream",
          "text": [
            "2021-07-13 11:09:20,473 - INFO: lr: 0.00495 | Epoch: 040 | Batch: 000 | Loss: 0.60034 | Correct: 104/128\n"
          ],
          "name": "stderr"
        },
        {
          "output_type": "stream",
          "text": [
            "None\n"
          ],
          "name": "stdout"
        },
        {
          "output_type": "stream",
          "text": [
            "2021-07-13 11:09:36,759 - INFO: lr: 0.00125 | Epoch: 041 | Batch: 000 | Loss: 0.93471 | Correct: 90/128\n"
          ],
          "name": "stderr"
        },
        {
          "output_type": "stream",
          "text": [
            "None\n"
          ],
          "name": "stdout"
        },
        {
          "output_type": "stream",
          "text": [
            "2021-07-13 11:09:52,310 - INFO: Save the snapshot model with index: 2\n",
            "2021-07-13 11:09:53,141 - INFO: n_estimators: 3 | Validation Acc: 72.098 % | Historical Best: 72.098 %\n",
            "2021-07-13 11:09:53,955 - INFO: lr: 0.10000 | Epoch: 042 | Batch: 000 | Loss: 0.60635 | Correct: 105/128\n"
          ],
          "name": "stderr"
        },
        {
          "output_type": "stream",
          "text": [
            "None\n"
          ],
          "name": "stdout"
        },
        {
          "output_type": "stream",
          "text": [
            "2021-07-13 11:10:10,203 - INFO: lr: 0.09875 | Epoch: 043 | Batch: 000 | Loss: 1.50797 | Correct: 75/128\n"
          ],
          "name": "stderr"
        },
        {
          "output_type": "stream",
          "text": [
            "None\n"
          ],
          "name": "stdout"
        },
        {
          "output_type": "stream",
          "text": [
            "2021-07-13 11:10:26,468 - INFO: lr: 0.09505 | Epoch: 044 | Batch: 000 | Loss: 1.06335 | Correct: 85/128\n"
          ],
          "name": "stderr"
        },
        {
          "output_type": "stream",
          "text": [
            "None\n"
          ],
          "name": "stdout"
        },
        {
          "output_type": "stream",
          "text": [
            "2021-07-13 11:10:42,704 - INFO: lr: 0.08909 | Epoch: 045 | Batch: 000 | Loss: 0.93254 | Correct: 87/128\n"
          ],
          "name": "stderr"
        },
        {
          "output_type": "stream",
          "text": [
            "None\n"
          ],
          "name": "stdout"
        },
        {
          "output_type": "stream",
          "text": [
            "2021-07-13 11:10:58,950 - INFO: lr: 0.08117 | Epoch: 046 | Batch: 000 | Loss: 0.85633 | Correct: 94/128\n"
          ],
          "name": "stderr"
        },
        {
          "output_type": "stream",
          "text": [
            "None\n"
          ],
          "name": "stdout"
        },
        {
          "output_type": "stream",
          "text": [
            "2021-07-13 11:11:15,266 - INFO: lr: 0.07169 | Epoch: 047 | Batch: 000 | Loss: 1.01580 | Correct: 89/128\n"
          ],
          "name": "stderr"
        },
        {
          "output_type": "stream",
          "text": [
            "None\n"
          ],
          "name": "stdout"
        },
        {
          "output_type": "stream",
          "text": [
            "2021-07-13 11:11:31,513 - INFO: lr: 0.06113 | Epoch: 048 | Batch: 000 | Loss: 0.77252 | Correct: 103/128\n"
          ],
          "name": "stderr"
        },
        {
          "output_type": "stream",
          "text": [
            "None\n"
          ],
          "name": "stdout"
        },
        {
          "output_type": "stream",
          "text": [
            "2021-07-13 11:11:47,801 - INFO: lr: 0.05000 | Epoch: 049 | Batch: 000 | Loss: 0.67028 | Correct: 104/128\n"
          ],
          "name": "stderr"
        },
        {
          "output_type": "stream",
          "text": [
            "None\n"
          ],
          "name": "stdout"
        },
        {
          "output_type": "stream",
          "text": [
            "2021-07-13 11:12:04,110 - INFO: lr: 0.03887 | Epoch: 050 | Batch: 000 | Loss: 0.53847 | Correct: 110/128\n"
          ],
          "name": "stderr"
        },
        {
          "output_type": "stream",
          "text": [
            "None\n"
          ],
          "name": "stdout"
        },
        {
          "output_type": "stream",
          "text": [
            "2021-07-13 11:12:20,425 - INFO: lr: 0.02831 | Epoch: 051 | Batch: 000 | Loss: 0.53118 | Correct: 105/128\n"
          ],
          "name": "stderr"
        },
        {
          "output_type": "stream",
          "text": [
            "None\n"
          ],
          "name": "stdout"
        },
        {
          "output_type": "stream",
          "text": [
            "2021-07-13 11:12:36,702 - INFO: lr: 0.01883 | Epoch: 052 | Batch: 000 | Loss: 0.53056 | Correct: 104/128\n"
          ],
          "name": "stderr"
        },
        {
          "output_type": "stream",
          "text": [
            "None\n"
          ],
          "name": "stdout"
        },
        {
          "output_type": "stream",
          "text": [
            "2021-07-13 11:12:52,963 - INFO: lr: 0.01091 | Epoch: 053 | Batch: 000 | Loss: 0.58368 | Correct: 104/128\n"
          ],
          "name": "stderr"
        },
        {
          "output_type": "stream",
          "text": [
            "None\n"
          ],
          "name": "stdout"
        },
        {
          "output_type": "stream",
          "text": [
            "2021-07-13 11:13:09,229 - INFO: lr: 0.00495 | Epoch: 054 | Batch: 000 | Loss: 0.42759 | Correct: 113/128\n"
          ],
          "name": "stderr"
        },
        {
          "output_type": "stream",
          "text": [
            "None\n"
          ],
          "name": "stdout"
        },
        {
          "output_type": "stream",
          "text": [
            "2021-07-13 11:13:25,512 - INFO: lr: 0.00125 | Epoch: 055 | Batch: 000 | Loss: 0.39386 | Correct: 117/128\n"
          ],
          "name": "stderr"
        },
        {
          "output_type": "stream",
          "text": [
            "None\n"
          ],
          "name": "stdout"
        },
        {
          "output_type": "stream",
          "text": [
            "2021-07-13 11:13:41,025 - INFO: Save the snapshot model with index: 3\n",
            "2021-07-13 11:13:41,965 - INFO: n_estimators: 4 | Validation Acc: 74.107 % | Historical Best: 74.107 %\n",
            "2021-07-13 11:13:42,797 - INFO: lr: 0.10000 | Epoch: 056 | Batch: 000 | Loss: 0.35441 | Correct: 116/128\n"
          ],
          "name": "stderr"
        },
        {
          "output_type": "stream",
          "text": [
            "None\n"
          ],
          "name": "stdout"
        },
        {
          "output_type": "stream",
          "text": [
            "2021-07-13 11:13:59,064 - INFO: lr: 0.09875 | Epoch: 057 | Batch: 000 | Loss: 1.10792 | Correct: 86/128\n"
          ],
          "name": "stderr"
        },
        {
          "output_type": "stream",
          "text": [
            "None\n"
          ],
          "name": "stdout"
        },
        {
          "output_type": "stream",
          "text": [
            "2021-07-13 11:14:15,289 - INFO: lr: 0.09505 | Epoch: 058 | Batch: 000 | Loss: 1.08973 | Correct: 83/128\n"
          ],
          "name": "stderr"
        },
        {
          "output_type": "stream",
          "text": [
            "None\n"
          ],
          "name": "stdout"
        },
        {
          "output_type": "stream",
          "text": [
            "2021-07-13 11:14:31,510 - INFO: lr: 0.08909 | Epoch: 059 | Batch: 000 | Loss: 0.76343 | Correct: 95/128\n"
          ],
          "name": "stderr"
        },
        {
          "output_type": "stream",
          "text": [
            "None\n"
          ],
          "name": "stdout"
        },
        {
          "output_type": "stream",
          "text": [
            "2021-07-13 11:14:47,815 - INFO: lr: 0.08117 | Epoch: 060 | Batch: 000 | Loss: 0.80648 | Correct: 93/128\n"
          ],
          "name": "stderr"
        },
        {
          "output_type": "stream",
          "text": [
            "None\n"
          ],
          "name": "stdout"
        },
        {
          "output_type": "stream",
          "text": [
            "2021-07-13 11:15:04,090 - INFO: lr: 0.07169 | Epoch: 061 | Batch: 000 | Loss: 0.66935 | Correct: 107/128\n"
          ],
          "name": "stderr"
        },
        {
          "output_type": "stream",
          "text": [
            "None\n"
          ],
          "name": "stdout"
        },
        {
          "output_type": "stream",
          "text": [
            "2021-07-13 11:15:20,383 - INFO: lr: 0.06113 | Epoch: 062 | Batch: 000 | Loss: 0.49865 | Correct: 109/128\n"
          ],
          "name": "stderr"
        },
        {
          "output_type": "stream",
          "text": [
            "None\n"
          ],
          "name": "stdout"
        },
        {
          "output_type": "stream",
          "text": [
            "2021-07-13 11:15:36,643 - INFO: lr: 0.05000 | Epoch: 063 | Batch: 000 | Loss: 0.46147 | Correct: 110/128\n"
          ],
          "name": "stderr"
        },
        {
          "output_type": "stream",
          "text": [
            "None\n"
          ],
          "name": "stdout"
        },
        {
          "output_type": "stream",
          "text": [
            "2021-07-13 11:15:52,850 - INFO: lr: 0.03887 | Epoch: 064 | Batch: 000 | Loss: 0.39677 | Correct: 108/128\n"
          ],
          "name": "stderr"
        },
        {
          "output_type": "stream",
          "text": [
            "None\n"
          ],
          "name": "stdout"
        },
        {
          "output_type": "stream",
          "text": [
            "2021-07-13 11:16:09,065 - INFO: lr: 0.02831 | Epoch: 065 | Batch: 000 | Loss: 0.25550 | Correct: 119/128\n"
          ],
          "name": "stderr"
        },
        {
          "output_type": "stream",
          "text": [
            "None\n"
          ],
          "name": "stdout"
        },
        {
          "output_type": "stream",
          "text": [
            "2021-07-13 11:16:25,354 - INFO: lr: 0.01883 | Epoch: 066 | Batch: 000 | Loss: 0.30433 | Correct: 118/128\n"
          ],
          "name": "stderr"
        },
        {
          "output_type": "stream",
          "text": [
            "None\n"
          ],
          "name": "stdout"
        },
        {
          "output_type": "stream",
          "text": [
            "2021-07-13 11:16:41,644 - INFO: lr: 0.01091 | Epoch: 067 | Batch: 000 | Loss: 0.26670 | Correct: 120/128\n"
          ],
          "name": "stderr"
        },
        {
          "output_type": "stream",
          "text": [
            "None\n"
          ],
          "name": "stdout"
        },
        {
          "output_type": "stream",
          "text": [
            "2021-07-13 11:16:57,950 - INFO: lr: 0.00495 | Epoch: 068 | Batch: 000 | Loss: 0.22407 | Correct: 123/128\n"
          ],
          "name": "stderr"
        },
        {
          "output_type": "stream",
          "text": [
            "None\n"
          ],
          "name": "stdout"
        },
        {
          "output_type": "stream",
          "text": [
            "2021-07-13 11:17:14,190 - INFO: lr: 0.00125 | Epoch: 069 | Batch: 000 | Loss: 0.18620 | Correct: 123/128\n"
          ],
          "name": "stderr"
        },
        {
          "output_type": "stream",
          "text": [
            "None\n"
          ],
          "name": "stdout"
        },
        {
          "output_type": "stream",
          "text": [
            "2021-07-13 11:17:29,651 - INFO: Save the snapshot model with index: 4\n",
            "2021-07-13 11:17:30,741 - INFO: n_estimators: 5 | Validation Acc: 75.670 % | Historical Best: 75.670 %\n"
          ],
          "name": "stderr"
        },
        {
          "output_type": "stream",
          "text": [
            "Group 4 Finished!\n",
            "Target number of exemplars: 50\n",
            "Randomly extracting exemplars from class 0 of current split... Extracted 50 exemplars.\n",
            "Randomly extracting exemplars from class 1 of current split... Extracted 50 exemplars.\n",
            "Randomly extracting exemplars from class 2 of current split... Extracted 50 exemplars.\n",
            "Randomly extracting exemplars from class 3 of current split... Extracted 50 exemplars.\n",
            "Randomly extracting exemplars from class 4 of current split... Extracted 50 exemplars.\n",
            "Randomly extracting exemplars from class 5 of current split... Extracted 50 exemplars.\n",
            "Randomly extracting exemplars from class 6 of current split... Extracted 50 exemplars.\n",
            "Randomly extracting exemplars from class 7 of current split... Extracted 50 exemplars.\n",
            "Randomly extracting exemplars from class 8 of current split... Extracted 50 exemplars.\n",
            "Randomly extracting exemplars from class 9 of current split... Extracted 50 exemplars.\n",
            "[0.10407608695652174, 0.2608695652173913, 0.4951086956521739, 0.6279891304347827, 0.7875679347826087, 0.899796195652174, 0.9606657608695652],[0.4564012096774194, 0.4201108870967742, 0.34400201612903225, 0.28654233870967744, 0.19581653225806453, 0.1123991935483871, 0.05619959677419355]\n",
            "Testing on both open and closed world\n",
            "owr harmonic mean (threshold:0.25) = 0.16950000390996142\n",
            "owr harmonic mean (threshold:0.35) = 0.3218716310801461\n",
            "owr harmonic mean (threshold:0.5) = 0.4059497444522503\n",
            "owr harmonic mean (threshold:0.6) = 0.39352494734244065\n",
            "owr harmonic mean (threshold:0.75) = 0.31364909061635077\n",
            "owr harmonic mean (threshold:0.85) = 0.19983565985039564\n",
            "owr harmonic mean (threshold:0.95) = 0.10618717215570153\n",
            "\n",
            "=============================================\n",
            "\n",
            "Length of exemplars set: 2000\n"
          ],
          "name": "stdout"
        },
        {
          "output_type": "stream",
          "text": [
            "2021-07-13 11:17:50,507 - INFO: lr: 0.10000 | Epoch: 000 | Batch: 000 | Loss: 5.20831 | Correct: 1/128\n"
          ],
          "name": "stderr"
        },
        {
          "output_type": "stream",
          "text": [
            "None\n"
          ],
          "name": "stdout"
        },
        {
          "output_type": "stream",
          "text": [
            "2021-07-13 11:18:07,099 - INFO: lr: 0.09875 | Epoch: 001 | Batch: 000 | Loss: 2.72393 | Correct: 41/128\n"
          ],
          "name": "stderr"
        },
        {
          "output_type": "stream",
          "text": [
            "None\n"
          ],
          "name": "stdout"
        },
        {
          "output_type": "stream",
          "text": [
            "2021-07-13 11:18:23,808 - INFO: lr: 0.09505 | Epoch: 002 | Batch: 000 | Loss: 2.86357 | Correct: 39/128\n"
          ],
          "name": "stderr"
        },
        {
          "output_type": "stream",
          "text": [
            "None\n"
          ],
          "name": "stdout"
        },
        {
          "output_type": "stream",
          "text": [
            "2021-07-13 11:18:40,577 - INFO: lr: 0.08909 | Epoch: 003 | Batch: 000 | Loss: 2.29118 | Correct: 51/128\n"
          ],
          "name": "stderr"
        },
        {
          "output_type": "stream",
          "text": [
            "None\n"
          ],
          "name": "stdout"
        },
        {
          "output_type": "stream",
          "text": [
            "2021-07-13 11:18:57,196 - INFO: lr: 0.08117 | Epoch: 004 | Batch: 000 | Loss: 2.42284 | Correct: 49/128\n"
          ],
          "name": "stderr"
        },
        {
          "output_type": "stream",
          "text": [
            "None\n"
          ],
          "name": "stdout"
        },
        {
          "output_type": "stream",
          "text": [
            "2021-07-13 11:19:13,798 - INFO: lr: 0.07169 | Epoch: 005 | Batch: 000 | Loss: 2.33146 | Correct: 53/128\n"
          ],
          "name": "stderr"
        },
        {
          "output_type": "stream",
          "text": [
            "None\n"
          ],
          "name": "stdout"
        },
        {
          "output_type": "stream",
          "text": [
            "2021-07-13 11:19:30,428 - INFO: lr: 0.06113 | Epoch: 006 | Batch: 000 | Loss: 2.24455 | Correct: 44/128\n"
          ],
          "name": "stderr"
        },
        {
          "output_type": "stream",
          "text": [
            "None\n"
          ],
          "name": "stdout"
        },
        {
          "output_type": "stream",
          "text": [
            "2021-07-13 11:19:47,024 - INFO: lr: 0.05000 | Epoch: 007 | Batch: 000 | Loss: 2.05829 | Correct: 57/128\n"
          ],
          "name": "stderr"
        },
        {
          "output_type": "stream",
          "text": [
            "None\n"
          ],
          "name": "stdout"
        },
        {
          "output_type": "stream",
          "text": [
            "2021-07-13 11:20:03,625 - INFO: lr: 0.03887 | Epoch: 008 | Batch: 000 | Loss: 1.87165 | Correct: 68/128\n"
          ],
          "name": "stderr"
        },
        {
          "output_type": "stream",
          "text": [
            "None\n"
          ],
          "name": "stdout"
        },
        {
          "output_type": "stream",
          "text": [
            "2021-07-13 11:20:20,211 - INFO: lr: 0.02831 | Epoch: 009 | Batch: 000 | Loss: 1.93687 | Correct: 61/128\n"
          ],
          "name": "stderr"
        },
        {
          "output_type": "stream",
          "text": [
            "None\n"
          ],
          "name": "stdout"
        },
        {
          "output_type": "stream",
          "text": [
            "2021-07-13 11:20:36,819 - INFO: lr: 0.01883 | Epoch: 010 | Batch: 000 | Loss: 1.62059 | Correct: 68/128\n"
          ],
          "name": "stderr"
        },
        {
          "output_type": "stream",
          "text": [
            "None\n"
          ],
          "name": "stdout"
        },
        {
          "output_type": "stream",
          "text": [
            "2021-07-13 11:20:53,533 - INFO: lr: 0.01091 | Epoch: 011 | Batch: 000 | Loss: 1.59801 | Correct: 70/128\n"
          ],
          "name": "stderr"
        },
        {
          "output_type": "stream",
          "text": [
            "None\n"
          ],
          "name": "stdout"
        },
        {
          "output_type": "stream",
          "text": [
            "2021-07-13 11:21:10,157 - INFO: lr: 0.00495 | Epoch: 012 | Batch: 000 | Loss: 1.47107 | Correct: 80/128\n"
          ],
          "name": "stderr"
        },
        {
          "output_type": "stream",
          "text": [
            "None\n"
          ],
          "name": "stdout"
        },
        {
          "output_type": "stream",
          "text": [
            "2021-07-13 11:21:26,769 - INFO: lr: 0.00125 | Epoch: 013 | Batch: 000 | Loss: 1.68792 | Correct: 70/128\n"
          ],
          "name": "stderr"
        },
        {
          "output_type": "stream",
          "text": [
            "None\n"
          ],
          "name": "stdout"
        },
        {
          "output_type": "stream",
          "text": [
            "2021-07-13 11:21:42,579 - INFO: Save the snapshot model with index: 0\n",
            "2021-07-13 11:21:43,201 - INFO: n_estimators: 1 | Validation Acc: 66.071 % | Historical Best: 66.071 %\n",
            "2021-07-13 11:21:44,040 - INFO: lr: 0.10000 | Epoch: 014 | Batch: 000 | Loss: 1.96114 | Correct: 56/128\n"
          ],
          "name": "stderr"
        },
        {
          "output_type": "stream",
          "text": [
            "None\n"
          ],
          "name": "stdout"
        },
        {
          "output_type": "stream",
          "text": [
            "2021-07-13 11:22:00,674 - INFO: lr: 0.09875 | Epoch: 015 | Batch: 000 | Loss: 2.20505 | Correct: 50/128\n"
          ],
          "name": "stderr"
        },
        {
          "output_type": "stream",
          "text": [
            "None\n"
          ],
          "name": "stdout"
        },
        {
          "output_type": "stream",
          "text": [
            "2021-07-13 11:22:17,265 - INFO: lr: 0.09505 | Epoch: 016 | Batch: 000 | Loss: 1.92357 | Correct: 55/128\n"
          ],
          "name": "stderr"
        },
        {
          "output_type": "stream",
          "text": [
            "None\n"
          ],
          "name": "stdout"
        },
        {
          "output_type": "stream",
          "text": [
            "2021-07-13 11:22:33,868 - INFO: lr: 0.08909 | Epoch: 017 | Batch: 000 | Loss: 1.79299 | Correct: 69/128\n"
          ],
          "name": "stderr"
        },
        {
          "output_type": "stream",
          "text": [
            "None\n"
          ],
          "name": "stdout"
        },
        {
          "output_type": "stream",
          "text": [
            "2021-07-13 11:22:50,470 - INFO: lr: 0.08117 | Epoch: 018 | Batch: 000 | Loss: 1.54418 | Correct: 71/128\n"
          ],
          "name": "stderr"
        },
        {
          "output_type": "stream",
          "text": [
            "None\n"
          ],
          "name": "stdout"
        },
        {
          "output_type": "stream",
          "text": [
            "2021-07-13 11:23:07,077 - INFO: lr: 0.07169 | Epoch: 019 | Batch: 000 | Loss: 1.60058 | Correct: 72/128\n"
          ],
          "name": "stderr"
        },
        {
          "output_type": "stream",
          "text": [
            "None\n"
          ],
          "name": "stdout"
        },
        {
          "output_type": "stream",
          "text": [
            "2021-07-13 11:23:23,638 - INFO: lr: 0.06113 | Epoch: 020 | Batch: 000 | Loss: 1.50379 | Correct: 75/128\n"
          ],
          "name": "stderr"
        },
        {
          "output_type": "stream",
          "text": [
            "None\n"
          ],
          "name": "stdout"
        },
        {
          "output_type": "stream",
          "text": [
            "2021-07-13 11:23:40,289 - INFO: lr: 0.05000 | Epoch: 021 | Batch: 000 | Loss: 1.40949 | Correct: 77/128\n"
          ],
          "name": "stderr"
        },
        {
          "output_type": "stream",
          "text": [
            "None\n"
          ],
          "name": "stdout"
        },
        {
          "output_type": "stream",
          "text": [
            "2021-07-13 11:23:56,867 - INFO: lr: 0.03887 | Epoch: 022 | Batch: 000 | Loss: 1.14759 | Correct: 90/128\n"
          ],
          "name": "stderr"
        },
        {
          "output_type": "stream",
          "text": [
            "None\n"
          ],
          "name": "stdout"
        },
        {
          "output_type": "stream",
          "text": [
            "2021-07-13 11:24:13,497 - INFO: lr: 0.02831 | Epoch: 023 | Batch: 000 | Loss: 1.48118 | Correct: 74/128\n"
          ],
          "name": "stderr"
        },
        {
          "output_type": "stream",
          "text": [
            "None\n"
          ],
          "name": "stdout"
        },
        {
          "output_type": "stream",
          "text": [
            "2021-07-13 11:24:30,117 - INFO: lr: 0.01883 | Epoch: 024 | Batch: 000 | Loss: 1.35593 | Correct: 83/128\n"
          ],
          "name": "stderr"
        },
        {
          "output_type": "stream",
          "text": [
            "None\n"
          ],
          "name": "stdout"
        },
        {
          "output_type": "stream",
          "text": [
            "2021-07-13 11:24:46,749 - INFO: lr: 0.01091 | Epoch: 025 | Batch: 000 | Loss: 1.20913 | Correct: 81/128\n"
          ],
          "name": "stderr"
        },
        {
          "output_type": "stream",
          "text": [
            "None\n"
          ],
          "name": "stdout"
        },
        {
          "output_type": "stream",
          "text": [
            "2021-07-13 11:25:03,328 - INFO: lr: 0.00495 | Epoch: 026 | Batch: 000 | Loss: 1.17381 | Correct: 83/128\n"
          ],
          "name": "stderr"
        },
        {
          "output_type": "stream",
          "text": [
            "None\n"
          ],
          "name": "stdout"
        },
        {
          "output_type": "stream",
          "text": [
            "2021-07-13 11:25:19,966 - INFO: lr: 0.00125 | Epoch: 027 | Batch: 000 | Loss: 1.18802 | Correct: 86/128\n"
          ],
          "name": "stderr"
        },
        {
          "output_type": "stream",
          "text": [
            "None\n"
          ],
          "name": "stdout"
        },
        {
          "output_type": "stream",
          "text": [
            "2021-07-13 11:25:35,774 - INFO: Save the snapshot model with index: 1\n",
            "2021-07-13 11:25:36,492 - INFO: n_estimators: 2 | Validation Acc: 73.661 % | Historical Best: 73.661 %\n",
            "2021-07-13 11:25:37,336 - INFO: lr: 0.10000 | Epoch: 028 | Batch: 000 | Loss: 0.93673 | Correct: 89/128\n"
          ],
          "name": "stderr"
        },
        {
          "output_type": "stream",
          "text": [
            "None\n"
          ],
          "name": "stdout"
        },
        {
          "output_type": "stream",
          "text": [
            "2021-07-13 11:25:53,959 - INFO: lr: 0.09875 | Epoch: 029 | Batch: 000 | Loss: 1.54691 | Correct: 73/128\n"
          ],
          "name": "stderr"
        },
        {
          "output_type": "stream",
          "text": [
            "None\n"
          ],
          "name": "stdout"
        },
        {
          "output_type": "stream",
          "text": [
            "2021-07-13 11:26:10,568 - INFO: lr: 0.09505 | Epoch: 030 | Batch: 000 | Loss: 1.48216 | Correct: 74/128\n"
          ],
          "name": "stderr"
        },
        {
          "output_type": "stream",
          "text": [
            "None\n"
          ],
          "name": "stdout"
        },
        {
          "output_type": "stream",
          "text": [
            "2021-07-13 11:26:27,171 - INFO: lr: 0.08909 | Epoch: 031 | Batch: 000 | Loss: 1.24050 | Correct: 84/128\n"
          ],
          "name": "stderr"
        },
        {
          "output_type": "stream",
          "text": [
            "None\n"
          ],
          "name": "stdout"
        },
        {
          "output_type": "stream",
          "text": [
            "2021-07-13 11:26:43,759 - INFO: lr: 0.08117 | Epoch: 032 | Batch: 000 | Loss: 0.94533 | Correct: 95/128\n"
          ],
          "name": "stderr"
        },
        {
          "output_type": "stream",
          "text": [
            "None\n"
          ],
          "name": "stdout"
        },
        {
          "output_type": "stream",
          "text": [
            "2021-07-13 11:27:00,379 - INFO: lr: 0.07169 | Epoch: 033 | Batch: 000 | Loss: 1.10889 | Correct: 88/128\n"
          ],
          "name": "stderr"
        },
        {
          "output_type": "stream",
          "text": [
            "None\n"
          ],
          "name": "stdout"
        },
        {
          "output_type": "stream",
          "text": [
            "2021-07-13 11:27:17,006 - INFO: lr: 0.06113 | Epoch: 034 | Batch: 000 | Loss: 1.09931 | Correct: 90/128\n"
          ],
          "name": "stderr"
        },
        {
          "output_type": "stream",
          "text": [
            "None\n"
          ],
          "name": "stdout"
        },
        {
          "output_type": "stream",
          "text": [
            "2021-07-13 11:27:33,629 - INFO: lr: 0.05000 | Epoch: 035 | Batch: 000 | Loss: 1.03435 | Correct: 91/128\n"
          ],
          "name": "stderr"
        },
        {
          "output_type": "stream",
          "text": [
            "None\n"
          ],
          "name": "stdout"
        },
        {
          "output_type": "stream",
          "text": [
            "2021-07-13 11:27:50,226 - INFO: lr: 0.03887 | Epoch: 036 | Batch: 000 | Loss: 1.08385 | Correct: 89/128\n"
          ],
          "name": "stderr"
        },
        {
          "output_type": "stream",
          "text": [
            "None\n"
          ],
          "name": "stdout"
        },
        {
          "output_type": "stream",
          "text": [
            "2021-07-13 11:28:06,822 - INFO: lr: 0.02831 | Epoch: 037 | Batch: 000 | Loss: 0.85948 | Correct: 91/128\n"
          ],
          "name": "stderr"
        },
        {
          "output_type": "stream",
          "text": [
            "None\n"
          ],
          "name": "stdout"
        },
        {
          "output_type": "stream",
          "text": [
            "2021-07-13 11:28:23,392 - INFO: lr: 0.01883 | Epoch: 038 | Batch: 000 | Loss: 0.95238 | Correct: 95/128\n"
          ],
          "name": "stderr"
        },
        {
          "output_type": "stream",
          "text": [
            "None\n"
          ],
          "name": "stdout"
        },
        {
          "output_type": "stream",
          "text": [
            "2021-07-13 11:28:39,974 - INFO: lr: 0.01091 | Epoch: 039 | Batch: 000 | Loss: 0.80887 | Correct: 98/128\n"
          ],
          "name": "stderr"
        },
        {
          "output_type": "stream",
          "text": [
            "None\n"
          ],
          "name": "stdout"
        },
        {
          "output_type": "stream",
          "text": [
            "2021-07-13 11:28:56,591 - INFO: lr: 0.00495 | Epoch: 040 | Batch: 000 | Loss: 0.62302 | Correct: 110/128\n"
          ],
          "name": "stderr"
        },
        {
          "output_type": "stream",
          "text": [
            "None\n"
          ],
          "name": "stdout"
        },
        {
          "output_type": "stream",
          "text": [
            "2021-07-13 11:29:13,218 - INFO: lr: 0.00125 | Epoch: 041 | Batch: 000 | Loss: 0.66606 | Correct: 104/128\n"
          ],
          "name": "stderr"
        },
        {
          "output_type": "stream",
          "text": [
            "None\n"
          ],
          "name": "stdout"
        },
        {
          "output_type": "stream",
          "text": [
            "2021-07-13 11:29:29,011 - INFO: Save the snapshot model with index: 2\n",
            "2021-07-13 11:29:29,860 - INFO: n_estimators: 3 | Validation Acc: 76.562 % | Historical Best: 76.562 %\n",
            "2021-07-13 11:29:30,726 - INFO: lr: 0.10000 | Epoch: 042 | Batch: 000 | Loss: 0.69790 | Correct: 99/128\n"
          ],
          "name": "stderr"
        },
        {
          "output_type": "stream",
          "text": [
            "None\n"
          ],
          "name": "stdout"
        },
        {
          "output_type": "stream",
          "text": [
            "2021-07-13 11:29:47,350 - INFO: lr: 0.09875 | Epoch: 043 | Batch: 000 | Loss: 1.31504 | Correct: 81/128\n"
          ],
          "name": "stderr"
        },
        {
          "output_type": "stream",
          "text": [
            "None\n"
          ],
          "name": "stdout"
        },
        {
          "output_type": "stream",
          "text": [
            "2021-07-13 11:30:03,992 - INFO: lr: 0.09505 | Epoch: 044 | Batch: 000 | Loss: 1.18404 | Correct: 86/128\n"
          ],
          "name": "stderr"
        },
        {
          "output_type": "stream",
          "text": [
            "None\n"
          ],
          "name": "stdout"
        },
        {
          "output_type": "stream",
          "text": [
            "2021-07-13 11:30:20,594 - INFO: lr: 0.08909 | Epoch: 045 | Batch: 000 | Loss: 0.94105 | Correct: 95/128\n"
          ],
          "name": "stderr"
        },
        {
          "output_type": "stream",
          "text": [
            "None\n"
          ],
          "name": "stdout"
        },
        {
          "output_type": "stream",
          "text": [
            "2021-07-13 11:30:37,165 - INFO: lr: 0.08117 | Epoch: 046 | Batch: 000 | Loss: 0.85702 | Correct: 94/128\n"
          ],
          "name": "stderr"
        },
        {
          "output_type": "stream",
          "text": [
            "None\n"
          ],
          "name": "stdout"
        },
        {
          "output_type": "stream",
          "text": [
            "2021-07-13 11:30:53,752 - INFO: lr: 0.07169 | Epoch: 047 | Batch: 000 | Loss: 0.65786 | Correct: 103/128\n"
          ],
          "name": "stderr"
        },
        {
          "output_type": "stream",
          "text": [
            "None\n"
          ],
          "name": "stdout"
        },
        {
          "output_type": "stream",
          "text": [
            "2021-07-13 11:31:10,419 - INFO: lr: 0.06113 | Epoch: 048 | Batch: 000 | Loss: 0.75421 | Correct: 97/128\n"
          ],
          "name": "stderr"
        },
        {
          "output_type": "stream",
          "text": [
            "None\n"
          ],
          "name": "stdout"
        },
        {
          "output_type": "stream",
          "text": [
            "2021-07-13 11:31:27,035 - INFO: lr: 0.05000 | Epoch: 049 | Batch: 000 | Loss: 0.82728 | Correct: 98/128\n"
          ],
          "name": "stderr"
        },
        {
          "output_type": "stream",
          "text": [
            "None\n"
          ],
          "name": "stdout"
        },
        {
          "output_type": "stream",
          "text": [
            "2021-07-13 11:31:43,701 - INFO: lr: 0.03887 | Epoch: 050 | Batch: 000 | Loss: 0.66514 | Correct: 95/128\n"
          ],
          "name": "stderr"
        },
        {
          "output_type": "stream",
          "text": [
            "None\n"
          ],
          "name": "stdout"
        },
        {
          "output_type": "stream",
          "text": [
            "2021-07-13 11:32:00,323 - INFO: lr: 0.02831 | Epoch: 051 | Batch: 000 | Loss: 0.51307 | Correct: 108/128\n"
          ],
          "name": "stderr"
        },
        {
          "output_type": "stream",
          "text": [
            "None\n"
          ],
          "name": "stdout"
        },
        {
          "output_type": "stream",
          "text": [
            "2021-07-13 11:32:16,913 - INFO: lr: 0.01883 | Epoch: 052 | Batch: 000 | Loss: 0.47329 | Correct: 112/128\n"
          ],
          "name": "stderr"
        },
        {
          "output_type": "stream",
          "text": [
            "None\n"
          ],
          "name": "stdout"
        },
        {
          "output_type": "stream",
          "text": [
            "2021-07-13 11:32:33,543 - INFO: lr: 0.01091 | Epoch: 053 | Batch: 000 | Loss: 0.44114 | Correct: 110/128\n"
          ],
          "name": "stderr"
        },
        {
          "output_type": "stream",
          "text": [
            "None\n"
          ],
          "name": "stdout"
        },
        {
          "output_type": "stream",
          "text": [
            "2021-07-13 11:32:50,192 - INFO: lr: 0.00495 | Epoch: 054 | Batch: 000 | Loss: 0.46569 | Correct: 110/128\n"
          ],
          "name": "stderr"
        },
        {
          "output_type": "stream",
          "text": [
            "None\n"
          ],
          "name": "stdout"
        },
        {
          "output_type": "stream",
          "text": [
            "2021-07-13 11:33:06,790 - INFO: lr: 0.00125 | Epoch: 055 | Batch: 000 | Loss: 0.45704 | Correct: 114/128\n"
          ],
          "name": "stderr"
        },
        {
          "output_type": "stream",
          "text": [
            "None\n"
          ],
          "name": "stdout"
        },
        {
          "output_type": "stream",
          "text": [
            "2021-07-13 11:33:22,575 - INFO: Save the snapshot model with index: 3\n",
            "2021-07-13 11:33:23,544 - INFO: n_estimators: 4 | Validation Acc: 77.567 % | Historical Best: 77.567 %\n",
            "2021-07-13 11:33:24,388 - INFO: lr: 0.10000 | Epoch: 056 | Batch: 000 | Loss: 0.46100 | Correct: 109/128\n"
          ],
          "name": "stderr"
        },
        {
          "output_type": "stream",
          "text": [
            "None\n"
          ],
          "name": "stdout"
        },
        {
          "output_type": "stream",
          "text": [
            "2021-07-13 11:33:41,018 - INFO: lr: 0.09875 | Epoch: 057 | Batch: 000 | Loss: 0.87737 | Correct: 92/128\n"
          ],
          "name": "stderr"
        },
        {
          "output_type": "stream",
          "text": [
            "None\n"
          ],
          "name": "stdout"
        },
        {
          "output_type": "stream",
          "text": [
            "2021-07-13 11:33:57,602 - INFO: lr: 0.09505 | Epoch: 058 | Batch: 000 | Loss: 0.92739 | Correct: 97/128\n"
          ],
          "name": "stderr"
        },
        {
          "output_type": "stream",
          "text": [
            "None\n"
          ],
          "name": "stdout"
        },
        {
          "output_type": "stream",
          "text": [
            "2021-07-13 11:34:14,206 - INFO: lr: 0.08909 | Epoch: 059 | Batch: 000 | Loss: 0.94571 | Correct: 93/128\n"
          ],
          "name": "stderr"
        },
        {
          "output_type": "stream",
          "text": [
            "None\n"
          ],
          "name": "stdout"
        },
        {
          "output_type": "stream",
          "text": [
            "2021-07-13 11:34:30,825 - INFO: lr: 0.08117 | Epoch: 060 | Batch: 000 | Loss: 0.47145 | Correct: 115/128\n"
          ],
          "name": "stderr"
        },
        {
          "output_type": "stream",
          "text": [
            "None\n"
          ],
          "name": "stdout"
        },
        {
          "output_type": "stream",
          "text": [
            "2021-07-13 11:34:47,456 - INFO: lr: 0.07169 | Epoch: 061 | Batch: 000 | Loss: 0.66656 | Correct: 102/128\n"
          ],
          "name": "stderr"
        },
        {
          "output_type": "stream",
          "text": [
            "None\n"
          ],
          "name": "stdout"
        },
        {
          "output_type": "stream",
          "text": [
            "2021-07-13 11:35:04,050 - INFO: lr: 0.06113 | Epoch: 062 | Batch: 000 | Loss: 0.74089 | Correct: 97/128\n"
          ],
          "name": "stderr"
        },
        {
          "output_type": "stream",
          "text": [
            "None\n"
          ],
          "name": "stdout"
        },
        {
          "output_type": "stream",
          "text": [
            "2021-07-13 11:35:20,589 - INFO: lr: 0.05000 | Epoch: 063 | Batch: 000 | Loss: 0.58911 | Correct: 105/128\n"
          ],
          "name": "stderr"
        },
        {
          "output_type": "stream",
          "text": [
            "None\n"
          ],
          "name": "stdout"
        },
        {
          "output_type": "stream",
          "text": [
            "2021-07-13 11:35:37,231 - INFO: lr: 0.03887 | Epoch: 064 | Batch: 000 | Loss: 0.36142 | Correct: 116/128\n"
          ],
          "name": "stderr"
        },
        {
          "output_type": "stream",
          "text": [
            "None\n"
          ],
          "name": "stdout"
        },
        {
          "output_type": "stream",
          "text": [
            "2021-07-13 11:35:53,886 - INFO: lr: 0.02831 | Epoch: 065 | Batch: 000 | Loss: 0.35983 | Correct: 115/128\n"
          ],
          "name": "stderr"
        },
        {
          "output_type": "stream",
          "text": [
            "None\n"
          ],
          "name": "stdout"
        },
        {
          "output_type": "stream",
          "text": [
            "2021-07-13 11:36:10,546 - INFO: lr: 0.01883 | Epoch: 066 | Batch: 000 | Loss: 0.30357 | Correct: 117/128\n"
          ],
          "name": "stderr"
        },
        {
          "output_type": "stream",
          "text": [
            "None\n"
          ],
          "name": "stdout"
        },
        {
          "output_type": "stream",
          "text": [
            "2021-07-13 11:36:27,201 - INFO: lr: 0.01091 | Epoch: 067 | Batch: 000 | Loss: 0.27862 | Correct: 117/128\n"
          ],
          "name": "stderr"
        },
        {
          "output_type": "stream",
          "text": [
            "None\n"
          ],
          "name": "stdout"
        },
        {
          "output_type": "stream",
          "text": [
            "2021-07-13 11:36:43,783 - INFO: lr: 0.00495 | Epoch: 068 | Batch: 000 | Loss: 0.28612 | Correct: 123/128\n"
          ],
          "name": "stderr"
        },
        {
          "output_type": "stream",
          "text": [
            "None\n"
          ],
          "name": "stdout"
        },
        {
          "output_type": "stream",
          "text": [
            "2021-07-13 11:37:00,336 - INFO: lr: 0.00125 | Epoch: 069 | Batch: 000 | Loss: 0.28350 | Correct: 119/128\n"
          ],
          "name": "stderr"
        },
        {
          "output_type": "stream",
          "text": [
            "None\n"
          ],
          "name": "stdout"
        },
        {
          "output_type": "stream",
          "text": [
            "2021-07-13 11:37:16,149 - INFO: Save the snapshot model with index: 4\n",
            "2021-07-13 11:37:17,266 - INFO: n_estimators: 5 | Validation Acc: 78.348 % | Historical Best: 78.348 %\n"
          ],
          "name": "stderr"
        },
        {
          "output_type": "stream",
          "text": [
            "Group 5 Finished!\n",
            "Target number of exemplars: 40\n",
            "Randomly extracting exemplars from class 0 of current split... Extracted 40 exemplars.\n",
            "Randomly extracting exemplars from class 1 of current split... Extracted 40 exemplars.\n",
            "Randomly extracting exemplars from class 2 of current split... Extracted 40 exemplars.\n",
            "Randomly extracting exemplars from class 3 of current split... Extracted 40 exemplars.\n",
            "Randomly extracting exemplars from class 4 of current split... Extracted 40 exemplars.\n",
            "Randomly extracting exemplars from class 5 of current split... Extracted 40 exemplars.\n",
            "Randomly extracting exemplars from class 6 of current split... Extracted 40 exemplars.\n",
            "Randomly extracting exemplars from class 7 of current split... Extracted 40 exemplars.\n",
            "Randomly extracting exemplars from class 8 of current split... Extracted 40 exemplars.\n",
            "Randomly extracting exemplars from class 9 of current split... Extracted 40 exemplars.\n",
            "[0.12995923913043478, 0.29646739130434785, 0.5372961956521739, 0.6609375, 0.8183423913043478, 0.9201766304347826, 0.9688858695652174],[0.40244391025641024, 0.36798878205128205, 0.30068108974358976, 0.2536057692307692, 0.1780849358974359, 0.10737179487179487, 0.06270032051282051]\n",
            "Testing on both open and closed world\n",
            "owr harmonic mean (threshold:0.25) = 0.19647255817263334\n",
            "owr harmonic mean (threshold:0.35) = 0.3283788415812254\n",
            "owr harmonic mean (threshold:0.5) = 0.3855827799615853\n",
            "owr harmonic mean (threshold:0.6) = 0.3665601590222105\n",
            "owr harmonic mean (threshold:0.75) = 0.29251396126769796\n",
            "owr harmonic mean (threshold:0.85) = 0.19230435077429034\n",
            "owr harmonic mean (threshold:0.95) = 0.11777872783947668\n",
            "\n",
            "=============================================\n",
            "\n",
            "#################################\n",
            "\n",
            "\n"
          ],
          "name": "stdout"
        }
      ]
    },
    {
      "cell_type": "code",
      "metadata": {
        "id": "FlhjGZlYBYdR"
      },
      "source": [
        "predictions = [[logs[run_i]['predictions'][i].cpu().numpy() for i in range(len(logs[run_i]['predictions']))] for run_i in range(len(RANDOM_SEED))]"
      ],
      "execution_count": 9,
      "outputs": []
    },
    {
      "cell_type": "code",
      "metadata": {
        "id": "ReLwAHhLCvfn"
      },
      "source": [
        "accuracies = []\n",
        "for i in range(len(REJECTION_THRESHOLD)):\n",
        "  tmp_list = []\n",
        "  for k in range(5):\n",
        "    tmp_list.append(logs[0]['test_accuracies'][k][i])\n",
        "  accuracies.append(tmp_list)"
      ],
      "execution_count": 10,
      "outputs": []
    },
    {
      "cell_type": "code",
      "metadata": {
        "id": "8683fPolB-q8"
      },
      "source": [
        "true_labels = [logs[run_i]['true_labels'].cpu().data.numpy().tolist() for run_i in range(len(RANDOM_SEED))]"
      ],
      "execution_count": 11,
      "outputs": []
    },
    {
      "cell_type": "code",
      "metadata": {
        "colab": {
          "base_uri": "https://localhost:8080/"
        },
        "id": "jzGrXNnPMUa9",
        "outputId": "0363ff48-f968-45a6-8693-20ee21151944"
      },
      "source": [
        "import json\n",
        "\n",
        "with open('states/accuracies.json', 'w') as f:\n",
        "  json.dump(accuracies, f)\n",
        "f.close"
      ],
      "execution_count": 12,
      "outputs": [
        {
          "output_type": "execute_result",
          "data": {
            "text/plain": [
              "<function TextIOWrapper.close>"
            ]
          },
          "metadata": {
            "tags": []
          },
          "execution_count": 12
        }
      ]
    },
    {
      "cell_type": "markdown",
      "metadata": {
        "id": "2NMLqiIS19IJ"
      },
      "source": [
        "### Print some graphs"
      ]
    },
    {
      "cell_type": "code",
      "metadata": {
        "id": "G6Mg2QiIBNRo"
      },
      "source": [
        "from data.utils_plot import plot_train_val, plot_test_accuracies, plot_confusion_matrix"
      ],
      "execution_count": 13,
      "outputs": []
    },
    {
      "cell_type": "code",
      "metadata": {
        "id": "ttyNLP2hGnLN"
      },
      "source": [
        "accuracies = np.array(accuracies)\n",
        "accuracies_stats = np.array([accuracies.mean(0), accuracies.std(0)])"
      ],
      "execution_count": 14,
      "outputs": []
    },
    {
      "cell_type": "markdown",
      "metadata": {
        "id": "llzylw_LF7e_"
      },
      "source": [
        "#### Test accuracy"
      ]
    },
    {
      "cell_type": "code",
      "metadata": {
        "colab": {
          "base_uri": "https://localhost:8080/",
          "height": 195
        },
        "id": "NQfpluscGzX8",
        "outputId": "9794a808-49ea-4b08-993e-4e7a44879c00"
      },
      "source": [
        "def plot_test(stats, save_directory = None, title = \"\"):\n",
        "  mean = stats[0]\n",
        "  std = stats[1]\n",
        "  fig, ax = plt.subplots(figsize = (10, 5), dpi = 100)\n",
        "  x = np.arange(10, 51, 10)\n",
        "  ax.errorbar(x, mean, std)\n",
        "  ax.set_title(f\"Harmonic mean accuracy - threshold: {title}\")\n",
        "  ax.set_xlabel(\"Number of classes\")\n",
        "  ax.set_ylabel(\"Accuracy\")\n",
        "  plt.tight_layout()\n",
        "  if save_directory != None:\n",
        "    fig.savefig(save_directory)\n",
        "  plt.show()\n",
        "\n",
        "\n",
        "for i in range(len(REJECTION_THRESHOLD)):\n",
        "  plot_test(stats = [accuracies_stats[0][0][i],accuracies_stats[1][0][i]], title = REJECTION_THRESHOLD[i])"
      ],
      "execution_count": 15,
      "outputs": [
        {
          "output_type": "error",
          "ename": "IndexError",
          "evalue": "ignored",
          "traceback": [
            "\u001b[0;31m---------------------------------------------------------------------------\u001b[0m",
            "\u001b[0;31mIndexError\u001b[0m                                Traceback (most recent call last)",
            "\u001b[0;32m<ipython-input-15-3474165ea2d9>\u001b[0m in \u001b[0;36m<module>\u001b[0;34m()\u001b[0m\n\u001b[1;32m     15\u001b[0m \u001b[0;34m\u001b[0m\u001b[0m\n\u001b[1;32m     16\u001b[0m \u001b[0;32mfor\u001b[0m \u001b[0mi\u001b[0m \u001b[0;32min\u001b[0m \u001b[0mrange\u001b[0m\u001b[0;34m(\u001b[0m\u001b[0mlen\u001b[0m\u001b[0;34m(\u001b[0m\u001b[0mREJECTION_THRESHOLD\u001b[0m\u001b[0;34m)\u001b[0m\u001b[0;34m)\u001b[0m\u001b[0;34m:\u001b[0m\u001b[0;34m\u001b[0m\u001b[0;34m\u001b[0m\u001b[0m\n\u001b[0;32m---> 17\u001b[0;31m   \u001b[0mplot_test\u001b[0m\u001b[0;34m(\u001b[0m\u001b[0mstats\u001b[0m \u001b[0;34m=\u001b[0m \u001b[0;34m[\u001b[0m\u001b[0maccuracies_stats\u001b[0m\u001b[0;34m[\u001b[0m\u001b[0;36m0\u001b[0m\u001b[0;34m]\u001b[0m\u001b[0;34m[\u001b[0m\u001b[0;36m0\u001b[0m\u001b[0;34m]\u001b[0m\u001b[0;34m[\u001b[0m\u001b[0mi\u001b[0m\u001b[0;34m]\u001b[0m\u001b[0;34m,\u001b[0m\u001b[0maccuracies_stats\u001b[0m\u001b[0;34m[\u001b[0m\u001b[0;36m1\u001b[0m\u001b[0;34m]\u001b[0m\u001b[0;34m[\u001b[0m\u001b[0;36m0\u001b[0m\u001b[0;34m]\u001b[0m\u001b[0;34m[\u001b[0m\u001b[0mi\u001b[0m\u001b[0;34m]\u001b[0m\u001b[0;34m]\u001b[0m\u001b[0;34m,\u001b[0m \u001b[0mtitle\u001b[0m \u001b[0;34m=\u001b[0m \u001b[0mREJECTION_THRESHOLD\u001b[0m\u001b[0;34m[\u001b[0m\u001b[0mi\u001b[0m\u001b[0;34m]\u001b[0m\u001b[0;34m)\u001b[0m\u001b[0;34m\u001b[0m\u001b[0;34m\u001b[0m\u001b[0m\n\u001b[0m",
            "\u001b[0;31mIndexError\u001b[0m: invalid index to scalar variable."
          ]
        }
      ]
    },
    {
      "cell_type": "markdown",
      "metadata": {
        "id": "gN6cighYm1nG"
      },
      "source": [
        "#### Confusion Matrix"
      ]
    },
    {
      "cell_type": "code",
      "metadata": {
        "id": "JZBrIV_SKq2W"
      },
      "source": [
        "len(true_labels[0])/128"
      ],
      "execution_count": null,
      "outputs": []
    },
    {
      "cell_type": "code",
      "metadata": {
        "id": "LPG6aNRjm5Se"
      },
      "source": [
        "for i in range(len(REJECTION_THRESHOLD)):\n",
        "  targets = np.array(true_labels[0])\n",
        "  preds = np.array(predictions[0][i])\n",
        "  title = f\"Confusion matrix - Threshold: {REJECTION_THRESHOLD[i]}\"\n",
        "  plot_confusion_matrix(targets, preds, RANDOM_SEED[run], title)"
      ],
      "execution_count": null,
      "outputs": []
    }
  ]
}