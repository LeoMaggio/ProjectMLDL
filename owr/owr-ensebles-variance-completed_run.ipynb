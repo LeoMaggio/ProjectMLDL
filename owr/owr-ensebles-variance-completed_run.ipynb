{
  "nbformat": 4,
  "nbformat_minor": 0,
  "metadata": {
    "colab": {
      "name": "OWR-Ensembles.ipynb",
      "provenance": [],
      "include_colab_link": true
    },
    "kernelspec": {
      "name": "python3",
      "display_name": "Python 3"
    },
    "language_info": {
      "name": "python"
    },
    "accelerator": "GPU",
    "widgets": {
      "application/vnd.jupyter.widget-state+json": {
        "323a2e6c7034409d9ccc36fcd48cfa66": {
          "model_module": "@jupyter-widgets/controls",
          "model_name": "HBoxModel",
          "state": {
            "_view_name": "HBoxView",
            "_dom_classes": [],
            "_model_name": "HBoxModel",
            "_view_module": "@jupyter-widgets/controls",
            "_model_module_version": "1.5.0",
            "_view_count": null,
            "_view_module_version": "1.5.0",
            "box_style": "",
            "layout": "IPY_MODEL_618bffe2729146d2901a14f72af5ee46",
            "_model_module": "@jupyter-widgets/controls",
            "children": [
              "IPY_MODEL_4745429bb2014a5ab5010b9a5b878a70",
              "IPY_MODEL_b9caf40bab3d492090ace6d872dedbaa"
            ]
          }
        },
        "618bffe2729146d2901a14f72af5ee46": {
          "model_module": "@jupyter-widgets/base",
          "model_name": "LayoutModel",
          "state": {
            "_view_name": "LayoutView",
            "grid_template_rows": null,
            "right": null,
            "justify_content": null,
            "_view_module": "@jupyter-widgets/base",
            "overflow": null,
            "_model_module_version": "1.2.0",
            "_view_count": null,
            "flex_flow": null,
            "width": null,
            "min_width": null,
            "border": null,
            "align_items": null,
            "bottom": null,
            "_model_module": "@jupyter-widgets/base",
            "top": null,
            "grid_column": null,
            "overflow_y": null,
            "overflow_x": null,
            "grid_auto_flow": null,
            "grid_area": null,
            "grid_template_columns": null,
            "flex": null,
            "_model_name": "LayoutModel",
            "justify_items": null,
            "grid_row": null,
            "max_height": null,
            "align_content": null,
            "visibility": null,
            "align_self": null,
            "height": null,
            "min_height": null,
            "padding": null,
            "grid_auto_rows": null,
            "grid_gap": null,
            "max_width": null,
            "order": null,
            "_view_module_version": "1.2.0",
            "grid_template_areas": null,
            "object_position": null,
            "object_fit": null,
            "grid_auto_columns": null,
            "margin": null,
            "display": null,
            "left": null
          }
        },
        "4745429bb2014a5ab5010b9a5b878a70": {
          "model_module": "@jupyter-widgets/controls",
          "model_name": "FloatProgressModel",
          "state": {
            "_view_name": "ProgressView",
            "style": "IPY_MODEL_cf93ebdaa8a44ee59a89b65c79887357",
            "_dom_classes": [],
            "description": "",
            "_model_name": "FloatProgressModel",
            "bar_style": "success",
            "max": 169001437,
            "_view_module": "@jupyter-widgets/controls",
            "_model_module_version": "1.5.0",
            "value": 169001437,
            "_view_count": null,
            "_view_module_version": "1.5.0",
            "orientation": "horizontal",
            "min": 0,
            "description_tooltip": null,
            "_model_module": "@jupyter-widgets/controls",
            "layout": "IPY_MODEL_1e36b38cdb8b4b319c1b0dd6706f794a"
          }
        },
        "b9caf40bab3d492090ace6d872dedbaa": {
          "model_module": "@jupyter-widgets/controls",
          "model_name": "HTMLModel",
          "state": {
            "_view_name": "HTMLView",
            "style": "IPY_MODEL_d95f36bf022a4a15bae87d2b0a47aec9",
            "_dom_classes": [],
            "description": "",
            "_model_name": "HTMLModel",
            "placeholder": "​",
            "_view_module": "@jupyter-widgets/controls",
            "_model_module_version": "1.5.0",
            "value": " 169001984/? [00:31&lt;00:00, 5335098.47it/s]",
            "_view_count": null,
            "_view_module_version": "1.5.0",
            "description_tooltip": null,
            "_model_module": "@jupyter-widgets/controls",
            "layout": "IPY_MODEL_1cecd97056124458a17788194590da3c"
          }
        },
        "cf93ebdaa8a44ee59a89b65c79887357": {
          "model_module": "@jupyter-widgets/controls",
          "model_name": "ProgressStyleModel",
          "state": {
            "_view_name": "StyleView",
            "_model_name": "ProgressStyleModel",
            "description_width": "initial",
            "_view_module": "@jupyter-widgets/base",
            "_model_module_version": "1.5.0",
            "_view_count": null,
            "_view_module_version": "1.2.0",
            "bar_color": null,
            "_model_module": "@jupyter-widgets/controls"
          }
        },
        "1e36b38cdb8b4b319c1b0dd6706f794a": {
          "model_module": "@jupyter-widgets/base",
          "model_name": "LayoutModel",
          "state": {
            "_view_name": "LayoutView",
            "grid_template_rows": null,
            "right": null,
            "justify_content": null,
            "_view_module": "@jupyter-widgets/base",
            "overflow": null,
            "_model_module_version": "1.2.0",
            "_view_count": null,
            "flex_flow": null,
            "width": null,
            "min_width": null,
            "border": null,
            "align_items": null,
            "bottom": null,
            "_model_module": "@jupyter-widgets/base",
            "top": null,
            "grid_column": null,
            "overflow_y": null,
            "overflow_x": null,
            "grid_auto_flow": null,
            "grid_area": null,
            "grid_template_columns": null,
            "flex": null,
            "_model_name": "LayoutModel",
            "justify_items": null,
            "grid_row": null,
            "max_height": null,
            "align_content": null,
            "visibility": null,
            "align_self": null,
            "height": null,
            "min_height": null,
            "padding": null,
            "grid_auto_rows": null,
            "grid_gap": null,
            "max_width": null,
            "order": null,
            "_view_module_version": "1.2.0",
            "grid_template_areas": null,
            "object_position": null,
            "object_fit": null,
            "grid_auto_columns": null,
            "margin": null,
            "display": null,
            "left": null
          }
        },
        "d95f36bf022a4a15bae87d2b0a47aec9": {
          "model_module": "@jupyter-widgets/controls",
          "model_name": "DescriptionStyleModel",
          "state": {
            "_view_name": "StyleView",
            "_model_name": "DescriptionStyleModel",
            "description_width": "",
            "_view_module": "@jupyter-widgets/base",
            "_model_module_version": "1.5.0",
            "_view_count": null,
            "_view_module_version": "1.2.0",
            "_model_module": "@jupyter-widgets/controls"
          }
        },
        "1cecd97056124458a17788194590da3c": {
          "model_module": "@jupyter-widgets/base",
          "model_name": "LayoutModel",
          "state": {
            "_view_name": "LayoutView",
            "grid_template_rows": null,
            "right": null,
            "justify_content": null,
            "_view_module": "@jupyter-widgets/base",
            "overflow": null,
            "_model_module_version": "1.2.0",
            "_view_count": null,
            "flex_flow": null,
            "width": null,
            "min_width": null,
            "border": null,
            "align_items": null,
            "bottom": null,
            "_model_module": "@jupyter-widgets/base",
            "top": null,
            "grid_column": null,
            "overflow_y": null,
            "overflow_x": null,
            "grid_auto_flow": null,
            "grid_area": null,
            "grid_template_columns": null,
            "flex": null,
            "_model_name": "LayoutModel",
            "justify_items": null,
            "grid_row": null,
            "max_height": null,
            "align_content": null,
            "visibility": null,
            "align_self": null,
            "height": null,
            "min_height": null,
            "padding": null,
            "grid_auto_rows": null,
            "grid_gap": null,
            "max_width": null,
            "order": null,
            "_view_module_version": "1.2.0",
            "grid_template_areas": null,
            "object_position": null,
            "object_fit": null,
            "grid_auto_columns": null,
            "margin": null,
            "display": null,
            "left": null
          }
        }
      }
    }
  },
  "cells": [
    {
      "cell_type": "markdown",
      "metadata": {
        "id": "view-in-github",
        "colab_type": "text"
      },
      "source": [
        "<a href=\"https://colab.research.google.com/github/cosminnedescu/ProjectMLDL/blob/main/owr/owr-ensebles-variance-completed_run.ipynb\" target=\"_parent\"><img src=\"https://colab.research.google.com/assets/colab-badge.svg\" alt=\"Open In Colab\"/></a>"
      ]
    },
    {
      "cell_type": "code",
      "metadata": {
        "id": "PF5bRIxnU-PW",
        "colab": {
          "base_uri": "https://localhost:8080/"
        },
        "outputId": "eaa7c150-59c4-4037-ee07-f7b473b18bea"
      },
      "source": [
        "# Avoid K80\n",
        "!nvidia-smi"
      ],
      "execution_count": 1,
      "outputs": [
        {
          "output_type": "stream",
          "text": [
            "Fri Jul 16 05:14:51 2021       \n",
            "+-----------------------------------------------------------------------------+\n",
            "| NVIDIA-SMI 470.42.01    Driver Version: 460.32.03    CUDA Version: 11.2     |\n",
            "|-------------------------------+----------------------+----------------------+\n",
            "| GPU  Name        Persistence-M| Bus-Id        Disp.A | Volatile Uncorr. ECC |\n",
            "| Fan  Temp  Perf  Pwr:Usage/Cap|         Memory-Usage | GPU-Util  Compute M. |\n",
            "|                               |                      |               MIG M. |\n",
            "|===============================+======================+======================|\n",
            "|   0  Tesla T4            Off  | 00000000:00:04.0 Off |                    0 |\n",
            "| N/A   38C    P8    10W /  70W |      0MiB / 15109MiB |      0%      Default |\n",
            "|                               |                      |                  N/A |\n",
            "+-------------------------------+----------------------+----------------------+\n",
            "                                                                               \n",
            "+-----------------------------------------------------------------------------+\n",
            "| Processes:                                                                  |\n",
            "|  GPU   GI   CI        PID   Type   Process name                  GPU Memory |\n",
            "|        ID   ID                                                   Usage      |\n",
            "|=============================================================================|\n",
            "|  No running processes found                                                 |\n",
            "+-----------------------------------------------------------------------------+\n"
          ],
          "name": "stdout"
        }
      ]
    },
    {
      "cell_type": "code",
      "metadata": {
        "id": "pJimWkPdQu6y"
      },
      "source": [
        "import os\n",
        "import random\n",
        "\n",
        "import torch\n",
        "import torch.nn as nn\n",
        "import torch.nn.init as init\n",
        "import torch.optim as optim\n",
        "from torch.autograd import Variable\n",
        "\n",
        "import torchvision\n",
        "from torchvision import transforms, datasets, models\n",
        "from torch.utils.data import Subset, DataLoader\n",
        "\n",
        "from PIL import Image\n",
        "\n",
        "import numpy as np\n",
        "import matplotlib \n",
        "import matplotlib.pyplot as plt\n",
        "from copy import copy\n",
        "from copy import deepcopy"
      ],
      "execution_count": 2,
      "outputs": []
    },
    {
      "cell_type": "markdown",
      "metadata": {
        "id": "7BZw-bZJ16ay"
      },
      "source": [
        "#### Cloning the Git repository"
      ]
    },
    {
      "cell_type": "code",
      "metadata": {
        "id": "yjntw1jZQ7Lg",
        "colab": {
          "base_uri": "https://localhost:8080/"
        },
        "outputId": "1c09c95f-cf5e-4983-b183-3e17955a734e"
      },
      "source": [
        "!rm -rf ProjectMLDL\n",
        "if not os.path.isdir('/content/ProjectMLDL'):\n",
        "  !git clone https://github.com/cosminnedescu/ProjectMLDL.git\n",
        "  %cd /content/ProjectMLDL\n",
        "  !rm -rf LICENSE README.md"
      ],
      "execution_count": 3,
      "outputs": [
        {
          "output_type": "stream",
          "text": [
            "Cloning into 'ProjectMLDL'...\n",
            "remote: Enumerating objects: 3704, done.\u001b[K\n",
            "remote: Counting objects: 100% (1120/1120), done.\u001b[K\n",
            "remote: Compressing objects: 100% (550/550), done.\u001b[K\n",
            "remote: Total 3704 (delta 651), reused 944 (delta 552), pack-reused 2584\u001b[K\n",
            "Receiving objects: 100% (3704/3704), 185.45 MiB | 35.67 MiB/s, done.\n",
            "Resolving deltas: 100% (2036/2036), done.\n",
            "/content/ProjectMLDL\n"
          ],
          "name": "stdout"
        }
      ]
    },
    {
      "cell_type": "code",
      "metadata": {
        "id": "nvqmxRxo2lUW"
      },
      "source": [
        "from data.cifar100 import CIFAR100\n",
        "from model.resnet32_modified import resnet32\n",
        "import data.utils\n",
        "from model.owrEnsamble import owrEnsemble"
      ],
      "execution_count": 4,
      "outputs": []
    },
    {
      "cell_type": "code",
      "metadata": {
        "id": "XwomFTtQo1x-"
      },
      "source": [
        "# True mean and std of Cifar100 dataset (src=\"https://gist.github.com/weiaicunzai/e623931921efefd4c331622c344d8151\")\n",
        "mean = [0.5071, 0.4867, 0.4408]\n",
        "std = [0.2675, 0.2565, 0.2761]\n",
        "\n",
        "train_transform = transforms.Compose([\n",
        "    transforms.RandomCrop(32, padding=4),\n",
        "    transforms.RandomHorizontalFlip(),\n",
        "    transforms.ToTensor(),\n",
        "    transforms.Normalize(mean, std),\n",
        "])\n",
        "test_transform = transforms.Compose(\n",
        "    [transforms.ToTensor(), \n",
        "     transforms.Normalize(mean, std),\n",
        "     ])"
      ],
      "execution_count": 5,
      "outputs": []
    },
    {
      "cell_type": "markdown",
      "metadata": {
        "id": "yRoS-R_sRhHT"
      },
      "source": [
        "## Incremental Classifier and Representation Learning"
      ]
    },
    {
      "cell_type": "markdown",
      "metadata": {
        "id": "3ocVW0wM2Iw2"
      },
      "source": [
        "### Defining hyperparameters according to iCarl paper"
      ]
    },
    {
      "cell_type": "code",
      "metadata": {
        "id": "nmEo_9lnwyBk"
      },
      "source": [
        "# Settings\n",
        "DEVICE = 'cuda'\n",
        "NUM_CLASSES = 100         # Total number of classes\n",
        "VAL_SIZE = 0.2            # Proportion of validation set with respect to training set (between 0 and 1)\n",
        "\n",
        "# Training\n",
        "BATCH_SIZE = 128          # Batch size\n",
        "LR = 0.1                    # Initial learning rate\n",
        "                       \n",
        "MOMENTUM = 0.9            # Momentum for stochastic gradient descent (SGD)\n",
        "WEIGHT_DECAY = 1e-5       # Weight decay from iCaRL\n",
        "\n",
        "RANDOM_SEED = [20]  # Random seeds defining the runs of every method\n",
        "                          # Note: this should be at least 3 to have a fair benchmark\n",
        "\n",
        "NUM_EPOCHS = 70           # Total number of training epochs\n",
        "MILESTONES = [43, 63]     # Step down policy from iCaRL (MultiStepLR)\n",
        "                          # Decrease the learning rate by gamma at each milestone\n",
        "GAMMA = 0.2               # Gamma factor from iCaRL (1/5)\n",
        "\n",
        "HERDING = False           # True to perform prioritized selection, False to perform random selection\n",
        "CLASSIFY = True           # True to use mean-of-exemplar classifier, False to use network's output directly for classification\n",
        "\n",
        "REJECTION_THRESHOLD = [0.25,0.35,0.50,0.60,0.75,0.85,0.95]\n",
        "TESTING_MODE = 'harmonic' #open, closed, harmonic\n",
        "N_ESTIMATORS = 5\n",
        "CONFIDENCE = '0.900' #'0.900':1.47, '0.950':1.94, '0.975':2.45, '0.990':3.36\n",
        "STRATEGY = 'variance' # mean, variance, hybrid\n",
        "    "
      ],
      "execution_count": 6,
      "outputs": []
    },
    {
      "cell_type": "code",
      "metadata": {
        "id": "rVh61C63FECy"
      },
      "source": [
        "def do_group_classes(run):\n",
        "\n",
        "  train_subset = [[] for i in range(10)]\n",
        "  train_dataloader = [[] for i in range(10)]\n",
        "  val_dataloader = [[] for i in range(10)]\n",
        "  test_dataloader = [[] for i in range(10)]\n",
        "\n",
        "  for i in range(10):\n",
        "    train_data = CIFAR100(\"dataset\", \n",
        "                          train=True, \n",
        "                          transform=train_transform, \n",
        "                          download=(run+i==0),\n",
        "                          random_state=RANDOM_SEED[run])\n",
        "    test_data = CIFAR100(\"dataset\", \n",
        "                         train=False, \n",
        "                         transform=test_transform, \n",
        "                         download=False,\n",
        "                         random_state=RANDOM_SEED[run])\n",
        "    \n",
        "    train_data.set_index_map(train_data.splits[i])\n",
        "    test_data.set_index_map([test_data.splits[j] for j in range(0, i+1)])\n",
        "    \n",
        "    train_indices, val_indices = train_data.train_val_split(VAL_SIZE, RANDOM_SEED[run])\n",
        "    \n",
        "    train_subset[i] = copy(Subset(train_data, train_indices))\n",
        "    val_subset = Subset(train_data, val_indices)\n",
        "\n",
        "    tmp_dl = DataLoader(val_subset,\n",
        "                       batch_size=BATCH_SIZE,\n",
        "                       shuffle=True, \n",
        "                       num_workers=4,\n",
        "                       drop_last=True)\n",
        "    val_dataloader[i] = copy(tmp_dl)\n",
        "\n",
        "    tmp_dl = DataLoader(test_data,\n",
        "                       batch_size=BATCH_SIZE,\n",
        "                       shuffle=True, \n",
        "                       num_workers=4,\n",
        "                       drop_last=True)\n",
        "    test_dataloader[i] = copy(tmp_dl)\n",
        "\n",
        "  return train_dataloader, val_dataloader, test_dataloader, train_subset"
      ],
      "execution_count": 7,
      "outputs": []
    },
    {
      "cell_type": "markdown",
      "metadata": {
        "id": "20APZIgI1eBy"
      },
      "source": [
        "### Going on with the model\n",
        "This is the main iCaRL step.\n",
        "\n",
        "This step is run 3 times with different `RANDOM_SEED`.\n",
        "Here the model is instantiated, trained and tested.\n",
        "\n",
        "Results and some statistics are then stored in the variable `logs`."
      ]
    },
    {
      "cell_type": "code",
      "metadata": {
        "id": "mJHKbipz0bMr",
        "colab": {
          "base_uri": "https://localhost:8080/",
          "height": 1000,
          "referenced_widgets": [
            "323a2e6c7034409d9ccc36fcd48cfa66",
            "618bffe2729146d2901a14f72af5ee46",
            "4745429bb2014a5ab5010b9a5b878a70",
            "b9caf40bab3d492090ace6d872dedbaa",
            "cf93ebdaa8a44ee59a89b65c79887357",
            "1e36b38cdb8b4b319c1b0dd6706f794a",
            "d95f36bf022a4a15bae87d2b0a47aec9",
            "1cecd97056124458a17788194590da3c"
          ]
        },
        "outputId": "bd1e9d5c-c7b7-4f7c-9de9-7356d31fd6a1"
      },
      "source": [
        "logs = [[] for i in range(len(RANDOM_SEED))]\n",
        "best_net_tot_classes = [None for i in range(len(RANDOM_SEED))]\n",
        "\n",
        "for run in range(len(RANDOM_SEED)):\n",
        "  print(\"#################################\")\n",
        "  print(f\"Radom seed: {RANDOM_SEED[run]}\")\n",
        "  print(\"\")\n",
        "\n",
        "  # get data_subsets separated in incremental groups of 10 classes\n",
        "  train_dl, val_dl, test_dl, train_set = do_group_classes(run)\n",
        "\n",
        "  #create the resnet\n",
        "  net = resnet32()\n",
        "  \n",
        "  trainer = owrEnsemble(DEVICE,\n",
        "                  net,\n",
        "                  LR,\n",
        "                  MOMENTUM,\n",
        "                  WEIGHT_DECAY,\n",
        "                  MILESTONES,\n",
        "                  GAMMA,\n",
        "                  train_dl,\n",
        "                  val_dl,\n",
        "                  test_dl,\n",
        "                  BATCH_SIZE,\n",
        "                  train_set,\n",
        "                  train_transform,\n",
        "                  test_transform,\n",
        "                  TESTING_MODE,\n",
        "                  REJECTION_THRESHOLD,\n",
        "                  N_ESTIMATORS,\n",
        "                  CONFIDENCE,\n",
        "                  STRATEGY) \n",
        "\n",
        "  #train and evaluate the model\n",
        "  logs[run] = trainer.train_model(NUM_EPOCHS)\n",
        "\n",
        "  best_net_tot_classes[run] = deepcopy(trainer.best_net)\n",
        "\n",
        "  print(\"#################################\")\n",
        "  print(\"\")\n",
        "  print(\"\")"
      ],
      "execution_count": 8,
      "outputs": [
        {
          "output_type": "stream",
          "text": [
            "#################################\n",
            "Radom seed: 20\n",
            "\n",
            "Downloading https://www.cs.toronto.edu/~kriz/cifar-100-python.tar.gz to dataset/cifar-100-python.tar.gz\n"
          ],
          "name": "stdout"
        },
        {
          "output_type": "display_data",
          "data": {
            "application/vnd.jupyter.widget-view+json": {
              "model_id": "323a2e6c7034409d9ccc36fcd48cfa66",
              "version_minor": 0,
              "version_major": 2
            },
            "text/plain": [
              "HBox(children=(FloatProgress(value=0.0, max=169001437.0), HTML(value='')))"
            ]
          },
          "metadata": {
            "tags": []
          }
        },
        {
          "output_type": "stream",
          "text": [
            "\n",
            "Extracting dataset/cifar-100-python.tar.gz to dataset\n"
          ],
          "name": "stdout"
        },
        {
          "output_type": "stream",
          "text": [
            "/usr/local/lib/python3.7/dist-packages/torch/utils/data/dataloader.py:481: UserWarning: This DataLoader will create 4 worker processes in total. Our suggested max number of worker in current system is 2, which is smaller than what this DataLoader is going to create. Please be aware that excessive worker creation might get DataLoader running slow or even freeze, lower the worker number to avoid potential slowness/freeze if necessary.\n",
            "  cpuset_checked))\n"
          ],
          "name": "stderr"
        },
        {
          "output_type": "stream",
          "text": [
            "Log will be saved in '/content/ProjectMLDL/logs'.\n",
            "Create folder 'logs/'\n",
            "Start logging into file /content/ProjectMLDL/logs/classification_mnist_mlp-2021_07_16_05_16.log...\n",
            "Length of exemplars set: 0\n"
          ],
          "name": "stdout"
        },
        {
          "output_type": "stream",
          "text": [
            "2021-07-16 05:16:25,881 - INFO: lr: 0.10000 | Epoch: 000 | Batch: 000 | Loss: 2.30151 | Correct: 11/128\n"
          ],
          "name": "stderr"
        },
        {
          "output_type": "stream",
          "text": [
            "None\n"
          ],
          "name": "stdout"
        },
        {
          "output_type": "stream",
          "text": [
            "2021-07-16 05:16:27,962 - INFO: lr: 0.09875 | Epoch: 001 | Batch: 000 | Loss: 1.94968 | Correct: 33/128\n"
          ],
          "name": "stderr"
        },
        {
          "output_type": "stream",
          "text": [
            "None\n"
          ],
          "name": "stdout"
        },
        {
          "output_type": "stream",
          "text": [
            "2021-07-16 05:16:30,259 - INFO: lr: 0.09505 | Epoch: 002 | Batch: 000 | Loss: 1.63599 | Correct: 52/128\n"
          ],
          "name": "stderr"
        },
        {
          "output_type": "stream",
          "text": [
            "None\n"
          ],
          "name": "stdout"
        },
        {
          "output_type": "stream",
          "text": [
            "2021-07-16 05:16:32,482 - INFO: lr: 0.08909 | Epoch: 003 | Batch: 000 | Loss: 1.46368 | Correct: 55/128\n"
          ],
          "name": "stderr"
        },
        {
          "output_type": "stream",
          "text": [
            "None\n"
          ],
          "name": "stdout"
        },
        {
          "output_type": "stream",
          "text": [
            "2021-07-16 05:16:34,616 - INFO: lr: 0.08117 | Epoch: 004 | Batch: 000 | Loss: 1.17044 | Correct: 71/128\n"
          ],
          "name": "stderr"
        },
        {
          "output_type": "stream",
          "text": [
            "None\n"
          ],
          "name": "stdout"
        },
        {
          "output_type": "stream",
          "text": [
            "2021-07-16 05:16:36,974 - INFO: lr: 0.07169 | Epoch: 005 | Batch: 000 | Loss: 1.10140 | Correct: 79/128\n"
          ],
          "name": "stderr"
        },
        {
          "output_type": "stream",
          "text": [
            "None\n"
          ],
          "name": "stdout"
        },
        {
          "output_type": "stream",
          "text": [
            "2021-07-16 05:16:39,154 - INFO: lr: 0.06113 | Epoch: 006 | Batch: 000 | Loss: 1.22589 | Correct: 70/128\n"
          ],
          "name": "stderr"
        },
        {
          "output_type": "stream",
          "text": [
            "None\n"
          ],
          "name": "stdout"
        },
        {
          "output_type": "stream",
          "text": [
            "2021-07-16 05:16:41,426 - INFO: lr: 0.05000 | Epoch: 007 | Batch: 000 | Loss: 1.16126 | Correct: 77/128\n"
          ],
          "name": "stderr"
        },
        {
          "output_type": "stream",
          "text": [
            "None\n"
          ],
          "name": "stdout"
        },
        {
          "output_type": "stream",
          "text": [
            "2021-07-16 05:16:43,660 - INFO: lr: 0.03887 | Epoch: 008 | Batch: 000 | Loss: 0.97834 | Correct: 85/128\n"
          ],
          "name": "stderr"
        },
        {
          "output_type": "stream",
          "text": [
            "None\n"
          ],
          "name": "stdout"
        },
        {
          "output_type": "stream",
          "text": [
            "2021-07-16 05:16:45,830 - INFO: lr: 0.02831 | Epoch: 009 | Batch: 000 | Loss: 0.96358 | Correct: 87/128\n"
          ],
          "name": "stderr"
        },
        {
          "output_type": "stream",
          "text": [
            "None\n"
          ],
          "name": "stdout"
        },
        {
          "output_type": "stream",
          "text": [
            "2021-07-16 05:16:48,146 - INFO: lr: 0.01883 | Epoch: 010 | Batch: 000 | Loss: 1.04147 | Correct: 82/128\n"
          ],
          "name": "stderr"
        },
        {
          "output_type": "stream",
          "text": [
            "None\n"
          ],
          "name": "stdout"
        },
        {
          "output_type": "stream",
          "text": [
            "2021-07-16 05:16:50,431 - INFO: lr: 0.01091 | Epoch: 011 | Batch: 000 | Loss: 0.84608 | Correct: 91/128\n"
          ],
          "name": "stderr"
        },
        {
          "output_type": "stream",
          "text": [
            "None\n"
          ],
          "name": "stdout"
        },
        {
          "output_type": "stream",
          "text": [
            "2021-07-16 05:16:52,571 - INFO: lr: 0.00495 | Epoch: 012 | Batch: 000 | Loss: 0.80584 | Correct: 89/128\n"
          ],
          "name": "stderr"
        },
        {
          "output_type": "stream",
          "text": [
            "None\n"
          ],
          "name": "stdout"
        },
        {
          "output_type": "stream",
          "text": [
            "2021-07-16 05:16:54,769 - INFO: lr: 0.00125 | Epoch: 013 | Batch: 000 | Loss: 0.91622 | Correct: 92/128\n"
          ],
          "name": "stderr"
        },
        {
          "output_type": "stream",
          "text": [
            "None\n"
          ],
          "name": "stdout"
        },
        {
          "output_type": "stream",
          "text": [
            "2021-07-16 05:16:56,688 - INFO: Save the snapshot model with index: 0\n",
            "2021-07-16 05:16:57,302 - INFO: n_estimators: 1 | Validation Acc: 70.312 % | Historical Best: 70.312 %\n",
            "2021-07-16 05:16:57,738 - INFO: lr: 0.10000 | Epoch: 014 | Batch: 000 | Loss: 0.74034 | Correct: 98/128\n"
          ],
          "name": "stderr"
        },
        {
          "output_type": "stream",
          "text": [
            "None\n"
          ],
          "name": "stdout"
        },
        {
          "output_type": "stream",
          "text": [
            "2021-07-16 05:16:59,922 - INFO: lr: 0.09875 | Epoch: 015 | Batch: 000 | Loss: 1.04806 | Correct: 82/128\n"
          ],
          "name": "stderr"
        },
        {
          "output_type": "stream",
          "text": [
            "None\n"
          ],
          "name": "stdout"
        },
        {
          "output_type": "stream",
          "text": [
            "2021-07-16 05:17:02,141 - INFO: lr: 0.09505 | Epoch: 016 | Batch: 000 | Loss: 0.92772 | Correct: 84/128\n"
          ],
          "name": "stderr"
        },
        {
          "output_type": "stream",
          "text": [
            "None\n"
          ],
          "name": "stdout"
        },
        {
          "output_type": "stream",
          "text": [
            "2021-07-16 05:17:04,427 - INFO: lr: 0.08909 | Epoch: 017 | Batch: 000 | Loss: 0.72949 | Correct: 97/128\n"
          ],
          "name": "stderr"
        },
        {
          "output_type": "stream",
          "text": [
            "None\n"
          ],
          "name": "stdout"
        },
        {
          "output_type": "stream",
          "text": [
            "2021-07-16 05:17:06,703 - INFO: lr: 0.08117 | Epoch: 018 | Batch: 000 | Loss: 0.87882 | Correct: 89/128\n"
          ],
          "name": "stderr"
        },
        {
          "output_type": "stream",
          "text": [
            "None\n"
          ],
          "name": "stdout"
        },
        {
          "output_type": "stream",
          "text": [
            "2021-07-16 05:17:08,937 - INFO: lr: 0.07169 | Epoch: 019 | Batch: 000 | Loss: 0.86023 | Correct: 93/128\n"
          ],
          "name": "stderr"
        },
        {
          "output_type": "stream",
          "text": [
            "None\n"
          ],
          "name": "stdout"
        },
        {
          "output_type": "stream",
          "text": [
            "2021-07-16 05:17:11,152 - INFO: lr: 0.06113 | Epoch: 020 | Batch: 000 | Loss: 0.71941 | Correct: 90/128\n"
          ],
          "name": "stderr"
        },
        {
          "output_type": "stream",
          "text": [
            "None\n"
          ],
          "name": "stdout"
        },
        {
          "output_type": "stream",
          "text": [
            "2021-07-16 05:17:13,548 - INFO: lr: 0.05000 | Epoch: 021 | Batch: 000 | Loss: 0.70613 | Correct: 91/128\n"
          ],
          "name": "stderr"
        },
        {
          "output_type": "stream",
          "text": [
            "None\n"
          ],
          "name": "stdout"
        },
        {
          "output_type": "stream",
          "text": [
            "2021-07-16 05:17:15,745 - INFO: lr: 0.03887 | Epoch: 022 | Batch: 000 | Loss: 0.50358 | Correct: 103/128\n"
          ],
          "name": "stderr"
        },
        {
          "output_type": "stream",
          "text": [
            "None\n"
          ],
          "name": "stdout"
        },
        {
          "output_type": "stream",
          "text": [
            "2021-07-16 05:17:18,062 - INFO: lr: 0.02831 | Epoch: 023 | Batch: 000 | Loss: 0.65447 | Correct: 98/128\n"
          ],
          "name": "stderr"
        },
        {
          "output_type": "stream",
          "text": [
            "None\n"
          ],
          "name": "stdout"
        },
        {
          "output_type": "stream",
          "text": [
            "2021-07-16 05:17:20,295 - INFO: lr: 0.01883 | Epoch: 024 | Batch: 000 | Loss: 0.66427 | Correct: 98/128\n"
          ],
          "name": "stderr"
        },
        {
          "output_type": "stream",
          "text": [
            "None\n"
          ],
          "name": "stdout"
        },
        {
          "output_type": "stream",
          "text": [
            "2021-07-16 05:17:22,527 - INFO: lr: 0.01091 | Epoch: 025 | Batch: 000 | Loss: 0.51489 | Correct: 107/128\n"
          ],
          "name": "stderr"
        },
        {
          "output_type": "stream",
          "text": [
            "None\n"
          ],
          "name": "stdout"
        },
        {
          "output_type": "stream",
          "text": [
            "2021-07-16 05:17:24,787 - INFO: lr: 0.00495 | Epoch: 026 | Batch: 000 | Loss: 0.47412 | Correct: 108/128\n"
          ],
          "name": "stderr"
        },
        {
          "output_type": "stream",
          "text": [
            "None\n"
          ],
          "name": "stdout"
        },
        {
          "output_type": "stream",
          "text": [
            "2021-07-16 05:17:26,990 - INFO: lr: 0.00125 | Epoch: 027 | Batch: 000 | Loss: 0.50101 | Correct: 108/128\n"
          ],
          "name": "stderr"
        },
        {
          "output_type": "stream",
          "text": [
            "None\n"
          ],
          "name": "stdout"
        },
        {
          "output_type": "stream",
          "text": [
            "2021-07-16 05:17:28,839 - INFO: Save the snapshot model with index: 1\n",
            "2021-07-16 05:17:29,545 - INFO: n_estimators: 2 | Validation Acc: 77.679 % | Historical Best: 77.679 %\n",
            "2021-07-16 05:17:29,991 - INFO: lr: 0.10000 | Epoch: 028 | Batch: 000 | Loss: 0.39325 | Correct: 114/128\n"
          ],
          "name": "stderr"
        },
        {
          "output_type": "stream",
          "text": [
            "None\n"
          ],
          "name": "stdout"
        },
        {
          "output_type": "stream",
          "text": [
            "2021-07-16 05:17:32,193 - INFO: lr: 0.09875 | Epoch: 029 | Batch: 000 | Loss: 0.94667 | Correct: 90/128\n"
          ],
          "name": "stderr"
        },
        {
          "output_type": "stream",
          "text": [
            "None\n"
          ],
          "name": "stdout"
        },
        {
          "output_type": "stream",
          "text": [
            "2021-07-16 05:17:34,500 - INFO: lr: 0.09505 | Epoch: 030 | Batch: 000 | Loss: 0.67049 | Correct: 105/128\n"
          ],
          "name": "stderr"
        },
        {
          "output_type": "stream",
          "text": [
            "None\n"
          ],
          "name": "stdout"
        },
        {
          "output_type": "stream",
          "text": [
            "2021-07-16 05:17:36,656 - INFO: lr: 0.08909 | Epoch: 031 | Batch: 000 | Loss: 0.68754 | Correct: 98/128\n"
          ],
          "name": "stderr"
        },
        {
          "output_type": "stream",
          "text": [
            "None\n"
          ],
          "name": "stdout"
        },
        {
          "output_type": "stream",
          "text": [
            "2021-07-16 05:17:38,948 - INFO: lr: 0.08117 | Epoch: 032 | Batch: 000 | Loss: 0.59073 | Correct: 101/128\n"
          ],
          "name": "stderr"
        },
        {
          "output_type": "stream",
          "text": [
            "None\n"
          ],
          "name": "stdout"
        },
        {
          "output_type": "stream",
          "text": [
            "2021-07-16 05:17:41,197 - INFO: lr: 0.07169 | Epoch: 033 | Batch: 000 | Loss: 0.66276 | Correct: 99/128\n"
          ],
          "name": "stderr"
        },
        {
          "output_type": "stream",
          "text": [
            "None\n"
          ],
          "name": "stdout"
        },
        {
          "output_type": "stream",
          "text": [
            "2021-07-16 05:17:43,529 - INFO: lr: 0.06113 | Epoch: 034 | Batch: 000 | Loss: 0.44797 | Correct: 104/128\n"
          ],
          "name": "stderr"
        },
        {
          "output_type": "stream",
          "text": [
            "None\n"
          ],
          "name": "stdout"
        },
        {
          "output_type": "stream",
          "text": [
            "2021-07-16 05:17:45,758 - INFO: lr: 0.05000 | Epoch: 035 | Batch: 000 | Loss: 0.48766 | Correct: 105/128\n"
          ],
          "name": "stderr"
        },
        {
          "output_type": "stream",
          "text": [
            "None\n"
          ],
          "name": "stdout"
        },
        {
          "output_type": "stream",
          "text": [
            "2021-07-16 05:17:48,110 - INFO: lr: 0.03887 | Epoch: 036 | Batch: 000 | Loss: 0.28392 | Correct: 116/128\n"
          ],
          "name": "stderr"
        },
        {
          "output_type": "stream",
          "text": [
            "None\n"
          ],
          "name": "stdout"
        },
        {
          "output_type": "stream",
          "text": [
            "2021-07-16 05:17:50,359 - INFO: lr: 0.02831 | Epoch: 037 | Batch: 000 | Loss: 0.28885 | Correct: 110/128\n"
          ],
          "name": "stderr"
        },
        {
          "output_type": "stream",
          "text": [
            "None\n"
          ],
          "name": "stdout"
        },
        {
          "output_type": "stream",
          "text": [
            "2021-07-16 05:17:52,541 - INFO: lr: 0.01883 | Epoch: 038 | Batch: 000 | Loss: 0.18612 | Correct: 120/128\n"
          ],
          "name": "stderr"
        },
        {
          "output_type": "stream",
          "text": [
            "None\n"
          ],
          "name": "stdout"
        },
        {
          "output_type": "stream",
          "text": [
            "2021-07-16 05:17:54,908 - INFO: lr: 0.01091 | Epoch: 039 | Batch: 000 | Loss: 0.26090 | Correct: 116/128\n"
          ],
          "name": "stderr"
        },
        {
          "output_type": "stream",
          "text": [
            "None\n"
          ],
          "name": "stdout"
        },
        {
          "output_type": "stream",
          "text": [
            "2021-07-16 05:17:57,103 - INFO: lr: 0.00495 | Epoch: 040 | Batch: 000 | Loss: 0.15220 | Correct: 120/128\n"
          ],
          "name": "stderr"
        },
        {
          "output_type": "stream",
          "text": [
            "None\n"
          ],
          "name": "stdout"
        },
        {
          "output_type": "stream",
          "text": [
            "2021-07-16 05:17:59,327 - INFO: lr: 0.00125 | Epoch: 041 | Batch: 000 | Loss: 0.13887 | Correct: 125/128\n"
          ],
          "name": "stderr"
        },
        {
          "output_type": "stream",
          "text": [
            "None\n"
          ],
          "name": "stdout"
        },
        {
          "output_type": "stream",
          "text": [
            "2021-07-16 05:18:01,266 - INFO: Save the snapshot model with index: 2\n",
            "2021-07-16 05:18:02,125 - INFO: n_estimators: 3 | Validation Acc: 81.920 % | Historical Best: 81.920 %\n",
            "2021-07-16 05:18:02,470 - INFO: lr: 0.10000 | Epoch: 042 | Batch: 000 | Loss: 0.31494 | Correct: 115/128\n"
          ],
          "name": "stderr"
        },
        {
          "output_type": "stream",
          "text": [
            "None\n"
          ],
          "name": "stdout"
        },
        {
          "output_type": "stream",
          "text": [
            "2021-07-16 05:18:04,775 - INFO: lr: 0.09875 | Epoch: 043 | Batch: 000 | Loss: 0.74007 | Correct: 95/128\n"
          ],
          "name": "stderr"
        },
        {
          "output_type": "stream",
          "text": [
            "None\n"
          ],
          "name": "stdout"
        },
        {
          "output_type": "stream",
          "text": [
            "2021-07-16 05:18:07,080 - INFO: lr: 0.09505 | Epoch: 044 | Batch: 000 | Loss: 0.30825 | Correct: 115/128\n"
          ],
          "name": "stderr"
        },
        {
          "output_type": "stream",
          "text": [
            "None\n"
          ],
          "name": "stdout"
        },
        {
          "output_type": "stream",
          "text": [
            "2021-07-16 05:18:09,363 - INFO: lr: 0.08909 | Epoch: 045 | Batch: 000 | Loss: 0.40620 | Correct: 109/128\n"
          ],
          "name": "stderr"
        },
        {
          "output_type": "stream",
          "text": [
            "None\n"
          ],
          "name": "stdout"
        },
        {
          "output_type": "stream",
          "text": [
            "2021-07-16 05:18:12,203 - INFO: lr: 0.08117 | Epoch: 046 | Batch: 000 | Loss: 0.38497 | Correct: 113/128\n"
          ],
          "name": "stderr"
        },
        {
          "output_type": "stream",
          "text": [
            "None\n"
          ],
          "name": "stdout"
        },
        {
          "output_type": "stream",
          "text": [
            "2021-07-16 05:18:14,591 - INFO: lr: 0.07169 | Epoch: 047 | Batch: 000 | Loss: 0.30243 | Correct: 110/128\n"
          ],
          "name": "stderr"
        },
        {
          "output_type": "stream",
          "text": [
            "None\n"
          ],
          "name": "stdout"
        },
        {
          "output_type": "stream",
          "text": [
            "2021-07-16 05:18:16,828 - INFO: lr: 0.06113 | Epoch: 048 | Batch: 000 | Loss: 0.25850 | Correct: 114/128\n"
          ],
          "name": "stderr"
        },
        {
          "output_type": "stream",
          "text": [
            "None\n"
          ],
          "name": "stdout"
        },
        {
          "output_type": "stream",
          "text": [
            "2021-07-16 05:18:19,204 - INFO: lr: 0.05000 | Epoch: 049 | Batch: 000 | Loss: 0.21513 | Correct: 118/128\n"
          ],
          "name": "stderr"
        },
        {
          "output_type": "stream",
          "text": [
            "None\n"
          ],
          "name": "stdout"
        },
        {
          "output_type": "stream",
          "text": [
            "2021-07-16 05:18:21,524 - INFO: lr: 0.03887 | Epoch: 050 | Batch: 000 | Loss: 0.22565 | Correct: 117/128\n"
          ],
          "name": "stderr"
        },
        {
          "output_type": "stream",
          "text": [
            "None\n"
          ],
          "name": "stdout"
        },
        {
          "output_type": "stream",
          "text": [
            "2021-07-16 05:18:23,823 - INFO: lr: 0.02831 | Epoch: 051 | Batch: 000 | Loss: 0.11077 | Correct: 124/128\n"
          ],
          "name": "stderr"
        },
        {
          "output_type": "stream",
          "text": [
            "None\n"
          ],
          "name": "stdout"
        },
        {
          "output_type": "stream",
          "text": [
            "2021-07-16 05:18:26,087 - INFO: lr: 0.01883 | Epoch: 052 | Batch: 000 | Loss: 0.09138 | Correct: 124/128\n"
          ],
          "name": "stderr"
        },
        {
          "output_type": "stream",
          "text": [
            "None\n"
          ],
          "name": "stdout"
        },
        {
          "output_type": "stream",
          "text": [
            "2021-07-16 05:18:28,454 - INFO: lr: 0.01091 | Epoch: 053 | Batch: 000 | Loss: 0.12525 | Correct: 124/128\n"
          ],
          "name": "stderr"
        },
        {
          "output_type": "stream",
          "text": [
            "None\n"
          ],
          "name": "stdout"
        },
        {
          "output_type": "stream",
          "text": [
            "2021-07-16 05:18:30,677 - INFO: lr: 0.00495 | Epoch: 054 | Batch: 000 | Loss: 0.13756 | Correct: 124/128\n"
          ],
          "name": "stderr"
        },
        {
          "output_type": "stream",
          "text": [
            "None\n"
          ],
          "name": "stdout"
        },
        {
          "output_type": "stream",
          "text": [
            "2021-07-16 05:18:33,072 - INFO: lr: 0.00125 | Epoch: 055 | Batch: 000 | Loss: 0.15459 | Correct: 122/128\n"
          ],
          "name": "stderr"
        },
        {
          "output_type": "stream",
          "text": [
            "None\n"
          ],
          "name": "stdout"
        },
        {
          "output_type": "stream",
          "text": [
            "2021-07-16 05:18:34,993 - INFO: Save the snapshot model with index: 3\n",
            "2021-07-16 05:18:35,997 - INFO: n_estimators: 4 | Validation Acc: 84.710 % | Historical Best: 84.710 %\n",
            "2021-07-16 05:18:36,457 - INFO: lr: 0.10000 | Epoch: 056 | Batch: 000 | Loss: 0.09104 | Correct: 126/128\n"
          ],
          "name": "stderr"
        },
        {
          "output_type": "stream",
          "text": [
            "None\n"
          ],
          "name": "stdout"
        },
        {
          "output_type": "stream",
          "text": [
            "2021-07-16 05:18:38,831 - INFO: lr: 0.09875 | Epoch: 057 | Batch: 000 | Loss: 0.29914 | Correct: 114/128\n"
          ],
          "name": "stderr"
        },
        {
          "output_type": "stream",
          "text": [
            "None\n"
          ],
          "name": "stdout"
        },
        {
          "output_type": "stream",
          "text": [
            "2021-07-16 05:18:41,060 - INFO: lr: 0.09505 | Epoch: 058 | Batch: 000 | Loss: 0.31481 | Correct: 114/128\n"
          ],
          "name": "stderr"
        },
        {
          "output_type": "stream",
          "text": [
            "None\n"
          ],
          "name": "stdout"
        },
        {
          "output_type": "stream",
          "text": [
            "2021-07-16 05:18:43,444 - INFO: lr: 0.08909 | Epoch: 059 | Batch: 000 | Loss: 0.46476 | Correct: 108/128\n"
          ],
          "name": "stderr"
        },
        {
          "output_type": "stream",
          "text": [
            "None\n"
          ],
          "name": "stdout"
        },
        {
          "output_type": "stream",
          "text": [
            "2021-07-16 05:18:45,728 - INFO: lr: 0.08117 | Epoch: 060 | Batch: 000 | Loss: 0.25544 | Correct: 117/128\n"
          ],
          "name": "stderr"
        },
        {
          "output_type": "stream",
          "text": [
            "None\n"
          ],
          "name": "stdout"
        },
        {
          "output_type": "stream",
          "text": [
            "2021-07-16 05:18:48,022 - INFO: lr: 0.07169 | Epoch: 061 | Batch: 000 | Loss: 0.18991 | Correct: 123/128\n"
          ],
          "name": "stderr"
        },
        {
          "output_type": "stream",
          "text": [
            "None\n"
          ],
          "name": "stdout"
        },
        {
          "output_type": "stream",
          "text": [
            "2021-07-16 05:18:50,330 - INFO: lr: 0.06113 | Epoch: 062 | Batch: 000 | Loss: 0.18330 | Correct: 118/128\n"
          ],
          "name": "stderr"
        },
        {
          "output_type": "stream",
          "text": [
            "None\n"
          ],
          "name": "stdout"
        },
        {
          "output_type": "stream",
          "text": [
            "2021-07-16 05:18:52,767 - INFO: lr: 0.05000 | Epoch: 063 | Batch: 000 | Loss: 0.18782 | Correct: 120/128\n"
          ],
          "name": "stderr"
        },
        {
          "output_type": "stream",
          "text": [
            "None\n"
          ],
          "name": "stdout"
        },
        {
          "output_type": "stream",
          "text": [
            "2021-07-16 05:18:55,013 - INFO: lr: 0.03887 | Epoch: 064 | Batch: 000 | Loss: 0.17185 | Correct: 118/128\n"
          ],
          "name": "stderr"
        },
        {
          "output_type": "stream",
          "text": [
            "None\n"
          ],
          "name": "stdout"
        },
        {
          "output_type": "stream",
          "text": [
            "2021-07-16 05:18:57,356 - INFO: lr: 0.02831 | Epoch: 065 | Batch: 000 | Loss: 0.15846 | Correct: 122/128\n"
          ],
          "name": "stderr"
        },
        {
          "output_type": "stream",
          "text": [
            "None\n"
          ],
          "name": "stdout"
        },
        {
          "output_type": "stream",
          "text": [
            "2021-07-16 05:18:59,636 - INFO: lr: 0.01883 | Epoch: 066 | Batch: 000 | Loss: 0.05115 | Correct: 126/128\n"
          ],
          "name": "stderr"
        },
        {
          "output_type": "stream",
          "text": [
            "None\n"
          ],
          "name": "stdout"
        },
        {
          "output_type": "stream",
          "text": [
            "2021-07-16 05:19:02,037 - INFO: lr: 0.01091 | Epoch: 067 | Batch: 000 | Loss: 0.07678 | Correct: 125/128\n"
          ],
          "name": "stderr"
        },
        {
          "output_type": "stream",
          "text": [
            "None\n"
          ],
          "name": "stdout"
        },
        {
          "output_type": "stream",
          "text": [
            "2021-07-16 05:19:04,385 - INFO: lr: 0.00495 | Epoch: 068 | Batch: 000 | Loss: 0.05932 | Correct: 126/128\n"
          ],
          "name": "stderr"
        },
        {
          "output_type": "stream",
          "text": [
            "None\n"
          ],
          "name": "stdout"
        },
        {
          "output_type": "stream",
          "text": [
            "2021-07-16 05:19:06,677 - INFO: lr: 0.00125 | Epoch: 069 | Batch: 000 | Loss: 0.04193 | Correct: 127/128\n"
          ],
          "name": "stderr"
        },
        {
          "output_type": "stream",
          "text": [
            "None\n"
          ],
          "name": "stdout"
        },
        {
          "output_type": "stream",
          "text": [
            "2021-07-16 05:19:08,585 - INFO: Save the snapshot model with index: 4\n",
            "2021-07-16 05:19:09,708 - INFO: n_estimators: 5 | Validation Acc: 86.049 % | Historical Best: 86.049 %\n"
          ],
          "name": "stderr"
        },
        {
          "output_type": "stream",
          "text": [
            "Group 1 Finished!\n",
            "Target number of exemplars: 200\n",
            "Randomly extracting exemplars from class 0 of current split... Extracted 200 exemplars.\n",
            "Randomly extracting exemplars from class 1 of current split... Extracted 200 exemplars.\n",
            "Randomly extracting exemplars from class 2 of current split... Extracted 200 exemplars.\n",
            "Randomly extracting exemplars from class 3 of current split... Extracted 200 exemplars.\n",
            "Randomly extracting exemplars from class 4 of current split... Extracted 200 exemplars.\n",
            "Randomly extracting exemplars from class 5 of current split... Extracted 200 exemplars.\n",
            "Randomly extracting exemplars from class 6 of current split... Extracted 200 exemplars.\n",
            "Randomly extracting exemplars from class 7 of current split... Extracted 200 exemplars.\n",
            "Randomly extracting exemplars from class 8 of current split... Extracted 200 exemplars.\n",
            "Randomly extracting exemplars from class 9 of current split... Extracted 200 exemplars.\n",
            "[0.07285786290322581, 0.2201108870967742, 0.4518397177419355, 0.5950604838709678, 0.8004284274193548, 0.8953377016129033, 0.9725554435483871]\n",
            "[0.8537946428571429, 0.8314732142857143, 0.765625, 0.703125, 0.49776785714285715, 0.3404017857142857, 0.14285714285714285]\n",
            "Testing on both open and closed world\n",
            "owr harmonic mean (threshold:0.25) = 0.13442986429920104\n",
            "owr harmonic mean (threshold:0.35) = 0.3482111489669298\n",
            "owr harmonic mean (threshold:0.5) = 0.568402016295073\n",
            "owr harmonic mean (threshold:0.6) = 0.6446956415784367\n",
            "owr harmonic mean (threshold:0.75) = 0.6139225404139221\n",
            "owr harmonic mean (threshold:0.85) = 0.49338683571710157\n",
            "owr harmonic mean (threshold:0.95) = 0.24927657663335082\n",
            "\n",
            "=============================================\n",
            "\n",
            "Length of exemplars set: 2000\n"
          ],
          "name": "stdout"
        },
        {
          "output_type": "stream",
          "text": [
            "2021-07-16 05:19:46,349 - INFO: lr: 0.10000 | Epoch: 000 | Batch: 000 | Loss: 4.35017 | Correct: 4/128\n"
          ],
          "name": "stderr"
        },
        {
          "output_type": "stream",
          "text": [
            "None\n"
          ],
          "name": "stdout"
        },
        {
          "output_type": "stream",
          "text": [
            "2021-07-16 05:20:02,219 - INFO: lr: 0.09875 | Epoch: 001 | Batch: 000 | Loss: 2.34761 | Correct: 33/128\n"
          ],
          "name": "stderr"
        },
        {
          "output_type": "stream",
          "text": [
            "None\n"
          ],
          "name": "stdout"
        },
        {
          "output_type": "stream",
          "text": [
            "2021-07-16 05:20:18,249 - INFO: lr: 0.09505 | Epoch: 002 | Batch: 000 | Loss: 2.20186 | Correct: 32/128\n"
          ],
          "name": "stderr"
        },
        {
          "output_type": "stream",
          "text": [
            "None\n"
          ],
          "name": "stdout"
        },
        {
          "output_type": "stream",
          "text": [
            "2021-07-16 05:20:34,223 - INFO: lr: 0.08909 | Epoch: 003 | Batch: 000 | Loss: 2.18562 | Correct: 39/128\n"
          ],
          "name": "stderr"
        },
        {
          "output_type": "stream",
          "text": [
            "None\n"
          ],
          "name": "stdout"
        },
        {
          "output_type": "stream",
          "text": [
            "2021-07-16 05:20:50,147 - INFO: lr: 0.08117 | Epoch: 004 | Batch: 000 | Loss: 2.06149 | Correct: 49/128\n"
          ],
          "name": "stderr"
        },
        {
          "output_type": "stream",
          "text": [
            "None\n"
          ],
          "name": "stdout"
        },
        {
          "output_type": "stream",
          "text": [
            "2021-07-16 05:21:06,060 - INFO: lr: 0.07169 | Epoch: 005 | Batch: 000 | Loss: 1.92623 | Correct: 44/128\n"
          ],
          "name": "stderr"
        },
        {
          "output_type": "stream",
          "text": [
            "None\n"
          ],
          "name": "stdout"
        },
        {
          "output_type": "stream",
          "text": [
            "2021-07-16 05:21:22,009 - INFO: lr: 0.06113 | Epoch: 006 | Batch: 000 | Loss: 1.90589 | Correct: 55/128\n"
          ],
          "name": "stderr"
        },
        {
          "output_type": "stream",
          "text": [
            "None\n"
          ],
          "name": "stdout"
        },
        {
          "output_type": "stream",
          "text": [
            "2021-07-16 05:21:38,034 - INFO: lr: 0.05000 | Epoch: 007 | Batch: 000 | Loss: 1.71138 | Correct: 63/128\n"
          ],
          "name": "stderr"
        },
        {
          "output_type": "stream",
          "text": [
            "None\n"
          ],
          "name": "stdout"
        },
        {
          "output_type": "stream",
          "text": [
            "2021-07-16 05:21:53,990 - INFO: lr: 0.03887 | Epoch: 008 | Batch: 000 | Loss: 1.76947 | Correct: 55/128\n"
          ],
          "name": "stderr"
        },
        {
          "output_type": "stream",
          "text": [
            "None\n"
          ],
          "name": "stdout"
        },
        {
          "output_type": "stream",
          "text": [
            "2021-07-16 05:22:10,012 - INFO: lr: 0.02831 | Epoch: 009 | Batch: 000 | Loss: 1.53429 | Correct: 73/128\n"
          ],
          "name": "stderr"
        },
        {
          "output_type": "stream",
          "text": [
            "None\n"
          ],
          "name": "stdout"
        },
        {
          "output_type": "stream",
          "text": [
            "2021-07-16 05:22:26,014 - INFO: lr: 0.01883 | Epoch: 010 | Batch: 000 | Loss: 1.34411 | Correct: 73/128\n"
          ],
          "name": "stderr"
        },
        {
          "output_type": "stream",
          "text": [
            "None\n"
          ],
          "name": "stdout"
        },
        {
          "output_type": "stream",
          "text": [
            "2021-07-16 05:22:41,993 - INFO: lr: 0.01091 | Epoch: 011 | Batch: 000 | Loss: 1.30423 | Correct: 77/128\n"
          ],
          "name": "stderr"
        },
        {
          "output_type": "stream",
          "text": [
            "None\n"
          ],
          "name": "stdout"
        },
        {
          "output_type": "stream",
          "text": [
            "2021-07-16 05:22:57,996 - INFO: lr: 0.00495 | Epoch: 012 | Batch: 000 | Loss: 1.24354 | Correct: 77/128\n"
          ],
          "name": "stderr"
        },
        {
          "output_type": "stream",
          "text": [
            "None\n"
          ],
          "name": "stdout"
        },
        {
          "output_type": "stream",
          "text": [
            "2021-07-16 05:23:14,000 - INFO: lr: 0.00125 | Epoch: 013 | Batch: 000 | Loss: 1.36011 | Correct: 76/128\n"
          ],
          "name": "stderr"
        },
        {
          "output_type": "stream",
          "text": [
            "None\n"
          ],
          "name": "stdout"
        },
        {
          "output_type": "stream",
          "text": [
            "2021-07-16 05:23:29,228 - INFO: Save the snapshot model with index: 0\n",
            "2021-07-16 05:23:29,882 - INFO: n_estimators: 1 | Validation Acc: 61.830 % | Historical Best: 61.830 %\n",
            "2021-07-16 05:23:30,689 - INFO: lr: 0.10000 | Epoch: 014 | Batch: 000 | Loss: 1.34134 | Correct: 81/128\n"
          ],
          "name": "stderr"
        },
        {
          "output_type": "stream",
          "text": [
            "None\n"
          ],
          "name": "stdout"
        },
        {
          "output_type": "stream",
          "text": [
            "2021-07-16 05:23:46,719 - INFO: lr: 0.09875 | Epoch: 015 | Batch: 000 | Loss: 1.67175 | Correct: 59/128\n"
          ],
          "name": "stderr"
        },
        {
          "output_type": "stream",
          "text": [
            "None\n"
          ],
          "name": "stdout"
        },
        {
          "output_type": "stream",
          "text": [
            "2021-07-16 05:24:02,673 - INFO: lr: 0.09505 | Epoch: 016 | Batch: 000 | Loss: 1.49426 | Correct: 65/128\n"
          ],
          "name": "stderr"
        },
        {
          "output_type": "stream",
          "text": [
            "None\n"
          ],
          "name": "stdout"
        },
        {
          "output_type": "stream",
          "text": [
            "2021-07-16 05:24:18,620 - INFO: lr: 0.08909 | Epoch: 017 | Batch: 000 | Loss: 1.57825 | Correct: 60/128\n"
          ],
          "name": "stderr"
        },
        {
          "output_type": "stream",
          "text": [
            "None\n"
          ],
          "name": "stdout"
        },
        {
          "output_type": "stream",
          "text": [
            "2021-07-16 05:24:34,627 - INFO: lr: 0.08117 | Epoch: 018 | Batch: 000 | Loss: 1.56074 | Correct: 75/128\n"
          ],
          "name": "stderr"
        },
        {
          "output_type": "stream",
          "text": [
            "None\n"
          ],
          "name": "stdout"
        },
        {
          "output_type": "stream",
          "text": [
            "2021-07-16 05:24:50,618 - INFO: lr: 0.07169 | Epoch: 019 | Batch: 000 | Loss: 1.27639 | Correct: 83/128\n"
          ],
          "name": "stderr"
        },
        {
          "output_type": "stream",
          "text": [
            "None\n"
          ],
          "name": "stdout"
        },
        {
          "output_type": "stream",
          "text": [
            "2021-07-16 05:25:06,607 - INFO: lr: 0.06113 | Epoch: 020 | Batch: 000 | Loss: 1.33838 | Correct: 78/128\n"
          ],
          "name": "stderr"
        },
        {
          "output_type": "stream",
          "text": [
            "None\n"
          ],
          "name": "stdout"
        },
        {
          "output_type": "stream",
          "text": [
            "2021-07-16 05:25:22,605 - INFO: lr: 0.05000 | Epoch: 021 | Batch: 000 | Loss: 0.80962 | Correct: 92/128\n"
          ],
          "name": "stderr"
        },
        {
          "output_type": "stream",
          "text": [
            "None\n"
          ],
          "name": "stdout"
        },
        {
          "output_type": "stream",
          "text": [
            "2021-07-16 05:25:38,642 - INFO: lr: 0.03887 | Epoch: 022 | Batch: 000 | Loss: 0.92225 | Correct: 87/128\n"
          ],
          "name": "stderr"
        },
        {
          "output_type": "stream",
          "text": [
            "None\n"
          ],
          "name": "stdout"
        },
        {
          "output_type": "stream",
          "text": [
            "2021-07-16 05:25:54,668 - INFO: lr: 0.02831 | Epoch: 023 | Batch: 000 | Loss: 0.91151 | Correct: 90/128\n"
          ],
          "name": "stderr"
        },
        {
          "output_type": "stream",
          "text": [
            "None\n"
          ],
          "name": "stdout"
        },
        {
          "output_type": "stream",
          "text": [
            "2021-07-16 05:26:10,691 - INFO: lr: 0.01883 | Epoch: 024 | Batch: 000 | Loss: 0.79414 | Correct: 97/128\n"
          ],
          "name": "stderr"
        },
        {
          "output_type": "stream",
          "text": [
            "None\n"
          ],
          "name": "stdout"
        },
        {
          "output_type": "stream",
          "text": [
            "2021-07-16 05:26:26,677 - INFO: lr: 0.01091 | Epoch: 025 | Batch: 000 | Loss: 0.80523 | Correct: 97/128\n"
          ],
          "name": "stderr"
        },
        {
          "output_type": "stream",
          "text": [
            "None\n"
          ],
          "name": "stdout"
        },
        {
          "output_type": "stream",
          "text": [
            "2021-07-16 05:26:42,763 - INFO: lr: 0.00495 | Epoch: 026 | Batch: 000 | Loss: 0.66426 | Correct: 98/128\n"
          ],
          "name": "stderr"
        },
        {
          "output_type": "stream",
          "text": [
            "None\n"
          ],
          "name": "stdout"
        },
        {
          "output_type": "stream",
          "text": [
            "2021-07-16 05:26:58,735 - INFO: lr: 0.00125 | Epoch: 027 | Batch: 000 | Loss: 0.56821 | Correct: 106/128\n"
          ],
          "name": "stderr"
        },
        {
          "output_type": "stream",
          "text": [
            "None\n"
          ],
          "name": "stdout"
        },
        {
          "output_type": "stream",
          "text": [
            "2021-07-16 05:27:13,966 - INFO: Save the snapshot model with index: 1\n",
            "2021-07-16 05:27:14,733 - INFO: n_estimators: 2 | Validation Acc: 72.433 % | Historical Best: 72.433 %\n",
            "2021-07-16 05:27:15,509 - INFO: lr: 0.10000 | Epoch: 028 | Batch: 000 | Loss: 0.64520 | Correct: 99/128\n"
          ],
          "name": "stderr"
        },
        {
          "output_type": "stream",
          "text": [
            "None\n"
          ],
          "name": "stdout"
        },
        {
          "output_type": "stream",
          "text": [
            "2021-07-16 05:27:31,491 - INFO: lr: 0.09875 | Epoch: 029 | Batch: 000 | Loss: 1.00740 | Correct: 86/128\n"
          ],
          "name": "stderr"
        },
        {
          "output_type": "stream",
          "text": [
            "None\n"
          ],
          "name": "stdout"
        },
        {
          "output_type": "stream",
          "text": [
            "2021-07-16 05:27:47,492 - INFO: lr: 0.09505 | Epoch: 030 | Batch: 000 | Loss: 1.05490 | Correct: 84/128\n"
          ],
          "name": "stderr"
        },
        {
          "output_type": "stream",
          "text": [
            "None\n"
          ],
          "name": "stdout"
        },
        {
          "output_type": "stream",
          "text": [
            "2021-07-16 05:28:03,486 - INFO: lr: 0.08909 | Epoch: 031 | Batch: 000 | Loss: 0.94227 | Correct: 92/128\n"
          ],
          "name": "stderr"
        },
        {
          "output_type": "stream",
          "text": [
            "None\n"
          ],
          "name": "stdout"
        },
        {
          "output_type": "stream",
          "text": [
            "2021-07-16 05:28:19,515 - INFO: lr: 0.08117 | Epoch: 032 | Batch: 000 | Loss: 0.79868 | Correct: 97/128\n"
          ],
          "name": "stderr"
        },
        {
          "output_type": "stream",
          "text": [
            "None\n"
          ],
          "name": "stdout"
        },
        {
          "output_type": "stream",
          "text": [
            "2021-07-16 05:28:35,516 - INFO: lr: 0.07169 | Epoch: 033 | Batch: 000 | Loss: 1.00027 | Correct: 85/128\n"
          ],
          "name": "stderr"
        },
        {
          "output_type": "stream",
          "text": [
            "None\n"
          ],
          "name": "stdout"
        },
        {
          "output_type": "stream",
          "text": [
            "2021-07-16 05:28:51,525 - INFO: lr: 0.06113 | Epoch: 034 | Batch: 000 | Loss: 0.87182 | Correct: 87/128\n"
          ],
          "name": "stderr"
        },
        {
          "output_type": "stream",
          "text": [
            "None\n"
          ],
          "name": "stdout"
        },
        {
          "output_type": "stream",
          "text": [
            "2021-07-16 05:29:07,490 - INFO: lr: 0.05000 | Epoch: 035 | Batch: 000 | Loss: 0.95185 | Correct: 86/128\n"
          ],
          "name": "stderr"
        },
        {
          "output_type": "stream",
          "text": [
            "None\n"
          ],
          "name": "stdout"
        },
        {
          "output_type": "stream",
          "text": [
            "2021-07-16 05:29:23,469 - INFO: lr: 0.03887 | Epoch: 036 | Batch: 000 | Loss: 0.60631 | Correct: 104/128\n"
          ],
          "name": "stderr"
        },
        {
          "output_type": "stream",
          "text": [
            "None\n"
          ],
          "name": "stdout"
        },
        {
          "output_type": "stream",
          "text": [
            "2021-07-16 05:29:39,503 - INFO: lr: 0.02831 | Epoch: 037 | Batch: 000 | Loss: 0.45182 | Correct: 113/128\n"
          ],
          "name": "stderr"
        },
        {
          "output_type": "stream",
          "text": [
            "None\n"
          ],
          "name": "stdout"
        },
        {
          "output_type": "stream",
          "text": [
            "2021-07-16 05:29:55,395 - INFO: lr: 0.01883 | Epoch: 038 | Batch: 000 | Loss: 0.45804 | Correct: 105/128\n"
          ],
          "name": "stderr"
        },
        {
          "output_type": "stream",
          "text": [
            "None\n"
          ],
          "name": "stdout"
        },
        {
          "output_type": "stream",
          "text": [
            "2021-07-16 05:30:11,273 - INFO: lr: 0.01091 | Epoch: 039 | Batch: 000 | Loss: 0.44144 | Correct: 109/128\n"
          ],
          "name": "stderr"
        },
        {
          "output_type": "stream",
          "text": [
            "None\n"
          ],
          "name": "stdout"
        },
        {
          "output_type": "stream",
          "text": [
            "2021-07-16 05:30:27,077 - INFO: lr: 0.00495 | Epoch: 040 | Batch: 000 | Loss: 0.33826 | Correct: 115/128\n"
          ],
          "name": "stderr"
        },
        {
          "output_type": "stream",
          "text": [
            "None\n"
          ],
          "name": "stdout"
        },
        {
          "output_type": "stream",
          "text": [
            "2021-07-16 05:30:43,001 - INFO: lr: 0.00125 | Epoch: 041 | Batch: 000 | Loss: 0.35806 | Correct: 117/128\n"
          ],
          "name": "stderr"
        },
        {
          "output_type": "stream",
          "text": [
            "None\n"
          ],
          "name": "stdout"
        },
        {
          "output_type": "stream",
          "text": [
            "2021-07-16 05:30:58,228 - INFO: Save the snapshot model with index: 2\n",
            "2021-07-16 05:30:59,112 - INFO: n_estimators: 3 | Validation Acc: 75.000 % | Historical Best: 75.000 %\n",
            "2021-07-16 05:30:59,892 - INFO: lr: 0.10000 | Epoch: 042 | Batch: 000 | Loss: 0.42722 | Correct: 113/128\n"
          ],
          "name": "stderr"
        },
        {
          "output_type": "stream",
          "text": [
            "None\n"
          ],
          "name": "stdout"
        },
        {
          "output_type": "stream",
          "text": [
            "2021-07-16 05:31:15,839 - INFO: lr: 0.09875 | Epoch: 043 | Batch: 000 | Loss: 0.77341 | Correct: 96/128\n"
          ],
          "name": "stderr"
        },
        {
          "output_type": "stream",
          "text": [
            "None\n"
          ],
          "name": "stdout"
        },
        {
          "output_type": "stream",
          "text": [
            "2021-07-16 05:31:31,810 - INFO: lr: 0.09505 | Epoch: 044 | Batch: 000 | Loss: 0.84439 | Correct: 95/128\n"
          ],
          "name": "stderr"
        },
        {
          "output_type": "stream",
          "text": [
            "None\n"
          ],
          "name": "stdout"
        },
        {
          "output_type": "stream",
          "text": [
            "2021-07-16 05:31:47,733 - INFO: lr: 0.08909 | Epoch: 045 | Batch: 000 | Loss: 0.58579 | Correct: 104/128\n"
          ],
          "name": "stderr"
        },
        {
          "output_type": "stream",
          "text": [
            "None\n"
          ],
          "name": "stdout"
        },
        {
          "output_type": "stream",
          "text": [
            "2021-07-16 05:32:03,718 - INFO: lr: 0.08117 | Epoch: 046 | Batch: 000 | Loss: 0.68779 | Correct: 98/128\n"
          ],
          "name": "stderr"
        },
        {
          "output_type": "stream",
          "text": [
            "None\n"
          ],
          "name": "stdout"
        },
        {
          "output_type": "stream",
          "text": [
            "2021-07-16 05:32:19,574 - INFO: lr: 0.07169 | Epoch: 047 | Batch: 000 | Loss: 0.45056 | Correct: 110/128\n"
          ],
          "name": "stderr"
        },
        {
          "output_type": "stream",
          "text": [
            "None\n"
          ],
          "name": "stdout"
        },
        {
          "output_type": "stream",
          "text": [
            "2021-07-16 05:32:35,471 - INFO: lr: 0.06113 | Epoch: 048 | Batch: 000 | Loss: 0.43498 | Correct: 110/128\n"
          ],
          "name": "stderr"
        },
        {
          "output_type": "stream",
          "text": [
            "None\n"
          ],
          "name": "stdout"
        },
        {
          "output_type": "stream",
          "text": [
            "2021-07-16 05:32:51,434 - INFO: lr: 0.05000 | Epoch: 049 | Batch: 000 | Loss: 0.43790 | Correct: 107/128\n"
          ],
          "name": "stderr"
        },
        {
          "output_type": "stream",
          "text": [
            "None\n"
          ],
          "name": "stdout"
        },
        {
          "output_type": "stream",
          "text": [
            "2021-07-16 05:33:07,457 - INFO: lr: 0.03887 | Epoch: 050 | Batch: 000 | Loss: 0.38040 | Correct: 117/128\n"
          ],
          "name": "stderr"
        },
        {
          "output_type": "stream",
          "text": [
            "None\n"
          ],
          "name": "stdout"
        },
        {
          "output_type": "stream",
          "text": [
            "2021-07-16 05:33:23,411 - INFO: lr: 0.02831 | Epoch: 051 | Batch: 000 | Loss: 0.35881 | Correct: 110/128\n"
          ],
          "name": "stderr"
        },
        {
          "output_type": "stream",
          "text": [
            "None\n"
          ],
          "name": "stdout"
        },
        {
          "output_type": "stream",
          "text": [
            "2021-07-16 05:33:39,354 - INFO: lr: 0.01883 | Epoch: 052 | Batch: 000 | Loss: 0.29655 | Correct: 115/128\n"
          ],
          "name": "stderr"
        },
        {
          "output_type": "stream",
          "text": [
            "None\n"
          ],
          "name": "stdout"
        },
        {
          "output_type": "stream",
          "text": [
            "2021-07-16 05:33:55,247 - INFO: lr: 0.01091 | Epoch: 053 | Batch: 000 | Loss: 0.33137 | Correct: 113/128\n"
          ],
          "name": "stderr"
        },
        {
          "output_type": "stream",
          "text": [
            "None\n"
          ],
          "name": "stdout"
        },
        {
          "output_type": "stream",
          "text": [
            "2021-07-16 05:34:11,195 - INFO: lr: 0.00495 | Epoch: 054 | Batch: 000 | Loss: 0.25928 | Correct: 117/128\n"
          ],
          "name": "stderr"
        },
        {
          "output_type": "stream",
          "text": [
            "None\n"
          ],
          "name": "stdout"
        },
        {
          "output_type": "stream",
          "text": [
            "2021-07-16 05:34:27,071 - INFO: lr: 0.00125 | Epoch: 055 | Batch: 000 | Loss: 0.28681 | Correct: 117/128\n"
          ],
          "name": "stderr"
        },
        {
          "output_type": "stream",
          "text": [
            "None\n"
          ],
          "name": "stdout"
        },
        {
          "output_type": "stream",
          "text": [
            "2021-07-16 05:34:42,275 - INFO: Save the snapshot model with index: 3\n",
            "2021-07-16 05:34:43,225 - INFO: n_estimators: 4 | Validation Acc: 76.451 % | Historical Best: 76.451 %\n",
            "2021-07-16 05:34:44,018 - INFO: lr: 0.10000 | Epoch: 056 | Batch: 000 | Loss: 0.18271 | Correct: 121/128\n"
          ],
          "name": "stderr"
        },
        {
          "output_type": "stream",
          "text": [
            "None\n"
          ],
          "name": "stdout"
        },
        {
          "output_type": "stream",
          "text": [
            "2021-07-16 05:34:59,961 - INFO: lr: 0.09875 | Epoch: 057 | Batch: 000 | Loss: 0.73855 | Correct: 94/128\n"
          ],
          "name": "stderr"
        },
        {
          "output_type": "stream",
          "text": [
            "None\n"
          ],
          "name": "stdout"
        },
        {
          "output_type": "stream",
          "text": [
            "2021-07-16 05:35:15,933 - INFO: lr: 0.09505 | Epoch: 058 | Batch: 000 | Loss: 0.48358 | Correct: 111/128\n"
          ],
          "name": "stderr"
        },
        {
          "output_type": "stream",
          "text": [
            "None\n"
          ],
          "name": "stdout"
        },
        {
          "output_type": "stream",
          "text": [
            "2021-07-16 05:35:31,870 - INFO: lr: 0.08909 | Epoch: 059 | Batch: 000 | Loss: 0.37738 | Correct: 114/128\n"
          ],
          "name": "stderr"
        },
        {
          "output_type": "stream",
          "text": [
            "None\n"
          ],
          "name": "stdout"
        },
        {
          "output_type": "stream",
          "text": [
            "2021-07-16 05:35:47,836 - INFO: lr: 0.08117 | Epoch: 060 | Batch: 000 | Loss: 0.41276 | Correct: 111/128\n"
          ],
          "name": "stderr"
        },
        {
          "output_type": "stream",
          "text": [
            "None\n"
          ],
          "name": "stdout"
        },
        {
          "output_type": "stream",
          "text": [
            "2021-07-16 05:36:03,827 - INFO: lr: 0.07169 | Epoch: 061 | Batch: 000 | Loss: 0.39883 | Correct: 107/128\n"
          ],
          "name": "stderr"
        },
        {
          "output_type": "stream",
          "text": [
            "None\n"
          ],
          "name": "stdout"
        },
        {
          "output_type": "stream",
          "text": [
            "2021-07-16 05:36:19,783 - INFO: lr: 0.06113 | Epoch: 062 | Batch: 000 | Loss: 0.37759 | Correct: 112/128\n"
          ],
          "name": "stderr"
        },
        {
          "output_type": "stream",
          "text": [
            "None\n"
          ],
          "name": "stdout"
        },
        {
          "output_type": "stream",
          "text": [
            "2021-07-16 05:36:35,761 - INFO: lr: 0.05000 | Epoch: 063 | Batch: 000 | Loss: 0.28299 | Correct: 117/128\n"
          ],
          "name": "stderr"
        },
        {
          "output_type": "stream",
          "text": [
            "None\n"
          ],
          "name": "stdout"
        },
        {
          "output_type": "stream",
          "text": [
            "2021-07-16 05:36:51,745 - INFO: lr: 0.03887 | Epoch: 064 | Batch: 000 | Loss: 0.20075 | Correct: 120/128\n"
          ],
          "name": "stderr"
        },
        {
          "output_type": "stream",
          "text": [
            "None\n"
          ],
          "name": "stdout"
        },
        {
          "output_type": "stream",
          "text": [
            "2021-07-16 05:37:07,745 - INFO: lr: 0.02831 | Epoch: 065 | Batch: 000 | Loss: 0.17905 | Correct: 125/128\n"
          ],
          "name": "stderr"
        },
        {
          "output_type": "stream",
          "text": [
            "None\n"
          ],
          "name": "stdout"
        },
        {
          "output_type": "stream",
          "text": [
            "2021-07-16 05:37:23,627 - INFO: lr: 0.01883 | Epoch: 066 | Batch: 000 | Loss: 0.12326 | Correct: 123/128\n"
          ],
          "name": "stderr"
        },
        {
          "output_type": "stream",
          "text": [
            "None\n"
          ],
          "name": "stdout"
        },
        {
          "output_type": "stream",
          "text": [
            "2021-07-16 05:37:39,602 - INFO: lr: 0.01091 | Epoch: 067 | Batch: 000 | Loss: 0.17156 | Correct: 123/128\n"
          ],
          "name": "stderr"
        },
        {
          "output_type": "stream",
          "text": [
            "None\n"
          ],
          "name": "stdout"
        },
        {
          "output_type": "stream",
          "text": [
            "2021-07-16 05:37:55,597 - INFO: lr: 0.00495 | Epoch: 068 | Batch: 000 | Loss: 0.15825 | Correct: 124/128\n"
          ],
          "name": "stderr"
        },
        {
          "output_type": "stream",
          "text": [
            "None\n"
          ],
          "name": "stdout"
        },
        {
          "output_type": "stream",
          "text": [
            "2021-07-16 05:38:11,574 - INFO: lr: 0.00125 | Epoch: 069 | Batch: 000 | Loss: 0.15886 | Correct: 120/128\n"
          ],
          "name": "stderr"
        },
        {
          "output_type": "stream",
          "text": [
            "None\n"
          ],
          "name": "stdout"
        },
        {
          "output_type": "stream",
          "text": [
            "2021-07-16 05:38:26,779 - INFO: Save the snapshot model with index: 4\n",
            "2021-07-16 05:38:27,834 - INFO: n_estimators: 5 | Validation Acc: 77.121 % | Historical Best: 77.121 %\n"
          ],
          "name": "stderr"
        },
        {
          "output_type": "stream",
          "text": [
            "Group 2 Finished!\n",
            "Target number of exemplars: 100\n",
            "Randomly extracting exemplars from class 0 of current split... Extracted 100 exemplars.\n",
            "Randomly extracting exemplars from class 1 of current split... Extracted 100 exemplars.\n",
            "Randomly extracting exemplars from class 2 of current split... Extracted 100 exemplars.\n",
            "Randomly extracting exemplars from class 3 of current split... Extracted 100 exemplars.\n",
            "Randomly extracting exemplars from class 4 of current split... Extracted 100 exemplars.\n",
            "Randomly extracting exemplars from class 5 of current split... Extracted 100 exemplars.\n",
            "Randomly extracting exemplars from class 6 of current split... Extracted 100 exemplars.\n",
            "Randomly extracting exemplars from class 7 of current split... Extracted 100 exemplars.\n",
            "Randomly extracting exemplars from class 8 of current split... Extracted 100 exemplars.\n",
            "Randomly extracting exemplars from class 9 of current split... Extracted 100 exemplars.\n",
            "[0.11663306451612904, 0.2815776209677419, 0.5102066532258065, 0.6333921370967742, 0.8085181451612903, 0.8948084677419355, 0.956476814516129]\n",
            "[0.6901041666666666, 0.6541666666666667, 0.5786458333333333, 0.5177083333333333, 0.3536458333333333, 0.23072916666666668, 0.115625]\n",
            "Testing on both open and closed world\n",
            "owr harmonic mean (threshold:0.25) = 0.19969247768801887\n",
            "owr harmonic mean (threshold:0.35) = 0.393810359398546\n",
            "owr harmonic mean (threshold:0.5) = 0.5423757861475224\n",
            "owr harmonic mean (threshold:0.6) = 0.5698382240168917\n",
            "owr harmonic mean (threshold:0.75) = 0.4921785342642704\n",
            "owr harmonic mean (threshold:0.85) = 0.36699665985731217\n",
            "owr harmonic mean (threshold:0.95) = 0.2064714436948553\n",
            "\n",
            "=============================================\n",
            "\n",
            "Length of exemplars set: 2000\n"
          ],
          "name": "stdout"
        },
        {
          "output_type": "stream",
          "text": [
            "2021-07-16 05:39:05,482 - INFO: lr: 0.10000 | Epoch: 000 | Batch: 000 | Loss: 4.72272 | Correct: 3/128\n"
          ],
          "name": "stderr"
        },
        {
          "output_type": "stream",
          "text": [
            "None\n"
          ],
          "name": "stdout"
        },
        {
          "output_type": "stream",
          "text": [
            "2021-07-16 05:39:21,819 - INFO: lr: 0.09875 | Epoch: 001 | Batch: 000 | Loss: 2.67641 | Correct: 32/128\n"
          ],
          "name": "stderr"
        },
        {
          "output_type": "stream",
          "text": [
            "None\n"
          ],
          "name": "stdout"
        },
        {
          "output_type": "stream",
          "text": [
            "2021-07-16 05:39:38,176 - INFO: lr: 0.09505 | Epoch: 002 | Batch: 000 | Loss: 2.49173 | Correct: 26/128\n"
          ],
          "name": "stderr"
        },
        {
          "output_type": "stream",
          "text": [
            "None\n"
          ],
          "name": "stdout"
        },
        {
          "output_type": "stream",
          "text": [
            "2021-07-16 05:39:54,539 - INFO: lr: 0.08909 | Epoch: 003 | Batch: 000 | Loss: 2.36748 | Correct: 41/128\n"
          ],
          "name": "stderr"
        },
        {
          "output_type": "stream",
          "text": [
            "None\n"
          ],
          "name": "stdout"
        },
        {
          "output_type": "stream",
          "text": [
            "2021-07-16 05:40:10,961 - INFO: lr: 0.08117 | Epoch: 004 | Batch: 000 | Loss: 2.22349 | Correct: 51/128\n"
          ],
          "name": "stderr"
        },
        {
          "output_type": "stream",
          "text": [
            "None\n"
          ],
          "name": "stdout"
        },
        {
          "output_type": "stream",
          "text": [
            "2021-07-16 05:40:27,430 - INFO: lr: 0.07169 | Epoch: 005 | Batch: 000 | Loss: 1.89614 | Correct: 55/128\n"
          ],
          "name": "stderr"
        },
        {
          "output_type": "stream",
          "text": [
            "None\n"
          ],
          "name": "stdout"
        },
        {
          "output_type": "stream",
          "text": [
            "2021-07-16 05:40:43,782 - INFO: lr: 0.06113 | Epoch: 006 | Batch: 000 | Loss: 2.03539 | Correct: 53/128\n"
          ],
          "name": "stderr"
        },
        {
          "output_type": "stream",
          "text": [
            "None\n"
          ],
          "name": "stdout"
        },
        {
          "output_type": "stream",
          "text": [
            "2021-07-16 05:41:00,090 - INFO: lr: 0.05000 | Epoch: 007 | Batch: 000 | Loss: 1.97913 | Correct: 54/128\n"
          ],
          "name": "stderr"
        },
        {
          "output_type": "stream",
          "text": [
            "None\n"
          ],
          "name": "stdout"
        },
        {
          "output_type": "stream",
          "text": [
            "2021-07-16 05:41:16,403 - INFO: lr: 0.03887 | Epoch: 008 | Batch: 000 | Loss: 1.54788 | Correct: 72/128\n"
          ],
          "name": "stderr"
        },
        {
          "output_type": "stream",
          "text": [
            "None\n"
          ],
          "name": "stdout"
        },
        {
          "output_type": "stream",
          "text": [
            "2021-07-16 05:41:32,701 - INFO: lr: 0.02831 | Epoch: 009 | Batch: 000 | Loss: 1.74309 | Correct: 61/128\n"
          ],
          "name": "stderr"
        },
        {
          "output_type": "stream",
          "text": [
            "None\n"
          ],
          "name": "stdout"
        },
        {
          "output_type": "stream",
          "text": [
            "2021-07-16 05:41:49,039 - INFO: lr: 0.01883 | Epoch: 010 | Batch: 000 | Loss: 1.53694 | Correct: 74/128\n"
          ],
          "name": "stderr"
        },
        {
          "output_type": "stream",
          "text": [
            "None\n"
          ],
          "name": "stdout"
        },
        {
          "output_type": "stream",
          "text": [
            "2021-07-16 05:42:05,356 - INFO: lr: 0.01091 | Epoch: 011 | Batch: 000 | Loss: 1.42279 | Correct: 77/128\n"
          ],
          "name": "stderr"
        },
        {
          "output_type": "stream",
          "text": [
            "None\n"
          ],
          "name": "stdout"
        },
        {
          "output_type": "stream",
          "text": [
            "2021-07-16 05:42:21,639 - INFO: lr: 0.00495 | Epoch: 012 | Batch: 000 | Loss: 1.53871 | Correct: 70/128\n"
          ],
          "name": "stderr"
        },
        {
          "output_type": "stream",
          "text": [
            "None\n"
          ],
          "name": "stdout"
        },
        {
          "output_type": "stream",
          "text": [
            "2021-07-16 05:42:37,942 - INFO: lr: 0.00125 | Epoch: 013 | Batch: 000 | Loss: 1.50828 | Correct: 72/128\n"
          ],
          "name": "stderr"
        },
        {
          "output_type": "stream",
          "text": [
            "None\n"
          ],
          "name": "stdout"
        },
        {
          "output_type": "stream",
          "text": [
            "2021-07-16 05:42:53,458 - INFO: Save the snapshot model with index: 0\n",
            "2021-07-16 05:42:54,144 - INFO: n_estimators: 1 | Validation Acc: 63.504 % | Historical Best: 63.504 %\n",
            "2021-07-16 05:42:54,957 - INFO: lr: 0.10000 | Epoch: 014 | Batch: 000 | Loss: 1.34160 | Correct: 77/128\n"
          ],
          "name": "stderr"
        },
        {
          "output_type": "stream",
          "text": [
            "None\n"
          ],
          "name": "stdout"
        },
        {
          "output_type": "stream",
          "text": [
            "2021-07-16 05:43:11,320 - INFO: lr: 0.09875 | Epoch: 015 | Batch: 000 | Loss: 1.62629 | Correct: 63/128\n"
          ],
          "name": "stderr"
        },
        {
          "output_type": "stream",
          "text": [
            "None\n"
          ],
          "name": "stdout"
        },
        {
          "output_type": "stream",
          "text": [
            "2021-07-16 05:43:27,640 - INFO: lr: 0.09505 | Epoch: 016 | Batch: 000 | Loss: 1.71020 | Correct: 69/128\n"
          ],
          "name": "stderr"
        },
        {
          "output_type": "stream",
          "text": [
            "None\n"
          ],
          "name": "stdout"
        },
        {
          "output_type": "stream",
          "text": [
            "2021-07-16 05:43:43,948 - INFO: lr: 0.08909 | Epoch: 017 | Batch: 000 | Loss: 1.45890 | Correct: 72/128\n"
          ],
          "name": "stderr"
        },
        {
          "output_type": "stream",
          "text": [
            "None\n"
          ],
          "name": "stdout"
        },
        {
          "output_type": "stream",
          "text": [
            "2021-07-16 05:44:00,286 - INFO: lr: 0.08117 | Epoch: 018 | Batch: 000 | Loss: 1.58677 | Correct: 68/128\n"
          ],
          "name": "stderr"
        },
        {
          "output_type": "stream",
          "text": [
            "None\n"
          ],
          "name": "stdout"
        },
        {
          "output_type": "stream",
          "text": [
            "2021-07-16 05:44:16,667 - INFO: lr: 0.07169 | Epoch: 019 | Batch: 000 | Loss: 1.26771 | Correct: 79/128\n"
          ],
          "name": "stderr"
        },
        {
          "output_type": "stream",
          "text": [
            "None\n"
          ],
          "name": "stdout"
        },
        {
          "output_type": "stream",
          "text": [
            "2021-07-16 05:44:33,034 - INFO: lr: 0.06113 | Epoch: 020 | Batch: 000 | Loss: 1.47929 | Correct: 70/128\n"
          ],
          "name": "stderr"
        },
        {
          "output_type": "stream",
          "text": [
            "None\n"
          ],
          "name": "stdout"
        },
        {
          "output_type": "stream",
          "text": [
            "2021-07-16 05:44:49,397 - INFO: lr: 0.05000 | Epoch: 021 | Batch: 000 | Loss: 1.06097 | Correct: 86/128\n"
          ],
          "name": "stderr"
        },
        {
          "output_type": "stream",
          "text": [
            "None\n"
          ],
          "name": "stdout"
        },
        {
          "output_type": "stream",
          "text": [
            "2021-07-16 05:45:05,733 - INFO: lr: 0.03887 | Epoch: 022 | Batch: 000 | Loss: 0.92517 | Correct: 91/128\n"
          ],
          "name": "stderr"
        },
        {
          "output_type": "stream",
          "text": [
            "None\n"
          ],
          "name": "stdout"
        },
        {
          "output_type": "stream",
          "text": [
            "2021-07-16 05:45:22,079 - INFO: lr: 0.02831 | Epoch: 023 | Batch: 000 | Loss: 0.97391 | Correct: 91/128\n"
          ],
          "name": "stderr"
        },
        {
          "output_type": "stream",
          "text": [
            "None\n"
          ],
          "name": "stdout"
        },
        {
          "output_type": "stream",
          "text": [
            "2021-07-16 05:45:38,412 - INFO: lr: 0.01883 | Epoch: 024 | Batch: 000 | Loss: 0.96050 | Correct: 85/128\n"
          ],
          "name": "stderr"
        },
        {
          "output_type": "stream",
          "text": [
            "None\n"
          ],
          "name": "stdout"
        },
        {
          "output_type": "stream",
          "text": [
            "2021-07-16 05:45:54,760 - INFO: lr: 0.01091 | Epoch: 025 | Batch: 000 | Loss: 0.83361 | Correct: 98/128\n"
          ],
          "name": "stderr"
        },
        {
          "output_type": "stream",
          "text": [
            "None\n"
          ],
          "name": "stdout"
        },
        {
          "output_type": "stream",
          "text": [
            "2021-07-16 05:46:11,093 - INFO: lr: 0.00495 | Epoch: 026 | Batch: 000 | Loss: 0.80205 | Correct: 94/128\n"
          ],
          "name": "stderr"
        },
        {
          "output_type": "stream",
          "text": [
            "None\n"
          ],
          "name": "stdout"
        },
        {
          "output_type": "stream",
          "text": [
            "2021-07-16 05:46:27,458 - INFO: lr: 0.00125 | Epoch: 027 | Batch: 000 | Loss: 0.88953 | Correct: 93/128\n"
          ],
          "name": "stderr"
        },
        {
          "output_type": "stream",
          "text": [
            "None\n"
          ],
          "name": "stdout"
        },
        {
          "output_type": "stream",
          "text": [
            "2021-07-16 05:46:43,015 - INFO: Save the snapshot model with index: 1\n",
            "2021-07-16 05:46:43,755 - INFO: n_estimators: 2 | Validation Acc: 72.321 % | Historical Best: 72.321 %\n",
            "2021-07-16 05:46:44,573 - INFO: lr: 0.10000 | Epoch: 028 | Batch: 000 | Loss: 1.13931 | Correct: 80/128\n"
          ],
          "name": "stderr"
        },
        {
          "output_type": "stream",
          "text": [
            "None\n"
          ],
          "name": "stdout"
        },
        {
          "output_type": "stream",
          "text": [
            "2021-07-16 05:47:00,930 - INFO: lr: 0.09875 | Epoch: 029 | Batch: 000 | Loss: 1.45862 | Correct: 77/128\n"
          ],
          "name": "stderr"
        },
        {
          "output_type": "stream",
          "text": [
            "None\n"
          ],
          "name": "stdout"
        },
        {
          "output_type": "stream",
          "text": [
            "2021-07-16 05:47:17,303 - INFO: lr: 0.09505 | Epoch: 030 | Batch: 000 | Loss: 1.14657 | Correct: 86/128\n"
          ],
          "name": "stderr"
        },
        {
          "output_type": "stream",
          "text": [
            "None\n"
          ],
          "name": "stdout"
        },
        {
          "output_type": "stream",
          "text": [
            "2021-07-16 05:47:33,668 - INFO: lr: 0.08909 | Epoch: 031 | Batch: 000 | Loss: 1.16774 | Correct: 87/128\n"
          ],
          "name": "stderr"
        },
        {
          "output_type": "stream",
          "text": [
            "None\n"
          ],
          "name": "stdout"
        },
        {
          "output_type": "stream",
          "text": [
            "2021-07-16 05:47:50,004 - INFO: lr: 0.08117 | Epoch: 032 | Batch: 000 | Loss: 1.10669 | Correct: 81/128\n"
          ],
          "name": "stderr"
        },
        {
          "output_type": "stream",
          "text": [
            "None\n"
          ],
          "name": "stdout"
        },
        {
          "output_type": "stream",
          "text": [
            "2021-07-16 05:48:06,302 - INFO: lr: 0.07169 | Epoch: 033 | Batch: 000 | Loss: 0.88935 | Correct: 93/128\n"
          ],
          "name": "stderr"
        },
        {
          "output_type": "stream",
          "text": [
            "None\n"
          ],
          "name": "stdout"
        },
        {
          "output_type": "stream",
          "text": [
            "2021-07-16 05:48:22,645 - INFO: lr: 0.06113 | Epoch: 034 | Batch: 000 | Loss: 0.73135 | Correct: 99/128\n"
          ],
          "name": "stderr"
        },
        {
          "output_type": "stream",
          "text": [
            "None\n"
          ],
          "name": "stdout"
        },
        {
          "output_type": "stream",
          "text": [
            "2021-07-16 05:48:38,997 - INFO: lr: 0.05000 | Epoch: 035 | Batch: 000 | Loss: 0.95245 | Correct: 87/128\n"
          ],
          "name": "stderr"
        },
        {
          "output_type": "stream",
          "text": [
            "None\n"
          ],
          "name": "stdout"
        },
        {
          "output_type": "stream",
          "text": [
            "2021-07-16 05:48:55,315 - INFO: lr: 0.03887 | Epoch: 036 | Batch: 000 | Loss: 0.76023 | Correct: 100/128\n"
          ],
          "name": "stderr"
        },
        {
          "output_type": "stream",
          "text": [
            "None\n"
          ],
          "name": "stdout"
        },
        {
          "output_type": "stream",
          "text": [
            "2021-07-16 05:49:11,639 - INFO: lr: 0.02831 | Epoch: 037 | Batch: 000 | Loss: 0.78944 | Correct: 100/128\n"
          ],
          "name": "stderr"
        },
        {
          "output_type": "stream",
          "text": [
            "None\n"
          ],
          "name": "stdout"
        },
        {
          "output_type": "stream",
          "text": [
            "2021-07-16 05:49:27,981 - INFO: lr: 0.01883 | Epoch: 038 | Batch: 000 | Loss: 0.46928 | Correct: 110/128\n"
          ],
          "name": "stderr"
        },
        {
          "output_type": "stream",
          "text": [
            "None\n"
          ],
          "name": "stdout"
        },
        {
          "output_type": "stream",
          "text": [
            "2021-07-16 05:49:44,331 - INFO: lr: 0.01091 | Epoch: 039 | Batch: 000 | Loss: 0.49381 | Correct: 112/128\n"
          ],
          "name": "stderr"
        },
        {
          "output_type": "stream",
          "text": [
            "None\n"
          ],
          "name": "stdout"
        },
        {
          "output_type": "stream",
          "text": [
            "2021-07-16 05:50:00,659 - INFO: lr: 0.00495 | Epoch: 040 | Batch: 000 | Loss: 0.54289 | Correct: 108/128\n"
          ],
          "name": "stderr"
        },
        {
          "output_type": "stream",
          "text": [
            "None\n"
          ],
          "name": "stdout"
        },
        {
          "output_type": "stream",
          "text": [
            "2021-07-16 05:50:17,008 - INFO: lr: 0.00125 | Epoch: 041 | Batch: 000 | Loss: 0.49463 | Correct: 113/128\n"
          ],
          "name": "stderr"
        },
        {
          "output_type": "stream",
          "text": [
            "None\n"
          ],
          "name": "stdout"
        },
        {
          "output_type": "stream",
          "text": [
            "2021-07-16 05:50:32,546 - INFO: Save the snapshot model with index: 2\n",
            "2021-07-16 05:50:33,458 - INFO: n_estimators: 3 | Validation Acc: 73.103 % | Historical Best: 73.103 %\n",
            "2021-07-16 05:50:34,303 - INFO: lr: 0.10000 | Epoch: 042 | Batch: 000 | Loss: 0.39942 | Correct: 115/128\n"
          ],
          "name": "stderr"
        },
        {
          "output_type": "stream",
          "text": [
            "None\n"
          ],
          "name": "stdout"
        },
        {
          "output_type": "stream",
          "text": [
            "2021-07-16 05:50:50,631 - INFO: lr: 0.09875 | Epoch: 043 | Batch: 000 | Loss: 1.02316 | Correct: 88/128\n"
          ],
          "name": "stderr"
        },
        {
          "output_type": "stream",
          "text": [
            "None\n"
          ],
          "name": "stdout"
        },
        {
          "output_type": "stream",
          "text": [
            "2021-07-16 05:51:06,945 - INFO: lr: 0.09505 | Epoch: 044 | Batch: 000 | Loss: 1.07378 | Correct: 78/128\n"
          ],
          "name": "stderr"
        },
        {
          "output_type": "stream",
          "text": [
            "None\n"
          ],
          "name": "stdout"
        },
        {
          "output_type": "stream",
          "text": [
            "2021-07-16 05:51:23,264 - INFO: lr: 0.08909 | Epoch: 045 | Batch: 000 | Loss: 0.94008 | Correct: 92/128\n"
          ],
          "name": "stderr"
        },
        {
          "output_type": "stream",
          "text": [
            "None\n"
          ],
          "name": "stdout"
        },
        {
          "output_type": "stream",
          "text": [
            "2021-07-16 05:51:39,589 - INFO: lr: 0.08117 | Epoch: 046 | Batch: 000 | Loss: 0.68677 | Correct: 103/128\n"
          ],
          "name": "stderr"
        },
        {
          "output_type": "stream",
          "text": [
            "None\n"
          ],
          "name": "stdout"
        },
        {
          "output_type": "stream",
          "text": [
            "2021-07-16 05:51:55,925 - INFO: lr: 0.07169 | Epoch: 047 | Batch: 000 | Loss: 0.59259 | Correct: 104/128\n"
          ],
          "name": "stderr"
        },
        {
          "output_type": "stream",
          "text": [
            "None\n"
          ],
          "name": "stdout"
        },
        {
          "output_type": "stream",
          "text": [
            "2021-07-16 05:52:12,231 - INFO: lr: 0.06113 | Epoch: 048 | Batch: 000 | Loss: 0.48570 | Correct: 109/128\n"
          ],
          "name": "stderr"
        },
        {
          "output_type": "stream",
          "text": [
            "None\n"
          ],
          "name": "stdout"
        },
        {
          "output_type": "stream",
          "text": [
            "2021-07-16 05:52:28,567 - INFO: lr: 0.05000 | Epoch: 049 | Batch: 000 | Loss: 0.47030 | Correct: 109/128\n"
          ],
          "name": "stderr"
        },
        {
          "output_type": "stream",
          "text": [
            "None\n"
          ],
          "name": "stdout"
        },
        {
          "output_type": "stream",
          "text": [
            "2021-07-16 05:52:44,909 - INFO: lr: 0.03887 | Epoch: 050 | Batch: 000 | Loss: 0.40820 | Correct: 108/128\n"
          ],
          "name": "stderr"
        },
        {
          "output_type": "stream",
          "text": [
            "None\n"
          ],
          "name": "stdout"
        },
        {
          "output_type": "stream",
          "text": [
            "2021-07-16 05:53:01,202 - INFO: lr: 0.02831 | Epoch: 051 | Batch: 000 | Loss: 0.44514 | Correct: 111/128\n"
          ],
          "name": "stderr"
        },
        {
          "output_type": "stream",
          "text": [
            "None\n"
          ],
          "name": "stdout"
        },
        {
          "output_type": "stream",
          "text": [
            "2021-07-16 05:53:17,561 - INFO: lr: 0.01883 | Epoch: 052 | Batch: 000 | Loss: 0.37789 | Correct: 112/128\n"
          ],
          "name": "stderr"
        },
        {
          "output_type": "stream",
          "text": [
            "None\n"
          ],
          "name": "stdout"
        },
        {
          "output_type": "stream",
          "text": [
            "2021-07-16 05:53:33,914 - INFO: lr: 0.01091 | Epoch: 053 | Batch: 000 | Loss: 0.27747 | Correct: 120/128\n"
          ],
          "name": "stderr"
        },
        {
          "output_type": "stream",
          "text": [
            "None\n"
          ],
          "name": "stdout"
        },
        {
          "output_type": "stream",
          "text": [
            "2021-07-16 05:53:50,272 - INFO: lr: 0.00495 | Epoch: 054 | Batch: 000 | Loss: 0.32826 | Correct: 115/128\n"
          ],
          "name": "stderr"
        },
        {
          "output_type": "stream",
          "text": [
            "None\n"
          ],
          "name": "stdout"
        },
        {
          "output_type": "stream",
          "text": [
            "2021-07-16 05:54:06,614 - INFO: lr: 0.00125 | Epoch: 055 | Batch: 000 | Loss: 0.30374 | Correct: 115/128\n"
          ],
          "name": "stderr"
        },
        {
          "output_type": "stream",
          "text": [
            "None\n"
          ],
          "name": "stdout"
        },
        {
          "output_type": "stream",
          "text": [
            "2021-07-16 05:54:22,177 - INFO: Save the snapshot model with index: 3\n",
            "2021-07-16 05:54:23,182 - INFO: n_estimators: 4 | Validation Acc: 74.665 % | Historical Best: 74.665 %\n",
            "2021-07-16 05:54:24,005 - INFO: lr: 0.10000 | Epoch: 056 | Batch: 000 | Loss: 0.29293 | Correct: 118/128\n"
          ],
          "name": "stderr"
        },
        {
          "output_type": "stream",
          "text": [
            "None\n"
          ],
          "name": "stdout"
        },
        {
          "output_type": "stream",
          "text": [
            "2021-07-16 05:54:40,351 - INFO: lr: 0.09875 | Epoch: 057 | Batch: 000 | Loss: 0.94584 | Correct: 98/128\n"
          ],
          "name": "stderr"
        },
        {
          "output_type": "stream",
          "text": [
            "None\n"
          ],
          "name": "stdout"
        },
        {
          "output_type": "stream",
          "text": [
            "2021-07-16 05:54:56,663 - INFO: lr: 0.09505 | Epoch: 058 | Batch: 000 | Loss: 0.85169 | Correct: 93/128\n"
          ],
          "name": "stderr"
        },
        {
          "output_type": "stream",
          "text": [
            "None\n"
          ],
          "name": "stdout"
        },
        {
          "output_type": "stream",
          "text": [
            "2021-07-16 05:55:12,996 - INFO: lr: 0.08909 | Epoch: 059 | Batch: 000 | Loss: 0.52731 | Correct: 104/128\n"
          ],
          "name": "stderr"
        },
        {
          "output_type": "stream",
          "text": [
            "None\n"
          ],
          "name": "stdout"
        },
        {
          "output_type": "stream",
          "text": [
            "2021-07-16 05:55:29,349 - INFO: lr: 0.08117 | Epoch: 060 | Batch: 000 | Loss: 0.36213 | Correct: 114/128\n"
          ],
          "name": "stderr"
        },
        {
          "output_type": "stream",
          "text": [
            "None\n"
          ],
          "name": "stdout"
        },
        {
          "output_type": "stream",
          "text": [
            "2021-07-16 05:55:45,691 - INFO: lr: 0.07169 | Epoch: 061 | Batch: 000 | Loss: 0.52676 | Correct: 108/128\n"
          ],
          "name": "stderr"
        },
        {
          "output_type": "stream",
          "text": [
            "None\n"
          ],
          "name": "stdout"
        },
        {
          "output_type": "stream",
          "text": [
            "2021-07-16 05:56:01,978 - INFO: lr: 0.06113 | Epoch: 062 | Batch: 000 | Loss: 0.34309 | Correct: 116/128\n"
          ],
          "name": "stderr"
        },
        {
          "output_type": "stream",
          "text": [
            "None\n"
          ],
          "name": "stdout"
        },
        {
          "output_type": "stream",
          "text": [
            "2021-07-16 05:56:18,304 - INFO: lr: 0.05000 | Epoch: 063 | Batch: 000 | Loss: 0.24077 | Correct: 117/128\n"
          ],
          "name": "stderr"
        },
        {
          "output_type": "stream",
          "text": [
            "None\n"
          ],
          "name": "stdout"
        },
        {
          "output_type": "stream",
          "text": [
            "2021-07-16 05:56:34,649 - INFO: lr: 0.03887 | Epoch: 064 | Batch: 000 | Loss: 0.33706 | Correct: 115/128\n"
          ],
          "name": "stderr"
        },
        {
          "output_type": "stream",
          "text": [
            "None\n"
          ],
          "name": "stdout"
        },
        {
          "output_type": "stream",
          "text": [
            "2021-07-16 05:56:51,033 - INFO: lr: 0.02831 | Epoch: 065 | Batch: 000 | Loss: 0.16674 | Correct: 124/128\n"
          ],
          "name": "stderr"
        },
        {
          "output_type": "stream",
          "text": [
            "None\n"
          ],
          "name": "stdout"
        },
        {
          "output_type": "stream",
          "text": [
            "2021-07-16 05:57:07,371 - INFO: lr: 0.01883 | Epoch: 066 | Batch: 000 | Loss: 0.21992 | Correct: 118/128\n"
          ],
          "name": "stderr"
        },
        {
          "output_type": "stream",
          "text": [
            "None\n"
          ],
          "name": "stdout"
        },
        {
          "output_type": "stream",
          "text": [
            "2021-07-16 05:57:23,737 - INFO: lr: 0.01091 | Epoch: 067 | Batch: 000 | Loss: 0.26261 | Correct: 119/128\n"
          ],
          "name": "stderr"
        },
        {
          "output_type": "stream",
          "text": [
            "None\n"
          ],
          "name": "stdout"
        },
        {
          "output_type": "stream",
          "text": [
            "2021-07-16 05:57:40,096 - INFO: lr: 0.00495 | Epoch: 068 | Batch: 000 | Loss: 0.16422 | Correct: 122/128\n"
          ],
          "name": "stderr"
        },
        {
          "output_type": "stream",
          "text": [
            "None\n"
          ],
          "name": "stdout"
        },
        {
          "output_type": "stream",
          "text": [
            "2021-07-16 05:57:56,423 - INFO: lr: 0.00125 | Epoch: 069 | Batch: 000 | Loss: 0.14525 | Correct: 125/128\n"
          ],
          "name": "stderr"
        },
        {
          "output_type": "stream",
          "text": [
            "None\n"
          ],
          "name": "stdout"
        },
        {
          "output_type": "stream",
          "text": [
            "2021-07-16 05:58:11,991 - INFO: Save the snapshot model with index: 4\n",
            "2021-07-16 05:58:13,123 - INFO: n_estimators: 5 | Validation Acc: 74.554 % | Historical Best: 74.665 %\n"
          ],
          "name": "stderr"
        },
        {
          "output_type": "stream",
          "text": [
            "Group 3 Finished!\n",
            "Target number of exemplars: 66\n",
            "Randomly extracting exemplars from class 0 of current split... Extracted 66 exemplars.\n",
            "Randomly extracting exemplars from class 1 of current split... Extracted 66 exemplars.\n",
            "Randomly extracting exemplars from class 2 of current split... Extracted 66 exemplars.\n",
            "Randomly extracting exemplars from class 3 of current split... Extracted 66 exemplars.\n",
            "Randomly extracting exemplars from class 4 of current split... Extracted 66 exemplars.\n",
            "Randomly extracting exemplars from class 5 of current split... Extracted 66 exemplars.\n",
            "Randomly extracting exemplars from class 6 of current split... Extracted 66 exemplars.\n",
            "Randomly extracting exemplars from class 7 of current split... Extracted 66 exemplars.\n",
            "Randomly extracting exemplars from class 8 of current split... Extracted 66 exemplars.\n",
            "Randomly extracting exemplars from class 9 of current split... Extracted 66 exemplars.\n",
            "[0.1463961693548387, 0.3116935483870968, 0.5319052419354838, 0.6538558467741935, 0.8281754032258064, 0.8994959677419355, 0.9582157258064516]\n",
            "[0.5648777173913043, 0.5302309782608695, 0.4470108695652174, 0.38247282608695654, 0.2296195652173913, 0.15455163043478262, 0.06997282608695653]\n",
            "Testing on both open and closed world\n",
            "owr harmonic mean (threshold:0.25) = 0.23266369408775892\n",
            "owr harmonic mean (threshold:0.35) = 0.39270623832733875\n",
            "owr harmonic mean (threshold:0.5) = 0.485877667706743\n",
            "owr harmonic mean (threshold:0.6) = 0.48273770516333026\n",
            "owr harmonic mean (threshold:0.75) = 0.3596823636869821\n",
            "owr harmonic mean (threshold:0.85) = 0.26393037723672536\n",
            "owr harmonic mean (threshold:0.95) = 0.13059634136765702\n",
            "\n",
            "=============================================\n",
            "\n",
            "Length of exemplars set: 1980\n"
          ],
          "name": "stdout"
        },
        {
          "output_type": "stream",
          "text": [
            "2021-07-16 05:58:51,869 - INFO: lr: 0.10000 | Epoch: 000 | Batch: 000 | Loss: 4.41926 | Correct: 0/128\n"
          ],
          "name": "stderr"
        },
        {
          "output_type": "stream",
          "text": [
            "None\n"
          ],
          "name": "stdout"
        },
        {
          "output_type": "stream",
          "text": [
            "2021-07-16 05:59:08,580 - INFO: lr: 0.09875 | Epoch: 001 | Batch: 000 | Loss: 2.89601 | Correct: 35/128\n"
          ],
          "name": "stderr"
        },
        {
          "output_type": "stream",
          "text": [
            "None\n"
          ],
          "name": "stdout"
        },
        {
          "output_type": "stream",
          "text": [
            "2021-07-16 05:59:25,291 - INFO: lr: 0.09505 | Epoch: 002 | Batch: 000 | Loss: 2.66713 | Correct: 37/128\n"
          ],
          "name": "stderr"
        },
        {
          "output_type": "stream",
          "text": [
            "None\n"
          ],
          "name": "stdout"
        },
        {
          "output_type": "stream",
          "text": [
            "2021-07-16 05:59:42,026 - INFO: lr: 0.08909 | Epoch: 003 | Batch: 000 | Loss: 2.59975 | Correct: 33/128\n"
          ],
          "name": "stderr"
        },
        {
          "output_type": "stream",
          "text": [
            "None\n"
          ],
          "name": "stdout"
        },
        {
          "output_type": "stream",
          "text": [
            "2021-07-16 05:59:58,741 - INFO: lr: 0.08117 | Epoch: 004 | Batch: 000 | Loss: 2.53702 | Correct: 42/128\n"
          ],
          "name": "stderr"
        },
        {
          "output_type": "stream",
          "text": [
            "None\n"
          ],
          "name": "stdout"
        },
        {
          "output_type": "stream",
          "text": [
            "2021-07-16 06:00:15,444 - INFO: lr: 0.07169 | Epoch: 005 | Batch: 000 | Loss: 2.08914 | Correct: 51/128\n"
          ],
          "name": "stderr"
        },
        {
          "output_type": "stream",
          "text": [
            "None\n"
          ],
          "name": "stdout"
        },
        {
          "output_type": "stream",
          "text": [
            "2021-07-16 06:00:32,144 - INFO: lr: 0.06113 | Epoch: 006 | Batch: 000 | Loss: 2.20718 | Correct: 46/128\n"
          ],
          "name": "stderr"
        },
        {
          "output_type": "stream",
          "text": [
            "None\n"
          ],
          "name": "stdout"
        },
        {
          "output_type": "stream",
          "text": [
            "2021-07-16 06:00:48,873 - INFO: lr: 0.05000 | Epoch: 007 | Batch: 000 | Loss: 2.19310 | Correct: 50/128\n"
          ],
          "name": "stderr"
        },
        {
          "output_type": "stream",
          "text": [
            "None\n"
          ],
          "name": "stdout"
        },
        {
          "output_type": "stream",
          "text": [
            "2021-07-16 06:01:05,599 - INFO: lr: 0.03887 | Epoch: 008 | Batch: 000 | Loss: 1.92309 | Correct: 50/128\n"
          ],
          "name": "stderr"
        },
        {
          "output_type": "stream",
          "text": [
            "None\n"
          ],
          "name": "stdout"
        },
        {
          "output_type": "stream",
          "text": [
            "2021-07-16 06:01:22,348 - INFO: lr: 0.02831 | Epoch: 009 | Batch: 000 | Loss: 1.89918 | Correct: 63/128\n"
          ],
          "name": "stderr"
        },
        {
          "output_type": "stream",
          "text": [
            "None\n"
          ],
          "name": "stdout"
        },
        {
          "output_type": "stream",
          "text": [
            "2021-07-16 06:01:39,038 - INFO: lr: 0.01883 | Epoch: 010 | Batch: 000 | Loss: 1.82114 | Correct: 66/128\n"
          ],
          "name": "stderr"
        },
        {
          "output_type": "stream",
          "text": [
            "None\n"
          ],
          "name": "stdout"
        },
        {
          "output_type": "stream",
          "text": [
            "2021-07-16 06:01:55,789 - INFO: lr: 0.01091 | Epoch: 011 | Batch: 000 | Loss: 1.52861 | Correct: 78/128\n"
          ],
          "name": "stderr"
        },
        {
          "output_type": "stream",
          "text": [
            "None\n"
          ],
          "name": "stdout"
        },
        {
          "output_type": "stream",
          "text": [
            "2021-07-16 06:02:12,523 - INFO: lr: 0.00495 | Epoch: 012 | Batch: 000 | Loss: 1.46234 | Correct: 76/128\n"
          ],
          "name": "stderr"
        },
        {
          "output_type": "stream",
          "text": [
            "None\n"
          ],
          "name": "stdout"
        },
        {
          "output_type": "stream",
          "text": [
            "2021-07-16 06:02:29,294 - INFO: lr: 0.00125 | Epoch: 013 | Batch: 000 | Loss: 1.73304 | Correct: 65/128\n"
          ],
          "name": "stderr"
        },
        {
          "output_type": "stream",
          "text": [
            "None\n"
          ],
          "name": "stdout"
        },
        {
          "output_type": "stream",
          "text": [
            "2021-07-16 06:02:45,230 - INFO: Save the snapshot model with index: 0\n",
            "2021-07-16 06:02:45,895 - INFO: n_estimators: 1 | Validation Acc: 63.504 % | Historical Best: 63.504 %\n",
            "2021-07-16 06:02:46,773 - INFO: lr: 0.10000 | Epoch: 014 | Batch: 000 | Loss: 1.41963 | Correct: 81/128\n"
          ],
          "name": "stderr"
        },
        {
          "output_type": "stream",
          "text": [
            "None\n"
          ],
          "name": "stdout"
        },
        {
          "output_type": "stream",
          "text": [
            "2021-07-16 06:03:03,514 - INFO: lr: 0.09875 | Epoch: 015 | Batch: 000 | Loss: 2.00340 | Correct: 56/128\n"
          ],
          "name": "stderr"
        },
        {
          "output_type": "stream",
          "text": [
            "None\n"
          ],
          "name": "stdout"
        },
        {
          "output_type": "stream",
          "text": [
            "2021-07-16 06:03:20,299 - INFO: lr: 0.09505 | Epoch: 016 | Batch: 000 | Loss: 1.49022 | Correct: 80/128\n"
          ],
          "name": "stderr"
        },
        {
          "output_type": "stream",
          "text": [
            "None\n"
          ],
          "name": "stdout"
        },
        {
          "output_type": "stream",
          "text": [
            "2021-07-16 06:03:37,071 - INFO: lr: 0.08909 | Epoch: 017 | Batch: 000 | Loss: 1.80456 | Correct: 68/128\n"
          ],
          "name": "stderr"
        },
        {
          "output_type": "stream",
          "text": [
            "None\n"
          ],
          "name": "stdout"
        },
        {
          "output_type": "stream",
          "text": [
            "2021-07-16 06:03:53,818 - INFO: lr: 0.08117 | Epoch: 018 | Batch: 000 | Loss: 1.71632 | Correct: 61/128\n"
          ],
          "name": "stderr"
        },
        {
          "output_type": "stream",
          "text": [
            "None\n"
          ],
          "name": "stdout"
        },
        {
          "output_type": "stream",
          "text": [
            "2021-07-16 06:04:10,543 - INFO: lr: 0.07169 | Epoch: 019 | Batch: 000 | Loss: 1.56226 | Correct: 76/128\n"
          ],
          "name": "stderr"
        },
        {
          "output_type": "stream",
          "text": [
            "None\n"
          ],
          "name": "stdout"
        },
        {
          "output_type": "stream",
          "text": [
            "2021-07-16 06:04:27,286 - INFO: lr: 0.06113 | Epoch: 020 | Batch: 000 | Loss: 1.62899 | Correct: 70/128\n"
          ],
          "name": "stderr"
        },
        {
          "output_type": "stream",
          "text": [
            "None\n"
          ],
          "name": "stdout"
        },
        {
          "output_type": "stream",
          "text": [
            "2021-07-16 06:04:44,015 - INFO: lr: 0.05000 | Epoch: 021 | Batch: 000 | Loss: 1.27388 | Correct: 82/128\n"
          ],
          "name": "stderr"
        },
        {
          "output_type": "stream",
          "text": [
            "None\n"
          ],
          "name": "stdout"
        },
        {
          "output_type": "stream",
          "text": [
            "2021-07-16 06:05:00,759 - INFO: lr: 0.03887 | Epoch: 022 | Batch: 000 | Loss: 1.47874 | Correct: 71/128\n"
          ],
          "name": "stderr"
        },
        {
          "output_type": "stream",
          "text": [
            "None\n"
          ],
          "name": "stdout"
        },
        {
          "output_type": "stream",
          "text": [
            "2021-07-16 06:05:17,486 - INFO: lr: 0.02831 | Epoch: 023 | Batch: 000 | Loss: 1.25016 | Correct: 77/128\n"
          ],
          "name": "stderr"
        },
        {
          "output_type": "stream",
          "text": [
            "None\n"
          ],
          "name": "stdout"
        },
        {
          "output_type": "stream",
          "text": [
            "2021-07-16 06:05:34,200 - INFO: lr: 0.01883 | Epoch: 024 | Batch: 000 | Loss: 1.20684 | Correct: 85/128\n"
          ],
          "name": "stderr"
        },
        {
          "output_type": "stream",
          "text": [
            "None\n"
          ],
          "name": "stdout"
        },
        {
          "output_type": "stream",
          "text": [
            "2021-07-16 06:05:50,884 - INFO: lr: 0.01091 | Epoch: 025 | Batch: 000 | Loss: 1.12080 | Correct: 82/128\n"
          ],
          "name": "stderr"
        },
        {
          "output_type": "stream",
          "text": [
            "None\n"
          ],
          "name": "stdout"
        },
        {
          "output_type": "stream",
          "text": [
            "2021-07-16 06:06:07,628 - INFO: lr: 0.00495 | Epoch: 026 | Batch: 000 | Loss: 0.99855 | Correct: 92/128\n"
          ],
          "name": "stderr"
        },
        {
          "output_type": "stream",
          "text": [
            "None\n"
          ],
          "name": "stdout"
        },
        {
          "output_type": "stream",
          "text": [
            "2021-07-16 06:06:24,324 - INFO: lr: 0.00125 | Epoch: 027 | Batch: 000 | Loss: 0.93422 | Correct: 94/128\n"
          ],
          "name": "stderr"
        },
        {
          "output_type": "stream",
          "text": [
            "None\n"
          ],
          "name": "stdout"
        },
        {
          "output_type": "stream",
          "text": [
            "2021-07-16 06:06:40,225 - INFO: Save the snapshot model with index: 1\n",
            "2021-07-16 06:06:40,984 - INFO: n_estimators: 2 | Validation Acc: 71.317 % | Historical Best: 71.317 %\n",
            "2021-07-16 06:06:41,834 - INFO: lr: 0.10000 | Epoch: 028 | Batch: 000 | Loss: 1.21548 | Correct: 80/128\n"
          ],
          "name": "stderr"
        },
        {
          "output_type": "stream",
          "text": [
            "None\n"
          ],
          "name": "stdout"
        },
        {
          "output_type": "stream",
          "text": [
            "2021-07-16 06:06:58,587 - INFO: lr: 0.09875 | Epoch: 029 | Batch: 000 | Loss: 1.43800 | Correct: 74/128\n"
          ],
          "name": "stderr"
        },
        {
          "output_type": "stream",
          "text": [
            "None\n"
          ],
          "name": "stdout"
        },
        {
          "output_type": "stream",
          "text": [
            "2021-07-16 06:07:15,359 - INFO: lr: 0.09505 | Epoch: 030 | Batch: 000 | Loss: 1.49935 | Correct: 71/128\n"
          ],
          "name": "stderr"
        },
        {
          "output_type": "stream",
          "text": [
            "None\n"
          ],
          "name": "stdout"
        },
        {
          "output_type": "stream",
          "text": [
            "2021-07-16 06:07:32,088 - INFO: lr: 0.08909 | Epoch: 031 | Batch: 000 | Loss: 1.38498 | Correct: 72/128\n"
          ],
          "name": "stderr"
        },
        {
          "output_type": "stream",
          "text": [
            "None\n"
          ],
          "name": "stdout"
        },
        {
          "output_type": "stream",
          "text": [
            "2021-07-16 06:07:48,830 - INFO: lr: 0.08117 | Epoch: 032 | Batch: 000 | Loss: 1.46432 | Correct: 76/128\n"
          ],
          "name": "stderr"
        },
        {
          "output_type": "stream",
          "text": [
            "None\n"
          ],
          "name": "stdout"
        },
        {
          "output_type": "stream",
          "text": [
            "2021-07-16 06:08:05,532 - INFO: lr: 0.07169 | Epoch: 033 | Batch: 000 | Loss: 1.08103 | Correct: 85/128\n"
          ],
          "name": "stderr"
        },
        {
          "output_type": "stream",
          "text": [
            "None\n"
          ],
          "name": "stdout"
        },
        {
          "output_type": "stream",
          "text": [
            "2021-07-16 06:08:22,304 - INFO: lr: 0.06113 | Epoch: 034 | Batch: 000 | Loss: 1.20645 | Correct: 90/128\n"
          ],
          "name": "stderr"
        },
        {
          "output_type": "stream",
          "text": [
            "None\n"
          ],
          "name": "stdout"
        },
        {
          "output_type": "stream",
          "text": [
            "2021-07-16 06:08:38,987 - INFO: lr: 0.05000 | Epoch: 035 | Batch: 000 | Loss: 0.88255 | Correct: 93/128\n"
          ],
          "name": "stderr"
        },
        {
          "output_type": "stream",
          "text": [
            "None\n"
          ],
          "name": "stdout"
        },
        {
          "output_type": "stream",
          "text": [
            "2021-07-16 06:08:55,686 - INFO: lr: 0.03887 | Epoch: 036 | Batch: 000 | Loss: 0.98274 | Correct: 89/128\n"
          ],
          "name": "stderr"
        },
        {
          "output_type": "stream",
          "text": [
            "None\n"
          ],
          "name": "stdout"
        },
        {
          "output_type": "stream",
          "text": [
            "2021-07-16 06:09:12,410 - INFO: lr: 0.02831 | Epoch: 037 | Batch: 000 | Loss: 0.81024 | Correct: 96/128\n"
          ],
          "name": "stderr"
        },
        {
          "output_type": "stream",
          "text": [
            "None\n"
          ],
          "name": "stdout"
        },
        {
          "output_type": "stream",
          "text": [
            "2021-07-16 06:09:29,182 - INFO: lr: 0.01883 | Epoch: 038 | Batch: 000 | Loss: 0.69337 | Correct: 102/128\n"
          ],
          "name": "stderr"
        },
        {
          "output_type": "stream",
          "text": [
            "None\n"
          ],
          "name": "stdout"
        },
        {
          "output_type": "stream",
          "text": [
            "2021-07-16 06:09:45,881 - INFO: lr: 0.01091 | Epoch: 039 | Batch: 000 | Loss: 0.77508 | Correct: 98/128\n"
          ],
          "name": "stderr"
        },
        {
          "output_type": "stream",
          "text": [
            "None\n"
          ],
          "name": "stdout"
        },
        {
          "output_type": "stream",
          "text": [
            "2021-07-16 06:10:02,688 - INFO: lr: 0.00495 | Epoch: 040 | Batch: 000 | Loss: 0.73085 | Correct: 98/128\n"
          ],
          "name": "stderr"
        },
        {
          "output_type": "stream",
          "text": [
            "None\n"
          ],
          "name": "stdout"
        },
        {
          "output_type": "stream",
          "text": [
            "2021-07-16 06:10:19,413 - INFO: lr: 0.00125 | Epoch: 041 | Batch: 000 | Loss: 0.70812 | Correct: 104/128\n"
          ],
          "name": "stderr"
        },
        {
          "output_type": "stream",
          "text": [
            "None\n"
          ],
          "name": "stdout"
        },
        {
          "output_type": "stream",
          "text": [
            "2021-07-16 06:10:35,318 - INFO: Save the snapshot model with index: 2\n",
            "2021-07-16 06:10:36,191 - INFO: n_estimators: 3 | Validation Acc: 73.661 % | Historical Best: 73.661 %\n",
            "2021-07-16 06:10:37,060 - INFO: lr: 0.10000 | Epoch: 042 | Batch: 000 | Loss: 0.73960 | Correct: 101/128\n"
          ],
          "name": "stderr"
        },
        {
          "output_type": "stream",
          "text": [
            "None\n"
          ],
          "name": "stdout"
        },
        {
          "output_type": "stream",
          "text": [
            "2021-07-16 06:10:53,790 - INFO: lr: 0.09875 | Epoch: 043 | Batch: 000 | Loss: 1.48379 | Correct: 69/128\n"
          ],
          "name": "stderr"
        },
        {
          "output_type": "stream",
          "text": [
            "None\n"
          ],
          "name": "stdout"
        },
        {
          "output_type": "stream",
          "text": [
            "2021-07-16 06:11:10,539 - INFO: lr: 0.09505 | Epoch: 044 | Batch: 000 | Loss: 1.25541 | Correct: 77/128\n"
          ],
          "name": "stderr"
        },
        {
          "output_type": "stream",
          "text": [
            "None\n"
          ],
          "name": "stdout"
        },
        {
          "output_type": "stream",
          "text": [
            "2021-07-16 06:11:27,268 - INFO: lr: 0.08909 | Epoch: 045 | Batch: 000 | Loss: 1.21586 | Correct: 83/128\n"
          ],
          "name": "stderr"
        },
        {
          "output_type": "stream",
          "text": [
            "None\n"
          ],
          "name": "stdout"
        },
        {
          "output_type": "stream",
          "text": [
            "2021-07-16 06:11:44,028 - INFO: lr: 0.08117 | Epoch: 046 | Batch: 000 | Loss: 0.82397 | Correct: 92/128\n"
          ],
          "name": "stderr"
        },
        {
          "output_type": "stream",
          "text": [
            "None\n"
          ],
          "name": "stdout"
        },
        {
          "output_type": "stream",
          "text": [
            "2021-07-16 06:12:00,747 - INFO: lr: 0.07169 | Epoch: 047 | Batch: 000 | Loss: 0.82114 | Correct: 95/128\n"
          ],
          "name": "stderr"
        },
        {
          "output_type": "stream",
          "text": [
            "None\n"
          ],
          "name": "stdout"
        },
        {
          "output_type": "stream",
          "text": [
            "2021-07-16 06:12:17,545 - INFO: lr: 0.06113 | Epoch: 048 | Batch: 000 | Loss: 0.61304 | Correct: 102/128\n"
          ],
          "name": "stderr"
        },
        {
          "output_type": "stream",
          "text": [
            "None\n"
          ],
          "name": "stdout"
        },
        {
          "output_type": "stream",
          "text": [
            "2021-07-16 06:12:34,261 - INFO: lr: 0.05000 | Epoch: 049 | Batch: 000 | Loss: 0.64142 | Correct: 103/128\n"
          ],
          "name": "stderr"
        },
        {
          "output_type": "stream",
          "text": [
            "None\n"
          ],
          "name": "stdout"
        },
        {
          "output_type": "stream",
          "text": [
            "2021-07-16 06:12:50,975 - INFO: lr: 0.03887 | Epoch: 050 | Batch: 000 | Loss: 0.57714 | Correct: 107/128\n"
          ],
          "name": "stderr"
        },
        {
          "output_type": "stream",
          "text": [
            "None\n"
          ],
          "name": "stdout"
        },
        {
          "output_type": "stream",
          "text": [
            "2021-07-16 06:13:07,725 - INFO: lr: 0.02831 | Epoch: 051 | Batch: 000 | Loss: 0.45284 | Correct: 110/128\n"
          ],
          "name": "stderr"
        },
        {
          "output_type": "stream",
          "text": [
            "None\n"
          ],
          "name": "stdout"
        },
        {
          "output_type": "stream",
          "text": [
            "2021-07-16 06:13:24,532 - INFO: lr: 0.01883 | Epoch: 052 | Batch: 000 | Loss: 0.34303 | Correct: 120/128\n"
          ],
          "name": "stderr"
        },
        {
          "output_type": "stream",
          "text": [
            "None\n"
          ],
          "name": "stdout"
        },
        {
          "output_type": "stream",
          "text": [
            "2021-07-16 06:13:41,314 - INFO: lr: 0.01091 | Epoch: 053 | Batch: 000 | Loss: 0.38811 | Correct: 114/128\n"
          ],
          "name": "stderr"
        },
        {
          "output_type": "stream",
          "text": [
            "None\n"
          ],
          "name": "stdout"
        },
        {
          "output_type": "stream",
          "text": [
            "2021-07-16 06:13:58,036 - INFO: lr: 0.00495 | Epoch: 054 | Batch: 000 | Loss: 0.39941 | Correct: 115/128\n"
          ],
          "name": "stderr"
        },
        {
          "output_type": "stream",
          "text": [
            "None\n"
          ],
          "name": "stdout"
        },
        {
          "output_type": "stream",
          "text": [
            "2021-07-16 06:14:14,749 - INFO: lr: 0.00125 | Epoch: 055 | Batch: 000 | Loss: 0.41405 | Correct: 110/128\n"
          ],
          "name": "stderr"
        },
        {
          "output_type": "stream",
          "text": [
            "None\n"
          ],
          "name": "stdout"
        },
        {
          "output_type": "stream",
          "text": [
            "2021-07-16 06:14:30,656 - INFO: Save the snapshot model with index: 3\n",
            "2021-07-16 06:14:31,675 - INFO: n_estimators: 4 | Validation Acc: 73.549 % | Historical Best: 73.661 %\n",
            "2021-07-16 06:14:32,532 - INFO: lr: 0.10000 | Epoch: 056 | Batch: 000 | Loss: 0.34821 | Correct: 115/128\n"
          ],
          "name": "stderr"
        },
        {
          "output_type": "stream",
          "text": [
            "None\n"
          ],
          "name": "stdout"
        },
        {
          "output_type": "stream",
          "text": [
            "2021-07-16 06:14:49,200 - INFO: lr: 0.09875 | Epoch: 057 | Batch: 000 | Loss: 1.23573 | Correct: 85/128\n"
          ],
          "name": "stderr"
        },
        {
          "output_type": "stream",
          "text": [
            "None\n"
          ],
          "name": "stdout"
        },
        {
          "output_type": "stream",
          "text": [
            "2021-07-16 06:15:05,894 - INFO: lr: 0.09505 | Epoch: 058 | Batch: 000 | Loss: 1.01672 | Correct: 92/128\n"
          ],
          "name": "stderr"
        },
        {
          "output_type": "stream",
          "text": [
            "None\n"
          ],
          "name": "stdout"
        },
        {
          "output_type": "stream",
          "text": [
            "2021-07-16 06:15:22,673 - INFO: lr: 0.08909 | Epoch: 059 | Batch: 000 | Loss: 0.89472 | Correct: 92/128\n"
          ],
          "name": "stderr"
        },
        {
          "output_type": "stream",
          "text": [
            "None\n"
          ],
          "name": "stdout"
        },
        {
          "output_type": "stream",
          "text": [
            "2021-07-16 06:15:39,386 - INFO: lr: 0.08117 | Epoch: 060 | Batch: 000 | Loss: 0.54344 | Correct: 109/128\n"
          ],
          "name": "stderr"
        },
        {
          "output_type": "stream",
          "text": [
            "None\n"
          ],
          "name": "stdout"
        },
        {
          "output_type": "stream",
          "text": [
            "2021-07-16 06:15:56,087 - INFO: lr: 0.07169 | Epoch: 061 | Batch: 000 | Loss: 0.66153 | Correct: 102/128\n"
          ],
          "name": "stderr"
        },
        {
          "output_type": "stream",
          "text": [
            "None\n"
          ],
          "name": "stdout"
        },
        {
          "output_type": "stream",
          "text": [
            "2021-07-16 06:16:12,825 - INFO: lr: 0.06113 | Epoch: 062 | Batch: 000 | Loss: 0.56519 | Correct: 104/128\n"
          ],
          "name": "stderr"
        },
        {
          "output_type": "stream",
          "text": [
            "None\n"
          ],
          "name": "stdout"
        },
        {
          "output_type": "stream",
          "text": [
            "2021-07-16 06:16:29,539 - INFO: lr: 0.05000 | Epoch: 063 | Batch: 000 | Loss: 0.46123 | Correct: 111/128\n"
          ],
          "name": "stderr"
        },
        {
          "output_type": "stream",
          "text": [
            "None\n"
          ],
          "name": "stdout"
        },
        {
          "output_type": "stream",
          "text": [
            "2021-07-16 06:16:46,246 - INFO: lr: 0.03887 | Epoch: 064 | Batch: 000 | Loss: 0.38355 | Correct: 114/128\n"
          ],
          "name": "stderr"
        },
        {
          "output_type": "stream",
          "text": [
            "None\n"
          ],
          "name": "stdout"
        },
        {
          "output_type": "stream",
          "text": [
            "2021-07-16 06:17:02,954 - INFO: lr: 0.02831 | Epoch: 065 | Batch: 000 | Loss: 0.31165 | Correct: 114/128\n"
          ],
          "name": "stderr"
        },
        {
          "output_type": "stream",
          "text": [
            "None\n"
          ],
          "name": "stdout"
        },
        {
          "output_type": "stream",
          "text": [
            "2021-07-16 06:17:19,686 - INFO: lr: 0.01883 | Epoch: 066 | Batch: 000 | Loss: 0.28732 | Correct: 118/128\n"
          ],
          "name": "stderr"
        },
        {
          "output_type": "stream",
          "text": [
            "None\n"
          ],
          "name": "stdout"
        },
        {
          "output_type": "stream",
          "text": [
            "2021-07-16 06:17:36,414 - INFO: lr: 0.01091 | Epoch: 067 | Batch: 000 | Loss: 0.28724 | Correct: 116/128\n"
          ],
          "name": "stderr"
        },
        {
          "output_type": "stream",
          "text": [
            "None\n"
          ],
          "name": "stdout"
        },
        {
          "output_type": "stream",
          "text": [
            "2021-07-16 06:17:53,113 - INFO: lr: 0.00495 | Epoch: 068 | Batch: 000 | Loss: 0.19360 | Correct: 124/128\n"
          ],
          "name": "stderr"
        },
        {
          "output_type": "stream",
          "text": [
            "None\n"
          ],
          "name": "stdout"
        },
        {
          "output_type": "stream",
          "text": [
            "2021-07-16 06:18:09,824 - INFO: lr: 0.00125 | Epoch: 069 | Batch: 000 | Loss: 0.25608 | Correct: 120/128\n"
          ],
          "name": "stderr"
        },
        {
          "output_type": "stream",
          "text": [
            "None\n"
          ],
          "name": "stdout"
        },
        {
          "output_type": "stream",
          "text": [
            "2021-07-16 06:18:25,730 - INFO: Save the snapshot model with index: 4\n",
            "2021-07-16 06:18:26,832 - INFO: n_estimators: 5 | Validation Acc: 76.339 % | Historical Best: 76.339 %\n"
          ],
          "name": "stderr"
        },
        {
          "output_type": "stream",
          "text": [
            "Group 4 Finished!\n",
            "Target number of exemplars: 50\n",
            "Randomly extracting exemplars from class 0 of current split... Extracted 50 exemplars.\n",
            "Randomly extracting exemplars from class 1 of current split... Extracted 50 exemplars.\n",
            "Randomly extracting exemplars from class 2 of current split... Extracted 50 exemplars.\n",
            "Randomly extracting exemplars from class 3 of current split... Extracted 50 exemplars.\n",
            "Randomly extracting exemplars from class 4 of current split... Extracted 50 exemplars.\n",
            "Randomly extracting exemplars from class 5 of current split... Extracted 50 exemplars.\n",
            "Randomly extracting exemplars from class 6 of current split... Extracted 50 exemplars.\n",
            "Randomly extracting exemplars from class 7 of current split... Extracted 50 exemplars.\n",
            "Randomly extracting exemplars from class 8 of current split... Extracted 50 exemplars.\n",
            "Randomly extracting exemplars from class 9 of current split... Extracted 50 exemplars.\n",
            "[0.17953629032258064, 0.36174395161290324, 0.5952872983870968, 0.7169102822580645, 0.871320564516129, 0.9289314516129032, 0.9674647177419354]\n",
            "[0.4548891129032258, 0.4085181451612903, 0.31955645161290325, 0.25882056451612906, 0.14390120967741934, 0.09047379032258064, 0.048639112903225805]\n",
            "Testing on both open and closed world\n",
            "owr harmonic mean (threshold:0.25) = 0.25757732345301654\n",
            "owr harmonic mean (threshold:0.35) = 0.38381123475105805\n",
            "owr harmonic mean (threshold:0.5) = 0.4159787794579487\n",
            "owr harmonic mean (threshold:0.6) = 0.3804546349974767\n",
            "owr harmonic mean (threshold:0.75) = 0.24715959144713706\n",
            "owr harmonic mean (threshold:0.85) = 0.16505584012443553\n",
            "owr harmonic mean (threshold:0.95) = 0.09280344046182608\n",
            "\n",
            "=============================================\n",
            "\n",
            "Length of exemplars set: 2000\n"
          ],
          "name": "stdout"
        },
        {
          "output_type": "stream",
          "text": [
            "2021-07-16 06:19:06,506 - INFO: lr: 0.10000 | Epoch: 000 | Batch: 000 | Loss: 5.31467 | Correct: 1/128\n"
          ],
          "name": "stderr"
        },
        {
          "output_type": "stream",
          "text": [
            "None\n"
          ],
          "name": "stdout"
        },
        {
          "output_type": "stream",
          "text": [
            "2021-07-16 06:19:23,591 - INFO: lr: 0.09875 | Epoch: 001 | Batch: 000 | Loss: 2.90258 | Correct: 28/128\n"
          ],
          "name": "stderr"
        },
        {
          "output_type": "stream",
          "text": [
            "None\n"
          ],
          "name": "stdout"
        },
        {
          "output_type": "stream",
          "text": [
            "2021-07-16 06:19:40,684 - INFO: lr: 0.09505 | Epoch: 002 | Batch: 000 | Loss: 2.66781 | Correct: 43/128\n"
          ],
          "name": "stderr"
        },
        {
          "output_type": "stream",
          "text": [
            "None\n"
          ],
          "name": "stdout"
        },
        {
          "output_type": "stream",
          "text": [
            "2021-07-16 06:19:57,766 - INFO: lr: 0.08909 | Epoch: 003 | Batch: 000 | Loss: 2.62951 | Correct: 39/128\n"
          ],
          "name": "stderr"
        },
        {
          "output_type": "stream",
          "text": [
            "None\n"
          ],
          "name": "stdout"
        },
        {
          "output_type": "stream",
          "text": [
            "2021-07-16 06:20:14,863 - INFO: lr: 0.08117 | Epoch: 004 | Batch: 000 | Loss: 2.67634 | Correct: 44/128\n"
          ],
          "name": "stderr"
        },
        {
          "output_type": "stream",
          "text": [
            "None\n"
          ],
          "name": "stdout"
        },
        {
          "output_type": "stream",
          "text": [
            "2021-07-16 06:20:31,988 - INFO: lr: 0.07169 | Epoch: 005 | Batch: 000 | Loss: 2.53721 | Correct: 39/128\n"
          ],
          "name": "stderr"
        },
        {
          "output_type": "stream",
          "text": [
            "None\n"
          ],
          "name": "stdout"
        },
        {
          "output_type": "stream",
          "text": [
            "2021-07-16 06:20:49,091 - INFO: lr: 0.06113 | Epoch: 006 | Batch: 000 | Loss: 2.11899 | Correct: 56/128\n"
          ],
          "name": "stderr"
        },
        {
          "output_type": "stream",
          "text": [
            "None\n"
          ],
          "name": "stdout"
        },
        {
          "output_type": "stream",
          "text": [
            "2021-07-16 06:21:06,221 - INFO: lr: 0.05000 | Epoch: 007 | Batch: 000 | Loss: 2.08692 | Correct: 56/128\n"
          ],
          "name": "stderr"
        },
        {
          "output_type": "stream",
          "text": [
            "None\n"
          ],
          "name": "stdout"
        },
        {
          "output_type": "stream",
          "text": [
            "2021-07-16 06:21:23,356 - INFO: lr: 0.03887 | Epoch: 008 | Batch: 000 | Loss: 1.93643 | Correct: 65/128\n"
          ],
          "name": "stderr"
        },
        {
          "output_type": "stream",
          "text": [
            "None\n"
          ],
          "name": "stdout"
        },
        {
          "output_type": "stream",
          "text": [
            "2021-07-16 06:21:40,463 - INFO: lr: 0.02831 | Epoch: 009 | Batch: 000 | Loss: 2.25180 | Correct: 57/128\n"
          ],
          "name": "stderr"
        },
        {
          "output_type": "stream",
          "text": [
            "None\n"
          ],
          "name": "stdout"
        },
        {
          "output_type": "stream",
          "text": [
            "2021-07-16 06:21:57,570 - INFO: lr: 0.01883 | Epoch: 010 | Batch: 000 | Loss: 1.84660 | Correct: 72/128\n"
          ],
          "name": "stderr"
        },
        {
          "output_type": "stream",
          "text": [
            "None\n"
          ],
          "name": "stdout"
        },
        {
          "output_type": "stream",
          "text": [
            "2021-07-16 06:22:14,712 - INFO: lr: 0.01091 | Epoch: 011 | Batch: 000 | Loss: 1.67312 | Correct: 64/128\n"
          ],
          "name": "stderr"
        },
        {
          "output_type": "stream",
          "text": [
            "None\n"
          ],
          "name": "stdout"
        },
        {
          "output_type": "stream",
          "text": [
            "2021-07-16 06:22:31,830 - INFO: lr: 0.00495 | Epoch: 012 | Batch: 000 | Loss: 1.80812 | Correct: 66/128\n"
          ],
          "name": "stderr"
        },
        {
          "output_type": "stream",
          "text": [
            "None\n"
          ],
          "name": "stdout"
        },
        {
          "output_type": "stream",
          "text": [
            "2021-07-16 06:22:48,999 - INFO: lr: 0.00125 | Epoch: 013 | Batch: 000 | Loss: 1.71033 | Correct: 73/128\n"
          ],
          "name": "stderr"
        },
        {
          "output_type": "stream",
          "text": [
            "None\n"
          ],
          "name": "stdout"
        },
        {
          "output_type": "stream",
          "text": [
            "2021-07-16 06:23:05,272 - INFO: Save the snapshot model with index: 0\n",
            "2021-07-16 06:23:05,931 - INFO: n_estimators: 1 | Validation Acc: 66.518 % | Historical Best: 66.518 %\n",
            "2021-07-16 06:23:06,809 - INFO: lr: 0.10000 | Epoch: 014 | Batch: 000 | Loss: 1.64743 | Correct: 74/128\n"
          ],
          "name": "stderr"
        },
        {
          "output_type": "stream",
          "text": [
            "None\n"
          ],
          "name": "stdout"
        },
        {
          "output_type": "stream",
          "text": [
            "2021-07-16 06:23:23,962 - INFO: lr: 0.09875 | Epoch: 015 | Batch: 000 | Loss: 2.11532 | Correct: 57/128\n"
          ],
          "name": "stderr"
        },
        {
          "output_type": "stream",
          "text": [
            "None\n"
          ],
          "name": "stdout"
        },
        {
          "output_type": "stream",
          "text": [
            "2021-07-16 06:23:41,060 - INFO: lr: 0.09505 | Epoch: 016 | Batch: 000 | Loss: 1.89179 | Correct: 65/128\n"
          ],
          "name": "stderr"
        },
        {
          "output_type": "stream",
          "text": [
            "None\n"
          ],
          "name": "stdout"
        },
        {
          "output_type": "stream",
          "text": [
            "2021-07-16 06:23:58,148 - INFO: lr: 0.08909 | Epoch: 017 | Batch: 000 | Loss: 1.84251 | Correct: 64/128\n"
          ],
          "name": "stderr"
        },
        {
          "output_type": "stream",
          "text": [
            "None\n"
          ],
          "name": "stdout"
        },
        {
          "output_type": "stream",
          "text": [
            "2021-07-16 06:24:15,305 - INFO: lr: 0.08117 | Epoch: 018 | Batch: 000 | Loss: 1.74467 | Correct: 72/128\n"
          ],
          "name": "stderr"
        },
        {
          "output_type": "stream",
          "text": [
            "None\n"
          ],
          "name": "stdout"
        },
        {
          "output_type": "stream",
          "text": [
            "2021-07-16 06:24:32,435 - INFO: lr: 0.07169 | Epoch: 019 | Batch: 000 | Loss: 1.57211 | Correct: 64/128\n"
          ],
          "name": "stderr"
        },
        {
          "output_type": "stream",
          "text": [
            "None\n"
          ],
          "name": "stdout"
        },
        {
          "output_type": "stream",
          "text": [
            "2021-07-16 06:24:49,522 - INFO: lr: 0.06113 | Epoch: 020 | Batch: 000 | Loss: 1.48242 | Correct: 79/128\n"
          ],
          "name": "stderr"
        },
        {
          "output_type": "stream",
          "text": [
            "None\n"
          ],
          "name": "stdout"
        },
        {
          "output_type": "stream",
          "text": [
            "2021-07-16 06:25:06,632 - INFO: lr: 0.05000 | Epoch: 021 | Batch: 000 | Loss: 1.74640 | Correct: 61/128\n"
          ],
          "name": "stderr"
        },
        {
          "output_type": "stream",
          "text": [
            "None\n"
          ],
          "name": "stdout"
        },
        {
          "output_type": "stream",
          "text": [
            "2021-07-16 06:25:23,721 - INFO: lr: 0.03887 | Epoch: 022 | Batch: 000 | Loss: 1.32311 | Correct: 82/128\n"
          ],
          "name": "stderr"
        },
        {
          "output_type": "stream",
          "text": [
            "None\n"
          ],
          "name": "stdout"
        },
        {
          "output_type": "stream",
          "text": [
            "2021-07-16 06:25:40,840 - INFO: lr: 0.02831 | Epoch: 023 | Batch: 000 | Loss: 1.27296 | Correct: 88/128\n"
          ],
          "name": "stderr"
        },
        {
          "output_type": "stream",
          "text": [
            "None\n"
          ],
          "name": "stdout"
        },
        {
          "output_type": "stream",
          "text": [
            "2021-07-16 06:25:57,962 - INFO: lr: 0.01883 | Epoch: 024 | Batch: 000 | Loss: 1.20222 | Correct: 85/128\n"
          ],
          "name": "stderr"
        },
        {
          "output_type": "stream",
          "text": [
            "None\n"
          ],
          "name": "stdout"
        },
        {
          "output_type": "stream",
          "text": [
            "2021-07-16 06:26:15,059 - INFO: lr: 0.01091 | Epoch: 025 | Batch: 000 | Loss: 1.27529 | Correct: 88/128\n"
          ],
          "name": "stderr"
        },
        {
          "output_type": "stream",
          "text": [
            "None\n"
          ],
          "name": "stdout"
        },
        {
          "output_type": "stream",
          "text": [
            "2021-07-16 06:26:32,192 - INFO: lr: 0.00495 | Epoch: 026 | Batch: 000 | Loss: 1.10437 | Correct: 90/128\n"
          ],
          "name": "stderr"
        },
        {
          "output_type": "stream",
          "text": [
            "None\n"
          ],
          "name": "stdout"
        },
        {
          "output_type": "stream",
          "text": [
            "2021-07-16 06:26:49,338 - INFO: lr: 0.00125 | Epoch: 027 | Batch: 000 | Loss: 1.32142 | Correct: 80/128\n"
          ],
          "name": "stderr"
        },
        {
          "output_type": "stream",
          "text": [
            "None\n"
          ],
          "name": "stdout"
        },
        {
          "output_type": "stream",
          "text": [
            "2021-07-16 06:27:05,670 - INFO: Save the snapshot model with index: 1\n",
            "2021-07-16 06:27:06,471 - INFO: n_estimators: 2 | Validation Acc: 72.545 % | Historical Best: 72.545 %\n",
            "2021-07-16 06:27:07,356 - INFO: lr: 0.10000 | Epoch: 028 | Batch: 000 | Loss: 1.02449 | Correct: 86/128\n"
          ],
          "name": "stderr"
        },
        {
          "output_type": "stream",
          "text": [
            "None\n"
          ],
          "name": "stdout"
        },
        {
          "output_type": "stream",
          "text": [
            "2021-07-16 06:27:24,467 - INFO: lr: 0.09875 | Epoch: 029 | Batch: 000 | Loss: 1.78856 | Correct: 66/128\n"
          ],
          "name": "stderr"
        },
        {
          "output_type": "stream",
          "text": [
            "None\n"
          ],
          "name": "stdout"
        },
        {
          "output_type": "stream",
          "text": [
            "2021-07-16 06:27:41,586 - INFO: lr: 0.09505 | Epoch: 030 | Batch: 000 | Loss: 1.42062 | Correct: 76/128\n"
          ],
          "name": "stderr"
        },
        {
          "output_type": "stream",
          "text": [
            "None\n"
          ],
          "name": "stdout"
        },
        {
          "output_type": "stream",
          "text": [
            "2021-07-16 06:27:58,693 - INFO: lr: 0.08909 | Epoch: 031 | Batch: 000 | Loss: 1.41144 | Correct: 75/128\n"
          ],
          "name": "stderr"
        },
        {
          "output_type": "stream",
          "text": [
            "None\n"
          ],
          "name": "stdout"
        },
        {
          "output_type": "stream",
          "text": [
            "2021-07-16 06:28:15,782 - INFO: lr: 0.08117 | Epoch: 032 | Batch: 000 | Loss: 1.28811 | Correct: 83/128\n"
          ],
          "name": "stderr"
        },
        {
          "output_type": "stream",
          "text": [
            "None\n"
          ],
          "name": "stdout"
        },
        {
          "output_type": "stream",
          "text": [
            "2021-07-16 06:28:32,881 - INFO: lr: 0.07169 | Epoch: 033 | Batch: 000 | Loss: 1.12966 | Correct: 87/128\n"
          ],
          "name": "stderr"
        },
        {
          "output_type": "stream",
          "text": [
            "None\n"
          ],
          "name": "stdout"
        },
        {
          "output_type": "stream",
          "text": [
            "2021-07-16 06:28:49,972 - INFO: lr: 0.06113 | Epoch: 034 | Batch: 000 | Loss: 0.99296 | Correct: 91/128\n"
          ],
          "name": "stderr"
        },
        {
          "output_type": "stream",
          "text": [
            "None\n"
          ],
          "name": "stdout"
        },
        {
          "output_type": "stream",
          "text": [
            "2021-07-16 06:29:07,057 - INFO: lr: 0.05000 | Epoch: 035 | Batch: 000 | Loss: 1.04565 | Correct: 94/128\n"
          ],
          "name": "stderr"
        },
        {
          "output_type": "stream",
          "text": [
            "None\n"
          ],
          "name": "stdout"
        },
        {
          "output_type": "stream",
          "text": [
            "2021-07-16 06:29:24,197 - INFO: lr: 0.03887 | Epoch: 036 | Batch: 000 | Loss: 0.97459 | Correct: 92/128\n"
          ],
          "name": "stderr"
        },
        {
          "output_type": "stream",
          "text": [
            "None\n"
          ],
          "name": "stdout"
        },
        {
          "output_type": "stream",
          "text": [
            "2021-07-16 06:29:41,313 - INFO: lr: 0.02831 | Epoch: 037 | Batch: 000 | Loss: 1.01724 | Correct: 93/128\n"
          ],
          "name": "stderr"
        },
        {
          "output_type": "stream",
          "text": [
            "None\n"
          ],
          "name": "stdout"
        },
        {
          "output_type": "stream",
          "text": [
            "2021-07-16 06:29:58,426 - INFO: lr: 0.01883 | Epoch: 038 | Batch: 000 | Loss: 0.90328 | Correct: 92/128\n"
          ],
          "name": "stderr"
        },
        {
          "output_type": "stream",
          "text": [
            "None\n"
          ],
          "name": "stdout"
        },
        {
          "output_type": "stream",
          "text": [
            "2021-07-16 06:30:15,527 - INFO: lr: 0.01091 | Epoch: 039 | Batch: 000 | Loss: 0.86066 | Correct: 98/128\n"
          ],
          "name": "stderr"
        },
        {
          "output_type": "stream",
          "text": [
            "None\n"
          ],
          "name": "stdout"
        },
        {
          "output_type": "stream",
          "text": [
            "2021-07-16 06:30:32,656 - INFO: lr: 0.00495 | Epoch: 040 | Batch: 000 | Loss: 0.82767 | Correct: 93/128\n"
          ],
          "name": "stderr"
        },
        {
          "output_type": "stream",
          "text": [
            "None\n"
          ],
          "name": "stdout"
        },
        {
          "output_type": "stream",
          "text": [
            "2021-07-16 06:30:49,744 - INFO: lr: 0.00125 | Epoch: 041 | Batch: 000 | Loss: 0.87436 | Correct: 96/128\n"
          ],
          "name": "stderr"
        },
        {
          "output_type": "stream",
          "text": [
            "None\n"
          ],
          "name": "stdout"
        },
        {
          "output_type": "stream",
          "text": [
            "2021-07-16 06:31:06,014 - INFO: Save the snapshot model with index: 2\n",
            "2021-07-16 06:31:06,861 - INFO: n_estimators: 3 | Validation Acc: 77.790 % | Historical Best: 77.790 %\n",
            "2021-07-16 06:31:07,743 - INFO: lr: 0.10000 | Epoch: 042 | Batch: 000 | Loss: 0.84794 | Correct: 94/128\n"
          ],
          "name": "stderr"
        },
        {
          "output_type": "stream",
          "text": [
            "None\n"
          ],
          "name": "stdout"
        },
        {
          "output_type": "stream",
          "text": [
            "2021-07-16 06:31:24,843 - INFO: lr: 0.09875 | Epoch: 043 | Batch: 000 | Loss: 1.54138 | Correct: 69/128\n"
          ],
          "name": "stderr"
        },
        {
          "output_type": "stream",
          "text": [
            "None\n"
          ],
          "name": "stdout"
        },
        {
          "output_type": "stream",
          "text": [
            "2021-07-16 06:31:41,954 - INFO: lr: 0.09505 | Epoch: 044 | Batch: 000 | Loss: 1.19901 | Correct: 88/128\n"
          ],
          "name": "stderr"
        },
        {
          "output_type": "stream",
          "text": [
            "None\n"
          ],
          "name": "stdout"
        },
        {
          "output_type": "stream",
          "text": [
            "2021-07-16 06:31:59,073 - INFO: lr: 0.08909 | Epoch: 045 | Batch: 000 | Loss: 1.12180 | Correct: 88/128\n"
          ],
          "name": "stderr"
        },
        {
          "output_type": "stream",
          "text": [
            "None\n"
          ],
          "name": "stdout"
        },
        {
          "output_type": "stream",
          "text": [
            "2021-07-16 06:32:16,172 - INFO: lr: 0.08117 | Epoch: 046 | Batch: 000 | Loss: 0.89776 | Correct: 91/128\n"
          ],
          "name": "stderr"
        },
        {
          "output_type": "stream",
          "text": [
            "None\n"
          ],
          "name": "stdout"
        },
        {
          "output_type": "stream",
          "text": [
            "2021-07-16 06:32:33,293 - INFO: lr: 0.07169 | Epoch: 047 | Batch: 000 | Loss: 0.80900 | Correct: 97/128\n"
          ],
          "name": "stderr"
        },
        {
          "output_type": "stream",
          "text": [
            "None\n"
          ],
          "name": "stdout"
        },
        {
          "output_type": "stream",
          "text": [
            "2021-07-16 06:32:50,410 - INFO: lr: 0.06113 | Epoch: 048 | Batch: 000 | Loss: 0.81776 | Correct: 98/128\n"
          ],
          "name": "stderr"
        },
        {
          "output_type": "stream",
          "text": [
            "None\n"
          ],
          "name": "stdout"
        },
        {
          "output_type": "stream",
          "text": [
            "2021-07-16 06:33:07,507 - INFO: lr: 0.05000 | Epoch: 049 | Batch: 000 | Loss: 0.88056 | Correct: 93/128\n"
          ],
          "name": "stderr"
        },
        {
          "output_type": "stream",
          "text": [
            "None\n"
          ],
          "name": "stdout"
        },
        {
          "output_type": "stream",
          "text": [
            "2021-07-16 06:33:24,657 - INFO: lr: 0.03887 | Epoch: 050 | Batch: 000 | Loss: 0.69018 | Correct: 102/128\n"
          ],
          "name": "stderr"
        },
        {
          "output_type": "stream",
          "text": [
            "None\n"
          ],
          "name": "stdout"
        },
        {
          "output_type": "stream",
          "text": [
            "2021-07-16 06:33:41,774 - INFO: lr: 0.02831 | Epoch: 051 | Batch: 000 | Loss: 0.76731 | Correct: 97/128\n"
          ],
          "name": "stderr"
        },
        {
          "output_type": "stream",
          "text": [
            "None\n"
          ],
          "name": "stdout"
        },
        {
          "output_type": "stream",
          "text": [
            "2021-07-16 06:33:58,854 - INFO: lr: 0.01883 | Epoch: 052 | Batch: 000 | Loss: 0.59587 | Correct: 102/128\n"
          ],
          "name": "stderr"
        },
        {
          "output_type": "stream",
          "text": [
            "None\n"
          ],
          "name": "stdout"
        },
        {
          "output_type": "stream",
          "text": [
            "2021-07-16 06:34:15,949 - INFO: lr: 0.01091 | Epoch: 053 | Batch: 000 | Loss: 0.52412 | Correct: 108/128\n"
          ],
          "name": "stderr"
        },
        {
          "output_type": "stream",
          "text": [
            "None\n"
          ],
          "name": "stdout"
        },
        {
          "output_type": "stream",
          "text": [
            "2021-07-16 06:34:33,028 - INFO: lr: 0.00495 | Epoch: 054 | Batch: 000 | Loss: 0.43943 | Correct: 112/128\n"
          ],
          "name": "stderr"
        },
        {
          "output_type": "stream",
          "text": [
            "None\n"
          ],
          "name": "stdout"
        },
        {
          "output_type": "stream",
          "text": [
            "2021-07-16 06:34:50,104 - INFO: lr: 0.00125 | Epoch: 055 | Batch: 000 | Loss: 0.58464 | Correct: 108/128\n"
          ],
          "name": "stderr"
        },
        {
          "output_type": "stream",
          "text": [
            "None\n"
          ],
          "name": "stdout"
        },
        {
          "output_type": "stream",
          "text": [
            "2021-07-16 06:35:06,354 - INFO: Save the snapshot model with index: 3\n",
            "2021-07-16 06:35:07,325 - INFO: n_estimators: 4 | Validation Acc: 77.121 % | Historical Best: 77.790 %\n",
            "2021-07-16 06:35:08,190 - INFO: lr: 0.10000 | Epoch: 056 | Batch: 000 | Loss: 0.49637 | Correct: 109/128\n"
          ],
          "name": "stderr"
        },
        {
          "output_type": "stream",
          "text": [
            "None\n"
          ],
          "name": "stdout"
        },
        {
          "output_type": "stream",
          "text": [
            "2021-07-16 06:35:25,311 - INFO: lr: 0.09875 | Epoch: 057 | Batch: 000 | Loss: 1.09973 | Correct: 87/128\n"
          ],
          "name": "stderr"
        },
        {
          "output_type": "stream",
          "text": [
            "None\n"
          ],
          "name": "stdout"
        },
        {
          "output_type": "stream",
          "text": [
            "2021-07-16 06:35:42,406 - INFO: lr: 0.09505 | Epoch: 058 | Batch: 000 | Loss: 0.87296 | Correct: 93/128\n"
          ],
          "name": "stderr"
        },
        {
          "output_type": "stream",
          "text": [
            "None\n"
          ],
          "name": "stdout"
        },
        {
          "output_type": "stream",
          "text": [
            "2021-07-16 06:35:59,529 - INFO: lr: 0.08909 | Epoch: 059 | Batch: 000 | Loss: 0.88791 | Correct: 97/128\n"
          ],
          "name": "stderr"
        },
        {
          "output_type": "stream",
          "text": [
            "None\n"
          ],
          "name": "stdout"
        },
        {
          "output_type": "stream",
          "text": [
            "2021-07-16 06:36:16,668 - INFO: lr: 0.08117 | Epoch: 060 | Batch: 000 | Loss: 0.86164 | Correct: 99/128\n"
          ],
          "name": "stderr"
        },
        {
          "output_type": "stream",
          "text": [
            "None\n"
          ],
          "name": "stdout"
        },
        {
          "output_type": "stream",
          "text": [
            "2021-07-16 06:36:33,765 - INFO: lr: 0.07169 | Epoch: 061 | Batch: 000 | Loss: 0.78422 | Correct: 98/128\n"
          ],
          "name": "stderr"
        },
        {
          "output_type": "stream",
          "text": [
            "None\n"
          ],
          "name": "stdout"
        },
        {
          "output_type": "stream",
          "text": [
            "2021-07-16 06:36:50,884 - INFO: lr: 0.06113 | Epoch: 062 | Batch: 000 | Loss: 0.67149 | Correct: 103/128\n"
          ],
          "name": "stderr"
        },
        {
          "output_type": "stream",
          "text": [
            "None\n"
          ],
          "name": "stdout"
        },
        {
          "output_type": "stream",
          "text": [
            "2021-07-16 06:37:07,999 - INFO: lr: 0.05000 | Epoch: 063 | Batch: 000 | Loss: 0.63354 | Correct: 106/128\n"
          ],
          "name": "stderr"
        },
        {
          "output_type": "stream",
          "text": [
            "None\n"
          ],
          "name": "stdout"
        },
        {
          "output_type": "stream",
          "text": [
            "2021-07-16 06:37:25,088 - INFO: lr: 0.03887 | Epoch: 064 | Batch: 000 | Loss: 0.57400 | Correct: 109/128\n"
          ],
          "name": "stderr"
        },
        {
          "output_type": "stream",
          "text": [
            "None\n"
          ],
          "name": "stdout"
        },
        {
          "output_type": "stream",
          "text": [
            "2021-07-16 06:37:42,193 - INFO: lr: 0.02831 | Epoch: 065 | Batch: 000 | Loss: 0.45515 | Correct: 109/128\n"
          ],
          "name": "stderr"
        },
        {
          "output_type": "stream",
          "text": [
            "None\n"
          ],
          "name": "stdout"
        },
        {
          "output_type": "stream",
          "text": [
            "2021-07-16 06:37:59,334 - INFO: lr: 0.01883 | Epoch: 066 | Batch: 000 | Loss: 0.45484 | Correct: 112/128\n"
          ],
          "name": "stderr"
        },
        {
          "output_type": "stream",
          "text": [
            "None\n"
          ],
          "name": "stdout"
        },
        {
          "output_type": "stream",
          "text": [
            "2021-07-16 06:38:16,461 - INFO: lr: 0.01091 | Epoch: 067 | Batch: 000 | Loss: 0.27175 | Correct: 120/128\n"
          ],
          "name": "stderr"
        },
        {
          "output_type": "stream",
          "text": [
            "None\n"
          ],
          "name": "stdout"
        },
        {
          "output_type": "stream",
          "text": [
            "2021-07-16 06:38:33,548 - INFO: lr: 0.00495 | Epoch: 068 | Batch: 000 | Loss: 0.21027 | Correct: 122/128\n"
          ],
          "name": "stderr"
        },
        {
          "output_type": "stream",
          "text": [
            "None\n"
          ],
          "name": "stdout"
        },
        {
          "output_type": "stream",
          "text": [
            "2021-07-16 06:38:50,628 - INFO: lr: 0.00125 | Epoch: 069 | Batch: 000 | Loss: 0.33225 | Correct: 119/128\n"
          ],
          "name": "stderr"
        },
        {
          "output_type": "stream",
          "text": [
            "None\n"
          ],
          "name": "stdout"
        },
        {
          "output_type": "stream",
          "text": [
            "2021-07-16 06:39:06,894 - INFO: Save the snapshot model with index: 4\n",
            "2021-07-16 06:39:08,043 - INFO: n_estimators: 5 | Validation Acc: 79.464 % | Historical Best: 79.464 %\n"
          ],
          "name": "stderr"
        },
        {
          "output_type": "stream",
          "text": [
            "Group 5 Finished!\n",
            "Target number of exemplars: 40\n",
            "Randomly extracting exemplars from class 0 of current split... Extracted 40 exemplars.\n",
            "Randomly extracting exemplars from class 1 of current split... Extracted 40 exemplars.\n",
            "Randomly extracting exemplars from class 2 of current split... Extracted 40 exemplars.\n",
            "Randomly extracting exemplars from class 3 of current split... Extracted 40 exemplars.\n",
            "Randomly extracting exemplars from class 4 of current split... Extracted 40 exemplars.\n",
            "Randomly extracting exemplars from class 5 of current split... Extracted 40 exemplars.\n",
            "Randomly extracting exemplars from class 6 of current split... Extracted 40 exemplars.\n",
            "Randomly extracting exemplars from class 7 of current split... Extracted 40 exemplars.\n",
            "Randomly extracting exemplars from class 8 of current split... Extracted 40 exemplars.\n",
            "Randomly extracting exemplars from class 9 of current split... Extracted 40 exemplars.\n",
            "[0.22341229838709678, 0.415398185483871, 0.6348538306451613, 0.7380040322580645, 0.8663810483870967, 0.9174899193548387, 0.9571068548387097]\n",
            "[0.351963141025641, 0.3137019230769231, 0.25020032051282054, 0.20232371794871795, 0.12319711538461539, 0.0843349358974359, 0.05128205128205128]\n",
            "Testing on both open and closed world\n",
            "owr harmonic mean (threshold:0.25) = 0.27343224341994093\n",
            "owr harmonic mean (threshold:0.35) = 0.3575596057351801\n",
            "owr harmonic mean (threshold:0.5) = 0.3590588016185753\n",
            "owr harmonic mean (threshold:0.6) = 0.3177147349661271\n",
            "owr harmonic mean (threshold:0.75) = 0.21587587544759634\n",
            "owr harmonic mean (threshold:0.85) = 0.1546401680851585\n",
            "owr harmonic mean (threshold:0.95) = 0.0975288373774057\n",
            "\n",
            "=============================================\n",
            "\n",
            "#################################\n",
            "\n",
            "\n"
          ],
          "name": "stdout"
        }
      ]
    },
    {
      "cell_type": "code",
      "metadata": {
        "id": "MP8PsFuxOZke",
        "colab": {
          "base_uri": "https://localhost:8080/",
          "height": 17
        },
        "outputId": "74f2a0bc-77c5-4ef0-b6b0-d8f07eb67581"
      },
      "source": [
        "import json\n",
        "from google.colab import files\n",
        "\n",
        "\n",
        "predictions = [[logs[run_i]['predictions'][i].cpu().numpy() for i in range(len(logs[run_i]['predictions']))] for run_i in range(len(RANDOM_SEED))]\n",
        "prediction_list = []\n",
        "for pred in predictions[0]:\n",
        "  prediction_list.append(pred.tolist())\n",
        "\n",
        "with open('predictions.json', 'w') as f:\n",
        "  json.dump(prediction_list, f)\n",
        "f.close\n",
        "\n",
        "accuracies = []\n",
        "for i in range(len(REJECTION_THRESHOLD)):\n",
        "  tmp_list = []\n",
        "  for k in range(5):\n",
        "    tmp_list.append(logs[0]['test_accuracies'][k][i])\n",
        "  accuracies.append(tmp_list)\n",
        "\n",
        "with open('accuracies.json', 'w') as f:\n",
        "  json.dump(accuracies, f)\n",
        "f.close\n",
        "\n",
        "true_labels = [logs[run_i]['true_labels'].cpu().data.numpy().tolist() for run_i in range(len(RANDOM_SEED))]\n",
        "with open('true_labels.json', 'w') as f:\n",
        "  json.dump(true_labels, f)\n",
        "f.close\n",
        "\n",
        "files.download('true_labels.json')\n",
        "files.download('accuracies.json')\n",
        "files.download('predictions.json')"
      ],
      "execution_count": 9,
      "outputs": [
        {
          "output_type": "display_data",
          "data": {
            "application/javascript": [
              "\n",
              "    async function download(id, filename, size) {\n",
              "      if (!google.colab.kernel.accessAllowed) {\n",
              "        return;\n",
              "      }\n",
              "      const div = document.createElement('div');\n",
              "      const label = document.createElement('label');\n",
              "      label.textContent = `Downloading \"${filename}\": `;\n",
              "      div.appendChild(label);\n",
              "      const progress = document.createElement('progress');\n",
              "      progress.max = size;\n",
              "      div.appendChild(progress);\n",
              "      document.body.appendChild(div);\n",
              "\n",
              "      const buffers = [];\n",
              "      let downloaded = 0;\n",
              "\n",
              "      const channel = await google.colab.kernel.comms.open(id);\n",
              "      // Send a message to notify the kernel that we're ready.\n",
              "      channel.send({})\n",
              "\n",
              "      for await (const message of channel.messages) {\n",
              "        // Send a message to notify the kernel that we're ready.\n",
              "        channel.send({})\n",
              "        if (message.buffers) {\n",
              "          for (const buffer of message.buffers) {\n",
              "            buffers.push(buffer);\n",
              "            downloaded += buffer.byteLength;\n",
              "            progress.value = downloaded;\n",
              "          }\n",
              "        }\n",
              "      }\n",
              "      const blob = new Blob(buffers, {type: 'application/binary'});\n",
              "      const a = document.createElement('a');\n",
              "      a.href = window.URL.createObjectURL(blob);\n",
              "      a.download = filename;\n",
              "      div.appendChild(a);\n",
              "      a.click();\n",
              "      div.remove();\n",
              "    }\n",
              "  "
            ],
            "text/plain": [
              "<IPython.core.display.Javascript object>"
            ]
          },
          "metadata": {
            "tags": []
          }
        },
        {
          "output_type": "display_data",
          "data": {
            "application/javascript": [
              "download(\"download_118bf456-8488-4bde-aaff-548c0fa70082\", \"true_labels.json\", 172728)"
            ],
            "text/plain": [
              "<IPython.core.display.Javascript object>"
            ]
          },
          "metadata": {
            "tags": []
          }
        },
        {
          "output_type": "display_data",
          "data": {
            "application/javascript": [
              "\n",
              "    async function download(id, filename, size) {\n",
              "      if (!google.colab.kernel.accessAllowed) {\n",
              "        return;\n",
              "      }\n",
              "      const div = document.createElement('div');\n",
              "      const label = document.createElement('label');\n",
              "      label.textContent = `Downloading \"${filename}\": `;\n",
              "      div.appendChild(label);\n",
              "      const progress = document.createElement('progress');\n",
              "      progress.max = size;\n",
              "      div.appendChild(progress);\n",
              "      document.body.appendChild(div);\n",
              "\n",
              "      const buffers = [];\n",
              "      let downloaded = 0;\n",
              "\n",
              "      const channel = await google.colab.kernel.comms.open(id);\n",
              "      // Send a message to notify the kernel that we're ready.\n",
              "      channel.send({})\n",
              "\n",
              "      for await (const message of channel.messages) {\n",
              "        // Send a message to notify the kernel that we're ready.\n",
              "        channel.send({})\n",
              "        if (message.buffers) {\n",
              "          for (const buffer of message.buffers) {\n",
              "            buffers.push(buffer);\n",
              "            downloaded += buffer.byteLength;\n",
              "            progress.value = downloaded;\n",
              "          }\n",
              "        }\n",
              "      }\n",
              "      const blob = new Blob(buffers, {type: 'application/binary'});\n",
              "      const a = document.createElement('a');\n",
              "      a.href = window.URL.createObjectURL(blob);\n",
              "      a.download = filename;\n",
              "      div.appendChild(a);\n",
              "      a.click();\n",
              "      div.remove();\n",
              "    }\n",
              "  "
            ],
            "text/plain": [
              "<IPython.core.display.Javascript object>"
            ]
          },
          "metadata": {
            "tags": []
          }
        },
        {
          "output_type": "display_data",
          "data": {
            "application/javascript": [
              "download(\"download_2cf9dd47-1f06-4b35-8b61-5b348c5470ba\", \"accuracies.json\", 728)"
            ],
            "text/plain": [
              "<IPython.core.display.Javascript object>"
            ]
          },
          "metadata": {
            "tags": []
          }
        },
        {
          "output_type": "display_data",
          "data": {
            "application/javascript": [
              "\n",
              "    async function download(id, filename, size) {\n",
              "      if (!google.colab.kernel.accessAllowed) {\n",
              "        return;\n",
              "      }\n",
              "      const div = document.createElement('div');\n",
              "      const label = document.createElement('label');\n",
              "      label.textContent = `Downloading \"${filename}\": `;\n",
              "      div.appendChild(label);\n",
              "      const progress = document.createElement('progress');\n",
              "      progress.max = size;\n",
              "      div.appendChild(progress);\n",
              "      document.body.appendChild(div);\n",
              "\n",
              "      const buffers = [];\n",
              "      let downloaded = 0;\n",
              "\n",
              "      const channel = await google.colab.kernel.comms.open(id);\n",
              "      // Send a message to notify the kernel that we're ready.\n",
              "      channel.send({})\n",
              "\n",
              "      for await (const message of channel.messages) {\n",
              "        // Send a message to notify the kernel that we're ready.\n",
              "        channel.send({})\n",
              "        if (message.buffers) {\n",
              "          for (const buffer of message.buffers) {\n",
              "            buffers.push(buffer);\n",
              "            downloaded += buffer.byteLength;\n",
              "            progress.value = downloaded;\n",
              "          }\n",
              "        }\n",
              "      }\n",
              "      const blob = new Blob(buffers, {type: 'application/binary'});\n",
              "      const a = document.createElement('a');\n",
              "      a.href = window.URL.createObjectURL(blob);\n",
              "      a.download = filename;\n",
              "      div.appendChild(a);\n",
              "      a.click();\n",
              "      div.remove();\n",
              "    }\n",
              "  "
            ],
            "text/plain": [
              "<IPython.core.display.Javascript object>"
            ]
          },
          "metadata": {
            "tags": []
          }
        },
        {
          "output_type": "display_data",
          "data": {
            "application/javascript": [
              "download(\"download_a704e955-9ad4-43a3-a1a8-4dc28430fbff\", \"predictions.json\", 2077161)"
            ],
            "text/plain": [
              "<IPython.core.display.Javascript object>"
            ]
          },
          "metadata": {
            "tags": []
          }
        }
      ]
    },
    {
      "cell_type": "markdown",
      "metadata": {
        "id": "2NMLqiIS19IJ"
      },
      "source": [
        "### Print some graphs"
      ]
    },
    {
      "cell_type": "code",
      "metadata": {
        "id": "G6Mg2QiIBNRo"
      },
      "source": [
        "from data.utils_plot import plot_train_val, plot_test_accuracies, plot_confusion_matrix"
      ],
      "execution_count": 10,
      "outputs": []
    },
    {
      "cell_type": "code",
      "metadata": {
        "id": "ttyNLP2hGnLN"
      },
      "source": [
        "accuracies = np.array([accuracies])\n",
        "accuracies_stats = np.array([accuracies.mean(0), accuracies.std(0)])"
      ],
      "execution_count": 11,
      "outputs": []
    },
    {
      "cell_type": "markdown",
      "metadata": {
        "id": "llzylw_LF7e_"
      },
      "source": [
        "#### Test accuracy"
      ]
    },
    {
      "cell_type": "code",
      "metadata": {
        "colab": {
          "base_uri": "https://localhost:8080/",
          "height": 1000
        },
        "id": "NQfpluscGzX8",
        "outputId": "b3f2a394-62bd-4bb1-b554-60ca69ee712b"
      },
      "source": [
        "def plot_test(stats, save_directory = None, title = \"\"):\n",
        "  mean = np.array(stats[0])\n",
        "  std = np.array(stats[1])\n",
        "  fig, ax = plt.subplots(figsize = (10, 5), dpi = 100)\n",
        "  x = np.arange(10, 51, 10)\n",
        "  ax.errorbar(x, mean, std)\n",
        "  ax.set_title(f\"Harmonic mean accuracy - threshold: {title}\")\n",
        "  ax.set_xlabel(\"Number of classes\")\n",
        "  ax.set_ylabel(\"Accuracy\")\n",
        "  plt.tight_layout()\n",
        "  if save_directory != None:\n",
        "    fig.savefig(save_directory)\n",
        "  plt.show()\n",
        "\n",
        "\n",
        "for i in range(len(REJECTION_THRESHOLD)):\n",
        "  plot_test(stats = [accuracies_stats[0][i],accuracies_stats[1][i]], title = REJECTION_THRESHOLD[i])"
      ],
      "execution_count": 12,
      "outputs": [
        {
          "output_type": "display_data",
          "data": {
            "image/png": "[encoded data removed]",
            "text/plain": [
              "<Figure size 1000x500 with 1 Axes>"
            ]
          },
          "metadata": {
            "tags": [],
            "needs_background": "light"
          }
        },
        {
          "output_type": "display_data",
          "data": {
            "image/png": "[encoded data removed]",
            "text/plain": [
              "<Figure size 1000x500 with 1 Axes>"
            ]
          },
          "metadata": {
            "tags": [],
            "needs_background": "light"
          }
        },
        {
          "output_type": "display_data",
          "data": {
            "image/png": "[encoded data removed]",
            "text/plain": [
              "<Figure size 1000x500 with 1 Axes>"
            ]
          },
          "metadata": {
            "tags": [],
            "needs_background": "light"
          }
        },
        {
          "output_type": "display_data",
          "data": {
            "image/png": "[encoded data removed]",
            "text/plain": [
              "<Figure size 1000x500 with 1 Axes>"
            ]
          },
          "metadata": {
            "tags": [],
            "needs_background": "light"
          }
        },
        {
          "output_type": "display_data",
          "data": {
            "image/png": "[encoded data removed]",
            "text/plain": [
              "<Figure size 1000x500 with 1 Axes>"
            ]
          },
          "metadata": {
            "tags": [],
            "needs_background": "light"
          }
        },
        {
          "output_type": "display_data",
          "data": {
            "image/png": "[encoded data removed]",
            "text/plain": [
              "<Figure size 1000x500 with 1 Axes>"
            ]
          },
          "metadata": {
            "tags": [],
            "needs_background": "light"
          }
        },
        {
          "output_type": "display_data",
          "data": {
            "image/png": "[encoded data removed]",
            "text/plain": [
              "<Figure size 1000x500 with 1 Axes>"
            ]
          },
          "metadata": {
            "tags": [],
            "needs_background": "light"
          }
        }
      ]
    },
    {
      "cell_type": "markdown",
      "metadata": {
        "id": "gN6cighYm1nG"
      },
      "source": [
        "#### Confusion Matrix"
      ]
    },
    {
      "cell_type": "code",
      "metadata": {
        "id": "LPG6aNRjm5Se",
        "colab": {
          "base_uri": "https://localhost:8080/",
          "height": 1000
        },
        "outputId": "1d8a1948-ffa4-4efb-9c04-2ebe629f1d7a"
      },
      "source": [
        "for i in range(len(REJECTION_THRESHOLD)):\n",
        "  targets = np.array(true_labels[0])\n",
        "  preds = np.array(predictions[0][i])\n",
        "  title = f\"Confusion matrix - Threshold: {REJECTION_THRESHOLD[i]}\"\n",
        "  plot_confusion_matrix(targets, preds, RANDOM_SEED[run], title)"
      ],
      "execution_count": 13,
      "outputs": [
        {
          "output_type": "display_data",
          "data": {
            "image/png": "[encoded data removed]",
            "text/plain": [
              "<Figure size 500x500 with 2 Axes>"
            ]
          },
          "metadata": {
            "tags": [],
            "needs_background": "light"
          }
        },
        {
          "output_type": "display_data",
          "data": {
            "image/png": "[encoded data removed]",
            "text/plain": [
              "<Figure size 500x500 with 2 Axes>"
            ]
          },
          "metadata": {
            "tags": [],
            "needs_background": "light"
          }
        },
        {
          "output_type": "display_data",
          "data": {
            "image/png": "[encoded data removed]",
            "text/plain": [
              "<Figure size 500x500 with 2 Axes>"
            ]
          },
          "metadata": {
            "tags": [],
            "needs_background": "light"
          }
        },
        {
          "output_type": "display_data",
          "data": {
            "image/png": "[encoded data removed]",
            "text/plain": [
              "<Figure size 500x500 with 2 Axes>"
            ]
          },
          "metadata": {
            "tags": [],
            "needs_background": "light"
          }
        },
        {
          "output_type": "display_data",
          "data": {
            "image/png": "[encoded data removed]",
            "text/plain": [
              "<Figure size 500x500 with 2 Axes>"
            ]
          },
          "metadata": {
            "tags": [],
            "needs_background": "light"
          }
        },
        {
          "output_type": "display_data",
          "data": {
            "image/png": "[encoded data removed]",
            "text/plain": [
              "<Figure size 500x500 with 2 Axes>"
            ]
          },
          "metadata": {
            "tags": [],
            "needs_background": "light"
          }
        },
        {
          "output_type": "display_data",
          "data": {
            "image/png": "[encoded data removed]",
            "text/plain": [
              "<Figure size 500x500 with 2 Axes>"
            ]
          },
          "metadata": {
            "tags": [],
            "needs_background": "light"
          }
        }
      ]
    }
  ]
}