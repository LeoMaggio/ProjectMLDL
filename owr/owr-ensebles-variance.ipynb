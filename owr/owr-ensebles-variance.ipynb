{
  "nbformat": 4,
  "nbformat_minor": 0,
  "metadata": {
    "colab": {
      "name": "OWR-Ensembles.ipynb",
      "provenance": [],
      "include_colab_link": true
    },
    "kernelspec": {
      "name": "python3",
      "display_name": "Python 3"
    },
    "language_info": {
      "name": "python"
    },
    "accelerator": "GPU",
    "widgets": {
      "application/vnd.jupyter.widget-state+json": {
        "1fd04aa71a24493c88a2b78c0e9016f7": {
          "model_module": "@jupyter-widgets/controls",
          "model_name": "HBoxModel",
          "state": {
            "_view_name": "HBoxView",
            "_dom_classes": [],
            "_model_name": "HBoxModel",
            "_view_module": "@jupyter-widgets/controls",
            "_model_module_version": "1.5.0",
            "_view_count": null,
            "_view_module_version": "1.5.0",
            "box_style": "",
            "layout": "IPY_MODEL_12f616884af247c7b4c968dbb5d19ab6",
            "_model_module": "@jupyter-widgets/controls",
            "children": [
              "IPY_MODEL_f20b5891df0c446186cc64df093f9661",
              "IPY_MODEL_f374ab26cd3c470da017109df79522cc"
            ]
          }
        },
        "12f616884af247c7b4c968dbb5d19ab6": {
          "model_module": "@jupyter-widgets/base",
          "model_name": "LayoutModel",
          "state": {
            "_view_name": "LayoutView",
            "grid_template_rows": null,
            "right": null,
            "justify_content": null,
            "_view_module": "@jupyter-widgets/base",
            "overflow": null,
            "_model_module_version": "1.2.0",
            "_view_count": null,
            "flex_flow": null,
            "width": null,
            "min_width": null,
            "border": null,
            "align_items": null,
            "bottom": null,
            "_model_module": "@jupyter-widgets/base",
            "top": null,
            "grid_column": null,
            "overflow_y": null,
            "overflow_x": null,
            "grid_auto_flow": null,
            "grid_area": null,
            "grid_template_columns": null,
            "flex": null,
            "_model_name": "LayoutModel",
            "justify_items": null,
            "grid_row": null,
            "max_height": null,
            "align_content": null,
            "visibility": null,
            "align_self": null,
            "height": null,
            "min_height": null,
            "padding": null,
            "grid_auto_rows": null,
            "grid_gap": null,
            "max_width": null,
            "order": null,
            "_view_module_version": "1.2.0",
            "grid_template_areas": null,
            "object_position": null,
            "object_fit": null,
            "grid_auto_columns": null,
            "margin": null,
            "display": null,
            "left": null
          }
        },
        "f20b5891df0c446186cc64df093f9661": {
          "model_module": "@jupyter-widgets/controls",
          "model_name": "FloatProgressModel",
          "state": {
            "_view_name": "ProgressView",
            "style": "IPY_MODEL_5965bb60cfd345c78d8d5b6e8262f311",
            "_dom_classes": [],
            "description": "",
            "_model_name": "FloatProgressModel",
            "bar_style": "success",
            "max": 169001437,
            "_view_module": "@jupyter-widgets/controls",
            "_model_module_version": "1.5.0",
            "value": 169001437,
            "_view_count": null,
            "_view_module_version": "1.5.0",
            "orientation": "horizontal",
            "min": 0,
            "description_tooltip": null,
            "_model_module": "@jupyter-widgets/controls",
            "layout": "IPY_MODEL_86f6b49ab656455b9c4e23f41db1165f"
          }
        },
        "f374ab26cd3c470da017109df79522cc": {
          "model_module": "@jupyter-widgets/controls",
          "model_name": "HTMLModel",
          "state": {
            "_view_name": "HTMLView",
            "style": "IPY_MODEL_e5a14321d760459db6cd0c59b883f3ae",
            "_dom_classes": [],
            "description": "",
            "_model_name": "HTMLModel",
            "placeholder": "​",
            "_view_module": "@jupyter-widgets/controls",
            "_model_module_version": "1.5.0",
            "value": " 169001984/? [00:06&lt;00:00, 24274606.50it/s]",
            "_view_count": null,
            "_view_module_version": "1.5.0",
            "description_tooltip": null,
            "_model_module": "@jupyter-widgets/controls",
            "layout": "IPY_MODEL_adb8cddcd0054f81b30be40ca02439d5"
          }
        },
        "5965bb60cfd345c78d8d5b6e8262f311": {
          "model_module": "@jupyter-widgets/controls",
          "model_name": "ProgressStyleModel",
          "state": {
            "_view_name": "StyleView",
            "_model_name": "ProgressStyleModel",
            "description_width": "initial",
            "_view_module": "@jupyter-widgets/base",
            "_model_module_version": "1.5.0",
            "_view_count": null,
            "_view_module_version": "1.2.0",
            "bar_color": null,
            "_model_module": "@jupyter-widgets/controls"
          }
        },
        "86f6b49ab656455b9c4e23f41db1165f": {
          "model_module": "@jupyter-widgets/base",
          "model_name": "LayoutModel",
          "state": {
            "_view_name": "LayoutView",
            "grid_template_rows": null,
            "right": null,
            "justify_content": null,
            "_view_module": "@jupyter-widgets/base",
            "overflow": null,
            "_model_module_version": "1.2.0",
            "_view_count": null,
            "flex_flow": null,
            "width": null,
            "min_width": null,
            "border": null,
            "align_items": null,
            "bottom": null,
            "_model_module": "@jupyter-widgets/base",
            "top": null,
            "grid_column": null,
            "overflow_y": null,
            "overflow_x": null,
            "grid_auto_flow": null,
            "grid_area": null,
            "grid_template_columns": null,
            "flex": null,
            "_model_name": "LayoutModel",
            "justify_items": null,
            "grid_row": null,
            "max_height": null,
            "align_content": null,
            "visibility": null,
            "align_self": null,
            "height": null,
            "min_height": null,
            "padding": null,
            "grid_auto_rows": null,
            "grid_gap": null,
            "max_width": null,
            "order": null,
            "_view_module_version": "1.2.0",
            "grid_template_areas": null,
            "object_position": null,
            "object_fit": null,
            "grid_auto_columns": null,
            "margin": null,
            "display": null,
            "left": null
          }
        },
        "e5a14321d760459db6cd0c59b883f3ae": {
          "model_module": "@jupyter-widgets/controls",
          "model_name": "DescriptionStyleModel",
          "state": {
            "_view_name": "StyleView",
            "_model_name": "DescriptionStyleModel",
            "description_width": "",
            "_view_module": "@jupyter-widgets/base",
            "_model_module_version": "1.5.0",
            "_view_count": null,
            "_view_module_version": "1.2.0",
            "_model_module": "@jupyter-widgets/controls"
          }
        },
        "adb8cddcd0054f81b30be40ca02439d5": {
          "model_module": "@jupyter-widgets/base",
          "model_name": "LayoutModel",
          "state": {
            "_view_name": "LayoutView",
            "grid_template_rows": null,
            "right": null,
            "justify_content": null,
            "_view_module": "@jupyter-widgets/base",
            "overflow": null,
            "_model_module_version": "1.2.0",
            "_view_count": null,
            "flex_flow": null,
            "width": null,
            "min_width": null,
            "border": null,
            "align_items": null,
            "bottom": null,
            "_model_module": "@jupyter-widgets/base",
            "top": null,
            "grid_column": null,
            "overflow_y": null,
            "overflow_x": null,
            "grid_auto_flow": null,
            "grid_area": null,
            "grid_template_columns": null,
            "flex": null,
            "_model_name": "LayoutModel",
            "justify_items": null,
            "grid_row": null,
            "max_height": null,
            "align_content": null,
            "visibility": null,
            "align_self": null,
            "height": null,
            "min_height": null,
            "padding": null,
            "grid_auto_rows": null,
            "grid_gap": null,
            "max_width": null,
            "order": null,
            "_view_module_version": "1.2.0",
            "grid_template_areas": null,
            "object_position": null,
            "object_fit": null,
            "grid_auto_columns": null,
            "margin": null,
            "display": null,
            "left": null
          }
        }
      }
    }
  },
  "cells": [
    {
      "cell_type": "markdown",
      "metadata": {
        "id": "view-in-github",
        "colab_type": "text"
      },
      "source": [
        "<a href=\"https://colab.research.google.com/github/cosminnedescu/ProjectMLDL/blob/main/owr/owr-ensebles-variance.ipynb\" target=\"_parent\"><img src=\"https://colab.research.google.com/assets/colab-badge.svg\" alt=\"Open In Colab\"/></a>"
      ]
    },
    {
      "cell_type": "code",
      "metadata": {
        "id": "PF5bRIxnU-PW",
        "colab": {
          "base_uri": "https://localhost:8080/"
        },
        "outputId": "1da21323-fc43-4659-a445-e86ffd11349e"
      },
      "source": [
        "# Avoid K80\n",
        "!nvidia-smi"
      ],
      "execution_count": 1,
      "outputs": [
        {
          "output_type": "stream",
          "text": [
            "Tue Jul 13 11:53:05 2021       \n",
            "+-----------------------------------------------------------------------------+\n",
            "| NVIDIA-SMI 470.42.01    Driver Version: 460.32.03    CUDA Version: 11.2     |\n",
            "|-------------------------------+----------------------+----------------------+\n",
            "| GPU  Name        Persistence-M| Bus-Id        Disp.A | Volatile Uncorr. ECC |\n",
            "| Fan  Temp  Perf  Pwr:Usage/Cap|         Memory-Usage | GPU-Util  Compute M. |\n",
            "|                               |                      |               MIG M. |\n",
            "|===============================+======================+======================|\n",
            "|   0  Tesla T4            Off  | 00000000:00:04.0 Off |                    0 |\n",
            "| N/A   67C    P8    12W /  70W |      0MiB / 15109MiB |      0%      Default |\n",
            "|                               |                      |                  N/A |\n",
            "+-------------------------------+----------------------+----------------------+\n",
            "                                                                               \n",
            "+-----------------------------------------------------------------------------+\n",
            "| Processes:                                                                  |\n",
            "|  GPU   GI   CI        PID   Type   Process name                  GPU Memory |\n",
            "|        ID   ID                                                   Usage      |\n",
            "|=============================================================================|\n",
            "|  No running processes found                                                 |\n",
            "+-----------------------------------------------------------------------------+\n"
          ],
          "name": "stdout"
        }
      ]
    },
    {
      "cell_type": "code",
      "metadata": {
        "id": "pJimWkPdQu6y"
      },
      "source": [
        "import os\n",
        "import random\n",
        "\n",
        "import torch\n",
        "import torch.nn as nn\n",
        "import torch.nn.init as init\n",
        "import torch.optim as optim\n",
        "from torch.autograd import Variable\n",
        "\n",
        "import torchvision\n",
        "from torchvision import transforms, datasets, models\n",
        "from torch.utils.data import Subset, DataLoader\n",
        "\n",
        "from PIL import Image\n",
        "\n",
        "import numpy as np\n",
        "import matplotlib \n",
        "import matplotlib.pyplot as plt\n",
        "from copy import copy\n",
        "from copy import deepcopy"
      ],
      "execution_count": 2,
      "outputs": []
    },
    {
      "cell_type": "markdown",
      "metadata": {
        "id": "7BZw-bZJ16ay"
      },
      "source": [
        "#### Cloning the Git repository"
      ]
    },
    {
      "cell_type": "code",
      "metadata": {
        "id": "yjntw1jZQ7Lg",
        "colab": {
          "base_uri": "https://localhost:8080/"
        },
        "outputId": "da42d7c8-6037-4f82-e6fe-1db247870948"
      },
      "source": [
        "!rm -rf ProjectMLDL\n",
        "if not os.path.isdir('/content/ProjectMLDL'):\n",
        "  !git clone https://github.com/cosminnedescu/ProjectMLDL.git\n",
        "  %cd /content/ProjectMLDL\n",
        "  !rm -rf LICENSE README.md"
      ],
      "execution_count": 3,
      "outputs": [
        {
          "output_type": "stream",
          "text": [
            "Cloning into 'ProjectMLDL'...\n",
            "remote: Enumerating objects: 3597, done.\u001b[K\n",
            "remote: Counting objects: 100% (1013/1013), done.\u001b[K\n",
            "remote: Compressing objects: 100% (449/449), done.\u001b[K\n",
            "remote: Total 3597 (delta 585), reused 935 (delta 547), pack-reused 2584\u001b[K\n",
            "Receiving objects: 100% (3597/3597), 182.75 MiB | 34.88 MiB/s, done.\n",
            "Resolving deltas: 100% (1970/1970), done.\n",
            "Checking out files: 100% (397/397), done.\n",
            "/content/ProjectMLDL\n"
          ],
          "name": "stdout"
        }
      ]
    },
    {
      "cell_type": "code",
      "metadata": {
        "id": "nvqmxRxo2lUW"
      },
      "source": [
        "from data.cifar100 import CIFAR100\n",
        "from model.resnet32_modified import resnet32\n",
        "import data.utils\n",
        "from model.owrEnsamble import owrEnsemble"
      ],
      "execution_count": 4,
      "outputs": []
    },
    {
      "cell_type": "code",
      "metadata": {
        "id": "XwomFTtQo1x-"
      },
      "source": [
        "# True mean and std of Cifar100 dataset (src=\"https://gist.github.com/weiaicunzai/e623931921efefd4c331622c344d8151\")\n",
        "mean = [0.5071, 0.4867, 0.4408]\n",
        "std = [0.2675, 0.2565, 0.2761]\n",
        "\n",
        "train_transform = transforms.Compose([\n",
        "    transforms.RandomCrop(32, padding=4),\n",
        "    transforms.RandomHorizontalFlip(),\n",
        "    transforms.ToTensor(),\n",
        "    transforms.Normalize(mean, std),\n",
        "])\n",
        "test_transform = transforms.Compose(\n",
        "    [transforms.ToTensor(), \n",
        "     transforms.Normalize(mean, std),\n",
        "     ])"
      ],
      "execution_count": 5,
      "outputs": []
    },
    {
      "cell_type": "markdown",
      "metadata": {
        "id": "yRoS-R_sRhHT"
      },
      "source": [
        "## Incremental Classifier and Representation Learning"
      ]
    },
    {
      "cell_type": "markdown",
      "metadata": {
        "id": "3ocVW0wM2Iw2"
      },
      "source": [
        "### Defining hyperparameters according to iCarl paper"
      ]
    },
    {
      "cell_type": "code",
      "metadata": {
        "id": "nmEo_9lnwyBk"
      },
      "source": [
        "# Settings\n",
        "DEVICE = 'cuda'\n",
        "NUM_CLASSES = 100         # Total number of classes\n",
        "VAL_SIZE = 0.2            # Proportion of validation set with respect to training set (between 0 and 1)\n",
        "\n",
        "# Training\n",
        "BATCH_SIZE = 128          # Batch size\n",
        "LR = 0.1                    # Initial learning rate\n",
        "                       \n",
        "MOMENTUM = 0.9            # Momentum for stochastic gradient descent (SGD)\n",
        "WEIGHT_DECAY = 1e-5       # Weight decay from iCaRL\n",
        "\n",
        "RANDOM_SEED = [20]  # Random seeds defining the runs of every method\n",
        "                          # Note: this should be at least 3 to have a fair benchmark\n",
        "\n",
        "NUM_EPOCHS = 70           # Total number of training epochs\n",
        "MILESTONES = [43, 63]     # Step down policy from iCaRL (MultiStepLR)\n",
        "                          # Decrease the learning rate by gamma at each milestone\n",
        "GAMMA = 0.2               # Gamma factor from iCaRL (1/5)\n",
        "\n",
        "HERDING = False           # True to perform prioritized selection, False to perform random selection\n",
        "CLASSIFY = True           # True to use mean-of-exemplar classifier, False to use network's output directly for classification\n",
        "\n",
        "REJECTION_THRESHOLD = [0.25,0.35,0.50,0.60,0.75,0.85,0.95]\n",
        "TESTING_MODE = 'harmonic' #open, closed, harmonic\n",
        "N_ESTIMATORS = 5\n",
        "CONFIDENCE = '0.900' #'0.900':1.47, '0.950':1.94, '0.975':2.45, '0.990':3.36\n",
        "STRATEGY = 'variance' # mean, variance, hybrid\n",
        "    "
      ],
      "execution_count": 6,
      "outputs": []
    },
    {
      "cell_type": "code",
      "metadata": {
        "id": "rVh61C63FECy"
      },
      "source": [
        "def do_group_classes(run):\n",
        "\n",
        "  train_subset = [[] for i in range(10)]\n",
        "  train_dataloader = [[] for i in range(10)]\n",
        "  val_dataloader = [[] for i in range(10)]\n",
        "  test_dataloader = [[] for i in range(10)]\n",
        "\n",
        "  for i in range(10):\n",
        "    train_data = CIFAR100(\"dataset\", \n",
        "                          train=True, \n",
        "                          transform=train_transform, \n",
        "                          download=(run+i==0),\n",
        "                          random_state=RANDOM_SEED[run])\n",
        "    test_data = CIFAR100(\"dataset\", \n",
        "                         train=False, \n",
        "                         transform=test_transform, \n",
        "                         download=False,\n",
        "                         random_state=RANDOM_SEED[run])\n",
        "    \n",
        "    train_data.set_index_map(train_data.splits[i])\n",
        "    test_data.set_index_map([test_data.splits[j] for j in range(0, i+1)])\n",
        "    \n",
        "    train_indices, val_indices = train_data.train_val_split(VAL_SIZE, RANDOM_SEED[run])\n",
        "    \n",
        "    train_subset[i] = copy(Subset(train_data, train_indices))\n",
        "    val_subset = Subset(train_data, val_indices)\n",
        "\n",
        "    tmp_dl = DataLoader(val_subset,\n",
        "                       batch_size=BATCH_SIZE,\n",
        "                       shuffle=True, \n",
        "                       num_workers=4,\n",
        "                       drop_last=True)\n",
        "    val_dataloader[i] = copy(tmp_dl)\n",
        "\n",
        "    tmp_dl = DataLoader(test_data,\n",
        "                       batch_size=BATCH_SIZE,\n",
        "                       shuffle=True, \n",
        "                       num_workers=4,\n",
        "                       drop_last=True)\n",
        "    test_dataloader[i] = copy(tmp_dl)\n",
        "\n",
        "  return train_dataloader, val_dataloader, test_dataloader, train_subset"
      ],
      "execution_count": 7,
      "outputs": []
    },
    {
      "cell_type": "markdown",
      "metadata": {
        "id": "20APZIgI1eBy"
      },
      "source": [
        "### Going on with the model\n",
        "This is the main iCaRL step.\n",
        "\n",
        "This step is run 3 times with different `RANDOM_SEED`.\n",
        "Here the model is instantiated, trained and tested.\n",
        "\n",
        "Results and some statistics are then stored in the variable `logs`."
      ]
    },
    {
      "cell_type": "code",
      "metadata": {
        "id": "mJHKbipz0bMr",
        "colab": {
          "base_uri": "https://localhost:8080/",
          "height": 1000,
          "referenced_widgets": [
            "1fd04aa71a24493c88a2b78c0e9016f7",
            "12f616884af247c7b4c968dbb5d19ab6",
            "f20b5891df0c446186cc64df093f9661",
            "f374ab26cd3c470da017109df79522cc",
            "5965bb60cfd345c78d8d5b6e8262f311",
            "86f6b49ab656455b9c4e23f41db1165f",
            "e5a14321d760459db6cd0c59b883f3ae",
            "adb8cddcd0054f81b30be40ca02439d5"
          ]
        },
        "outputId": "2739d731-820f-4b2b-8840-b6c881baa434"
      },
      "source": [
        "logs = [[] for i in range(len(RANDOM_SEED))]\n",
        "best_net_tot_classes = [None for i in range(len(RANDOM_SEED))]\n",
        "\n",
        "for run in range(len(RANDOM_SEED)):\n",
        "  print(\"#################################\")\n",
        "  print(f\"Radom seed: {RANDOM_SEED[run]}\")\n",
        "  print(\"\")\n",
        "\n",
        "  # get data_subsets separated in incremental groups of 10 classes\n",
        "  train_dl, val_dl, test_dl, train_set = do_group_classes(run)\n",
        "\n",
        "  #create the resnet\n",
        "  net = resnet32()\n",
        "  \n",
        "  trainer = owrEnsemble(DEVICE,\n",
        "                  net,\n",
        "                  LR,\n",
        "                  MOMENTUM,\n",
        "                  WEIGHT_DECAY,\n",
        "                  MILESTONES,\n",
        "                  GAMMA,\n",
        "                  train_dl,\n",
        "                  val_dl,\n",
        "                  test_dl,\n",
        "                  BATCH_SIZE,\n",
        "                  train_set,\n",
        "                  train_transform,\n",
        "                  test_transform,\n",
        "                  TESTING_MODE,\n",
        "                  REJECTION_THRESHOLD,\n",
        "                  N_ESTIMATORS,\n",
        "                  CONFIDENCE,\n",
        "                  STRATEGY) \n",
        "\n",
        "  #train and evaluate the model\n",
        "  logs[run] = trainer.train_model(NUM_EPOCHS)\n",
        "\n",
        "  best_net_tot_classes[run] = deepcopy(trainer.best_net)\n",
        "\n",
        "  print(\"#################################\")\n",
        "  print(\"\")\n",
        "  print(\"\")"
      ],
      "execution_count": 8,
      "outputs": [
        {
          "output_type": "stream",
          "text": [
            "#################################\n",
            "Radom seed: 20\n",
            "\n",
            "Downloading https://www.cs.toronto.edu/~kriz/cifar-100-python.tar.gz to dataset/cifar-100-python.tar.gz\n"
          ],
          "name": "stdout"
        },
        {
          "output_type": "display_data",
          "data": {
            "application/vnd.jupyter.widget-view+json": {
              "model_id": "1fd04aa71a24493c88a2b78c0e9016f7",
              "version_minor": 0,
              "version_major": 2
            },
            "text/plain": [
              "HBox(children=(FloatProgress(value=0.0, max=169001437.0), HTML(value='')))"
            ]
          },
          "metadata": {
            "tags": []
          }
        },
        {
          "output_type": "stream",
          "text": [
            "\n",
            "Extracting dataset/cifar-100-python.tar.gz to dataset\n"
          ],
          "name": "stdout"
        },
        {
          "output_type": "stream",
          "text": [
            "/usr/local/lib/python3.7/dist-packages/torch/utils/data/dataloader.py:481: UserWarning: This DataLoader will create 4 worker processes in total. Our suggested max number of worker in current system is 2, which is smaller than what this DataLoader is going to create. Please be aware that excessive worker creation might get DataLoader running slow or even freeze, lower the worker number to avoid potential slowness/freeze if necessary.\n",
            "  cpuset_checked))\n"
          ],
          "name": "stderr"
        },
        {
          "output_type": "stream",
          "text": [
            "Log will be saved in '/content/ProjectMLDL/logs'.\n",
            "Create folder 'logs/'\n",
            "Start logging into file /content/ProjectMLDL/logs/classification_mnist_mlp-2021_07_13_11_53.log...\n",
            "Length of exemplars set: 0\n"
          ],
          "name": "stdout"
        },
        {
          "output_type": "stream",
          "text": [
            "2021-07-13 11:53:54,756 - INFO: lr: 0.10000 | Epoch: 000 | Batch: 000 | Loss: 2.29938 | Correct: 15/128\n"
          ],
          "name": "stderr"
        },
        {
          "output_type": "stream",
          "text": [
            "None\n"
          ],
          "name": "stdout"
        },
        {
          "output_type": "stream",
          "text": [
            "2021-07-13 11:53:56,944 - INFO: lr: 0.09875 | Epoch: 001 | Batch: 000 | Loss: 1.81765 | Correct: 42/128\n"
          ],
          "name": "stderr"
        },
        {
          "output_type": "stream",
          "text": [
            "None\n"
          ],
          "name": "stdout"
        },
        {
          "output_type": "stream",
          "text": [
            "2021-07-13 11:53:59,143 - INFO: lr: 0.09505 | Epoch: 002 | Batch: 000 | Loss: 1.62733 | Correct: 48/128\n"
          ],
          "name": "stderr"
        },
        {
          "output_type": "stream",
          "text": [
            "None\n"
          ],
          "name": "stdout"
        },
        {
          "output_type": "stream",
          "text": [
            "2021-07-13 11:54:01,330 - INFO: lr: 0.08909 | Epoch: 003 | Batch: 000 | Loss: 1.41616 | Correct: 55/128\n"
          ],
          "name": "stderr"
        },
        {
          "output_type": "stream",
          "text": [
            "None\n"
          ],
          "name": "stdout"
        },
        {
          "output_type": "stream",
          "text": [
            "2021-07-13 11:54:03,474 - INFO: lr: 0.08117 | Epoch: 004 | Batch: 000 | Loss: 1.46024 | Correct: 50/128\n"
          ],
          "name": "stderr"
        },
        {
          "output_type": "stream",
          "text": [
            "None\n"
          ],
          "name": "stdout"
        },
        {
          "output_type": "stream",
          "text": [
            "2021-07-13 11:54:05,614 - INFO: lr: 0.07169 | Epoch: 005 | Batch: 000 | Loss: 1.19628 | Correct: 72/128\n"
          ],
          "name": "stderr"
        },
        {
          "output_type": "stream",
          "text": [
            "None\n"
          ],
          "name": "stdout"
        },
        {
          "output_type": "stream",
          "text": [
            "2021-07-13 11:54:07,723 - INFO: lr: 0.06113 | Epoch: 006 | Batch: 000 | Loss: 1.28461 | Correct: 68/128\n"
          ],
          "name": "stderr"
        },
        {
          "output_type": "stream",
          "text": [
            "None\n"
          ],
          "name": "stdout"
        },
        {
          "output_type": "stream",
          "text": [
            "2021-07-13 11:54:09,863 - INFO: lr: 0.05000 | Epoch: 007 | Batch: 000 | Loss: 1.08420 | Correct: 84/128\n"
          ],
          "name": "stderr"
        },
        {
          "output_type": "stream",
          "text": [
            "None\n"
          ],
          "name": "stdout"
        },
        {
          "output_type": "stream",
          "text": [
            "2021-07-13 11:54:12,012 - INFO: lr: 0.03887 | Epoch: 008 | Batch: 000 | Loss: 1.07308 | Correct: 81/128\n"
          ],
          "name": "stderr"
        },
        {
          "output_type": "stream",
          "text": [
            "None\n"
          ],
          "name": "stdout"
        },
        {
          "output_type": "stream",
          "text": [
            "2021-07-13 11:54:14,182 - INFO: lr: 0.02831 | Epoch: 009 | Batch: 000 | Loss: 0.90991 | Correct: 86/128\n"
          ],
          "name": "stderr"
        },
        {
          "output_type": "stream",
          "text": [
            "None\n"
          ],
          "name": "stdout"
        },
        {
          "output_type": "stream",
          "text": [
            "2021-07-13 11:54:16,429 - INFO: lr: 0.01883 | Epoch: 010 | Batch: 000 | Loss: 1.00231 | Correct: 71/128\n"
          ],
          "name": "stderr"
        },
        {
          "output_type": "stream",
          "text": [
            "None\n"
          ],
          "name": "stdout"
        },
        {
          "output_type": "stream",
          "text": [
            "2021-07-13 11:54:18,561 - INFO: lr: 0.01091 | Epoch: 011 | Batch: 000 | Loss: 0.84338 | Correct: 86/128\n"
          ],
          "name": "stderr"
        },
        {
          "output_type": "stream",
          "text": [
            "None\n"
          ],
          "name": "stdout"
        },
        {
          "output_type": "stream",
          "text": [
            "2021-07-13 11:54:20,764 - INFO: lr: 0.00495 | Epoch: 012 | Batch: 000 | Loss: 0.78947 | Correct: 91/128\n"
          ],
          "name": "stderr"
        },
        {
          "output_type": "stream",
          "text": [
            "None\n"
          ],
          "name": "stdout"
        },
        {
          "output_type": "stream",
          "text": [
            "2021-07-13 11:54:22,917 - INFO: lr: 0.00125 | Epoch: 013 | Batch: 000 | Loss: 0.84531 | Correct: 90/128\n"
          ],
          "name": "stderr"
        },
        {
          "output_type": "stream",
          "text": [
            "None\n"
          ],
          "name": "stdout"
        },
        {
          "output_type": "stream",
          "text": [
            "2021-07-13 11:54:24,742 - INFO: Save the snapshot model with index: 0\n",
            "2021-07-13 11:54:25,322 - INFO: n_estimators: 1 | Validation Acc: 68.750 % | Historical Best: 68.750 %\n",
            "2021-07-13 11:54:25,640 - INFO: lr: 0.10000 | Epoch: 014 | Batch: 000 | Loss: 0.92963 | Correct: 85/128\n"
          ],
          "name": "stderr"
        },
        {
          "output_type": "stream",
          "text": [
            "None\n"
          ],
          "name": "stdout"
        },
        {
          "output_type": "stream",
          "text": [
            "2021-07-13 11:54:27,888 - INFO: lr: 0.09875 | Epoch: 015 | Batch: 000 | Loss: 1.20659 | Correct: 75/128\n"
          ],
          "name": "stderr"
        },
        {
          "output_type": "stream",
          "text": [
            "None\n"
          ],
          "name": "stdout"
        },
        {
          "output_type": "stream",
          "text": [
            "2021-07-13 11:54:30,071 - INFO: lr: 0.09505 | Epoch: 016 | Batch: 000 | Loss: 0.93217 | Correct: 85/128\n"
          ],
          "name": "stderr"
        },
        {
          "output_type": "stream",
          "text": [
            "None\n"
          ],
          "name": "stdout"
        },
        {
          "output_type": "stream",
          "text": [
            "2021-07-13 11:54:32,282 - INFO: lr: 0.08909 | Epoch: 017 | Batch: 000 | Loss: 0.97309 | Correct: 81/128\n"
          ],
          "name": "stderr"
        },
        {
          "output_type": "stream",
          "text": [
            "None\n"
          ],
          "name": "stdout"
        },
        {
          "output_type": "stream",
          "text": [
            "2021-07-13 11:54:34,502 - INFO: lr: 0.08117 | Epoch: 018 | Batch: 000 | Loss: 0.77878 | Correct: 96/128\n"
          ],
          "name": "stderr"
        },
        {
          "output_type": "stream",
          "text": [
            "None\n"
          ],
          "name": "stdout"
        },
        {
          "output_type": "stream",
          "text": [
            "2021-07-13 11:54:36,723 - INFO: lr: 0.07169 | Epoch: 019 | Batch: 000 | Loss: 0.65185 | Correct: 100/128\n"
          ],
          "name": "stderr"
        },
        {
          "output_type": "stream",
          "text": [
            "None\n"
          ],
          "name": "stdout"
        },
        {
          "output_type": "stream",
          "text": [
            "2021-07-13 11:54:38,948 - INFO: lr: 0.06113 | Epoch: 020 | Batch: 000 | Loss: 0.64565 | Correct: 102/128\n"
          ],
          "name": "stderr"
        },
        {
          "output_type": "stream",
          "text": [
            "None\n"
          ],
          "name": "stdout"
        },
        {
          "output_type": "stream",
          "text": [
            "2021-07-13 11:54:41,077 - INFO: lr: 0.05000 | Epoch: 021 | Batch: 000 | Loss: 0.69897 | Correct: 98/128\n"
          ],
          "name": "stderr"
        },
        {
          "output_type": "stream",
          "text": [
            "None\n"
          ],
          "name": "stdout"
        },
        {
          "output_type": "stream",
          "text": [
            "2021-07-13 11:54:43,321 - INFO: lr: 0.03887 | Epoch: 022 | Batch: 000 | Loss: 0.54707 | Correct: 101/128\n"
          ],
          "name": "stderr"
        },
        {
          "output_type": "stream",
          "text": [
            "None\n"
          ],
          "name": "stdout"
        },
        {
          "output_type": "stream",
          "text": [
            "2021-07-13 11:54:45,510 - INFO: lr: 0.02831 | Epoch: 023 | Batch: 000 | Loss: 0.55877 | Correct: 103/128\n"
          ],
          "name": "stderr"
        },
        {
          "output_type": "stream",
          "text": [
            "None\n"
          ],
          "name": "stdout"
        },
        {
          "output_type": "stream",
          "text": [
            "2021-07-13 11:54:47,699 - INFO: lr: 0.01883 | Epoch: 024 | Batch: 000 | Loss: 0.47664 | Correct: 107/128\n"
          ],
          "name": "stderr"
        },
        {
          "output_type": "stream",
          "text": [
            "None\n"
          ],
          "name": "stdout"
        },
        {
          "output_type": "stream",
          "text": [
            "2021-07-13 11:54:49,891 - INFO: lr: 0.01091 | Epoch: 025 | Batch: 000 | Loss: 0.45764 | Correct: 110/128\n"
          ],
          "name": "stderr"
        },
        {
          "output_type": "stream",
          "text": [
            "None\n"
          ],
          "name": "stdout"
        },
        {
          "output_type": "stream",
          "text": [
            "2021-07-13 11:54:52,146 - INFO: lr: 0.00495 | Epoch: 026 | Batch: 000 | Loss: 0.36262 | Correct: 113/128\n"
          ],
          "name": "stderr"
        },
        {
          "output_type": "stream",
          "text": [
            "None\n"
          ],
          "name": "stdout"
        },
        {
          "output_type": "stream",
          "text": [
            "2021-07-13 11:54:54,351 - INFO: lr: 0.00125 | Epoch: 027 | Batch: 000 | Loss: 0.35426 | Correct: 114/128\n"
          ],
          "name": "stderr"
        },
        {
          "output_type": "stream",
          "text": [
            "None\n"
          ],
          "name": "stdout"
        },
        {
          "output_type": "stream",
          "text": [
            "2021-07-13 11:54:56,192 - INFO: Save the snapshot model with index: 1\n",
            "2021-07-13 11:54:56,860 - INFO: n_estimators: 2 | Validation Acc: 76.228 % | Historical Best: 76.228 %\n",
            "2021-07-13 11:54:57,246 - INFO: lr: 0.10000 | Epoch: 028 | Batch: 000 | Loss: 0.35295 | Correct: 111/128\n"
          ],
          "name": "stderr"
        },
        {
          "output_type": "stream",
          "text": [
            "None\n"
          ],
          "name": "stdout"
        },
        {
          "output_type": "stream",
          "text": [
            "2021-07-13 11:54:59,533 - INFO: lr: 0.09875 | Epoch: 029 | Batch: 000 | Loss: 1.09347 | Correct: 80/128\n"
          ],
          "name": "stderr"
        },
        {
          "output_type": "stream",
          "text": [
            "None\n"
          ],
          "name": "stdout"
        },
        {
          "output_type": "stream",
          "text": [
            "2021-07-13 11:55:01,950 - INFO: lr: 0.09505 | Epoch: 030 | Batch: 000 | Loss: 0.63984 | Correct: 104/128\n"
          ],
          "name": "stderr"
        },
        {
          "output_type": "stream",
          "text": [
            "None\n"
          ],
          "name": "stdout"
        },
        {
          "output_type": "stream",
          "text": [
            "2021-07-13 11:55:04,261 - INFO: lr: 0.08909 | Epoch: 031 | Batch: 000 | Loss: 0.43626 | Correct: 112/128\n"
          ],
          "name": "stderr"
        },
        {
          "output_type": "stream",
          "text": [
            "None\n"
          ],
          "name": "stdout"
        },
        {
          "output_type": "stream",
          "text": [
            "2021-07-13 11:55:06,591 - INFO: lr: 0.08117 | Epoch: 032 | Batch: 000 | Loss: 0.54610 | Correct: 108/128\n"
          ],
          "name": "stderr"
        },
        {
          "output_type": "stream",
          "text": [
            "None\n"
          ],
          "name": "stdout"
        },
        {
          "output_type": "stream",
          "text": [
            "2021-07-13 11:55:08,827 - INFO: lr: 0.07169 | Epoch: 033 | Batch: 000 | Loss: 0.43614 | Correct: 109/128\n"
          ],
          "name": "stderr"
        },
        {
          "output_type": "stream",
          "text": [
            "None\n"
          ],
          "name": "stdout"
        },
        {
          "output_type": "stream",
          "text": [
            "2021-07-13 11:55:10,981 - INFO: lr: 0.06113 | Epoch: 034 | Batch: 000 | Loss: 0.45517 | Correct: 106/128\n"
          ],
          "name": "stderr"
        },
        {
          "output_type": "stream",
          "text": [
            "None\n"
          ],
          "name": "stdout"
        },
        {
          "output_type": "stream",
          "text": [
            "2021-07-13 11:55:13,292 - INFO: lr: 0.05000 | Epoch: 035 | Batch: 000 | Loss: 0.48515 | Correct: 103/128\n"
          ],
          "name": "stderr"
        },
        {
          "output_type": "stream",
          "text": [
            "None\n"
          ],
          "name": "stdout"
        },
        {
          "output_type": "stream",
          "text": [
            "2021-07-13 11:55:15,510 - INFO: lr: 0.03887 | Epoch: 036 | Batch: 000 | Loss: 0.32737 | Correct: 118/128\n"
          ],
          "name": "stderr"
        },
        {
          "output_type": "stream",
          "text": [
            "None\n"
          ],
          "name": "stdout"
        },
        {
          "output_type": "stream",
          "text": [
            "2021-07-13 11:55:17,687 - INFO: lr: 0.02831 | Epoch: 037 | Batch: 000 | Loss: 0.28940 | Correct: 114/128\n"
          ],
          "name": "stderr"
        },
        {
          "output_type": "stream",
          "text": [
            "None\n"
          ],
          "name": "stdout"
        },
        {
          "output_type": "stream",
          "text": [
            "2021-07-13 11:55:19,917 - INFO: lr: 0.01883 | Epoch: 038 | Batch: 000 | Loss: 0.24494 | Correct: 116/128\n"
          ],
          "name": "stderr"
        },
        {
          "output_type": "stream",
          "text": [
            "None\n"
          ],
          "name": "stdout"
        },
        {
          "output_type": "stream",
          "text": [
            "2021-07-13 11:55:22,079 - INFO: lr: 0.01091 | Epoch: 039 | Batch: 000 | Loss: 0.32382 | Correct: 118/128\n"
          ],
          "name": "stderr"
        },
        {
          "output_type": "stream",
          "text": [
            "None\n"
          ],
          "name": "stdout"
        },
        {
          "output_type": "stream",
          "text": [
            "2021-07-13 11:55:24,316 - INFO: lr: 0.00495 | Epoch: 040 | Batch: 000 | Loss: 0.26837 | Correct: 115/128\n"
          ],
          "name": "stderr"
        },
        {
          "output_type": "stream",
          "text": [
            "None\n"
          ],
          "name": "stdout"
        },
        {
          "output_type": "stream",
          "text": [
            "2021-07-13 11:55:26,461 - INFO: lr: 0.00125 | Epoch: 041 | Batch: 000 | Loss: 0.19995 | Correct: 119/128\n"
          ],
          "name": "stderr"
        },
        {
          "output_type": "stream",
          "text": [
            "None\n"
          ],
          "name": "stdout"
        },
        {
          "output_type": "stream",
          "text": [
            "2021-07-13 11:55:28,337 - INFO: Save the snapshot model with index: 2\n",
            "2021-07-13 11:55:29,157 - INFO: n_estimators: 3 | Validation Acc: 81.250 % | Historical Best: 81.250 %\n",
            "2021-07-13 11:55:29,544 - INFO: lr: 0.10000 | Epoch: 042 | Batch: 000 | Loss: 0.24029 | Correct: 117/128\n"
          ],
          "name": "stderr"
        },
        {
          "output_type": "stream",
          "text": [
            "None\n"
          ],
          "name": "stdout"
        },
        {
          "output_type": "stream",
          "text": [
            "2021-07-13 11:55:31,768 - INFO: lr: 0.09875 | Epoch: 043 | Batch: 000 | Loss: 0.64684 | Correct: 100/128\n"
          ],
          "name": "stderr"
        },
        {
          "output_type": "stream",
          "text": [
            "None\n"
          ],
          "name": "stdout"
        },
        {
          "output_type": "stream",
          "text": [
            "2021-07-13 11:55:33,949 - INFO: lr: 0.09505 | Epoch: 044 | Batch: 000 | Loss: 0.49248 | Correct: 106/128\n"
          ],
          "name": "stderr"
        },
        {
          "output_type": "stream",
          "text": [
            "None\n"
          ],
          "name": "stdout"
        },
        {
          "output_type": "stream",
          "text": [
            "2021-07-13 11:55:36,178 - INFO: lr: 0.08909 | Epoch: 045 | Batch: 000 | Loss: 0.40490 | Correct: 109/128\n"
          ],
          "name": "stderr"
        },
        {
          "output_type": "stream",
          "text": [
            "None\n"
          ],
          "name": "stdout"
        },
        {
          "output_type": "stream",
          "text": [
            "2021-07-13 11:55:38,415 - INFO: lr: 0.08117 | Epoch: 046 | Batch: 000 | Loss: 0.34818 | Correct: 109/128\n"
          ],
          "name": "stderr"
        },
        {
          "output_type": "stream",
          "text": [
            "None\n"
          ],
          "name": "stdout"
        },
        {
          "output_type": "stream",
          "text": [
            "2021-07-13 11:55:40,632 - INFO: lr: 0.07169 | Epoch: 047 | Batch: 000 | Loss: 0.32302 | Correct: 115/128\n"
          ],
          "name": "stderr"
        },
        {
          "output_type": "stream",
          "text": [
            "None\n"
          ],
          "name": "stdout"
        },
        {
          "output_type": "stream",
          "text": [
            "2021-07-13 11:55:42,820 - INFO: lr: 0.06113 | Epoch: 048 | Batch: 000 | Loss: 0.19403 | Correct: 119/128\n"
          ],
          "name": "stderr"
        },
        {
          "output_type": "stream",
          "text": [
            "None\n"
          ],
          "name": "stdout"
        },
        {
          "output_type": "stream",
          "text": [
            "2021-07-13 11:55:45,025 - INFO: lr: 0.05000 | Epoch: 049 | Batch: 000 | Loss: 0.28061 | Correct: 116/128\n"
          ],
          "name": "stderr"
        },
        {
          "output_type": "stream",
          "text": [
            "None\n"
          ],
          "name": "stdout"
        },
        {
          "output_type": "stream",
          "text": [
            "2021-07-13 11:55:47,249 - INFO: lr: 0.03887 | Epoch: 050 | Batch: 000 | Loss: 0.20760 | Correct: 116/128\n"
          ],
          "name": "stderr"
        },
        {
          "output_type": "stream",
          "text": [
            "None\n"
          ],
          "name": "stdout"
        },
        {
          "output_type": "stream",
          "text": [
            "2021-07-13 11:55:49,371 - INFO: lr: 0.02831 | Epoch: 051 | Batch: 000 | Loss: 0.16308 | Correct: 124/128\n"
          ],
          "name": "stderr"
        },
        {
          "output_type": "stream",
          "text": [
            "None\n"
          ],
          "name": "stdout"
        },
        {
          "output_type": "stream",
          "text": [
            "2021-07-13 11:55:51,621 - INFO: lr: 0.01883 | Epoch: 052 | Batch: 000 | Loss: 0.09673 | Correct: 125/128\n"
          ],
          "name": "stderr"
        },
        {
          "output_type": "stream",
          "text": [
            "None\n"
          ],
          "name": "stdout"
        },
        {
          "output_type": "stream",
          "text": [
            "2021-07-13 11:55:53,775 - INFO: lr: 0.01091 | Epoch: 053 | Batch: 000 | Loss: 0.15272 | Correct: 122/128\n"
          ],
          "name": "stderr"
        },
        {
          "output_type": "stream",
          "text": [
            "None\n"
          ],
          "name": "stdout"
        },
        {
          "output_type": "stream",
          "text": [
            "2021-07-13 11:55:56,044 - INFO: lr: 0.00495 | Epoch: 054 | Batch: 000 | Loss: 0.12168 | Correct: 121/128\n"
          ],
          "name": "stderr"
        },
        {
          "output_type": "stream",
          "text": [
            "None\n"
          ],
          "name": "stdout"
        },
        {
          "output_type": "stream",
          "text": [
            "2021-07-13 11:55:58,583 - INFO: lr: 0.00125 | Epoch: 055 | Batch: 000 | Loss: 0.15856 | Correct: 120/128\n"
          ],
          "name": "stderr"
        },
        {
          "output_type": "stream",
          "text": [
            "None\n"
          ],
          "name": "stdout"
        },
        {
          "output_type": "stream",
          "text": [
            "2021-07-13 11:56:00,532 - INFO: Save the snapshot model with index: 3\n",
            "2021-07-13 11:56:01,472 - INFO: n_estimators: 4 | Validation Acc: 83.036 % | Historical Best: 83.036 %\n",
            "2021-07-13 11:56:01,890 - INFO: lr: 0.10000 | Epoch: 056 | Batch: 000 | Loss: 0.17382 | Correct: 120/128\n"
          ],
          "name": "stderr"
        },
        {
          "output_type": "stream",
          "text": [
            "None\n"
          ],
          "name": "stdout"
        },
        {
          "output_type": "stream",
          "text": [
            "2021-07-13 11:56:04,099 - INFO: lr: 0.09875 | Epoch: 057 | Batch: 000 | Loss: 0.41859 | Correct: 116/128\n"
          ],
          "name": "stderr"
        },
        {
          "output_type": "stream",
          "text": [
            "None\n"
          ],
          "name": "stdout"
        },
        {
          "output_type": "stream",
          "text": [
            "2021-07-13 11:56:06,317 - INFO: lr: 0.09505 | Epoch: 058 | Batch: 000 | Loss: 0.51673 | Correct: 106/128\n"
          ],
          "name": "stderr"
        },
        {
          "output_type": "stream",
          "text": [
            "None\n"
          ],
          "name": "stdout"
        },
        {
          "output_type": "stream",
          "text": [
            "2021-07-13 11:56:08,537 - INFO: lr: 0.08909 | Epoch: 059 | Batch: 000 | Loss: 0.20864 | Correct: 119/128\n"
          ],
          "name": "stderr"
        },
        {
          "output_type": "stream",
          "text": [
            "None\n"
          ],
          "name": "stdout"
        },
        {
          "output_type": "stream",
          "text": [
            "2021-07-13 11:56:10,732 - INFO: lr: 0.08117 | Epoch: 060 | Batch: 000 | Loss: 0.27594 | Correct: 116/128\n"
          ],
          "name": "stderr"
        },
        {
          "output_type": "stream",
          "text": [
            "None\n"
          ],
          "name": "stdout"
        },
        {
          "output_type": "stream",
          "text": [
            "2021-07-13 11:56:12,869 - INFO: lr: 0.07169 | Epoch: 061 | Batch: 000 | Loss: 0.28645 | Correct: 114/128\n"
          ],
          "name": "stderr"
        },
        {
          "output_type": "stream",
          "text": [
            "None\n"
          ],
          "name": "stdout"
        },
        {
          "output_type": "stream",
          "text": [
            "2021-07-13 11:56:15,101 - INFO: lr: 0.06113 | Epoch: 062 | Batch: 000 | Loss: 0.25869 | Correct: 116/128\n"
          ],
          "name": "stderr"
        },
        {
          "output_type": "stream",
          "text": [
            "None\n"
          ],
          "name": "stdout"
        },
        {
          "output_type": "stream",
          "text": [
            "2021-07-13 11:56:17,295 - INFO: lr: 0.05000 | Epoch: 063 | Batch: 000 | Loss: 0.13121 | Correct: 122/128\n"
          ],
          "name": "stderr"
        },
        {
          "output_type": "stream",
          "text": [
            "None\n"
          ],
          "name": "stdout"
        },
        {
          "output_type": "stream",
          "text": [
            "2021-07-13 11:56:19,538 - INFO: lr: 0.03887 | Epoch: 064 | Batch: 000 | Loss: 0.11948 | Correct: 123/128\n"
          ],
          "name": "stderr"
        },
        {
          "output_type": "stream",
          "text": [
            "None\n"
          ],
          "name": "stdout"
        },
        {
          "output_type": "stream",
          "text": [
            "2021-07-13 11:56:21,684 - INFO: lr: 0.02831 | Epoch: 065 | Batch: 000 | Loss: 0.07908 | Correct: 127/128\n"
          ],
          "name": "stderr"
        },
        {
          "output_type": "stream",
          "text": [
            "None\n"
          ],
          "name": "stdout"
        },
        {
          "output_type": "stream",
          "text": [
            "2021-07-13 11:56:23,934 - INFO: lr: 0.01883 | Epoch: 066 | Batch: 000 | Loss: 0.14083 | Correct: 124/128\n"
          ],
          "name": "stderr"
        },
        {
          "output_type": "stream",
          "text": [
            "None\n"
          ],
          "name": "stdout"
        },
        {
          "output_type": "stream",
          "text": [
            "2021-07-13 11:56:26,134 - INFO: lr: 0.01091 | Epoch: 067 | Batch: 000 | Loss: 0.09676 | Correct: 125/128\n"
          ],
          "name": "stderr"
        },
        {
          "output_type": "stream",
          "text": [
            "None\n"
          ],
          "name": "stdout"
        },
        {
          "output_type": "stream",
          "text": [
            "2021-07-13 11:56:28,337 - INFO: lr: 0.00495 | Epoch: 068 | Batch: 000 | Loss: 0.05696 | Correct: 128/128\n"
          ],
          "name": "stderr"
        },
        {
          "output_type": "stream",
          "text": [
            "None\n"
          ],
          "name": "stdout"
        },
        {
          "output_type": "stream",
          "text": [
            "2021-07-13 11:56:30,553 - INFO: lr: 0.00125 | Epoch: 069 | Batch: 000 | Loss: 0.05993 | Correct: 125/128\n"
          ],
          "name": "stderr"
        },
        {
          "output_type": "stream",
          "text": [
            "None\n"
          ],
          "name": "stdout"
        },
        {
          "output_type": "stream",
          "text": [
            "2021-07-13 11:56:32,379 - INFO: Save the snapshot model with index: 4\n",
            "2021-07-13 11:56:33,385 - INFO: n_estimators: 5 | Validation Acc: 84.152 % | Historical Best: 84.152 %\n"
          ],
          "name": "stderr"
        },
        {
          "output_type": "stream",
          "text": [
            "Group 1 Finished!\n",
            "Target number of exemplars: 200\n",
            "Randomly extracting exemplars from class 0 of current split... Extracted 200 exemplars.\n",
            "Randomly extracting exemplars from class 1 of current split... Extracted 200 exemplars.\n",
            "Randomly extracting exemplars from class 2 of current split... Extracted 200 exemplars.\n",
            "Randomly extracting exemplars from class 3 of current split... Extracted 200 exemplars.\n",
            "Randomly extracting exemplars from class 4 of current split... Extracted 200 exemplars.\n",
            "Randomly extracting exemplars from class 5 of current split... Extracted 200 exemplars.\n",
            "Randomly extracting exemplars from class 6 of current split... Extracted 200 exemplars.\n",
            "Randomly extracting exemplars from class 7 of current split... Extracted 200 exemplars.\n",
            "Randomly extracting exemplars from class 8 of current split... Extracted 200 exemplars.\n",
            "Randomly extracting exemplars from class 9 of current split... Extracted 200 exemplars.\n",
            "[0.07240423387096774, 0.21610383064516128, 0.44183467741935484, 0.588508064516129, 0.7852822580645161, 0.880241935483871, 0.9677167338709678],[0.8325892857142857, 0.8024553571428571, 0.7488839285714286, 0.6707589285714286, 0.49776785714285715, 0.33370535714285715, 0.109375]\n",
            "Testing on both open and closed world\n",
            "owr harmonic mean (threshold:0.25) = 0.13322302990400642\n",
            "owr harmonic mean (threshold:0.35) = 0.3405078049060672\n",
            "owr harmonic mean (threshold:0.5) = 0.5557700826041472\n",
            "owr harmonic mean (threshold:0.6) = 0.6269473288466266\n",
            "owr harmonic mean (threshold:0.75) = 0.6093109882709468\n",
            "owr harmonic mean (threshold:0.85) = 0.4839443215317362\n",
            "owr harmonic mean (threshold:0.95) = 0.19653668195325114\n",
            "\n",
            "=============================================\n",
            "\n",
            "Length of exemplars set: 2000\n"
          ],
          "name": "stdout"
        },
        {
          "output_type": "stream",
          "text": [
            "2021-07-13 11:57:08,838 - INFO: lr: 0.10000 | Epoch: 000 | Batch: 000 | Loss: 4.23259 | Correct: 4/128\n"
          ],
          "name": "stderr"
        },
        {
          "output_type": "stream",
          "text": [
            "None\n"
          ],
          "name": "stdout"
        },
        {
          "output_type": "stream",
          "text": [
            "2021-07-13 11:57:24,324 - INFO: lr: 0.09875 | Epoch: 001 | Batch: 000 | Loss: 2.58299 | Correct: 29/128\n"
          ],
          "name": "stderr"
        },
        {
          "output_type": "stream",
          "text": [
            "None\n"
          ],
          "name": "stdout"
        },
        {
          "output_type": "stream",
          "text": [
            "2021-07-13 11:57:39,783 - INFO: lr: 0.09505 | Epoch: 002 | Batch: 000 | Loss: 2.45424 | Correct: 33/128\n"
          ],
          "name": "stderr"
        },
        {
          "output_type": "stream",
          "text": [
            "None\n"
          ],
          "name": "stdout"
        },
        {
          "output_type": "stream",
          "text": [
            "2021-07-13 11:57:55,296 - INFO: lr: 0.08909 | Epoch: 003 | Batch: 000 | Loss: 2.35374 | Correct: 32/128\n"
          ],
          "name": "stderr"
        },
        {
          "output_type": "stream",
          "text": [
            "None\n"
          ],
          "name": "stdout"
        },
        {
          "output_type": "stream",
          "text": [
            "2021-07-13 11:58:10,796 - INFO: lr: 0.08117 | Epoch: 004 | Batch: 000 | Loss: 2.07176 | Correct: 43/128\n"
          ],
          "name": "stderr"
        },
        {
          "output_type": "stream",
          "text": [
            "None\n"
          ],
          "name": "stdout"
        },
        {
          "output_type": "stream",
          "text": [
            "2021-07-13 11:58:26,342 - INFO: lr: 0.07169 | Epoch: 005 | Batch: 000 | Loss: 1.89368 | Correct: 46/128\n"
          ],
          "name": "stderr"
        },
        {
          "output_type": "stream",
          "text": [
            "None\n"
          ],
          "name": "stdout"
        },
        {
          "output_type": "stream",
          "text": [
            "2021-07-13 11:58:41,890 - INFO: lr: 0.06113 | Epoch: 006 | Batch: 000 | Loss: 1.84665 | Correct: 57/128\n"
          ],
          "name": "stderr"
        },
        {
          "output_type": "stream",
          "text": [
            "None\n"
          ],
          "name": "stdout"
        },
        {
          "output_type": "stream",
          "text": [
            "2021-07-13 11:58:57,468 - INFO: lr: 0.05000 | Epoch: 007 | Batch: 000 | Loss: 1.94152 | Correct: 46/128\n"
          ],
          "name": "stderr"
        },
        {
          "output_type": "stream",
          "text": [
            "None\n"
          ],
          "name": "stdout"
        },
        {
          "output_type": "stream",
          "text": [
            "2021-07-13 11:59:13,008 - INFO: lr: 0.03887 | Epoch: 008 | Batch: 000 | Loss: 1.69601 | Correct: 54/128\n"
          ],
          "name": "stderr"
        },
        {
          "output_type": "stream",
          "text": [
            "None\n"
          ],
          "name": "stdout"
        },
        {
          "output_type": "stream",
          "text": [
            "2021-07-13 11:59:28,506 - INFO: lr: 0.02831 | Epoch: 009 | Batch: 000 | Loss: 1.36389 | Correct: 77/128\n"
          ],
          "name": "stderr"
        },
        {
          "output_type": "stream",
          "text": [
            "None\n"
          ],
          "name": "stdout"
        },
        {
          "output_type": "stream",
          "text": [
            "2021-07-13 11:59:44,125 - INFO: lr: 0.01883 | Epoch: 010 | Batch: 000 | Loss: 1.32062 | Correct: 74/128\n"
          ],
          "name": "stderr"
        },
        {
          "output_type": "stream",
          "text": [
            "None\n"
          ],
          "name": "stdout"
        },
        {
          "output_type": "stream",
          "text": [
            "2021-07-13 11:59:59,723 - INFO: lr: 0.01091 | Epoch: 011 | Batch: 000 | Loss: 1.40442 | Correct: 70/128\n"
          ],
          "name": "stderr"
        },
        {
          "output_type": "stream",
          "text": [
            "None\n"
          ],
          "name": "stdout"
        },
        {
          "output_type": "stream",
          "text": [
            "2021-07-13 12:00:15,322 - INFO: lr: 0.00495 | Epoch: 012 | Batch: 000 | Loss: 1.35157 | Correct: 70/128\n"
          ],
          "name": "stderr"
        },
        {
          "output_type": "stream",
          "text": [
            "None\n"
          ],
          "name": "stdout"
        },
        {
          "output_type": "stream",
          "text": [
            "2021-07-13 12:00:30,962 - INFO: lr: 0.00125 | Epoch: 013 | Batch: 000 | Loss: 1.37592 | Correct: 70/128\n"
          ],
          "name": "stderr"
        },
        {
          "output_type": "stream",
          "text": [
            "None\n"
          ],
          "name": "stdout"
        },
        {
          "output_type": "stream",
          "text": [
            "2021-07-13 12:00:45,843 - INFO: Save the snapshot model with index: 0\n",
            "2021-07-13 12:00:46,465 - INFO: n_estimators: 1 | Validation Acc: 66.406 % | Historical Best: 66.406 %\n",
            "2021-07-13 12:00:47,193 - INFO: lr: 0.10000 | Epoch: 014 | Batch: 000 | Loss: 1.46591 | Correct: 71/128\n"
          ],
          "name": "stderr"
        },
        {
          "output_type": "stream",
          "text": [
            "None\n"
          ],
          "name": "stdout"
        },
        {
          "output_type": "stream",
          "text": [
            "2021-07-13 12:01:02,782 - INFO: lr: 0.09875 | Epoch: 015 | Batch: 000 | Loss: 1.90770 | Correct: 53/128\n"
          ],
          "name": "stderr"
        },
        {
          "output_type": "stream",
          "text": [
            "None\n"
          ],
          "name": "stdout"
        },
        {
          "output_type": "stream",
          "text": [
            "2021-07-13 12:01:18,375 - INFO: lr: 0.09505 | Epoch: 016 | Batch: 000 | Loss: 1.41230 | Correct: 69/128\n"
          ],
          "name": "stderr"
        },
        {
          "output_type": "stream",
          "text": [
            "None\n"
          ],
          "name": "stdout"
        },
        {
          "output_type": "stream",
          "text": [
            "2021-07-13 12:01:33,942 - INFO: lr: 0.08909 | Epoch: 017 | Batch: 000 | Loss: 1.62805 | Correct: 64/128\n"
          ],
          "name": "stderr"
        },
        {
          "output_type": "stream",
          "text": [
            "None\n"
          ],
          "name": "stdout"
        },
        {
          "output_type": "stream",
          "text": [
            "2021-07-13 12:01:49,528 - INFO: lr: 0.08117 | Epoch: 018 | Batch: 000 | Loss: 1.29281 | Correct: 73/128\n"
          ],
          "name": "stderr"
        },
        {
          "output_type": "stream",
          "text": [
            "None\n"
          ],
          "name": "stdout"
        },
        {
          "output_type": "stream",
          "text": [
            "2021-07-13 12:02:05,087 - INFO: lr: 0.07169 | Epoch: 019 | Batch: 000 | Loss: 1.21334 | Correct: 80/128\n"
          ],
          "name": "stderr"
        },
        {
          "output_type": "stream",
          "text": [
            "None\n"
          ],
          "name": "stdout"
        },
        {
          "output_type": "stream",
          "text": [
            "2021-07-13 12:02:20,690 - INFO: lr: 0.06113 | Epoch: 020 | Batch: 000 | Loss: 1.02080 | Correct: 87/128\n"
          ],
          "name": "stderr"
        },
        {
          "output_type": "stream",
          "text": [
            "None\n"
          ],
          "name": "stdout"
        },
        {
          "output_type": "stream",
          "text": [
            "2021-07-13 12:02:36,293 - INFO: lr: 0.05000 | Epoch: 021 | Batch: 000 | Loss: 1.03566 | Correct: 81/128\n"
          ],
          "name": "stderr"
        },
        {
          "output_type": "stream",
          "text": [
            "None\n"
          ],
          "name": "stdout"
        },
        {
          "output_type": "stream",
          "text": [
            "2021-07-13 12:02:51,887 - INFO: lr: 0.03887 | Epoch: 022 | Batch: 000 | Loss: 1.15478 | Correct: 83/128\n"
          ],
          "name": "stderr"
        },
        {
          "output_type": "stream",
          "text": [
            "None\n"
          ],
          "name": "stdout"
        },
        {
          "output_type": "stream",
          "text": [
            "2021-07-13 12:03:07,465 - INFO: lr: 0.02831 | Epoch: 023 | Batch: 000 | Loss: 0.78118 | Correct: 97/128\n"
          ],
          "name": "stderr"
        },
        {
          "output_type": "stream",
          "text": [
            "None\n"
          ],
          "name": "stdout"
        },
        {
          "output_type": "stream",
          "text": [
            "2021-07-13 12:03:23,045 - INFO: lr: 0.01883 | Epoch: 024 | Batch: 000 | Loss: 0.75883 | Correct: 99/128\n"
          ],
          "name": "stderr"
        },
        {
          "output_type": "stream",
          "text": [
            "None\n"
          ],
          "name": "stdout"
        },
        {
          "output_type": "stream",
          "text": [
            "2021-07-13 12:03:38,593 - INFO: lr: 0.01091 | Epoch: 025 | Batch: 000 | Loss: 0.70428 | Correct: 101/128\n"
          ],
          "name": "stderr"
        },
        {
          "output_type": "stream",
          "text": [
            "None\n"
          ],
          "name": "stdout"
        },
        {
          "output_type": "stream",
          "text": [
            "2021-07-13 12:03:54,197 - INFO: lr: 0.00495 | Epoch: 026 | Batch: 000 | Loss: 0.81227 | Correct: 93/128\n"
          ],
          "name": "stderr"
        },
        {
          "output_type": "stream",
          "text": [
            "None\n"
          ],
          "name": "stdout"
        },
        {
          "output_type": "stream",
          "text": [
            "2021-07-13 12:04:09,772 - INFO: lr: 0.00125 | Epoch: 027 | Batch: 000 | Loss: 0.64659 | Correct: 101/128\n"
          ],
          "name": "stderr"
        },
        {
          "output_type": "stream",
          "text": [
            "None\n"
          ],
          "name": "stdout"
        },
        {
          "output_type": "stream",
          "text": [
            "2021-07-13 12:04:24,651 - INFO: Save the snapshot model with index: 1\n",
            "2021-07-13 12:04:25,355 - INFO: n_estimators: 2 | Validation Acc: 72.545 % | Historical Best: 72.545 %\n",
            "2021-07-13 12:04:26,069 - INFO: lr: 0.10000 | Epoch: 028 | Batch: 000 | Loss: 0.63668 | Correct: 102/128\n"
          ],
          "name": "stderr"
        },
        {
          "output_type": "stream",
          "text": [
            "None\n"
          ],
          "name": "stdout"
        },
        {
          "output_type": "stream",
          "text": [
            "2021-07-13 12:04:41,710 - INFO: lr: 0.09875 | Epoch: 029 | Batch: 000 | Loss: 1.04683 | Correct: 84/128\n"
          ],
          "name": "stderr"
        },
        {
          "output_type": "stream",
          "text": [
            "None\n"
          ],
          "name": "stdout"
        },
        {
          "output_type": "stream",
          "text": [
            "2021-07-13 12:04:57,279 - INFO: lr: 0.09505 | Epoch: 030 | Batch: 000 | Loss: 1.08754 | Correct: 81/128\n"
          ],
          "name": "stderr"
        },
        {
          "output_type": "stream",
          "text": [
            "None\n"
          ],
          "name": "stdout"
        },
        {
          "output_type": "stream",
          "text": [
            "2021-07-13 12:05:12,736 - INFO: lr: 0.08909 | Epoch: 031 | Batch: 000 | Loss: 1.00174 | Correct: 89/128\n"
          ],
          "name": "stderr"
        },
        {
          "output_type": "stream",
          "text": [
            "None\n"
          ],
          "name": "stdout"
        },
        {
          "output_type": "stream",
          "text": [
            "2021-07-13 12:05:28,187 - INFO: lr: 0.08117 | Epoch: 032 | Batch: 000 | Loss: 1.25674 | Correct: 79/128\n"
          ],
          "name": "stderr"
        },
        {
          "output_type": "stream",
          "text": [
            "None\n"
          ],
          "name": "stdout"
        },
        {
          "output_type": "stream",
          "text": [
            "2021-07-13 12:05:43,706 - INFO: lr: 0.07169 | Epoch: 033 | Batch: 000 | Loss: 0.81744 | Correct: 91/128\n"
          ],
          "name": "stderr"
        },
        {
          "output_type": "stream",
          "text": [
            "None\n"
          ],
          "name": "stdout"
        },
        {
          "output_type": "stream",
          "text": [
            "2021-07-13 12:05:59,233 - INFO: lr: 0.06113 | Epoch: 034 | Batch: 000 | Loss: 0.77457 | Correct: 92/128\n"
          ],
          "name": "stderr"
        },
        {
          "output_type": "stream",
          "text": [
            "None\n"
          ],
          "name": "stdout"
        },
        {
          "output_type": "stream",
          "text": [
            "2021-07-13 12:06:14,720 - INFO: lr: 0.05000 | Epoch: 035 | Batch: 000 | Loss: 0.67967 | Correct: 100/128\n"
          ],
          "name": "stderr"
        },
        {
          "output_type": "stream",
          "text": [
            "None\n"
          ],
          "name": "stdout"
        },
        {
          "output_type": "stream",
          "text": [
            "2021-07-13 12:06:30,155 - INFO: lr: 0.03887 | Epoch: 036 | Batch: 000 | Loss: 0.61773 | Correct: 100/128\n"
          ],
          "name": "stderr"
        },
        {
          "output_type": "stream",
          "text": [
            "None\n"
          ],
          "name": "stdout"
        },
        {
          "output_type": "stream",
          "text": [
            "2021-07-13 12:06:45,683 - INFO: lr: 0.02831 | Epoch: 037 | Batch: 000 | Loss: 0.48003 | Correct: 105/128\n"
          ],
          "name": "stderr"
        },
        {
          "output_type": "stream",
          "text": [
            "None\n"
          ],
          "name": "stdout"
        },
        {
          "output_type": "stream",
          "text": [
            "2021-07-13 12:07:01,233 - INFO: lr: 0.01883 | Epoch: 038 | Batch: 000 | Loss: 0.49280 | Correct: 108/128\n"
          ],
          "name": "stderr"
        },
        {
          "output_type": "stream",
          "text": [
            "None\n"
          ],
          "name": "stdout"
        },
        {
          "output_type": "stream",
          "text": [
            "2021-07-13 12:07:16,761 - INFO: lr: 0.01091 | Epoch: 039 | Batch: 000 | Loss: 0.52301 | Correct: 109/128\n"
          ],
          "name": "stderr"
        },
        {
          "output_type": "stream",
          "text": [
            "None\n"
          ],
          "name": "stdout"
        },
        {
          "output_type": "stream",
          "text": [
            "2021-07-13 12:07:32,234 - INFO: lr: 0.00495 | Epoch: 040 | Batch: 000 | Loss: 0.52210 | Correct: 108/128\n"
          ],
          "name": "stderr"
        },
        {
          "output_type": "stream",
          "text": [
            "None\n"
          ],
          "name": "stdout"
        },
        {
          "output_type": "stream",
          "text": [
            "2021-07-13 12:07:47,811 - INFO: lr: 0.00125 | Epoch: 041 | Batch: 000 | Loss: 0.33370 | Correct: 117/128\n"
          ],
          "name": "stderr"
        },
        {
          "output_type": "stream",
          "text": [
            "None\n"
          ],
          "name": "stdout"
        },
        {
          "output_type": "stream",
          "text": [
            "2021-07-13 12:08:02,636 - INFO: Save the snapshot model with index: 2\n",
            "2021-07-13 12:08:03,454 - INFO: n_estimators: 3 | Validation Acc: 75.446 % | Historical Best: 75.446 %\n",
            "2021-07-13 12:08:04,127 - INFO: lr: 0.10000 | Epoch: 042 | Batch: 000 | Loss: 0.45191 | Correct: 107/128\n"
          ],
          "name": "stderr"
        },
        {
          "output_type": "stream",
          "text": [
            "None\n"
          ],
          "name": "stdout"
        },
        {
          "output_type": "stream",
          "text": [
            "2021-07-13 12:08:19,748 - INFO: lr: 0.09875 | Epoch: 043 | Batch: 000 | Loss: 0.89680 | Correct: 90/128\n"
          ],
          "name": "stderr"
        },
        {
          "output_type": "stream",
          "text": [
            "None\n"
          ],
          "name": "stdout"
        },
        {
          "output_type": "stream",
          "text": [
            "2021-07-13 12:08:35,279 - INFO: lr: 0.09505 | Epoch: 044 | Batch: 000 | Loss: 0.69822 | Correct: 102/128\n"
          ],
          "name": "stderr"
        },
        {
          "output_type": "stream",
          "text": [
            "None\n"
          ],
          "name": "stdout"
        },
        {
          "output_type": "stream",
          "text": [
            "2021-07-13 12:08:50,850 - INFO: lr: 0.08909 | Epoch: 045 | Batch: 000 | Loss: 0.79649 | Correct: 96/128\n"
          ],
          "name": "stderr"
        },
        {
          "output_type": "stream",
          "text": [
            "None\n"
          ],
          "name": "stdout"
        },
        {
          "output_type": "stream",
          "text": [
            "2021-07-13 12:09:06,383 - INFO: lr: 0.08117 | Epoch: 046 | Batch: 000 | Loss: 0.62819 | Correct: 99/128\n"
          ],
          "name": "stderr"
        },
        {
          "output_type": "stream",
          "text": [
            "None\n"
          ],
          "name": "stdout"
        },
        {
          "output_type": "stream",
          "text": [
            "2021-07-13 12:09:21,942 - INFO: lr: 0.07169 | Epoch: 047 | Batch: 000 | Loss: 0.45207 | Correct: 110/128\n"
          ],
          "name": "stderr"
        },
        {
          "output_type": "stream",
          "text": [
            "None\n"
          ],
          "name": "stdout"
        },
        {
          "output_type": "stream",
          "text": [
            "2021-07-13 12:09:37,527 - INFO: lr: 0.06113 | Epoch: 048 | Batch: 000 | Loss: 0.52307 | Correct: 110/128\n"
          ],
          "name": "stderr"
        },
        {
          "output_type": "stream",
          "text": [
            "None\n"
          ],
          "name": "stdout"
        },
        {
          "output_type": "stream",
          "text": [
            "2021-07-13 12:09:53,055 - INFO: lr: 0.05000 | Epoch: 049 | Batch: 000 | Loss: 0.43679 | Correct: 108/128\n"
          ],
          "name": "stderr"
        },
        {
          "output_type": "stream",
          "text": [
            "None\n"
          ],
          "name": "stdout"
        },
        {
          "output_type": "stream",
          "text": [
            "2021-07-13 12:10:08,576 - INFO: lr: 0.03887 | Epoch: 050 | Batch: 000 | Loss: 0.40590 | Correct: 108/128\n"
          ],
          "name": "stderr"
        },
        {
          "output_type": "stream",
          "text": [
            "None\n"
          ],
          "name": "stdout"
        },
        {
          "output_type": "stream",
          "text": [
            "2021-07-13 12:10:24,066 - INFO: lr: 0.02831 | Epoch: 051 | Batch: 000 | Loss: 0.34317 | Correct: 112/128\n"
          ],
          "name": "stderr"
        },
        {
          "output_type": "stream",
          "text": [
            "None\n"
          ],
          "name": "stdout"
        },
        {
          "output_type": "stream",
          "text": [
            "2021-07-13 12:10:39,631 - INFO: lr: 0.01883 | Epoch: 052 | Batch: 000 | Loss: 0.42408 | Correct: 107/128\n"
          ],
          "name": "stderr"
        },
        {
          "output_type": "stream",
          "text": [
            "None\n"
          ],
          "name": "stdout"
        },
        {
          "output_type": "stream",
          "text": [
            "2021-07-13 12:10:55,208 - INFO: lr: 0.01091 | Epoch: 053 | Batch: 000 | Loss: 0.29207 | Correct: 116/128\n"
          ],
          "name": "stderr"
        },
        {
          "output_type": "stream",
          "text": [
            "None\n"
          ],
          "name": "stdout"
        },
        {
          "output_type": "stream",
          "text": [
            "2021-07-13 12:11:10,796 - INFO: lr: 0.00495 | Epoch: 054 | Batch: 000 | Loss: 0.29327 | Correct: 117/128\n"
          ],
          "name": "stderr"
        },
        {
          "output_type": "stream",
          "text": [
            "None\n"
          ],
          "name": "stdout"
        },
        {
          "output_type": "stream",
          "text": [
            "2021-07-13 12:11:26,373 - INFO: lr: 0.00125 | Epoch: 055 | Batch: 000 | Loss: 0.16269 | Correct: 123/128\n"
          ],
          "name": "stderr"
        },
        {
          "output_type": "stream",
          "text": [
            "None\n"
          ],
          "name": "stdout"
        },
        {
          "output_type": "stream",
          "text": [
            "2021-07-13 12:11:41,253 - INFO: Save the snapshot model with index: 3\n",
            "2021-07-13 12:11:42,162 - INFO: n_estimators: 4 | Validation Acc: 77.790 % | Historical Best: 77.790 %\n",
            "2021-07-13 12:11:42,934 - INFO: lr: 0.10000 | Epoch: 056 | Batch: 000 | Loss: 0.27011 | Correct: 116/128\n"
          ],
          "name": "stderr"
        },
        {
          "output_type": "stream",
          "text": [
            "None\n"
          ],
          "name": "stdout"
        },
        {
          "output_type": "stream",
          "text": [
            "2021-07-13 12:11:58,396 - INFO: lr: 0.09875 | Epoch: 057 | Batch: 000 | Loss: 0.66676 | Correct: 102/128\n"
          ],
          "name": "stderr"
        },
        {
          "output_type": "stream",
          "text": [
            "None\n"
          ],
          "name": "stdout"
        },
        {
          "output_type": "stream",
          "text": [
            "2021-07-13 12:12:13,930 - INFO: lr: 0.09505 | Epoch: 058 | Batch: 000 | Loss: 0.50325 | Correct: 110/128\n"
          ],
          "name": "stderr"
        },
        {
          "output_type": "stream",
          "text": [
            "None\n"
          ],
          "name": "stdout"
        },
        {
          "output_type": "stream",
          "text": [
            "2021-07-13 12:12:29,485 - INFO: lr: 0.08909 | Epoch: 059 | Batch: 000 | Loss: 0.42454 | Correct: 110/128\n"
          ],
          "name": "stderr"
        },
        {
          "output_type": "stream",
          "text": [
            "None\n"
          ],
          "name": "stdout"
        },
        {
          "output_type": "stream",
          "text": [
            "2021-07-13 12:12:45,031 - INFO: lr: 0.08117 | Epoch: 060 | Batch: 000 | Loss: 0.41830 | Correct: 111/128\n"
          ],
          "name": "stderr"
        },
        {
          "output_type": "stream",
          "text": [
            "None\n"
          ],
          "name": "stdout"
        },
        {
          "output_type": "stream",
          "text": [
            "2021-07-13 12:13:00,607 - INFO: lr: 0.07169 | Epoch: 061 | Batch: 000 | Loss: 0.39431 | Correct: 108/128\n"
          ],
          "name": "stderr"
        },
        {
          "output_type": "stream",
          "text": [
            "None\n"
          ],
          "name": "stdout"
        },
        {
          "output_type": "stream",
          "text": [
            "2021-07-13 12:13:16,218 - INFO: lr: 0.06113 | Epoch: 062 | Batch: 000 | Loss: 0.43490 | Correct: 109/128\n"
          ],
          "name": "stderr"
        },
        {
          "output_type": "stream",
          "text": [
            "None\n"
          ],
          "name": "stdout"
        },
        {
          "output_type": "stream",
          "text": [
            "2021-07-13 12:13:31,769 - INFO: lr: 0.05000 | Epoch: 063 | Batch: 000 | Loss: 0.25051 | Correct: 119/128\n"
          ],
          "name": "stderr"
        },
        {
          "output_type": "stream",
          "text": [
            "None\n"
          ],
          "name": "stdout"
        },
        {
          "output_type": "stream",
          "text": [
            "2021-07-13 12:13:47,355 - INFO: lr: 0.03887 | Epoch: 064 | Batch: 000 | Loss: 0.15495 | Correct: 124/128\n"
          ],
          "name": "stderr"
        },
        {
          "output_type": "stream",
          "text": [
            "None\n"
          ],
          "name": "stdout"
        },
        {
          "output_type": "stream",
          "text": [
            "2021-07-13 12:14:02,911 - INFO: lr: 0.02831 | Epoch: 065 | Batch: 000 | Loss: 0.22214 | Correct: 121/128\n"
          ],
          "name": "stderr"
        },
        {
          "output_type": "stream",
          "text": [
            "None\n"
          ],
          "name": "stdout"
        },
        {
          "output_type": "stream",
          "text": [
            "2021-07-13 12:14:18,505 - INFO: lr: 0.01883 | Epoch: 066 | Batch: 000 | Loss: 0.19125 | Correct: 121/128\n"
          ],
          "name": "stderr"
        },
        {
          "output_type": "stream",
          "text": [
            "None\n"
          ],
          "name": "stdout"
        },
        {
          "output_type": "stream",
          "text": [
            "2021-07-13 12:14:34,031 - INFO: lr: 0.01091 | Epoch: 067 | Batch: 000 | Loss: 0.11809 | Correct: 124/128\n"
          ],
          "name": "stderr"
        },
        {
          "output_type": "stream",
          "text": [
            "None\n"
          ],
          "name": "stdout"
        },
        {
          "output_type": "stream",
          "text": [
            "2021-07-13 12:14:49,555 - INFO: lr: 0.00495 | Epoch: 068 | Batch: 000 | Loss: 0.14182 | Correct: 122/128\n"
          ],
          "name": "stderr"
        },
        {
          "output_type": "stream",
          "text": [
            "None\n"
          ],
          "name": "stdout"
        },
        {
          "output_type": "stream",
          "text": [
            "2021-07-13 12:15:05,005 - INFO: lr: 0.00125 | Epoch: 069 | Batch: 000 | Loss: 0.15058 | Correct: 122/128\n"
          ],
          "name": "stderr"
        },
        {
          "output_type": "stream",
          "text": [
            "None\n"
          ],
          "name": "stdout"
        },
        {
          "output_type": "stream",
          "text": [
            "2021-07-13 12:15:19,836 - INFO: Save the snapshot model with index: 4\n",
            "2021-07-13 12:15:20,865 - INFO: n_estimators: 5 | Validation Acc: 79.576 % | Historical Best: 79.576 %\n"
          ],
          "name": "stderr"
        },
        {
          "output_type": "stream",
          "text": [
            "Group 2 Finished!\n",
            "Target number of exemplars: 100\n",
            "Randomly extracting exemplars from class 0 of current split... Extracted 100 exemplars.\n",
            "Randomly extracting exemplars from class 1 of current split... Extracted 100 exemplars.\n",
            "Randomly extracting exemplars from class 2 of current split... Extracted 100 exemplars.\n",
            "Randomly extracting exemplars from class 3 of current split... Extracted 100 exemplars.\n",
            "Randomly extracting exemplars from class 4 of current split... Extracted 100 exemplars.\n",
            "Randomly extracting exemplars from class 5 of current split... Extracted 100 exemplars.\n",
            "Randomly extracting exemplars from class 6 of current split... Extracted 100 exemplars.\n",
            "Randomly extracting exemplars from class 7 of current split... Extracted 100 exemplars.\n",
            "Randomly extracting exemplars from class 8 of current split... Extracted 100 exemplars.\n",
            "Randomly extracting exemplars from class 9 of current split... Extracted 100 exemplars.\n",
            "[0.10652721774193548, 0.26030745967741936, 0.4822328629032258, 0.6132308467741936, 0.814163306451613, 0.8963961693548387, 0.9537550403225806],[0.7088541666666667, 0.6697916666666667, 0.5958333333333333, 0.5197916666666667, 0.3484375, 0.23020833333333332, 0.11927083333333334]\n",
            "Testing on both open and closed world\n",
            "owr harmonic mean (threshold:0.25) = 0.1852194901764833\n",
            "owr harmonic mean (threshold:0.35) = 0.3749100764096497\n",
            "owr harmonic mean (threshold:0.5) = 0.5330478131112029\n",
            "owr harmonic mean (threshold:0.6) = 0.5626583410565338\n",
            "owr harmonic mean (threshold:0.75) = 0.4880179430763895\n",
            "owr harmonic mean (threshold:0.85) = 0.3663359549179411\n",
            "owr harmonic mean (threshold:0.95) = 0.21202686952471173\n",
            "\n",
            "=============================================\n",
            "\n",
            "Length of exemplars set: 2000\n"
          ],
          "name": "stdout"
        },
        {
          "output_type": "stream",
          "text": [
            "2021-07-13 12:15:57,490 - INFO: lr: 0.10000 | Epoch: 000 | Batch: 000 | Loss: 4.48570 | Correct: 1/128\n"
          ],
          "name": "stderr"
        },
        {
          "output_type": "stream",
          "text": [
            "None\n"
          ],
          "name": "stdout"
        },
        {
          "output_type": "stream",
          "text": [
            "2021-07-13 12:16:13,357 - INFO: lr: 0.09875 | Epoch: 001 | Batch: 000 | Loss: 2.86803 | Correct: 33/128\n"
          ],
          "name": "stderr"
        },
        {
          "output_type": "stream",
          "text": [
            "None\n"
          ],
          "name": "stdout"
        },
        {
          "output_type": "stream",
          "text": [
            "2021-07-13 12:16:29,298 - INFO: lr: 0.09505 | Epoch: 002 | Batch: 000 | Loss: 2.48491 | Correct: 35/128\n"
          ],
          "name": "stderr"
        },
        {
          "output_type": "stream",
          "text": [
            "None\n"
          ],
          "name": "stdout"
        },
        {
          "output_type": "stream",
          "text": [
            "2021-07-13 12:16:45,246 - INFO: lr: 0.08909 | Epoch: 003 | Batch: 000 | Loss: 2.44190 | Correct: 41/128\n"
          ],
          "name": "stderr"
        },
        {
          "output_type": "stream",
          "text": [
            "None\n"
          ],
          "name": "stdout"
        },
        {
          "output_type": "stream",
          "text": [
            "2021-07-13 12:17:01,181 - INFO: lr: 0.08117 | Epoch: 004 | Batch: 000 | Loss: 2.22605 | Correct: 43/128\n"
          ],
          "name": "stderr"
        },
        {
          "output_type": "stream",
          "text": [
            "None\n"
          ],
          "name": "stdout"
        },
        {
          "output_type": "stream",
          "text": [
            "2021-07-13 12:17:17,076 - INFO: lr: 0.07169 | Epoch: 005 | Batch: 000 | Loss: 2.15351 | Correct: 52/128\n"
          ],
          "name": "stderr"
        },
        {
          "output_type": "stream",
          "text": [
            "None\n"
          ],
          "name": "stdout"
        },
        {
          "output_type": "stream",
          "text": [
            "2021-07-13 12:17:32,959 - INFO: lr: 0.06113 | Epoch: 006 | Batch: 000 | Loss: 1.98843 | Correct: 59/128\n"
          ],
          "name": "stderr"
        },
        {
          "output_type": "stream",
          "text": [
            "None\n"
          ],
          "name": "stdout"
        },
        {
          "output_type": "stream",
          "text": [
            "2021-07-13 12:17:48,901 - INFO: lr: 0.05000 | Epoch: 007 | Batch: 000 | Loss: 1.81519 | Correct: 62/128\n"
          ],
          "name": "stderr"
        },
        {
          "output_type": "stream",
          "text": [
            "None\n"
          ],
          "name": "stdout"
        },
        {
          "output_type": "stream",
          "text": [
            "2021-07-13 12:18:04,808 - INFO: lr: 0.03887 | Epoch: 008 | Batch: 000 | Loss: 1.66323 | Correct: 69/128\n"
          ],
          "name": "stderr"
        },
        {
          "output_type": "stream",
          "text": [
            "None\n"
          ],
          "name": "stdout"
        },
        {
          "output_type": "stream",
          "text": [
            "2021-07-13 12:18:20,717 - INFO: lr: 0.02831 | Epoch: 009 | Batch: 000 | Loss: 1.74264 | Correct: 61/128\n"
          ],
          "name": "stderr"
        },
        {
          "output_type": "stream",
          "text": [
            "None\n"
          ],
          "name": "stdout"
        },
        {
          "output_type": "stream",
          "text": [
            "2021-07-13 12:18:36,660 - INFO: lr: 0.01883 | Epoch: 010 | Batch: 000 | Loss: 1.64562 | Correct: 63/128\n"
          ],
          "name": "stderr"
        },
        {
          "output_type": "stream",
          "text": [
            "None\n"
          ],
          "name": "stdout"
        },
        {
          "output_type": "stream",
          "text": [
            "2021-07-13 12:18:52,597 - INFO: lr: 0.01091 | Epoch: 011 | Batch: 000 | Loss: 1.55125 | Correct: 74/128\n"
          ],
          "name": "stderr"
        },
        {
          "output_type": "stream",
          "text": [
            "None\n"
          ],
          "name": "stdout"
        },
        {
          "output_type": "stream",
          "text": [
            "2021-07-13 12:19:08,484 - INFO: lr: 0.00495 | Epoch: 012 | Batch: 000 | Loss: 1.48071 | Correct: 66/128\n"
          ],
          "name": "stderr"
        },
        {
          "output_type": "stream",
          "text": [
            "None\n"
          ],
          "name": "stdout"
        },
        {
          "output_type": "stream",
          "text": [
            "2021-07-13 12:19:24,363 - INFO: lr: 0.00125 | Epoch: 013 | Batch: 000 | Loss: 1.32119 | Correct: 70/128\n"
          ],
          "name": "stderr"
        },
        {
          "output_type": "stream",
          "text": [
            "None\n"
          ],
          "name": "stdout"
        },
        {
          "output_type": "stream",
          "text": [
            "2021-07-13 12:19:39,492 - INFO: Save the snapshot model with index: 0\n",
            "2021-07-13 12:19:40,107 - INFO: n_estimators: 1 | Validation Acc: 63.951 % | Historical Best: 63.951 %\n",
            "2021-07-13 12:19:40,878 - INFO: lr: 0.10000 | Epoch: 014 | Batch: 000 | Loss: 1.43594 | Correct: 77/128\n"
          ],
          "name": "stderr"
        },
        {
          "output_type": "stream",
          "text": [
            "None\n"
          ],
          "name": "stdout"
        },
        {
          "output_type": "stream",
          "text": [
            "2021-07-13 12:19:56,730 - INFO: lr: 0.09875 | Epoch: 015 | Batch: 000 | Loss: 1.65012 | Correct: 69/128\n"
          ],
          "name": "stderr"
        },
        {
          "output_type": "stream",
          "text": [
            "None\n"
          ],
          "name": "stdout"
        },
        {
          "output_type": "stream",
          "text": [
            "2021-07-13 12:20:12,627 - INFO: lr: 0.09505 | Epoch: 016 | Batch: 000 | Loss: 1.70244 | Correct: 65/128\n"
          ],
          "name": "stderr"
        },
        {
          "output_type": "stream",
          "text": [
            "None\n"
          ],
          "name": "stdout"
        },
        {
          "output_type": "stream",
          "text": [
            "2021-07-13 12:20:28,612 - INFO: lr: 0.08909 | Epoch: 017 | Batch: 000 | Loss: 1.64878 | Correct: 73/128\n"
          ],
          "name": "stderr"
        },
        {
          "output_type": "stream",
          "text": [
            "None\n"
          ],
          "name": "stdout"
        },
        {
          "output_type": "stream",
          "text": [
            "2021-07-13 12:20:44,551 - INFO: lr: 0.08117 | Epoch: 018 | Batch: 000 | Loss: 1.66820 | Correct: 66/128\n"
          ],
          "name": "stderr"
        },
        {
          "output_type": "stream",
          "text": [
            "None\n"
          ],
          "name": "stdout"
        },
        {
          "output_type": "stream",
          "text": [
            "2021-07-13 12:21:00,404 - INFO: lr: 0.07169 | Epoch: 019 | Batch: 000 | Loss: 1.63947 | Correct: 60/128\n"
          ],
          "name": "stderr"
        },
        {
          "output_type": "stream",
          "text": [
            "None\n"
          ],
          "name": "stdout"
        },
        {
          "output_type": "stream",
          "text": [
            "2021-07-13 12:21:16,304 - INFO: lr: 0.06113 | Epoch: 020 | Batch: 000 | Loss: 1.22598 | Correct: 78/128\n"
          ],
          "name": "stderr"
        },
        {
          "output_type": "stream",
          "text": [
            "None\n"
          ],
          "name": "stdout"
        },
        {
          "output_type": "stream",
          "text": [
            "2021-07-13 12:21:32,191 - INFO: lr: 0.05000 | Epoch: 021 | Batch: 000 | Loss: 1.16533 | Correct: 81/128\n"
          ],
          "name": "stderr"
        },
        {
          "output_type": "stream",
          "text": [
            "None\n"
          ],
          "name": "stdout"
        },
        {
          "output_type": "stream",
          "text": [
            "2021-07-13 12:21:48,066 - INFO: lr: 0.03887 | Epoch: 022 | Batch: 000 | Loss: 1.04582 | Correct: 91/128\n"
          ],
          "name": "stderr"
        },
        {
          "output_type": "stream",
          "text": [
            "None\n"
          ],
          "name": "stdout"
        },
        {
          "output_type": "stream",
          "text": [
            "2021-07-13 12:22:04,033 - INFO: lr: 0.02831 | Epoch: 023 | Batch: 000 | Loss: 1.04778 | Correct: 88/128\n"
          ],
          "name": "stderr"
        },
        {
          "output_type": "stream",
          "text": [
            "None\n"
          ],
          "name": "stdout"
        },
        {
          "output_type": "stream",
          "text": [
            "2021-07-13 12:22:19,938 - INFO: lr: 0.01883 | Epoch: 024 | Batch: 000 | Loss: 0.89609 | Correct: 88/128\n"
          ],
          "name": "stderr"
        },
        {
          "output_type": "stream",
          "text": [
            "None\n"
          ],
          "name": "stdout"
        },
        {
          "output_type": "stream",
          "text": [
            "2021-07-13 12:22:35,837 - INFO: lr: 0.01091 | Epoch: 025 | Batch: 000 | Loss: 1.12448 | Correct: 82/128\n"
          ],
          "name": "stderr"
        },
        {
          "output_type": "stream",
          "text": [
            "None\n"
          ],
          "name": "stdout"
        },
        {
          "output_type": "stream",
          "text": [
            "2021-07-13 12:22:51,763 - INFO: lr: 0.00495 | Epoch: 026 | Batch: 000 | Loss: 0.87143 | Correct: 96/128\n"
          ],
          "name": "stderr"
        },
        {
          "output_type": "stream",
          "text": [
            "None\n"
          ],
          "name": "stdout"
        },
        {
          "output_type": "stream",
          "text": [
            "2021-07-13 12:23:07,654 - INFO: lr: 0.00125 | Epoch: 027 | Batch: 000 | Loss: 0.82282 | Correct: 95/128\n"
          ],
          "name": "stderr"
        },
        {
          "output_type": "stream",
          "text": [
            "None\n"
          ],
          "name": "stdout"
        },
        {
          "output_type": "stream",
          "text": [
            "2021-07-13 12:23:22,807 - INFO: Save the snapshot model with index: 1\n",
            "2021-07-13 12:23:23,528 - INFO: n_estimators: 2 | Validation Acc: 71.875 % | Historical Best: 71.875 %\n",
            "2021-07-13 12:23:24,296 - INFO: lr: 0.10000 | Epoch: 028 | Batch: 000 | Loss: 0.78415 | Correct: 100/128\n"
          ],
          "name": "stderr"
        },
        {
          "output_type": "stream",
          "text": [
            "None\n"
          ],
          "name": "stdout"
        },
        {
          "output_type": "stream",
          "text": [
            "2021-07-13 12:23:40,163 - INFO: lr: 0.09875 | Epoch: 029 | Batch: 000 | Loss: 1.55716 | Correct: 61/128\n"
          ],
          "name": "stderr"
        },
        {
          "output_type": "stream",
          "text": [
            "None\n"
          ],
          "name": "stdout"
        },
        {
          "output_type": "stream",
          "text": [
            "2021-07-13 12:23:56,075 - INFO: lr: 0.09505 | Epoch: 030 | Batch: 000 | Loss: 0.89029 | Correct: 96/128\n"
          ],
          "name": "stderr"
        },
        {
          "output_type": "stream",
          "text": [
            "None\n"
          ],
          "name": "stdout"
        },
        {
          "output_type": "stream",
          "text": [
            "2021-07-13 12:24:11,989 - INFO: lr: 0.08909 | Epoch: 031 | Batch: 000 | Loss: 1.10203 | Correct: 82/128\n"
          ],
          "name": "stderr"
        },
        {
          "output_type": "stream",
          "text": [
            "None\n"
          ],
          "name": "stdout"
        },
        {
          "output_type": "stream",
          "text": [
            "2021-07-13 12:24:27,844 - INFO: lr: 0.08117 | Epoch: 032 | Batch: 000 | Loss: 0.93165 | Correct: 96/128\n"
          ],
          "name": "stderr"
        },
        {
          "output_type": "stream",
          "text": [
            "None\n"
          ],
          "name": "stdout"
        },
        {
          "output_type": "stream",
          "text": [
            "2021-07-13 12:24:43,742 - INFO: lr: 0.07169 | Epoch: 033 | Batch: 000 | Loss: 0.77443 | Correct: 98/128\n"
          ],
          "name": "stderr"
        },
        {
          "output_type": "stream",
          "text": [
            "None\n"
          ],
          "name": "stdout"
        },
        {
          "output_type": "stream",
          "text": [
            "2021-07-13 12:24:59,676 - INFO: lr: 0.06113 | Epoch: 034 | Batch: 000 | Loss: 0.96342 | Correct: 92/128\n"
          ],
          "name": "stderr"
        },
        {
          "output_type": "stream",
          "text": [
            "None\n"
          ],
          "name": "stdout"
        },
        {
          "output_type": "stream",
          "text": [
            "2021-07-13 12:25:15,614 - INFO: lr: 0.05000 | Epoch: 035 | Batch: 000 | Loss: 1.03368 | Correct: 80/128\n"
          ],
          "name": "stderr"
        },
        {
          "output_type": "stream",
          "text": [
            "None\n"
          ],
          "name": "stdout"
        },
        {
          "output_type": "stream",
          "text": [
            "2021-07-13 12:25:31,475 - INFO: lr: 0.03887 | Epoch: 036 | Batch: 000 | Loss: 0.67273 | Correct: 98/128\n"
          ],
          "name": "stderr"
        },
        {
          "output_type": "stream",
          "text": [
            "None\n"
          ],
          "name": "stdout"
        },
        {
          "output_type": "stream",
          "text": [
            "2021-07-13 12:25:47,313 - INFO: lr: 0.02831 | Epoch: 037 | Batch: 000 | Loss: 0.54613 | Correct: 105/128\n"
          ],
          "name": "stderr"
        },
        {
          "output_type": "stream",
          "text": [
            "None\n"
          ],
          "name": "stdout"
        },
        {
          "output_type": "stream",
          "text": [
            "2021-07-13 12:26:03,228 - INFO: lr: 0.01883 | Epoch: 038 | Batch: 000 | Loss: 0.54695 | Correct: 104/128\n"
          ],
          "name": "stderr"
        },
        {
          "output_type": "stream",
          "text": [
            "None\n"
          ],
          "name": "stdout"
        },
        {
          "output_type": "stream",
          "text": [
            "2021-07-13 12:26:19,247 - INFO: lr: 0.01091 | Epoch: 039 | Batch: 000 | Loss: 0.46277 | Correct: 109/128\n"
          ],
          "name": "stderr"
        },
        {
          "output_type": "stream",
          "text": [
            "None\n"
          ],
          "name": "stdout"
        },
        {
          "output_type": "stream",
          "text": [
            "2021-07-13 12:26:35,232 - INFO: lr: 0.00495 | Epoch: 040 | Batch: 000 | Loss: 0.45010 | Correct: 112/128\n"
          ],
          "name": "stderr"
        },
        {
          "output_type": "stream",
          "text": [
            "None\n"
          ],
          "name": "stdout"
        },
        {
          "output_type": "stream",
          "text": [
            "2021-07-13 12:26:51,118 - INFO: lr: 0.00125 | Epoch: 041 | Batch: 000 | Loss: 0.44615 | Correct: 112/128\n"
          ],
          "name": "stderr"
        },
        {
          "output_type": "stream",
          "text": [
            "None\n"
          ],
          "name": "stdout"
        },
        {
          "output_type": "stream",
          "text": [
            "2021-07-13 12:27:06,260 - INFO: Save the snapshot model with index: 2\n",
            "2021-07-13 12:27:07,085 - INFO: n_estimators: 3 | Validation Acc: 77.121 % | Historical Best: 77.121 %\n",
            "2021-07-13 12:27:07,851 - INFO: lr: 0.10000 | Epoch: 042 | Batch: 000 | Loss: 0.46142 | Correct: 108/128\n"
          ],
          "name": "stderr"
        },
        {
          "output_type": "stream",
          "text": [
            "None\n"
          ],
          "name": "stdout"
        },
        {
          "output_type": "stream",
          "text": [
            "2021-07-13 12:27:23,668 - INFO: lr: 0.09875 | Epoch: 043 | Batch: 000 | Loss: 1.11982 | Correct: 79/128\n"
          ],
          "name": "stderr"
        },
        {
          "output_type": "stream",
          "text": [
            "None\n"
          ],
          "name": "stdout"
        },
        {
          "output_type": "stream",
          "text": [
            "2021-07-13 12:27:39,563 - INFO: lr: 0.09505 | Epoch: 044 | Batch: 000 | Loss: 0.64619 | Correct: 100/128\n"
          ],
          "name": "stderr"
        },
        {
          "output_type": "stream",
          "text": [
            "None\n"
          ],
          "name": "stdout"
        },
        {
          "output_type": "stream",
          "text": [
            "2021-07-13 12:27:55,457 - INFO: lr: 0.08909 | Epoch: 045 | Batch: 000 | Loss: 0.75400 | Correct: 104/128\n"
          ],
          "name": "stderr"
        },
        {
          "output_type": "stream",
          "text": [
            "None\n"
          ],
          "name": "stdout"
        },
        {
          "output_type": "stream",
          "text": [
            "2021-07-13 12:28:11,335 - INFO: lr: 0.08117 | Epoch: 046 | Batch: 000 | Loss: 0.80225 | Correct: 97/128\n"
          ],
          "name": "stderr"
        },
        {
          "output_type": "stream",
          "text": [
            "None\n"
          ],
          "name": "stdout"
        },
        {
          "output_type": "stream",
          "text": [
            "2021-07-13 12:28:27,191 - INFO: lr: 0.07169 | Epoch: 047 | Batch: 000 | Loss: 0.81238 | Correct: 92/128\n"
          ],
          "name": "stderr"
        },
        {
          "output_type": "stream",
          "text": [
            "None\n"
          ],
          "name": "stdout"
        },
        {
          "output_type": "stream",
          "text": [
            "2021-07-13 12:28:43,076 - INFO: lr: 0.06113 | Epoch: 048 | Batch: 000 | Loss: 0.69791 | Correct: 98/128\n"
          ],
          "name": "stderr"
        },
        {
          "output_type": "stream",
          "text": [
            "None\n"
          ],
          "name": "stdout"
        },
        {
          "output_type": "stream",
          "text": [
            "2021-07-13 12:28:58,948 - INFO: lr: 0.05000 | Epoch: 049 | Batch: 000 | Loss: 0.41124 | Correct: 117/128\n"
          ],
          "name": "stderr"
        },
        {
          "output_type": "stream",
          "text": [
            "None\n"
          ],
          "name": "stdout"
        },
        {
          "output_type": "stream",
          "text": [
            "2021-07-13 12:29:14,811 - INFO: lr: 0.03887 | Epoch: 050 | Batch: 000 | Loss: 0.31642 | Correct: 115/128\n"
          ],
          "name": "stderr"
        },
        {
          "output_type": "stream",
          "text": [
            "None\n"
          ],
          "name": "stdout"
        },
        {
          "output_type": "stream",
          "text": [
            "2021-07-13 12:29:30,674 - INFO: lr: 0.02831 | Epoch: 051 | Batch: 000 | Loss: 0.33695 | Correct: 115/128\n"
          ],
          "name": "stderr"
        },
        {
          "output_type": "stream",
          "text": [
            "None\n"
          ],
          "name": "stdout"
        },
        {
          "output_type": "stream",
          "text": [
            "2021-07-13 12:29:46,560 - INFO: lr: 0.01883 | Epoch: 052 | Batch: 000 | Loss: 0.39129 | Correct: 113/128\n"
          ],
          "name": "stderr"
        },
        {
          "output_type": "stream",
          "text": [
            "None\n"
          ],
          "name": "stdout"
        },
        {
          "output_type": "stream",
          "text": [
            "2021-07-13 12:30:02,429 - INFO: lr: 0.01091 | Epoch: 053 | Batch: 000 | Loss: 0.21810 | Correct: 121/128\n"
          ],
          "name": "stderr"
        },
        {
          "output_type": "stream",
          "text": [
            "None\n"
          ],
          "name": "stdout"
        },
        {
          "output_type": "stream",
          "text": [
            "2021-07-13 12:30:18,347 - INFO: lr: 0.00495 | Epoch: 054 | Batch: 000 | Loss: 0.21239 | Correct: 123/128\n"
          ],
          "name": "stderr"
        },
        {
          "output_type": "stream",
          "text": [
            "None\n"
          ],
          "name": "stdout"
        },
        {
          "output_type": "stream",
          "text": [
            "2021-07-13 12:30:34,272 - INFO: lr: 0.00125 | Epoch: 055 | Batch: 000 | Loss: 0.28146 | Correct: 117/128\n"
          ],
          "name": "stderr"
        },
        {
          "output_type": "stream",
          "text": [
            "None\n"
          ],
          "name": "stdout"
        },
        {
          "output_type": "stream",
          "text": [
            "2021-07-13 12:30:49,405 - INFO: Save the snapshot model with index: 3\n",
            "2021-07-13 12:30:50,308 - INFO: n_estimators: 4 | Validation Acc: 78.683 % | Historical Best: 78.683 %\n",
            "2021-07-13 12:30:51,076 - INFO: lr: 0.10000 | Epoch: 056 | Batch: 000 | Loss: 0.13588 | Correct: 126/128\n"
          ],
          "name": "stderr"
        },
        {
          "output_type": "stream",
          "text": [
            "None\n"
          ],
          "name": "stdout"
        },
        {
          "output_type": "stream",
          "text": [
            "2021-07-13 12:31:06,910 - INFO: lr: 0.09875 | Epoch: 057 | Batch: 000 | Loss: 0.95811 | Correct: 92/128\n"
          ],
          "name": "stderr"
        },
        {
          "output_type": "stream",
          "text": [
            "None\n"
          ],
          "name": "stdout"
        },
        {
          "output_type": "stream",
          "text": [
            "2021-07-13 12:31:22,724 - INFO: lr: 0.09505 | Epoch: 058 | Batch: 000 | Loss: 0.66096 | Correct: 96/128\n"
          ],
          "name": "stderr"
        },
        {
          "output_type": "stream",
          "text": [
            "None\n"
          ],
          "name": "stdout"
        },
        {
          "output_type": "stream",
          "text": [
            "2021-07-13 12:31:38,664 - INFO: lr: 0.08909 | Epoch: 059 | Batch: 000 | Loss: 0.62965 | Correct: 101/128\n"
          ],
          "name": "stderr"
        },
        {
          "output_type": "stream",
          "text": [
            "None\n"
          ],
          "name": "stdout"
        },
        {
          "output_type": "stream",
          "text": [
            "2021-07-13 12:31:54,615 - INFO: lr: 0.08117 | Epoch: 060 | Batch: 000 | Loss: 0.45289 | Correct: 109/128\n"
          ],
          "name": "stderr"
        },
        {
          "output_type": "stream",
          "text": [
            "None\n"
          ],
          "name": "stdout"
        },
        {
          "output_type": "stream",
          "text": [
            "2021-07-13 12:32:10,550 - INFO: lr: 0.07169 | Epoch: 061 | Batch: 000 | Loss: 0.44908 | Correct: 110/128\n"
          ],
          "name": "stderr"
        },
        {
          "output_type": "stream",
          "text": [
            "None\n"
          ],
          "name": "stdout"
        },
        {
          "output_type": "stream",
          "text": [
            "2021-07-13 12:32:26,423 - INFO: lr: 0.06113 | Epoch: 062 | Batch: 000 | Loss: 0.44775 | Correct: 108/128\n"
          ],
          "name": "stderr"
        },
        {
          "output_type": "stream",
          "text": [
            "None\n"
          ],
          "name": "stdout"
        },
        {
          "output_type": "stream",
          "text": [
            "2021-07-13 12:32:42,273 - INFO: lr: 0.05000 | Epoch: 063 | Batch: 000 | Loss: 0.36330 | Correct: 113/128\n"
          ],
          "name": "stderr"
        },
        {
          "output_type": "stream",
          "text": [
            "None\n"
          ],
          "name": "stdout"
        },
        {
          "output_type": "stream",
          "text": [
            "2021-07-13 12:32:58,156 - INFO: lr: 0.03887 | Epoch: 064 | Batch: 000 | Loss: 0.23086 | Correct: 118/128\n"
          ],
          "name": "stderr"
        },
        {
          "output_type": "stream",
          "text": [
            "None\n"
          ],
          "name": "stdout"
        },
        {
          "output_type": "stream",
          "text": [
            "2021-07-13 12:33:14,039 - INFO: lr: 0.02831 | Epoch: 065 | Batch: 000 | Loss: 0.23586 | Correct: 118/128\n"
          ],
          "name": "stderr"
        },
        {
          "output_type": "stream",
          "text": [
            "None\n"
          ],
          "name": "stdout"
        },
        {
          "output_type": "stream",
          "text": [
            "2021-07-13 12:33:29,880 - INFO: lr: 0.01883 | Epoch: 066 | Batch: 000 | Loss: 0.21663 | Correct: 120/128\n"
          ],
          "name": "stderr"
        },
        {
          "output_type": "stream",
          "text": [
            "None\n"
          ],
          "name": "stdout"
        },
        {
          "output_type": "stream",
          "text": [
            "2021-07-13 12:33:45,764 - INFO: lr: 0.01091 | Epoch: 067 | Batch: 000 | Loss: 0.16620 | Correct: 123/128\n"
          ],
          "name": "stderr"
        },
        {
          "output_type": "stream",
          "text": [
            "None\n"
          ],
          "name": "stdout"
        },
        {
          "output_type": "stream",
          "text": [
            "2021-07-13 12:34:01,613 - INFO: lr: 0.00495 | Epoch: 068 | Batch: 000 | Loss: 0.18200 | Correct: 119/128\n"
          ],
          "name": "stderr"
        },
        {
          "output_type": "stream",
          "text": [
            "None\n"
          ],
          "name": "stdout"
        },
        {
          "output_type": "stream",
          "text": [
            "2021-07-13 12:34:17,483 - INFO: lr: 0.00125 | Epoch: 069 | Batch: 000 | Loss: 0.14198 | Correct: 125/128\n"
          ],
          "name": "stderr"
        },
        {
          "output_type": "stream",
          "text": [
            "None\n"
          ],
          "name": "stdout"
        },
        {
          "output_type": "stream",
          "text": [
            "2021-07-13 12:34:32,597 - INFO: Save the snapshot model with index: 4\n",
            "2021-07-13 12:34:33,625 - INFO: n_estimators: 5 | Validation Acc: 77.679 % | Historical Best: 78.683 %\n"
          ],
          "name": "stderr"
        },
        {
          "output_type": "stream",
          "text": [
            "Group 3 Finished!\n",
            "Target number of exemplars: 66\n",
            "Randomly extracting exemplars from class 0 of current split... Extracted 66 exemplars.\n",
            "Randomly extracting exemplars from class 1 of current split... Extracted 66 exemplars.\n",
            "Randomly extracting exemplars from class 2 of current split... Extracted 66 exemplars.\n",
            "Randomly extracting exemplars from class 3 of current split... Extracted 66 exemplars.\n",
            "Randomly extracting exemplars from class 4 of current split... Extracted 66 exemplars.\n",
            "Randomly extracting exemplars from class 5 of current split... Extracted 66 exemplars.\n",
            "Randomly extracting exemplars from class 6 of current split... Extracted 66 exemplars.\n",
            "Randomly extracting exemplars from class 7 of current split... Extracted 66 exemplars.\n",
            "Randomly extracting exemplars from class 8 of current split... Extracted 66 exemplars.\n",
            "Randomly extracting exemplars from class 9 of current split... Extracted 66 exemplars.\n",
            "[0.14077620967741936, 0.31617943548387095, 0.546320564516129, 0.6635584677419355, 0.8327620967741935, 0.9037298387096774, 0.9667842741935484],[0.5896739130434783, 0.5461956521739131, 0.4633152173913043, 0.3953804347826087, 0.23641304347826086, 0.1436820652173913, 0.04619565217391304]\n",
            "Testing on both open and closed world\n",
            "owr harmonic mean (threshold:0.25) = 0.22729014847638446\n",
            "owr harmonic mean (threshold:0.35) = 0.40051210996165365\n",
            "owr harmonic mean (threshold:0.5) = 0.5014058250509531\n",
            "owr harmonic mean (threshold:0.6) = 0.49551118549713896\n",
            "owr harmonic mean (threshold:0.75) = 0.3682760931857032\n",
            "owr harmonic mean (threshold:0.85) = 0.24794404023391323\n",
            "owr harmonic mean (threshold:0.95) = 0.0881779172426624\n",
            "\n",
            "=============================================\n",
            "\n",
            "Length of exemplars set: 1980\n"
          ],
          "name": "stdout"
        },
        {
          "output_type": "stream",
          "text": [
            "2021-07-13 12:35:11,055 - INFO: lr: 0.10000 | Epoch: 000 | Batch: 000 | Loss: 5.02471 | Correct: 1/128\n"
          ],
          "name": "stderr"
        },
        {
          "output_type": "stream",
          "text": [
            "None\n"
          ],
          "name": "stdout"
        },
        {
          "output_type": "stream",
          "text": [
            "2021-07-13 12:35:27,283 - INFO: lr: 0.09875 | Epoch: 001 | Batch: 000 | Loss: 3.07676 | Correct: 26/128\n"
          ],
          "name": "stderr"
        },
        {
          "output_type": "stream",
          "text": [
            "None\n"
          ],
          "name": "stdout"
        },
        {
          "output_type": "stream",
          "text": [
            "2021-07-13 12:35:43,539 - INFO: lr: 0.09505 | Epoch: 002 | Batch: 000 | Loss: 2.68662 | Correct: 29/128\n"
          ],
          "name": "stderr"
        },
        {
          "output_type": "stream",
          "text": [
            "None\n"
          ],
          "name": "stdout"
        },
        {
          "output_type": "stream",
          "text": [
            "2021-07-13 12:35:59,790 - INFO: lr: 0.08909 | Epoch: 003 | Batch: 000 | Loss: 2.58296 | Correct: 39/128\n"
          ],
          "name": "stderr"
        },
        {
          "output_type": "stream",
          "text": [
            "None\n"
          ],
          "name": "stdout"
        },
        {
          "output_type": "stream",
          "text": [
            "2021-07-13 12:36:16,014 - INFO: lr: 0.08117 | Epoch: 004 | Batch: 000 | Loss: 2.57073 | Correct: 40/128\n"
          ],
          "name": "stderr"
        },
        {
          "output_type": "stream",
          "text": [
            "None\n"
          ],
          "name": "stdout"
        },
        {
          "output_type": "stream",
          "text": [
            "2021-07-13 12:36:32,229 - INFO: lr: 0.07169 | Epoch: 005 | Batch: 000 | Loss: 2.13048 | Correct: 54/128\n"
          ],
          "name": "stderr"
        },
        {
          "output_type": "stream",
          "text": [
            "None\n"
          ],
          "name": "stdout"
        },
        {
          "output_type": "stream",
          "text": [
            "2021-07-13 12:36:48,440 - INFO: lr: 0.06113 | Epoch: 006 | Batch: 000 | Loss: 2.32706 | Correct: 45/128\n"
          ],
          "name": "stderr"
        },
        {
          "output_type": "stream",
          "text": [
            "None\n"
          ],
          "name": "stdout"
        },
        {
          "output_type": "stream",
          "text": [
            "2021-07-13 12:37:04,647 - INFO: lr: 0.05000 | Epoch: 007 | Batch: 000 | Loss: 2.11831 | Correct: 54/128\n"
          ],
          "name": "stderr"
        },
        {
          "output_type": "stream",
          "text": [
            "None\n"
          ],
          "name": "stdout"
        },
        {
          "output_type": "stream",
          "text": [
            "2021-07-13 12:37:20,889 - INFO: lr: 0.03887 | Epoch: 008 | Batch: 000 | Loss: 1.94563 | Correct: 57/128\n"
          ],
          "name": "stderr"
        },
        {
          "output_type": "stream",
          "text": [
            "None\n"
          ],
          "name": "stdout"
        },
        {
          "output_type": "stream",
          "text": [
            "2021-07-13 12:37:37,178 - INFO: lr: 0.02831 | Epoch: 009 | Batch: 000 | Loss: 1.87892 | Correct: 60/128\n"
          ],
          "name": "stderr"
        },
        {
          "output_type": "stream",
          "text": [
            "None\n"
          ],
          "name": "stdout"
        },
        {
          "output_type": "stream",
          "text": [
            "2021-07-13 12:37:53,425 - INFO: lr: 0.01883 | Epoch: 010 | Batch: 000 | Loss: 1.82729 | Correct: 65/128\n"
          ],
          "name": "stderr"
        },
        {
          "output_type": "stream",
          "text": [
            "None\n"
          ],
          "name": "stdout"
        },
        {
          "output_type": "stream",
          "text": [
            "2021-07-13 12:38:09,663 - INFO: lr: 0.01091 | Epoch: 011 | Batch: 000 | Loss: 1.53698 | Correct: 70/128\n"
          ],
          "name": "stderr"
        },
        {
          "output_type": "stream",
          "text": [
            "None\n"
          ],
          "name": "stdout"
        },
        {
          "output_type": "stream",
          "text": [
            "2021-07-13 12:38:25,894 - INFO: lr: 0.00495 | Epoch: 012 | Batch: 000 | Loss: 1.71275 | Correct: 69/128\n"
          ],
          "name": "stderr"
        },
        {
          "output_type": "stream",
          "text": [
            "None\n"
          ],
          "name": "stdout"
        },
        {
          "output_type": "stream",
          "text": [
            "2021-07-13 12:38:42,124 - INFO: lr: 0.00125 | Epoch: 013 | Batch: 000 | Loss: 1.61902 | Correct: 69/128\n"
          ],
          "name": "stderr"
        },
        {
          "output_type": "stream",
          "text": [
            "None\n"
          ],
          "name": "stdout"
        },
        {
          "output_type": "stream",
          "text": [
            "2021-07-13 12:38:57,609 - INFO: Save the snapshot model with index: 0\n",
            "2021-07-13 12:38:58,221 - INFO: n_estimators: 1 | Validation Acc: 62.946 % | Historical Best: 62.946 %\n",
            "2021-07-13 12:38:59,032 - INFO: lr: 0.10000 | Epoch: 014 | Batch: 000 | Loss: 1.88482 | Correct: 62/128\n"
          ],
          "name": "stderr"
        },
        {
          "output_type": "stream",
          "text": [
            "None\n"
          ],
          "name": "stdout"
        },
        {
          "output_type": "stream",
          "text": [
            "2021-07-13 12:39:15,302 - INFO: lr: 0.09875 | Epoch: 015 | Batch: 000 | Loss: 2.10960 | Correct: 54/128\n"
          ],
          "name": "stderr"
        },
        {
          "output_type": "stream",
          "text": [
            "None\n"
          ],
          "name": "stdout"
        },
        {
          "output_type": "stream",
          "text": [
            "2021-07-13 12:39:31,561 - INFO: lr: 0.09505 | Epoch: 016 | Batch: 000 | Loss: 1.94448 | Correct: 60/128\n"
          ],
          "name": "stderr"
        },
        {
          "output_type": "stream",
          "text": [
            "None\n"
          ],
          "name": "stdout"
        },
        {
          "output_type": "stream",
          "text": [
            "2021-07-13 12:39:47,796 - INFO: lr: 0.08909 | Epoch: 017 | Batch: 000 | Loss: 1.89357 | Correct: 59/128\n"
          ],
          "name": "stderr"
        },
        {
          "output_type": "stream",
          "text": [
            "None\n"
          ],
          "name": "stdout"
        },
        {
          "output_type": "stream",
          "text": [
            "2021-07-13 12:40:04,077 - INFO: lr: 0.08117 | Epoch: 018 | Batch: 000 | Loss: 1.86430 | Correct: 62/128\n"
          ],
          "name": "stderr"
        },
        {
          "output_type": "stream",
          "text": [
            "None\n"
          ],
          "name": "stdout"
        },
        {
          "output_type": "stream",
          "text": [
            "2021-07-13 12:40:20,370 - INFO: lr: 0.07169 | Epoch: 019 | Batch: 000 | Loss: 1.72051 | Correct: 65/128\n"
          ],
          "name": "stderr"
        },
        {
          "output_type": "stream",
          "text": [
            "None\n"
          ],
          "name": "stdout"
        },
        {
          "output_type": "stream",
          "text": [
            "2021-07-13 12:40:36,668 - INFO: lr: 0.06113 | Epoch: 020 | Batch: 000 | Loss: 1.38358 | Correct: 83/128\n"
          ],
          "name": "stderr"
        },
        {
          "output_type": "stream",
          "text": [
            "None\n"
          ],
          "name": "stdout"
        },
        {
          "output_type": "stream",
          "text": [
            "2021-07-13 12:40:52,948 - INFO: lr: 0.05000 | Epoch: 021 | Batch: 000 | Loss: 1.45971 | Correct: 74/128\n"
          ],
          "name": "stderr"
        },
        {
          "output_type": "stream",
          "text": [
            "None\n"
          ],
          "name": "stdout"
        },
        {
          "output_type": "stream",
          "text": [
            "2021-07-13 12:41:09,211 - INFO: lr: 0.03887 | Epoch: 022 | Batch: 000 | Loss: 1.30073 | Correct: 80/128\n"
          ],
          "name": "stderr"
        },
        {
          "output_type": "stream",
          "text": [
            "None\n"
          ],
          "name": "stdout"
        },
        {
          "output_type": "stream",
          "text": [
            "2021-07-13 12:41:25,476 - INFO: lr: 0.02831 | Epoch: 023 | Batch: 000 | Loss: 1.26135 | Correct: 73/128\n"
          ],
          "name": "stderr"
        },
        {
          "output_type": "stream",
          "text": [
            "None\n"
          ],
          "name": "stdout"
        },
        {
          "output_type": "stream",
          "text": [
            "2021-07-13 12:41:41,704 - INFO: lr: 0.01883 | Epoch: 024 | Batch: 000 | Loss: 1.14186 | Correct: 83/128\n"
          ],
          "name": "stderr"
        },
        {
          "output_type": "stream",
          "text": [
            "None\n"
          ],
          "name": "stdout"
        },
        {
          "output_type": "stream",
          "text": [
            "2021-07-13 12:41:57,956 - INFO: lr: 0.01091 | Epoch: 025 | Batch: 000 | Loss: 1.20315 | Correct: 85/128\n"
          ],
          "name": "stderr"
        },
        {
          "output_type": "stream",
          "text": [
            "None\n"
          ],
          "name": "stdout"
        },
        {
          "output_type": "stream",
          "text": [
            "2021-07-13 12:42:14,223 - INFO: lr: 0.00495 | Epoch: 026 | Batch: 000 | Loss: 1.05595 | Correct: 85/128\n"
          ],
          "name": "stderr"
        },
        {
          "output_type": "stream",
          "text": [
            "None\n"
          ],
          "name": "stdout"
        },
        {
          "output_type": "stream",
          "text": [
            "2021-07-13 12:42:30,472 - INFO: lr: 0.00125 | Epoch: 027 | Batch: 000 | Loss: 0.97775 | Correct: 95/128\n"
          ],
          "name": "stderr"
        },
        {
          "output_type": "stream",
          "text": [
            "None\n"
          ],
          "name": "stdout"
        },
        {
          "output_type": "stream",
          "text": [
            "2021-07-13 12:42:45,953 - INFO: Save the snapshot model with index: 1\n",
            "2021-07-13 12:42:46,662 - INFO: n_estimators: 2 | Validation Acc: 69.196 % | Historical Best: 69.196 %\n",
            "2021-07-13 12:42:47,467 - INFO: lr: 0.10000 | Epoch: 028 | Batch: 000 | Loss: 1.12904 | Correct: 81/128\n"
          ],
          "name": "stderr"
        },
        {
          "output_type": "stream",
          "text": [
            "None\n"
          ],
          "name": "stdout"
        },
        {
          "output_type": "stream",
          "text": [
            "2021-07-13 12:43:03,731 - INFO: lr: 0.09875 | Epoch: 029 | Batch: 000 | Loss: 1.72488 | Correct: 67/128\n"
          ],
          "name": "stderr"
        },
        {
          "output_type": "stream",
          "text": [
            "None\n"
          ],
          "name": "stdout"
        },
        {
          "output_type": "stream",
          "text": [
            "2021-07-13 12:43:19,989 - INFO: lr: 0.09505 | Epoch: 030 | Batch: 000 | Loss: 1.53749 | Correct: 71/128\n"
          ],
          "name": "stderr"
        },
        {
          "output_type": "stream",
          "text": [
            "None\n"
          ],
          "name": "stdout"
        },
        {
          "output_type": "stream",
          "text": [
            "2021-07-13 12:43:36,233 - INFO: lr: 0.08909 | Epoch: 031 | Batch: 000 | Loss: 1.17186 | Correct: 87/128\n"
          ],
          "name": "stderr"
        },
        {
          "output_type": "stream",
          "text": [
            "None\n"
          ],
          "name": "stdout"
        },
        {
          "output_type": "stream",
          "text": [
            "2021-07-13 12:43:52,496 - INFO: lr: 0.08117 | Epoch: 032 | Batch: 000 | Loss: 1.18317 | Correct: 79/128\n"
          ],
          "name": "stderr"
        },
        {
          "output_type": "stream",
          "text": [
            "None\n"
          ],
          "name": "stdout"
        },
        {
          "output_type": "stream",
          "text": [
            "2021-07-13 12:44:08,743 - INFO: lr: 0.07169 | Epoch: 033 | Batch: 000 | Loss: 1.19751 | Correct: 80/128\n"
          ],
          "name": "stderr"
        },
        {
          "output_type": "stream",
          "text": [
            "None\n"
          ],
          "name": "stdout"
        },
        {
          "output_type": "stream",
          "text": [
            "2021-07-13 12:44:24,962 - INFO: lr: 0.06113 | Epoch: 034 | Batch: 000 | Loss: 1.04235 | Correct: 90/128\n"
          ],
          "name": "stderr"
        },
        {
          "output_type": "stream",
          "text": [
            "None\n"
          ],
          "name": "stdout"
        },
        {
          "output_type": "stream",
          "text": [
            "2021-07-13 12:44:41,194 - INFO: lr: 0.05000 | Epoch: 035 | Batch: 000 | Loss: 1.07431 | Correct: 90/128\n"
          ],
          "name": "stderr"
        },
        {
          "output_type": "stream",
          "text": [
            "None\n"
          ],
          "name": "stdout"
        },
        {
          "output_type": "stream",
          "text": [
            "2021-07-13 12:44:57,395 - INFO: lr: 0.03887 | Epoch: 036 | Batch: 000 | Loss: 0.95051 | Correct: 92/128\n"
          ],
          "name": "stderr"
        },
        {
          "output_type": "stream",
          "text": [
            "None\n"
          ],
          "name": "stdout"
        },
        {
          "output_type": "stream",
          "text": [
            "2021-07-13 12:45:13,671 - INFO: lr: 0.02831 | Epoch: 037 | Batch: 000 | Loss: 0.98085 | Correct: 87/128\n"
          ],
          "name": "stderr"
        },
        {
          "output_type": "stream",
          "text": [
            "None\n"
          ],
          "name": "stdout"
        },
        {
          "output_type": "stream",
          "text": [
            "2021-07-13 12:45:29,989 - INFO: lr: 0.01883 | Epoch: 038 | Batch: 000 | Loss: 0.94219 | Correct: 93/128\n"
          ],
          "name": "stderr"
        },
        {
          "output_type": "stream",
          "text": [
            "None\n"
          ],
          "name": "stdout"
        },
        {
          "output_type": "stream",
          "text": [
            "2021-07-13 12:45:46,282 - INFO: lr: 0.01091 | Epoch: 039 | Batch: 000 | Loss: 0.84549 | Correct: 97/128\n"
          ],
          "name": "stderr"
        },
        {
          "output_type": "stream",
          "text": [
            "None\n"
          ],
          "name": "stdout"
        },
        {
          "output_type": "stream",
          "text": [
            "2021-07-13 12:46:02,540 - INFO: lr: 0.00495 | Epoch: 040 | Batch: 000 | Loss: 0.85398 | Correct: 97/128\n"
          ],
          "name": "stderr"
        },
        {
          "output_type": "stream",
          "text": [
            "None\n"
          ],
          "name": "stdout"
        },
        {
          "output_type": "stream",
          "text": [
            "2021-07-13 12:46:18,824 - INFO: lr: 0.00125 | Epoch: 041 | Batch: 000 | Loss: 0.67532 | Correct: 102/128\n"
          ],
          "name": "stderr"
        },
        {
          "output_type": "stream",
          "text": [
            "None\n"
          ],
          "name": "stdout"
        },
        {
          "output_type": "stream",
          "text": [
            "2021-07-13 12:46:34,317 - INFO: Save the snapshot model with index: 2\n",
            "2021-07-13 12:46:35,162 - INFO: n_estimators: 3 | Validation Acc: 71.987 % | Historical Best: 71.987 %\n",
            "2021-07-13 12:46:35,968 - INFO: lr: 0.10000 | Epoch: 042 | Batch: 000 | Loss: 0.65945 | Correct: 109/128\n"
          ],
          "name": "stderr"
        },
        {
          "output_type": "stream",
          "text": [
            "None\n"
          ],
          "name": "stdout"
        },
        {
          "output_type": "stream",
          "text": [
            "2021-07-13 12:46:52,206 - INFO: lr: 0.09875 | Epoch: 043 | Batch: 000 | Loss: 1.25913 | Correct: 81/128\n"
          ],
          "name": "stderr"
        },
        {
          "output_type": "stream",
          "text": [
            "None\n"
          ],
          "name": "stdout"
        },
        {
          "output_type": "stream",
          "text": [
            "2021-07-13 12:47:08,487 - INFO: lr: 0.09505 | Epoch: 044 | Batch: 000 | Loss: 1.04060 | Correct: 87/128\n"
          ],
          "name": "stderr"
        },
        {
          "output_type": "stream",
          "text": [
            "None\n"
          ],
          "name": "stdout"
        },
        {
          "output_type": "stream",
          "text": [
            "2021-07-13 12:47:24,772 - INFO: lr: 0.08909 | Epoch: 045 | Batch: 000 | Loss: 1.19936 | Correct: 77/128\n"
          ],
          "name": "stderr"
        },
        {
          "output_type": "stream",
          "text": [
            "None\n"
          ],
          "name": "stdout"
        },
        {
          "output_type": "stream",
          "text": [
            "2021-07-13 12:47:41,081 - INFO: lr: 0.08117 | Epoch: 046 | Batch: 000 | Loss: 0.89622 | Correct: 94/128\n"
          ],
          "name": "stderr"
        },
        {
          "output_type": "stream",
          "text": [
            "None\n"
          ],
          "name": "stdout"
        },
        {
          "output_type": "stream",
          "text": [
            "2021-07-13 12:47:57,363 - INFO: lr: 0.07169 | Epoch: 047 | Batch: 000 | Loss: 0.66952 | Correct: 102/128\n"
          ],
          "name": "stderr"
        },
        {
          "output_type": "stream",
          "text": [
            "None\n"
          ],
          "name": "stdout"
        },
        {
          "output_type": "stream",
          "text": [
            "2021-07-13 12:48:13,630 - INFO: lr: 0.06113 | Epoch: 048 | Batch: 000 | Loss: 0.79166 | Correct: 96/128\n"
          ],
          "name": "stderr"
        },
        {
          "output_type": "stream",
          "text": [
            "None\n"
          ],
          "name": "stdout"
        },
        {
          "output_type": "stream",
          "text": [
            "2021-07-13 12:48:29,927 - INFO: lr: 0.05000 | Epoch: 049 | Batch: 000 | Loss: 0.73374 | Correct: 100/128\n"
          ],
          "name": "stderr"
        },
        {
          "output_type": "stream",
          "text": [
            "None\n"
          ],
          "name": "stdout"
        },
        {
          "output_type": "stream",
          "text": [
            "2021-07-13 12:48:46,203 - INFO: lr: 0.03887 | Epoch: 050 | Batch: 000 | Loss: 0.49971 | Correct: 108/128\n"
          ],
          "name": "stderr"
        },
        {
          "output_type": "stream",
          "text": [
            "None\n"
          ],
          "name": "stdout"
        },
        {
          "output_type": "stream",
          "text": [
            "2021-07-13 12:49:02,497 - INFO: lr: 0.02831 | Epoch: 051 | Batch: 000 | Loss: 0.52990 | Correct: 110/128\n"
          ],
          "name": "stderr"
        },
        {
          "output_type": "stream",
          "text": [
            "None\n"
          ],
          "name": "stdout"
        },
        {
          "output_type": "stream",
          "text": [
            "2021-07-13 12:49:18,749 - INFO: lr: 0.01883 | Epoch: 052 | Batch: 000 | Loss: 0.46484 | Correct: 110/128\n"
          ],
          "name": "stderr"
        },
        {
          "output_type": "stream",
          "text": [
            "None\n"
          ],
          "name": "stdout"
        },
        {
          "output_type": "stream",
          "text": [
            "2021-07-13 12:49:35,069 - INFO: lr: 0.01091 | Epoch: 053 | Batch: 000 | Loss: 0.38584 | Correct: 114/128\n"
          ],
          "name": "stderr"
        },
        {
          "output_type": "stream",
          "text": [
            "None\n"
          ],
          "name": "stdout"
        },
        {
          "output_type": "stream",
          "text": [
            "2021-07-13 12:49:51,387 - INFO: lr: 0.00495 | Epoch: 054 | Batch: 000 | Loss: 0.35829 | Correct: 118/128\n"
          ],
          "name": "stderr"
        },
        {
          "output_type": "stream",
          "text": [
            "None\n"
          ],
          "name": "stdout"
        },
        {
          "output_type": "stream",
          "text": [
            "2021-07-13 12:50:07,728 - INFO: lr: 0.00125 | Epoch: 055 | Batch: 000 | Loss: 0.49062 | Correct: 111/128\n"
          ],
          "name": "stderr"
        },
        {
          "output_type": "stream",
          "text": [
            "None\n"
          ],
          "name": "stdout"
        },
        {
          "output_type": "stream",
          "text": [
            "2021-07-13 12:50:23,236 - INFO: Save the snapshot model with index: 3\n",
            "2021-07-13 12:50:24,159 - INFO: n_estimators: 4 | Validation Acc: 74.219 % | Historical Best: 74.219 %\n",
            "2021-07-13 12:50:24,929 - INFO: lr: 0.10000 | Epoch: 056 | Batch: 000 | Loss: 0.32910 | Correct: 118/128\n"
          ],
          "name": "stderr"
        },
        {
          "output_type": "stream",
          "text": [
            "None\n"
          ],
          "name": "stdout"
        },
        {
          "output_type": "stream",
          "text": [
            "2021-07-13 12:50:41,249 - INFO: lr: 0.09875 | Epoch: 057 | Batch: 000 | Loss: 1.09658 | Correct: 82/128\n"
          ],
          "name": "stderr"
        },
        {
          "output_type": "stream",
          "text": [
            "None\n"
          ],
          "name": "stdout"
        },
        {
          "output_type": "stream",
          "text": [
            "2021-07-13 12:50:57,492 - INFO: lr: 0.09505 | Epoch: 058 | Batch: 000 | Loss: 0.73764 | Correct: 98/128\n"
          ],
          "name": "stderr"
        },
        {
          "output_type": "stream",
          "text": [
            "None\n"
          ],
          "name": "stdout"
        },
        {
          "output_type": "stream",
          "text": [
            "2021-07-13 12:51:13,718 - INFO: lr: 0.08909 | Epoch: 059 | Batch: 000 | Loss: 0.66278 | Correct: 101/128\n"
          ],
          "name": "stderr"
        },
        {
          "output_type": "stream",
          "text": [
            "None\n"
          ],
          "name": "stdout"
        },
        {
          "output_type": "stream",
          "text": [
            "2021-07-13 12:51:29,946 - INFO: lr: 0.08117 | Epoch: 060 | Batch: 000 | Loss: 0.75989 | Correct: 96/128\n"
          ],
          "name": "stderr"
        },
        {
          "output_type": "stream",
          "text": [
            "None\n"
          ],
          "name": "stdout"
        },
        {
          "output_type": "stream",
          "text": [
            "2021-07-13 12:51:46,198 - INFO: lr: 0.07169 | Epoch: 061 | Batch: 000 | Loss: 0.56793 | Correct: 103/128\n"
          ],
          "name": "stderr"
        },
        {
          "output_type": "stream",
          "text": [
            "None\n"
          ],
          "name": "stdout"
        },
        {
          "output_type": "stream",
          "text": [
            "2021-07-13 12:52:02,420 - INFO: lr: 0.06113 | Epoch: 062 | Batch: 000 | Loss: 0.39651 | Correct: 115/128\n"
          ],
          "name": "stderr"
        },
        {
          "output_type": "stream",
          "text": [
            "None\n"
          ],
          "name": "stdout"
        },
        {
          "output_type": "stream",
          "text": [
            "2021-07-13 12:52:18,619 - INFO: lr: 0.05000 | Epoch: 063 | Batch: 000 | Loss: 0.52091 | Correct: 109/128\n"
          ],
          "name": "stderr"
        },
        {
          "output_type": "stream",
          "text": [
            "None\n"
          ],
          "name": "stdout"
        },
        {
          "output_type": "stream",
          "text": [
            "2021-07-13 12:52:34,884 - INFO: lr: 0.03887 | Epoch: 064 | Batch: 000 | Loss: 0.41118 | Correct: 113/128\n"
          ],
          "name": "stderr"
        },
        {
          "output_type": "stream",
          "text": [
            "None\n"
          ],
          "name": "stdout"
        },
        {
          "output_type": "stream",
          "text": [
            "2021-07-13 12:52:51,141 - INFO: lr: 0.02831 | Epoch: 065 | Batch: 000 | Loss: 0.30574 | Correct: 118/128\n"
          ],
          "name": "stderr"
        },
        {
          "output_type": "stream",
          "text": [
            "None\n"
          ],
          "name": "stdout"
        },
        {
          "output_type": "stream",
          "text": [
            "2021-07-13 12:53:07,468 - INFO: lr: 0.01883 | Epoch: 066 | Batch: 000 | Loss: 0.26499 | Correct: 118/128\n"
          ],
          "name": "stderr"
        },
        {
          "output_type": "stream",
          "text": [
            "None\n"
          ],
          "name": "stdout"
        },
        {
          "output_type": "stream",
          "text": [
            "2021-07-13 12:53:23,733 - INFO: lr: 0.01091 | Epoch: 067 | Batch: 000 | Loss: 0.22476 | Correct: 122/128\n"
          ],
          "name": "stderr"
        },
        {
          "output_type": "stream",
          "text": [
            "None\n"
          ],
          "name": "stdout"
        },
        {
          "output_type": "stream",
          "text": [
            "2021-07-13 12:53:39,941 - INFO: lr: 0.00495 | Epoch: 068 | Batch: 000 | Loss: 0.15399 | Correct: 124/128\n"
          ],
          "name": "stderr"
        },
        {
          "output_type": "stream",
          "text": [
            "None\n"
          ],
          "name": "stdout"
        },
        {
          "output_type": "stream",
          "text": [
            "2021-07-13 12:53:56,171 - INFO: lr: 0.00125 | Epoch: 069 | Batch: 000 | Loss: 0.22140 | Correct: 123/128\n"
          ],
          "name": "stderr"
        },
        {
          "output_type": "stream",
          "text": [
            "None\n"
          ],
          "name": "stdout"
        },
        {
          "output_type": "stream",
          "text": [
            "2021-07-13 12:54:11,664 - INFO: Save the snapshot model with index: 4\n",
            "2021-07-13 12:54:12,751 - INFO: n_estimators: 5 | Validation Acc: 72.879 % | Historical Best: 74.219 %\n"
          ],
          "name": "stderr"
        },
        {
          "output_type": "stream",
          "text": [
            "Group 4 Finished!\n",
            "Target number of exemplars: 50\n",
            "Randomly extracting exemplars from class 0 of current split... Extracted 50 exemplars.\n",
            "Randomly extracting exemplars from class 1 of current split... Extracted 50 exemplars.\n",
            "Randomly extracting exemplars from class 2 of current split... Extracted 50 exemplars.\n",
            "Randomly extracting exemplars from class 3 of current split... Extracted 50 exemplars.\n",
            "Randomly extracting exemplars from class 4 of current split... Extracted 50 exemplars.\n",
            "Randomly extracting exemplars from class 5 of current split... Extracted 50 exemplars.\n",
            "Randomly extracting exemplars from class 6 of current split... Extracted 50 exemplars.\n",
            "Randomly extracting exemplars from class 7 of current split... Extracted 50 exemplars.\n",
            "Randomly extracting exemplars from class 8 of current split... Extracted 50 exemplars.\n",
            "Randomly extracting exemplars from class 9 of current split... Extracted 50 exemplars.\n",
            "[0.18540826612903225, 0.3649445564516129, 0.6004788306451613, 0.716179435483871, 0.872101814516129, 0.9268145161290322, 0.9671875],[0.4591733870967742, 0.4112903225806452, 0.3251008064516129, 0.2600806451612903, 0.14264112903225806, 0.09400201612903226, 0.05015120967741935]\n",
            "Testing on both open and closed world\n",
            "owr harmonic mean (threshold:0.25) = 0.26415440504132365\n",
            "owr harmonic mean (threshold:0.35) = 0.38673388274993165\n",
            "owr harmonic mean (threshold:0.5) = 0.42182464755207777\n",
            "owr harmonic mean (threshold:0.6) = 0.38158768001412297\n",
            "owr harmonic mean (threshold:0.75) = 0.2451804927436379\n",
            "owr harmonic mean (threshold:0.85) = 0.17069165778705825\n",
            "owr harmonic mean (threshold:0.95) = 0.09535786390210067\n",
            "\n",
            "=============================================\n",
            "\n",
            "Length of exemplars set: 2000\n"
          ],
          "name": "stdout"
        },
        {
          "output_type": "stream",
          "text": [
            "2021-07-13 12:54:51,107 - INFO: lr: 0.10000 | Epoch: 000 | Batch: 000 | Loss: 4.98050 | Correct: 5/128\n"
          ],
          "name": "stderr"
        },
        {
          "output_type": "stream",
          "text": [
            "None\n"
          ],
          "name": "stdout"
        },
        {
          "output_type": "stream",
          "text": [
            "2021-07-13 12:55:07,725 - INFO: lr: 0.09875 | Epoch: 001 | Batch: 000 | Loss: 3.05033 | Correct: 31/128\n"
          ],
          "name": "stderr"
        },
        {
          "output_type": "stream",
          "text": [
            "None\n"
          ],
          "name": "stdout"
        },
        {
          "output_type": "stream",
          "text": [
            "2021-07-13 12:55:24,394 - INFO: lr: 0.09505 | Epoch: 002 | Batch: 000 | Loss: 2.42131 | Correct: 49/128\n"
          ],
          "name": "stderr"
        },
        {
          "output_type": "stream",
          "text": [
            "None\n"
          ],
          "name": "stdout"
        },
        {
          "output_type": "stream",
          "text": [
            "2021-07-13 12:55:41,059 - INFO: lr: 0.08909 | Epoch: 003 | Batch: 000 | Loss: 2.54936 | Correct: 49/128\n"
          ],
          "name": "stderr"
        },
        {
          "output_type": "stream",
          "text": [
            "None\n"
          ],
          "name": "stdout"
        },
        {
          "output_type": "stream",
          "text": [
            "2021-07-13 12:55:57,700 - INFO: lr: 0.08117 | Epoch: 004 | Batch: 000 | Loss: 2.38956 | Correct: 52/128\n"
          ],
          "name": "stderr"
        },
        {
          "output_type": "stream",
          "text": [
            "None\n"
          ],
          "name": "stdout"
        },
        {
          "output_type": "stream",
          "text": [
            "2021-07-13 12:56:14,399 - INFO: lr: 0.07169 | Epoch: 005 | Batch: 000 | Loss: 2.75995 | Correct: 37/128\n"
          ],
          "name": "stderr"
        },
        {
          "output_type": "stream",
          "text": [
            "None\n"
          ],
          "name": "stdout"
        },
        {
          "output_type": "stream",
          "text": [
            "2021-07-13 12:56:31,025 - INFO: lr: 0.06113 | Epoch: 006 | Batch: 000 | Loss: 2.35545 | Correct: 51/128\n"
          ],
          "name": "stderr"
        },
        {
          "output_type": "stream",
          "text": [
            "None\n"
          ],
          "name": "stdout"
        },
        {
          "output_type": "stream",
          "text": [
            "2021-07-13 12:56:47,687 - INFO: lr: 0.05000 | Epoch: 007 | Batch: 000 | Loss: 2.22657 | Correct: 50/128\n"
          ],
          "name": "stderr"
        },
        {
          "output_type": "stream",
          "text": [
            "None\n"
          ],
          "name": "stdout"
        },
        {
          "output_type": "stream",
          "text": [
            "2021-07-13 12:57:04,406 - INFO: lr: 0.03887 | Epoch: 008 | Batch: 000 | Loss: 2.07240 | Correct: 60/128\n"
          ],
          "name": "stderr"
        },
        {
          "output_type": "stream",
          "text": [
            "None\n"
          ],
          "name": "stdout"
        },
        {
          "output_type": "stream",
          "text": [
            "2021-07-13 12:57:21,127 - INFO: lr: 0.02831 | Epoch: 009 | Batch: 000 | Loss: 1.93431 | Correct: 63/128\n"
          ],
          "name": "stderr"
        },
        {
          "output_type": "stream",
          "text": [
            "None\n"
          ],
          "name": "stdout"
        },
        {
          "output_type": "stream",
          "text": [
            "2021-07-13 12:57:37,804 - INFO: lr: 0.01883 | Epoch: 010 | Batch: 000 | Loss: 2.41026 | Correct: 48/128\n"
          ],
          "name": "stderr"
        },
        {
          "output_type": "stream",
          "text": [
            "None\n"
          ],
          "name": "stdout"
        },
        {
          "output_type": "stream",
          "text": [
            "2021-07-13 12:57:54,455 - INFO: lr: 0.01091 | Epoch: 011 | Batch: 000 | Loss: 1.95667 | Correct: 66/128\n"
          ],
          "name": "stderr"
        },
        {
          "output_type": "stream",
          "text": [
            "None\n"
          ],
          "name": "stdout"
        },
        {
          "output_type": "stream",
          "text": [
            "2021-07-13 12:58:11,067 - INFO: lr: 0.00495 | Epoch: 012 | Batch: 000 | Loss: 1.96174 | Correct: 60/128\n"
          ],
          "name": "stderr"
        },
        {
          "output_type": "stream",
          "text": [
            "None\n"
          ],
          "name": "stdout"
        },
        {
          "output_type": "stream",
          "text": [
            "2021-07-13 12:58:27,711 - INFO: lr: 0.00125 | Epoch: 013 | Batch: 000 | Loss: 1.76598 | Correct: 68/128\n"
          ],
          "name": "stderr"
        },
        {
          "output_type": "stream",
          "text": [
            "None\n"
          ],
          "name": "stdout"
        },
        {
          "output_type": "stream",
          "text": [
            "2021-07-13 12:58:43,521 - INFO: Save the snapshot model with index: 0\n",
            "2021-07-13 12:58:44,130 - INFO: n_estimators: 1 | Validation Acc: 67.969 % | Historical Best: 67.969 %\n",
            "2021-07-13 12:58:44,949 - INFO: lr: 0.10000 | Epoch: 014 | Batch: 000 | Loss: 1.74472 | Correct: 62/128\n"
          ],
          "name": "stderr"
        },
        {
          "output_type": "stream",
          "text": [
            "None\n"
          ],
          "name": "stdout"
        },
        {
          "output_type": "stream",
          "text": [
            "2021-07-13 12:59:01,553 - INFO: lr: 0.09875 | Epoch: 015 | Batch: 000 | Loss: 2.16172 | Correct: 60/128\n"
          ],
          "name": "stderr"
        },
        {
          "output_type": "stream",
          "text": [
            "None\n"
          ],
          "name": "stdout"
        },
        {
          "output_type": "stream",
          "text": [
            "2021-07-13 12:59:18,169 - INFO: lr: 0.09505 | Epoch: 016 | Batch: 000 | Loss: 1.91829 | Correct: 60/128\n"
          ],
          "name": "stderr"
        },
        {
          "output_type": "stream",
          "text": [
            "None\n"
          ],
          "name": "stdout"
        },
        {
          "output_type": "stream",
          "text": [
            "2021-07-13 12:59:34,791 - INFO: lr: 0.08909 | Epoch: 017 | Batch: 000 | Loss: 2.13297 | Correct: 61/128\n"
          ],
          "name": "stderr"
        },
        {
          "output_type": "stream",
          "text": [
            "None\n"
          ],
          "name": "stdout"
        },
        {
          "output_type": "stream",
          "text": [
            "2021-07-13 12:59:51,368 - INFO: lr: 0.08117 | Epoch: 018 | Batch: 000 | Loss: 1.78482 | Correct: 64/128\n"
          ],
          "name": "stderr"
        },
        {
          "output_type": "stream",
          "text": [
            "None\n"
          ],
          "name": "stdout"
        },
        {
          "output_type": "stream",
          "text": [
            "2021-07-13 13:00:07,963 - INFO: lr: 0.07169 | Epoch: 019 | Batch: 000 | Loss: 1.77697 | Correct: 63/128\n"
          ],
          "name": "stderr"
        },
        {
          "output_type": "stream",
          "text": [
            "None\n"
          ],
          "name": "stdout"
        },
        {
          "output_type": "stream",
          "text": [
            "2021-07-13 13:00:24,589 - INFO: lr: 0.06113 | Epoch: 020 | Batch: 000 | Loss: 1.74866 | Correct: 61/128\n"
          ],
          "name": "stderr"
        },
        {
          "output_type": "stream",
          "text": [
            "None\n"
          ],
          "name": "stdout"
        },
        {
          "output_type": "stream",
          "text": [
            "2021-07-13 13:00:41,279 - INFO: lr: 0.05000 | Epoch: 021 | Batch: 000 | Loss: 1.56635 | Correct: 75/128\n"
          ],
          "name": "stderr"
        },
        {
          "output_type": "stream",
          "text": [
            "None\n"
          ],
          "name": "stdout"
        },
        {
          "output_type": "stream",
          "text": [
            "2021-07-13 13:00:57,941 - INFO: lr: 0.03887 | Epoch: 022 | Batch: 000 | Loss: 1.50782 | Correct: 78/128\n"
          ],
          "name": "stderr"
        },
        {
          "output_type": "stream",
          "text": [
            "None\n"
          ],
          "name": "stdout"
        },
        {
          "output_type": "stream",
          "text": [
            "2021-07-13 13:01:14,546 - INFO: lr: 0.02831 | Epoch: 023 | Batch: 000 | Loss: 1.42021 | Correct: 71/128\n"
          ],
          "name": "stderr"
        },
        {
          "output_type": "stream",
          "text": [
            "None\n"
          ],
          "name": "stdout"
        },
        {
          "output_type": "stream",
          "text": [
            "2021-07-13 13:01:31,100 - INFO: lr: 0.01883 | Epoch: 024 | Batch: 000 | Loss: 1.27847 | Correct: 86/128\n"
          ],
          "name": "stderr"
        },
        {
          "output_type": "stream",
          "text": [
            "None\n"
          ],
          "name": "stdout"
        },
        {
          "output_type": "stream",
          "text": [
            "2021-07-13 13:01:47,737 - INFO: lr: 0.01091 | Epoch: 025 | Batch: 000 | Loss: 1.14925 | Correct: 89/128\n"
          ],
          "name": "stderr"
        },
        {
          "output_type": "stream",
          "text": [
            "None\n"
          ],
          "name": "stdout"
        },
        {
          "output_type": "stream",
          "text": [
            "2021-07-13 13:02:04,329 - INFO: lr: 0.00495 | Epoch: 026 | Batch: 000 | Loss: 1.15565 | Correct: 82/128\n"
          ],
          "name": "stderr"
        },
        {
          "output_type": "stream",
          "text": [
            "None\n"
          ],
          "name": "stdout"
        },
        {
          "output_type": "stream",
          "text": [
            "2021-07-13 13:02:21,012 - INFO: lr: 0.00125 | Epoch: 027 | Batch: 000 | Loss: 1.35942 | Correct: 80/128\n"
          ],
          "name": "stderr"
        },
        {
          "output_type": "stream",
          "text": [
            "None\n"
          ],
          "name": "stdout"
        },
        {
          "output_type": "stream",
          "text": [
            "2021-07-13 13:02:36,862 - INFO: Save the snapshot model with index: 1\n",
            "2021-07-13 13:02:37,592 - INFO: n_estimators: 2 | Validation Acc: 72.768 % | Historical Best: 72.768 %\n",
            "2021-07-13 13:02:38,415 - INFO: lr: 0.10000 | Epoch: 028 | Batch: 000 | Loss: 1.25452 | Correct: 80/128\n"
          ],
          "name": "stderr"
        },
        {
          "output_type": "stream",
          "text": [
            "None\n"
          ],
          "name": "stdout"
        },
        {
          "output_type": "stream",
          "text": [
            "2021-07-13 13:02:55,041 - INFO: lr: 0.09875 | Epoch: 029 | Batch: 000 | Loss: 1.32670 | Correct: 88/128\n"
          ],
          "name": "stderr"
        },
        {
          "output_type": "stream",
          "text": [
            "None\n"
          ],
          "name": "stdout"
        },
        {
          "output_type": "stream",
          "text": [
            "2021-07-13 13:03:11,635 - INFO: lr: 0.09505 | Epoch: 030 | Batch: 000 | Loss: 1.81424 | Correct: 63/128\n"
          ],
          "name": "stderr"
        },
        {
          "output_type": "stream",
          "text": [
            "None\n"
          ],
          "name": "stdout"
        },
        {
          "output_type": "stream",
          "text": [
            "2021-07-13 13:03:28,241 - INFO: lr: 0.08909 | Epoch: 031 | Batch: 000 | Loss: 1.22645 | Correct: 91/128\n"
          ],
          "name": "stderr"
        },
        {
          "output_type": "stream",
          "text": [
            "None\n"
          ],
          "name": "stdout"
        },
        {
          "output_type": "stream",
          "text": [
            "2021-07-13 13:03:44,866 - INFO: lr: 0.08117 | Epoch: 032 | Batch: 000 | Loss: 1.52633 | Correct: 73/128\n"
          ],
          "name": "stderr"
        },
        {
          "output_type": "stream",
          "text": [
            "None\n"
          ],
          "name": "stdout"
        },
        {
          "output_type": "stream",
          "text": [
            "2021-07-13 13:04:01,542 - INFO: lr: 0.07169 | Epoch: 033 | Batch: 000 | Loss: 1.35133 | Correct: 80/128\n"
          ],
          "name": "stderr"
        },
        {
          "output_type": "stream",
          "text": [
            "None\n"
          ],
          "name": "stdout"
        },
        {
          "output_type": "stream",
          "text": [
            "2021-07-13 13:04:18,212 - INFO: lr: 0.06113 | Epoch: 034 | Batch: 000 | Loss: 1.09234 | Correct: 87/128\n"
          ],
          "name": "stderr"
        },
        {
          "output_type": "stream",
          "text": [
            "None\n"
          ],
          "name": "stdout"
        },
        {
          "output_type": "stream",
          "text": [
            "2021-07-13 13:04:34,917 - INFO: lr: 0.05000 | Epoch: 035 | Batch: 000 | Loss: 1.21652 | Correct: 80/128\n"
          ],
          "name": "stderr"
        },
        {
          "output_type": "stream",
          "text": [
            "None\n"
          ],
          "name": "stdout"
        },
        {
          "output_type": "stream",
          "text": [
            "2021-07-13 13:04:51,583 - INFO: lr: 0.03887 | Epoch: 036 | Batch: 000 | Loss: 1.05945 | Correct: 86/128\n"
          ],
          "name": "stderr"
        },
        {
          "output_type": "stream",
          "text": [
            "None\n"
          ],
          "name": "stdout"
        },
        {
          "output_type": "stream",
          "text": [
            "2021-07-13 13:05:08,274 - INFO: lr: 0.02831 | Epoch: 037 | Batch: 000 | Loss: 0.98314 | Correct: 91/128\n"
          ],
          "name": "stderr"
        },
        {
          "output_type": "stream",
          "text": [
            "None\n"
          ],
          "name": "stdout"
        },
        {
          "output_type": "stream",
          "text": [
            "2021-07-13 13:05:24,874 - INFO: lr: 0.01883 | Epoch: 038 | Batch: 000 | Loss: 1.16671 | Correct: 83/128\n"
          ],
          "name": "stderr"
        },
        {
          "output_type": "stream",
          "text": [
            "None\n"
          ],
          "name": "stdout"
        },
        {
          "output_type": "stream",
          "text": [
            "2021-07-13 13:05:41,629 - INFO: lr: 0.01091 | Epoch: 039 | Batch: 000 | Loss: 0.98284 | Correct: 94/128\n"
          ],
          "name": "stderr"
        },
        {
          "output_type": "stream",
          "text": [
            "None\n"
          ],
          "name": "stdout"
        },
        {
          "output_type": "stream",
          "text": [
            "2021-07-13 13:05:58,357 - INFO: lr: 0.00495 | Epoch: 040 | Batch: 000 | Loss: 0.81774 | Correct: 98/128\n"
          ],
          "name": "stderr"
        },
        {
          "output_type": "stream",
          "text": [
            "None\n"
          ],
          "name": "stdout"
        },
        {
          "output_type": "stream",
          "text": [
            "2021-07-13 13:06:15,088 - INFO: lr: 0.00125 | Epoch: 041 | Batch: 000 | Loss: 1.02418 | Correct: 89/128\n"
          ],
          "name": "stderr"
        },
        {
          "output_type": "stream",
          "text": [
            "None\n"
          ],
          "name": "stdout"
        },
        {
          "output_type": "stream",
          "text": [
            "2021-07-13 13:06:30,946 - INFO: Save the snapshot model with index: 2\n",
            "2021-07-13 13:06:31,785 - INFO: n_estimators: 3 | Validation Acc: 75.446 % | Historical Best: 75.446 %\n",
            "2021-07-13 13:06:32,662 - INFO: lr: 0.10000 | Epoch: 042 | Batch: 000 | Loss: 0.86469 | Correct: 99/128\n"
          ],
          "name": "stderr"
        },
        {
          "output_type": "stream",
          "text": [
            "None\n"
          ],
          "name": "stdout"
        },
        {
          "output_type": "stream",
          "text": [
            "2021-07-13 13:06:49,325 - INFO: lr: 0.09875 | Epoch: 043 | Batch: 000 | Loss: 1.27633 | Correct: 84/128\n"
          ],
          "name": "stderr"
        },
        {
          "output_type": "stream",
          "text": [
            "None\n"
          ],
          "name": "stdout"
        },
        {
          "output_type": "stream",
          "text": [
            "2021-07-13 13:07:06,067 - INFO: lr: 0.09505 | Epoch: 044 | Batch: 000 | Loss: 1.35534 | Correct: 81/128\n"
          ],
          "name": "stderr"
        },
        {
          "output_type": "stream",
          "text": [
            "None\n"
          ],
          "name": "stdout"
        },
        {
          "output_type": "stream",
          "text": [
            "2021-07-13 13:07:22,707 - INFO: lr: 0.08909 | Epoch: 045 | Batch: 000 | Loss: 1.19300 | Correct: 81/128\n"
          ],
          "name": "stderr"
        },
        {
          "output_type": "stream",
          "text": [
            "None\n"
          ],
          "name": "stdout"
        },
        {
          "output_type": "stream",
          "text": [
            "2021-07-13 13:07:39,361 - INFO: lr: 0.08117 | Epoch: 046 | Batch: 000 | Loss: 0.80921 | Correct: 99/128\n"
          ],
          "name": "stderr"
        },
        {
          "output_type": "stream",
          "text": [
            "None\n"
          ],
          "name": "stdout"
        },
        {
          "output_type": "stream",
          "text": [
            "2021-07-13 13:07:55,965 - INFO: lr: 0.07169 | Epoch: 047 | Batch: 000 | Loss: 1.30045 | Correct: 76/128\n"
          ],
          "name": "stderr"
        },
        {
          "output_type": "stream",
          "text": [
            "None\n"
          ],
          "name": "stdout"
        },
        {
          "output_type": "stream",
          "text": [
            "2021-07-13 13:08:12,613 - INFO: lr: 0.06113 | Epoch: 048 | Batch: 000 | Loss: 0.90631 | Correct: 95/128\n"
          ],
          "name": "stderr"
        },
        {
          "output_type": "stream",
          "text": [
            "None\n"
          ],
          "name": "stdout"
        },
        {
          "output_type": "stream",
          "text": [
            "2021-07-13 13:08:29,283 - INFO: lr: 0.05000 | Epoch: 049 | Batch: 000 | Loss: 1.02088 | Correct: 89/128\n"
          ],
          "name": "stderr"
        },
        {
          "output_type": "stream",
          "text": [
            "None\n"
          ],
          "name": "stdout"
        },
        {
          "output_type": "stream",
          "text": [
            "2021-07-13 13:08:46,033 - INFO: lr: 0.03887 | Epoch: 050 | Batch: 000 | Loss: 0.91771 | Correct: 89/128\n"
          ],
          "name": "stderr"
        },
        {
          "output_type": "stream",
          "text": [
            "None\n"
          ],
          "name": "stdout"
        },
        {
          "output_type": "stream",
          "text": [
            "2021-07-13 13:09:02,740 - INFO: lr: 0.02831 | Epoch: 051 | Batch: 000 | Loss: 0.62340 | Correct: 110/128\n"
          ],
          "name": "stderr"
        },
        {
          "output_type": "stream",
          "text": [
            "None\n"
          ],
          "name": "stdout"
        },
        {
          "output_type": "stream",
          "text": [
            "2021-07-13 13:09:19,436 - INFO: lr: 0.01883 | Epoch: 052 | Batch: 000 | Loss: 0.47517 | Correct: 111/128\n"
          ],
          "name": "stderr"
        },
        {
          "output_type": "stream",
          "text": [
            "None\n"
          ],
          "name": "stdout"
        },
        {
          "output_type": "stream",
          "text": [
            "2021-07-13 13:09:36,042 - INFO: lr: 0.01091 | Epoch: 053 | Batch: 000 | Loss: 0.65735 | Correct: 102/128\n"
          ],
          "name": "stderr"
        },
        {
          "output_type": "stream",
          "text": [
            "None\n"
          ],
          "name": "stdout"
        },
        {
          "output_type": "stream",
          "text": [
            "2021-07-13 13:09:52,652 - INFO: lr: 0.00495 | Epoch: 054 | Batch: 000 | Loss: 0.50123 | Correct: 110/128\n"
          ],
          "name": "stderr"
        },
        {
          "output_type": "stream",
          "text": [
            "None\n"
          ],
          "name": "stdout"
        },
        {
          "output_type": "stream",
          "text": [
            "2021-07-13 13:10:09,273 - INFO: lr: 0.00125 | Epoch: 055 | Batch: 000 | Loss: 0.67111 | Correct: 102/128\n"
          ],
          "name": "stderr"
        },
        {
          "output_type": "stream",
          "text": [
            "None\n"
          ],
          "name": "stdout"
        },
        {
          "output_type": "stream",
          "text": [
            "2021-07-13 13:10:25,125 - INFO: Save the snapshot model with index: 3\n",
            "2021-07-13 13:10:26,097 - INFO: n_estimators: 4 | Validation Acc: 77.121 % | Historical Best: 77.121 %\n",
            "2021-07-13 13:10:26,932 - INFO: lr: 0.10000 | Epoch: 056 | Batch: 000 | Loss: 0.50393 | Correct: 108/128\n"
          ],
          "name": "stderr"
        },
        {
          "output_type": "stream",
          "text": [
            "None\n"
          ],
          "name": "stdout"
        },
        {
          "output_type": "stream",
          "text": [
            "2021-07-13 13:10:43,605 - INFO: lr: 0.09875 | Epoch: 057 | Batch: 000 | Loss: 1.14917 | Correct: 88/128\n"
          ],
          "name": "stderr"
        },
        {
          "output_type": "stream",
          "text": [
            "None\n"
          ],
          "name": "stdout"
        },
        {
          "output_type": "stream",
          "text": [
            "2021-07-13 13:11:00,286 - INFO: lr: 0.09505 | Epoch: 058 | Batch: 000 | Loss: 1.13024 | Correct: 86/128\n"
          ],
          "name": "stderr"
        },
        {
          "output_type": "stream",
          "text": [
            "None\n"
          ],
          "name": "stdout"
        },
        {
          "output_type": "stream",
          "text": [
            "2021-07-13 13:11:16,957 - INFO: lr: 0.08909 | Epoch: 059 | Batch: 000 | Loss: 0.77427 | Correct: 97/128\n"
          ],
          "name": "stderr"
        },
        {
          "output_type": "stream",
          "text": [
            "None\n"
          ],
          "name": "stdout"
        },
        {
          "output_type": "stream",
          "text": [
            "2021-07-13 13:11:33,615 - INFO: lr: 0.08117 | Epoch: 060 | Batch: 000 | Loss: 0.86136 | Correct: 96/128\n"
          ],
          "name": "stderr"
        },
        {
          "output_type": "stream",
          "text": [
            "None\n"
          ],
          "name": "stdout"
        },
        {
          "output_type": "stream",
          "text": [
            "2021-07-13 13:11:50,276 - INFO: lr: 0.07169 | Epoch: 061 | Batch: 000 | Loss: 0.80572 | Correct: 97/128\n"
          ],
          "name": "stderr"
        },
        {
          "output_type": "stream",
          "text": [
            "None\n"
          ],
          "name": "stdout"
        },
        {
          "output_type": "stream",
          "text": [
            "2021-07-13 13:12:06,968 - INFO: lr: 0.06113 | Epoch: 062 | Batch: 000 | Loss: 0.62845 | Correct: 105/128\n"
          ],
          "name": "stderr"
        },
        {
          "output_type": "stream",
          "text": [
            "None\n"
          ],
          "name": "stdout"
        },
        {
          "output_type": "stream",
          "text": [
            "2021-07-13 13:12:23,633 - INFO: lr: 0.05000 | Epoch: 063 | Batch: 000 | Loss: 0.55943 | Correct: 107/128\n"
          ],
          "name": "stderr"
        },
        {
          "output_type": "stream",
          "text": [
            "None\n"
          ],
          "name": "stdout"
        },
        {
          "output_type": "stream",
          "text": [
            "2021-07-13 13:12:40,322 - INFO: lr: 0.03887 | Epoch: 064 | Batch: 000 | Loss: 0.56045 | Correct: 110/128\n"
          ],
          "name": "stderr"
        },
        {
          "output_type": "stream",
          "text": [
            "None\n"
          ],
          "name": "stdout"
        },
        {
          "output_type": "stream",
          "text": [
            "2021-07-13 13:12:56,986 - INFO: lr: 0.02831 | Epoch: 065 | Batch: 000 | Loss: 0.34469 | Correct: 115/128\n"
          ],
          "name": "stderr"
        },
        {
          "output_type": "stream",
          "text": [
            "None\n"
          ],
          "name": "stdout"
        },
        {
          "output_type": "stream",
          "text": [
            "2021-07-13 13:13:13,664 - INFO: lr: 0.01883 | Epoch: 066 | Batch: 000 | Loss: 0.26897 | Correct: 120/128\n"
          ],
          "name": "stderr"
        },
        {
          "output_type": "stream",
          "text": [
            "None\n"
          ],
          "name": "stdout"
        },
        {
          "output_type": "stream",
          "text": [
            "2021-07-13 13:13:30,475 - INFO: lr: 0.01091 | Epoch: 067 | Batch: 000 | Loss: 0.26528 | Correct: 121/128\n"
          ],
          "name": "stderr"
        },
        {
          "output_type": "stream",
          "text": [
            "None\n"
          ],
          "name": "stdout"
        },
        {
          "output_type": "stream",
          "text": [
            "2021-07-13 13:13:47,273 - INFO: lr: 0.00495 | Epoch: 068 | Batch: 000 | Loss: 0.37786 | Correct: 113/128\n"
          ],
          "name": "stderr"
        },
        {
          "output_type": "stream",
          "text": [
            "None\n"
          ],
          "name": "stdout"
        },
        {
          "output_type": "stream",
          "text": [
            "2021-07-13 13:14:03,846 - INFO: lr: 0.00125 | Epoch: 069 | Batch: 000 | Loss: 0.26473 | Correct: 122/128\n"
          ],
          "name": "stderr"
        },
        {
          "output_type": "stream",
          "text": [
            "None\n"
          ],
          "name": "stdout"
        },
        {
          "output_type": "stream",
          "text": [
            "2021-07-13 13:14:19,645 - INFO: Save the snapshot model with index: 4\n",
            "2021-07-13 13:14:20,748 - INFO: n_estimators: 5 | Validation Acc: 79.464 % | Historical Best: 79.464 %\n"
          ],
          "name": "stderr"
        },
        {
          "output_type": "stream",
          "text": [
            "Group 5 Finished!\n",
            "Target number of exemplars: 40\n",
            "Randomly extracting exemplars from class 0 of current split... Extracted 40 exemplars.\n",
            "Randomly extracting exemplars from class 1 of current split... Extracted 40 exemplars.\n",
            "Randomly extracting exemplars from class 2 of current split... Extracted 40 exemplars.\n",
            "Randomly extracting exemplars from class 3 of current split... Extracted 40 exemplars.\n",
            "Randomly extracting exemplars from class 4 of current split... Extracted 40 exemplars.\n",
            "Randomly extracting exemplars from class 5 of current split... Extracted 40 exemplars.\n",
            "Randomly extracting exemplars from class 6 of current split... Extracted 40 exemplars.\n",
            "Randomly extracting exemplars from class 7 of current split... Extracted 40 exemplars.\n",
            "Randomly extracting exemplars from class 8 of current split... Extracted 40 exemplars.\n",
            "Randomly extracting exemplars from class 9 of current split... Extracted 40 exemplars.\n",
            "[0.23434979838709677, 0.42862903225806454, 0.6539566532258064, 0.7642137096774193, 0.8855846774193549, 0.9261592741935484, 0.9652973790322581],[0.3603766025641026, 0.3187099358974359, 0.24318910256410256, 0.1907051282051282, 0.11077724358974358, 0.07792467948717949, 0.04326923076923077]\n",
            "Testing on both open and closed world\n",
            "owr harmonic mean (threshold:0.25) = 0.28401020711119995\n",
            "owr harmonic mean (threshold:0.35) = 0.3655859983640606\n",
            "owr harmonic mean (threshold:0.5) = 0.3545357721138242\n",
            "owr harmonic mean (threshold:0.6) = 0.3052394982662902\n",
            "owr harmonic mean (threshold:0.75) = 0.1969216756707677\n",
            "owr harmonic mean (threshold:0.85) = 0.14375424351928126\n",
            "owr harmonic mean (threshold:0.95) = 0.0828258136812626\n",
            "\n",
            "=============================================\n",
            "\n",
            "#################################\n",
            "\n",
            "\n"
          ],
          "name": "stdout"
        }
      ]
    },
    {
      "cell_type": "code",
      "metadata": {
        "id": "FlhjGZlYBYdR"
      },
      "source": [
        "predictions = [[logs[run_i]['predictions'][i].cpu().numpy() for i in range(len(logs[run_i]['predictions']))] for run_i in range(len(RANDOM_SEED))]"
      ],
      "execution_count": 9,
      "outputs": []
    },
    {
      "cell_type": "code",
      "metadata": {
        "id": "ReLwAHhLCvfn"
      },
      "source": [
        "accuracies = []\n",
        "for i in range(len(REJECTION_THRESHOLD)):\n",
        "  tmp_list = []\n",
        "  for k in range(5):\n",
        "    tmp_list.append(logs[0]['test_accuracies'][k][i])\n",
        "  accuracies.append(tmp_list)"
      ],
      "execution_count": 10,
      "outputs": []
    },
    {
      "cell_type": "code",
      "metadata": {
        "id": "8683fPolB-q8"
      },
      "source": [
        "true_labels = [logs[run_i]['true_labels'].cpu().data.numpy().tolist() for run_i in range(len(RANDOM_SEED))]"
      ],
      "execution_count": 11,
      "outputs": []
    },
    {
      "cell_type": "code",
      "metadata": {
        "colab": {
          "base_uri": "https://localhost:8080/"
        },
        "id": "jzGrXNnPMUa9",
        "outputId": "a6482323-8b2a-4569-d038-61ff43c72286"
      },
      "source": [
        "import json\n",
        "\n",
        "with open('states/accuracies.json', 'w') as f:\n",
        "  json.dump(accuracies, f)\n",
        "f.close"
      ],
      "execution_count": 12,
      "outputs": [
        {
          "output_type": "execute_result",
          "data": {
            "text/plain": [
              "<function TextIOWrapper.close>"
            ]
          },
          "metadata": {
            "tags": []
          },
          "execution_count": 12
        }
      ]
    },
    {
      "cell_type": "markdown",
      "metadata": {
        "id": "2NMLqiIS19IJ"
      },
      "source": [
        "### Print some graphs"
      ]
    },
    {
      "cell_type": "code",
      "metadata": {
        "id": "G6Mg2QiIBNRo"
      },
      "source": [
        "from data.utils_plot import plot_train_val, plot_test_accuracies, plot_confusion_matrix"
      ],
      "execution_count": 13,
      "outputs": []
    },
    {
      "cell_type": "code",
      "metadata": {
        "id": "ttyNLP2hGnLN"
      },
      "source": [
        "accuracies = np.array([accuracies])\n",
        "accuracies_stats = np.array([accuracies.mean(0), accuracies.std(0)])"
      ],
      "execution_count": 17,
      "outputs": []
    },
    {
      "cell_type": "markdown",
      "metadata": {
        "id": "llzylw_LF7e_"
      },
      "source": [
        "#### Test accuracy"
      ]
    },
    {
      "cell_type": "code",
      "metadata": {
        "colab": {
          "base_uri": "https://localhost:8080/",
          "height": 1000
        },
        "id": "NQfpluscGzX8",
        "outputId": "76a1f973-2920-4891-dceb-1830c6053fa8"
      },
      "source": [
        "def plot_test(stats, save_directory = None, title = \"\"):\n",
        "  mean = np.array(stats[0])\n",
        "  std = np.array(stats[1])\n",
        "  fig, ax = plt.subplots(figsize = (10, 5), dpi = 100)\n",
        "  x = np.arange(10, 51, 10)\n",
        "  ax.errorbar(x, mean, std)\n",
        "  ax.set_title(f\"Harmonic mean accuracy - threshold: {title}\")\n",
        "  ax.set_xlabel(\"Number of classes\")\n",
        "  ax.set_ylabel(\"Accuracy\")\n",
        "  plt.tight_layout()\n",
        "  if save_directory != None:\n",
        "    fig.savefig(save_directory)\n",
        "  plt.show()\n",
        "\n",
        "\n",
        "for i in range(len(REJECTION_THRESHOLD)):\n",
        "  plot_test(stats = [accuracies_stats[0][i],accuracies_stats[1][i]], title = REJECTION_THRESHOLD[i])"
      ],
      "execution_count": 18,
      "outputs": [
        {
          "output_type": "display_data",
          "data": {
            "image/png": "[encoded data removed]",
            "text/plain": [
              "<Figure size 1000x500 with 1 Axes>"
            ]
          },
          "metadata": {
            "tags": [],
            "needs_background": "light"
          }
        },
        {
          "output_type": "display_data",
          "data": {
            "image/png": "[encoded data removed]",
            "text/plain": [
              "<Figure size 1000x500 with 1 Axes>"
            ]
          },
          "metadata": {
            "tags": [],
            "needs_background": "light"
          }
        },
        {
          "output_type": "display_data",
          "data": {
            "image/png": "[encoded data removed]",
            "text/plain": [
              "<Figure size 1000x500 with 1 Axes>"
            ]
          },
          "metadata": {
            "tags": [],
            "needs_background": "light"
          }
        },
        {
          "output_type": "display_data",
          "data": {
            "image/png": "[encoded data removed]",
            "text/plain": [
              "<Figure size 1000x500 with 1 Axes>"
            ]
          },
          "metadata": {
            "tags": [],
            "needs_background": "light"
          }
        },
        {
          "output_type": "display_data",
          "data": {
            "image/png": "[encoded data removed]",
            "text/plain": [
              "<Figure size 1000x500 with 1 Axes>"
            ]
          },
          "metadata": {
            "tags": [],
            "needs_background": "light"
          }
        },
        {
          "output_type": "display_data",
          "data": {
            "image/png": "[encoded data removed]",
            "text/plain": [
              "<Figure size 1000x500 with 1 Axes>"
            ]
          },
          "metadata": {
            "tags": [],
            "needs_background": "light"
          }
        },
        {
          "output_type": "display_data",
          "data": {
            "image/png": "[encoded data removed]",
            "text/plain": [
              "<Figure size 1000x500 with 1 Axes>"
            ]
          },
          "metadata": {
            "tags": [],
            "needs_background": "light"
          }
        }
      ]
    },
    {
      "cell_type": "markdown",
      "metadata": {
        "id": "gN6cighYm1nG"
      },
      "source": [
        "#### Confusion Matrix"
      ]
    },
    {
      "cell_type": "code",
      "metadata": {
        "colab": {
          "base_uri": "https://localhost:8080/"
        },
        "id": "JZBrIV_SKq2W",
        "outputId": "24f64f5a-cff2-4e8d-d475-48c21f55faab"
      },
      "source": [
        "len(true_labels[0])/128"
      ],
      "execution_count": null,
      "outputs": [
        {
          "output_type": "execute_result",
          "data": {
            "text/plain": [
              "78.0"
            ]
          },
          "metadata": {
            "tags": []
          },
          "execution_count": 92
        }
      ]
    },
    {
      "cell_type": "code",
      "metadata": {
        "id": "LPG6aNRjm5Se",
        "colab": {
          "base_uri": "https://localhost:8080/",
          "height": 1000
        },
        "outputId": "65ac4296-a82e-4598-97a2-64bbcdd25da8"
      },
      "source": [
        "for i in range(len(REJECTION_THRESHOLD)):\n",
        "  targets = np.array(true_labels[0])\n",
        "  preds = np.array(predictions[0][i])\n",
        "  title = f\"Confusion matrix - Threshold: {REJECTION_THRESHOLD[i]}\"\n",
        "  plot_confusion_matrix(targets, preds, RANDOM_SEED[run], title)"
      ],
      "execution_count": 19,
      "outputs": [
        {
          "output_type": "display_data",
          "data": {
            "image/png": "[encoded data removed]",
            "text/plain": [
              "<Figure size 500x500 with 2 Axes>"
            ]
          },
          "metadata": {
            "tags": [],
            "needs_background": "light"
          }
        },
        {
          "output_type": "display_data",
          "data": {
            "image/png": "[encoded data removed]",
            "text/plain": [
              "<Figure size 500x500 with 2 Axes>"
            ]
          },
          "metadata": {
            "tags": [],
            "needs_background": "light"
          }
        },
        {
          "output_type": "display_data",
          "data": {
            "image/png": "[encoded data removed]",
            "text/plain": [
              "<Figure size 500x500 with 2 Axes>"
            ]
          },
          "metadata": {
            "tags": [],
            "needs_background": "light"
          }
        },
        {
          "output_type": "display_data",
          "data": {
            "image/png": "[encoded data removed]",
            "text/plain": [
              "<Figure size 500x500 with 2 Axes>"
            ]
          },
          "metadata": {
            "tags": [],
            "needs_background": "light"
          }
        },
        {
          "output_type": "display_data",
          "data": {
            "image/png": "[encoded data removed]",
            "text/plain": [
              "<Figure size 500x500 with 2 Axes>"
            ]
          },
          "metadata": {
            "tags": [],
            "needs_background": "light"
          }
        },
        {
          "output_type": "display_data",
          "data": {
            "image/png": "[encoded data removed]",
            "text/plain": [
              "<Figure size 500x500 with 2 Axes>"
            ]
          },
          "metadata": {
            "tags": [],
            "needs_background": "light"
          }
        },
        {
          "output_type": "display_data",
          "data": {
            "image/png": "[encoded data removed]",
            "text/plain": [
              "<Figure size 500x500 with 2 Axes>"
            ]
          },
          "metadata": {
            "tags": [],
            "needs_background": "light"
          }
        }
      ]
    }
  ]
}