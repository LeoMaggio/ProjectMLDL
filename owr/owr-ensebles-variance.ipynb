{
  "nbformat": 4,
  "nbformat_minor": 0,
  "metadata": {
    "colab": {
      "name": "OWR-Ensembles.ipynb",
      "provenance": [],
      "include_colab_link": true
    },
    "kernelspec": {
      "name": "python3",
      "display_name": "Python 3"
    },
    "language_info": {
      "name": "python"
    },
    "accelerator": "GPU",
    "widgets": {
      "application/vnd.jupyter.widget-state+json": {
        "edcab0e35a9247e4b6b717cf6dd4c9c6": {
          "model_module": "@jupyter-widgets/controls",
          "model_name": "HBoxModel",
          "state": {
            "_view_name": "HBoxView",
            "_dom_classes": [],
            "_model_name": "HBoxModel",
            "_view_module": "@jupyter-widgets/controls",
            "_model_module_version": "1.5.0",
            "_view_count": null,
            "_view_module_version": "1.5.0",
            "box_style": "",
            "layout": "IPY_MODEL_639a9054f48d4b5a8b4fcd42b074e67e",
            "_model_module": "@jupyter-widgets/controls",
            "children": [
              "IPY_MODEL_cc15281cead14b71aa63fcea6182072d",
              "IPY_MODEL_74245b283c7a4ac5bcaa483e42054b65"
            ]
          }
        },
        "639a9054f48d4b5a8b4fcd42b074e67e": {
          "model_module": "@jupyter-widgets/base",
          "model_name": "LayoutModel",
          "state": {
            "_view_name": "LayoutView",
            "grid_template_rows": null,
            "right": null,
            "justify_content": null,
            "_view_module": "@jupyter-widgets/base",
            "overflow": null,
            "_model_module_version": "1.2.0",
            "_view_count": null,
            "flex_flow": null,
            "width": null,
            "min_width": null,
            "border": null,
            "align_items": null,
            "bottom": null,
            "_model_module": "@jupyter-widgets/base",
            "top": null,
            "grid_column": null,
            "overflow_y": null,
            "overflow_x": null,
            "grid_auto_flow": null,
            "grid_area": null,
            "grid_template_columns": null,
            "flex": null,
            "_model_name": "LayoutModel",
            "justify_items": null,
            "grid_row": null,
            "max_height": null,
            "align_content": null,
            "visibility": null,
            "align_self": null,
            "height": null,
            "min_height": null,
            "padding": null,
            "grid_auto_rows": null,
            "grid_gap": null,
            "max_width": null,
            "order": null,
            "_view_module_version": "1.2.0",
            "grid_template_areas": null,
            "object_position": null,
            "object_fit": null,
            "grid_auto_columns": null,
            "margin": null,
            "display": null,
            "left": null
          }
        },
        "cc15281cead14b71aa63fcea6182072d": {
          "model_module": "@jupyter-widgets/controls",
          "model_name": "FloatProgressModel",
          "state": {
            "_view_name": "ProgressView",
            "style": "IPY_MODEL_a5c209f078dd42eb933a4c62208deab4",
            "_dom_classes": [],
            "description": "",
            "_model_name": "FloatProgressModel",
            "bar_style": "success",
            "max": 169001437,
            "_view_module": "@jupyter-widgets/controls",
            "_model_module_version": "1.5.0",
            "value": 169001437,
            "_view_count": null,
            "_view_module_version": "1.5.0",
            "orientation": "horizontal",
            "min": 0,
            "description_tooltip": null,
            "_model_module": "@jupyter-widgets/controls",
            "layout": "IPY_MODEL_cd9572a7afa44a4690c541ba8390b140"
          }
        },
        "74245b283c7a4ac5bcaa483e42054b65": {
          "model_module": "@jupyter-widgets/controls",
          "model_name": "HTMLModel",
          "state": {
            "_view_name": "HTMLView",
            "style": "IPY_MODEL_70e474b1ee2941099a5ddba9a48e2c4f",
            "_dom_classes": [],
            "description": "",
            "_model_name": "HTMLModel",
            "placeholder": "​",
            "_view_module": "@jupyter-widgets/controls",
            "_model_module_version": "1.5.0",
            "value": " 169001984/? [00:45&lt;00:00, 3751357.46it/s]",
            "_view_count": null,
            "_view_module_version": "1.5.0",
            "description_tooltip": null,
            "_model_module": "@jupyter-widgets/controls",
            "layout": "IPY_MODEL_12b49277d3714e7298e73f9ee9397682"
          }
        },
        "a5c209f078dd42eb933a4c62208deab4": {
          "model_module": "@jupyter-widgets/controls",
          "model_name": "ProgressStyleModel",
          "state": {
            "_view_name": "StyleView",
            "_model_name": "ProgressStyleModel",
            "description_width": "initial",
            "_view_module": "@jupyter-widgets/base",
            "_model_module_version": "1.5.0",
            "_view_count": null,
            "_view_module_version": "1.2.0",
            "bar_color": null,
            "_model_module": "@jupyter-widgets/controls"
          }
        },
        "cd9572a7afa44a4690c541ba8390b140": {
          "model_module": "@jupyter-widgets/base",
          "model_name": "LayoutModel",
          "state": {
            "_view_name": "LayoutView",
            "grid_template_rows": null,
            "right": null,
            "justify_content": null,
            "_view_module": "@jupyter-widgets/base",
            "overflow": null,
            "_model_module_version": "1.2.0",
            "_view_count": null,
            "flex_flow": null,
            "width": null,
            "min_width": null,
            "border": null,
            "align_items": null,
            "bottom": null,
            "_model_module": "@jupyter-widgets/base",
            "top": null,
            "grid_column": null,
            "overflow_y": null,
            "overflow_x": null,
            "grid_auto_flow": null,
            "grid_area": null,
            "grid_template_columns": null,
            "flex": null,
            "_model_name": "LayoutModel",
            "justify_items": null,
            "grid_row": null,
            "max_height": null,
            "align_content": null,
            "visibility": null,
            "align_self": null,
            "height": null,
            "min_height": null,
            "padding": null,
            "grid_auto_rows": null,
            "grid_gap": null,
            "max_width": null,
            "order": null,
            "_view_module_version": "1.2.0",
            "grid_template_areas": null,
            "object_position": null,
            "object_fit": null,
            "grid_auto_columns": null,
            "margin": null,
            "display": null,
            "left": null
          }
        },
        "70e474b1ee2941099a5ddba9a48e2c4f": {
          "model_module": "@jupyter-widgets/controls",
          "model_name": "DescriptionStyleModel",
          "state": {
            "_view_name": "StyleView",
            "_model_name": "DescriptionStyleModel",
            "description_width": "",
            "_view_module": "@jupyter-widgets/base",
            "_model_module_version": "1.5.0",
            "_view_count": null,
            "_view_module_version": "1.2.0",
            "_model_module": "@jupyter-widgets/controls"
          }
        },
        "12b49277d3714e7298e73f9ee9397682": {
          "model_module": "@jupyter-widgets/base",
          "model_name": "LayoutModel",
          "state": {
            "_view_name": "LayoutView",
            "grid_template_rows": null,
            "right": null,
            "justify_content": null,
            "_view_module": "@jupyter-widgets/base",
            "overflow": null,
            "_model_module_version": "1.2.0",
            "_view_count": null,
            "flex_flow": null,
            "width": null,
            "min_width": null,
            "border": null,
            "align_items": null,
            "bottom": null,
            "_model_module": "@jupyter-widgets/base",
            "top": null,
            "grid_column": null,
            "overflow_y": null,
            "overflow_x": null,
            "grid_auto_flow": null,
            "grid_area": null,
            "grid_template_columns": null,
            "flex": null,
            "_model_name": "LayoutModel",
            "justify_items": null,
            "grid_row": null,
            "max_height": null,
            "align_content": null,
            "visibility": null,
            "align_self": null,
            "height": null,
            "min_height": null,
            "padding": null,
            "grid_auto_rows": null,
            "grid_gap": null,
            "max_width": null,
            "order": null,
            "_view_module_version": "1.2.0",
            "grid_template_areas": null,
            "object_position": null,
            "object_fit": null,
            "grid_auto_columns": null,
            "margin": null,
            "display": null,
            "left": null
          }
        }
      }
    }
  },
  "cells": [
    {
      "cell_type": "markdown",
      "metadata": {
        "id": "view-in-github",
        "colab_type": "text"
      },
      "source": [
        "<a href=\"https://colab.research.google.com/github/cosminnedescu/ProjectMLDL/blob/main/owr/owr-ensebles-variance.ipynb\" target=\"_parent\"><img src=\"https://colab.research.google.com/assets/colab-badge.svg\" alt=\"Open In Colab\"/></a>"
      ]
    },
    {
      "cell_type": "code",
      "metadata": {
        "id": "PF5bRIxnU-PW",
        "colab": {
          "base_uri": "https://localhost:8080/"
        },
        "outputId": "2e91fba2-8cb5-4874-bab1-b90b12006fa5"
      },
      "source": [
        "# Avoid K80\n",
        "!nvidia-smi"
      ],
      "execution_count": 1,
      "outputs": [
        {
          "output_type": "stream",
          "text": [
            "Thu Jul 15 21:54:06 2021       \n",
            "+-----------------------------------------------------------------------------+\n",
            "| NVIDIA-SMI 470.42.01    Driver Version: 460.32.03    CUDA Version: 11.2     |\n",
            "|-------------------------------+----------------------+----------------------+\n",
            "| GPU  Name        Persistence-M| Bus-Id        Disp.A | Volatile Uncorr. ECC |\n",
            "| Fan  Temp  Perf  Pwr:Usage/Cap|         Memory-Usage | GPU-Util  Compute M. |\n",
            "|                               |                      |               MIG M. |\n",
            "|===============================+======================+======================|\n",
            "|   0  Tesla T4            Off  | 00000000:00:04.0 Off |                    0 |\n",
            "| N/A   62C    P8    11W /  70W |      0MiB / 15109MiB |      0%      Default |\n",
            "|                               |                      |                  N/A |\n",
            "+-------------------------------+----------------------+----------------------+\n",
            "                                                                               \n",
            "+-----------------------------------------------------------------------------+\n",
            "| Processes:                                                                  |\n",
            "|  GPU   GI   CI        PID   Type   Process name                  GPU Memory |\n",
            "|        ID   ID                                                   Usage      |\n",
            "|=============================================================================|\n",
            "|  No running processes found                                                 |\n",
            "+-----------------------------------------------------------------------------+\n"
          ],
          "name": "stdout"
        }
      ]
    },
    {
      "cell_type": "code",
      "metadata": {
        "id": "pJimWkPdQu6y"
      },
      "source": [
        "import os\n",
        "import random\n",
        "\n",
        "import torch\n",
        "import torch.nn as nn\n",
        "import torch.nn.init as init\n",
        "import torch.optim as optim\n",
        "from torch.autograd import Variable\n",
        "\n",
        "import torchvision\n",
        "from torchvision import transforms, datasets, models\n",
        "from torch.utils.data import Subset, DataLoader\n",
        "\n",
        "from PIL import Image\n",
        "\n",
        "import numpy as np\n",
        "import matplotlib \n",
        "import matplotlib.pyplot as plt\n",
        "from copy import copy\n",
        "from copy import deepcopy"
      ],
      "execution_count": 2,
      "outputs": []
    },
    {
      "cell_type": "markdown",
      "metadata": {
        "id": "7BZw-bZJ16ay"
      },
      "source": [
        "#### Cloning the Git repository"
      ]
    },
    {
      "cell_type": "code",
      "metadata": {
        "id": "yjntw1jZQ7Lg",
        "colab": {
          "base_uri": "https://localhost:8080/"
        },
        "outputId": "1dce4665-1ae9-43db-eaef-a7993f3e696b"
      },
      "source": [
        "!rm -rf ProjectMLDL\n",
        "if not os.path.isdir('/content/ProjectMLDL'):\n",
        "  !git clone https://github.com/cosminnedescu/ProjectMLDL.git\n",
        "  %cd /content/ProjectMLDL\n",
        "  !rm -rf LICENSE README.md"
      ],
      "execution_count": 3,
      "outputs": [
        {
          "output_type": "stream",
          "text": [
            "Cloning into 'ProjectMLDL'...\n",
            "remote: Enumerating objects: 3662, done.\u001b[K\n",
            "remote: Counting objects: 100% (1078/1078), done.\u001b[K\n",
            "remote: Compressing objects: 100% (508/508), done.\u001b[K\n",
            "remote: Total 3662 (delta 626), reused 944 (delta 552), pack-reused 2584\u001b[K\n",
            "Receiving objects: 100% (3662/3662), 184.13 MiB | 36.40 MiB/s, done.\n",
            "Resolving deltas: 100% (2011/2011), done.\n",
            "/content/ProjectMLDL\n"
          ],
          "name": "stdout"
        }
      ]
    },
    {
      "cell_type": "code",
      "metadata": {
        "id": "nvqmxRxo2lUW"
      },
      "source": [
        "from data.cifar100 import CIFAR100\n",
        "from model.resnet32_modified import resnet32\n",
        "import data.utils\n",
        "from model.owrEnsamble import owrEnsemble"
      ],
      "execution_count": 4,
      "outputs": []
    },
    {
      "cell_type": "code",
      "metadata": {
        "id": "XwomFTtQo1x-"
      },
      "source": [
        "# True mean and std of Cifar100 dataset (src=\"https://gist.github.com/weiaicunzai/e623931921efefd4c331622c344d8151\")\n",
        "mean = [0.5071, 0.4867, 0.4408]\n",
        "std = [0.2675, 0.2565, 0.2761]\n",
        "\n",
        "train_transform = transforms.Compose([\n",
        "    transforms.RandomCrop(32, padding=4),\n",
        "    transforms.RandomHorizontalFlip(),\n",
        "    transforms.ToTensor(),\n",
        "    transforms.Normalize(mean, std),\n",
        "])\n",
        "test_transform = transforms.Compose(\n",
        "    [transforms.ToTensor(), \n",
        "     transforms.Normalize(mean, std),\n",
        "     ])"
      ],
      "execution_count": 5,
      "outputs": []
    },
    {
      "cell_type": "markdown",
      "metadata": {
        "id": "yRoS-R_sRhHT"
      },
      "source": [
        "## Incremental Classifier and Representation Learning"
      ]
    },
    {
      "cell_type": "markdown",
      "metadata": {
        "id": "3ocVW0wM2Iw2"
      },
      "source": [
        "### Defining hyperparameters according to iCarl paper"
      ]
    },
    {
      "cell_type": "code",
      "metadata": {
        "id": "nmEo_9lnwyBk"
      },
      "source": [
        "# Settings\n",
        "DEVICE = 'cuda'\n",
        "NUM_CLASSES = 100         # Total number of classes\n",
        "VAL_SIZE = 0.2            # Proportion of validation set with respect to training set (between 0 and 1)\n",
        "\n",
        "# Training\n",
        "BATCH_SIZE = 128          # Batch size\n",
        "LR = 0.1                    # Initial learning rate\n",
        "                       \n",
        "MOMENTUM = 0.9            # Momentum for stochastic gradient descent (SGD)\n",
        "WEIGHT_DECAY = 1e-5       # Weight decay from iCaRL\n",
        "\n",
        "RANDOM_SEED = [20]  # Random seeds defining the runs of every method\n",
        "                          # Note: this should be at least 3 to have a fair benchmark\n",
        "\n",
        "NUM_EPOCHS = 70           # Total number of training epochs\n",
        "MILESTONES = [43, 63]     # Step down policy from iCaRL (MultiStepLR)\n",
        "                          # Decrease the learning rate by gamma at each milestone\n",
        "GAMMA = 0.2               # Gamma factor from iCaRL (1/5)\n",
        "\n",
        "HERDING = False           # True to perform prioritized selection, False to perform random selection\n",
        "CLASSIFY = True           # True to use mean-of-exemplar classifier, False to use network's output directly for classification\n",
        "\n",
        "REJECTION_THRESHOLD = [0.25,0.35,0.50,0.60,0.75,0.85,0.95]\n",
        "TESTING_MODE = 'harmonic' #open, closed, harmonic\n",
        "N_ESTIMATORS = 5\n",
        "CONFIDENCE = '0.900' #'0.900':1.47, '0.950':1.94, '0.975':2.45, '0.990':3.36\n",
        "STRATEGY = 'variance' # mean, variance, hybrid\n",
        "    "
      ],
      "execution_count": 6,
      "outputs": []
    },
    {
      "cell_type": "code",
      "metadata": {
        "id": "rVh61C63FECy"
      },
      "source": [
        "def do_group_classes(run):\n",
        "\n",
        "  train_subset = [[] for i in range(10)]\n",
        "  train_dataloader = [[] for i in range(10)]\n",
        "  val_dataloader = [[] for i in range(10)]\n",
        "  test_dataloader = [[] for i in range(10)]\n",
        "\n",
        "  for i in range(10):\n",
        "    train_data = CIFAR100(\"dataset\", \n",
        "                          train=True, \n",
        "                          transform=train_transform, \n",
        "                          download=(run+i==0),\n",
        "                          random_state=RANDOM_SEED[run])\n",
        "    test_data = CIFAR100(\"dataset\", \n",
        "                         train=False, \n",
        "                         transform=test_transform, \n",
        "                         download=False,\n",
        "                         random_state=RANDOM_SEED[run])\n",
        "    \n",
        "    train_data.set_index_map(train_data.splits[i])\n",
        "    test_data.set_index_map([test_data.splits[j] for j in range(0, i+1)])\n",
        "    \n",
        "    train_indices, val_indices = train_data.train_val_split(VAL_SIZE, RANDOM_SEED[run])\n",
        "    \n",
        "    train_subset[i] = copy(Subset(train_data, train_indices))\n",
        "    val_subset = Subset(train_data, val_indices)\n",
        "\n",
        "    tmp_dl = DataLoader(val_subset,\n",
        "                       batch_size=BATCH_SIZE,\n",
        "                       shuffle=True, \n",
        "                       num_workers=4,\n",
        "                       drop_last=True)\n",
        "    val_dataloader[i] = copy(tmp_dl)\n",
        "\n",
        "    tmp_dl = DataLoader(test_data,\n",
        "                       batch_size=BATCH_SIZE,\n",
        "                       shuffle=True, \n",
        "                       num_workers=4,\n",
        "                       drop_last=True)\n",
        "    test_dataloader[i] = copy(tmp_dl)\n",
        "\n",
        "  return train_dataloader, val_dataloader, test_dataloader, train_subset"
      ],
      "execution_count": 7,
      "outputs": []
    },
    {
      "cell_type": "markdown",
      "metadata": {
        "id": "20APZIgI1eBy"
      },
      "source": [
        "### Going on with the model\n",
        "This is the main iCaRL step.\n",
        "\n",
        "This step is run 3 times with different `RANDOM_SEED`.\n",
        "Here the model is instantiated, trained and tested.\n",
        "\n",
        "Results and some statistics are then stored in the variable `logs`."
      ]
    },
    {
      "cell_type": "code",
      "metadata": {
        "id": "mJHKbipz0bMr",
        "colab": {
          "base_uri": "https://localhost:8080/",
          "height": 1000,
          "referenced_widgets": [
            "edcab0e35a9247e4b6b717cf6dd4c9c6",
            "639a9054f48d4b5a8b4fcd42b074e67e",
            "cc15281cead14b71aa63fcea6182072d",
            "74245b283c7a4ac5bcaa483e42054b65",
            "a5c209f078dd42eb933a4c62208deab4",
            "cd9572a7afa44a4690c541ba8390b140",
            "70e474b1ee2941099a5ddba9a48e2c4f",
            "12b49277d3714e7298e73f9ee9397682"
          ]
        },
        "outputId": "f0e6e9f1-79a6-4433-eef1-6d7aca004dd5"
      },
      "source": [
        "logs = [[] for i in range(len(RANDOM_SEED))]\n",
        "best_net_tot_classes = [None for i in range(len(RANDOM_SEED))]\n",
        "\n",
        "for run in range(len(RANDOM_SEED)):\n",
        "  print(\"#################################\")\n",
        "  print(f\"Radom seed: {RANDOM_SEED[run]}\")\n",
        "  print(\"\")\n",
        "\n",
        "  # get data_subsets separated in incremental groups of 10 classes\n",
        "  train_dl, val_dl, test_dl, train_set = do_group_classes(run)\n",
        "\n",
        "  #create the resnet\n",
        "  net = resnet32()\n",
        "  \n",
        "  trainer = owrEnsemble(DEVICE,\n",
        "                  net,\n",
        "                  LR,\n",
        "                  MOMENTUM,\n",
        "                  WEIGHT_DECAY,\n",
        "                  MILESTONES,\n",
        "                  GAMMA,\n",
        "                  train_dl,\n",
        "                  val_dl,\n",
        "                  test_dl,\n",
        "                  BATCH_SIZE,\n",
        "                  train_set,\n",
        "                  train_transform,\n",
        "                  test_transform,\n",
        "                  TESTING_MODE,\n",
        "                  REJECTION_THRESHOLD,\n",
        "                  N_ESTIMATORS,\n",
        "                  CONFIDENCE,\n",
        "                  STRATEGY) \n",
        "\n",
        "  #train and evaluate the model\n",
        "  logs[run] = trainer.train_model(NUM_EPOCHS)\n",
        "\n",
        "  best_net_tot_classes[run] = deepcopy(trainer.best_net)\n",
        "\n",
        "  print(\"#################################\")\n",
        "  print(\"\")\n",
        "  print(\"\")"
      ],
      "execution_count": 8,
      "outputs": [
        {
          "output_type": "stream",
          "text": [
            "#################################\n",
            "Radom seed: 20\n",
            "\n",
            "Downloading https://www.cs.toronto.edu/~kriz/cifar-100-python.tar.gz to dataset/cifar-100-python.tar.gz\n"
          ],
          "name": "stdout"
        },
        {
          "output_type": "display_data",
          "data": {
            "application/vnd.jupyter.widget-view+json": {
              "model_id": "edcab0e35a9247e4b6b717cf6dd4c9c6",
              "version_minor": 0,
              "version_major": 2
            },
            "text/plain": [
              "HBox(children=(FloatProgress(value=0.0, max=169001437.0), HTML(value='')))"
            ]
          },
          "metadata": {
            "tags": []
          }
        },
        {
          "output_type": "stream",
          "text": [
            "\n",
            "Extracting dataset/cifar-100-python.tar.gz to dataset\n"
          ],
          "name": "stdout"
        },
        {
          "output_type": "stream",
          "text": [
            "/usr/local/lib/python3.7/dist-packages/torch/utils/data/dataloader.py:481: UserWarning: This DataLoader will create 4 worker processes in total. Our suggested max number of worker in current system is 2, which is smaller than what this DataLoader is going to create. Please be aware that excessive worker creation might get DataLoader running slow or even freeze, lower the worker number to avoid potential slowness/freeze if necessary.\n",
            "  cpuset_checked))\n"
          ],
          "name": "stderr"
        },
        {
          "output_type": "stream",
          "text": [
            "Log will be saved in '/content/ProjectMLDL/logs'.\n",
            "Create folder 'logs/'\n",
            "Start logging into file /content/ProjectMLDL/logs/classification_mnist_mlp-2021_07_15_21_54.log...\n",
            "Length of exemplars set: 0\n"
          ],
          "name": "stdout"
        },
        {
          "output_type": "stream",
          "text": [
            "2021-07-15 21:54:34,780 - INFO: lr: 0.10000 | Epoch: 000 | Batch: 000 | Loss: 2.31407 | Correct: 5/128\n"
          ],
          "name": "stderr"
        },
        {
          "output_type": "stream",
          "text": [
            "None\n"
          ],
          "name": "stdout"
        },
        {
          "output_type": "stream",
          "text": [
            "2021-07-15 21:54:35,370 - INFO: lr: 0.09372 | Epoch: 000 | Batch: 010 | Loss: 2.26153 | Correct: 20/128\n"
          ],
          "name": "stderr"
        },
        {
          "output_type": "stream",
          "text": [
            "None\n"
          ],
          "name": "stdout"
        },
        {
          "output_type": "stream",
          "text": [
            "2021-07-15 21:54:35,912 - INFO: lr: 0.07645 | Epoch: 000 | Batch: 020 | Loss: 2.15052 | Correct: 26/128\n"
          ],
          "name": "stderr"
        },
        {
          "output_type": "stream",
          "text": [
            "None\n"
          ],
          "name": "stdout"
        },
        {
          "output_type": "stream",
          "text": [
            "2021-07-15 21:54:36,451 - INFO: lr: 0.05253 | Epoch: 000 | Batch: 030 | Loss: 1.96560 | Correct: 42/128\n"
          ],
          "name": "stderr"
        },
        {
          "output_type": "stream",
          "text": [
            "None\n"
          ],
          "name": "stdout"
        },
        {
          "output_type": "stream",
          "text": [
            "2021-07-15 21:54:36,930 - INFO: lr: 0.05000 | Epoch: 001 | Batch: 000 | Loss: 1.89080 | Correct: 51/128\n"
          ],
          "name": "stderr"
        },
        {
          "output_type": "stream",
          "text": [
            "None\n"
          ],
          "name": "stdout"
        },
        {
          "output_type": "stream",
          "text": [
            "2021-07-15 21:54:37,560 - INFO: lr: 0.02573 | Epoch: 001 | Batch: 010 | Loss: 1.78328 | Correct: 41/128\n"
          ],
          "name": "stderr"
        },
        {
          "output_type": "stream",
          "text": [
            "None\n"
          ],
          "name": "stdout"
        },
        {
          "output_type": "stream",
          "text": [
            "2021-07-15 21:54:38,107 - INFO: lr: 0.00757 | Epoch: 001 | Batch: 020 | Loss: 1.71758 | Correct: 56/128\n"
          ],
          "name": "stderr"
        },
        {
          "output_type": "stream",
          "text": [
            "None\n"
          ],
          "name": "stdout"
        },
        {
          "output_type": "stream",
          "text": [
            "2021-07-15 21:54:38,649 - INFO: lr: 0.00006 | Epoch: 001 | Batch: 030 | Loss: 1.63046 | Correct: 52/128\n",
            "2021-07-15 21:54:38,814 - INFO: Save the snapshot model with index: 0\n"
          ],
          "name": "stderr"
        },
        {
          "output_type": "stream",
          "text": [
            "None\n"
          ],
          "name": "stdout"
        },
        {
          "output_type": "stream",
          "text": [
            "2021-07-15 21:54:39,398 - INFO: n_estimators: 1 | Validation Acc: 37.277 % | Historical Best: 37.277 %\n",
            "2021-07-15 21:54:39,795 - INFO: lr: 0.10000 | Epoch: 002 | Batch: 000 | Loss: 1.68387 | Correct: 50/128\n"
          ],
          "name": "stderr"
        },
        {
          "output_type": "stream",
          "text": [
            "None\n"
          ],
          "name": "stdout"
        },
        {
          "output_type": "stream",
          "text": [
            "2021-07-15 21:54:40,387 - INFO: lr: 0.09372 | Epoch: 002 | Batch: 010 | Loss: 1.77221 | Correct: 39/128\n"
          ],
          "name": "stderr"
        },
        {
          "output_type": "stream",
          "text": [
            "None\n"
          ],
          "name": "stdout"
        },
        {
          "output_type": "stream",
          "text": [
            "2021-07-15 21:54:40,931 - INFO: lr: 0.07645 | Epoch: 002 | Batch: 020 | Loss: 1.70863 | Correct: 43/128\n"
          ],
          "name": "stderr"
        },
        {
          "output_type": "stream",
          "text": [
            "None\n"
          ],
          "name": "stdout"
        },
        {
          "output_type": "stream",
          "text": [
            "2021-07-15 21:54:41,470 - INFO: lr: 0.05253 | Epoch: 002 | Batch: 030 | Loss: 1.63172 | Correct: 56/128\n"
          ],
          "name": "stderr"
        },
        {
          "output_type": "stream",
          "text": [
            "None\n"
          ],
          "name": "stdout"
        },
        {
          "output_type": "stream",
          "text": [
            "2021-07-15 21:54:41,992 - INFO: lr: 0.05000 | Epoch: 003 | Batch: 000 | Loss: 1.67011 | Correct: 44/128\n"
          ],
          "name": "stderr"
        },
        {
          "output_type": "stream",
          "text": [
            "None\n"
          ],
          "name": "stdout"
        },
        {
          "output_type": "stream",
          "text": [
            "2021-07-15 21:54:42,575 - INFO: lr: 0.02573 | Epoch: 003 | Batch: 010 | Loss: 1.55227 | Correct: 55/128\n"
          ],
          "name": "stderr"
        },
        {
          "output_type": "stream",
          "text": [
            "None\n"
          ],
          "name": "stdout"
        },
        {
          "output_type": "stream",
          "text": [
            "2021-07-15 21:54:43,125 - INFO: lr: 0.00757 | Epoch: 003 | Batch: 020 | Loss: 1.45306 | Correct: 49/128\n"
          ],
          "name": "stderr"
        },
        {
          "output_type": "stream",
          "text": [
            "None\n"
          ],
          "name": "stdout"
        },
        {
          "output_type": "stream",
          "text": [
            "2021-07-15 21:54:43,660 - INFO: lr: 0.00006 | Epoch: 003 | Batch: 030 | Loss: 1.61581 | Correct: 48/128\n",
            "2021-07-15 21:54:43,818 - INFO: Save the snapshot model with index: 1\n"
          ],
          "name": "stderr"
        },
        {
          "output_type": "stream",
          "text": [
            "None\n"
          ],
          "name": "stdout"
        },
        {
          "output_type": "stream",
          "text": [
            "2021-07-15 21:54:44,508 - INFO: n_estimators: 2 | Validation Acc: 44.308 % | Historical Best: 44.308 %\n",
            "2021-07-15 21:54:44,826 - INFO: lr: 0.10000 | Epoch: 004 | Batch: 000 | Loss: 1.33335 | Correct: 68/128\n"
          ],
          "name": "stderr"
        },
        {
          "output_type": "stream",
          "text": [
            "None\n"
          ],
          "name": "stdout"
        },
        {
          "output_type": "stream",
          "text": [
            "2021-07-15 21:54:45,492 - INFO: lr: 0.09372 | Epoch: 004 | Batch: 010 | Loss: 1.69681 | Correct: 55/128\n"
          ],
          "name": "stderr"
        },
        {
          "output_type": "stream",
          "text": [
            "None\n"
          ],
          "name": "stdout"
        },
        {
          "output_type": "stream",
          "text": [
            "2021-07-15 21:54:46,041 - INFO: lr: 0.07645 | Epoch: 004 | Batch: 020 | Loss: 1.44964 | Correct: 57/128\n"
          ],
          "name": "stderr"
        },
        {
          "output_type": "stream",
          "text": [
            "None\n"
          ],
          "name": "stdout"
        },
        {
          "output_type": "stream",
          "text": [
            "2021-07-15 21:54:46,585 - INFO: lr: 0.05253 | Epoch: 004 | Batch: 030 | Loss: 1.51034 | Correct: 59/128\n"
          ],
          "name": "stderr"
        },
        {
          "output_type": "stream",
          "text": [
            "None\n"
          ],
          "name": "stdout"
        },
        {
          "output_type": "stream",
          "text": [
            "2021-07-15 21:54:47,080 - INFO: lr: 0.05000 | Epoch: 005 | Batch: 000 | Loss: 1.43071 | Correct: 56/128\n"
          ],
          "name": "stderr"
        },
        {
          "output_type": "stream",
          "text": [
            "None\n"
          ],
          "name": "stdout"
        },
        {
          "output_type": "stream",
          "text": [
            "2021-07-15 21:54:47,661 - INFO: lr: 0.02573 | Epoch: 005 | Batch: 010 | Loss: 1.26940 | Correct: 66/128\n"
          ],
          "name": "stderr"
        },
        {
          "output_type": "stream",
          "text": [
            "None\n"
          ],
          "name": "stdout"
        },
        {
          "output_type": "stream",
          "text": [
            "2021-07-15 21:54:48,207 - INFO: lr: 0.00757 | Epoch: 005 | Batch: 020 | Loss: 1.29758 | Correct: 61/128\n"
          ],
          "name": "stderr"
        },
        {
          "output_type": "stream",
          "text": [
            "None\n"
          ],
          "name": "stdout"
        },
        {
          "output_type": "stream",
          "text": [
            "2021-07-15 21:54:48,746 - INFO: lr: 0.00006 | Epoch: 005 | Batch: 030 | Loss: 1.19094 | Correct: 76/128\n",
            "2021-07-15 21:54:48,910 - INFO: Save the snapshot model with index: 2\n"
          ],
          "name": "stderr"
        },
        {
          "output_type": "stream",
          "text": [
            "None\n"
          ],
          "name": "stdout"
        },
        {
          "output_type": "stream",
          "text": [
            "2021-07-15 21:54:49,716 - INFO: n_estimators: 3 | Validation Acc: 48.661 % | Historical Best: 48.661 %\n",
            "2021-07-15 21:54:50,131 - INFO: lr: 0.10000 | Epoch: 006 | Batch: 000 | Loss: 1.27639 | Correct: 69/128\n"
          ],
          "name": "stderr"
        },
        {
          "output_type": "stream",
          "text": [
            "None\n"
          ],
          "name": "stdout"
        },
        {
          "output_type": "stream",
          "text": [
            "2021-07-15 21:54:50,731 - INFO: lr: 0.09372 | Epoch: 006 | Batch: 010 | Loss: 1.46082 | Correct: 62/128\n"
          ],
          "name": "stderr"
        },
        {
          "output_type": "stream",
          "text": [
            "None\n"
          ],
          "name": "stdout"
        },
        {
          "output_type": "stream",
          "text": [
            "2021-07-15 21:54:51,294 - INFO: lr: 0.07645 | Epoch: 006 | Batch: 020 | Loss: 1.35892 | Correct: 63/128\n"
          ],
          "name": "stderr"
        },
        {
          "output_type": "stream",
          "text": [
            "None\n"
          ],
          "name": "stdout"
        },
        {
          "output_type": "stream",
          "text": [
            "2021-07-15 21:54:51,833 - INFO: lr: 0.05253 | Epoch: 006 | Batch: 030 | Loss: 1.32978 | Correct: 66/128\n"
          ],
          "name": "stderr"
        },
        {
          "output_type": "stream",
          "text": [
            "None\n"
          ],
          "name": "stdout"
        },
        {
          "output_type": "stream",
          "text": [
            "2021-07-15 21:54:52,362 - INFO: lr: 0.05000 | Epoch: 007 | Batch: 000 | Loss: 1.26884 | Correct: 67/128\n"
          ],
          "name": "stderr"
        },
        {
          "output_type": "stream",
          "text": [
            "None\n"
          ],
          "name": "stdout"
        },
        {
          "output_type": "stream",
          "text": [
            "2021-07-15 21:54:52,957 - INFO: lr: 0.02573 | Epoch: 007 | Batch: 010 | Loss: 1.07595 | Correct: 82/128\n"
          ],
          "name": "stderr"
        },
        {
          "output_type": "stream",
          "text": [
            "None\n"
          ],
          "name": "stdout"
        },
        {
          "output_type": "stream",
          "text": [
            "2021-07-15 21:54:53,508 - INFO: lr: 0.00757 | Epoch: 007 | Batch: 020 | Loss: 1.22605 | Correct: 72/128\n"
          ],
          "name": "stderr"
        },
        {
          "output_type": "stream",
          "text": [
            "None\n"
          ],
          "name": "stdout"
        },
        {
          "output_type": "stream",
          "text": [
            "2021-07-15 21:54:54,054 - INFO: lr: 0.00006 | Epoch: 007 | Batch: 030 | Loss: 1.28214 | Correct: 68/128\n",
            "2021-07-15 21:54:54,214 - INFO: Save the snapshot model with index: 3\n"
          ],
          "name": "stderr"
        },
        {
          "output_type": "stream",
          "text": [
            "None\n"
          ],
          "name": "stdout"
        },
        {
          "output_type": "stream",
          "text": [
            "2021-07-15 21:54:55,124 - INFO: n_estimators: 4 | Validation Acc: 53.013 % | Historical Best: 53.013 %\n",
            "2021-07-15 21:54:55,551 - INFO: lr: 0.10000 | Epoch: 008 | Batch: 000 | Loss: 1.18538 | Correct: 80/128\n"
          ],
          "name": "stderr"
        },
        {
          "output_type": "stream",
          "text": [
            "None\n"
          ],
          "name": "stdout"
        },
        {
          "output_type": "stream",
          "text": [
            "2021-07-15 21:54:56,133 - INFO: lr: 0.09372 | Epoch: 008 | Batch: 010 | Loss: 1.30306 | Correct: 68/128\n"
          ],
          "name": "stderr"
        },
        {
          "output_type": "stream",
          "text": [
            "None\n"
          ],
          "name": "stdout"
        },
        {
          "output_type": "stream",
          "text": [
            "2021-07-15 21:54:56,686 - INFO: lr: 0.07645 | Epoch: 008 | Batch: 020 | Loss: 1.16539 | Correct: 72/128\n"
          ],
          "name": "stderr"
        },
        {
          "output_type": "stream",
          "text": [
            "None\n"
          ],
          "name": "stdout"
        },
        {
          "output_type": "stream",
          "text": [
            "2021-07-15 21:54:57,227 - INFO: lr: 0.05253 | Epoch: 008 | Batch: 030 | Loss: 1.31455 | Correct: 66/128\n"
          ],
          "name": "stderr"
        },
        {
          "output_type": "stream",
          "text": [
            "None\n"
          ],
          "name": "stdout"
        },
        {
          "output_type": "stream",
          "text": [
            "2021-07-15 21:54:57,731 - INFO: lr: 0.05000 | Epoch: 009 | Batch: 000 | Loss: 1.17471 | Correct: 66/128\n"
          ],
          "name": "stderr"
        },
        {
          "output_type": "stream",
          "text": [
            "None\n"
          ],
          "name": "stdout"
        },
        {
          "output_type": "stream",
          "text": [
            "2021-07-15 21:54:58,338 - INFO: lr: 0.02573 | Epoch: 009 | Batch: 010 | Loss: 1.06455 | Correct: 83/128\n"
          ],
          "name": "stderr"
        },
        {
          "output_type": "stream",
          "text": [
            "None\n"
          ],
          "name": "stdout"
        },
        {
          "output_type": "stream",
          "text": [
            "2021-07-15 21:54:58,885 - INFO: lr: 0.00757 | Epoch: 009 | Batch: 020 | Loss: 1.10847 | Correct: 80/128\n"
          ],
          "name": "stderr"
        },
        {
          "output_type": "stream",
          "text": [
            "None\n"
          ],
          "name": "stdout"
        },
        {
          "output_type": "stream",
          "text": [
            "2021-07-15 21:54:59,426 - INFO: lr: 0.00006 | Epoch: 009 | Batch: 030 | Loss: 1.16964 | Correct: 72/128\n",
            "2021-07-15 21:54:59,582 - INFO: Save the snapshot model with index: 4\n"
          ],
          "name": "stderr"
        },
        {
          "output_type": "stream",
          "text": [
            "None\n"
          ],
          "name": "stdout"
        },
        {
          "output_type": "stream",
          "text": [
            "2021-07-15 21:55:00,609 - INFO: n_estimators: 5 | Validation Acc: 58.036 % | Historical Best: 58.036 %\n"
          ],
          "name": "stderr"
        },
        {
          "output_type": "stream",
          "text": [
            "Group 1 Finished!\n",
            "Target number of exemplars: 200\n",
            "Randomly extracting exemplars from class 0 of current split... Extracted 200 exemplars.\n",
            "Randomly extracting exemplars from class 1 of current split... Extracted 200 exemplars.\n",
            "Randomly extracting exemplars from class 2 of current split... Extracted 200 exemplars.\n",
            "Randomly extracting exemplars from class 3 of current split... Extracted 200 exemplars.\n",
            "Randomly extracting exemplars from class 4 of current split... Extracted 200 exemplars.\n",
            "Randomly extracting exemplars from class 5 of current split... Extracted 200 exemplars.\n",
            "Randomly extracting exemplars from class 6 of current split... Extracted 200 exemplars.\n",
            "Randomly extracting exemplars from class 7 of current split... Extracted 200 exemplars.\n",
            "Randomly extracting exemplars from class 8 of current split... Extracted 200 exemplars.\n",
            "Randomly extracting exemplars from class 9 of current split... Extracted 200 exemplars.\n",
            "[0.23172883064516128, 0.6714465725806451, 0.9491431451612903, 1.0, 1.0, 1.0, 1.0]\n",
            "[0.5345982142857143, 0.34263392857142855, 0.060267857142857144, 0.0, 0.0, 0.0, 0.0]\n",
            "Testing on both open and closed world\n",
            "owr harmonic mean (threshold:0.25) = 0.3234288015945776\n",
            "owr harmonic mean (threshold:0.35) = 0.4538424918507504\n",
            "owr harmonic mean (threshold:0.5) = 0.11351654142071303\n",
            "owr harmonic mean (threshold:0.6) = 0.00019998000399920013\n",
            "owr harmonic mean (threshold:0.75) = 0.00019998000399920013\n",
            "owr harmonic mean (threshold:0.85) = 0.00019998000399920013\n",
            "owr harmonic mean (threshold:0.95) = 0.00019998000399920013\n",
            "\n",
            "=============================================\n",
            "\n",
            "Length of exemplars set: 2000\n"
          ],
          "name": "stdout"
        },
        {
          "output_type": "stream",
          "text": [
            "2021-07-15 21:55:35,694 - INFO: lr: 0.10000 | Epoch: 000 | Batch: 000 | Loss: 4.45093 | Correct: 5/128\n"
          ],
          "name": "stderr"
        },
        {
          "output_type": "stream",
          "text": [
            "None\n"
          ],
          "name": "stdout"
        },
        {
          "output_type": "stream",
          "text": [
            "2021-07-15 21:55:38,970 - INFO: lr: 0.09711 | Epoch: 000 | Batch: 010 | Loss: 3.01218 | Correct: 13/128\n"
          ],
          "name": "stderr"
        },
        {
          "output_type": "stream",
          "text": [
            "None\n"
          ],
          "name": "stdout"
        },
        {
          "output_type": "stream",
          "text": [
            "2021-07-15 21:55:42,238 - INFO: lr: 0.08879 | Epoch: 000 | Batch: 020 | Loss: 2.87521 | Correct: 15/128\n"
          ],
          "name": "stderr"
        },
        {
          "output_type": "stream",
          "text": [
            "None\n"
          ],
          "name": "stdout"
        },
        {
          "output_type": "stream",
          "text": [
            "2021-07-15 21:55:45,512 - INFO: lr: 0.07598 | Epoch: 000 | Batch: 030 | Loss: 2.72756 | Correct: 25/128\n"
          ],
          "name": "stderr"
        },
        {
          "output_type": "stream",
          "text": [
            "None\n"
          ],
          "name": "stdout"
        },
        {
          "output_type": "stream",
          "text": [
            "2021-07-15 21:55:48,787 - INFO: lr: 0.06017 | Epoch: 000 | Batch: 040 | Loss: 2.42167 | Correct: 29/128\n"
          ],
          "name": "stderr"
        },
        {
          "output_type": "stream",
          "text": [
            "None\n"
          ],
          "name": "stdout"
        },
        {
          "output_type": "stream",
          "text": [
            "2021-07-15 21:55:51,225 - INFO: lr: 0.05000 | Epoch: 001 | Batch: 000 | Loss: 2.61592 | Correct: 18/128\n"
          ],
          "name": "stderr"
        },
        {
          "output_type": "stream",
          "text": [
            "None\n"
          ],
          "name": "stdout"
        },
        {
          "output_type": "stream",
          "text": [
            "2021-07-15 21:55:54,531 - INFO: lr: 0.03326 | Epoch: 001 | Batch: 010 | Loss: 2.36660 | Correct: 27/128\n"
          ],
          "name": "stderr"
        },
        {
          "output_type": "stream",
          "text": [
            "None\n"
          ],
          "name": "stdout"
        },
        {
          "output_type": "stream",
          "text": [
            "2021-07-15 21:55:57,822 - INFO: lr: 0.01845 | Epoch: 001 | Batch: 020 | Loss: 2.39446 | Correct: 31/128\n"
          ],
          "name": "stderr"
        },
        {
          "output_type": "stream",
          "text": [
            "None\n"
          ],
          "name": "stdout"
        },
        {
          "output_type": "stream",
          "text": [
            "2021-07-15 21:56:01,119 - INFO: lr: 0.00728 | Epoch: 001 | Batch: 030 | Loss: 2.40891 | Correct: 30/128\n"
          ],
          "name": "stderr"
        },
        {
          "output_type": "stream",
          "text": [
            "None\n"
          ],
          "name": "stdout"
        },
        {
          "output_type": "stream",
          "text": [
            "2021-07-15 21:56:04,429 - INFO: lr: 0.00105 | Epoch: 001 | Batch: 040 | Loss: 2.29234 | Correct: 40/128\n"
          ],
          "name": "stderr"
        },
        {
          "output_type": "stream",
          "text": [
            "None\n"
          ],
          "name": "stdout"
        },
        {
          "output_type": "stream",
          "text": [
            "2021-07-15 21:56:06,163 - INFO: Save the snapshot model with index: 0\n",
            "2021-07-15 21:56:06,746 - INFO: n_estimators: 1 | Validation Acc: 36.942 % | Historical Best: 36.942 %\n",
            "2021-07-15 21:56:07,476 - INFO: lr: 0.10000 | Epoch: 002 | Batch: 000 | Loss: 2.27564 | Correct: 33/128\n"
          ],
          "name": "stderr"
        },
        {
          "output_type": "stream",
          "text": [
            "None\n"
          ],
          "name": "stdout"
        },
        {
          "output_type": "stream",
          "text": [
            "2021-07-15 21:56:10,778 - INFO: lr: 0.09711 | Epoch: 002 | Batch: 010 | Loss: 2.47857 | Correct: 26/128\n"
          ],
          "name": "stderr"
        },
        {
          "output_type": "stream",
          "text": [
            "None\n"
          ],
          "name": "stdout"
        },
        {
          "output_type": "stream",
          "text": [
            "2021-07-15 21:56:14,086 - INFO: lr: 0.08879 | Epoch: 002 | Batch: 020 | Loss: 2.50226 | Correct: 25/128\n"
          ],
          "name": "stderr"
        },
        {
          "output_type": "stream",
          "text": [
            "None\n"
          ],
          "name": "stdout"
        },
        {
          "output_type": "stream",
          "text": [
            "2021-07-15 21:56:17,398 - INFO: lr: 0.07598 | Epoch: 002 | Batch: 030 | Loss: 2.43005 | Correct: 33/128\n"
          ],
          "name": "stderr"
        },
        {
          "output_type": "stream",
          "text": [
            "None\n"
          ],
          "name": "stdout"
        },
        {
          "output_type": "stream",
          "text": [
            "2021-07-15 21:56:20,724 - INFO: lr: 0.06017 | Epoch: 002 | Batch: 040 | Loss: 2.22300 | Correct: 43/128\n"
          ],
          "name": "stderr"
        },
        {
          "output_type": "stream",
          "text": [
            "None\n"
          ],
          "name": "stdout"
        },
        {
          "output_type": "stream",
          "text": [
            "2021-07-15 21:56:23,138 - INFO: lr: 0.05000 | Epoch: 003 | Batch: 000 | Loss: 2.18842 | Correct: 41/128\n"
          ],
          "name": "stderr"
        },
        {
          "output_type": "stream",
          "text": [
            "None\n"
          ],
          "name": "stdout"
        },
        {
          "output_type": "stream",
          "text": [
            "2021-07-15 21:56:26,477 - INFO: lr: 0.03326 | Epoch: 003 | Batch: 010 | Loss: 2.05742 | Correct: 38/128\n"
          ],
          "name": "stderr"
        },
        {
          "output_type": "stream",
          "text": [
            "None\n"
          ],
          "name": "stdout"
        },
        {
          "output_type": "stream",
          "text": [
            "2021-07-15 21:56:29,816 - INFO: lr: 0.01845 | Epoch: 003 | Batch: 020 | Loss: 2.15307 | Correct: 45/128\n"
          ],
          "name": "stderr"
        },
        {
          "output_type": "stream",
          "text": [
            "None\n"
          ],
          "name": "stdout"
        },
        {
          "output_type": "stream",
          "text": [
            "2021-07-15 21:56:33,170 - INFO: lr: 0.00728 | Epoch: 003 | Batch: 030 | Loss: 2.15070 | Correct: 39/128\n"
          ],
          "name": "stderr"
        },
        {
          "output_type": "stream",
          "text": [
            "None\n"
          ],
          "name": "stdout"
        },
        {
          "output_type": "stream",
          "text": [
            "2021-07-15 21:56:36,512 - INFO: lr: 0.00105 | Epoch: 003 | Batch: 040 | Loss: 2.11421 | Correct: 39/128\n"
          ],
          "name": "stderr"
        },
        {
          "output_type": "stream",
          "text": [
            "None\n"
          ],
          "name": "stdout"
        },
        {
          "output_type": "stream",
          "text": [
            "2021-07-15 21:56:38,267 - INFO: Save the snapshot model with index: 1\n",
            "2021-07-15 21:56:38,979 - INFO: n_estimators: 2 | Validation Acc: 47.433 % | Historical Best: 47.433 %\n",
            "2021-07-15 21:56:39,732 - INFO: lr: 0.10000 | Epoch: 004 | Batch: 000 | Loss: 2.06190 | Correct: 48/128\n"
          ],
          "name": "stderr"
        },
        {
          "output_type": "stream",
          "text": [
            "None\n"
          ],
          "name": "stdout"
        },
        {
          "output_type": "stream",
          "text": [
            "2021-07-15 21:56:43,075 - INFO: lr: 0.09711 | Epoch: 004 | Batch: 010 | Loss: 2.25625 | Correct: 29/128\n"
          ],
          "name": "stderr"
        },
        {
          "output_type": "stream",
          "text": [
            "None\n"
          ],
          "name": "stdout"
        },
        {
          "output_type": "stream",
          "text": [
            "2021-07-15 21:56:46,415 - INFO: lr: 0.08879 | Epoch: 004 | Batch: 020 | Loss: 2.07135 | Correct: 47/128\n"
          ],
          "name": "stderr"
        },
        {
          "output_type": "stream",
          "text": [
            "None\n"
          ],
          "name": "stdout"
        },
        {
          "output_type": "stream",
          "text": [
            "2021-07-15 21:56:49,761 - INFO: lr: 0.07598 | Epoch: 004 | Batch: 030 | Loss: 2.44440 | Correct: 32/128\n"
          ],
          "name": "stderr"
        },
        {
          "output_type": "stream",
          "text": [
            "None\n"
          ],
          "name": "stdout"
        },
        {
          "output_type": "stream",
          "text": [
            "2021-07-15 21:56:53,115 - INFO: lr: 0.06017 | Epoch: 004 | Batch: 040 | Loss: 2.03338 | Correct: 48/128\n"
          ],
          "name": "stderr"
        },
        {
          "output_type": "stream",
          "text": [
            "None\n"
          ],
          "name": "stdout"
        },
        {
          "output_type": "stream",
          "text": [
            "2021-07-15 21:56:55,576 - INFO: lr: 0.05000 | Epoch: 005 | Batch: 000 | Loss: 2.08471 | Correct: 42/128\n"
          ],
          "name": "stderr"
        },
        {
          "output_type": "stream",
          "text": [
            "None\n"
          ],
          "name": "stdout"
        },
        {
          "output_type": "stream",
          "text": [
            "2021-07-15 21:56:58,930 - INFO: lr: 0.03326 | Epoch: 005 | Batch: 010 | Loss: 2.12993 | Correct: 41/128\n"
          ],
          "name": "stderr"
        },
        {
          "output_type": "stream",
          "text": [
            "None\n"
          ],
          "name": "stdout"
        },
        {
          "output_type": "stream",
          "text": [
            "2021-07-15 21:57:02,290 - INFO: lr: 0.01845 | Epoch: 005 | Batch: 020 | Loss: 2.00829 | Correct: 46/128\n"
          ],
          "name": "stderr"
        },
        {
          "output_type": "stream",
          "text": [
            "None\n"
          ],
          "name": "stdout"
        },
        {
          "output_type": "stream",
          "text": [
            "2021-07-15 21:57:05,642 - INFO: lr: 0.00728 | Epoch: 005 | Batch: 030 | Loss: 1.86967 | Correct: 53/128\n"
          ],
          "name": "stderr"
        },
        {
          "output_type": "stream",
          "text": [
            "None\n"
          ],
          "name": "stdout"
        },
        {
          "output_type": "stream",
          "text": [
            "2021-07-15 21:57:08,975 - INFO: lr: 0.00105 | Epoch: 005 | Batch: 040 | Loss: 1.94765 | Correct: 46/128\n"
          ],
          "name": "stderr"
        },
        {
          "output_type": "stream",
          "text": [
            "None\n"
          ],
          "name": "stdout"
        },
        {
          "output_type": "stream",
          "text": [
            "2021-07-15 21:57:10,731 - INFO: Save the snapshot model with index: 2\n",
            "2021-07-15 21:57:11,538 - INFO: n_estimators: 3 | Validation Acc: 52.790 % | Historical Best: 52.790 %\n",
            "2021-07-15 21:57:12,246 - INFO: lr: 0.10000 | Epoch: 006 | Batch: 000 | Loss: 1.87204 | Correct: 48/128\n"
          ],
          "name": "stderr"
        },
        {
          "output_type": "stream",
          "text": [
            "None\n"
          ],
          "name": "stdout"
        },
        {
          "output_type": "stream",
          "text": [
            "2021-07-15 21:57:15,588 - INFO: lr: 0.09711 | Epoch: 006 | Batch: 010 | Loss: 2.32971 | Correct: 39/128\n"
          ],
          "name": "stderr"
        },
        {
          "output_type": "stream",
          "text": [
            "None\n"
          ],
          "name": "stdout"
        },
        {
          "output_type": "stream",
          "text": [
            "2021-07-15 21:57:18,921 - INFO: lr: 0.08879 | Epoch: 006 | Batch: 020 | Loss: 2.08006 | Correct: 43/128\n"
          ],
          "name": "stderr"
        },
        {
          "output_type": "stream",
          "text": [
            "None\n"
          ],
          "name": "stdout"
        },
        {
          "output_type": "stream",
          "text": [
            "2021-07-15 21:57:22,253 - INFO: lr: 0.07598 | Epoch: 006 | Batch: 030 | Loss: 2.07756 | Correct: 38/128\n"
          ],
          "name": "stderr"
        },
        {
          "output_type": "stream",
          "text": [
            "None\n"
          ],
          "name": "stdout"
        },
        {
          "output_type": "stream",
          "text": [
            "2021-07-15 21:57:25,585 - INFO: lr: 0.06017 | Epoch: 006 | Batch: 040 | Loss: 2.20900 | Correct: 35/128\n"
          ],
          "name": "stderr"
        },
        {
          "output_type": "stream",
          "text": [
            "None\n"
          ],
          "name": "stdout"
        },
        {
          "output_type": "stream",
          "text": [
            "2021-07-15 21:57:28,011 - INFO: lr: 0.05000 | Epoch: 007 | Batch: 000 | Loss: 1.79295 | Correct: 51/128\n"
          ],
          "name": "stderr"
        },
        {
          "output_type": "stream",
          "text": [
            "None\n"
          ],
          "name": "stdout"
        },
        {
          "output_type": "stream",
          "text": [
            "2021-07-15 21:57:31,351 - INFO: lr: 0.03326 | Epoch: 007 | Batch: 010 | Loss: 1.86065 | Correct: 50/128\n"
          ],
          "name": "stderr"
        },
        {
          "output_type": "stream",
          "text": [
            "None\n"
          ],
          "name": "stdout"
        },
        {
          "output_type": "stream",
          "text": [
            "2021-07-15 21:57:34,687 - INFO: lr: 0.01845 | Epoch: 007 | Batch: 020 | Loss: 1.67975 | Correct: 57/128\n"
          ],
          "name": "stderr"
        },
        {
          "output_type": "stream",
          "text": [
            "None\n"
          ],
          "name": "stdout"
        },
        {
          "output_type": "stream",
          "text": [
            "2021-07-15 21:57:38,012 - INFO: lr: 0.00728 | Epoch: 007 | Batch: 030 | Loss: 1.64551 | Correct: 66/128\n"
          ],
          "name": "stderr"
        },
        {
          "output_type": "stream",
          "text": [
            "None\n"
          ],
          "name": "stdout"
        },
        {
          "output_type": "stream",
          "text": [
            "2021-07-15 21:57:41,344 - INFO: lr: 0.00105 | Epoch: 007 | Batch: 040 | Loss: 1.67006 | Correct: 61/128\n"
          ],
          "name": "stderr"
        },
        {
          "output_type": "stream",
          "text": [
            "None\n"
          ],
          "name": "stdout"
        },
        {
          "output_type": "stream",
          "text": [
            "2021-07-15 21:57:43,094 - INFO: Save the snapshot model with index: 3\n",
            "2021-07-15 21:57:44,007 - INFO: n_estimators: 4 | Validation Acc: 57.143 % | Historical Best: 57.143 %\n",
            "2021-07-15 21:57:44,734 - INFO: lr: 0.10000 | Epoch: 008 | Batch: 000 | Loss: 1.82478 | Correct: 52/128\n"
          ],
          "name": "stderr"
        },
        {
          "output_type": "stream",
          "text": [
            "None\n"
          ],
          "name": "stdout"
        },
        {
          "output_type": "stream",
          "text": [
            "2021-07-15 21:57:48,070 - INFO: lr: 0.09711 | Epoch: 008 | Batch: 010 | Loss: 1.99344 | Correct: 42/128\n"
          ],
          "name": "stderr"
        },
        {
          "output_type": "stream",
          "text": [
            "None\n"
          ],
          "name": "stdout"
        },
        {
          "output_type": "stream",
          "text": [
            "2021-07-15 21:57:51,394 - INFO: lr: 0.08879 | Epoch: 008 | Batch: 020 | Loss: 2.02992 | Correct: 45/128\n"
          ],
          "name": "stderr"
        },
        {
          "output_type": "stream",
          "text": [
            "None\n"
          ],
          "name": "stdout"
        },
        {
          "output_type": "stream",
          "text": [
            "2021-07-15 21:57:54,728 - INFO: lr: 0.07598 | Epoch: 008 | Batch: 030 | Loss: 1.81707 | Correct: 52/128\n"
          ],
          "name": "stderr"
        },
        {
          "output_type": "stream",
          "text": [
            "None\n"
          ],
          "name": "stdout"
        },
        {
          "output_type": "stream",
          "text": [
            "2021-07-15 21:57:58,058 - INFO: lr: 0.06017 | Epoch: 008 | Batch: 040 | Loss: 1.80152 | Correct: 55/128\n"
          ],
          "name": "stderr"
        },
        {
          "output_type": "stream",
          "text": [
            "None\n"
          ],
          "name": "stdout"
        },
        {
          "output_type": "stream",
          "text": [
            "2021-07-15 21:58:00,531 - INFO: lr: 0.05000 | Epoch: 009 | Batch: 000 | Loss: 1.80362 | Correct: 63/128\n"
          ],
          "name": "stderr"
        },
        {
          "output_type": "stream",
          "text": [
            "None\n"
          ],
          "name": "stdout"
        },
        {
          "output_type": "stream",
          "text": [
            "2021-07-15 21:58:03,880 - INFO: lr: 0.03326 | Epoch: 009 | Batch: 010 | Loss: 1.62542 | Correct: 67/128\n"
          ],
          "name": "stderr"
        },
        {
          "output_type": "stream",
          "text": [
            "None\n"
          ],
          "name": "stdout"
        },
        {
          "output_type": "stream",
          "text": [
            "2021-07-15 21:58:07,212 - INFO: lr: 0.01845 | Epoch: 009 | Batch: 020 | Loss: 1.57835 | Correct: 64/128\n"
          ],
          "name": "stderr"
        },
        {
          "output_type": "stream",
          "text": [
            "None\n"
          ],
          "name": "stdout"
        },
        {
          "output_type": "stream",
          "text": [
            "2021-07-15 21:58:10,541 - INFO: lr: 0.00728 | Epoch: 009 | Batch: 030 | Loss: 1.59182 | Correct: 65/128\n"
          ],
          "name": "stderr"
        },
        {
          "output_type": "stream",
          "text": [
            "None\n"
          ],
          "name": "stdout"
        },
        {
          "output_type": "stream",
          "text": [
            "2021-07-15 21:58:13,875 - INFO: lr: 0.00105 | Epoch: 009 | Batch: 040 | Loss: 1.68925 | Correct: 59/128\n"
          ],
          "name": "stderr"
        },
        {
          "output_type": "stream",
          "text": [
            "None\n"
          ],
          "name": "stdout"
        },
        {
          "output_type": "stream",
          "text": [
            "2021-07-15 21:58:15,628 - INFO: Save the snapshot model with index: 4\n",
            "2021-07-15 21:58:16,609 - INFO: n_estimators: 5 | Validation Acc: 58.371 % | Historical Best: 58.371 %\n"
          ],
          "name": "stderr"
        },
        {
          "output_type": "stream",
          "text": [
            "Group 2 Finished!\n",
            "Target number of exemplars: 100\n",
            "Randomly extracting exemplars from class 0 of current split... Extracted 100 exemplars.\n",
            "Randomly extracting exemplars from class 1 of current split... Extracted 100 exemplars.\n",
            "Randomly extracting exemplars from class 2 of current split... Extracted 100 exemplars.\n",
            "Randomly extracting exemplars from class 3 of current split... Extracted 100 exemplars.\n",
            "Randomly extracting exemplars from class 4 of current split... Extracted 100 exemplars.\n",
            "Randomly extracting exemplars from class 5 of current split... Extracted 100 exemplars.\n",
            "Randomly extracting exemplars from class 6 of current split... Extracted 100 exemplars.\n",
            "Randomly extracting exemplars from class 7 of current split... Extracted 100 exemplars.\n",
            "Randomly extracting exemplars from class 8 of current split... Extracted 100 exemplars.\n",
            "Randomly extracting exemplars from class 9 of current split... Extracted 100 exemplars.\n",
            "[0.6276965725806452, 0.8232358870967742, 0.9261592741935484, 0.9634828629032258, 0.9842489919354839, 0.9916582661290323, 0.9984122983870968]\n",
            "[0.2526041666666667, 0.16822916666666668, 0.1, 0.059375, 0.0359375, 0.022395833333333334, 0.005729166666666666]\n",
            "Testing on both open and closed world\n",
            "owr harmonic mean (threshold:0.25) = 0.3603558807816544\n",
            "owr harmonic mean (threshold:0.35) = 0.2795126101011549\n",
            "owr harmonic mean (threshold:0.5) = 0.1806746539502493\n",
            "owr harmonic mean (threshold:0.6) = 0.11203489626390839\n",
            "owr harmonic mean (threshold:0.75) = 0.06952949118248007\n",
            "owr harmonic mean (threshold:0.85) = 0.04399376581000882\n",
            "owr harmonic mean (threshold:0.95) = 0.011590668728793763\n",
            "\n",
            "=============================================\n",
            "\n",
            "Length of exemplars set: 2000\n"
          ],
          "name": "stdout"
        },
        {
          "output_type": "stream",
          "text": [
            "2021-07-15 21:58:53,058 - INFO: lr: 0.10000 | Epoch: 000 | Batch: 000 | Loss: 4.71771 | Correct: 4/128\n"
          ],
          "name": "stderr"
        },
        {
          "output_type": "stream",
          "text": [
            "None\n"
          ],
          "name": "stdout"
        },
        {
          "output_type": "stream",
          "text": [
            "2021-07-15 21:58:56,469 - INFO: lr: 0.09711 | Epoch: 000 | Batch: 010 | Loss: 3.18094 | Correct: 20/128\n"
          ],
          "name": "stderr"
        },
        {
          "output_type": "stream",
          "text": [
            "None\n"
          ],
          "name": "stdout"
        },
        {
          "output_type": "stream",
          "text": [
            "2021-07-15 21:58:59,863 - INFO: lr: 0.08879 | Epoch: 000 | Batch: 020 | Loss: 3.18239 | Correct: 19/128\n"
          ],
          "name": "stderr"
        },
        {
          "output_type": "stream",
          "text": [
            "None\n"
          ],
          "name": "stdout"
        },
        {
          "output_type": "stream",
          "text": [
            "2021-07-15 21:59:03,271 - INFO: lr: 0.07598 | Epoch: 000 | Batch: 030 | Loss: 3.01114 | Correct: 21/128\n"
          ],
          "name": "stderr"
        },
        {
          "output_type": "stream",
          "text": [
            "None\n"
          ],
          "name": "stdout"
        },
        {
          "output_type": "stream",
          "text": [
            "2021-07-15 21:59:06,674 - INFO: lr: 0.06017 | Epoch: 000 | Batch: 040 | Loss: 3.03877 | Correct: 22/128\n"
          ],
          "name": "stderr"
        },
        {
          "output_type": "stream",
          "text": [
            "None\n"
          ],
          "name": "stdout"
        },
        {
          "output_type": "stream",
          "text": [
            "2021-07-15 21:59:09,192 - INFO: lr: 0.05000 | Epoch: 001 | Batch: 000 | Loss: 2.70875 | Correct: 27/128\n"
          ],
          "name": "stderr"
        },
        {
          "output_type": "stream",
          "text": [
            "None\n"
          ],
          "name": "stdout"
        },
        {
          "output_type": "stream",
          "text": [
            "2021-07-15 21:59:12,611 - INFO: lr: 0.03326 | Epoch: 001 | Batch: 010 | Loss: 2.60365 | Correct: 35/128\n"
          ],
          "name": "stderr"
        },
        {
          "output_type": "stream",
          "text": [
            "None\n"
          ],
          "name": "stdout"
        },
        {
          "output_type": "stream",
          "text": [
            "2021-07-15 21:59:16,016 - INFO: lr: 0.01845 | Epoch: 001 | Batch: 020 | Loss: 2.56749 | Correct: 37/128\n"
          ],
          "name": "stderr"
        },
        {
          "output_type": "stream",
          "text": [
            "None\n"
          ],
          "name": "stdout"
        },
        {
          "output_type": "stream",
          "text": [
            "2021-07-15 21:59:19,419 - INFO: lr: 0.00728 | Epoch: 001 | Batch: 030 | Loss: 2.65630 | Correct: 38/128\n"
          ],
          "name": "stderr"
        },
        {
          "output_type": "stream",
          "text": [
            "None\n"
          ],
          "name": "stdout"
        },
        {
          "output_type": "stream",
          "text": [
            "2021-07-15 21:59:22,837 - INFO: lr: 0.00105 | Epoch: 001 | Batch: 040 | Loss: 2.71460 | Correct: 32/128\n"
          ],
          "name": "stderr"
        },
        {
          "output_type": "stream",
          "text": [
            "None\n"
          ],
          "name": "stdout"
        },
        {
          "output_type": "stream",
          "text": [
            "2021-07-15 21:59:24,622 - INFO: Save the snapshot model with index: 0\n",
            "2021-07-15 21:59:25,221 - INFO: n_estimators: 1 | Validation Acc: 41.964 % | Historical Best: 41.964 %\n",
            "2021-07-15 21:59:25,972 - INFO: lr: 0.10000 | Epoch: 002 | Batch: 000 | Loss: 2.51102 | Correct: 35/128\n"
          ],
          "name": "stderr"
        },
        {
          "output_type": "stream",
          "text": [
            "None\n"
          ],
          "name": "stdout"
        },
        {
          "output_type": "stream",
          "text": [
            "2021-07-15 21:59:29,380 - INFO: lr: 0.09711 | Epoch: 002 | Batch: 010 | Loss: 2.84655 | Correct: 33/128\n"
          ],
          "name": "stderr"
        },
        {
          "output_type": "stream",
          "text": [
            "None\n"
          ],
          "name": "stdout"
        },
        {
          "output_type": "stream",
          "text": [
            "2021-07-15 21:59:32,782 - INFO: lr: 0.08879 | Epoch: 002 | Batch: 020 | Loss: 2.77763 | Correct: 23/128\n"
          ],
          "name": "stderr"
        },
        {
          "output_type": "stream",
          "text": [
            "None\n"
          ],
          "name": "stdout"
        },
        {
          "output_type": "stream",
          "text": [
            "2021-07-15 21:59:36,191 - INFO: lr: 0.07598 | Epoch: 002 | Batch: 030 | Loss: 2.81473 | Correct: 32/128\n"
          ],
          "name": "stderr"
        },
        {
          "output_type": "stream",
          "text": [
            "None\n"
          ],
          "name": "stdout"
        },
        {
          "output_type": "stream",
          "text": [
            "2021-07-15 21:59:39,600 - INFO: lr: 0.06017 | Epoch: 002 | Batch: 040 | Loss: 2.73406 | Correct: 32/128\n"
          ],
          "name": "stderr"
        },
        {
          "output_type": "stream",
          "text": [
            "None\n"
          ],
          "name": "stdout"
        },
        {
          "output_type": "stream",
          "text": [
            "2021-07-15 21:59:42,117 - INFO: lr: 0.05000 | Epoch: 003 | Batch: 000 | Loss: 2.53980 | Correct: 29/128\n"
          ],
          "name": "stderr"
        },
        {
          "output_type": "stream",
          "text": [
            "None\n"
          ],
          "name": "stdout"
        },
        {
          "output_type": "stream",
          "text": [
            "2021-07-15 21:59:45,525 - INFO: lr: 0.03326 | Epoch: 003 | Batch: 010 | Loss: 2.28690 | Correct: 48/128\n"
          ],
          "name": "stderr"
        },
        {
          "output_type": "stream",
          "text": [
            "None\n"
          ],
          "name": "stdout"
        },
        {
          "output_type": "stream",
          "text": [
            "2021-07-15 21:59:48,925 - INFO: lr: 0.01845 | Epoch: 003 | Batch: 020 | Loss: 2.36521 | Correct: 40/128\n"
          ],
          "name": "stderr"
        },
        {
          "output_type": "stream",
          "text": [
            "None\n"
          ],
          "name": "stdout"
        },
        {
          "output_type": "stream",
          "text": [
            "2021-07-15 21:59:52,336 - INFO: lr: 0.00728 | Epoch: 003 | Batch: 030 | Loss: 2.23867 | Correct: 45/128\n"
          ],
          "name": "stderr"
        },
        {
          "output_type": "stream",
          "text": [
            "None\n"
          ],
          "name": "stdout"
        },
        {
          "output_type": "stream",
          "text": [
            "2021-07-15 21:59:55,746 - INFO: lr: 0.00105 | Epoch: 003 | Batch: 040 | Loss: 2.41000 | Correct: 38/128\n"
          ],
          "name": "stderr"
        },
        {
          "output_type": "stream",
          "text": [
            "None\n"
          ],
          "name": "stdout"
        },
        {
          "output_type": "stream",
          "text": [
            "2021-07-15 21:59:57,533 - INFO: Save the snapshot model with index: 1\n",
            "2021-07-15 21:59:58,262 - INFO: n_estimators: 2 | Validation Acc: 46.429 % | Historical Best: 46.429 %\n",
            "2021-07-15 21:59:59,021 - INFO: lr: 0.10000 | Epoch: 004 | Batch: 000 | Loss: 2.21970 | Correct: 48/128\n"
          ],
          "name": "stderr"
        },
        {
          "output_type": "stream",
          "text": [
            "None\n"
          ],
          "name": "stdout"
        },
        {
          "output_type": "stream",
          "text": [
            "2021-07-15 22:00:02,431 - INFO: lr: 0.09711 | Epoch: 004 | Batch: 010 | Loss: 2.57126 | Correct: 34/128\n"
          ],
          "name": "stderr"
        },
        {
          "output_type": "stream",
          "text": [
            "None\n"
          ],
          "name": "stdout"
        },
        {
          "output_type": "stream",
          "text": [
            "2021-07-15 22:00:05,829 - INFO: lr: 0.08879 | Epoch: 004 | Batch: 020 | Loss: 2.44779 | Correct: 42/128\n"
          ],
          "name": "stderr"
        },
        {
          "output_type": "stream",
          "text": [
            "None\n"
          ],
          "name": "stdout"
        },
        {
          "output_type": "stream",
          "text": [
            "2021-07-15 22:00:09,241 - INFO: lr: 0.07598 | Epoch: 004 | Batch: 030 | Loss: 2.65434 | Correct: 26/128\n"
          ],
          "name": "stderr"
        },
        {
          "output_type": "stream",
          "text": [
            "None\n"
          ],
          "name": "stdout"
        },
        {
          "output_type": "stream",
          "text": [
            "2021-07-15 22:00:12,644 - INFO: lr: 0.06017 | Epoch: 004 | Batch: 040 | Loss: 2.38583 | Correct: 38/128\n"
          ],
          "name": "stderr"
        },
        {
          "output_type": "stream",
          "text": [
            "None\n"
          ],
          "name": "stdout"
        },
        {
          "output_type": "stream",
          "text": [
            "2021-07-15 22:00:15,112 - INFO: lr: 0.05000 | Epoch: 005 | Batch: 000 | Loss: 2.48465 | Correct: 45/128\n"
          ],
          "name": "stderr"
        },
        {
          "output_type": "stream",
          "text": [
            "None\n"
          ],
          "name": "stdout"
        },
        {
          "output_type": "stream",
          "text": [
            "2021-07-15 22:00:18,552 - INFO: lr: 0.03326 | Epoch: 005 | Batch: 010 | Loss: 2.27291 | Correct: 46/128\n"
          ],
          "name": "stderr"
        },
        {
          "output_type": "stream",
          "text": [
            "None\n"
          ],
          "name": "stdout"
        },
        {
          "output_type": "stream",
          "text": [
            "2021-07-15 22:00:21,949 - INFO: lr: 0.01845 | Epoch: 005 | Batch: 020 | Loss: 2.29906 | Correct: 38/128\n"
          ],
          "name": "stderr"
        },
        {
          "output_type": "stream",
          "text": [
            "None\n"
          ],
          "name": "stdout"
        },
        {
          "output_type": "stream",
          "text": [
            "2021-07-15 22:00:25,346 - INFO: lr: 0.00728 | Epoch: 005 | Batch: 030 | Loss: 2.23109 | Correct: 47/128\n"
          ],
          "name": "stderr"
        },
        {
          "output_type": "stream",
          "text": [
            "None\n"
          ],
          "name": "stdout"
        },
        {
          "output_type": "stream",
          "text": [
            "2021-07-15 22:00:28,750 - INFO: lr: 0.00105 | Epoch: 005 | Batch: 040 | Loss: 2.06522 | Correct: 54/128\n"
          ],
          "name": "stderr"
        },
        {
          "output_type": "stream",
          "text": [
            "None\n"
          ],
          "name": "stdout"
        },
        {
          "output_type": "stream",
          "text": [
            "2021-07-15 22:00:30,527 - INFO: Save the snapshot model with index: 2\n",
            "2021-07-15 22:00:31,366 - INFO: n_estimators: 3 | Validation Acc: 51.786 % | Historical Best: 51.786 %\n",
            "2021-07-15 22:00:32,126 - INFO: lr: 0.10000 | Epoch: 006 | Batch: 000 | Loss: 2.26518 | Correct: 47/128\n"
          ],
          "name": "stderr"
        },
        {
          "output_type": "stream",
          "text": [
            "None\n"
          ],
          "name": "stdout"
        },
        {
          "output_type": "stream",
          "text": [
            "2021-07-15 22:00:35,529 - INFO: lr: 0.09711 | Epoch: 006 | Batch: 010 | Loss: 2.34661 | Correct: 41/128\n"
          ],
          "name": "stderr"
        },
        {
          "output_type": "stream",
          "text": [
            "None\n"
          ],
          "name": "stdout"
        },
        {
          "output_type": "stream",
          "text": [
            "2021-07-15 22:00:38,938 - INFO: lr: 0.08879 | Epoch: 006 | Batch: 020 | Loss: 2.19025 | Correct: 47/128\n"
          ],
          "name": "stderr"
        },
        {
          "output_type": "stream",
          "text": [
            "None\n"
          ],
          "name": "stdout"
        },
        {
          "output_type": "stream",
          "text": [
            "2021-07-15 22:00:42,340 - INFO: lr: 0.07598 | Epoch: 006 | Batch: 030 | Loss: 2.34207 | Correct: 41/128\n"
          ],
          "name": "stderr"
        },
        {
          "output_type": "stream",
          "text": [
            "None\n"
          ],
          "name": "stdout"
        },
        {
          "output_type": "stream",
          "text": [
            "2021-07-15 22:00:45,733 - INFO: lr: 0.06017 | Epoch: 006 | Batch: 040 | Loss: 2.28692 | Correct: 45/128\n"
          ],
          "name": "stderr"
        },
        {
          "output_type": "stream",
          "text": [
            "None\n"
          ],
          "name": "stdout"
        },
        {
          "output_type": "stream",
          "text": [
            "2021-07-15 22:00:48,236 - INFO: lr: 0.05000 | Epoch: 007 | Batch: 000 | Loss: 2.19640 | Correct: 49/128\n"
          ],
          "name": "stderr"
        },
        {
          "output_type": "stream",
          "text": [
            "None\n"
          ],
          "name": "stdout"
        },
        {
          "output_type": "stream",
          "text": [
            "2021-07-15 22:00:51,663 - INFO: lr: 0.03326 | Epoch: 007 | Batch: 010 | Loss: 1.91921 | Correct: 56/128\n"
          ],
          "name": "stderr"
        },
        {
          "output_type": "stream",
          "text": [
            "None\n"
          ],
          "name": "stdout"
        },
        {
          "output_type": "stream",
          "text": [
            "2021-07-15 22:00:55,073 - INFO: lr: 0.01845 | Epoch: 007 | Batch: 020 | Loss: 2.21114 | Correct: 50/128\n"
          ],
          "name": "stderr"
        },
        {
          "output_type": "stream",
          "text": [
            "None\n"
          ],
          "name": "stdout"
        },
        {
          "output_type": "stream",
          "text": [
            "2021-07-15 22:00:58,474 - INFO: lr: 0.00728 | Epoch: 007 | Batch: 030 | Loss: 2.11435 | Correct: 53/128\n"
          ],
          "name": "stderr"
        },
        {
          "output_type": "stream",
          "text": [
            "None\n"
          ],
          "name": "stdout"
        },
        {
          "output_type": "stream",
          "text": [
            "2021-07-15 22:01:01,873 - INFO: lr: 0.00105 | Epoch: 007 | Batch: 040 | Loss: 2.01802 | Correct: 57/128\n"
          ],
          "name": "stderr"
        },
        {
          "output_type": "stream",
          "text": [
            "None\n"
          ],
          "name": "stdout"
        },
        {
          "output_type": "stream",
          "text": [
            "2021-07-15 22:01:03,661 - INFO: Save the snapshot model with index: 3\n",
            "2021-07-15 22:01:04,567 - INFO: n_estimators: 4 | Validation Acc: 51.004 % | Historical Best: 51.786 %\n",
            "2021-07-15 22:01:05,401 - INFO: lr: 0.10000 | Epoch: 008 | Batch: 000 | Loss: 1.99764 | Correct: 56/128\n"
          ],
          "name": "stderr"
        },
        {
          "output_type": "stream",
          "text": [
            "None\n"
          ],
          "name": "stdout"
        },
        {
          "output_type": "stream",
          "text": [
            "2021-07-15 22:01:08,811 - INFO: lr: 0.09711 | Epoch: 008 | Batch: 010 | Loss: 2.18088 | Correct: 45/128\n"
          ],
          "name": "stderr"
        },
        {
          "output_type": "stream",
          "text": [
            "None\n"
          ],
          "name": "stdout"
        },
        {
          "output_type": "stream",
          "text": [
            "2021-07-15 22:01:12,252 - INFO: lr: 0.08879 | Epoch: 008 | Batch: 020 | Loss: 2.39572 | Correct: 45/128\n"
          ],
          "name": "stderr"
        },
        {
          "output_type": "stream",
          "text": [
            "None\n"
          ],
          "name": "stdout"
        },
        {
          "output_type": "stream",
          "text": [
            "2021-07-15 22:01:15,644 - INFO: lr: 0.07598 | Epoch: 008 | Batch: 030 | Loss: 2.33154 | Correct: 43/128\n"
          ],
          "name": "stderr"
        },
        {
          "output_type": "stream",
          "text": [
            "None\n"
          ],
          "name": "stdout"
        },
        {
          "output_type": "stream",
          "text": [
            "2021-07-15 22:01:19,035 - INFO: lr: 0.06017 | Epoch: 008 | Batch: 040 | Loss: 2.16275 | Correct: 50/128\n"
          ],
          "name": "stderr"
        },
        {
          "output_type": "stream",
          "text": [
            "None\n"
          ],
          "name": "stdout"
        },
        {
          "output_type": "stream",
          "text": [
            "2021-07-15 22:01:21,574 - INFO: lr: 0.05000 | Epoch: 009 | Batch: 000 | Loss: 1.98719 | Correct: 56/128\n"
          ],
          "name": "stderr"
        },
        {
          "output_type": "stream",
          "text": [
            "None\n"
          ],
          "name": "stdout"
        },
        {
          "output_type": "stream",
          "text": [
            "2021-07-15 22:01:24,975 - INFO: lr: 0.03326 | Epoch: 009 | Batch: 010 | Loss: 2.10270 | Correct: 52/128\n"
          ],
          "name": "stderr"
        },
        {
          "output_type": "stream",
          "text": [
            "None\n"
          ],
          "name": "stdout"
        },
        {
          "output_type": "stream",
          "text": [
            "2021-07-15 22:01:28,373 - INFO: lr: 0.01845 | Epoch: 009 | Batch: 020 | Loss: 1.99297 | Correct: 60/128\n"
          ],
          "name": "stderr"
        },
        {
          "output_type": "stream",
          "text": [
            "None\n"
          ],
          "name": "stdout"
        },
        {
          "output_type": "stream",
          "text": [
            "2021-07-15 22:01:31,779 - INFO: lr: 0.00728 | Epoch: 009 | Batch: 030 | Loss: 1.95032 | Correct: 59/128\n"
          ],
          "name": "stderr"
        },
        {
          "output_type": "stream",
          "text": [
            "None\n"
          ],
          "name": "stdout"
        },
        {
          "output_type": "stream",
          "text": [
            "2021-07-15 22:01:35,173 - INFO: lr: 0.00105 | Epoch: 009 | Batch: 040 | Loss: 2.22631 | Correct: 45/128\n"
          ],
          "name": "stderr"
        },
        {
          "output_type": "stream",
          "text": [
            "None\n"
          ],
          "name": "stdout"
        },
        {
          "output_type": "stream",
          "text": [
            "2021-07-15 22:01:36,964 - INFO: Save the snapshot model with index: 4\n",
            "2021-07-15 22:01:38,026 - INFO: n_estimators: 5 | Validation Acc: 56.138 % | Historical Best: 56.138 %\n"
          ],
          "name": "stderr"
        },
        {
          "output_type": "stream",
          "text": [
            "Group 3 Finished!\n",
            "Target number of exemplars: 66\n",
            "Randomly extracting exemplars from class 0 of current split... Extracted 66 exemplars.\n",
            "Randomly extracting exemplars from class 1 of current split... Extracted 66 exemplars.\n",
            "Randomly extracting exemplars from class 2 of current split... Extracted 66 exemplars.\n",
            "Randomly extracting exemplars from class 3 of current split... Extracted 66 exemplars.\n",
            "Randomly extracting exemplars from class 4 of current split... Extracted 66 exemplars.\n",
            "Randomly extracting exemplars from class 5 of current split... Extracted 66 exemplars.\n",
            "Randomly extracting exemplars from class 6 of current split... Extracted 66 exemplars.\n",
            "Randomly extracting exemplars from class 7 of current split... Extracted 66 exemplars.\n",
            "Randomly extracting exemplars from class 8 of current split... Extracted 66 exemplars.\n",
            "Randomly extracting exemplars from class 9 of current split... Extracted 66 exemplars.\n",
            "[0.5626764112903225, 0.7991683467741936, 0.9233114919354839, 0.9679939516129032, 0.9911290322580645, 0.9988659274193549, 1.0]\n",
            "[0.15183423913043478, 0.09578804347826086, 0.042798913043478264, 0.01936141304347826, 0.006793478260869565, 0.0020380434782608695, 0.0]\n",
            "Testing on both open and closed world\n",
            "owr harmonic mean (threshold:0.25) = 0.23927167112904818\n",
            "owr harmonic mean (threshold:0.35) = 0.17123327012091655\n",
            "owr harmonic mean (threshold:0.5) = 0.08198887043289427\n",
            "owr harmonic mean (threshold:0.6) = 0.03815578737458893\n",
            "owr harmonic mean (threshold:0.75) = 0.013691737664269671\n",
            "owr harmonic mean (threshold:0.85) = 0.004266954578571354\n",
            "owr harmonic mean (threshold:0.95) = 0.00019998000399920013\n",
            "\n",
            "=============================================\n",
            "\n",
            "Length of exemplars set: 1980\n"
          ],
          "name": "stdout"
        },
        {
          "output_type": "stream",
          "text": [
            "2021-07-15 22:02:15,503 - INFO: lr: 0.10000 | Epoch: 000 | Batch: 000 | Loss: 5.05365 | Correct: 5/128\n"
          ],
          "name": "stderr"
        },
        {
          "output_type": "stream",
          "text": [
            "None\n"
          ],
          "name": "stdout"
        },
        {
          "output_type": "stream",
          "text": [
            "2021-07-15 22:02:18,964 - INFO: lr: 0.09711 | Epoch: 000 | Batch: 010 | Loss: 3.59315 | Correct: 19/128\n"
          ],
          "name": "stderr"
        },
        {
          "output_type": "stream",
          "text": [
            "None\n"
          ],
          "name": "stdout"
        },
        {
          "output_type": "stream",
          "text": [
            "2021-07-15 22:02:22,440 - INFO: lr: 0.08879 | Epoch: 000 | Batch: 020 | Loss: 3.36941 | Correct: 16/128\n"
          ],
          "name": "stderr"
        },
        {
          "output_type": "stream",
          "text": [
            "None\n"
          ],
          "name": "stdout"
        },
        {
          "output_type": "stream",
          "text": [
            "2021-07-15 22:02:25,928 - INFO: lr: 0.07598 | Epoch: 000 | Batch: 030 | Loss: 3.13387 | Correct: 28/128\n"
          ],
          "name": "stderr"
        },
        {
          "output_type": "stream",
          "text": [
            "None\n"
          ],
          "name": "stdout"
        },
        {
          "output_type": "stream",
          "text": [
            "2021-07-15 22:02:29,395 - INFO: lr: 0.06017 | Epoch: 000 | Batch: 040 | Loss: 2.81199 | Correct: 32/128\n"
          ],
          "name": "stderr"
        },
        {
          "output_type": "stream",
          "text": [
            "None\n"
          ],
          "name": "stdout"
        },
        {
          "output_type": "stream",
          "text": [
            "2021-07-15 22:02:31,996 - INFO: lr: 0.05000 | Epoch: 001 | Batch: 000 | Loss: 2.76329 | Correct: 38/128\n"
          ],
          "name": "stderr"
        },
        {
          "output_type": "stream",
          "text": [
            "None\n"
          ],
          "name": "stdout"
        },
        {
          "output_type": "stream",
          "text": [
            "2021-07-15 22:02:35,492 - INFO: lr: 0.03326 | Epoch: 001 | Batch: 010 | Loss: 2.75044 | Correct: 28/128\n"
          ],
          "name": "stderr"
        },
        {
          "output_type": "stream",
          "text": [
            "None\n"
          ],
          "name": "stdout"
        },
        {
          "output_type": "stream",
          "text": [
            "2021-07-15 22:02:38,971 - INFO: lr: 0.01845 | Epoch: 001 | Batch: 020 | Loss: 2.62807 | Correct: 35/128\n"
          ],
          "name": "stderr"
        },
        {
          "output_type": "stream",
          "text": [
            "None\n"
          ],
          "name": "stdout"
        },
        {
          "output_type": "stream",
          "text": [
            "2021-07-15 22:02:42,452 - INFO: lr: 0.00728 | Epoch: 001 | Batch: 030 | Loss: 2.68252 | Correct: 38/128\n"
          ],
          "name": "stderr"
        },
        {
          "output_type": "stream",
          "text": [
            "None\n"
          ],
          "name": "stdout"
        },
        {
          "output_type": "stream",
          "text": [
            "2021-07-15 22:02:45,922 - INFO: lr: 0.00105 | Epoch: 001 | Batch: 040 | Loss: 2.46170 | Correct: 47/128\n"
          ],
          "name": "stderr"
        },
        {
          "output_type": "stream",
          "text": [
            "None\n"
          ],
          "name": "stdout"
        },
        {
          "output_type": "stream",
          "text": [
            "2021-07-15 22:02:47,744 - INFO: Save the snapshot model with index: 0\n",
            "2021-07-15 22:02:48,352 - INFO: n_estimators: 1 | Validation Acc: 42.076 % | Historical Best: 42.076 %\n",
            "2021-07-15 22:02:49,095 - INFO: lr: 0.10000 | Epoch: 002 | Batch: 000 | Loss: 2.62754 | Correct: 38/128\n"
          ],
          "name": "stderr"
        },
        {
          "output_type": "stream",
          "text": [
            "None\n"
          ],
          "name": "stdout"
        },
        {
          "output_type": "stream",
          "text": [
            "2021-07-15 22:02:52,572 - INFO: lr: 0.09711 | Epoch: 002 | Batch: 010 | Loss: 2.99180 | Correct: 28/128\n"
          ],
          "name": "stderr"
        },
        {
          "output_type": "stream",
          "text": [
            "None\n"
          ],
          "name": "stdout"
        },
        {
          "output_type": "stream",
          "text": [
            "2021-07-15 22:02:56,057 - INFO: lr: 0.08879 | Epoch: 002 | Batch: 020 | Loss: 2.89439 | Correct: 31/128\n"
          ],
          "name": "stderr"
        },
        {
          "output_type": "stream",
          "text": [
            "None\n"
          ],
          "name": "stdout"
        },
        {
          "output_type": "stream",
          "text": [
            "2021-07-15 22:02:59,539 - INFO: lr: 0.07598 | Epoch: 002 | Batch: 030 | Loss: 2.75202 | Correct: 36/128\n"
          ],
          "name": "stderr"
        },
        {
          "output_type": "stream",
          "text": [
            "None\n"
          ],
          "name": "stdout"
        },
        {
          "output_type": "stream",
          "text": [
            "2021-07-15 22:03:03,027 - INFO: lr: 0.06017 | Epoch: 002 | Batch: 040 | Loss: 2.82461 | Correct: 32/128\n"
          ],
          "name": "stderr"
        },
        {
          "output_type": "stream",
          "text": [
            "None\n"
          ],
          "name": "stdout"
        },
        {
          "output_type": "stream",
          "text": [
            "2021-07-15 22:03:05,622 - INFO: lr: 0.05000 | Epoch: 003 | Batch: 000 | Loss: 2.35309 | Correct: 52/128\n"
          ],
          "name": "stderr"
        },
        {
          "output_type": "stream",
          "text": [
            "None\n"
          ],
          "name": "stdout"
        },
        {
          "output_type": "stream",
          "text": [
            "2021-07-15 22:03:09,113 - INFO: lr: 0.03326 | Epoch: 003 | Batch: 010 | Loss: 2.61383 | Correct: 42/128\n"
          ],
          "name": "stderr"
        },
        {
          "output_type": "stream",
          "text": [
            "None\n"
          ],
          "name": "stdout"
        },
        {
          "output_type": "stream",
          "text": [
            "2021-07-15 22:03:12,600 - INFO: lr: 0.01845 | Epoch: 003 | Batch: 020 | Loss: 2.39756 | Correct: 43/128\n"
          ],
          "name": "stderr"
        },
        {
          "output_type": "stream",
          "text": [
            "None\n"
          ],
          "name": "stdout"
        },
        {
          "output_type": "stream",
          "text": [
            "2021-07-15 22:03:16,079 - INFO: lr: 0.00728 | Epoch: 003 | Batch: 030 | Loss: 2.57121 | Correct: 39/128\n"
          ],
          "name": "stderr"
        },
        {
          "output_type": "stream",
          "text": [
            "None\n"
          ],
          "name": "stdout"
        },
        {
          "output_type": "stream",
          "text": [
            "2021-07-15 22:03:19,552 - INFO: lr: 0.00105 | Epoch: 003 | Batch: 040 | Loss: 2.47162 | Correct: 41/128\n"
          ],
          "name": "stderr"
        },
        {
          "output_type": "stream",
          "text": [
            "None\n"
          ],
          "name": "stdout"
        },
        {
          "output_type": "stream",
          "text": [
            "2021-07-15 22:03:21,377 - INFO: Save the snapshot model with index: 1\n",
            "2021-07-15 22:03:22,099 - INFO: n_estimators: 2 | Validation Acc: 49.219 % | Historical Best: 49.219 %\n",
            "2021-07-15 22:03:22,889 - INFO: lr: 0.10000 | Epoch: 004 | Batch: 000 | Loss: 2.13813 | Correct: 54/128\n"
          ],
          "name": "stderr"
        },
        {
          "output_type": "stream",
          "text": [
            "None\n"
          ],
          "name": "stdout"
        },
        {
          "output_type": "stream",
          "text": [
            "2021-07-15 22:03:26,373 - INFO: lr: 0.09711 | Epoch: 004 | Batch: 010 | Loss: 2.66484 | Correct: 40/128\n"
          ],
          "name": "stderr"
        },
        {
          "output_type": "stream",
          "text": [
            "None\n"
          ],
          "name": "stdout"
        },
        {
          "output_type": "stream",
          "text": [
            "2021-07-15 22:03:29,857 - INFO: lr: 0.08879 | Epoch: 004 | Batch: 020 | Loss: 2.57435 | Correct: 35/128\n"
          ],
          "name": "stderr"
        },
        {
          "output_type": "stream",
          "text": [
            "None\n"
          ],
          "name": "stdout"
        },
        {
          "output_type": "stream",
          "text": [
            "2021-07-15 22:03:33,325 - INFO: lr: 0.07598 | Epoch: 004 | Batch: 030 | Loss: 2.69622 | Correct: 38/128\n"
          ],
          "name": "stderr"
        },
        {
          "output_type": "stream",
          "text": [
            "None\n"
          ],
          "name": "stdout"
        },
        {
          "output_type": "stream",
          "text": [
            "2021-07-15 22:03:36,811 - INFO: lr: 0.06017 | Epoch: 004 | Batch: 040 | Loss: 2.71224 | Correct: 41/128\n"
          ],
          "name": "stderr"
        },
        {
          "output_type": "stream",
          "text": [
            "None\n"
          ],
          "name": "stdout"
        },
        {
          "output_type": "stream",
          "text": [
            "2021-07-15 22:03:39,372 - INFO: lr: 0.05000 | Epoch: 005 | Batch: 000 | Loss: 2.20511 | Correct: 52/128\n"
          ],
          "name": "stderr"
        },
        {
          "output_type": "stream",
          "text": [
            "None\n"
          ],
          "name": "stdout"
        },
        {
          "output_type": "stream",
          "text": [
            "2021-07-15 22:03:42,853 - INFO: lr: 0.03326 | Epoch: 005 | Batch: 010 | Loss: 2.40013 | Correct: 39/128\n"
          ],
          "name": "stderr"
        },
        {
          "output_type": "stream",
          "text": [
            "None\n"
          ],
          "name": "stdout"
        },
        {
          "output_type": "stream",
          "text": [
            "2021-07-15 22:03:46,343 - INFO: lr: 0.01845 | Epoch: 005 | Batch: 020 | Loss: 2.42422 | Correct: 43/128\n"
          ],
          "name": "stderr"
        },
        {
          "output_type": "stream",
          "text": [
            "None\n"
          ],
          "name": "stdout"
        },
        {
          "output_type": "stream",
          "text": [
            "2021-07-15 22:03:49,818 - INFO: lr: 0.00728 | Epoch: 005 | Batch: 030 | Loss: 2.33377 | Correct: 48/128\n"
          ],
          "name": "stderr"
        },
        {
          "output_type": "stream",
          "text": [
            "None\n"
          ],
          "name": "stdout"
        },
        {
          "output_type": "stream",
          "text": [
            "2021-07-15 22:03:53,293 - INFO: lr: 0.00105 | Epoch: 005 | Batch: 040 | Loss: 2.31821 | Correct: 47/128\n"
          ],
          "name": "stderr"
        },
        {
          "output_type": "stream",
          "text": [
            "None\n"
          ],
          "name": "stdout"
        },
        {
          "output_type": "stream",
          "text": [
            "2021-07-15 22:03:55,123 - INFO: Save the snapshot model with index: 2\n",
            "2021-07-15 22:03:55,932 - INFO: n_estimators: 3 | Validation Acc: 52.790 % | Historical Best: 52.790 %\n",
            "2021-07-15 22:03:56,725 - INFO: lr: 0.10000 | Epoch: 006 | Batch: 000 | Loss: 2.24985 | Correct: 52/128\n"
          ],
          "name": "stderr"
        },
        {
          "output_type": "stream",
          "text": [
            "None\n"
          ],
          "name": "stdout"
        },
        {
          "output_type": "stream",
          "text": [
            "2021-07-15 22:04:00,206 - INFO: lr: 0.09711 | Epoch: 006 | Batch: 010 | Loss: 2.30163 | Correct: 50/128\n"
          ],
          "name": "stderr"
        },
        {
          "output_type": "stream",
          "text": [
            "None\n"
          ],
          "name": "stdout"
        },
        {
          "output_type": "stream",
          "text": [
            "2021-07-15 22:04:03,682 - INFO: lr: 0.08879 | Epoch: 006 | Batch: 020 | Loss: 2.38546 | Correct: 46/128\n"
          ],
          "name": "stderr"
        },
        {
          "output_type": "stream",
          "text": [
            "None\n"
          ],
          "name": "stdout"
        },
        {
          "output_type": "stream",
          "text": [
            "2021-07-15 22:04:07,166 - INFO: lr: 0.07598 | Epoch: 006 | Batch: 030 | Loss: 2.47945 | Correct: 41/128\n"
          ],
          "name": "stderr"
        },
        {
          "output_type": "stream",
          "text": [
            "None\n"
          ],
          "name": "stdout"
        },
        {
          "output_type": "stream",
          "text": [
            "2021-07-15 22:04:10,670 - INFO: lr: 0.06017 | Epoch: 006 | Batch: 040 | Loss: 2.58754 | Correct: 39/128\n"
          ],
          "name": "stderr"
        },
        {
          "output_type": "stream",
          "text": [
            "None\n"
          ],
          "name": "stdout"
        },
        {
          "output_type": "stream",
          "text": [
            "2021-07-15 22:04:13,243 - INFO: lr: 0.05000 | Epoch: 007 | Batch: 000 | Loss: 2.23069 | Correct: 42/128\n"
          ],
          "name": "stderr"
        },
        {
          "output_type": "stream",
          "text": [
            "None\n"
          ],
          "name": "stdout"
        },
        {
          "output_type": "stream",
          "text": [
            "2021-07-15 22:04:16,711 - INFO: lr: 0.03326 | Epoch: 007 | Batch: 010 | Loss: 2.21244 | Correct: 48/128\n"
          ],
          "name": "stderr"
        },
        {
          "output_type": "stream",
          "text": [
            "None\n"
          ],
          "name": "stdout"
        },
        {
          "output_type": "stream",
          "text": [
            "2021-07-15 22:04:20,201 - INFO: lr: 0.01845 | Epoch: 007 | Batch: 020 | Loss: 2.20355 | Correct: 45/128\n"
          ],
          "name": "stderr"
        },
        {
          "output_type": "stream",
          "text": [
            "None\n"
          ],
          "name": "stdout"
        },
        {
          "output_type": "stream",
          "text": [
            "2021-07-15 22:04:23,674 - INFO: lr: 0.00728 | Epoch: 007 | Batch: 030 | Loss: 2.29591 | Correct: 48/128\n"
          ],
          "name": "stderr"
        },
        {
          "output_type": "stream",
          "text": [
            "None\n"
          ],
          "name": "stdout"
        },
        {
          "output_type": "stream",
          "text": [
            "2021-07-15 22:04:27,143 - INFO: lr: 0.00105 | Epoch: 007 | Batch: 040 | Loss: 2.17871 | Correct: 53/128\n"
          ],
          "name": "stderr"
        },
        {
          "output_type": "stream",
          "text": [
            "None\n"
          ],
          "name": "stdout"
        },
        {
          "output_type": "stream",
          "text": [
            "2021-07-15 22:04:28,960 - INFO: Save the snapshot model with index: 3\n",
            "2021-07-15 22:04:29,886 - INFO: n_estimators: 4 | Validation Acc: 54.688 % | Historical Best: 54.688 %\n",
            "2021-07-15 22:04:30,693 - INFO: lr: 0.10000 | Epoch: 008 | Batch: 000 | Loss: 2.06160 | Correct: 60/128\n"
          ],
          "name": "stderr"
        },
        {
          "output_type": "stream",
          "text": [
            "None\n"
          ],
          "name": "stdout"
        },
        {
          "output_type": "stream",
          "text": [
            "2021-07-15 22:04:34,175 - INFO: lr: 0.09711 | Epoch: 008 | Batch: 010 | Loss: 2.60739 | Correct: 38/128\n"
          ],
          "name": "stderr"
        },
        {
          "output_type": "stream",
          "text": [
            "None\n"
          ],
          "name": "stdout"
        },
        {
          "output_type": "stream",
          "text": [
            "2021-07-15 22:04:37,659 - INFO: lr: 0.08879 | Epoch: 008 | Batch: 020 | Loss: 2.21732 | Correct: 53/128\n"
          ],
          "name": "stderr"
        },
        {
          "output_type": "stream",
          "text": [
            "None\n"
          ],
          "name": "stdout"
        },
        {
          "output_type": "stream",
          "text": [
            "2021-07-15 22:04:41,135 - INFO: lr: 0.07598 | Epoch: 008 | Batch: 030 | Loss: 2.38260 | Correct: 43/128\n"
          ],
          "name": "stderr"
        },
        {
          "output_type": "stream",
          "text": [
            "None\n"
          ],
          "name": "stdout"
        },
        {
          "output_type": "stream",
          "text": [
            "2021-07-15 22:04:44,609 - INFO: lr: 0.06017 | Epoch: 008 | Batch: 040 | Loss: 2.06035 | Correct: 58/128\n"
          ],
          "name": "stderr"
        },
        {
          "output_type": "stream",
          "text": [
            "None\n"
          ],
          "name": "stdout"
        },
        {
          "output_type": "stream",
          "text": [
            "2021-07-15 22:04:47,204 - INFO: lr: 0.05000 | Epoch: 009 | Batch: 000 | Loss: 2.23495 | Correct: 50/128\n"
          ],
          "name": "stderr"
        },
        {
          "output_type": "stream",
          "text": [
            "None\n"
          ],
          "name": "stdout"
        },
        {
          "output_type": "stream",
          "text": [
            "2021-07-15 22:04:50,676 - INFO: lr: 0.03326 | Epoch: 009 | Batch: 010 | Loss: 2.17517 | Correct: 54/128\n"
          ],
          "name": "stderr"
        },
        {
          "output_type": "stream",
          "text": [
            "None\n"
          ],
          "name": "stdout"
        },
        {
          "output_type": "stream",
          "text": [
            "2021-07-15 22:04:54,154 - INFO: lr: 0.01845 | Epoch: 009 | Batch: 020 | Loss: 1.84740 | Correct: 62/128\n"
          ],
          "name": "stderr"
        },
        {
          "output_type": "stream",
          "text": [
            "None\n"
          ],
          "name": "stdout"
        },
        {
          "output_type": "stream",
          "text": [
            "2021-07-15 22:04:57,632 - INFO: lr: 0.00728 | Epoch: 009 | Batch: 030 | Loss: 2.00870 | Correct: 59/128\n"
          ],
          "name": "stderr"
        },
        {
          "output_type": "stream",
          "text": [
            "None\n"
          ],
          "name": "stdout"
        },
        {
          "output_type": "stream",
          "text": [
            "2021-07-15 22:05:01,118 - INFO: lr: 0.00105 | Epoch: 009 | Batch: 040 | Loss: 1.93513 | Correct: 59/128\n"
          ],
          "name": "stderr"
        },
        {
          "output_type": "stream",
          "text": [
            "None\n"
          ],
          "name": "stdout"
        },
        {
          "output_type": "stream",
          "text": [
            "2021-07-15 22:05:02,945 - INFO: Save the snapshot model with index: 4\n",
            "2021-07-15 22:05:03,984 - INFO: n_estimators: 5 | Validation Acc: 56.920 % | Historical Best: 56.920 %\n"
          ],
          "name": "stderr"
        },
        {
          "output_type": "stream",
          "text": [
            "Group 4 Finished!\n",
            "Target number of exemplars: 50\n",
            "Randomly extracting exemplars from class 0 of current split... Extracted 50 exemplars.\n",
            "Randomly extracting exemplars from class 1 of current split... Extracted 50 exemplars.\n",
            "Randomly extracting exemplars from class 2 of current split... Extracted 50 exemplars.\n",
            "Randomly extracting exemplars from class 3 of current split... Extracted 50 exemplars.\n",
            "Randomly extracting exemplars from class 4 of current split... Extracted 50 exemplars.\n",
            "Randomly extracting exemplars from class 5 of current split... Extracted 50 exemplars.\n",
            "Randomly extracting exemplars from class 6 of current split... Extracted 50 exemplars.\n",
            "Randomly extracting exemplars from class 7 of current split... Extracted 50 exemplars.\n",
            "Randomly extracting exemplars from class 8 of current split... Extracted 50 exemplars.\n",
            "Randomly extracting exemplars from class 9 of current split... Extracted 50 exemplars.\n",
            "[0.5804939516129032, 0.7993951612903226, 0.9171875, 0.9451612903225807, 0.9677671370967742, 0.9783518145161291, 0.9902721774193548]\n",
            "[0.12449596774193548, 0.08820564516129033, 0.053931451612903226, 0.04284274193548387, 0.029485887096774195, 0.024193548387096774, 0.015625]\n",
            "Testing on both open and closed world\n",
            "owr harmonic mean (threshold:0.25) = 0.2051636396972491\n",
            "owr harmonic mean (threshold:0.35) = 0.15904454131608103\n",
            "owr harmonic mean (threshold:0.5) = 0.1020517000910385\n",
            "owr harmonic mean (threshold:0.6) = 0.08215330099224824\n",
            "owr harmonic mean (threshold:0.75) = 0.05741665451558505\n",
            "owr harmonic mean (threshold:0.85) = 0.04740997541303863\n",
            "owr harmonic mean (threshold:0.95) = 0.030958445842907016\n",
            "\n",
            "=============================================\n",
            "\n",
            "Length of exemplars set: 2000\n"
          ],
          "name": "stdout"
        },
        {
          "output_type": "stream",
          "text": [
            "2021-07-15 22:05:42,453 - INFO: lr: 0.10000 | Epoch: 000 | Batch: 000 | Loss: 5.13494 | Correct: 0/128\n"
          ],
          "name": "stderr"
        },
        {
          "output_type": "stream",
          "text": [
            "None\n"
          ],
          "name": "stdout"
        },
        {
          "output_type": "stream",
          "text": [
            "2021-07-15 22:05:46,016 - INFO: lr: 0.09711 | Epoch: 000 | Batch: 010 | Loss: 3.63464 | Correct: 22/128\n"
          ],
          "name": "stderr"
        },
        {
          "output_type": "stream",
          "text": [
            "None\n"
          ],
          "name": "stdout"
        },
        {
          "output_type": "stream",
          "text": [
            "2021-07-15 22:05:49,575 - INFO: lr: 0.08879 | Epoch: 000 | Batch: 020 | Loss: 3.37830 | Correct: 26/128\n"
          ],
          "name": "stderr"
        },
        {
          "output_type": "stream",
          "text": [
            "None\n"
          ],
          "name": "stdout"
        },
        {
          "output_type": "stream",
          "text": [
            "2021-07-15 22:05:53,149 - INFO: lr: 0.07598 | Epoch: 000 | Batch: 030 | Loss: 2.85669 | Correct: 35/128\n"
          ],
          "name": "stderr"
        },
        {
          "output_type": "stream",
          "text": [
            "None\n"
          ],
          "name": "stdout"
        },
        {
          "output_type": "stream",
          "text": [
            "2021-07-15 22:05:56,697 - INFO: lr: 0.06017 | Epoch: 000 | Batch: 040 | Loss: 2.83050 | Correct: 35/128\n"
          ],
          "name": "stderr"
        },
        {
          "output_type": "stream",
          "text": [
            "None\n"
          ],
          "name": "stdout"
        },
        {
          "output_type": "stream",
          "text": [
            "2021-07-15 22:05:59,346 - INFO: lr: 0.05000 | Epoch: 001 | Batch: 000 | Loss: 2.81977 | Correct: 32/128\n"
          ],
          "name": "stderr"
        },
        {
          "output_type": "stream",
          "text": [
            "None\n"
          ],
          "name": "stdout"
        },
        {
          "output_type": "stream",
          "text": [
            "2021-07-15 22:06:02,906 - INFO: lr: 0.03326 | Epoch: 001 | Batch: 010 | Loss: 2.60743 | Correct: 42/128\n"
          ],
          "name": "stderr"
        },
        {
          "output_type": "stream",
          "text": [
            "None\n"
          ],
          "name": "stdout"
        },
        {
          "output_type": "stream",
          "text": [
            "2021-07-15 22:06:06,466 - INFO: lr: 0.01845 | Epoch: 001 | Batch: 020 | Loss: 2.83039 | Correct: 38/128\n"
          ],
          "name": "stderr"
        },
        {
          "output_type": "stream",
          "text": [
            "None\n"
          ],
          "name": "stdout"
        },
        {
          "output_type": "stream",
          "text": [
            "2021-07-15 22:06:10,028 - INFO: lr: 0.00728 | Epoch: 001 | Batch: 030 | Loss: 3.09197 | Correct: 32/128\n"
          ],
          "name": "stderr"
        },
        {
          "output_type": "stream",
          "text": [
            "None\n"
          ],
          "name": "stdout"
        },
        {
          "output_type": "stream",
          "text": [
            "2021-07-15 22:06:13,590 - INFO: lr: 0.00105 | Epoch: 001 | Batch: 040 | Loss: 2.89856 | Correct: 37/128\n"
          ],
          "name": "stderr"
        },
        {
          "output_type": "stream",
          "text": [
            "None\n"
          ],
          "name": "stdout"
        },
        {
          "output_type": "stream",
          "text": [
            "2021-07-15 22:06:15,457 - INFO: Save the snapshot model with index: 0\n",
            "2021-07-15 22:06:16,097 - INFO: n_estimators: 1 | Validation Acc: 46.317 % | Historical Best: 46.317 %\n",
            "2021-07-15 22:06:16,908 - INFO: lr: 0.10000 | Epoch: 002 | Batch: 000 | Loss: 2.67843 | Correct: 39/128\n"
          ],
          "name": "stderr"
        },
        {
          "output_type": "stream",
          "text": [
            "None\n"
          ],
          "name": "stdout"
        },
        {
          "output_type": "stream",
          "text": [
            "2021-07-15 22:06:20,491 - INFO: lr: 0.09711 | Epoch: 002 | Batch: 010 | Loss: 3.00215 | Correct: 39/128\n"
          ],
          "name": "stderr"
        },
        {
          "output_type": "stream",
          "text": [
            "None\n"
          ],
          "name": "stdout"
        },
        {
          "output_type": "stream",
          "text": [
            "2021-07-15 22:06:24,065 - INFO: lr: 0.08879 | Epoch: 002 | Batch: 020 | Loss: 2.94077 | Correct: 38/128\n"
          ],
          "name": "stderr"
        },
        {
          "output_type": "stream",
          "text": [
            "None\n"
          ],
          "name": "stdout"
        },
        {
          "output_type": "stream",
          "text": [
            "2021-07-15 22:06:27,639 - INFO: lr: 0.07598 | Epoch: 002 | Batch: 030 | Loss: 2.66195 | Correct: 43/128\n"
          ],
          "name": "stderr"
        },
        {
          "output_type": "stream",
          "text": [
            "None\n"
          ],
          "name": "stdout"
        },
        {
          "output_type": "stream",
          "text": [
            "2021-07-15 22:06:31,202 - INFO: lr: 0.06017 | Epoch: 002 | Batch: 040 | Loss: 3.02763 | Correct: 34/128\n"
          ],
          "name": "stderr"
        },
        {
          "output_type": "stream",
          "text": [
            "None\n"
          ],
          "name": "stdout"
        },
        {
          "output_type": "stream",
          "text": [
            "2021-07-15 22:06:33,860 - INFO: lr: 0.05000 | Epoch: 003 | Batch: 000 | Loss: 2.86809 | Correct: 36/128\n"
          ],
          "name": "stderr"
        },
        {
          "output_type": "stream",
          "text": [
            "None\n"
          ],
          "name": "stdout"
        },
        {
          "output_type": "stream",
          "text": [
            "2021-07-15 22:06:37,440 - INFO: lr: 0.03326 | Epoch: 003 | Batch: 010 | Loss: 2.53602 | Correct: 40/128\n"
          ],
          "name": "stderr"
        },
        {
          "output_type": "stream",
          "text": [
            "None\n"
          ],
          "name": "stdout"
        },
        {
          "output_type": "stream",
          "text": [
            "2021-07-15 22:06:41,006 - INFO: lr: 0.01845 | Epoch: 003 | Batch: 020 | Loss: 2.43364 | Correct: 48/128\n"
          ],
          "name": "stderr"
        },
        {
          "output_type": "stream",
          "text": [
            "None\n"
          ],
          "name": "stdout"
        },
        {
          "output_type": "stream",
          "text": [
            "2021-07-15 22:06:44,582 - INFO: lr: 0.00728 | Epoch: 003 | Batch: 030 | Loss: 2.63371 | Correct: 41/128\n"
          ],
          "name": "stderr"
        },
        {
          "output_type": "stream",
          "text": [
            "None\n"
          ],
          "name": "stdout"
        },
        {
          "output_type": "stream",
          "text": [
            "2021-07-15 22:06:48,153 - INFO: lr: 0.00105 | Epoch: 003 | Batch: 040 | Loss: 2.60589 | Correct: 44/128\n"
          ],
          "name": "stderr"
        },
        {
          "output_type": "stream",
          "text": [
            "None\n"
          ],
          "name": "stdout"
        },
        {
          "output_type": "stream",
          "text": [
            "2021-07-15 22:06:50,014 - INFO: Save the snapshot model with index: 1\n",
            "2021-07-15 22:06:50,721 - INFO: n_estimators: 2 | Validation Acc: 50.781 % | Historical Best: 50.781 %\n",
            "2021-07-15 22:06:51,577 - INFO: lr: 0.10000 | Epoch: 004 | Batch: 000 | Loss: 2.41595 | Correct: 48/128\n"
          ],
          "name": "stderr"
        },
        {
          "output_type": "stream",
          "text": [
            "None\n"
          ],
          "name": "stdout"
        },
        {
          "output_type": "stream",
          "text": [
            "2021-07-15 22:06:55,157 - INFO: lr: 0.09711 | Epoch: 004 | Batch: 010 | Loss: 2.50417 | Correct: 49/128\n"
          ],
          "name": "stderr"
        },
        {
          "output_type": "stream",
          "text": [
            "None\n"
          ],
          "name": "stdout"
        },
        {
          "output_type": "stream",
          "text": [
            "2021-07-15 22:06:58,721 - INFO: lr: 0.08879 | Epoch: 004 | Batch: 020 | Loss: 2.89642 | Correct: 38/128\n"
          ],
          "name": "stderr"
        },
        {
          "output_type": "stream",
          "text": [
            "None\n"
          ],
          "name": "stdout"
        },
        {
          "output_type": "stream",
          "text": [
            "2021-07-15 22:07:02,289 - INFO: lr: 0.07598 | Epoch: 004 | Batch: 030 | Loss: 2.60525 | Correct: 42/128\n"
          ],
          "name": "stderr"
        },
        {
          "output_type": "stream",
          "text": [
            "None\n"
          ],
          "name": "stdout"
        },
        {
          "output_type": "stream",
          "text": [
            "2021-07-15 22:07:05,854 - INFO: lr: 0.06017 | Epoch: 004 | Batch: 040 | Loss: 2.85404 | Correct: 35/128\n"
          ],
          "name": "stderr"
        },
        {
          "output_type": "stream",
          "text": [
            "None\n"
          ],
          "name": "stdout"
        },
        {
          "output_type": "stream",
          "text": [
            "2021-07-15 22:07:08,481 - INFO: lr: 0.05000 | Epoch: 005 | Batch: 000 | Loss: 2.41113 | Correct: 50/128\n"
          ],
          "name": "stderr"
        },
        {
          "output_type": "stream",
          "text": [
            "None\n"
          ],
          "name": "stdout"
        },
        {
          "output_type": "stream",
          "text": [
            "2021-07-15 22:07:12,034 - INFO: lr: 0.03326 | Epoch: 005 | Batch: 010 | Loss: 2.58695 | Correct: 41/128\n"
          ],
          "name": "stderr"
        },
        {
          "output_type": "stream",
          "text": [
            "None\n"
          ],
          "name": "stdout"
        },
        {
          "output_type": "stream",
          "text": [
            "2021-07-15 22:07:15,588 - INFO: lr: 0.01845 | Epoch: 005 | Batch: 020 | Loss: 2.51396 | Correct: 49/128\n"
          ],
          "name": "stderr"
        },
        {
          "output_type": "stream",
          "text": [
            "None\n"
          ],
          "name": "stdout"
        },
        {
          "output_type": "stream",
          "text": [
            "2021-07-15 22:07:19,158 - INFO: lr: 0.00728 | Epoch: 005 | Batch: 030 | Loss: 2.25666 | Correct: 52/128\n"
          ],
          "name": "stderr"
        },
        {
          "output_type": "stream",
          "text": [
            "None\n"
          ],
          "name": "stdout"
        },
        {
          "output_type": "stream",
          "text": [
            "2021-07-15 22:07:22,709 - INFO: lr: 0.00105 | Epoch: 005 | Batch: 040 | Loss: 2.43639 | Correct: 44/128\n"
          ],
          "name": "stderr"
        },
        {
          "output_type": "stream",
          "text": [
            "None\n"
          ],
          "name": "stdout"
        },
        {
          "output_type": "stream",
          "text": [
            "2021-07-15 22:07:24,597 - INFO: Save the snapshot model with index: 2\n",
            "2021-07-15 22:07:25,412 - INFO: n_estimators: 3 | Validation Acc: 54.911 % | Historical Best: 54.911 %\n",
            "2021-07-15 22:07:26,219 - INFO: lr: 0.10000 | Epoch: 006 | Batch: 000 | Loss: 2.30049 | Correct: 46/128\n"
          ],
          "name": "stderr"
        },
        {
          "output_type": "stream",
          "text": [
            "None\n"
          ],
          "name": "stdout"
        },
        {
          "output_type": "stream",
          "text": [
            "2021-07-15 22:07:29,774 - INFO: lr: 0.09711 | Epoch: 006 | Batch: 010 | Loss: 2.50259 | Correct: 46/128\n"
          ],
          "name": "stderr"
        },
        {
          "output_type": "stream",
          "text": [
            "None\n"
          ],
          "name": "stdout"
        },
        {
          "output_type": "stream",
          "text": [
            "2021-07-15 22:07:33,341 - INFO: lr: 0.08879 | Epoch: 006 | Batch: 020 | Loss: 2.44025 | Correct: 46/128\n"
          ],
          "name": "stderr"
        },
        {
          "output_type": "stream",
          "text": [
            "None\n"
          ],
          "name": "stdout"
        },
        {
          "output_type": "stream",
          "text": [
            "2021-07-15 22:07:36,906 - INFO: lr: 0.07598 | Epoch: 006 | Batch: 030 | Loss: 2.42198 | Correct: 47/128\n"
          ],
          "name": "stderr"
        },
        {
          "output_type": "stream",
          "text": [
            "None\n"
          ],
          "name": "stdout"
        },
        {
          "output_type": "stream",
          "text": [
            "2021-07-15 22:07:40,478 - INFO: lr: 0.06017 | Epoch: 006 | Batch: 040 | Loss: 2.28522 | Correct: 56/128\n"
          ],
          "name": "stderr"
        },
        {
          "output_type": "stream",
          "text": [
            "None\n"
          ],
          "name": "stdout"
        },
        {
          "output_type": "stream",
          "text": [
            "2021-07-15 22:07:43,134 - INFO: lr: 0.05000 | Epoch: 007 | Batch: 000 | Loss: 2.21254 | Correct: 57/128\n"
          ],
          "name": "stderr"
        },
        {
          "output_type": "stream",
          "text": [
            "None\n"
          ],
          "name": "stdout"
        },
        {
          "output_type": "stream",
          "text": [
            "2021-07-15 22:07:46,702 - INFO: lr: 0.03326 | Epoch: 007 | Batch: 010 | Loss: 2.34743 | Correct: 48/128\n"
          ],
          "name": "stderr"
        },
        {
          "output_type": "stream",
          "text": [
            "None\n"
          ],
          "name": "stdout"
        },
        {
          "output_type": "stream",
          "text": [
            "2021-07-15 22:07:50,264 - INFO: lr: 0.01845 | Epoch: 007 | Batch: 020 | Loss: 2.35968 | Correct: 48/128\n"
          ],
          "name": "stderr"
        },
        {
          "output_type": "stream",
          "text": [
            "None\n"
          ],
          "name": "stdout"
        },
        {
          "output_type": "stream",
          "text": [
            "2021-07-15 22:07:53,825 - INFO: lr: 0.00728 | Epoch: 007 | Batch: 030 | Loss: 2.53263 | Correct: 39/128\n"
          ],
          "name": "stderr"
        },
        {
          "output_type": "stream",
          "text": [
            "None\n"
          ],
          "name": "stdout"
        },
        {
          "output_type": "stream",
          "text": [
            "2021-07-15 22:07:57,389 - INFO: lr: 0.00105 | Epoch: 007 | Batch: 040 | Loss: 2.26200 | Correct: 55/128\n"
          ],
          "name": "stderr"
        },
        {
          "output_type": "stream",
          "text": [
            "None\n"
          ],
          "name": "stdout"
        },
        {
          "output_type": "stream",
          "text": [
            "2021-07-15 22:07:59,262 - INFO: Save the snapshot model with index: 3\n",
            "2021-07-15 22:08:00,218 - INFO: n_estimators: 4 | Validation Acc: 58.147 % | Historical Best: 58.147 %\n",
            "2021-07-15 22:08:01,047 - INFO: lr: 0.10000 | Epoch: 008 | Batch: 000 | Loss: 2.37206 | Correct: 53/128\n"
          ],
          "name": "stderr"
        },
        {
          "output_type": "stream",
          "text": [
            "None\n"
          ],
          "name": "stdout"
        },
        {
          "output_type": "stream",
          "text": [
            "2021-07-15 22:08:04,618 - INFO: lr: 0.09711 | Epoch: 008 | Batch: 010 | Loss: 2.35143 | Correct: 56/128\n"
          ],
          "name": "stderr"
        },
        {
          "output_type": "stream",
          "text": [
            "None\n"
          ],
          "name": "stdout"
        },
        {
          "output_type": "stream",
          "text": [
            "2021-07-15 22:08:08,187 - INFO: lr: 0.08879 | Epoch: 008 | Batch: 020 | Loss: 2.37887 | Correct: 53/128\n"
          ],
          "name": "stderr"
        },
        {
          "output_type": "stream",
          "text": [
            "None\n"
          ],
          "name": "stdout"
        },
        {
          "output_type": "stream",
          "text": [
            "2021-07-15 22:08:11,745 - INFO: lr: 0.07598 | Epoch: 008 | Batch: 030 | Loss: 2.33141 | Correct: 47/128\n"
          ],
          "name": "stderr"
        },
        {
          "output_type": "stream",
          "text": [
            "None\n"
          ],
          "name": "stdout"
        },
        {
          "output_type": "stream",
          "text": [
            "2021-07-15 22:08:15,302 - INFO: lr: 0.06017 | Epoch: 008 | Batch: 040 | Loss: 2.53177 | Correct: 50/128\n"
          ],
          "name": "stderr"
        },
        {
          "output_type": "stream",
          "text": [
            "None\n"
          ],
          "name": "stdout"
        },
        {
          "output_type": "stream",
          "text": [
            "2021-07-15 22:08:17,949 - INFO: lr: 0.05000 | Epoch: 009 | Batch: 000 | Loss: 2.41250 | Correct: 50/128\n"
          ],
          "name": "stderr"
        },
        {
          "output_type": "stream",
          "text": [
            "None\n"
          ],
          "name": "stdout"
        },
        {
          "output_type": "stream",
          "text": [
            "2021-07-15 22:08:21,516 - INFO: lr: 0.03326 | Epoch: 009 | Batch: 010 | Loss: 2.19473 | Correct: 50/128\n"
          ],
          "name": "stderr"
        },
        {
          "output_type": "stream",
          "text": [
            "None\n"
          ],
          "name": "stdout"
        },
        {
          "output_type": "stream",
          "text": [
            "2021-07-15 22:08:25,081 - INFO: lr: 0.01845 | Epoch: 009 | Batch: 020 | Loss: 1.84323 | Correct: 69/128\n"
          ],
          "name": "stderr"
        },
        {
          "output_type": "stream",
          "text": [
            "None\n"
          ],
          "name": "stdout"
        },
        {
          "output_type": "stream",
          "text": [
            "2021-07-15 22:08:28,645 - INFO: lr: 0.00728 | Epoch: 009 | Batch: 030 | Loss: 2.10667 | Correct: 63/128\n"
          ],
          "name": "stderr"
        },
        {
          "output_type": "stream",
          "text": [
            "None\n"
          ],
          "name": "stdout"
        },
        {
          "output_type": "stream",
          "text": [
            "2021-07-15 22:08:32,206 - INFO: lr: 0.00105 | Epoch: 009 | Batch: 040 | Loss: 2.37459 | Correct: 55/128\n"
          ],
          "name": "stderr"
        },
        {
          "output_type": "stream",
          "text": [
            "None\n"
          ],
          "name": "stdout"
        },
        {
          "output_type": "stream",
          "text": [
            "2021-07-15 22:08:34,079 - INFO: Save the snapshot model with index: 4\n",
            "2021-07-15 22:08:35,145 - INFO: n_estimators: 5 | Validation Acc: 60.045 % | Historical Best: 60.045 %\n"
          ],
          "name": "stderr"
        },
        {
          "output_type": "stream",
          "text": [
            "Group 5 Finished!\n",
            "Target number of exemplars: 40\n",
            "Randomly extracting exemplars from class 0 of current split... Extracted 40 exemplars.\n",
            "Randomly extracting exemplars from class 1 of current split... Extracted 40 exemplars.\n",
            "Randomly extracting exemplars from class 2 of current split... Extracted 40 exemplars.\n",
            "Randomly extracting exemplars from class 3 of current split... Extracted 40 exemplars.\n",
            "Randomly extracting exemplars from class 4 of current split... Extracted 40 exemplars.\n",
            "Randomly extracting exemplars from class 5 of current split... Extracted 40 exemplars.\n",
            "Randomly extracting exemplars from class 6 of current split... Extracted 40 exemplars.\n",
            "Randomly extracting exemplars from class 7 of current split... Extracted 40 exemplars.\n",
            "Randomly extracting exemplars from class 8 of current split... Extracted 40 exemplars.\n",
            "Randomly extracting exemplars from class 9 of current split... Extracted 40 exemplars.\n",
            "[0.7036290322580645, 0.8086945564516129, 0.873664314516129, 0.9076108870967742, 0.9484879032258065, 0.9795866935483871, 0.9965473790322581]\n",
            "[0.0921474358974359, 0.07832532051282051, 0.06610576923076923, 0.05709134615384615, 0.03786057692307692, 0.017027243589743588, 0.0028044871794871795]\n",
            "Testing on both open and closed world\n",
            "owr harmonic mean (threshold:0.25) = 0.16311336173749377\n",
            "owr harmonic mean (threshold:0.35) = 0.14298591356127835\n",
            "owr harmonic mean (threshold:0.5) = 0.12308527594483029\n",
            "owr harmonic mean (threshold:0.6) = 0.10760304155723231\n",
            "owr harmonic mean (threshold:0.75) = 0.07299984702884392\n",
            "owr harmonic mean (threshold:0.85) = 0.03366592704393248\n",
            "owr harmonic mean (threshold:0.95) = 0.005792094703078607\n",
            "\n",
            "=============================================\n",
            "\n",
            "#################################\n",
            "\n",
            "\n"
          ],
          "name": "stdout"
        }
      ]
    },
    {
      "cell_type": "code",
      "metadata": {
        "id": "FlhjGZlYBYdR"
      },
      "source": [
        ""
      ],
      "execution_count": 26,
      "outputs": []
    },
    {
      "cell_type": "code",
      "metadata": {
        "id": "MP8PsFuxOZke",
        "outputId": "a3febd7c-6cf8-4eb1-9e45-0c1f4a104cfa",
        "colab": {
          "base_uri": "https://localhost:8080/",
          "height": 17
        }
      },
      "source": [
        "import json\n",
        "from google.colab import files\n",
        "\n",
        "\n",
        "predictions = [[logs[run_i]['predictions'][i].cpu().numpy() for i in range(len(logs[run_i]['predictions']))] for run_i in range(len(RANDOM_SEED))]\n",
        "prediction_list = []\n",
        "for pred in predictions[0]:\n",
        "  prediction_list.append(pred.tolist())\n",
        "\n",
        "with open('predictions.json', 'w') as f:\n",
        "  json.dump(prediction_list, f)\n",
        "f.close\n",
        "\n",
        "accuracies = []\n",
        "for i in range(len(REJECTION_THRESHOLD)):\n",
        "  tmp_list = []\n",
        "  for k in range(5):\n",
        "    tmp_list.append(logs[0]['test_accuracies'][k][i])\n",
        "  accuracies.append(tmp_list)\n",
        "\n",
        "with open('accuracies.json', 'w') as f:\n",
        "  json.dump(accuracies, f)\n",
        "f.close\n",
        "\n",
        "true_labels = [logs[run_i]['true_labels'].cpu().data.numpy().tolist() for run_i in range(len(RANDOM_SEED))]\n",
        "with open('true_labels.json', 'w') as f:\n",
        "  json.dump(true_labels, f)\n",
        "f.close\n",
        "\n",
        "files.download('true_labels.json')\n",
        "files.download('accuracies.json')\n",
        "files.download('predictions.json')"
      ],
      "execution_count": 44,
      "outputs": [
        {
          "output_type": "display_data",
          "data": {
            "application/javascript": [
              "\n",
              "    async function download(id, filename, size) {\n",
              "      if (!google.colab.kernel.accessAllowed) {\n",
              "        return;\n",
              "      }\n",
              "      const div = document.createElement('div');\n",
              "      const label = document.createElement('label');\n",
              "      label.textContent = `Downloading \"${filename}\": `;\n",
              "      div.appendChild(label);\n",
              "      const progress = document.createElement('progress');\n",
              "      progress.max = size;\n",
              "      div.appendChild(progress);\n",
              "      document.body.appendChild(div);\n",
              "\n",
              "      const buffers = [];\n",
              "      let downloaded = 0;\n",
              "\n",
              "      const channel = await google.colab.kernel.comms.open(id);\n",
              "      // Send a message to notify the kernel that we're ready.\n",
              "      channel.send({})\n",
              "\n",
              "      for await (const message of channel.messages) {\n",
              "        // Send a message to notify the kernel that we're ready.\n",
              "        channel.send({})\n",
              "        if (message.buffers) {\n",
              "          for (const buffer of message.buffers) {\n",
              "            buffers.push(buffer);\n",
              "            downloaded += buffer.byteLength;\n",
              "            progress.value = downloaded;\n",
              "          }\n",
              "        }\n",
              "      }\n",
              "      const blob = new Blob(buffers, {type: 'application/binary'});\n",
              "      const a = document.createElement('a');\n",
              "      a.href = window.URL.createObjectURL(blob);\n",
              "      a.download = filename;\n",
              "      div.appendChild(a);\n",
              "      a.click();\n",
              "      div.remove();\n",
              "    }\n",
              "  "
            ],
            "text/plain": [
              "<IPython.core.display.Javascript object>"
            ]
          },
          "metadata": {
            "tags": []
          }
        },
        {
          "output_type": "display_data",
          "data": {
            "application/javascript": [
              "download(\"download_ab5a99cb-0bd1-4925-84d2-cf4bd8eb8186\", \"true_labels.json\", 172731)"
            ],
            "text/plain": [
              "<IPython.core.display.Javascript object>"
            ]
          },
          "metadata": {
            "tags": []
          }
        },
        {
          "output_type": "display_data",
          "data": {
            "application/javascript": [
              "\n",
              "    async function download(id, filename, size) {\n",
              "      if (!google.colab.kernel.accessAllowed) {\n",
              "        return;\n",
              "      }\n",
              "      const div = document.createElement('div');\n",
              "      const label = document.createElement('label');\n",
              "      label.textContent = `Downloading \"${filename}\": `;\n",
              "      div.appendChild(label);\n",
              "      const progress = document.createElement('progress');\n",
              "      progress.max = size;\n",
              "      div.appendChild(progress);\n",
              "      document.body.appendChild(div);\n",
              "\n",
              "      const buffers = [];\n",
              "      let downloaded = 0;\n",
              "\n",
              "      const channel = await google.colab.kernel.comms.open(id);\n",
              "      // Send a message to notify the kernel that we're ready.\n",
              "      channel.send({})\n",
              "\n",
              "      for await (const message of channel.messages) {\n",
              "        // Send a message to notify the kernel that we're ready.\n",
              "        channel.send({})\n",
              "        if (message.buffers) {\n",
              "          for (const buffer of message.buffers) {\n",
              "            buffers.push(buffer);\n",
              "            downloaded += buffer.byteLength;\n",
              "            progress.value = downloaded;\n",
              "          }\n",
              "        }\n",
              "      }\n",
              "      const blob = new Blob(buffers, {type: 'application/binary'});\n",
              "      const a = document.createElement('a');\n",
              "      a.href = window.URL.createObjectURL(blob);\n",
              "      a.download = filename;\n",
              "      div.appendChild(a);\n",
              "      a.click();\n",
              "      div.remove();\n",
              "    }\n",
              "  "
            ],
            "text/plain": [
              "<IPython.core.display.Javascript object>"
            ]
          },
          "metadata": {
            "tags": []
          }
        },
        {
          "output_type": "display_data",
          "data": {
            "application/javascript": [
              "download(\"download_7ab3651d-5a16-4fd0-8008-d8ccb5185fa3\", \"accuracies.json\", 762)"
            ],
            "text/plain": [
              "<IPython.core.display.Javascript object>"
            ]
          },
          "metadata": {
            "tags": []
          }
        },
        {
          "output_type": "display_data",
          "data": {
            "application/javascript": [
              "\n",
              "    async function download(id, filename, size) {\n",
              "      if (!google.colab.kernel.accessAllowed) {\n",
              "        return;\n",
              "      }\n",
              "      const div = document.createElement('div');\n",
              "      const label = document.createElement('label');\n",
              "      label.textContent = `Downloading \"${filename}\": `;\n",
              "      div.appendChild(label);\n",
              "      const progress = document.createElement('progress');\n",
              "      progress.max = size;\n",
              "      div.appendChild(progress);\n",
              "      document.body.appendChild(div);\n",
              "\n",
              "      const buffers = [];\n",
              "      let downloaded = 0;\n",
              "\n",
              "      const channel = await google.colab.kernel.comms.open(id);\n",
              "      // Send a message to notify the kernel that we're ready.\n",
              "      channel.send({})\n",
              "\n",
              "      for await (const message of channel.messages) {\n",
              "        // Send a message to notify the kernel that we're ready.\n",
              "        channel.send({})\n",
              "        if (message.buffers) {\n",
              "          for (const buffer of message.buffers) {\n",
              "            buffers.push(buffer);\n",
              "            downloaded += buffer.byteLength;\n",
              "            progress.value = downloaded;\n",
              "          }\n",
              "        }\n",
              "      }\n",
              "      const blob = new Blob(buffers, {type: 'application/binary'});\n",
              "      const a = document.createElement('a');\n",
              "      a.href = window.URL.createObjectURL(blob);\n",
              "      a.download = filename;\n",
              "      div.appendChild(a);\n",
              "      a.click();\n",
              "      div.remove();\n",
              "    }\n",
              "  "
            ],
            "text/plain": [
              "<IPython.core.display.Javascript object>"
            ]
          },
          "metadata": {
            "tags": []
          }
        },
        {
          "output_type": "display_data",
          "data": {
            "application/javascript": [
              "download(\"download_8609e175-5323-4583-b183-777a2b3c1a2a\", \"predictions.json\", 2153790)"
            ],
            "text/plain": [
              "<IPython.core.display.Javascript object>"
            ]
          },
          "metadata": {
            "tags": []
          }
        }
      ]
    },
    {
      "cell_type": "markdown",
      "metadata": {
        "id": "2NMLqiIS19IJ"
      },
      "source": [
        "### Print some graphs"
      ]
    },
    {
      "cell_type": "code",
      "metadata": {
        "id": "G6Mg2QiIBNRo"
      },
      "source": [
        "from data.utils_plot import plot_train_val, plot_test_accuracies, plot_confusion_matrix"
      ],
      "execution_count": 39,
      "outputs": []
    },
    {
      "cell_type": "code",
      "metadata": {
        "id": "ttyNLP2hGnLN"
      },
      "source": [
        "accuracies = np.array([accuracies])\n",
        "accuracies_stats = np.array([accuracies.mean(0), accuracies.std(0)])"
      ],
      "execution_count": 41,
      "outputs": []
    },
    {
      "cell_type": "markdown",
      "metadata": {
        "id": "llzylw_LF7e_"
      },
      "source": [
        "#### Test accuracy"
      ]
    },
    {
      "cell_type": "code",
      "metadata": {
        "colab": {
          "base_uri": "https://localhost:8080/",
          "height": 1000
        },
        "id": "NQfpluscGzX8",
        "outputId": "42f43909-8dc4-4971-c11a-0adae104f5e7"
      },
      "source": [
        "def plot_test(stats, save_directory = None, title = \"\"):\n",
        "  mean = np.array(stats[0])\n",
        "  std = np.array(stats[1])\n",
        "  fig, ax = plt.subplots(figsize = (10, 5), dpi = 100)\n",
        "  x = np.arange(10, 51, 10)\n",
        "  ax.errorbar(x, mean, std)\n",
        "  ax.set_title(f\"Harmonic mean accuracy - threshold: {title}\")\n",
        "  ax.set_xlabel(\"Number of classes\")\n",
        "  ax.set_ylabel(\"Accuracy\")\n",
        "  plt.tight_layout()\n",
        "  if save_directory != None:\n",
        "    fig.savefig(save_directory)\n",
        "  plt.show()\n",
        "\n",
        "\n",
        "for i in range(len(REJECTION_THRESHOLD)):\n",
        "  plot_test(stats = [accuracies_stats[0][i],accuracies_stats[1][i]], title = REJECTION_THRESHOLD[i])"
      ],
      "execution_count": 42,
      "outputs": [
        {
          "output_type": "display_data",
          "data": {
            "image/png": "[encoded data removed]",
            "text/plain": [
              "<Figure size 1000x500 with 1 Axes>"
            ]
          },
          "metadata": {
            "tags": [],
            "needs_background": "light"
          }
        },
        {
          "output_type": "display_data",
          "data": {
            "image/png": "[encoded data removed]",
            "text/plain": [
              "<Figure size 1000x500 with 1 Axes>"
            ]
          },
          "metadata": {
            "tags": [],
            "needs_background": "light"
          }
        },
        {
          "output_type": "display_data",
          "data": {
            "image/png": "[encoded data removed]",
            "text/plain": [
              "<Figure size 1000x500 with 1 Axes>"
            ]
          },
          "metadata": {
            "tags": [],
            "needs_background": "light"
          }
        },
        {
          "output_type": "display_data",
          "data": {
            "image/png": "[encoded data removed]",
            "text/plain": [
              "<Figure size 1000x500 with 1 Axes>"
            ]
          },
          "metadata": {
            "tags": [],
            "needs_background": "light"
          }
        },
        {
          "output_type": "display_data",
          "data": {
            "image/png": "[encoded data removed]",
            "text/plain": [
              "<Figure size 1000x500 with 1 Axes>"
            ]
          },
          "metadata": {
            "tags": [],
            "needs_background": "light"
          }
        },
        {
          "output_type": "display_data",
          "data": {
            "image/png": "[encoded data removed]",
            "text/plain": [
              "<Figure size 1000x500 with 1 Axes>"
            ]
          },
          "metadata": {
            "tags": [],
            "needs_background": "light"
          }
        },
        {
          "output_type": "display_data",
          "data": {
            "image/png": "[encoded data removed]",
            "text/plain": [
              "<Figure size 1000x500 with 1 Axes>"
            ]
          },
          "metadata": {
            "tags": [],
            "needs_background": "light"
          }
        }
      ]
    },
    {
      "cell_type": "markdown",
      "metadata": {
        "id": "gN6cighYm1nG"
      },
      "source": [
        "#### Confusion Matrix"
      ]
    },
    {
      "cell_type": "code",
      "metadata": {
        "id": "LPG6aNRjm5Se",
        "colab": {
          "base_uri": "https://localhost:8080/",
          "height": 1000
        },
        "outputId": "a2ef47ad-ffc6-425f-879b-e083e547ffe7"
      },
      "source": [
        "for i in range(len(REJECTION_THRESHOLD)):\n",
        "  targets = np.array(true_labels[0])\n",
        "  preds = np.array(predictions[0][i])\n",
        "  title = f\"Confusion matrix - Threshold: {REJECTION_THRESHOLD[i]}\"\n",
        "  plot_confusion_matrix(targets, preds, RANDOM_SEED[run], title)"
      ],
      "execution_count": 43,
      "outputs": [
        {
          "output_type": "display_data",
          "data": {
            "image/png": "[encoded data removed]",
            "text/plain": [
              "<Figure size 500x500 with 2 Axes>"
            ]
          },
          "metadata": {
            "tags": [],
            "needs_background": "light"
          }
        },
        {
          "output_type": "display_data",
          "data": {
            "image/png": "[encoded data removed]",
            "text/plain": [
              "<Figure size 500x500 with 2 Axes>"
            ]
          },
          "metadata": {
            "tags": [],
            "needs_background": "light"
          }
        },
        {
          "output_type": "display_data",
          "data": {
            "image/png": "[encoded data removed]",
            "text/plain": [
              "<Figure size 500x500 with 2 Axes>"
            ]
          },
          "metadata": {
            "tags": [],
            "needs_background": "light"
          }
        },
        {
          "output_type": "display_data",
          "data": {
            "image/png": "[encoded data removed]",
            "text/plain": [
              "<Figure size 500x500 with 2 Axes>"
            ]
          },
          "metadata": {
            "tags": [],
            "needs_background": "light"
          }
        },
        {
          "output_type": "display_data",
          "data": {
            "image/png": "[encoded data removed]",
            "text/plain": [
              "<Figure size 500x500 with 2 Axes>"
            ]
          },
          "metadata": {
            "tags": [],
            "needs_background": "light"
          }
        },
        {
          "output_type": "display_data",
          "data": {
            "image/png": "[encoded data removed]",
            "text/plain": [
              "<Figure size 500x500 with 2 Axes>"
            ]
          },
          "metadata": {
            "tags": [],
            "needs_background": "light"
          }
        },
        {
          "output_type": "display_data",
          "data": {
            "image/png": "[encoded data removed]",
            "text/plain": [
              "<Figure size 500x500 with 2 Axes>"
            ]
          },
          "metadata": {
            "tags": [],
            "needs_background": "light"
          }
        }
      ]
    }
  ]
}